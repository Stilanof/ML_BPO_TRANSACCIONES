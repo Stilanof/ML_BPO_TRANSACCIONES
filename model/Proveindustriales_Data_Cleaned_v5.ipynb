{
 "cells": [
  {
   "cell_type": "code",
   "execution_count": 0,
   "metadata": {
    "application/vnd.databricks.v1+cell": {
     "inputWidgets": {},
     "nuid": "1b988fc1-002f-4e03-b579-4096bf7f2f96",
     "showTitle": false,
     "title": ""
    }
   },
   "outputs": [
    {
     "data": {
      "text/html": [
       "<style scoped>\n",
       "  .ansiout {\n",
       "    display: block;\n",
       "    unicode-bidi: embed;\n",
       "    white-space: pre-wrap;\n",
       "    word-wrap: break-word;\n",
       "    word-break: break-all;\n",
       "    font-family: \"Source Code Pro\", \"Menlo\", monospace;;\n",
       "    font-size: 13px;\n",
       "    color: #555;\n",
       "    margin-left: 4px;\n",
       "    line-height: 19px;\n",
       "  }\n",
       "</style>\n",
       "<div class=\"ansiout\"></div>"
      ]
     },
     "metadata": {
      "application/vnd.databricks.v1+output": {
       "addedWidgets": {},
       "arguments": {},
       "data": "<div class=\"ansiout\"></div>",
       "datasetInfos": [],
       "metadata": {},
       "removedWidgets": [],
       "type": "html"
      }
     },
     "output_type": "display_data"
    }
   ],
   "source": [
    "import pandas as pd\n",
    "import matplotlib as plt\n",
    "import seaborn as sns\n",
    "import plotly.express as px\n",
    "import numpy as np"
   ]
  },
  {
   "cell_type": "markdown",
   "metadata": {
    "application/vnd.databricks.v1+cell": {
     "inputWidgets": {},
     "nuid": "d68d7eda-a9f5-4741-bb3b-a436b67a673e",
     "showTitle": false,
     "title": ""
    }
   },
   "source": [
    "## FILTER BY FECHA_INI AND FECHA_FIN"
   ]
  },
  {
   "cell_type": "code",
   "execution_count": 0,
   "metadata": {
    "application/vnd.databricks.v1+cell": {
     "inputWidgets": {},
     "nuid": "44fc32be-a8ff-4b01-8130-56968922b5c0",
     "showTitle": false,
     "title": ""
    }
   },
   "outputs": [
    {
     "data": {
      "text/html": [
       "<style scoped>\n",
       "  .ansiout {\n",
       "    display: block;\n",
       "    unicode-bidi: embed;\n",
       "    white-space: pre-wrap;\n",
       "    word-wrap: break-word;\n",
       "    word-break: break-all;\n",
       "    font-family: \"Source Code Pro\", \"Menlo\", monospace;;\n",
       "    font-size: 13px;\n",
       "    color: #555;\n",
       "    margin-left: 4px;\n",
       "    line-height: 19px;\n",
       "  }\n",
       "</style>\n",
       "<div class=\"ansiout\"></div>"
      ]
     },
     "metadata": {
      "application/vnd.databricks.v1+output": {
       "addedWidgets": {},
       "arguments": {},
       "data": "<div class=\"ansiout\"></div>",
       "datasetInfos": [],
       "metadata": {},
       "removedWidgets": [],
       "type": "html"
      }
     },
     "output_type": "display_data"
    }
   ],
   "source": [
    "dbutils.widgets.text(\"Fecha de inicio (YYYY-MM-DD)\", \"\")"
   ]
  },
  {
   "cell_type": "code",
   "execution_count": 0,
   "metadata": {
    "application/vnd.databricks.v1+cell": {
     "inputWidgets": {},
     "nuid": "af493d75-8235-4619-bf66-41990252031c",
     "showTitle": false,
     "title": ""
    }
   },
   "outputs": [
    {
     "data": {
      "text/html": [
       "<style scoped>\n",
       "  .ansiout {\n",
       "    display: block;\n",
       "    unicode-bidi: embed;\n",
       "    white-space: pre-wrap;\n",
       "    word-wrap: break-word;\n",
       "    word-break: break-all;\n",
       "    font-family: \"Source Code Pro\", \"Menlo\", monospace;;\n",
       "    font-size: 13px;\n",
       "    color: #555;\n",
       "    margin-left: 4px;\n",
       "    line-height: 19px;\n",
       "  }\n",
       "</style>\n",
       "<div class=\"ansiout\"></div>"
      ]
     },
     "metadata": {
      "application/vnd.databricks.v1+output": {
       "addedWidgets": {},
       "arguments": {},
       "data": "<div class=\"ansiout\"></div>",
       "datasetInfos": [],
       "metadata": {},
       "removedWidgets": [],
       "type": "html"
      }
     },
     "output_type": "display_data"
    }
   ],
   "source": [
    "dbutils.widgets.text(\"Fecha final (YYYY-MM-DD)\", \"\")"
   ]
  },
  {
   "cell_type": "code",
   "execution_count": 0,
   "metadata": {
    "application/vnd.databricks.v1+cell": {
     "inputWidgets": {},
     "nuid": "f803dbf7-031f-4283-b1e0-20a03c0d101f",
     "showTitle": false,
     "title": ""
    }
   },
   "outputs": [
    {
     "data": {
      "text/html": [
       "<style scoped>\n",
       "  .ansiout {\n",
       "    display: block;\n",
       "    unicode-bidi: embed;\n",
       "    white-space: pre-wrap;\n",
       "    word-wrap: break-word;\n",
       "    word-break: break-all;\n",
       "    font-family: \"Source Code Pro\", \"Menlo\", monospace;;\n",
       "    font-size: 13px;\n",
       "    color: #555;\n",
       "    margin-left: 4px;\n",
       "    line-height: 19px;\n",
       "  }\n",
       "</style>\n",
       "<div class=\"ansiout\">2021-03-15\n",
       "</div>"
      ]
     },
     "metadata": {
      "application/vnd.databricks.v1+output": {
       "addedWidgets": {},
       "arguments": {},
       "data": "<div class=\"ansiout\">2021-03-15\n</div>",
       "datasetInfos": [],
       "metadata": {},
       "removedWidgets": [],
       "type": "html"
      }
     },
     "output_type": "display_data"
    }
   ],
   "source": [
    "Fecha_ini = dbutils.widgets.get(\"Fecha de inicio (YYYY-MM-DD)\")\n",
    "print(Fecha_ini)"
   ]
  },
  {
   "cell_type": "code",
   "execution_count": 0,
   "metadata": {
    "application/vnd.databricks.v1+cell": {
     "inputWidgets": {},
     "nuid": "8dca5567-051d-44d4-b029-1b40a1041484",
     "showTitle": false,
     "title": ""
    }
   },
   "outputs": [
    {
     "data": {
      "text/html": [
       "<style scoped>\n",
       "  .ansiout {\n",
       "    display: block;\n",
       "    unicode-bidi: embed;\n",
       "    white-space: pre-wrap;\n",
       "    word-wrap: break-word;\n",
       "    word-break: break-all;\n",
       "    font-family: \"Source Code Pro\", \"Menlo\", monospace;;\n",
       "    font-size: 13px;\n",
       "    color: #555;\n",
       "    margin-left: 4px;\n",
       "    line-height: 19px;\n",
       "  }\n",
       "</style>\n",
       "<div class=\"ansiout\">2021-03-21\n",
       "</div>"
      ]
     },
     "metadata": {
      "application/vnd.databricks.v1+output": {
       "addedWidgets": {},
       "arguments": {},
       "data": "<div class=\"ansiout\">2021-03-21\n</div>",
       "datasetInfos": [],
       "metadata": {},
       "removedWidgets": [],
       "type": "html"
      }
     },
     "output_type": "display_data"
    }
   ],
   "source": [
    "Fecha_fin = dbutils.widgets.get(\"Fecha final (YYYY-MM-DD)\")\n",
    "print(Fecha_fin)"
   ]
  },
  {
   "cell_type": "markdown",
   "metadata": {
    "application/vnd.databricks.v1+cell": {
     "inputWidgets": {},
     "nuid": "0c5dc4b7-6c0c-40e9-89b0-e711b0e3d063",
     "showTitle": false,
     "title": ""
    }
   },
   "source": [
    "#Connection to Blob Storage"
   ]
  },
  {
   "cell_type": "code",
   "execution_count": 0,
   "metadata": {
    "application/vnd.databricks.v1+cell": {
     "inputWidgets": {},
     "nuid": "69420abb-2054-4659-9e21-12536b895941",
     "showTitle": false,
     "title": ""
    }
   },
   "outputs": [
    {
     "data": {
      "text/html": [
       "<style scoped>\n",
       "  .ansiout {\n",
       "    display: block;\n",
       "    unicode-bidi: embed;\n",
       "    white-space: pre-wrap;\n",
       "    word-wrap: break-word;\n",
       "    word-break: break-all;\n",
       "    font-family: \"Source Code Pro\", \"Menlo\", monospace;;\n",
       "    font-size: 13px;\n",
       "    color: #555;\n",
       "    margin-left: 4px;\n",
       "    line-height: 19px;\n",
       "  }\n",
       "</style>\n",
       "<div class=\"ansiout\"></div>"
      ]
     },
     "metadata": {
      "application/vnd.databricks.v1+output": {
       "addedWidgets": {},
       "arguments": {},
       "data": "<div class=\"ansiout\"></div>",
       "datasetInfos": [],
       "metadata": {},
       "removedWidgets": [],
       "type": "html"
      }
     },
     "output_type": "display_data"
    }
   ],
   "source": [
    "## access to blob storage with key\n",
    "\n",
    "storage_account_name = \"XXX\"\n",
    "storage_account_access_key = \"XXX\"\n",
    "\n",
    "spark.conf.set(\"fs.azure.account.key.\" + storage_account_name + \".blob.core.windows.net\", storage_account_access_key)"
   ]
  },
  {
   "cell_type": "markdown",
   "metadata": {
    "application/vnd.databricks.v1+cell": {
     "inputWidgets": {},
     "nuid": "a4db7e20-9c2c-40ee-99c4-cdd6ab447d56",
     "showTitle": false,
     "title": ""
    }
   },
   "source": [
    "CONFIRM ACCESS TO DATA"
   ]
  },
  {
   "cell_type": "code",
   "execution_count": 0,
   "metadata": {
    "application/vnd.databricks.v1+cell": {
     "inputWidgets": {},
     "nuid": "db226bc8-939d-49dd-8a6f-40556179e819",
     "showTitle": false,
     "title": ""
    }
   },
   "outputs": [
    {
     "data": {
      "text/html": [
       "<style scoped>\n",
       "  .table-result-container {\n",
       "    max-height: 300px;\n",
       "    overflow: auto;\n",
       "  }\n",
       "  table, th, td {\n",
       "    border: 1px solid black;\n",
       "    border-collapse: collapse;\n",
       "  }\n",
       "  th, td {\n",
       "    padding: 5px;\n",
       "  }\n",
       "  th {\n",
       "    text-align: left;\n",
       "  }\n",
       "</style><div class='table-result-container'><table class='table-result'><thead style='background-color: white'><tr><th>path</th><th>name</th><th>size</th></tr></thead><tbody><tr><td>wasbs://blobkompras@bsintermedio1.blob.core.windows.net/OrdenesdecompraPORTAL1K.xlsx</td><td>OrdenesdecompraPORTAL1K.xlsx</td><td>7927129</td></tr><tr><td>wasbs://blobkompras@bsintermedio1.blob.core.windows.net/Proveindustriales_Data_Cleaned.ipynb</td><td>Proveindustriales_Data_Cleaned.ipynb</td><td>871958</td></tr><tr><td>wasbs://blobkompras@bsintermedio1.blob.core.windows.net/Proveindustriales_Data_Cleaned_numeric_onehot_csv.csv</td><td>Proveindustriales_Data_Cleaned_numeric_onehot_csv.csv</td><td>7122583</td></tr><tr><td>wasbs://blobkompras@bsintermedio1.blob.core.windows.net/Proveindustriales_Dic_2/</td><td>Proveindustriales_Dic_2/</td><td>0</td></tr><tr><td>wasbs://blobkompras@bsintermedio1.blob.core.windows.net/Proveindustriales_Model_3_Cluster_Selected.ipynb</td><td>Proveindustriales_Model_3_Cluster_Selected.ipynb</td><td>7200059</td></tr><tr><td>wasbs://blobkompras@bsintermedio1.blob.core.windows.net/Proveindustriales_completo.xls</td><td>Proveindustriales_completo.xls</td><td>4473344</td></tr><tr><td>wasbs://blobkompras@bsintermedio1.blob.core.windows.net/Proveindustriales_completo.xlsx</td><td>Proveindustriales_completo.xlsx</td><td>1448157</td></tr><tr><td>wasbs://blobkompras@bsintermedio1.blob.core.windows.net/Proveindustriales_completo_y_clusters.xlsx</td><td>Proveindustriales_completo_y_clusters.xlsx</td><td>1580893</td></tr><tr><td>wasbs://blobkompras@bsintermedio1.blob.core.windows.net/Proveindustriales_completo_y_clusters1.xls</td><td>Proveindustriales_completo_y_clusters1.xls</td><td>4711424</td></tr></tbody></table></div>"
      ]
     },
     "metadata": {
      "application/vnd.databricks.v1+output": {
       "addedWidgets": {},
       "aggData": [],
       "aggError": "",
       "aggOverflow": false,
       "aggSchema": [],
       "aggSeriesLimitReached": false,
       "aggType": "",
       "arguments": {},
       "columnCustomDisplayInfos": {},
       "data": [
        [
         "wasbs://blobkompras@bsintermedio1.blob.core.windows.net/OrdenesdecompraPORTAL1K.xlsx",
         "OrdenesdecompraPORTAL1K.xlsx",
         7927129
        ],
        [
         "wasbs://blobkompras@bsintermedio1.blob.core.windows.net/Proveindustriales_Data_Cleaned.ipynb",
         "Proveindustriales_Data_Cleaned.ipynb",
         871958
        ],
        [
         "wasbs://blobkompras@bsintermedio1.blob.core.windows.net/Proveindustriales_Data_Cleaned_numeric_onehot_csv.csv",
         "Proveindustriales_Data_Cleaned_numeric_onehot_csv.csv",
         7122583
        ],
        [
         "wasbs://blobkompras@bsintermedio1.blob.core.windows.net/Proveindustriales_Dic_2/",
         "Proveindustriales_Dic_2/",
         0
        ],
        [
         "wasbs://blobkompras@bsintermedio1.blob.core.windows.net/Proveindustriales_Model_3_Cluster_Selected.ipynb",
         "Proveindustriales_Model_3_Cluster_Selected.ipynb",
         7200059
        ],
        [
         "wasbs://blobkompras@bsintermedio1.blob.core.windows.net/Proveindustriales_completo.xls",
         "Proveindustriales_completo.xls",
         4473344
        ],
        [
         "wasbs://blobkompras@bsintermedio1.blob.core.windows.net/Proveindustriales_completo.xlsx",
         "Proveindustriales_completo.xlsx",
         1448157
        ],
        [
         "wasbs://blobkompras@bsintermedio1.blob.core.windows.net/Proveindustriales_completo_y_clusters.xlsx",
         "Proveindustriales_completo_y_clusters.xlsx",
         1580893
        ],
        [
         "wasbs://blobkompras@bsintermedio1.blob.core.windows.net/Proveindustriales_completo_y_clusters1.xls",
         "Proveindustriales_completo_y_clusters1.xls",
         4711424
        ]
       ],
       "datasetInfos": [],
       "dbfsResultPath": null,
       "isJsonSchema": true,
       "metadata": {},
       "overflow": false,
       "plotOptions": {
        "customPlotOptions": {},
        "displayType": "table",
        "pivotAggregation": null,
        "pivotColumns": null,
        "xColumns": null,
        "yColumns": null
       },
       "removedWidgets": [],
       "schema": [
        {
         "metadata": "{}",
         "name": "path",
         "type": "\"string\""
        },
        {
         "metadata": "{}",
         "name": "name",
         "type": "\"string\""
        },
        {
         "metadata": "{}",
         "name": "size",
         "type": "\"long\""
        }
       ],
       "type": "table"
      }
     },
     "output_type": "display_data"
    }
   ],
   "source": [
    "%fs\n",
    "ls  \"wasbs://blobkompras@bsintermedio1.blob.core.windows.net/\""
   ]
  },
  {
   "cell_type": "markdown",
   "metadata": {
    "application/vnd.databricks.v1+cell": {
     "inputWidgets": {},
     "nuid": "bd998ec9-d164-419a-8df0-1158625c2626",
     "showTitle": false,
     "title": ""
    }
   },
   "source": [
    "MOUNT UNIT DATABRICKS BLOB STORAGE"
   ]
  },
  {
   "cell_type": "code",
   "execution_count": 0,
   "metadata": {
    "application/vnd.databricks.v1+cell": {
     "inputWidgets": {},
     "nuid": "dec165c5-d226-49de-8f2d-f01b94d46792",
     "showTitle": false,
     "title": ""
    }
   },
   "outputs": [
    {
     "data": {
      "text/html": [
       "<style scoped>\n",
       "  .table-result-container {\n",
       "    max-height: 300px;\n",
       "    overflow: auto;\n",
       "  }\n",
       "  table, th, td {\n",
       "    border: 1px solid black;\n",
       "    border-collapse: collapse;\n",
       "  }\n",
       "  th, td {\n",
       "    padding: 5px;\n",
       "  }\n",
       "  th {\n",
       "    text-align: left;\n",
       "  }\n",
       "</style><div class='table-result-container'><table class='table-result'><thead style='background-color: white'><tr><th>path</th><th>name</th><th>size</th></tr></thead><tbody><tr><td>dbfs:/mnt/data/OrdenesdecompraPORTAL1K.xlsx</td><td>OrdenesdecompraPORTAL1K.xlsx</td><td>7927129</td></tr><tr><td>dbfs:/mnt/data/Proveindustriales_Data_Cleaned.ipynb</td><td>Proveindustriales_Data_Cleaned.ipynb</td><td>871958</td></tr><tr><td>dbfs:/mnt/data/Proveindustriales_Data_Cleaned_numeric_onehot_csv.csv</td><td>Proveindustriales_Data_Cleaned_numeric_onehot_csv.csv</td><td>7122583</td></tr><tr><td>dbfs:/mnt/data/Proveindustriales_Dic_2/</td><td>Proveindustriales_Dic_2/</td><td>0</td></tr><tr><td>dbfs:/mnt/data/Proveindustriales_Model_3_Cluster_Selected.ipynb</td><td>Proveindustriales_Model_3_Cluster_Selected.ipynb</td><td>7200059</td></tr><tr><td>dbfs:/mnt/data/Proveindustriales_completo.xls</td><td>Proveindustriales_completo.xls</td><td>4473344</td></tr><tr><td>dbfs:/mnt/data/Proveindustriales_completo.xlsx</td><td>Proveindustriales_completo.xlsx</td><td>1448157</td></tr><tr><td>dbfs:/mnt/data/Proveindustriales_completo_y_clusters.xlsx</td><td>Proveindustriales_completo_y_clusters.xlsx</td><td>1580893</td></tr><tr><td>dbfs:/mnt/data/Proveindustriales_completo_y_clusters1.xls</td><td>Proveindustriales_completo_y_clusters1.xls</td><td>4711424</td></tr></tbody></table></div>"
      ]
     },
     "metadata": {
      "application/vnd.databricks.v1+output": {
       "addedWidgets": {},
       "aggData": [],
       "aggError": "",
       "aggOverflow": false,
       "aggSchema": [],
       "aggSeriesLimitReached": false,
       "aggType": "",
       "arguments": {},
       "columnCustomDisplayInfos": {},
       "data": [
        [
         "dbfs:/mnt/data/OrdenesdecompraPORTAL1K.xlsx",
         "OrdenesdecompraPORTAL1K.xlsx",
         7927129
        ],
        [
         "dbfs:/mnt/data/Proveindustriales_Data_Cleaned.ipynb",
         "Proveindustriales_Data_Cleaned.ipynb",
         871958
        ],
        [
         "dbfs:/mnt/data/Proveindustriales_Data_Cleaned_numeric_onehot_csv.csv",
         "Proveindustriales_Data_Cleaned_numeric_onehot_csv.csv",
         7122583
        ],
        [
         "dbfs:/mnt/data/Proveindustriales_Dic_2/",
         "Proveindustriales_Dic_2/",
         0
        ],
        [
         "dbfs:/mnt/data/Proveindustriales_Model_3_Cluster_Selected.ipynb",
         "Proveindustriales_Model_3_Cluster_Selected.ipynb",
         7200059
        ],
        [
         "dbfs:/mnt/data/Proveindustriales_completo.xls",
         "Proveindustriales_completo.xls",
         4473344
        ],
        [
         "dbfs:/mnt/data/Proveindustriales_completo.xlsx",
         "Proveindustriales_completo.xlsx",
         1448157
        ],
        [
         "dbfs:/mnt/data/Proveindustriales_completo_y_clusters.xlsx",
         "Proveindustriales_completo_y_clusters.xlsx",
         1580893
        ],
        [
         "dbfs:/mnt/data/Proveindustriales_completo_y_clusters1.xls",
         "Proveindustriales_completo_y_clusters1.xls",
         4711424
        ]
       ],
       "datasetInfos": [],
       "dbfsResultPath": null,
       "isJsonSchema": true,
       "metadata": {},
       "overflow": false,
       "plotOptions": {
        "customPlotOptions": {},
        "displayType": "table",
        "pivotAggregation": null,
        "pivotColumns": null,
        "xColumns": null,
        "yColumns": null
       },
       "removedWidgets": [],
       "schema": [
        {
         "metadata": "{}",
         "name": "path",
         "type": "\"string\""
        },
        {
         "metadata": "{}",
         "name": "name",
         "type": "\"string\""
        },
        {
         "metadata": "{}",
         "name": "size",
         "type": "\"long\""
        }
       ],
       "type": "table"
      }
     },
     "output_type": "display_data"
    }
   ],
   "source": [
    "%fs\n",
    "ls /mnt/data/"
   ]
  },
  {
   "cell_type": "code",
   "execution_count": 0,
   "metadata": {
    "application/vnd.databricks.v1+cell": {
     "inputWidgets": {},
     "nuid": "e7b78ded-0ae4-48b3-a693-d78332dda303",
     "showTitle": false,
     "title": ""
    }
   },
   "outputs": [
    {
     "data": {
      "text/html": [
       "<style scoped>\n",
       "  .ansiout {\n",
       "    display: block;\n",
       "    unicode-bidi: embed;\n",
       "    white-space: pre-wrap;\n",
       "    word-wrap: break-word;\n",
       "    word-break: break-all;\n",
       "    font-family: \"Source Code Pro\", \"Menlo\", monospace;;\n",
       "    font-size: 13px;\n",
       "    color: #555;\n",
       "    margin-left: 4px;\n",
       "    line-height: 19px;\n",
       "  }\n",
       "</style>\n",
       "<div class=\"ansiout\"></div>"
      ]
     },
     "metadata": {
      "application/vnd.databricks.v1+output": {
       "addedWidgets": {},
       "arguments": {},
       "data": "<div class=\"ansiout\"></div>",
       "datasetInfos": [],
       "metadata": {},
       "removedWidgets": [],
       "type": "html"
      }
     },
     "output_type": "display_data"
    }
   ],
   "source": [
    "## access to the container\n",
    "\n",
    "blob_container = 'blobkompras'\n",
    "filePath = \"wasbs://\" + blob_container + \"@\" + storage_account_name + \".blob.core.windows.net/mnt/data/Proveindustriales_Data_Cleaned_numeric_onehot_csv.csv\"\n",
    "##df = spark.read.format(\"csv\").load(filePath), inferSchema = True, header = True)\n",
    "\n",
    "## read the raw data\n",
    "#df = pd.read_csv(\"/dbfs/mnt/data/Proveindustriales_Data_Cleaned_numeric_onehot_csv.csv\",sep =\",\")"
   ]
  },
  {
   "cell_type": "markdown",
   "metadata": {
    "application/vnd.databricks.v1+cell": {
     "inputWidgets": {},
     "nuid": "3bcfd141-6f29-4e56-b339-1afc5dc19020",
     "showTitle": false,
     "title": ""
    }
   },
   "source": [
    "# 1 DATA ACQUISITION"
   ]
  },
  {
   "cell_type": "code",
   "execution_count": 0,
   "metadata": {
    "application/vnd.databricks.v1+cell": {
     "inputWidgets": {},
     "nuid": "c60621da-f27d-4926-859c-49d4eff4a3ef",
     "showTitle": false,
     "title": ""
    }
   },
   "outputs": [
    {
     "data": {
      "text/html": [
       "<style scoped>\n",
       "  .ansiout {\n",
       "    display: block;\n",
       "    unicode-bidi: embed;\n",
       "    white-space: pre-wrap;\n",
       "    word-wrap: break-word;\n",
       "    word-break: break-all;\n",
       "    font-family: \"Source Code Pro\", \"Menlo\", monospace;;\n",
       "    font-size: 13px;\n",
       "    color: #555;\n",
       "    margin-left: 4px;\n",
       "    line-height: 19px;\n",
       "  }\n",
       "</style>\n",
       "<div class=\"ansiout\"></div>"
      ]
     },
     "metadata": {
      "application/vnd.databricks.v1+output": {
       "addedWidgets": {},
       "arguments": {},
       "data": "<div class=\"ansiout\"></div>",
       "datasetInfos": [],
       "metadata": {},
       "removedWidgets": [],
       "type": "html"
      }
     },
     "output_type": "display_data"
    }
   ],
   "source": [
    "df = pd.read_excel('/dbfs/mnt/data/Proveindustriales_Dic_2/OrdenesdecompraPORTAL1K.xls', thousands='.')"
   ]
  },
  {
   "cell_type": "code",
   "execution_count": 0,
   "metadata": {
    "application/vnd.databricks.v1+cell": {
     "inputWidgets": {},
     "nuid": "ab95380b-f34c-447c-a760-7c6c523be16c",
     "showTitle": false,
     "title": ""
    }
   },
   "outputs": [
    {
     "data": {
      "text/html": [
       "<style scoped>\n",
       "  .ansiout {\n",
       "    display: block;\n",
       "    unicode-bidi: embed;\n",
       "    white-space: pre-wrap;\n",
       "    word-wrap: break-word;\n",
       "    word-break: break-all;\n",
       "    font-family: \"Source Code Pro\", \"Menlo\", monospace;;\n",
       "    font-size: 13px;\n",
       "    color: #555;\n",
       "    margin-left: 4px;\n",
       "    line-height: 19px;\n",
       "  }\n",
       "</style>\n",
       "<div class=\"ansiout\"></div>"
      ]
     },
     "metadata": {
      "application/vnd.databricks.v1+output": {
       "addedWidgets": {},
       "arguments": {},
       "data": "<div class=\"ansiout\"></div>",
       "datasetInfos": [],
       "metadata": {},
       "removedWidgets": [],
       "type": "html"
      }
     },
     "output_type": "display_data"
    }
   ],
   "source": [
    "pd.options.display.max_columns = None\n",
    "pd.options.display.float_format = '{:20,.2f}'.format"
   ]
  },
  {
   "cell_type": "code",
   "execution_count": 0,
   "metadata": {
    "application/vnd.databricks.v1+cell": {
     "inputWidgets": {},
     "nuid": "b95eeff4-299e-46c7-83c7-c742e9d40202",
     "showTitle": false,
     "title": ""
    }
   },
   "outputs": [
    {
     "data": {
      "text/html": [
       "<style scoped>\n",
       "  .ansiout {\n",
       "    display: block;\n",
       "    unicode-bidi: embed;\n",
       "    white-space: pre-wrap;\n",
       "    word-wrap: break-word;\n",
       "    word-break: break-all;\n",
       "    font-family: \"Source Code Pro\", \"Menlo\", monospace;;\n",
       "    font-size: 13px;\n",
       "    color: #555;\n",
       "    margin-left: 4px;\n",
       "    line-height: 19px;\n",
       "  }\n",
       "</style>\n",
       "<div class=\"ansiout\">Out[1057]: [&#39;NÚMERO PEDIDO&#39;,\n",
       " &#39;ORDEN NÚMERO&#39;,\n",
       " &#39;FECHA ORDEN&#39;,\n",
       " &#39;FECHA ENTREGA&#39;,\n",
       " &#39;FECHA APROBACION&#39;,\n",
       " &#39;CATEGORÍA&#39;,\n",
       " &#39;SUBCATEGORIA&#39;,\n",
       " &#39;PROVEEDOR&#39;,\n",
       " &#39;USUARIO&#39;,\n",
       " &#39;USUARIO APROBADOR&#39;,\n",
       " &#39;DIRECCION PEDIDO&#39;,\n",
       " &#39;DIRECCION FACTURACION&#39;,\n",
       " &#39;CENTRO DE COSTOS&#39;,\n",
       " &#39;PRESUPUESTO&#39;,\n",
       " &#39;PORTAL&#39;,\n",
       " &#39;ESTADO&#39;,\n",
       " &#39;PRODUCTO O SERVICIO&#39;,\n",
       " &#39;CODIGO PORTAL&#39;,\n",
       " &#39;CANTIDAD PEDIDA&#39;,\n",
       " &#39;CANTIDAD RECIBIDA&#39;,\n",
       " &#39;PRECIO UNITARIO&#39;,\n",
       " &#39;PRECIO UNITARIO + IVA&#39;,\n",
       " &#39;IVA&#39;,\n",
       " &#39;TOTAL SIN IVA&#39;,\n",
       " &#39;TOTAL + IVA&#39;,\n",
       " &#39;FECHA ULTIMO MOVIMIENTO&#39;,\n",
       " &#39;Unnamed: 26&#39;,\n",
       " &#39;Unnamed: 27&#39;,\n",
       " &#39;Unnamed: 28&#39;]</div>"
      ]
     },
     "metadata": {
      "application/vnd.databricks.v1+output": {
       "addedWidgets": {},
       "arguments": {},
       "data": "<div class=\"ansiout\">Out[1057]: [&#39;NÚMERO PEDIDO&#39;,\n &#39;ORDEN NÚMERO&#39;,\n &#39;FECHA ORDEN&#39;,\n &#39;FECHA ENTREGA&#39;,\n &#39;FECHA APROBACION&#39;,\n &#39;CATEGORÍA&#39;,\n &#39;SUBCATEGORIA&#39;,\n &#39;PROVEEDOR&#39;,\n &#39;USUARIO&#39;,\n &#39;USUARIO APROBADOR&#39;,\n &#39;DIRECCION PEDIDO&#39;,\n &#39;DIRECCION FACTURACION&#39;,\n &#39;CENTRO DE COSTOS&#39;,\n &#39;PRESUPUESTO&#39;,\n &#39;PORTAL&#39;,\n &#39;ESTADO&#39;,\n &#39;PRODUCTO O SERVICIO&#39;,\n &#39;CODIGO PORTAL&#39;,\n &#39;CANTIDAD PEDIDA&#39;,\n &#39;CANTIDAD RECIBIDA&#39;,\n &#39;PRECIO UNITARIO&#39;,\n &#39;PRECIO UNITARIO + IVA&#39;,\n &#39;IVA&#39;,\n &#39;TOTAL SIN IVA&#39;,\n &#39;TOTAL + IVA&#39;,\n &#39;FECHA ULTIMO MOVIMIENTO&#39;,\n &#39;Unnamed: 26&#39;,\n &#39;Unnamed: 27&#39;,\n &#39;Unnamed: 28&#39;]</div>",
       "datasetInfos": [],
       "metadata": {},
       "removedWidgets": [],
       "type": "html"
      }
     },
     "output_type": "display_data"
    }
   ],
   "source": [
    "df.columns.tolist()"
   ]
  },
  {
   "cell_type": "code",
   "execution_count": 0,
   "metadata": {
    "application/vnd.databricks.v1+cell": {
     "inputWidgets": {},
     "nuid": "65841c3b-9dc7-4676-b491-b36cbe57aaac",
     "showTitle": false,
     "title": ""
    }
   },
   "outputs": [
    {
     "data": {
      "text/html": [
       "<style scoped>\n",
       "  .ansiout {\n",
       "    display: block;\n",
       "    unicode-bidi: embed;\n",
       "    white-space: pre-wrap;\n",
       "    word-wrap: break-word;\n",
       "    word-break: break-all;\n",
       "    font-family: \"Source Code Pro\", \"Menlo\", monospace;;\n",
       "    font-size: 13px;\n",
       "    color: #555;\n",
       "    margin-left: 4px;\n",
       "    line-height: 19px;\n",
       "  }\n",
       "</style>\n",
       "<div class=\"ansiout\"></div>"
      ]
     },
     "metadata": {
      "application/vnd.databricks.v1+output": {
       "addedWidgets": {},
       "arguments": {},
       "data": "<div class=\"ansiout\"></div>",
       "datasetInfos": [],
       "metadata": {},
       "removedWidgets": [],
       "type": "html"
      }
     },
     "output_type": "display_data"
    }
   ],
   "source": [
    "df = df[['NÚMERO PEDIDO', 'ORDEN NÚMERO', 'FECHA ORDEN', 'FECHA ENTREGA',\n",
    "       'FECHA APROBACION', 'CATEGORÍA', 'SUBCATEGORIA', 'PROVEEDOR', 'USUARIO',\n",
    "       'USUARIO APROBADOR', 'DIRECCION PEDIDO', 'DIRECCION FACTURACION',\n",
    "       'CENTRO DE COSTOS', 'PRESUPUESTO', 'PORTAL', 'ESTADO',\n",
    "       'PRODUCTO O SERVICIO', 'CODIGO PORTAL', 'CANTIDAD PEDIDA',\n",
    "       'CANTIDAD RECIBIDA', 'PRECIO UNITARIO', 'PRECIO UNITARIO + IVA', 'IVA',\n",
    "       'TOTAL SIN IVA', 'TOTAL + IVA', 'FECHA ULTIMO MOVIMIENTO']]"
   ]
  },
  {
   "cell_type": "markdown",
   "metadata": {
    "application/vnd.databricks.v1+cell": {
     "inputWidgets": {},
     "nuid": "debd5724-fb28-457f-83b9-28d48680e7d8",
     "showTitle": false,
     "title": ""
    }
   },
   "source": [
    "Describe and info of the df"
   ]
  },
  {
   "cell_type": "code",
   "execution_count": 0,
   "metadata": {
    "application/vnd.databricks.v1+cell": {
     "inputWidgets": {},
     "nuid": "48209841-6f64-4da3-b52c-ab5808faed1e",
     "showTitle": false,
     "title": ""
    }
   },
   "outputs": [
    {
     "data": {
      "text/html": [
       "<style scoped>\n",
       "  .ansiout {\n",
       "    display: block;\n",
       "    unicode-bidi: embed;\n",
       "    white-space: pre-wrap;\n",
       "    word-wrap: break-word;\n",
       "    word-break: break-all;\n",
       "    font-family: \"Source Code Pro\", \"Menlo\", monospace;;\n",
       "    font-size: 13px;\n",
       "    color: #555;\n",
       "    margin-left: 4px;\n",
       "    line-height: 19px;\n",
       "  }\n",
       "</style>\n",
       "<div class=\"ansiout\">&lt;class &#39;pandas.core.frame.DataFrame&#39;&gt;\n",
       "RangeIndex: 23083 entries, 0 to 23082\n",
       "Data columns (total 26 columns):\n",
       " #   Column                   Non-Null Count  Dtype  \n",
       "---  ------                   --------------  -----  \n",
       " 0   NÚMERO PEDIDO            23083 non-null  object \n",
       " 1   ORDEN NÚMERO             23083 non-null  object \n",
       " 2   FECHA ORDEN              23083 non-null  object \n",
       " 3   FECHA ENTREGA            18770 non-null  object \n",
       " 4   FECHA APROBACION         21950 non-null  object \n",
       " 5   CATEGORÍA                23083 non-null  object \n",
       " 6   SUBCATEGORIA             23083 non-null  object \n",
       " 7   PROVEEDOR                23083 non-null  object \n",
       " 8   USUARIO                  23083 non-null  object \n",
       " 9   USUARIO APROBADOR        21950 non-null  object \n",
       " 10  DIRECCION PEDIDO         23083 non-null  object \n",
       " 11  DIRECCION FACTURACION    10828 non-null  object \n",
       " 12  CENTRO DE COSTOS         16672 non-null  object \n",
       " 13  PRESUPUESTO              18581 non-null  object \n",
       " 14  PORTAL                   23083 non-null  object \n",
       " 15  ESTADO                   23083 non-null  object \n",
       " 16  PRODUCTO O SERVICIO      23083 non-null  object \n",
       " 17  CODIGO PORTAL            18223 non-null  object \n",
       " 18  CANTIDAD PEDIDA          23083 non-null  float64\n",
       " 19  CANTIDAD RECIBIDA        16013 non-null  float64\n",
       " 20  PRECIO UNITARIO          23083 non-null  int64  \n",
       " 21  PRECIO UNITARIO + IVA    23083 non-null  int64  \n",
       " 22  IVA                      23083 non-null  int64  \n",
       " 23  TOTAL SIN IVA            23083 non-null  int64  \n",
       " 24  TOTAL + IVA              23083 non-null  int64  \n",
       " 25  FECHA ULTIMO MOVIMIENTO  23083 non-null  object \n",
       "dtypes: float64(2), int64(5), object(19)\n",
       "memory usage: 4.6+ MB\n",
       "</div>"
      ]
     },
     "metadata": {
      "application/vnd.databricks.v1+output": {
       "addedWidgets": {},
       "arguments": {},
       "data": "<div class=\"ansiout\">&lt;class &#39;pandas.core.frame.DataFrame&#39;&gt;\nRangeIndex: 23083 entries, 0 to 23082\nData columns (total 26 columns):\n #   Column                   Non-Null Count  Dtype  \n---  ------                   --------------  -----  \n 0   NÚMERO PEDIDO            23083 non-null  object \n 1   ORDEN NÚMERO             23083 non-null  object \n 2   FECHA ORDEN              23083 non-null  object \n 3   FECHA ENTREGA            18770 non-null  object \n 4   FECHA APROBACION         21950 non-null  object \n 5   CATEGORÍA                23083 non-null  object \n 6   SUBCATEGORIA             23083 non-null  object \n 7   PROVEEDOR                23083 non-null  object \n 8   USUARIO                  23083 non-null  object \n 9   USUARIO APROBADOR        21950 non-null  object \n 10  DIRECCION PEDIDO         23083 non-null  object \n 11  DIRECCION FACTURACION    10828 non-null  object \n 12  CENTRO DE COSTOS         16672 non-null  object \n 13  PRESUPUESTO              18581 non-null  object \n 14  PORTAL                   23083 non-null  object \n 15  ESTADO                   23083 non-null  object \n 16  PRODUCTO O SERVICIO      23083 non-null  object \n 17  CODIGO PORTAL            18223 non-null  object \n 18  CANTIDAD PEDIDA          23083 non-null  float64\n 19  CANTIDAD RECIBIDA        16013 non-null  float64\n 20  PRECIO UNITARIO          23083 non-null  int64  \n 21  PRECIO UNITARIO + IVA    23083 non-null  int64  \n 22  IVA                      23083 non-null  int64  \n 23  TOTAL SIN IVA            23083 non-null  int64  \n 24  TOTAL + IVA              23083 non-null  int64  \n 25  FECHA ULTIMO MOVIMIENTO  23083 non-null  object \ndtypes: float64(2), int64(5), object(19)\nmemory usage: 4.6+ MB\n</div>",
       "datasetInfos": [],
       "metadata": {},
       "removedWidgets": [],
       "type": "html"
      }
     },
     "output_type": "display_data"
    }
   ],
   "source": [
    "df.info()"
   ]
  },
  {
   "cell_type": "code",
   "execution_count": 0,
   "metadata": {
    "application/vnd.databricks.v1+cell": {
     "inputWidgets": {},
     "nuid": "34dc6a8d-ca22-4665-bb76-a7eae9ffc99d",
     "showTitle": false,
     "title": ""
    }
   },
   "outputs": [
    {
     "data": {
      "text/html": [
       "<style scoped>\n",
       "  .ansiout {\n",
       "    display: block;\n",
       "    unicode-bidi: embed;\n",
       "    white-space: pre-wrap;\n",
       "    word-wrap: break-word;\n",
       "    word-break: break-all;\n",
       "    font-family: \"Source Code Pro\", \"Menlo\", monospace;;\n",
       "    font-size: 13px;\n",
       "    color: #555;\n",
       "    margin-left: 4px;\n",
       "    line-height: 19px;\n",
       "  }\n",
       "</style>\n",
       "<div class=\"ansiout\">Out[1060]: </div>"
      ]
     },
     "metadata": {
      "application/vnd.databricks.v1+output": {
       "addedWidgets": {},
       "arguments": {},
       "data": "<div class=\"ansiout\">Out[1060]: </div>",
       "datasetInfos": [],
       "metadata": {},
       "removedWidgets": [],
       "type": "html"
      }
     },
     "output_type": "display_data"
    },
    {
     "data": {
      "text/html": [
       "<div>\n",
       "<style scoped>\n",
       "    .dataframe tbody tr th:only-of-type {\n",
       "        vertical-align: middle;\n",
       "    }\n",
       "\n",
       "    .dataframe tbody tr th {\n",
       "        vertical-align: top;\n",
       "    }\n",
       "\n",
       "    .dataframe thead th {\n",
       "        text-align: right;\n",
       "    }\n",
       "</style>\n",
       "<table border=\"1\" class=\"dataframe\">\n",
       "  <thead>\n",
       "    <tr style=\"text-align: right;\">\n",
       "      <th></th>\n",
       "      <th>NÚMERO PEDIDO</th>\n",
       "      <th>ORDEN NÚMERO</th>\n",
       "      <th>FECHA ORDEN</th>\n",
       "      <th>FECHA ENTREGA</th>\n",
       "      <th>FECHA APROBACION</th>\n",
       "      <th>CATEGORÍA</th>\n",
       "      <th>SUBCATEGORIA</th>\n",
       "      <th>PROVEEDOR</th>\n",
       "      <th>USUARIO</th>\n",
       "      <th>USUARIO APROBADOR</th>\n",
       "      <th>DIRECCION PEDIDO</th>\n",
       "      <th>DIRECCION FACTURACION</th>\n",
       "      <th>CENTRO DE COSTOS</th>\n",
       "      <th>PRESUPUESTO</th>\n",
       "      <th>PORTAL</th>\n",
       "      <th>ESTADO</th>\n",
       "      <th>PRODUCTO O SERVICIO</th>\n",
       "      <th>CODIGO PORTAL</th>\n",
       "      <th>CANTIDAD PEDIDA</th>\n",
       "      <th>CANTIDAD RECIBIDA</th>\n",
       "      <th>PRECIO UNITARIO</th>\n",
       "      <th>PRECIO UNITARIO + IVA</th>\n",
       "      <th>IVA</th>\n",
       "      <th>TOTAL SIN IVA</th>\n",
       "      <th>TOTAL + IVA</th>\n",
       "      <th>FECHA ULTIMO MOVIMIENTO</th>\n",
       "    </tr>\n",
       "  </thead>\n",
       "  <tbody>\n",
       "    <tr>\n",
       "      <th>7846</th>\n",
       "      <td># 46680</td>\n",
       "      <td># 895</td>\n",
       "      <td>2021-03-20</td>\n",
       "      <td>2021-03-20</td>\n",
       "      <td>2021-03-22</td>\n",
       "      <td>Generación y distribución de Energía</td>\n",
       "      <td>Generación de energía</td>\n",
       "      <td>Proveedor 242</td>\n",
       "      <td>Usuario solicitante 11</td>\n",
       "      <td>Usuario Aprobador 6</td>\n",
       "      <td>Direccion 9</td>\n",
       "      <td>NaN</td>\n",
       "      <td>Centro de costos 9</td>\n",
       "      <td>Presupuesto 514</td>\n",
       "      <td>Portal comprador 1</td>\n",
       "      <td>Recibido</td>\n",
       "      <td>GENERADOR PORTATIL 8 KW DOBLE VOL FORD</td>\n",
       "      <td>0156FG9250PE</td>\n",
       "      <td>1.00</td>\n",
       "      <td>1.00</td>\n",
       "      <td>3740344</td>\n",
       "      <td>4451009</td>\n",
       "      <td>710665</td>\n",
       "      <td>3740344</td>\n",
       "      <td>4451009</td>\n",
       "      <td>2021-03-26</td>\n",
       "    </tr>\n",
       "    <tr>\n",
       "      <th>7847</th>\n",
       "      <td># 46679</td>\n",
       "      <td># 1040</td>\n",
       "      <td>2021-03-20</td>\n",
       "      <td>2021-03-23</td>\n",
       "      <td>NaN</td>\n",
       "      <td>Alimentos y Bebidas</td>\n",
       "      <td>Productos de carne y aves de corral</td>\n",
       "      <td>Proveedor 123</td>\n",
       "      <td>Usuario solicitante 4</td>\n",
       "      <td>NaN</td>\n",
       "      <td>Direccion 3</td>\n",
       "      <td>NaN</td>\n",
       "      <td>Centro de costos 4</td>\n",
       "      <td>NaN</td>\n",
       "      <td>Portal comprador 2</td>\n",
       "      <td>Orden Rechazada</td>\n",
       "      <td>Costilla de cerdo San Luis E.V</td>\n",
       "      <td>1038155</td>\n",
       "      <td>100.00</td>\n",
       "      <td>nan</td>\n",
       "      <td>15691</td>\n",
       "      <td>15691</td>\n",
       "      <td>0</td>\n",
       "      <td>1569100</td>\n",
       "      <td>1569100</td>\n",
       "      <td>2021-03-23</td>\n",
       "    </tr>\n",
       "    <tr>\n",
       "      <th>7848</th>\n",
       "      <td># 46678</td>\n",
       "      <td># 1039</td>\n",
       "      <td>2021-03-20</td>\n",
       "      <td>2021-03-23</td>\n",
       "      <td>2021-03-20</td>\n",
       "      <td>Alimentos y Bebidas</td>\n",
       "      <td>Alimentos preparados y conservados</td>\n",
       "      <td>Proveedor 84</td>\n",
       "      <td>Usuario solicitante 4</td>\n",
       "      <td>Usuario Aprobador 4</td>\n",
       "      <td>Direccion 3</td>\n",
       "      <td>NaN</td>\n",
       "      <td>Centro de costos 45</td>\n",
       "      <td>NaN</td>\n",
       "      <td>Portal comprador 2</td>\n",
       "      <td>Recibido</td>\n",
       "      <td>QUESO CHEDDAR TAJADO X 500g</td>\n",
       "      <td>NaN</td>\n",
       "      <td>20.00</td>\n",
       "      <td>20.00</td>\n",
       "      <td>9000</td>\n",
       "      <td>9000</td>\n",
       "      <td>0</td>\n",
       "      <td>180000</td>\n",
       "      <td>180000</td>\n",
       "      <td>2021-03-25</td>\n",
       "    </tr>\n",
       "    <tr>\n",
       "      <th>7849</th>\n",
       "      <td># 46677</td>\n",
       "      <td># 894</td>\n",
       "      <td>2021-03-19</td>\n",
       "      <td>2021-04-01</td>\n",
       "      <td>2021-03-29</td>\n",
       "      <td>Textiles</td>\n",
       "      <td>Fibra, hilos e hilados</td>\n",
       "      <td>Proveedor 238</td>\n",
       "      <td>Usuario solicitante 21</td>\n",
       "      <td>Usuario Aprobador 38</td>\n",
       "      <td>Direccion 43</td>\n",
       "      <td>NaN</td>\n",
       "      <td>Centro de costos 20</td>\n",
       "      <td>Presupuesto 515</td>\n",
       "      <td>Portal comprador 1</td>\n",
       "      <td>Recibido</td>\n",
       "      <td>Tapabocas Antifluído - Reutilizable</td>\n",
       "      <td>0531</td>\n",
       "      <td>10.00</td>\n",
       "      <td>10.00</td>\n",
       "      <td>2000</td>\n",
       "      <td>2000</td>\n",
       "      <td>0</td>\n",
       "      <td>20000</td>\n",
       "      <td>20000</td>\n",
       "      <td>2021-04-27</td>\n",
       "    </tr>\n",
       "    <tr>\n",
       "      <th>7850</th>\n",
       "      <td># 46676</td>\n",
       "      <td># 893</td>\n",
       "      <td>2021-03-19</td>\n",
       "      <td>2021-04-01</td>\n",
       "      <td>2021-03-29</td>\n",
       "      <td>Dotación y elementos de protección personal</td>\n",
       "      <td>Elementos de bioseguridad</td>\n",
       "      <td>Proveedor 179</td>\n",
       "      <td>Usuario solicitante 21</td>\n",
       "      <td>Usuario Aprobador 38</td>\n",
       "      <td>Direccion 43</td>\n",
       "      <td>NaN</td>\n",
       "      <td>Centro de costos 20</td>\n",
       "      <td>Presupuesto 515</td>\n",
       "      <td>Portal comprador 1</td>\n",
       "      <td>Recibido</td>\n",
       "      <td>ALCOHOL ANTISEPTICO 1OOO ML</td>\n",
       "      <td>103</td>\n",
       "      <td>6.00</td>\n",
       "      <td>6.00</td>\n",
       "      <td>9000</td>\n",
       "      <td>9000</td>\n",
       "      <td>0</td>\n",
       "      <td>54000</td>\n",
       "      <td>54000</td>\n",
       "      <td>2021-04-10</td>\n",
       "    </tr>\n",
       "    <tr>\n",
       "      <th>...</th>\n",
       "      <td>...</td>\n",
       "      <td>...</td>\n",
       "      <td>...</td>\n",
       "      <td>...</td>\n",
       "      <td>...</td>\n",
       "      <td>...</td>\n",
       "      <td>...</td>\n",
       "      <td>...</td>\n",
       "      <td>...</td>\n",
       "      <td>...</td>\n",
       "      <td>...</td>\n",
       "      <td>...</td>\n",
       "      <td>...</td>\n",
       "      <td>...</td>\n",
       "      <td>...</td>\n",
       "      <td>...</td>\n",
       "      <td>...</td>\n",
       "      <td>...</td>\n",
       "      <td>...</td>\n",
       "      <td>...</td>\n",
       "      <td>...</td>\n",
       "      <td>...</td>\n",
       "      <td>...</td>\n",
       "      <td>...</td>\n",
       "      <td>...</td>\n",
       "      <td>...</td>\n",
       "    </tr>\n",
       "    <tr>\n",
       "      <th>7945</th>\n",
       "      <td># 46644</td>\n",
       "      <td># 879</td>\n",
       "      <td>2021-03-16</td>\n",
       "      <td>2021-03-18</td>\n",
       "      <td>2021-03-16</td>\n",
       "      <td>Vigilancia y seguridad industrial</td>\n",
       "      <td>Seguridad y protección personal</td>\n",
       "      <td>Proveedor 12</td>\n",
       "      <td>Usuario solicitante 8</td>\n",
       "      <td>Usuario Aprobador 6</td>\n",
       "      <td>Direccion 2</td>\n",
       "      <td>NaN</td>\n",
       "      <td>Centro de costos 12</td>\n",
       "      <td>Presupuesto 520</td>\n",
       "      <td>Portal comprador 1</td>\n",
       "      <td>Recibido</td>\n",
       "      <td>GUANTE KLEENGUARD G40 POLIURETANO X PAR TALLA ...</td>\n",
       "      <td>158160064</td>\n",
       "      <td>3.00</td>\n",
       "      <td>3.00</td>\n",
       "      <td>7163</td>\n",
       "      <td>8524</td>\n",
       "      <td>1361</td>\n",
       "      <td>21489</td>\n",
       "      <td>25572</td>\n",
       "      <td>2021-03-20</td>\n",
       "    </tr>\n",
       "    <tr>\n",
       "      <th>7946</th>\n",
       "      <td># 46644</td>\n",
       "      <td># 878</td>\n",
       "      <td>2021-03-16</td>\n",
       "      <td>2021-03-18</td>\n",
       "      <td>2021-03-16</td>\n",
       "      <td>Aseo, Cafetería y Oficina</td>\n",
       "      <td>Elementos de aseo y limpieza</td>\n",
       "      <td>Proveedor 59</td>\n",
       "      <td>Usuario solicitante 8</td>\n",
       "      <td>Usuario Aprobador 6</td>\n",
       "      <td>Direccion 2</td>\n",
       "      <td>NaN</td>\n",
       "      <td>Centro de costos 12</td>\n",
       "      <td>Presupuesto 520</td>\n",
       "      <td>Portal comprador 1</td>\n",
       "      <td>Recibido</td>\n",
       "      <td>Guante Nitrilo Azul talla L</td>\n",
       "      <td>1K6903</td>\n",
       "      <td>3.00</td>\n",
       "      <td>3.00</td>\n",
       "      <td>65000</td>\n",
       "      <td>65000</td>\n",
       "      <td>0</td>\n",
       "      <td>195000</td>\n",
       "      <td>195000</td>\n",
       "      <td>2021-03-20</td>\n",
       "    </tr>\n",
       "    <tr>\n",
       "      <th>7947</th>\n",
       "      <td># 46644</td>\n",
       "      <td># 878</td>\n",
       "      <td>2021-03-16</td>\n",
       "      <td>2021-03-18</td>\n",
       "      <td>2021-03-16</td>\n",
       "      <td>Aseo, Cafetería y Oficina</td>\n",
       "      <td>Elementos de aseo y limpieza</td>\n",
       "      <td>Proveedor 59</td>\n",
       "      <td>Usuario solicitante 8</td>\n",
       "      <td>Usuario Aprobador 6</td>\n",
       "      <td>Direccion 2</td>\n",
       "      <td>NaN</td>\n",
       "      <td>Centro de costos 12</td>\n",
       "      <td>Presupuesto 520</td>\n",
       "      <td>Portal comprador 1</td>\n",
       "      <td>Recibido</td>\n",
       "      <td>Guante Nitrilo Azul talla M</td>\n",
       "      <td>1K6902</td>\n",
       "      <td>3.00</td>\n",
       "      <td>3.00</td>\n",
       "      <td>65000</td>\n",
       "      <td>65000</td>\n",
       "      <td>0</td>\n",
       "      <td>195000</td>\n",
       "      <td>195000</td>\n",
       "      <td>2021-03-20</td>\n",
       "    </tr>\n",
       "    <tr>\n",
       "      <th>7948</th>\n",
       "      <td># 46643</td>\n",
       "      <td># 1023</td>\n",
       "      <td>2021-03-16</td>\n",
       "      <td>2021-03-18</td>\n",
       "      <td>2021-03-16</td>\n",
       "      <td>Alimentos y Bebidas</td>\n",
       "      <td>Productos de panadería</td>\n",
       "      <td>Proveedor 23</td>\n",
       "      <td>Usuario solicitante 4</td>\n",
       "      <td>Usuario Aprobador 4</td>\n",
       "      <td>Direccion 3</td>\n",
       "      <td>NaN</td>\n",
       "      <td>Centro de costos 4</td>\n",
       "      <td>NaN</td>\n",
       "      <td>Portal comprador 2</td>\n",
       "      <td>Recibido</td>\n",
       "      <td>PAN DE HAMBURGUESA CON AJONJOLÍ NEGRO x 4 UND</td>\n",
       "      <td>NaN</td>\n",
       "      <td>100.00</td>\n",
       "      <td>100.00</td>\n",
       "      <td>3000</td>\n",
       "      <td>3000</td>\n",
       "      <td>0</td>\n",
       "      <td>300000</td>\n",
       "      <td>300000</td>\n",
       "      <td>2021-03-18</td>\n",
       "    </tr>\n",
       "    <tr>\n",
       "      <th>7949</th>\n",
       "      <td># 46642</td>\n",
       "      <td># 1022</td>\n",
       "      <td>2021-03-16</td>\n",
       "      <td>2021-03-17</td>\n",
       "      <td>2021-03-16</td>\n",
       "      <td>Alimentos y Bebidas</td>\n",
       "      <td>Alimentos preparados y conservados</td>\n",
       "      <td>Proveedor 81</td>\n",
       "      <td>Usuario solicitante 4</td>\n",
       "      <td>Usuario Aprobador 4</td>\n",
       "      <td>Direccion 3</td>\n",
       "      <td>NaN</td>\n",
       "      <td>Centro de costos 4</td>\n",
       "      <td>NaN</td>\n",
       "      <td>Portal comprador 2</td>\n",
       "      <td>Recibido</td>\n",
       "      <td>Tocineta picada x 950 g</td>\n",
       "      <td>1K5533</td>\n",
       "      <td>60.00</td>\n",
       "      <td>60.00</td>\n",
       "      <td>18000</td>\n",
       "      <td>18000</td>\n",
       "      <td>0</td>\n",
       "      <td>1080000</td>\n",
       "      <td>1080000</td>\n",
       "      <td>2021-03-18</td>\n",
       "    </tr>\n",
       "  </tbody>\n",
       "</table>\n",
       "<p>104 rows × 26 columns</p>\n",
       "</div>"
      ]
     },
     "metadata": {
      "application/vnd.databricks.v1+output": {
       "addedWidgets": {},
       "arguments": {},
       "data": "<div>\n<style scoped>\n    .dataframe tbody tr th:only-of-type {\n        vertical-align: middle;\n    }\n\n    .dataframe tbody tr th {\n        vertical-align: top;\n    }\n\n    .dataframe thead th {\n        text-align: right;\n    }\n</style>\n<table border=\"1\" class=\"dataframe\">\n  <thead>\n    <tr style=\"text-align: right;\">\n      <th></th>\n      <th>NÚMERO PEDIDO</th>\n      <th>ORDEN NÚMERO</th>\n      <th>FECHA ORDEN</th>\n      <th>FECHA ENTREGA</th>\n      <th>FECHA APROBACION</th>\n      <th>CATEGORÍA</th>\n      <th>SUBCATEGORIA</th>\n      <th>PROVEEDOR</th>\n      <th>USUARIO</th>\n      <th>USUARIO APROBADOR</th>\n      <th>DIRECCION PEDIDO</th>\n      <th>DIRECCION FACTURACION</th>\n      <th>CENTRO DE COSTOS</th>\n      <th>PRESUPUESTO</th>\n      <th>PORTAL</th>\n      <th>ESTADO</th>\n      <th>PRODUCTO O SERVICIO</th>\n      <th>CODIGO PORTAL</th>\n      <th>CANTIDAD PEDIDA</th>\n      <th>CANTIDAD RECIBIDA</th>\n      <th>PRECIO UNITARIO</th>\n      <th>PRECIO UNITARIO + IVA</th>\n      <th>IVA</th>\n      <th>TOTAL SIN IVA</th>\n      <th>TOTAL + IVA</th>\n      <th>FECHA ULTIMO MOVIMIENTO</th>\n    </tr>\n  </thead>\n  <tbody>\n    <tr>\n      <th>7846</th>\n      <td># 46680</td>\n      <td># 895</td>\n      <td>2021-03-20</td>\n      <td>2021-03-20</td>\n      <td>2021-03-22</td>\n      <td>Generación y distribución de Energía</td>\n      <td>Generación de energía</td>\n      <td>Proveedor 242</td>\n      <td>Usuario solicitante 11</td>\n      <td>Usuario Aprobador 6</td>\n      <td>Direccion 9</td>\n      <td>NaN</td>\n      <td>Centro de costos 9</td>\n      <td>Presupuesto 514</td>\n      <td>Portal comprador 1</td>\n      <td>Recibido</td>\n      <td>GENERADOR PORTATIL 8 KW DOBLE VOL FORD</td>\n      <td>0156FG9250PE</td>\n      <td>1.00</td>\n      <td>1.00</td>\n      <td>3740344</td>\n      <td>4451009</td>\n      <td>710665</td>\n      <td>3740344</td>\n      <td>4451009</td>\n      <td>2021-03-26</td>\n    </tr>\n    <tr>\n      <th>7847</th>\n      <td># 46679</td>\n      <td># 1040</td>\n      <td>2021-03-20</td>\n      <td>2021-03-23</td>\n      <td>NaN</td>\n      <td>Alimentos y Bebidas</td>\n      <td>Productos de carne y aves de corral</td>\n      <td>Proveedor 123</td>\n      <td>Usuario solicitante 4</td>\n      <td>NaN</td>\n      <td>Direccion 3</td>\n      <td>NaN</td>\n      <td>Centro de costos 4</td>\n      <td>NaN</td>\n      <td>Portal comprador 2</td>\n      <td>Orden Rechazada</td>\n      <td>Costilla de cerdo San Luis E.V</td>\n      <td>1038155</td>\n      <td>100.00</td>\n      <td>nan</td>\n      <td>15691</td>\n      <td>15691</td>\n      <td>0</td>\n      <td>1569100</td>\n      <td>1569100</td>\n      <td>2021-03-23</td>\n    </tr>\n    <tr>\n      <th>7848</th>\n      <td># 46678</td>\n      <td># 1039</td>\n      <td>2021-03-20</td>\n      <td>2021-03-23</td>\n      <td>2021-03-20</td>\n      <td>Alimentos y Bebidas</td>\n      <td>Alimentos preparados y conservados</td>\n      <td>Proveedor 84</td>\n      <td>Usuario solicitante 4</td>\n      <td>Usuario Aprobador 4</td>\n      <td>Direccion 3</td>\n      <td>NaN</td>\n      <td>Centro de costos 45</td>\n      <td>NaN</td>\n      <td>Portal comprador 2</td>\n      <td>Recibido</td>\n      <td>QUESO CHEDDAR TAJADO X 500g</td>\n      <td>NaN</td>\n      <td>20.00</td>\n      <td>20.00</td>\n      <td>9000</td>\n      <td>9000</td>\n      <td>0</td>\n      <td>180000</td>\n      <td>180000</td>\n      <td>2021-03-25</td>\n    </tr>\n    <tr>\n      <th>7849</th>\n      <td># 46677</td>\n      <td># 894</td>\n      <td>2021-03-19</td>\n      <td>2021-04-01</td>\n      <td>2021-03-29</td>\n      <td>Textiles</td>\n      <td>Fibra, hilos e hilados</td>\n      <td>Proveedor 238</td>\n      <td>Usuario solicitante 21</td>\n      <td>Usuario Aprobador 38</td>\n      <td>Direccion 43</td>\n      <td>NaN</td>\n      <td>Centro de costos 20</td>\n      <td>Presupuesto 515</td>\n      <td>Portal comprador 1</td>\n      <td>Recibido</td>\n      <td>Tapabocas Antifluído - Reutilizable</td>\n      <td>0531</td>\n      <td>10.00</td>\n      <td>10.00</td>\n      <td>2000</td>\n      <td>2000</td>\n      <td>0</td>\n      <td>20000</td>\n      <td>20000</td>\n      <td>2021-04-27</td>\n    </tr>\n    <tr>\n      <th>7850</th>\n      <td># 46676</td>\n      <td># 893</td>\n      <td>2021-03-19</td>\n      <td>2021-04-01</td>\n      <td>2021-03-29</td>\n      <td>Dotación y elementos de protección personal</td>\n      <td>Elementos de bioseguridad</td>\n      <td>Proveedor 179</td>\n      <td>Usuario solicitante 21</td>\n      <td>Usuario Aprobador 38</td>\n      <td>Direccion 43</td>\n      <td>NaN</td>\n      <td>Centro de costos 20</td>\n      <td>Presupuesto 515</td>\n      <td>Portal comprador 1</td>\n      <td>Recibido</td>\n      <td>ALCOHOL ANTISEPTICO 1OOO ML</td>\n      <td>103</td>\n      <td>6.00</td>\n      <td>6.00</td>\n      <td>9000</td>\n      <td>9000</td>\n      <td>0</td>\n      <td>54000</td>\n      <td>54000</td>\n      <td>2021-04-10</td>\n    </tr>\n    <tr>\n      <th>...</th>\n      <td>...</td>\n      <td>...</td>\n      <td>...</td>\n      <td>...</td>\n      <td>...</td>\n      <td>...</td>\n      <td>...</td>\n      <td>...</td>\n      <td>...</td>\n      <td>...</td>\n      <td>...</td>\n      <td>...</td>\n      <td>...</td>\n      <td>...</td>\n      <td>...</td>\n      <td>...</td>\n      <td>...</td>\n      <td>...</td>\n      <td>...</td>\n      <td>...</td>\n      <td>...</td>\n      <td>...</td>\n      <td>...</td>\n      <td>...</td>\n      <td>...</td>\n      <td>...</td>\n    </tr>\n    <tr>\n      <th>7945</th>\n      <td># 46644</td>\n      <td># 879</td>\n      <td>2021-03-16</td>\n      <td>2021-03-18</td>\n      <td>2021-03-16</td>\n      <td>Vigilancia y seguridad industrial</td>\n      <td>Seguridad y protección personal</td>\n      <td>Proveedor 12</td>\n      <td>Usuario solicitante 8</td>\n      <td>Usuario Aprobador 6</td>\n      <td>Direccion 2</td>\n      <td>NaN</td>\n      <td>Centro de costos 12</td>\n      <td>Presupuesto 520</td>\n      <td>Portal comprador 1</td>\n      <td>Recibido</td>\n      <td>GUANTE KLEENGUARD G40 POLIURETANO X PAR TALLA ...</td>\n      <td>158160064</td>\n      <td>3.00</td>\n      <td>3.00</td>\n      <td>7163</td>\n      <td>8524</td>\n      <td>1361</td>\n      <td>21489</td>\n      <td>25572</td>\n      <td>2021-03-20</td>\n    </tr>\n    <tr>\n      <th>7946</th>\n      <td># 46644</td>\n      <td># 878</td>\n      <td>2021-03-16</td>\n      <td>2021-03-18</td>\n      <td>2021-03-16</td>\n      <td>Aseo, Cafetería y Oficina</td>\n      <td>Elementos de aseo y limpieza</td>\n      <td>Proveedor 59</td>\n      <td>Usuario solicitante 8</td>\n      <td>Usuario Aprobador 6</td>\n      <td>Direccion 2</td>\n      <td>NaN</td>\n      <td>Centro de costos 12</td>\n      <td>Presupuesto 520</td>\n      <td>Portal comprador 1</td>\n      <td>Recibido</td>\n      <td>Guante Nitrilo Azul talla L</td>\n      <td>1K6903</td>\n      <td>3.00</td>\n      <td>3.00</td>\n      <td>65000</td>\n      <td>65000</td>\n      <td>0</td>\n      <td>195000</td>\n      <td>195000</td>\n      <td>2021-03-20</td>\n    </tr>\n    <tr>\n      <th>7947</th>\n      <td># 46644</td>\n      <td># 878</td>\n      <td>2021-03-16</td>\n      <td>2021-03-18</td>\n      <td>2021-03-16</td>\n      <td>Aseo, Cafetería y Oficina</td>\n      <td>Elementos de aseo y limpieza</td>\n      <td>Proveedor 59</td>\n      <td>Usuario solicitante 8</td>\n      <td>Usuario Aprobador 6</td>\n      <td>Direccion 2</td>\n      <td>NaN</td>\n      <td>Centro de costos 12</td>\n      <td>Presupuesto 520</td>\n      <td>Portal comprador 1</td>\n      <td>Recibido</td>\n      <td>Guante Nitrilo Azul talla M</td>\n      <td>1K6902</td>\n      <td>3.00</td>\n      <td>3.00</td>\n      <td>65000</td>\n      <td>65000</td>\n      <td>0</td>\n      <td>195000</td>\n      <td>195000</td>\n      <td>2021-03-20</td>\n    </tr>\n    <tr>\n      <th>7948</th>\n      <td># 46643</td>\n      <td># 1023</td>\n      <td>2021-03-16</td>\n      <td>2021-03-18</td>\n      <td>2021-03-16</td>\n      <td>Alimentos y Bebidas</td>\n      <td>Productos de panadería</td>\n      <td>Proveedor 23</td>\n      <td>Usuario solicitante 4</td>\n      <td>Usuario Aprobador 4</td>\n      <td>Direccion 3</td>\n      <td>NaN</td>\n      <td>Centro de costos 4</td>\n      <td>NaN</td>\n      <td>Portal comprador 2</td>\n      <td>Recibido</td>\n      <td>PAN DE HAMBURGUESA CON AJONJOLÍ NEGRO x 4 UND</td>\n      <td>NaN</td>\n      <td>100.00</td>\n      <td>100.00</td>\n      <td>3000</td>\n      <td>3000</td>\n      <td>0</td>\n      <td>300000</td>\n      <td>300000</td>\n      <td>2021-03-18</td>\n    </tr>\n    <tr>\n      <th>7949</th>\n      <td># 46642</td>\n      <td># 1022</td>\n      <td>2021-03-16</td>\n      <td>2021-03-17</td>\n      <td>2021-03-16</td>\n      <td>Alimentos y Bebidas</td>\n      <td>Alimentos preparados y conservados</td>\n      <td>Proveedor 81</td>\n      <td>Usuario solicitante 4</td>\n      <td>Usuario Aprobador 4</td>\n      <td>Direccion 3</td>\n      <td>NaN</td>\n      <td>Centro de costos 4</td>\n      <td>NaN</td>\n      <td>Portal comprador 2</td>\n      <td>Recibido</td>\n      <td>Tocineta picada x 950 g</td>\n      <td>1K5533</td>\n      <td>60.00</td>\n      <td>60.00</td>\n      <td>18000</td>\n      <td>18000</td>\n      <td>0</td>\n      <td>1080000</td>\n      <td>1080000</td>\n      <td>2021-03-18</td>\n    </tr>\n  </tbody>\n</table>\n<p>104 rows × 26 columns</p>\n</div>",
       "datasetInfos": [],
       "metadata": {},
       "removedWidgets": [],
       "textData": null,
       "type": "htmlSandbox"
      }
     },
     "output_type": "display_data"
    }
   ],
   "source": [
    "df[(df['FECHA ORDEN'] > str(Fecha_ini)) & (df['FECHA ORDEN'] < str(Fecha_fin))]"
   ]
  },
  {
   "cell_type": "code",
   "execution_count": 0,
   "metadata": {
    "application/vnd.databricks.v1+cell": {
     "inputWidgets": {},
     "nuid": "007de94b-af1f-4a37-b621-1a41a27d1aa1",
     "showTitle": false,
     "title": ""
    }
   },
   "outputs": [
    {
     "data": {
      "text/html": [
       "<style scoped>\n",
       "  .ansiout {\n",
       "    display: block;\n",
       "    unicode-bidi: embed;\n",
       "    white-space: pre-wrap;\n",
       "    word-wrap: break-word;\n",
       "    word-break: break-all;\n",
       "    font-family: \"Source Code Pro\", \"Menlo\", monospace;;\n",
       "    font-size: 13px;\n",
       "    color: #555;\n",
       "    margin-left: 4px;\n",
       "    line-height: 19px;\n",
       "  }\n",
       "</style>\n",
       "<div class=\"ansiout\">Out[1061]: </div>"
      ]
     },
     "metadata": {
      "application/vnd.databricks.v1+output": {
       "addedWidgets": {},
       "arguments": {},
       "data": "<div class=\"ansiout\">Out[1061]: </div>",
       "datasetInfos": [],
       "metadata": {},
       "removedWidgets": [],
       "type": "html"
      }
     },
     "output_type": "display_data"
    },
    {
     "data": {
      "text/html": [
       "<div>\n",
       "<style scoped>\n",
       "    .dataframe tbody tr th:only-of-type {\n",
       "        vertical-align: middle;\n",
       "    }\n",
       "\n",
       "    .dataframe tbody tr th {\n",
       "        vertical-align: top;\n",
       "    }\n",
       "\n",
       "    .dataframe thead th {\n",
       "        text-align: right;\n",
       "    }\n",
       "</style>\n",
       "<table border=\"1\" class=\"dataframe\">\n",
       "  <thead>\n",
       "    <tr style=\"text-align: right;\">\n",
       "      <th></th>\n",
       "      <th>NÚMERO PEDIDO</th>\n",
       "      <th>ORDEN NÚMERO</th>\n",
       "      <th>FECHA ORDEN</th>\n",
       "      <th>FECHA ENTREGA</th>\n",
       "      <th>FECHA APROBACION</th>\n",
       "      <th>CATEGORÍA</th>\n",
       "      <th>SUBCATEGORIA</th>\n",
       "      <th>PROVEEDOR</th>\n",
       "      <th>USUARIO</th>\n",
       "      <th>USUARIO APROBADOR</th>\n",
       "      <th>DIRECCION PEDIDO</th>\n",
       "      <th>DIRECCION FACTURACION</th>\n",
       "      <th>CENTRO DE COSTOS</th>\n",
       "      <th>PRESUPUESTO</th>\n",
       "      <th>PORTAL</th>\n",
       "      <th>ESTADO</th>\n",
       "      <th>PRODUCTO O SERVICIO</th>\n",
       "      <th>CODIGO PORTAL</th>\n",
       "      <th>CANTIDAD PEDIDA</th>\n",
       "      <th>CANTIDAD RECIBIDA</th>\n",
       "      <th>PRECIO UNITARIO</th>\n",
       "      <th>PRECIO UNITARIO + IVA</th>\n",
       "      <th>IVA</th>\n",
       "      <th>TOTAL SIN IVA</th>\n",
       "      <th>TOTAL + IVA</th>\n",
       "      <th>FECHA ULTIMO MOVIMIENTO</th>\n",
       "    </tr>\n",
       "  </thead>\n",
       "  <tbody>\n",
       "    <tr>\n",
       "      <th>0</th>\n",
       "      <td># 49561</td>\n",
       "      <td># 2582</td>\n",
       "      <td>2021-11-10</td>\n",
       "      <td>2021-11-10</td>\n",
       "      <td>2021-11-10</td>\n",
       "      <td>Eléctricos y Electrónicos</td>\n",
       "      <td>Lámparas y bombillas y componentes para lámparas</td>\n",
       "      <td>Proveedor 1</td>\n",
       "      <td>Usuario solicitante 1</td>\n",
       "      <td>Usuario Aprobador 1</td>\n",
       "      <td>Direccion 1</td>\n",
       "      <td>NaN</td>\n",
       "      <td>Centro de costos 1</td>\n",
       "      <td>Presupuesto 1</td>\n",
       "      <td>Portal comprador 1</td>\n",
       "      <td>Orden en Proceso</td>\n",
       "      <td>PANEL LED SOBREPONER 24W REDONDO LUZ BLANCA</td>\n",
       "      <td>1200035000063</td>\n",
       "      <td>2.00</td>\n",
       "      <td>nan</td>\n",
       "      <td>23364</td>\n",
       "      <td>27803</td>\n",
       "      <td>4439</td>\n",
       "      <td>46728</td>\n",
       "      <td>55606</td>\n",
       "      <td>2021-11-10</td>\n",
       "    </tr>\n",
       "    <tr>\n",
       "      <th>1</th>\n",
       "      <td># 49560</td>\n",
       "      <td># 2581</td>\n",
       "      <td>2021-11-10</td>\n",
       "      <td>2021-11-11</td>\n",
       "      <td>2021-11-10</td>\n",
       "      <td>Mercadeo y publicidad</td>\n",
       "      <td>Publicidad</td>\n",
       "      <td>Proveedor 2</td>\n",
       "      <td>Usuario solicitante 2</td>\n",
       "      <td>Usuario Aprobador 2</td>\n",
       "      <td>Direccion 1</td>\n",
       "      <td>NaN</td>\n",
       "      <td>Centro de costos 2</td>\n",
       "      <td>Presupuesto 2</td>\n",
       "      <td>Portal comprador 1</td>\n",
       "      <td>Recibido</td>\n",
       "      <td>ACTIVIDADES COMERCIALES</td>\n",
       "      <td>1K15774</td>\n",
       "      <td>1.00</td>\n",
       "      <td>1.00</td>\n",
       "      <td>1476972</td>\n",
       "      <td>1757597</td>\n",
       "      <td>280625</td>\n",
       "      <td>1476972</td>\n",
       "      <td>1757597</td>\n",
       "      <td>2021-11-10</td>\n",
       "    </tr>\n",
       "    <tr>\n",
       "      <th>2</th>\n",
       "      <td># 49559</td>\n",
       "      <td># 2580</td>\n",
       "      <td>2021-11-10</td>\n",
       "      <td>2021-11-10</td>\n",
       "      <td>2021-11-10</td>\n",
       "      <td>Alimentos y Bebidas</td>\n",
       "      <td>Alimentos preparados y conservados</td>\n",
       "      <td>Proveedor 3</td>\n",
       "      <td>Usuario solicitante 3</td>\n",
       "      <td>Usuario Aprobador 3</td>\n",
       "      <td>Direccion 2</td>\n",
       "      <td>NaN</td>\n",
       "      <td>Centro de costos 3</td>\n",
       "      <td>Presupuesto 3</td>\n",
       "      <td>Portal comprador 1</td>\n",
       "      <td>Orden en Proceso</td>\n",
       "      <td>Lasagna</td>\n",
       "      <td>1K7609</td>\n",
       "      <td>10.00</td>\n",
       "      <td>nan</td>\n",
       "      <td>15500</td>\n",
       "      <td>15500</td>\n",
       "      <td>0</td>\n",
       "      <td>155000</td>\n",
       "      <td>155000</td>\n",
       "      <td>2021-11-10</td>\n",
       "    </tr>\n",
       "    <tr>\n",
       "      <th>3</th>\n",
       "      <td># 49558</td>\n",
       "      <td># 1892</td>\n",
       "      <td>2021-11-10</td>\n",
       "      <td>2021-11-12</td>\n",
       "      <td>2021-11-10</td>\n",
       "      <td>Alimentos y Bebidas</td>\n",
       "      <td>Productos de carne y aves de corral</td>\n",
       "      <td>Proveedor 4</td>\n",
       "      <td>Usuario solicitante 4</td>\n",
       "      <td>Usuario Aprobador 4</td>\n",
       "      <td>Direccion 3</td>\n",
       "      <td>NaN</td>\n",
       "      <td>Centro de costos 4</td>\n",
       "      <td>Presupuesto 4</td>\n",
       "      <td>Portal comprador 2</td>\n",
       "      <td>Orden en Proceso</td>\n",
       "      <td>Pecho de Res Limpio/Sin Grasa</td>\n",
       "      <td>1K15459</td>\n",
       "      <td>50.00</td>\n",
       "      <td>nan</td>\n",
       "      <td>22000</td>\n",
       "      <td>22000</td>\n",
       "      <td>0</td>\n",
       "      <td>1100000</td>\n",
       "      <td>1100000</td>\n",
       "      <td>2021-11-10</td>\n",
       "    </tr>\n",
       "    <tr>\n",
       "      <th>4</th>\n",
       "      <td># 49557</td>\n",
       "      <td># 1</td>\n",
       "      <td>2021-11-10</td>\n",
       "      <td>2021-11-09</td>\n",
       "      <td>2021-11-10</td>\n",
       "      <td>Imprenta y litografía</td>\n",
       "      <td>Otra</td>\n",
       "      <td>Proveedor 5</td>\n",
       "      <td>Usuario solicitante 5</td>\n",
       "      <td>Usuario Aprobador 5</td>\n",
       "      <td>Direccion 4</td>\n",
       "      <td>NaN</td>\n",
       "      <td>NaN</td>\n",
       "      <td>NaN</td>\n",
       "      <td>Portal comprador 3</td>\n",
       "      <td>Recibido</td>\n",
       "      <td>LIBRO CABEZA, CORAZON Y MANOS</td>\n",
       "      <td>1K15761</td>\n",
       "      <td>7.00</td>\n",
       "      <td>7.00</td>\n",
       "      <td>92084</td>\n",
       "      <td>109580</td>\n",
       "      <td>17496</td>\n",
       "      <td>644588</td>\n",
       "      <td>767060</td>\n",
       "      <td>2021-11-10</td>\n",
       "    </tr>\n",
       "  </tbody>\n",
       "</table>\n",
       "</div>"
      ]
     },
     "metadata": {
      "application/vnd.databricks.v1+output": {
       "addedWidgets": {},
       "arguments": {},
       "data": "<div>\n<style scoped>\n    .dataframe tbody tr th:only-of-type {\n        vertical-align: middle;\n    }\n\n    .dataframe tbody tr th {\n        vertical-align: top;\n    }\n\n    .dataframe thead th {\n        text-align: right;\n    }\n</style>\n<table border=\"1\" class=\"dataframe\">\n  <thead>\n    <tr style=\"text-align: right;\">\n      <th></th>\n      <th>NÚMERO PEDIDO</th>\n      <th>ORDEN NÚMERO</th>\n      <th>FECHA ORDEN</th>\n      <th>FECHA ENTREGA</th>\n      <th>FECHA APROBACION</th>\n      <th>CATEGORÍA</th>\n      <th>SUBCATEGORIA</th>\n      <th>PROVEEDOR</th>\n      <th>USUARIO</th>\n      <th>USUARIO APROBADOR</th>\n      <th>DIRECCION PEDIDO</th>\n      <th>DIRECCION FACTURACION</th>\n      <th>CENTRO DE COSTOS</th>\n      <th>PRESUPUESTO</th>\n      <th>PORTAL</th>\n      <th>ESTADO</th>\n      <th>PRODUCTO O SERVICIO</th>\n      <th>CODIGO PORTAL</th>\n      <th>CANTIDAD PEDIDA</th>\n      <th>CANTIDAD RECIBIDA</th>\n      <th>PRECIO UNITARIO</th>\n      <th>PRECIO UNITARIO + IVA</th>\n      <th>IVA</th>\n      <th>TOTAL SIN IVA</th>\n      <th>TOTAL + IVA</th>\n      <th>FECHA ULTIMO MOVIMIENTO</th>\n    </tr>\n  </thead>\n  <tbody>\n    <tr>\n      <th>0</th>\n      <td># 49561</td>\n      <td># 2582</td>\n      <td>2021-11-10</td>\n      <td>2021-11-10</td>\n      <td>2021-11-10</td>\n      <td>Eléctricos y Electrónicos</td>\n      <td>Lámparas y bombillas y componentes para lámparas</td>\n      <td>Proveedor 1</td>\n      <td>Usuario solicitante 1</td>\n      <td>Usuario Aprobador 1</td>\n      <td>Direccion 1</td>\n      <td>NaN</td>\n      <td>Centro de costos 1</td>\n      <td>Presupuesto 1</td>\n      <td>Portal comprador 1</td>\n      <td>Orden en Proceso</td>\n      <td>PANEL LED SOBREPONER 24W REDONDO LUZ BLANCA</td>\n      <td>1200035000063</td>\n      <td>2.00</td>\n      <td>nan</td>\n      <td>23364</td>\n      <td>27803</td>\n      <td>4439</td>\n      <td>46728</td>\n      <td>55606</td>\n      <td>2021-11-10</td>\n    </tr>\n    <tr>\n      <th>1</th>\n      <td># 49560</td>\n      <td># 2581</td>\n      <td>2021-11-10</td>\n      <td>2021-11-11</td>\n      <td>2021-11-10</td>\n      <td>Mercadeo y publicidad</td>\n      <td>Publicidad</td>\n      <td>Proveedor 2</td>\n      <td>Usuario solicitante 2</td>\n      <td>Usuario Aprobador 2</td>\n      <td>Direccion 1</td>\n      <td>NaN</td>\n      <td>Centro de costos 2</td>\n      <td>Presupuesto 2</td>\n      <td>Portal comprador 1</td>\n      <td>Recibido</td>\n      <td>ACTIVIDADES COMERCIALES</td>\n      <td>1K15774</td>\n      <td>1.00</td>\n      <td>1.00</td>\n      <td>1476972</td>\n      <td>1757597</td>\n      <td>280625</td>\n      <td>1476972</td>\n      <td>1757597</td>\n      <td>2021-11-10</td>\n    </tr>\n    <tr>\n      <th>2</th>\n      <td># 49559</td>\n      <td># 2580</td>\n      <td>2021-11-10</td>\n      <td>2021-11-10</td>\n      <td>2021-11-10</td>\n      <td>Alimentos y Bebidas</td>\n      <td>Alimentos preparados y conservados</td>\n      <td>Proveedor 3</td>\n      <td>Usuario solicitante 3</td>\n      <td>Usuario Aprobador 3</td>\n      <td>Direccion 2</td>\n      <td>NaN</td>\n      <td>Centro de costos 3</td>\n      <td>Presupuesto 3</td>\n      <td>Portal comprador 1</td>\n      <td>Orden en Proceso</td>\n      <td>Lasagna</td>\n      <td>1K7609</td>\n      <td>10.00</td>\n      <td>nan</td>\n      <td>15500</td>\n      <td>15500</td>\n      <td>0</td>\n      <td>155000</td>\n      <td>155000</td>\n      <td>2021-11-10</td>\n    </tr>\n    <tr>\n      <th>3</th>\n      <td># 49558</td>\n      <td># 1892</td>\n      <td>2021-11-10</td>\n      <td>2021-11-12</td>\n      <td>2021-11-10</td>\n      <td>Alimentos y Bebidas</td>\n      <td>Productos de carne y aves de corral</td>\n      <td>Proveedor 4</td>\n      <td>Usuario solicitante 4</td>\n      <td>Usuario Aprobador 4</td>\n      <td>Direccion 3</td>\n      <td>NaN</td>\n      <td>Centro de costos 4</td>\n      <td>Presupuesto 4</td>\n      <td>Portal comprador 2</td>\n      <td>Orden en Proceso</td>\n      <td>Pecho de Res Limpio/Sin Grasa</td>\n      <td>1K15459</td>\n      <td>50.00</td>\n      <td>nan</td>\n      <td>22000</td>\n      <td>22000</td>\n      <td>0</td>\n      <td>1100000</td>\n      <td>1100000</td>\n      <td>2021-11-10</td>\n    </tr>\n    <tr>\n      <th>4</th>\n      <td># 49557</td>\n      <td># 1</td>\n      <td>2021-11-10</td>\n      <td>2021-11-09</td>\n      <td>2021-11-10</td>\n      <td>Imprenta y litografía</td>\n      <td>Otra</td>\n      <td>Proveedor 5</td>\n      <td>Usuario solicitante 5</td>\n      <td>Usuario Aprobador 5</td>\n      <td>Direccion 4</td>\n      <td>NaN</td>\n      <td>NaN</td>\n      <td>NaN</td>\n      <td>Portal comprador 3</td>\n      <td>Recibido</td>\n      <td>LIBRO CABEZA, CORAZON Y MANOS</td>\n      <td>1K15761</td>\n      <td>7.00</td>\n      <td>7.00</td>\n      <td>92084</td>\n      <td>109580</td>\n      <td>17496</td>\n      <td>644588</td>\n      <td>767060</td>\n      <td>2021-11-10</td>\n    </tr>\n  </tbody>\n</table>\n</div>",
       "datasetInfos": [],
       "metadata": {},
       "removedWidgets": [],
       "textData": null,
       "type": "htmlSandbox"
      }
     },
     "output_type": "display_data"
    }
   ],
   "source": [
    "df.head()"
   ]
  },
  {
   "cell_type": "code",
   "execution_count": 0,
   "metadata": {
    "application/vnd.databricks.v1+cell": {
     "inputWidgets": {},
     "nuid": "c379e6a3-0f5b-43b1-bd57-1427bef61d3a",
     "showTitle": false,
     "title": ""
    }
   },
   "outputs": [
    {
     "data": {
      "text/html": [
       "<style scoped>\n",
       "  .ansiout {\n",
       "    display: block;\n",
       "    unicode-bidi: embed;\n",
       "    white-space: pre-wrap;\n",
       "    word-wrap: break-word;\n",
       "    word-break: break-all;\n",
       "    font-family: \"Source Code Pro\", \"Menlo\", monospace;;\n",
       "    font-size: 13px;\n",
       "    color: #555;\n",
       "    margin-left: 4px;\n",
       "    line-height: 19px;\n",
       "  }\n",
       "</style>\n",
       "<div class=\"ansiout\">Out[1062]: (23083, 26)</div>"
      ]
     },
     "metadata": {
      "application/vnd.databricks.v1+output": {
       "addedWidgets": {},
       "arguments": {},
       "data": "<div class=\"ansiout\">Out[1062]: (23083, 26)</div>",
       "datasetInfos": [],
       "metadata": {},
       "removedWidgets": [],
       "type": "html"
      }
     },
     "output_type": "display_data"
    }
   ],
   "source": [
    "df.shape"
   ]
  },
  {
   "cell_type": "markdown",
   "metadata": {
    "application/vnd.databricks.v1+cell": {
     "inputWidgets": {},
     "nuid": "554f651c-5263-4371-96ff-8b4fe0ca043d",
     "showTitle": false,
     "title": ""
    }
   },
   "source": [
    "# DATA PREPARATION"
   ]
  },
  {
   "cell_type": "markdown",
   "metadata": {
    "application/vnd.databricks.v1+cell": {
     "inputWidgets": {},
     "nuid": "ceb31641-7be0-430f-b201-78c846e21752",
     "showTitle": false,
     "title": ""
    }
   },
   "source": [
    "# 1. Data integration"
   ]
  },
  {
   "cell_type": "markdown",
   "metadata": {
    "application/vnd.databricks.v1+cell": {
     "inputWidgets": {},
     "nuid": "18252ff9-a238-4e5a-8c31-a9ee27ddaf1e",
     "showTitle": false,
     "title": ""
    }
   },
   "source": [
    "There are no more data integration to join. I have only the .xlsx file"
   ]
  },
  {
   "cell_type": "markdown",
   "metadata": {
    "application/vnd.databricks.v1+cell": {
     "inputWidgets": {},
     "nuid": "295b877c-9a80-49b6-8e82-b7e441cf2776",
     "showTitle": false,
     "title": ""
    }
   },
   "source": [
    "# 2. IRRELEVANT VARIABLES"
   ]
  },
  {
   "cell_type": "markdown",
   "metadata": {
    "application/vnd.databricks.v1+cell": {
     "inputWidgets": {},
     "nuid": "c57cc6a8-a50d-44cb-a967-1b4f0a850ac8",
     "showTitle": false,
     "title": ""
    }
   },
   "source": [
    "## 2.1 Duplicated rows"
   ]
  },
  {
   "cell_type": "code",
   "execution_count": 0,
   "metadata": {
    "application/vnd.databricks.v1+cell": {
     "inputWidgets": {},
     "nuid": "c1fe8f58-682a-4e73-a095-142ebcdd86a5",
     "showTitle": false,
     "title": ""
    }
   },
   "outputs": [
    {
     "data": {
      "text/html": [
       "<style scoped>\n",
       "  .ansiout {\n",
       "    display: block;\n",
       "    unicode-bidi: embed;\n",
       "    white-space: pre-wrap;\n",
       "    word-wrap: break-word;\n",
       "    word-break: break-all;\n",
       "    font-family: \"Source Code Pro\", \"Menlo\", monospace;;\n",
       "    font-size: 13px;\n",
       "    color: #555;\n",
       "    margin-left: 4px;\n",
       "    line-height: 19px;\n",
       "  }\n",
       "</style>\n",
       "<div class=\"ansiout\">Out[1063]: 691</div>"
      ]
     },
     "metadata": {
      "application/vnd.databricks.v1+output": {
       "addedWidgets": {},
       "arguments": {},
       "data": "<div class=\"ansiout\">Out[1063]: 691</div>",
       "datasetInfos": [],
       "metadata": {},
       "removedWidgets": [],
       "type": "html"
      }
     },
     "output_type": "display_data"
    }
   ],
   "source": [
    "df.duplicated(keep='first').sum()"
   ]
  },
  {
   "cell_type": "code",
   "execution_count": 0,
   "metadata": {
    "application/vnd.databricks.v1+cell": {
     "inputWidgets": {},
     "nuid": "33787317-826a-4b45-8c95-12233d9a711c",
     "showTitle": false,
     "title": ""
    }
   },
   "outputs": [
    {
     "data": {
      "text/html": [
       "<style scoped>\n",
       "  .ansiout {\n",
       "    display: block;\n",
       "    unicode-bidi: embed;\n",
       "    white-space: pre-wrap;\n",
       "    word-wrap: break-word;\n",
       "    word-break: break-all;\n",
       "    font-family: \"Source Code Pro\", \"Menlo\", monospace;;\n",
       "    font-size: 13px;\n",
       "    color: #555;\n",
       "    margin-left: 4px;\n",
       "    line-height: 19px;\n",
       "  }\n",
       "</style>\n",
       "<div class=\"ansiout\"></div>"
      ]
     },
     "metadata": {
      "application/vnd.databricks.v1+output": {
       "addedWidgets": {},
       "arguments": {},
       "data": "<div class=\"ansiout\"></div>",
       "datasetInfos": [],
       "metadata": {},
       "removedWidgets": [],
       "type": "html"
      }
     },
     "output_type": "display_data"
    }
   ],
   "source": [
    "df.drop_duplicates(keep='first', inplace=True)"
   ]
  },
  {
   "cell_type": "markdown",
   "metadata": {
    "application/vnd.databricks.v1+cell": {
     "inputWidgets": {},
     "nuid": "4e57bef3-001e-4956-bd06-0dfca987dee5",
     "showTitle": false,
     "title": ""
    }
   },
   "source": [
    "## 2.2 Irrelevant columns"
   ]
  },
  {
   "cell_type": "markdown",
   "metadata": {
    "application/vnd.databricks.v1+cell": {
     "inputWidgets": {},
     "nuid": "b4661ad5-9dbb-47ea-85a0-d829ed3796ec",
     "showTitle": false,
     "title": ""
    }
   },
   "source": [
    "Until we know the objective of this project, we couldn´t drop some variables, but for now, let´s do a clasical ML model"
   ]
  },
  {
   "cell_type": "code",
   "execution_count": 0,
   "metadata": {
    "application/vnd.databricks.v1+cell": {
     "inputWidgets": {},
     "nuid": "b46c5ef3-7dc2-4bdc-a61c-797e7cf7252f",
     "showTitle": false,
     "title": ""
    }
   },
   "outputs": [
    {
     "data": {
      "text/html": [
       "<style scoped>\n",
       "  .ansiout {\n",
       "    display: block;\n",
       "    unicode-bidi: embed;\n",
       "    white-space: pre-wrap;\n",
       "    word-wrap: break-word;\n",
       "    word-break: break-all;\n",
       "    font-family: \"Source Code Pro\", \"Menlo\", monospace;;\n",
       "    font-size: 13px;\n",
       "    color: #555;\n",
       "    margin-left: 4px;\n",
       "    line-height: 19px;\n",
       "  }\n",
       "</style>\n",
       "<div class=\"ansiout\">Out[1065]: </div>"
      ]
     },
     "metadata": {
      "application/vnd.databricks.v1+output": {
       "addedWidgets": {},
       "arguments": {},
       "data": "<div class=\"ansiout\">Out[1065]: </div>",
       "datasetInfos": [],
       "metadata": {},
       "removedWidgets": [],
       "type": "html"
      }
     },
     "output_type": "display_data"
    },
    {
     "data": {
      "text/html": [
       "<div>\n",
       "<style scoped>\n",
       "    .dataframe tbody tr th:only-of-type {\n",
       "        vertical-align: middle;\n",
       "    }\n",
       "\n",
       "    .dataframe tbody tr th {\n",
       "        vertical-align: top;\n",
       "    }\n",
       "\n",
       "    .dataframe thead th {\n",
       "        text-align: right;\n",
       "    }\n",
       "</style>\n",
       "<table border=\"1\" class=\"dataframe\">\n",
       "  <thead>\n",
       "    <tr style=\"text-align: right;\">\n",
       "      <th></th>\n",
       "      <th>NÚMERO PEDIDO</th>\n",
       "      <th>ORDEN NÚMERO</th>\n",
       "      <th>FECHA ORDEN</th>\n",
       "      <th>FECHA ENTREGA</th>\n",
       "      <th>FECHA APROBACION</th>\n",
       "      <th>CATEGORÍA</th>\n",
       "      <th>SUBCATEGORIA</th>\n",
       "      <th>PROVEEDOR</th>\n",
       "      <th>USUARIO</th>\n",
       "      <th>USUARIO APROBADOR</th>\n",
       "      <th>DIRECCION PEDIDO</th>\n",
       "      <th>DIRECCION FACTURACION</th>\n",
       "      <th>CENTRO DE COSTOS</th>\n",
       "      <th>PRESUPUESTO</th>\n",
       "      <th>PORTAL</th>\n",
       "      <th>ESTADO</th>\n",
       "      <th>PRODUCTO O SERVICIO</th>\n",
       "      <th>CODIGO PORTAL</th>\n",
       "      <th>CANTIDAD PEDIDA</th>\n",
       "      <th>CANTIDAD RECIBIDA</th>\n",
       "      <th>PRECIO UNITARIO</th>\n",
       "      <th>PRECIO UNITARIO + IVA</th>\n",
       "      <th>IVA</th>\n",
       "      <th>TOTAL SIN IVA</th>\n",
       "      <th>TOTAL + IVA</th>\n",
       "      <th>FECHA ULTIMO MOVIMIENTO</th>\n",
       "    </tr>\n",
       "  </thead>\n",
       "  <tbody>\n",
       "    <tr>\n",
       "      <th>0</th>\n",
       "      <td># 49561</td>\n",
       "      <td># 2582</td>\n",
       "      <td>2021-11-10</td>\n",
       "      <td>2021-11-10</td>\n",
       "      <td>2021-11-10</td>\n",
       "      <td>Eléctricos y Electrónicos</td>\n",
       "      <td>Lámparas y bombillas y componentes para lámparas</td>\n",
       "      <td>Proveedor 1</td>\n",
       "      <td>Usuario solicitante 1</td>\n",
       "      <td>Usuario Aprobador 1</td>\n",
       "      <td>Direccion 1</td>\n",
       "      <td>NaN</td>\n",
       "      <td>Centro de costos 1</td>\n",
       "      <td>Presupuesto 1</td>\n",
       "      <td>Portal comprador 1</td>\n",
       "      <td>Orden en Proceso</td>\n",
       "      <td>PANEL LED SOBREPONER 24W REDONDO LUZ BLANCA</td>\n",
       "      <td>1200035000063</td>\n",
       "      <td>2.00</td>\n",
       "      <td>nan</td>\n",
       "      <td>23364</td>\n",
       "      <td>27803</td>\n",
       "      <td>4439</td>\n",
       "      <td>46728</td>\n",
       "      <td>55606</td>\n",
       "      <td>2021-11-10</td>\n",
       "    </tr>\n",
       "    <tr>\n",
       "      <th>1</th>\n",
       "      <td># 49560</td>\n",
       "      <td># 2581</td>\n",
       "      <td>2021-11-10</td>\n",
       "      <td>2021-11-11</td>\n",
       "      <td>2021-11-10</td>\n",
       "      <td>Mercadeo y publicidad</td>\n",
       "      <td>Publicidad</td>\n",
       "      <td>Proveedor 2</td>\n",
       "      <td>Usuario solicitante 2</td>\n",
       "      <td>Usuario Aprobador 2</td>\n",
       "      <td>Direccion 1</td>\n",
       "      <td>NaN</td>\n",
       "      <td>Centro de costos 2</td>\n",
       "      <td>Presupuesto 2</td>\n",
       "      <td>Portal comprador 1</td>\n",
       "      <td>Recibido</td>\n",
       "      <td>ACTIVIDADES COMERCIALES</td>\n",
       "      <td>1K15774</td>\n",
       "      <td>1.00</td>\n",
       "      <td>1.00</td>\n",
       "      <td>1476972</td>\n",
       "      <td>1757597</td>\n",
       "      <td>280625</td>\n",
       "      <td>1476972</td>\n",
       "      <td>1757597</td>\n",
       "      <td>2021-11-10</td>\n",
       "    </tr>\n",
       "  </tbody>\n",
       "</table>\n",
       "</div>"
      ]
     },
     "metadata": {
      "application/vnd.databricks.v1+output": {
       "addedWidgets": {},
       "arguments": {},
       "data": "<div>\n<style scoped>\n    .dataframe tbody tr th:only-of-type {\n        vertical-align: middle;\n    }\n\n    .dataframe tbody tr th {\n        vertical-align: top;\n    }\n\n    .dataframe thead th {\n        text-align: right;\n    }\n</style>\n<table border=\"1\" class=\"dataframe\">\n  <thead>\n    <tr style=\"text-align: right;\">\n      <th></th>\n      <th>NÚMERO PEDIDO</th>\n      <th>ORDEN NÚMERO</th>\n      <th>FECHA ORDEN</th>\n      <th>FECHA ENTREGA</th>\n      <th>FECHA APROBACION</th>\n      <th>CATEGORÍA</th>\n      <th>SUBCATEGORIA</th>\n      <th>PROVEEDOR</th>\n      <th>USUARIO</th>\n      <th>USUARIO APROBADOR</th>\n      <th>DIRECCION PEDIDO</th>\n      <th>DIRECCION FACTURACION</th>\n      <th>CENTRO DE COSTOS</th>\n      <th>PRESUPUESTO</th>\n      <th>PORTAL</th>\n      <th>ESTADO</th>\n      <th>PRODUCTO O SERVICIO</th>\n      <th>CODIGO PORTAL</th>\n      <th>CANTIDAD PEDIDA</th>\n      <th>CANTIDAD RECIBIDA</th>\n      <th>PRECIO UNITARIO</th>\n      <th>PRECIO UNITARIO + IVA</th>\n      <th>IVA</th>\n      <th>TOTAL SIN IVA</th>\n      <th>TOTAL + IVA</th>\n      <th>FECHA ULTIMO MOVIMIENTO</th>\n    </tr>\n  </thead>\n  <tbody>\n    <tr>\n      <th>0</th>\n      <td># 49561</td>\n      <td># 2582</td>\n      <td>2021-11-10</td>\n      <td>2021-11-10</td>\n      <td>2021-11-10</td>\n      <td>Eléctricos y Electrónicos</td>\n      <td>Lámparas y bombillas y componentes para lámparas</td>\n      <td>Proveedor 1</td>\n      <td>Usuario solicitante 1</td>\n      <td>Usuario Aprobador 1</td>\n      <td>Direccion 1</td>\n      <td>NaN</td>\n      <td>Centro de costos 1</td>\n      <td>Presupuesto 1</td>\n      <td>Portal comprador 1</td>\n      <td>Orden en Proceso</td>\n      <td>PANEL LED SOBREPONER 24W REDONDO LUZ BLANCA</td>\n      <td>1200035000063</td>\n      <td>2.00</td>\n      <td>nan</td>\n      <td>23364</td>\n      <td>27803</td>\n      <td>4439</td>\n      <td>46728</td>\n      <td>55606</td>\n      <td>2021-11-10</td>\n    </tr>\n    <tr>\n      <th>1</th>\n      <td># 49560</td>\n      <td># 2581</td>\n      <td>2021-11-10</td>\n      <td>2021-11-11</td>\n      <td>2021-11-10</td>\n      <td>Mercadeo y publicidad</td>\n      <td>Publicidad</td>\n      <td>Proveedor 2</td>\n      <td>Usuario solicitante 2</td>\n      <td>Usuario Aprobador 2</td>\n      <td>Direccion 1</td>\n      <td>NaN</td>\n      <td>Centro de costos 2</td>\n      <td>Presupuesto 2</td>\n      <td>Portal comprador 1</td>\n      <td>Recibido</td>\n      <td>ACTIVIDADES COMERCIALES</td>\n      <td>1K15774</td>\n      <td>1.00</td>\n      <td>1.00</td>\n      <td>1476972</td>\n      <td>1757597</td>\n      <td>280625</td>\n      <td>1476972</td>\n      <td>1757597</td>\n      <td>2021-11-10</td>\n    </tr>\n  </tbody>\n</table>\n</div>",
       "datasetInfos": [],
       "metadata": {},
       "removedWidgets": [],
       "textData": null,
       "type": "htmlSandbox"
      }
     },
     "output_type": "display_data"
    }
   ],
   "source": [
    "df.head(2)"
   ]
  },
  {
   "cell_type": "code",
   "execution_count": 0,
   "metadata": {
    "application/vnd.databricks.v1+cell": {
     "inputWidgets": {},
     "nuid": "ac7c9459-3a52-4602-a4d0-fdca91e4f52d",
     "showTitle": false,
     "title": ""
    }
   },
   "outputs": [
    {
     "data": {
      "text/html": [
       "<style scoped>\n",
       "  .ansiout {\n",
       "    display: block;\n",
       "    unicode-bidi: embed;\n",
       "    white-space: pre-wrap;\n",
       "    word-wrap: break-word;\n",
       "    word-break: break-all;\n",
       "    font-family: \"Source Code Pro\", \"Menlo\", monospace;;\n",
       "    font-size: 13px;\n",
       "    color: #555;\n",
       "    margin-left: 4px;\n",
       "    line-height: 19px;\n",
       "  }\n",
       "</style>\n",
       "<div class=\"ansiout\">------------------ NÚMERO PEDIDO ------------------\n",
       "# 47594                   0.55\n",
       "# 47595                   0.55\n",
       "# 47951                   0.54\n",
       "# 49268                   0.50\n",
       "# 48135                   0.33\n",
       "                  ...         \n",
       "# 41032                   0.00\n",
       "# 40546                   0.00\n",
       "# 47165                   0.00\n",
       "# 38013                   0.00\n",
       "# 45192                   0.00\n",
       "Name: NÚMERO PEDIDO, Length: 7133, dtype: float64\n",
       "------------------ ORDEN NÚMERO ------------------\n",
       "# 3                      0.85\n",
       "# 4                      0.78\n",
       "# 7                      0.74\n",
       "# 22                     0.60\n",
       "# 2                      0.52\n",
       "                 ...         \n",
       "# 1980                   0.00\n",
       "# 2006                   0.00\n",
       "# 2030                   0.00\n",
       "# 2399                   0.00\n",
       "# 2470                   0.00\n",
       "Name: ORDEN NÚMERO, Length: 2584, dtype: float64\n",
       "------------------ FECHA ORDEN ------------------\n",
       "2019-11-30                   1.61\n",
       "2019-12-02                   1.36\n",
       "2019-11-27                   1.34\n",
       "2019-11-28                   1.32\n",
       "2021-06-15                   1.17\n",
       "                     ...         \n",
       "2020-05-11                   0.00\n",
       "2020-07-06                   0.00\n",
       "2020-02-25                   0.00\n",
       "2020-06-30                   0.00\n",
       "2018-09-28                   0.00\n",
       "Name: FECHA ORDEN, Length: 727, dtype: float64\n",
       "------------------ FECHA ENTREGA ------------------\n",
       "2019-11-30                   2.00\n",
       "2019-12-02                   1.69\n",
       "2019-11-27                   1.66\n",
       "2019-11-28                   1.63\n",
       "2021-07-30                   1.46\n",
       "                     ...         \n",
       "2020-03-06                   0.01\n",
       "2020-08-31                   0.01\n",
       "2020-03-23                   0.01\n",
       "2021-11-07                   0.01\n",
       "2020-10-03                   0.01\n",
       "Name: FECHA ENTREGA, Length: 531, dtype: float64\n",
       "------------------ FECHA APROBACION ------------------\n",
       "2020-01-24                  20.25\n",
       "2020-02-13                   3.04\n",
       "2020-06-10                   2.30\n",
       "2021-10-28                   1.11\n",
       "2021-08-05                   0.89\n",
       "                     ...         \n",
       "2020-09-09                   0.00\n",
       "2020-05-11                   0.00\n",
       "2020-02-26                   0.00\n",
       "2019-10-16                   0.00\n",
       "2019-03-18                   0.00\n",
       "Name: FECHA APROBACION, Length: 645, dtype: float64\n",
       "------------------ CATEGORÍA ------------------\n",
       "Alimentos y Bebidas                                          30.98\n",
       "Vigilancia y seguridad industrial                            27.01\n",
       "Aseo, Cafetería y Oficina                                    17.14\n",
       "Dotación y elementos de protección personal                   5.35\n",
       "Ferreteria                                                    3.53\n",
       "Almacenamiento y empaques                                     2.06\n",
       "Vehículos y repuestos                                         1.64\n",
       "Químicos y derivados                                          1.60\n",
       "Construcción y Mantenimiento                                  1.30\n",
       "Servicios Profesionales                                       1.10\n",
       "Mercadeo y publicidad                                         0.95\n",
       "Manufactura                                                   0.92\n",
       "Logística y transporte                                        0.84\n",
       "Eléctricos y Electrónicos                                     0.76\n",
       "Mobiliario y decoración                                       0.74\n",
       "Tecnología e información                                      0.69\n",
       "Textiles                                                      0.67\n",
       "Moda y accesorios                                             0.65\n",
       "Imprenta y litografía                                         0.43\n",
       "Ingeniería e Investigación                                    0.41\n",
       "Compras Sostenibles                                           0.21\n",
       "Gestión ambiental                                             0.19\n",
       "Salud y Medicina                                              0.19\n",
       "Hogar y electrodomésticos                                     0.15\n",
       "Vigilancia y seguridad                                        0.13\n",
       "Viajes, Eventos y Entretenimiento                             0.08\n",
       "Medicina y Salud                                              0.06\n",
       "Cuidado personal y Belleza                                    0.04\n",
       "Deporte y recreación                                          0.03\n",
       "Servicios Públicos                                            0.03\n",
       "Agroindustrial                                                0.02\n",
       "Minería                                                       0.02\n",
       "Generación y distribución de Energía                          0.02\n",
       "Gestión inmobiliaria                                          0.02\n",
       "Producción audiovisual                                        0.00\n",
       "Educación y formación empresarial                             0.00\n",
       "Name: CATEGORÍA, dtype: float64\n",
       "------------------ SUBCATEGORIA ------------------\n",
       "Seguridad y protección personal                            27.00\n",
       "Alimentos preparados y conservados                         10.01\n",
       "Elementos de aseo y limpieza                                8.92\n",
       "Elementos de papelería                                      7.23\n",
       "Bebidas                                                     5.93\n",
       "                                                    ...         \n",
       "Joyería                                                     0.00\n",
       "Componentes pasivos discretos                               0.00\n",
       "Medios impresos                                             0.00\n",
       "Instalaciones de tubos y tuberías                           0.00\n",
       "Extracción y producción de gas y petróleo                   0.00\n",
       "Name: SUBCATEGORIA, Length: 149, dtype: float64\n",
       "------------------ PROVEEDOR ------------------\n",
       "Proveedor 301                  24.29\n",
       "Proveedor 59                    6.93\n",
       "Proveedor 28                    6.34\n",
       "Proveedor 26                    5.43\n",
       "Proveedor 321                   4.33\n",
       "                        ...         \n",
       "Proveedor 375                   0.00\n",
       "Proveedor 246                   0.00\n",
       "Proveedor 199                   0.00\n",
       "Proveedor 319                   0.00\n",
       "Proveedor 312                   0.00\n",
       "Name: PROVEEDOR, Length: 405, dtype: float64\n",
       "------------------ USUARIO ------------------\n",
       "Usuario solicitante 122                  24.29\n",
       "Usuario solicitante 129                  14.83\n",
       "Usuario solicitante 4                     9.84\n",
       "Usuario solicitante 67                    7.16\n",
       "Usuario solicitante 11                    4.83\n",
       "                                  ...         \n",
       "Usuario solicitante 105                   0.00\n",
       "Usuario solicitante 124                   0.00\n",
       "Usuario solicitante 52                    0.00\n",
       "Usuario solicitante 108                   0.00\n",
       "Usuario solicitante 112                   0.00\n",
       "Name: USUARIO, Length: 136, dtype: float64\n",
       "------------------ USUARIO APROBADOR ------------------\n",
       "Usuario Aprobador 60                  25.58\n",
       "Usuario Aprobador 66                  15.53\n",
       "Usuario Aprobador 4                   10.09\n",
       "Usuario Aprobador 38                   7.05\n",
       "Usuario Aprobador 6                    6.69\n",
       "                               ...         \n",
       "Usuario Aprobador 44                   0.00\n",
       "Usuario Aprobador 5                    0.00\n",
       "Usuario Aprobador 71                   0.00\n",
       "Usuario Aprobador 65                   0.00\n",
       "Usuario Aprobador 39                   0.00\n",
       "Name: USUARIO APROBADOR, Length: 72, dtype: float64\n",
       "------------------ DIRECCION PEDIDO ------------------\n",
       "Direccion 3                    14.97\n",
       "Direccion 163                  14.83\n",
       "Direccion 2                     8.18\n",
       "Direccion 1                     6.30\n",
       "Direccion 43                    5.27\n",
       "                        ...         \n",
       "Direccion 54                    0.00\n",
       "Direccion 17                    0.00\n",
       "Direccion 46                    0.00\n",
       "Direccion 85                    0.00\n",
       "Direccion 20                    0.00\n",
       "Name: DIRECCION PEDIDO, Length: 177, dtype: float64\n",
       "------------------ DIRECCION FACTURACION ------------------\n",
       "Direccion facturacion 97                   32.75\n",
       "Direccion facturacion 98                    7.50\n",
       "Direccion facturacion 30                    4.77\n",
       "Direccion facturacion 42                    3.78\n",
       "Direccion facturacion 28                    2.97\n",
       "                                    ...         \n",
       "Direccion facturacion 50                    0.01\n",
       "Direccion facturacion 111                   0.01\n",
       "Direccion facturacion 19                    0.01\n",
       "Direccion facturacion 20                    0.01\n",
       "Direccion facturacion 112                   0.01\n",
       "Name: DIRECCION FACTURACION, Length: 112, dtype: float64\n",
       "------------------ CENTRO DE COSTOS ------------------\n",
       "Centro de costos 4                   11.09\n",
       "Centro de costos 45                  10.21\n",
       "Centro de costos 27                   7.49\n",
       "Centro de costos 11                   4.72\n",
       "Centro de costos 12                   4.49\n",
       "                              ...         \n",
       "Centro de costos 84                   0.01\n",
       "Centro de costos 83                   0.01\n",
       "Centro de costos 92                   0.01\n",
       "Centro de costos 81                   0.01\n",
       "Centro de costos 77                   0.01\n",
       "Name: CENTRO DE COSTOS, Length: 230, dtype: float64\n",
       "------------------ PRESUPUESTO ------------------\n",
       "Presupuesto 711                  18.62\n",
       "Presupuesto 719                  10.22\n",
       "Presupuesto 330                   1.91\n",
       "Presupuesto 395                   1.13\n",
       "Presupuesto 286                   1.04\n",
       "                          ...         \n",
       "Presupuesto 215                   0.01\n",
       "Presupuesto 450                   0.01\n",
       "Presupuesto 47                    0.01\n",
       "Presupuesto 509                   0.01\n",
       "Presupuesto 431                   0.01\n",
       "Name: PRESUPUESTO, Length: 921, dtype: float64\n",
       "------------------ PORTAL ------------------\n",
       "Portal comprador 1                   29.31\n",
       "Portal comprador 24                  24.29\n",
       "Portal comprador 2                   17.25\n",
       "Portal comprador 29                  14.83\n",
       "Portal comprador 6                    3.80\n",
       "Portal comprador 30                   3.39\n",
       "Portal comprador 4                    1.61\n",
       "Portal comprador 8                    1.42\n",
       "Portal comprador 5                    1.32\n",
       "Portal comprador 12                   0.96\n",
       "Portal comprador 18                   0.40\n",
       "Portal comprador 10                   0.31\n",
       "Portal comprador 7                    0.29\n",
       "Portal comprador 11                   0.23\n",
       "Portal comprador 27                   0.16\n",
       "Portal comprador 13                   0.15\n",
       "Portal comprador 20                   0.13\n",
       "Portal comprador 31                   0.07\n",
       "Portal comprador 21                   0.02\n",
       "Portal comprador 14                   0.01\n",
       "Portal comprador 28                   0.01\n",
       "Portal comprador 32                   0.01\n",
       "Portal comprador 26                   0.01\n",
       "Portal comprador 19                   0.00\n",
       "Portal comprador 25                   0.00\n",
       "Portal comprador 3                    0.00\n",
       "Portal comprador 33                   0.00\n",
       "Portal comprador 23                   0.00\n",
       "Portal comprador 15                   0.00\n",
       "Portal comprador 17                   0.00\n",
       "Portal comprador 9                    0.00\n",
       "Portal comprador 16                   0.00\n",
       "Portal comprador 22                   0.00\n",
       "Name: PORTAL, dtype: float64\n",
       "------------------ ESTADO ------------------\n",
       "Recibido                               63.38\n",
       "Orden en Proceso                       21.76\n",
       "Cancelado                               5.09\n",
       "Orden Rechazada                         4.52\n",
       "Finalizado Incompleto                   4.18\n",
       "Recibido Parcial                        0.73\n",
       "Pendiente por Aprobar                   0.23\n",
       "Orden Confirmada                        0.07\n",
       "Enviado                                 0.05\n",
       "Name: ESTADO, dtype: float64\n",
       "------------------ PRODUCTO O SERVICIO ------------------\n",
       "6 Bota de seguridad media caña dielectrica con puntera de seguridad                       3.45\n",
       "85 Overol industrial                                                                      1.46\n",
       "7 Botas de caucho con puntera negra caña alta                                             0.84\n",
       "30 Lentes de seguridad oscuro                                                             0.81\n",
       "8 Bota pvc de seguridad caña alta, dielectrica con puntera de seguridad                   0.78\n",
       "                                                                                  ...         \n",
       "JEANS ENVASADO UNIGAS HOMBRE Talla 40                                                     0.00\n",
       "Bolsa para Basura Blanca 55 X 55 Calibre 0,8 Paquete x100                                 0.00\n",
       "Cafe Bastilla x 500 gr                                                                    0.00\n",
       "CEMENTO BLANCO POR KILO                                                                   0.00\n",
       "BOTAS OPERATIVAS HOMBRE T-44                                                              0.00\n",
       "Name: PRODUCTO O SERVICIO, Length: 3445, dtype: float64\n",
       "------------------ CODIGO PORTAL ------------------\n",
       "289988                                 4.41\n",
       "247989                                 1.86\n",
       "289989                                 1.07\n",
       "289996                                 1.03\n",
       "289990                                 0.99\n",
       "                               ...         \n",
       "30475                                  0.01\n",
       "KIP-EST-4-1042521(E)                   0.01\n",
       "1K5763                                 0.01\n",
       "13227                                  0.01\n",
       "250005000006                           0.01\n",
       "Name: CODIGO PORTAL, Length: 2896, dtype: float64\n",
       "------------------ CANTIDAD PEDIDA ------------------\n",
       "    1.00                  19.46\n",
       "    2.00                  10.49\n",
       "    3.00                   5.98\n",
       "   10.00                   5.43\n",
       "    5.00                   5.03\n",
       "                   ...         \n",
       "  369.00                   0.00\n",
       "  113.00                   0.00\n",
       "1,435.00                   0.00\n",
       "  124.01                   0.00\n",
       "2,880.00                   0.00\n",
       "Name: CANTIDAD PEDIDA, Length: 403, dtype: float64\n",
       "------------------ CANTIDAD RECIBIDA ------------------\n",
       "  1.00                  21.67\n",
       "  2.00                  11.67\n",
       "  3.00                   7.01\n",
       "  5.00                   5.94\n",
       " 10.00                   5.89\n",
       "                 ...         \n",
       "622.00                   0.01\n",
       "330.00                   0.01\n",
       "318.00                   0.01\n",
       "650.00                   0.01\n",
       "369.00                   0.01\n",
       "Name: CANTIDAD RECIBIDA, Length: 382, dtype: float64\n",
       "------------------ PRECIO UNITARIO ------------------\n",
       "86555                     2.89\n",
       "62222                     1.36\n",
       "1282                      1.01\n",
       "8235                      0.88\n",
       "61067                     0.84\n",
       "                  ...         \n",
       "280                       0.00\n",
       "16704                     0.00\n",
       "1204548                   0.00\n",
       "328                       0.00\n",
       "216                       0.00\n",
       "Name: PRECIO UNITARIO, Length: 2371, dtype: float64\n",
       "------------------ PRECIO UNITARIO + IVA ------------------\n",
       "103000                     3.12\n",
       "74044                      1.42\n",
       "6000                       1.11\n",
       "1525                       1.01\n",
       "18000                      0.89\n",
       "                   ...         \n",
       "2975000                    0.00\n",
       "43400                      0.00\n",
       "27264244                   0.00\n",
       "26917                      0.00\n",
       "118256                     0.00\n",
       "Name: PRECIO UNITARIO + IVA, Length: 2443, dtype: float64\n",
       "------------------ IVA ------------------\n",
       "0                       17.95\n",
       "16445                    3.45\n",
       "11822                    1.46\n",
       "243                      1.01\n",
       "1565                     0.88\n",
       "                 ...         \n",
       "3641                     0.00\n",
       "48687                    0.00\n",
       "124372                   0.00\n",
       "21954                    0.00\n",
       "16720                    0.00\n",
       "Name: IVA, Length: 1827, dtype: float64\n",
       "------------------ TOTAL SIN IVA ------------------\n",
       "6000                      0.38\n",
       "30641                     0.33\n",
       "24000                     0.31\n",
       "432773                    0.30\n",
       "173109                    0.29\n",
       "                  ...         \n",
       "22113                     0.00\n",
       "225400                    0.00\n",
       "118                       0.00\n",
       "1063025                   0.00\n",
       "12282                     0.00\n",
       "Name: TOTAL SIN IVA, Length: 6281, dtype: float64\n",
       "------------------ TOTAL + IVA ------------------\n",
       "6000                      0.37\n",
       "36463                     0.33\n",
       "8000                      0.33\n",
       "24000                     0.32\n",
       "206000                    0.31\n",
       "                  ...         \n",
       "282556                    0.00\n",
       "1470000                   0.00\n",
       "5550000                   0.00\n",
       "489011                    0.00\n",
       "46912                     0.00\n",
       "Name: TOTAL + IVA, Length: 6333, dtype: float64\n",
       "------------------ FECHA ULTIMO MOVIMIENTO ------------------\n",
       "2020-01-24                  19.22\n",
       "2020-02-13                   2.89\n",
       "2020-06-10                   2.20\n",
       "2020-12-29                   1.30\n",
       "2021-05-20                   1.13\n",
       "                     ...         \n",
       "2019-06-14                   0.00\n",
       "2020-03-23                   0.00\n",
       "2018-11-28                   0.00\n",
       "2020-09-14                   0.00\n",
       "2019-09-25                   0.00\n",
       "Name: FECHA ULTIMO MOVIMIENTO, Length: 626, dtype: float64\n",
       "</div>"
      ]
     },
     "metadata": {
      "application/vnd.databricks.v1+output": {
       "addedWidgets": {},
       "arguments": {},
       "data": "<div class=\"ansiout\">------------------ NÚMERO PEDIDO ------------------\n# 47594                   0.55\n# 47595                   0.55\n# 47951                   0.54\n# 49268                   0.50\n# 48135                   0.33\n                  ...         \n# 41032                   0.00\n# 40546                   0.00\n# 47165                   0.00\n# 38013                   0.00\n# 45192                   0.00\nName: NÚMERO PEDIDO, Length: 7133, dtype: float64\n------------------ ORDEN NÚMERO ------------------\n# 3                      0.85\n# 4                      0.78\n# 7                      0.74\n# 22                     0.60\n# 2                      0.52\n                 ...         \n# 1980                   0.00\n# 2006                   0.00\n# 2030                   0.00\n# 2399                   0.00\n# 2470                   0.00\nName: ORDEN NÚMERO, Length: 2584, dtype: float64\n------------------ FECHA ORDEN ------------------\n2019-11-30                   1.61\n2019-12-02                   1.36\n2019-11-27                   1.34\n2019-11-28                   1.32\n2021-06-15                   1.17\n                     ...         \n2020-05-11                   0.00\n2020-07-06                   0.00\n2020-02-25                   0.00\n2020-06-30                   0.00\n2018-09-28                   0.00\nName: FECHA ORDEN, Length: 727, dtype: float64\n------------------ FECHA ENTREGA ------------------\n2019-11-30                   2.00\n2019-12-02                   1.69\n2019-11-27                   1.66\n2019-11-28                   1.63\n2021-07-30                   1.46\n                     ...         \n2020-03-06                   0.01\n2020-08-31                   0.01\n2020-03-23                   0.01\n2021-11-07                   0.01\n2020-10-03                   0.01\nName: FECHA ENTREGA, Length: 531, dtype: float64\n------------------ FECHA APROBACION ------------------\n2020-01-24                  20.25\n2020-02-13                   3.04\n2020-06-10                   2.30\n2021-10-28                   1.11\n2021-08-05                   0.89\n                     ...         \n2020-09-09                   0.00\n2020-05-11                   0.00\n2020-02-26                   0.00\n2019-10-16                   0.00\n2019-03-18                   0.00\nName: FECHA APROBACION, Length: 645, dtype: float64\n------------------ CATEGORÍA ------------------\nAlimentos y Bebidas                                          30.98\nVigilancia y seguridad industrial                            27.01\nAseo, Cafetería y Oficina                                    17.14\nDotación y elementos de protección personal                   5.35\nFerreteria                                                    3.53\nAlmacenamiento y empaques                                     2.06\nVehículos y repuestos                                         1.64\nQuímicos y derivados                                          1.60\nConstrucción y Mantenimiento                                  1.30\nServicios Profesionales                                       1.10\nMercadeo y publicidad                                         0.95\nManufactura                                                   0.92\nLogística y transporte                                        0.84\nEléctricos y Electrónicos                                     0.76\nMobiliario y decoración                                       0.74\nTecnología e información                                      0.69\nTextiles                                                      0.67\nModa y accesorios                                             0.65\nImprenta y litografía                                         0.43\nIngeniería e Investigación                                    0.41\nCompras Sostenibles                                           0.21\nGestión ambiental                                             0.19\nSalud y Medicina                                              0.19\nHogar y electrodomésticos                                     0.15\nVigilancia y seguridad                                        0.13\nViajes, Eventos y Entretenimiento                             0.08\nMedicina y Salud                                              0.06\nCuidado personal y Belleza                                    0.04\nDeporte y recreación                                          0.03\nServicios Públicos                                            0.03\nAgroindustrial                                                0.02\nMinería                                                       0.02\nGeneración y distribución de Energía                          0.02\nGestión inmobiliaria                                          0.02\nProducción audiovisual                                        0.00\nEducación y formación empresarial                             0.00\nName: CATEGORÍA, dtype: float64\n------------------ SUBCATEGORIA ------------------\nSeguridad y protección personal                            27.00\nAlimentos preparados y conservados                         10.01\nElementos de aseo y limpieza                                8.92\nElementos de papelería                                      7.23\nBebidas                                                     5.93\n                                                    ...         \nJoyería                                                     0.00\nComponentes pasivos discretos                               0.00\nMedios impresos                                             0.00\nInstalaciones de tubos y tuberías                           0.00\nExtracción y producción de gas y petróleo                   0.00\nName: SUBCATEGORIA, Length: 149, dtype: float64\n------------------ PROVEEDOR ------------------\nProveedor 301                  24.29\nProveedor 59                    6.93\nProveedor 28                    6.34\nProveedor 26                    5.43\nProveedor 321                   4.33\n                        ...         \nProveedor 375                   0.00\nProveedor 246                   0.00\nProveedor 199                   0.00\nProveedor 319                   0.00\nProveedor 312                   0.00\nName: PROVEEDOR, Length: 405, dtype: float64\n------------------ USUARIO ------------------\nUsuario solicitante 122                  24.29\nUsuario solicitante 129                  14.83\nUsuario solicitante 4                     9.84\nUsuario solicitante 67                    7.16\nUsuario solicitante 11                    4.83\n                                  ...         \nUsuario solicitante 105                   0.00\nUsuario solicitante 124                   0.00\nUsuario solicitante 52                    0.00\nUsuario solicitante 108                   0.00\nUsuario solicitante 112                   0.00\nName: USUARIO, Length: 136, dtype: float64\n------------------ USUARIO APROBADOR ------------------\nUsuario Aprobador 60                  25.58\nUsuario Aprobador 66                  15.53\nUsuario Aprobador 4                   10.09\nUsuario Aprobador 38                   7.05\nUsuario Aprobador 6                    6.69\n                               ...         \nUsuario Aprobador 44                   0.00\nUsuario Aprobador 5                    0.00\nUsuario Aprobador 71                   0.00\nUsuario Aprobador 65                   0.00\nUsuario Aprobador 39                   0.00\nName: USUARIO APROBADOR, Length: 72, dtype: float64\n------------------ DIRECCION PEDIDO ------------------\nDireccion 3                    14.97\nDireccion 163                  14.83\nDireccion 2                     8.18\nDireccion 1                     6.30\nDireccion 43                    5.27\n                        ...         \nDireccion 54                    0.00\nDireccion 17                    0.00\nDireccion 46                    0.00\nDireccion 85                    0.00\nDireccion 20                    0.00\nName: DIRECCION PEDIDO, Length: 177, dtype: float64\n------------------ DIRECCION FACTURACION ------------------\nDireccion facturacion 97                   32.75\nDireccion facturacion 98                    7.50\nDireccion facturacion 30                    4.77\nDireccion facturacion 42                    3.78\nDireccion facturacion 28                    2.97\n                                    ...         \nDireccion facturacion 50                    0.01\nDireccion facturacion 111                   0.01\nDireccion facturacion 19                    0.01\nDireccion facturacion 20                    0.01\nDireccion facturacion 112                   0.01\nName: DIRECCION FACTURACION, Length: 112, dtype: float64\n------------------ CENTRO DE COSTOS ------------------\nCentro de costos 4                   11.09\nCentro de costos 45                  10.21\nCentro de costos 27                   7.49\nCentro de costos 11                   4.72\nCentro de costos 12                   4.49\n                              ...         \nCentro de costos 84                   0.01\nCentro de costos 83                   0.01\nCentro de costos 92                   0.01\nCentro de costos 81                   0.01\nCentro de costos 77                   0.01\nName: CENTRO DE COSTOS, Length: 230, dtype: float64\n------------------ PRESUPUESTO ------------------\nPresupuesto 711                  18.62\nPresupuesto 719                  10.22\nPresupuesto 330                   1.91\nPresupuesto 395                   1.13\nPresupuesto 286                   1.04\n                          ...         \nPresupuesto 215                   0.01\nPresupuesto 450                   0.01\nPresupuesto 47                    0.01\nPresupuesto 509                   0.01\nPresupuesto 431                   0.01\nName: PRESUPUESTO, Length: 921, dtype: float64\n------------------ PORTAL ------------------\nPortal comprador 1                   29.31\nPortal comprador 24                  24.29\nPortal comprador 2                   17.25\nPortal comprador 29                  14.83\nPortal comprador 6                    3.80\nPortal comprador 30                   3.39\nPortal comprador 4                    1.61\nPortal comprador 8                    1.42\nPortal comprador 5                    1.32\nPortal comprador 12                   0.96\nPortal comprador 18                   0.40\nPortal comprador 10                   0.31\nPortal comprador 7                    0.29\nPortal comprador 11                   0.23\nPortal comprador 27                   0.16\nPortal comprador 13                   0.15\nPortal comprador 20                   0.13\nPortal comprador 31                   0.07\nPortal comprador 21                   0.02\nPortal comprador 14                   0.01\nPortal comprador 28                   0.01\nPortal comprador 32                   0.01\nPortal comprador 26                   0.01\nPortal comprador 19                   0.00\nPortal comprador 25                   0.00\nPortal comprador 3                    0.00\nPortal comprador 33                   0.00\nPortal comprador 23                   0.00\nPortal comprador 15                   0.00\nPortal comprador 17                   0.00\nPortal comprador 9                    0.00\nPortal comprador 16                   0.00\nPortal comprador 22                   0.00\nName: PORTAL, dtype: float64\n------------------ ESTADO ------------------\nRecibido                               63.38\nOrden en Proceso                       21.76\nCancelado                               5.09\nOrden Rechazada                         4.52\nFinalizado Incompleto                   4.18\nRecibido Parcial                        0.73\nPendiente por Aprobar                   0.23\nOrden Confirmada                        0.07\nEnviado                                 0.05\nName: ESTADO, dtype: float64\n------------------ PRODUCTO O SERVICIO ------------------\n6 Bota de seguridad media caña dielectrica con puntera de seguridad                       3.45\n85 Overol industrial                                                                      1.46\n7 Botas de caucho con puntera negra caña alta                                             0.84\n30 Lentes de seguridad oscuro                                                             0.81\n8 Bota pvc de seguridad caña alta, dielectrica con puntera de seguridad                   0.78\n                                                                                  ...         \nJEANS ENVASADO UNIGAS HOMBRE Talla 40                                                     0.00\nBolsa para Basura Blanca 55 X 55 Calibre 0,8 Paquete x100                                 0.00\nCafe Bastilla x 500 gr                                                                    0.00\nCEMENTO BLANCO POR KILO                                                                   0.00\nBOTAS OPERATIVAS HOMBRE T-44                                                              0.00\nName: PRODUCTO O SERVICIO, Length: 3445, dtype: float64\n------------------ CODIGO PORTAL ------------------\n289988                                 4.41\n247989                                 1.86\n289989                                 1.07\n289996                                 1.03\n289990                                 0.99\n                               ...         \n30475                                  0.01\nKIP-EST-4-1042521(E)                   0.01\n1K5763                                 0.01\n13227                                  0.01\n250005000006                           0.01\nName: CODIGO PORTAL, Length: 2896, dtype: float64\n------------------ CANTIDAD PEDIDA ------------------\n    1.00                  19.46\n    2.00                  10.49\n    3.00                   5.98\n   10.00                   5.43\n    5.00                   5.03\n                   ...         \n  369.00                   0.00\n  113.00                   0.00\n1,435.00                   0.00\n  124.01                   0.00\n2,880.00                   0.00\nName: CANTIDAD PEDIDA, Length: 403, dtype: float64\n------------------ CANTIDAD RECIBIDA ------------------\n  1.00                  21.67\n  2.00                  11.67\n  3.00                   7.01\n  5.00                   5.94\n 10.00                   5.89\n                 ...         \n622.00                   0.01\n330.00                   0.01\n318.00                   0.01\n650.00                   0.01\n369.00                   0.01\nName: CANTIDAD RECIBIDA, Length: 382, dtype: float64\n------------------ PRECIO UNITARIO ------------------\n86555                     2.89\n62222                     1.36\n1282                      1.01\n8235                      0.88\n61067                     0.84\n                  ...         \n280                       0.00\n16704                     0.00\n1204548                   0.00\n328                       0.00\n216                       0.00\nName: PRECIO UNITARIO, Length: 2371, dtype: float64\n------------------ PRECIO UNITARIO + IVA ------------------\n103000                     3.12\n74044                      1.42\n6000                       1.11\n1525                       1.01\n18000                      0.89\n                   ...         \n2975000                    0.00\n43400                      0.00\n27264244                   0.00\n26917                      0.00\n118256                     0.00\nName: PRECIO UNITARIO + IVA, Length: 2443, dtype: float64\n------------------ IVA ------------------\n0                       17.95\n16445                    3.45\n11822                    1.46\n243                      1.01\n1565                     0.88\n                 ...         \n3641                     0.00\n48687                    0.00\n124372                   0.00\n21954                    0.00\n16720                    0.00\nName: IVA, Length: 1827, dtype: float64\n------------------ TOTAL SIN IVA ------------------\n6000                      0.38\n30641                     0.33\n24000                     0.31\n432773                    0.30\n173109                    0.29\n                  ...         \n22113                     0.00\n225400                    0.00\n118                       0.00\n1063025                   0.00\n12282                     0.00\nName: TOTAL SIN IVA, Length: 6281, dtype: float64\n------------------ TOTAL + IVA ------------------\n6000                      0.37\n36463                     0.33\n8000                      0.33\n24000                     0.32\n206000                    0.31\n                  ...         \n282556                    0.00\n1470000                   0.00\n5550000                   0.00\n489011                    0.00\n46912                     0.00\nName: TOTAL + IVA, Length: 6333, dtype: float64\n------------------ FECHA ULTIMO MOVIMIENTO ------------------\n2020-01-24                  19.22\n2020-02-13                   2.89\n2020-06-10                   2.20\n2020-12-29                   1.30\n2021-05-20                   1.13\n                     ...         \n2019-06-14                   0.00\n2020-03-23                   0.00\n2018-11-28                   0.00\n2020-09-14                   0.00\n2019-09-25                   0.00\nName: FECHA ULTIMO MOVIMIENTO, Length: 626, dtype: float64\n</div>",
       "datasetInfos": [],
       "metadata": {},
       "removedWidgets": [],
       "type": "html"
      }
     },
     "output_type": "display_data"
    }
   ],
   "source": [
    "for i in df.columns:\n",
    "    print('------------------', i, '------------------' )\n",
    "    percentage = df[i].value_counts()/df[i].count()*100\n",
    "    \n",
    "    print(percentage)"
   ]
  },
  {
   "cell_type": "code",
   "execution_count": 0,
   "metadata": {
    "application/vnd.databricks.v1+cell": {
     "inputWidgets": {},
     "nuid": "18460d67-c3ea-4076-b520-fcace14c815c",
     "showTitle": false,
     "title": ""
    }
   },
   "outputs": [
    {
     "data": {
      "text/html": [
       "<style scoped>\n",
       "  .ansiout {\n",
       "    display: block;\n",
       "    unicode-bidi: embed;\n",
       "    white-space: pre-wrap;\n",
       "    word-wrap: break-word;\n",
       "    word-break: break-all;\n",
       "    font-family: \"Source Code Pro\", \"Menlo\", monospace;;\n",
       "    font-size: 13px;\n",
       "    color: #555;\n",
       "    margin-left: 4px;\n",
       "    line-height: 19px;\n",
       "  }\n",
       "</style>\n",
       "<div class=\"ansiout\"></div>"
      ]
     },
     "metadata": {
      "application/vnd.databricks.v1+output": {
       "addedWidgets": {},
       "arguments": {},
       "data": "<div class=\"ansiout\"></div>",
       "datasetInfos": [],
       "metadata": {},
       "removedWidgets": [],
       "type": "html"
      }
     },
     "output_type": "display_data"
    }
   ],
   "source": [
    "df.columns = df.columns.str.replace(' ', '_')"
   ]
  },
  {
   "cell_type": "code",
   "execution_count": 0,
   "metadata": {
    "application/vnd.databricks.v1+cell": {
     "inputWidgets": {},
     "nuid": "e7d51c37-c750-4ca9-8fee-91a48c54c964",
     "showTitle": false,
     "title": ""
    }
   },
   "outputs": [
    {
     "data": {
      "text/html": [
       "<style scoped>\n",
       "  .ansiout {\n",
       "    display: block;\n",
       "    unicode-bidi: embed;\n",
       "    white-space: pre-wrap;\n",
       "    word-wrap: break-word;\n",
       "    word-break: break-all;\n",
       "    font-family: \"Source Code Pro\", \"Menlo\", monospace;;\n",
       "    font-size: 13px;\n",
       "    color: #555;\n",
       "    margin-left: 4px;\n",
       "    line-height: 19px;\n",
       "  }\n",
       "</style>\n",
       "<div class=\"ansiout\">Out[1068]: Index([&#39;NÚMERO_PEDIDO&#39;, &#39;ORDEN_NÚMERO&#39;, &#39;FECHA_ORDEN&#39;, &#39;FECHA_ENTREGA&#39;,\n",
       "       &#39;FECHA_APROBACION&#39;, &#39;CATEGORÍA&#39;, &#39;SUBCATEGORIA&#39;, &#39;PROVEEDOR&#39;, &#39;USUARIO&#39;,\n",
       "       &#39;USUARIO_APROBADOR&#39;, &#39;DIRECCION_PEDIDO&#39;, &#39;DIRECCION_FACTURACION&#39;,\n",
       "       &#39;CENTRO_DE_COSTOS&#39;, &#39;PRESUPUESTO&#39;, &#39;PORTAL&#39;, &#39;ESTADO&#39;,\n",
       "       &#39;PRODUCTO_O_SERVICIO&#39;, &#39;CODIGO_PORTAL&#39;, &#39;CANTIDAD_PEDIDA&#39;,\n",
       "       &#39;CANTIDAD_RECIBIDA&#39;, &#39;PRECIO_UNITARIO&#39;, &#39;PRECIO_UNITARIO_+_IVA&#39;, &#39;IVA&#39;,\n",
       "       &#39;TOTAL_SIN_IVA&#39;, &#39;TOTAL_+_IVA&#39;, &#39;FECHA_ULTIMO_MOVIMIENTO&#39;],\n",
       "      dtype=&#39;object&#39;)</div>"
      ]
     },
     "metadata": {
      "application/vnd.databricks.v1+output": {
       "addedWidgets": {},
       "arguments": {},
       "data": "<div class=\"ansiout\">Out[1068]: Index([&#39;NÚMERO_PEDIDO&#39;, &#39;ORDEN_NÚMERO&#39;, &#39;FECHA_ORDEN&#39;, &#39;FECHA_ENTREGA&#39;,\n       &#39;FECHA_APROBACION&#39;, &#39;CATEGORÍA&#39;, &#39;SUBCATEGORIA&#39;, &#39;PROVEEDOR&#39;, &#39;USUARIO&#39;,\n       &#39;USUARIO_APROBADOR&#39;, &#39;DIRECCION_PEDIDO&#39;, &#39;DIRECCION_FACTURACION&#39;,\n       &#39;CENTRO_DE_COSTOS&#39;, &#39;PRESUPUESTO&#39;, &#39;PORTAL&#39;, &#39;ESTADO&#39;,\n       &#39;PRODUCTO_O_SERVICIO&#39;, &#39;CODIGO_PORTAL&#39;, &#39;CANTIDAD_PEDIDA&#39;,\n       &#39;CANTIDAD_RECIBIDA&#39;, &#39;PRECIO_UNITARIO&#39;, &#39;PRECIO_UNITARIO_+_IVA&#39;, &#39;IVA&#39;,\n       &#39;TOTAL_SIN_IVA&#39;, &#39;TOTAL_+_IVA&#39;, &#39;FECHA_ULTIMO_MOVIMIENTO&#39;],\n      dtype=&#39;object&#39;)</div>",
       "datasetInfos": [],
       "metadata": {},
       "removedWidgets": [],
       "type": "html"
      }
     },
     "output_type": "display_data"
    }
   ],
   "source": [
    "df.columns"
   ]
  },
  {
   "cell_type": "code",
   "execution_count": 0,
   "metadata": {
    "application/vnd.databricks.v1+cell": {
     "inputWidgets": {},
     "nuid": "61d2b38c-aa85-4a9b-acde-d713234fabe6",
     "showTitle": false,
     "title": ""
    }
   },
   "outputs": [
    {
     "data": {
      "text/html": [
       "<style scoped>\n",
       "  .ansiout {\n",
       "    display: block;\n",
       "    unicode-bidi: embed;\n",
       "    white-space: pre-wrap;\n",
       "    word-wrap: break-word;\n",
       "    word-break: break-all;\n",
       "    font-family: \"Source Code Pro\", \"Menlo\", monospace;;\n",
       "    font-size: 13px;\n",
       "    color: #555;\n",
       "    margin-left: 4px;\n",
       "    line-height: 19px;\n",
       "  }\n",
       "</style>\n",
       "<div class=\"ansiout\"></div>"
      ]
     },
     "metadata": {
      "application/vnd.databricks.v1+output": {
       "addedWidgets": {},
       "arguments": {},
       "data": "<div class=\"ansiout\"></div>",
       "datasetInfos": [],
       "metadata": {},
       "removedWidgets": [],
       "type": "html"
      }
     },
     "output_type": "display_data"
    }
   ],
   "source": [
    "cols_to_drop = ['NÚMERO_PEDIDO', 'ORDEN_NÚMERO', 'FECHA_ENTREGA','FECHA_APROBACION', 'USUARIO', 'USUARIO_APROBADOR', \n",
    "                'DIRECCION_PEDIDO', 'DIRECCION_FACTURACION', 'CENTRO_DE_COSTOS', 'PRESUPUESTO', 'CODIGO_PORTAL', \n",
    "                'PRECIO_UNITARIO_+_IVA', 'TOTAL_+_IVA', 'FECHA_ULTIMO_MOVIMIENTO'\n",
    "               ]"
   ]
  },
  {
   "cell_type": "code",
   "execution_count": 0,
   "metadata": {
    "application/vnd.databricks.v1+cell": {
     "inputWidgets": {},
     "nuid": "1cb65a77-9ff9-496f-a8bb-fe741795d75f",
     "showTitle": false,
     "title": ""
    }
   },
   "outputs": [
    {
     "data": {
      "text/html": [
       "<style scoped>\n",
       "  .ansiout {\n",
       "    display: block;\n",
       "    unicode-bidi: embed;\n",
       "    white-space: pre-wrap;\n",
       "    word-wrap: break-word;\n",
       "    word-break: break-all;\n",
       "    font-family: \"Source Code Pro\", \"Menlo\", monospace;;\n",
       "    font-size: 13px;\n",
       "    color: #555;\n",
       "    margin-left: 4px;\n",
       "    line-height: 19px;\n",
       "  }\n",
       "</style>\n",
       "<div class=\"ansiout\"></div>"
      ]
     },
     "metadata": {
      "application/vnd.databricks.v1+output": {
       "addedWidgets": {},
       "arguments": {},
       "data": "<div class=\"ansiout\"></div>",
       "datasetInfos": [],
       "metadata": {},
       "removedWidgets": [],
       "type": "html"
      }
     },
     "output_type": "display_data"
    }
   ],
   "source": [
    "df.drop(cols_to_drop, inplace=True, axis=1)"
   ]
  },
  {
   "cell_type": "code",
   "execution_count": 0,
   "metadata": {
    "application/vnd.databricks.v1+cell": {
     "inputWidgets": {},
     "nuid": "5e212aaf-028d-4561-b00f-3857c1358c79",
     "showTitle": false,
     "title": ""
    }
   },
   "outputs": [
    {
     "data": {
      "text/html": [
       "<style scoped>\n",
       "  .ansiout {\n",
       "    display: block;\n",
       "    unicode-bidi: embed;\n",
       "    white-space: pre-wrap;\n",
       "    word-wrap: break-word;\n",
       "    word-break: break-all;\n",
       "    font-family: \"Source Code Pro\", \"Menlo\", monospace;;\n",
       "    font-size: 13px;\n",
       "    color: #555;\n",
       "    margin-left: 4px;\n",
       "    line-height: 19px;\n",
       "  }\n",
       "</style>\n",
       "<div class=\"ansiout\">&lt;class &#39;pandas.core.frame.DataFrame&#39;&gt;\n",
       "Int64Index: 22392 entries, 0 to 23082\n",
       "Data columns (total 12 columns):\n",
       " #   Column               Non-Null Count  Dtype  \n",
       "---  ------               --------------  -----  \n",
       " 0   FECHA_ORDEN          22392 non-null  object \n",
       " 1   CATEGORÍA            22392 non-null  object \n",
       " 2   SUBCATEGORIA         22392 non-null  object \n",
       " 3   PROVEEDOR            22392 non-null  object \n",
       " 4   PORTAL               22392 non-null  object \n",
       " 5   ESTADO               22392 non-null  object \n",
       " 6   PRODUCTO_O_SERVICIO  22392 non-null  object \n",
       " 7   CANTIDAD_PEDIDA      22392 non-null  float64\n",
       " 8   CANTIDAD_RECIBIDA    15325 non-null  float64\n",
       " 9   PRECIO_UNITARIO      22392 non-null  int64  \n",
       " 10  IVA                  22392 non-null  int64  \n",
       " 11  TOTAL_SIN_IVA        22392 non-null  int64  \n",
       "dtypes: float64(2), int64(3), object(7)\n",
       "memory usage: 2.2+ MB\n",
       "</div>"
      ]
     },
     "metadata": {
      "application/vnd.databricks.v1+output": {
       "addedWidgets": {},
       "arguments": {},
       "data": "<div class=\"ansiout\">&lt;class &#39;pandas.core.frame.DataFrame&#39;&gt;\nInt64Index: 22392 entries, 0 to 23082\nData columns (total 12 columns):\n #   Column               Non-Null Count  Dtype  \n---  ------               --------------  -----  \n 0   FECHA_ORDEN          22392 non-null  object \n 1   CATEGORÍA            22392 non-null  object \n 2   SUBCATEGORIA         22392 non-null  object \n 3   PROVEEDOR            22392 non-null  object \n 4   PORTAL               22392 non-null  object \n 5   ESTADO               22392 non-null  object \n 6   PRODUCTO_O_SERVICIO  22392 non-null  object \n 7   CANTIDAD_PEDIDA      22392 non-null  float64\n 8   CANTIDAD_RECIBIDA    15325 non-null  float64\n 9   PRECIO_UNITARIO      22392 non-null  int64  \n 10  IVA                  22392 non-null  int64  \n 11  TOTAL_SIN_IVA        22392 non-null  int64  \ndtypes: float64(2), int64(3), object(7)\nmemory usage: 2.2+ MB\n</div>",
       "datasetInfos": [],
       "metadata": {},
       "removedWidgets": [],
       "type": "html"
      }
     },
     "output_type": "display_data"
    }
   ],
   "source": [
    "df.info()"
   ]
  },
  {
   "cell_type": "markdown",
   "metadata": {
    "application/vnd.databricks.v1+cell": {
     "inputWidgets": {},
     "nuid": "0cccfe14-7ebd-4fe8-8f3b-5436e0fca54f",
     "showTitle": false,
     "title": ""
    }
   },
   "source": [
    "# 3. STATISTICAL DESCRIPTION"
   ]
  },
  {
   "cell_type": "code",
   "execution_count": 0,
   "metadata": {
    "application/vnd.databricks.v1+cell": {
     "inputWidgets": {},
     "nuid": "e147a98b-9f2d-4d6c-b4f1-726325670f63",
     "showTitle": false,
     "title": ""
    }
   },
   "outputs": [
    {
     "data": {
      "text/html": [
       "<style scoped>\n",
       "  .ansiout {\n",
       "    display: block;\n",
       "    unicode-bidi: embed;\n",
       "    white-space: pre-wrap;\n",
       "    word-wrap: break-word;\n",
       "    word-break: break-all;\n",
       "    font-family: \"Source Code Pro\", \"Menlo\", monospace;;\n",
       "    font-size: 13px;\n",
       "    color: #555;\n",
       "    margin-left: 4px;\n",
       "    line-height: 19px;\n",
       "  }\n",
       "</style>\n",
       "<div class=\"ansiout\">Out[1072]: </div>"
      ]
     },
     "metadata": {
      "application/vnd.databricks.v1+output": {
       "addedWidgets": {},
       "arguments": {},
       "data": "<div class=\"ansiout\">Out[1072]: </div>",
       "datasetInfos": [],
       "metadata": {},
       "removedWidgets": [],
       "type": "html"
      }
     },
     "output_type": "display_data"
    },
    {
     "data": {
      "text/html": [
       "<div>\n",
       "<style scoped>\n",
       "    .dataframe tbody tr th:only-of-type {\n",
       "        vertical-align: middle;\n",
       "    }\n",
       "\n",
       "    .dataframe tbody tr th {\n",
       "        vertical-align: top;\n",
       "    }\n",
       "\n",
       "    .dataframe thead th {\n",
       "        text-align: right;\n",
       "    }\n",
       "</style>\n",
       "<table border=\"1\" class=\"dataframe\">\n",
       "  <thead>\n",
       "    <tr style=\"text-align: right;\">\n",
       "      <th></th>\n",
       "      <th>CANTIDAD_PEDIDA</th>\n",
       "      <th>CANTIDAD_RECIBIDA</th>\n",
       "      <th>PRECIO_UNITARIO</th>\n",
       "      <th>IVA</th>\n",
       "      <th>TOTAL_SIN_IVA</th>\n",
       "    </tr>\n",
       "  </thead>\n",
       "  <tbody>\n",
       "    <tr>\n",
       "      <th>count</th>\n",
       "      <td>22,392.00</td>\n",
       "      <td>15,325.00</td>\n",
       "      <td>22,392.00</td>\n",
       "      <td>22,392.00</td>\n",
       "      <td>22,392.00</td>\n",
       "    </tr>\n",
       "    <tr>\n",
       "      <th>mean</th>\n",
       "      <td>196.68</td>\n",
       "      <td>72.36</td>\n",
       "      <td>74,075.31</td>\n",
       "      <td>11,499.70</td>\n",
       "      <td>477,558.94</td>\n",
       "    </tr>\n",
       "    <tr>\n",
       "      <th>std</th>\n",
       "      <td>1,976.19</td>\n",
       "      <td>1,063.97</td>\n",
       "      <td>644,263.68</td>\n",
       "      <td>104,931.32</td>\n",
       "      <td>3,160,637.57</td>\n",
       "    </tr>\n",
       "    <tr>\n",
       "      <th>min</th>\n",
       "      <td>0.27</td>\n",
       "      <td>0.00</td>\n",
       "      <td>0.00</td>\n",
       "      <td>0.00</td>\n",
       "      <td>0.00</td>\n",
       "    </tr>\n",
       "    <tr>\n",
       "      <th>25%</th>\n",
       "      <td>2.00</td>\n",
       "      <td>2.00</td>\n",
       "      <td>1,861.00</td>\n",
       "      <td>93.00</td>\n",
       "      <td>29,412.00</td>\n",
       "    </tr>\n",
       "    <tr>\n",
       "      <th>50%</th>\n",
       "      <td>7.00</td>\n",
       "      <td>5.00</td>\n",
       "      <td>11,400.00</td>\n",
       "      <td>1,040.00</td>\n",
       "      <td>90,756.00</td>\n",
       "    </tr>\n",
       "    <tr>\n",
       "      <th>75%</th>\n",
       "      <td>40.00</td>\n",
       "      <td>19.00</td>\n",
       "      <td>32,222.00</td>\n",
       "      <td>5,588.00</td>\n",
       "      <td>294,118.00</td>\n",
       "    </tr>\n",
       "    <tr>\n",
       "      <th>max</th>\n",
       "      <td>120,000.00</td>\n",
       "      <td>53,620.00</td>\n",
       "      <td>33,242,814.00</td>\n",
       "      <td>6,316,135.00</td>\n",
       "      <td>299,185,326.00</td>\n",
       "    </tr>\n",
       "  </tbody>\n",
       "</table>\n",
       "</div>"
      ]
     },
     "metadata": {
      "application/vnd.databricks.v1+output": {
       "addedWidgets": {},
       "arguments": {},
       "data": "<div>\n<style scoped>\n    .dataframe tbody tr th:only-of-type {\n        vertical-align: middle;\n    }\n\n    .dataframe tbody tr th {\n        vertical-align: top;\n    }\n\n    .dataframe thead th {\n        text-align: right;\n    }\n</style>\n<table border=\"1\" class=\"dataframe\">\n  <thead>\n    <tr style=\"text-align: right;\">\n      <th></th>\n      <th>CANTIDAD_PEDIDA</th>\n      <th>CANTIDAD_RECIBIDA</th>\n      <th>PRECIO_UNITARIO</th>\n      <th>IVA</th>\n      <th>TOTAL_SIN_IVA</th>\n    </tr>\n  </thead>\n  <tbody>\n    <tr>\n      <th>count</th>\n      <td>22,392.00</td>\n      <td>15,325.00</td>\n      <td>22,392.00</td>\n      <td>22,392.00</td>\n      <td>22,392.00</td>\n    </tr>\n    <tr>\n      <th>mean</th>\n      <td>196.68</td>\n      <td>72.36</td>\n      <td>74,075.31</td>\n      <td>11,499.70</td>\n      <td>477,558.94</td>\n    </tr>\n    <tr>\n      <th>std</th>\n      <td>1,976.19</td>\n      <td>1,063.97</td>\n      <td>644,263.68</td>\n      <td>104,931.32</td>\n      <td>3,160,637.57</td>\n    </tr>\n    <tr>\n      <th>min</th>\n      <td>0.27</td>\n      <td>0.00</td>\n      <td>0.00</td>\n      <td>0.00</td>\n      <td>0.00</td>\n    </tr>\n    <tr>\n      <th>25%</th>\n      <td>2.00</td>\n      <td>2.00</td>\n      <td>1,861.00</td>\n      <td>93.00</td>\n      <td>29,412.00</td>\n    </tr>\n    <tr>\n      <th>50%</th>\n      <td>7.00</td>\n      <td>5.00</td>\n      <td>11,400.00</td>\n      <td>1,040.00</td>\n      <td>90,756.00</td>\n    </tr>\n    <tr>\n      <th>75%</th>\n      <td>40.00</td>\n      <td>19.00</td>\n      <td>32,222.00</td>\n      <td>5,588.00</td>\n      <td>294,118.00</td>\n    </tr>\n    <tr>\n      <th>max</th>\n      <td>120,000.00</td>\n      <td>53,620.00</td>\n      <td>33,242,814.00</td>\n      <td>6,316,135.00</td>\n      <td>299,185,326.00</td>\n    </tr>\n  </tbody>\n</table>\n</div>",
       "datasetInfos": [],
       "metadata": {},
       "removedWidgets": [],
       "textData": null,
       "type": "htmlSandbox"
      }
     },
     "output_type": "display_data"
    }
   ],
   "source": [
    "df.describe()"
   ]
  },
  {
   "cell_type": "code",
   "execution_count": 0,
   "metadata": {
    "application/vnd.databricks.v1+cell": {
     "inputWidgets": {},
     "nuid": "32d2bba1-85cc-4954-98ba-05060aa311da",
     "showTitle": false,
     "title": ""
    }
   },
   "outputs": [
    {
     "data": {
      "text/html": [
       "<style scoped>\n",
       "  .ansiout {\n",
       "    display: block;\n",
       "    unicode-bidi: embed;\n",
       "    white-space: pre-wrap;\n",
       "    word-wrap: break-word;\n",
       "    word-break: break-all;\n",
       "    font-family: \"Source Code Pro\", \"Menlo\", monospace;;\n",
       "    font-size: 13px;\n",
       "    color: #555;\n",
       "    margin-left: 4px;\n",
       "    line-height: 19px;\n",
       "  }\n",
       "</style>\n",
       "<div class=\"ansiout\"></div>"
      ]
     },
     "metadata": {
      "application/vnd.databricks.v1+output": {
       "addedWidgets": {},
       "arguments": {},
       "data": "<div class=\"ansiout\"></div>",
       "datasetInfos": [],
       "metadata": {},
       "removedWidgets": [],
       "type": "html"
      }
     },
     "output_type": "display_data"
    }
   ],
   "source": [
    "df['PRECIO_UNITARIO'] = pd.to_numeric(df['PRECIO_UNITARIO'], downcast=\"float\")\n",
    "df['IVA'] = pd.to_numeric(df['IVA'], downcast=\"float\")\n",
    "df['TOTAL_SIN_IVA'] = pd.to_numeric(df['TOTAL_SIN_IVA'], downcast=\"float\")"
   ]
  },
  {
   "cell_type": "code",
   "execution_count": 0,
   "metadata": {
    "application/vnd.databricks.v1+cell": {
     "inputWidgets": {},
     "nuid": "a031a184-1a90-40b2-9e87-15e7534d0012",
     "showTitle": false,
     "title": ""
    }
   },
   "outputs": [
    {
     "data": {
      "text/html": [
       "<style scoped>\n",
       "  .ansiout {\n",
       "    display: block;\n",
       "    unicode-bidi: embed;\n",
       "    white-space: pre-wrap;\n",
       "    word-wrap: break-word;\n",
       "    word-break: break-all;\n",
       "    font-family: \"Source Code Pro\", \"Menlo\", monospace;;\n",
       "    font-size: 13px;\n",
       "    color: #555;\n",
       "    margin-left: 4px;\n",
       "    line-height: 19px;\n",
       "  }\n",
       "</style>\n",
       "<div class=\"ansiout\">&lt;class &#39;pandas.core.frame.DataFrame&#39;&gt;\n",
       "Int64Index: 22392 entries, 0 to 23082\n",
       "Data columns (total 12 columns):\n",
       " #   Column               Non-Null Count  Dtype  \n",
       "---  ------               --------------  -----  \n",
       " 0   FECHA_ORDEN          22392 non-null  object \n",
       " 1   CATEGORÍA            22392 non-null  object \n",
       " 2   SUBCATEGORIA         22392 non-null  object \n",
       " 3   PROVEEDOR            22392 non-null  object \n",
       " 4   PORTAL               22392 non-null  object \n",
       " 5   ESTADO               22392 non-null  object \n",
       " 6   PRODUCTO_O_SERVICIO  22392 non-null  object \n",
       " 7   CANTIDAD_PEDIDA      22392 non-null  float64\n",
       " 8   CANTIDAD_RECIBIDA    15325 non-null  float64\n",
       " 9   PRECIO_UNITARIO      22392 non-null  float32\n",
       " 10  IVA                  22392 non-null  float32\n",
       " 11  TOTAL_SIN_IVA        22392 non-null  float32\n",
       "dtypes: float32(3), float64(2), object(7)\n",
       "memory usage: 2.0+ MB\n",
       "</div>"
      ]
     },
     "metadata": {
      "application/vnd.databricks.v1+output": {
       "addedWidgets": {},
       "arguments": {},
       "data": "<div class=\"ansiout\">&lt;class &#39;pandas.core.frame.DataFrame&#39;&gt;\nInt64Index: 22392 entries, 0 to 23082\nData columns (total 12 columns):\n #   Column               Non-Null Count  Dtype  \n---  ------               --------------  -----  \n 0   FECHA_ORDEN          22392 non-null  object \n 1   CATEGORÍA            22392 non-null  object \n 2   SUBCATEGORIA         22392 non-null  object \n 3   PROVEEDOR            22392 non-null  object \n 4   PORTAL               22392 non-null  object \n 5   ESTADO               22392 non-null  object \n 6   PRODUCTO_O_SERVICIO  22392 non-null  object \n 7   CANTIDAD_PEDIDA      22392 non-null  float64\n 8   CANTIDAD_RECIBIDA    15325 non-null  float64\n 9   PRECIO_UNITARIO      22392 non-null  float32\n 10  IVA                  22392 non-null  float32\n 11  TOTAL_SIN_IVA        22392 non-null  float32\ndtypes: float32(3), float64(2), object(7)\nmemory usage: 2.0+ MB\n</div>",
       "datasetInfos": [],
       "metadata": {},
       "removedWidgets": [],
       "type": "html"
      }
     },
     "output_type": "display_data"
    }
   ],
   "source": [
    "df.info()"
   ]
  },
  {
   "cell_type": "code",
   "execution_count": 0,
   "metadata": {
    "application/vnd.databricks.v1+cell": {
     "inputWidgets": {},
     "nuid": "6b3c22a3-b086-4d33-aed4-57ed9285674f",
     "showTitle": false,
     "title": ""
    }
   },
   "outputs": [
    {
     "data": {
      "text/html": [
       "<style scoped>\n",
       "  .ansiout {\n",
       "    display: block;\n",
       "    unicode-bidi: embed;\n",
       "    white-space: pre-wrap;\n",
       "    word-wrap: break-word;\n",
       "    word-break: break-all;\n",
       "    font-family: \"Source Code Pro\", \"Menlo\", monospace;;\n",
       "    font-size: 13px;\n",
       "    color: #555;\n",
       "    margin-left: 4px;\n",
       "    line-height: 19px;\n",
       "  }\n",
       "</style>\n",
       "<div class=\"ansiout\"></div>"
      ]
     },
     "metadata": {
      "application/vnd.databricks.v1+output": {
       "addedWidgets": {},
       "arguments": {},
       "data": "<div class=\"ansiout\"></div>",
       "datasetInfos": [],
       "metadata": {},
       "removedWidgets": [],
       "type": "html"
      }
     },
     "output_type": "display_data"
    }
   ],
   "source": [
    "df['FECHA_ORDEN'] = pd.to_datetime(df['FECHA_ORDEN'], format='%Y-%m-%d')"
   ]
  },
  {
   "cell_type": "code",
   "execution_count": 0,
   "metadata": {
    "application/vnd.databricks.v1+cell": {
     "inputWidgets": {},
     "nuid": "f69bbd7f-6632-4301-bee2-6eff63dce019",
     "showTitle": false,
     "title": ""
    }
   },
   "outputs": [
    {
     "data": {
      "text/html": [
       "<style scoped>\n",
       "  .ansiout {\n",
       "    display: block;\n",
       "    unicode-bidi: embed;\n",
       "    white-space: pre-wrap;\n",
       "    word-wrap: break-word;\n",
       "    word-break: break-all;\n",
       "    font-family: \"Source Code Pro\", \"Menlo\", monospace;;\n",
       "    font-size: 13px;\n",
       "    color: #555;\n",
       "    margin-left: 4px;\n",
       "    line-height: 19px;\n",
       "  }\n",
       "</style>\n",
       "<div class=\"ansiout\">&lt;class &#39;pandas.core.frame.DataFrame&#39;&gt;\n",
       "Int64Index: 22392 entries, 0 to 23082\n",
       "Data columns (total 12 columns):\n",
       " #   Column               Non-Null Count  Dtype         \n",
       "---  ------               --------------  -----         \n",
       " 0   FECHA_ORDEN          22392 non-null  datetime64[ns]\n",
       " 1   CATEGORÍA            22392 non-null  object        \n",
       " 2   SUBCATEGORIA         22392 non-null  object        \n",
       " 3   PROVEEDOR            22392 non-null  object        \n",
       " 4   PORTAL               22392 non-null  object        \n",
       " 5   ESTADO               22392 non-null  object        \n",
       " 6   PRODUCTO_O_SERVICIO  22392 non-null  object        \n",
       " 7   CANTIDAD_PEDIDA      22392 non-null  float64       \n",
       " 8   CANTIDAD_RECIBIDA    15325 non-null  float64       \n",
       " 9   PRECIO_UNITARIO      22392 non-null  float32       \n",
       " 10  IVA                  22392 non-null  float32       \n",
       " 11  TOTAL_SIN_IVA        22392 non-null  float32       \n",
       "dtypes: datetime64[ns](1), float32(3), float64(2), object(6)\n",
       "memory usage: 2.0+ MB\n",
       "</div>"
      ]
     },
     "metadata": {
      "application/vnd.databricks.v1+output": {
       "addedWidgets": {},
       "arguments": {},
       "data": "<div class=\"ansiout\">&lt;class &#39;pandas.core.frame.DataFrame&#39;&gt;\nInt64Index: 22392 entries, 0 to 23082\nData columns (total 12 columns):\n #   Column               Non-Null Count  Dtype         \n---  ------               --------------  -----         \n 0   FECHA_ORDEN          22392 non-null  datetime64[ns]\n 1   CATEGORÍA            22392 non-null  object        \n 2   SUBCATEGORIA         22392 non-null  object        \n 3   PROVEEDOR            22392 non-null  object        \n 4   PORTAL               22392 non-null  object        \n 5   ESTADO               22392 non-null  object        \n 6   PRODUCTO_O_SERVICIO  22392 non-null  object        \n 7   CANTIDAD_PEDIDA      22392 non-null  float64       \n 8   CANTIDAD_RECIBIDA    15325 non-null  float64       \n 9   PRECIO_UNITARIO      22392 non-null  float32       \n 10  IVA                  22392 non-null  float32       \n 11  TOTAL_SIN_IVA        22392 non-null  float32       \ndtypes: datetime64[ns](1), float32(3), float64(2), object(6)\nmemory usage: 2.0+ MB\n</div>",
       "datasetInfos": [],
       "metadata": {},
       "removedWidgets": [],
       "type": "html"
      }
     },
     "output_type": "display_data"
    }
   ],
   "source": [
    "df.info()"
   ]
  },
  {
   "cell_type": "markdown",
   "metadata": {
    "application/vnd.databricks.v1+cell": {
     "inputWidgets": {},
     "nuid": "aae9b4df-c265-4c2c-9a91-18bdec3207aa",
     "showTitle": false,
     "title": ""
    }
   },
   "source": [
    "## By year"
   ]
  },
  {
   "cell_type": "code",
   "execution_count": 0,
   "metadata": {
    "application/vnd.databricks.v1+cell": {
     "inputWidgets": {},
     "nuid": "ab7c135f-7b6e-4162-af78-248d3c4d03b6",
     "showTitle": false,
     "title": ""
    }
   },
   "outputs": [
    {
     "data": {
      "text/html": [
       "<style scoped>\n",
       "  .ansiout {\n",
       "    display: block;\n",
       "    unicode-bidi: embed;\n",
       "    white-space: pre-wrap;\n",
       "    word-wrap: break-word;\n",
       "    word-break: break-all;\n",
       "    font-family: \"Source Code Pro\", \"Menlo\", monospace;;\n",
       "    font-size: 13px;\n",
       "    color: #555;\n",
       "    margin-left: 4px;\n",
       "    line-height: 19px;\n",
       "  }\n",
       "</style>\n",
       "<div class=\"ansiout\">Out[1077]: </div>"
      ]
     },
     "metadata": {
      "application/vnd.databricks.v1+output": {
       "addedWidgets": {},
       "arguments": {},
       "data": "<div class=\"ansiout\">Out[1077]: </div>",
       "datasetInfos": [],
       "metadata": {},
       "removedWidgets": [],
       "type": "html"
      }
     },
     "output_type": "display_data"
    },
    {
     "data": {
      "text/html": [
       "<div>\n",
       "<style scoped>\n",
       "    .dataframe tbody tr th:only-of-type {\n",
       "        vertical-align: middle;\n",
       "    }\n",
       "\n",
       "    .dataframe tbody tr th {\n",
       "        vertical-align: top;\n",
       "    }\n",
       "\n",
       "    .dataframe thead th {\n",
       "        text-align: right;\n",
       "    }\n",
       "</style>\n",
       "<table border=\"1\" class=\"dataframe\">\n",
       "  <thead>\n",
       "    <tr style=\"text-align: right;\">\n",
       "      <th></th>\n",
       "      <th>CANTIDAD_PEDIDA</th>\n",
       "      <th>CANTIDAD_RECIBIDA</th>\n",
       "      <th>PRECIO_UNITARIO</th>\n",
       "      <th>IVA</th>\n",
       "      <th>TOTAL_SIN_IVA</th>\n",
       "    </tr>\n",
       "    <tr>\n",
       "      <th>FECHA_ORDEN</th>\n",
       "      <th></th>\n",
       "      <th></th>\n",
       "      <th></th>\n",
       "      <th></th>\n",
       "      <th></th>\n",
       "    </tr>\n",
       "  </thead>\n",
       "  <tbody>\n",
       "    <tr>\n",
       "      <th>2018-12-31</th>\n",
       "      <td>2,825,660.70</td>\n",
       "      <td>962.00</td>\n",
       "      <td>56,846,176.00</td>\n",
       "      <td>10,468,057.00</td>\n",
       "      <td>660,102,848.00</td>\n",
       "    </tr>\n",
       "    <tr>\n",
       "      <th>2019-12-31</th>\n",
       "      <td>500,896.00</td>\n",
       "      <td>167,714.00</td>\n",
       "      <td>169,135,712.00</td>\n",
       "      <td>27,660,022.00</td>\n",
       "      <td>2,787,268,864.00</td>\n",
       "    </tr>\n",
       "    <tr>\n",
       "      <th>2020-12-31</th>\n",
       "      <td>298,243.78</td>\n",
       "      <td>261,158.96</td>\n",
       "      <td>158,323,184.00</td>\n",
       "      <td>25,843,618.00</td>\n",
       "      <td>2,755,058,176.00</td>\n",
       "    </tr>\n",
       "    <tr>\n",
       "      <th>2021-12-31</th>\n",
       "      <td>779,247.15</td>\n",
       "      <td>679,086.10</td>\n",
       "      <td>1,274,389,248.00</td>\n",
       "      <td>193,529,664.00</td>\n",
       "      <td>4,491,069,952.00</td>\n",
       "    </tr>\n",
       "  </tbody>\n",
       "</table>\n",
       "</div>"
      ]
     },
     "metadata": {
      "application/vnd.databricks.v1+output": {
       "addedWidgets": {},
       "arguments": {},
       "data": "<div>\n<style scoped>\n    .dataframe tbody tr th:only-of-type {\n        vertical-align: middle;\n    }\n\n    .dataframe tbody tr th {\n        vertical-align: top;\n    }\n\n    .dataframe thead th {\n        text-align: right;\n    }\n</style>\n<table border=\"1\" class=\"dataframe\">\n  <thead>\n    <tr style=\"text-align: right;\">\n      <th></th>\n      <th>CANTIDAD_PEDIDA</th>\n      <th>CANTIDAD_RECIBIDA</th>\n      <th>PRECIO_UNITARIO</th>\n      <th>IVA</th>\n      <th>TOTAL_SIN_IVA</th>\n    </tr>\n    <tr>\n      <th>FECHA_ORDEN</th>\n      <th></th>\n      <th></th>\n      <th></th>\n      <th></th>\n      <th></th>\n    </tr>\n  </thead>\n  <tbody>\n    <tr>\n      <th>2018-12-31</th>\n      <td>2,825,660.70</td>\n      <td>962.00</td>\n      <td>56,846,176.00</td>\n      <td>10,468,057.00</td>\n      <td>660,102,848.00</td>\n    </tr>\n    <tr>\n      <th>2019-12-31</th>\n      <td>500,896.00</td>\n      <td>167,714.00</td>\n      <td>169,135,712.00</td>\n      <td>27,660,022.00</td>\n      <td>2,787,268,864.00</td>\n    </tr>\n    <tr>\n      <th>2020-12-31</th>\n      <td>298,243.78</td>\n      <td>261,158.96</td>\n      <td>158,323,184.00</td>\n      <td>25,843,618.00</td>\n      <td>2,755,058,176.00</td>\n    </tr>\n    <tr>\n      <th>2021-12-31</th>\n      <td>779,247.15</td>\n      <td>679,086.10</td>\n      <td>1,274,389,248.00</td>\n      <td>193,529,664.00</td>\n      <td>4,491,069,952.00</td>\n    </tr>\n  </tbody>\n</table>\n</div>",
       "datasetInfos": [],
       "metadata": {},
       "removedWidgets": [],
       "textData": null,
       "type": "htmlSandbox"
      }
     },
     "output_type": "display_data"
    }
   ],
   "source": [
    "df_Y = df.groupby(pd.Grouper(key='FECHA_ORDEN', freq=\"Y\")).sum()\n",
    "df_Y.head()"
   ]
  },
  {
   "cell_type": "code",
   "execution_count": 0,
   "metadata": {
    "application/vnd.databricks.v1+cell": {
     "inputWidgets": {},
     "nuid": "5ea164a7-06d5-4b59-8db5-3f3a903e5767",
     "showTitle": false,
     "title": ""
    }
   },
   "outputs": [
    {
     "data": {
      "text/html": [
       "<style scoped>\n",
       "  .ansiout {\n",
       "    display: block;\n",
       "    unicode-bidi: embed;\n",
       "    white-space: pre-wrap;\n",
       "    word-wrap: break-word;\n",
       "    word-break: break-all;\n",
       "    font-family: \"Source Code Pro\", \"Menlo\", monospace;;\n",
       "    font-size: 13px;\n",
       "    color: #555;\n",
       "    margin-left: 4px;\n",
       "    line-height: 19px;\n",
       "  }\n",
       "</style>\n",
       "<div class=\"ansiout\">Out[1078]: </div>"
      ]
     },
     "metadata": {
      "application/vnd.databricks.v1+output": {
       "addedWidgets": {},
       "arguments": {},
       "data": "<div class=\"ansiout\">Out[1078]: </div>",
       "datasetInfos": [],
       "metadata": {},
       "removedWidgets": [],
       "type": "html"
      }
     },
     "output_type": "display_data"
    },
    {
     "data": {
      "text/html": [
       "<html>\n",
       "<head><meta charset=\"utf-8\" /></head>\n",
       "<body>\n",
       "    <div>            <script src=\"https://cdnjs.cloudflare.com/ajax/libs/mathjax/2.7.5/MathJax.js?config=TeX-AMS-MML_SVG\"></script><script type=\"text/javascript\">if (window.MathJax) {MathJax.Hub.Config({SVG: {font: \"STIX-Web\"}});}</script>                <script type=\"text/javascript\">window.PlotlyConfig = {MathJaxConfig: 'local'};</script>\n",
       "        <script src=\"https://cdn.plot.ly/plotly-latest.min.js\"></script>                <div id=\"7c6fbb82-e32d-4e7a-b8dc-6f82fa62974c\" class=\"plotly-graph-div\" style=\"height:100%; width:100%;\"></div>            <script type=\"text/javascript\">                                    window.PLOTLYENV=window.PLOTLYENV || {};                                    if (document.getElementById(\"7c6fbb82-e32d-4e7a-b8dc-6f82fa62974c\")) {                    Plotly.newPlot(                        \"7c6fbb82-e32d-4e7a-b8dc-6f82fa62974c\",                        [{\"alignmentgroup\": \"True\", \"hovertemplate\": \"FECHA_ORDEN=%{x}<br>TOTAL_SIN_IVA=%{y}<extra></extra>\", \"legendgroup\": \"\", \"marker\": {\"color\": \"#636efa\"}, \"name\": \"\", \"offsetgroup\": \"\", \"orientation\": \"v\", \"showlegend\": false, \"textposition\": \"auto\", \"type\": \"bar\", \"x\": [\"2018-12-31T00:00:00\", \"2019-12-31T00:00:00\", \"2020-12-31T00:00:00\", \"2021-12-31T00:00:00\"], \"xaxis\": \"x\", \"y\": [660102848.0, 2787268864.0, 2755058176.0, 4491069952.0], \"yaxis\": \"y\"}],                        {\"barmode\": \"relative\", \"legend\": {\"tracegroupgap\": 0}, \"margin\": {\"t\": 60}, \"template\": {\"data\": {\"bar\": [{\"error_x\": {\"color\": \"#2a3f5f\"}, \"error_y\": {\"color\": \"#2a3f5f\"}, \"marker\": {\"line\": {\"color\": \"#E5ECF6\", \"width\": 0.5}}, \"type\": \"bar\"}], \"barpolar\": [{\"marker\": {\"line\": {\"color\": \"#E5ECF6\", \"width\": 0.5}}, \"type\": \"barpolar\"}], \"carpet\": [{\"aaxis\": {\"endlinecolor\": \"#2a3f5f\", \"gridcolor\": \"white\", \"linecolor\": \"white\", \"minorgridcolor\": \"white\", \"startlinecolor\": \"#2a3f5f\"}, \"baxis\": {\"endlinecolor\": \"#2a3f5f\", \"gridcolor\": \"white\", \"linecolor\": \"white\", \"minorgridcolor\": \"white\", \"startlinecolor\": \"#2a3f5f\"}, \"type\": \"carpet\"}], \"choropleth\": [{\"colorbar\": {\"outlinewidth\": 0, \"ticks\": \"\"}, \"type\": \"choropleth\"}], \"contour\": [{\"colorbar\": {\"outlinewidth\": 0, \"ticks\": \"\"}, \"colorscale\": [[0.0, \"#0d0887\"], [0.1111111111111111, \"#46039f\"], [0.2222222222222222, \"#7201a8\"], [0.3333333333333333, \"#9c179e\"], [0.4444444444444444, \"#bd3786\"], [0.5555555555555556, \"#d8576b\"], [0.6666666666666666, \"#ed7953\"], [0.7777777777777778, \"#fb9f3a\"], [0.8888888888888888, \"#fdca26\"], [1.0, \"#f0f921\"]], \"type\": \"contour\"}], \"contourcarpet\": [{\"colorbar\": {\"outlinewidth\": 0, \"ticks\": \"\"}, \"type\": \"contourcarpet\"}], \"heatmap\": [{\"colorbar\": {\"outlinewidth\": 0, \"ticks\": \"\"}, \"colorscale\": [[0.0, \"#0d0887\"], [0.1111111111111111, \"#46039f\"], [0.2222222222222222, \"#7201a8\"], [0.3333333333333333, \"#9c179e\"], [0.4444444444444444, \"#bd3786\"], [0.5555555555555556, \"#d8576b\"], [0.6666666666666666, \"#ed7953\"], [0.7777777777777778, \"#fb9f3a\"], [0.8888888888888888, \"#fdca26\"], [1.0, \"#f0f921\"]], \"type\": \"heatmap\"}], \"heatmapgl\": [{\"colorbar\": {\"outlinewidth\": 0, \"ticks\": \"\"}, \"colorscale\": [[0.0, \"#0d0887\"], [0.1111111111111111, \"#46039f\"], [0.2222222222222222, \"#7201a8\"], [0.3333333333333333, \"#9c179e\"], [0.4444444444444444, \"#bd3786\"], [0.5555555555555556, \"#d8576b\"], [0.6666666666666666, \"#ed7953\"], [0.7777777777777778, \"#fb9f3a\"], [0.8888888888888888, \"#fdca26\"], [1.0, \"#f0f921\"]], \"type\": \"heatmapgl\"}], \"histogram\": [{\"marker\": {\"colorbar\": {\"outlinewidth\": 0, \"ticks\": \"\"}}, \"type\": \"histogram\"}], \"histogram2d\": [{\"colorbar\": {\"outlinewidth\": 0, \"ticks\": \"\"}, \"colorscale\": [[0.0, \"#0d0887\"], [0.1111111111111111, \"#46039f\"], [0.2222222222222222, \"#7201a8\"], [0.3333333333333333, \"#9c179e\"], [0.4444444444444444, \"#bd3786\"], [0.5555555555555556, \"#d8576b\"], [0.6666666666666666, \"#ed7953\"], [0.7777777777777778, \"#fb9f3a\"], [0.8888888888888888, \"#fdca26\"], [1.0, \"#f0f921\"]], \"type\": \"histogram2d\"}], \"histogram2dcontour\": [{\"colorbar\": {\"outlinewidth\": 0, \"ticks\": \"\"}, \"colorscale\": [[0.0, \"#0d0887\"], [0.1111111111111111, \"#46039f\"], [0.2222222222222222, \"#7201a8\"], [0.3333333333333333, \"#9c179e\"], [0.4444444444444444, \"#bd3786\"], [0.5555555555555556, \"#d8576b\"], [0.6666666666666666, \"#ed7953\"], [0.7777777777777778, \"#fb9f3a\"], [0.8888888888888888, \"#fdca26\"], [1.0, \"#f0f921\"]], \"type\": \"histogram2dcontour\"}], \"mesh3d\": [{\"colorbar\": {\"outlinewidth\": 0, \"ticks\": \"\"}, \"type\": \"mesh3d\"}], \"parcoords\": [{\"line\": {\"colorbar\": {\"outlinewidth\": 0, \"ticks\": \"\"}}, \"type\": \"parcoords\"}], \"pie\": [{\"automargin\": true, \"type\": \"pie\"}], \"scatter\": [{\"marker\": {\"colorbar\": {\"outlinewidth\": 0, \"ticks\": \"\"}}, \"type\": \"scatter\"}], \"scatter3d\": [{\"line\": {\"colorbar\": {\"outlinewidth\": 0, \"ticks\": \"\"}}, \"marker\": {\"colorbar\": {\"outlinewidth\": 0, \"ticks\": \"\"}}, \"type\": \"scatter3d\"}], \"scattercarpet\": [{\"marker\": {\"colorbar\": {\"outlinewidth\": 0, \"ticks\": \"\"}}, \"type\": \"scattercarpet\"}], \"scattergeo\": [{\"marker\": {\"colorbar\": {\"outlinewidth\": 0, \"ticks\": \"\"}}, \"type\": \"scattergeo\"}], \"scattergl\": [{\"marker\": {\"colorbar\": {\"outlinewidth\": 0, \"ticks\": \"\"}}, \"type\": \"scattergl\"}], \"scattermapbox\": [{\"marker\": {\"colorbar\": {\"outlinewidth\": 0, \"ticks\": \"\"}}, \"type\": \"scattermapbox\"}], \"scatterpolar\": [{\"marker\": {\"colorbar\": {\"outlinewidth\": 0, \"ticks\": \"\"}}, \"type\": \"scatterpolar\"}], \"scatterpolargl\": [{\"marker\": {\"colorbar\": {\"outlinewidth\": 0, \"ticks\": \"\"}}, \"type\": \"scatterpolargl\"}], \"scatterternary\": [{\"marker\": {\"colorbar\": {\"outlinewidth\": 0, \"ticks\": \"\"}}, \"type\": \"scatterternary\"}], \"surface\": [{\"colorbar\": {\"outlinewidth\": 0, \"ticks\": \"\"}, \"colorscale\": [[0.0, \"#0d0887\"], [0.1111111111111111, \"#46039f\"], [0.2222222222222222, \"#7201a8\"], [0.3333333333333333, \"#9c179e\"], [0.4444444444444444, \"#bd3786\"], [0.5555555555555556, \"#d8576b\"], [0.6666666666666666, \"#ed7953\"], [0.7777777777777778, \"#fb9f3a\"], [0.8888888888888888, \"#fdca26\"], [1.0, \"#f0f921\"]], \"type\": \"surface\"}], \"table\": [{\"cells\": {\"fill\": {\"color\": \"#EBF0F8\"}, \"line\": {\"color\": \"white\"}}, \"header\": {\"fill\": {\"color\": \"#C8D4E3\"}, \"line\": {\"color\": \"white\"}}, \"type\": \"table\"}]}, \"layout\": {\"annotationdefaults\": {\"arrowcolor\": \"#2a3f5f\", \"arrowhead\": 0, \"arrowwidth\": 1}, \"autotypenumbers\": \"strict\", \"coloraxis\": {\"colorbar\": {\"outlinewidth\": 0, \"ticks\": \"\"}}, \"colorscale\": {\"diverging\": [[0, \"#8e0152\"], [0.1, \"#c51b7d\"], [0.2, \"#de77ae\"], [0.3, \"#f1b6da\"], [0.4, \"#fde0ef\"], [0.5, \"#f7f7f7\"], [0.6, \"#e6f5d0\"], [0.7, \"#b8e186\"], [0.8, \"#7fbc41\"], [0.9, \"#4d9221\"], [1, \"#276419\"]], \"sequential\": [[0.0, \"#0d0887\"], [0.1111111111111111, \"#46039f\"], [0.2222222222222222, \"#7201a8\"], [0.3333333333333333, \"#9c179e\"], [0.4444444444444444, \"#bd3786\"], [0.5555555555555556, \"#d8576b\"], [0.6666666666666666, \"#ed7953\"], [0.7777777777777778, \"#fb9f3a\"], [0.8888888888888888, \"#fdca26\"], [1.0, \"#f0f921\"]], \"sequentialminus\": [[0.0, \"#0d0887\"], [0.1111111111111111, \"#46039f\"], [0.2222222222222222, \"#7201a8\"], [0.3333333333333333, \"#9c179e\"], [0.4444444444444444, \"#bd3786\"], [0.5555555555555556, \"#d8576b\"], [0.6666666666666666, \"#ed7953\"], [0.7777777777777778, \"#fb9f3a\"], [0.8888888888888888, \"#fdca26\"], [1.0, \"#f0f921\"]]}, \"colorway\": [\"#636efa\", \"#EF553B\", \"#00cc96\", \"#ab63fa\", \"#FFA15A\", \"#19d3f3\", \"#FF6692\", \"#B6E880\", \"#FF97FF\", \"#FECB52\"], \"font\": {\"color\": \"#2a3f5f\"}, \"geo\": {\"bgcolor\": \"white\", \"lakecolor\": \"white\", \"landcolor\": \"#E5ECF6\", \"showlakes\": true, \"showland\": true, \"subunitcolor\": \"white\"}, \"hoverlabel\": {\"align\": \"left\"}, \"hovermode\": \"closest\", \"mapbox\": {\"style\": \"light\"}, \"paper_bgcolor\": \"white\", \"plot_bgcolor\": \"#E5ECF6\", \"polar\": {\"angularaxis\": {\"gridcolor\": \"white\", \"linecolor\": \"white\", \"ticks\": \"\"}, \"bgcolor\": \"#E5ECF6\", \"radialaxis\": {\"gridcolor\": \"white\", \"linecolor\": \"white\", \"ticks\": \"\"}}, \"scene\": {\"xaxis\": {\"backgroundcolor\": \"#E5ECF6\", \"gridcolor\": \"white\", \"gridwidth\": 2, \"linecolor\": \"white\", \"showbackground\": true, \"ticks\": \"\", \"zerolinecolor\": \"white\"}, \"yaxis\": {\"backgroundcolor\": \"#E5ECF6\", \"gridcolor\": \"white\", \"gridwidth\": 2, \"linecolor\": \"white\", \"showbackground\": true, \"ticks\": \"\", \"zerolinecolor\": \"white\"}, \"zaxis\": {\"backgroundcolor\": \"#E5ECF6\", \"gridcolor\": \"white\", \"gridwidth\": 2, \"linecolor\": \"white\", \"showbackground\": true, \"ticks\": \"\", \"zerolinecolor\": \"white\"}}, \"shapedefaults\": {\"line\": {\"color\": \"#2a3f5f\"}}, \"ternary\": {\"aaxis\": {\"gridcolor\": \"white\", \"linecolor\": \"white\", \"ticks\": \"\"}, \"baxis\": {\"gridcolor\": \"white\", \"linecolor\": \"white\", \"ticks\": \"\"}, \"bgcolor\": \"#E5ECF6\", \"caxis\": {\"gridcolor\": \"white\", \"linecolor\": \"white\", \"ticks\": \"\"}}, \"title\": {\"x\": 0.05}, \"xaxis\": {\"automargin\": true, \"gridcolor\": \"white\", \"linecolor\": \"white\", \"ticks\": \"\", \"title\": {\"standoff\": 15}, \"zerolinecolor\": \"white\", \"zerolinewidth\": 2}, \"yaxis\": {\"automargin\": true, \"gridcolor\": \"white\", \"linecolor\": \"white\", \"ticks\": \"\", \"title\": {\"standoff\": 15}, \"zerolinecolor\": \"white\", \"zerolinewidth\": 2}}}, \"xaxis\": {\"anchor\": \"y\", \"domain\": [0.0, 1.0], \"title\": {\"text\": \"FECHA_ORDEN\"}}, \"yaxis\": {\"anchor\": \"x\", \"domain\": [0.0, 1.0], \"title\": {\"text\": \"TOTAL_SIN_IVA\"}}},                        {\"responsive\": true}                    )                };                            </script>        </div>\n",
       "</body>\n",
       "</html>"
      ]
     },
     "metadata": {
      "application/vnd.databricks.v1+output": {
       "addedWidgets": {},
       "arguments": {},
       "data": "<html>\n<head><meta charset=\"utf-8\" /></head>\n<body>\n    <div>            <script src=\"https://cdnjs.cloudflare.com/ajax/libs/mathjax/2.7.5/MathJax.js?config=TeX-AMS-MML_SVG\"></script><script type=\"text/javascript\">if (window.MathJax) {MathJax.Hub.Config({SVG: {font: \"STIX-Web\"}});}</script>                <script type=\"text/javascript\">window.PlotlyConfig = {MathJaxConfig: 'local'};</script>\n        <script src=\"https://cdn.plot.ly/plotly-latest.min.js\"></script>                <div id=\"7c6fbb82-e32d-4e7a-b8dc-6f82fa62974c\" class=\"plotly-graph-div\" style=\"height:100%; width:100%;\"></div>            <script type=\"text/javascript\">                                    window.PLOTLYENV=window.PLOTLYENV || {};                                    if (document.getElementById(\"7c6fbb82-e32d-4e7a-b8dc-6f82fa62974c\")) {                    Plotly.newPlot(                        \"7c6fbb82-e32d-4e7a-b8dc-6f82fa62974c\",                        [{\"alignmentgroup\": \"True\", \"hovertemplate\": \"FECHA_ORDEN=%{x}<br>TOTAL_SIN_IVA=%{y}<extra></extra>\", \"legendgroup\": \"\", \"marker\": {\"color\": \"#636efa\"}, \"name\": \"\", \"offsetgroup\": \"\", \"orientation\": \"v\", \"showlegend\": false, \"textposition\": \"auto\", \"type\": \"bar\", \"x\": [\"2018-12-31T00:00:00\", \"2019-12-31T00:00:00\", \"2020-12-31T00:00:00\", \"2021-12-31T00:00:00\"], \"xaxis\": \"x\", \"y\": [660102848.0, 2787268864.0, 2755058176.0, 4491069952.0], \"yaxis\": \"y\"}],                        {\"barmode\": \"relative\", \"legend\": {\"tracegroupgap\": 0}, \"margin\": {\"t\": 60}, \"template\": {\"data\": {\"bar\": [{\"error_x\": {\"color\": \"#2a3f5f\"}, \"error_y\": {\"color\": \"#2a3f5f\"}, \"marker\": {\"line\": {\"color\": \"#E5ECF6\", \"width\": 0.5}}, \"type\": \"bar\"}], \"barpolar\": [{\"marker\": {\"line\": {\"color\": \"#E5ECF6\", \"width\": 0.5}}, \"type\": \"barpolar\"}], \"carpet\": [{\"aaxis\": {\"endlinecolor\": \"#2a3f5f\", \"gridcolor\": \"white\", \"linecolor\": \"white\", \"minorgridcolor\": \"white\", \"startlinecolor\": \"#2a3f5f\"}, \"baxis\": {\"endlinecolor\": \"#2a3f5f\", \"gridcolor\": \"white\", \"linecolor\": \"white\", \"minorgridcolor\": \"white\", \"startlinecolor\": \"#2a3f5f\"}, \"type\": \"carpet\"}], \"choropleth\": [{\"colorbar\": {\"outlinewidth\": 0, \"ticks\": \"\"}, \"type\": \"choropleth\"}], \"contour\": [{\"colorbar\": {\"outlinewidth\": 0, \"ticks\": \"\"}, \"colorscale\": [[0.0, \"#0d0887\"], [0.1111111111111111, \"#46039f\"], [0.2222222222222222, \"#7201a8\"], [0.3333333333333333, \"#9c179e\"], [0.4444444444444444, \"#bd3786\"], [0.5555555555555556, \"#d8576b\"], [0.6666666666666666, \"#ed7953\"], [0.7777777777777778, \"#fb9f3a\"], [0.8888888888888888, \"#fdca26\"], [1.0, \"#f0f921\"]], \"type\": \"contour\"}], \"contourcarpet\": [{\"colorbar\": {\"outlinewidth\": 0, \"ticks\": \"\"}, \"type\": \"contourcarpet\"}], \"heatmap\": [{\"colorbar\": {\"outlinewidth\": 0, \"ticks\": \"\"}, \"colorscale\": [[0.0, \"#0d0887\"], [0.1111111111111111, \"#46039f\"], [0.2222222222222222, \"#7201a8\"], [0.3333333333333333, \"#9c179e\"], [0.4444444444444444, \"#bd3786\"], [0.5555555555555556, \"#d8576b\"], [0.6666666666666666, \"#ed7953\"], [0.7777777777777778, \"#fb9f3a\"], [0.8888888888888888, \"#fdca26\"], [1.0, \"#f0f921\"]], \"type\": \"heatmap\"}], \"heatmapgl\": [{\"colorbar\": {\"outlinewidth\": 0, \"ticks\": \"\"}, \"colorscale\": [[0.0, \"#0d0887\"], [0.1111111111111111, \"#46039f\"], [0.2222222222222222, \"#7201a8\"], [0.3333333333333333, \"#9c179e\"], [0.4444444444444444, \"#bd3786\"], [0.5555555555555556, \"#d8576b\"], [0.6666666666666666, \"#ed7953\"], [0.7777777777777778, \"#fb9f3a\"], [0.8888888888888888, \"#fdca26\"], [1.0, \"#f0f921\"]], \"type\": \"heatmapgl\"}], \"histogram\": [{\"marker\": {\"colorbar\": {\"outlinewidth\": 0, \"ticks\": \"\"}}, \"type\": \"histogram\"}], \"histogram2d\": [{\"colorbar\": {\"outlinewidth\": 0, \"ticks\": \"\"}, \"colorscale\": [[0.0, \"#0d0887\"], [0.1111111111111111, \"#46039f\"], [0.2222222222222222, \"#7201a8\"], [0.3333333333333333, \"#9c179e\"], [0.4444444444444444, \"#bd3786\"], [0.5555555555555556, \"#d8576b\"], [0.6666666666666666, \"#ed7953\"], [0.7777777777777778, \"#fb9f3a\"], [0.8888888888888888, \"#fdca26\"], [1.0, \"#f0f921\"]], \"type\": \"histogram2d\"}], \"histogram2dcontour\": [{\"colorbar\": {\"outlinewidth\": 0, \"ticks\": \"\"}, \"colorscale\": [[0.0, \"#0d0887\"], [0.1111111111111111, \"#46039f\"], [0.2222222222222222, \"#7201a8\"], [0.3333333333333333, \"#9c179e\"], [0.4444444444444444, \"#bd3786\"], [0.5555555555555556, \"#d8576b\"], [0.6666666666666666, \"#ed7953\"], [0.7777777777777778, \"#fb9f3a\"], [0.8888888888888888, \"#fdca26\"], [1.0, \"#f0f921\"]], \"type\": \"histogram2dcontour\"}], \"mesh3d\": [{\"colorbar\": {\"outlinewidth\": 0, \"ticks\": \"\"}, \"type\": \"mesh3d\"}], \"parcoords\": [{\"line\": {\"colorbar\": {\"outlinewidth\": 0, \"ticks\": \"\"}}, \"type\": \"parcoords\"}], \"pie\": [{\"automargin\": true, \"type\": \"pie\"}], \"scatter\": [{\"marker\": {\"colorbar\": {\"outlinewidth\": 0, \"ticks\": \"\"}}, \"type\": \"scatter\"}], \"scatter3d\": [{\"line\": {\"colorbar\": {\"outlinewidth\": 0, \"ticks\": \"\"}}, \"marker\": {\"colorbar\": {\"outlinewidth\": 0, \"ticks\": \"\"}}, \"type\": \"scatter3d\"}], \"scattercarpet\": [{\"marker\": {\"colorbar\": {\"outlinewidth\": 0, \"ticks\": \"\"}}, \"type\": \"scattercarpet\"}], \"scattergeo\": [{\"marker\": {\"colorbar\": {\"outlinewidth\": 0, \"ticks\": \"\"}}, \"type\": \"scattergeo\"}], \"scattergl\": [{\"marker\": {\"colorbar\": {\"outlinewidth\": 0, \"ticks\": \"\"}}, \"type\": \"scattergl\"}], \"scattermapbox\": [{\"marker\": {\"colorbar\": {\"outlinewidth\": 0, \"ticks\": \"\"}}, \"type\": \"scattermapbox\"}], \"scatterpolar\": [{\"marker\": {\"colorbar\": {\"outlinewidth\": 0, \"ticks\": \"\"}}, \"type\": \"scatterpolar\"}], \"scatterpolargl\": [{\"marker\": {\"colorbar\": {\"outlinewidth\": 0, \"ticks\": \"\"}}, \"type\": \"scatterpolargl\"}], \"scatterternary\": [{\"marker\": {\"colorbar\": {\"outlinewidth\": 0, \"ticks\": \"\"}}, \"type\": \"scatterternary\"}], \"surface\": [{\"colorbar\": {\"outlinewidth\": 0, \"ticks\": \"\"}, \"colorscale\": [[0.0, \"#0d0887\"], [0.1111111111111111, \"#46039f\"], [0.2222222222222222, \"#7201a8\"], [0.3333333333333333, \"#9c179e\"], [0.4444444444444444, \"#bd3786\"], [0.5555555555555556, \"#d8576b\"], [0.6666666666666666, \"#ed7953\"], [0.7777777777777778, \"#fb9f3a\"], [0.8888888888888888, \"#fdca26\"], [1.0, \"#f0f921\"]], \"type\": \"surface\"}], \"table\": [{\"cells\": {\"fill\": {\"color\": \"#EBF0F8\"}, \"line\": {\"color\": \"white\"}}, \"header\": {\"fill\": {\"color\": \"#C8D4E3\"}, \"line\": {\"color\": \"white\"}}, \"type\": \"table\"}]}, \"layout\": {\"annotationdefaults\": {\"arrowcolor\": \"#2a3f5f\", \"arrowhead\": 0, \"arrowwidth\": 1}, \"autotypenumbers\": \"strict\", \"coloraxis\": {\"colorbar\": {\"outlinewidth\": 0, \"ticks\": \"\"}}, \"colorscale\": {\"diverging\": [[0, \"#8e0152\"], [0.1, \"#c51b7d\"], [0.2, \"#de77ae\"], [0.3, \"#f1b6da\"], [0.4, \"#fde0ef\"], [0.5, \"#f7f7f7\"], [0.6, \"#e6f5d0\"], [0.7, \"#b8e186\"], [0.8, \"#7fbc41\"], [0.9, \"#4d9221\"], [1, \"#276419\"]], \"sequential\": [[0.0, \"#0d0887\"], [0.1111111111111111, \"#46039f\"], [0.2222222222222222, \"#7201a8\"], [0.3333333333333333, \"#9c179e\"], [0.4444444444444444, \"#bd3786\"], [0.5555555555555556, \"#d8576b\"], [0.6666666666666666, \"#ed7953\"], [0.7777777777777778, \"#fb9f3a\"], [0.8888888888888888, \"#fdca26\"], [1.0, \"#f0f921\"]], \"sequentialminus\": [[0.0, \"#0d0887\"], [0.1111111111111111, \"#46039f\"], [0.2222222222222222, \"#7201a8\"], [0.3333333333333333, \"#9c179e\"], [0.4444444444444444, \"#bd3786\"], [0.5555555555555556, \"#d8576b\"], [0.6666666666666666, \"#ed7953\"], [0.7777777777777778, \"#fb9f3a\"], [0.8888888888888888, \"#fdca26\"], [1.0, \"#f0f921\"]]}, \"colorway\": [\"#636efa\", \"#EF553B\", \"#00cc96\", \"#ab63fa\", \"#FFA15A\", \"#19d3f3\", \"#FF6692\", \"#B6E880\", \"#FF97FF\", \"#FECB52\"], \"font\": {\"color\": \"#2a3f5f\"}, \"geo\": {\"bgcolor\": \"white\", \"lakecolor\": \"white\", \"landcolor\": \"#E5ECF6\", \"showlakes\": true, \"showland\": true, \"subunitcolor\": \"white\"}, \"hoverlabel\": {\"align\": \"left\"}, \"hovermode\": \"closest\", \"mapbox\": {\"style\": \"light\"}, \"paper_bgcolor\": \"white\", \"plot_bgcolor\": \"#E5ECF6\", \"polar\": {\"angularaxis\": {\"gridcolor\": \"white\", \"linecolor\": \"white\", \"ticks\": \"\"}, \"bgcolor\": \"#E5ECF6\", \"radialaxis\": {\"gridcolor\": \"white\", \"linecolor\": \"white\", \"ticks\": \"\"}}, \"scene\": {\"xaxis\": {\"backgroundcolor\": \"#E5ECF6\", \"gridcolor\": \"white\", \"gridwidth\": 2, \"linecolor\": \"white\", \"showbackground\": true, \"ticks\": \"\", \"zerolinecolor\": \"white\"}, \"yaxis\": {\"backgroundcolor\": \"#E5ECF6\", \"gridcolor\": \"white\", \"gridwidth\": 2, \"linecolor\": \"white\", \"showbackground\": true, \"ticks\": \"\", \"zerolinecolor\": \"white\"}, \"zaxis\": {\"backgroundcolor\": \"#E5ECF6\", \"gridcolor\": \"white\", \"gridwidth\": 2, \"linecolor\": \"white\", \"showbackground\": true, \"ticks\": \"\", \"zerolinecolor\": \"white\"}}, \"shapedefaults\": {\"line\": {\"color\": \"#2a3f5f\"}}, \"ternary\": {\"aaxis\": {\"gridcolor\": \"white\", \"linecolor\": \"white\", \"ticks\": \"\"}, \"baxis\": {\"gridcolor\": \"white\", \"linecolor\": \"white\", \"ticks\": \"\"}, \"bgcolor\": \"#E5ECF6\", \"caxis\": {\"gridcolor\": \"white\", \"linecolor\": \"white\", \"ticks\": \"\"}}, \"title\": {\"x\": 0.05}, \"xaxis\": {\"automargin\": true, \"gridcolor\": \"white\", \"linecolor\": \"white\", \"ticks\": \"\", \"title\": {\"standoff\": 15}, \"zerolinecolor\": \"white\", \"zerolinewidth\": 2}, \"yaxis\": {\"automargin\": true, \"gridcolor\": \"white\", \"linecolor\": \"white\", \"ticks\": \"\", \"title\": {\"standoff\": 15}, \"zerolinecolor\": \"white\", \"zerolinewidth\": 2}}}, \"xaxis\": {\"anchor\": \"y\", \"domain\": [0.0, 1.0], \"title\": {\"text\": \"FECHA_ORDEN\"}}, \"yaxis\": {\"anchor\": \"x\", \"domain\": [0.0, 1.0], \"title\": {\"text\": \"TOTAL_SIN_IVA\"}}},                        {\"responsive\": true}                    )                };                            </script>        </div>\n</body>\n</html>",
       "datasetInfos": [],
       "metadata": {},
       "removedWidgets": [],
       "textData": null,
       "type": "htmlSandbox"
      }
     },
     "output_type": "display_data"
    }
   ],
   "source": [
    "px.bar(df_Y, y='TOTAL_SIN_IVA')"
   ]
  },
  {
   "cell_type": "markdown",
   "metadata": {
    "application/vnd.databricks.v1+cell": {
     "inputWidgets": {},
     "nuid": "5aa05d27-cea1-4821-a0f9-b28a106e65f4",
     "showTitle": false,
     "title": ""
    }
   },
   "source": [
    "## By Month"
   ]
  },
  {
   "cell_type": "code",
   "execution_count": 0,
   "metadata": {
    "application/vnd.databricks.v1+cell": {
     "inputWidgets": {},
     "nuid": "a752b952-942d-41df-90a3-dde6b3f3c84e",
     "showTitle": false,
     "title": ""
    }
   },
   "outputs": [
    {
     "data": {
      "text/html": [
       "<style scoped>\n",
       "  .ansiout {\n",
       "    display: block;\n",
       "    unicode-bidi: embed;\n",
       "    white-space: pre-wrap;\n",
       "    word-wrap: break-word;\n",
       "    word-break: break-all;\n",
       "    font-family: \"Source Code Pro\", \"Menlo\", monospace;;\n",
       "    font-size: 13px;\n",
       "    color: #555;\n",
       "    margin-left: 4px;\n",
       "    line-height: 19px;\n",
       "  }\n",
       "</style>\n",
       "<div class=\"ansiout\">Out[1079]: </div>"
      ]
     },
     "metadata": {
      "application/vnd.databricks.v1+output": {
       "addedWidgets": {},
       "arguments": {},
       "data": "<div class=\"ansiout\">Out[1079]: </div>",
       "datasetInfos": [],
       "metadata": {},
       "removedWidgets": [],
       "type": "html"
      }
     },
     "output_type": "display_data"
    },
    {
     "data": {
      "text/html": [
       "<div>\n",
       "<style scoped>\n",
       "    .dataframe tbody tr th:only-of-type {\n",
       "        vertical-align: middle;\n",
       "    }\n",
       "\n",
       "    .dataframe tbody tr th {\n",
       "        vertical-align: top;\n",
       "    }\n",
       "\n",
       "    .dataframe thead th {\n",
       "        text-align: right;\n",
       "    }\n",
       "</style>\n",
       "<table border=\"1\" class=\"dataframe\">\n",
       "  <thead>\n",
       "    <tr style=\"text-align: right;\">\n",
       "      <th></th>\n",
       "      <th>CANTIDAD_PEDIDA</th>\n",
       "      <th>CANTIDAD_RECIBIDA</th>\n",
       "      <th>PRECIO_UNITARIO</th>\n",
       "      <th>IVA</th>\n",
       "      <th>TOTAL_SIN_IVA</th>\n",
       "    </tr>\n",
       "    <tr>\n",
       "      <th>FECHA_ORDEN</th>\n",
       "      <th></th>\n",
       "      <th></th>\n",
       "      <th></th>\n",
       "      <th></th>\n",
       "      <th></th>\n",
       "    </tr>\n",
       "  </thead>\n",
       "  <tbody>\n",
       "    <tr>\n",
       "      <th>2018-04-30</th>\n",
       "      <td>22.00</td>\n",
       "      <td>22.00</td>\n",
       "      <td>126,722.00</td>\n",
       "      <td>24,078.00</td>\n",
       "      <td>643,529.00</td>\n",
       "    </tr>\n",
       "    <tr>\n",
       "      <th>2018-05-31</th>\n",
       "      <td>179,909.93</td>\n",
       "      <td>182.00</td>\n",
       "      <td>17,952,810.00</td>\n",
       "      <td>3,397,901.00</td>\n",
       "      <td>86,983,344.00</td>\n",
       "    </tr>\n",
       "    <tr>\n",
       "      <th>2018-06-30</th>\n",
       "      <td>481,225.57</td>\n",
       "      <td>160.00</td>\n",
       "      <td>16,467,157.00</td>\n",
       "      <td>2,910,354.00</td>\n",
       "      <td>101,410,232.00</td>\n",
       "    </tr>\n",
       "    <tr>\n",
       "      <th>2018-07-31</th>\n",
       "      <td>250,286.19</td>\n",
       "      <td>0.00</td>\n",
       "      <td>12,030,855.00</td>\n",
       "      <td>2,273,663.00</td>\n",
       "      <td>106,887,144.00</td>\n",
       "    </tr>\n",
       "    <tr>\n",
       "      <th>2018-08-31</th>\n",
       "      <td>323,701.00</td>\n",
       "      <td>583.00</td>\n",
       "      <td>3,449,758.00</td>\n",
       "      <td>642,979.00</td>\n",
       "      <td>85,446,688.00</td>\n",
       "    </tr>\n",
       "    <tr>\n",
       "      <th>2018-09-30</th>\n",
       "      <td>333,671.01</td>\n",
       "      <td>12.00</td>\n",
       "      <td>2,394,064.00</td>\n",
       "      <td>402,736.00</td>\n",
       "      <td>80,714,904.00</td>\n",
       "    </tr>\n",
       "    <tr>\n",
       "      <th>2018-10-31</th>\n",
       "      <td>450,440.00</td>\n",
       "      <td>0.00</td>\n",
       "      <td>3,675,876.00</td>\n",
       "      <td>683,678.00</td>\n",
       "      <td>105,108,312.00</td>\n",
       "    </tr>\n",
       "    <tr>\n",
       "      <th>2018-11-30</th>\n",
       "      <td>457,966.00</td>\n",
       "      <td>0.00</td>\n",
       "      <td>466,431.00</td>\n",
       "      <td>81,481.00</td>\n",
       "      <td>55,557,620.00</td>\n",
       "    </tr>\n",
       "    <tr>\n",
       "      <th>2018-12-31</th>\n",
       "      <td>348,439.00</td>\n",
       "      <td>3.00</td>\n",
       "      <td>282,501.00</td>\n",
       "      <td>51,187.00</td>\n",
       "      <td>37,351,064.00</td>\n",
       "    </tr>\n",
       "    <tr>\n",
       "      <th>2019-01-31</th>\n",
       "      <td>332,937.00</td>\n",
       "      <td>0.00</td>\n",
       "      <td>285,320.00</td>\n",
       "      <td>51,275.00</td>\n",
       "      <td>32,644,728.00</td>\n",
       "    </tr>\n",
       "    <tr>\n",
       "      <th>2019-02-28</th>\n",
       "      <td>5.00</td>\n",
       "      <td>5.00</td>\n",
       "      <td>740.00</td>\n",
       "      <td>0.00</td>\n",
       "      <td>3,700.00</td>\n",
       "    </tr>\n",
       "    <tr>\n",
       "      <th>2019-03-31</th>\n",
       "      <td>1.00</td>\n",
       "      <td>0.00</td>\n",
       "      <td>22,549,192.00</td>\n",
       "      <td>0.00</td>\n",
       "      <td>22,549,192.00</td>\n",
       "    </tr>\n",
       "    <tr>\n",
       "      <th>2019-04-30</th>\n",
       "      <td>9.00</td>\n",
       "      <td>0.00</td>\n",
       "      <td>97,639.00</td>\n",
       "      <td>18,361.00</td>\n",
       "      <td>127,051.00</td>\n",
       "    </tr>\n",
       "    <tr>\n",
       "      <th>2019-05-31</th>\n",
       "      <td>0.00</td>\n",
       "      <td>0.00</td>\n",
       "      <td>0.00</td>\n",
       "      <td>0.00</td>\n",
       "      <td>0.00</td>\n",
       "    </tr>\n",
       "    <tr>\n",
       "      <th>2019-06-30</th>\n",
       "      <td>36.00</td>\n",
       "      <td>19.00</td>\n",
       "      <td>3,463,396.00</td>\n",
       "      <td>657,666.00</td>\n",
       "      <td>3,723,850.00</td>\n",
       "    </tr>\n",
       "    <tr>\n",
       "      <th>2019-07-31</th>\n",
       "      <td>295.00</td>\n",
       "      <td>141.00</td>\n",
       "      <td>962,808.00</td>\n",
       "      <td>138,374.00</td>\n",
       "      <td>3,978,824.00</td>\n",
       "    </tr>\n",
       "    <tr>\n",
       "      <th>2019-08-31</th>\n",
       "      <td>0.00</td>\n",
       "      <td>0.00</td>\n",
       "      <td>0.00</td>\n",
       "      <td>0.00</td>\n",
       "      <td>0.00</td>\n",
       "    </tr>\n",
       "    <tr>\n",
       "      <th>2019-09-30</th>\n",
       "      <td>25.00</td>\n",
       "      <td>19.00</td>\n",
       "      <td>218,648.00</td>\n",
       "      <td>22,352.00</td>\n",
       "      <td>1,342,177.00</td>\n",
       "    </tr>\n",
       "    <tr>\n",
       "      <th>2019-10-31</th>\n",
       "      <td>68.00</td>\n",
       "      <td>24.00</td>\n",
       "      <td>191,664.00</td>\n",
       "      <td>36,036.00</td>\n",
       "      <td>1,278,445.00</td>\n",
       "    </tr>\n",
       "    <tr>\n",
       "      <th>2019-11-30</th>\n",
       "      <td>84,151.00</td>\n",
       "      <td>84,146.00</td>\n",
       "      <td>46,663,312.00</td>\n",
       "      <td>8,865,824.00</td>\n",
       "      <td>1,132,102,144.00</td>\n",
       "    </tr>\n",
       "    <tr>\n",
       "      <th>2019-12-31</th>\n",
       "      <td>83,369.00</td>\n",
       "      <td>83,360.00</td>\n",
       "      <td>94,702,984.00</td>\n",
       "      <td>17,870,134.00</td>\n",
       "      <td>1,589,518,592.00</td>\n",
       "    </tr>\n",
       "    <tr>\n",
       "      <th>2020-01-31</th>\n",
       "      <td>20,543.00</td>\n",
       "      <td>20,531.00</td>\n",
       "      <td>36,348,304.00</td>\n",
       "      <td>6,886,504.00</td>\n",
       "      <td>684,580,992.00</td>\n",
       "    </tr>\n",
       "    <tr>\n",
       "      <th>2020-02-29</th>\n",
       "      <td>99,804.00</td>\n",
       "      <td>96,719.00</td>\n",
       "      <td>41,096,016.00</td>\n",
       "      <td>7,800,725.00</td>\n",
       "      <td>1,294,864,768.00</td>\n",
       "    </tr>\n",
       "    <tr>\n",
       "      <th>2020-03-31</th>\n",
       "      <td>1,285.00</td>\n",
       "      <td>852.00</td>\n",
       "      <td>4,525,672.00</td>\n",
       "      <td>858,757.00</td>\n",
       "      <td>51,060,612.00</td>\n",
       "    </tr>\n",
       "    <tr>\n",
       "      <th>2020-04-30</th>\n",
       "      <td>618.00</td>\n",
       "      <td>544.00</td>\n",
       "      <td>749,409.00</td>\n",
       "      <td>29,699.00</td>\n",
       "      <td>9,722,532.00</td>\n",
       "    </tr>\n",
       "    <tr>\n",
       "      <th>2020-05-31</th>\n",
       "      <td>240.00</td>\n",
       "      <td>175.00</td>\n",
       "      <td>996,320.00</td>\n",
       "      <td>154,864.00</td>\n",
       "      <td>4,059,773.00</td>\n",
       "    </tr>\n",
       "    <tr>\n",
       "      <th>2020-06-30</th>\n",
       "      <td>2,292.00</td>\n",
       "      <td>2,252.00</td>\n",
       "      <td>3,744,722.00</td>\n",
       "      <td>577,951.00</td>\n",
       "      <td>22,541,076.00</td>\n",
       "    </tr>\n",
       "    <tr>\n",
       "      <th>2020-07-31</th>\n",
       "      <td>1,354.00</td>\n",
       "      <td>1,309.00</td>\n",
       "      <td>4,004,701.00</td>\n",
       "      <td>192,723.00</td>\n",
       "      <td>10,381,840.00</td>\n",
       "    </tr>\n",
       "    <tr>\n",
       "      <th>2020-08-31</th>\n",
       "      <td>9,483.00</td>\n",
       "      <td>8,849.00</td>\n",
       "      <td>5,687,497.00</td>\n",
       "      <td>734,062.00</td>\n",
       "      <td>49,651,596.00</td>\n",
       "    </tr>\n",
       "    <tr>\n",
       "      <th>2020-09-30</th>\n",
       "      <td>37,402.50</td>\n",
       "      <td>25,181.00</td>\n",
       "      <td>6,644,025.00</td>\n",
       "      <td>996,357.00</td>\n",
       "      <td>83,557,264.00</td>\n",
       "    </tr>\n",
       "    <tr>\n",
       "      <th>2020-10-31</th>\n",
       "      <td>34,516.27</td>\n",
       "      <td>30,262.00</td>\n",
       "      <td>8,352,434.00</td>\n",
       "      <td>958,543.00</td>\n",
       "      <td>114,524,352.00</td>\n",
       "    </tr>\n",
       "    <tr>\n",
       "      <th>2020-11-30</th>\n",
       "      <td>53,366.60</td>\n",
       "      <td>45,813.65</td>\n",
       "      <td>13,752,106.00</td>\n",
       "      <td>1,369,291.00</td>\n",
       "      <td>186,020,768.00</td>\n",
       "    </tr>\n",
       "    <tr>\n",
       "      <th>2020-12-31</th>\n",
       "      <td>37,339.41</td>\n",
       "      <td>28,671.31</td>\n",
       "      <td>32,421,984.00</td>\n",
       "      <td>5,284,142.00</td>\n",
       "      <td>244,092,528.00</td>\n",
       "    </tr>\n",
       "    <tr>\n",
       "      <th>2021-01-31</th>\n",
       "      <td>51,299.65</td>\n",
       "      <td>38,308.35</td>\n",
       "      <td>23,584,440.00</td>\n",
       "      <td>3,004,268.00</td>\n",
       "      <td>243,477,568.00</td>\n",
       "    </tr>\n",
       "    <tr>\n",
       "      <th>2021-02-28</th>\n",
       "      <td>92,449.30</td>\n",
       "      <td>88,266.40</td>\n",
       "      <td>26,286,168.00</td>\n",
       "      <td>3,860,959.00</td>\n",
       "      <td>274,992,672.00</td>\n",
       "    </tr>\n",
       "    <tr>\n",
       "      <th>2021-03-31</th>\n",
       "      <td>20,805.50</td>\n",
       "      <td>17,075.35</td>\n",
       "      <td>40,688,896.00</td>\n",
       "      <td>6,179,525.00</td>\n",
       "      <td>149,910,976.00</td>\n",
       "    </tr>\n",
       "    <tr>\n",
       "      <th>2021-04-30</th>\n",
       "      <td>43,469.50</td>\n",
       "      <td>37,453.80</td>\n",
       "      <td>128,889,064.00</td>\n",
       "      <td>22,269,916.00</td>\n",
       "      <td>539,532,736.00</td>\n",
       "    </tr>\n",
       "    <tr>\n",
       "      <th>2021-05-31</th>\n",
       "      <td>65,873.00</td>\n",
       "      <td>51,333.30</td>\n",
       "      <td>171,924,944.00</td>\n",
       "      <td>21,777,534.00</td>\n",
       "      <td>381,226,336.00</td>\n",
       "    </tr>\n",
       "    <tr>\n",
       "      <th>2021-06-30</th>\n",
       "      <td>29,749.00</td>\n",
       "      <td>18,387.30</td>\n",
       "      <td>174,404,832.00</td>\n",
       "      <td>20,319,964.00</td>\n",
       "      <td>1,023,699,712.00</td>\n",
       "    </tr>\n",
       "    <tr>\n",
       "      <th>2021-07-31</th>\n",
       "      <td>89,269.00</td>\n",
       "      <td>80,448.75</td>\n",
       "      <td>115,662,480.00</td>\n",
       "      <td>18,030,136.00</td>\n",
       "      <td>424,662,592.00</td>\n",
       "    </tr>\n",
       "    <tr>\n",
       "      <th>2021-08-31</th>\n",
       "      <td>93,503.50</td>\n",
       "      <td>82,638.00</td>\n",
       "      <td>155,981,440.00</td>\n",
       "      <td>26,302,592.00</td>\n",
       "      <td>363,059,520.00</td>\n",
       "    </tr>\n",
       "    <tr>\n",
       "      <th>2021-09-30</th>\n",
       "      <td>106,726.50</td>\n",
       "      <td>99,628.30</td>\n",
       "      <td>186,657,328.00</td>\n",
       "      <td>31,811,608.00</td>\n",
       "      <td>503,067,456.00</td>\n",
       "    </tr>\n",
       "    <tr>\n",
       "      <th>2021-10-31</th>\n",
       "      <td>113,394.20</td>\n",
       "      <td>103,559.15</td>\n",
       "      <td>187,089,328.00</td>\n",
       "      <td>29,965,622.00</td>\n",
       "      <td>431,217,408.00</td>\n",
       "    </tr>\n",
       "    <tr>\n",
       "      <th>2021-11-30</th>\n",
       "      <td>72,708.00</td>\n",
       "      <td>61,987.40</td>\n",
       "      <td>63,220,324.00</td>\n",
       "      <td>10,007,530.00</td>\n",
       "      <td>156,223,120.00</td>\n",
       "    </tr>\n",
       "  </tbody>\n",
       "</table>\n",
       "</div>"
      ]
     },
     "metadata": {
      "application/vnd.databricks.v1+output": {
       "addedWidgets": {},
       "arguments": {},
       "data": "<div>\n<style scoped>\n    .dataframe tbody tr th:only-of-type {\n        vertical-align: middle;\n    }\n\n    .dataframe tbody tr th {\n        vertical-align: top;\n    }\n\n    .dataframe thead th {\n        text-align: right;\n    }\n</style>\n<table border=\"1\" class=\"dataframe\">\n  <thead>\n    <tr style=\"text-align: right;\">\n      <th></th>\n      <th>CANTIDAD_PEDIDA</th>\n      <th>CANTIDAD_RECIBIDA</th>\n      <th>PRECIO_UNITARIO</th>\n      <th>IVA</th>\n      <th>TOTAL_SIN_IVA</th>\n    </tr>\n    <tr>\n      <th>FECHA_ORDEN</th>\n      <th></th>\n      <th></th>\n      <th></th>\n      <th></th>\n      <th></th>\n    </tr>\n  </thead>\n  <tbody>\n    <tr>\n      <th>2018-04-30</th>\n      <td>22.00</td>\n      <td>22.00</td>\n      <td>126,722.00</td>\n      <td>24,078.00</td>\n      <td>643,529.00</td>\n    </tr>\n    <tr>\n      <th>2018-05-31</th>\n      <td>179,909.93</td>\n      <td>182.00</td>\n      <td>17,952,810.00</td>\n      <td>3,397,901.00</td>\n      <td>86,983,344.00</td>\n    </tr>\n    <tr>\n      <th>2018-06-30</th>\n      <td>481,225.57</td>\n      <td>160.00</td>\n      <td>16,467,157.00</td>\n      <td>2,910,354.00</td>\n      <td>101,410,232.00</td>\n    </tr>\n    <tr>\n      <th>2018-07-31</th>\n      <td>250,286.19</td>\n      <td>0.00</td>\n      <td>12,030,855.00</td>\n      <td>2,273,663.00</td>\n      <td>106,887,144.00</td>\n    </tr>\n    <tr>\n      <th>2018-08-31</th>\n      <td>323,701.00</td>\n      <td>583.00</td>\n      <td>3,449,758.00</td>\n      <td>642,979.00</td>\n      <td>85,446,688.00</td>\n    </tr>\n    <tr>\n      <th>2018-09-30</th>\n      <td>333,671.01</td>\n      <td>12.00</td>\n      <td>2,394,064.00</td>\n      <td>402,736.00</td>\n      <td>80,714,904.00</td>\n    </tr>\n    <tr>\n      <th>2018-10-31</th>\n      <td>450,440.00</td>\n      <td>0.00</td>\n      <td>3,675,876.00</td>\n      <td>683,678.00</td>\n      <td>105,108,312.00</td>\n    </tr>\n    <tr>\n      <th>2018-11-30</th>\n      <td>457,966.00</td>\n      <td>0.00</td>\n      <td>466,431.00</td>\n      <td>81,481.00</td>\n      <td>55,557,620.00</td>\n    </tr>\n    <tr>\n      <th>2018-12-31</th>\n      <td>348,439.00</td>\n      <td>3.00</td>\n      <td>282,501.00</td>\n      <td>51,187.00</td>\n      <td>37,351,064.00</td>\n    </tr>\n    <tr>\n      <th>2019-01-31</th>\n      <td>332,937.00</td>\n      <td>0.00</td>\n      <td>285,320.00</td>\n      <td>51,275.00</td>\n      <td>32,644,728.00</td>\n    </tr>\n    <tr>\n      <th>2019-02-28</th>\n      <td>5.00</td>\n      <td>5.00</td>\n      <td>740.00</td>\n      <td>0.00</td>\n      <td>3,700.00</td>\n    </tr>\n    <tr>\n      <th>2019-03-31</th>\n      <td>1.00</td>\n      <td>0.00</td>\n      <td>22,549,192.00</td>\n      <td>0.00</td>\n      <td>22,549,192.00</td>\n    </tr>\n    <tr>\n      <th>2019-04-30</th>\n      <td>9.00</td>\n      <td>0.00</td>\n      <td>97,639.00</td>\n      <td>18,361.00</td>\n      <td>127,051.00</td>\n    </tr>\n    <tr>\n      <th>2019-05-31</th>\n      <td>0.00</td>\n      <td>0.00</td>\n      <td>0.00</td>\n      <td>0.00</td>\n      <td>0.00</td>\n    </tr>\n    <tr>\n      <th>2019-06-30</th>\n      <td>36.00</td>\n      <td>19.00</td>\n      <td>3,463,396.00</td>\n      <td>657,666.00</td>\n      <td>3,723,850.00</td>\n    </tr>\n    <tr>\n      <th>2019-07-31</th>\n      <td>295.00</td>\n      <td>141.00</td>\n      <td>962,808.00</td>\n      <td>138,374.00</td>\n      <td>3,978,824.00</td>\n    </tr>\n    <tr>\n      <th>2019-08-31</th>\n      <td>0.00</td>\n      <td>0.00</td>\n      <td>0.00</td>\n      <td>0.00</td>\n      <td>0.00</td>\n    </tr>\n    <tr>\n      <th>2019-09-30</th>\n      <td>25.00</td>\n      <td>19.00</td>\n      <td>218,648.00</td>\n      <td>22,352.00</td>\n      <td>1,342,177.00</td>\n    </tr>\n    <tr>\n      <th>2019-10-31</th>\n      <td>68.00</td>\n      <td>24.00</td>\n      <td>191,664.00</td>\n      <td>36,036.00</td>\n      <td>1,278,445.00</td>\n    </tr>\n    <tr>\n      <th>2019-11-30</th>\n      <td>84,151.00</td>\n      <td>84,146.00</td>\n      <td>46,663,312.00</td>\n      <td>8,865,824.00</td>\n      <td>1,132,102,144.00</td>\n    </tr>\n    <tr>\n      <th>2019-12-31</th>\n      <td>83,369.00</td>\n      <td>83,360.00</td>\n      <td>94,702,984.00</td>\n      <td>17,870,134.00</td>\n      <td>1,589,518,592.00</td>\n    </tr>\n    <tr>\n      <th>2020-01-31</th>\n      <td>20,543.00</td>\n      <td>20,531.00</td>\n      <td>36,348,304.00</td>\n      <td>6,886,504.00</td>\n      <td>684,580,992.00</td>\n    </tr>\n    <tr>\n      <th>2020-02-29</th>\n      <td>99,804.00</td>\n      <td>96,719.00</td>\n      <td>41,096,016.00</td>\n      <td>7,800,725.00</td>\n      <td>1,294,864,768.00</td>\n    </tr>\n    <tr>\n      <th>2020-03-31</th>\n      <td>1,285.00</td>\n      <td>852.00</td>\n      <td>4,525,672.00</td>\n      <td>858,757.00</td>\n      <td>51,060,612.00</td>\n    </tr>\n    <tr>\n      <th>2020-04-30</th>\n      <td>618.00</td>\n      <td>544.00</td>\n      <td>749,409.00</td>\n      <td>29,699.00</td>\n      <td>9,722,532.00</td>\n    </tr>\n    <tr>\n      <th>2020-05-31</th>\n      <td>240.00</td>\n      <td>175.00</td>\n      <td>996,320.00</td>\n      <td>154,864.00</td>\n      <td>4,059,773.00</td>\n    </tr>\n    <tr>\n      <th>2020-06-30</th>\n      <td>2,292.00</td>\n      <td>2,252.00</td>\n      <td>3,744,722.00</td>\n      <td>577,951.00</td>\n      <td>22,541,076.00</td>\n    </tr>\n    <tr>\n      <th>2020-07-31</th>\n      <td>1,354.00</td>\n      <td>1,309.00</td>\n      <td>4,004,701.00</td>\n      <td>192,723.00</td>\n      <td>10,381,840.00</td>\n    </tr>\n    <tr>\n      <th>2020-08-31</th>\n      <td>9,483.00</td>\n      <td>8,849.00</td>\n      <td>5,687,497.00</td>\n      <td>734,062.00</td>\n      <td>49,651,596.00</td>\n    </tr>\n    <tr>\n      <th>2020-09-30</th>\n      <td>37,402.50</td>\n      <td>25,181.00</td>\n      <td>6,644,025.00</td>\n      <td>996,357.00</td>\n      <td>83,557,264.00</td>\n    </tr>\n    <tr>\n      <th>2020-10-31</th>\n      <td>34,516.27</td>\n      <td>30,262.00</td>\n      <td>8,352,434.00</td>\n      <td>958,543.00</td>\n      <td>114,524,352.00</td>\n    </tr>\n    <tr>\n      <th>2020-11-30</th>\n      <td>53,366.60</td>\n      <td>45,813.65</td>\n      <td>13,752,106.00</td>\n      <td>1,369,291.00</td>\n      <td>186,020,768.00</td>\n    </tr>\n    <tr>\n      <th>2020-12-31</th>\n      <td>37,339.41</td>\n      <td>28,671.31</td>\n      <td>32,421,984.00</td>\n      <td>5,284,142.00</td>\n      <td>244,092,528.00</td>\n    </tr>\n    <tr>\n      <th>2021-01-31</th>\n      <td>51,299.65</td>\n      <td>38,308.35</td>\n      <td>23,584,440.00</td>\n      <td>3,004,268.00</td>\n      <td>243,477,568.00</td>\n    </tr>\n    <tr>\n      <th>2021-02-28</th>\n      <td>92,449.30</td>\n      <td>88,266.40</td>\n      <td>26,286,168.00</td>\n      <td>3,860,959.00</td>\n      <td>274,992,672.00</td>\n    </tr>\n    <tr>\n      <th>2021-03-31</th>\n      <td>20,805.50</td>\n      <td>17,075.35</td>\n      <td>40,688,896.00</td>\n      <td>6,179,525.00</td>\n      <td>149,910,976.00</td>\n    </tr>\n    <tr>\n      <th>2021-04-30</th>\n      <td>43,469.50</td>\n      <td>37,453.80</td>\n      <td>128,889,064.00</td>\n      <td>22,269,916.00</td>\n      <td>539,532,736.00</td>\n    </tr>\n    <tr>\n      <th>2021-05-31</th>\n      <td>65,873.00</td>\n      <td>51,333.30</td>\n      <td>171,924,944.00</td>\n      <td>21,777,534.00</td>\n      <td>381,226,336.00</td>\n    </tr>\n    <tr>\n      <th>2021-06-30</th>\n      <td>29,749.00</td>\n      <td>18,387.30</td>\n      <td>174,404,832.00</td>\n      <td>20,319,964.00</td>\n      <td>1,023,699,712.00</td>\n    </tr>\n    <tr>\n      <th>2021-07-31</th>\n      <td>89,269.00</td>\n      <td>80,448.75</td>\n      <td>115,662,480.00</td>\n      <td>18,030,136.00</td>\n      <td>424,662,592.00</td>\n    </tr>\n    <tr>\n      <th>2021-08-31</th>\n      <td>93,503.50</td>\n      <td>82,638.00</td>\n      <td>155,981,440.00</td>\n      <td>26,302,592.00</td>\n      <td>363,059,520.00</td>\n    </tr>\n    <tr>\n      <th>2021-09-30</th>\n      <td>106,726.50</td>\n      <td>99,628.30</td>\n      <td>186,657,328.00</td>\n      <td>31,811,608.00</td>\n      <td>503,067,456.00</td>\n    </tr>\n    <tr>\n      <th>2021-10-31</th>\n      <td>113,394.20</td>\n      <td>103,559.15</td>\n      <td>187,089,328.00</td>\n      <td>29,965,622.00</td>\n      <td>431,217,408.00</td>\n    </tr>\n    <tr>\n      <th>2021-11-30</th>\n      <td>72,708.00</td>\n      <td>61,987.40</td>\n      <td>63,220,324.00</td>\n      <td>10,007,530.00</td>\n      <td>156,223,120.00</td>\n    </tr>\n  </tbody>\n</table>\n</div>",
       "datasetInfos": [],
       "metadata": {},
       "removedWidgets": [],
       "textData": null,
       "type": "htmlSandbox"
      }
     },
     "output_type": "display_data"
    }
   ],
   "source": [
    "df_M = df.groupby(pd.Grouper(key='FECHA_ORDEN', freq=\"M\")).sum()\n",
    "df_M"
   ]
  },
  {
   "cell_type": "code",
   "execution_count": 0,
   "metadata": {
    "application/vnd.databricks.v1+cell": {
     "inputWidgets": {},
     "nuid": "4e52b074-6212-4fa4-9575-1d9d32f728b5",
     "showTitle": false,
     "title": ""
    }
   },
   "outputs": [
    {
     "data": {
      "text/html": [
       "<style scoped>\n",
       "  .ansiout {\n",
       "    display: block;\n",
       "    unicode-bidi: embed;\n",
       "    white-space: pre-wrap;\n",
       "    word-wrap: break-word;\n",
       "    word-break: break-all;\n",
       "    font-family: \"Source Code Pro\", \"Menlo\", monospace;;\n",
       "    font-size: 13px;\n",
       "    color: #555;\n",
       "    margin-left: 4px;\n",
       "    line-height: 19px;\n",
       "  }\n",
       "</style>\n",
       "<div class=\"ansiout\">Out[1080]: </div>"
      ]
     },
     "metadata": {
      "application/vnd.databricks.v1+output": {
       "addedWidgets": {},
       "arguments": {},
       "data": "<div class=\"ansiout\">Out[1080]: </div>",
       "datasetInfos": [],
       "metadata": {},
       "removedWidgets": [],
       "type": "html"
      }
     },
     "output_type": "display_data"
    },
    {
     "data": {
      "text/html": [
       "<html>\n",
       "<head><meta charset=\"utf-8\" /></head>\n",
       "<body>\n",
       "    <div>            <script src=\"https://cdnjs.cloudflare.com/ajax/libs/mathjax/2.7.5/MathJax.js?config=TeX-AMS-MML_SVG\"></script><script type=\"text/javascript\">if (window.MathJax) {MathJax.Hub.Config({SVG: {font: \"STIX-Web\"}});}</script>                <script type=\"text/javascript\">window.PlotlyConfig = {MathJaxConfig: 'local'};</script>\n",
       "        <script src=\"https://cdn.plot.ly/plotly-latest.min.js\"></script>                <div id=\"4e0035a7-fb8b-4af0-a183-87181d3e5397\" class=\"plotly-graph-div\" style=\"height:100%; width:100%;\"></div>            <script type=\"text/javascript\">                                    window.PLOTLYENV=window.PLOTLYENV || {};                                    if (document.getElementById(\"4e0035a7-fb8b-4af0-a183-87181d3e5397\")) {                    Plotly.newPlot(                        \"4e0035a7-fb8b-4af0-a183-87181d3e5397\",                        [{\"alignmentgroup\": \"True\", \"hovertemplate\": \"FECHA_ORDEN=%{x}<br>TOTAL_SIN_IVA=%{y}<extra></extra>\", \"legendgroup\": \"\", \"marker\": {\"color\": \"#636efa\"}, \"name\": \"\", \"offsetgroup\": \"\", \"orientation\": \"v\", \"showlegend\": false, \"textposition\": \"auto\", \"type\": \"bar\", \"x\": [\"2018-04-30T00:00:00\", \"2018-05-31T00:00:00\", \"2018-06-30T00:00:00\", \"2018-07-31T00:00:00\", \"2018-08-31T00:00:00\", \"2018-09-30T00:00:00\", \"2018-10-31T00:00:00\", \"2018-11-30T00:00:00\", \"2018-12-31T00:00:00\", \"2019-01-31T00:00:00\", \"2019-02-28T00:00:00\", \"2019-03-31T00:00:00\", \"2019-04-30T00:00:00\", \"2019-05-31T00:00:00\", \"2019-06-30T00:00:00\", \"2019-07-31T00:00:00\", \"2019-08-31T00:00:00\", \"2019-09-30T00:00:00\", \"2019-10-31T00:00:00\", \"2019-11-30T00:00:00\", \"2019-12-31T00:00:00\", \"2020-01-31T00:00:00\", \"2020-02-29T00:00:00\", \"2020-03-31T00:00:00\", \"2020-04-30T00:00:00\", \"2020-05-31T00:00:00\", \"2020-06-30T00:00:00\", \"2020-07-31T00:00:00\", \"2020-08-31T00:00:00\", \"2020-09-30T00:00:00\", \"2020-10-31T00:00:00\", \"2020-11-30T00:00:00\", \"2020-12-31T00:00:00\", \"2021-01-31T00:00:00\", \"2021-02-28T00:00:00\", \"2021-03-31T00:00:00\", \"2021-04-30T00:00:00\", \"2021-05-31T00:00:00\", \"2021-06-30T00:00:00\", \"2021-07-31T00:00:00\", \"2021-08-31T00:00:00\", \"2021-09-30T00:00:00\", \"2021-10-31T00:00:00\", \"2021-11-30T00:00:00\"], \"xaxis\": \"x\", \"y\": [643529.0, 86983344.0, 101410232.0, 106887144.0, 85446688.0, 80714904.0, 105108312.0, 55557620.0, 37351064.0, 32644728.0, 3700.0, 22549192.0, 127051.0, 0.0, 3723850.0, 3978824.0, 0.0, 1342177.0, 1278445.0, 1132102144.0, 1589518592.0, 684580992.0, 1294864768.0, 51060612.0, 9722532.0, 4059773.0, 22541076.0, 10381840.0, 49651596.0, 83557264.0, 114524352.0, 186020768.0, 244092528.0, 243477568.0, 274992672.0, 149910976.0, 539532736.0, 381226336.0, 1023699712.0, 424662592.0, 363059520.0, 503067456.0, 431217408.0, 156223120.0], \"yaxis\": \"y\"}],                        {\"barmode\": \"relative\", \"legend\": {\"tracegroupgap\": 0}, \"margin\": {\"t\": 60}, \"template\": {\"data\": {\"bar\": [{\"error_x\": {\"color\": \"#2a3f5f\"}, \"error_y\": {\"color\": \"#2a3f5f\"}, \"marker\": {\"line\": {\"color\": \"#E5ECF6\", \"width\": 0.5}}, \"type\": \"bar\"}], \"barpolar\": [{\"marker\": {\"line\": {\"color\": \"#E5ECF6\", \"width\": 0.5}}, \"type\": \"barpolar\"}], \"carpet\": [{\"aaxis\": {\"endlinecolor\": \"#2a3f5f\", \"gridcolor\": \"white\", \"linecolor\": \"white\", \"minorgridcolor\": \"white\", \"startlinecolor\": \"#2a3f5f\"}, \"baxis\": {\"endlinecolor\": \"#2a3f5f\", \"gridcolor\": \"white\", \"linecolor\": \"white\", \"minorgridcolor\": \"white\", \"startlinecolor\": \"#2a3f5f\"}, \"type\": \"carpet\"}], \"choropleth\": [{\"colorbar\": {\"outlinewidth\": 0, \"ticks\": \"\"}, \"type\": \"choropleth\"}], \"contour\": [{\"colorbar\": {\"outlinewidth\": 0, \"ticks\": \"\"}, \"colorscale\": [[0.0, \"#0d0887\"], [0.1111111111111111, \"#46039f\"], [0.2222222222222222, \"#7201a8\"], [0.3333333333333333, \"#9c179e\"], [0.4444444444444444, \"#bd3786\"], [0.5555555555555556, \"#d8576b\"], [0.6666666666666666, \"#ed7953\"], [0.7777777777777778, \"#fb9f3a\"], [0.8888888888888888, \"#fdca26\"], [1.0, \"#f0f921\"]], \"type\": \"contour\"}], \"contourcarpet\": [{\"colorbar\": {\"outlinewidth\": 0, \"ticks\": \"\"}, \"type\": \"contourcarpet\"}], \"heatmap\": [{\"colorbar\": {\"outlinewidth\": 0, \"ticks\": \"\"}, \"colorscale\": [[0.0, \"#0d0887\"], [0.1111111111111111, \"#46039f\"], [0.2222222222222222, \"#7201a8\"], [0.3333333333333333, \"#9c179e\"], [0.4444444444444444, \"#bd3786\"], [0.5555555555555556, \"#d8576b\"], [0.6666666666666666, \"#ed7953\"], [0.7777777777777778, \"#fb9f3a\"], [0.8888888888888888, \"#fdca26\"], [1.0, \"#f0f921\"]], \"type\": \"heatmap\"}], \"heatmapgl\": [{\"colorbar\": {\"outlinewidth\": 0, \"ticks\": \"\"}, \"colorscale\": [[0.0, \"#0d0887\"], [0.1111111111111111, \"#46039f\"], [0.2222222222222222, \"#7201a8\"], [0.3333333333333333, \"#9c179e\"], [0.4444444444444444, \"#bd3786\"], [0.5555555555555556, \"#d8576b\"], [0.6666666666666666, \"#ed7953\"], [0.7777777777777778, \"#fb9f3a\"], [0.8888888888888888, \"#fdca26\"], [1.0, \"#f0f921\"]], \"type\": \"heatmapgl\"}], \"histogram\": [{\"marker\": {\"colorbar\": {\"outlinewidth\": 0, \"ticks\": \"\"}}, \"type\": \"histogram\"}], \"histogram2d\": [{\"colorbar\": {\"outlinewidth\": 0, \"ticks\": \"\"}, \"colorscale\": [[0.0, \"#0d0887\"], [0.1111111111111111, \"#46039f\"], [0.2222222222222222, \"#7201a8\"], [0.3333333333333333, \"#9c179e\"], [0.4444444444444444, \"#bd3786\"], [0.5555555555555556, \"#d8576b\"], [0.6666666666666666, \"#ed7953\"], [0.7777777777777778, \"#fb9f3a\"], [0.8888888888888888, \"#fdca26\"], [1.0, \"#f0f921\"]], \"type\": \"histogram2d\"}], \"histogram2dcontour\": [{\"colorbar\": {\"outlinewidth\": 0, \"ticks\": \"\"}, \"colorscale\": [[0.0, \"#0d0887\"], [0.1111111111111111, \"#46039f\"], [0.2222222222222222, \"#7201a8\"], [0.3333333333333333, \"#9c179e\"], [0.4444444444444444, \"#bd3786\"], [0.5555555555555556, \"#d8576b\"], [0.6666666666666666, \"#ed7953\"], [0.7777777777777778, \"#fb9f3a\"], [0.8888888888888888, \"#fdca26\"], [1.0, \"#f0f921\"]], \"type\": \"histogram2dcontour\"}], \"mesh3d\": [{\"colorbar\": {\"outlinewidth\": 0, \"ticks\": \"\"}, \"type\": \"mesh3d\"}], \"parcoords\": [{\"line\": {\"colorbar\": {\"outlinewidth\": 0, \"ticks\": \"\"}}, \"type\": \"parcoords\"}], \"pie\": [{\"automargin\": true, \"type\": \"pie\"}], \"scatter\": [{\"marker\": {\"colorbar\": {\"outlinewidth\": 0, \"ticks\": \"\"}}, \"type\": \"scatter\"}], \"scatter3d\": [{\"line\": {\"colorbar\": {\"outlinewidth\": 0, \"ticks\": \"\"}}, \"marker\": {\"colorbar\": {\"outlinewidth\": 0, \"ticks\": \"\"}}, \"type\": \"scatter3d\"}], \"scattercarpet\": [{\"marker\": {\"colorbar\": {\"outlinewidth\": 0, \"ticks\": \"\"}}, \"type\": \"scattercarpet\"}], \"scattergeo\": [{\"marker\": {\"colorbar\": {\"outlinewidth\": 0, \"ticks\": \"\"}}, \"type\": \"scattergeo\"}], \"scattergl\": [{\"marker\": {\"colorbar\": {\"outlinewidth\": 0, \"ticks\": \"\"}}, \"type\": \"scattergl\"}], \"scattermapbox\": [{\"marker\": {\"colorbar\": {\"outlinewidth\": 0, \"ticks\": \"\"}}, \"type\": \"scattermapbox\"}], \"scatterpolar\": [{\"marker\": {\"colorbar\": {\"outlinewidth\": 0, \"ticks\": \"\"}}, \"type\": \"scatterpolar\"}], \"scatterpolargl\": [{\"marker\": {\"colorbar\": {\"outlinewidth\": 0, \"ticks\": \"\"}}, \"type\": \"scatterpolargl\"}], \"scatterternary\": [{\"marker\": {\"colorbar\": {\"outlinewidth\": 0, \"ticks\": \"\"}}, \"type\": \"scatterternary\"}], \"surface\": [{\"colorbar\": {\"outlinewidth\": 0, \"ticks\": \"\"}, \"colorscale\": [[0.0, \"#0d0887\"], [0.1111111111111111, \"#46039f\"], [0.2222222222222222, \"#7201a8\"], [0.3333333333333333, \"#9c179e\"], [0.4444444444444444, \"#bd3786\"], [0.5555555555555556, \"#d8576b\"], [0.6666666666666666, \"#ed7953\"], [0.7777777777777778, \"#fb9f3a\"], [0.8888888888888888, \"#fdca26\"], [1.0, \"#f0f921\"]], \"type\": \"surface\"}], \"table\": [{\"cells\": {\"fill\": {\"color\": \"#EBF0F8\"}, \"line\": {\"color\": \"white\"}}, \"header\": {\"fill\": {\"color\": \"#C8D4E3\"}, \"line\": {\"color\": \"white\"}}, \"type\": \"table\"}]}, \"layout\": {\"annotationdefaults\": {\"arrowcolor\": \"#2a3f5f\", \"arrowhead\": 0, \"arrowwidth\": 1}, \"autotypenumbers\": \"strict\", \"coloraxis\": {\"colorbar\": {\"outlinewidth\": 0, \"ticks\": \"\"}}, \"colorscale\": {\"diverging\": [[0, \"#8e0152\"], [0.1, \"#c51b7d\"], [0.2, \"#de77ae\"], [0.3, \"#f1b6da\"], [0.4, \"#fde0ef\"], [0.5, \"#f7f7f7\"], [0.6, \"#e6f5d0\"], [0.7, \"#b8e186\"], [0.8, \"#7fbc41\"], [0.9, \"#4d9221\"], [1, \"#276419\"]], \"sequential\": [[0.0, \"#0d0887\"], [0.1111111111111111, \"#46039f\"], [0.2222222222222222, \"#7201a8\"], [0.3333333333333333, \"#9c179e\"], [0.4444444444444444, \"#bd3786\"], [0.5555555555555556, \"#d8576b\"], [0.6666666666666666, \"#ed7953\"], [0.7777777777777778, \"#fb9f3a\"], [0.8888888888888888, \"#fdca26\"], [1.0, \"#f0f921\"]], \"sequentialminus\": [[0.0, \"#0d0887\"], [0.1111111111111111, \"#46039f\"], [0.2222222222222222, \"#7201a8\"], [0.3333333333333333, \"#9c179e\"], [0.4444444444444444, \"#bd3786\"], [0.5555555555555556, \"#d8576b\"], [0.6666666666666666, \"#ed7953\"], [0.7777777777777778, \"#fb9f3a\"], [0.8888888888888888, \"#fdca26\"], [1.0, \"#f0f921\"]]}, \"colorway\": [\"#636efa\", \"#EF553B\", \"#00cc96\", \"#ab63fa\", \"#FFA15A\", \"#19d3f3\", \"#FF6692\", \"#B6E880\", \"#FF97FF\", \"#FECB52\"], \"font\": {\"color\": \"#2a3f5f\"}, \"geo\": {\"bgcolor\": \"white\", \"lakecolor\": \"white\", \"landcolor\": \"#E5ECF6\", \"showlakes\": true, \"showland\": true, \"subunitcolor\": \"white\"}, \"hoverlabel\": {\"align\": \"left\"}, \"hovermode\": \"closest\", \"mapbox\": {\"style\": \"light\"}, \"paper_bgcolor\": \"white\", \"plot_bgcolor\": \"#E5ECF6\", \"polar\": {\"angularaxis\": {\"gridcolor\": \"white\", \"linecolor\": \"white\", \"ticks\": \"\"}, \"bgcolor\": \"#E5ECF6\", \"radialaxis\": {\"gridcolor\": \"white\", \"linecolor\": \"white\", \"ticks\": \"\"}}, \"scene\": {\"xaxis\": {\"backgroundcolor\": \"#E5ECF6\", \"gridcolor\": \"white\", \"gridwidth\": 2, \"linecolor\": \"white\", \"showbackground\": true, \"ticks\": \"\", \"zerolinecolor\": \"white\"}, \"yaxis\": {\"backgroundcolor\": \"#E5ECF6\", \"gridcolor\": \"white\", \"gridwidth\": 2, \"linecolor\": \"white\", \"showbackground\": true, \"ticks\": \"\", \"zerolinecolor\": \"white\"}, \"zaxis\": {\"backgroundcolor\": \"#E5ECF6\", \"gridcolor\": \"white\", \"gridwidth\": 2, \"linecolor\": \"white\", \"showbackground\": true, \"ticks\": \"\", \"zerolinecolor\": \"white\"}}, \"shapedefaults\": {\"line\": {\"color\": \"#2a3f5f\"}}, \"ternary\": {\"aaxis\": {\"gridcolor\": \"white\", \"linecolor\": \"white\", \"ticks\": \"\"}, \"baxis\": {\"gridcolor\": \"white\", \"linecolor\": \"white\", \"ticks\": \"\"}, \"bgcolor\": \"#E5ECF6\", \"caxis\": {\"gridcolor\": \"white\", \"linecolor\": \"white\", \"ticks\": \"\"}}, \"title\": {\"x\": 0.05}, \"xaxis\": {\"automargin\": true, \"gridcolor\": \"white\", \"linecolor\": \"white\", \"ticks\": \"\", \"title\": {\"standoff\": 15}, \"zerolinecolor\": \"white\", \"zerolinewidth\": 2}, \"yaxis\": {\"automargin\": true, \"gridcolor\": \"white\", \"linecolor\": \"white\", \"ticks\": \"\", \"title\": {\"standoff\": 15}, \"zerolinecolor\": \"white\", \"zerolinewidth\": 2}}}, \"xaxis\": {\"anchor\": \"y\", \"domain\": [0.0, 1.0], \"title\": {\"text\": \"FECHA_ORDEN\"}}, \"yaxis\": {\"anchor\": \"x\", \"domain\": [0.0, 1.0], \"title\": {\"text\": \"TOTAL_SIN_IVA\"}}},                        {\"responsive\": true}                    )                };                            </script>        </div>\n",
       "</body>\n",
       "</html>"
      ]
     },
     "metadata": {
      "application/vnd.databricks.v1+output": {
       "addedWidgets": {},
       "arguments": {},
       "data": "<html>\n<head><meta charset=\"utf-8\" /></head>\n<body>\n    <div>            <script src=\"https://cdnjs.cloudflare.com/ajax/libs/mathjax/2.7.5/MathJax.js?config=TeX-AMS-MML_SVG\"></script><script type=\"text/javascript\">if (window.MathJax) {MathJax.Hub.Config({SVG: {font: \"STIX-Web\"}});}</script>                <script type=\"text/javascript\">window.PlotlyConfig = {MathJaxConfig: 'local'};</script>\n        <script src=\"https://cdn.plot.ly/plotly-latest.min.js\"></script>                <div id=\"4e0035a7-fb8b-4af0-a183-87181d3e5397\" class=\"plotly-graph-div\" style=\"height:100%; width:100%;\"></div>            <script type=\"text/javascript\">                                    window.PLOTLYENV=window.PLOTLYENV || {};                                    if (document.getElementById(\"4e0035a7-fb8b-4af0-a183-87181d3e5397\")) {                    Plotly.newPlot(                        \"4e0035a7-fb8b-4af0-a183-87181d3e5397\",                        [{\"alignmentgroup\": \"True\", \"hovertemplate\": \"FECHA_ORDEN=%{x}<br>TOTAL_SIN_IVA=%{y}<extra></extra>\", \"legendgroup\": \"\", \"marker\": {\"color\": \"#636efa\"}, \"name\": \"\", \"offsetgroup\": \"\", \"orientation\": \"v\", \"showlegend\": false, \"textposition\": \"auto\", \"type\": \"bar\", \"x\": [\"2018-04-30T00:00:00\", \"2018-05-31T00:00:00\", \"2018-06-30T00:00:00\", \"2018-07-31T00:00:00\", \"2018-08-31T00:00:00\", \"2018-09-30T00:00:00\", \"2018-10-31T00:00:00\", \"2018-11-30T00:00:00\", \"2018-12-31T00:00:00\", \"2019-01-31T00:00:00\", \"2019-02-28T00:00:00\", \"2019-03-31T00:00:00\", \"2019-04-30T00:00:00\", \"2019-05-31T00:00:00\", \"2019-06-30T00:00:00\", \"2019-07-31T00:00:00\", \"2019-08-31T00:00:00\", \"2019-09-30T00:00:00\", \"2019-10-31T00:00:00\", \"2019-11-30T00:00:00\", \"2019-12-31T00:00:00\", \"2020-01-31T00:00:00\", \"2020-02-29T00:00:00\", \"2020-03-31T00:00:00\", \"2020-04-30T00:00:00\", \"2020-05-31T00:00:00\", \"2020-06-30T00:00:00\", \"2020-07-31T00:00:00\", \"2020-08-31T00:00:00\", \"2020-09-30T00:00:00\", \"2020-10-31T00:00:00\", \"2020-11-30T00:00:00\", \"2020-12-31T00:00:00\", \"2021-01-31T00:00:00\", \"2021-02-28T00:00:00\", \"2021-03-31T00:00:00\", \"2021-04-30T00:00:00\", \"2021-05-31T00:00:00\", \"2021-06-30T00:00:00\", \"2021-07-31T00:00:00\", \"2021-08-31T00:00:00\", \"2021-09-30T00:00:00\", \"2021-10-31T00:00:00\", \"2021-11-30T00:00:00\"], \"xaxis\": \"x\", \"y\": [643529.0, 86983344.0, 101410232.0, 106887144.0, 85446688.0, 80714904.0, 105108312.0, 55557620.0, 37351064.0, 32644728.0, 3700.0, 22549192.0, 127051.0, 0.0, 3723850.0, 3978824.0, 0.0, 1342177.0, 1278445.0, 1132102144.0, 1589518592.0, 684580992.0, 1294864768.0, 51060612.0, 9722532.0, 4059773.0, 22541076.0, 10381840.0, 49651596.0, 83557264.0, 114524352.0, 186020768.0, 244092528.0, 243477568.0, 274992672.0, 149910976.0, 539532736.0, 381226336.0, 1023699712.0, 424662592.0, 363059520.0, 503067456.0, 431217408.0, 156223120.0], \"yaxis\": \"y\"}],                        {\"barmode\": \"relative\", \"legend\": {\"tracegroupgap\": 0}, \"margin\": {\"t\": 60}, \"template\": {\"data\": {\"bar\": [{\"error_x\": {\"color\": \"#2a3f5f\"}, \"error_y\": {\"color\": \"#2a3f5f\"}, \"marker\": {\"line\": {\"color\": \"#E5ECF6\", \"width\": 0.5}}, \"type\": \"bar\"}], \"barpolar\": [{\"marker\": {\"line\": {\"color\": \"#E5ECF6\", \"width\": 0.5}}, \"type\": \"barpolar\"}], \"carpet\": [{\"aaxis\": {\"endlinecolor\": \"#2a3f5f\", \"gridcolor\": \"white\", \"linecolor\": \"white\", \"minorgridcolor\": \"white\", \"startlinecolor\": \"#2a3f5f\"}, \"baxis\": {\"endlinecolor\": \"#2a3f5f\", \"gridcolor\": \"white\", \"linecolor\": \"white\", \"minorgridcolor\": \"white\", \"startlinecolor\": \"#2a3f5f\"}, \"type\": \"carpet\"}], \"choropleth\": [{\"colorbar\": {\"outlinewidth\": 0, \"ticks\": \"\"}, \"type\": \"choropleth\"}], \"contour\": [{\"colorbar\": {\"outlinewidth\": 0, \"ticks\": \"\"}, \"colorscale\": [[0.0, \"#0d0887\"], [0.1111111111111111, \"#46039f\"], [0.2222222222222222, \"#7201a8\"], [0.3333333333333333, \"#9c179e\"], [0.4444444444444444, \"#bd3786\"], [0.5555555555555556, \"#d8576b\"], [0.6666666666666666, \"#ed7953\"], [0.7777777777777778, \"#fb9f3a\"], [0.8888888888888888, \"#fdca26\"], [1.0, \"#f0f921\"]], \"type\": \"contour\"}], \"contourcarpet\": [{\"colorbar\": {\"outlinewidth\": 0, \"ticks\": \"\"}, \"type\": \"contourcarpet\"}], \"heatmap\": [{\"colorbar\": {\"outlinewidth\": 0, \"ticks\": \"\"}, \"colorscale\": [[0.0, \"#0d0887\"], [0.1111111111111111, \"#46039f\"], [0.2222222222222222, \"#7201a8\"], [0.3333333333333333, \"#9c179e\"], [0.4444444444444444, \"#bd3786\"], [0.5555555555555556, \"#d8576b\"], [0.6666666666666666, \"#ed7953\"], [0.7777777777777778, \"#fb9f3a\"], [0.8888888888888888, \"#fdca26\"], [1.0, \"#f0f921\"]], \"type\": \"heatmap\"}], \"heatmapgl\": [{\"colorbar\": {\"outlinewidth\": 0, \"ticks\": \"\"}, \"colorscale\": [[0.0, \"#0d0887\"], [0.1111111111111111, \"#46039f\"], [0.2222222222222222, \"#7201a8\"], [0.3333333333333333, \"#9c179e\"], [0.4444444444444444, \"#bd3786\"], [0.5555555555555556, \"#d8576b\"], [0.6666666666666666, \"#ed7953\"], [0.7777777777777778, \"#fb9f3a\"], [0.8888888888888888, \"#fdca26\"], [1.0, \"#f0f921\"]], \"type\": \"heatmapgl\"}], \"histogram\": [{\"marker\": {\"colorbar\": {\"outlinewidth\": 0, \"ticks\": \"\"}}, \"type\": \"histogram\"}], \"histogram2d\": [{\"colorbar\": {\"outlinewidth\": 0, \"ticks\": \"\"}, \"colorscale\": [[0.0, \"#0d0887\"], [0.1111111111111111, \"#46039f\"], [0.2222222222222222, \"#7201a8\"], [0.3333333333333333, \"#9c179e\"], [0.4444444444444444, \"#bd3786\"], [0.5555555555555556, \"#d8576b\"], [0.6666666666666666, \"#ed7953\"], [0.7777777777777778, \"#fb9f3a\"], [0.8888888888888888, \"#fdca26\"], [1.0, \"#f0f921\"]], \"type\": \"histogram2d\"}], \"histogram2dcontour\": [{\"colorbar\": {\"outlinewidth\": 0, \"ticks\": \"\"}, \"colorscale\": [[0.0, \"#0d0887\"], [0.1111111111111111, \"#46039f\"], [0.2222222222222222, \"#7201a8\"], [0.3333333333333333, \"#9c179e\"], [0.4444444444444444, \"#bd3786\"], [0.5555555555555556, \"#d8576b\"], [0.6666666666666666, \"#ed7953\"], [0.7777777777777778, \"#fb9f3a\"], [0.8888888888888888, \"#fdca26\"], [1.0, \"#f0f921\"]], \"type\": \"histogram2dcontour\"}], \"mesh3d\": [{\"colorbar\": {\"outlinewidth\": 0, \"ticks\": \"\"}, \"type\": \"mesh3d\"}], \"parcoords\": [{\"line\": {\"colorbar\": {\"outlinewidth\": 0, \"ticks\": \"\"}}, \"type\": \"parcoords\"}], \"pie\": [{\"automargin\": true, \"type\": \"pie\"}], \"scatter\": [{\"marker\": {\"colorbar\": {\"outlinewidth\": 0, \"ticks\": \"\"}}, \"type\": \"scatter\"}], \"scatter3d\": [{\"line\": {\"colorbar\": {\"outlinewidth\": 0, \"ticks\": \"\"}}, \"marker\": {\"colorbar\": {\"outlinewidth\": 0, \"ticks\": \"\"}}, \"type\": \"scatter3d\"}], \"scattercarpet\": [{\"marker\": {\"colorbar\": {\"outlinewidth\": 0, \"ticks\": \"\"}}, \"type\": \"scattercarpet\"}], \"scattergeo\": [{\"marker\": {\"colorbar\": {\"outlinewidth\": 0, \"ticks\": \"\"}}, \"type\": \"scattergeo\"}], \"scattergl\": [{\"marker\": {\"colorbar\": {\"outlinewidth\": 0, \"ticks\": \"\"}}, \"type\": \"scattergl\"}], \"scattermapbox\": [{\"marker\": {\"colorbar\": {\"outlinewidth\": 0, \"ticks\": \"\"}}, \"type\": \"scattermapbox\"}], \"scatterpolar\": [{\"marker\": {\"colorbar\": {\"outlinewidth\": 0, \"ticks\": \"\"}}, \"type\": \"scatterpolar\"}], \"scatterpolargl\": [{\"marker\": {\"colorbar\": {\"outlinewidth\": 0, \"ticks\": \"\"}}, \"type\": \"scatterpolargl\"}], \"scatterternary\": [{\"marker\": {\"colorbar\": {\"outlinewidth\": 0, \"ticks\": \"\"}}, \"type\": \"scatterternary\"}], \"surface\": [{\"colorbar\": {\"outlinewidth\": 0, \"ticks\": \"\"}, \"colorscale\": [[0.0, \"#0d0887\"], [0.1111111111111111, \"#46039f\"], [0.2222222222222222, \"#7201a8\"], [0.3333333333333333, \"#9c179e\"], [0.4444444444444444, \"#bd3786\"], [0.5555555555555556, \"#d8576b\"], [0.6666666666666666, \"#ed7953\"], [0.7777777777777778, \"#fb9f3a\"], [0.8888888888888888, \"#fdca26\"], [1.0, \"#f0f921\"]], \"type\": \"surface\"}], \"table\": [{\"cells\": {\"fill\": {\"color\": \"#EBF0F8\"}, \"line\": {\"color\": \"white\"}}, \"header\": {\"fill\": {\"color\": \"#C8D4E3\"}, \"line\": {\"color\": \"white\"}}, \"type\": \"table\"}]}, \"layout\": {\"annotationdefaults\": {\"arrowcolor\": \"#2a3f5f\", \"arrowhead\": 0, \"arrowwidth\": 1}, \"autotypenumbers\": \"strict\", \"coloraxis\": {\"colorbar\": {\"outlinewidth\": 0, \"ticks\": \"\"}}, \"colorscale\": {\"diverging\": [[0, \"#8e0152\"], [0.1, \"#c51b7d\"], [0.2, \"#de77ae\"], [0.3, \"#f1b6da\"], [0.4, \"#fde0ef\"], [0.5, \"#f7f7f7\"], [0.6, \"#e6f5d0\"], [0.7, \"#b8e186\"], [0.8, \"#7fbc41\"], [0.9, \"#4d9221\"], [1, \"#276419\"]], \"sequential\": [[0.0, \"#0d0887\"], [0.1111111111111111, \"#46039f\"], [0.2222222222222222, \"#7201a8\"], [0.3333333333333333, \"#9c179e\"], [0.4444444444444444, \"#bd3786\"], [0.5555555555555556, \"#d8576b\"], [0.6666666666666666, \"#ed7953\"], [0.7777777777777778, \"#fb9f3a\"], [0.8888888888888888, \"#fdca26\"], [1.0, \"#f0f921\"]], \"sequentialminus\": [[0.0, \"#0d0887\"], [0.1111111111111111, \"#46039f\"], [0.2222222222222222, \"#7201a8\"], [0.3333333333333333, \"#9c179e\"], [0.4444444444444444, \"#bd3786\"], [0.5555555555555556, \"#d8576b\"], [0.6666666666666666, \"#ed7953\"], [0.7777777777777778, \"#fb9f3a\"], [0.8888888888888888, \"#fdca26\"], [1.0, \"#f0f921\"]]}, \"colorway\": [\"#636efa\", \"#EF553B\", \"#00cc96\", \"#ab63fa\", \"#FFA15A\", \"#19d3f3\", \"#FF6692\", \"#B6E880\", \"#FF97FF\", \"#FECB52\"], \"font\": {\"color\": \"#2a3f5f\"}, \"geo\": {\"bgcolor\": \"white\", \"lakecolor\": \"white\", \"landcolor\": \"#E5ECF6\", \"showlakes\": true, \"showland\": true, \"subunitcolor\": \"white\"}, \"hoverlabel\": {\"align\": \"left\"}, \"hovermode\": \"closest\", \"mapbox\": {\"style\": \"light\"}, \"paper_bgcolor\": \"white\", \"plot_bgcolor\": \"#E5ECF6\", \"polar\": {\"angularaxis\": {\"gridcolor\": \"white\", \"linecolor\": \"white\", \"ticks\": \"\"}, \"bgcolor\": \"#E5ECF6\", \"radialaxis\": {\"gridcolor\": \"white\", \"linecolor\": \"white\", \"ticks\": \"\"}}, \"scene\": {\"xaxis\": {\"backgroundcolor\": \"#E5ECF6\", \"gridcolor\": \"white\", \"gridwidth\": 2, \"linecolor\": \"white\", \"showbackground\": true, \"ticks\": \"\", \"zerolinecolor\": \"white\"}, \"yaxis\": {\"backgroundcolor\": \"#E5ECF6\", \"gridcolor\": \"white\", \"gridwidth\": 2, \"linecolor\": \"white\", \"showbackground\": true, \"ticks\": \"\", \"zerolinecolor\": \"white\"}, \"zaxis\": {\"backgroundcolor\": \"#E5ECF6\", \"gridcolor\": \"white\", \"gridwidth\": 2, \"linecolor\": \"white\", \"showbackground\": true, \"ticks\": \"\", \"zerolinecolor\": \"white\"}}, \"shapedefaults\": {\"line\": {\"color\": \"#2a3f5f\"}}, \"ternary\": {\"aaxis\": {\"gridcolor\": \"white\", \"linecolor\": \"white\", \"ticks\": \"\"}, \"baxis\": {\"gridcolor\": \"white\", \"linecolor\": \"white\", \"ticks\": \"\"}, \"bgcolor\": \"#E5ECF6\", \"caxis\": {\"gridcolor\": \"white\", \"linecolor\": \"white\", \"ticks\": \"\"}}, \"title\": {\"x\": 0.05}, \"xaxis\": {\"automargin\": true, \"gridcolor\": \"white\", \"linecolor\": \"white\", \"ticks\": \"\", \"title\": {\"standoff\": 15}, \"zerolinecolor\": \"white\", \"zerolinewidth\": 2}, \"yaxis\": {\"automargin\": true, \"gridcolor\": \"white\", \"linecolor\": \"white\", \"ticks\": \"\", \"title\": {\"standoff\": 15}, \"zerolinecolor\": \"white\", \"zerolinewidth\": 2}}}, \"xaxis\": {\"anchor\": \"y\", \"domain\": [0.0, 1.0], \"title\": {\"text\": \"FECHA_ORDEN\"}}, \"yaxis\": {\"anchor\": \"x\", \"domain\": [0.0, 1.0], \"title\": {\"text\": \"TOTAL_SIN_IVA\"}}},                        {\"responsive\": true}                    )                };                            </script>        </div>\n</body>\n</html>",
       "datasetInfos": [],
       "metadata": {},
       "removedWidgets": [],
       "textData": null,
       "type": "htmlSandbox"
      }
     },
     "output_type": "display_data"
    }
   ],
   "source": [
    "px.bar(df_M, y='TOTAL_SIN_IVA')"
   ]
  },
  {
   "cell_type": "markdown",
   "metadata": {
    "application/vnd.databricks.v1+cell": {
     "inputWidgets": {},
     "nuid": "bbfbdd3d-c17c-46c4-9424-601d9763082e",
     "showTitle": false,
     "title": ""
    }
   },
   "source": [
    "## Compañía compradora"
   ]
  },
  {
   "cell_type": "code",
   "execution_count": 0,
   "metadata": {
    "application/vnd.databricks.v1+cell": {
     "inputWidgets": {},
     "nuid": "96c2e1bd-d4e9-43cb-a6ce-f86a58728193",
     "showTitle": false,
     "title": ""
    }
   },
   "outputs": [
    {
     "data": {
      "text/html": [
       "<style scoped>\n",
       "  .ansiout {\n",
       "    display: block;\n",
       "    unicode-bidi: embed;\n",
       "    white-space: pre-wrap;\n",
       "    word-wrap: break-word;\n",
       "    word-break: break-all;\n",
       "    font-family: \"Source Code Pro\", \"Menlo\", monospace;;\n",
       "    font-size: 13px;\n",
       "    color: #555;\n",
       "    margin-left: 4px;\n",
       "    line-height: 19px;\n",
       "  }\n",
       "</style>\n",
       "<div class=\"ansiout\">Out[1081]: </div>"
      ]
     },
     "metadata": {
      "application/vnd.databricks.v1+output": {
       "addedWidgets": {},
       "arguments": {},
       "data": "<div class=\"ansiout\">Out[1081]: </div>",
       "datasetInfos": [],
       "metadata": {},
       "removedWidgets": [],
       "type": "html"
      }
     },
     "output_type": "display_data"
    },
    {
     "data": {
      "text/html": [
       "<div>\n",
       "<style scoped>\n",
       "    .dataframe tbody tr th:only-of-type {\n",
       "        vertical-align: middle;\n",
       "    }\n",
       "\n",
       "    .dataframe tbody tr th {\n",
       "        vertical-align: top;\n",
       "    }\n",
       "\n",
       "    .dataframe thead th {\n",
       "        text-align: right;\n",
       "    }\n",
       "</style>\n",
       "<table border=\"1\" class=\"dataframe\">\n",
       "  <thead>\n",
       "    <tr style=\"text-align: right;\">\n",
       "      <th></th>\n",
       "      <th>CANTIDAD_PEDIDA</th>\n",
       "      <th>CANTIDAD_RECIBIDA</th>\n",
       "      <th>PRECIO_UNITARIO</th>\n",
       "      <th>IVA</th>\n",
       "      <th>TOTAL_SIN_IVA</th>\n",
       "    </tr>\n",
       "    <tr>\n",
       "      <th>PORTAL</th>\n",
       "      <th></th>\n",
       "      <th></th>\n",
       "      <th></th>\n",
       "      <th></th>\n",
       "      <th></th>\n",
       "    </tr>\n",
       "  </thead>\n",
       "  <tbody>\n",
       "    <tr>\n",
       "      <th>Portal comprador 24</th>\n",
       "      <td>231,092.00</td>\n",
       "      <td>231,092.00</td>\n",
       "      <td>217,180,464.00</td>\n",
       "      <td>41,264,144.00</td>\n",
       "      <td>4,293,598,464.00</td>\n",
       "    </tr>\n",
       "    <tr>\n",
       "      <th>Portal comprador 1</th>\n",
       "      <td>432,971.20</td>\n",
       "      <td>414,527.30</td>\n",
       "      <td>1,085,985,536.00</td>\n",
       "      <td>166,869,024.00</td>\n",
       "      <td>2,742,179,328.00</td>\n",
       "    </tr>\n",
       "    <tr>\n",
       "      <th>Portal comprador 2</th>\n",
       "      <td>457,901.23</td>\n",
       "      <td>367,442.26</td>\n",
       "      <td>100,662,184.00</td>\n",
       "      <td>12,458,101.00</td>\n",
       "      <td>1,611,188,352.00</td>\n",
       "    </tr>\n",
       "    <tr>\n",
       "      <th>Portal comprador 6</th>\n",
       "      <td>21,637.00</td>\n",
       "      <td>10,844.00</td>\n",
       "      <td>41,397,468.00</td>\n",
       "      <td>7,806,431.00</td>\n",
       "      <td>555,513,088.00</td>\n",
       "    </tr>\n",
       "    <tr>\n",
       "      <th>Portal comprador 18</th>\n",
       "      <td>56,940.00</td>\n",
       "      <td>53,874.00</td>\n",
       "      <td>1,447,513.00</td>\n",
       "      <td>267,510.00</td>\n",
       "      <td>436,416,352.00</td>\n",
       "    </tr>\n",
       "    <tr>\n",
       "      <th>Portal comprador 29</th>\n",
       "      <td>2,838,287.00</td>\n",
       "      <td>147.00</td>\n",
       "      <td>2,838,362.00</td>\n",
       "      <td>494,922.00</td>\n",
       "      <td>409,359,680.00</td>\n",
       "    </tr>\n",
       "    <tr>\n",
       "      <th>Portal comprador 30</th>\n",
       "      <td>319,852.70</td>\n",
       "      <td>695.00</td>\n",
       "      <td>15,856,626.00</td>\n",
       "      <td>2,926,829.00</td>\n",
       "      <td>210,401,360.00</td>\n",
       "    </tr>\n",
       "    <tr>\n",
       "      <th>Portal comprador 4</th>\n",
       "      <td>4,250.00</td>\n",
       "      <td>3,861.00</td>\n",
       "      <td>76,941,864.00</td>\n",
       "      <td>10,217,062.00</td>\n",
       "      <td>160,436,176.00</td>\n",
       "    </tr>\n",
       "    <tr>\n",
       "      <th>Portal comprador 8</th>\n",
       "      <td>1,307.00</td>\n",
       "      <td>463.00</td>\n",
       "      <td>56,746,584.00</td>\n",
       "      <td>9,124,132.00</td>\n",
       "      <td>102,270,872.00</td>\n",
       "    </tr>\n",
       "    <tr>\n",
       "      <th>Portal comprador 5</th>\n",
       "      <td>35,644.50</td>\n",
       "      <td>24,872.50</td>\n",
       "      <td>8,154,880.00</td>\n",
       "      <td>1,139,341.00</td>\n",
       "      <td>44,941,556.00</td>\n",
       "    </tr>\n",
       "    <tr>\n",
       "      <th>Portal comprador 31</th>\n",
       "      <td>107.00</td>\n",
       "      <td>1.00</td>\n",
       "      <td>13,811,660.00</td>\n",
       "      <td>2,624,216.00</td>\n",
       "      <td>42,950,160.00</td>\n",
       "    </tr>\n",
       "    <tr>\n",
       "      <th>Portal comprador 20</th>\n",
       "      <td>1,187.00</td>\n",
       "      <td>0.00</td>\n",
       "      <td>483,411.00</td>\n",
       "      <td>69,239.00</td>\n",
       "      <td>29,126,856.00</td>\n",
       "    </tr>\n",
       "    <tr>\n",
       "      <th>Portal comprador 28</th>\n",
       "      <td>2.00</td>\n",
       "      <td>0.00</td>\n",
       "      <td>25,836,052.00</td>\n",
       "      <td>624,503.00</td>\n",
       "      <td>25,836,052.00</td>\n",
       "    </tr>\n",
       "    <tr>\n",
       "      <th>Portal comprador 17</th>\n",
       "      <td>2.00</td>\n",
       "      <td>2.00</td>\n",
       "      <td>3,070,000.00</td>\n",
       "      <td>583,300.00</td>\n",
       "      <td>6,140,000.00</td>\n",
       "    </tr>\n",
       "    <tr>\n",
       "      <th>Portal comprador 12</th>\n",
       "      <td>1,515.00</td>\n",
       "      <td>484.00</td>\n",
       "      <td>897,669.00</td>\n",
       "      <td>163,653.00</td>\n",
       "      <td>5,165,571.00</td>\n",
       "    </tr>\n",
       "    <tr>\n",
       "      <th>Portal comprador 21</th>\n",
       "      <td>119.00</td>\n",
       "      <td>105.00</td>\n",
       "      <td>146,000.00</td>\n",
       "      <td>0.00</td>\n",
       "      <td>4,189,000.00</td>\n",
       "    </tr>\n",
       "    <tr>\n",
       "      <th>Portal comprador 7</th>\n",
       "      <td>220.00</td>\n",
       "      <td>185.00</td>\n",
       "      <td>1,324,445.00</td>\n",
       "      <td>104,026.00</td>\n",
       "      <td>2,839,494.00</td>\n",
       "    </tr>\n",
       "    <tr>\n",
       "      <th>Portal comprador 14</th>\n",
       "      <td>2.00</td>\n",
       "      <td>2.00</td>\n",
       "      <td>2,770,206.00</td>\n",
       "      <td>526,340.00</td>\n",
       "      <td>2,770,206.00</td>\n",
       "    </tr>\n",
       "    <tr>\n",
       "      <th>Portal comprador 32</th>\n",
       "      <td>13.00</td>\n",
       "      <td>0.00</td>\n",
       "      <td>1,177,811.00</td>\n",
       "      <td>20,900.00</td>\n",
       "      <td>2,387,811.00</td>\n",
       "    </tr>\n",
       "    <tr>\n",
       "      <th>Portal comprador 27</th>\n",
       "      <td>170.00</td>\n",
       "      <td>26.00</td>\n",
       "      <td>280,227.00</td>\n",
       "      <td>47,255.00</td>\n",
       "      <td>1,342,701.00</td>\n",
       "    </tr>\n",
       "    <tr>\n",
       "      <th>Portal comprador 10</th>\n",
       "      <td>405.00</td>\n",
       "      <td>124.00</td>\n",
       "      <td>471,282.00</td>\n",
       "      <td>66,255.00</td>\n",
       "      <td>1,051,849.00</td>\n",
       "    </tr>\n",
       "    <tr>\n",
       "      <th>Portal comprador 11</th>\n",
       "      <td>223.00</td>\n",
       "      <td>69.00</td>\n",
       "      <td>266,071.00</td>\n",
       "      <td>39,861.00</td>\n",
       "      <td>974,394.00</td>\n",
       "    </tr>\n",
       "    <tr>\n",
       "      <th>Portal comprador 13</th>\n",
       "      <td>141.00</td>\n",
       "      <td>94.00</td>\n",
       "      <td>276,458.00</td>\n",
       "      <td>25,769.00</td>\n",
       "      <td>739,565.00</td>\n",
       "    </tr>\n",
       "    <tr>\n",
       "      <th>Portal comprador 3</th>\n",
       "      <td>7.00</td>\n",
       "      <td>7.00</td>\n",
       "      <td>92,084.00</td>\n",
       "      <td>17,496.00</td>\n",
       "      <td>644,588.00</td>\n",
       "    </tr>\n",
       "    <tr>\n",
       "      <th>Portal comprador 16</th>\n",
       "      <td>1.00</td>\n",
       "      <td>1.00</td>\n",
       "      <td>400,752.00</td>\n",
       "      <td>0.00</td>\n",
       "      <td>400,752.00</td>\n",
       "    </tr>\n",
       "    <tr>\n",
       "      <th>Portal comprador 15</th>\n",
       "      <td>30.00</td>\n",
       "      <td>0.00</td>\n",
       "      <td>12,000.00</td>\n",
       "      <td>0.00</td>\n",
       "      <td>360,000.00</td>\n",
       "    </tr>\n",
       "    <tr>\n",
       "      <th>Portal comprador 26</th>\n",
       "      <td>3.00</td>\n",
       "      <td>3.00</td>\n",
       "      <td>94,000.00</td>\n",
       "      <td>17,860.00</td>\n",
       "      <td>144,585.00</td>\n",
       "    </tr>\n",
       "    <tr>\n",
       "      <th>Portal comprador 25</th>\n",
       "      <td>2.00</td>\n",
       "      <td>0.00</td>\n",
       "      <td>23,456.00</td>\n",
       "      <td>0.00</td>\n",
       "      <td>46,912.00</td>\n",
       "    </tr>\n",
       "    <tr>\n",
       "      <th>Portal comprador 9</th>\n",
       "      <td>1.00</td>\n",
       "      <td>0.00</td>\n",
       "      <td>25,600.00</td>\n",
       "      <td>0.00</td>\n",
       "      <td>25,600.00</td>\n",
       "    </tr>\n",
       "    <tr>\n",
       "      <th>Portal comprador 33</th>\n",
       "      <td>3.00</td>\n",
       "      <td>0.00</td>\n",
       "      <td>8,403.00</td>\n",
       "      <td>1,597.00</td>\n",
       "      <td>25,210.00</td>\n",
       "    </tr>\n",
       "    <tr>\n",
       "      <th>Portal comprador 19</th>\n",
       "      <td>10.00</td>\n",
       "      <td>0.00</td>\n",
       "      <td>2,000.00</td>\n",
       "      <td>0.00</td>\n",
       "      <td>20,000.00</td>\n",
       "    </tr>\n",
       "    <tr>\n",
       "      <th>Portal comprador 22</th>\n",
       "      <td>1.00</td>\n",
       "      <td>0.00</td>\n",
       "      <td>8,418.00</td>\n",
       "      <td>673.00</td>\n",
       "      <td>8,364.00</td>\n",
       "    </tr>\n",
       "    <tr>\n",
       "      <th>Portal comprador 23</th>\n",
       "      <td>1.00</td>\n",
       "      <td>0.00</td>\n",
       "      <td>4,800.00</td>\n",
       "      <td>912.00</td>\n",
       "      <td>4,627.00</td>\n",
       "    </tr>\n",
       "  </tbody>\n",
       "</table>\n",
       "</div>"
      ]
     },
     "metadata": {
      "application/vnd.databricks.v1+output": {
       "addedWidgets": {},
       "arguments": {},
       "data": "<div>\n<style scoped>\n    .dataframe tbody tr th:only-of-type {\n        vertical-align: middle;\n    }\n\n    .dataframe tbody tr th {\n        vertical-align: top;\n    }\n\n    .dataframe thead th {\n        text-align: right;\n    }\n</style>\n<table border=\"1\" class=\"dataframe\">\n  <thead>\n    <tr style=\"text-align: right;\">\n      <th></th>\n      <th>CANTIDAD_PEDIDA</th>\n      <th>CANTIDAD_RECIBIDA</th>\n      <th>PRECIO_UNITARIO</th>\n      <th>IVA</th>\n      <th>TOTAL_SIN_IVA</th>\n    </tr>\n    <tr>\n      <th>PORTAL</th>\n      <th></th>\n      <th></th>\n      <th></th>\n      <th></th>\n      <th></th>\n    </tr>\n  </thead>\n  <tbody>\n    <tr>\n      <th>Portal comprador 24</th>\n      <td>231,092.00</td>\n      <td>231,092.00</td>\n      <td>217,180,464.00</td>\n      <td>41,264,144.00</td>\n      <td>4,293,598,464.00</td>\n    </tr>\n    <tr>\n      <th>Portal comprador 1</th>\n      <td>432,971.20</td>\n      <td>414,527.30</td>\n      <td>1,085,985,536.00</td>\n      <td>166,869,024.00</td>\n      <td>2,742,179,328.00</td>\n    </tr>\n    <tr>\n      <th>Portal comprador 2</th>\n      <td>457,901.23</td>\n      <td>367,442.26</td>\n      <td>100,662,184.00</td>\n      <td>12,458,101.00</td>\n      <td>1,611,188,352.00</td>\n    </tr>\n    <tr>\n      <th>Portal comprador 6</th>\n      <td>21,637.00</td>\n      <td>10,844.00</td>\n      <td>41,397,468.00</td>\n      <td>7,806,431.00</td>\n      <td>555,513,088.00</td>\n    </tr>\n    <tr>\n      <th>Portal comprador 18</th>\n      <td>56,940.00</td>\n      <td>53,874.00</td>\n      <td>1,447,513.00</td>\n      <td>267,510.00</td>\n      <td>436,416,352.00</td>\n    </tr>\n    <tr>\n      <th>Portal comprador 29</th>\n      <td>2,838,287.00</td>\n      <td>147.00</td>\n      <td>2,838,362.00</td>\n      <td>494,922.00</td>\n      <td>409,359,680.00</td>\n    </tr>\n    <tr>\n      <th>Portal comprador 30</th>\n      <td>319,852.70</td>\n      <td>695.00</td>\n      <td>15,856,626.00</td>\n      <td>2,926,829.00</td>\n      <td>210,401,360.00</td>\n    </tr>\n    <tr>\n      <th>Portal comprador 4</th>\n      <td>4,250.00</td>\n      <td>3,861.00</td>\n      <td>76,941,864.00</td>\n      <td>10,217,062.00</td>\n      <td>160,436,176.00</td>\n    </tr>\n    <tr>\n      <th>Portal comprador 8</th>\n      <td>1,307.00</td>\n      <td>463.00</td>\n      <td>56,746,584.00</td>\n      <td>9,124,132.00</td>\n      <td>102,270,872.00</td>\n    </tr>\n    <tr>\n      <th>Portal comprador 5</th>\n      <td>35,644.50</td>\n      <td>24,872.50</td>\n      <td>8,154,880.00</td>\n      <td>1,139,341.00</td>\n      <td>44,941,556.00</td>\n    </tr>\n    <tr>\n      <th>Portal comprador 31</th>\n      <td>107.00</td>\n      <td>1.00</td>\n      <td>13,811,660.00</td>\n      <td>2,624,216.00</td>\n      <td>42,950,160.00</td>\n    </tr>\n    <tr>\n      <th>Portal comprador 20</th>\n      <td>1,187.00</td>\n      <td>0.00</td>\n      <td>483,411.00</td>\n      <td>69,239.00</td>\n      <td>29,126,856.00</td>\n    </tr>\n    <tr>\n      <th>Portal comprador 28</th>\n      <td>2.00</td>\n      <td>0.00</td>\n      <td>25,836,052.00</td>\n      <td>624,503.00</td>\n      <td>25,836,052.00</td>\n    </tr>\n    <tr>\n      <th>Portal comprador 17</th>\n      <td>2.00</td>\n      <td>2.00</td>\n      <td>3,070,000.00</td>\n      <td>583,300.00</td>\n      <td>6,140,000.00</td>\n    </tr>\n    <tr>\n      <th>Portal comprador 12</th>\n      <td>1,515.00</td>\n      <td>484.00</td>\n      <td>897,669.00</td>\n      <td>163,653.00</td>\n      <td>5,165,571.00</td>\n    </tr>\n    <tr>\n      <th>Portal comprador 21</th>\n      <td>119.00</td>\n      <td>105.00</td>\n      <td>146,000.00</td>\n      <td>0.00</td>\n      <td>4,189,000.00</td>\n    </tr>\n    <tr>\n      <th>Portal comprador 7</th>\n      <td>220.00</td>\n      <td>185.00</td>\n      <td>1,324,445.00</td>\n      <td>104,026.00</td>\n      <td>2,839,494.00</td>\n    </tr>\n    <tr>\n      <th>Portal comprador 14</th>\n      <td>2.00</td>\n      <td>2.00</td>\n      <td>2,770,206.00</td>\n      <td>526,340.00</td>\n      <td>2,770,206.00</td>\n    </tr>\n    <tr>\n      <th>Portal comprador 32</th>\n      <td>13.00</td>\n      <td>0.00</td>\n      <td>1,177,811.00</td>\n      <td>20,900.00</td>\n      <td>2,387,811.00</td>\n    </tr>\n    <tr>\n      <th>Portal comprador 27</th>\n      <td>170.00</td>\n      <td>26.00</td>\n      <td>280,227.00</td>\n      <td>47,255.00</td>\n      <td>1,342,701.00</td>\n    </tr>\n    <tr>\n      <th>Portal comprador 10</th>\n      <td>405.00</td>\n      <td>124.00</td>\n      <td>471,282.00</td>\n      <td>66,255.00</td>\n      <td>1,051,849.00</td>\n    </tr>\n    <tr>\n      <th>Portal comprador 11</th>\n      <td>223.00</td>\n      <td>69.00</td>\n      <td>266,071.00</td>\n      <td>39,861.00</td>\n      <td>974,394.00</td>\n    </tr>\n    <tr>\n      <th>Portal comprador 13</th>\n      <td>141.00</td>\n      <td>94.00</td>\n      <td>276,458.00</td>\n      <td>25,769.00</td>\n      <td>739,565.00</td>\n    </tr>\n    <tr>\n      <th>Portal comprador 3</th>\n      <td>7.00</td>\n      <td>7.00</td>\n      <td>92,084.00</td>\n      <td>17,496.00</td>\n      <td>644,588.00</td>\n    </tr>\n    <tr>\n      <th>Portal comprador 16</th>\n      <td>1.00</td>\n      <td>1.00</td>\n      <td>400,752.00</td>\n      <td>0.00</td>\n      <td>400,752.00</td>\n    </tr>\n    <tr>\n      <th>Portal comprador 15</th>\n      <td>30.00</td>\n      <td>0.00</td>\n      <td>12,000.00</td>\n      <td>0.00</td>\n      <td>360,000.00</td>\n    </tr>\n    <tr>\n      <th>Portal comprador 26</th>\n      <td>3.00</td>\n      <td>3.00</td>\n      <td>94,000.00</td>\n      <td>17,860.00</td>\n      <td>144,585.00</td>\n    </tr>\n    <tr>\n      <th>Portal comprador 25</th>\n      <td>2.00</td>\n      <td>0.00</td>\n      <td>23,456.00</td>\n      <td>0.00</td>\n      <td>46,912.00</td>\n    </tr>\n    <tr>\n      <th>Portal comprador 9</th>\n      <td>1.00</td>\n      <td>0.00</td>\n      <td>25,600.00</td>\n      <td>0.00</td>\n      <td>25,600.00</td>\n    </tr>\n    <tr>\n      <th>Portal comprador 33</th>\n      <td>3.00</td>\n      <td>0.00</td>\n      <td>8,403.00</td>\n      <td>1,597.00</td>\n      <td>25,210.00</td>\n    </tr>\n    <tr>\n      <th>Portal comprador 19</th>\n      <td>10.00</td>\n      <td>0.00</td>\n      <td>2,000.00</td>\n      <td>0.00</td>\n      <td>20,000.00</td>\n    </tr>\n    <tr>\n      <th>Portal comprador 22</th>\n      <td>1.00</td>\n      <td>0.00</td>\n      <td>8,418.00</td>\n      <td>673.00</td>\n      <td>8,364.00</td>\n    </tr>\n    <tr>\n      <th>Portal comprador 23</th>\n      <td>1.00</td>\n      <td>0.00</td>\n      <td>4,800.00</td>\n      <td>912.00</td>\n      <td>4,627.00</td>\n    </tr>\n  </tbody>\n</table>\n</div>",
       "datasetInfos": [],
       "metadata": {},
       "removedWidgets": [],
       "textData": null,
       "type": "htmlSandbox"
      }
     },
     "output_type": "display_data"
    }
   ],
   "source": [
    "df_Comp = df.groupby('PORTAL').sum()\n",
    "df_Comp.sort_values(by='TOTAL_SIN_IVA', inplace=True, ascending=False)\n",
    "df_Comp"
   ]
  },
  {
   "cell_type": "code",
   "execution_count": 0,
   "metadata": {
    "application/vnd.databricks.v1+cell": {
     "inputWidgets": {},
     "nuid": "5d7760d6-3b6b-44f4-9341-b3004962d24b",
     "showTitle": false,
     "title": ""
    }
   },
   "outputs": [
    {
     "data": {
      "text/html": [
       "<style scoped>\n",
       "  .ansiout {\n",
       "    display: block;\n",
       "    unicode-bidi: embed;\n",
       "    white-space: pre-wrap;\n",
       "    word-wrap: break-word;\n",
       "    word-break: break-all;\n",
       "    font-family: \"Source Code Pro\", \"Menlo\", monospace;;\n",
       "    font-size: 13px;\n",
       "    color: #555;\n",
       "    margin-left: 4px;\n",
       "    line-height: 19px;\n",
       "  }\n",
       "</style>\n",
       "<div class=\"ansiout\">Out[1082]: </div>"
      ]
     },
     "metadata": {
      "application/vnd.databricks.v1+output": {
       "addedWidgets": {},
       "arguments": {},
       "data": "<div class=\"ansiout\">Out[1082]: </div>",
       "datasetInfos": [],
       "metadata": {},
       "removedWidgets": [],
       "type": "html"
      }
     },
     "output_type": "display_data"
    },
    {
     "data": {
      "text/html": [
       "<html>\n",
       "<head><meta charset=\"utf-8\" /></head>\n",
       "<body>\n",
       "    <div>            <script src=\"https://cdnjs.cloudflare.com/ajax/libs/mathjax/2.7.5/MathJax.js?config=TeX-AMS-MML_SVG\"></script><script type=\"text/javascript\">if (window.MathJax) {MathJax.Hub.Config({SVG: {font: \"STIX-Web\"}});}</script>                <script type=\"text/javascript\">window.PlotlyConfig = {MathJaxConfig: 'local'};</script>\n",
       "        <script src=\"https://cdn.plot.ly/plotly-latest.min.js\"></script>                <div id=\"c659cd97-ee00-40c4-ac4d-fe8d563970eb\" class=\"plotly-graph-div\" style=\"height:100%; width:100%;\"></div>            <script type=\"text/javascript\">                                    window.PLOTLYENV=window.PLOTLYENV || {};                                    if (document.getElementById(\"c659cd97-ee00-40c4-ac4d-fe8d563970eb\")) {                    Plotly.newPlot(                        \"c659cd97-ee00-40c4-ac4d-fe8d563970eb\",                        [{\"alignmentgroup\": \"True\", \"hovertemplate\": \"PORTAL=%{x}<br>TOTAL_SIN_IVA=%{y}<extra></extra>\", \"legendgroup\": \"\", \"marker\": {\"color\": \"#636efa\"}, \"name\": \"\", \"offsetgroup\": \"\", \"orientation\": \"v\", \"showlegend\": false, \"textposition\": \"auto\", \"type\": \"bar\", \"x\": [\"Portal comprador 24\", \"Portal comprador 1\", \"Portal comprador 2\", \"Portal comprador 6\", \"Portal comprador 18\", \"Portal comprador 29\", \"Portal comprador 30\", \"Portal comprador 4\", \"Portal comprador 8\", \"Portal comprador 5\", \"Portal comprador 31\", \"Portal comprador 20\", \"Portal comprador 28\", \"Portal comprador 17\", \"Portal comprador 12\", \"Portal comprador 21\", \"Portal comprador 7\", \"Portal comprador 14\", \"Portal comprador 32\", \"Portal comprador 27\", \"Portal comprador 10\", \"Portal comprador 11\", \"Portal comprador 13\", \"Portal comprador 3\", \"Portal comprador 16\", \"Portal comprador 15\", \"Portal comprador 26\", \"Portal comprador 25\", \"Portal comprador 9\", \"Portal comprador 33\", \"Portal comprador 19\", \"Portal comprador 22\", \"Portal comprador 23\"], \"xaxis\": \"x\", \"y\": [4293598464.0, 2742179328.0, 1611188352.0, 555513088.0, 436416352.0, 409359680.0, 210401360.0, 160436176.0, 102270872.0, 44941556.0, 42950160.0, 29126856.0, 25836052.0, 6140000.0, 5165571.0, 4189000.0, 2839494.0, 2770206.0, 2387811.0, 1342701.0, 1051849.0, 974394.0, 739565.0, 644588.0, 400752.0, 360000.0, 144585.0, 46912.0, 25600.0, 25210.0, 20000.0, 8364.0, 4627.0], \"yaxis\": \"y\"}],                        {\"barmode\": \"relative\", \"legend\": {\"tracegroupgap\": 0}, \"margin\": {\"t\": 60}, \"template\": {\"data\": {\"bar\": [{\"error_x\": {\"color\": \"#2a3f5f\"}, \"error_y\": {\"color\": \"#2a3f5f\"}, \"marker\": {\"line\": {\"color\": \"#E5ECF6\", \"width\": 0.5}}, \"type\": \"bar\"}], \"barpolar\": [{\"marker\": {\"line\": {\"color\": \"#E5ECF6\", \"width\": 0.5}}, \"type\": \"barpolar\"}], \"carpet\": [{\"aaxis\": {\"endlinecolor\": \"#2a3f5f\", \"gridcolor\": \"white\", \"linecolor\": \"white\", \"minorgridcolor\": \"white\", \"startlinecolor\": \"#2a3f5f\"}, \"baxis\": {\"endlinecolor\": \"#2a3f5f\", \"gridcolor\": \"white\", \"linecolor\": \"white\", \"minorgridcolor\": \"white\", \"startlinecolor\": \"#2a3f5f\"}, \"type\": \"carpet\"}], \"choropleth\": [{\"colorbar\": {\"outlinewidth\": 0, \"ticks\": \"\"}, \"type\": \"choropleth\"}], \"contour\": [{\"colorbar\": {\"outlinewidth\": 0, \"ticks\": \"\"}, \"colorscale\": [[0.0, \"#0d0887\"], [0.1111111111111111, \"#46039f\"], [0.2222222222222222, \"#7201a8\"], [0.3333333333333333, \"#9c179e\"], [0.4444444444444444, \"#bd3786\"], [0.5555555555555556, \"#d8576b\"], [0.6666666666666666, \"#ed7953\"], [0.7777777777777778, \"#fb9f3a\"], [0.8888888888888888, \"#fdca26\"], [1.0, \"#f0f921\"]], \"type\": \"contour\"}], \"contourcarpet\": [{\"colorbar\": {\"outlinewidth\": 0, \"ticks\": \"\"}, \"type\": \"contourcarpet\"}], \"heatmap\": [{\"colorbar\": {\"outlinewidth\": 0, \"ticks\": \"\"}, \"colorscale\": [[0.0, \"#0d0887\"], [0.1111111111111111, \"#46039f\"], [0.2222222222222222, \"#7201a8\"], [0.3333333333333333, \"#9c179e\"], [0.4444444444444444, \"#bd3786\"], [0.5555555555555556, \"#d8576b\"], [0.6666666666666666, \"#ed7953\"], [0.7777777777777778, \"#fb9f3a\"], [0.8888888888888888, \"#fdca26\"], [1.0, \"#f0f921\"]], \"type\": \"heatmap\"}], \"heatmapgl\": [{\"colorbar\": {\"outlinewidth\": 0, \"ticks\": \"\"}, \"colorscale\": [[0.0, \"#0d0887\"], [0.1111111111111111, \"#46039f\"], [0.2222222222222222, \"#7201a8\"], [0.3333333333333333, \"#9c179e\"], [0.4444444444444444, \"#bd3786\"], [0.5555555555555556, \"#d8576b\"], [0.6666666666666666, \"#ed7953\"], [0.7777777777777778, \"#fb9f3a\"], [0.8888888888888888, \"#fdca26\"], [1.0, \"#f0f921\"]], \"type\": \"heatmapgl\"}], \"histogram\": [{\"marker\": {\"colorbar\": {\"outlinewidth\": 0, \"ticks\": \"\"}}, \"type\": \"histogram\"}], \"histogram2d\": [{\"colorbar\": {\"outlinewidth\": 0, \"ticks\": \"\"}, \"colorscale\": [[0.0, \"#0d0887\"], [0.1111111111111111, \"#46039f\"], [0.2222222222222222, \"#7201a8\"], [0.3333333333333333, \"#9c179e\"], [0.4444444444444444, \"#bd3786\"], [0.5555555555555556, \"#d8576b\"], [0.6666666666666666, \"#ed7953\"], [0.7777777777777778, \"#fb9f3a\"], [0.8888888888888888, \"#fdca26\"], [1.0, \"#f0f921\"]], \"type\": \"histogram2d\"}], \"histogram2dcontour\": [{\"colorbar\": {\"outlinewidth\": 0, \"ticks\": \"\"}, \"colorscale\": [[0.0, \"#0d0887\"], [0.1111111111111111, \"#46039f\"], [0.2222222222222222, \"#7201a8\"], [0.3333333333333333, \"#9c179e\"], [0.4444444444444444, \"#bd3786\"], [0.5555555555555556, \"#d8576b\"], [0.6666666666666666, \"#ed7953\"], [0.7777777777777778, \"#fb9f3a\"], [0.8888888888888888, \"#fdca26\"], [1.0, \"#f0f921\"]], \"type\": \"histogram2dcontour\"}], \"mesh3d\": [{\"colorbar\": {\"outlinewidth\": 0, \"ticks\": \"\"}, \"type\": \"mesh3d\"}], \"parcoords\": [{\"line\": {\"colorbar\": {\"outlinewidth\": 0, \"ticks\": \"\"}}, \"type\": \"parcoords\"}], \"pie\": [{\"automargin\": true, \"type\": \"pie\"}], \"scatter\": [{\"marker\": {\"colorbar\": {\"outlinewidth\": 0, \"ticks\": \"\"}}, \"type\": \"scatter\"}], \"scatter3d\": [{\"line\": {\"colorbar\": {\"outlinewidth\": 0, \"ticks\": \"\"}}, \"marker\": {\"colorbar\": {\"outlinewidth\": 0, \"ticks\": \"\"}}, \"type\": \"scatter3d\"}], \"scattercarpet\": [{\"marker\": {\"colorbar\": {\"outlinewidth\": 0, \"ticks\": \"\"}}, \"type\": \"scattercarpet\"}], \"scattergeo\": [{\"marker\": {\"colorbar\": {\"outlinewidth\": 0, \"ticks\": \"\"}}, \"type\": \"scattergeo\"}], \"scattergl\": [{\"marker\": {\"colorbar\": {\"outlinewidth\": 0, \"ticks\": \"\"}}, \"type\": \"scattergl\"}], \"scattermapbox\": [{\"marker\": {\"colorbar\": {\"outlinewidth\": 0, \"ticks\": \"\"}}, \"type\": \"scattermapbox\"}], \"scatterpolar\": [{\"marker\": {\"colorbar\": {\"outlinewidth\": 0, \"ticks\": \"\"}}, \"type\": \"scatterpolar\"}], \"scatterpolargl\": [{\"marker\": {\"colorbar\": {\"outlinewidth\": 0, \"ticks\": \"\"}}, \"type\": \"scatterpolargl\"}], \"scatterternary\": [{\"marker\": {\"colorbar\": {\"outlinewidth\": 0, \"ticks\": \"\"}}, \"type\": \"scatterternary\"}], \"surface\": [{\"colorbar\": {\"outlinewidth\": 0, \"ticks\": \"\"}, \"colorscale\": [[0.0, \"#0d0887\"], [0.1111111111111111, \"#46039f\"], [0.2222222222222222, \"#7201a8\"], [0.3333333333333333, \"#9c179e\"], [0.4444444444444444, \"#bd3786\"], [0.5555555555555556, \"#d8576b\"], [0.6666666666666666, \"#ed7953\"], [0.7777777777777778, \"#fb9f3a\"], [0.8888888888888888, \"#fdca26\"], [1.0, \"#f0f921\"]], \"type\": \"surface\"}], \"table\": [{\"cells\": {\"fill\": {\"color\": \"#EBF0F8\"}, \"line\": {\"color\": \"white\"}}, \"header\": {\"fill\": {\"color\": \"#C8D4E3\"}, \"line\": {\"color\": \"white\"}}, \"type\": \"table\"}]}, \"layout\": {\"annotationdefaults\": {\"arrowcolor\": \"#2a3f5f\", \"arrowhead\": 0, \"arrowwidth\": 1}, \"autotypenumbers\": \"strict\", \"coloraxis\": {\"colorbar\": {\"outlinewidth\": 0, \"ticks\": \"\"}}, \"colorscale\": {\"diverging\": [[0, \"#8e0152\"], [0.1, \"#c51b7d\"], [0.2, \"#de77ae\"], [0.3, \"#f1b6da\"], [0.4, \"#fde0ef\"], [0.5, \"#f7f7f7\"], [0.6, \"#e6f5d0\"], [0.7, \"#b8e186\"], [0.8, \"#7fbc41\"], [0.9, \"#4d9221\"], [1, \"#276419\"]], \"sequential\": [[0.0, \"#0d0887\"], [0.1111111111111111, \"#46039f\"], [0.2222222222222222, \"#7201a8\"], [0.3333333333333333, \"#9c179e\"], [0.4444444444444444, \"#bd3786\"], [0.5555555555555556, \"#d8576b\"], [0.6666666666666666, \"#ed7953\"], [0.7777777777777778, \"#fb9f3a\"], [0.8888888888888888, \"#fdca26\"], [1.0, \"#f0f921\"]], \"sequentialminus\": [[0.0, \"#0d0887\"], [0.1111111111111111, \"#46039f\"], [0.2222222222222222, \"#7201a8\"], [0.3333333333333333, \"#9c179e\"], [0.4444444444444444, \"#bd3786\"], [0.5555555555555556, \"#d8576b\"], [0.6666666666666666, \"#ed7953\"], [0.7777777777777778, \"#fb9f3a\"], [0.8888888888888888, \"#fdca26\"], [1.0, \"#f0f921\"]]}, \"colorway\": [\"#636efa\", \"#EF553B\", \"#00cc96\", \"#ab63fa\", \"#FFA15A\", \"#19d3f3\", \"#FF6692\", \"#B6E880\", \"#FF97FF\", \"#FECB52\"], \"font\": {\"color\": \"#2a3f5f\"}, \"geo\": {\"bgcolor\": \"white\", \"lakecolor\": \"white\", \"landcolor\": \"#E5ECF6\", \"showlakes\": true, \"showland\": true, \"subunitcolor\": \"white\"}, \"hoverlabel\": {\"align\": \"left\"}, \"hovermode\": \"closest\", \"mapbox\": {\"style\": \"light\"}, \"paper_bgcolor\": \"white\", \"plot_bgcolor\": \"#E5ECF6\", \"polar\": {\"angularaxis\": {\"gridcolor\": \"white\", \"linecolor\": \"white\", \"ticks\": \"\"}, \"bgcolor\": \"#E5ECF6\", \"radialaxis\": {\"gridcolor\": \"white\", \"linecolor\": \"white\", \"ticks\": \"\"}}, \"scene\": {\"xaxis\": {\"backgroundcolor\": \"#E5ECF6\", \"gridcolor\": \"white\", \"gridwidth\": 2, \"linecolor\": \"white\", \"showbackground\": true, \"ticks\": \"\", \"zerolinecolor\": \"white\"}, \"yaxis\": {\"backgroundcolor\": \"#E5ECF6\", \"gridcolor\": \"white\", \"gridwidth\": 2, \"linecolor\": \"white\", \"showbackground\": true, \"ticks\": \"\", \"zerolinecolor\": \"white\"}, \"zaxis\": {\"backgroundcolor\": \"#E5ECF6\", \"gridcolor\": \"white\", \"gridwidth\": 2, \"linecolor\": \"white\", \"showbackground\": true, \"ticks\": \"\", \"zerolinecolor\": \"white\"}}, \"shapedefaults\": {\"line\": {\"color\": \"#2a3f5f\"}}, \"ternary\": {\"aaxis\": {\"gridcolor\": \"white\", \"linecolor\": \"white\", \"ticks\": \"\"}, \"baxis\": {\"gridcolor\": \"white\", \"linecolor\": \"white\", \"ticks\": \"\"}, \"bgcolor\": \"#E5ECF6\", \"caxis\": {\"gridcolor\": \"white\", \"linecolor\": \"white\", \"ticks\": \"\"}}, \"title\": {\"x\": 0.05}, \"xaxis\": {\"automargin\": true, \"gridcolor\": \"white\", \"linecolor\": \"white\", \"ticks\": \"\", \"title\": {\"standoff\": 15}, \"zerolinecolor\": \"white\", \"zerolinewidth\": 2}, \"yaxis\": {\"automargin\": true, \"gridcolor\": \"white\", \"linecolor\": \"white\", \"ticks\": \"\", \"title\": {\"standoff\": 15}, \"zerolinecolor\": \"white\", \"zerolinewidth\": 2}}}, \"xaxis\": {\"anchor\": \"y\", \"domain\": [0.0, 1.0], \"title\": {\"text\": \"PORTAL\"}}, \"yaxis\": {\"anchor\": \"x\", \"domain\": [0.0, 1.0], \"title\": {\"text\": \"TOTAL_SIN_IVA\"}}},                        {\"responsive\": true}                    )                };                            </script>        </div>\n",
       "</body>\n",
       "</html>"
      ]
     },
     "metadata": {
      "application/vnd.databricks.v1+output": {
       "addedWidgets": {},
       "arguments": {},
       "data": "<html>\n<head><meta charset=\"utf-8\" /></head>\n<body>\n    <div>            <script src=\"https://cdnjs.cloudflare.com/ajax/libs/mathjax/2.7.5/MathJax.js?config=TeX-AMS-MML_SVG\"></script><script type=\"text/javascript\">if (window.MathJax) {MathJax.Hub.Config({SVG: {font: \"STIX-Web\"}});}</script>                <script type=\"text/javascript\">window.PlotlyConfig = {MathJaxConfig: 'local'};</script>\n        <script src=\"https://cdn.plot.ly/plotly-latest.min.js\"></script>                <div id=\"c659cd97-ee00-40c4-ac4d-fe8d563970eb\" class=\"plotly-graph-div\" style=\"height:100%; width:100%;\"></div>            <script type=\"text/javascript\">                                    window.PLOTLYENV=window.PLOTLYENV || {};                                    if (document.getElementById(\"c659cd97-ee00-40c4-ac4d-fe8d563970eb\")) {                    Plotly.newPlot(                        \"c659cd97-ee00-40c4-ac4d-fe8d563970eb\",                        [{\"alignmentgroup\": \"True\", \"hovertemplate\": \"PORTAL=%{x}<br>TOTAL_SIN_IVA=%{y}<extra></extra>\", \"legendgroup\": \"\", \"marker\": {\"color\": \"#636efa\"}, \"name\": \"\", \"offsetgroup\": \"\", \"orientation\": \"v\", \"showlegend\": false, \"textposition\": \"auto\", \"type\": \"bar\", \"x\": [\"Portal comprador 24\", \"Portal comprador 1\", \"Portal comprador 2\", \"Portal comprador 6\", \"Portal comprador 18\", \"Portal comprador 29\", \"Portal comprador 30\", \"Portal comprador 4\", \"Portal comprador 8\", \"Portal comprador 5\", \"Portal comprador 31\", \"Portal comprador 20\", \"Portal comprador 28\", \"Portal comprador 17\", \"Portal comprador 12\", \"Portal comprador 21\", \"Portal comprador 7\", \"Portal comprador 14\", \"Portal comprador 32\", \"Portal comprador 27\", \"Portal comprador 10\", \"Portal comprador 11\", \"Portal comprador 13\", \"Portal comprador 3\", \"Portal comprador 16\", \"Portal comprador 15\", \"Portal comprador 26\", \"Portal comprador 25\", \"Portal comprador 9\", \"Portal comprador 33\", \"Portal comprador 19\", \"Portal comprador 22\", \"Portal comprador 23\"], \"xaxis\": \"x\", \"y\": [4293598464.0, 2742179328.0, 1611188352.0, 555513088.0, 436416352.0, 409359680.0, 210401360.0, 160436176.0, 102270872.0, 44941556.0, 42950160.0, 29126856.0, 25836052.0, 6140000.0, 5165571.0, 4189000.0, 2839494.0, 2770206.0, 2387811.0, 1342701.0, 1051849.0, 974394.0, 739565.0, 644588.0, 400752.0, 360000.0, 144585.0, 46912.0, 25600.0, 25210.0, 20000.0, 8364.0, 4627.0], \"yaxis\": \"y\"}],                        {\"barmode\": \"relative\", \"legend\": {\"tracegroupgap\": 0}, \"margin\": {\"t\": 60}, \"template\": {\"data\": {\"bar\": [{\"error_x\": {\"color\": \"#2a3f5f\"}, \"error_y\": {\"color\": \"#2a3f5f\"}, \"marker\": {\"line\": {\"color\": \"#E5ECF6\", \"width\": 0.5}}, \"type\": \"bar\"}], \"barpolar\": [{\"marker\": {\"line\": {\"color\": \"#E5ECF6\", \"width\": 0.5}}, \"type\": \"barpolar\"}], \"carpet\": [{\"aaxis\": {\"endlinecolor\": \"#2a3f5f\", \"gridcolor\": \"white\", \"linecolor\": \"white\", \"minorgridcolor\": \"white\", \"startlinecolor\": \"#2a3f5f\"}, \"baxis\": {\"endlinecolor\": \"#2a3f5f\", \"gridcolor\": \"white\", \"linecolor\": \"white\", \"minorgridcolor\": \"white\", \"startlinecolor\": \"#2a3f5f\"}, \"type\": \"carpet\"}], \"choropleth\": [{\"colorbar\": {\"outlinewidth\": 0, \"ticks\": \"\"}, \"type\": \"choropleth\"}], \"contour\": [{\"colorbar\": {\"outlinewidth\": 0, \"ticks\": \"\"}, \"colorscale\": [[0.0, \"#0d0887\"], [0.1111111111111111, \"#46039f\"], [0.2222222222222222, \"#7201a8\"], [0.3333333333333333, \"#9c179e\"], [0.4444444444444444, \"#bd3786\"], [0.5555555555555556, \"#d8576b\"], [0.6666666666666666, \"#ed7953\"], [0.7777777777777778, \"#fb9f3a\"], [0.8888888888888888, \"#fdca26\"], [1.0, \"#f0f921\"]], \"type\": \"contour\"}], \"contourcarpet\": [{\"colorbar\": {\"outlinewidth\": 0, \"ticks\": \"\"}, \"type\": \"contourcarpet\"}], \"heatmap\": [{\"colorbar\": {\"outlinewidth\": 0, \"ticks\": \"\"}, \"colorscale\": [[0.0, \"#0d0887\"], [0.1111111111111111, \"#46039f\"], [0.2222222222222222, \"#7201a8\"], [0.3333333333333333, \"#9c179e\"], [0.4444444444444444, \"#bd3786\"], [0.5555555555555556, \"#d8576b\"], [0.6666666666666666, \"#ed7953\"], [0.7777777777777778, \"#fb9f3a\"], [0.8888888888888888, \"#fdca26\"], [1.0, \"#f0f921\"]], \"type\": \"heatmap\"}], \"heatmapgl\": [{\"colorbar\": {\"outlinewidth\": 0, \"ticks\": \"\"}, \"colorscale\": [[0.0, \"#0d0887\"], [0.1111111111111111, \"#46039f\"], [0.2222222222222222, \"#7201a8\"], [0.3333333333333333, \"#9c179e\"], [0.4444444444444444, \"#bd3786\"], [0.5555555555555556, \"#d8576b\"], [0.6666666666666666, \"#ed7953\"], [0.7777777777777778, \"#fb9f3a\"], [0.8888888888888888, \"#fdca26\"], [1.0, \"#f0f921\"]], \"type\": \"heatmapgl\"}], \"histogram\": [{\"marker\": {\"colorbar\": {\"outlinewidth\": 0, \"ticks\": \"\"}}, \"type\": \"histogram\"}], \"histogram2d\": [{\"colorbar\": {\"outlinewidth\": 0, \"ticks\": \"\"}, \"colorscale\": [[0.0, \"#0d0887\"], [0.1111111111111111, \"#46039f\"], [0.2222222222222222, \"#7201a8\"], [0.3333333333333333, \"#9c179e\"], [0.4444444444444444, \"#bd3786\"], [0.5555555555555556, \"#d8576b\"], [0.6666666666666666, \"#ed7953\"], [0.7777777777777778, \"#fb9f3a\"], [0.8888888888888888, \"#fdca26\"], [1.0, \"#f0f921\"]], \"type\": \"histogram2d\"}], \"histogram2dcontour\": [{\"colorbar\": {\"outlinewidth\": 0, \"ticks\": \"\"}, \"colorscale\": [[0.0, \"#0d0887\"], [0.1111111111111111, \"#46039f\"], [0.2222222222222222, \"#7201a8\"], [0.3333333333333333, \"#9c179e\"], [0.4444444444444444, \"#bd3786\"], [0.5555555555555556, \"#d8576b\"], [0.6666666666666666, \"#ed7953\"], [0.7777777777777778, \"#fb9f3a\"], [0.8888888888888888, \"#fdca26\"], [1.0, \"#f0f921\"]], \"type\": \"histogram2dcontour\"}], \"mesh3d\": [{\"colorbar\": {\"outlinewidth\": 0, \"ticks\": \"\"}, \"type\": \"mesh3d\"}], \"parcoords\": [{\"line\": {\"colorbar\": {\"outlinewidth\": 0, \"ticks\": \"\"}}, \"type\": \"parcoords\"}], \"pie\": [{\"automargin\": true, \"type\": \"pie\"}], \"scatter\": [{\"marker\": {\"colorbar\": {\"outlinewidth\": 0, \"ticks\": \"\"}}, \"type\": \"scatter\"}], \"scatter3d\": [{\"line\": {\"colorbar\": {\"outlinewidth\": 0, \"ticks\": \"\"}}, \"marker\": {\"colorbar\": {\"outlinewidth\": 0, \"ticks\": \"\"}}, \"type\": \"scatter3d\"}], \"scattercarpet\": [{\"marker\": {\"colorbar\": {\"outlinewidth\": 0, \"ticks\": \"\"}}, \"type\": \"scattercarpet\"}], \"scattergeo\": [{\"marker\": {\"colorbar\": {\"outlinewidth\": 0, \"ticks\": \"\"}}, \"type\": \"scattergeo\"}], \"scattergl\": [{\"marker\": {\"colorbar\": {\"outlinewidth\": 0, \"ticks\": \"\"}}, \"type\": \"scattergl\"}], \"scattermapbox\": [{\"marker\": {\"colorbar\": {\"outlinewidth\": 0, \"ticks\": \"\"}}, \"type\": \"scattermapbox\"}], \"scatterpolar\": [{\"marker\": {\"colorbar\": {\"outlinewidth\": 0, \"ticks\": \"\"}}, \"type\": \"scatterpolar\"}], \"scatterpolargl\": [{\"marker\": {\"colorbar\": {\"outlinewidth\": 0, \"ticks\": \"\"}}, \"type\": \"scatterpolargl\"}], \"scatterternary\": [{\"marker\": {\"colorbar\": {\"outlinewidth\": 0, \"ticks\": \"\"}}, \"type\": \"scatterternary\"}], \"surface\": [{\"colorbar\": {\"outlinewidth\": 0, \"ticks\": \"\"}, \"colorscale\": [[0.0, \"#0d0887\"], [0.1111111111111111, \"#46039f\"], [0.2222222222222222, \"#7201a8\"], [0.3333333333333333, \"#9c179e\"], [0.4444444444444444, \"#bd3786\"], [0.5555555555555556, \"#d8576b\"], [0.6666666666666666, \"#ed7953\"], [0.7777777777777778, \"#fb9f3a\"], [0.8888888888888888, \"#fdca26\"], [1.0, \"#f0f921\"]], \"type\": \"surface\"}], \"table\": [{\"cells\": {\"fill\": {\"color\": \"#EBF0F8\"}, \"line\": {\"color\": \"white\"}}, \"header\": {\"fill\": {\"color\": \"#C8D4E3\"}, \"line\": {\"color\": \"white\"}}, \"type\": \"table\"}]}, \"layout\": {\"annotationdefaults\": {\"arrowcolor\": \"#2a3f5f\", \"arrowhead\": 0, \"arrowwidth\": 1}, \"autotypenumbers\": \"strict\", \"coloraxis\": {\"colorbar\": {\"outlinewidth\": 0, \"ticks\": \"\"}}, \"colorscale\": {\"diverging\": [[0, \"#8e0152\"], [0.1, \"#c51b7d\"], [0.2, \"#de77ae\"], [0.3, \"#f1b6da\"], [0.4, \"#fde0ef\"], [0.5, \"#f7f7f7\"], [0.6, \"#e6f5d0\"], [0.7, \"#b8e186\"], [0.8, \"#7fbc41\"], [0.9, \"#4d9221\"], [1, \"#276419\"]], \"sequential\": [[0.0, \"#0d0887\"], [0.1111111111111111, \"#46039f\"], [0.2222222222222222, \"#7201a8\"], [0.3333333333333333, \"#9c179e\"], [0.4444444444444444, \"#bd3786\"], [0.5555555555555556, \"#d8576b\"], [0.6666666666666666, \"#ed7953\"], [0.7777777777777778, \"#fb9f3a\"], [0.8888888888888888, \"#fdca26\"], [1.0, \"#f0f921\"]], \"sequentialminus\": [[0.0, \"#0d0887\"], [0.1111111111111111, \"#46039f\"], [0.2222222222222222, \"#7201a8\"], [0.3333333333333333, \"#9c179e\"], [0.4444444444444444, \"#bd3786\"], [0.5555555555555556, \"#d8576b\"], [0.6666666666666666, \"#ed7953\"], [0.7777777777777778, \"#fb9f3a\"], [0.8888888888888888, \"#fdca26\"], [1.0, \"#f0f921\"]]}, \"colorway\": [\"#636efa\", \"#EF553B\", \"#00cc96\", \"#ab63fa\", \"#FFA15A\", \"#19d3f3\", \"#FF6692\", \"#B6E880\", \"#FF97FF\", \"#FECB52\"], \"font\": {\"color\": \"#2a3f5f\"}, \"geo\": {\"bgcolor\": \"white\", \"lakecolor\": \"white\", \"landcolor\": \"#E5ECF6\", \"showlakes\": true, \"showland\": true, \"subunitcolor\": \"white\"}, \"hoverlabel\": {\"align\": \"left\"}, \"hovermode\": \"closest\", \"mapbox\": {\"style\": \"light\"}, \"paper_bgcolor\": \"white\", \"plot_bgcolor\": \"#E5ECF6\", \"polar\": {\"angularaxis\": {\"gridcolor\": \"white\", \"linecolor\": \"white\", \"ticks\": \"\"}, \"bgcolor\": \"#E5ECF6\", \"radialaxis\": {\"gridcolor\": \"white\", \"linecolor\": \"white\", \"ticks\": \"\"}}, \"scene\": {\"xaxis\": {\"backgroundcolor\": \"#E5ECF6\", \"gridcolor\": \"white\", \"gridwidth\": 2, \"linecolor\": \"white\", \"showbackground\": true, \"ticks\": \"\", \"zerolinecolor\": \"white\"}, \"yaxis\": {\"backgroundcolor\": \"#E5ECF6\", \"gridcolor\": \"white\", \"gridwidth\": 2, \"linecolor\": \"white\", \"showbackground\": true, \"ticks\": \"\", \"zerolinecolor\": \"white\"}, \"zaxis\": {\"backgroundcolor\": \"#E5ECF6\", \"gridcolor\": \"white\", \"gridwidth\": 2, \"linecolor\": \"white\", \"showbackground\": true, \"ticks\": \"\", \"zerolinecolor\": \"white\"}}, \"shapedefaults\": {\"line\": {\"color\": \"#2a3f5f\"}}, \"ternary\": {\"aaxis\": {\"gridcolor\": \"white\", \"linecolor\": \"white\", \"ticks\": \"\"}, \"baxis\": {\"gridcolor\": \"white\", \"linecolor\": \"white\", \"ticks\": \"\"}, \"bgcolor\": \"#E5ECF6\", \"caxis\": {\"gridcolor\": \"white\", \"linecolor\": \"white\", \"ticks\": \"\"}}, \"title\": {\"x\": 0.05}, \"xaxis\": {\"automargin\": true, \"gridcolor\": \"white\", \"linecolor\": \"white\", \"ticks\": \"\", \"title\": {\"standoff\": 15}, \"zerolinecolor\": \"white\", \"zerolinewidth\": 2}, \"yaxis\": {\"automargin\": true, \"gridcolor\": \"white\", \"linecolor\": \"white\", \"ticks\": \"\", \"title\": {\"standoff\": 15}, \"zerolinecolor\": \"white\", \"zerolinewidth\": 2}}}, \"xaxis\": {\"anchor\": \"y\", \"domain\": [0.0, 1.0], \"title\": {\"text\": \"PORTAL\"}}, \"yaxis\": {\"anchor\": \"x\", \"domain\": [0.0, 1.0], \"title\": {\"text\": \"TOTAL_SIN_IVA\"}}},                        {\"responsive\": true}                    )                };                            </script>        </div>\n</body>\n</html>",
       "datasetInfos": [],
       "metadata": {},
       "removedWidgets": [],
       "textData": null,
       "type": "htmlSandbox"
      }
     },
     "output_type": "display_data"
    }
   ],
   "source": [
    "px.bar(df_Comp, y='TOTAL_SIN_IVA')"
   ]
  },
  {
   "cell_type": "code",
   "execution_count": 0,
   "metadata": {
    "application/vnd.databricks.v1+cell": {
     "inputWidgets": {},
     "nuid": "238933d3-36b0-4ff3-815f-8c09a1778b40",
     "showTitle": false,
     "title": ""
    }
   },
   "outputs": [
    {
     "data": {
      "text/html": [
       "<style scoped>\n",
       "  .ansiout {\n",
       "    display: block;\n",
       "    unicode-bidi: embed;\n",
       "    white-space: pre-wrap;\n",
       "    word-wrap: break-word;\n",
       "    word-break: break-all;\n",
       "    font-family: \"Source Code Pro\", \"Menlo\", monospace;;\n",
       "    font-size: 13px;\n",
       "    color: #555;\n",
       "    margin-left: 4px;\n",
       "    line-height: 19px;\n",
       "  }\n",
       "</style>\n",
       "<div class=\"ansiout\">Out[1083]: </div>"
      ]
     },
     "metadata": {
      "application/vnd.databricks.v1+output": {
       "addedWidgets": {},
       "arguments": {},
       "data": "<div class=\"ansiout\">Out[1083]: </div>",
       "datasetInfos": [],
       "metadata": {},
       "removedWidgets": [],
       "type": "html"
      }
     },
     "output_type": "display_data"
    },
    {
     "data": {
      "text/html": [
       "<div>\n",
       "<style scoped>\n",
       "    .dataframe tbody tr th:only-of-type {\n",
       "        vertical-align: middle;\n",
       "    }\n",
       "\n",
       "    .dataframe tbody tr th {\n",
       "        vertical-align: top;\n",
       "    }\n",
       "\n",
       "    .dataframe thead th {\n",
       "        text-align: right;\n",
       "    }\n",
       "</style>\n",
       "<table border=\"1\" class=\"dataframe\">\n",
       "  <thead>\n",
       "    <tr style=\"text-align: right;\">\n",
       "      <th></th>\n",
       "      <th>FECHA_ORDEN</th>\n",
       "      <th>CATEGORÍA</th>\n",
       "      <th>SUBCATEGORIA</th>\n",
       "      <th>PROVEEDOR</th>\n",
       "      <th>ESTADO</th>\n",
       "      <th>PRODUCTO_O_SERVICIO</th>\n",
       "      <th>CANTIDAD_PEDIDA</th>\n",
       "      <th>CANTIDAD_RECIBIDA</th>\n",
       "      <th>PRECIO_UNITARIO</th>\n",
       "      <th>IVA</th>\n",
       "      <th>TOTAL_SIN_IVA</th>\n",
       "    </tr>\n",
       "    <tr>\n",
       "      <th>PORTAL</th>\n",
       "      <th></th>\n",
       "      <th></th>\n",
       "      <th></th>\n",
       "      <th></th>\n",
       "      <th></th>\n",
       "      <th></th>\n",
       "      <th></th>\n",
       "      <th></th>\n",
       "      <th></th>\n",
       "      <th></th>\n",
       "      <th></th>\n",
       "    </tr>\n",
       "  </thead>\n",
       "  <tbody>\n",
       "    <tr>\n",
       "      <th>Portal comprador 1</th>\n",
       "      <td>6563</td>\n",
       "      <td>6563</td>\n",
       "      <td>6563</td>\n",
       "      <td>6563</td>\n",
       "      <td>6563</td>\n",
       "      <td>6563</td>\n",
       "      <td>6563</td>\n",
       "      <td>5577</td>\n",
       "      <td>6563</td>\n",
       "      <td>6563</td>\n",
       "      <td>6563</td>\n",
       "    </tr>\n",
       "    <tr>\n",
       "      <th>Portal comprador 24</th>\n",
       "      <td>5439</td>\n",
       "      <td>5439</td>\n",
       "      <td>5439</td>\n",
       "      <td>5439</td>\n",
       "      <td>5439</td>\n",
       "      <td>5439</td>\n",
       "      <td>5439</td>\n",
       "      <td>5439</td>\n",
       "      <td>5439</td>\n",
       "      <td>5439</td>\n",
       "      <td>5439</td>\n",
       "    </tr>\n",
       "    <tr>\n",
       "      <th>Portal comprador 2</th>\n",
       "      <td>3863</td>\n",
       "      <td>3863</td>\n",
       "      <td>3863</td>\n",
       "      <td>3863</td>\n",
       "      <td>3863</td>\n",
       "      <td>3863</td>\n",
       "      <td>3863</td>\n",
       "      <td>3095</td>\n",
       "      <td>3863</td>\n",
       "      <td>3863</td>\n",
       "      <td>3863</td>\n",
       "    </tr>\n",
       "    <tr>\n",
       "      <th>Portal comprador 29</th>\n",
       "      <td>3320</td>\n",
       "      <td>3320</td>\n",
       "      <td>3320</td>\n",
       "      <td>3320</td>\n",
       "      <td>3320</td>\n",
       "      <td>3320</td>\n",
       "      <td>3320</td>\n",
       "      <td>2</td>\n",
       "      <td>3320</td>\n",
       "      <td>3320</td>\n",
       "      <td>3320</td>\n",
       "    </tr>\n",
       "    <tr>\n",
       "      <th>Portal comprador 6</th>\n",
       "      <td>850</td>\n",
       "      <td>850</td>\n",
       "      <td>850</td>\n",
       "      <td>850</td>\n",
       "      <td>850</td>\n",
       "      <td>850</td>\n",
       "      <td>850</td>\n",
       "      <td>230</td>\n",
       "      <td>850</td>\n",
       "      <td>850</td>\n",
       "      <td>850</td>\n",
       "    </tr>\n",
       "    <tr>\n",
       "      <th>Portal comprador 30</th>\n",
       "      <td>760</td>\n",
       "      <td>760</td>\n",
       "      <td>760</td>\n",
       "      <td>760</td>\n",
       "      <td>760</td>\n",
       "      <td>760</td>\n",
       "      <td>760</td>\n",
       "      <td>29</td>\n",
       "      <td>760</td>\n",
       "      <td>760</td>\n",
       "      <td>760</td>\n",
       "    </tr>\n",
       "    <tr>\n",
       "      <th>Portal comprador 4</th>\n",
       "      <td>361</td>\n",
       "      <td>361</td>\n",
       "      <td>361</td>\n",
       "      <td>361</td>\n",
       "      <td>361</td>\n",
       "      <td>361</td>\n",
       "      <td>361</td>\n",
       "      <td>288</td>\n",
       "      <td>361</td>\n",
       "      <td>361</td>\n",
       "      <td>361</td>\n",
       "    </tr>\n",
       "    <tr>\n",
       "      <th>Portal comprador 8</th>\n",
       "      <td>318</td>\n",
       "      <td>318</td>\n",
       "      <td>318</td>\n",
       "      <td>318</td>\n",
       "      <td>318</td>\n",
       "      <td>318</td>\n",
       "      <td>318</td>\n",
       "      <td>107</td>\n",
       "      <td>318</td>\n",
       "      <td>318</td>\n",
       "      <td>318</td>\n",
       "    </tr>\n",
       "    <tr>\n",
       "      <th>Portal comprador 5</th>\n",
       "      <td>296</td>\n",
       "      <td>296</td>\n",
       "      <td>296</td>\n",
       "      <td>296</td>\n",
       "      <td>296</td>\n",
       "      <td>296</td>\n",
       "      <td>296</td>\n",
       "      <td>256</td>\n",
       "      <td>296</td>\n",
       "      <td>296</td>\n",
       "      <td>296</td>\n",
       "    </tr>\n",
       "    <tr>\n",
       "      <th>Portal comprador 12</th>\n",
       "      <td>214</td>\n",
       "      <td>214</td>\n",
       "      <td>214</td>\n",
       "      <td>214</td>\n",
       "      <td>214</td>\n",
       "      <td>214</td>\n",
       "      <td>214</td>\n",
       "      <td>86</td>\n",
       "      <td>214</td>\n",
       "      <td>214</td>\n",
       "      <td>214</td>\n",
       "    </tr>\n",
       "    <tr>\n",
       "      <th>Portal comprador 18</th>\n",
       "      <td>89</td>\n",
       "      <td>89</td>\n",
       "      <td>89</td>\n",
       "      <td>89</td>\n",
       "      <td>89</td>\n",
       "      <td>89</td>\n",
       "      <td>89</td>\n",
       "      <td>83</td>\n",
       "      <td>89</td>\n",
       "      <td>89</td>\n",
       "      <td>89</td>\n",
       "    </tr>\n",
       "    <tr>\n",
       "      <th>Portal comprador 10</th>\n",
       "      <td>69</td>\n",
       "      <td>69</td>\n",
       "      <td>69</td>\n",
       "      <td>69</td>\n",
       "      <td>69</td>\n",
       "      <td>69</td>\n",
       "      <td>69</td>\n",
       "      <td>26</td>\n",
       "      <td>69</td>\n",
       "      <td>69</td>\n",
       "      <td>69</td>\n",
       "    </tr>\n",
       "    <tr>\n",
       "      <th>Portal comprador 7</th>\n",
       "      <td>65</td>\n",
       "      <td>65</td>\n",
       "      <td>65</td>\n",
       "      <td>65</td>\n",
       "      <td>65</td>\n",
       "      <td>65</td>\n",
       "      <td>65</td>\n",
       "      <td>44</td>\n",
       "      <td>65</td>\n",
       "      <td>65</td>\n",
       "      <td>65</td>\n",
       "    </tr>\n",
       "    <tr>\n",
       "      <th>Portal comprador 11</th>\n",
       "      <td>51</td>\n",
       "      <td>51</td>\n",
       "      <td>51</td>\n",
       "      <td>51</td>\n",
       "      <td>51</td>\n",
       "      <td>51</td>\n",
       "      <td>51</td>\n",
       "      <td>33</td>\n",
       "      <td>51</td>\n",
       "      <td>51</td>\n",
       "      <td>51</td>\n",
       "    </tr>\n",
       "    <tr>\n",
       "      <th>Portal comprador 27</th>\n",
       "      <td>35</td>\n",
       "      <td>35</td>\n",
       "      <td>35</td>\n",
       "      <td>35</td>\n",
       "      <td>35</td>\n",
       "      <td>35</td>\n",
       "      <td>35</td>\n",
       "      <td>2</td>\n",
       "      <td>35</td>\n",
       "      <td>35</td>\n",
       "      <td>35</td>\n",
       "    </tr>\n",
       "    <tr>\n",
       "      <th>Portal comprador 13</th>\n",
       "      <td>33</td>\n",
       "      <td>33</td>\n",
       "      <td>33</td>\n",
       "      <td>33</td>\n",
       "      <td>33</td>\n",
       "      <td>33</td>\n",
       "      <td>33</td>\n",
       "      <td>18</td>\n",
       "      <td>33</td>\n",
       "      <td>33</td>\n",
       "      <td>33</td>\n",
       "    </tr>\n",
       "    <tr>\n",
       "      <th>Portal comprador 20</th>\n",
       "      <td>28</td>\n",
       "      <td>28</td>\n",
       "      <td>28</td>\n",
       "      <td>28</td>\n",
       "      <td>28</td>\n",
       "      <td>28</td>\n",
       "      <td>28</td>\n",
       "      <td>0</td>\n",
       "      <td>28</td>\n",
       "      <td>28</td>\n",
       "      <td>28</td>\n",
       "    </tr>\n",
       "    <tr>\n",
       "      <th>Portal comprador 31</th>\n",
       "      <td>16</td>\n",
       "      <td>16</td>\n",
       "      <td>16</td>\n",
       "      <td>16</td>\n",
       "      <td>16</td>\n",
       "      <td>16</td>\n",
       "      <td>16</td>\n",
       "      <td>1</td>\n",
       "      <td>16</td>\n",
       "      <td>16</td>\n",
       "      <td>16</td>\n",
       "    </tr>\n",
       "    <tr>\n",
       "      <th>Portal comprador 21</th>\n",
       "      <td>4</td>\n",
       "      <td>4</td>\n",
       "      <td>4</td>\n",
       "      <td>4</td>\n",
       "      <td>4</td>\n",
       "      <td>4</td>\n",
       "      <td>4</td>\n",
       "      <td>2</td>\n",
       "      <td>4</td>\n",
       "      <td>4</td>\n",
       "      <td>4</td>\n",
       "    </tr>\n",
       "    <tr>\n",
       "      <th>Portal comprador 14</th>\n",
       "      <td>2</td>\n",
       "      <td>2</td>\n",
       "      <td>2</td>\n",
       "      <td>2</td>\n",
       "      <td>2</td>\n",
       "      <td>2</td>\n",
       "      <td>2</td>\n",
       "      <td>2</td>\n",
       "      <td>2</td>\n",
       "      <td>2</td>\n",
       "      <td>2</td>\n",
       "    </tr>\n",
       "    <tr>\n",
       "      <th>Portal comprador 26</th>\n",
       "      <td>2</td>\n",
       "      <td>2</td>\n",
       "      <td>2</td>\n",
       "      <td>2</td>\n",
       "      <td>2</td>\n",
       "      <td>2</td>\n",
       "      <td>2</td>\n",
       "      <td>2</td>\n",
       "      <td>2</td>\n",
       "      <td>2</td>\n",
       "      <td>2</td>\n",
       "    </tr>\n",
       "    <tr>\n",
       "      <th>Portal comprador 28</th>\n",
       "      <td>2</td>\n",
       "      <td>2</td>\n",
       "      <td>2</td>\n",
       "      <td>2</td>\n",
       "      <td>2</td>\n",
       "      <td>2</td>\n",
       "      <td>2</td>\n",
       "      <td>0</td>\n",
       "      <td>2</td>\n",
       "      <td>2</td>\n",
       "      <td>2</td>\n",
       "    </tr>\n",
       "    <tr>\n",
       "      <th>Portal comprador 32</th>\n",
       "      <td>2</td>\n",
       "      <td>2</td>\n",
       "      <td>2</td>\n",
       "      <td>2</td>\n",
       "      <td>2</td>\n",
       "      <td>2</td>\n",
       "      <td>2</td>\n",
       "      <td>0</td>\n",
       "      <td>2</td>\n",
       "      <td>2</td>\n",
       "      <td>2</td>\n",
       "    </tr>\n",
       "    <tr>\n",
       "      <th>Portal comprador 33</th>\n",
       "      <td>1</td>\n",
       "      <td>1</td>\n",
       "      <td>1</td>\n",
       "      <td>1</td>\n",
       "      <td>1</td>\n",
       "      <td>1</td>\n",
       "      <td>1</td>\n",
       "      <td>0</td>\n",
       "      <td>1</td>\n",
       "      <td>1</td>\n",
       "      <td>1</td>\n",
       "    </tr>\n",
       "    <tr>\n",
       "      <th>Portal comprador 25</th>\n",
       "      <td>1</td>\n",
       "      <td>1</td>\n",
       "      <td>1</td>\n",
       "      <td>1</td>\n",
       "      <td>1</td>\n",
       "      <td>1</td>\n",
       "      <td>1</td>\n",
       "      <td>0</td>\n",
       "      <td>1</td>\n",
       "      <td>1</td>\n",
       "      <td>1</td>\n",
       "    </tr>\n",
       "    <tr>\n",
       "      <th>Portal comprador 3</th>\n",
       "      <td>1</td>\n",
       "      <td>1</td>\n",
       "      <td>1</td>\n",
       "      <td>1</td>\n",
       "      <td>1</td>\n",
       "      <td>1</td>\n",
       "      <td>1</td>\n",
       "      <td>1</td>\n",
       "      <td>1</td>\n",
       "      <td>1</td>\n",
       "      <td>1</td>\n",
       "    </tr>\n",
       "    <tr>\n",
       "      <th>Portal comprador 23</th>\n",
       "      <td>1</td>\n",
       "      <td>1</td>\n",
       "      <td>1</td>\n",
       "      <td>1</td>\n",
       "      <td>1</td>\n",
       "      <td>1</td>\n",
       "      <td>1</td>\n",
       "      <td>0</td>\n",
       "      <td>1</td>\n",
       "      <td>1</td>\n",
       "      <td>1</td>\n",
       "    </tr>\n",
       "    <tr>\n",
       "      <th>Portal comprador 22</th>\n",
       "      <td>1</td>\n",
       "      <td>1</td>\n",
       "      <td>1</td>\n",
       "      <td>1</td>\n",
       "      <td>1</td>\n",
       "      <td>1</td>\n",
       "      <td>1</td>\n",
       "      <td>0</td>\n",
       "      <td>1</td>\n",
       "      <td>1</td>\n",
       "      <td>1</td>\n",
       "    </tr>\n",
       "    <tr>\n",
       "      <th>Portal comprador 19</th>\n",
       "      <td>1</td>\n",
       "      <td>1</td>\n",
       "      <td>1</td>\n",
       "      <td>1</td>\n",
       "      <td>1</td>\n",
       "      <td>1</td>\n",
       "      <td>1</td>\n",
       "      <td>0</td>\n",
       "      <td>1</td>\n",
       "      <td>1</td>\n",
       "      <td>1</td>\n",
       "    </tr>\n",
       "    <tr>\n",
       "      <th>Portal comprador 17</th>\n",
       "      <td>1</td>\n",
       "      <td>1</td>\n",
       "      <td>1</td>\n",
       "      <td>1</td>\n",
       "      <td>1</td>\n",
       "      <td>1</td>\n",
       "      <td>1</td>\n",
       "      <td>1</td>\n",
       "      <td>1</td>\n",
       "      <td>1</td>\n",
       "      <td>1</td>\n",
       "    </tr>\n",
       "    <tr>\n",
       "      <th>Portal comprador 16</th>\n",
       "      <td>1</td>\n",
       "      <td>1</td>\n",
       "      <td>1</td>\n",
       "      <td>1</td>\n",
       "      <td>1</td>\n",
       "      <td>1</td>\n",
       "      <td>1</td>\n",
       "      <td>1</td>\n",
       "      <td>1</td>\n",
       "      <td>1</td>\n",
       "      <td>1</td>\n",
       "    </tr>\n",
       "    <tr>\n",
       "      <th>Portal comprador 15</th>\n",
       "      <td>1</td>\n",
       "      <td>1</td>\n",
       "      <td>1</td>\n",
       "      <td>1</td>\n",
       "      <td>1</td>\n",
       "      <td>1</td>\n",
       "      <td>1</td>\n",
       "      <td>0</td>\n",
       "      <td>1</td>\n",
       "      <td>1</td>\n",
       "      <td>1</td>\n",
       "    </tr>\n",
       "    <tr>\n",
       "      <th>Portal comprador 9</th>\n",
       "      <td>1</td>\n",
       "      <td>1</td>\n",
       "      <td>1</td>\n",
       "      <td>1</td>\n",
       "      <td>1</td>\n",
       "      <td>1</td>\n",
       "      <td>1</td>\n",
       "      <td>0</td>\n",
       "      <td>1</td>\n",
       "      <td>1</td>\n",
       "      <td>1</td>\n",
       "    </tr>\n",
       "  </tbody>\n",
       "</table>\n",
       "</div>"
      ]
     },
     "metadata": {
      "application/vnd.databricks.v1+output": {
       "addedWidgets": {},
       "arguments": {},
       "data": "<div>\n<style scoped>\n    .dataframe tbody tr th:only-of-type {\n        vertical-align: middle;\n    }\n\n    .dataframe tbody tr th {\n        vertical-align: top;\n    }\n\n    .dataframe thead th {\n        text-align: right;\n    }\n</style>\n<table border=\"1\" class=\"dataframe\">\n  <thead>\n    <tr style=\"text-align: right;\">\n      <th></th>\n      <th>FECHA_ORDEN</th>\n      <th>CATEGORÍA</th>\n      <th>SUBCATEGORIA</th>\n      <th>PROVEEDOR</th>\n      <th>ESTADO</th>\n      <th>PRODUCTO_O_SERVICIO</th>\n      <th>CANTIDAD_PEDIDA</th>\n      <th>CANTIDAD_RECIBIDA</th>\n      <th>PRECIO_UNITARIO</th>\n      <th>IVA</th>\n      <th>TOTAL_SIN_IVA</th>\n    </tr>\n    <tr>\n      <th>PORTAL</th>\n      <th></th>\n      <th></th>\n      <th></th>\n      <th></th>\n      <th></th>\n      <th></th>\n      <th></th>\n      <th></th>\n      <th></th>\n      <th></th>\n      <th></th>\n    </tr>\n  </thead>\n  <tbody>\n    <tr>\n      <th>Portal comprador 1</th>\n      <td>6563</td>\n      <td>6563</td>\n      <td>6563</td>\n      <td>6563</td>\n      <td>6563</td>\n      <td>6563</td>\n      <td>6563</td>\n      <td>5577</td>\n      <td>6563</td>\n      <td>6563</td>\n      <td>6563</td>\n    </tr>\n    <tr>\n      <th>Portal comprador 24</th>\n      <td>5439</td>\n      <td>5439</td>\n      <td>5439</td>\n      <td>5439</td>\n      <td>5439</td>\n      <td>5439</td>\n      <td>5439</td>\n      <td>5439</td>\n      <td>5439</td>\n      <td>5439</td>\n      <td>5439</td>\n    </tr>\n    <tr>\n      <th>Portal comprador 2</th>\n      <td>3863</td>\n      <td>3863</td>\n      <td>3863</td>\n      <td>3863</td>\n      <td>3863</td>\n      <td>3863</td>\n      <td>3863</td>\n      <td>3095</td>\n      <td>3863</td>\n      <td>3863</td>\n      <td>3863</td>\n    </tr>\n    <tr>\n      <th>Portal comprador 29</th>\n      <td>3320</td>\n      <td>3320</td>\n      <td>3320</td>\n      <td>3320</td>\n      <td>3320</td>\n      <td>3320</td>\n      <td>3320</td>\n      <td>2</td>\n      <td>3320</td>\n      <td>3320</td>\n      <td>3320</td>\n    </tr>\n    <tr>\n      <th>Portal comprador 6</th>\n      <td>850</td>\n      <td>850</td>\n      <td>850</td>\n      <td>850</td>\n      <td>850</td>\n      <td>850</td>\n      <td>850</td>\n      <td>230</td>\n      <td>850</td>\n      <td>850</td>\n      <td>850</td>\n    </tr>\n    <tr>\n      <th>Portal comprador 30</th>\n      <td>760</td>\n      <td>760</td>\n      <td>760</td>\n      <td>760</td>\n      <td>760</td>\n      <td>760</td>\n      <td>760</td>\n      <td>29</td>\n      <td>760</td>\n      <td>760</td>\n      <td>760</td>\n    </tr>\n    <tr>\n      <th>Portal comprador 4</th>\n      <td>361</td>\n      <td>361</td>\n      <td>361</td>\n      <td>361</td>\n      <td>361</td>\n      <td>361</td>\n      <td>361</td>\n      <td>288</td>\n      <td>361</td>\n      <td>361</td>\n      <td>361</td>\n    </tr>\n    <tr>\n      <th>Portal comprador 8</th>\n      <td>318</td>\n      <td>318</td>\n      <td>318</td>\n      <td>318</td>\n      <td>318</td>\n      <td>318</td>\n      <td>318</td>\n      <td>107</td>\n      <td>318</td>\n      <td>318</td>\n      <td>318</td>\n    </tr>\n    <tr>\n      <th>Portal comprador 5</th>\n      <td>296</td>\n      <td>296</td>\n      <td>296</td>\n      <td>296</td>\n      <td>296</td>\n      <td>296</td>\n      <td>296</td>\n      <td>256</td>\n      <td>296</td>\n      <td>296</td>\n      <td>296</td>\n    </tr>\n    <tr>\n      <th>Portal comprador 12</th>\n      <td>214</td>\n      <td>214</td>\n      <td>214</td>\n      <td>214</td>\n      <td>214</td>\n      <td>214</td>\n      <td>214</td>\n      <td>86</td>\n      <td>214</td>\n      <td>214</td>\n      <td>214</td>\n    </tr>\n    <tr>\n      <th>Portal comprador 18</th>\n      <td>89</td>\n      <td>89</td>\n      <td>89</td>\n      <td>89</td>\n      <td>89</td>\n      <td>89</td>\n      <td>89</td>\n      <td>83</td>\n      <td>89</td>\n      <td>89</td>\n      <td>89</td>\n    </tr>\n    <tr>\n      <th>Portal comprador 10</th>\n      <td>69</td>\n      <td>69</td>\n      <td>69</td>\n      <td>69</td>\n      <td>69</td>\n      <td>69</td>\n      <td>69</td>\n      <td>26</td>\n      <td>69</td>\n      <td>69</td>\n      <td>69</td>\n    </tr>\n    <tr>\n      <th>Portal comprador 7</th>\n      <td>65</td>\n      <td>65</td>\n      <td>65</td>\n      <td>65</td>\n      <td>65</td>\n      <td>65</td>\n      <td>65</td>\n      <td>44</td>\n      <td>65</td>\n      <td>65</td>\n      <td>65</td>\n    </tr>\n    <tr>\n      <th>Portal comprador 11</th>\n      <td>51</td>\n      <td>51</td>\n      <td>51</td>\n      <td>51</td>\n      <td>51</td>\n      <td>51</td>\n      <td>51</td>\n      <td>33</td>\n      <td>51</td>\n      <td>51</td>\n      <td>51</td>\n    </tr>\n    <tr>\n      <th>Portal comprador 27</th>\n      <td>35</td>\n      <td>35</td>\n      <td>35</td>\n      <td>35</td>\n      <td>35</td>\n      <td>35</td>\n      <td>35</td>\n      <td>2</td>\n      <td>35</td>\n      <td>35</td>\n      <td>35</td>\n    </tr>\n    <tr>\n      <th>Portal comprador 13</th>\n      <td>33</td>\n      <td>33</td>\n      <td>33</td>\n      <td>33</td>\n      <td>33</td>\n      <td>33</td>\n      <td>33</td>\n      <td>18</td>\n      <td>33</td>\n      <td>33</td>\n      <td>33</td>\n    </tr>\n    <tr>\n      <th>Portal comprador 20</th>\n      <td>28</td>\n      <td>28</td>\n      <td>28</td>\n      <td>28</td>\n      <td>28</td>\n      <td>28</td>\n      <td>28</td>\n      <td>0</td>\n      <td>28</td>\n      <td>28</td>\n      <td>28</td>\n    </tr>\n    <tr>\n      <th>Portal comprador 31</th>\n      <td>16</td>\n      <td>16</td>\n      <td>16</td>\n      <td>16</td>\n      <td>16</td>\n      <td>16</td>\n      <td>16</td>\n      <td>1</td>\n      <td>16</td>\n      <td>16</td>\n      <td>16</td>\n    </tr>\n    <tr>\n      <th>Portal comprador 21</th>\n      <td>4</td>\n      <td>4</td>\n      <td>4</td>\n      <td>4</td>\n      <td>4</td>\n      <td>4</td>\n      <td>4</td>\n      <td>2</td>\n      <td>4</td>\n      <td>4</td>\n      <td>4</td>\n    </tr>\n    <tr>\n      <th>Portal comprador 14</th>\n      <td>2</td>\n      <td>2</td>\n      <td>2</td>\n      <td>2</td>\n      <td>2</td>\n      <td>2</td>\n      <td>2</td>\n      <td>2</td>\n      <td>2</td>\n      <td>2</td>\n      <td>2</td>\n    </tr>\n    <tr>\n      <th>Portal comprador 26</th>\n      <td>2</td>\n      <td>2</td>\n      <td>2</td>\n      <td>2</td>\n      <td>2</td>\n      <td>2</td>\n      <td>2</td>\n      <td>2</td>\n      <td>2</td>\n      <td>2</td>\n      <td>2</td>\n    </tr>\n    <tr>\n      <th>Portal comprador 28</th>\n      <td>2</td>\n      <td>2</td>\n      <td>2</td>\n      <td>2</td>\n      <td>2</td>\n      <td>2</td>\n      <td>2</td>\n      <td>0</td>\n      <td>2</td>\n      <td>2</td>\n      <td>2</td>\n    </tr>\n    <tr>\n      <th>Portal comprador 32</th>\n      <td>2</td>\n      <td>2</td>\n      <td>2</td>\n      <td>2</td>\n      <td>2</td>\n      <td>2</td>\n      <td>2</td>\n      <td>0</td>\n      <td>2</td>\n      <td>2</td>\n      <td>2</td>\n    </tr>\n    <tr>\n      <th>Portal comprador 33</th>\n      <td>1</td>\n      <td>1</td>\n      <td>1</td>\n      <td>1</td>\n      <td>1</td>\n      <td>1</td>\n      <td>1</td>\n      <td>0</td>\n      <td>1</td>\n      <td>1</td>\n      <td>1</td>\n    </tr>\n    <tr>\n      <th>Portal comprador 25</th>\n      <td>1</td>\n      <td>1</td>\n      <td>1</td>\n      <td>1</td>\n      <td>1</td>\n      <td>1</td>\n      <td>1</td>\n      <td>0</td>\n      <td>1</td>\n      <td>1</td>\n      <td>1</td>\n    </tr>\n    <tr>\n      <th>Portal comprador 3</th>\n      <td>1</td>\n      <td>1</td>\n      <td>1</td>\n      <td>1</td>\n      <td>1</td>\n      <td>1</td>\n      <td>1</td>\n      <td>1</td>\n      <td>1</td>\n      <td>1</td>\n      <td>1</td>\n    </tr>\n    <tr>\n      <th>Portal comprador 23</th>\n      <td>1</td>\n      <td>1</td>\n      <td>1</td>\n      <td>1</td>\n      <td>1</td>\n      <td>1</td>\n      <td>1</td>\n      <td>0</td>\n      <td>1</td>\n      <td>1</td>\n      <td>1</td>\n    </tr>\n    <tr>\n      <th>Portal comprador 22</th>\n      <td>1</td>\n      <td>1</td>\n      <td>1</td>\n      <td>1</td>\n      <td>1</td>\n      <td>1</td>\n      <td>1</td>\n      <td>0</td>\n      <td>1</td>\n      <td>1</td>\n      <td>1</td>\n    </tr>\n    <tr>\n      <th>Portal comprador 19</th>\n      <td>1</td>\n      <td>1</td>\n      <td>1</td>\n      <td>1</td>\n      <td>1</td>\n      <td>1</td>\n      <td>1</td>\n      <td>0</td>\n      <td>1</td>\n      <td>1</td>\n      <td>1</td>\n    </tr>\n    <tr>\n      <th>Portal comprador 17</th>\n      <td>1</td>\n      <td>1</td>\n      <td>1</td>\n      <td>1</td>\n      <td>1</td>\n      <td>1</td>\n      <td>1</td>\n      <td>1</td>\n      <td>1</td>\n      <td>1</td>\n      <td>1</td>\n    </tr>\n    <tr>\n      <th>Portal comprador 16</th>\n      <td>1</td>\n      <td>1</td>\n      <td>1</td>\n      <td>1</td>\n      <td>1</td>\n      <td>1</td>\n      <td>1</td>\n      <td>1</td>\n      <td>1</td>\n      <td>1</td>\n      <td>1</td>\n    </tr>\n    <tr>\n      <th>Portal comprador 15</th>\n      <td>1</td>\n      <td>1</td>\n      <td>1</td>\n      <td>1</td>\n      <td>1</td>\n      <td>1</td>\n      <td>1</td>\n      <td>0</td>\n      <td>1</td>\n      <td>1</td>\n      <td>1</td>\n    </tr>\n    <tr>\n      <th>Portal comprador 9</th>\n      <td>1</td>\n      <td>1</td>\n      <td>1</td>\n      <td>1</td>\n      <td>1</td>\n      <td>1</td>\n      <td>1</td>\n      <td>0</td>\n      <td>1</td>\n      <td>1</td>\n      <td>1</td>\n    </tr>\n  </tbody>\n</table>\n</div>",
       "datasetInfos": [],
       "metadata": {},
       "removedWidgets": [],
       "textData": null,
       "type": "htmlSandbox"
      }
     },
     "output_type": "display_data"
    }
   ],
   "source": [
    "df_Comp_count = df.groupby('PORTAL').count()\n",
    "df_Comp_count.sort_values(by='TOTAL_SIN_IVA', inplace=True, ascending=False)\n",
    "df_Comp_count"
   ]
  },
  {
   "cell_type": "markdown",
   "metadata": {
    "application/vnd.databricks.v1+cell": {
     "inputWidgets": {},
     "nuid": "91e8accd-eb79-4821-b61c-1e889fb91205",
     "showTitle": false,
     "title": ""
    }
   },
   "source": [
    "# 4. DATA CLEANING"
   ]
  },
  {
   "cell_type": "markdown",
   "metadata": {
    "application/vnd.databricks.v1+cell": {
     "inputWidgets": {},
     "nuid": "f9d8510f-c0ac-4d8f-9838-336415be6231",
     "showTitle": false,
     "title": ""
    }
   },
   "source": [
    "## 4.1 Remove outliers"
   ]
  },
  {
   "cell_type": "markdown",
   "metadata": {
    "application/vnd.databricks.v1+cell": {
     "inputWidgets": {},
     "nuid": "acb6a232-59ac-40a0-9a57-6e1f776d4df3",
     "showTitle": false,
     "title": ""
    }
   },
   "source": [
    "There are not outliers in the DS"
   ]
  },
  {
   "cell_type": "code",
   "execution_count": 0,
   "metadata": {
    "application/vnd.databricks.v1+cell": {
     "inputWidgets": {},
     "nuid": "ff29ee90-a082-44f3-abea-affe309d9c7e",
     "showTitle": false,
     "title": ""
    }
   },
   "outputs": [
    {
     "data": {
      "text/html": [
       "<style scoped>\n",
       "  .ansiout {\n",
       "    display: block;\n",
       "    unicode-bidi: embed;\n",
       "    white-space: pre-wrap;\n",
       "    word-wrap: break-word;\n",
       "    word-break: break-all;\n",
       "    font-family: \"Source Code Pro\", \"Menlo\", monospace;;\n",
       "    font-size: 13px;\n",
       "    color: #555;\n",
       "    margin-left: 4px;\n",
       "    line-height: 19px;\n",
       "  }\n",
       "</style>\n",
       "<div class=\"ansiout\">Out[1084]: </div>"
      ]
     },
     "metadata": {
      "application/vnd.databricks.v1+output": {
       "addedWidgets": {},
       "arguments": {},
       "data": "<div class=\"ansiout\">Out[1084]: </div>",
       "datasetInfos": [],
       "metadata": {},
       "removedWidgets": [],
       "type": "html"
      }
     },
     "output_type": "display_data"
    },
    {
     "data": {
      "text/html": [
       "<div>\n",
       "<style scoped>\n",
       "    .dataframe tbody tr th:only-of-type {\n",
       "        vertical-align: middle;\n",
       "    }\n",
       "\n",
       "    .dataframe tbody tr th {\n",
       "        vertical-align: top;\n",
       "    }\n",
       "\n",
       "    .dataframe thead th {\n",
       "        text-align: right;\n",
       "    }\n",
       "</style>\n",
       "<table border=\"1\" class=\"dataframe\">\n",
       "  <thead>\n",
       "    <tr style=\"text-align: right;\">\n",
       "      <th></th>\n",
       "      <th>CANTIDAD_PEDIDA</th>\n",
       "      <th>CANTIDAD_RECIBIDA</th>\n",
       "      <th>PRECIO_UNITARIO</th>\n",
       "      <th>IVA</th>\n",
       "      <th>TOTAL_SIN_IVA</th>\n",
       "    </tr>\n",
       "  </thead>\n",
       "  <tbody>\n",
       "    <tr>\n",
       "      <th>count</th>\n",
       "      <td>22,392.00</td>\n",
       "      <td>15,325.00</td>\n",
       "      <td>22,392.00</td>\n",
       "      <td>22,392.00</td>\n",
       "      <td>22,392.00</td>\n",
       "    </tr>\n",
       "    <tr>\n",
       "      <th>mean</th>\n",
       "      <td>196.68</td>\n",
       "      <td>72.36</td>\n",
       "      <td>74,075.30</td>\n",
       "      <td>11,499.70</td>\n",
       "      <td>477,559.00</td>\n",
       "    </tr>\n",
       "    <tr>\n",
       "      <th>std</th>\n",
       "      <td>1,976.19</td>\n",
       "      <td>1,063.97</td>\n",
       "      <td>644,263.69</td>\n",
       "      <td>104,931.32</td>\n",
       "      <td>3,160,637.50</td>\n",
       "    </tr>\n",
       "    <tr>\n",
       "      <th>min</th>\n",
       "      <td>0.27</td>\n",
       "      <td>0.00</td>\n",
       "      <td>0.00</td>\n",
       "      <td>0.00</td>\n",
       "      <td>0.00</td>\n",
       "    </tr>\n",
       "    <tr>\n",
       "      <th>25%</th>\n",
       "      <td>2.00</td>\n",
       "      <td>2.00</td>\n",
       "      <td>1,861.00</td>\n",
       "      <td>93.00</td>\n",
       "      <td>29,412.00</td>\n",
       "    </tr>\n",
       "    <tr>\n",
       "      <th>50%</th>\n",
       "      <td>7.00</td>\n",
       "      <td>5.00</td>\n",
       "      <td>11,400.00</td>\n",
       "      <td>1,040.00</td>\n",
       "      <td>90,756.00</td>\n",
       "    </tr>\n",
       "    <tr>\n",
       "      <th>75%</th>\n",
       "      <td>40.00</td>\n",
       "      <td>19.00</td>\n",
       "      <td>32,222.00</td>\n",
       "      <td>5,588.00</td>\n",
       "      <td>294,118.00</td>\n",
       "    </tr>\n",
       "    <tr>\n",
       "      <th>max</th>\n",
       "      <td>120,000.00</td>\n",
       "      <td>53,620.00</td>\n",
       "      <td>33,242,814.00</td>\n",
       "      <td>6,316,135.00</td>\n",
       "      <td>299,185,312.00</td>\n",
       "    </tr>\n",
       "  </tbody>\n",
       "</table>\n",
       "</div>"
      ]
     },
     "metadata": {
      "application/vnd.databricks.v1+output": {
       "addedWidgets": {},
       "arguments": {},
       "data": "<div>\n<style scoped>\n    .dataframe tbody tr th:only-of-type {\n        vertical-align: middle;\n    }\n\n    .dataframe tbody tr th {\n        vertical-align: top;\n    }\n\n    .dataframe thead th {\n        text-align: right;\n    }\n</style>\n<table border=\"1\" class=\"dataframe\">\n  <thead>\n    <tr style=\"text-align: right;\">\n      <th></th>\n      <th>CANTIDAD_PEDIDA</th>\n      <th>CANTIDAD_RECIBIDA</th>\n      <th>PRECIO_UNITARIO</th>\n      <th>IVA</th>\n      <th>TOTAL_SIN_IVA</th>\n    </tr>\n  </thead>\n  <tbody>\n    <tr>\n      <th>count</th>\n      <td>22,392.00</td>\n      <td>15,325.00</td>\n      <td>22,392.00</td>\n      <td>22,392.00</td>\n      <td>22,392.00</td>\n    </tr>\n    <tr>\n      <th>mean</th>\n      <td>196.68</td>\n      <td>72.36</td>\n      <td>74,075.30</td>\n      <td>11,499.70</td>\n      <td>477,559.00</td>\n    </tr>\n    <tr>\n      <th>std</th>\n      <td>1,976.19</td>\n      <td>1,063.97</td>\n      <td>644,263.69</td>\n      <td>104,931.32</td>\n      <td>3,160,637.50</td>\n    </tr>\n    <tr>\n      <th>min</th>\n      <td>0.27</td>\n      <td>0.00</td>\n      <td>0.00</td>\n      <td>0.00</td>\n      <td>0.00</td>\n    </tr>\n    <tr>\n      <th>25%</th>\n      <td>2.00</td>\n      <td>2.00</td>\n      <td>1,861.00</td>\n      <td>93.00</td>\n      <td>29,412.00</td>\n    </tr>\n    <tr>\n      <th>50%</th>\n      <td>7.00</td>\n      <td>5.00</td>\n      <td>11,400.00</td>\n      <td>1,040.00</td>\n      <td>90,756.00</td>\n    </tr>\n    <tr>\n      <th>75%</th>\n      <td>40.00</td>\n      <td>19.00</td>\n      <td>32,222.00</td>\n      <td>5,588.00</td>\n      <td>294,118.00</td>\n    </tr>\n    <tr>\n      <th>max</th>\n      <td>120,000.00</td>\n      <td>53,620.00</td>\n      <td>33,242,814.00</td>\n      <td>6,316,135.00</td>\n      <td>299,185,312.00</td>\n    </tr>\n  </tbody>\n</table>\n</div>",
       "datasetInfos": [],
       "metadata": {},
       "removedWidgets": [],
       "textData": null,
       "type": "htmlSandbox"
      }
     },
     "output_type": "display_data"
    }
   ],
   "source": [
    "df.describe()"
   ]
  },
  {
   "cell_type": "markdown",
   "metadata": {
    "application/vnd.databricks.v1+cell": {
     "inputWidgets": {},
     "nuid": "85bc25ea-c280-4d81-9668-517049faee42",
     "showTitle": false,
     "title": ""
    }
   },
   "source": [
    "## 4.2 Fill NA"
   ]
  },
  {
   "cell_type": "code",
   "execution_count": 0,
   "metadata": {
    "application/vnd.databricks.v1+cell": {
     "inputWidgets": {},
     "nuid": "08ca5106-8714-4b17-aa9d-c54232bc283d",
     "showTitle": false,
     "title": ""
    }
   },
   "outputs": [
    {
     "data": {
      "text/html": [
       "<style scoped>\n",
       "  .ansiout {\n",
       "    display: block;\n",
       "    unicode-bidi: embed;\n",
       "    white-space: pre-wrap;\n",
       "    word-wrap: break-word;\n",
       "    word-break: break-all;\n",
       "    font-family: \"Source Code Pro\", \"Menlo\", monospace;;\n",
       "    font-size: 13px;\n",
       "    color: #555;\n",
       "    margin-left: 4px;\n",
       "    line-height: 19px;\n",
       "  }\n",
       "</style>\n",
       "<div class=\"ansiout\">Out[1085]: FECHA_ORDEN                           0.00\n",
       "CATEGORÍA                             0.00\n",
       "SUBCATEGORIA                          0.00\n",
       "PROVEEDOR                             0.00\n",
       "PORTAL                                0.00\n",
       "ESTADO                                0.00\n",
       "PRODUCTO_O_SERVICIO                   0.00\n",
       "CANTIDAD_PEDIDA                       0.00\n",
       "CANTIDAD_RECIBIDA                    31.56\n",
       "PRECIO_UNITARIO                       0.00\n",
       "IVA                                   0.00\n",
       "TOTAL_SIN_IVA                         0.00\n",
       "dtype: float64</div>"
      ]
     },
     "metadata": {
      "application/vnd.databricks.v1+output": {
       "addedWidgets": {},
       "arguments": {},
       "data": "<div class=\"ansiout\">Out[1085]: FECHA_ORDEN                           0.00\nCATEGORÍA                             0.00\nSUBCATEGORIA                          0.00\nPROVEEDOR                             0.00\nPORTAL                                0.00\nESTADO                                0.00\nPRODUCTO_O_SERVICIO                   0.00\nCANTIDAD_PEDIDA                       0.00\nCANTIDAD_RECIBIDA                    31.56\nPRECIO_UNITARIO                       0.00\nIVA                                   0.00\nTOTAL_SIN_IVA                         0.00\ndtype: float64</div>",
       "datasetInfos": [],
       "metadata": {},
       "removedWidgets": [],
       "type": "html"
      }
     },
     "output_type": "display_data"
    }
   ],
   "source": [
    "df.isna().sum()/len(df)*100"
   ]
  },
  {
   "cell_type": "markdown",
   "metadata": {
    "application/vnd.databricks.v1+cell": {
     "inputWidgets": {},
     "nuid": "f12831fd-c538-4056-a1d0-d02669239678",
     "showTitle": false,
     "title": ""
    }
   },
   "source": [
    "'CANTIDAD_RECIBIDA': to create other variable later"
   ]
  },
  {
   "cell_type": "code",
   "execution_count": 0,
   "metadata": {
    "application/vnd.databricks.v1+cell": {
     "inputWidgets": {},
     "nuid": "329cbb25-6d10-4979-a650-e2f4b1871400",
     "showTitle": false,
     "title": ""
    }
   },
   "outputs": [
    {
     "data": {
      "text/html": [
       "<style scoped>\n",
       "  .ansiout {\n",
       "    display: block;\n",
       "    unicode-bidi: embed;\n",
       "    white-space: pre-wrap;\n",
       "    word-wrap: break-word;\n",
       "    word-break: break-all;\n",
       "    font-family: \"Source Code Pro\", \"Menlo\", monospace;;\n",
       "    font-size: 13px;\n",
       "    color: #555;\n",
       "    margin-left: 4px;\n",
       "    line-height: 19px;\n",
       "  }\n",
       "</style>\n",
       "<div class=\"ansiout\"></div>"
      ]
     },
     "metadata": {
      "application/vnd.databricks.v1+output": {
       "addedWidgets": {},
       "arguments": {},
       "data": "<div class=\"ansiout\"></div>",
       "datasetInfos": [],
       "metadata": {},
       "removedWidgets": [],
       "type": "html"
      }
     },
     "output_type": "display_data"
    }
   ],
   "source": [
    "df.loc[df['CANTIDAD_RECIBIDA'].isna(), 'CANTIDAD_RECIBIDA'] = 0"
   ]
  },
  {
   "cell_type": "code",
   "execution_count": 0,
   "metadata": {
    "application/vnd.databricks.v1+cell": {
     "inputWidgets": {},
     "nuid": "5020fb7b-1852-43dd-a845-8d0dd86f6076",
     "showTitle": false,
     "title": ""
    }
   },
   "outputs": [
    {
     "data": {
      "text/html": [
       "<style scoped>\n",
       "  .ansiout {\n",
       "    display: block;\n",
       "    unicode-bidi: embed;\n",
       "    white-space: pre-wrap;\n",
       "    word-wrap: break-word;\n",
       "    word-break: break-all;\n",
       "    font-family: \"Source Code Pro\", \"Menlo\", monospace;;\n",
       "    font-size: 13px;\n",
       "    color: #555;\n",
       "    margin-left: 4px;\n",
       "    line-height: 19px;\n",
       "  }\n",
       "</style>\n",
       "<div class=\"ansiout\">Out[1087]: FECHA_ORDEN                           0.00\n",
       "CATEGORÍA                             0.00\n",
       "SUBCATEGORIA                          0.00\n",
       "PROVEEDOR                             0.00\n",
       "PORTAL                                0.00\n",
       "ESTADO                                0.00\n",
       "PRODUCTO_O_SERVICIO                   0.00\n",
       "CANTIDAD_PEDIDA                       0.00\n",
       "CANTIDAD_RECIBIDA                     0.00\n",
       "PRECIO_UNITARIO                       0.00\n",
       "IVA                                   0.00\n",
       "TOTAL_SIN_IVA                         0.00\n",
       "dtype: float64</div>"
      ]
     },
     "metadata": {
      "application/vnd.databricks.v1+output": {
       "addedWidgets": {},
       "arguments": {},
       "data": "<div class=\"ansiout\">Out[1087]: FECHA_ORDEN                           0.00\nCATEGORÍA                             0.00\nSUBCATEGORIA                          0.00\nPROVEEDOR                             0.00\nPORTAL                                0.00\nESTADO                                0.00\nPRODUCTO_O_SERVICIO                   0.00\nCANTIDAD_PEDIDA                       0.00\nCANTIDAD_RECIBIDA                     0.00\nPRECIO_UNITARIO                       0.00\nIVA                                   0.00\nTOTAL_SIN_IVA                         0.00\ndtype: float64</div>",
       "datasetInfos": [],
       "metadata": {},
       "removedWidgets": [],
       "type": "html"
      }
     },
     "output_type": "display_data"
    }
   ],
   "source": [
    "df.isna().sum()/len(df)*100"
   ]
  },
  {
   "cell_type": "markdown",
   "metadata": {
    "application/vnd.databricks.v1+cell": {
     "inputWidgets": {},
     "nuid": "a4693902-858e-46d9-a495-812f386126a3",
     "showTitle": false,
     "title": ""
    }
   },
   "source": [
    "# 5. FEATURE ENGINEERING (NEW VARIABLES)"
   ]
  },
  {
   "cell_type": "markdown",
   "metadata": {
    "application/vnd.databricks.v1+cell": {
     "inputWidgets": {},
     "nuid": "aefe58b0-505b-4b05-b6f5-3d6ec2d92668",
     "showTitle": false,
     "title": ""
    }
   },
   "source": [
    "## SUMARIZE CATEGORICAL VARIABLES"
   ]
  },
  {
   "cell_type": "code",
   "execution_count": 0,
   "metadata": {
    "application/vnd.databricks.v1+cell": {
     "inputWidgets": {},
     "nuid": "6d45b20f-d408-43ec-b659-33f9b61a5426",
     "showTitle": false,
     "title": ""
    }
   },
   "outputs": [
    {
     "data": {
      "text/html": [
       "<style scoped>\n",
       "  .ansiout {\n",
       "    display: block;\n",
       "    unicode-bidi: embed;\n",
       "    white-space: pre-wrap;\n",
       "    word-wrap: break-word;\n",
       "    word-break: break-all;\n",
       "    font-family: \"Source Code Pro\", \"Menlo\", monospace;;\n",
       "    font-size: 13px;\n",
       "    color: #555;\n",
       "    margin-left: 4px;\n",
       "    line-height: 19px;\n",
       "  }\n",
       "</style>\n",
       "<div class=\"ansiout\">Out[1088]: Index([&#39;CATEGORÍA&#39;, &#39;SUBCATEGORIA&#39;, &#39;PROVEEDOR&#39;, &#39;PORTAL&#39;, &#39;ESTADO&#39;,\n",
       "       &#39;PRODUCTO_O_SERVICIO&#39;],\n",
       "      dtype=&#39;object&#39;)</div>"
      ]
     },
     "metadata": {
      "application/vnd.databricks.v1+output": {
       "addedWidgets": {},
       "arguments": {},
       "data": "<div class=\"ansiout\">Out[1088]: Index([&#39;CATEGORÍA&#39;, &#39;SUBCATEGORIA&#39;, &#39;PROVEEDOR&#39;, &#39;PORTAL&#39;, &#39;ESTADO&#39;,\n       &#39;PRODUCTO_O_SERVICIO&#39;],\n      dtype=&#39;object&#39;)</div>",
       "datasetInfos": [],
       "metadata": {},
       "removedWidgets": [],
       "type": "html"
      }
     },
     "output_type": "display_data"
    }
   ],
   "source": [
    "df.select_dtypes(['object', 'category']).columns"
   ]
  },
  {
   "cell_type": "markdown",
   "metadata": {
    "application/vnd.databricks.v1+cell": {
     "inputWidgets": {},
     "nuid": "c9a5e810-108e-451f-aa21-8a965a484eae",
     "showTitle": false,
     "title": ""
    }
   },
   "source": [
    "## Categoría"
   ]
  },
  {
   "cell_type": "code",
   "execution_count": 0,
   "metadata": {
    "application/vnd.databricks.v1+cell": {
     "inputWidgets": {},
     "nuid": "4b1233fb-df6a-4f7e-b267-bd45739f4e4f",
     "showTitle": false,
     "title": ""
    }
   },
   "outputs": [
    {
     "data": {
      "text/html": [
       "<style scoped>\n",
       "  .ansiout {\n",
       "    display: block;\n",
       "    unicode-bidi: embed;\n",
       "    white-space: pre-wrap;\n",
       "    word-wrap: break-word;\n",
       "    word-break: break-all;\n",
       "    font-family: \"Source Code Pro\", \"Menlo\", monospace;;\n",
       "    font-size: 13px;\n",
       "    color: #555;\n",
       "    margin-left: 4px;\n",
       "    line-height: 19px;\n",
       "  }\n",
       "</style>\n",
       "<div class=\"ansiout\">Out[1089]: </div>"
      ]
     },
     "metadata": {
      "application/vnd.databricks.v1+output": {
       "addedWidgets": {},
       "arguments": {},
       "data": "<div class=\"ansiout\">Out[1089]: </div>",
       "datasetInfos": [],
       "metadata": {},
       "removedWidgets": [],
       "type": "html"
      }
     },
     "output_type": "display_data"
    },
    {
     "data": {
      "text/html": [
       "<div>\n",
       "<style scoped>\n",
       "    .dataframe tbody tr th:only-of-type {\n",
       "        vertical-align: middle;\n",
       "    }\n",
       "\n",
       "    .dataframe tbody tr th {\n",
       "        vertical-align: top;\n",
       "    }\n",
       "\n",
       "    .dataframe thead th {\n",
       "        text-align: right;\n",
       "    }\n",
       "</style>\n",
       "<table border=\"1\" class=\"dataframe\">\n",
       "  <thead>\n",
       "    <tr style=\"text-align: right;\">\n",
       "      <th></th>\n",
       "      <th>CANTIDAD_PEDIDA</th>\n",
       "      <th>CANTIDAD_RECIBIDA</th>\n",
       "      <th>PRECIO_UNITARIO</th>\n",
       "      <th>IVA</th>\n",
       "      <th>TOTAL_SIN_IVA</th>\n",
       "    </tr>\n",
       "    <tr>\n",
       "      <th>CATEGORÍA</th>\n",
       "      <th></th>\n",
       "      <th></th>\n",
       "      <th></th>\n",
       "      <th></th>\n",
       "      <th></th>\n",
       "    </tr>\n",
       "  </thead>\n",
       "  <tbody>\n",
       "    <tr>\n",
       "      <th>Vigilancia y seguridad industrial</th>\n",
       "      <td>234,476.00</td>\n",
       "      <td>233,765.00</td>\n",
       "      <td>233,409,776.00</td>\n",
       "      <td>44,227,524.00</td>\n",
       "      <td>4,339,572,224.00</td>\n",
       "    </tr>\n",
       "    <tr>\n",
       "      <th>Alimentos y Bebidas</th>\n",
       "      <td>2,763,255.73</td>\n",
       "      <td>85,211.76</td>\n",
       "      <td>106,555,080.00</td>\n",
       "      <td>13,873,146.00</td>\n",
       "      <td>1,928,684,544.00</td>\n",
       "    </tr>\n",
       "    <tr>\n",
       "      <th>Construcción y Mantenimiento</th>\n",
       "      <td>2,502.00</td>\n",
       "      <td>2,161.00</td>\n",
       "      <td>303,148,960.00</td>\n",
       "      <td>40,068,148.00</td>\n",
       "      <td>882,860,608.00</td>\n",
       "    </tr>\n",
       "    <tr>\n",
       "      <th>Dotación y elementos de protección personal</th>\n",
       "      <td>27,001.00</td>\n",
       "      <td>14,403.00</td>\n",
       "      <td>46,851,856.00</td>\n",
       "      <td>8,302,189.00</td>\n",
       "      <td>715,481,920.00</td>\n",
       "    </tr>\n",
       "    <tr>\n",
       "      <th>Servicios Profesionales</th>\n",
       "      <td>298.50</td>\n",
       "      <td>222.50</td>\n",
       "      <td>396,780,192.00</td>\n",
       "      <td>74,664,856.00</td>\n",
       "      <td>602,906,112.00</td>\n",
       "    </tr>\n",
       "    <tr>\n",
       "      <th>Químicos y derivados</th>\n",
       "      <td>44,667.70</td>\n",
       "      <td>41,351.00</td>\n",
       "      <td>23,887,690.00</td>\n",
       "      <td>1,314,261.00</td>\n",
       "      <td>383,131,712.00</td>\n",
       "    </tr>\n",
       "    <tr>\n",
       "      <th>Almacenamiento y empaques</th>\n",
       "      <td>322,955.70</td>\n",
       "      <td>200,696.80</td>\n",
       "      <td>8,105,723.00</td>\n",
       "      <td>1,482,934.00</td>\n",
       "      <td>362,158,528.00</td>\n",
       "    </tr>\n",
       "    <tr>\n",
       "      <th>Vehículos y repuestos</th>\n",
       "      <td>17,334.00</td>\n",
       "      <td>13,482.00</td>\n",
       "      <td>51,944,152.00</td>\n",
       "      <td>9,400,447.00</td>\n",
       "      <td>209,335,776.00</td>\n",
       "    </tr>\n",
       "    <tr>\n",
       "      <th>Mercadeo y publicidad</th>\n",
       "      <td>100,534.00</td>\n",
       "      <td>71,441.00</td>\n",
       "      <td>62,464,332.00</td>\n",
       "      <td>9,526,379.00</td>\n",
       "      <td>195,689,648.00</td>\n",
       "    </tr>\n",
       "    <tr>\n",
       "      <th>Ingeniería e Investigación</th>\n",
       "      <td>206,195.00</td>\n",
       "      <td>206,046.00</td>\n",
       "      <td>31,338,396.00</td>\n",
       "      <td>5,121,873.00</td>\n",
       "      <td>165,708,032.00</td>\n",
       "    </tr>\n",
       "    <tr>\n",
       "      <th>Aseo, Cafetería y Oficina</th>\n",
       "      <td>437,284.00</td>\n",
       "      <td>38,426.00</td>\n",
       "      <td>56,836,564.00</td>\n",
       "      <td>6,928,135.00</td>\n",
       "      <td>153,989,376.00</td>\n",
       "    </tr>\n",
       "    <tr>\n",
       "      <th>Tecnología e información</th>\n",
       "      <td>1,567.00</td>\n",
       "      <td>1,410.00</td>\n",
       "      <td>59,454,888.00</td>\n",
       "      <td>7,731,789.00</td>\n",
       "      <td>135,508,496.00</td>\n",
       "    </tr>\n",
       "    <tr>\n",
       "      <th>Vigilancia y seguridad</th>\n",
       "      <td>149.00</td>\n",
       "      <td>4.00</td>\n",
       "      <td>25,210,116.00</td>\n",
       "      <td>558,824.00</td>\n",
       "      <td>133,923,232.00</td>\n",
       "    </tr>\n",
       "    <tr>\n",
       "      <th>Ferreteria</th>\n",
       "      <td>20,672.00</td>\n",
       "      <td>18,729.00</td>\n",
       "      <td>78,040,200.00</td>\n",
       "      <td>14,745,771.00</td>\n",
       "      <td>108,569,920.00</td>\n",
       "    </tr>\n",
       "    <tr>\n",
       "      <th>Logística y transporte</th>\n",
       "      <td>353.00</td>\n",
       "      <td>309.00</td>\n",
       "      <td>73,756,464.00</td>\n",
       "      <td>1,507,647.00</td>\n",
       "      <td>82,825,104.00</td>\n",
       "    </tr>\n",
       "    <tr>\n",
       "      <th>Gestión inmobiliaria</th>\n",
       "      <td>11.00</td>\n",
       "      <td>3.00</td>\n",
       "      <td>8,164,453.00</td>\n",
       "      <td>1,551,246.00</td>\n",
       "      <td>54,662,096.00</td>\n",
       "    </tr>\n",
       "    <tr>\n",
       "      <th>Imprenta y litografía</th>\n",
       "      <td>104,419.00</td>\n",
       "      <td>88,546.00</td>\n",
       "      <td>5,961,338.00</td>\n",
       "      <td>1,103,011.00</td>\n",
       "      <td>36,668,192.00</td>\n",
       "    </tr>\n",
       "    <tr>\n",
       "      <th>Manufactura</th>\n",
       "      <td>15,020.00</td>\n",
       "      <td>759.00</td>\n",
       "      <td>13,283,086.00</td>\n",
       "      <td>2,518,559.00</td>\n",
       "      <td>36,657,428.00</td>\n",
       "    </tr>\n",
       "    <tr>\n",
       "      <th>Eléctricos y Electrónicos</th>\n",
       "      <td>11,760.00</td>\n",
       "      <td>1,321.00</td>\n",
       "      <td>9,905,301.00</td>\n",
       "      <td>1,882,010.00</td>\n",
       "      <td>28,938,876.00</td>\n",
       "    </tr>\n",
       "    <tr>\n",
       "      <th>Moda y accesorios</th>\n",
       "      <td>1,050.00</td>\n",
       "      <td>102.00</td>\n",
       "      <td>5,438,500.00</td>\n",
       "      <td>1,033,303.00</td>\n",
       "      <td>26,076,944.00</td>\n",
       "    </tr>\n",
       "    <tr>\n",
       "      <th>Mobiliario y decoración</th>\n",
       "      <td>927.00</td>\n",
       "      <td>524.00</td>\n",
       "      <td>8,577,779.00</td>\n",
       "      <td>1,629,748.00</td>\n",
       "      <td>19,926,016.00</td>\n",
       "    </tr>\n",
       "    <tr>\n",
       "      <th>Medicina y Salud</th>\n",
       "      <td>30.00</td>\n",
       "      <td>13.00</td>\n",
       "      <td>17,855,100.00</td>\n",
       "      <td>3,377,120.00</td>\n",
       "      <td>17,878,528.00</td>\n",
       "    </tr>\n",
       "    <tr>\n",
       "      <th>Viajes, Eventos y Entretenimiento</th>\n",
       "      <td>58.00</td>\n",
       "      <td>57.00</td>\n",
       "      <td>6,181,605.00</td>\n",
       "      <td>829,100.00</td>\n",
       "      <td>13,508,605.00</td>\n",
       "    </tr>\n",
       "    <tr>\n",
       "      <th>Hogar y electrodomésticos</th>\n",
       "      <td>276.00</td>\n",
       "      <td>255.00</td>\n",
       "      <td>10,204,475.00</td>\n",
       "      <td>1,938,853.00</td>\n",
       "      <td>12,514,375.00</td>\n",
       "    </tr>\n",
       "    <tr>\n",
       "      <th>Textiles</th>\n",
       "      <td>3,570.00</td>\n",
       "      <td>3,414.00</td>\n",
       "      <td>687,197.00</td>\n",
       "      <td>35,510.00</td>\n",
       "      <td>10,535,113.00</td>\n",
       "    </tr>\n",
       "    <tr>\n",
       "      <th>Gestión ambiental</th>\n",
       "      <td>2,912.00</td>\n",
       "      <td>1,769.00</td>\n",
       "      <td>5,002,645.00</td>\n",
       "      <td>943,177.00</td>\n",
       "      <td>9,553,775.00</td>\n",
       "    </tr>\n",
       "    <tr>\n",
       "      <th>Salud y Medicina</th>\n",
       "      <td>627.00</td>\n",
       "      <td>375.00</td>\n",
       "      <td>1,147,219.00</td>\n",
       "      <td>11,704.00</td>\n",
       "      <td>7,524,205.00</td>\n",
       "    </tr>\n",
       "    <tr>\n",
       "      <th>Compras Sostenibles</th>\n",
       "      <td>975.00</td>\n",
       "      <td>968.00</td>\n",
       "      <td>1,471,905.00</td>\n",
       "      <td>207,003.00</td>\n",
       "      <td>5,245,562.00</td>\n",
       "    </tr>\n",
       "    <tr>\n",
       "      <th>Cuidado personal y Belleza</th>\n",
       "      <td>66.00</td>\n",
       "      <td>66.00</td>\n",
       "      <td>418,342.00</td>\n",
       "      <td>76,894.00</td>\n",
       "      <td>4,682,445.00</td>\n",
       "    </tr>\n",
       "    <tr>\n",
       "      <th>Generación y distribución de Energía</th>\n",
       "      <td>5.00</td>\n",
       "      <td>1.00</td>\n",
       "      <td>4,606,302.00</td>\n",
       "      <td>875,197.00</td>\n",
       "      <td>4,606,302.00</td>\n",
       "    </tr>\n",
       "    <tr>\n",
       "      <th>Deporte y recreación</th>\n",
       "      <td>146.00</td>\n",
       "      <td>146.00</td>\n",
       "      <td>260,850.00</td>\n",
       "      <td>25,888.00</td>\n",
       "      <td>1,552,470.00</td>\n",
       "    </tr>\n",
       "    <tr>\n",
       "      <th>Minería</th>\n",
       "      <td>7.00</td>\n",
       "      <td>4.00</td>\n",
       "      <td>1,357,410.00</td>\n",
       "      <td>9,101.00</td>\n",
       "      <td>1,453,208.00</td>\n",
       "    </tr>\n",
       "    <tr>\n",
       "      <th>Educación y formación empresarial</th>\n",
       "      <td>2.00</td>\n",
       "      <td>2.00</td>\n",
       "      <td>198,000.00</td>\n",
       "      <td>0.00</td>\n",
       "      <td>396,000.00</td>\n",
       "    </tr>\n",
       "    <tr>\n",
       "      <th>Servicios Públicos</th>\n",
       "      <td>82,682.00</td>\n",
       "      <td>82,682.00</td>\n",
       "      <td>27.00</td>\n",
       "      <td>6.00</td>\n",
       "      <td>372,071.00</td>\n",
       "    </tr>\n",
       "    <tr>\n",
       "      <th>Agroindustrial</th>\n",
       "      <td>256.00</td>\n",
       "      <td>252.00</td>\n",
       "      <td>150,400.00</td>\n",
       "      <td>0.00</td>\n",
       "      <td>250,000.00</td>\n",
       "    </tr>\n",
       "    <tr>\n",
       "      <th>Producción audiovisual</th>\n",
       "      <td>4.00</td>\n",
       "      <td>4.00</td>\n",
       "      <td>38,000.00</td>\n",
       "      <td>0.00</td>\n",
       "      <td>152,000.00</td>\n",
       "    </tr>\n",
       "  </tbody>\n",
       "</table>\n",
       "</div>"
      ]
     },
     "metadata": {
      "application/vnd.databricks.v1+output": {
       "addedWidgets": {},
       "arguments": {},
       "data": "<div>\n<style scoped>\n    .dataframe tbody tr th:only-of-type {\n        vertical-align: middle;\n    }\n\n    .dataframe tbody tr th {\n        vertical-align: top;\n    }\n\n    .dataframe thead th {\n        text-align: right;\n    }\n</style>\n<table border=\"1\" class=\"dataframe\">\n  <thead>\n    <tr style=\"text-align: right;\">\n      <th></th>\n      <th>CANTIDAD_PEDIDA</th>\n      <th>CANTIDAD_RECIBIDA</th>\n      <th>PRECIO_UNITARIO</th>\n      <th>IVA</th>\n      <th>TOTAL_SIN_IVA</th>\n    </tr>\n    <tr>\n      <th>CATEGORÍA</th>\n      <th></th>\n      <th></th>\n      <th></th>\n      <th></th>\n      <th></th>\n    </tr>\n  </thead>\n  <tbody>\n    <tr>\n      <th>Vigilancia y seguridad industrial</th>\n      <td>234,476.00</td>\n      <td>233,765.00</td>\n      <td>233,409,776.00</td>\n      <td>44,227,524.00</td>\n      <td>4,339,572,224.00</td>\n    </tr>\n    <tr>\n      <th>Alimentos y Bebidas</th>\n      <td>2,763,255.73</td>\n      <td>85,211.76</td>\n      <td>106,555,080.00</td>\n      <td>13,873,146.00</td>\n      <td>1,928,684,544.00</td>\n    </tr>\n    <tr>\n      <th>Construcción y Mantenimiento</th>\n      <td>2,502.00</td>\n      <td>2,161.00</td>\n      <td>303,148,960.00</td>\n      <td>40,068,148.00</td>\n      <td>882,860,608.00</td>\n    </tr>\n    <tr>\n      <th>Dotación y elementos de protección personal</th>\n      <td>27,001.00</td>\n      <td>14,403.00</td>\n      <td>46,851,856.00</td>\n      <td>8,302,189.00</td>\n      <td>715,481,920.00</td>\n    </tr>\n    <tr>\n      <th>Servicios Profesionales</th>\n      <td>298.50</td>\n      <td>222.50</td>\n      <td>396,780,192.00</td>\n      <td>74,664,856.00</td>\n      <td>602,906,112.00</td>\n    </tr>\n    <tr>\n      <th>Químicos y derivados</th>\n      <td>44,667.70</td>\n      <td>41,351.00</td>\n      <td>23,887,690.00</td>\n      <td>1,314,261.00</td>\n      <td>383,131,712.00</td>\n    </tr>\n    <tr>\n      <th>Almacenamiento y empaques</th>\n      <td>322,955.70</td>\n      <td>200,696.80</td>\n      <td>8,105,723.00</td>\n      <td>1,482,934.00</td>\n      <td>362,158,528.00</td>\n    </tr>\n    <tr>\n      <th>Vehículos y repuestos</th>\n      <td>17,334.00</td>\n      <td>13,482.00</td>\n      <td>51,944,152.00</td>\n      <td>9,400,447.00</td>\n      <td>209,335,776.00</td>\n    </tr>\n    <tr>\n      <th>Mercadeo y publicidad</th>\n      <td>100,534.00</td>\n      <td>71,441.00</td>\n      <td>62,464,332.00</td>\n      <td>9,526,379.00</td>\n      <td>195,689,648.00</td>\n    </tr>\n    <tr>\n      <th>Ingeniería e Investigación</th>\n      <td>206,195.00</td>\n      <td>206,046.00</td>\n      <td>31,338,396.00</td>\n      <td>5,121,873.00</td>\n      <td>165,708,032.00</td>\n    </tr>\n    <tr>\n      <th>Aseo, Cafetería y Oficina</th>\n      <td>437,284.00</td>\n      <td>38,426.00</td>\n      <td>56,836,564.00</td>\n      <td>6,928,135.00</td>\n      <td>153,989,376.00</td>\n    </tr>\n    <tr>\n      <th>Tecnología e información</th>\n      <td>1,567.00</td>\n      <td>1,410.00</td>\n      <td>59,454,888.00</td>\n      <td>7,731,789.00</td>\n      <td>135,508,496.00</td>\n    </tr>\n    <tr>\n      <th>Vigilancia y seguridad</th>\n      <td>149.00</td>\n      <td>4.00</td>\n      <td>25,210,116.00</td>\n      <td>558,824.00</td>\n      <td>133,923,232.00</td>\n    </tr>\n    <tr>\n      <th>Ferreteria</th>\n      <td>20,672.00</td>\n      <td>18,729.00</td>\n      <td>78,040,200.00</td>\n      <td>14,745,771.00</td>\n      <td>108,569,920.00</td>\n    </tr>\n    <tr>\n      <th>Logística y transporte</th>\n      <td>353.00</td>\n      <td>309.00</td>\n      <td>73,756,464.00</td>\n      <td>1,507,647.00</td>\n      <td>82,825,104.00</td>\n    </tr>\n    <tr>\n      <th>Gestión inmobiliaria</th>\n      <td>11.00</td>\n      <td>3.00</td>\n      <td>8,164,453.00</td>\n      <td>1,551,246.00</td>\n      <td>54,662,096.00</td>\n    </tr>\n    <tr>\n      <th>Imprenta y litografía</th>\n      <td>104,419.00</td>\n      <td>88,546.00</td>\n      <td>5,961,338.00</td>\n      <td>1,103,011.00</td>\n      <td>36,668,192.00</td>\n    </tr>\n    <tr>\n      <th>Manufactura</th>\n      <td>15,020.00</td>\n      <td>759.00</td>\n      <td>13,283,086.00</td>\n      <td>2,518,559.00</td>\n      <td>36,657,428.00</td>\n    </tr>\n    <tr>\n      <th>Eléctricos y Electrónicos</th>\n      <td>11,760.00</td>\n      <td>1,321.00</td>\n      <td>9,905,301.00</td>\n      <td>1,882,010.00</td>\n      <td>28,938,876.00</td>\n    </tr>\n    <tr>\n      <th>Moda y accesorios</th>\n      <td>1,050.00</td>\n      <td>102.00</td>\n      <td>5,438,500.00</td>\n      <td>1,033,303.00</td>\n      <td>26,076,944.00</td>\n    </tr>\n    <tr>\n      <th>Mobiliario y decoración</th>\n      <td>927.00</td>\n      <td>524.00</td>\n      <td>8,577,779.00</td>\n      <td>1,629,748.00</td>\n      <td>19,926,016.00</td>\n    </tr>\n    <tr>\n      <th>Medicina y Salud</th>\n      <td>30.00</td>\n      <td>13.00</td>\n      <td>17,855,100.00</td>\n      <td>3,377,120.00</td>\n      <td>17,878,528.00</td>\n    </tr>\n    <tr>\n      <th>Viajes, Eventos y Entretenimiento</th>\n      <td>58.00</td>\n      <td>57.00</td>\n      <td>6,181,605.00</td>\n      <td>829,100.00</td>\n      <td>13,508,605.00</td>\n    </tr>\n    <tr>\n      <th>Hogar y electrodomésticos</th>\n      <td>276.00</td>\n      <td>255.00</td>\n      <td>10,204,475.00</td>\n      <td>1,938,853.00</td>\n      <td>12,514,375.00</td>\n    </tr>\n    <tr>\n      <th>Textiles</th>\n      <td>3,570.00</td>\n      <td>3,414.00</td>\n      <td>687,197.00</td>\n      <td>35,510.00</td>\n      <td>10,535,113.00</td>\n    </tr>\n    <tr>\n      <th>Gestión ambiental</th>\n      <td>2,912.00</td>\n      <td>1,769.00</td>\n      <td>5,002,645.00</td>\n      <td>943,177.00</td>\n      <td>9,553,775.00</td>\n    </tr>\n    <tr>\n      <th>Salud y Medicina</th>\n      <td>627.00</td>\n      <td>375.00</td>\n      <td>1,147,219.00</td>\n      <td>11,704.00</td>\n      <td>7,524,205.00</td>\n    </tr>\n    <tr>\n      <th>Compras Sostenibles</th>\n      <td>975.00</td>\n      <td>968.00</td>\n      <td>1,471,905.00</td>\n      <td>207,003.00</td>\n      <td>5,245,562.00</td>\n    </tr>\n    <tr>\n      <th>Cuidado personal y Belleza</th>\n      <td>66.00</td>\n      <td>66.00</td>\n      <td>418,342.00</td>\n      <td>76,894.00</td>\n      <td>4,682,445.00</td>\n    </tr>\n    <tr>\n      <th>Generación y distribución de Energía</th>\n      <td>5.00</td>\n      <td>1.00</td>\n      <td>4,606,302.00</td>\n      <td>875,197.00</td>\n      <td>4,606,302.00</td>\n    </tr>\n    <tr>\n      <th>Deporte y recreación</th>\n      <td>146.00</td>\n      <td>146.00</td>\n      <td>260,850.00</td>\n      <td>25,888.00</td>\n      <td>1,552,470.00</td>\n    </tr>\n    <tr>\n      <th>Minería</th>\n      <td>7.00</td>\n      <td>4.00</td>\n      <td>1,357,410.00</td>\n      <td>9,101.00</td>\n      <td>1,453,208.00</td>\n    </tr>\n    <tr>\n      <th>Educación y formación empresarial</th>\n      <td>2.00</td>\n      <td>2.00</td>\n      <td>198,000.00</td>\n      <td>0.00</td>\n      <td>396,000.00</td>\n    </tr>\n    <tr>\n      <th>Servicios Públicos</th>\n      <td>82,682.00</td>\n      <td>82,682.00</td>\n      <td>27.00</td>\n      <td>6.00</td>\n      <td>372,071.00</td>\n    </tr>\n    <tr>\n      <th>Agroindustrial</th>\n      <td>256.00</td>\n      <td>252.00</td>\n      <td>150,400.00</td>\n      <td>0.00</td>\n      <td>250,000.00</td>\n    </tr>\n    <tr>\n      <th>Producción audiovisual</th>\n      <td>4.00</td>\n      <td>4.00</td>\n      <td>38,000.00</td>\n      <td>0.00</td>\n      <td>152,000.00</td>\n    </tr>\n  </tbody>\n</table>\n</div>",
       "datasetInfos": [],
       "metadata": {},
       "removedWidgets": [],
       "textData": null,
       "type": "htmlSandbox"
      }
     },
     "output_type": "display_data"
    }
   ],
   "source": [
    "df_CAT = df.groupby('CATEGORÍA').sum()\n",
    "df_CAT.sort_values(by='TOTAL_SIN_IVA', inplace=True, ascending=False)\n",
    "df_CAT"
   ]
  },
  {
   "cell_type": "code",
   "execution_count": 0,
   "metadata": {
    "application/vnd.databricks.v1+cell": {
     "inputWidgets": {},
     "nuid": "f77dec62-d15a-4aa7-8ec0-9042e8758949",
     "showTitle": false,
     "title": ""
    }
   },
   "outputs": [
    {
     "data": {
      "text/html": [
       "<style scoped>\n",
       "  .ansiout {\n",
       "    display: block;\n",
       "    unicode-bidi: embed;\n",
       "    white-space: pre-wrap;\n",
       "    word-wrap: break-word;\n",
       "    word-break: break-all;\n",
       "    font-family: \"Source Code Pro\", \"Menlo\", monospace;;\n",
       "    font-size: 13px;\n",
       "    color: #555;\n",
       "    margin-left: 4px;\n",
       "    line-height: 19px;\n",
       "  }\n",
       "</style>\n",
       "<div class=\"ansiout\">Out[1090]: </div>"
      ]
     },
     "metadata": {
      "application/vnd.databricks.v1+output": {
       "addedWidgets": {},
       "arguments": {},
       "data": "<div class=\"ansiout\">Out[1090]: </div>",
       "datasetInfos": [],
       "metadata": {},
       "removedWidgets": [],
       "type": "html"
      }
     },
     "output_type": "display_data"
    },
    {
     "data": {
      "text/html": [
       "<html>\n",
       "<head><meta charset=\"utf-8\" /></head>\n",
       "<body>\n",
       "    <div>            <script src=\"https://cdnjs.cloudflare.com/ajax/libs/mathjax/2.7.5/MathJax.js?config=TeX-AMS-MML_SVG\"></script><script type=\"text/javascript\">if (window.MathJax) {MathJax.Hub.Config({SVG: {font: \"STIX-Web\"}});}</script>                <script type=\"text/javascript\">window.PlotlyConfig = {MathJaxConfig: 'local'};</script>\n",
       "        <script src=\"https://cdn.plot.ly/plotly-latest.min.js\"></script>                <div id=\"1ee462f7-a468-4f7f-9d21-2cda76e8c057\" class=\"plotly-graph-div\" style=\"height:100%; width:100%;\"></div>            <script type=\"text/javascript\">                                    window.PLOTLYENV=window.PLOTLYENV || {};                                    if (document.getElementById(\"1ee462f7-a468-4f7f-9d21-2cda76e8c057\")) {                    Plotly.newPlot(                        \"1ee462f7-a468-4f7f-9d21-2cda76e8c057\",                        [{\"alignmentgroup\": \"True\", \"hovertemplate\": \"CATEGOR\\u00cdA=%{x}<br>TOTAL_SIN_IVA=%{y}<extra></extra>\", \"legendgroup\": \"\", \"marker\": {\"color\": \"#636efa\"}, \"name\": \"\", \"offsetgroup\": \"\", \"orientation\": \"v\", \"showlegend\": false, \"textposition\": \"auto\", \"type\": \"bar\", \"x\": [\"Vigilancia y seguridad industrial\", \"Alimentos y Bebidas\", \"Construcci\\u00f3n y Mantenimiento\", \"Dotaci\\u00f3n y elementos de protecci\\u00f3n personal\", \"Servicios Profesionales\", \"Qu\\u00edmicos y derivados\", \"Almacenamiento y empaques\", \"Veh\\u00edculos y repuestos\", \"Mercadeo y publicidad\", \"Ingenier\\u00eda e Investigaci\\u00f3n\", \"Aseo, Cafeter\\u00eda y Oficina\", \"Tecnolog\\u00eda e informaci\\u00f3n\", \"Vigilancia y seguridad\", \"Ferreteria\", \"Log\\u00edstica y transporte\", \"Gesti\\u00f3n inmobiliaria\", \"Imprenta y litograf\\u00eda\", \"Manufactura\", \"El\\u00e9ctricos y Electr\\u00f3nicos\", \"Moda y accesorios\", \"Mobiliario y decoraci\\u00f3n\", \"Medicina y Salud\", \"Viajes, Eventos y Entretenimiento\", \"Hogar y electrodom\\u00e9sticos\", \"Textiles\", \"Gesti\\u00f3n ambiental\", \"Salud y Medicina\", \"Compras Sostenibles\", \"Cuidado personal y Belleza\", \"Generaci\\u00f3n y distribuci\\u00f3n de Energ\\u00eda\", \"Deporte y recreaci\\u00f3n\", \"Miner\\u00eda\", \"Educaci\\u00f3n y formaci\\u00f3n empresarial\", \"Servicios P\\u00fablicos\", \"Agroindustrial\", \"Producci\\u00f3n audiovisual\"], \"xaxis\": \"x\", \"y\": [4339572224.0, 1928684544.0, 882860608.0, 715481920.0, 602906112.0, 383131712.0, 362158528.0, 209335776.0, 195689648.0, 165708032.0, 153989376.0, 135508496.0, 133923232.0, 108569920.0, 82825104.0, 54662096.0, 36668192.0, 36657428.0, 28938876.0, 26076944.0, 19926016.0, 17878528.0, 13508605.0, 12514375.0, 10535113.0, 9553775.0, 7524205.0, 5245562.0, 4682445.0, 4606302.0, 1552470.0, 1453208.0, 396000.0, 372071.0, 250000.0, 152000.0], \"yaxis\": \"y\"}],                        {\"barmode\": \"relative\", \"legend\": {\"tracegroupgap\": 0}, \"margin\": {\"t\": 60}, \"template\": {\"data\": {\"bar\": [{\"error_x\": {\"color\": \"#2a3f5f\"}, \"error_y\": {\"color\": \"#2a3f5f\"}, \"marker\": {\"line\": {\"color\": \"#E5ECF6\", \"width\": 0.5}}, \"type\": \"bar\"}], \"barpolar\": [{\"marker\": {\"line\": {\"color\": \"#E5ECF6\", \"width\": 0.5}}, \"type\": \"barpolar\"}], \"carpet\": [{\"aaxis\": {\"endlinecolor\": \"#2a3f5f\", \"gridcolor\": \"white\", \"linecolor\": \"white\", \"minorgridcolor\": \"white\", \"startlinecolor\": \"#2a3f5f\"}, \"baxis\": {\"endlinecolor\": \"#2a3f5f\", \"gridcolor\": \"white\", \"linecolor\": \"white\", \"minorgridcolor\": \"white\", \"startlinecolor\": \"#2a3f5f\"}, \"type\": \"carpet\"}], \"choropleth\": [{\"colorbar\": {\"outlinewidth\": 0, \"ticks\": \"\"}, \"type\": \"choropleth\"}], \"contour\": [{\"colorbar\": {\"outlinewidth\": 0, \"ticks\": \"\"}, \"colorscale\": [[0.0, \"#0d0887\"], [0.1111111111111111, \"#46039f\"], [0.2222222222222222, \"#7201a8\"], [0.3333333333333333, \"#9c179e\"], [0.4444444444444444, \"#bd3786\"], [0.5555555555555556, \"#d8576b\"], [0.6666666666666666, \"#ed7953\"], [0.7777777777777778, \"#fb9f3a\"], [0.8888888888888888, \"#fdca26\"], [1.0, \"#f0f921\"]], \"type\": \"contour\"}], \"contourcarpet\": [{\"colorbar\": {\"outlinewidth\": 0, \"ticks\": \"\"}, \"type\": \"contourcarpet\"}], \"heatmap\": [{\"colorbar\": {\"outlinewidth\": 0, \"ticks\": \"\"}, \"colorscale\": [[0.0, \"#0d0887\"], [0.1111111111111111, \"#46039f\"], [0.2222222222222222, \"#7201a8\"], [0.3333333333333333, \"#9c179e\"], [0.4444444444444444, \"#bd3786\"], [0.5555555555555556, \"#d8576b\"], [0.6666666666666666, \"#ed7953\"], [0.7777777777777778, \"#fb9f3a\"], [0.8888888888888888, \"#fdca26\"], [1.0, \"#f0f921\"]], \"type\": \"heatmap\"}], \"heatmapgl\": [{\"colorbar\": {\"outlinewidth\": 0, \"ticks\": \"\"}, \"colorscale\": [[0.0, \"#0d0887\"], [0.1111111111111111, \"#46039f\"], [0.2222222222222222, \"#7201a8\"], [0.3333333333333333, \"#9c179e\"], [0.4444444444444444, \"#bd3786\"], [0.5555555555555556, \"#d8576b\"], [0.6666666666666666, \"#ed7953\"], [0.7777777777777778, \"#fb9f3a\"], [0.8888888888888888, \"#fdca26\"], [1.0, \"#f0f921\"]], \"type\": \"heatmapgl\"}], \"histogram\": [{\"marker\": {\"colorbar\": {\"outlinewidth\": 0, \"ticks\": \"\"}}, \"type\": \"histogram\"}], \"histogram2d\": [{\"colorbar\": {\"outlinewidth\": 0, \"ticks\": \"\"}, \"colorscale\": [[0.0, \"#0d0887\"], [0.1111111111111111, \"#46039f\"], [0.2222222222222222, \"#7201a8\"], [0.3333333333333333, \"#9c179e\"], [0.4444444444444444, \"#bd3786\"], [0.5555555555555556, \"#d8576b\"], [0.6666666666666666, \"#ed7953\"], [0.7777777777777778, \"#fb9f3a\"], [0.8888888888888888, \"#fdca26\"], [1.0, \"#f0f921\"]], \"type\": \"histogram2d\"}], \"histogram2dcontour\": [{\"colorbar\": {\"outlinewidth\": 0, \"ticks\": \"\"}, \"colorscale\": [[0.0, \"#0d0887\"], [0.1111111111111111, \"#46039f\"], [0.2222222222222222, \"#7201a8\"], [0.3333333333333333, \"#9c179e\"], [0.4444444444444444, \"#bd3786\"], [0.5555555555555556, \"#d8576b\"], [0.6666666666666666, \"#ed7953\"], [0.7777777777777778, \"#fb9f3a\"], [0.8888888888888888, \"#fdca26\"], [1.0, \"#f0f921\"]], \"type\": \"histogram2dcontour\"}], \"mesh3d\": [{\"colorbar\": {\"outlinewidth\": 0, \"ticks\": \"\"}, \"type\": \"mesh3d\"}], \"parcoords\": [{\"line\": {\"colorbar\": {\"outlinewidth\": 0, \"ticks\": \"\"}}, \"type\": \"parcoords\"}], \"pie\": [{\"automargin\": true, \"type\": \"pie\"}], \"scatter\": [{\"marker\": {\"colorbar\": {\"outlinewidth\": 0, \"ticks\": \"\"}}, \"type\": \"scatter\"}], \"scatter3d\": [{\"line\": {\"colorbar\": {\"outlinewidth\": 0, \"ticks\": \"\"}}, \"marker\": {\"colorbar\": {\"outlinewidth\": 0, \"ticks\": \"\"}}, \"type\": \"scatter3d\"}], \"scattercarpet\": [{\"marker\": {\"colorbar\": {\"outlinewidth\": 0, \"ticks\": \"\"}}, \"type\": \"scattercarpet\"}], \"scattergeo\": [{\"marker\": {\"colorbar\": {\"outlinewidth\": 0, \"ticks\": \"\"}}, \"type\": \"scattergeo\"}], \"scattergl\": [{\"marker\": {\"colorbar\": {\"outlinewidth\": 0, \"ticks\": \"\"}}, \"type\": \"scattergl\"}], \"scattermapbox\": [{\"marker\": {\"colorbar\": {\"outlinewidth\": 0, \"ticks\": \"\"}}, \"type\": \"scattermapbox\"}], \"scatterpolar\": [{\"marker\": {\"colorbar\": {\"outlinewidth\": 0, \"ticks\": \"\"}}, \"type\": \"scatterpolar\"}], \"scatterpolargl\": [{\"marker\": {\"colorbar\": {\"outlinewidth\": 0, \"ticks\": \"\"}}, \"type\": \"scatterpolargl\"}], \"scatterternary\": [{\"marker\": {\"colorbar\": {\"outlinewidth\": 0, \"ticks\": \"\"}}, \"type\": \"scatterternary\"}], \"surface\": [{\"colorbar\": {\"outlinewidth\": 0, \"ticks\": \"\"}, \"colorscale\": [[0.0, \"#0d0887\"], [0.1111111111111111, \"#46039f\"], [0.2222222222222222, \"#7201a8\"], [0.3333333333333333, \"#9c179e\"], [0.4444444444444444, \"#bd3786\"], [0.5555555555555556, \"#d8576b\"], [0.6666666666666666, \"#ed7953\"], [0.7777777777777778, \"#fb9f3a\"], [0.8888888888888888, \"#fdca26\"], [1.0, \"#f0f921\"]], \"type\": \"surface\"}], \"table\": [{\"cells\": {\"fill\": {\"color\": \"#EBF0F8\"}, \"line\": {\"color\": \"white\"}}, \"header\": {\"fill\": {\"color\": \"#C8D4E3\"}, \"line\": {\"color\": \"white\"}}, \"type\": \"table\"}]}, \"layout\": {\"annotationdefaults\": {\"arrowcolor\": \"#2a3f5f\", \"arrowhead\": 0, \"arrowwidth\": 1}, \"autotypenumbers\": \"strict\", \"coloraxis\": {\"colorbar\": {\"outlinewidth\": 0, \"ticks\": \"\"}}, \"colorscale\": {\"diverging\": [[0, \"#8e0152\"], [0.1, \"#c51b7d\"], [0.2, \"#de77ae\"], [0.3, \"#f1b6da\"], [0.4, \"#fde0ef\"], [0.5, \"#f7f7f7\"], [0.6, \"#e6f5d0\"], [0.7, \"#b8e186\"], [0.8, \"#7fbc41\"], [0.9, \"#4d9221\"], [1, \"#276419\"]], \"sequential\": [[0.0, \"#0d0887\"], [0.1111111111111111, \"#46039f\"], [0.2222222222222222, \"#7201a8\"], [0.3333333333333333, \"#9c179e\"], [0.4444444444444444, \"#bd3786\"], [0.5555555555555556, \"#d8576b\"], [0.6666666666666666, \"#ed7953\"], [0.7777777777777778, \"#fb9f3a\"], [0.8888888888888888, \"#fdca26\"], [1.0, \"#f0f921\"]], \"sequentialminus\": [[0.0, \"#0d0887\"], [0.1111111111111111, \"#46039f\"], [0.2222222222222222, \"#7201a8\"], [0.3333333333333333, \"#9c179e\"], [0.4444444444444444, \"#bd3786\"], [0.5555555555555556, \"#d8576b\"], [0.6666666666666666, \"#ed7953\"], [0.7777777777777778, \"#fb9f3a\"], [0.8888888888888888, \"#fdca26\"], [1.0, \"#f0f921\"]]}, \"colorway\": [\"#636efa\", \"#EF553B\", \"#00cc96\", \"#ab63fa\", \"#FFA15A\", \"#19d3f3\", \"#FF6692\", \"#B6E880\", \"#FF97FF\", \"#FECB52\"], \"font\": {\"color\": \"#2a3f5f\"}, \"geo\": {\"bgcolor\": \"white\", \"lakecolor\": \"white\", \"landcolor\": \"#E5ECF6\", \"showlakes\": true, \"showland\": true, \"subunitcolor\": \"white\"}, \"hoverlabel\": {\"align\": \"left\"}, \"hovermode\": \"closest\", \"mapbox\": {\"style\": \"light\"}, \"paper_bgcolor\": \"white\", \"plot_bgcolor\": \"#E5ECF6\", \"polar\": {\"angularaxis\": {\"gridcolor\": \"white\", \"linecolor\": \"white\", \"ticks\": \"\"}, \"bgcolor\": \"#E5ECF6\", \"radialaxis\": {\"gridcolor\": \"white\", \"linecolor\": \"white\", \"ticks\": \"\"}}, \"scene\": {\"xaxis\": {\"backgroundcolor\": \"#E5ECF6\", \"gridcolor\": \"white\", \"gridwidth\": 2, \"linecolor\": \"white\", \"showbackground\": true, \"ticks\": \"\", \"zerolinecolor\": \"white\"}, \"yaxis\": {\"backgroundcolor\": \"#E5ECF6\", \"gridcolor\": \"white\", \"gridwidth\": 2, \"linecolor\": \"white\", \"showbackground\": true, \"ticks\": \"\", \"zerolinecolor\": \"white\"}, \"zaxis\": {\"backgroundcolor\": \"#E5ECF6\", \"gridcolor\": \"white\", \"gridwidth\": 2, \"linecolor\": \"white\", \"showbackground\": true, \"ticks\": \"\", \"zerolinecolor\": \"white\"}}, \"shapedefaults\": {\"line\": {\"color\": \"#2a3f5f\"}}, \"ternary\": {\"aaxis\": {\"gridcolor\": \"white\", \"linecolor\": \"white\", \"ticks\": \"\"}, \"baxis\": {\"gridcolor\": \"white\", \"linecolor\": \"white\", \"ticks\": \"\"}, \"bgcolor\": \"#E5ECF6\", \"caxis\": {\"gridcolor\": \"white\", \"linecolor\": \"white\", \"ticks\": \"\"}}, \"title\": {\"x\": 0.05}, \"xaxis\": {\"automargin\": true, \"gridcolor\": \"white\", \"linecolor\": \"white\", \"ticks\": \"\", \"title\": {\"standoff\": 15}, \"zerolinecolor\": \"white\", \"zerolinewidth\": 2}, \"yaxis\": {\"automargin\": true, \"gridcolor\": \"white\", \"linecolor\": \"white\", \"ticks\": \"\", \"title\": {\"standoff\": 15}, \"zerolinecolor\": \"white\", \"zerolinewidth\": 2}}}, \"xaxis\": {\"anchor\": \"y\", \"domain\": [0.0, 1.0], \"title\": {\"text\": \"CATEGOR\\u00cdA\"}}, \"yaxis\": {\"anchor\": \"x\", \"domain\": [0.0, 1.0], \"title\": {\"text\": \"TOTAL_SIN_IVA\"}}},                        {\"responsive\": true}                    )                };                            </script>        </div>\n",
       "</body>\n",
       "</html>"
      ]
     },
     "metadata": {
      "application/vnd.databricks.v1+output": {
       "addedWidgets": {},
       "arguments": {},
       "data": "<html>\n<head><meta charset=\"utf-8\" /></head>\n<body>\n    <div>            <script src=\"https://cdnjs.cloudflare.com/ajax/libs/mathjax/2.7.5/MathJax.js?config=TeX-AMS-MML_SVG\"></script><script type=\"text/javascript\">if (window.MathJax) {MathJax.Hub.Config({SVG: {font: \"STIX-Web\"}});}</script>                <script type=\"text/javascript\">window.PlotlyConfig = {MathJaxConfig: 'local'};</script>\n        <script src=\"https://cdn.plot.ly/plotly-latest.min.js\"></script>                <div id=\"1ee462f7-a468-4f7f-9d21-2cda76e8c057\" class=\"plotly-graph-div\" style=\"height:100%; width:100%;\"></div>            <script type=\"text/javascript\">                                    window.PLOTLYENV=window.PLOTLYENV || {};                                    if (document.getElementById(\"1ee462f7-a468-4f7f-9d21-2cda76e8c057\")) {                    Plotly.newPlot(                        \"1ee462f7-a468-4f7f-9d21-2cda76e8c057\",                        [{\"alignmentgroup\": \"True\", \"hovertemplate\": \"CATEGOR\\u00cdA=%{x}<br>TOTAL_SIN_IVA=%{y}<extra></extra>\", \"legendgroup\": \"\", \"marker\": {\"color\": \"#636efa\"}, \"name\": \"\", \"offsetgroup\": \"\", \"orientation\": \"v\", \"showlegend\": false, \"textposition\": \"auto\", \"type\": \"bar\", \"x\": [\"Vigilancia y seguridad industrial\", \"Alimentos y Bebidas\", \"Construcci\\u00f3n y Mantenimiento\", \"Dotaci\\u00f3n y elementos de protecci\\u00f3n personal\", \"Servicios Profesionales\", \"Qu\\u00edmicos y derivados\", \"Almacenamiento y empaques\", \"Veh\\u00edculos y repuestos\", \"Mercadeo y publicidad\", \"Ingenier\\u00eda e Investigaci\\u00f3n\", \"Aseo, Cafeter\\u00eda y Oficina\", \"Tecnolog\\u00eda e informaci\\u00f3n\", \"Vigilancia y seguridad\", \"Ferreteria\", \"Log\\u00edstica y transporte\", \"Gesti\\u00f3n inmobiliaria\", \"Imprenta y litograf\\u00eda\", \"Manufactura\", \"El\\u00e9ctricos y Electr\\u00f3nicos\", \"Moda y accesorios\", \"Mobiliario y decoraci\\u00f3n\", \"Medicina y Salud\", \"Viajes, Eventos y Entretenimiento\", \"Hogar y electrodom\\u00e9sticos\", \"Textiles\", \"Gesti\\u00f3n ambiental\", \"Salud y Medicina\", \"Compras Sostenibles\", \"Cuidado personal y Belleza\", \"Generaci\\u00f3n y distribuci\\u00f3n de Energ\\u00eda\", \"Deporte y recreaci\\u00f3n\", \"Miner\\u00eda\", \"Educaci\\u00f3n y formaci\\u00f3n empresarial\", \"Servicios P\\u00fablicos\", \"Agroindustrial\", \"Producci\\u00f3n audiovisual\"], \"xaxis\": \"x\", \"y\": [4339572224.0, 1928684544.0, 882860608.0, 715481920.0, 602906112.0, 383131712.0, 362158528.0, 209335776.0, 195689648.0, 165708032.0, 153989376.0, 135508496.0, 133923232.0, 108569920.0, 82825104.0, 54662096.0, 36668192.0, 36657428.0, 28938876.0, 26076944.0, 19926016.0, 17878528.0, 13508605.0, 12514375.0, 10535113.0, 9553775.0, 7524205.0, 5245562.0, 4682445.0, 4606302.0, 1552470.0, 1453208.0, 396000.0, 372071.0, 250000.0, 152000.0], \"yaxis\": \"y\"}],                        {\"barmode\": \"relative\", \"legend\": {\"tracegroupgap\": 0}, \"margin\": {\"t\": 60}, \"template\": {\"data\": {\"bar\": [{\"error_x\": {\"color\": \"#2a3f5f\"}, \"error_y\": {\"color\": \"#2a3f5f\"}, \"marker\": {\"line\": {\"color\": \"#E5ECF6\", \"width\": 0.5}}, \"type\": \"bar\"}], \"barpolar\": [{\"marker\": {\"line\": {\"color\": \"#E5ECF6\", \"width\": 0.5}}, \"type\": \"barpolar\"}], \"carpet\": [{\"aaxis\": {\"endlinecolor\": \"#2a3f5f\", \"gridcolor\": \"white\", \"linecolor\": \"white\", \"minorgridcolor\": \"white\", \"startlinecolor\": \"#2a3f5f\"}, \"baxis\": {\"endlinecolor\": \"#2a3f5f\", \"gridcolor\": \"white\", \"linecolor\": \"white\", \"minorgridcolor\": \"white\", \"startlinecolor\": \"#2a3f5f\"}, \"type\": \"carpet\"}], \"choropleth\": [{\"colorbar\": {\"outlinewidth\": 0, \"ticks\": \"\"}, \"type\": \"choropleth\"}], \"contour\": [{\"colorbar\": {\"outlinewidth\": 0, \"ticks\": \"\"}, \"colorscale\": [[0.0, \"#0d0887\"], [0.1111111111111111, \"#46039f\"], [0.2222222222222222, \"#7201a8\"], [0.3333333333333333, \"#9c179e\"], [0.4444444444444444, \"#bd3786\"], [0.5555555555555556, \"#d8576b\"], [0.6666666666666666, \"#ed7953\"], [0.7777777777777778, \"#fb9f3a\"], [0.8888888888888888, \"#fdca26\"], [1.0, \"#f0f921\"]], \"type\": \"contour\"}], \"contourcarpet\": [{\"colorbar\": {\"outlinewidth\": 0, \"ticks\": \"\"}, \"type\": \"contourcarpet\"}], \"heatmap\": [{\"colorbar\": {\"outlinewidth\": 0, \"ticks\": \"\"}, \"colorscale\": [[0.0, \"#0d0887\"], [0.1111111111111111, \"#46039f\"], [0.2222222222222222, \"#7201a8\"], [0.3333333333333333, \"#9c179e\"], [0.4444444444444444, \"#bd3786\"], [0.5555555555555556, \"#d8576b\"], [0.6666666666666666, \"#ed7953\"], [0.7777777777777778, \"#fb9f3a\"], [0.8888888888888888, \"#fdca26\"], [1.0, \"#f0f921\"]], \"type\": \"heatmap\"}], \"heatmapgl\": [{\"colorbar\": {\"outlinewidth\": 0, \"ticks\": \"\"}, \"colorscale\": [[0.0, \"#0d0887\"], [0.1111111111111111, \"#46039f\"], [0.2222222222222222, \"#7201a8\"], [0.3333333333333333, \"#9c179e\"], [0.4444444444444444, \"#bd3786\"], [0.5555555555555556, \"#d8576b\"], [0.6666666666666666, \"#ed7953\"], [0.7777777777777778, \"#fb9f3a\"], [0.8888888888888888, \"#fdca26\"], [1.0, \"#f0f921\"]], \"type\": \"heatmapgl\"}], \"histogram\": [{\"marker\": {\"colorbar\": {\"outlinewidth\": 0, \"ticks\": \"\"}}, \"type\": \"histogram\"}], \"histogram2d\": [{\"colorbar\": {\"outlinewidth\": 0, \"ticks\": \"\"}, \"colorscale\": [[0.0, \"#0d0887\"], [0.1111111111111111, \"#46039f\"], [0.2222222222222222, \"#7201a8\"], [0.3333333333333333, \"#9c179e\"], [0.4444444444444444, \"#bd3786\"], [0.5555555555555556, \"#d8576b\"], [0.6666666666666666, \"#ed7953\"], [0.7777777777777778, \"#fb9f3a\"], [0.8888888888888888, \"#fdca26\"], [1.0, \"#f0f921\"]], \"type\": \"histogram2d\"}], \"histogram2dcontour\": [{\"colorbar\": {\"outlinewidth\": 0, \"ticks\": \"\"}, \"colorscale\": [[0.0, \"#0d0887\"], [0.1111111111111111, \"#46039f\"], [0.2222222222222222, \"#7201a8\"], [0.3333333333333333, \"#9c179e\"], [0.4444444444444444, \"#bd3786\"], [0.5555555555555556, \"#d8576b\"], [0.6666666666666666, \"#ed7953\"], [0.7777777777777778, \"#fb9f3a\"], [0.8888888888888888, \"#fdca26\"], [1.0, \"#f0f921\"]], \"type\": \"histogram2dcontour\"}], \"mesh3d\": [{\"colorbar\": {\"outlinewidth\": 0, \"ticks\": \"\"}, \"type\": \"mesh3d\"}], \"parcoords\": [{\"line\": {\"colorbar\": {\"outlinewidth\": 0, \"ticks\": \"\"}}, \"type\": \"parcoords\"}], \"pie\": [{\"automargin\": true, \"type\": \"pie\"}], \"scatter\": [{\"marker\": {\"colorbar\": {\"outlinewidth\": 0, \"ticks\": \"\"}}, \"type\": \"scatter\"}], \"scatter3d\": [{\"line\": {\"colorbar\": {\"outlinewidth\": 0, \"ticks\": \"\"}}, \"marker\": {\"colorbar\": {\"outlinewidth\": 0, \"ticks\": \"\"}}, \"type\": \"scatter3d\"}], \"scattercarpet\": [{\"marker\": {\"colorbar\": {\"outlinewidth\": 0, \"ticks\": \"\"}}, \"type\": \"scattercarpet\"}], \"scattergeo\": [{\"marker\": {\"colorbar\": {\"outlinewidth\": 0, \"ticks\": \"\"}}, \"type\": \"scattergeo\"}], \"scattergl\": [{\"marker\": {\"colorbar\": {\"outlinewidth\": 0, \"ticks\": \"\"}}, \"type\": \"scattergl\"}], \"scattermapbox\": [{\"marker\": {\"colorbar\": {\"outlinewidth\": 0, \"ticks\": \"\"}}, \"type\": \"scattermapbox\"}], \"scatterpolar\": [{\"marker\": {\"colorbar\": {\"outlinewidth\": 0, \"ticks\": \"\"}}, \"type\": \"scatterpolar\"}], \"scatterpolargl\": [{\"marker\": {\"colorbar\": {\"outlinewidth\": 0, \"ticks\": \"\"}}, \"type\": \"scatterpolargl\"}], \"scatterternary\": [{\"marker\": {\"colorbar\": {\"outlinewidth\": 0, \"ticks\": \"\"}}, \"type\": \"scatterternary\"}], \"surface\": [{\"colorbar\": {\"outlinewidth\": 0, \"ticks\": \"\"}, \"colorscale\": [[0.0, \"#0d0887\"], [0.1111111111111111, \"#46039f\"], [0.2222222222222222, \"#7201a8\"], [0.3333333333333333, \"#9c179e\"], [0.4444444444444444, \"#bd3786\"], [0.5555555555555556, \"#d8576b\"], [0.6666666666666666, \"#ed7953\"], [0.7777777777777778, \"#fb9f3a\"], [0.8888888888888888, \"#fdca26\"], [1.0, \"#f0f921\"]], \"type\": \"surface\"}], \"table\": [{\"cells\": {\"fill\": {\"color\": \"#EBF0F8\"}, \"line\": {\"color\": \"white\"}}, \"header\": {\"fill\": {\"color\": \"#C8D4E3\"}, \"line\": {\"color\": \"white\"}}, \"type\": \"table\"}]}, \"layout\": {\"annotationdefaults\": {\"arrowcolor\": \"#2a3f5f\", \"arrowhead\": 0, \"arrowwidth\": 1}, \"autotypenumbers\": \"strict\", \"coloraxis\": {\"colorbar\": {\"outlinewidth\": 0, \"ticks\": \"\"}}, \"colorscale\": {\"diverging\": [[0, \"#8e0152\"], [0.1, \"#c51b7d\"], [0.2, \"#de77ae\"], [0.3, \"#f1b6da\"], [0.4, \"#fde0ef\"], [0.5, \"#f7f7f7\"], [0.6, \"#e6f5d0\"], [0.7, \"#b8e186\"], [0.8, \"#7fbc41\"], [0.9, \"#4d9221\"], [1, \"#276419\"]], \"sequential\": [[0.0, \"#0d0887\"], [0.1111111111111111, \"#46039f\"], [0.2222222222222222, \"#7201a8\"], [0.3333333333333333, \"#9c179e\"], [0.4444444444444444, \"#bd3786\"], [0.5555555555555556, \"#d8576b\"], [0.6666666666666666, \"#ed7953\"], [0.7777777777777778, \"#fb9f3a\"], [0.8888888888888888, \"#fdca26\"], [1.0, \"#f0f921\"]], \"sequentialminus\": [[0.0, \"#0d0887\"], [0.1111111111111111, \"#46039f\"], [0.2222222222222222, \"#7201a8\"], [0.3333333333333333, \"#9c179e\"], [0.4444444444444444, \"#bd3786\"], [0.5555555555555556, \"#d8576b\"], [0.6666666666666666, \"#ed7953\"], [0.7777777777777778, \"#fb9f3a\"], [0.8888888888888888, \"#fdca26\"], [1.0, \"#f0f921\"]]}, \"colorway\": [\"#636efa\", \"#EF553B\", \"#00cc96\", \"#ab63fa\", \"#FFA15A\", \"#19d3f3\", \"#FF6692\", \"#B6E880\", \"#FF97FF\", \"#FECB52\"], \"font\": {\"color\": \"#2a3f5f\"}, \"geo\": {\"bgcolor\": \"white\", \"lakecolor\": \"white\", \"landcolor\": \"#E5ECF6\", \"showlakes\": true, \"showland\": true, \"subunitcolor\": \"white\"}, \"hoverlabel\": {\"align\": \"left\"}, \"hovermode\": \"closest\", \"mapbox\": {\"style\": \"light\"}, \"paper_bgcolor\": \"white\", \"plot_bgcolor\": \"#E5ECF6\", \"polar\": {\"angularaxis\": {\"gridcolor\": \"white\", \"linecolor\": \"white\", \"ticks\": \"\"}, \"bgcolor\": \"#E5ECF6\", \"radialaxis\": {\"gridcolor\": \"white\", \"linecolor\": \"white\", \"ticks\": \"\"}}, \"scene\": {\"xaxis\": {\"backgroundcolor\": \"#E5ECF6\", \"gridcolor\": \"white\", \"gridwidth\": 2, \"linecolor\": \"white\", \"showbackground\": true, \"ticks\": \"\", \"zerolinecolor\": \"white\"}, \"yaxis\": {\"backgroundcolor\": \"#E5ECF6\", \"gridcolor\": \"white\", \"gridwidth\": 2, \"linecolor\": \"white\", \"showbackground\": true, \"ticks\": \"\", \"zerolinecolor\": \"white\"}, \"zaxis\": {\"backgroundcolor\": \"#E5ECF6\", \"gridcolor\": \"white\", \"gridwidth\": 2, \"linecolor\": \"white\", \"showbackground\": true, \"ticks\": \"\", \"zerolinecolor\": \"white\"}}, \"shapedefaults\": {\"line\": {\"color\": \"#2a3f5f\"}}, \"ternary\": {\"aaxis\": {\"gridcolor\": \"white\", \"linecolor\": \"white\", \"ticks\": \"\"}, \"baxis\": {\"gridcolor\": \"white\", \"linecolor\": \"white\", \"ticks\": \"\"}, \"bgcolor\": \"#E5ECF6\", \"caxis\": {\"gridcolor\": \"white\", \"linecolor\": \"white\", \"ticks\": \"\"}}, \"title\": {\"x\": 0.05}, \"xaxis\": {\"automargin\": true, \"gridcolor\": \"white\", \"linecolor\": \"white\", \"ticks\": \"\", \"title\": {\"standoff\": 15}, \"zerolinecolor\": \"white\", \"zerolinewidth\": 2}, \"yaxis\": {\"automargin\": true, \"gridcolor\": \"white\", \"linecolor\": \"white\", \"ticks\": \"\", \"title\": {\"standoff\": 15}, \"zerolinecolor\": \"white\", \"zerolinewidth\": 2}}}, \"xaxis\": {\"anchor\": \"y\", \"domain\": [0.0, 1.0], \"title\": {\"text\": \"CATEGOR\\u00cdA\"}}, \"yaxis\": {\"anchor\": \"x\", \"domain\": [0.0, 1.0], \"title\": {\"text\": \"TOTAL_SIN_IVA\"}}},                        {\"responsive\": true}                    )                };                            </script>        </div>\n</body>\n</html>",
       "datasetInfos": [],
       "metadata": {},
       "removedWidgets": [],
       "textData": null,
       "type": "htmlSandbox"
      }
     },
     "output_type": "display_data"
    }
   ],
   "source": [
    "px.bar(df_CAT, y='TOTAL_SIN_IVA')"
   ]
  },
  {
   "cell_type": "code",
   "execution_count": 0,
   "metadata": {
    "application/vnd.databricks.v1+cell": {
     "inputWidgets": {},
     "nuid": "cef3f9ce-a291-4ee2-a07a-5c68e2b6b0d0",
     "showTitle": false,
     "title": ""
    }
   },
   "outputs": [
    {
     "data": {
      "text/html": [
       "<style scoped>\n",
       "  .ansiout {\n",
       "    display: block;\n",
       "    unicode-bidi: embed;\n",
       "    white-space: pre-wrap;\n",
       "    word-wrap: break-word;\n",
       "    word-break: break-all;\n",
       "    font-family: \"Source Code Pro\", \"Menlo\", monospace;;\n",
       "    font-size: 13px;\n",
       "    color: #555;\n",
       "    margin-left: 4px;\n",
       "    line-height: 19px;\n",
       "  }\n",
       "</style>\n",
       "<div class=\"ansiout\">Out[1091]: </div>"
      ]
     },
     "metadata": {
      "application/vnd.databricks.v1+output": {
       "addedWidgets": {},
       "arguments": {},
       "data": "<div class=\"ansiout\">Out[1091]: </div>",
       "datasetInfos": [],
       "metadata": {},
       "removedWidgets": [],
       "type": "html"
      }
     },
     "output_type": "display_data"
    },
    {
     "data": {
      "text/html": [
       "<html>\n",
       "<head><meta charset=\"utf-8\" /></head>\n",
       "<body>\n",
       "    <div>            <script src=\"https://cdnjs.cloudflare.com/ajax/libs/mathjax/2.7.5/MathJax.js?config=TeX-AMS-MML_SVG\"></script><script type=\"text/javascript\">if (window.MathJax) {MathJax.Hub.Config({SVG: {font: \"STIX-Web\"}});}</script>                <script type=\"text/javascript\">window.PlotlyConfig = {MathJaxConfig: 'local'};</script>\n",
       "        <script src=\"https://cdn.plot.ly/plotly-latest.min.js\"></script>                <div id=\"c610b5c2-14a9-4de3-9f0f-fcfbf5202669\" class=\"plotly-graph-div\" style=\"height:100%; width:100%;\"></div>            <script type=\"text/javascript\">                                    window.PLOTLYENV=window.PLOTLYENV || {};                                    if (document.getElementById(\"c610b5c2-14a9-4de3-9f0f-fcfbf5202669\")) {                    Plotly.newPlot(                        \"c610b5c2-14a9-4de3-9f0f-fcfbf5202669\",                        [{\"alignmentgroup\": \"True\", \"hovertemplate\": \"CATEGOR\\u00cdA=%{x}<br>CANTIDAD_PEDIDA=%{y}<extra></extra>\", \"legendgroup\": \"\", \"marker\": {\"color\": \"#636efa\"}, \"name\": \"\", \"offsetgroup\": \"\", \"orientation\": \"v\", \"showlegend\": false, \"textposition\": \"auto\", \"type\": \"bar\", \"x\": [\"Vigilancia y seguridad industrial\", \"Alimentos y Bebidas\", \"Construcci\\u00f3n y Mantenimiento\", \"Dotaci\\u00f3n y elementos de protecci\\u00f3n personal\", \"Servicios Profesionales\", \"Qu\\u00edmicos y derivados\", \"Almacenamiento y empaques\", \"Veh\\u00edculos y repuestos\", \"Mercadeo y publicidad\", \"Ingenier\\u00eda e Investigaci\\u00f3n\", \"Aseo, Cafeter\\u00eda y Oficina\", \"Tecnolog\\u00eda e informaci\\u00f3n\", \"Vigilancia y seguridad\", \"Ferreteria\", \"Log\\u00edstica y transporte\", \"Gesti\\u00f3n inmobiliaria\", \"Imprenta y litograf\\u00eda\", \"Manufactura\", \"El\\u00e9ctricos y Electr\\u00f3nicos\", \"Moda y accesorios\", \"Mobiliario y decoraci\\u00f3n\", \"Medicina y Salud\", \"Viajes, Eventos y Entretenimiento\", \"Hogar y electrodom\\u00e9sticos\", \"Textiles\", \"Gesti\\u00f3n ambiental\", \"Salud y Medicina\", \"Compras Sostenibles\", \"Cuidado personal y Belleza\", \"Generaci\\u00f3n y distribuci\\u00f3n de Energ\\u00eda\", \"Deporte y recreaci\\u00f3n\", \"Miner\\u00eda\", \"Educaci\\u00f3n y formaci\\u00f3n empresarial\", \"Servicios P\\u00fablicos\", \"Agroindustrial\", \"Producci\\u00f3n audiovisual\"], \"xaxis\": \"x\", \"y\": [234476.0, 2763255.73, 2502.0, 27001.0, 298.5, 44667.700000000004, 322955.7, 17334.0, 100534.0, 206195.0, 437284.0, 1567.0, 149.0, 20672.0, 353.0, 11.0, 104419.0, 15020.0, 11760.0, 1050.0, 927.0, 30.0, 58.0, 276.0, 3570.0, 2912.0, 627.0, 975.0, 66.0, 5.0, 146.0, 7.0, 2.0, 82682.0, 256.0, 4.0], \"yaxis\": \"y\"}],                        {\"barmode\": \"relative\", \"legend\": {\"tracegroupgap\": 0}, \"margin\": {\"t\": 60}, \"template\": {\"data\": {\"bar\": [{\"error_x\": {\"color\": \"#2a3f5f\"}, \"error_y\": {\"color\": \"#2a3f5f\"}, \"marker\": {\"line\": {\"color\": \"#E5ECF6\", \"width\": 0.5}}, \"type\": \"bar\"}], \"barpolar\": [{\"marker\": {\"line\": {\"color\": \"#E5ECF6\", \"width\": 0.5}}, \"type\": \"barpolar\"}], \"carpet\": [{\"aaxis\": {\"endlinecolor\": \"#2a3f5f\", \"gridcolor\": \"white\", \"linecolor\": \"white\", \"minorgridcolor\": \"white\", \"startlinecolor\": \"#2a3f5f\"}, \"baxis\": {\"endlinecolor\": \"#2a3f5f\", \"gridcolor\": \"white\", \"linecolor\": \"white\", \"minorgridcolor\": \"white\", \"startlinecolor\": \"#2a3f5f\"}, \"type\": \"carpet\"}], \"choropleth\": [{\"colorbar\": {\"outlinewidth\": 0, \"ticks\": \"\"}, \"type\": \"choropleth\"}], \"contour\": [{\"colorbar\": {\"outlinewidth\": 0, \"ticks\": \"\"}, \"colorscale\": [[0.0, \"#0d0887\"], [0.1111111111111111, \"#46039f\"], [0.2222222222222222, \"#7201a8\"], [0.3333333333333333, \"#9c179e\"], [0.4444444444444444, \"#bd3786\"], [0.5555555555555556, \"#d8576b\"], [0.6666666666666666, \"#ed7953\"], [0.7777777777777778, \"#fb9f3a\"], [0.8888888888888888, \"#fdca26\"], [1.0, \"#f0f921\"]], \"type\": \"contour\"}], \"contourcarpet\": [{\"colorbar\": {\"outlinewidth\": 0, \"ticks\": \"\"}, \"type\": \"contourcarpet\"}], \"heatmap\": [{\"colorbar\": {\"outlinewidth\": 0, \"ticks\": \"\"}, \"colorscale\": [[0.0, \"#0d0887\"], [0.1111111111111111, \"#46039f\"], [0.2222222222222222, \"#7201a8\"], [0.3333333333333333, \"#9c179e\"], [0.4444444444444444, \"#bd3786\"], [0.5555555555555556, \"#d8576b\"], [0.6666666666666666, \"#ed7953\"], [0.7777777777777778, \"#fb9f3a\"], [0.8888888888888888, \"#fdca26\"], [1.0, \"#f0f921\"]], \"type\": \"heatmap\"}], \"heatmapgl\": [{\"colorbar\": {\"outlinewidth\": 0, \"ticks\": \"\"}, \"colorscale\": [[0.0, \"#0d0887\"], [0.1111111111111111, \"#46039f\"], [0.2222222222222222, \"#7201a8\"], [0.3333333333333333, \"#9c179e\"], [0.4444444444444444, \"#bd3786\"], [0.5555555555555556, \"#d8576b\"], [0.6666666666666666, \"#ed7953\"], [0.7777777777777778, \"#fb9f3a\"], [0.8888888888888888, \"#fdca26\"], [1.0, \"#f0f921\"]], \"type\": \"heatmapgl\"}], \"histogram\": [{\"marker\": {\"colorbar\": {\"outlinewidth\": 0, \"ticks\": \"\"}}, \"type\": \"histogram\"}], \"histogram2d\": [{\"colorbar\": {\"outlinewidth\": 0, \"ticks\": \"\"}, \"colorscale\": [[0.0, \"#0d0887\"], [0.1111111111111111, \"#46039f\"], [0.2222222222222222, \"#7201a8\"], [0.3333333333333333, \"#9c179e\"], [0.4444444444444444, \"#bd3786\"], [0.5555555555555556, \"#d8576b\"], [0.6666666666666666, \"#ed7953\"], [0.7777777777777778, \"#fb9f3a\"], [0.8888888888888888, \"#fdca26\"], [1.0, \"#f0f921\"]], \"type\": \"histogram2d\"}], \"histogram2dcontour\": [{\"colorbar\": {\"outlinewidth\": 0, \"ticks\": \"\"}, \"colorscale\": [[0.0, \"#0d0887\"], [0.1111111111111111, \"#46039f\"], [0.2222222222222222, \"#7201a8\"], [0.3333333333333333, \"#9c179e\"], [0.4444444444444444, \"#bd3786\"], [0.5555555555555556, \"#d8576b\"], [0.6666666666666666, \"#ed7953\"], [0.7777777777777778, \"#fb9f3a\"], [0.8888888888888888, \"#fdca26\"], [1.0, \"#f0f921\"]], \"type\": \"histogram2dcontour\"}], \"mesh3d\": [{\"colorbar\": {\"outlinewidth\": 0, \"ticks\": \"\"}, \"type\": \"mesh3d\"}], \"parcoords\": [{\"line\": {\"colorbar\": {\"outlinewidth\": 0, \"ticks\": \"\"}}, \"type\": \"parcoords\"}], \"pie\": [{\"automargin\": true, \"type\": \"pie\"}], \"scatter\": [{\"marker\": {\"colorbar\": {\"outlinewidth\": 0, \"ticks\": \"\"}}, \"type\": \"scatter\"}], \"scatter3d\": [{\"line\": {\"colorbar\": {\"outlinewidth\": 0, \"ticks\": \"\"}}, \"marker\": {\"colorbar\": {\"outlinewidth\": 0, \"ticks\": \"\"}}, \"type\": \"scatter3d\"}], \"scattercarpet\": [{\"marker\": {\"colorbar\": {\"outlinewidth\": 0, \"ticks\": \"\"}}, \"type\": \"scattercarpet\"}], \"scattergeo\": [{\"marker\": {\"colorbar\": {\"outlinewidth\": 0, \"ticks\": \"\"}}, \"type\": \"scattergeo\"}], \"scattergl\": [{\"marker\": {\"colorbar\": {\"outlinewidth\": 0, \"ticks\": \"\"}}, \"type\": \"scattergl\"}], \"scattermapbox\": [{\"marker\": {\"colorbar\": {\"outlinewidth\": 0, \"ticks\": \"\"}}, \"type\": \"scattermapbox\"}], \"scatterpolar\": [{\"marker\": {\"colorbar\": {\"outlinewidth\": 0, \"ticks\": \"\"}}, \"type\": \"scatterpolar\"}], \"scatterpolargl\": [{\"marker\": {\"colorbar\": {\"outlinewidth\": 0, \"ticks\": \"\"}}, \"type\": \"scatterpolargl\"}], \"scatterternary\": [{\"marker\": {\"colorbar\": {\"outlinewidth\": 0, \"ticks\": \"\"}}, \"type\": \"scatterternary\"}], \"surface\": [{\"colorbar\": {\"outlinewidth\": 0, \"ticks\": \"\"}, \"colorscale\": [[0.0, \"#0d0887\"], [0.1111111111111111, \"#46039f\"], [0.2222222222222222, \"#7201a8\"], [0.3333333333333333, \"#9c179e\"], [0.4444444444444444, \"#bd3786\"], [0.5555555555555556, \"#d8576b\"], [0.6666666666666666, \"#ed7953\"], [0.7777777777777778, \"#fb9f3a\"], [0.8888888888888888, \"#fdca26\"], [1.0, \"#f0f921\"]], \"type\": \"surface\"}], \"table\": [{\"cells\": {\"fill\": {\"color\": \"#EBF0F8\"}, \"line\": {\"color\": \"white\"}}, \"header\": {\"fill\": {\"color\": \"#C8D4E3\"}, \"line\": {\"color\": \"white\"}}, \"type\": \"table\"}]}, \"layout\": {\"annotationdefaults\": {\"arrowcolor\": \"#2a3f5f\", \"arrowhead\": 0, \"arrowwidth\": 1}, \"autotypenumbers\": \"strict\", \"coloraxis\": {\"colorbar\": {\"outlinewidth\": 0, \"ticks\": \"\"}}, \"colorscale\": {\"diverging\": [[0, \"#8e0152\"], [0.1, \"#c51b7d\"], [0.2, \"#de77ae\"], [0.3, \"#f1b6da\"], [0.4, \"#fde0ef\"], [0.5, \"#f7f7f7\"], [0.6, \"#e6f5d0\"], [0.7, \"#b8e186\"], [0.8, \"#7fbc41\"], [0.9, \"#4d9221\"], [1, \"#276419\"]], \"sequential\": [[0.0, \"#0d0887\"], [0.1111111111111111, \"#46039f\"], [0.2222222222222222, \"#7201a8\"], [0.3333333333333333, \"#9c179e\"], [0.4444444444444444, \"#bd3786\"], [0.5555555555555556, \"#d8576b\"], [0.6666666666666666, \"#ed7953\"], [0.7777777777777778, \"#fb9f3a\"], [0.8888888888888888, \"#fdca26\"], [1.0, \"#f0f921\"]], \"sequentialminus\": [[0.0, \"#0d0887\"], [0.1111111111111111, \"#46039f\"], [0.2222222222222222, \"#7201a8\"], [0.3333333333333333, \"#9c179e\"], [0.4444444444444444, \"#bd3786\"], [0.5555555555555556, \"#d8576b\"], [0.6666666666666666, \"#ed7953\"], [0.7777777777777778, \"#fb9f3a\"], [0.8888888888888888, \"#fdca26\"], [1.0, \"#f0f921\"]]}, \"colorway\": [\"#636efa\", \"#EF553B\", \"#00cc96\", \"#ab63fa\", \"#FFA15A\", \"#19d3f3\", \"#FF6692\", \"#B6E880\", \"#FF97FF\", \"#FECB52\"], \"font\": {\"color\": \"#2a3f5f\"}, \"geo\": {\"bgcolor\": \"white\", \"lakecolor\": \"white\", \"landcolor\": \"#E5ECF6\", \"showlakes\": true, \"showland\": true, \"subunitcolor\": \"white\"}, \"hoverlabel\": {\"align\": \"left\"}, \"hovermode\": \"closest\", \"mapbox\": {\"style\": \"light\"}, \"paper_bgcolor\": \"white\", \"plot_bgcolor\": \"#E5ECF6\", \"polar\": {\"angularaxis\": {\"gridcolor\": \"white\", \"linecolor\": \"white\", \"ticks\": \"\"}, \"bgcolor\": \"#E5ECF6\", \"radialaxis\": {\"gridcolor\": \"white\", \"linecolor\": \"white\", \"ticks\": \"\"}}, \"scene\": {\"xaxis\": {\"backgroundcolor\": \"#E5ECF6\", \"gridcolor\": \"white\", \"gridwidth\": 2, \"linecolor\": \"white\", \"showbackground\": true, \"ticks\": \"\", \"zerolinecolor\": \"white\"}, \"yaxis\": {\"backgroundcolor\": \"#E5ECF6\", \"gridcolor\": \"white\", \"gridwidth\": 2, \"linecolor\": \"white\", \"showbackground\": true, \"ticks\": \"\", \"zerolinecolor\": \"white\"}, \"zaxis\": {\"backgroundcolor\": \"#E5ECF6\", \"gridcolor\": \"white\", \"gridwidth\": 2, \"linecolor\": \"white\", \"showbackground\": true, \"ticks\": \"\", \"zerolinecolor\": \"white\"}}, \"shapedefaults\": {\"line\": {\"color\": \"#2a3f5f\"}}, \"ternary\": {\"aaxis\": {\"gridcolor\": \"white\", \"linecolor\": \"white\", \"ticks\": \"\"}, \"baxis\": {\"gridcolor\": \"white\", \"linecolor\": \"white\", \"ticks\": \"\"}, \"bgcolor\": \"#E5ECF6\", \"caxis\": {\"gridcolor\": \"white\", \"linecolor\": \"white\", \"ticks\": \"\"}}, \"title\": {\"x\": 0.05}, \"xaxis\": {\"automargin\": true, \"gridcolor\": \"white\", \"linecolor\": \"white\", \"ticks\": \"\", \"title\": {\"standoff\": 15}, \"zerolinecolor\": \"white\", \"zerolinewidth\": 2}, \"yaxis\": {\"automargin\": true, \"gridcolor\": \"white\", \"linecolor\": \"white\", \"ticks\": \"\", \"title\": {\"standoff\": 15}, \"zerolinecolor\": \"white\", \"zerolinewidth\": 2}}}, \"xaxis\": {\"anchor\": \"y\", \"domain\": [0.0, 1.0], \"title\": {\"text\": \"CATEGOR\\u00cdA\"}}, \"yaxis\": {\"anchor\": \"x\", \"domain\": [0.0, 1.0], \"title\": {\"text\": \"CANTIDAD_PEDIDA\"}}},                        {\"responsive\": true}                    )                };                            </script>        </div>\n",
       "</body>\n",
       "</html>"
      ]
     },
     "metadata": {
      "application/vnd.databricks.v1+output": {
       "addedWidgets": {},
       "arguments": {},
       "data": "<html>\n<head><meta charset=\"utf-8\" /></head>\n<body>\n    <div>            <script src=\"https://cdnjs.cloudflare.com/ajax/libs/mathjax/2.7.5/MathJax.js?config=TeX-AMS-MML_SVG\"></script><script type=\"text/javascript\">if (window.MathJax) {MathJax.Hub.Config({SVG: {font: \"STIX-Web\"}});}</script>                <script type=\"text/javascript\">window.PlotlyConfig = {MathJaxConfig: 'local'};</script>\n        <script src=\"https://cdn.plot.ly/plotly-latest.min.js\"></script>                <div id=\"c610b5c2-14a9-4de3-9f0f-fcfbf5202669\" class=\"plotly-graph-div\" style=\"height:100%; width:100%;\"></div>            <script type=\"text/javascript\">                                    window.PLOTLYENV=window.PLOTLYENV || {};                                    if (document.getElementById(\"c610b5c2-14a9-4de3-9f0f-fcfbf5202669\")) {                    Plotly.newPlot(                        \"c610b5c2-14a9-4de3-9f0f-fcfbf5202669\",                        [{\"alignmentgroup\": \"True\", \"hovertemplate\": \"CATEGOR\\u00cdA=%{x}<br>CANTIDAD_PEDIDA=%{y}<extra></extra>\", \"legendgroup\": \"\", \"marker\": {\"color\": \"#636efa\"}, \"name\": \"\", \"offsetgroup\": \"\", \"orientation\": \"v\", \"showlegend\": false, \"textposition\": \"auto\", \"type\": \"bar\", \"x\": [\"Vigilancia y seguridad industrial\", \"Alimentos y Bebidas\", \"Construcci\\u00f3n y Mantenimiento\", \"Dotaci\\u00f3n y elementos de protecci\\u00f3n personal\", \"Servicios Profesionales\", \"Qu\\u00edmicos y derivados\", \"Almacenamiento y empaques\", \"Veh\\u00edculos y repuestos\", \"Mercadeo y publicidad\", \"Ingenier\\u00eda e Investigaci\\u00f3n\", \"Aseo, Cafeter\\u00eda y Oficina\", \"Tecnolog\\u00eda e informaci\\u00f3n\", \"Vigilancia y seguridad\", \"Ferreteria\", \"Log\\u00edstica y transporte\", \"Gesti\\u00f3n inmobiliaria\", \"Imprenta y litograf\\u00eda\", \"Manufactura\", \"El\\u00e9ctricos y Electr\\u00f3nicos\", \"Moda y accesorios\", \"Mobiliario y decoraci\\u00f3n\", \"Medicina y Salud\", \"Viajes, Eventos y Entretenimiento\", \"Hogar y electrodom\\u00e9sticos\", \"Textiles\", \"Gesti\\u00f3n ambiental\", \"Salud y Medicina\", \"Compras Sostenibles\", \"Cuidado personal y Belleza\", \"Generaci\\u00f3n y distribuci\\u00f3n de Energ\\u00eda\", \"Deporte y recreaci\\u00f3n\", \"Miner\\u00eda\", \"Educaci\\u00f3n y formaci\\u00f3n empresarial\", \"Servicios P\\u00fablicos\", \"Agroindustrial\", \"Producci\\u00f3n audiovisual\"], \"xaxis\": \"x\", \"y\": [234476.0, 2763255.73, 2502.0, 27001.0, 298.5, 44667.700000000004, 322955.7, 17334.0, 100534.0, 206195.0, 437284.0, 1567.0, 149.0, 20672.0, 353.0, 11.0, 104419.0, 15020.0, 11760.0, 1050.0, 927.0, 30.0, 58.0, 276.0, 3570.0, 2912.0, 627.0, 975.0, 66.0, 5.0, 146.0, 7.0, 2.0, 82682.0, 256.0, 4.0], \"yaxis\": \"y\"}],                        {\"barmode\": \"relative\", \"legend\": {\"tracegroupgap\": 0}, \"margin\": {\"t\": 60}, \"template\": {\"data\": {\"bar\": [{\"error_x\": {\"color\": \"#2a3f5f\"}, \"error_y\": {\"color\": \"#2a3f5f\"}, \"marker\": {\"line\": {\"color\": \"#E5ECF6\", \"width\": 0.5}}, \"type\": \"bar\"}], \"barpolar\": [{\"marker\": {\"line\": {\"color\": \"#E5ECF6\", \"width\": 0.5}}, \"type\": \"barpolar\"}], \"carpet\": [{\"aaxis\": {\"endlinecolor\": \"#2a3f5f\", \"gridcolor\": \"white\", \"linecolor\": \"white\", \"minorgridcolor\": \"white\", \"startlinecolor\": \"#2a3f5f\"}, \"baxis\": {\"endlinecolor\": \"#2a3f5f\", \"gridcolor\": \"white\", \"linecolor\": \"white\", \"minorgridcolor\": \"white\", \"startlinecolor\": \"#2a3f5f\"}, \"type\": \"carpet\"}], \"choropleth\": [{\"colorbar\": {\"outlinewidth\": 0, \"ticks\": \"\"}, \"type\": \"choropleth\"}], \"contour\": [{\"colorbar\": {\"outlinewidth\": 0, \"ticks\": \"\"}, \"colorscale\": [[0.0, \"#0d0887\"], [0.1111111111111111, \"#46039f\"], [0.2222222222222222, \"#7201a8\"], [0.3333333333333333, \"#9c179e\"], [0.4444444444444444, \"#bd3786\"], [0.5555555555555556, \"#d8576b\"], [0.6666666666666666, \"#ed7953\"], [0.7777777777777778, \"#fb9f3a\"], [0.8888888888888888, \"#fdca26\"], [1.0, \"#f0f921\"]], \"type\": \"contour\"}], \"contourcarpet\": [{\"colorbar\": {\"outlinewidth\": 0, \"ticks\": \"\"}, \"type\": \"contourcarpet\"}], \"heatmap\": [{\"colorbar\": {\"outlinewidth\": 0, \"ticks\": \"\"}, \"colorscale\": [[0.0, \"#0d0887\"], [0.1111111111111111, \"#46039f\"], [0.2222222222222222, \"#7201a8\"], [0.3333333333333333, \"#9c179e\"], [0.4444444444444444, \"#bd3786\"], [0.5555555555555556, \"#d8576b\"], [0.6666666666666666, \"#ed7953\"], [0.7777777777777778, \"#fb9f3a\"], [0.8888888888888888, \"#fdca26\"], [1.0, \"#f0f921\"]], \"type\": \"heatmap\"}], \"heatmapgl\": [{\"colorbar\": {\"outlinewidth\": 0, \"ticks\": \"\"}, \"colorscale\": [[0.0, \"#0d0887\"], [0.1111111111111111, \"#46039f\"], [0.2222222222222222, \"#7201a8\"], [0.3333333333333333, \"#9c179e\"], [0.4444444444444444, \"#bd3786\"], [0.5555555555555556, \"#d8576b\"], [0.6666666666666666, \"#ed7953\"], [0.7777777777777778, \"#fb9f3a\"], [0.8888888888888888, \"#fdca26\"], [1.0, \"#f0f921\"]], \"type\": \"heatmapgl\"}], \"histogram\": [{\"marker\": {\"colorbar\": {\"outlinewidth\": 0, \"ticks\": \"\"}}, \"type\": \"histogram\"}], \"histogram2d\": [{\"colorbar\": {\"outlinewidth\": 0, \"ticks\": \"\"}, \"colorscale\": [[0.0, \"#0d0887\"], [0.1111111111111111, \"#46039f\"], [0.2222222222222222, \"#7201a8\"], [0.3333333333333333, \"#9c179e\"], [0.4444444444444444, \"#bd3786\"], [0.5555555555555556, \"#d8576b\"], [0.6666666666666666, \"#ed7953\"], [0.7777777777777778, \"#fb9f3a\"], [0.8888888888888888, \"#fdca26\"], [1.0, \"#f0f921\"]], \"type\": \"histogram2d\"}], \"histogram2dcontour\": [{\"colorbar\": {\"outlinewidth\": 0, \"ticks\": \"\"}, \"colorscale\": [[0.0, \"#0d0887\"], [0.1111111111111111, \"#46039f\"], [0.2222222222222222, \"#7201a8\"], [0.3333333333333333, \"#9c179e\"], [0.4444444444444444, \"#bd3786\"], [0.5555555555555556, \"#d8576b\"], [0.6666666666666666, \"#ed7953\"], [0.7777777777777778, \"#fb9f3a\"], [0.8888888888888888, \"#fdca26\"], [1.0, \"#f0f921\"]], \"type\": \"histogram2dcontour\"}], \"mesh3d\": [{\"colorbar\": {\"outlinewidth\": 0, \"ticks\": \"\"}, \"type\": \"mesh3d\"}], \"parcoords\": [{\"line\": {\"colorbar\": {\"outlinewidth\": 0, \"ticks\": \"\"}}, \"type\": \"parcoords\"}], \"pie\": [{\"automargin\": true, \"type\": \"pie\"}], \"scatter\": [{\"marker\": {\"colorbar\": {\"outlinewidth\": 0, \"ticks\": \"\"}}, \"type\": \"scatter\"}], \"scatter3d\": [{\"line\": {\"colorbar\": {\"outlinewidth\": 0, \"ticks\": \"\"}}, \"marker\": {\"colorbar\": {\"outlinewidth\": 0, \"ticks\": \"\"}}, \"type\": \"scatter3d\"}], \"scattercarpet\": [{\"marker\": {\"colorbar\": {\"outlinewidth\": 0, \"ticks\": \"\"}}, \"type\": \"scattercarpet\"}], \"scattergeo\": [{\"marker\": {\"colorbar\": {\"outlinewidth\": 0, \"ticks\": \"\"}}, \"type\": \"scattergeo\"}], \"scattergl\": [{\"marker\": {\"colorbar\": {\"outlinewidth\": 0, \"ticks\": \"\"}}, \"type\": \"scattergl\"}], \"scattermapbox\": [{\"marker\": {\"colorbar\": {\"outlinewidth\": 0, \"ticks\": \"\"}}, \"type\": \"scattermapbox\"}], \"scatterpolar\": [{\"marker\": {\"colorbar\": {\"outlinewidth\": 0, \"ticks\": \"\"}}, \"type\": \"scatterpolar\"}], \"scatterpolargl\": [{\"marker\": {\"colorbar\": {\"outlinewidth\": 0, \"ticks\": \"\"}}, \"type\": \"scatterpolargl\"}], \"scatterternary\": [{\"marker\": {\"colorbar\": {\"outlinewidth\": 0, \"ticks\": \"\"}}, \"type\": \"scatterternary\"}], \"surface\": [{\"colorbar\": {\"outlinewidth\": 0, \"ticks\": \"\"}, \"colorscale\": [[0.0, \"#0d0887\"], [0.1111111111111111, \"#46039f\"], [0.2222222222222222, \"#7201a8\"], [0.3333333333333333, \"#9c179e\"], [0.4444444444444444, \"#bd3786\"], [0.5555555555555556, \"#d8576b\"], [0.6666666666666666, \"#ed7953\"], [0.7777777777777778, \"#fb9f3a\"], [0.8888888888888888, \"#fdca26\"], [1.0, \"#f0f921\"]], \"type\": \"surface\"}], \"table\": [{\"cells\": {\"fill\": {\"color\": \"#EBF0F8\"}, \"line\": {\"color\": \"white\"}}, \"header\": {\"fill\": {\"color\": \"#C8D4E3\"}, \"line\": {\"color\": \"white\"}}, \"type\": \"table\"}]}, \"layout\": {\"annotationdefaults\": {\"arrowcolor\": \"#2a3f5f\", \"arrowhead\": 0, \"arrowwidth\": 1}, \"autotypenumbers\": \"strict\", \"coloraxis\": {\"colorbar\": {\"outlinewidth\": 0, \"ticks\": \"\"}}, \"colorscale\": {\"diverging\": [[0, \"#8e0152\"], [0.1, \"#c51b7d\"], [0.2, \"#de77ae\"], [0.3, \"#f1b6da\"], [0.4, \"#fde0ef\"], [0.5, \"#f7f7f7\"], [0.6, \"#e6f5d0\"], [0.7, \"#b8e186\"], [0.8, \"#7fbc41\"], [0.9, \"#4d9221\"], [1, \"#276419\"]], \"sequential\": [[0.0, \"#0d0887\"], [0.1111111111111111, \"#46039f\"], [0.2222222222222222, \"#7201a8\"], [0.3333333333333333, \"#9c179e\"], [0.4444444444444444, \"#bd3786\"], [0.5555555555555556, \"#d8576b\"], [0.6666666666666666, \"#ed7953\"], [0.7777777777777778, \"#fb9f3a\"], [0.8888888888888888, \"#fdca26\"], [1.0, \"#f0f921\"]], \"sequentialminus\": [[0.0, \"#0d0887\"], [0.1111111111111111, \"#46039f\"], [0.2222222222222222, \"#7201a8\"], [0.3333333333333333, \"#9c179e\"], [0.4444444444444444, \"#bd3786\"], [0.5555555555555556, \"#d8576b\"], [0.6666666666666666, \"#ed7953\"], [0.7777777777777778, \"#fb9f3a\"], [0.8888888888888888, \"#fdca26\"], [1.0, \"#f0f921\"]]}, \"colorway\": [\"#636efa\", \"#EF553B\", \"#00cc96\", \"#ab63fa\", \"#FFA15A\", \"#19d3f3\", \"#FF6692\", \"#B6E880\", \"#FF97FF\", \"#FECB52\"], \"font\": {\"color\": \"#2a3f5f\"}, \"geo\": {\"bgcolor\": \"white\", \"lakecolor\": \"white\", \"landcolor\": \"#E5ECF6\", \"showlakes\": true, \"showland\": true, \"subunitcolor\": \"white\"}, \"hoverlabel\": {\"align\": \"left\"}, \"hovermode\": \"closest\", \"mapbox\": {\"style\": \"light\"}, \"paper_bgcolor\": \"white\", \"plot_bgcolor\": \"#E5ECF6\", \"polar\": {\"angularaxis\": {\"gridcolor\": \"white\", \"linecolor\": \"white\", \"ticks\": \"\"}, \"bgcolor\": \"#E5ECF6\", \"radialaxis\": {\"gridcolor\": \"white\", \"linecolor\": \"white\", \"ticks\": \"\"}}, \"scene\": {\"xaxis\": {\"backgroundcolor\": \"#E5ECF6\", \"gridcolor\": \"white\", \"gridwidth\": 2, \"linecolor\": \"white\", \"showbackground\": true, \"ticks\": \"\", \"zerolinecolor\": \"white\"}, \"yaxis\": {\"backgroundcolor\": \"#E5ECF6\", \"gridcolor\": \"white\", \"gridwidth\": 2, \"linecolor\": \"white\", \"showbackground\": true, \"ticks\": \"\", \"zerolinecolor\": \"white\"}, \"zaxis\": {\"backgroundcolor\": \"#E5ECF6\", \"gridcolor\": \"white\", \"gridwidth\": 2, \"linecolor\": \"white\", \"showbackground\": true, \"ticks\": \"\", \"zerolinecolor\": \"white\"}}, \"shapedefaults\": {\"line\": {\"color\": \"#2a3f5f\"}}, \"ternary\": {\"aaxis\": {\"gridcolor\": \"white\", \"linecolor\": \"white\", \"ticks\": \"\"}, \"baxis\": {\"gridcolor\": \"white\", \"linecolor\": \"white\", \"ticks\": \"\"}, \"bgcolor\": \"#E5ECF6\", \"caxis\": {\"gridcolor\": \"white\", \"linecolor\": \"white\", \"ticks\": \"\"}}, \"title\": {\"x\": 0.05}, \"xaxis\": {\"automargin\": true, \"gridcolor\": \"white\", \"linecolor\": \"white\", \"ticks\": \"\", \"title\": {\"standoff\": 15}, \"zerolinecolor\": \"white\", \"zerolinewidth\": 2}, \"yaxis\": {\"automargin\": true, \"gridcolor\": \"white\", \"linecolor\": \"white\", \"ticks\": \"\", \"title\": {\"standoff\": 15}, \"zerolinecolor\": \"white\", \"zerolinewidth\": 2}}}, \"xaxis\": {\"anchor\": \"y\", \"domain\": [0.0, 1.0], \"title\": {\"text\": \"CATEGOR\\u00cdA\"}}, \"yaxis\": {\"anchor\": \"x\", \"domain\": [0.0, 1.0], \"title\": {\"text\": \"CANTIDAD_PEDIDA\"}}},                        {\"responsive\": true}                    )                };                            </script>        </div>\n</body>\n</html>",
       "datasetInfos": [],
       "metadata": {},
       "removedWidgets": [],
       "textData": null,
       "type": "htmlSandbox"
      }
     },
     "output_type": "display_data"
    }
   ],
   "source": [
    "px.bar(df_CAT, y='CANTIDAD_PEDIDA')"
   ]
  },
  {
   "cell_type": "markdown",
   "metadata": {
    "application/vnd.databricks.v1+cell": {
     "inputWidgets": {},
     "nuid": "2510145b-739f-4274-8942-835aa9e74cb4",
     "showTitle": false,
     "title": ""
    }
   },
   "source": [
    "### Top CATEGORIA"
   ]
  },
  {
   "cell_type": "code",
   "execution_count": 0,
   "metadata": {
    "application/vnd.databricks.v1+cell": {
     "inputWidgets": {},
     "nuid": "c177cd99-092f-404a-af78-83e22988349f",
     "showTitle": false,
     "title": ""
    }
   },
   "outputs": [
    {
     "data": {
      "text/html": [
       "<style scoped>\n",
       "  .ansiout {\n",
       "    display: block;\n",
       "    unicode-bidi: embed;\n",
       "    white-space: pre-wrap;\n",
       "    word-wrap: break-word;\n",
       "    word-break: break-all;\n",
       "    font-family: \"Source Code Pro\", \"Menlo\", monospace;;\n",
       "    font-size: 13px;\n",
       "    color: #555;\n",
       "    margin-left: 4px;\n",
       "    line-height: 19px;\n",
       "  }\n",
       "</style>\n",
       "<div class=\"ansiout\">Out[1092]: Alimentos y Bebidas                                          30.98\n",
       "Vigilancia y seguridad industrial                            27.01\n",
       "Aseo, Cafetería y Oficina                                    17.14\n",
       "Dotación y elementos de protección personal                   5.35\n",
       "Ferreteria                                                    3.53\n",
       "Almacenamiento y empaques                                     2.06\n",
       "Vehículos y repuestos                                         1.64\n",
       "Químicos y derivados                                          1.60\n",
       "Construcción y Mantenimiento                                  1.30\n",
       "Servicios Profesionales                                       1.10\n",
       "Mercadeo y publicidad                                         0.95\n",
       "Manufactura                                                   0.92\n",
       "Logística y transporte                                        0.84\n",
       "Eléctricos y Electrónicos                                     0.76\n",
       "Mobiliario y decoración                                       0.74\n",
       "Tecnología e información                                      0.69\n",
       "Textiles                                                      0.67\n",
       "Moda y accesorios                                             0.65\n",
       "Imprenta y litografía                                         0.43\n",
       "Ingeniería e Investigación                                    0.41\n",
       "Compras Sostenibles                                           0.21\n",
       "Gestión ambiental                                             0.19\n",
       "Salud y Medicina                                              0.19\n",
       "Hogar y electrodomésticos                                     0.15\n",
       "Vigilancia y seguridad                                        0.13\n",
       "Viajes, Eventos y Entretenimiento                             0.08\n",
       "Medicina y Salud                                              0.06\n",
       "Cuidado personal y Belleza                                    0.04\n",
       "Deporte y recreación                                          0.03\n",
       "Servicios Públicos                                            0.03\n",
       "Agroindustrial                                                0.02\n",
       "Minería                                                       0.02\n",
       "Generación y distribución de Energía                          0.02\n",
       "Gestión inmobiliaria                                          0.02\n",
       "Producción audiovisual                                        0.00\n",
       "Educación y formación empresarial                             0.00\n",
       "Name: CATEGORÍA, dtype: float64</div>"
      ]
     },
     "metadata": {
      "application/vnd.databricks.v1+output": {
       "addedWidgets": {},
       "arguments": {},
       "data": "<div class=\"ansiout\">Out[1092]: Alimentos y Bebidas                                          30.98\nVigilancia y seguridad industrial                            27.01\nAseo, Cafetería y Oficina                                    17.14\nDotación y elementos de protección personal                   5.35\nFerreteria                                                    3.53\nAlmacenamiento y empaques                                     2.06\nVehículos y repuestos                                         1.64\nQuímicos y derivados                                          1.60\nConstrucción y Mantenimiento                                  1.30\nServicios Profesionales                                       1.10\nMercadeo y publicidad                                         0.95\nManufactura                                                   0.92\nLogística y transporte                                        0.84\nEléctricos y Electrónicos                                     0.76\nMobiliario y decoración                                       0.74\nTecnología e información                                      0.69\nTextiles                                                      0.67\nModa y accesorios                                             0.65\nImprenta y litografía                                         0.43\nIngeniería e Investigación                                    0.41\nCompras Sostenibles                                           0.21\nGestión ambiental                                             0.19\nSalud y Medicina                                              0.19\nHogar y electrodomésticos                                     0.15\nVigilancia y seguridad                                        0.13\nViajes, Eventos y Entretenimiento                             0.08\nMedicina y Salud                                              0.06\nCuidado personal y Belleza                                    0.04\nDeporte y recreación                                          0.03\nServicios Públicos                                            0.03\nAgroindustrial                                                0.02\nMinería                                                       0.02\nGeneración y distribución de Energía                          0.02\nGestión inmobiliaria                                          0.02\nProducción audiovisual                                        0.00\nEducación y formación empresarial                             0.00\nName: CATEGORÍA, dtype: float64</div>",
       "datasetInfos": [],
       "metadata": {},
       "removedWidgets": [],
       "type": "html"
      }
     },
     "output_type": "display_data"
    }
   ],
   "source": [
    "df_CAT = df['CATEGORÍA'].value_counts()/len(df['CATEGORÍA'])*100\n",
    "df_CAT"
   ]
  },
  {
   "cell_type": "code",
   "execution_count": 0,
   "metadata": {
    "application/vnd.databricks.v1+cell": {
     "inputWidgets": {},
     "nuid": "02f2b040-0ec5-4754-ba74-a1a5439acedb",
     "showTitle": false,
     "title": ""
    }
   },
   "outputs": [
    {
     "data": {
      "text/html": [
       "<style scoped>\n",
       "  .ansiout {\n",
       "    display: block;\n",
       "    unicode-bidi: embed;\n",
       "    white-space: pre-wrap;\n",
       "    word-wrap: break-word;\n",
       "    word-break: break-all;\n",
       "    font-family: \"Source Code Pro\", \"Menlo\", monospace;;\n",
       "    font-size: 13px;\n",
       "    color: #555;\n",
       "    margin-left: 4px;\n",
       "    line-height: 19px;\n",
       "  }\n",
       "</style>\n",
       "<div class=\"ansiout\">4 80.49303322615219\n",
       "</div>"
      ]
     },
     "metadata": {
      "application/vnd.databricks.v1+output": {
       "addedWidgets": {},
       "arguments": {},
       "data": "<div class=\"ansiout\">4 80.49303322615219\n</div>",
       "datasetInfos": [],
       "metadata": {},
       "removedWidgets": [],
       "type": "html"
      }
     },
     "output_type": "display_data"
    }
   ],
   "source": [
    "acum_conteo = 0\n",
    "for i in range (0, len(df_CAT)):\n",
    "    acum = df_CAT.iloc[i]\n",
    "    acum_conteo += acum\n",
    "    if acum_conteo > 80:\n",
    "        break\n",
    "    if i == 5:\n",
    "        break\n",
    "print(i+1, acum_conteo)"
   ]
  },
  {
   "cell_type": "code",
   "execution_count": 0,
   "metadata": {
    "application/vnd.databricks.v1+cell": {
     "inputWidgets": {},
     "nuid": "35b76b3e-62cd-4552-8958-ded7c49033e9",
     "showTitle": false,
     "title": ""
    }
   },
   "outputs": [
    {
     "data": {
      "text/html": [
       "<style scoped>\n",
       "  .ansiout {\n",
       "    display: block;\n",
       "    unicode-bidi: embed;\n",
       "    white-space: pre-wrap;\n",
       "    word-wrap: break-word;\n",
       "    word-break: break-all;\n",
       "    font-family: \"Source Code Pro\", \"Menlo\", monospace;;\n",
       "    font-size: 13px;\n",
       "    color: #555;\n",
       "    margin-left: 4px;\n",
       "    line-height: 19px;\n",
       "  }\n",
       "</style>\n",
       "<div class=\"ansiout\">Out[1094]: [&#39;Alimentos y Bebidas&#39;,\n",
       " &#39;Vigilancia y seguridad industrial&#39;,\n",
       " &#39;Aseo, Cafetería y Oficina&#39;,\n",
       " &#39;Dotación y elementos de protección personal&#39;]</div>"
      ]
     },
     "metadata": {
      "application/vnd.databricks.v1+output": {
       "addedWidgets": {},
       "arguments": {},
       "data": "<div class=\"ansiout\">Out[1094]: [&#39;Alimentos y Bebidas&#39;,\n &#39;Vigilancia y seguridad industrial&#39;,\n &#39;Aseo, Cafetería y Oficina&#39;,\n &#39;Dotación y elementos de protección personal&#39;]</div>",
       "datasetInfos": [],
       "metadata": {},
       "removedWidgets": [],
       "type": "html"
      }
     },
     "output_type": "display_data"
    }
   ],
   "source": [
    "top_categoria = df_CAT.index[0:i+1].tolist()\n",
    "top_categoria"
   ]
  },
  {
   "cell_type": "code",
   "execution_count": 0,
   "metadata": {
    "application/vnd.databricks.v1+cell": {
     "inputWidgets": {},
     "nuid": "c193c891-f74b-42d9-ba7e-5b4f74fa698c",
     "showTitle": false,
     "title": ""
    }
   },
   "outputs": [
    {
     "data": {
      "text/html": [
       "<style scoped>\n",
       "  .ansiout {\n",
       "    display: block;\n",
       "    unicode-bidi: embed;\n",
       "    white-space: pre-wrap;\n",
       "    word-wrap: break-word;\n",
       "    word-break: break-all;\n",
       "    font-family: \"Source Code Pro\", \"Menlo\", monospace;;\n",
       "    font-size: 13px;\n",
       "    color: #555;\n",
       "    margin-left: 4px;\n",
       "    line-height: 19px;\n",
       "  }\n",
       "</style>\n",
       "<div class=\"ansiout\"></div>"
      ]
     },
     "metadata": {
      "application/vnd.databricks.v1+output": {
       "addedWidgets": {},
       "arguments": {},
       "data": "<div class=\"ansiout\"></div>",
       "datasetInfos": [],
       "metadata": {},
       "removedWidgets": [],
       "type": "html"
      }
     },
     "output_type": "display_data"
    }
   ],
   "source": [
    "df.loc[~df['CATEGORÍA'].isin(top_categoria), 'CATEGORÍA'] =  'Otros'"
   ]
  },
  {
   "cell_type": "code",
   "execution_count": 0,
   "metadata": {
    "application/vnd.databricks.v1+cell": {
     "inputWidgets": {},
     "nuid": "2dfb83c4-1708-465c-aa09-77e0468d509e",
     "showTitle": false,
     "title": ""
    }
   },
   "outputs": [
    {
     "data": {
      "text/html": [
       "<style scoped>\n",
       "  .ansiout {\n",
       "    display: block;\n",
       "    unicode-bidi: embed;\n",
       "    white-space: pre-wrap;\n",
       "    word-wrap: break-word;\n",
       "    word-break: break-all;\n",
       "    font-family: \"Source Code Pro\", \"Menlo\", monospace;;\n",
       "    font-size: 13px;\n",
       "    color: #555;\n",
       "    margin-left: 4px;\n",
       "    line-height: 19px;\n",
       "  }\n",
       "</style>\n",
       "<div class=\"ansiout\">Out[1096]: </div>"
      ]
     },
     "metadata": {
      "application/vnd.databricks.v1+output": {
       "addedWidgets": {},
       "arguments": {},
       "data": "<div class=\"ansiout\">Out[1096]: </div>",
       "datasetInfos": [],
       "metadata": {},
       "removedWidgets": [],
       "type": "html"
      }
     },
     "output_type": "display_data"
    },
    {
     "data": {
      "text/html": [
       "<div>\n",
       "<style scoped>\n",
       "    .dataframe tbody tr th:only-of-type {\n",
       "        vertical-align: middle;\n",
       "    }\n",
       "\n",
       "    .dataframe tbody tr th {\n",
       "        vertical-align: top;\n",
       "    }\n",
       "\n",
       "    .dataframe thead th {\n",
       "        text-align: right;\n",
       "    }\n",
       "</style>\n",
       "<table border=\"1\" class=\"dataframe\">\n",
       "  <thead>\n",
       "    <tr style=\"text-align: right;\">\n",
       "      <th></th>\n",
       "      <th>FECHA_ORDEN</th>\n",
       "      <th>CATEGORÍA</th>\n",
       "      <th>SUBCATEGORIA</th>\n",
       "      <th>PROVEEDOR</th>\n",
       "      <th>PORTAL</th>\n",
       "      <th>ESTADO</th>\n",
       "      <th>PRODUCTO_O_SERVICIO</th>\n",
       "      <th>CANTIDAD_PEDIDA</th>\n",
       "      <th>CANTIDAD_RECIBIDA</th>\n",
       "      <th>PRECIO_UNITARIO</th>\n",
       "      <th>IVA</th>\n",
       "      <th>TOTAL_SIN_IVA</th>\n",
       "    </tr>\n",
       "  </thead>\n",
       "  <tbody>\n",
       "    <tr>\n",
       "      <th>0</th>\n",
       "      <td>2021-11-10</td>\n",
       "      <td>Otros</td>\n",
       "      <td>Lámparas y bombillas y componentes para lámparas</td>\n",
       "      <td>Proveedor 1</td>\n",
       "      <td>Portal comprador 1</td>\n",
       "      <td>Orden en Proceso</td>\n",
       "      <td>PANEL LED SOBREPONER 24W REDONDO LUZ BLANCA</td>\n",
       "      <td>2.00</td>\n",
       "      <td>0.00</td>\n",
       "      <td>23,364.00</td>\n",
       "      <td>4,439.00</td>\n",
       "      <td>46,728.00</td>\n",
       "    </tr>\n",
       "    <tr>\n",
       "      <th>1</th>\n",
       "      <td>2021-11-10</td>\n",
       "      <td>Otros</td>\n",
       "      <td>Publicidad</td>\n",
       "      <td>Proveedor 2</td>\n",
       "      <td>Portal comprador 1</td>\n",
       "      <td>Recibido</td>\n",
       "      <td>ACTIVIDADES COMERCIALES</td>\n",
       "      <td>1.00</td>\n",
       "      <td>1.00</td>\n",
       "      <td>1,476,972.00</td>\n",
       "      <td>280,625.00</td>\n",
       "      <td>1,476,972.00</td>\n",
       "    </tr>\n",
       "    <tr>\n",
       "      <th>2</th>\n",
       "      <td>2021-11-10</td>\n",
       "      <td>Alimentos y Bebidas</td>\n",
       "      <td>Alimentos preparados y conservados</td>\n",
       "      <td>Proveedor 3</td>\n",
       "      <td>Portal comprador 1</td>\n",
       "      <td>Orden en Proceso</td>\n",
       "      <td>Lasagna</td>\n",
       "      <td>10.00</td>\n",
       "      <td>0.00</td>\n",
       "      <td>15,500.00</td>\n",
       "      <td>0.00</td>\n",
       "      <td>155,000.00</td>\n",
       "    </tr>\n",
       "    <tr>\n",
       "      <th>3</th>\n",
       "      <td>2021-11-10</td>\n",
       "      <td>Alimentos y Bebidas</td>\n",
       "      <td>Productos de carne y aves de corral</td>\n",
       "      <td>Proveedor 4</td>\n",
       "      <td>Portal comprador 2</td>\n",
       "      <td>Orden en Proceso</td>\n",
       "      <td>Pecho de Res Limpio/Sin Grasa</td>\n",
       "      <td>50.00</td>\n",
       "      <td>0.00</td>\n",
       "      <td>22,000.00</td>\n",
       "      <td>0.00</td>\n",
       "      <td>1,100,000.00</td>\n",
       "    </tr>\n",
       "    <tr>\n",
       "      <th>4</th>\n",
       "      <td>2021-11-10</td>\n",
       "      <td>Otros</td>\n",
       "      <td>Otra</td>\n",
       "      <td>Proveedor 5</td>\n",
       "      <td>Portal comprador 3</td>\n",
       "      <td>Recibido</td>\n",
       "      <td>LIBRO CABEZA, CORAZON Y MANOS</td>\n",
       "      <td>7.00</td>\n",
       "      <td>7.00</td>\n",
       "      <td>92,084.00</td>\n",
       "      <td>17,496.00</td>\n",
       "      <td>644,588.00</td>\n",
       "    </tr>\n",
       "  </tbody>\n",
       "</table>\n",
       "</div>"
      ]
     },
     "metadata": {
      "application/vnd.databricks.v1+output": {
       "addedWidgets": {},
       "arguments": {},
       "data": "<div>\n<style scoped>\n    .dataframe tbody tr th:only-of-type {\n        vertical-align: middle;\n    }\n\n    .dataframe tbody tr th {\n        vertical-align: top;\n    }\n\n    .dataframe thead th {\n        text-align: right;\n    }\n</style>\n<table border=\"1\" class=\"dataframe\">\n  <thead>\n    <tr style=\"text-align: right;\">\n      <th></th>\n      <th>FECHA_ORDEN</th>\n      <th>CATEGORÍA</th>\n      <th>SUBCATEGORIA</th>\n      <th>PROVEEDOR</th>\n      <th>PORTAL</th>\n      <th>ESTADO</th>\n      <th>PRODUCTO_O_SERVICIO</th>\n      <th>CANTIDAD_PEDIDA</th>\n      <th>CANTIDAD_RECIBIDA</th>\n      <th>PRECIO_UNITARIO</th>\n      <th>IVA</th>\n      <th>TOTAL_SIN_IVA</th>\n    </tr>\n  </thead>\n  <tbody>\n    <tr>\n      <th>0</th>\n      <td>2021-11-10</td>\n      <td>Otros</td>\n      <td>Lámparas y bombillas y componentes para lámparas</td>\n      <td>Proveedor 1</td>\n      <td>Portal comprador 1</td>\n      <td>Orden en Proceso</td>\n      <td>PANEL LED SOBREPONER 24W REDONDO LUZ BLANCA</td>\n      <td>2.00</td>\n      <td>0.00</td>\n      <td>23,364.00</td>\n      <td>4,439.00</td>\n      <td>46,728.00</td>\n    </tr>\n    <tr>\n      <th>1</th>\n      <td>2021-11-10</td>\n      <td>Otros</td>\n      <td>Publicidad</td>\n      <td>Proveedor 2</td>\n      <td>Portal comprador 1</td>\n      <td>Recibido</td>\n      <td>ACTIVIDADES COMERCIALES</td>\n      <td>1.00</td>\n      <td>1.00</td>\n      <td>1,476,972.00</td>\n      <td>280,625.00</td>\n      <td>1,476,972.00</td>\n    </tr>\n    <tr>\n      <th>2</th>\n      <td>2021-11-10</td>\n      <td>Alimentos y Bebidas</td>\n      <td>Alimentos preparados y conservados</td>\n      <td>Proveedor 3</td>\n      <td>Portal comprador 1</td>\n      <td>Orden en Proceso</td>\n      <td>Lasagna</td>\n      <td>10.00</td>\n      <td>0.00</td>\n      <td>15,500.00</td>\n      <td>0.00</td>\n      <td>155,000.00</td>\n    </tr>\n    <tr>\n      <th>3</th>\n      <td>2021-11-10</td>\n      <td>Alimentos y Bebidas</td>\n      <td>Productos de carne y aves de corral</td>\n      <td>Proveedor 4</td>\n      <td>Portal comprador 2</td>\n      <td>Orden en Proceso</td>\n      <td>Pecho de Res Limpio/Sin Grasa</td>\n      <td>50.00</td>\n      <td>0.00</td>\n      <td>22,000.00</td>\n      <td>0.00</td>\n      <td>1,100,000.00</td>\n    </tr>\n    <tr>\n      <th>4</th>\n      <td>2021-11-10</td>\n      <td>Otros</td>\n      <td>Otra</td>\n      <td>Proveedor 5</td>\n      <td>Portal comprador 3</td>\n      <td>Recibido</td>\n      <td>LIBRO CABEZA, CORAZON Y MANOS</td>\n      <td>7.00</td>\n      <td>7.00</td>\n      <td>92,084.00</td>\n      <td>17,496.00</td>\n      <td>644,588.00</td>\n    </tr>\n  </tbody>\n</table>\n</div>",
       "datasetInfos": [],
       "metadata": {},
       "removedWidgets": [],
       "textData": null,
       "type": "htmlSandbox"
      }
     },
     "output_type": "display_data"
    }
   ],
   "source": [
    "df.head()"
   ]
  },
  {
   "cell_type": "code",
   "execution_count": 0,
   "metadata": {
    "application/vnd.databricks.v1+cell": {
     "inputWidgets": {},
     "nuid": "b2f65521-bc90-43d7-869d-b0ab02499228",
     "showTitle": false,
     "title": ""
    }
   },
   "outputs": [
    {
     "data": {
      "text/html": [
       "<style scoped>\n",
       "  .ansiout {\n",
       "    display: block;\n",
       "    unicode-bidi: embed;\n",
       "    white-space: pre-wrap;\n",
       "    word-wrap: break-word;\n",
       "    word-break: break-all;\n",
       "    font-family: \"Source Code Pro\", \"Menlo\", monospace;;\n",
       "    font-size: 13px;\n",
       "    color: #555;\n",
       "    margin-left: 4px;\n",
       "    line-height: 19px;\n",
       "  }\n",
       "</style>\n",
       "<div class=\"ansiout\">Out[1097]: Alimentos y Bebidas                            6938\n",
       "Vigilancia y seguridad industrial              6049\n",
       "Otros                                          4368\n",
       "Aseo, Cafetería y Oficina                      3838\n",
       "Dotación y elementos de protección personal    1199\n",
       "Name: CATEGORÍA, dtype: int64</div>"
      ]
     },
     "metadata": {
      "application/vnd.databricks.v1+output": {
       "addedWidgets": {},
       "arguments": {},
       "data": "<div class=\"ansiout\">Out[1097]: Alimentos y Bebidas                            6938\nVigilancia y seguridad industrial              6049\nOtros                                          4368\nAseo, Cafetería y Oficina                      3838\nDotación y elementos de protección personal    1199\nName: CATEGORÍA, dtype: int64</div>",
       "datasetInfos": [],
       "metadata": {},
       "removedWidgets": [],
       "type": "html"
      }
     },
     "output_type": "display_data"
    }
   ],
   "source": [
    "df['CATEGORÍA'].value_counts()"
   ]
  },
  {
   "cell_type": "markdown",
   "metadata": {
    "application/vnd.databricks.v1+cell": {
     "inputWidgets": {},
     "nuid": "29c69f17-dc73-4a01-bf3f-ba94f860045b",
     "showTitle": false,
     "title": ""
    }
   },
   "source": [
    "### Top  SUBCATEGORIA"
   ]
  },
  {
   "cell_type": "code",
   "execution_count": 0,
   "metadata": {
    "application/vnd.databricks.v1+cell": {
     "inputWidgets": {},
     "nuid": "52d7c3b2-01b6-498c-813f-679a59c635bd",
     "showTitle": false,
     "title": ""
    }
   },
   "outputs": [
    {
     "data": {
      "text/html": [
       "<style scoped>\n",
       "  .ansiout {\n",
       "    display: block;\n",
       "    unicode-bidi: embed;\n",
       "    white-space: pre-wrap;\n",
       "    word-wrap: break-word;\n",
       "    word-break: break-all;\n",
       "    font-family: \"Source Code Pro\", \"Menlo\", monospace;;\n",
       "    font-size: 13px;\n",
       "    color: #555;\n",
       "    margin-left: 4px;\n",
       "    line-height: 19px;\n",
       "  }\n",
       "</style>\n",
       "<div class=\"ansiout\">Out[1098]: Seguridad y protección personal                            27.00\n",
       "Alimentos preparados y conservados                         10.01\n",
       "Elementos de aseo y limpieza                                8.92\n",
       "Elementos de papelería                                      7.23\n",
       "Bebidas                                                     5.93\n",
       "                                                    ...         \n",
       "Joyería                                                     0.00\n",
       "Componentes pasivos discretos                               0.00\n",
       "Medios impresos                                             0.00\n",
       "Instalaciones de tubos y tuberías                           0.00\n",
       "Extracción y producción de gas y petróleo                   0.00\n",
       "Name: SUBCATEGORIA, Length: 149, dtype: float64</div>"
      ]
     },
     "metadata": {
      "application/vnd.databricks.v1+output": {
       "addedWidgets": {},
       "arguments": {},
       "data": "<div class=\"ansiout\">Out[1098]: Seguridad y protección personal                            27.00\nAlimentos preparados y conservados                         10.01\nElementos de aseo y limpieza                                8.92\nElementos de papelería                                      7.23\nBebidas                                                     5.93\n                                                    ...         \nJoyería                                                     0.00\nComponentes pasivos discretos                               0.00\nMedios impresos                                             0.00\nInstalaciones de tubos y tuberías                           0.00\nExtracción y producción de gas y petróleo                   0.00\nName: SUBCATEGORIA, Length: 149, dtype: float64</div>",
       "datasetInfos": [],
       "metadata": {},
       "removedWidgets": [],
       "type": "html"
      }
     },
     "output_type": "display_data"
    }
   ],
   "source": [
    "df_SUBCAT = df['SUBCATEGORIA'].value_counts()/len(df['SUBCATEGORIA'])*100\n",
    "df_SUBCAT"
   ]
  },
  {
   "cell_type": "code",
   "execution_count": 0,
   "metadata": {
    "application/vnd.databricks.v1+cell": {
     "inputWidgets": {},
     "nuid": "6f0f62b9-1c80-48cf-9cc6-e5b19db1b5e1",
     "showTitle": false,
     "title": ""
    }
   },
   "outputs": [
    {
     "data": {
      "text/html": [
       "<style scoped>\n",
       "  .ansiout {\n",
       "    display: block;\n",
       "    unicode-bidi: embed;\n",
       "    white-space: pre-wrap;\n",
       "    word-wrap: break-word;\n",
       "    word-break: break-all;\n",
       "    font-family: \"Source Code Pro\", \"Menlo\", monospace;;\n",
       "    font-size: 13px;\n",
       "    color: #555;\n",
       "    margin-left: 4px;\n",
       "    line-height: 19px;\n",
       "  }\n",
       "</style>\n",
       "<div class=\"ansiout\">7 68.359235441229\n",
       "</div>"
      ]
     },
     "metadata": {
      "application/vnd.databricks.v1+output": {
       "addedWidgets": {},
       "arguments": {},
       "data": "<div class=\"ansiout\">7 68.359235441229\n</div>",
       "datasetInfos": [],
       "metadata": {},
       "removedWidgets": [],
       "type": "html"
      }
     },
     "output_type": "display_data"
    }
   ],
   "source": [
    "acum_conteo = 0\n",
    "for i in range (0, len(df_SUBCAT)):\n",
    "    acum = df_SUBCAT.iloc[i]\n",
    "    acum_conteo += acum\n",
    "    if acum_conteo > 80:\n",
    "        break\n",
    "    if i == 7:\n",
    "        break\n",
    "print(i, acum_conteo)"
   ]
  },
  {
   "cell_type": "code",
   "execution_count": 0,
   "metadata": {
    "application/vnd.databricks.v1+cell": {
     "inputWidgets": {},
     "nuid": "6357286d-a353-432a-bf86-b7b45a115bc7",
     "showTitle": false,
     "title": ""
    }
   },
   "outputs": [
    {
     "data": {
      "text/html": [
       "<style scoped>\n",
       "  .ansiout {\n",
       "    display: block;\n",
       "    unicode-bidi: embed;\n",
       "    white-space: pre-wrap;\n",
       "    word-wrap: break-word;\n",
       "    word-break: break-all;\n",
       "    font-family: \"Source Code Pro\", \"Menlo\", monospace;;\n",
       "    font-size: 13px;\n",
       "    color: #555;\n",
       "    margin-left: 4px;\n",
       "    line-height: 19px;\n",
       "  }\n",
       "</style>\n",
       "<div class=\"ansiout\">Out[1100]: [&#39;Seguridad y protección personal&#39;,\n",
       " &#39;Alimentos preparados y conservados&#39;,\n",
       " &#39;Elementos de aseo y limpieza&#39;,\n",
       " &#39;Elementos de papelería&#39;,\n",
       " &#39;Bebidas&#39;,\n",
       " &#39;Productos de carne y aves de corral&#39;,\n",
       " &#39;Productos lácteos y huevos&#39;]</div>"
      ]
     },
     "metadata": {
      "application/vnd.databricks.v1+output": {
       "addedWidgets": {},
       "arguments": {},
       "data": "<div class=\"ansiout\">Out[1100]: [&#39;Seguridad y protección personal&#39;,\n &#39;Alimentos preparados y conservados&#39;,\n &#39;Elementos de aseo y limpieza&#39;,\n &#39;Elementos de papelería&#39;,\n &#39;Bebidas&#39;,\n &#39;Productos de carne y aves de corral&#39;,\n &#39;Productos lácteos y huevos&#39;]</div>",
       "datasetInfos": [],
       "metadata": {},
       "removedWidgets": [],
       "type": "html"
      }
     },
     "output_type": "display_data"
    }
   ],
   "source": [
    "top_subcategoria = df_SUBCAT.index[0:i].tolist()\n",
    "top_subcategoria"
   ]
  },
  {
   "cell_type": "code",
   "execution_count": 0,
   "metadata": {
    "application/vnd.databricks.v1+cell": {
     "inputWidgets": {},
     "nuid": "4b872776-1a24-4f0b-80b7-b9749c541c6f",
     "showTitle": false,
     "title": ""
    }
   },
   "outputs": [
    {
     "data": {
      "text/html": [
       "<style scoped>\n",
       "  .ansiout {\n",
       "    display: block;\n",
       "    unicode-bidi: embed;\n",
       "    white-space: pre-wrap;\n",
       "    word-wrap: break-word;\n",
       "    word-break: break-all;\n",
       "    font-family: \"Source Code Pro\", \"Menlo\", monospace;;\n",
       "    font-size: 13px;\n",
       "    color: #555;\n",
       "    margin-left: 4px;\n",
       "    line-height: 19px;\n",
       "  }\n",
       "</style>\n",
       "<div class=\"ansiout\"></div>"
      ]
     },
     "metadata": {
      "application/vnd.databricks.v1+output": {
       "addedWidgets": {},
       "arguments": {},
       "data": "<div class=\"ansiout\"></div>",
       "datasetInfos": [],
       "metadata": {},
       "removedWidgets": [],
       "type": "html"
      }
     },
     "output_type": "display_data"
    }
   ],
   "source": [
    "df.loc[~df['SUBCATEGORIA'].isin(top_subcategoria), 'SUBCATEGORIA'] =  'Otros'"
   ]
  },
  {
   "cell_type": "code",
   "execution_count": 0,
   "metadata": {
    "application/vnd.databricks.v1+cell": {
     "inputWidgets": {},
     "nuid": "0e3bc399-6609-4c65-9fce-045e85be20ea",
     "showTitle": false,
     "title": ""
    }
   },
   "outputs": [
    {
     "data": {
      "text/html": [
       "<style scoped>\n",
       "  .ansiout {\n",
       "    display: block;\n",
       "    unicode-bidi: embed;\n",
       "    white-space: pre-wrap;\n",
       "    word-wrap: break-word;\n",
       "    word-break: break-all;\n",
       "    font-family: \"Source Code Pro\", \"Menlo\", monospace;;\n",
       "    font-size: 13px;\n",
       "    color: #555;\n",
       "    margin-left: 4px;\n",
       "    line-height: 19px;\n",
       "  }\n",
       "</style>\n",
       "<div class=\"ansiout\">Out[1102]: Otros                                  7657\n",
       "Seguridad y protección personal        6045\n",
       "Alimentos preparados y conservados     2241\n",
       "Elementos de aseo y limpieza           1997\n",
       "Elementos de papelería                 1618\n",
       "Bebidas                                1327\n",
       "Productos de carne y aves de corral     787\n",
       "Productos lácteos y huevos              720\n",
       "Name: SUBCATEGORIA, dtype: int64</div>"
      ]
     },
     "metadata": {
      "application/vnd.databricks.v1+output": {
       "addedWidgets": {},
       "arguments": {},
       "data": "<div class=\"ansiout\">Out[1102]: Otros                                  7657\nSeguridad y protección personal        6045\nAlimentos preparados y conservados     2241\nElementos de aseo y limpieza           1997\nElementos de papelería                 1618\nBebidas                                1327\nProductos de carne y aves de corral     787\nProductos lácteos y huevos              720\nName: SUBCATEGORIA, dtype: int64</div>",
       "datasetInfos": [],
       "metadata": {},
       "removedWidgets": [],
       "type": "html"
      }
     },
     "output_type": "display_data"
    }
   ],
   "source": [
    "df['SUBCATEGORIA'].value_counts()"
   ]
  },
  {
   "cell_type": "code",
   "execution_count": 0,
   "metadata": {
    "application/vnd.databricks.v1+cell": {
     "inputWidgets": {},
     "nuid": "bc3c57b0-fc85-45c7-bd4e-9e164937dea8",
     "showTitle": false,
     "title": ""
    }
   },
   "outputs": [
    {
     "data": {
      "text/html": [
       "<style scoped>\n",
       "  .ansiout {\n",
       "    display: block;\n",
       "    unicode-bidi: embed;\n",
       "    white-space: pre-wrap;\n",
       "    word-wrap: break-word;\n",
       "    word-break: break-all;\n",
       "    font-family: \"Source Code Pro\", \"Menlo\", monospace;;\n",
       "    font-size: 13px;\n",
       "    color: #555;\n",
       "    margin-left: 4px;\n",
       "    line-height: 19px;\n",
       "  }\n",
       "</style>\n",
       "<div class=\"ansiout\">Out[1103]: </div>"
      ]
     },
     "metadata": {
      "application/vnd.databricks.v1+output": {
       "addedWidgets": {},
       "arguments": {},
       "data": "<div class=\"ansiout\">Out[1103]: </div>",
       "datasetInfos": [],
       "metadata": {},
       "removedWidgets": [],
       "type": "html"
      }
     },
     "output_type": "display_data"
    },
    {
     "data": {
      "text/html": [
       "<div>\n",
       "<style scoped>\n",
       "    .dataframe tbody tr th:only-of-type {\n",
       "        vertical-align: middle;\n",
       "    }\n",
       "\n",
       "    .dataframe tbody tr th {\n",
       "        vertical-align: top;\n",
       "    }\n",
       "\n",
       "    .dataframe thead th {\n",
       "        text-align: right;\n",
       "    }\n",
       "</style>\n",
       "<table border=\"1\" class=\"dataframe\">\n",
       "  <thead>\n",
       "    <tr style=\"text-align: right;\">\n",
       "      <th></th>\n",
       "      <th>FECHA_ORDEN</th>\n",
       "      <th>CATEGORÍA</th>\n",
       "      <th>SUBCATEGORIA</th>\n",
       "      <th>PROVEEDOR</th>\n",
       "      <th>PORTAL</th>\n",
       "      <th>ESTADO</th>\n",
       "      <th>PRODUCTO_O_SERVICIO</th>\n",
       "      <th>CANTIDAD_PEDIDA</th>\n",
       "      <th>CANTIDAD_RECIBIDA</th>\n",
       "      <th>PRECIO_UNITARIO</th>\n",
       "      <th>IVA</th>\n",
       "      <th>TOTAL_SIN_IVA</th>\n",
       "    </tr>\n",
       "  </thead>\n",
       "  <tbody>\n",
       "    <tr>\n",
       "      <th>0</th>\n",
       "      <td>2021-11-10</td>\n",
       "      <td>Otros</td>\n",
       "      <td>Otros</td>\n",
       "      <td>Proveedor 1</td>\n",
       "      <td>Portal comprador 1</td>\n",
       "      <td>Orden en Proceso</td>\n",
       "      <td>PANEL LED SOBREPONER 24W REDONDO LUZ BLANCA</td>\n",
       "      <td>2.00</td>\n",
       "      <td>0.00</td>\n",
       "      <td>23,364.00</td>\n",
       "      <td>4,439.00</td>\n",
       "      <td>46,728.00</td>\n",
       "    </tr>\n",
       "    <tr>\n",
       "      <th>1</th>\n",
       "      <td>2021-11-10</td>\n",
       "      <td>Otros</td>\n",
       "      <td>Otros</td>\n",
       "      <td>Proveedor 2</td>\n",
       "      <td>Portal comprador 1</td>\n",
       "      <td>Recibido</td>\n",
       "      <td>ACTIVIDADES COMERCIALES</td>\n",
       "      <td>1.00</td>\n",
       "      <td>1.00</td>\n",
       "      <td>1,476,972.00</td>\n",
       "      <td>280,625.00</td>\n",
       "      <td>1,476,972.00</td>\n",
       "    </tr>\n",
       "    <tr>\n",
       "      <th>2</th>\n",
       "      <td>2021-11-10</td>\n",
       "      <td>Alimentos y Bebidas</td>\n",
       "      <td>Alimentos preparados y conservados</td>\n",
       "      <td>Proveedor 3</td>\n",
       "      <td>Portal comprador 1</td>\n",
       "      <td>Orden en Proceso</td>\n",
       "      <td>Lasagna</td>\n",
       "      <td>10.00</td>\n",
       "      <td>0.00</td>\n",
       "      <td>15,500.00</td>\n",
       "      <td>0.00</td>\n",
       "      <td>155,000.00</td>\n",
       "    </tr>\n",
       "    <tr>\n",
       "      <th>3</th>\n",
       "      <td>2021-11-10</td>\n",
       "      <td>Alimentos y Bebidas</td>\n",
       "      <td>Productos de carne y aves de corral</td>\n",
       "      <td>Proveedor 4</td>\n",
       "      <td>Portal comprador 2</td>\n",
       "      <td>Orden en Proceso</td>\n",
       "      <td>Pecho de Res Limpio/Sin Grasa</td>\n",
       "      <td>50.00</td>\n",
       "      <td>0.00</td>\n",
       "      <td>22,000.00</td>\n",
       "      <td>0.00</td>\n",
       "      <td>1,100,000.00</td>\n",
       "    </tr>\n",
       "    <tr>\n",
       "      <th>4</th>\n",
       "      <td>2021-11-10</td>\n",
       "      <td>Otros</td>\n",
       "      <td>Otros</td>\n",
       "      <td>Proveedor 5</td>\n",
       "      <td>Portal comprador 3</td>\n",
       "      <td>Recibido</td>\n",
       "      <td>LIBRO CABEZA, CORAZON Y MANOS</td>\n",
       "      <td>7.00</td>\n",
       "      <td>7.00</td>\n",
       "      <td>92,084.00</td>\n",
       "      <td>17,496.00</td>\n",
       "      <td>644,588.00</td>\n",
       "    </tr>\n",
       "  </tbody>\n",
       "</table>\n",
       "</div>"
      ]
     },
     "metadata": {
      "application/vnd.databricks.v1+output": {
       "addedWidgets": {},
       "arguments": {},
       "data": "<div>\n<style scoped>\n    .dataframe tbody tr th:only-of-type {\n        vertical-align: middle;\n    }\n\n    .dataframe tbody tr th {\n        vertical-align: top;\n    }\n\n    .dataframe thead th {\n        text-align: right;\n    }\n</style>\n<table border=\"1\" class=\"dataframe\">\n  <thead>\n    <tr style=\"text-align: right;\">\n      <th></th>\n      <th>FECHA_ORDEN</th>\n      <th>CATEGORÍA</th>\n      <th>SUBCATEGORIA</th>\n      <th>PROVEEDOR</th>\n      <th>PORTAL</th>\n      <th>ESTADO</th>\n      <th>PRODUCTO_O_SERVICIO</th>\n      <th>CANTIDAD_PEDIDA</th>\n      <th>CANTIDAD_RECIBIDA</th>\n      <th>PRECIO_UNITARIO</th>\n      <th>IVA</th>\n      <th>TOTAL_SIN_IVA</th>\n    </tr>\n  </thead>\n  <tbody>\n    <tr>\n      <th>0</th>\n      <td>2021-11-10</td>\n      <td>Otros</td>\n      <td>Otros</td>\n      <td>Proveedor 1</td>\n      <td>Portal comprador 1</td>\n      <td>Orden en Proceso</td>\n      <td>PANEL LED SOBREPONER 24W REDONDO LUZ BLANCA</td>\n      <td>2.00</td>\n      <td>0.00</td>\n      <td>23,364.00</td>\n      <td>4,439.00</td>\n      <td>46,728.00</td>\n    </tr>\n    <tr>\n      <th>1</th>\n      <td>2021-11-10</td>\n      <td>Otros</td>\n      <td>Otros</td>\n      <td>Proveedor 2</td>\n      <td>Portal comprador 1</td>\n      <td>Recibido</td>\n      <td>ACTIVIDADES COMERCIALES</td>\n      <td>1.00</td>\n      <td>1.00</td>\n      <td>1,476,972.00</td>\n      <td>280,625.00</td>\n      <td>1,476,972.00</td>\n    </tr>\n    <tr>\n      <th>2</th>\n      <td>2021-11-10</td>\n      <td>Alimentos y Bebidas</td>\n      <td>Alimentos preparados y conservados</td>\n      <td>Proveedor 3</td>\n      <td>Portal comprador 1</td>\n      <td>Orden en Proceso</td>\n      <td>Lasagna</td>\n      <td>10.00</td>\n      <td>0.00</td>\n      <td>15,500.00</td>\n      <td>0.00</td>\n      <td>155,000.00</td>\n    </tr>\n    <tr>\n      <th>3</th>\n      <td>2021-11-10</td>\n      <td>Alimentos y Bebidas</td>\n      <td>Productos de carne y aves de corral</td>\n      <td>Proveedor 4</td>\n      <td>Portal comprador 2</td>\n      <td>Orden en Proceso</td>\n      <td>Pecho de Res Limpio/Sin Grasa</td>\n      <td>50.00</td>\n      <td>0.00</td>\n      <td>22,000.00</td>\n      <td>0.00</td>\n      <td>1,100,000.00</td>\n    </tr>\n    <tr>\n      <th>4</th>\n      <td>2021-11-10</td>\n      <td>Otros</td>\n      <td>Otros</td>\n      <td>Proveedor 5</td>\n      <td>Portal comprador 3</td>\n      <td>Recibido</td>\n      <td>LIBRO CABEZA, CORAZON Y MANOS</td>\n      <td>7.00</td>\n      <td>7.00</td>\n      <td>92,084.00</td>\n      <td>17,496.00</td>\n      <td>644,588.00</td>\n    </tr>\n  </tbody>\n</table>\n</div>",
       "datasetInfos": [],
       "metadata": {},
       "removedWidgets": [],
       "textData": null,
       "type": "htmlSandbox"
      }
     },
     "output_type": "display_data"
    }
   ],
   "source": [
    "df.head()"
   ]
  },
  {
   "cell_type": "markdown",
   "metadata": {
    "application/vnd.databricks.v1+cell": {
     "inputWidgets": {},
     "nuid": "214c1320-f6ff-4012-818f-f2a4b10b429c",
     "showTitle": false,
     "title": ""
    }
   },
   "source": [
    "### Top PRODUCTO_O_SERVICIO"
   ]
  },
  {
   "cell_type": "code",
   "execution_count": 0,
   "metadata": {
    "application/vnd.databricks.v1+cell": {
     "inputWidgets": {},
     "nuid": "545d6c4a-4f2e-4829-8029-a26aef4fbcd1",
     "showTitle": false,
     "title": ""
    }
   },
   "outputs": [
    {
     "data": {
      "text/html": [
       "<style scoped>\n",
       "  .ansiout {\n",
       "    display: block;\n",
       "    unicode-bidi: embed;\n",
       "    white-space: pre-wrap;\n",
       "    word-wrap: break-word;\n",
       "    word-break: break-all;\n",
       "    font-family: \"Source Code Pro\", \"Menlo\", monospace;;\n",
       "    font-size: 13px;\n",
       "    color: #555;\n",
       "    margin-left: 4px;\n",
       "    line-height: 19px;\n",
       "  }\n",
       "</style>\n",
       "<div class=\"ansiout\">Out[1104]: 6 Bota de seguridad media caña dielectrica con puntera de seguridad                       3.45\n",
       "85 Overol industrial                                                                      1.46\n",
       "7 Botas de caucho con puntera negra caña alta                                             0.84\n",
       "30 Lentes de seguridad oscuro                                                             0.81\n",
       "8 Bota pvc de seguridad caña alta, dielectrica con puntera de seguridad                   0.78\n",
       "                                                                                  ...         \n",
       "JEANS ENVASADO UNIGAS HOMBRE Talla 40                                                     0.00\n",
       "Bolsa para Basura Blanca 55 X 55 Calibre 0,8 Paquete x100                                 0.00\n",
       "Cafe Bastilla x 500 gr                                                                    0.00\n",
       "CEMENTO BLANCO POR KILO                                                                   0.00\n",
       "BOTAS OPERATIVAS HOMBRE T-44                                                              0.00\n",
       "Name: PRODUCTO_O_SERVICIO, Length: 3445, dtype: float64</div>"
      ]
     },
     "metadata": {
      "application/vnd.databricks.v1+output": {
       "addedWidgets": {},
       "arguments": {},
       "data": "<div class=\"ansiout\">Out[1104]: 6 Bota de seguridad media caña dielectrica con puntera de seguridad                       3.45\n85 Overol industrial                                                                      1.46\n7 Botas de caucho con puntera negra caña alta                                             0.84\n30 Lentes de seguridad oscuro                                                             0.81\n8 Bota pvc de seguridad caña alta, dielectrica con puntera de seguridad                   0.78\n                                                                                  ...         \nJEANS ENVASADO UNIGAS HOMBRE Talla 40                                                     0.00\nBolsa para Basura Blanca 55 X 55 Calibre 0,8 Paquete x100                                 0.00\nCafe Bastilla x 500 gr                                                                    0.00\nCEMENTO BLANCO POR KILO                                                                   0.00\nBOTAS OPERATIVAS HOMBRE T-44                                                              0.00\nName: PRODUCTO_O_SERVICIO, Length: 3445, dtype: float64</div>",
       "datasetInfos": [],
       "metadata": {},
       "removedWidgets": [],
       "type": "html"
      }
     },
     "output_type": "display_data"
    }
   ],
   "source": [
    "df_PROD = df['PRODUCTO_O_SERVICIO'].value_counts()/len(df['PRODUCTO_O_SERVICIO'])*100\n",
    "df_PROD"
   ]
  },
  {
   "cell_type": "code",
   "execution_count": 0,
   "metadata": {
    "application/vnd.databricks.v1+cell": {
     "inputWidgets": {},
     "nuid": "ac8254fd-f18a-4bc8-8a09-cf059b777d95",
     "showTitle": false,
     "title": ""
    }
   },
   "outputs": [
    {
     "data": {
      "text/html": [
       "<style scoped>\n",
       "  .ansiout {\n",
       "    display: block;\n",
       "    unicode-bidi: embed;\n",
       "    white-space: pre-wrap;\n",
       "    word-wrap: break-word;\n",
       "    word-break: break-all;\n",
       "    font-family: \"Source Code Pro\", \"Menlo\", monospace;;\n",
       "    font-size: 13px;\n",
       "    color: #555;\n",
       "    margin-left: 4px;\n",
       "    line-height: 19px;\n",
       "  }\n",
       "</style>\n",
       "<div class=\"ansiout\">7 9.364951768488746\n",
       "</div>"
      ]
     },
     "metadata": {
      "application/vnd.databricks.v1+output": {
       "addedWidgets": {},
       "arguments": {},
       "data": "<div class=\"ansiout\">7 9.364951768488746\n</div>",
       "datasetInfos": [],
       "metadata": {},
       "removedWidgets": [],
       "type": "html"
      }
     },
     "output_type": "display_data"
    }
   ],
   "source": [
    "acum_conteo = 0\n",
    "for i in range (0, len(df_PROD)):\n",
    "    acum = df_PROD.iloc[i]\n",
    "    acum_conteo += acum\n",
    "    if acum_conteo > 80:\n",
    "        break\n",
    "    if i == 7:\n",
    "        break\n",
    "print(i, acum_conteo)"
   ]
  },
  {
   "cell_type": "code",
   "execution_count": 0,
   "metadata": {
    "application/vnd.databricks.v1+cell": {
     "inputWidgets": {},
     "nuid": "65218d55-3b4c-47f3-bc62-e01ef97063fd",
     "showTitle": false,
     "title": ""
    }
   },
   "outputs": [
    {
     "data": {
      "text/html": [
       "<style scoped>\n",
       "  .ansiout {\n",
       "    display: block;\n",
       "    unicode-bidi: embed;\n",
       "    white-space: pre-wrap;\n",
       "    word-wrap: break-word;\n",
       "    word-break: break-all;\n",
       "    font-family: \"Source Code Pro\", \"Menlo\", monospace;;\n",
       "    font-size: 13px;\n",
       "    color: #555;\n",
       "    margin-left: 4px;\n",
       "    line-height: 19px;\n",
       "  }\n",
       "</style>\n",
       "<div class=\"ansiout\">Out[1106]: [&#39;6 Bota de seguridad media caña dielectrica con puntera de seguridad&#39;,\n",
       " &#39;85 Overol industrial&#39;,\n",
       " &#39;7 Botas de caucho con puntera negra caña alta&#39;,\n",
       " &#39;30 Lentes de seguridad oscuro &#39;,\n",
       " &#39;8 Bota pvc de seguridad caña alta, dielectrica con puntera de seguridad&#39;,\n",
       " &#39;46 Guantes nitrilo azul no esteriles&#39;,\n",
       " &#39;86 Camisa oxfort manga larga&#39;]</div>"
      ]
     },
     "metadata": {
      "application/vnd.databricks.v1+output": {
       "addedWidgets": {},
       "arguments": {},
       "data": "<div class=\"ansiout\">Out[1106]: [&#39;6 Bota de seguridad media caña dielectrica con puntera de seguridad&#39;,\n &#39;85 Overol industrial&#39;,\n &#39;7 Botas de caucho con puntera negra caña alta&#39;,\n &#39;30 Lentes de seguridad oscuro &#39;,\n &#39;8 Bota pvc de seguridad caña alta, dielectrica con puntera de seguridad&#39;,\n &#39;46 Guantes nitrilo azul no esteriles&#39;,\n &#39;86 Camisa oxfort manga larga&#39;]</div>",
       "datasetInfos": [],
       "metadata": {},
       "removedWidgets": [],
       "type": "html"
      }
     },
     "output_type": "display_data"
    }
   ],
   "source": [
    "top_producto = df_PROD.index[0:i].tolist()\n",
    "top_producto"
   ]
  },
  {
   "cell_type": "code",
   "execution_count": 0,
   "metadata": {
    "application/vnd.databricks.v1+cell": {
     "inputWidgets": {},
     "nuid": "2c5ca7e1-81eb-4651-8021-9f5ce66c323e",
     "showTitle": false,
     "title": ""
    }
   },
   "outputs": [
    {
     "data": {
      "text/html": [
       "<style scoped>\n",
       "  .ansiout {\n",
       "    display: block;\n",
       "    unicode-bidi: embed;\n",
       "    white-space: pre-wrap;\n",
       "    word-wrap: break-word;\n",
       "    word-break: break-all;\n",
       "    font-family: \"Source Code Pro\", \"Menlo\", monospace;;\n",
       "    font-size: 13px;\n",
       "    color: #555;\n",
       "    margin-left: 4px;\n",
       "    line-height: 19px;\n",
       "  }\n",
       "</style>\n",
       "<div class=\"ansiout\"></div>"
      ]
     },
     "metadata": {
      "application/vnd.databricks.v1+output": {
       "addedWidgets": {},
       "arguments": {},
       "data": "<div class=\"ansiout\"></div>",
       "datasetInfos": [],
       "metadata": {},
       "removedWidgets": [],
       "type": "html"
      }
     },
     "output_type": "display_data"
    }
   ],
   "source": [
    "df.loc[~df['PRODUCTO_O_SERVICIO'].isin(top_producto), 'PRODUCTO_O_SERVICIO'] =  'Otros'"
   ]
  },
  {
   "cell_type": "code",
   "execution_count": 0,
   "metadata": {
    "application/vnd.databricks.v1+cell": {
     "inputWidgets": {},
     "nuid": "07df8d30-2d77-4138-9773-0afd2daf3a6f",
     "showTitle": false,
     "title": ""
    }
   },
   "outputs": [
    {
     "data": {
      "text/html": [
       "<style scoped>\n",
       "  .ansiout {\n",
       "    display: block;\n",
       "    unicode-bidi: embed;\n",
       "    white-space: pre-wrap;\n",
       "    word-wrap: break-word;\n",
       "    word-break: break-all;\n",
       "    font-family: \"Source Code Pro\", \"Menlo\", monospace;;\n",
       "    font-size: 13px;\n",
       "    color: #555;\n",
       "    margin-left: 4px;\n",
       "    line-height: 19px;\n",
       "  }\n",
       "</style>\n",
       "<div class=\"ansiout\">Out[1108]: Otros                                                                      20443\n",
       "6 Bota de seguridad media caña dielectrica con puntera de seguridad          773\n",
       "85 Overol industrial                                                         326\n",
       "7 Botas de caucho con puntera negra caña alta                                187\n",
       "30 Lentes de seguridad oscuro                                                181\n",
       "8 Bota pvc de seguridad caña alta, dielectrica con puntera de seguridad      174\n",
       "46 Guantes nitrilo azul no esteriles                                         157\n",
       "86 Camisa oxfort manga larga                                                 151\n",
       "Name: PRODUCTO_O_SERVICIO, dtype: int64</div>"
      ]
     },
     "metadata": {
      "application/vnd.databricks.v1+output": {
       "addedWidgets": {},
       "arguments": {},
       "data": "<div class=\"ansiout\">Out[1108]: Otros                                                                      20443\n6 Bota de seguridad media caña dielectrica con puntera de seguridad          773\n85 Overol industrial                                                         326\n7 Botas de caucho con puntera negra caña alta                                187\n30 Lentes de seguridad oscuro                                                181\n8 Bota pvc de seguridad caña alta, dielectrica con puntera de seguridad      174\n46 Guantes nitrilo azul no esteriles                                         157\n86 Camisa oxfort manga larga                                                 151\nName: PRODUCTO_O_SERVICIO, dtype: int64</div>",
       "datasetInfos": [],
       "metadata": {},
       "removedWidgets": [],
       "type": "html"
      }
     },
     "output_type": "display_data"
    }
   ],
   "source": [
    "df['PRODUCTO_O_SERVICIO'].value_counts()"
   ]
  },
  {
   "cell_type": "code",
   "execution_count": 0,
   "metadata": {
    "application/vnd.databricks.v1+cell": {
     "inputWidgets": {},
     "nuid": "8f0d43c3-2d7b-4680-8890-8caa69aaf2f6",
     "showTitle": false,
     "title": ""
    }
   },
   "outputs": [
    {
     "data": {
      "text/html": [
       "<style scoped>\n",
       "  .ansiout {\n",
       "    display: block;\n",
       "    unicode-bidi: embed;\n",
       "    white-space: pre-wrap;\n",
       "    word-wrap: break-word;\n",
       "    word-break: break-all;\n",
       "    font-family: \"Source Code Pro\", \"Menlo\", monospace;;\n",
       "    font-size: 13px;\n",
       "    color: #555;\n",
       "    margin-left: 4px;\n",
       "    line-height: 19px;\n",
       "  }\n",
       "</style>\n",
       "<div class=\"ansiout\">Out[1109]: </div>"
      ]
     },
     "metadata": {
      "application/vnd.databricks.v1+output": {
       "addedWidgets": {},
       "arguments": {},
       "data": "<div class=\"ansiout\">Out[1109]: </div>",
       "datasetInfos": [],
       "metadata": {},
       "removedWidgets": [],
       "type": "html"
      }
     },
     "output_type": "display_data"
    },
    {
     "data": {
      "text/html": [
       "<div>\n",
       "<style scoped>\n",
       "    .dataframe tbody tr th:only-of-type {\n",
       "        vertical-align: middle;\n",
       "    }\n",
       "\n",
       "    .dataframe tbody tr th {\n",
       "        vertical-align: top;\n",
       "    }\n",
       "\n",
       "    .dataframe thead th {\n",
       "        text-align: right;\n",
       "    }\n",
       "</style>\n",
       "<table border=\"1\" class=\"dataframe\">\n",
       "  <thead>\n",
       "    <tr style=\"text-align: right;\">\n",
       "      <th></th>\n",
       "      <th>FECHA_ORDEN</th>\n",
       "      <th>CATEGORÍA</th>\n",
       "      <th>SUBCATEGORIA</th>\n",
       "      <th>PROVEEDOR</th>\n",
       "      <th>PORTAL</th>\n",
       "      <th>ESTADO</th>\n",
       "      <th>PRODUCTO_O_SERVICIO</th>\n",
       "      <th>CANTIDAD_PEDIDA</th>\n",
       "      <th>CANTIDAD_RECIBIDA</th>\n",
       "      <th>PRECIO_UNITARIO</th>\n",
       "      <th>IVA</th>\n",
       "      <th>TOTAL_SIN_IVA</th>\n",
       "    </tr>\n",
       "  </thead>\n",
       "  <tbody>\n",
       "    <tr>\n",
       "      <th>0</th>\n",
       "      <td>2021-11-10</td>\n",
       "      <td>Otros</td>\n",
       "      <td>Otros</td>\n",
       "      <td>Proveedor 1</td>\n",
       "      <td>Portal comprador 1</td>\n",
       "      <td>Orden en Proceso</td>\n",
       "      <td>Otros</td>\n",
       "      <td>2.00</td>\n",
       "      <td>0.00</td>\n",
       "      <td>23,364.00</td>\n",
       "      <td>4,439.00</td>\n",
       "      <td>46,728.00</td>\n",
       "    </tr>\n",
       "    <tr>\n",
       "      <th>1</th>\n",
       "      <td>2021-11-10</td>\n",
       "      <td>Otros</td>\n",
       "      <td>Otros</td>\n",
       "      <td>Proveedor 2</td>\n",
       "      <td>Portal comprador 1</td>\n",
       "      <td>Recibido</td>\n",
       "      <td>Otros</td>\n",
       "      <td>1.00</td>\n",
       "      <td>1.00</td>\n",
       "      <td>1,476,972.00</td>\n",
       "      <td>280,625.00</td>\n",
       "      <td>1,476,972.00</td>\n",
       "    </tr>\n",
       "    <tr>\n",
       "      <th>2</th>\n",
       "      <td>2021-11-10</td>\n",
       "      <td>Alimentos y Bebidas</td>\n",
       "      <td>Alimentos preparados y conservados</td>\n",
       "      <td>Proveedor 3</td>\n",
       "      <td>Portal comprador 1</td>\n",
       "      <td>Orden en Proceso</td>\n",
       "      <td>Otros</td>\n",
       "      <td>10.00</td>\n",
       "      <td>0.00</td>\n",
       "      <td>15,500.00</td>\n",
       "      <td>0.00</td>\n",
       "      <td>155,000.00</td>\n",
       "    </tr>\n",
       "    <tr>\n",
       "      <th>3</th>\n",
       "      <td>2021-11-10</td>\n",
       "      <td>Alimentos y Bebidas</td>\n",
       "      <td>Productos de carne y aves de corral</td>\n",
       "      <td>Proveedor 4</td>\n",
       "      <td>Portal comprador 2</td>\n",
       "      <td>Orden en Proceso</td>\n",
       "      <td>Otros</td>\n",
       "      <td>50.00</td>\n",
       "      <td>0.00</td>\n",
       "      <td>22,000.00</td>\n",
       "      <td>0.00</td>\n",
       "      <td>1,100,000.00</td>\n",
       "    </tr>\n",
       "    <tr>\n",
       "      <th>4</th>\n",
       "      <td>2021-11-10</td>\n",
       "      <td>Otros</td>\n",
       "      <td>Otros</td>\n",
       "      <td>Proveedor 5</td>\n",
       "      <td>Portal comprador 3</td>\n",
       "      <td>Recibido</td>\n",
       "      <td>Otros</td>\n",
       "      <td>7.00</td>\n",
       "      <td>7.00</td>\n",
       "      <td>92,084.00</td>\n",
       "      <td>17,496.00</td>\n",
       "      <td>644,588.00</td>\n",
       "    </tr>\n",
       "  </tbody>\n",
       "</table>\n",
       "</div>"
      ]
     },
     "metadata": {
      "application/vnd.databricks.v1+output": {
       "addedWidgets": {},
       "arguments": {},
       "data": "<div>\n<style scoped>\n    .dataframe tbody tr th:only-of-type {\n        vertical-align: middle;\n    }\n\n    .dataframe tbody tr th {\n        vertical-align: top;\n    }\n\n    .dataframe thead th {\n        text-align: right;\n    }\n</style>\n<table border=\"1\" class=\"dataframe\">\n  <thead>\n    <tr style=\"text-align: right;\">\n      <th></th>\n      <th>FECHA_ORDEN</th>\n      <th>CATEGORÍA</th>\n      <th>SUBCATEGORIA</th>\n      <th>PROVEEDOR</th>\n      <th>PORTAL</th>\n      <th>ESTADO</th>\n      <th>PRODUCTO_O_SERVICIO</th>\n      <th>CANTIDAD_PEDIDA</th>\n      <th>CANTIDAD_RECIBIDA</th>\n      <th>PRECIO_UNITARIO</th>\n      <th>IVA</th>\n      <th>TOTAL_SIN_IVA</th>\n    </tr>\n  </thead>\n  <tbody>\n    <tr>\n      <th>0</th>\n      <td>2021-11-10</td>\n      <td>Otros</td>\n      <td>Otros</td>\n      <td>Proveedor 1</td>\n      <td>Portal comprador 1</td>\n      <td>Orden en Proceso</td>\n      <td>Otros</td>\n      <td>2.00</td>\n      <td>0.00</td>\n      <td>23,364.00</td>\n      <td>4,439.00</td>\n      <td>46,728.00</td>\n    </tr>\n    <tr>\n      <th>1</th>\n      <td>2021-11-10</td>\n      <td>Otros</td>\n      <td>Otros</td>\n      <td>Proveedor 2</td>\n      <td>Portal comprador 1</td>\n      <td>Recibido</td>\n      <td>Otros</td>\n      <td>1.00</td>\n      <td>1.00</td>\n      <td>1,476,972.00</td>\n      <td>280,625.00</td>\n      <td>1,476,972.00</td>\n    </tr>\n    <tr>\n      <th>2</th>\n      <td>2021-11-10</td>\n      <td>Alimentos y Bebidas</td>\n      <td>Alimentos preparados y conservados</td>\n      <td>Proveedor 3</td>\n      <td>Portal comprador 1</td>\n      <td>Orden en Proceso</td>\n      <td>Otros</td>\n      <td>10.00</td>\n      <td>0.00</td>\n      <td>15,500.00</td>\n      <td>0.00</td>\n      <td>155,000.00</td>\n    </tr>\n    <tr>\n      <th>3</th>\n      <td>2021-11-10</td>\n      <td>Alimentos y Bebidas</td>\n      <td>Productos de carne y aves de corral</td>\n      <td>Proveedor 4</td>\n      <td>Portal comprador 2</td>\n      <td>Orden en Proceso</td>\n      <td>Otros</td>\n      <td>50.00</td>\n      <td>0.00</td>\n      <td>22,000.00</td>\n      <td>0.00</td>\n      <td>1,100,000.00</td>\n    </tr>\n    <tr>\n      <th>4</th>\n      <td>2021-11-10</td>\n      <td>Otros</td>\n      <td>Otros</td>\n      <td>Proveedor 5</td>\n      <td>Portal comprador 3</td>\n      <td>Recibido</td>\n      <td>Otros</td>\n      <td>7.00</td>\n      <td>7.00</td>\n      <td>92,084.00</td>\n      <td>17,496.00</td>\n      <td>644,588.00</td>\n    </tr>\n  </tbody>\n</table>\n</div>",
       "datasetInfos": [],
       "metadata": {},
       "removedWidgets": [],
       "textData": null,
       "type": "htmlSandbox"
      }
     },
     "output_type": "display_data"
    }
   ],
   "source": [
    "df.head()"
   ]
  },
  {
   "cell_type": "markdown",
   "metadata": {
    "application/vnd.databricks.v1+cell": {
     "inputWidgets": {},
     "nuid": "eb8f5bb2-2c68-49c8-be9b-ba95af225aaa",
     "showTitle": false,
     "title": ""
    }
   },
   "source": [
    "### Top PROVEEDOR"
   ]
  },
  {
   "cell_type": "code",
   "execution_count": 0,
   "metadata": {
    "application/vnd.databricks.v1+cell": {
     "inputWidgets": {},
     "nuid": "183e268c-3b6c-4561-82d0-602be5d567b5",
     "showTitle": false,
     "title": ""
    }
   },
   "outputs": [
    {
     "data": {
      "text/html": [
       "<style scoped>\n",
       "  .ansiout {\n",
       "    display: block;\n",
       "    unicode-bidi: embed;\n",
       "    white-space: pre-wrap;\n",
       "    word-wrap: break-word;\n",
       "    word-break: break-all;\n",
       "    font-family: \"Source Code Pro\", \"Menlo\", monospace;;\n",
       "    font-size: 13px;\n",
       "    color: #555;\n",
       "    margin-left: 4px;\n",
       "    line-height: 19px;\n",
       "  }\n",
       "</style>\n",
       "<div class=\"ansiout\">Out[1110]: Proveedor 301                  24.29\n",
       "Proveedor 59                    6.93\n",
       "Proveedor 28                    6.34\n",
       "Proveedor 26                    5.43\n",
       "Proveedor 321                   4.33\n",
       "                        ...         \n",
       "Proveedor 375                   0.00\n",
       "Proveedor 246                   0.00\n",
       "Proveedor 199                   0.00\n",
       "Proveedor 319                   0.00\n",
       "Proveedor 312                   0.00\n",
       "Name: PROVEEDOR, Length: 405, dtype: float64</div>"
      ]
     },
     "metadata": {
      "application/vnd.databricks.v1+output": {
       "addedWidgets": {},
       "arguments": {},
       "data": "<div class=\"ansiout\">Out[1110]: Proveedor 301                  24.29\nProveedor 59                    6.93\nProveedor 28                    6.34\nProveedor 26                    5.43\nProveedor 321                   4.33\n                        ...         \nProveedor 375                   0.00\nProveedor 246                   0.00\nProveedor 199                   0.00\nProveedor 319                   0.00\nProveedor 312                   0.00\nName: PROVEEDOR, Length: 405, dtype: float64</div>",
       "datasetInfos": [],
       "metadata": {},
       "removedWidgets": [],
       "type": "html"
      }
     },
     "output_type": "display_data"
    }
   ],
   "source": [
    "df_PROV = df['PROVEEDOR'].value_counts()/len(df['PROVEEDOR'])*100\n",
    "df_PROV"
   ]
  },
  {
   "cell_type": "code",
   "execution_count": 0,
   "metadata": {
    "application/vnd.databricks.v1+cell": {
     "inputWidgets": {},
     "nuid": "a1678cf6-49f8-43b0-a945-6d764b27665e",
     "showTitle": false,
     "title": ""
    }
   },
   "outputs": [
    {
     "data": {
      "text/html": [
       "<style scoped>\n",
       "  .ansiout {\n",
       "    display: block;\n",
       "    unicode-bidi: embed;\n",
       "    white-space: pre-wrap;\n",
       "    word-wrap: break-word;\n",
       "    word-break: break-all;\n",
       "    font-family: \"Source Code Pro\", \"Menlo\", monospace;;\n",
       "    font-size: 13px;\n",
       "    color: #555;\n",
       "    margin-left: 4px;\n",
       "    line-height: 19px;\n",
       "  }\n",
       "</style>\n",
       "<div class=\"ansiout\">3 42.98856734548053\n",
       "</div>"
      ]
     },
     "metadata": {
      "application/vnd.databricks.v1+output": {
       "addedWidgets": {},
       "arguments": {},
       "data": "<div class=\"ansiout\">3 42.98856734548053\n</div>",
       "datasetInfos": [],
       "metadata": {},
       "removedWidgets": [],
       "type": "html"
      }
     },
     "output_type": "display_data"
    }
   ],
   "source": [
    "acum_conteo = 0\n",
    "for i in range (0, len(df_PROV)):\n",
    "    acum = df_PROV.iloc[i]\n",
    "    acum_conteo += acum\n",
    "    if acum_conteo > 80:\n",
    "        break\n",
    "    if i == 3:\n",
    "        break\n",
    "print(i, acum_conteo)"
   ]
  },
  {
   "cell_type": "code",
   "execution_count": 0,
   "metadata": {
    "application/vnd.databricks.v1+cell": {
     "inputWidgets": {},
     "nuid": "30b0e800-c6e6-4451-b780-ef61603acbaa",
     "showTitle": false,
     "title": ""
    }
   },
   "outputs": [
    {
     "data": {
      "text/html": [
       "<style scoped>\n",
       "  .ansiout {\n",
       "    display: block;\n",
       "    unicode-bidi: embed;\n",
       "    white-space: pre-wrap;\n",
       "    word-wrap: break-word;\n",
       "    word-break: break-all;\n",
       "    font-family: \"Source Code Pro\", \"Menlo\", monospace;;\n",
       "    font-size: 13px;\n",
       "    color: #555;\n",
       "    margin-left: 4px;\n",
       "    line-height: 19px;\n",
       "  }\n",
       "</style>\n",
       "<div class=\"ansiout\">Out[1112]: [&#39;Proveedor 301&#39;, &#39;Proveedor 59&#39;, &#39;Proveedor 28&#39;]</div>"
      ]
     },
     "metadata": {
      "application/vnd.databricks.v1+output": {
       "addedWidgets": {},
       "arguments": {},
       "data": "<div class=\"ansiout\">Out[1112]: [&#39;Proveedor 301&#39;, &#39;Proveedor 59&#39;, &#39;Proveedor 28&#39;]</div>",
       "datasetInfos": [],
       "metadata": {},
       "removedWidgets": [],
       "type": "html"
      }
     },
     "output_type": "display_data"
    }
   ],
   "source": [
    "top_proveedor = df_PROV.index[0:i].tolist()\n",
    "top_proveedor"
   ]
  },
  {
   "cell_type": "code",
   "execution_count": 0,
   "metadata": {
    "application/vnd.databricks.v1+cell": {
     "inputWidgets": {},
     "nuid": "abb8d7e2-ff04-4b27-ac48-1b572e43578f",
     "showTitle": false,
     "title": ""
    }
   },
   "outputs": [
    {
     "data": {
      "text/html": [
       "<style scoped>\n",
       "  .ansiout {\n",
       "    display: block;\n",
       "    unicode-bidi: embed;\n",
       "    white-space: pre-wrap;\n",
       "    word-wrap: break-word;\n",
       "    word-break: break-all;\n",
       "    font-family: \"Source Code Pro\", \"Menlo\", monospace;;\n",
       "    font-size: 13px;\n",
       "    color: #555;\n",
       "    margin-left: 4px;\n",
       "    line-height: 19px;\n",
       "  }\n",
       "</style>\n",
       "<div class=\"ansiout\"></div>"
      ]
     },
     "metadata": {
      "application/vnd.databricks.v1+output": {
       "addedWidgets": {},
       "arguments": {},
       "data": "<div class=\"ansiout\"></div>",
       "datasetInfos": [],
       "metadata": {},
       "removedWidgets": [],
       "type": "html"
      }
     },
     "output_type": "display_data"
    }
   ],
   "source": [
    "df.loc[~df['PROVEEDOR'].isin(top_proveedor), 'PROVEEDOR'] =  'Otros'"
   ]
  },
  {
   "cell_type": "code",
   "execution_count": 0,
   "metadata": {
    "application/vnd.databricks.v1+cell": {
     "inputWidgets": {},
     "nuid": "d20599fb-0a16-4cb9-8c1f-a4a46888e848",
     "showTitle": false,
     "title": ""
    }
   },
   "outputs": [
    {
     "data": {
      "text/html": [
       "<style scoped>\n",
       "  .ansiout {\n",
       "    display: block;\n",
       "    unicode-bidi: embed;\n",
       "    white-space: pre-wrap;\n",
       "    word-wrap: break-word;\n",
       "    word-break: break-all;\n",
       "    font-family: \"Source Code Pro\", \"Menlo\", monospace;;\n",
       "    font-size: 13px;\n",
       "    color: #555;\n",
       "    margin-left: 4px;\n",
       "    line-height: 19px;\n",
       "  }\n",
       "</style>\n",
       "<div class=\"ansiout\">Out[1114]: Otros            13982\n",
       "Proveedor 301     5439\n",
       "Proveedor 59      1552\n",
       "Proveedor 28      1419\n",
       "Name: PROVEEDOR, dtype: int64</div>"
      ]
     },
     "metadata": {
      "application/vnd.databricks.v1+output": {
       "addedWidgets": {},
       "arguments": {},
       "data": "<div class=\"ansiout\">Out[1114]: Otros            13982\nProveedor 301     5439\nProveedor 59      1552\nProveedor 28      1419\nName: PROVEEDOR, dtype: int64</div>",
       "datasetInfos": [],
       "metadata": {},
       "removedWidgets": [],
       "type": "html"
      }
     },
     "output_type": "display_data"
    }
   ],
   "source": [
    "df['PROVEEDOR'].value_counts()"
   ]
  },
  {
   "cell_type": "code",
   "execution_count": 0,
   "metadata": {
    "application/vnd.databricks.v1+cell": {
     "inputWidgets": {},
     "nuid": "442a33a2-9537-4e1a-ba08-e070ae336ab4",
     "showTitle": false,
     "title": ""
    }
   },
   "outputs": [
    {
     "data": {
      "text/html": [
       "<style scoped>\n",
       "  .ansiout {\n",
       "    display: block;\n",
       "    unicode-bidi: embed;\n",
       "    white-space: pre-wrap;\n",
       "    word-wrap: break-word;\n",
       "    word-break: break-all;\n",
       "    font-family: \"Source Code Pro\", \"Menlo\", monospace;;\n",
       "    font-size: 13px;\n",
       "    color: #555;\n",
       "    margin-left: 4px;\n",
       "    line-height: 19px;\n",
       "  }\n",
       "</style>\n",
       "<div class=\"ansiout\">Out[1115]: </div>"
      ]
     },
     "metadata": {
      "application/vnd.databricks.v1+output": {
       "addedWidgets": {},
       "arguments": {},
       "data": "<div class=\"ansiout\">Out[1115]: </div>",
       "datasetInfos": [],
       "metadata": {},
       "removedWidgets": [],
       "type": "html"
      }
     },
     "output_type": "display_data"
    },
    {
     "data": {
      "text/html": [
       "<div>\n",
       "<style scoped>\n",
       "    .dataframe tbody tr th:only-of-type {\n",
       "        vertical-align: middle;\n",
       "    }\n",
       "\n",
       "    .dataframe tbody tr th {\n",
       "        vertical-align: top;\n",
       "    }\n",
       "\n",
       "    .dataframe thead th {\n",
       "        text-align: right;\n",
       "    }\n",
       "</style>\n",
       "<table border=\"1\" class=\"dataframe\">\n",
       "  <thead>\n",
       "    <tr style=\"text-align: right;\">\n",
       "      <th></th>\n",
       "      <th>FECHA_ORDEN</th>\n",
       "      <th>CATEGORÍA</th>\n",
       "      <th>SUBCATEGORIA</th>\n",
       "      <th>PROVEEDOR</th>\n",
       "      <th>PORTAL</th>\n",
       "      <th>ESTADO</th>\n",
       "      <th>PRODUCTO_O_SERVICIO</th>\n",
       "      <th>CANTIDAD_PEDIDA</th>\n",
       "      <th>CANTIDAD_RECIBIDA</th>\n",
       "      <th>PRECIO_UNITARIO</th>\n",
       "      <th>IVA</th>\n",
       "      <th>TOTAL_SIN_IVA</th>\n",
       "    </tr>\n",
       "  </thead>\n",
       "  <tbody>\n",
       "    <tr>\n",
       "      <th>0</th>\n",
       "      <td>2021-11-10</td>\n",
       "      <td>Otros</td>\n",
       "      <td>Otros</td>\n",
       "      <td>Otros</td>\n",
       "      <td>Portal comprador 1</td>\n",
       "      <td>Orden en Proceso</td>\n",
       "      <td>Otros</td>\n",
       "      <td>2.00</td>\n",
       "      <td>0.00</td>\n",
       "      <td>23,364.00</td>\n",
       "      <td>4,439.00</td>\n",
       "      <td>46,728.00</td>\n",
       "    </tr>\n",
       "    <tr>\n",
       "      <th>1</th>\n",
       "      <td>2021-11-10</td>\n",
       "      <td>Otros</td>\n",
       "      <td>Otros</td>\n",
       "      <td>Otros</td>\n",
       "      <td>Portal comprador 1</td>\n",
       "      <td>Recibido</td>\n",
       "      <td>Otros</td>\n",
       "      <td>1.00</td>\n",
       "      <td>1.00</td>\n",
       "      <td>1,476,972.00</td>\n",
       "      <td>280,625.00</td>\n",
       "      <td>1,476,972.00</td>\n",
       "    </tr>\n",
       "    <tr>\n",
       "      <th>2</th>\n",
       "      <td>2021-11-10</td>\n",
       "      <td>Alimentos y Bebidas</td>\n",
       "      <td>Alimentos preparados y conservados</td>\n",
       "      <td>Otros</td>\n",
       "      <td>Portal comprador 1</td>\n",
       "      <td>Orden en Proceso</td>\n",
       "      <td>Otros</td>\n",
       "      <td>10.00</td>\n",
       "      <td>0.00</td>\n",
       "      <td>15,500.00</td>\n",
       "      <td>0.00</td>\n",
       "      <td>155,000.00</td>\n",
       "    </tr>\n",
       "    <tr>\n",
       "      <th>3</th>\n",
       "      <td>2021-11-10</td>\n",
       "      <td>Alimentos y Bebidas</td>\n",
       "      <td>Productos de carne y aves de corral</td>\n",
       "      <td>Otros</td>\n",
       "      <td>Portal comprador 2</td>\n",
       "      <td>Orden en Proceso</td>\n",
       "      <td>Otros</td>\n",
       "      <td>50.00</td>\n",
       "      <td>0.00</td>\n",
       "      <td>22,000.00</td>\n",
       "      <td>0.00</td>\n",
       "      <td>1,100,000.00</td>\n",
       "    </tr>\n",
       "    <tr>\n",
       "      <th>4</th>\n",
       "      <td>2021-11-10</td>\n",
       "      <td>Otros</td>\n",
       "      <td>Otros</td>\n",
       "      <td>Otros</td>\n",
       "      <td>Portal comprador 3</td>\n",
       "      <td>Recibido</td>\n",
       "      <td>Otros</td>\n",
       "      <td>7.00</td>\n",
       "      <td>7.00</td>\n",
       "      <td>92,084.00</td>\n",
       "      <td>17,496.00</td>\n",
       "      <td>644,588.00</td>\n",
       "    </tr>\n",
       "  </tbody>\n",
       "</table>\n",
       "</div>"
      ]
     },
     "metadata": {
      "application/vnd.databricks.v1+output": {
       "addedWidgets": {},
       "arguments": {},
       "data": "<div>\n<style scoped>\n    .dataframe tbody tr th:only-of-type {\n        vertical-align: middle;\n    }\n\n    .dataframe tbody tr th {\n        vertical-align: top;\n    }\n\n    .dataframe thead th {\n        text-align: right;\n    }\n</style>\n<table border=\"1\" class=\"dataframe\">\n  <thead>\n    <tr style=\"text-align: right;\">\n      <th></th>\n      <th>FECHA_ORDEN</th>\n      <th>CATEGORÍA</th>\n      <th>SUBCATEGORIA</th>\n      <th>PROVEEDOR</th>\n      <th>PORTAL</th>\n      <th>ESTADO</th>\n      <th>PRODUCTO_O_SERVICIO</th>\n      <th>CANTIDAD_PEDIDA</th>\n      <th>CANTIDAD_RECIBIDA</th>\n      <th>PRECIO_UNITARIO</th>\n      <th>IVA</th>\n      <th>TOTAL_SIN_IVA</th>\n    </tr>\n  </thead>\n  <tbody>\n    <tr>\n      <th>0</th>\n      <td>2021-11-10</td>\n      <td>Otros</td>\n      <td>Otros</td>\n      <td>Otros</td>\n      <td>Portal comprador 1</td>\n      <td>Orden en Proceso</td>\n      <td>Otros</td>\n      <td>2.00</td>\n      <td>0.00</td>\n      <td>23,364.00</td>\n      <td>4,439.00</td>\n      <td>46,728.00</td>\n    </tr>\n    <tr>\n      <th>1</th>\n      <td>2021-11-10</td>\n      <td>Otros</td>\n      <td>Otros</td>\n      <td>Otros</td>\n      <td>Portal comprador 1</td>\n      <td>Recibido</td>\n      <td>Otros</td>\n      <td>1.00</td>\n      <td>1.00</td>\n      <td>1,476,972.00</td>\n      <td>280,625.00</td>\n      <td>1,476,972.00</td>\n    </tr>\n    <tr>\n      <th>2</th>\n      <td>2021-11-10</td>\n      <td>Alimentos y Bebidas</td>\n      <td>Alimentos preparados y conservados</td>\n      <td>Otros</td>\n      <td>Portal comprador 1</td>\n      <td>Orden en Proceso</td>\n      <td>Otros</td>\n      <td>10.00</td>\n      <td>0.00</td>\n      <td>15,500.00</td>\n      <td>0.00</td>\n      <td>155,000.00</td>\n    </tr>\n    <tr>\n      <th>3</th>\n      <td>2021-11-10</td>\n      <td>Alimentos y Bebidas</td>\n      <td>Productos de carne y aves de corral</td>\n      <td>Otros</td>\n      <td>Portal comprador 2</td>\n      <td>Orden en Proceso</td>\n      <td>Otros</td>\n      <td>50.00</td>\n      <td>0.00</td>\n      <td>22,000.00</td>\n      <td>0.00</td>\n      <td>1,100,000.00</td>\n    </tr>\n    <tr>\n      <th>4</th>\n      <td>2021-11-10</td>\n      <td>Otros</td>\n      <td>Otros</td>\n      <td>Otros</td>\n      <td>Portal comprador 3</td>\n      <td>Recibido</td>\n      <td>Otros</td>\n      <td>7.00</td>\n      <td>7.00</td>\n      <td>92,084.00</td>\n      <td>17,496.00</td>\n      <td>644,588.00</td>\n    </tr>\n  </tbody>\n</table>\n</div>",
       "datasetInfos": [],
       "metadata": {},
       "removedWidgets": [],
       "textData": null,
       "type": "htmlSandbox"
      }
     },
     "output_type": "display_data"
    }
   ],
   "source": [
    "df.head()"
   ]
  },
  {
   "cell_type": "markdown",
   "metadata": {
    "application/vnd.databricks.v1+cell": {
     "inputWidgets": {},
     "nuid": "e0d091d7-f4ed-41b3-a7a2-3cb661223c89",
     "showTitle": false,
     "title": ""
    }
   },
   "source": [
    "### Top PORTAL"
   ]
  },
  {
   "cell_type": "code",
   "execution_count": 0,
   "metadata": {
    "application/vnd.databricks.v1+cell": {
     "inputWidgets": {},
     "nuid": "9fd3c2dd-bd03-48e8-94eb-6b2d3bd2a6ef",
     "showTitle": false,
     "title": ""
    }
   },
   "outputs": [
    {
     "data": {
      "text/html": [
       "<style scoped>\n",
       "  .ansiout {\n",
       "    display: block;\n",
       "    unicode-bidi: embed;\n",
       "    white-space: pre-wrap;\n",
       "    word-wrap: break-word;\n",
       "    word-break: break-all;\n",
       "    font-family: \"Source Code Pro\", \"Menlo\", monospace;;\n",
       "    font-size: 13px;\n",
       "    color: #555;\n",
       "    margin-left: 4px;\n",
       "    line-height: 19px;\n",
       "  }\n",
       "</style>\n",
       "<div class=\"ansiout\">Out[1116]: Portal comprador 1                   29.31\n",
       "Portal comprador 24                  24.29\n",
       "Portal comprador 2                   17.25\n",
       "Portal comprador 29                  14.83\n",
       "Portal comprador 6                    3.80\n",
       "Portal comprador 30                   3.39\n",
       "Portal comprador 4                    1.61\n",
       "Portal comprador 8                    1.42\n",
       "Portal comprador 5                    1.32\n",
       "Portal comprador 12                   0.96\n",
       "Portal comprador 18                   0.40\n",
       "Portal comprador 10                   0.31\n",
       "Portal comprador 7                    0.29\n",
       "Portal comprador 11                   0.23\n",
       "Portal comprador 27                   0.16\n",
       "Portal comprador 13                   0.15\n",
       "Portal comprador 20                   0.13\n",
       "Portal comprador 31                   0.07\n",
       "Portal comprador 21                   0.02\n",
       "Portal comprador 14                   0.01\n",
       "Portal comprador 28                   0.01\n",
       "Portal comprador 32                   0.01\n",
       "Portal comprador 26                   0.01\n",
       "Portal comprador 19                   0.00\n",
       "Portal comprador 25                   0.00\n",
       "Portal comprador 3                    0.00\n",
       "Portal comprador 33                   0.00\n",
       "Portal comprador 23                   0.00\n",
       "Portal comprador 15                   0.00\n",
       "Portal comprador 17                   0.00\n",
       "Portal comprador 9                    0.00\n",
       "Portal comprador 16                   0.00\n",
       "Portal comprador 22                   0.00\n",
       "Name: PORTAL, dtype: float64</div>"
      ]
     },
     "metadata": {
      "application/vnd.databricks.v1+output": {
       "addedWidgets": {},
       "arguments": {},
       "data": "<div class=\"ansiout\">Out[1116]: Portal comprador 1                   29.31\nPortal comprador 24                  24.29\nPortal comprador 2                   17.25\nPortal comprador 29                  14.83\nPortal comprador 6                    3.80\nPortal comprador 30                   3.39\nPortal comprador 4                    1.61\nPortal comprador 8                    1.42\nPortal comprador 5                    1.32\nPortal comprador 12                   0.96\nPortal comprador 18                   0.40\nPortal comprador 10                   0.31\nPortal comprador 7                    0.29\nPortal comprador 11                   0.23\nPortal comprador 27                   0.16\nPortal comprador 13                   0.15\nPortal comprador 20                   0.13\nPortal comprador 31                   0.07\nPortal comprador 21                   0.02\nPortal comprador 14                   0.01\nPortal comprador 28                   0.01\nPortal comprador 32                   0.01\nPortal comprador 26                   0.01\nPortal comprador 19                   0.00\nPortal comprador 25                   0.00\nPortal comprador 3                    0.00\nPortal comprador 33                   0.00\nPortal comprador 23                   0.00\nPortal comprador 15                   0.00\nPortal comprador 17                   0.00\nPortal comprador 9                    0.00\nPortal comprador 16                   0.00\nPortal comprador 22                   0.00\nName: PORTAL, dtype: float64</div>",
       "datasetInfos": [],
       "metadata": {},
       "removedWidgets": [],
       "type": "html"
      }
     },
     "output_type": "display_data"
    }
   ],
   "source": [
    "df_COMP = df['PORTAL'].value_counts()/len(df['PORTAL'])*100\n",
    "df_COMP"
   ]
  },
  {
   "cell_type": "code",
   "execution_count": 0,
   "metadata": {
    "application/vnd.databricks.v1+cell": {
     "inputWidgets": {},
     "nuid": "c55fc235-52aa-4ed0-a754-d90cef3c68d9",
     "showTitle": false,
     "title": ""
    }
   },
   "outputs": [
    {
     "data": {
      "text/html": [
       "<style scoped>\n",
       "  .ansiout {\n",
       "    display: block;\n",
       "    unicode-bidi: embed;\n",
       "    white-space: pre-wrap;\n",
       "    word-wrap: break-word;\n",
       "    word-break: break-all;\n",
       "    font-family: \"Source Code Pro\", \"Menlo\", monospace;;\n",
       "    font-size: 13px;\n",
       "    color: #555;\n",
       "    margin-left: 4px;\n",
       "    line-height: 19px;\n",
       "  }\n",
       "</style>\n",
       "<div class=\"ansiout\">3 85.67792068595928\n",
       "</div>"
      ]
     },
     "metadata": {
      "application/vnd.databricks.v1+output": {
       "addedWidgets": {},
       "arguments": {},
       "data": "<div class=\"ansiout\">3 85.67792068595928\n</div>",
       "datasetInfos": [],
       "metadata": {},
       "removedWidgets": [],
       "type": "html"
      }
     },
     "output_type": "display_data"
    }
   ],
   "source": [
    "acum_conteo = 0\n",
    "for i in range (0, len(df_COMP)):\n",
    "    acum = df_COMP.iloc[i]\n",
    "    acum_conteo += acum\n",
    "    if acum_conteo > 80:\n",
    "        break\n",
    "    if i == 5:\n",
    "        break\n",
    "print(i, acum_conteo)"
   ]
  },
  {
   "cell_type": "code",
   "execution_count": 0,
   "metadata": {
    "application/vnd.databricks.v1+cell": {
     "inputWidgets": {},
     "nuid": "1f5ff733-c4de-42c8-a138-611e2ff42c6e",
     "showTitle": false,
     "title": ""
    }
   },
   "outputs": [
    {
     "data": {
      "text/html": [
       "<style scoped>\n",
       "  .ansiout {\n",
       "    display: block;\n",
       "    unicode-bidi: embed;\n",
       "    white-space: pre-wrap;\n",
       "    word-wrap: break-word;\n",
       "    word-break: break-all;\n",
       "    font-family: \"Source Code Pro\", \"Menlo\", monospace;;\n",
       "    font-size: 13px;\n",
       "    color: #555;\n",
       "    margin-left: 4px;\n",
       "    line-height: 19px;\n",
       "  }\n",
       "</style>\n",
       "<div class=\"ansiout\">Out[1118]: [&#39;Portal comprador 1&#39;,\n",
       " &#39;Portal comprador 24&#39;,\n",
       " &#39;Portal comprador 2&#39;,\n",
       " &#39;Portal comprador 29&#39;]</div>"
      ]
     },
     "metadata": {
      "application/vnd.databricks.v1+output": {
       "addedWidgets": {},
       "arguments": {},
       "data": "<div class=\"ansiout\">Out[1118]: [&#39;Portal comprador 1&#39;,\n &#39;Portal comprador 24&#39;,\n &#39;Portal comprador 2&#39;,\n &#39;Portal comprador 29&#39;]</div>",
       "datasetInfos": [],
       "metadata": {},
       "removedWidgets": [],
       "type": "html"
      }
     },
     "output_type": "display_data"
    }
   ],
   "source": [
    "top_compradora = df_COMP.index[0:i+1].tolist()\n",
    "top_compradora"
   ]
  },
  {
   "cell_type": "code",
   "execution_count": 0,
   "metadata": {
    "application/vnd.databricks.v1+cell": {
     "inputWidgets": {},
     "nuid": "1fa0b474-1b57-4fc8-b13f-448d32a8ade8",
     "showTitle": false,
     "title": ""
    }
   },
   "outputs": [
    {
     "data": {
      "text/html": [
       "<style scoped>\n",
       "  .ansiout {\n",
       "    display: block;\n",
       "    unicode-bidi: embed;\n",
       "    white-space: pre-wrap;\n",
       "    word-wrap: break-word;\n",
       "    word-break: break-all;\n",
       "    font-family: \"Source Code Pro\", \"Menlo\", monospace;;\n",
       "    font-size: 13px;\n",
       "    color: #555;\n",
       "    margin-left: 4px;\n",
       "    line-height: 19px;\n",
       "  }\n",
       "</style>\n",
       "<div class=\"ansiout\"></div>"
      ]
     },
     "metadata": {
      "application/vnd.databricks.v1+output": {
       "addedWidgets": {},
       "arguments": {},
       "data": "<div class=\"ansiout\"></div>",
       "datasetInfos": [],
       "metadata": {},
       "removedWidgets": [],
       "type": "html"
      }
     },
     "output_type": "display_data"
    }
   ],
   "source": [
    "df.loc[~df['PORTAL'].isin(top_compradora), 'PORTAL'] =  'Otros'"
   ]
  },
  {
   "cell_type": "code",
   "execution_count": 0,
   "metadata": {
    "application/vnd.databricks.v1+cell": {
     "inputWidgets": {},
     "nuid": "5fda127b-8858-43b0-bd5b-d33090191a06",
     "showTitle": false,
     "title": ""
    }
   },
   "outputs": [
    {
     "data": {
      "text/html": [
       "<style scoped>\n",
       "  .ansiout {\n",
       "    display: block;\n",
       "    unicode-bidi: embed;\n",
       "    white-space: pre-wrap;\n",
       "    word-wrap: break-word;\n",
       "    word-break: break-all;\n",
       "    font-family: \"Source Code Pro\", \"Menlo\", monospace;;\n",
       "    font-size: 13px;\n",
       "    color: #555;\n",
       "    margin-left: 4px;\n",
       "    line-height: 19px;\n",
       "  }\n",
       "</style>\n",
       "<div class=\"ansiout\">Out[1120]: Portal comprador 1     6563\n",
       "Portal comprador 24    5439\n",
       "Portal comprador 2     3863\n",
       "Portal comprador 29    3320\n",
       "Otros                  3207\n",
       "Name: PORTAL, dtype: int64</div>"
      ]
     },
     "metadata": {
      "application/vnd.databricks.v1+output": {
       "addedWidgets": {},
       "arguments": {},
       "data": "<div class=\"ansiout\">Out[1120]: Portal comprador 1     6563\nPortal comprador 24    5439\nPortal comprador 2     3863\nPortal comprador 29    3320\nOtros                  3207\nName: PORTAL, dtype: int64</div>",
       "datasetInfos": [],
       "metadata": {},
       "removedWidgets": [],
       "type": "html"
      }
     },
     "output_type": "display_data"
    }
   ],
   "source": [
    "df['PORTAL'].value_counts()"
   ]
  },
  {
   "cell_type": "code",
   "execution_count": 0,
   "metadata": {
    "application/vnd.databricks.v1+cell": {
     "inputWidgets": {},
     "nuid": "a54158a1-2629-4584-b9c8-0c02f9ee11c9",
     "showTitle": false,
     "title": ""
    }
   },
   "outputs": [
    {
     "data": {
      "text/html": [
       "<style scoped>\n",
       "  .ansiout {\n",
       "    display: block;\n",
       "    unicode-bidi: embed;\n",
       "    white-space: pre-wrap;\n",
       "    word-wrap: break-word;\n",
       "    word-break: break-all;\n",
       "    font-family: \"Source Code Pro\", \"Menlo\", monospace;;\n",
       "    font-size: 13px;\n",
       "    color: #555;\n",
       "    margin-left: 4px;\n",
       "    line-height: 19px;\n",
       "  }\n",
       "</style>\n",
       "<div class=\"ansiout\">Out[1121]: </div>"
      ]
     },
     "metadata": {
      "application/vnd.databricks.v1+output": {
       "addedWidgets": {},
       "arguments": {},
       "data": "<div class=\"ansiout\">Out[1121]: </div>",
       "datasetInfos": [],
       "metadata": {},
       "removedWidgets": [],
       "type": "html"
      }
     },
     "output_type": "display_data"
    },
    {
     "data": {
      "text/html": [
       "<div>\n",
       "<style scoped>\n",
       "    .dataframe tbody tr th:only-of-type {\n",
       "        vertical-align: middle;\n",
       "    }\n",
       "\n",
       "    .dataframe tbody tr th {\n",
       "        vertical-align: top;\n",
       "    }\n",
       "\n",
       "    .dataframe thead th {\n",
       "        text-align: right;\n",
       "    }\n",
       "</style>\n",
       "<table border=\"1\" class=\"dataframe\">\n",
       "  <thead>\n",
       "    <tr style=\"text-align: right;\">\n",
       "      <th></th>\n",
       "      <th>FECHA_ORDEN</th>\n",
       "      <th>CATEGORÍA</th>\n",
       "      <th>SUBCATEGORIA</th>\n",
       "      <th>PROVEEDOR</th>\n",
       "      <th>PORTAL</th>\n",
       "      <th>ESTADO</th>\n",
       "      <th>PRODUCTO_O_SERVICIO</th>\n",
       "      <th>CANTIDAD_PEDIDA</th>\n",
       "      <th>CANTIDAD_RECIBIDA</th>\n",
       "      <th>PRECIO_UNITARIO</th>\n",
       "      <th>IVA</th>\n",
       "      <th>TOTAL_SIN_IVA</th>\n",
       "    </tr>\n",
       "  </thead>\n",
       "  <tbody>\n",
       "    <tr>\n",
       "      <th>0</th>\n",
       "      <td>2021-11-10</td>\n",
       "      <td>Otros</td>\n",
       "      <td>Otros</td>\n",
       "      <td>Otros</td>\n",
       "      <td>Portal comprador 1</td>\n",
       "      <td>Orden en Proceso</td>\n",
       "      <td>Otros</td>\n",
       "      <td>2.00</td>\n",
       "      <td>0.00</td>\n",
       "      <td>23,364.00</td>\n",
       "      <td>4,439.00</td>\n",
       "      <td>46,728.00</td>\n",
       "    </tr>\n",
       "    <tr>\n",
       "      <th>1</th>\n",
       "      <td>2021-11-10</td>\n",
       "      <td>Otros</td>\n",
       "      <td>Otros</td>\n",
       "      <td>Otros</td>\n",
       "      <td>Portal comprador 1</td>\n",
       "      <td>Recibido</td>\n",
       "      <td>Otros</td>\n",
       "      <td>1.00</td>\n",
       "      <td>1.00</td>\n",
       "      <td>1,476,972.00</td>\n",
       "      <td>280,625.00</td>\n",
       "      <td>1,476,972.00</td>\n",
       "    </tr>\n",
       "    <tr>\n",
       "      <th>2</th>\n",
       "      <td>2021-11-10</td>\n",
       "      <td>Alimentos y Bebidas</td>\n",
       "      <td>Alimentos preparados y conservados</td>\n",
       "      <td>Otros</td>\n",
       "      <td>Portal comprador 1</td>\n",
       "      <td>Orden en Proceso</td>\n",
       "      <td>Otros</td>\n",
       "      <td>10.00</td>\n",
       "      <td>0.00</td>\n",
       "      <td>15,500.00</td>\n",
       "      <td>0.00</td>\n",
       "      <td>155,000.00</td>\n",
       "    </tr>\n",
       "    <tr>\n",
       "      <th>3</th>\n",
       "      <td>2021-11-10</td>\n",
       "      <td>Alimentos y Bebidas</td>\n",
       "      <td>Productos de carne y aves de corral</td>\n",
       "      <td>Otros</td>\n",
       "      <td>Portal comprador 2</td>\n",
       "      <td>Orden en Proceso</td>\n",
       "      <td>Otros</td>\n",
       "      <td>50.00</td>\n",
       "      <td>0.00</td>\n",
       "      <td>22,000.00</td>\n",
       "      <td>0.00</td>\n",
       "      <td>1,100,000.00</td>\n",
       "    </tr>\n",
       "    <tr>\n",
       "      <th>4</th>\n",
       "      <td>2021-11-10</td>\n",
       "      <td>Otros</td>\n",
       "      <td>Otros</td>\n",
       "      <td>Otros</td>\n",
       "      <td>Otros</td>\n",
       "      <td>Recibido</td>\n",
       "      <td>Otros</td>\n",
       "      <td>7.00</td>\n",
       "      <td>7.00</td>\n",
       "      <td>92,084.00</td>\n",
       "      <td>17,496.00</td>\n",
       "      <td>644,588.00</td>\n",
       "    </tr>\n",
       "  </tbody>\n",
       "</table>\n",
       "</div>"
      ]
     },
     "metadata": {
      "application/vnd.databricks.v1+output": {
       "addedWidgets": {},
       "arguments": {},
       "data": "<div>\n<style scoped>\n    .dataframe tbody tr th:only-of-type {\n        vertical-align: middle;\n    }\n\n    .dataframe tbody tr th {\n        vertical-align: top;\n    }\n\n    .dataframe thead th {\n        text-align: right;\n    }\n</style>\n<table border=\"1\" class=\"dataframe\">\n  <thead>\n    <tr style=\"text-align: right;\">\n      <th></th>\n      <th>FECHA_ORDEN</th>\n      <th>CATEGORÍA</th>\n      <th>SUBCATEGORIA</th>\n      <th>PROVEEDOR</th>\n      <th>PORTAL</th>\n      <th>ESTADO</th>\n      <th>PRODUCTO_O_SERVICIO</th>\n      <th>CANTIDAD_PEDIDA</th>\n      <th>CANTIDAD_RECIBIDA</th>\n      <th>PRECIO_UNITARIO</th>\n      <th>IVA</th>\n      <th>TOTAL_SIN_IVA</th>\n    </tr>\n  </thead>\n  <tbody>\n    <tr>\n      <th>0</th>\n      <td>2021-11-10</td>\n      <td>Otros</td>\n      <td>Otros</td>\n      <td>Otros</td>\n      <td>Portal comprador 1</td>\n      <td>Orden en Proceso</td>\n      <td>Otros</td>\n      <td>2.00</td>\n      <td>0.00</td>\n      <td>23,364.00</td>\n      <td>4,439.00</td>\n      <td>46,728.00</td>\n    </tr>\n    <tr>\n      <th>1</th>\n      <td>2021-11-10</td>\n      <td>Otros</td>\n      <td>Otros</td>\n      <td>Otros</td>\n      <td>Portal comprador 1</td>\n      <td>Recibido</td>\n      <td>Otros</td>\n      <td>1.00</td>\n      <td>1.00</td>\n      <td>1,476,972.00</td>\n      <td>280,625.00</td>\n      <td>1,476,972.00</td>\n    </tr>\n    <tr>\n      <th>2</th>\n      <td>2021-11-10</td>\n      <td>Alimentos y Bebidas</td>\n      <td>Alimentos preparados y conservados</td>\n      <td>Otros</td>\n      <td>Portal comprador 1</td>\n      <td>Orden en Proceso</td>\n      <td>Otros</td>\n      <td>10.00</td>\n      <td>0.00</td>\n      <td>15,500.00</td>\n      <td>0.00</td>\n      <td>155,000.00</td>\n    </tr>\n    <tr>\n      <th>3</th>\n      <td>2021-11-10</td>\n      <td>Alimentos y Bebidas</td>\n      <td>Productos de carne y aves de corral</td>\n      <td>Otros</td>\n      <td>Portal comprador 2</td>\n      <td>Orden en Proceso</td>\n      <td>Otros</td>\n      <td>50.00</td>\n      <td>0.00</td>\n      <td>22,000.00</td>\n      <td>0.00</td>\n      <td>1,100,000.00</td>\n    </tr>\n    <tr>\n      <th>4</th>\n      <td>2021-11-10</td>\n      <td>Otros</td>\n      <td>Otros</td>\n      <td>Otros</td>\n      <td>Otros</td>\n      <td>Recibido</td>\n      <td>Otros</td>\n      <td>7.00</td>\n      <td>7.00</td>\n      <td>92,084.00</td>\n      <td>17,496.00</td>\n      <td>644,588.00</td>\n    </tr>\n  </tbody>\n</table>\n</div>",
       "datasetInfos": [],
       "metadata": {},
       "removedWidgets": [],
       "textData": null,
       "type": "htmlSandbox"
      }
     },
     "output_type": "display_data"
    }
   ],
   "source": [
    "df.head()"
   ]
  },
  {
   "cell_type": "markdown",
   "metadata": {
    "application/vnd.databricks.v1+cell": {
     "inputWidgets": {},
     "nuid": "7f4a40db-b783-45ef-8adb-e2201bd0bedc",
     "showTitle": false,
     "title": ""
    }
   },
   "source": [
    "# 6. CORRELATION ANALYSIS"
   ]
  },
  {
   "cell_type": "code",
   "execution_count": 0,
   "metadata": {
    "application/vnd.databricks.v1+cell": {
     "inputWidgets": {},
     "nuid": "f7ca12b7-609d-49f9-96df-d4f1d4c8dc12",
     "showTitle": false,
     "title": ""
    }
   },
   "outputs": [
    {
     "data": {
      "text/html": [
       "<style scoped>\n",
       "  .ansiout {\n",
       "    display: block;\n",
       "    unicode-bidi: embed;\n",
       "    white-space: pre-wrap;\n",
       "    word-wrap: break-word;\n",
       "    word-break: break-all;\n",
       "    font-family: \"Source Code Pro\", \"Menlo\", monospace;;\n",
       "    font-size: 13px;\n",
       "    color: #555;\n",
       "    margin-left: 4px;\n",
       "    line-height: 19px;\n",
       "  }\n",
       "</style>\n",
       "<div class=\"ansiout\">Out[1122]: </div>"
      ]
     },
     "metadata": {
      "application/vnd.databricks.v1+output": {
       "addedWidgets": {},
       "arguments": {},
       "data": "<div class=\"ansiout\">Out[1122]: </div>",
       "datasetInfos": [],
       "metadata": {},
       "removedWidgets": [],
       "type": "html"
      }
     },
     "output_type": "display_data"
    },
    {
     "data": {
      "text/html": [
       "<div>\n",
       "<style scoped>\n",
       "    .dataframe tbody tr th:only-of-type {\n",
       "        vertical-align: middle;\n",
       "    }\n",
       "\n",
       "    .dataframe tbody tr th {\n",
       "        vertical-align: top;\n",
       "    }\n",
       "\n",
       "    .dataframe thead th {\n",
       "        text-align: right;\n",
       "    }\n",
       "</style>\n",
       "<table border=\"1\" class=\"dataframe\">\n",
       "  <thead>\n",
       "    <tr style=\"text-align: right;\">\n",
       "      <th></th>\n",
       "      <th>CANTIDAD_PEDIDA</th>\n",
       "      <th>CANTIDAD_RECIBIDA</th>\n",
       "      <th>PRECIO_UNITARIO</th>\n",
       "      <th>IVA</th>\n",
       "      <th>TOTAL_SIN_IVA</th>\n",
       "    </tr>\n",
       "  </thead>\n",
       "  <tbody>\n",
       "    <tr>\n",
       "      <th>CANTIDAD_PEDIDA</th>\n",
       "      <td>1.00</td>\n",
       "      <td>0.44</td>\n",
       "      <td>-0.01</td>\n",
       "      <td>-0.01</td>\n",
       "      <td>0.02</td>\n",
       "    </tr>\n",
       "    <tr>\n",
       "      <th>CANTIDAD_RECIBIDA</th>\n",
       "      <td>0.44</td>\n",
       "      <td>1.00</td>\n",
       "      <td>-0.01</td>\n",
       "      <td>-0.01</td>\n",
       "      <td>0.04</td>\n",
       "    </tr>\n",
       "    <tr>\n",
       "      <th>PRECIO_UNITARIO</th>\n",
       "      <td>-0.01</td>\n",
       "      <td>-0.01</td>\n",
       "      <td>1.00</td>\n",
       "      <td>0.86</td>\n",
       "      <td>0.61</td>\n",
       "    </tr>\n",
       "    <tr>\n",
       "      <th>IVA</th>\n",
       "      <td>-0.01</td>\n",
       "      <td>-0.01</td>\n",
       "      <td>0.86</td>\n",
       "      <td>1.00</td>\n",
       "      <td>0.45</td>\n",
       "    </tr>\n",
       "    <tr>\n",
       "      <th>TOTAL_SIN_IVA</th>\n",
       "      <td>0.02</td>\n",
       "      <td>0.04</td>\n",
       "      <td>0.61</td>\n",
       "      <td>0.45</td>\n",
       "      <td>1.00</td>\n",
       "    </tr>\n",
       "  </tbody>\n",
       "</table>\n",
       "</div>"
      ]
     },
     "metadata": {
      "application/vnd.databricks.v1+output": {
       "addedWidgets": {},
       "arguments": {},
       "data": "<div>\n<style scoped>\n    .dataframe tbody tr th:only-of-type {\n        vertical-align: middle;\n    }\n\n    .dataframe tbody tr th {\n        vertical-align: top;\n    }\n\n    .dataframe thead th {\n        text-align: right;\n    }\n</style>\n<table border=\"1\" class=\"dataframe\">\n  <thead>\n    <tr style=\"text-align: right;\">\n      <th></th>\n      <th>CANTIDAD_PEDIDA</th>\n      <th>CANTIDAD_RECIBIDA</th>\n      <th>PRECIO_UNITARIO</th>\n      <th>IVA</th>\n      <th>TOTAL_SIN_IVA</th>\n    </tr>\n  </thead>\n  <tbody>\n    <tr>\n      <th>CANTIDAD_PEDIDA</th>\n      <td>1.00</td>\n      <td>0.44</td>\n      <td>-0.01</td>\n      <td>-0.01</td>\n      <td>0.02</td>\n    </tr>\n    <tr>\n      <th>CANTIDAD_RECIBIDA</th>\n      <td>0.44</td>\n      <td>1.00</td>\n      <td>-0.01</td>\n      <td>-0.01</td>\n      <td>0.04</td>\n    </tr>\n    <tr>\n      <th>PRECIO_UNITARIO</th>\n      <td>-0.01</td>\n      <td>-0.01</td>\n      <td>1.00</td>\n      <td>0.86</td>\n      <td>0.61</td>\n    </tr>\n    <tr>\n      <th>IVA</th>\n      <td>-0.01</td>\n      <td>-0.01</td>\n      <td>0.86</td>\n      <td>1.00</td>\n      <td>0.45</td>\n    </tr>\n    <tr>\n      <th>TOTAL_SIN_IVA</th>\n      <td>0.02</td>\n      <td>0.04</td>\n      <td>0.61</td>\n      <td>0.45</td>\n      <td>1.00</td>\n    </tr>\n  </tbody>\n</table>\n</div>",
       "datasetInfos": [],
       "metadata": {},
       "removedWidgets": [],
       "textData": null,
       "type": "htmlSandbox"
      }
     },
     "output_type": "display_data"
    }
   ],
   "source": [
    "df.corr()"
   ]
  },
  {
   "cell_type": "code",
   "execution_count": 0,
   "metadata": {
    "application/vnd.databricks.v1+cell": {
     "inputWidgets": {},
     "nuid": "32af955e-a419-4c18-b460-0ddc97176aae",
     "showTitle": false,
     "title": ""
    }
   },
   "outputs": [
    {
     "data": {
      "text/html": [
       "<style scoped>\n",
       "  .ansiout {\n",
       "    display: block;\n",
       "    unicode-bidi: embed;\n",
       "    white-space: pre-wrap;\n",
       "    word-wrap: break-word;\n",
       "    word-break: break-all;\n",
       "    font-family: \"Source Code Pro\", \"Menlo\", monospace;;\n",
       "    font-size: 13px;\n",
       "    color: #555;\n",
       "    margin-left: 4px;\n",
       "    line-height: 19px;\n",
       "  }\n",
       "</style>\n",
       "<div class=\"ansiout\">Out[1123]: </div>"
      ]
     },
     "metadata": {
      "application/vnd.databricks.v1+output": {
       "addedWidgets": {},
       "arguments": {},
       "data": "<div class=\"ansiout\">Out[1123]: </div>",
       "datasetInfos": [],
       "metadata": {},
       "removedWidgets": [],
       "type": "html"
      }
     },
     "output_type": "display_data"
    },
    {
     "data": {
      "image/png": "[encoded data removed]"
     },
     "metadata": {
      "application/vnd.databricks.v1+output": {
       "addedWidgets": {},
       "arguments": {},
       "data": "/plots/b2e4caf6-78e3-49f9-aa4b-a88f664125ea.png",
       "datasetInfos": [],
       "metadata": {},
       "removedWidgets": [],
       "type": "image"
      }
     },
     "output_type": "display_data"
    },
    {
     "data": {
      "text/html": [
       "<style scoped>\n",
       "  .ansiout {\n",
       "    display: block;\n",
       "    unicode-bidi: embed;\n",
       "    white-space: pre-wrap;\n",
       "    word-wrap: break-word;\n",
       "    word-break: break-all;\n",
       "    font-family: \"Source Code Pro\", \"Menlo\", monospace;;\n",
       "    font-size: 13px;\n",
       "    color: #555;\n",
       "    margin-left: 4px;\n",
       "    line-height: 19px;\n",
       "  }\n",
       "</style>\n",
       "<div class=\"ansiout\">&lt;matplotlib.axes._subplots.AxesSubplot at 0x7f4811da1910&gt;</div>"
      ]
     },
     "metadata": {
      "application/vnd.databricks.v1+output": {
       "addedWidgets": {},
       "arguments": {},
       "data": "<div class=\"ansiout\">&lt;matplotlib.axes._subplots.AxesSubplot at 0x7f4811da1910&gt;</div>",
       "datasetInfos": [],
       "metadata": {},
       "removedWidgets": [],
       "type": "html"
      }
     },
     "output_type": "display_data"
    }
   ],
   "source": [
    "sns.heatmap(df.corr(), center=0, annot=True, linewidths=.5)"
   ]
  },
  {
   "cell_type": "code",
   "execution_count": 0,
   "metadata": {
    "application/vnd.databricks.v1+cell": {
     "inputWidgets": {},
     "nuid": "03b0d8a3-5ce1-4efe-bbb0-4eeedbddcf4f",
     "showTitle": false,
     "title": ""
    }
   },
   "outputs": [
    {
     "data": {
      "text/html": [
       "<style scoped>\n",
       "  .ansiout {\n",
       "    display: block;\n",
       "    unicode-bidi: embed;\n",
       "    white-space: pre-wrap;\n",
       "    word-wrap: break-word;\n",
       "    word-break: break-all;\n",
       "    font-family: \"Source Code Pro\", \"Menlo\", monospace;;\n",
       "    font-size: 13px;\n",
       "    color: #555;\n",
       "    margin-left: 4px;\n",
       "    line-height: 19px;\n",
       "  }\n",
       "</style>\n",
       "<div class=\"ansiout\">Out[1124]: </div>"
      ]
     },
     "metadata": {
      "application/vnd.databricks.v1+output": {
       "addedWidgets": {},
       "arguments": {},
       "data": "<div class=\"ansiout\">Out[1124]: </div>",
       "datasetInfos": [],
       "metadata": {},
       "removedWidgets": [],
       "type": "html"
      }
     },
     "output_type": "display_data"
    },
    {
     "data": {
      "text/html": [
       "<div>\n",
       "<style scoped>\n",
       "    .dataframe tbody tr th:only-of-type {\n",
       "        vertical-align: middle;\n",
       "    }\n",
       "\n",
       "    .dataframe tbody tr th {\n",
       "        vertical-align: top;\n",
       "    }\n",
       "\n",
       "    .dataframe thead th {\n",
       "        text-align: right;\n",
       "    }\n",
       "</style>\n",
       "<table border=\"1\" class=\"dataframe\">\n",
       "  <thead>\n",
       "    <tr style=\"text-align: right;\">\n",
       "      <th></th>\n",
       "      <th>CANTIDAD_PEDIDA</th>\n",
       "      <th>CANTIDAD_RECIBIDA</th>\n",
       "      <th>PRECIO_UNITARIO</th>\n",
       "      <th>IVA</th>\n",
       "      <th>TOTAL_SIN_IVA</th>\n",
       "    </tr>\n",
       "  </thead>\n",
       "  <tbody>\n",
       "    <tr>\n",
       "      <th>count</th>\n",
       "      <td>22,392.00</td>\n",
       "      <td>22,392.00</td>\n",
       "      <td>22,392.00</td>\n",
       "      <td>22,392.00</td>\n",
       "      <td>22,392.00</td>\n",
       "    </tr>\n",
       "    <tr>\n",
       "      <th>mean</th>\n",
       "      <td>196.68</td>\n",
       "      <td>49.52</td>\n",
       "      <td>74,075.30</td>\n",
       "      <td>11,499.70</td>\n",
       "      <td>477,559.00</td>\n",
       "    </tr>\n",
       "    <tr>\n",
       "      <th>std</th>\n",
       "      <td>1,976.19</td>\n",
       "      <td>880.83</td>\n",
       "      <td>644,263.69</td>\n",
       "      <td>104,931.32</td>\n",
       "      <td>3,160,637.50</td>\n",
       "    </tr>\n",
       "    <tr>\n",
       "      <th>min</th>\n",
       "      <td>0.27</td>\n",
       "      <td>0.00</td>\n",
       "      <td>0.00</td>\n",
       "      <td>0.00</td>\n",
       "      <td>0.00</td>\n",
       "    </tr>\n",
       "    <tr>\n",
       "      <th>25%</th>\n",
       "      <td>2.00</td>\n",
       "      <td>0.00</td>\n",
       "      <td>1,861.00</td>\n",
       "      <td>93.00</td>\n",
       "      <td>29,412.00</td>\n",
       "    </tr>\n",
       "    <tr>\n",
       "      <th>50%</th>\n",
       "      <td>7.00</td>\n",
       "      <td>2.00</td>\n",
       "      <td>11,400.00</td>\n",
       "      <td>1,040.00</td>\n",
       "      <td>90,756.00</td>\n",
       "    </tr>\n",
       "    <tr>\n",
       "      <th>75%</th>\n",
       "      <td>40.00</td>\n",
       "      <td>10.00</td>\n",
       "      <td>32,222.00</td>\n",
       "      <td>5,588.00</td>\n",
       "      <td>294,118.00</td>\n",
       "    </tr>\n",
       "    <tr>\n",
       "      <th>max</th>\n",
       "      <td>120,000.00</td>\n",
       "      <td>53,620.00</td>\n",
       "      <td>33,242,814.00</td>\n",
       "      <td>6,316,135.00</td>\n",
       "      <td>299,185,312.00</td>\n",
       "    </tr>\n",
       "  </tbody>\n",
       "</table>\n",
       "</div>"
      ]
     },
     "metadata": {
      "application/vnd.databricks.v1+output": {
       "addedWidgets": {},
       "arguments": {},
       "data": "<div>\n<style scoped>\n    .dataframe tbody tr th:only-of-type {\n        vertical-align: middle;\n    }\n\n    .dataframe tbody tr th {\n        vertical-align: top;\n    }\n\n    .dataframe thead th {\n        text-align: right;\n    }\n</style>\n<table border=\"1\" class=\"dataframe\">\n  <thead>\n    <tr style=\"text-align: right;\">\n      <th></th>\n      <th>CANTIDAD_PEDIDA</th>\n      <th>CANTIDAD_RECIBIDA</th>\n      <th>PRECIO_UNITARIO</th>\n      <th>IVA</th>\n      <th>TOTAL_SIN_IVA</th>\n    </tr>\n  </thead>\n  <tbody>\n    <tr>\n      <th>count</th>\n      <td>22,392.00</td>\n      <td>22,392.00</td>\n      <td>22,392.00</td>\n      <td>22,392.00</td>\n      <td>22,392.00</td>\n    </tr>\n    <tr>\n      <th>mean</th>\n      <td>196.68</td>\n      <td>49.52</td>\n      <td>74,075.30</td>\n      <td>11,499.70</td>\n      <td>477,559.00</td>\n    </tr>\n    <tr>\n      <th>std</th>\n      <td>1,976.19</td>\n      <td>880.83</td>\n      <td>644,263.69</td>\n      <td>104,931.32</td>\n      <td>3,160,637.50</td>\n    </tr>\n    <tr>\n      <th>min</th>\n      <td>0.27</td>\n      <td>0.00</td>\n      <td>0.00</td>\n      <td>0.00</td>\n      <td>0.00</td>\n    </tr>\n    <tr>\n      <th>25%</th>\n      <td>2.00</td>\n      <td>0.00</td>\n      <td>1,861.00</td>\n      <td>93.00</td>\n      <td>29,412.00</td>\n    </tr>\n    <tr>\n      <th>50%</th>\n      <td>7.00</td>\n      <td>2.00</td>\n      <td>11,400.00</td>\n      <td>1,040.00</td>\n      <td>90,756.00</td>\n    </tr>\n    <tr>\n      <th>75%</th>\n      <td>40.00</td>\n      <td>10.00</td>\n      <td>32,222.00</td>\n      <td>5,588.00</td>\n      <td>294,118.00</td>\n    </tr>\n    <tr>\n      <th>max</th>\n      <td>120,000.00</td>\n      <td>53,620.00</td>\n      <td>33,242,814.00</td>\n      <td>6,316,135.00</td>\n      <td>299,185,312.00</td>\n    </tr>\n  </tbody>\n</table>\n</div>",
       "datasetInfos": [],
       "metadata": {},
       "removedWidgets": [],
       "textData": null,
       "type": "htmlSandbox"
      }
     },
     "output_type": "display_data"
    }
   ],
   "source": [
    "df.describe()"
   ]
  },
  {
   "cell_type": "code",
   "execution_count": 0,
   "metadata": {
    "application/vnd.databricks.v1+cell": {
     "inputWidgets": {},
     "nuid": "9b4be15b-2810-4c8c-bc32-252ff8abd408",
     "showTitle": false,
     "title": ""
    }
   },
   "outputs": [
    {
     "data": {
      "text/html": [
       "<style scoped>\n",
       "  .ansiout {\n",
       "    display: block;\n",
       "    unicode-bidi: embed;\n",
       "    white-space: pre-wrap;\n",
       "    word-wrap: break-word;\n",
       "    word-break: break-all;\n",
       "    font-family: \"Source Code Pro\", \"Menlo\", monospace;;\n",
       "    font-size: 13px;\n",
       "    color: #555;\n",
       "    margin-left: 4px;\n",
       "    line-height: 19px;\n",
       "  }\n",
       "</style>\n",
       "<div class=\"ansiout\">Out[1125]: (22392, 12)</div>"
      ]
     },
     "metadata": {
      "application/vnd.databricks.v1+output": {
       "addedWidgets": {},
       "arguments": {},
       "data": "<div class=\"ansiout\">Out[1125]: (22392, 12)</div>",
       "datasetInfos": [],
       "metadata": {},
       "removedWidgets": [],
       "type": "html"
      }
     },
     "output_type": "display_data"
    }
   ],
   "source": [
    "df.shape"
   ]
  },
  {
   "cell_type": "code",
   "execution_count": 0,
   "metadata": {
    "application/vnd.databricks.v1+cell": {
     "inputWidgets": {},
     "nuid": "d8cb654e-92df-4c09-bb72-d67112e242a6",
     "showTitle": false,
     "title": ""
    }
   },
   "outputs": [
    {
     "data": {
      "text/html": [
       "<style scoped>\n",
       "  .ansiout {\n",
       "    display: block;\n",
       "    unicode-bidi: embed;\n",
       "    white-space: pre-wrap;\n",
       "    word-wrap: break-word;\n",
       "    word-break: break-all;\n",
       "    font-family: \"Source Code Pro\", \"Menlo\", monospace;;\n",
       "    font-size: 13px;\n",
       "    color: #555;\n",
       "    margin-left: 4px;\n",
       "    line-height: 19px;\n",
       "  }\n",
       "</style>\n",
       "<div class=\"ansiout\"></div>"
      ]
     },
     "metadata": {
      "application/vnd.databricks.v1+output": {
       "addedWidgets": {},
       "arguments": {},
       "data": "<div class=\"ansiout\"></div>",
       "datasetInfos": [],
       "metadata": {},
       "removedWidgets": [],
       "type": "html"
      }
     },
     "output_type": "display_data"
    }
   ],
   "source": [
    "df.to_excel('/dbfs/mnt/data/Proveindustriales_Dic_2/Proveindustriales_completo.xls', index=False)"
   ]
  },
  {
   "cell_type": "code",
   "execution_count": 0,
   "metadata": {
    "application/vnd.databricks.v1+cell": {
     "inputWidgets": {},
     "nuid": "6928996c-67fd-4452-b9ac-01d57c3e4bf4",
     "showTitle": false,
     "title": ""
    }
   },
   "outputs": [
    {
     "data": {
      "text/html": [
       "<style scoped>\n",
       "  .ansiout {\n",
       "    display: block;\n",
       "    unicode-bidi: embed;\n",
       "    white-space: pre-wrap;\n",
       "    word-wrap: break-word;\n",
       "    word-break: break-all;\n",
       "    font-family: \"Source Code Pro\", \"Menlo\", monospace;;\n",
       "    font-size: 13px;\n",
       "    color: #555;\n",
       "    margin-left: 4px;\n",
       "    line-height: 19px;\n",
       "  }\n",
       "</style>\n",
       "<div class=\"ansiout\">CATEGORÍA:  5\n",
       "SUBCATEGORIA:  8\n",
       "PROVEEDOR:  4\n",
       "PORTAL:  5\n",
       "PRODUCTO_O_SERVICIO:  8\n",
       "</div>"
      ]
     },
     "metadata": {
      "application/vnd.databricks.v1+output": {
       "addedWidgets": {},
       "arguments": {},
       "data": "<div class=\"ansiout\">CATEGORÍA:  5\nSUBCATEGORIA:  8\nPROVEEDOR:  4\nPORTAL:  5\nPRODUCTO_O_SERVICIO:  8\n</div>",
       "datasetInfos": [],
       "metadata": {},
       "removedWidgets": [],
       "type": "html"
      }
     },
     "output_type": "display_data"
    }
   ],
   "source": [
    "print('CATEGORÍA: ', len(df['CATEGORÍA'].unique()))\n",
    "print('SUBCATEGORIA: ', len(df['SUBCATEGORIA'].unique()))\n",
    "print('PROVEEDOR: ', len(df['PROVEEDOR'].unique()))\n",
    "print('PORTAL: ', len(df['PORTAL'].unique()))\n",
    "print('PRODUCTO_O_SERVICIO: ', len(df['PRODUCTO_O_SERVICIO'].unique()))"
   ]
  },
  {
   "cell_type": "markdown",
   "metadata": {
    "application/vnd.databricks.v1+cell": {
     "inputWidgets": {},
     "nuid": "f78e07d3-9b10-4b01-9ced-127923d28b71",
     "showTitle": false,
     "title": ""
    }
   },
   "source": [
    "# 8. TRANSFORMATION"
   ]
  },
  {
   "cell_type": "code",
   "execution_count": 0,
   "metadata": {
    "application/vnd.databricks.v1+cell": {
     "inputWidgets": {},
     "nuid": "de208519-fec5-4f45-a84f-1bbedf3c9b8d",
     "showTitle": false,
     "title": ""
    }
   },
   "outputs": [
    {
     "data": {
      "text/html": [
       "<style scoped>\n",
       "  .ansiout {\n",
       "    display: block;\n",
       "    unicode-bidi: embed;\n",
       "    white-space: pre-wrap;\n",
       "    word-wrap: break-word;\n",
       "    word-break: break-all;\n",
       "    font-family: \"Source Code Pro\", \"Menlo\", monospace;;\n",
       "    font-size: 13px;\n",
       "    color: #555;\n",
       "    margin-left: 4px;\n",
       "    line-height: 19px;\n",
       "  }\n",
       "</style>\n",
       "<div class=\"ansiout\"></div>"
      ]
     },
     "metadata": {
      "application/vnd.databricks.v1+output": {
       "addedWidgets": {},
       "arguments": {},
       "data": "<div class=\"ansiout\"></div>",
       "datasetInfos": [],
       "metadata": {},
       "removedWidgets": [],
       "type": "html"
      }
     },
     "output_type": "display_data"
    }
   ],
   "source": [
    "from sklearn.preprocessing import OneHotEncoder\n",
    "from sklearn.compose import ColumnTransformer\n",
    "from sklearn.compose import ColumnTransformer\n",
    "from sklearn.pipeline import Pipeline\n",
    "from sklearn.preprocessing import Normalizer"
   ]
  },
  {
   "cell_type": "markdown",
   "metadata": {
    "application/vnd.databricks.v1+cell": {
     "inputWidgets": {},
     "nuid": "00259263-ceba-482e-953f-65dddd033291",
     "showTitle": false,
     "title": ""
    }
   },
   "source": [
    "## Numeric to Normalized values"
   ]
  },
  {
   "cell_type": "code",
   "execution_count": 0,
   "metadata": {
    "application/vnd.databricks.v1+cell": {
     "inputWidgets": {},
     "nuid": "bca26e3a-695c-416d-8af8-94de8c41beb7",
     "showTitle": false,
     "title": ""
    }
   },
   "outputs": [
    {
     "data": {
      "text/html": [
       "<style scoped>\n",
       "  .ansiout {\n",
       "    display: block;\n",
       "    unicode-bidi: embed;\n",
       "    white-space: pre-wrap;\n",
       "    word-wrap: break-word;\n",
       "    word-break: break-all;\n",
       "    font-family: \"Source Code Pro\", \"Menlo\", monospace;;\n",
       "    font-size: 13px;\n",
       "    color: #555;\n",
       "    margin-left: 4px;\n",
       "    line-height: 19px;\n",
       "  }\n",
       "</style>\n",
       "<div class=\"ansiout\">Out[1129]: </div>"
      ]
     },
     "metadata": {
      "application/vnd.databricks.v1+output": {
       "addedWidgets": {},
       "arguments": {},
       "data": "<div class=\"ansiout\">Out[1129]: </div>",
       "datasetInfos": [],
       "metadata": {},
       "removedWidgets": [],
       "type": "html"
      }
     },
     "output_type": "display_data"
    },
    {
     "data": {
      "text/html": [
       "<div>\n",
       "<style scoped>\n",
       "    .dataframe tbody tr th:only-of-type {\n",
       "        vertical-align: middle;\n",
       "    }\n",
       "\n",
       "    .dataframe tbody tr th {\n",
       "        vertical-align: top;\n",
       "    }\n",
       "\n",
       "    .dataframe thead th {\n",
       "        text-align: right;\n",
       "    }\n",
       "</style>\n",
       "<table border=\"1\" class=\"dataframe\">\n",
       "  <thead>\n",
       "    <tr style=\"text-align: right;\">\n",
       "      <th></th>\n",
       "      <th>CANTIDAD_PEDIDA</th>\n",
       "      <th>CANTIDAD_RECIBIDA</th>\n",
       "      <th>PRECIO_UNITARIO</th>\n",
       "      <th>IVA</th>\n",
       "      <th>TOTAL_SIN_IVA</th>\n",
       "    </tr>\n",
       "  </thead>\n",
       "  <tbody>\n",
       "    <tr>\n",
       "      <th>0</th>\n",
       "      <td>2.00</td>\n",
       "      <td>0.00</td>\n",
       "      <td>23,364.00</td>\n",
       "      <td>4,439.00</td>\n",
       "      <td>46,728.00</td>\n",
       "    </tr>\n",
       "    <tr>\n",
       "      <th>1</th>\n",
       "      <td>1.00</td>\n",
       "      <td>1.00</td>\n",
       "      <td>1,476,972.00</td>\n",
       "      <td>280,625.00</td>\n",
       "      <td>1,476,972.00</td>\n",
       "    </tr>\n",
       "    <tr>\n",
       "      <th>2</th>\n",
       "      <td>10.00</td>\n",
       "      <td>0.00</td>\n",
       "      <td>15,500.00</td>\n",
       "      <td>0.00</td>\n",
       "      <td>155,000.00</td>\n",
       "    </tr>\n",
       "    <tr>\n",
       "      <th>3</th>\n",
       "      <td>50.00</td>\n",
       "      <td>0.00</td>\n",
       "      <td>22,000.00</td>\n",
       "      <td>0.00</td>\n",
       "      <td>1,100,000.00</td>\n",
       "    </tr>\n",
       "    <tr>\n",
       "      <th>4</th>\n",
       "      <td>7.00</td>\n",
       "      <td>7.00</td>\n",
       "      <td>92,084.00</td>\n",
       "      <td>17,496.00</td>\n",
       "      <td>644,588.00</td>\n",
       "    </tr>\n",
       "    <tr>\n",
       "      <th>...</th>\n",
       "      <td>...</td>\n",
       "      <td>...</td>\n",
       "      <td>...</td>\n",
       "      <td>...</td>\n",
       "      <td>...</td>\n",
       "    </tr>\n",
       "    <tr>\n",
       "      <th>23078</th>\n",
       "      <td>8.00</td>\n",
       "      <td>8.00</td>\n",
       "      <td>33,613.00</td>\n",
       "      <td>6,387.00</td>\n",
       "      <td>268,908.00</td>\n",
       "    </tr>\n",
       "    <tr>\n",
       "      <th>23079</th>\n",
       "      <td>1.00</td>\n",
       "      <td>1.00</td>\n",
       "      <td>588.00</td>\n",
       "      <td>112.00</td>\n",
       "      <td>588.00</td>\n",
       "    </tr>\n",
       "    <tr>\n",
       "      <th>23080</th>\n",
       "      <td>3.00</td>\n",
       "      <td>3.00</td>\n",
       "      <td>29,412.00</td>\n",
       "      <td>5,588.00</td>\n",
       "      <td>88,235.00</td>\n",
       "    </tr>\n",
       "    <tr>\n",
       "      <th>23081</th>\n",
       "      <td>4.00</td>\n",
       "      <td>4.00</td>\n",
       "      <td>29,412.00</td>\n",
       "      <td>5,588.00</td>\n",
       "      <td>117,647.00</td>\n",
       "    </tr>\n",
       "    <tr>\n",
       "      <th>23082</th>\n",
       "      <td>5.00</td>\n",
       "      <td>5.00</td>\n",
       "      <td>33,613.00</td>\n",
       "      <td>6,387.00</td>\n",
       "      <td>168,067.00</td>\n",
       "    </tr>\n",
       "  </tbody>\n",
       "</table>\n",
       "<p>22392 rows × 5 columns</p>\n",
       "</div>"
      ]
     },
     "metadata": {
      "application/vnd.databricks.v1+output": {
       "addedWidgets": {},
       "arguments": {},
       "data": "<div>\n<style scoped>\n    .dataframe tbody tr th:only-of-type {\n        vertical-align: middle;\n    }\n\n    .dataframe tbody tr th {\n        vertical-align: top;\n    }\n\n    .dataframe thead th {\n        text-align: right;\n    }\n</style>\n<table border=\"1\" class=\"dataframe\">\n  <thead>\n    <tr style=\"text-align: right;\">\n      <th></th>\n      <th>CANTIDAD_PEDIDA</th>\n      <th>CANTIDAD_RECIBIDA</th>\n      <th>PRECIO_UNITARIO</th>\n      <th>IVA</th>\n      <th>TOTAL_SIN_IVA</th>\n    </tr>\n  </thead>\n  <tbody>\n    <tr>\n      <th>0</th>\n      <td>2.00</td>\n      <td>0.00</td>\n      <td>23,364.00</td>\n      <td>4,439.00</td>\n      <td>46,728.00</td>\n    </tr>\n    <tr>\n      <th>1</th>\n      <td>1.00</td>\n      <td>1.00</td>\n      <td>1,476,972.00</td>\n      <td>280,625.00</td>\n      <td>1,476,972.00</td>\n    </tr>\n    <tr>\n      <th>2</th>\n      <td>10.00</td>\n      <td>0.00</td>\n      <td>15,500.00</td>\n      <td>0.00</td>\n      <td>155,000.00</td>\n    </tr>\n    <tr>\n      <th>3</th>\n      <td>50.00</td>\n      <td>0.00</td>\n      <td>22,000.00</td>\n      <td>0.00</td>\n      <td>1,100,000.00</td>\n    </tr>\n    <tr>\n      <th>4</th>\n      <td>7.00</td>\n      <td>7.00</td>\n      <td>92,084.00</td>\n      <td>17,496.00</td>\n      <td>644,588.00</td>\n    </tr>\n    <tr>\n      <th>...</th>\n      <td>...</td>\n      <td>...</td>\n      <td>...</td>\n      <td>...</td>\n      <td>...</td>\n    </tr>\n    <tr>\n      <th>23078</th>\n      <td>8.00</td>\n      <td>8.00</td>\n      <td>33,613.00</td>\n      <td>6,387.00</td>\n      <td>268,908.00</td>\n    </tr>\n    <tr>\n      <th>23079</th>\n      <td>1.00</td>\n      <td>1.00</td>\n      <td>588.00</td>\n      <td>112.00</td>\n      <td>588.00</td>\n    </tr>\n    <tr>\n      <th>23080</th>\n      <td>3.00</td>\n      <td>3.00</td>\n      <td>29,412.00</td>\n      <td>5,588.00</td>\n      <td>88,235.00</td>\n    </tr>\n    <tr>\n      <th>23081</th>\n      <td>4.00</td>\n      <td>4.00</td>\n      <td>29,412.00</td>\n      <td>5,588.00</td>\n      <td>117,647.00</td>\n    </tr>\n    <tr>\n      <th>23082</th>\n      <td>5.00</td>\n      <td>5.00</td>\n      <td>33,613.00</td>\n      <td>6,387.00</td>\n      <td>168,067.00</td>\n    </tr>\n  </tbody>\n</table>\n<p>22392 rows × 5 columns</p>\n</div>",
       "datasetInfos": [],
       "metadata": {},
       "removedWidgets": [],
       "textData": null,
       "type": "htmlSandbox"
      }
     },
     "output_type": "display_data"
    }
   ],
   "source": [
    "df_numeric = df.select_dtypes(['int32', 'int64', 'float32', 'float64'])\n",
    "df_numeric"
   ]
  },
  {
   "cell_type": "code",
   "execution_count": 0,
   "metadata": {
    "application/vnd.databricks.v1+cell": {
     "inputWidgets": {},
     "nuid": "9f3e1313-3578-4af1-a524-1a3a6a43cfa7",
     "showTitle": false,
     "title": ""
    }
   },
   "outputs": [
    {
     "data": {
      "text/html": [
       "<style scoped>\n",
       "  .ansiout {\n",
       "    display: block;\n",
       "    unicode-bidi: embed;\n",
       "    white-space: pre-wrap;\n",
       "    word-wrap: break-word;\n",
       "    word-break: break-all;\n",
       "    font-family: \"Source Code Pro\", \"Menlo\", monospace;;\n",
       "    font-size: 13px;\n",
       "    color: #555;\n",
       "    margin-left: 4px;\n",
       "    line-height: 19px;\n",
       "  }\n",
       "</style>\n",
       "<div class=\"ansiout\">Out[1130]: </div>"
      ]
     },
     "metadata": {
      "application/vnd.databricks.v1+output": {
       "addedWidgets": {},
       "arguments": {},
       "data": "<div class=\"ansiout\">Out[1130]: </div>",
       "datasetInfos": [],
       "metadata": {},
       "removedWidgets": [],
       "type": "html"
      }
     },
     "output_type": "display_data"
    },
    {
     "data": {
      "text/html": [
       "<div>\n",
       "<style scoped>\n",
       "    .dataframe tbody tr th:only-of-type {\n",
       "        vertical-align: middle;\n",
       "    }\n",
       "\n",
       "    .dataframe tbody tr th {\n",
       "        vertical-align: top;\n",
       "    }\n",
       "\n",
       "    .dataframe thead th {\n",
       "        text-align: right;\n",
       "    }\n",
       "</style>\n",
       "<table border=\"1\" class=\"dataframe\">\n",
       "  <thead>\n",
       "    <tr style=\"text-align: right;\">\n",
       "      <th></th>\n",
       "      <th>CANTIDAD_PEDIDA</th>\n",
       "      <th>CANTIDAD_RECIBIDA</th>\n",
       "      <th>PRECIO_UNITARIO</th>\n",
       "      <th>IVA</th>\n",
       "      <th>TOTAL_SIN_IVA</th>\n",
       "    </tr>\n",
       "  </thead>\n",
       "  <tbody>\n",
       "    <tr>\n",
       "      <th>count</th>\n",
       "      <td>22,392.00</td>\n",
       "      <td>22,392.00</td>\n",
       "      <td>22,392.00</td>\n",
       "      <td>22,392.00</td>\n",
       "      <td>22,392.00</td>\n",
       "    </tr>\n",
       "    <tr>\n",
       "      <th>mean</th>\n",
       "      <td>196.68</td>\n",
       "      <td>49.52</td>\n",
       "      <td>74,075.30</td>\n",
       "      <td>11,499.70</td>\n",
       "      <td>477,559.00</td>\n",
       "    </tr>\n",
       "    <tr>\n",
       "      <th>std</th>\n",
       "      <td>1,976.19</td>\n",
       "      <td>880.83</td>\n",
       "      <td>644,263.69</td>\n",
       "      <td>104,931.32</td>\n",
       "      <td>3,160,637.50</td>\n",
       "    </tr>\n",
       "    <tr>\n",
       "      <th>min</th>\n",
       "      <td>0.27</td>\n",
       "      <td>0.00</td>\n",
       "      <td>0.00</td>\n",
       "      <td>0.00</td>\n",
       "      <td>0.00</td>\n",
       "    </tr>\n",
       "    <tr>\n",
       "      <th>25%</th>\n",
       "      <td>2.00</td>\n",
       "      <td>0.00</td>\n",
       "      <td>1,861.00</td>\n",
       "      <td>93.00</td>\n",
       "      <td>29,412.00</td>\n",
       "    </tr>\n",
       "    <tr>\n",
       "      <th>50%</th>\n",
       "      <td>7.00</td>\n",
       "      <td>2.00</td>\n",
       "      <td>11,400.00</td>\n",
       "      <td>1,040.00</td>\n",
       "      <td>90,756.00</td>\n",
       "    </tr>\n",
       "    <tr>\n",
       "      <th>75%</th>\n",
       "      <td>40.00</td>\n",
       "      <td>10.00</td>\n",
       "      <td>32,222.00</td>\n",
       "      <td>5,588.00</td>\n",
       "      <td>294,118.00</td>\n",
       "    </tr>\n",
       "    <tr>\n",
       "      <th>max</th>\n",
       "      <td>120,000.00</td>\n",
       "      <td>53,620.00</td>\n",
       "      <td>33,242,814.00</td>\n",
       "      <td>6,316,135.00</td>\n",
       "      <td>299,185,312.00</td>\n",
       "    </tr>\n",
       "  </tbody>\n",
       "</table>\n",
       "</div>"
      ]
     },
     "metadata": {
      "application/vnd.databricks.v1+output": {
       "addedWidgets": {},
       "arguments": {},
       "data": "<div>\n<style scoped>\n    .dataframe tbody tr th:only-of-type {\n        vertical-align: middle;\n    }\n\n    .dataframe tbody tr th {\n        vertical-align: top;\n    }\n\n    .dataframe thead th {\n        text-align: right;\n    }\n</style>\n<table border=\"1\" class=\"dataframe\">\n  <thead>\n    <tr style=\"text-align: right;\">\n      <th></th>\n      <th>CANTIDAD_PEDIDA</th>\n      <th>CANTIDAD_RECIBIDA</th>\n      <th>PRECIO_UNITARIO</th>\n      <th>IVA</th>\n      <th>TOTAL_SIN_IVA</th>\n    </tr>\n  </thead>\n  <tbody>\n    <tr>\n      <th>count</th>\n      <td>22,392.00</td>\n      <td>22,392.00</td>\n      <td>22,392.00</td>\n      <td>22,392.00</td>\n      <td>22,392.00</td>\n    </tr>\n    <tr>\n      <th>mean</th>\n      <td>196.68</td>\n      <td>49.52</td>\n      <td>74,075.30</td>\n      <td>11,499.70</td>\n      <td>477,559.00</td>\n    </tr>\n    <tr>\n      <th>std</th>\n      <td>1,976.19</td>\n      <td>880.83</td>\n      <td>644,263.69</td>\n      <td>104,931.32</td>\n      <td>3,160,637.50</td>\n    </tr>\n    <tr>\n      <th>min</th>\n      <td>0.27</td>\n      <td>0.00</td>\n      <td>0.00</td>\n      <td>0.00</td>\n      <td>0.00</td>\n    </tr>\n    <tr>\n      <th>25%</th>\n      <td>2.00</td>\n      <td>0.00</td>\n      <td>1,861.00</td>\n      <td>93.00</td>\n      <td>29,412.00</td>\n    </tr>\n    <tr>\n      <th>50%</th>\n      <td>7.00</td>\n      <td>2.00</td>\n      <td>11,400.00</td>\n      <td>1,040.00</td>\n      <td>90,756.00</td>\n    </tr>\n    <tr>\n      <th>75%</th>\n      <td>40.00</td>\n      <td>10.00</td>\n      <td>32,222.00</td>\n      <td>5,588.00</td>\n      <td>294,118.00</td>\n    </tr>\n    <tr>\n      <th>max</th>\n      <td>120,000.00</td>\n      <td>53,620.00</td>\n      <td>33,242,814.00</td>\n      <td>6,316,135.00</td>\n      <td>299,185,312.00</td>\n    </tr>\n  </tbody>\n</table>\n</div>",
       "datasetInfos": [],
       "metadata": {},
       "removedWidgets": [],
       "textData": null,
       "type": "htmlSandbox"
      }
     },
     "output_type": "display_data"
    }
   ],
   "source": [
    "df_numeric.describe()"
   ]
  },
  {
   "cell_type": "code",
   "execution_count": 0,
   "metadata": {
    "application/vnd.databricks.v1+cell": {
     "inputWidgets": {},
     "nuid": "b9ee0612-3b50-4010-864c-90ed8ad5621d",
     "showTitle": false,
     "title": ""
    }
   },
   "outputs": [
    {
     "data": {
      "text/html": [
       "<style scoped>\n",
       "  .ansiout {\n",
       "    display: block;\n",
       "    unicode-bidi: embed;\n",
       "    white-space: pre-wrap;\n",
       "    word-wrap: break-word;\n",
       "    word-break: break-all;\n",
       "    font-family: \"Source Code Pro\", \"Menlo\", monospace;;\n",
       "    font-size: 13px;\n",
       "    color: #555;\n",
       "    margin-left: 4px;\n",
       "    line-height: 19px;\n",
       "  }\n",
       "</style>\n",
       "<div class=\"ansiout\"></div>"
      ]
     },
     "metadata": {
      "application/vnd.databricks.v1+output": {
       "addedWidgets": {},
       "arguments": {},
       "data": "<div class=\"ansiout\"></div>",
       "datasetInfos": [],
       "metadata": {},
       "removedWidgets": [],
       "type": "html"
      }
     },
     "output_type": "display_data"
    }
   ],
   "source": [
    "normalizer = Normalizer()\n",
    "df_numeric_normalized = pd.DataFrame(normalizer.fit_transform(df_numeric), columns=df_numeric.columns)"
   ]
  },
  {
   "cell_type": "code",
   "execution_count": 0,
   "metadata": {
    "application/vnd.databricks.v1+cell": {
     "inputWidgets": {},
     "nuid": "f169b220-524f-4891-a62d-e237407a300f",
     "showTitle": false,
     "title": ""
    }
   },
   "outputs": [
    {
     "data": {
      "text/html": [
       "<style scoped>\n",
       "  .ansiout {\n",
       "    display: block;\n",
       "    unicode-bidi: embed;\n",
       "    white-space: pre-wrap;\n",
       "    word-wrap: break-word;\n",
       "    word-break: break-all;\n",
       "    font-family: \"Source Code Pro\", \"Menlo\", monospace;;\n",
       "    font-size: 13px;\n",
       "    color: #555;\n",
       "    margin-left: 4px;\n",
       "    line-height: 19px;\n",
       "  }\n",
       "</style>\n",
       "<div class=\"ansiout\">Out[1132]: </div>"
      ]
     },
     "metadata": {
      "application/vnd.databricks.v1+output": {
       "addedWidgets": {},
       "arguments": {},
       "data": "<div class=\"ansiout\">Out[1132]: </div>",
       "datasetInfos": [],
       "metadata": {},
       "removedWidgets": [],
       "type": "html"
      }
     },
     "output_type": "display_data"
    },
    {
     "data": {
      "text/html": [
       "<div>\n",
       "<style scoped>\n",
       "    .dataframe tbody tr th:only-of-type {\n",
       "        vertical-align: middle;\n",
       "    }\n",
       "\n",
       "    .dataframe tbody tr th {\n",
       "        vertical-align: top;\n",
       "    }\n",
       "\n",
       "    .dataframe thead th {\n",
       "        text-align: right;\n",
       "    }\n",
       "</style>\n",
       "<table border=\"1\" class=\"dataframe\">\n",
       "  <thead>\n",
       "    <tr style=\"text-align: right;\">\n",
       "      <th></th>\n",
       "      <th>CANTIDAD_PEDIDA</th>\n",
       "      <th>CANTIDAD_RECIBIDA</th>\n",
       "      <th>PRECIO_UNITARIO</th>\n",
       "      <th>IVA</th>\n",
       "      <th>TOTAL_SIN_IVA</th>\n",
       "    </tr>\n",
       "  </thead>\n",
       "  <tbody>\n",
       "    <tr>\n",
       "      <th>count</th>\n",
       "      <td>22,392.00</td>\n",
       "      <td>22,392.00</td>\n",
       "      <td>22,392.00</td>\n",
       "      <td>22,392.00</td>\n",
       "      <td>22,392.00</td>\n",
       "    </tr>\n",
       "    <tr>\n",
       "      <th>mean</th>\n",
       "      <td>0.00</td>\n",
       "      <td>0.00</td>\n",
       "      <td>0.25</td>\n",
       "      <td>0.04</td>\n",
       "      <td>0.92</td>\n",
       "    </tr>\n",
       "    <tr>\n",
       "      <th>std</th>\n",
       "      <td>0.04</td>\n",
       "      <td>0.02</td>\n",
       "      <td>0.26</td>\n",
       "      <td>0.05</td>\n",
       "      <td>0.12</td>\n",
       "    </tr>\n",
       "    <tr>\n",
       "      <th>min</th>\n",
       "      <td>0.00</td>\n",
       "      <td>0.00</td>\n",
       "      <td>0.00</td>\n",
       "      <td>0.00</td>\n",
       "      <td>0.00</td>\n",
       "    </tr>\n",
       "    <tr>\n",
       "      <th>25%</th>\n",
       "      <td>0.00</td>\n",
       "      <td>0.00</td>\n",
       "      <td>0.02</td>\n",
       "      <td>0.00</td>\n",
       "      <td>0.89</td>\n",
       "    </tr>\n",
       "    <tr>\n",
       "      <th>50%</th>\n",
       "      <td>0.00</td>\n",
       "      <td>0.00</td>\n",
       "      <td>0.14</td>\n",
       "      <td>0.01</td>\n",
       "      <td>0.99</td>\n",
       "    </tr>\n",
       "    <tr>\n",
       "      <th>75%</th>\n",
       "      <td>0.00</td>\n",
       "      <td>0.00</td>\n",
       "      <td>0.45</td>\n",
       "      <td>0.06</td>\n",
       "      <td>1.00</td>\n",
       "    </tr>\n",
       "    <tr>\n",
       "      <th>max</th>\n",
       "      <td>1.00</td>\n",
       "      <td>0.71</td>\n",
       "      <td>0.97</td>\n",
       "      <td>0.17</td>\n",
       "      <td>1.00</td>\n",
       "    </tr>\n",
       "  </tbody>\n",
       "</table>\n",
       "</div>"
      ]
     },
     "metadata": {
      "application/vnd.databricks.v1+output": {
       "addedWidgets": {},
       "arguments": {},
       "data": "<div>\n<style scoped>\n    .dataframe tbody tr th:only-of-type {\n        vertical-align: middle;\n    }\n\n    .dataframe tbody tr th {\n        vertical-align: top;\n    }\n\n    .dataframe thead th {\n        text-align: right;\n    }\n</style>\n<table border=\"1\" class=\"dataframe\">\n  <thead>\n    <tr style=\"text-align: right;\">\n      <th></th>\n      <th>CANTIDAD_PEDIDA</th>\n      <th>CANTIDAD_RECIBIDA</th>\n      <th>PRECIO_UNITARIO</th>\n      <th>IVA</th>\n      <th>TOTAL_SIN_IVA</th>\n    </tr>\n  </thead>\n  <tbody>\n    <tr>\n      <th>count</th>\n      <td>22,392.00</td>\n      <td>22,392.00</td>\n      <td>22,392.00</td>\n      <td>22,392.00</td>\n      <td>22,392.00</td>\n    </tr>\n    <tr>\n      <th>mean</th>\n      <td>0.00</td>\n      <td>0.00</td>\n      <td>0.25</td>\n      <td>0.04</td>\n      <td>0.92</td>\n    </tr>\n    <tr>\n      <th>std</th>\n      <td>0.04</td>\n      <td>0.02</td>\n      <td>0.26</td>\n      <td>0.05</td>\n      <td>0.12</td>\n    </tr>\n    <tr>\n      <th>min</th>\n      <td>0.00</td>\n      <td>0.00</td>\n      <td>0.00</td>\n      <td>0.00</td>\n      <td>0.00</td>\n    </tr>\n    <tr>\n      <th>25%</th>\n      <td>0.00</td>\n      <td>0.00</td>\n      <td>0.02</td>\n      <td>0.00</td>\n      <td>0.89</td>\n    </tr>\n    <tr>\n      <th>50%</th>\n      <td>0.00</td>\n      <td>0.00</td>\n      <td>0.14</td>\n      <td>0.01</td>\n      <td>0.99</td>\n    </tr>\n    <tr>\n      <th>75%</th>\n      <td>0.00</td>\n      <td>0.00</td>\n      <td>0.45</td>\n      <td>0.06</td>\n      <td>1.00</td>\n    </tr>\n    <tr>\n      <th>max</th>\n      <td>1.00</td>\n      <td>0.71</td>\n      <td>0.97</td>\n      <td>0.17</td>\n      <td>1.00</td>\n    </tr>\n  </tbody>\n</table>\n</div>",
       "datasetInfos": [],
       "metadata": {},
       "removedWidgets": [],
       "textData": null,
       "type": "htmlSandbox"
      }
     },
     "output_type": "display_data"
    }
   ],
   "source": [
    "df_numeric_normalized.describe()"
   ]
  },
  {
   "cell_type": "markdown",
   "metadata": {
    "application/vnd.databricks.v1+cell": {
     "inputWidgets": {},
     "nuid": "71779c44-c36a-4ffe-b241-0a928bee8a39",
     "showTitle": false,
     "title": ""
    }
   },
   "source": [
    "## Categorical to OneHotEncoder"
   ]
  },
  {
   "cell_type": "markdown",
   "metadata": {
    "application/vnd.databricks.v1+cell": {
     "inputWidgets": {},
     "nuid": "cb04b383-ac2f-4992-9803-1829a5ed593c",
     "showTitle": false,
     "title": ""
    }
   },
   "source": [
    "Drop PRODUCTO_O_SERVICIO Delete. if you want to try, delete PRODUCTO_O_SERVICIO too (it has a lot of categories)"
   ]
  },
  {
   "cell_type": "code",
   "execution_count": 0,
   "metadata": {
    "application/vnd.databricks.v1+cell": {
     "inputWidgets": {},
     "nuid": "2387e849-e241-4c7b-9f9d-9647c09d8069",
     "showTitle": false,
     "title": ""
    }
   },
   "outputs": [
    {
     "data": {
      "text/html": [
       "<style scoped>\n",
       "  .ansiout {\n",
       "    display: block;\n",
       "    unicode-bidi: embed;\n",
       "    white-space: pre-wrap;\n",
       "    word-wrap: break-word;\n",
       "    word-break: break-all;\n",
       "    font-family: \"Source Code Pro\", \"Menlo\", monospace;;\n",
       "    font-size: 13px;\n",
       "    color: #555;\n",
       "    margin-left: 4px;\n",
       "    line-height: 19px;\n",
       "  }\n",
       "</style>\n",
       "<div class=\"ansiout\">Out[1133]: </div>"
      ]
     },
     "metadata": {
      "application/vnd.databricks.v1+output": {
       "addedWidgets": {},
       "arguments": {},
       "data": "<div class=\"ansiout\">Out[1133]: </div>",
       "datasetInfos": [],
       "metadata": {},
       "removedWidgets": [],
       "type": "html"
      }
     },
     "output_type": "display_data"
    },
    {
     "data": {
      "text/html": [
       "<div>\n",
       "<style scoped>\n",
       "    .dataframe tbody tr th:only-of-type {\n",
       "        vertical-align: middle;\n",
       "    }\n",
       "\n",
       "    .dataframe tbody tr th {\n",
       "        vertical-align: top;\n",
       "    }\n",
       "\n",
       "    .dataframe thead th {\n",
       "        text-align: right;\n",
       "    }\n",
       "</style>\n",
       "<table border=\"1\" class=\"dataframe\">\n",
       "  <thead>\n",
       "    <tr style=\"text-align: right;\">\n",
       "      <th></th>\n",
       "      <th>CATEGORÍA</th>\n",
       "      <th>SUBCATEGORIA</th>\n",
       "      <th>PROVEEDOR</th>\n",
       "      <th>PORTAL</th>\n",
       "    </tr>\n",
       "  </thead>\n",
       "  <tbody>\n",
       "    <tr>\n",
       "      <th>0</th>\n",
       "      <td>Otros</td>\n",
       "      <td>Otros</td>\n",
       "      <td>Otros</td>\n",
       "      <td>Portal comprador 1</td>\n",
       "    </tr>\n",
       "    <tr>\n",
       "      <th>1</th>\n",
       "      <td>Otros</td>\n",
       "      <td>Otros</td>\n",
       "      <td>Otros</td>\n",
       "      <td>Portal comprador 1</td>\n",
       "    </tr>\n",
       "    <tr>\n",
       "      <th>2</th>\n",
       "      <td>Alimentos y Bebidas</td>\n",
       "      <td>Alimentos preparados y conservados</td>\n",
       "      <td>Otros</td>\n",
       "      <td>Portal comprador 1</td>\n",
       "    </tr>\n",
       "  </tbody>\n",
       "</table>\n",
       "</div>"
      ]
     },
     "metadata": {
      "application/vnd.databricks.v1+output": {
       "addedWidgets": {},
       "arguments": {},
       "data": "<div>\n<style scoped>\n    .dataframe tbody tr th:only-of-type {\n        vertical-align: middle;\n    }\n\n    .dataframe tbody tr th {\n        vertical-align: top;\n    }\n\n    .dataframe thead th {\n        text-align: right;\n    }\n</style>\n<table border=\"1\" class=\"dataframe\">\n  <thead>\n    <tr style=\"text-align: right;\">\n      <th></th>\n      <th>CATEGORÍA</th>\n      <th>SUBCATEGORIA</th>\n      <th>PROVEEDOR</th>\n      <th>PORTAL</th>\n    </tr>\n  </thead>\n  <tbody>\n    <tr>\n      <th>0</th>\n      <td>Otros</td>\n      <td>Otros</td>\n      <td>Otros</td>\n      <td>Portal comprador 1</td>\n    </tr>\n    <tr>\n      <th>1</th>\n      <td>Otros</td>\n      <td>Otros</td>\n      <td>Otros</td>\n      <td>Portal comprador 1</td>\n    </tr>\n    <tr>\n      <th>2</th>\n      <td>Alimentos y Bebidas</td>\n      <td>Alimentos preparados y conservados</td>\n      <td>Otros</td>\n      <td>Portal comprador 1</td>\n    </tr>\n  </tbody>\n</table>\n</div>",
       "datasetInfos": [],
       "metadata": {},
       "removedWidgets": [],
       "textData": null,
       "type": "htmlSandbox"
      }
     },
     "output_type": "display_data"
    }
   ],
   "source": [
    "df_categorical = df.select_dtypes(['object'])\n",
    "df_categorical = df_categorical.loc[:, (df_categorical.columns != 'PRODUCTO_O_SERVICIO') & (df_categorical.columns != 'ESTADO')]\n",
    "df_categorical.head(3)"
   ]
  },
  {
   "cell_type": "code",
   "execution_count": 0,
   "metadata": {
    "application/vnd.databricks.v1+cell": {
     "inputWidgets": {},
     "nuid": "fde250cc-feec-48e2-8006-414adce23c54",
     "showTitle": false,
     "title": ""
    }
   },
   "outputs": [
    {
     "data": {
      "text/html": [
       "<style scoped>\n",
       "  .ansiout {\n",
       "    display: block;\n",
       "    unicode-bidi: embed;\n",
       "    white-space: pre-wrap;\n",
       "    word-wrap: break-word;\n",
       "    word-break: break-all;\n",
       "    font-family: \"Source Code Pro\", \"Menlo\", monospace;;\n",
       "    font-size: 13px;\n",
       "    color: #555;\n",
       "    margin-left: 4px;\n",
       "    line-height: 19px;\n",
       "  }\n",
       "</style>\n",
       "<div class=\"ansiout\"></div>"
      ]
     },
     "metadata": {
      "application/vnd.databricks.v1+output": {
       "addedWidgets": {},
       "arguments": {},
       "data": "<div class=\"ansiout\"></div>",
       "datasetInfos": [],
       "metadata": {},
       "removedWidgets": [],
       "type": "html"
      }
     },
     "output_type": "display_data"
    }
   ],
   "source": [
    "OH_encoder = OneHotEncoder(handle_unknown='ignore', sparse=False)\n",
    "OH_Cols = pd.DataFrame(OH_encoder.fit_transform(df_categorical))"
   ]
  },
  {
   "cell_type": "code",
   "execution_count": 0,
   "metadata": {
    "application/vnd.databricks.v1+cell": {
     "inputWidgets": {},
     "nuid": "df2aaf78-14cf-4872-84e4-b18bad192948",
     "showTitle": false,
     "title": ""
    }
   },
   "outputs": [
    {
     "data": {
      "text/html": [
       "<style scoped>\n",
       "  .ansiout {\n",
       "    display: block;\n",
       "    unicode-bidi: embed;\n",
       "    white-space: pre-wrap;\n",
       "    word-wrap: break-word;\n",
       "    word-break: break-all;\n",
       "    font-family: \"Source Code Pro\", \"Menlo\", monospace;;\n",
       "    font-size: 13px;\n",
       "    color: #555;\n",
       "    margin-left: 4px;\n",
       "    line-height: 19px;\n",
       "  }\n",
       "</style>\n",
       "<div class=\"ansiout\"></div>"
      ]
     },
     "metadata": {
      "application/vnd.databricks.v1+output": {
       "addedWidgets": {},
       "arguments": {},
       "data": "<div class=\"ansiout\"></div>",
       "datasetInfos": [],
       "metadata": {},
       "removedWidgets": [],
       "type": "html"
      }
     },
     "output_type": "display_data"
    }
   ],
   "source": [
    "OH_Cols.columns =  OH_encoder.get_feature_names(df_categorical.columns)"
   ]
  },
  {
   "cell_type": "code",
   "execution_count": 0,
   "metadata": {
    "application/vnd.databricks.v1+cell": {
     "inputWidgets": {},
     "nuid": "a399ba95-b866-47e7-9d24-42c08b070afd",
     "showTitle": false,
     "title": ""
    }
   },
   "outputs": [
    {
     "data": {
      "text/html": [
       "<style scoped>\n",
       "  .ansiout {\n",
       "    display: block;\n",
       "    unicode-bidi: embed;\n",
       "    white-space: pre-wrap;\n",
       "    word-wrap: break-word;\n",
       "    word-break: break-all;\n",
       "    font-family: \"Source Code Pro\", \"Menlo\", monospace;;\n",
       "    font-size: 13px;\n",
       "    color: #555;\n",
       "    margin-left: 4px;\n",
       "    line-height: 19px;\n",
       "  }\n",
       "</style>\n",
       "<div class=\"ansiout\"></div>"
      ]
     },
     "metadata": {
      "application/vnd.databricks.v1+output": {
       "addedWidgets": {},
       "arguments": {},
       "data": "<div class=\"ansiout\"></div>",
       "datasetInfos": [],
       "metadata": {},
       "removedWidgets": [],
       "type": "html"
      }
     },
     "output_type": "display_data"
    }
   ],
   "source": [
    "pd.options.display.float_format = '{:,.2f}'.format"
   ]
  },
  {
   "cell_type": "code",
   "execution_count": 0,
   "metadata": {
    "application/vnd.databricks.v1+cell": {
     "inputWidgets": {},
     "nuid": "55ae5b61-79e4-4d77-9799-ceec50d40d6e",
     "showTitle": false,
     "title": ""
    }
   },
   "outputs": [
    {
     "data": {
      "text/html": [
       "<style scoped>\n",
       "  .ansiout {\n",
       "    display: block;\n",
       "    unicode-bidi: embed;\n",
       "    white-space: pre-wrap;\n",
       "    word-wrap: break-word;\n",
       "    word-break: break-all;\n",
       "    font-family: \"Source Code Pro\", \"Menlo\", monospace;;\n",
       "    font-size: 13px;\n",
       "    color: #555;\n",
       "    margin-left: 4px;\n",
       "    line-height: 19px;\n",
       "  }\n",
       "</style>\n",
       "<div class=\"ansiout\">Out[1137]: </div>"
      ]
     },
     "metadata": {
      "application/vnd.databricks.v1+output": {
       "addedWidgets": {},
       "arguments": {},
       "data": "<div class=\"ansiout\">Out[1137]: </div>",
       "datasetInfos": [],
       "metadata": {},
       "removedWidgets": [],
       "type": "html"
      }
     },
     "output_type": "display_data"
    },
    {
     "data": {
      "text/html": [
       "<div>\n",
       "<style scoped>\n",
       "    .dataframe tbody tr th:only-of-type {\n",
       "        vertical-align: middle;\n",
       "    }\n",
       "\n",
       "    .dataframe tbody tr th {\n",
       "        vertical-align: top;\n",
       "    }\n",
       "\n",
       "    .dataframe thead th {\n",
       "        text-align: right;\n",
       "    }\n",
       "</style>\n",
       "<table border=\"1\" class=\"dataframe\">\n",
       "  <thead>\n",
       "    <tr style=\"text-align: right;\">\n",
       "      <th></th>\n",
       "      <th>CATEGORÍA_Alimentos y Bebidas</th>\n",
       "      <th>CATEGORÍA_Aseo, Cafetería y Oficina</th>\n",
       "      <th>CATEGORÍA_Dotación y elementos de protección personal</th>\n",
       "      <th>CATEGORÍA_Otros</th>\n",
       "      <th>CATEGORÍA_Vigilancia y seguridad industrial</th>\n",
       "      <th>SUBCATEGORIA_Alimentos preparados y conservados</th>\n",
       "      <th>SUBCATEGORIA_Bebidas</th>\n",
       "      <th>SUBCATEGORIA_Elementos de aseo y limpieza</th>\n",
       "      <th>SUBCATEGORIA_Elementos de papelería</th>\n",
       "      <th>SUBCATEGORIA_Otros</th>\n",
       "      <th>SUBCATEGORIA_Productos de carne y aves de corral</th>\n",
       "      <th>SUBCATEGORIA_Productos lácteos y huevos</th>\n",
       "      <th>SUBCATEGORIA_Seguridad y protección personal</th>\n",
       "      <th>PROVEEDOR_Otros</th>\n",
       "      <th>PROVEEDOR_Proveedor 28</th>\n",
       "      <th>PROVEEDOR_Proveedor 301</th>\n",
       "      <th>PROVEEDOR_Proveedor 59</th>\n",
       "      <th>PORTAL_Otros</th>\n",
       "      <th>PORTAL_Portal comprador 1</th>\n",
       "      <th>PORTAL_Portal comprador 2</th>\n",
       "      <th>PORTAL_Portal comprador 24</th>\n",
       "      <th>PORTAL_Portal comprador 29</th>\n",
       "    </tr>\n",
       "  </thead>\n",
       "  <tbody>\n",
       "    <tr>\n",
       "      <th>0</th>\n",
       "      <td>0.00</td>\n",
       "      <td>0.00</td>\n",
       "      <td>0.00</td>\n",
       "      <td>1.00</td>\n",
       "      <td>0.00</td>\n",
       "      <td>0.00</td>\n",
       "      <td>0.00</td>\n",
       "      <td>0.00</td>\n",
       "      <td>0.00</td>\n",
       "      <td>1.00</td>\n",
       "      <td>0.00</td>\n",
       "      <td>0.00</td>\n",
       "      <td>0.00</td>\n",
       "      <td>1.00</td>\n",
       "      <td>0.00</td>\n",
       "      <td>0.00</td>\n",
       "      <td>0.00</td>\n",
       "      <td>0.00</td>\n",
       "      <td>1.00</td>\n",
       "      <td>0.00</td>\n",
       "      <td>0.00</td>\n",
       "      <td>0.00</td>\n",
       "    </tr>\n",
       "    <tr>\n",
       "      <th>1</th>\n",
       "      <td>0.00</td>\n",
       "      <td>0.00</td>\n",
       "      <td>0.00</td>\n",
       "      <td>1.00</td>\n",
       "      <td>0.00</td>\n",
       "      <td>0.00</td>\n",
       "      <td>0.00</td>\n",
       "      <td>0.00</td>\n",
       "      <td>0.00</td>\n",
       "      <td>1.00</td>\n",
       "      <td>0.00</td>\n",
       "      <td>0.00</td>\n",
       "      <td>0.00</td>\n",
       "      <td>1.00</td>\n",
       "      <td>0.00</td>\n",
       "      <td>0.00</td>\n",
       "      <td>0.00</td>\n",
       "      <td>0.00</td>\n",
       "      <td>1.00</td>\n",
       "      <td>0.00</td>\n",
       "      <td>0.00</td>\n",
       "      <td>0.00</td>\n",
       "    </tr>\n",
       "    <tr>\n",
       "      <th>2</th>\n",
       "      <td>1.00</td>\n",
       "      <td>0.00</td>\n",
       "      <td>0.00</td>\n",
       "      <td>0.00</td>\n",
       "      <td>0.00</td>\n",
       "      <td>1.00</td>\n",
       "      <td>0.00</td>\n",
       "      <td>0.00</td>\n",
       "      <td>0.00</td>\n",
       "      <td>0.00</td>\n",
       "      <td>0.00</td>\n",
       "      <td>0.00</td>\n",
       "      <td>0.00</td>\n",
       "      <td>1.00</td>\n",
       "      <td>0.00</td>\n",
       "      <td>0.00</td>\n",
       "      <td>0.00</td>\n",
       "      <td>0.00</td>\n",
       "      <td>1.00</td>\n",
       "      <td>0.00</td>\n",
       "      <td>0.00</td>\n",
       "      <td>0.00</td>\n",
       "    </tr>\n",
       "    <tr>\n",
       "      <th>3</th>\n",
       "      <td>1.00</td>\n",
       "      <td>0.00</td>\n",
       "      <td>0.00</td>\n",
       "      <td>0.00</td>\n",
       "      <td>0.00</td>\n",
       "      <td>0.00</td>\n",
       "      <td>0.00</td>\n",
       "      <td>0.00</td>\n",
       "      <td>0.00</td>\n",
       "      <td>0.00</td>\n",
       "      <td>1.00</td>\n",
       "      <td>0.00</td>\n",
       "      <td>0.00</td>\n",
       "      <td>1.00</td>\n",
       "      <td>0.00</td>\n",
       "      <td>0.00</td>\n",
       "      <td>0.00</td>\n",
       "      <td>0.00</td>\n",
       "      <td>0.00</td>\n",
       "      <td>1.00</td>\n",
       "      <td>0.00</td>\n",
       "      <td>0.00</td>\n",
       "    </tr>\n",
       "    <tr>\n",
       "      <th>4</th>\n",
       "      <td>0.00</td>\n",
       "      <td>0.00</td>\n",
       "      <td>0.00</td>\n",
       "      <td>1.00</td>\n",
       "      <td>0.00</td>\n",
       "      <td>0.00</td>\n",
       "      <td>0.00</td>\n",
       "      <td>0.00</td>\n",
       "      <td>0.00</td>\n",
       "      <td>1.00</td>\n",
       "      <td>0.00</td>\n",
       "      <td>0.00</td>\n",
       "      <td>0.00</td>\n",
       "      <td>1.00</td>\n",
       "      <td>0.00</td>\n",
       "      <td>0.00</td>\n",
       "      <td>0.00</td>\n",
       "      <td>1.00</td>\n",
       "      <td>0.00</td>\n",
       "      <td>0.00</td>\n",
       "      <td>0.00</td>\n",
       "      <td>0.00</td>\n",
       "    </tr>\n",
       "    <tr>\n",
       "      <th>...</th>\n",
       "      <td>...</td>\n",
       "      <td>...</td>\n",
       "      <td>...</td>\n",
       "      <td>...</td>\n",
       "      <td>...</td>\n",
       "      <td>...</td>\n",
       "      <td>...</td>\n",
       "      <td>...</td>\n",
       "      <td>...</td>\n",
       "      <td>...</td>\n",
       "      <td>...</td>\n",
       "      <td>...</td>\n",
       "      <td>...</td>\n",
       "      <td>...</td>\n",
       "      <td>...</td>\n",
       "      <td>...</td>\n",
       "      <td>...</td>\n",
       "      <td>...</td>\n",
       "      <td>...</td>\n",
       "      <td>...</td>\n",
       "      <td>...</td>\n",
       "      <td>...</td>\n",
       "    </tr>\n",
       "    <tr>\n",
       "      <th>22387</th>\n",
       "      <td>0.00</td>\n",
       "      <td>1.00</td>\n",
       "      <td>0.00</td>\n",
       "      <td>0.00</td>\n",
       "      <td>0.00</td>\n",
       "      <td>0.00</td>\n",
       "      <td>0.00</td>\n",
       "      <td>0.00</td>\n",
       "      <td>1.00</td>\n",
       "      <td>0.00</td>\n",
       "      <td>0.00</td>\n",
       "      <td>0.00</td>\n",
       "      <td>0.00</td>\n",
       "      <td>1.00</td>\n",
       "      <td>0.00</td>\n",
       "      <td>0.00</td>\n",
       "      <td>0.00</td>\n",
       "      <td>1.00</td>\n",
       "      <td>0.00</td>\n",
       "      <td>0.00</td>\n",
       "      <td>0.00</td>\n",
       "      <td>0.00</td>\n",
       "    </tr>\n",
       "    <tr>\n",
       "      <th>22388</th>\n",
       "      <td>0.00</td>\n",
       "      <td>1.00</td>\n",
       "      <td>0.00</td>\n",
       "      <td>0.00</td>\n",
       "      <td>0.00</td>\n",
       "      <td>0.00</td>\n",
       "      <td>0.00</td>\n",
       "      <td>0.00</td>\n",
       "      <td>1.00</td>\n",
       "      <td>0.00</td>\n",
       "      <td>0.00</td>\n",
       "      <td>0.00</td>\n",
       "      <td>0.00</td>\n",
       "      <td>1.00</td>\n",
       "      <td>0.00</td>\n",
       "      <td>0.00</td>\n",
       "      <td>0.00</td>\n",
       "      <td>1.00</td>\n",
       "      <td>0.00</td>\n",
       "      <td>0.00</td>\n",
       "      <td>0.00</td>\n",
       "      <td>0.00</td>\n",
       "    </tr>\n",
       "    <tr>\n",
       "      <th>22389</th>\n",
       "      <td>0.00</td>\n",
       "      <td>0.00</td>\n",
       "      <td>0.00</td>\n",
       "      <td>1.00</td>\n",
       "      <td>0.00</td>\n",
       "      <td>0.00</td>\n",
       "      <td>0.00</td>\n",
       "      <td>0.00</td>\n",
       "      <td>0.00</td>\n",
       "      <td>1.00</td>\n",
       "      <td>0.00</td>\n",
       "      <td>0.00</td>\n",
       "      <td>0.00</td>\n",
       "      <td>1.00</td>\n",
       "      <td>0.00</td>\n",
       "      <td>0.00</td>\n",
       "      <td>0.00</td>\n",
       "      <td>1.00</td>\n",
       "      <td>0.00</td>\n",
       "      <td>0.00</td>\n",
       "      <td>0.00</td>\n",
       "      <td>0.00</td>\n",
       "    </tr>\n",
       "    <tr>\n",
       "      <th>22390</th>\n",
       "      <td>0.00</td>\n",
       "      <td>0.00</td>\n",
       "      <td>0.00</td>\n",
       "      <td>1.00</td>\n",
       "      <td>0.00</td>\n",
       "      <td>0.00</td>\n",
       "      <td>0.00</td>\n",
       "      <td>0.00</td>\n",
       "      <td>0.00</td>\n",
       "      <td>1.00</td>\n",
       "      <td>0.00</td>\n",
       "      <td>0.00</td>\n",
       "      <td>0.00</td>\n",
       "      <td>1.00</td>\n",
       "      <td>0.00</td>\n",
       "      <td>0.00</td>\n",
       "      <td>0.00</td>\n",
       "      <td>1.00</td>\n",
       "      <td>0.00</td>\n",
       "      <td>0.00</td>\n",
       "      <td>0.00</td>\n",
       "      <td>0.00</td>\n",
       "    </tr>\n",
       "    <tr>\n",
       "      <th>22391</th>\n",
       "      <td>0.00</td>\n",
       "      <td>1.00</td>\n",
       "      <td>0.00</td>\n",
       "      <td>0.00</td>\n",
       "      <td>0.00</td>\n",
       "      <td>0.00</td>\n",
       "      <td>0.00</td>\n",
       "      <td>0.00</td>\n",
       "      <td>1.00</td>\n",
       "      <td>0.00</td>\n",
       "      <td>0.00</td>\n",
       "      <td>0.00</td>\n",
       "      <td>0.00</td>\n",
       "      <td>1.00</td>\n",
       "      <td>0.00</td>\n",
       "      <td>0.00</td>\n",
       "      <td>0.00</td>\n",
       "      <td>1.00</td>\n",
       "      <td>0.00</td>\n",
       "      <td>0.00</td>\n",
       "      <td>0.00</td>\n",
       "      <td>0.00</td>\n",
       "    </tr>\n",
       "  </tbody>\n",
       "</table>\n",
       "<p>22392 rows × 22 columns</p>\n",
       "</div>"
      ]
     },
     "metadata": {
      "application/vnd.databricks.v1+output": {
       "addedWidgets": {},
       "arguments": {},
       "data": "<div>\n<style scoped>\n    .dataframe tbody tr th:only-of-type {\n        vertical-align: middle;\n    }\n\n    .dataframe tbody tr th {\n        vertical-align: top;\n    }\n\n    .dataframe thead th {\n        text-align: right;\n    }\n</style>\n<table border=\"1\" class=\"dataframe\">\n  <thead>\n    <tr style=\"text-align: right;\">\n      <th></th>\n      <th>CATEGORÍA_Alimentos y Bebidas</th>\n      <th>CATEGORÍA_Aseo, Cafetería y Oficina</th>\n      <th>CATEGORÍA_Dotación y elementos de protección personal</th>\n      <th>CATEGORÍA_Otros</th>\n      <th>CATEGORÍA_Vigilancia y seguridad industrial</th>\n      <th>SUBCATEGORIA_Alimentos preparados y conservados</th>\n      <th>SUBCATEGORIA_Bebidas</th>\n      <th>SUBCATEGORIA_Elementos de aseo y limpieza</th>\n      <th>SUBCATEGORIA_Elementos de papelería</th>\n      <th>SUBCATEGORIA_Otros</th>\n      <th>SUBCATEGORIA_Productos de carne y aves de corral</th>\n      <th>SUBCATEGORIA_Productos lácteos y huevos</th>\n      <th>SUBCATEGORIA_Seguridad y protección personal</th>\n      <th>PROVEEDOR_Otros</th>\n      <th>PROVEEDOR_Proveedor 28</th>\n      <th>PROVEEDOR_Proveedor 301</th>\n      <th>PROVEEDOR_Proveedor 59</th>\n      <th>PORTAL_Otros</th>\n      <th>PORTAL_Portal comprador 1</th>\n      <th>PORTAL_Portal comprador 2</th>\n      <th>PORTAL_Portal comprador 24</th>\n      <th>PORTAL_Portal comprador 29</th>\n    </tr>\n  </thead>\n  <tbody>\n    <tr>\n      <th>0</th>\n      <td>0.00</td>\n      <td>0.00</td>\n      <td>0.00</td>\n      <td>1.00</td>\n      <td>0.00</td>\n      <td>0.00</td>\n      <td>0.00</td>\n      <td>0.00</td>\n      <td>0.00</td>\n      <td>1.00</td>\n      <td>0.00</td>\n      <td>0.00</td>\n      <td>0.00</td>\n      <td>1.00</td>\n      <td>0.00</td>\n      <td>0.00</td>\n      <td>0.00</td>\n      <td>0.00</td>\n      <td>1.00</td>\n      <td>0.00</td>\n      <td>0.00</td>\n      <td>0.00</td>\n    </tr>\n    <tr>\n      <th>1</th>\n      <td>0.00</td>\n      <td>0.00</td>\n      <td>0.00</td>\n      <td>1.00</td>\n      <td>0.00</td>\n      <td>0.00</td>\n      <td>0.00</td>\n      <td>0.00</td>\n      <td>0.00</td>\n      <td>1.00</td>\n      <td>0.00</td>\n      <td>0.00</td>\n      <td>0.00</td>\n      <td>1.00</td>\n      <td>0.00</td>\n      <td>0.00</td>\n      <td>0.00</td>\n      <td>0.00</td>\n      <td>1.00</td>\n      <td>0.00</td>\n      <td>0.00</td>\n      <td>0.00</td>\n    </tr>\n    <tr>\n      <th>2</th>\n      <td>1.00</td>\n      <td>0.00</td>\n      <td>0.00</td>\n      <td>0.00</td>\n      <td>0.00</td>\n      <td>1.00</td>\n      <td>0.00</td>\n      <td>0.00</td>\n      <td>0.00</td>\n      <td>0.00</td>\n      <td>0.00</td>\n      <td>0.00</td>\n      <td>0.00</td>\n      <td>1.00</td>\n      <td>0.00</td>\n      <td>0.00</td>\n      <td>0.00</td>\n      <td>0.00</td>\n      <td>1.00</td>\n      <td>0.00</td>\n      <td>0.00</td>\n      <td>0.00</td>\n    </tr>\n    <tr>\n      <th>3</th>\n      <td>1.00</td>\n      <td>0.00</td>\n      <td>0.00</td>\n      <td>0.00</td>\n      <td>0.00</td>\n      <td>0.00</td>\n      <td>0.00</td>\n      <td>0.00</td>\n      <td>0.00</td>\n      <td>0.00</td>\n      <td>1.00</td>\n      <td>0.00</td>\n      <td>0.00</td>\n      <td>1.00</td>\n      <td>0.00</td>\n      <td>0.00</td>\n      <td>0.00</td>\n      <td>0.00</td>\n      <td>0.00</td>\n      <td>1.00</td>\n      <td>0.00</td>\n      <td>0.00</td>\n    </tr>\n    <tr>\n      <th>4</th>\n      <td>0.00</td>\n      <td>0.00</td>\n      <td>0.00</td>\n      <td>1.00</td>\n      <td>0.00</td>\n      <td>0.00</td>\n      <td>0.00</td>\n      <td>0.00</td>\n      <td>0.00</td>\n      <td>1.00</td>\n      <td>0.00</td>\n      <td>0.00</td>\n      <td>0.00</td>\n      <td>1.00</td>\n      <td>0.00</td>\n      <td>0.00</td>\n      <td>0.00</td>\n      <td>1.00</td>\n      <td>0.00</td>\n      <td>0.00</td>\n      <td>0.00</td>\n      <td>0.00</td>\n    </tr>\n    <tr>\n      <th>...</th>\n      <td>...</td>\n      <td>...</td>\n      <td>...</td>\n      <td>...</td>\n      <td>...</td>\n      <td>...</td>\n      <td>...</td>\n      <td>...</td>\n      <td>...</td>\n      <td>...</td>\n      <td>...</td>\n      <td>...</td>\n      <td>...</td>\n      <td>...</td>\n      <td>...</td>\n      <td>...</td>\n      <td>...</td>\n      <td>...</td>\n      <td>...</td>\n      <td>...</td>\n      <td>...</td>\n      <td>...</td>\n    </tr>\n    <tr>\n      <th>22387</th>\n      <td>0.00</td>\n      <td>1.00</td>\n      <td>0.00</td>\n      <td>0.00</td>\n      <td>0.00</td>\n      <td>0.00</td>\n      <td>0.00</td>\n      <td>0.00</td>\n      <td>1.00</td>\n      <td>0.00</td>\n      <td>0.00</td>\n      <td>0.00</td>\n      <td>0.00</td>\n      <td>1.00</td>\n      <td>0.00</td>\n      <td>0.00</td>\n      <td>0.00</td>\n      <td>1.00</td>\n      <td>0.00</td>\n      <td>0.00</td>\n      <td>0.00</td>\n      <td>0.00</td>\n    </tr>\n    <tr>\n      <th>22388</th>\n      <td>0.00</td>\n      <td>1.00</td>\n      <td>0.00</td>\n      <td>0.00</td>\n      <td>0.00</td>\n      <td>0.00</td>\n      <td>0.00</td>\n      <td>0.00</td>\n      <td>1.00</td>\n      <td>0.00</td>\n      <td>0.00</td>\n      <td>0.00</td>\n      <td>0.00</td>\n      <td>1.00</td>\n      <td>0.00</td>\n      <td>0.00</td>\n      <td>0.00</td>\n      <td>1.00</td>\n      <td>0.00</td>\n      <td>0.00</td>\n      <td>0.00</td>\n      <td>0.00</td>\n    </tr>\n    <tr>\n      <th>22389</th>\n      <td>0.00</td>\n      <td>0.00</td>\n      <td>0.00</td>\n      <td>1.00</td>\n      <td>0.00</td>\n      <td>0.00</td>\n      <td>0.00</td>\n      <td>0.00</td>\n      <td>0.00</td>\n      <td>1.00</td>\n      <td>0.00</td>\n      <td>0.00</td>\n      <td>0.00</td>\n      <td>1.00</td>\n      <td>0.00</td>\n      <td>0.00</td>\n      <td>0.00</td>\n      <td>1.00</td>\n      <td>0.00</td>\n      <td>0.00</td>\n      <td>0.00</td>\n      <td>0.00</td>\n    </tr>\n    <tr>\n      <th>22390</th>\n      <td>0.00</td>\n      <td>0.00</td>\n      <td>0.00</td>\n      <td>1.00</td>\n      <td>0.00</td>\n      <td>0.00</td>\n      <td>0.00</td>\n      <td>0.00</td>\n      <td>0.00</td>\n      <td>1.00</td>\n      <td>0.00</td>\n      <td>0.00</td>\n      <td>0.00</td>\n      <td>1.00</td>\n      <td>0.00</td>\n      <td>0.00</td>\n      <td>0.00</td>\n      <td>1.00</td>\n      <td>0.00</td>\n      <td>0.00</td>\n      <td>0.00</td>\n      <td>0.00</td>\n    </tr>\n    <tr>\n      <th>22391</th>\n      <td>0.00</td>\n      <td>1.00</td>\n      <td>0.00</td>\n      <td>0.00</td>\n      <td>0.00</td>\n      <td>0.00</td>\n      <td>0.00</td>\n      <td>0.00</td>\n      <td>1.00</td>\n      <td>0.00</td>\n      <td>0.00</td>\n      <td>0.00</td>\n      <td>0.00</td>\n      <td>1.00</td>\n      <td>0.00</td>\n      <td>0.00</td>\n      <td>0.00</td>\n      <td>1.00</td>\n      <td>0.00</td>\n      <td>0.00</td>\n      <td>0.00</td>\n      <td>0.00</td>\n    </tr>\n  </tbody>\n</table>\n<p>22392 rows × 22 columns</p>\n</div>",
       "datasetInfos": [],
       "metadata": {},
       "removedWidgets": [],
       "textData": null,
       "type": "htmlSandbox"
      }
     },
     "output_type": "display_data"
    }
   ],
   "source": [
    "OH_Cols"
   ]
  },
  {
   "cell_type": "markdown",
   "metadata": {
    "application/vnd.databricks.v1+cell": {
     "inputWidgets": {},
     "nuid": "1466aa36-5f58-445b-9296-baee0dab4cd9",
     "showTitle": false,
     "title": ""
    }
   },
   "source": [
    "# CONCAT ONEHOTENCODER WITH NORMALIZED"
   ]
  },
  {
   "cell_type": "code",
   "execution_count": 0,
   "metadata": {
    "application/vnd.databricks.v1+cell": {
     "inputWidgets": {},
     "nuid": "46ca7c03-1220-4c70-b0d9-99cb994c6bb5",
     "showTitle": false,
     "title": ""
    }
   },
   "outputs": [
    {
     "data": {
      "text/html": [
       "<style scoped>\n",
       "  .ansiout {\n",
       "    display: block;\n",
       "    unicode-bidi: embed;\n",
       "    white-space: pre-wrap;\n",
       "    word-wrap: break-word;\n",
       "    word-break: break-all;\n",
       "    font-family: \"Source Code Pro\", \"Menlo\", monospace;;\n",
       "    font-size: 13px;\n",
       "    color: #555;\n",
       "    margin-left: 4px;\n",
       "    line-height: 19px;\n",
       "  }\n",
       "</style>\n",
       "<div class=\"ansiout\">Out[1138]: </div>"
      ]
     },
     "metadata": {
      "application/vnd.databricks.v1+output": {
       "addedWidgets": {},
       "arguments": {},
       "data": "<div class=\"ansiout\">Out[1138]: </div>",
       "datasetInfos": [],
       "metadata": {},
       "removedWidgets": [],
       "type": "html"
      }
     },
     "output_type": "display_data"
    },
    {
     "data": {
      "text/html": [
       "<div>\n",
       "<style scoped>\n",
       "    .dataframe tbody tr th:only-of-type {\n",
       "        vertical-align: middle;\n",
       "    }\n",
       "\n",
       "    .dataframe tbody tr th {\n",
       "        vertical-align: top;\n",
       "    }\n",
       "\n",
       "    .dataframe thead th {\n",
       "        text-align: right;\n",
       "    }\n",
       "</style>\n",
       "<table border=\"1\" class=\"dataframe\">\n",
       "  <thead>\n",
       "    <tr style=\"text-align: right;\">\n",
       "      <th></th>\n",
       "      <th>CATEGORÍA_Alimentos y Bebidas</th>\n",
       "      <th>CATEGORÍA_Aseo, Cafetería y Oficina</th>\n",
       "      <th>CATEGORÍA_Dotación y elementos de protección personal</th>\n",
       "      <th>CATEGORÍA_Otros</th>\n",
       "      <th>CATEGORÍA_Vigilancia y seguridad industrial</th>\n",
       "      <th>SUBCATEGORIA_Alimentos preparados y conservados</th>\n",
       "      <th>SUBCATEGORIA_Bebidas</th>\n",
       "      <th>SUBCATEGORIA_Elementos de aseo y limpieza</th>\n",
       "      <th>SUBCATEGORIA_Elementos de papelería</th>\n",
       "      <th>SUBCATEGORIA_Otros</th>\n",
       "      <th>SUBCATEGORIA_Productos de carne y aves de corral</th>\n",
       "      <th>SUBCATEGORIA_Productos lácteos y huevos</th>\n",
       "      <th>SUBCATEGORIA_Seguridad y protección personal</th>\n",
       "      <th>PROVEEDOR_Otros</th>\n",
       "      <th>PROVEEDOR_Proveedor 28</th>\n",
       "      <th>PROVEEDOR_Proveedor 301</th>\n",
       "      <th>PROVEEDOR_Proveedor 59</th>\n",
       "      <th>PORTAL_Otros</th>\n",
       "      <th>PORTAL_Portal comprador 1</th>\n",
       "      <th>PORTAL_Portal comprador 2</th>\n",
       "      <th>PORTAL_Portal comprador 24</th>\n",
       "      <th>PORTAL_Portal comprador 29</th>\n",
       "      <th>CANTIDAD_PEDIDA</th>\n",
       "      <th>CANTIDAD_RECIBIDA</th>\n",
       "      <th>PRECIO_UNITARIO</th>\n",
       "      <th>IVA</th>\n",
       "      <th>TOTAL_SIN_IVA</th>\n",
       "    </tr>\n",
       "  </thead>\n",
       "  <tbody>\n",
       "    <tr>\n",
       "      <th>0</th>\n",
       "      <td>0.00</td>\n",
       "      <td>0.00</td>\n",
       "      <td>0.00</td>\n",
       "      <td>1.00</td>\n",
       "      <td>0.00</td>\n",
       "      <td>0.00</td>\n",
       "      <td>0.00</td>\n",
       "      <td>0.00</td>\n",
       "      <td>0.00</td>\n",
       "      <td>1.00</td>\n",
       "      <td>0.00</td>\n",
       "      <td>0.00</td>\n",
       "      <td>0.00</td>\n",
       "      <td>1.00</td>\n",
       "      <td>0.00</td>\n",
       "      <td>0.00</td>\n",
       "      <td>0.00</td>\n",
       "      <td>0.00</td>\n",
       "      <td>1.00</td>\n",
       "      <td>0.00</td>\n",
       "      <td>0.00</td>\n",
       "      <td>0.00</td>\n",
       "      <td>0.00</td>\n",
       "      <td>0.00</td>\n",
       "      <td>0.45</td>\n",
       "      <td>0.08</td>\n",
       "      <td>0.89</td>\n",
       "    </tr>\n",
       "    <tr>\n",
       "      <th>1</th>\n",
       "      <td>0.00</td>\n",
       "      <td>0.00</td>\n",
       "      <td>0.00</td>\n",
       "      <td>1.00</td>\n",
       "      <td>0.00</td>\n",
       "      <td>0.00</td>\n",
       "      <td>0.00</td>\n",
       "      <td>0.00</td>\n",
       "      <td>0.00</td>\n",
       "      <td>1.00</td>\n",
       "      <td>0.00</td>\n",
       "      <td>0.00</td>\n",
       "      <td>0.00</td>\n",
       "      <td>1.00</td>\n",
       "      <td>0.00</td>\n",
       "      <td>0.00</td>\n",
       "      <td>0.00</td>\n",
       "      <td>0.00</td>\n",
       "      <td>1.00</td>\n",
       "      <td>0.00</td>\n",
       "      <td>0.00</td>\n",
       "      <td>0.00</td>\n",
       "      <td>0.00</td>\n",
       "      <td>0.00</td>\n",
       "      <td>0.70</td>\n",
       "      <td>0.13</td>\n",
       "      <td>0.70</td>\n",
       "    </tr>\n",
       "    <tr>\n",
       "      <th>2</th>\n",
       "      <td>1.00</td>\n",
       "      <td>0.00</td>\n",
       "      <td>0.00</td>\n",
       "      <td>0.00</td>\n",
       "      <td>0.00</td>\n",
       "      <td>1.00</td>\n",
       "      <td>0.00</td>\n",
       "      <td>0.00</td>\n",
       "      <td>0.00</td>\n",
       "      <td>0.00</td>\n",
       "      <td>0.00</td>\n",
       "      <td>0.00</td>\n",
       "      <td>0.00</td>\n",
       "      <td>1.00</td>\n",
       "      <td>0.00</td>\n",
       "      <td>0.00</td>\n",
       "      <td>0.00</td>\n",
       "      <td>0.00</td>\n",
       "      <td>1.00</td>\n",
       "      <td>0.00</td>\n",
       "      <td>0.00</td>\n",
       "      <td>0.00</td>\n",
       "      <td>0.00</td>\n",
       "      <td>0.00</td>\n",
       "      <td>0.10</td>\n",
       "      <td>0.00</td>\n",
       "      <td>1.00</td>\n",
       "    </tr>\n",
       "    <tr>\n",
       "      <th>3</th>\n",
       "      <td>1.00</td>\n",
       "      <td>0.00</td>\n",
       "      <td>0.00</td>\n",
       "      <td>0.00</td>\n",
       "      <td>0.00</td>\n",
       "      <td>0.00</td>\n",
       "      <td>0.00</td>\n",
       "      <td>0.00</td>\n",
       "      <td>0.00</td>\n",
       "      <td>0.00</td>\n",
       "      <td>1.00</td>\n",
       "      <td>0.00</td>\n",
       "      <td>0.00</td>\n",
       "      <td>1.00</td>\n",
       "      <td>0.00</td>\n",
       "      <td>0.00</td>\n",
       "      <td>0.00</td>\n",
       "      <td>0.00</td>\n",
       "      <td>0.00</td>\n",
       "      <td>1.00</td>\n",
       "      <td>0.00</td>\n",
       "      <td>0.00</td>\n",
       "      <td>0.00</td>\n",
       "      <td>0.00</td>\n",
       "      <td>0.02</td>\n",
       "      <td>0.00</td>\n",
       "      <td>1.00</td>\n",
       "    </tr>\n",
       "    <tr>\n",
       "      <th>4</th>\n",
       "      <td>0.00</td>\n",
       "      <td>0.00</td>\n",
       "      <td>0.00</td>\n",
       "      <td>1.00</td>\n",
       "      <td>0.00</td>\n",
       "      <td>0.00</td>\n",
       "      <td>0.00</td>\n",
       "      <td>0.00</td>\n",
       "      <td>0.00</td>\n",
       "      <td>1.00</td>\n",
       "      <td>0.00</td>\n",
       "      <td>0.00</td>\n",
       "      <td>0.00</td>\n",
       "      <td>1.00</td>\n",
       "      <td>0.00</td>\n",
       "      <td>0.00</td>\n",
       "      <td>0.00</td>\n",
       "      <td>1.00</td>\n",
       "      <td>0.00</td>\n",
       "      <td>0.00</td>\n",
       "      <td>0.00</td>\n",
       "      <td>0.00</td>\n",
       "      <td>0.00</td>\n",
       "      <td>0.00</td>\n",
       "      <td>0.14</td>\n",
       "      <td>0.03</td>\n",
       "      <td>0.99</td>\n",
       "    </tr>\n",
       "    <tr>\n",
       "      <th>...</th>\n",
       "      <td>...</td>\n",
       "      <td>...</td>\n",
       "      <td>...</td>\n",
       "      <td>...</td>\n",
       "      <td>...</td>\n",
       "      <td>...</td>\n",
       "      <td>...</td>\n",
       "      <td>...</td>\n",
       "      <td>...</td>\n",
       "      <td>...</td>\n",
       "      <td>...</td>\n",
       "      <td>...</td>\n",
       "      <td>...</td>\n",
       "      <td>...</td>\n",
       "      <td>...</td>\n",
       "      <td>...</td>\n",
       "      <td>...</td>\n",
       "      <td>...</td>\n",
       "      <td>...</td>\n",
       "      <td>...</td>\n",
       "      <td>...</td>\n",
       "      <td>...</td>\n",
       "      <td>...</td>\n",
       "      <td>...</td>\n",
       "      <td>...</td>\n",
       "      <td>...</td>\n",
       "      <td>...</td>\n",
       "    </tr>\n",
       "    <tr>\n",
       "      <th>22387</th>\n",
       "      <td>0.00</td>\n",
       "      <td>1.00</td>\n",
       "      <td>0.00</td>\n",
       "      <td>0.00</td>\n",
       "      <td>0.00</td>\n",
       "      <td>0.00</td>\n",
       "      <td>0.00</td>\n",
       "      <td>0.00</td>\n",
       "      <td>1.00</td>\n",
       "      <td>0.00</td>\n",
       "      <td>0.00</td>\n",
       "      <td>0.00</td>\n",
       "      <td>0.00</td>\n",
       "      <td>1.00</td>\n",
       "      <td>0.00</td>\n",
       "      <td>0.00</td>\n",
       "      <td>0.00</td>\n",
       "      <td>1.00</td>\n",
       "      <td>0.00</td>\n",
       "      <td>0.00</td>\n",
       "      <td>0.00</td>\n",
       "      <td>0.00</td>\n",
       "      <td>0.00</td>\n",
       "      <td>0.00</td>\n",
       "      <td>0.12</td>\n",
       "      <td>0.02</td>\n",
       "      <td>0.99</td>\n",
       "    </tr>\n",
       "    <tr>\n",
       "      <th>22388</th>\n",
       "      <td>0.00</td>\n",
       "      <td>1.00</td>\n",
       "      <td>0.00</td>\n",
       "      <td>0.00</td>\n",
       "      <td>0.00</td>\n",
       "      <td>0.00</td>\n",
       "      <td>0.00</td>\n",
       "      <td>0.00</td>\n",
       "      <td>1.00</td>\n",
       "      <td>0.00</td>\n",
       "      <td>0.00</td>\n",
       "      <td>0.00</td>\n",
       "      <td>0.00</td>\n",
       "      <td>1.00</td>\n",
       "      <td>0.00</td>\n",
       "      <td>0.00</td>\n",
       "      <td>0.00</td>\n",
       "      <td>1.00</td>\n",
       "      <td>0.00</td>\n",
       "      <td>0.00</td>\n",
       "      <td>0.00</td>\n",
       "      <td>0.00</td>\n",
       "      <td>0.00</td>\n",
       "      <td>0.00</td>\n",
       "      <td>0.70</td>\n",
       "      <td>0.13</td>\n",
       "      <td>0.70</td>\n",
       "    </tr>\n",
       "    <tr>\n",
       "      <th>22389</th>\n",
       "      <td>0.00</td>\n",
       "      <td>0.00</td>\n",
       "      <td>0.00</td>\n",
       "      <td>1.00</td>\n",
       "      <td>0.00</td>\n",
       "      <td>0.00</td>\n",
       "      <td>0.00</td>\n",
       "      <td>0.00</td>\n",
       "      <td>0.00</td>\n",
       "      <td>1.00</td>\n",
       "      <td>0.00</td>\n",
       "      <td>0.00</td>\n",
       "      <td>0.00</td>\n",
       "      <td>1.00</td>\n",
       "      <td>0.00</td>\n",
       "      <td>0.00</td>\n",
       "      <td>0.00</td>\n",
       "      <td>1.00</td>\n",
       "      <td>0.00</td>\n",
       "      <td>0.00</td>\n",
       "      <td>0.00</td>\n",
       "      <td>0.00</td>\n",
       "      <td>0.00</td>\n",
       "      <td>0.00</td>\n",
       "      <td>0.32</td>\n",
       "      <td>0.06</td>\n",
       "      <td>0.95</td>\n",
       "    </tr>\n",
       "    <tr>\n",
       "      <th>22390</th>\n",
       "      <td>0.00</td>\n",
       "      <td>0.00</td>\n",
       "      <td>0.00</td>\n",
       "      <td>1.00</td>\n",
       "      <td>0.00</td>\n",
       "      <td>0.00</td>\n",
       "      <td>0.00</td>\n",
       "      <td>0.00</td>\n",
       "      <td>0.00</td>\n",
       "      <td>1.00</td>\n",
       "      <td>0.00</td>\n",
       "      <td>0.00</td>\n",
       "      <td>0.00</td>\n",
       "      <td>1.00</td>\n",
       "      <td>0.00</td>\n",
       "      <td>0.00</td>\n",
       "      <td>0.00</td>\n",
       "      <td>1.00</td>\n",
       "      <td>0.00</td>\n",
       "      <td>0.00</td>\n",
       "      <td>0.00</td>\n",
       "      <td>0.00</td>\n",
       "      <td>0.00</td>\n",
       "      <td>0.00</td>\n",
       "      <td>0.24</td>\n",
       "      <td>0.05</td>\n",
       "      <td>0.97</td>\n",
       "    </tr>\n",
       "    <tr>\n",
       "      <th>22391</th>\n",
       "      <td>0.00</td>\n",
       "      <td>1.00</td>\n",
       "      <td>0.00</td>\n",
       "      <td>0.00</td>\n",
       "      <td>0.00</td>\n",
       "      <td>0.00</td>\n",
       "      <td>0.00</td>\n",
       "      <td>0.00</td>\n",
       "      <td>1.00</td>\n",
       "      <td>0.00</td>\n",
       "      <td>0.00</td>\n",
       "      <td>0.00</td>\n",
       "      <td>0.00</td>\n",
       "      <td>1.00</td>\n",
       "      <td>0.00</td>\n",
       "      <td>0.00</td>\n",
       "      <td>0.00</td>\n",
       "      <td>1.00</td>\n",
       "      <td>0.00</td>\n",
       "      <td>0.00</td>\n",
       "      <td>0.00</td>\n",
       "      <td>0.00</td>\n",
       "      <td>0.00</td>\n",
       "      <td>0.00</td>\n",
       "      <td>0.20</td>\n",
       "      <td>0.04</td>\n",
       "      <td>0.98</td>\n",
       "    </tr>\n",
       "  </tbody>\n",
       "</table>\n",
       "<p>22392 rows × 27 columns</p>\n",
       "</div>"
      ]
     },
     "metadata": {
      "application/vnd.databricks.v1+output": {
       "addedWidgets": {},
       "arguments": {},
       "data": "<div>\n<style scoped>\n    .dataframe tbody tr th:only-of-type {\n        vertical-align: middle;\n    }\n\n    .dataframe tbody tr th {\n        vertical-align: top;\n    }\n\n    .dataframe thead th {\n        text-align: right;\n    }\n</style>\n<table border=\"1\" class=\"dataframe\">\n  <thead>\n    <tr style=\"text-align: right;\">\n      <th></th>\n      <th>CATEGORÍA_Alimentos y Bebidas</th>\n      <th>CATEGORÍA_Aseo, Cafetería y Oficina</th>\n      <th>CATEGORÍA_Dotación y elementos de protección personal</th>\n      <th>CATEGORÍA_Otros</th>\n      <th>CATEGORÍA_Vigilancia y seguridad industrial</th>\n      <th>SUBCATEGORIA_Alimentos preparados y conservados</th>\n      <th>SUBCATEGORIA_Bebidas</th>\n      <th>SUBCATEGORIA_Elementos de aseo y limpieza</th>\n      <th>SUBCATEGORIA_Elementos de papelería</th>\n      <th>SUBCATEGORIA_Otros</th>\n      <th>SUBCATEGORIA_Productos de carne y aves de corral</th>\n      <th>SUBCATEGORIA_Productos lácteos y huevos</th>\n      <th>SUBCATEGORIA_Seguridad y protección personal</th>\n      <th>PROVEEDOR_Otros</th>\n      <th>PROVEEDOR_Proveedor 28</th>\n      <th>PROVEEDOR_Proveedor 301</th>\n      <th>PROVEEDOR_Proveedor 59</th>\n      <th>PORTAL_Otros</th>\n      <th>PORTAL_Portal comprador 1</th>\n      <th>PORTAL_Portal comprador 2</th>\n      <th>PORTAL_Portal comprador 24</th>\n      <th>PORTAL_Portal comprador 29</th>\n      <th>CANTIDAD_PEDIDA</th>\n      <th>CANTIDAD_RECIBIDA</th>\n      <th>PRECIO_UNITARIO</th>\n      <th>IVA</th>\n      <th>TOTAL_SIN_IVA</th>\n    </tr>\n  </thead>\n  <tbody>\n    <tr>\n      <th>0</th>\n      <td>0.00</td>\n      <td>0.00</td>\n      <td>0.00</td>\n      <td>1.00</td>\n      <td>0.00</td>\n      <td>0.00</td>\n      <td>0.00</td>\n      <td>0.00</td>\n      <td>0.00</td>\n      <td>1.00</td>\n      <td>0.00</td>\n      <td>0.00</td>\n      <td>0.00</td>\n      <td>1.00</td>\n      <td>0.00</td>\n      <td>0.00</td>\n      <td>0.00</td>\n      <td>0.00</td>\n      <td>1.00</td>\n      <td>0.00</td>\n      <td>0.00</td>\n      <td>0.00</td>\n      <td>0.00</td>\n      <td>0.00</td>\n      <td>0.45</td>\n      <td>0.08</td>\n      <td>0.89</td>\n    </tr>\n    <tr>\n      <th>1</th>\n      <td>0.00</td>\n      <td>0.00</td>\n      <td>0.00</td>\n      <td>1.00</td>\n      <td>0.00</td>\n      <td>0.00</td>\n      <td>0.00</td>\n      <td>0.00</td>\n      <td>0.00</td>\n      <td>1.00</td>\n      <td>0.00</td>\n      <td>0.00</td>\n      <td>0.00</td>\n      <td>1.00</td>\n      <td>0.00</td>\n      <td>0.00</td>\n      <td>0.00</td>\n      <td>0.00</td>\n      <td>1.00</td>\n      <td>0.00</td>\n      <td>0.00</td>\n      <td>0.00</td>\n      <td>0.00</td>\n      <td>0.00</td>\n      <td>0.70</td>\n      <td>0.13</td>\n      <td>0.70</td>\n    </tr>\n    <tr>\n      <th>2</th>\n      <td>1.00</td>\n      <td>0.00</td>\n      <td>0.00</td>\n      <td>0.00</td>\n      <td>0.00</td>\n      <td>1.00</td>\n      <td>0.00</td>\n      <td>0.00</td>\n      <td>0.00</td>\n      <td>0.00</td>\n      <td>0.00</td>\n      <td>0.00</td>\n      <td>0.00</td>\n      <td>1.00</td>\n      <td>0.00</td>\n      <td>0.00</td>\n      <td>0.00</td>\n      <td>0.00</td>\n      <td>1.00</td>\n      <td>0.00</td>\n      <td>0.00</td>\n      <td>0.00</td>\n      <td>0.00</td>\n      <td>0.00</td>\n      <td>0.10</td>\n      <td>0.00</td>\n      <td>1.00</td>\n    </tr>\n    <tr>\n      <th>3</th>\n      <td>1.00</td>\n      <td>0.00</td>\n      <td>0.00</td>\n      <td>0.00</td>\n      <td>0.00</td>\n      <td>0.00</td>\n      <td>0.00</td>\n      <td>0.00</td>\n      <td>0.00</td>\n      <td>0.00</td>\n      <td>1.00</td>\n      <td>0.00</td>\n      <td>0.00</td>\n      <td>1.00</td>\n      <td>0.00</td>\n      <td>0.00</td>\n      <td>0.00</td>\n      <td>0.00</td>\n      <td>0.00</td>\n      <td>1.00</td>\n      <td>0.00</td>\n      <td>0.00</td>\n      <td>0.00</td>\n      <td>0.00</td>\n      <td>0.02</td>\n      <td>0.00</td>\n      <td>1.00</td>\n    </tr>\n    <tr>\n      <th>4</th>\n      <td>0.00</td>\n      <td>0.00</td>\n      <td>0.00</td>\n      <td>1.00</td>\n      <td>0.00</td>\n      <td>0.00</td>\n      <td>0.00</td>\n      <td>0.00</td>\n      <td>0.00</td>\n      <td>1.00</td>\n      <td>0.00</td>\n      <td>0.00</td>\n      <td>0.00</td>\n      <td>1.00</td>\n      <td>0.00</td>\n      <td>0.00</td>\n      <td>0.00</td>\n      <td>1.00</td>\n      <td>0.00</td>\n      <td>0.00</td>\n      <td>0.00</td>\n      <td>0.00</td>\n      <td>0.00</td>\n      <td>0.00</td>\n      <td>0.14</td>\n      <td>0.03</td>\n      <td>0.99</td>\n    </tr>\n    <tr>\n      <th>...</th>\n      <td>...</td>\n      <td>...</td>\n      <td>...</td>\n      <td>...</td>\n      <td>...</td>\n      <td>...</td>\n      <td>...</td>\n      <td>...</td>\n      <td>...</td>\n      <td>...</td>\n      <td>...</td>\n      <td>...</td>\n      <td>...</td>\n      <td>...</td>\n      <td>...</td>\n      <td>...</td>\n      <td>...</td>\n      <td>...</td>\n      <td>...</td>\n      <td>...</td>\n      <td>...</td>\n      <td>...</td>\n      <td>...</td>\n      <td>...</td>\n      <td>...</td>\n      <td>...</td>\n      <td>...</td>\n    </tr>\n    <tr>\n      <th>22387</th>\n      <td>0.00</td>\n      <td>1.00</td>\n      <td>0.00</td>\n      <td>0.00</td>\n      <td>0.00</td>\n      <td>0.00</td>\n      <td>0.00</td>\n      <td>0.00</td>\n      <td>1.00</td>\n      <td>0.00</td>\n      <td>0.00</td>\n      <td>0.00</td>\n      <td>0.00</td>\n      <td>1.00</td>\n      <td>0.00</td>\n      <td>0.00</td>\n      <td>0.00</td>\n      <td>1.00</td>\n      <td>0.00</td>\n      <td>0.00</td>\n      <td>0.00</td>\n      <td>0.00</td>\n      <td>0.00</td>\n      <td>0.00</td>\n      <td>0.12</td>\n      <td>0.02</td>\n      <td>0.99</td>\n    </tr>\n    <tr>\n      <th>22388</th>\n      <td>0.00</td>\n      <td>1.00</td>\n      <td>0.00</td>\n      <td>0.00</td>\n      <td>0.00</td>\n      <td>0.00</td>\n      <td>0.00</td>\n      <td>0.00</td>\n      <td>1.00</td>\n      <td>0.00</td>\n      <td>0.00</td>\n      <td>0.00</td>\n      <td>0.00</td>\n      <td>1.00</td>\n      <td>0.00</td>\n      <td>0.00</td>\n      <td>0.00</td>\n      <td>1.00</td>\n      <td>0.00</td>\n      <td>0.00</td>\n      <td>0.00</td>\n      <td>0.00</td>\n      <td>0.00</td>\n      <td>0.00</td>\n      <td>0.70</td>\n      <td>0.13</td>\n      <td>0.70</td>\n    </tr>\n    <tr>\n      <th>22389</th>\n      <td>0.00</td>\n      <td>0.00</td>\n      <td>0.00</td>\n      <td>1.00</td>\n      <td>0.00</td>\n      <td>0.00</td>\n      <td>0.00</td>\n      <td>0.00</td>\n      <td>0.00</td>\n      <td>1.00</td>\n      <td>0.00</td>\n      <td>0.00</td>\n      <td>0.00</td>\n      <td>1.00</td>\n      <td>0.00</td>\n      <td>0.00</td>\n      <td>0.00</td>\n      <td>1.00</td>\n      <td>0.00</td>\n      <td>0.00</td>\n      <td>0.00</td>\n      <td>0.00</td>\n      <td>0.00</td>\n      <td>0.00</td>\n      <td>0.32</td>\n      <td>0.06</td>\n      <td>0.95</td>\n    </tr>\n    <tr>\n      <th>22390</th>\n      <td>0.00</td>\n      <td>0.00</td>\n      <td>0.00</td>\n      <td>1.00</td>\n      <td>0.00</td>\n      <td>0.00</td>\n      <td>0.00</td>\n      <td>0.00</td>\n      <td>0.00</td>\n      <td>1.00</td>\n      <td>0.00</td>\n      <td>0.00</td>\n      <td>0.00</td>\n      <td>1.00</td>\n      <td>0.00</td>\n      <td>0.00</td>\n      <td>0.00</td>\n      <td>1.00</td>\n      <td>0.00</td>\n      <td>0.00</td>\n      <td>0.00</td>\n      <td>0.00</td>\n      <td>0.00</td>\n      <td>0.00</td>\n      <td>0.24</td>\n      <td>0.05</td>\n      <td>0.97</td>\n    </tr>\n    <tr>\n      <th>22391</th>\n      <td>0.00</td>\n      <td>1.00</td>\n      <td>0.00</td>\n      <td>0.00</td>\n      <td>0.00</td>\n      <td>0.00</td>\n      <td>0.00</td>\n      <td>0.00</td>\n      <td>1.00</td>\n      <td>0.00</td>\n      <td>0.00</td>\n      <td>0.00</td>\n      <td>0.00</td>\n      <td>1.00</td>\n      <td>0.00</td>\n      <td>0.00</td>\n      <td>0.00</td>\n      <td>1.00</td>\n      <td>0.00</td>\n      <td>0.00</td>\n      <td>0.00</td>\n      <td>0.00</td>\n      <td>0.00</td>\n      <td>0.00</td>\n      <td>0.20</td>\n      <td>0.04</td>\n      <td>0.98</td>\n    </tr>\n  </tbody>\n</table>\n<p>22392 rows × 27 columns</p>\n</div>",
       "datasetInfos": [],
       "metadata": {},
       "removedWidgets": [],
       "textData": null,
       "type": "htmlSandbox"
      }
     },
     "output_type": "display_data"
    }
   ],
   "source": [
    "df_num_encoder_normalized = pd.concat([OH_Cols, df_numeric_normalized], axis=1)\n",
    "df_num_encoder_normalized"
   ]
  },
  {
   "cell_type": "code",
   "execution_count": 0,
   "metadata": {
    "application/vnd.databricks.v1+cell": {
     "inputWidgets": {},
     "nuid": "bf684f8d-c139-45bd-b73f-099e746e0b86",
     "showTitle": false,
     "title": ""
    }
   },
   "outputs": [
    {
     "data": {
      "text/html": [
       "<style scoped>\n",
       "  .ansiout {\n",
       "    display: block;\n",
       "    unicode-bidi: embed;\n",
       "    white-space: pre-wrap;\n",
       "    word-wrap: break-word;\n",
       "    word-break: break-all;\n",
       "    font-family: \"Source Code Pro\", \"Menlo\", monospace;;\n",
       "    font-size: 13px;\n",
       "    color: #555;\n",
       "    margin-left: 4px;\n",
       "    line-height: 19px;\n",
       "  }\n",
       "</style>\n",
       "<div class=\"ansiout\">Out[1139]: </div>"
      ]
     },
     "metadata": {
      "application/vnd.databricks.v1+output": {
       "addedWidgets": {},
       "arguments": {},
       "data": "<div class=\"ansiout\">Out[1139]: </div>",
       "datasetInfos": [],
       "metadata": {},
       "removedWidgets": [],
       "type": "html"
      }
     },
     "output_type": "display_data"
    },
    {
     "data": {
      "text/html": [
       "<div>\n",
       "<style scoped>\n",
       "    .dataframe tbody tr th:only-of-type {\n",
       "        vertical-align: middle;\n",
       "    }\n",
       "\n",
       "    .dataframe tbody tr th {\n",
       "        vertical-align: top;\n",
       "    }\n",
       "\n",
       "    .dataframe thead th {\n",
       "        text-align: right;\n",
       "    }\n",
       "</style>\n",
       "<table border=\"1\" class=\"dataframe\">\n",
       "  <thead>\n",
       "    <tr style=\"text-align: right;\">\n",
       "      <th></th>\n",
       "      <th>CATEGORÍA_Alimentos y Bebidas</th>\n",
       "      <th>CATEGORÍA_Aseo, Cafetería y Oficina</th>\n",
       "      <th>CATEGORÍA_Dotación y elementos de protección personal</th>\n",
       "      <th>CATEGORÍA_Otros</th>\n",
       "      <th>CATEGORÍA_Vigilancia y seguridad industrial</th>\n",
       "      <th>SUBCATEGORIA_Alimentos preparados y conservados</th>\n",
       "      <th>SUBCATEGORIA_Bebidas</th>\n",
       "      <th>SUBCATEGORIA_Elementos de aseo y limpieza</th>\n",
       "      <th>SUBCATEGORIA_Elementos de papelería</th>\n",
       "      <th>SUBCATEGORIA_Otros</th>\n",
       "      <th>SUBCATEGORIA_Productos de carne y aves de corral</th>\n",
       "      <th>SUBCATEGORIA_Productos lácteos y huevos</th>\n",
       "      <th>SUBCATEGORIA_Seguridad y protección personal</th>\n",
       "      <th>PROVEEDOR_Otros</th>\n",
       "      <th>PROVEEDOR_Proveedor 28</th>\n",
       "      <th>PROVEEDOR_Proveedor 301</th>\n",
       "      <th>PROVEEDOR_Proveedor 59</th>\n",
       "      <th>PORTAL_Otros</th>\n",
       "      <th>PORTAL_Portal comprador 1</th>\n",
       "      <th>PORTAL_Portal comprador 2</th>\n",
       "      <th>PORTAL_Portal comprador 24</th>\n",
       "      <th>PORTAL_Portal comprador 29</th>\n",
       "      <th>CANTIDAD_PEDIDA</th>\n",
       "      <th>CANTIDAD_RECIBIDA</th>\n",
       "      <th>PRECIO_UNITARIO</th>\n",
       "      <th>IVA</th>\n",
       "      <th>TOTAL_SIN_IVA</th>\n",
       "    </tr>\n",
       "  </thead>\n",
       "  <tbody>\n",
       "    <tr>\n",
       "      <th>count</th>\n",
       "      <td>22,392.00</td>\n",
       "      <td>22,392.00</td>\n",
       "      <td>22,392.00</td>\n",
       "      <td>22,392.00</td>\n",
       "      <td>22,392.00</td>\n",
       "      <td>22,392.00</td>\n",
       "      <td>22,392.00</td>\n",
       "      <td>22,392.00</td>\n",
       "      <td>22,392.00</td>\n",
       "      <td>22,392.00</td>\n",
       "      <td>22,392.00</td>\n",
       "      <td>22,392.00</td>\n",
       "      <td>22,392.00</td>\n",
       "      <td>22,392.00</td>\n",
       "      <td>22,392.00</td>\n",
       "      <td>22,392.00</td>\n",
       "      <td>22,392.00</td>\n",
       "      <td>22,392.00</td>\n",
       "      <td>22,392.00</td>\n",
       "      <td>22,392.00</td>\n",
       "      <td>22,392.00</td>\n",
       "      <td>22,392.00</td>\n",
       "      <td>22,392.00</td>\n",
       "      <td>22,392.00</td>\n",
       "      <td>22,392.00</td>\n",
       "      <td>22,392.00</td>\n",
       "      <td>22,392.00</td>\n",
       "    </tr>\n",
       "    <tr>\n",
       "      <th>mean</th>\n",
       "      <td>0.31</td>\n",
       "      <td>0.17</td>\n",
       "      <td>0.05</td>\n",
       "      <td>0.20</td>\n",
       "      <td>0.27</td>\n",
       "      <td>0.10</td>\n",
       "      <td>0.06</td>\n",
       "      <td>0.09</td>\n",
       "      <td>0.07</td>\n",
       "      <td>0.34</td>\n",
       "      <td>0.04</td>\n",
       "      <td>0.03</td>\n",
       "      <td>0.27</td>\n",
       "      <td>0.62</td>\n",
       "      <td>0.06</td>\n",
       "      <td>0.24</td>\n",
       "      <td>0.07</td>\n",
       "      <td>0.14</td>\n",
       "      <td>0.29</td>\n",
       "      <td>0.17</td>\n",
       "      <td>0.24</td>\n",
       "      <td>0.15</td>\n",
       "      <td>0.00</td>\n",
       "      <td>0.00</td>\n",
       "      <td>0.25</td>\n",
       "      <td>0.04</td>\n",
       "      <td>0.92</td>\n",
       "    </tr>\n",
       "    <tr>\n",
       "      <th>std</th>\n",
       "      <td>0.46</td>\n",
       "      <td>0.38</td>\n",
       "      <td>0.23</td>\n",
       "      <td>0.40</td>\n",
       "      <td>0.44</td>\n",
       "      <td>0.30</td>\n",
       "      <td>0.24</td>\n",
       "      <td>0.29</td>\n",
       "      <td>0.26</td>\n",
       "      <td>0.47</td>\n",
       "      <td>0.18</td>\n",
       "      <td>0.18</td>\n",
       "      <td>0.44</td>\n",
       "      <td>0.48</td>\n",
       "      <td>0.24</td>\n",
       "      <td>0.43</td>\n",
       "      <td>0.25</td>\n",
       "      <td>0.35</td>\n",
       "      <td>0.46</td>\n",
       "      <td>0.38</td>\n",
       "      <td>0.43</td>\n",
       "      <td>0.36</td>\n",
       "      <td>0.04</td>\n",
       "      <td>0.02</td>\n",
       "      <td>0.26</td>\n",
       "      <td>0.05</td>\n",
       "      <td>0.12</td>\n",
       "    </tr>\n",
       "    <tr>\n",
       "      <th>min</th>\n",
       "      <td>0.00</td>\n",
       "      <td>0.00</td>\n",
       "      <td>0.00</td>\n",
       "      <td>0.00</td>\n",
       "      <td>0.00</td>\n",
       "      <td>0.00</td>\n",
       "      <td>0.00</td>\n",
       "      <td>0.00</td>\n",
       "      <td>0.00</td>\n",
       "      <td>0.00</td>\n",
       "      <td>0.00</td>\n",
       "      <td>0.00</td>\n",
       "      <td>0.00</td>\n",
       "      <td>0.00</td>\n",
       "      <td>0.00</td>\n",
       "      <td>0.00</td>\n",
       "      <td>0.00</td>\n",
       "      <td>0.00</td>\n",
       "      <td>0.00</td>\n",
       "      <td>0.00</td>\n",
       "      <td>0.00</td>\n",
       "      <td>0.00</td>\n",
       "      <td>0.00</td>\n",
       "      <td>0.00</td>\n",
       "      <td>0.00</td>\n",
       "      <td>0.00</td>\n",
       "      <td>0.00</td>\n",
       "    </tr>\n",
       "    <tr>\n",
       "      <th>25%</th>\n",
       "      <td>0.00</td>\n",
       "      <td>0.00</td>\n",
       "      <td>0.00</td>\n",
       "      <td>0.00</td>\n",
       "      <td>0.00</td>\n",
       "      <td>0.00</td>\n",
       "      <td>0.00</td>\n",
       "      <td>0.00</td>\n",
       "      <td>0.00</td>\n",
       "      <td>0.00</td>\n",
       "      <td>0.00</td>\n",
       "      <td>0.00</td>\n",
       "      <td>0.00</td>\n",
       "      <td>0.00</td>\n",
       "      <td>0.00</td>\n",
       "      <td>0.00</td>\n",
       "      <td>0.00</td>\n",
       "      <td>0.00</td>\n",
       "      <td>0.00</td>\n",
       "      <td>0.00</td>\n",
       "      <td>0.00</td>\n",
       "      <td>0.00</td>\n",
       "      <td>0.00</td>\n",
       "      <td>0.00</td>\n",
       "      <td>0.02</td>\n",
       "      <td>0.00</td>\n",
       "      <td>0.89</td>\n",
       "    </tr>\n",
       "    <tr>\n",
       "      <th>50%</th>\n",
       "      <td>0.00</td>\n",
       "      <td>0.00</td>\n",
       "      <td>0.00</td>\n",
       "      <td>0.00</td>\n",
       "      <td>0.00</td>\n",
       "      <td>0.00</td>\n",
       "      <td>0.00</td>\n",
       "      <td>0.00</td>\n",
       "      <td>0.00</td>\n",
       "      <td>0.00</td>\n",
       "      <td>0.00</td>\n",
       "      <td>0.00</td>\n",
       "      <td>0.00</td>\n",
       "      <td>1.00</td>\n",
       "      <td>0.00</td>\n",
       "      <td>0.00</td>\n",
       "      <td>0.00</td>\n",
       "      <td>0.00</td>\n",
       "      <td>0.00</td>\n",
       "      <td>0.00</td>\n",
       "      <td>0.00</td>\n",
       "      <td>0.00</td>\n",
       "      <td>0.00</td>\n",
       "      <td>0.00</td>\n",
       "      <td>0.14</td>\n",
       "      <td>0.01</td>\n",
       "      <td>0.99</td>\n",
       "    </tr>\n",
       "    <tr>\n",
       "      <th>75%</th>\n",
       "      <td>1.00</td>\n",
       "      <td>0.00</td>\n",
       "      <td>0.00</td>\n",
       "      <td>0.00</td>\n",
       "      <td>1.00</td>\n",
       "      <td>0.00</td>\n",
       "      <td>0.00</td>\n",
       "      <td>0.00</td>\n",
       "      <td>0.00</td>\n",
       "      <td>1.00</td>\n",
       "      <td>0.00</td>\n",
       "      <td>0.00</td>\n",
       "      <td>1.00</td>\n",
       "      <td>1.00</td>\n",
       "      <td>0.00</td>\n",
       "      <td>0.00</td>\n",
       "      <td>0.00</td>\n",
       "      <td>0.00</td>\n",
       "      <td>1.00</td>\n",
       "      <td>0.00</td>\n",
       "      <td>0.00</td>\n",
       "      <td>0.00</td>\n",
       "      <td>0.00</td>\n",
       "      <td>0.00</td>\n",
       "      <td>0.45</td>\n",
       "      <td>0.06</td>\n",
       "      <td>1.00</td>\n",
       "    </tr>\n",
       "    <tr>\n",
       "      <th>max</th>\n",
       "      <td>1.00</td>\n",
       "      <td>1.00</td>\n",
       "      <td>1.00</td>\n",
       "      <td>1.00</td>\n",
       "      <td>1.00</td>\n",
       "      <td>1.00</td>\n",
       "      <td>1.00</td>\n",
       "      <td>1.00</td>\n",
       "      <td>1.00</td>\n",
       "      <td>1.00</td>\n",
       "      <td>1.00</td>\n",
       "      <td>1.00</td>\n",
       "      <td>1.00</td>\n",
       "      <td>1.00</td>\n",
       "      <td>1.00</td>\n",
       "      <td>1.00</td>\n",
       "      <td>1.00</td>\n",
       "      <td>1.00</td>\n",
       "      <td>1.00</td>\n",
       "      <td>1.00</td>\n",
       "      <td>1.00</td>\n",
       "      <td>1.00</td>\n",
       "      <td>1.00</td>\n",
       "      <td>0.71</td>\n",
       "      <td>0.97</td>\n",
       "      <td>0.17</td>\n",
       "      <td>1.00</td>\n",
       "    </tr>\n",
       "  </tbody>\n",
       "</table>\n",
       "</div>"
      ]
     },
     "metadata": {
      "application/vnd.databricks.v1+output": {
       "addedWidgets": {},
       "arguments": {},
       "data": "<div>\n<style scoped>\n    .dataframe tbody tr th:only-of-type {\n        vertical-align: middle;\n    }\n\n    .dataframe tbody tr th {\n        vertical-align: top;\n    }\n\n    .dataframe thead th {\n        text-align: right;\n    }\n</style>\n<table border=\"1\" class=\"dataframe\">\n  <thead>\n    <tr style=\"text-align: right;\">\n      <th></th>\n      <th>CATEGORÍA_Alimentos y Bebidas</th>\n      <th>CATEGORÍA_Aseo, Cafetería y Oficina</th>\n      <th>CATEGORÍA_Dotación y elementos de protección personal</th>\n      <th>CATEGORÍA_Otros</th>\n      <th>CATEGORÍA_Vigilancia y seguridad industrial</th>\n      <th>SUBCATEGORIA_Alimentos preparados y conservados</th>\n      <th>SUBCATEGORIA_Bebidas</th>\n      <th>SUBCATEGORIA_Elementos de aseo y limpieza</th>\n      <th>SUBCATEGORIA_Elementos de papelería</th>\n      <th>SUBCATEGORIA_Otros</th>\n      <th>SUBCATEGORIA_Productos de carne y aves de corral</th>\n      <th>SUBCATEGORIA_Productos lácteos y huevos</th>\n      <th>SUBCATEGORIA_Seguridad y protección personal</th>\n      <th>PROVEEDOR_Otros</th>\n      <th>PROVEEDOR_Proveedor 28</th>\n      <th>PROVEEDOR_Proveedor 301</th>\n      <th>PROVEEDOR_Proveedor 59</th>\n      <th>PORTAL_Otros</th>\n      <th>PORTAL_Portal comprador 1</th>\n      <th>PORTAL_Portal comprador 2</th>\n      <th>PORTAL_Portal comprador 24</th>\n      <th>PORTAL_Portal comprador 29</th>\n      <th>CANTIDAD_PEDIDA</th>\n      <th>CANTIDAD_RECIBIDA</th>\n      <th>PRECIO_UNITARIO</th>\n      <th>IVA</th>\n      <th>TOTAL_SIN_IVA</th>\n    </tr>\n  </thead>\n  <tbody>\n    <tr>\n      <th>count</th>\n      <td>22,392.00</td>\n      <td>22,392.00</td>\n      <td>22,392.00</td>\n      <td>22,392.00</td>\n      <td>22,392.00</td>\n      <td>22,392.00</td>\n      <td>22,392.00</td>\n      <td>22,392.00</td>\n      <td>22,392.00</td>\n      <td>22,392.00</td>\n      <td>22,392.00</td>\n      <td>22,392.00</td>\n      <td>22,392.00</td>\n      <td>22,392.00</td>\n      <td>22,392.00</td>\n      <td>22,392.00</td>\n      <td>22,392.00</td>\n      <td>22,392.00</td>\n      <td>22,392.00</td>\n      <td>22,392.00</td>\n      <td>22,392.00</td>\n      <td>22,392.00</td>\n      <td>22,392.00</td>\n      <td>22,392.00</td>\n      <td>22,392.00</td>\n      <td>22,392.00</td>\n      <td>22,392.00</td>\n    </tr>\n    <tr>\n      <th>mean</th>\n      <td>0.31</td>\n      <td>0.17</td>\n      <td>0.05</td>\n      <td>0.20</td>\n      <td>0.27</td>\n      <td>0.10</td>\n      <td>0.06</td>\n      <td>0.09</td>\n      <td>0.07</td>\n      <td>0.34</td>\n      <td>0.04</td>\n      <td>0.03</td>\n      <td>0.27</td>\n      <td>0.62</td>\n      <td>0.06</td>\n      <td>0.24</td>\n      <td>0.07</td>\n      <td>0.14</td>\n      <td>0.29</td>\n      <td>0.17</td>\n      <td>0.24</td>\n      <td>0.15</td>\n      <td>0.00</td>\n      <td>0.00</td>\n      <td>0.25</td>\n      <td>0.04</td>\n      <td>0.92</td>\n    </tr>\n    <tr>\n      <th>std</th>\n      <td>0.46</td>\n      <td>0.38</td>\n      <td>0.23</td>\n      <td>0.40</td>\n      <td>0.44</td>\n      <td>0.30</td>\n      <td>0.24</td>\n      <td>0.29</td>\n      <td>0.26</td>\n      <td>0.47</td>\n      <td>0.18</td>\n      <td>0.18</td>\n      <td>0.44</td>\n      <td>0.48</td>\n      <td>0.24</td>\n      <td>0.43</td>\n      <td>0.25</td>\n      <td>0.35</td>\n      <td>0.46</td>\n      <td>0.38</td>\n      <td>0.43</td>\n      <td>0.36</td>\n      <td>0.04</td>\n      <td>0.02</td>\n      <td>0.26</td>\n      <td>0.05</td>\n      <td>0.12</td>\n    </tr>\n    <tr>\n      <th>min</th>\n      <td>0.00</td>\n      <td>0.00</td>\n      <td>0.00</td>\n      <td>0.00</td>\n      <td>0.00</td>\n      <td>0.00</td>\n      <td>0.00</td>\n      <td>0.00</td>\n      <td>0.00</td>\n      <td>0.00</td>\n      <td>0.00</td>\n      <td>0.00</td>\n      <td>0.00</td>\n      <td>0.00</td>\n      <td>0.00</td>\n      <td>0.00</td>\n      <td>0.00</td>\n      <td>0.00</td>\n      <td>0.00</td>\n      <td>0.00</td>\n      <td>0.00</td>\n      <td>0.00</td>\n      <td>0.00</td>\n      <td>0.00</td>\n      <td>0.00</td>\n      <td>0.00</td>\n      <td>0.00</td>\n    </tr>\n    <tr>\n      <th>25%</th>\n      <td>0.00</td>\n      <td>0.00</td>\n      <td>0.00</td>\n      <td>0.00</td>\n      <td>0.00</td>\n      <td>0.00</td>\n      <td>0.00</td>\n      <td>0.00</td>\n      <td>0.00</td>\n      <td>0.00</td>\n      <td>0.00</td>\n      <td>0.00</td>\n      <td>0.00</td>\n      <td>0.00</td>\n      <td>0.00</td>\n      <td>0.00</td>\n      <td>0.00</td>\n      <td>0.00</td>\n      <td>0.00</td>\n      <td>0.00</td>\n      <td>0.00</td>\n      <td>0.00</td>\n      <td>0.00</td>\n      <td>0.00</td>\n      <td>0.02</td>\n      <td>0.00</td>\n      <td>0.89</td>\n    </tr>\n    <tr>\n      <th>50%</th>\n      <td>0.00</td>\n      <td>0.00</td>\n      <td>0.00</td>\n      <td>0.00</td>\n      <td>0.00</td>\n      <td>0.00</td>\n      <td>0.00</td>\n      <td>0.00</td>\n      <td>0.00</td>\n      <td>0.00</td>\n      <td>0.00</td>\n      <td>0.00</td>\n      <td>0.00</td>\n      <td>1.00</td>\n      <td>0.00</td>\n      <td>0.00</td>\n      <td>0.00</td>\n      <td>0.00</td>\n      <td>0.00</td>\n      <td>0.00</td>\n      <td>0.00</td>\n      <td>0.00</td>\n      <td>0.00</td>\n      <td>0.00</td>\n      <td>0.14</td>\n      <td>0.01</td>\n      <td>0.99</td>\n    </tr>\n    <tr>\n      <th>75%</th>\n      <td>1.00</td>\n      <td>0.00</td>\n      <td>0.00</td>\n      <td>0.00</td>\n      <td>1.00</td>\n      <td>0.00</td>\n      <td>0.00</td>\n      <td>0.00</td>\n      <td>0.00</td>\n      <td>1.00</td>\n      <td>0.00</td>\n      <td>0.00</td>\n      <td>1.00</td>\n      <td>1.00</td>\n      <td>0.00</td>\n      <td>0.00</td>\n      <td>0.00</td>\n      <td>0.00</td>\n      <td>1.00</td>\n      <td>0.00</td>\n      <td>0.00</td>\n      <td>0.00</td>\n      <td>0.00</td>\n      <td>0.00</td>\n      <td>0.45</td>\n      <td>0.06</td>\n      <td>1.00</td>\n    </tr>\n    <tr>\n      <th>max</th>\n      <td>1.00</td>\n      <td>1.00</td>\n      <td>1.00</td>\n      <td>1.00</td>\n      <td>1.00</td>\n      <td>1.00</td>\n      <td>1.00</td>\n      <td>1.00</td>\n      <td>1.00</td>\n      <td>1.00</td>\n      <td>1.00</td>\n      <td>1.00</td>\n      <td>1.00</td>\n      <td>1.00</td>\n      <td>1.00</td>\n      <td>1.00</td>\n      <td>1.00</td>\n      <td>1.00</td>\n      <td>1.00</td>\n      <td>1.00</td>\n      <td>1.00</td>\n      <td>1.00</td>\n      <td>1.00</td>\n      <td>0.71</td>\n      <td>0.97</td>\n      <td>0.17</td>\n      <td>1.00</td>\n    </tr>\n  </tbody>\n</table>\n</div>",
       "datasetInfos": [],
       "metadata": {},
       "removedWidgets": [],
       "textData": null,
       "type": "htmlSandbox"
      }
     },
     "output_type": "display_data"
    }
   ],
   "source": [
    "df_num_encoder_normalized.describe()"
   ]
  },
  {
   "cell_type": "markdown",
   "metadata": {
    "application/vnd.databricks.v1+cell": {
     "inputWidgets": {},
     "nuid": "829fc3bf-040f-4a20-bd06-cac7761cdb16",
     "showTitle": false,
     "title": ""
    }
   },
   "source": [
    "# SAVE TO CSV"
   ]
  },
  {
   "cell_type": "code",
   "execution_count": 0,
   "metadata": {
    "application/vnd.databricks.v1+cell": {
     "inputWidgets": {},
     "nuid": "003500d3-8018-4aa7-bdd4-533810229792",
     "showTitle": false,
     "title": ""
    }
   },
   "outputs": [
    {
     "data": {
      "text/html": [
       "<style scoped>\n",
       "  .ansiout {\n",
       "    display: block;\n",
       "    unicode-bidi: embed;\n",
       "    white-space: pre-wrap;\n",
       "    word-wrap: break-word;\n",
       "    word-break: break-all;\n",
       "    font-family: \"Source Code Pro\", \"Menlo\", monospace;;\n",
       "    font-size: 13px;\n",
       "    color: #555;\n",
       "    margin-left: 4px;\n",
       "    line-height: 19px;\n",
       "  }\n",
       "</style>\n",
       "<div class=\"ansiout\"></div>"
      ]
     },
     "metadata": {
      "application/vnd.databricks.v1+output": {
       "addedWidgets": {},
       "arguments": {},
       "data": "<div class=\"ansiout\"></div>",
       "datasetInfos": [],
       "metadata": {},
       "removedWidgets": [],
       "type": "html"
      }
     },
     "output_type": "display_data"
    }
   ],
   "source": [
    "df_num_encoder_normalized.to_csv('/dbfs/mnt/data/Proveindustriales_Dic_2/Proveindustriales_Data_Cleaned_numeric_onehot_csv.csv', index=False)"
   ]
  },
  {
   "cell_type": "code",
   "execution_count": 0,
   "metadata": {
    "application/vnd.databricks.v1+cell": {
     "inputWidgets": {},
     "nuid": "d81f3bbb-3ce1-49dd-abc5-be6df68d5156",
     "showTitle": false,
     "title": ""
    }
   },
   "outputs": [],
   "source": []
  }
 ],
 "metadata": {
  "application/vnd.databricks.v1+notebook": {
   "dashboards": [],
   "language": "python",
   "notebookMetadata": {
    "pythonIndentUnit": 2,
    "widgetLayout": [
     {
      "breakBefore": false,
      "name": "Fecha_ini",
      "width": 227
     },
     {
      "breakBefore": false,
      "name": "Ingrese la fecha de inicio (formato YYYY-MM-DD):",
      "width": 227
     },
     {
      "breakBefore": false,
      "name": "Ingrese la fecha de inicio (formato YYYY-MM-DD): ",
      "width": 227
     },
     {
      "breakBefore": false,
      "name": "Ingrese la fecha final (formato YYYY-MM-DD):",
      "width": 227
     }
    ]
   },
   "notebookName": "Proveindustriales_Data_Cleaned_v5",
   "notebookOrigID": 2494502516633059,
   "widgets": {
    "Fecha de inicio (YYYY-MM-DD)": {
     "currentValue": "2021-03-15",
     "nuid": "7d72a639-d9c5-4163-80f8-bcf2eaaace05",
     "widgetInfo": {
      "defaultValue": "",
      "label": null,
      "name": "Fecha de inicio (YYYY-MM-DD)",
      "options": {
       "validationRegex": null,
       "widgetType": "text"
      },
      "widgetType": "text"
     }
    },
    "Fecha final (YYYY-MM-DD)": {
     "currentValue": "2021-03-21",
     "nuid": "e1e21798-9fe3-4a53-ab96-f1cbbfa0a071",
     "widgetInfo": {
      "defaultValue": "",
      "label": null,
      "name": "Fecha final (YYYY-MM-DD)",
      "options": {
       "validationRegex": null,
       "widgetType": "text"
      },
      "widgetType": "text"
     }
    }
   }
  },
  "interpreter": {
   "hash": "c94be41889154d41bf43aca8d1a8d1cd64b97c119170e03e2ed46ca87183f0c5"
  },
  "kernelspec": {
   "display_name": "Python 3",
   "language": "python",
   "name": "python3"
  },
  "language_info": {
   "codemirror_mode": {
    "name": "ipython",
    "version": 3
   },
   "file_extension": ".py",
   "mimetype": "text/x-python",
   "name": "python",
   "nbconvert_exporter": "python",
   "pygments_lexer": "ipython3",
   "version": "3.8.8"
  }
 },
 "nbformat": 4,
 "nbformat_minor": 1
}
