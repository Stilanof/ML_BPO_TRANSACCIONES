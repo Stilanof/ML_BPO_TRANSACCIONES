{
 "cells": [
  {
   "cell_type": "code",
   "execution_count": 2,
   "metadata": {},
   "outputs": [],
   "source": [
    "import pandas as pd\n",
    "import seaborn as sns\n",
    "import matplotlib.pyplot as plt\n",
    "import seaborn as sns\n",
    "import plotly.express as px\n",
    "\n",
    "# Import module for data visualization\n",
    "from plotnine import *\n",
    "import plotnine\n",
    "# Import module for k-protoype cluster\n",
    "from kmodes.kprototypes import KPrototypes\n",
    "# Ignore warnings\n",
    "import warnings\n",
    "warnings.filterwarnings('ignore', category = FutureWarning)\n",
    "# Format scientific notation from Pandas\n",
    "pd.set_option('display.float_format', lambda x: '%.3f' % x)\n",
    "\n",
    "plt.style.use('ggplot')"
   ]
  },
  {
   "cell_type": "code",
   "execution_count": 2,
   "metadata": {},
   "outputs": [
    {
     "name": "stdout",
     "output_type": "stream",
     "text": [
      "Requirement already satisfied: plotnine in c:\\users\\stilanof\\anaconda3\\lib\\site-packages (0.8.0)\n",
      "Requirement already satisfied: descartes>=1.1.0 in c:\\users\\stilanof\\anaconda3\\lib\\site-packages (from plotnine) (1.1.0)\n",
      "Requirement already satisfied: numpy>=1.19.0 in c:\\users\\stilanof\\anaconda3\\lib\\site-packages (from plotnine) (1.20.1)\n",
      "Requirement already satisfied: pandas>=1.1.0 in c:\\users\\stilanof\\anaconda3\\lib\\site-packages (from plotnine) (1.2.4)\n",
      "Requirement already satisfied: statsmodels>=0.12.1 in c:\\users\\stilanof\\anaconda3\\lib\\site-packages (from plotnine) (0.12.2)\n",
      "Requirement already satisfied: patsy>=0.5.1 in c:\\users\\stilanof\\anaconda3\\lib\\site-packages (from plotnine) (0.5.1)\n",
      "Requirement already satisfied: mizani>=0.7.3 in c:\\users\\stilanof\\anaconda3\\lib\\site-packages (from plotnine) (0.7.3)\n",
      "Requirement already satisfied: matplotlib>=3.1.1 in c:\\users\\stilanof\\anaconda3\\lib\\site-packages (from plotnine) (3.3.4)\n",
      "Requirement already satisfied: scipy>=1.5.0 in c:\\users\\stilanof\\anaconda3\\lib\\site-packages (from plotnine) (1.6.2)\n",
      "Requirement already satisfied: pillow>=6.2.0 in c:\\users\\stilanof\\anaconda3\\lib\\site-packages (from matplotlib>=3.1.1->plotnine) (8.2.0)\n",
      "Requirement already satisfied: python-dateutil>=2.1 in c:\\users\\stilanof\\anaconda3\\lib\\site-packages (from matplotlib>=3.1.1->plotnine) (2.8.1)\n",
      "Requirement already satisfied: pyparsing!=2.0.4,!=2.1.2,!=2.1.6,>=2.0.3 in c:\\users\\stilanof\\anaconda3\\lib\\site-packages (from matplotlib>=3.1.1->plotnine) (2.4.7)\n",
      "Requirement already satisfied: cycler>=0.10 in c:\\users\\stilanof\\anaconda3\\lib\\site-packages (from matplotlib>=3.1.1->plotnine) (0.10.0)\n",
      "Requirement already satisfied: kiwisolver>=1.0.1 in c:\\users\\stilanof\\anaconda3\\lib\\site-packages (from matplotlib>=3.1.1->plotnine) (1.3.1)\n",
      "Requirement already satisfied: six in c:\\users\\stilanof\\anaconda3\\lib\\site-packages (from cycler>=0.10->matplotlib>=3.1.1->plotnine) (1.15.0)\n",
      "Requirement already satisfied: palettable in c:\\users\\stilanof\\anaconda3\\lib\\site-packages (from mizani>=0.7.3->plotnine) (3.3.0)\n",
      "Requirement already satisfied: pytz>=2017.3 in c:\\users\\stilanof\\anaconda3\\lib\\site-packages (from pandas>=1.1.0->plotnine) (2021.1)\n",
      "Note: you may need to restart the kernel to use updated packages.\n"
     ]
    }
   ],
   "source": [
    "pip install plotnine"
   ]
  },
  {
   "cell_type": "code",
   "execution_count": 3,
   "metadata": {},
   "outputs": [
    {
     "name": "stdout",
     "output_type": "stream",
     "text": [
      "Requirement already satisfied: prince in c:\\users\\stilanof\\anaconda3\\lib\\site-packages (0.7.1)\n",
      "Requirement already satisfied: scikit-learn>=0.22.1 in c:\\users\\stilanof\\anaconda3\\lib\\site-packages (from prince) (0.24.1)\n",
      "Requirement already satisfied: pandas>=1.0.3 in c:\\users\\stilanof\\anaconda3\\lib\\site-packages (from prince) (1.2.4)\n",
      "Requirement already satisfied: matplotlib>=3.0.2 in c:\\users\\stilanof\\anaconda3\\lib\\site-packages (from prince) (3.3.4)\n",
      "Requirement already satisfied: numpy>=1.17.1 in c:\\users\\stilanof\\anaconda3\\lib\\site-packages (from prince) (1.20.1)\n",
      "Requirement already satisfied: scipy>=1.3.0 in c:\\users\\stilanof\\anaconda3\\lib\\site-packages (from prince) (1.6.2)\n",
      "Requirement already satisfied: pyparsing!=2.0.4,!=2.1.2,!=2.1.6,>=2.0.3 in c:\\users\\stilanof\\anaconda3\\lib\\site-packages (from matplotlib>=3.0.2->prince) (2.4.7)\n",
      "Requirement already satisfied: python-dateutil>=2.1 in c:\\users\\stilanof\\anaconda3\\lib\\site-packages (from matplotlib>=3.0.2->prince) (2.8.1)\n",
      "Requirement already satisfied: kiwisolver>=1.0.1 in c:\\users\\stilanof\\anaconda3\\lib\\site-packages (from matplotlib>=3.0.2->prince) (1.3.1)\n",
      "Requirement already satisfied: cycler>=0.10 in c:\\users\\stilanof\\anaconda3\\lib\\site-packages (from matplotlib>=3.0.2->prince) (0.10.0)\n",
      "Requirement already satisfied: pillow>=6.2.0 in c:\\users\\stilanof\\anaconda3\\lib\\site-packages (from matplotlib>=3.0.2->prince) (8.2.0)\n",
      "Requirement already satisfied: six in c:\\users\\stilanof\\anaconda3\\lib\\site-packages (from cycler>=0.10->matplotlib>=3.0.2->prince) (1.15.0)\n",
      "Requirement already satisfied: pytz>=2017.3 in c:\\users\\stilanof\\anaconda3\\lib\\site-packages (from pandas>=1.0.3->prince) (2021.1)\n",
      "Requirement already satisfied: joblib>=0.11 in c:\\users\\stilanof\\anaconda3\\lib\\site-packages (from scikit-learn>=0.22.1->prince) (1.0.1)\n",
      "Requirement already satisfied: threadpoolctl>=2.0.0 in c:\\users\\stilanof\\anaconda3\\lib\\site-packages (from scikit-learn>=0.22.1->prince) (2.1.0)\n",
      "Note: you may need to restart the kernel to use updated packages.\n"
     ]
    }
   ],
   "source": [
    "pip install prince "
   ]
  },
  {
   "cell_type": "code",
   "execution_count": 56,
   "metadata": {},
   "outputs": [],
   "source": [
    "# pip install --upgrade patsy"
   ]
  },
  {
   "cell_type": "markdown",
   "metadata": {},
   "source": [
    "# DATA ACQUISITION"
   ]
  },
  {
   "cell_type": "code",
   "execution_count": 3,
   "metadata": {},
   "outputs": [],
   "source": [
    "df = pd.read_csv('Proveindustriales_Data_Cleaned_Kprototipe_csv.csv')"
   ]
  },
  {
   "cell_type": "code",
   "execution_count": 4,
   "metadata": {},
   "outputs": [
    {
     "data": {
      "text/plain": [
       "Index(['NÚMERO_PEDIDO', 'ORDEN_NÚMERO', 'CATEGORÍA', 'SUBCATEGORÍA',\n",
       "       'PROVEEDOR', 'PRESUPUESTO', 'COMPAÑÍA_COMPRADORA', 'ESTADO',\n",
       "       'PRODUCTO_O_SERVICIO', 'CANTIDAD_PEDIDA', 'CANTIDAD_RECIBIDA',\n",
       "       'PRECIO_UNITARIO', 'PRECIO_UNITARIO_+_IVA', 'IVA', 'TOTAL_SIN_IVA',\n",
       "       'TOTAL_+_IVA', 'FECHA_ÚLTIMO_MOVIMIENTO', 'DURACIÓN_ENTREGA',\n",
       "       'DURACIÓN_APROBACIÓN'],\n",
       "      dtype='object')"
      ]
     },
     "execution_count": 4,
     "metadata": {},
     "output_type": "execute_result"
    }
   ],
   "source": [
    "df.columns"
   ]
  },
  {
   "cell_type": "code",
   "execution_count": 5,
   "metadata": {},
   "outputs": [
    {
     "data": {
      "text/html": [
       "<div>\n",
       "<style scoped>\n",
       "    .dataframe tbody tr th:only-of-type {\n",
       "        vertical-align: middle;\n",
       "    }\n",
       "\n",
       "    .dataframe tbody tr th {\n",
       "        vertical-align: top;\n",
       "    }\n",
       "\n",
       "    .dataframe thead th {\n",
       "        text-align: right;\n",
       "    }\n",
       "</style>\n",
       "<table border=\"1\" class=\"dataframe\">\n",
       "  <thead>\n",
       "    <tr style=\"text-align: right;\">\n",
       "      <th></th>\n",
       "      <th>NÚMERO_PEDIDO</th>\n",
       "      <th>ORDEN_NÚMERO</th>\n",
       "      <th>CATEGORÍA</th>\n",
       "      <th>SUBCATEGORÍA</th>\n",
       "      <th>PROVEEDOR</th>\n",
       "      <th>PRESUPUESTO</th>\n",
       "      <th>COMPAÑÍA_COMPRADORA</th>\n",
       "      <th>ESTADO</th>\n",
       "      <th>PRODUCTO_O_SERVICIO</th>\n",
       "      <th>CANTIDAD_PEDIDA</th>\n",
       "      <th>CANTIDAD_RECIBIDA</th>\n",
       "      <th>PRECIO_UNITARIO</th>\n",
       "      <th>PRECIO_UNITARIO_+_IVA</th>\n",
       "      <th>IVA</th>\n",
       "      <th>TOTAL_SIN_IVA</th>\n",
       "      <th>TOTAL_+_IVA</th>\n",
       "      <th>FECHA_ÚLTIMO_MOVIMIENTO</th>\n",
       "      <th>DURACIÓN_ENTREGA</th>\n",
       "      <th>DURACIÓN_APROBACIÓN</th>\n",
       "    </tr>\n",
       "  </thead>\n",
       "  <tbody>\n",
       "    <tr>\n",
       "      <th>19331</th>\n",
       "      <td>852</td>\n",
       "      <td>421</td>\n",
       "      <td>Alimentos y Bebidas</td>\n",
       "      <td>Bebidas</td>\n",
       "      <td>Proveedor 321</td>\n",
       "      <td>Presupuesto 711</td>\n",
       "      <td>Portal comprador 29</td>\n",
       "      <td>Orden en Proceso</td>\n",
       "      <td>LR_JUG_Alpina_Frutto Durazno Tetrapack 200ml</td>\n",
       "      <td>81.000</td>\n",
       "      <td>0.000</td>\n",
       "      <td>1006.000</td>\n",
       "      <td>1197.000</td>\n",
       "      <td>191</td>\n",
       "      <td>81476.000</td>\n",
       "      <td>96957.000</td>\n",
       "      <td>2018-11-09</td>\n",
       "      <td>3.242</td>\n",
       "      <td>0.000</td>\n",
       "    </tr>\n",
       "    <tr>\n",
       "      <th>263</th>\n",
       "      <td>49435</td>\n",
       "      <td>2480</td>\n",
       "      <td>Almacenamiento y empaques</td>\n",
       "      <td>Suministros de embalaje</td>\n",
       "      <td>Proveedor 12</td>\n",
       "      <td>Presupuesto 12</td>\n",
       "      <td>Portal comprador 1</td>\n",
       "      <td>Recibido</td>\n",
       "      <td>CINTA TRANSPARENTE 305 DE 48 MM X 100 MT \"XX10...</td>\n",
       "      <td>1.000</td>\n",
       "      <td>1.000</td>\n",
       "      <td>6390.000</td>\n",
       "      <td>7604.000</td>\n",
       "      <td>1214</td>\n",
       "      <td>6390.000</td>\n",
       "      <td>7604.000</td>\n",
       "      <td>2021-11-05</td>\n",
       "      <td>4.000</td>\n",
       "      <td>0.000</td>\n",
       "    </tr>\n",
       "  </tbody>\n",
       "</table>\n",
       "</div>"
      ],
      "text/plain": [
       "       NÚMERO_PEDIDO  ORDEN_NÚMERO                  CATEGORÍA  \\\n",
       "19331            852           421        Alimentos y Bebidas   \n",
       "263            49435          2480  Almacenamiento y empaques   \n",
       "\n",
       "                  SUBCATEGORÍA      PROVEEDOR      PRESUPUESTO  \\\n",
       "19331                  Bebidas  Proveedor 321  Presupuesto 711   \n",
       "263    Suministros de embalaje   Proveedor 12   Presupuesto 12   \n",
       "\n",
       "       COMPAÑÍA_COMPRADORA            ESTADO  \\\n",
       "19331  Portal comprador 29  Orden en Proceso   \n",
       "263     Portal comprador 1          Recibido   \n",
       "\n",
       "                                     PRODUCTO_O_SERVICIO  CANTIDAD_PEDIDA  \\\n",
       "19331       LR_JUG_Alpina_Frutto Durazno Tetrapack 200ml           81.000   \n",
       "263    CINTA TRANSPARENTE 305 DE 48 MM X 100 MT \"XX10...            1.000   \n",
       "\n",
       "       CANTIDAD_RECIBIDA  PRECIO_UNITARIO  PRECIO_UNITARIO_+_IVA   IVA  \\\n",
       "19331              0.000         1006.000               1197.000   191   \n",
       "263                1.000         6390.000               7604.000  1214   \n",
       "\n",
       "       TOTAL_SIN_IVA  TOTAL_+_IVA FECHA_ÚLTIMO_MOVIMIENTO  DURACIÓN_ENTREGA  \\\n",
       "19331      81476.000    96957.000              2018-11-09             3.242   \n",
       "263         6390.000     7604.000              2021-11-05             4.000   \n",
       "\n",
       "       DURACIÓN_APROBACIÓN  \n",
       "19331                0.000  \n",
       "263                  0.000  "
      ]
     },
     "execution_count": 5,
     "metadata": {},
     "output_type": "execute_result"
    }
   ],
   "source": [
    "df.sample(2)"
   ]
  },
  {
   "cell_type": "markdown",
   "metadata": {},
   "source": [
    "## IRRELEVANT COLUMNS"
   ]
  },
  {
   "cell_type": "code",
   "execution_count": 6,
   "metadata": {},
   "outputs": [],
   "source": [
    "cols_to_drop = ['FECHA_ÚLTIMO_MOVIMIENTO','DURACIÓN_ENTREGA', 'DURACIÓN_APROBACIÓN', 'PRECIO_UNITARIO_+_IVA', 'TOTAL_+_IVA', 'PRESUPUESTO', 'SUBCATEGORÍA', 'PRODUCTO_O_SERVICIO']"
   ]
  },
  {
   "cell_type": "code",
   "execution_count": 7,
   "metadata": {},
   "outputs": [],
   "source": [
    "df.drop(cols_to_drop, inplace=True, axis=1)"
   ]
  },
  {
   "cell_type": "markdown",
   "metadata": {},
   "source": [
    "## DF ORIGINAL"
   ]
  },
  {
   "cell_type": "code",
   "execution_count": 8,
   "metadata": {},
   "outputs": [
    {
     "data": {
      "text/html": [
       "<div>\n",
       "<style scoped>\n",
       "    .dataframe tbody tr th:only-of-type {\n",
       "        vertical-align: middle;\n",
       "    }\n",
       "\n",
       "    .dataframe tbody tr th {\n",
       "        vertical-align: top;\n",
       "    }\n",
       "\n",
       "    .dataframe thead th {\n",
       "        text-align: right;\n",
       "    }\n",
       "</style>\n",
       "<table border=\"1\" class=\"dataframe\">\n",
       "  <thead>\n",
       "    <tr style=\"text-align: right;\">\n",
       "      <th></th>\n",
       "      <th>NÚMERO_PEDIDO</th>\n",
       "      <th>ORDEN_NÚMERO</th>\n",
       "      <th>CATEGORÍA</th>\n",
       "      <th>PROVEEDOR</th>\n",
       "      <th>COMPAÑÍA_COMPRADORA</th>\n",
       "      <th>ESTADO</th>\n",
       "      <th>CANTIDAD_PEDIDA</th>\n",
       "      <th>CANTIDAD_RECIBIDA</th>\n",
       "      <th>PRECIO_UNITARIO</th>\n",
       "      <th>IVA</th>\n",
       "      <th>TOTAL_SIN_IVA</th>\n",
       "    </tr>\n",
       "  </thead>\n",
       "  <tbody>\n",
       "    <tr>\n",
       "      <th>0</th>\n",
       "      <td>49561</td>\n",
       "      <td>2582</td>\n",
       "      <td>Eléctricos y Electrónicos</td>\n",
       "      <td>Proveedor 1</td>\n",
       "      <td>Portal comprador 1</td>\n",
       "      <td>Orden en Proceso</td>\n",
       "      <td>2.000</td>\n",
       "      <td>0.000</td>\n",
       "      <td>23364.000</td>\n",
       "      <td>4439</td>\n",
       "      <td>46728.000</td>\n",
       "    </tr>\n",
       "    <tr>\n",
       "      <th>1</th>\n",
       "      <td>49560</td>\n",
       "      <td>2581</td>\n",
       "      <td>Mercadeo y publicidad</td>\n",
       "      <td>Proveedor 2</td>\n",
       "      <td>Portal comprador 1</td>\n",
       "      <td>Recibido</td>\n",
       "      <td>1.000</td>\n",
       "      <td>1.000</td>\n",
       "      <td>1476972.000</td>\n",
       "      <td>280625</td>\n",
       "      <td>1476972.000</td>\n",
       "    </tr>\n",
       "    <tr>\n",
       "      <th>2</th>\n",
       "      <td>49559</td>\n",
       "      <td>2580</td>\n",
       "      <td>Alimentos y Bebidas</td>\n",
       "      <td>Proveedor 3</td>\n",
       "      <td>Portal comprador 1</td>\n",
       "      <td>Orden en Proceso</td>\n",
       "      <td>10.000</td>\n",
       "      <td>0.000</td>\n",
       "      <td>15500.000</td>\n",
       "      <td>0</td>\n",
       "      <td>155000.000</td>\n",
       "    </tr>\n",
       "  </tbody>\n",
       "</table>\n",
       "</div>"
      ],
      "text/plain": [
       "   NÚMERO_PEDIDO  ORDEN_NÚMERO                  CATEGORÍA    PROVEEDOR  \\\n",
       "0          49561          2582  Eléctricos y Electrónicos  Proveedor 1   \n",
       "1          49560          2581      Mercadeo y publicidad  Proveedor 2   \n",
       "2          49559          2580        Alimentos y Bebidas  Proveedor 3   \n",
       "\n",
       "  COMPAÑÍA_COMPRADORA            ESTADO  CANTIDAD_PEDIDA  CANTIDAD_RECIBIDA  \\\n",
       "0  Portal comprador 1  Orden en Proceso            2.000              0.000   \n",
       "1  Portal comprador 1          Recibido            1.000              1.000   \n",
       "2  Portal comprador 1  Orden en Proceso           10.000              0.000   \n",
       "\n",
       "   PRECIO_UNITARIO     IVA  TOTAL_SIN_IVA  \n",
       "0        23364.000    4439      46728.000  \n",
       "1      1476972.000  280625    1476972.000  \n",
       "2        15500.000       0     155000.000  "
      ]
     },
     "execution_count": 8,
     "metadata": {},
     "output_type": "execute_result"
    }
   ],
   "source": [
    "df.head(3)"
   ]
  },
  {
   "cell_type": "code",
   "execution_count": 9,
   "metadata": {},
   "outputs": [
    {
     "data": {
      "text/plain": [
       "Index(['NÚMERO_PEDIDO', 'ORDEN_NÚMERO', 'CATEGORÍA', 'PROVEEDOR',\n",
       "       'COMPAÑÍA_COMPRADORA', 'ESTADO', 'CANTIDAD_PEDIDA', 'CANTIDAD_RECIBIDA',\n",
       "       'PRECIO_UNITARIO', 'IVA', 'TOTAL_SIN_IVA'],\n",
       "      dtype='object')"
      ]
     },
     "execution_count": 9,
     "metadata": {},
     "output_type": "execute_result"
    }
   ],
   "source": [
    "df.columns"
   ]
  },
  {
   "cell_type": "markdown",
   "metadata": {},
   "source": [
    "## CHECK INSA()"
   ]
  },
  {
   "cell_type": "code",
   "execution_count": 10,
   "metadata": {},
   "outputs": [
    {
     "data": {
      "text/plain": [
       "NÚMERO_PEDIDO          0\n",
       "ORDEN_NÚMERO           0\n",
       "CATEGORÍA              0\n",
       "PROVEEDOR              0\n",
       "COMPAÑÍA_COMPRADORA    0\n",
       "ESTADO                 0\n",
       "CANTIDAD_PEDIDA        0\n",
       "CANTIDAD_RECIBIDA      0\n",
       "PRECIO_UNITARIO        0\n",
       "IVA                    0\n",
       "TOTAL_SIN_IVA          0\n",
       "dtype: int64"
      ]
     },
     "execution_count": 10,
     "metadata": {},
     "output_type": "execute_result"
    }
   ],
   "source": [
    "df.isna().sum()"
   ]
  },
  {
   "cell_type": "code",
   "execution_count": 11,
   "metadata": {},
   "outputs": [
    {
     "data": {
      "text/plain": [
       "CATEGORÍA               36\n",
       "PROVEEDOR              405\n",
       "COMPAÑÍA_COMPRADORA     33\n",
       "ESTADO                   9\n",
       "dtype: int64"
      ]
     },
     "execution_count": 11,
     "metadata": {},
     "output_type": "execute_result"
    }
   ],
   "source": [
    "df.select_dtypes('object').nunique()"
   ]
  },
  {
   "cell_type": "markdown",
   "metadata": {},
   "source": [
    "## DISTRIBUTION OF ALL \"ESTADO\""
   ]
  },
  {
   "cell_type": "code",
   "execution_count": 12,
   "metadata": {},
   "outputs": [],
   "source": [
    "df_ESTADO = pd.DataFrame(df['ESTADO'].value_counts()).reset_index()"
   ]
  },
  {
   "cell_type": "code",
   "execution_count": 13,
   "metadata": {},
   "outputs": [],
   "source": [
    "df_ESTADO['Percentage'] = df_ESTADO['ESTADO'] / df['ESTADO'].value_counts().sum()"
   ]
  },
  {
   "cell_type": "code",
   "execution_count": 14,
   "metadata": {},
   "outputs": [],
   "source": [
    "df_ESTADO.rename(columns = {'index':'ESTADO', 'ESTADO':'Total'}, inplace = True)"
   ]
  },
  {
   "cell_type": "markdown",
   "metadata": {},
   "source": [
    "\n",
    "## CREATE THE DATAFRAME OF \"ESTADO\""
   ]
  },
  {
   "cell_type": "code",
   "execution_count": 15,
   "metadata": {},
   "outputs": [
    {
     "data": {
      "text/html": [
       "<div>\n",
       "<style scoped>\n",
       "    .dataframe tbody tr th:only-of-type {\n",
       "        vertical-align: middle;\n",
       "    }\n",
       "\n",
       "    .dataframe tbody tr th {\n",
       "        vertical-align: top;\n",
       "    }\n",
       "\n",
       "    .dataframe thead th {\n",
       "        text-align: right;\n",
       "    }\n",
       "</style>\n",
       "<table border=\"1\" class=\"dataframe\">\n",
       "  <thead>\n",
       "    <tr style=\"text-align: right;\">\n",
       "      <th></th>\n",
       "      <th>ESTADO</th>\n",
       "      <th>Total</th>\n",
       "      <th>Percentage</th>\n",
       "    </tr>\n",
       "  </thead>\n",
       "  <tbody>\n",
       "    <tr>\n",
       "      <th>0</th>\n",
       "      <td>Recibido</td>\n",
       "      <td>14192</td>\n",
       "      <td>0.634</td>\n",
       "    </tr>\n",
       "    <tr>\n",
       "      <th>1</th>\n",
       "      <td>Orden en Proceso</td>\n",
       "      <td>4872</td>\n",
       "      <td>0.218</td>\n",
       "    </tr>\n",
       "  </tbody>\n",
       "</table>\n",
       "</div>"
      ],
      "text/plain": [
       "             ESTADO  Total  Percentage\n",
       "0          Recibido  14192       0.634\n",
       "1  Orden en Proceso   4872       0.218"
      ]
     },
     "execution_count": 15,
     "metadata": {},
     "output_type": "execute_result"
    }
   ],
   "source": [
    "df_ESTADO.head(2)"
   ]
  },
  {
   "cell_type": "markdown",
   "metadata": {},
   "source": [
    "### Sort values by TOTAL"
   ]
  },
  {
   "cell_type": "code",
   "execution_count": 16,
   "metadata": {},
   "outputs": [],
   "source": [
    "df_ESTADO = df_ESTADO.sort_values('Total', ascending = True).reset_index(drop = True)"
   ]
  },
  {
   "cell_type": "code",
   "execution_count": 17,
   "metadata": {},
   "outputs": [
    {
     "data": {
      "text/plain": [
       "Index(['NÚMERO_PEDIDO', 'ORDEN_NÚMERO', 'CATEGORÍA', 'PROVEEDOR',\n",
       "       'COMPAÑÍA_COMPRADORA', 'ESTADO', 'CANTIDAD_PEDIDA', 'CANTIDAD_RECIBIDA',\n",
       "       'PRECIO_UNITARIO', 'IVA', 'TOTAL_SIN_IVA'],\n",
       "      dtype='object')"
      ]
     },
     "execution_count": 17,
     "metadata": {},
     "output_type": "execute_result"
    }
   ],
   "source": [
    "df.columns"
   ]
  },
  {
   "cell_type": "markdown",
   "metadata": {},
   "source": [
    "## GROUP BY ESTADO"
   ]
  },
  {
   "cell_type": "code",
   "execution_count": 18,
   "metadata": {},
   "outputs": [],
   "source": [
    "# The dataframe\n",
    "df_ESTADO = df.groupby('ESTADO').agg({\n",
    "    'ESTADO': 'count',\n",
    "    'CANTIDAD_PEDIDA': 'sum',\n",
    "    'CANTIDAD_RECIBIDA': 'sum',\n",
    "    'PRECIO_UNITARIO': 'mean',\n",
    "    'IVA': 'sum',\n",
    "    'TOTAL_SIN_IVA': 'sum'\n",
    "    }\n",
    ").rename(columns = {'ESTADO': 'Total'}).reset_index().sort_values('Total', ascending = True)"
   ]
  },
  {
   "cell_type": "code",
   "execution_count": 19,
   "metadata": {},
   "outputs": [
    {
     "data": {
      "text/html": [
       "<div>\n",
       "<style scoped>\n",
       "    .dataframe tbody tr th:only-of-type {\n",
       "        vertical-align: middle;\n",
       "    }\n",
       "\n",
       "    .dataframe tbody tr th {\n",
       "        vertical-align: top;\n",
       "    }\n",
       "\n",
       "    .dataframe thead th {\n",
       "        text-align: right;\n",
       "    }\n",
       "</style>\n",
       "<table border=\"1\" class=\"dataframe\">\n",
       "  <thead>\n",
       "    <tr style=\"text-align: right;\">\n",
       "      <th></th>\n",
       "      <th>ESTADO</th>\n",
       "      <th>Total</th>\n",
       "      <th>CANTIDAD_PEDIDA</th>\n",
       "      <th>CANTIDAD_RECIBIDA</th>\n",
       "      <th>PRECIO_UNITARIO</th>\n",
       "      <th>IVA</th>\n",
       "      <th>TOTAL_SIN_IVA</th>\n",
       "    </tr>\n",
       "  </thead>\n",
       "  <tbody>\n",
       "    <tr>\n",
       "      <th>7</th>\n",
       "      <td>Recibido</td>\n",
       "      <td>14192</td>\n",
       "      <td>1084344.230</td>\n",
       "      <td>1084338.460</td>\n",
       "      <td>83543.011</td>\n",
       "      <td>191472209</td>\n",
       "      <td>7303375098.000</td>\n",
       "    </tr>\n",
       "    <tr>\n",
       "      <th>5</th>\n",
       "      <td>Orden en Proceso</td>\n",
       "      <td>4872</td>\n",
       "      <td>3019314.700</td>\n",
       "      <td>0.000</td>\n",
       "      <td>48825.617</td>\n",
       "      <td>28402906</td>\n",
       "      <td>1717373030.000</td>\n",
       "    </tr>\n",
       "    <tr>\n",
       "      <th>0</th>\n",
       "      <td>Cancelado</td>\n",
       "      <td>1139</td>\n",
       "      <td>91049.500</td>\n",
       "      <td>14.000</td>\n",
       "      <td>101382.776</td>\n",
       "      <td>18167621</td>\n",
       "      <td>801035410.000</td>\n",
       "    </tr>\n",
       "    <tr>\n",
       "      <th>4</th>\n",
       "      <td>Orden Rechazada</td>\n",
       "      <td>1012</td>\n",
       "      <td>18634.200</td>\n",
       "      <td>0.000</td>\n",
       "      <td>55732.784</td>\n",
       "      <td>9715160</td>\n",
       "      <td>339305639.000</td>\n",
       "    </tr>\n",
       "    <tr>\n",
       "      <th>2</th>\n",
       "      <td>Finalizado Incompleto</td>\n",
       "      <td>936</td>\n",
       "      <td>26888.000</td>\n",
       "      <td>19929.600</td>\n",
       "      <td>36479.253</td>\n",
       "      <td>4938395</td>\n",
       "      <td>355467416.000</td>\n",
       "    </tr>\n",
       "    <tr>\n",
       "      <th>8</th>\n",
       "      <td>Recibido Parcial</td>\n",
       "      <td>163</td>\n",
       "      <td>9480.000</td>\n",
       "      <td>4639.000</td>\n",
       "      <td>121682.368</td>\n",
       "      <td>3576354</td>\n",
       "      <td>122641077.000</td>\n",
       "    </tr>\n",
       "    <tr>\n",
       "      <th>6</th>\n",
       "      <td>Pendiente por Aprobar</td>\n",
       "      <td>51</td>\n",
       "      <td>1086.000</td>\n",
       "      <td>0.000</td>\n",
       "      <td>146278.647</td>\n",
       "      <td>898313</td>\n",
       "      <td>19419690.000</td>\n",
       "    </tr>\n",
       "    <tr>\n",
       "      <th>3</th>\n",
       "      <td>Orden Confirmada</td>\n",
       "      <td>15</td>\n",
       "      <td>150113.000</td>\n",
       "      <td>0.000</td>\n",
       "      <td>111248.267</td>\n",
       "      <td>317060</td>\n",
       "      <td>6545071.000</td>\n",
       "    </tr>\n",
       "    <tr>\n",
       "      <th>1</th>\n",
       "      <td>Enviado</td>\n",
       "      <td>12</td>\n",
       "      <td>3138.000</td>\n",
       "      <td>0.000</td>\n",
       "      <td>15765.417</td>\n",
       "      <td>13335</td>\n",
       "      <td>28337244.000</td>\n",
       "    </tr>\n",
       "  </tbody>\n",
       "</table>\n",
       "</div>"
      ],
      "text/plain": [
       "                  ESTADO  Total  CANTIDAD_PEDIDA  CANTIDAD_RECIBIDA  \\\n",
       "7               Recibido  14192      1084344.230        1084338.460   \n",
       "5       Orden en Proceso   4872      3019314.700              0.000   \n",
       "0              Cancelado   1139        91049.500             14.000   \n",
       "4        Orden Rechazada   1012        18634.200              0.000   \n",
       "2  Finalizado Incompleto    936        26888.000          19929.600   \n",
       "8       Recibido Parcial    163         9480.000           4639.000   \n",
       "6  Pendiente por Aprobar     51         1086.000              0.000   \n",
       "3       Orden Confirmada     15       150113.000              0.000   \n",
       "1                Enviado     12         3138.000              0.000   \n",
       "\n",
       "   PRECIO_UNITARIO        IVA  TOTAL_SIN_IVA  \n",
       "7        83543.011  191472209 7303375098.000  \n",
       "5        48825.617   28402906 1717373030.000  \n",
       "0       101382.776   18167621  801035410.000  \n",
       "4        55732.784    9715160  339305639.000  \n",
       "2        36479.253    4938395  355467416.000  \n",
       "8       121682.368    3576354  122641077.000  \n",
       "6       146278.647     898313   19419690.000  \n",
       "3       111248.267     317060    6545071.000  \n",
       "1        15765.417      13335   28337244.000  "
      ]
     },
     "execution_count": 19,
     "metadata": {},
     "output_type": "execute_result"
    }
   ],
   "source": [
    "df_ESTADO.sort_values(by='Total', ascending=False).head(10)"
   ]
  },
  {
   "cell_type": "markdown",
   "metadata": {},
   "source": [
    "## CROSS TAB \"CATEGORY\""
   ]
  },
  {
   "cell_type": "code",
   "execution_count": 20,
   "metadata": {},
   "outputs": [],
   "source": [
    "order_ESTADO = df_ESTADO['ESTADO'].to_list()"
   ]
  },
  {
   "cell_type": "code",
   "execution_count": 21,
   "metadata": {},
   "outputs": [],
   "source": [
    "order_ESTADO.append('All')"
   ]
  },
  {
   "cell_type": "code",
   "execution_count": 22,
   "metadata": {},
   "outputs": [
    {
     "data": {
      "text/html": [
       "<div>\n",
       "<style scoped>\n",
       "    .dataframe tbody tr th:only-of-type {\n",
       "        vertical-align: middle;\n",
       "    }\n",
       "\n",
       "    .dataframe tbody tr th {\n",
       "        vertical-align: top;\n",
       "    }\n",
       "\n",
       "    .dataframe thead th {\n",
       "        text-align: right;\n",
       "    }\n",
       "</style>\n",
       "<table border=\"1\" class=\"dataframe\">\n",
       "  <thead>\n",
       "    <tr style=\"text-align: right;\">\n",
       "      <th>CATEGORÍA</th>\n",
       "      <th>ESTADO</th>\n",
       "      <th>Agroindustrial</th>\n",
       "      <th>Alimentos y Bebidas</th>\n",
       "      <th>Almacenamiento y empaques</th>\n",
       "      <th>Aseo, Cafetería y Oficina</th>\n",
       "      <th>Compras Sostenibles</th>\n",
       "      <th>Construcción y Mantenimiento</th>\n",
       "      <th>Cuidado personal y Belleza</th>\n",
       "      <th>Deporte y recreación</th>\n",
       "      <th>Dotación y elementos de protección personal</th>\n",
       "      <th>...</th>\n",
       "      <th>Salud y Medicina</th>\n",
       "      <th>Servicios Profesionales</th>\n",
       "      <th>Servicios Públicos</th>\n",
       "      <th>Tecnología e información</th>\n",
       "      <th>Textiles</th>\n",
       "      <th>Vehículos y repuestos</th>\n",
       "      <th>Viajes, Eventos y Entretenimiento</th>\n",
       "      <th>Vigilancia y seguridad</th>\n",
       "      <th>Vigilancia y seguridad industrial</th>\n",
       "      <th>All</th>\n",
       "    </tr>\n",
       "  </thead>\n",
       "  <tbody>\n",
       "    <tr>\n",
       "      <th>0</th>\n",
       "      <td>Enviado</td>\n",
       "      <td>0</td>\n",
       "      <td>5</td>\n",
       "      <td>2</td>\n",
       "      <td>3</td>\n",
       "      <td>0</td>\n",
       "      <td>0</td>\n",
       "      <td>0</td>\n",
       "      <td>0</td>\n",
       "      <td>0</td>\n",
       "      <td>...</td>\n",
       "      <td>0</td>\n",
       "      <td>0</td>\n",
       "      <td>0</td>\n",
       "      <td>0</td>\n",
       "      <td>0</td>\n",
       "      <td>0</td>\n",
       "      <td>0</td>\n",
       "      <td>0</td>\n",
       "      <td>0</td>\n",
       "      <td>12</td>\n",
       "    </tr>\n",
       "    <tr>\n",
       "      <th>1</th>\n",
       "      <td>Orden Confirmada</td>\n",
       "      <td>0</td>\n",
       "      <td>0</td>\n",
       "      <td>2</td>\n",
       "      <td>6</td>\n",
       "      <td>0</td>\n",
       "      <td>0</td>\n",
       "      <td>0</td>\n",
       "      <td>0</td>\n",
       "      <td>0</td>\n",
       "      <td>...</td>\n",
       "      <td>0</td>\n",
       "      <td>0</td>\n",
       "      <td>0</td>\n",
       "      <td>0</td>\n",
       "      <td>0</td>\n",
       "      <td>1</td>\n",
       "      <td>0</td>\n",
       "      <td>0</td>\n",
       "      <td>2</td>\n",
       "      <td>15</td>\n",
       "    </tr>\n",
       "    <tr>\n",
       "      <th>2</th>\n",
       "      <td>Pendiente por Aprobar</td>\n",
       "      <td>0</td>\n",
       "      <td>13</td>\n",
       "      <td>4</td>\n",
       "      <td>16</td>\n",
       "      <td>0</td>\n",
       "      <td>1</td>\n",
       "      <td>0</td>\n",
       "      <td>0</td>\n",
       "      <td>6</td>\n",
       "      <td>...</td>\n",
       "      <td>0</td>\n",
       "      <td>0</td>\n",
       "      <td>0</td>\n",
       "      <td>2</td>\n",
       "      <td>0</td>\n",
       "      <td>5</td>\n",
       "      <td>0</td>\n",
       "      <td>0</td>\n",
       "      <td>0</td>\n",
       "      <td>51</td>\n",
       "    </tr>\n",
       "    <tr>\n",
       "      <th>3</th>\n",
       "      <td>Recibido Parcial</td>\n",
       "      <td>0</td>\n",
       "      <td>6</td>\n",
       "      <td>1</td>\n",
       "      <td>3</td>\n",
       "      <td>1</td>\n",
       "      <td>1</td>\n",
       "      <td>0</td>\n",
       "      <td>0</td>\n",
       "      <td>112</td>\n",
       "      <td>...</td>\n",
       "      <td>1</td>\n",
       "      <td>5</td>\n",
       "      <td>0</td>\n",
       "      <td>0</td>\n",
       "      <td>1</td>\n",
       "      <td>1</td>\n",
       "      <td>0</td>\n",
       "      <td>2</td>\n",
       "      <td>17</td>\n",
       "      <td>163</td>\n",
       "    </tr>\n",
       "    <tr>\n",
       "      <th>4</th>\n",
       "      <td>Finalizado Incompleto</td>\n",
       "      <td>0</td>\n",
       "      <td>305</td>\n",
       "      <td>25</td>\n",
       "      <td>443</td>\n",
       "      <td>3</td>\n",
       "      <td>3</td>\n",
       "      <td>0</td>\n",
       "      <td>0</td>\n",
       "      <td>17</td>\n",
       "      <td>...</td>\n",
       "      <td>0</td>\n",
       "      <td>1</td>\n",
       "      <td>0</td>\n",
       "      <td>1</td>\n",
       "      <td>3</td>\n",
       "      <td>7</td>\n",
       "      <td>0</td>\n",
       "      <td>0</td>\n",
       "      <td>52</td>\n",
       "      <td>936</td>\n",
       "    </tr>\n",
       "    <tr>\n",
       "      <th>5</th>\n",
       "      <td>Orden Rechazada</td>\n",
       "      <td>0</td>\n",
       "      <td>271</td>\n",
       "      <td>16</td>\n",
       "      <td>266</td>\n",
       "      <td>3</td>\n",
       "      <td>6</td>\n",
       "      <td>0</td>\n",
       "      <td>0</td>\n",
       "      <td>288</td>\n",
       "      <td>...</td>\n",
       "      <td>19</td>\n",
       "      <td>11</td>\n",
       "      <td>0</td>\n",
       "      <td>8</td>\n",
       "      <td>6</td>\n",
       "      <td>19</td>\n",
       "      <td>0</td>\n",
       "      <td>0</td>\n",
       "      <td>18</td>\n",
       "      <td>1012</td>\n",
       "    </tr>\n",
       "    <tr>\n",
       "      <th>6</th>\n",
       "      <td>Cancelado</td>\n",
       "      <td>0</td>\n",
       "      <td>383</td>\n",
       "      <td>63</td>\n",
       "      <td>242</td>\n",
       "      <td>0</td>\n",
       "      <td>7</td>\n",
       "      <td>0</td>\n",
       "      <td>0</td>\n",
       "      <td>186</td>\n",
       "      <td>...</td>\n",
       "      <td>0</td>\n",
       "      <td>8</td>\n",
       "      <td>0</td>\n",
       "      <td>20</td>\n",
       "      <td>6</td>\n",
       "      <td>38</td>\n",
       "      <td>0</td>\n",
       "      <td>4</td>\n",
       "      <td>11</td>\n",
       "      <td>1139</td>\n",
       "    </tr>\n",
       "  </tbody>\n",
       "</table>\n",
       "<p>7 rows × 38 columns</p>\n",
       "</div>"
      ],
      "text/plain": [
       "CATEGORÍA                 ESTADO  Agroindustrial  Alimentos y Bebidas  \\\n",
       "0                        Enviado               0                    5   \n",
       "1               Orden Confirmada               0                    0   \n",
       "2          Pendiente por Aprobar               0                   13   \n",
       "3               Recibido Parcial               0                    6   \n",
       "4          Finalizado Incompleto               0                  305   \n",
       "5                Orden Rechazada               0                  271   \n",
       "6                      Cancelado               0                  383   \n",
       "\n",
       "CATEGORÍA  Almacenamiento y empaques  Aseo, Cafetería y Oficina  \\\n",
       "0                                  2                          3   \n",
       "1                                  2                          6   \n",
       "2                                  4                         16   \n",
       "3                                  1                          3   \n",
       "4                                 25                        443   \n",
       "5                                 16                        266   \n",
       "6                                 63                        242   \n",
       "\n",
       "CATEGORÍA  Compras Sostenibles  Construcción y Mantenimiento  \\\n",
       "0                            0                             0   \n",
       "1                            0                             0   \n",
       "2                            0                             1   \n",
       "3                            1                             1   \n",
       "4                            3                             3   \n",
       "5                            3                             6   \n",
       "6                            0                             7   \n",
       "\n",
       "CATEGORÍA  Cuidado personal y Belleza  Deporte y recreación  \\\n",
       "0                                   0                     0   \n",
       "1                                   0                     0   \n",
       "2                                   0                     0   \n",
       "3                                   0                     0   \n",
       "4                                   0                     0   \n",
       "5                                   0                     0   \n",
       "6                                   0                     0   \n",
       "\n",
       "CATEGORÍA  Dotación y elementos de protección personal  ...  Salud y Medicina  \\\n",
       "0                                                    0  ...                 0   \n",
       "1                                                    0  ...                 0   \n",
       "2                                                    6  ...                 0   \n",
       "3                                                  112  ...                 1   \n",
       "4                                                   17  ...                 0   \n",
       "5                                                  288  ...                19   \n",
       "6                                                  186  ...                 0   \n",
       "\n",
       "CATEGORÍA  Servicios Profesionales  Servicios Públicos  \\\n",
       "0                                0                   0   \n",
       "1                                0                   0   \n",
       "2                                0                   0   \n",
       "3                                5                   0   \n",
       "4                                1                   0   \n",
       "5                               11                   0   \n",
       "6                                8                   0   \n",
       "\n",
       "CATEGORÍA  Tecnología e información  Textiles  Vehículos y repuestos  \\\n",
       "0                                 0         0                      0   \n",
       "1                                 0         0                      1   \n",
       "2                                 2         0                      5   \n",
       "3                                 0         1                      1   \n",
       "4                                 1         3                      7   \n",
       "5                                 8         6                     19   \n",
       "6                                20         6                     38   \n",
       "\n",
       "CATEGORÍA  Viajes, Eventos y Entretenimiento  Vigilancia y seguridad  \\\n",
       "0                                          0                       0   \n",
       "1                                          0                       0   \n",
       "2                                          0                       0   \n",
       "3                                          0                       2   \n",
       "4                                          0                       0   \n",
       "5                                          0                       0   \n",
       "6                                          0                       4   \n",
       "\n",
       "CATEGORÍA  Vigilancia y seguridad industrial   All  \n",
       "0                                          0    12  \n",
       "1                                          2    15  \n",
       "2                                          0    51  \n",
       "3                                         17   163  \n",
       "4                                         52   936  \n",
       "5                                         18  1012  \n",
       "6                                         11  1139  \n",
       "\n",
       "[7 rows x 38 columns]"
      ]
     },
     "execution_count": 22,
     "metadata": {},
     "output_type": "execute_result"
    }
   ],
   "source": [
    "(pd.crosstab(df['ESTADO'], df['CATEGORÍA'], margins = True).reindex(order_ESTADO, axis = 0).reset_index()).sort_values(by='All', ascending='True').head(7)"
   ]
  },
  {
   "cell_type": "code",
   "execution_count": 23,
   "metadata": {},
   "outputs": [],
   "source": [
    "df_CATEGORIA = pd.crosstab(df['ESTADO'], df['CATEGORÍA'], margins = True).reindex(order_ESTADO, axis = 0).reset_index()"
   ]
  },
  {
   "cell_type": "code",
   "execution_count": 24,
   "metadata": {},
   "outputs": [
    {
     "data": {
      "text/html": [
       "<div>\n",
       "<style scoped>\n",
       "    .dataframe tbody tr th:only-of-type {\n",
       "        vertical-align: middle;\n",
       "    }\n",
       "\n",
       "    .dataframe tbody tr th {\n",
       "        vertical-align: top;\n",
       "    }\n",
       "\n",
       "    .dataframe thead th {\n",
       "        text-align: right;\n",
       "    }\n",
       "</style>\n",
       "<table border=\"1\" class=\"dataframe\">\n",
       "  <thead>\n",
       "    <tr style=\"text-align: right;\">\n",
       "      <th></th>\n",
       "      <th>ESTADO</th>\n",
       "      <th>Agroindustrial</th>\n",
       "      <th>Alimentos y Bebidas</th>\n",
       "      <th>Almacenamiento y empaques</th>\n",
       "      <th>Aseo, Cafetería y Oficina</th>\n",
       "      <th>Compras Sostenibles</th>\n",
       "      <th>Construcción y Mantenimiento</th>\n",
       "      <th>Cuidado personal y Belleza</th>\n",
       "      <th>Deporte y recreación</th>\n",
       "      <th>Dotación y elementos de protección personal</th>\n",
       "      <th>...</th>\n",
       "      <th>Salud y Medicina</th>\n",
       "      <th>Servicios Profesionales</th>\n",
       "      <th>Servicios Públicos</th>\n",
       "      <th>Tecnología e información</th>\n",
       "      <th>Textiles</th>\n",
       "      <th>Vehículos y repuestos</th>\n",
       "      <th>Viajes, Eventos y Entretenimiento</th>\n",
       "      <th>Vigilancia y seguridad</th>\n",
       "      <th>Vigilancia y seguridad industrial</th>\n",
       "      <th>All</th>\n",
       "    </tr>\n",
       "  </thead>\n",
       "  <tbody>\n",
       "    <tr>\n",
       "      <th>0</th>\n",
       "      <td>Enviado</td>\n",
       "      <td>0</td>\n",
       "      <td>5</td>\n",
       "      <td>2</td>\n",
       "      <td>3</td>\n",
       "      <td>0</td>\n",
       "      <td>0</td>\n",
       "      <td>0</td>\n",
       "      <td>0</td>\n",
       "      <td>0</td>\n",
       "      <td>...</td>\n",
       "      <td>0</td>\n",
       "      <td>0</td>\n",
       "      <td>0</td>\n",
       "      <td>0</td>\n",
       "      <td>0</td>\n",
       "      <td>0</td>\n",
       "      <td>0</td>\n",
       "      <td>0</td>\n",
       "      <td>0</td>\n",
       "      <td>12</td>\n",
       "    </tr>\n",
       "    <tr>\n",
       "      <th>1</th>\n",
       "      <td>Orden Confirmada</td>\n",
       "      <td>0</td>\n",
       "      <td>0</td>\n",
       "      <td>2</td>\n",
       "      <td>6</td>\n",
       "      <td>0</td>\n",
       "      <td>0</td>\n",
       "      <td>0</td>\n",
       "      <td>0</td>\n",
       "      <td>0</td>\n",
       "      <td>...</td>\n",
       "      <td>0</td>\n",
       "      <td>0</td>\n",
       "      <td>0</td>\n",
       "      <td>0</td>\n",
       "      <td>0</td>\n",
       "      <td>1</td>\n",
       "      <td>0</td>\n",
       "      <td>0</td>\n",
       "      <td>2</td>\n",
       "      <td>15</td>\n",
       "    </tr>\n",
       "    <tr>\n",
       "      <th>2</th>\n",
       "      <td>Pendiente por Aprobar</td>\n",
       "      <td>0</td>\n",
       "      <td>13</td>\n",
       "      <td>4</td>\n",
       "      <td>16</td>\n",
       "      <td>0</td>\n",
       "      <td>1</td>\n",
       "      <td>0</td>\n",
       "      <td>0</td>\n",
       "      <td>6</td>\n",
       "      <td>...</td>\n",
       "      <td>0</td>\n",
       "      <td>0</td>\n",
       "      <td>0</td>\n",
       "      <td>2</td>\n",
       "      <td>0</td>\n",
       "      <td>5</td>\n",
       "      <td>0</td>\n",
       "      <td>0</td>\n",
       "      <td>0</td>\n",
       "      <td>51</td>\n",
       "    </tr>\n",
       "  </tbody>\n",
       "</table>\n",
       "<p>3 rows × 38 columns</p>\n",
       "</div>"
      ],
      "text/plain": [
       "                  ESTADO  Agroindustrial  Alimentos y Bebidas  \\\n",
       "0                Enviado               0                    5   \n",
       "1       Orden Confirmada               0                    0   \n",
       "2  Pendiente por Aprobar               0                   13   \n",
       "\n",
       "   Almacenamiento y empaques  Aseo, Cafetería y Oficina  Compras Sostenibles  \\\n",
       "0                          2                          3                    0   \n",
       "1                          2                          6                    0   \n",
       "2                          4                         16                    0   \n",
       "\n",
       "   Construcción y Mantenimiento  Cuidado personal y Belleza  \\\n",
       "0                             0                           0   \n",
       "1                             0                           0   \n",
       "2                             1                           0   \n",
       "\n",
       "   Deporte y recreación  Dotación y elementos de protección personal  ...  \\\n",
       "0                     0                                            0  ...   \n",
       "1                     0                                            0  ...   \n",
       "2                     0                                            6  ...   \n",
       "\n",
       "   Salud y Medicina  Servicios Profesionales  Servicios Públicos  \\\n",
       "0                 0                        0                   0   \n",
       "1                 0                        0                   0   \n",
       "2                 0                        0                   0   \n",
       "\n",
       "   Tecnología e información  Textiles  Vehículos y repuestos  \\\n",
       "0                         0         0                      0   \n",
       "1                         0         0                      1   \n",
       "2                         2         0                      5   \n",
       "\n",
       "   Viajes, Eventos y Entretenimiento  Vigilancia y seguridad  \\\n",
       "0                                  0                       0   \n",
       "1                                  0                       0   \n",
       "2                                  0                       0   \n",
       "\n",
       "   Vigilancia y seguridad industrial  All  \n",
       "0                                  0   12  \n",
       "1                                  2   15  \n",
       "2                                  0   51  \n",
       "\n",
       "[3 rows x 38 columns]"
      ]
     },
     "execution_count": 24,
     "metadata": {},
     "output_type": "execute_result"
    }
   ],
   "source": [
    "# Remove index name\n",
    "df_CATEGORIA.columns.name = None\n",
    "df_CATEGORIA.head(3)"
   ]
  },
  {
   "cell_type": "markdown",
   "metadata": {},
   "source": [
    "## GET POSITION OF CATEGORICAL COLS"
   ]
  },
  {
   "cell_type": "code",
   "execution_count": 25,
   "metadata": {},
   "outputs": [
    {
     "name": "stdout",
     "output_type": "stream",
     "text": [
      "<class 'pandas.core.frame.DataFrame'>\n",
      "RangeIndex: 22392 entries, 0 to 22391\n",
      "Data columns (total 11 columns):\n",
      " #   Column               Non-Null Count  Dtype  \n",
      "---  ------               --------------  -----  \n",
      " 0   NÚMERO_PEDIDO        22392 non-null  int64  \n",
      " 1   ORDEN_NÚMERO         22392 non-null  int64  \n",
      " 2   CATEGORÍA            22392 non-null  object \n",
      " 3   PROVEEDOR            22392 non-null  object \n",
      " 4   COMPAÑÍA_COMPRADORA  22392 non-null  object \n",
      " 5   ESTADO               22392 non-null  object \n",
      " 6   CANTIDAD_PEDIDA      22392 non-null  float64\n",
      " 7   CANTIDAD_RECIBIDA    22392 non-null  float64\n",
      " 8   PRECIO_UNITARIO      22392 non-null  float64\n",
      " 9   IVA                  22392 non-null  int64  \n",
      " 10  TOTAL_SIN_IVA        22392 non-null  float64\n",
      "dtypes: float64(4), int64(3), object(4)\n",
      "memory usage: 1.9+ MB\n"
     ]
    }
   ],
   "source": [
    "df.info()"
   ]
  },
  {
   "cell_type": "code",
   "execution_count": 26,
   "metadata": {},
   "outputs": [
    {
     "data": {
      "text/plain": [
       "[2, 3, 4, 5]"
      ]
     },
     "execution_count": 26,
     "metadata": {},
     "output_type": "execute_result"
    }
   ],
   "source": [
    "[df.columns.get_loc(col) for col in list(df.select_dtypes('object').columns)]"
   ]
  },
  {
   "cell_type": "code",
   "execution_count": 27,
   "metadata": {},
   "outputs": [],
   "source": [
    "catColumnsPos = [df.columns.get_loc(col) for col in list(df.select_dtypes('object').columns)]"
   ]
  },
  {
   "cell_type": "code",
   "execution_count": 28,
   "metadata": {},
   "outputs": [
    {
     "name": "stdout",
     "output_type": "stream",
     "text": [
      "Categorical columns           : ['CATEGORÍA', 'PROVEEDOR', 'COMPAÑÍA_COMPRADORA', 'ESTADO']\n",
      "Categorical columns position  : [2, 3, 4, 5]\n"
     ]
    }
   ],
   "source": [
    "print('Categorical columns           : {}'.format(list(df.select_dtypes('object').columns)))\n",
    "print('Categorical columns position  : {}'.format(catColumnsPos))"
   ]
  },
  {
   "cell_type": "markdown",
   "metadata": {},
   "source": [
    "## CONVERT DF TO MATRIX WITH NUMPY"
   ]
  },
  {
   "cell_type": "code",
   "execution_count": 29,
   "metadata": {},
   "outputs": [
    {
     "data": {
      "text/plain": [
       "array([[49561, 2582, 'Eléctricos y Electrónicos', ..., 23364.0, 4439,\n",
       "        46728.0],\n",
       "       [49560, 2581, 'Mercadeo y publicidad', ..., 1476972.0, 280625,\n",
       "        1476972.0],\n",
       "       [49559, 2580, 'Alimentos y Bebidas', ..., 15500.0, 0, 155000.0],\n",
       "       ...,\n",
       "       [2, 2, 'Moda y accesorios', ..., 29412.0, 5588, 88235.0],\n",
       "       [1, 1, 'Moda y accesorios', ..., 29412.0, 5588, 117647.0],\n",
       "       [1, 1, 'Aseo, Cafetería y Oficina', ..., 33613.0, 6387, 168067.0]],\n",
       "      dtype=object)"
      ]
     },
     "execution_count": 29,
     "metadata": {},
     "output_type": "execute_result"
    }
   ],
   "source": [
    "dfMatrix = df.to_numpy()\n",
    "dfMatrix"
   ]
  },
  {
   "cell_type": "markdown",
   "metadata": {},
   "source": [
    "## OPTIMAL K USING ELBOW METHOD"
   ]
  },
  {
   "cell_type": "code",
   "execution_count": 30,
   "metadata": {},
   "outputs": [
    {
     "name": "stdout",
     "output_type": "stream",
     "text": [
      "Cluster initiation: 2\n",
      "Cluster initiation: 3\n",
      "Cluster initiation: 4\n",
      "Cluster initiation: 5\n",
      "Cluster initiation: 6\n"
     ]
    }
   ],
   "source": [
    "cost = []\n",
    "for cluster in range(2, 10):\n",
    "    try:\n",
    "        kprototype = KPrototypes(n_jobs = -1, n_clusters = cluster, init = 'Huang', random_state = 0)\n",
    "        kprototype.fit_predict(dfMatrix, categorical = catColumnsPos)\n",
    "        cost.append(kprototype.cost_)\n",
    "        print('Cluster initiation: {}'.format(cluster))\n",
    "    except:\n",
    "        break"
   ]
  },
  {
   "cell_type": "code",
   "execution_count": 31,
   "metadata": {},
   "outputs": [
    {
     "data": {
      "image/png": "[encoded data removed]",
      "text/plain": [
       "<Figure size 800x480 with 1 Axes>"
      ]
     },
     "metadata": {
      "needs_background": "light"
     },
     "output_type": "display_data"
    },
    {
     "data": {
      "text/plain": [
       "<ggplot: (85201901867)>"
      ]
     },
     "execution_count": 31,
     "metadata": {},
     "output_type": "execute_result"
    }
   ],
   "source": [
    "#Converting the results into a dataframe and plotting them\n",
    "\n",
    "df_cost = pd.DataFrame({'Cluster':range(1, 6), 'Cost':cost})\n",
    "# Data viz\n",
    "\n",
    "plotnine.options.figure_size = (8, 4.8)\n",
    "(\n",
    "     ggplot(data = df_cost)+\n",
    "     geom_line(aes(x = 'Cluster',\n",
    "                   y = 'Cost'))+\n",
    "     geom_point(aes(x = 'Cluster',\n",
    "                    y = 'Cost'))+\n",
    "     geom_label(aes(x = 'Cluster',\n",
    "                    y = 'Cost',\n",
    "                    label = 'Cluster'),\n",
    "                size = 10,\n",
    "                nudge_y = 1000) +\n",
    "     labs(title = 'Optimal number of cluster with Elbow Method')+\n",
    "     xlab('Number of Clusters k')+\n",
    "     ylab('Cost')+\n",
    "     theme_minimal()\n",
    ")"
   ]
  },
  {
   "cell_type": "markdown",
   "metadata": {},
   "source": [
    "## FTI MODEL WITH K CLUSTER"
   ]
  },
  {
   "cell_type": "code",
   "execution_count": 32,
   "metadata": {},
   "outputs": [
    {
     "data": {
      "text/plain": [
       "array([0, 0, 0, ..., 0, 0, 0], dtype=uint16)"
      ]
     },
     "execution_count": 32,
     "metadata": {},
     "output_type": "execute_result"
    }
   ],
   "source": [
    "# Fit the cluster\n",
    "kprototype = KPrototypes(n_jobs = -1, n_clusters = 2, init = 'Huang', random_state = 0)\n",
    "kprototype.fit_predict(dfMatrix, categorical = catColumnsPos)"
   ]
  },
  {
   "cell_type": "markdown",
   "metadata": {},
   "source": [
    "### CENTROIDS"
   ]
  },
  {
   "cell_type": "code",
   "execution_count": 33,
   "metadata": {},
   "outputs": [
    {
     "data": {
      "text/plain": [
       "array([['35118.290762083445', '708.1657732511391', '196.63882024479585',\n",
       "        '49.44693379790941', '70171.90896095773', '11119.092021799339',\n",
       "        '438847.03658536583', 'Alimentos y Bebidas', 'Proveedor 301',\n",
       "        'Portal comprador 1', 'Recibido'],\n",
       "       ['44690.666666666664', '1017.3333333333334', '348.5',\n",
       "        '333.6666666666618', '14637658.5', '1431559.8333333333',\n",
       "        '144911652.33333334', 'Construcción y Mantenimiento',\n",
       "        'Proveedor 20', 'Portal comprador 1', 'Orden en Proceso']],\n",
       "      dtype='<U32')"
      ]
     },
     "execution_count": 33,
     "metadata": {},
     "output_type": "execute_result"
    }
   ],
   "source": [
    "# Cluster centorid\n",
    "kprototype.cluster_centroids_"
   ]
  },
  {
   "cell_type": "markdown",
   "metadata": {},
   "source": [
    "N_ITER"
   ]
  },
  {
   "cell_type": "code",
   "execution_count": 34,
   "metadata": {},
   "outputs": [
    {
     "data": {
      "text/plain": [
       "8"
      ]
     },
     "execution_count": 34,
     "metadata": {},
     "output_type": "execute_result"
    }
   ],
   "source": [
    "\n",
    "# Check the iteration of the clusters created\n",
    "kprototype.n_iter_"
   ]
  },
  {
   "cell_type": "markdown",
   "metadata": {},
   "source": [
    "### COST_"
   ]
  },
  {
   "cell_type": "code",
   "execution_count": 35,
   "metadata": {},
   "outputs": [
    {
     "data": {
      "text/plain": [
       "1.0673966121269589e+17"
      ]
     },
     "execution_count": 35,
     "metadata": {},
     "output_type": "execute_result"
    }
   ],
   "source": [
    "\n",
    "# Check the cost of the clusters created\n",
    "kprototype.cost_"
   ]
  },
  {
   "cell_type": "markdown",
   "metadata": {},
   "source": [
    "## ADD THE CLUSTER TO THE DF"
   ]
  },
  {
   "cell_type": "code",
   "execution_count": 41,
   "metadata": {},
   "outputs": [],
   "source": [
    "df['Cluster Labels'] = kprototype.labels_\n",
    "df['Segment'] = df['Cluster Labels'].map({0:'First', 1:'Second', 2:'Third'})"
   ]
  },
  {
   "cell_type": "code",
   "execution_count": 37,
   "metadata": {},
   "outputs": [
    {
     "data": {
      "text/plain": [
       "22392"
      ]
     },
     "execution_count": 37,
     "metadata": {},
     "output_type": "execute_result"
    }
   ],
   "source": [
    "len(kprototype.labels_)"
   ]
  },
  {
   "cell_type": "code",
   "execution_count": 46,
   "metadata": {},
   "outputs": [
    {
     "data": {
      "text/html": [
       "<div>\n",
       "<style scoped>\n",
       "    .dataframe tbody tr th:only-of-type {\n",
       "        vertical-align: middle;\n",
       "    }\n",
       "\n",
       "    .dataframe tbody tr th {\n",
       "        vertical-align: top;\n",
       "    }\n",
       "\n",
       "    .dataframe thead th {\n",
       "        text-align: right;\n",
       "    }\n",
       "</style>\n",
       "<table border=\"1\" class=\"dataframe\">\n",
       "  <thead>\n",
       "    <tr style=\"text-align: right;\">\n",
       "      <th></th>\n",
       "      <th>NÚMERO_PEDIDO</th>\n",
       "      <th>ORDEN_NÚMERO</th>\n",
       "      <th>CATEGORÍA</th>\n",
       "      <th>PROVEEDOR</th>\n",
       "      <th>COMPAÑÍA_COMPRADORA</th>\n",
       "      <th>ESTADO</th>\n",
       "      <th>CANTIDAD_PEDIDA</th>\n",
       "      <th>CANTIDAD_RECIBIDA</th>\n",
       "      <th>PRECIO_UNITARIO</th>\n",
       "      <th>IVA</th>\n",
       "      <th>TOTAL_SIN_IVA</th>\n",
       "      <th>Total</th>\n",
       "      <th>Segment</th>\n",
       "    </tr>\n",
       "  </thead>\n",
       "  <tbody>\n",
       "    <tr>\n",
       "      <th>0</th>\n",
       "      <td>49561</td>\n",
       "      <td>2582</td>\n",
       "      <td>Eléctricos y Electrónicos</td>\n",
       "      <td>Proveedor 1</td>\n",
       "      <td>Portal comprador 1</td>\n",
       "      <td>Orden en Proceso</td>\n",
       "      <td>2.000</td>\n",
       "      <td>0.000</td>\n",
       "      <td>23364.000</td>\n",
       "      <td>4439</td>\n",
       "      <td>46728.000</td>\n",
       "      <td>0</td>\n",
       "      <td>First</td>\n",
       "    </tr>\n",
       "    <tr>\n",
       "      <th>1</th>\n",
       "      <td>49560</td>\n",
       "      <td>2581</td>\n",
       "      <td>Mercadeo y publicidad</td>\n",
       "      <td>Proveedor 2</td>\n",
       "      <td>Portal comprador 1</td>\n",
       "      <td>Recibido</td>\n",
       "      <td>1.000</td>\n",
       "      <td>1.000</td>\n",
       "      <td>1476972.000</td>\n",
       "      <td>280625</td>\n",
       "      <td>1476972.000</td>\n",
       "      <td>0</td>\n",
       "      <td>First</td>\n",
       "    </tr>\n",
       "    <tr>\n",
       "      <th>2</th>\n",
       "      <td>49559</td>\n",
       "      <td>2580</td>\n",
       "      <td>Alimentos y Bebidas</td>\n",
       "      <td>Proveedor 3</td>\n",
       "      <td>Portal comprador 1</td>\n",
       "      <td>Orden en Proceso</td>\n",
       "      <td>10.000</td>\n",
       "      <td>0.000</td>\n",
       "      <td>15500.000</td>\n",
       "      <td>0</td>\n",
       "      <td>155000.000</td>\n",
       "      <td>0</td>\n",
       "      <td>First</td>\n",
       "    </tr>\n",
       "    <tr>\n",
       "      <th>3</th>\n",
       "      <td>49558</td>\n",
       "      <td>1892</td>\n",
       "      <td>Alimentos y Bebidas</td>\n",
       "      <td>Proveedor 4</td>\n",
       "      <td>Portal comprador 2</td>\n",
       "      <td>Orden en Proceso</td>\n",
       "      <td>50.000</td>\n",
       "      <td>0.000</td>\n",
       "      <td>22000.000</td>\n",
       "      <td>0</td>\n",
       "      <td>1100000.000</td>\n",
       "      <td>0</td>\n",
       "      <td>First</td>\n",
       "    </tr>\n",
       "  </tbody>\n",
       "</table>\n",
       "</div>"
      ],
      "text/plain": [
       "   NÚMERO_PEDIDO  ORDEN_NÚMERO                  CATEGORÍA    PROVEEDOR  \\\n",
       "0          49561          2582  Eléctricos y Electrónicos  Proveedor 1   \n",
       "1          49560          2581      Mercadeo y publicidad  Proveedor 2   \n",
       "2          49559          2580        Alimentos y Bebidas  Proveedor 3   \n",
       "3          49558          1892        Alimentos y Bebidas  Proveedor 4   \n",
       "\n",
       "  COMPAÑÍA_COMPRADORA            ESTADO  CANTIDAD_PEDIDA  CANTIDAD_RECIBIDA  \\\n",
       "0  Portal comprador 1  Orden en Proceso            2.000              0.000   \n",
       "1  Portal comprador 1          Recibido            1.000              1.000   \n",
       "2  Portal comprador 1  Orden en Proceso           10.000              0.000   \n",
       "3  Portal comprador 2  Orden en Proceso           50.000              0.000   \n",
       "\n",
       "   PRECIO_UNITARIO     IVA  TOTAL_SIN_IVA  Total Segment  \n",
       "0        23364.000    4439      46728.000      0   First  \n",
       "1      1476972.000  280625    1476972.000      0   First  \n",
       "2        15500.000       0     155000.000      0   First  \n",
       "3        22000.000       0    1100000.000      0   First  "
      ]
     },
     "execution_count": 46,
     "metadata": {},
     "output_type": "execute_result"
    }
   ],
   "source": [
    "df.head(4)"
   ]
  },
  {
   "cell_type": "markdown",
   "metadata": {},
   "source": [
    "## ORDER CLUSTER"
   ]
  },
  {
   "cell_type": "code",
   "execution_count": 39,
   "metadata": {},
   "outputs": [],
   "source": [
    "# Order the cluster\n",
    "df['Segment'] = df['Segment'].astype('category')\n",
    "df['Segment'] = df['Segment'].cat.reorder_categories(list(df[\"Segment\"].unique()))"
   ]
  },
  {
   "cell_type": "code",
   "execution_count": 40,
   "metadata": {},
   "outputs": [
    {
     "data": {
      "text/plain": [
       "Index(['NÚMERO_PEDIDO', 'ORDEN_NÚMERO', 'CATEGORÍA', 'PROVEEDOR',\n",
       "       'COMPAÑÍA_COMPRADORA', 'ESTADO', 'CANTIDAD_PEDIDA', 'CANTIDAD_RECIBIDA',\n",
       "       'PRECIO_UNITARIO', 'IVA', 'TOTAL_SIN_IVA', 'Cluster Labels', 'Segment'],\n",
       "      dtype='object')"
      ]
     },
     "execution_count": 40,
     "metadata": {},
     "output_type": "execute_result"
    }
   ],
   "source": [
    "df.columns"
   ]
  },
  {
   "cell_type": "markdown",
   "metadata": {},
   "source": [
    "## CLUSTER INTERPRETATION"
   ]
  },
  {
   "cell_type": "code",
   "execution_count": 44,
   "metadata": {},
   "outputs": [
    {
     "data": {
      "text/html": [
       "<div>\n",
       "<style scoped>\n",
       "    .dataframe tbody tr th:only-of-type {\n",
       "        vertical-align: middle;\n",
       "    }\n",
       "\n",
       "    .dataframe tbody tr th {\n",
       "        vertical-align: top;\n",
       "    }\n",
       "\n",
       "    .dataframe thead th {\n",
       "        text-align: right;\n",
       "    }\n",
       "</style>\n",
       "<table border=\"1\" class=\"dataframe\">\n",
       "  <thead>\n",
       "    <tr style=\"text-align: right;\">\n",
       "      <th></th>\n",
       "      <th>Segment</th>\n",
       "      <th>Total</th>\n",
       "      <th>COMPAÑÍA_COMPRADORA</th>\n",
       "      <th>CATEGORÍA</th>\n",
       "      <th>ESTADO</th>\n",
       "      <th>PROVEEDOR</th>\n",
       "      <th>CANTIDAD_PEDIDA</th>\n",
       "      <th>CANTIDAD_RECIBIDA</th>\n",
       "      <th>PRECIO_UNITARIO</th>\n",
       "      <th>IVA</th>\n",
       "      <th>TOTAL_SIN_IVA</th>\n",
       "    </tr>\n",
       "  </thead>\n",
       "  <tbody>\n",
       "    <tr>\n",
       "      <th>0</th>\n",
       "      <td>First</td>\n",
       "      <td>22386</td>\n",
       "      <td>Portal comprador 1</td>\n",
       "      <td>Alimentos y Bebidas</td>\n",
       "      <td>Recibido</td>\n",
       "      <td>Proveedor 301</td>\n",
       "      <td>4401956.630</td>\n",
       "      <td>1106919.060</td>\n",
       "      <td>70171.909</td>\n",
       "      <td>248911994</td>\n",
       "      <td>9824029761.000</td>\n",
       "    </tr>\n",
       "    <tr>\n",
       "      <th>1</th>\n",
       "      <td>Second</td>\n",
       "      <td>6</td>\n",
       "      <td>Portal comprador 1</td>\n",
       "      <td>Construcción y Mantenimiento</td>\n",
       "      <td>Orden en Proceso</td>\n",
       "      <td>Proveedor 20</td>\n",
       "      <td>2091.000</td>\n",
       "      <td>2002.000</td>\n",
       "      <td>14637658.500</td>\n",
       "      <td>8589359</td>\n",
       "      <td>869469914.000</td>\n",
       "    </tr>\n",
       "  </tbody>\n",
       "</table>\n",
       "</div>"
      ],
      "text/plain": [
       "  Segment  Total COMPAÑÍA_COMPRADORA                     CATEGORÍA  \\\n",
       "0   First  22386  Portal comprador 1           Alimentos y Bebidas   \n",
       "1  Second      6  Portal comprador 1  Construcción y Mantenimiento   \n",
       "\n",
       "             ESTADO      PROVEEDOR  CANTIDAD_PEDIDA  CANTIDAD_RECIBIDA  \\\n",
       "0          Recibido  Proveedor 301      4401956.630        1106919.060   \n",
       "1  Orden en Proceso   Proveedor 20         2091.000           2002.000   \n",
       "\n",
       "   PRECIO_UNITARIO        IVA  TOTAL_SIN_IVA  \n",
       "0        70171.909  248911994 9824029761.000  \n",
       "1     14637658.500    8589359  869469914.000  "
      ]
     },
     "execution_count": 44,
     "metadata": {},
     "output_type": "execute_result"
    }
   ],
   "source": [
    "# Cluster interpretation\n",
    "df.rename(columns = {'Cluster Labels':'Total'}, inplace = True)\n",
    "df.groupby('Segment').agg(\n",
    "    {\n",
    "        'Total':'count',\n",
    "        'COMPAÑÍA_COMPRADORA': lambda x: x.value_counts().index[0],\n",
    "        'CATEGORÍA':lambda x: x.value_counts().index[0],\n",
    "        'ESTADO':lambda x: x.value_counts().index[0],\n",
    "        'PROVEEDOR':lambda x: x.value_counts().index[0],\n",
    "        'CANTIDAD_PEDIDA': 'sum',\n",
    "        'CANTIDAD_RECIBIDA': 'sum',\n",
    "        'PRECIO_UNITARIO': 'mean',\n",
    "        'IVA': 'sum',\n",
    "        'TOTAL_SIN_IVA': 'sum'\n",
    "\n",
    "    }\n",
    ").reset_index()"
   ]
  },
  {
   "cell_type": "code",
   "execution_count": 45,
   "metadata": {},
   "outputs": [
    {
     "data": {
      "text/plain": [
       "Segment\n",
       "First     22386\n",
       "Second        6\n",
       "Name: Segment, dtype: int64"
      ]
     },
     "execution_count": 45,
     "metadata": {},
     "output_type": "execute_result"
    }
   ],
   "source": [
    "df.groupby('Segment')['Segment'].count()"
   ]
  },
  {
   "cell_type": "code",
   "execution_count": 47,
   "metadata": {},
   "outputs": [],
   "source": [
    "#df.to_csv(\"Kprototype_clusters_2_Estado.csv\")"
   ]
  },
  {
   "cell_type": "markdown",
   "metadata": {},
   "source": [
    "# FAMD"
   ]
  },
  {
   "cell_type": "code",
   "execution_count": 43,
   "metadata": {},
   "outputs": [
    {
     "data": {
      "text/plain": [
       "<AxesSubplot:title={'center':'Row principal coordinates'}, xlabel='Component 0 (1.30% inertia)', ylabel='Component 1 (0.98% inertia)'>"
      ]
     },
     "execution_count": 43,
     "metadata": {},
     "output_type": "execute_result"
    },
    {
     "data": {
      "image/png": "[encoded data removed]",
      "text/plain": [
       "<Figure size 1080x720 with 1 Axes>"
      ]
     },
     "metadata": {},
     "output_type": "display_data"
    }
   ],
   "source": [
    "from prince import FAMD\n",
    "\n",
    "X=pd.read_csv(\"Kprototype_clusters_2_Estado.csv\")\n",
    "\n",
    "famd = FAMD(n_components =2, n_iter = 3, random_state = 101)\n",
    "\n",
    "famd.fit(X)\n",
    "famd.transform(X)\n",
    "famd.plot_row_coordinates(X,figsize=(15, 10),color_labels=['Clusters : {}'.format(t) for t in X['Segment']] )\n",
    "\n",
    "#X.get_figure().savefig('images/famd_row_coordinates.svg')\n",
    "\n"
   ]
  },
  {
   "cell_type": "code",
   "execution_count": null,
   "metadata": {},
   "outputs": [],
   "source": []
  }
 ],
 "metadata": {
  "interpreter": {
   "hash": "c94be41889154d41bf43aca8d1a8d1cd64b97c119170e03e2ed46ca87183f0c5"
  },
  "kernelspec": {
   "display_name": "Python 3",
   "language": "python",
   "name": "python3"
  },
  "language_info": {
   "codemirror_mode": {
    "name": "ipython",
    "version": 3
   },
   "file_extension": ".py",
   "mimetype": "text/x-python",
   "name": "python",
   "nbconvert_exporter": "python",
   "pygments_lexer": "ipython3",
   "version": "3.8.8"
  }
 },
 "nbformat": 4,
 "nbformat_minor": 2
}
