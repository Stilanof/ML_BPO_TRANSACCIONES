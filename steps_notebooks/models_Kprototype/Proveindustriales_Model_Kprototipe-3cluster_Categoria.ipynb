{
 "cells": [
  {
   "cell_type": "code",
   "execution_count": 1,
   "metadata": {},
   "outputs": [],
   "source": [
    "import pandas as pd\n",
    "import seaborn as sns\n",
    "import matplotlib.pyplot as plt\n",
    "import seaborn as sns\n",
    "import plotly.express as px\n",
    "\n",
    "# Import module for data visualization\n",
    "from plotnine import *\n",
    "import plotnine\n",
    "# Import module for k-protoype cluster\n",
    "from kmodes.kprototypes import KPrototypes\n",
    "# Ignore warnings\n",
    "import warnings\n",
    "warnings.filterwarnings('ignore', category = FutureWarning)\n",
    "# Format scientific notation from Pandas\n",
    "pd.set_option('display.float_format', lambda x: '%.3f' % x)\n",
    "\n",
    "plt.style.use('ggplot')"
   ]
  },
  {
   "cell_type": "markdown",
   "metadata": {},
   "source": [
    "# DATA ACQUISITION"
   ]
  },
  {
   "cell_type": "code",
   "execution_count": 2,
   "metadata": {},
   "outputs": [],
   "source": [
    "df = pd.read_csv('Proveindustriales_Data_Cleaned_Kprototipe_csv.csv')"
   ]
  },
  {
   "cell_type": "code",
   "execution_count": 3,
   "metadata": {},
   "outputs": [
    {
     "data": {
      "text/plain": [
       "Index(['NÚMERO_PEDIDO', 'ORDEN_NÚMERO', 'CATEGORÍA', 'SUBCATEGORÍA',\n",
       "       'PROVEEDOR', 'PRESUPUESTO', 'COMPAÑÍA_COMPRADORA', 'ESTADO',\n",
       "       'PRODUCTO_O_SERVICIO', 'CANTIDAD_PEDIDA', 'CANTIDAD_RECIBIDA',\n",
       "       'PRECIO_UNITARIO', 'PRECIO_UNITARIO_+_IVA', 'IVA', 'TOTAL_SIN_IVA',\n",
       "       'TOTAL_+_IVA', 'FECHA_ÚLTIMO_MOVIMIENTO', 'DURACIÓN_ENTREGA',\n",
       "       'DURACIÓN_APROBACIÓN'],\n",
       "      dtype='object')"
      ]
     },
     "execution_count": 3,
     "metadata": {},
     "output_type": "execute_result"
    }
   ],
   "source": [
    "df.columns"
   ]
  },
  {
   "cell_type": "code",
   "execution_count": 4,
   "metadata": {},
   "outputs": [
    {
     "data": {
      "text/html": [
       "<div>\n",
       "<style scoped>\n",
       "    .dataframe tbody tr th:only-of-type {\n",
       "        vertical-align: middle;\n",
       "    }\n",
       "\n",
       "    .dataframe tbody tr th {\n",
       "        vertical-align: top;\n",
       "    }\n",
       "\n",
       "    .dataframe thead th {\n",
       "        text-align: right;\n",
       "    }\n",
       "</style>\n",
       "<table border=\"1\" class=\"dataframe\">\n",
       "  <thead>\n",
       "    <tr style=\"text-align: right;\">\n",
       "      <th></th>\n",
       "      <th>NÚMERO_PEDIDO</th>\n",
       "      <th>ORDEN_NÚMERO</th>\n",
       "      <th>CATEGORÍA</th>\n",
       "      <th>SUBCATEGORÍA</th>\n",
       "      <th>PROVEEDOR</th>\n",
       "      <th>PRESUPUESTO</th>\n",
       "      <th>COMPAÑÍA_COMPRADORA</th>\n",
       "      <th>ESTADO</th>\n",
       "      <th>PRODUCTO_O_SERVICIO</th>\n",
       "      <th>CANTIDAD_PEDIDA</th>\n",
       "      <th>CANTIDAD_RECIBIDA</th>\n",
       "      <th>PRECIO_UNITARIO</th>\n",
       "      <th>PRECIO_UNITARIO_+_IVA</th>\n",
       "      <th>IVA</th>\n",
       "      <th>TOTAL_SIN_IVA</th>\n",
       "      <th>TOTAL_+_IVA</th>\n",
       "      <th>FECHA_ÚLTIMO_MOVIMIENTO</th>\n",
       "      <th>DURACIÓN_ENTREGA</th>\n",
       "      <th>DURACIÓN_APROBACIÓN</th>\n",
       "    </tr>\n",
       "  </thead>\n",
       "  <tbody>\n",
       "    <tr>\n",
       "      <th>18056</th>\n",
       "      <td>31372</td>\n",
       "      <td>19</td>\n",
       "      <td>Vigilancia y seguridad industrial</td>\n",
       "      <td>Seguridad y protección personal</td>\n",
       "      <td>Proveedor 301</td>\n",
       "      <td>Presupuesto 719</td>\n",
       "      <td>Portal comprador 24</td>\n",
       "      <td>Recibido</td>\n",
       "      <td>48 Guantes vaqueta ingeniero reforzado</td>\n",
       "      <td>12.000</td>\n",
       "      <td>12.000</td>\n",
       "      <td>5475.000</td>\n",
       "      <td>6515.000</td>\n",
       "      <td>1040</td>\n",
       "      <td>65697.000</td>\n",
       "      <td>78179.000</td>\n",
       "      <td>2020-01-24</td>\n",
       "      <td>0.000</td>\n",
       "      <td>64.000</td>\n",
       "    </tr>\n",
       "    <tr>\n",
       "      <th>10204</th>\n",
       "      <td>45854</td>\n",
       "      <td>428</td>\n",
       "      <td>Vigilancia y seguridad industrial</td>\n",
       "      <td>Seguridad y protección personal</td>\n",
       "      <td>Proveedor 12</td>\n",
       "      <td>Presupuesto 594</td>\n",
       "      <td>Portal comprador 1</td>\n",
       "      <td>Finalizado Incompleto</td>\n",
       "      <td>RESPIRADOR MEDIA MASCARA REF 6200 M</td>\n",
       "      <td>1.000</td>\n",
       "      <td>1.000</td>\n",
       "      <td>27013.000</td>\n",
       "      <td>27013.000</td>\n",
       "      <td>0</td>\n",
       "      <td>27013.000</td>\n",
       "      <td>27013.000</td>\n",
       "      <td>2020-12-24</td>\n",
       "      <td>1.000</td>\n",
       "      <td>0.000</td>\n",
       "    </tr>\n",
       "  </tbody>\n",
       "</table>\n",
       "</div>"
      ],
      "text/plain": [
       "       NÚMERO_PEDIDO  ORDEN_NÚMERO                          CATEGORÍA  \\\n",
       "18056          31372            19  Vigilancia y seguridad industrial   \n",
       "10204          45854           428  Vigilancia y seguridad industrial   \n",
       "\n",
       "                          SUBCATEGORÍA      PROVEEDOR      PRESUPUESTO  \\\n",
       "18056  Seguridad y protección personal  Proveedor 301  Presupuesto 719   \n",
       "10204  Seguridad y protección personal   Proveedor 12  Presupuesto 594   \n",
       "\n",
       "       COMPAÑÍA_COMPRADORA                 ESTADO  \\\n",
       "18056  Portal comprador 24               Recibido   \n",
       "10204   Portal comprador 1  Finalizado Incompleto   \n",
       "\n",
       "                           PRODUCTO_O_SERVICIO  CANTIDAD_PEDIDA  \\\n",
       "18056  48 Guantes vaqueta ingeniero reforzado            12.000   \n",
       "10204      RESPIRADOR MEDIA MASCARA REF 6200 M            1.000   \n",
       "\n",
       "       CANTIDAD_RECIBIDA  PRECIO_UNITARIO  PRECIO_UNITARIO_+_IVA   IVA  \\\n",
       "18056             12.000         5475.000               6515.000  1040   \n",
       "10204              1.000        27013.000              27013.000     0   \n",
       "\n",
       "       TOTAL_SIN_IVA  TOTAL_+_IVA FECHA_ÚLTIMO_MOVIMIENTO  DURACIÓN_ENTREGA  \\\n",
       "18056      65697.000    78179.000              2020-01-24             0.000   \n",
       "10204      27013.000    27013.000              2020-12-24             1.000   \n",
       "\n",
       "       DURACIÓN_APROBACIÓN  \n",
       "18056               64.000  \n",
       "10204                0.000  "
      ]
     },
     "execution_count": 4,
     "metadata": {},
     "output_type": "execute_result"
    }
   ],
   "source": [
    "df.sample(2)"
   ]
  },
  {
   "cell_type": "markdown",
   "metadata": {},
   "source": [
    "## IRRELEVANT COLUMNS"
   ]
  },
  {
   "cell_type": "code",
   "execution_count": 5,
   "metadata": {},
   "outputs": [],
   "source": [
    "cols_to_drop = ['FECHA_ÚLTIMO_MOVIMIENTO','DURACIÓN_ENTREGA', 'DURACIÓN_APROBACIÓN', 'PRECIO_UNITARIO_+_IVA', 'TOTAL_+_IVA', 'PRESUPUESTO', 'SUBCATEGORÍA', 'PRODUCTO_O_SERVICIO', 'NÚMERO_PEDIDO', 'ORDEN_NÚMERO']"
   ]
  },
  {
   "cell_type": "code",
   "execution_count": 6,
   "metadata": {},
   "outputs": [],
   "source": [
    "df.drop(cols_to_drop, inplace=True, axis=1)"
   ]
  },
  {
   "cell_type": "markdown",
   "metadata": {},
   "source": [
    "## DF ORIGINAL"
   ]
  },
  {
   "cell_type": "code",
   "execution_count": 7,
   "metadata": {},
   "outputs": [
    {
     "data": {
      "text/html": [
       "<div>\n",
       "<style scoped>\n",
       "    .dataframe tbody tr th:only-of-type {\n",
       "        vertical-align: middle;\n",
       "    }\n",
       "\n",
       "    .dataframe tbody tr th {\n",
       "        vertical-align: top;\n",
       "    }\n",
       "\n",
       "    .dataframe thead th {\n",
       "        text-align: right;\n",
       "    }\n",
       "</style>\n",
       "<table border=\"1\" class=\"dataframe\">\n",
       "  <thead>\n",
       "    <tr style=\"text-align: right;\">\n",
       "      <th></th>\n",
       "      <th>CATEGORÍA</th>\n",
       "      <th>PROVEEDOR</th>\n",
       "      <th>COMPAÑÍA_COMPRADORA</th>\n",
       "      <th>ESTADO</th>\n",
       "      <th>CANTIDAD_PEDIDA</th>\n",
       "      <th>CANTIDAD_RECIBIDA</th>\n",
       "      <th>PRECIO_UNITARIO</th>\n",
       "      <th>IVA</th>\n",
       "      <th>TOTAL_SIN_IVA</th>\n",
       "    </tr>\n",
       "  </thead>\n",
       "  <tbody>\n",
       "    <tr>\n",
       "      <th>0</th>\n",
       "      <td>Eléctricos y Electrónicos</td>\n",
       "      <td>Proveedor 1</td>\n",
       "      <td>Portal comprador 1</td>\n",
       "      <td>Orden en Proceso</td>\n",
       "      <td>2.000</td>\n",
       "      <td>0.000</td>\n",
       "      <td>23364.000</td>\n",
       "      <td>4439</td>\n",
       "      <td>46728.000</td>\n",
       "    </tr>\n",
       "    <tr>\n",
       "      <th>1</th>\n",
       "      <td>Mercadeo y publicidad</td>\n",
       "      <td>Proveedor 2</td>\n",
       "      <td>Portal comprador 1</td>\n",
       "      <td>Recibido</td>\n",
       "      <td>1.000</td>\n",
       "      <td>1.000</td>\n",
       "      <td>1476972.000</td>\n",
       "      <td>280625</td>\n",
       "      <td>1476972.000</td>\n",
       "    </tr>\n",
       "    <tr>\n",
       "      <th>2</th>\n",
       "      <td>Alimentos y Bebidas</td>\n",
       "      <td>Proveedor 3</td>\n",
       "      <td>Portal comprador 1</td>\n",
       "      <td>Orden en Proceso</td>\n",
       "      <td>10.000</td>\n",
       "      <td>0.000</td>\n",
       "      <td>15500.000</td>\n",
       "      <td>0</td>\n",
       "      <td>155000.000</td>\n",
       "    </tr>\n",
       "  </tbody>\n",
       "</table>\n",
       "</div>"
      ],
      "text/plain": [
       "                   CATEGORÍA    PROVEEDOR COMPAÑÍA_COMPRADORA  \\\n",
       "0  Eléctricos y Electrónicos  Proveedor 1  Portal comprador 1   \n",
       "1      Mercadeo y publicidad  Proveedor 2  Portal comprador 1   \n",
       "2        Alimentos y Bebidas  Proveedor 3  Portal comprador 1   \n",
       "\n",
       "             ESTADO  CANTIDAD_PEDIDA  CANTIDAD_RECIBIDA  PRECIO_UNITARIO  \\\n",
       "0  Orden en Proceso            2.000              0.000        23364.000   \n",
       "1          Recibido            1.000              1.000      1476972.000   \n",
       "2  Orden en Proceso           10.000              0.000        15500.000   \n",
       "\n",
       "      IVA  TOTAL_SIN_IVA  \n",
       "0    4439      46728.000  \n",
       "1  280625    1476972.000  \n",
       "2       0     155000.000  "
      ]
     },
     "execution_count": 7,
     "metadata": {},
     "output_type": "execute_result"
    }
   ],
   "source": [
    "df.head(3)"
   ]
  },
  {
   "cell_type": "code",
   "execution_count": 8,
   "metadata": {},
   "outputs": [
    {
     "data": {
      "text/plain": [
       "Index(['CATEGORÍA', 'PROVEEDOR', 'COMPAÑÍA_COMPRADORA', 'ESTADO',\n",
       "       'CANTIDAD_PEDIDA', 'CANTIDAD_RECIBIDA', 'PRECIO_UNITARIO', 'IVA',\n",
       "       'TOTAL_SIN_IVA'],\n",
       "      dtype='object')"
      ]
     },
     "execution_count": 8,
     "metadata": {},
     "output_type": "execute_result"
    }
   ],
   "source": [
    "df.columns"
   ]
  },
  {
   "cell_type": "markdown",
   "metadata": {},
   "source": [
    "## CHECK INSA()"
   ]
  },
  {
   "cell_type": "code",
   "execution_count": 9,
   "metadata": {},
   "outputs": [
    {
     "data": {
      "text/plain": [
       "CATEGORÍA              0\n",
       "PROVEEDOR              0\n",
       "COMPAÑÍA_COMPRADORA    0\n",
       "ESTADO                 0\n",
       "CANTIDAD_PEDIDA        0\n",
       "CANTIDAD_RECIBIDA      0\n",
       "PRECIO_UNITARIO        0\n",
       "IVA                    0\n",
       "TOTAL_SIN_IVA          0\n",
       "dtype: int64"
      ]
     },
     "execution_count": 9,
     "metadata": {},
     "output_type": "execute_result"
    }
   ],
   "source": [
    "df.isna().sum()"
   ]
  },
  {
   "cell_type": "code",
   "execution_count": 10,
   "metadata": {},
   "outputs": [
    {
     "data": {
      "text/plain": [
       "CATEGORÍA               36\n",
       "PROVEEDOR              405\n",
       "COMPAÑÍA_COMPRADORA     33\n",
       "ESTADO                   9\n",
       "dtype: int64"
      ]
     },
     "execution_count": 10,
     "metadata": {},
     "output_type": "execute_result"
    }
   ],
   "source": [
    "df.select_dtypes('object').nunique()"
   ]
  },
  {
   "cell_type": "markdown",
   "metadata": {},
   "source": [
    "## DISTRIBUTION OF ALL \"CATEGORÍA\""
   ]
  },
  {
   "cell_type": "code",
   "execution_count": 11,
   "metadata": {},
   "outputs": [],
   "source": [
    "df_CATEGORIA = pd.DataFrame(df['CATEGORÍA'].value_counts()).reset_index()"
   ]
  },
  {
   "cell_type": "code",
   "execution_count": 12,
   "metadata": {},
   "outputs": [],
   "source": [
    "df_CATEGORIA['Percentage'] = df_CATEGORIA['CATEGORÍA'] / df['CATEGORÍA'].value_counts().sum()"
   ]
  },
  {
   "cell_type": "code",
   "execution_count": 13,
   "metadata": {},
   "outputs": [],
   "source": [
    "df_CATEGORIA.rename(columns = {'index':'CATEGORÍA', 'CATEGORÍA':'Total'}, inplace = True)"
   ]
  },
  {
   "cell_type": "markdown",
   "metadata": {},
   "source": [
    "\n",
    "## CREATE THE DATAFRAME OF \"CATEGORIA\""
   ]
  },
  {
   "cell_type": "code",
   "execution_count": 14,
   "metadata": {},
   "outputs": [
    {
     "data": {
      "text/html": [
       "<div>\n",
       "<style scoped>\n",
       "    .dataframe tbody tr th:only-of-type {\n",
       "        vertical-align: middle;\n",
       "    }\n",
       "\n",
       "    .dataframe tbody tr th {\n",
       "        vertical-align: top;\n",
       "    }\n",
       "\n",
       "    .dataframe thead th {\n",
       "        text-align: right;\n",
       "    }\n",
       "</style>\n",
       "<table border=\"1\" class=\"dataframe\">\n",
       "  <thead>\n",
       "    <tr style=\"text-align: right;\">\n",
       "      <th></th>\n",
       "      <th>CATEGORÍA</th>\n",
       "      <th>Total</th>\n",
       "      <th>Percentage</th>\n",
       "    </tr>\n",
       "  </thead>\n",
       "  <tbody>\n",
       "    <tr>\n",
       "      <th>0</th>\n",
       "      <td>Alimentos y Bebidas</td>\n",
       "      <td>6938</td>\n",
       "      <td>0.310</td>\n",
       "    </tr>\n",
       "    <tr>\n",
       "      <th>1</th>\n",
       "      <td>Vigilancia y seguridad industrial</td>\n",
       "      <td>6049</td>\n",
       "      <td>0.270</td>\n",
       "    </tr>\n",
       "  </tbody>\n",
       "</table>\n",
       "</div>"
      ],
      "text/plain": [
       "                           CATEGORÍA  Total  Percentage\n",
       "0                Alimentos y Bebidas   6938       0.310\n",
       "1  Vigilancia y seguridad industrial   6049       0.270"
      ]
     },
     "execution_count": 14,
     "metadata": {},
     "output_type": "execute_result"
    }
   ],
   "source": [
    "df_CATEGORIA.head(2)"
   ]
  },
  {
   "cell_type": "markdown",
   "metadata": {},
   "source": [
    "### Sort values by TOTAL"
   ]
  },
  {
   "cell_type": "code",
   "execution_count": 15,
   "metadata": {},
   "outputs": [],
   "source": [
    "df_CATEGORIA = df_CATEGORIA.sort_values('Total', ascending = True).reset_index(drop = True)"
   ]
  },
  {
   "cell_type": "code",
   "execution_count": 16,
   "metadata": {},
   "outputs": [
    {
     "data": {
      "text/plain": [
       "Index(['CATEGORÍA', 'PROVEEDOR', 'COMPAÑÍA_COMPRADORA', 'ESTADO',\n",
       "       'CANTIDAD_PEDIDA', 'CANTIDAD_RECIBIDA', 'PRECIO_UNITARIO', 'IVA',\n",
       "       'TOTAL_SIN_IVA'],\n",
       "      dtype='object')"
      ]
     },
     "execution_count": 16,
     "metadata": {},
     "output_type": "execute_result"
    }
   ],
   "source": [
    "df.columns"
   ]
  },
  {
   "cell_type": "markdown",
   "metadata": {},
   "source": [
    "## GROUP BY CATEGORIA"
   ]
  },
  {
   "cell_type": "code",
   "execution_count": 17,
   "metadata": {},
   "outputs": [],
   "source": [
    "# The dataframe\n",
    "df_CATEGORIA = df.groupby('CATEGORÍA').agg({\n",
    "    'CATEGORÍA': 'count',\n",
    "    'CANTIDAD_PEDIDA': 'sum',\n",
    "    'CANTIDAD_RECIBIDA': 'sum',\n",
    "    'PRECIO_UNITARIO': 'mean',\n",
    "    'IVA': 'sum',\n",
    "    'TOTAL_SIN_IVA': 'sum'\n",
    "    }\n",
    ").rename(columns = {'CATEGORÍA': 'Total'}).reset_index().sort_values('Total', ascending = True)"
   ]
  },
  {
   "cell_type": "code",
   "execution_count": 18,
   "metadata": {},
   "outputs": [
    {
     "data": {
      "text/html": [
       "<div>\n",
       "<style scoped>\n",
       "    .dataframe tbody tr th:only-of-type {\n",
       "        vertical-align: middle;\n",
       "    }\n",
       "\n",
       "    .dataframe tbody tr th {\n",
       "        vertical-align: top;\n",
       "    }\n",
       "\n",
       "    .dataframe thead th {\n",
       "        text-align: right;\n",
       "    }\n",
       "</style>\n",
       "<table border=\"1\" class=\"dataframe\">\n",
       "  <thead>\n",
       "    <tr style=\"text-align: right;\">\n",
       "      <th></th>\n",
       "      <th>CATEGORÍA</th>\n",
       "      <th>Total</th>\n",
       "      <th>CANTIDAD_PEDIDA</th>\n",
       "      <th>CANTIDAD_RECIBIDA</th>\n",
       "      <th>PRECIO_UNITARIO</th>\n",
       "      <th>IVA</th>\n",
       "      <th>TOTAL_SIN_IVA</th>\n",
       "    </tr>\n",
       "  </thead>\n",
       "  <tbody>\n",
       "    <tr>\n",
       "      <th>1</th>\n",
       "      <td>Alimentos y Bebidas</td>\n",
       "      <td>6938</td>\n",
       "      <td>2763255.730</td>\n",
       "      <td>85211.760</td>\n",
       "      <td>15358.184</td>\n",
       "      <td>13873146</td>\n",
       "      <td>1928684546.000</td>\n",
       "    </tr>\n",
       "    <tr>\n",
       "      <th>35</th>\n",
       "      <td>Vigilancia y seguridad industrial</td>\n",
       "      <td>6049</td>\n",
       "      <td>234476.000</td>\n",
       "      <td>233765.000</td>\n",
       "      <td>38586.506</td>\n",
       "      <td>44227525</td>\n",
       "      <td>4339572473.000</td>\n",
       "    </tr>\n",
       "  </tbody>\n",
       "</table>\n",
       "</div>"
      ],
      "text/plain": [
       "                            CATEGORÍA  Total  CANTIDAD_PEDIDA  \\\n",
       "1                 Alimentos y Bebidas   6938      2763255.730   \n",
       "35  Vigilancia y seguridad industrial   6049       234476.000   \n",
       "\n",
       "    CANTIDAD_RECIBIDA  PRECIO_UNITARIO       IVA  TOTAL_SIN_IVA  \n",
       "1           85211.760        15358.184  13873146 1928684546.000  \n",
       "35         233765.000        38586.506  44227525 4339572473.000  "
      ]
     },
     "execution_count": 18,
     "metadata": {},
     "output_type": "execute_result"
    }
   ],
   "source": [
    "df_CATEGORIA.sort_values(by='Total', ascending=False).head(2)"
   ]
  },
  {
   "cell_type": "markdown",
   "metadata": {},
   "source": [
    "## CROSS TAB \"CATEGORY\""
   ]
  },
  {
   "cell_type": "code",
   "execution_count": 19,
   "metadata": {},
   "outputs": [],
   "source": [
    "order_CATEGORIA = df_CATEGORIA['CATEGORÍA'].to_list()"
   ]
  },
  {
   "cell_type": "code",
   "execution_count": 20,
   "metadata": {},
   "outputs": [],
   "source": [
    "order_CATEGORIA.append('All')"
   ]
  },
  {
   "cell_type": "code",
   "execution_count": 21,
   "metadata": {},
   "outputs": [
    {
     "data": {
      "text/html": [
       "<div>\n",
       "<style scoped>\n",
       "    .dataframe tbody tr th:only-of-type {\n",
       "        vertical-align: middle;\n",
       "    }\n",
       "\n",
       "    .dataframe tbody tr th {\n",
       "        vertical-align: top;\n",
       "    }\n",
       "\n",
       "    .dataframe thead th {\n",
       "        text-align: right;\n",
       "    }\n",
       "</style>\n",
       "<table border=\"1\" class=\"dataframe\">\n",
       "  <thead>\n",
       "    <tr style=\"text-align: right;\">\n",
       "      <th>TOTAL_SIN_IVA</th>\n",
       "      <th>CATEGORÍA</th>\n",
       "      <th>0.0</th>\n",
       "      <th>1.0</th>\n",
       "      <th>16.0</th>\n",
       "      <th>22.0</th>\n",
       "      <th>84.0</th>\n",
       "      <th>93.0</th>\n",
       "      <th>96.0</th>\n",
       "      <th>100.0</th>\n",
       "      <th>110.0</th>\n",
       "      <th>...</th>\n",
       "      <th>46218484.0</th>\n",
       "      <th>54226464.0</th>\n",
       "      <th>56782170.0</th>\n",
       "      <th>73220000.0</th>\n",
       "      <th>80672270.0</th>\n",
       "      <th>86786424.0</th>\n",
       "      <th>87840000.0</th>\n",
       "      <th>241765920.0</th>\n",
       "      <th>299185300.0</th>\n",
       "      <th>All</th>\n",
       "    </tr>\n",
       "  </thead>\n",
       "  <tbody>\n",
       "    <tr>\n",
       "      <th>0</th>\n",
       "      <td>Producción audiovisual</td>\n",
       "      <td>0</td>\n",
       "      <td>0</td>\n",
       "      <td>0</td>\n",
       "      <td>0</td>\n",
       "      <td>0</td>\n",
       "      <td>0</td>\n",
       "      <td>0</td>\n",
       "      <td>0</td>\n",
       "      <td>0</td>\n",
       "      <td>...</td>\n",
       "      <td>0</td>\n",
       "      <td>0</td>\n",
       "      <td>0</td>\n",
       "      <td>0</td>\n",
       "      <td>0</td>\n",
       "      <td>0</td>\n",
       "      <td>0</td>\n",
       "      <td>0</td>\n",
       "      <td>0</td>\n",
       "      <td>1</td>\n",
       "    </tr>\n",
       "    <tr>\n",
       "      <th>1</th>\n",
       "      <td>Educación y formación empresarial</td>\n",
       "      <td>0</td>\n",
       "      <td>0</td>\n",
       "      <td>0</td>\n",
       "      <td>0</td>\n",
       "      <td>0</td>\n",
       "      <td>0</td>\n",
       "      <td>0</td>\n",
       "      <td>0</td>\n",
       "      <td>0</td>\n",
       "      <td>...</td>\n",
       "      <td>0</td>\n",
       "      <td>0</td>\n",
       "      <td>0</td>\n",
       "      <td>0</td>\n",
       "      <td>0</td>\n",
       "      <td>0</td>\n",
       "      <td>0</td>\n",
       "      <td>0</td>\n",
       "      <td>0</td>\n",
       "      <td>1</td>\n",
       "    </tr>\n",
       "    <tr>\n",
       "      <th>2</th>\n",
       "      <td>Gestión inmobiliaria</td>\n",
       "      <td>0</td>\n",
       "      <td>0</td>\n",
       "      <td>0</td>\n",
       "      <td>0</td>\n",
       "      <td>0</td>\n",
       "      <td>0</td>\n",
       "      <td>0</td>\n",
       "      <td>0</td>\n",
       "      <td>0</td>\n",
       "      <td>...</td>\n",
       "      <td>0</td>\n",
       "      <td>1</td>\n",
       "      <td>0</td>\n",
       "      <td>0</td>\n",
       "      <td>0</td>\n",
       "      <td>0</td>\n",
       "      <td>0</td>\n",
       "      <td>0</td>\n",
       "      <td>0</td>\n",
       "      <td>4</td>\n",
       "    </tr>\n",
       "    <tr>\n",
       "      <th>3</th>\n",
       "      <td>Agroindustrial</td>\n",
       "      <td>3</td>\n",
       "      <td>0</td>\n",
       "      <td>0</td>\n",
       "      <td>0</td>\n",
       "      <td>0</td>\n",
       "      <td>0</td>\n",
       "      <td>0</td>\n",
       "      <td>0</td>\n",
       "      <td>0</td>\n",
       "      <td>...</td>\n",
       "      <td>0</td>\n",
       "      <td>0</td>\n",
       "      <td>0</td>\n",
       "      <td>0</td>\n",
       "      <td>0</td>\n",
       "      <td>0</td>\n",
       "      <td>0</td>\n",
       "      <td>0</td>\n",
       "      <td>0</td>\n",
       "      <td>5</td>\n",
       "    </tr>\n",
       "    <tr>\n",
       "      <th>4</th>\n",
       "      <td>Minería</td>\n",
       "      <td>0</td>\n",
       "      <td>0</td>\n",
       "      <td>0</td>\n",
       "      <td>0</td>\n",
       "      <td>0</td>\n",
       "      <td>0</td>\n",
       "      <td>0</td>\n",
       "      <td>0</td>\n",
       "      <td>0</td>\n",
       "      <td>...</td>\n",
       "      <td>0</td>\n",
       "      <td>0</td>\n",
       "      <td>0</td>\n",
       "      <td>0</td>\n",
       "      <td>0</td>\n",
       "      <td>0</td>\n",
       "      <td>0</td>\n",
       "      <td>0</td>\n",
       "      <td>0</td>\n",
       "      <td>5</td>\n",
       "    </tr>\n",
       "    <tr>\n",
       "      <th>5</th>\n",
       "      <td>Generación y distribución de Energía</td>\n",
       "      <td>0</td>\n",
       "      <td>0</td>\n",
       "      <td>0</td>\n",
       "      <td>0</td>\n",
       "      <td>0</td>\n",
       "      <td>0</td>\n",
       "      <td>0</td>\n",
       "      <td>0</td>\n",
       "      <td>0</td>\n",
       "      <td>...</td>\n",
       "      <td>0</td>\n",
       "      <td>0</td>\n",
       "      <td>0</td>\n",
       "      <td>0</td>\n",
       "      <td>0</td>\n",
       "      <td>0</td>\n",
       "      <td>0</td>\n",
       "      <td>0</td>\n",
       "      <td>0</td>\n",
       "      <td>5</td>\n",
       "    </tr>\n",
       "    <tr>\n",
       "      <th>6</th>\n",
       "      <td>Servicios Públicos</td>\n",
       "      <td>0</td>\n",
       "      <td>0</td>\n",
       "      <td>0</td>\n",
       "      <td>0</td>\n",
       "      <td>0</td>\n",
       "      <td>0</td>\n",
       "      <td>0</td>\n",
       "      <td>0</td>\n",
       "      <td>0</td>\n",
       "      <td>...</td>\n",
       "      <td>0</td>\n",
       "      <td>0</td>\n",
       "      <td>0</td>\n",
       "      <td>0</td>\n",
       "      <td>0</td>\n",
       "      <td>0</td>\n",
       "      <td>0</td>\n",
       "      <td>0</td>\n",
       "      <td>0</td>\n",
       "      <td>6</td>\n",
       "    </tr>\n",
       "  </tbody>\n",
       "</table>\n",
       "<p>7 rows × 6283 columns</p>\n",
       "</div>"
      ],
      "text/plain": [
       "TOTAL_SIN_IVA                             CATEGORÍA  0.0  1.0  16.0  22.0  \\\n",
       "0                            Producción audiovisual    0    0     0     0   \n",
       "1                 Educación y formación empresarial    0    0     0     0   \n",
       "2                              Gestión inmobiliaria    0    0     0     0   \n",
       "3                                    Agroindustrial    3    0     0     0   \n",
       "4                                           Minería    0    0     0     0   \n",
       "5              Generación y distribución de Energía    0    0     0     0   \n",
       "6                                Servicios Públicos    0    0     0     0   \n",
       "\n",
       "TOTAL_SIN_IVA  84.0  93.0  96.0  100.0  110.0  ...  46218484.0  54226464.0  \\\n",
       "0                 0     0     0      0      0  ...           0           0   \n",
       "1                 0     0     0      0      0  ...           0           0   \n",
       "2                 0     0     0      0      0  ...           0           1   \n",
       "3                 0     0     0      0      0  ...           0           0   \n",
       "4                 0     0     0      0      0  ...           0           0   \n",
       "5                 0     0     0      0      0  ...           0           0   \n",
       "6                 0     0     0      0      0  ...           0           0   \n",
       "\n",
       "TOTAL_SIN_IVA  56782170.0  73220000.0  80672270.0  86786424.0  87840000.0  \\\n",
       "0                       0           0           0           0           0   \n",
       "1                       0           0           0           0           0   \n",
       "2                       0           0           0           0           0   \n",
       "3                       0           0           0           0           0   \n",
       "4                       0           0           0           0           0   \n",
       "5                       0           0           0           0           0   \n",
       "6                       0           0           0           0           0   \n",
       "\n",
       "TOTAL_SIN_IVA  241765920.0  299185300.0  All  \n",
       "0                        0            0    1  \n",
       "1                        0            0    1  \n",
       "2                        0            0    4  \n",
       "3                        0            0    5  \n",
       "4                        0            0    5  \n",
       "5                        0            0    5  \n",
       "6                        0            0    6  \n",
       "\n",
       "[7 rows x 6283 columns]"
      ]
     },
     "execution_count": 21,
     "metadata": {},
     "output_type": "execute_result"
    }
   ],
   "source": [
    "(pd.crosstab(df['CATEGORÍA'], df['TOTAL_SIN_IVA'], margins = True).reindex(order_CATEGORIA, axis = 0).reset_index()).sort_values(by='All', ascending='True').head(7)"
   ]
  },
  {
   "cell_type": "code",
   "execution_count": 22,
   "metadata": {},
   "outputs": [],
   "source": [
    "df_CATEGORIA = pd.crosstab(df['CATEGORÍA'], df['TOTAL_SIN_IVA'], margins = True).reindex(order_CATEGORIA, axis = 0).reset_index()"
   ]
  },
  {
   "cell_type": "code",
   "execution_count": 23,
   "metadata": {},
   "outputs": [
    {
     "data": {
      "text/html": [
       "<div>\n",
       "<style scoped>\n",
       "    .dataframe tbody tr th:only-of-type {\n",
       "        vertical-align: middle;\n",
       "    }\n",
       "\n",
       "    .dataframe tbody tr th {\n",
       "        vertical-align: top;\n",
       "    }\n",
       "\n",
       "    .dataframe thead th {\n",
       "        text-align: right;\n",
       "    }\n",
       "</style>\n",
       "<table border=\"1\" class=\"dataframe\">\n",
       "  <thead>\n",
       "    <tr style=\"text-align: right;\">\n",
       "      <th></th>\n",
       "      <th>CATEGORÍA</th>\n",
       "      <th>0.0</th>\n",
       "      <th>1.0</th>\n",
       "      <th>16.0</th>\n",
       "      <th>22.0</th>\n",
       "      <th>84.0</th>\n",
       "      <th>93.0</th>\n",
       "      <th>96.0</th>\n",
       "      <th>100.0</th>\n",
       "      <th>110.0</th>\n",
       "      <th>...</th>\n",
       "      <th>46218484.0</th>\n",
       "      <th>54226464.0</th>\n",
       "      <th>56782170.0</th>\n",
       "      <th>73220000.0</th>\n",
       "      <th>80672270.0</th>\n",
       "      <th>86786424.0</th>\n",
       "      <th>87840000.0</th>\n",
       "      <th>241765920.0</th>\n",
       "      <th>299185300.0</th>\n",
       "      <th>All</th>\n",
       "    </tr>\n",
       "  </thead>\n",
       "  <tbody>\n",
       "    <tr>\n",
       "      <th>0</th>\n",
       "      <td>Producción audiovisual</td>\n",
       "      <td>0</td>\n",
       "      <td>0</td>\n",
       "      <td>0</td>\n",
       "      <td>0</td>\n",
       "      <td>0</td>\n",
       "      <td>0</td>\n",
       "      <td>0</td>\n",
       "      <td>0</td>\n",
       "      <td>0</td>\n",
       "      <td>...</td>\n",
       "      <td>0</td>\n",
       "      <td>0</td>\n",
       "      <td>0</td>\n",
       "      <td>0</td>\n",
       "      <td>0</td>\n",
       "      <td>0</td>\n",
       "      <td>0</td>\n",
       "      <td>0</td>\n",
       "      <td>0</td>\n",
       "      <td>1</td>\n",
       "    </tr>\n",
       "    <tr>\n",
       "      <th>1</th>\n",
       "      <td>Educación y formación empresarial</td>\n",
       "      <td>0</td>\n",
       "      <td>0</td>\n",
       "      <td>0</td>\n",
       "      <td>0</td>\n",
       "      <td>0</td>\n",
       "      <td>0</td>\n",
       "      <td>0</td>\n",
       "      <td>0</td>\n",
       "      <td>0</td>\n",
       "      <td>...</td>\n",
       "      <td>0</td>\n",
       "      <td>0</td>\n",
       "      <td>0</td>\n",
       "      <td>0</td>\n",
       "      <td>0</td>\n",
       "      <td>0</td>\n",
       "      <td>0</td>\n",
       "      <td>0</td>\n",
       "      <td>0</td>\n",
       "      <td>1</td>\n",
       "    </tr>\n",
       "    <tr>\n",
       "      <th>2</th>\n",
       "      <td>Gestión inmobiliaria</td>\n",
       "      <td>0</td>\n",
       "      <td>0</td>\n",
       "      <td>0</td>\n",
       "      <td>0</td>\n",
       "      <td>0</td>\n",
       "      <td>0</td>\n",
       "      <td>0</td>\n",
       "      <td>0</td>\n",
       "      <td>0</td>\n",
       "      <td>...</td>\n",
       "      <td>0</td>\n",
       "      <td>1</td>\n",
       "      <td>0</td>\n",
       "      <td>0</td>\n",
       "      <td>0</td>\n",
       "      <td>0</td>\n",
       "      <td>0</td>\n",
       "      <td>0</td>\n",
       "      <td>0</td>\n",
       "      <td>4</td>\n",
       "    </tr>\n",
       "  </tbody>\n",
       "</table>\n",
       "<p>3 rows × 6283 columns</p>\n",
       "</div>"
      ],
      "text/plain": [
       "                           CATEGORÍA  0.0  1.0  16.0  22.0  84.0  93.0  96.0  \\\n",
       "0             Producción audiovisual    0    0     0     0     0     0     0   \n",
       "1  Educación y formación empresarial    0    0     0     0     0     0     0   \n",
       "2               Gestión inmobiliaria    0    0     0     0     0     0     0   \n",
       "\n",
       "   100.0  110.0  ...  46218484.0  54226464.0  56782170.0  73220000.0  \\\n",
       "0      0      0  ...           0           0           0           0   \n",
       "1      0      0  ...           0           0           0           0   \n",
       "2      0      0  ...           0           1           0           0   \n",
       "\n",
       "   80672270.0  86786424.0  87840000.0  241765920.0  299185300.0  All  \n",
       "0           0           0           0            0            0    1  \n",
       "1           0           0           0            0            0    1  \n",
       "2           0           0           0            0            0    4  \n",
       "\n",
       "[3 rows x 6283 columns]"
      ]
     },
     "execution_count": 23,
     "metadata": {},
     "output_type": "execute_result"
    }
   ],
   "source": [
    "# Remove index name\n",
    "df_CATEGORIA.columns.name = None\n",
    "df_CATEGORIA.head(3)"
   ]
  },
  {
   "cell_type": "markdown",
   "metadata": {},
   "source": [
    "## GET POSITION OF CATEGORICAL COLS"
   ]
  },
  {
   "cell_type": "code",
   "execution_count": 24,
   "metadata": {},
   "outputs": [
    {
     "name": "stdout",
     "output_type": "stream",
     "text": [
      "<class 'pandas.core.frame.DataFrame'>\n",
      "RangeIndex: 37 entries, 0 to 36\n",
      "Columns: 6283 entries, CATEGORÍA to All\n",
      "dtypes: int64(6282), object(1)\n",
      "memory usage: 1.8+ MB\n"
     ]
    }
   ],
   "source": [
    "df_CATEGORIA.info()"
   ]
  },
  {
   "cell_type": "code",
   "execution_count": 25,
   "metadata": {},
   "outputs": [
    {
     "data": {
      "text/plain": [
       "[0, 1, 2, 3]"
      ]
     },
     "execution_count": 25,
     "metadata": {},
     "output_type": "execute_result"
    }
   ],
   "source": [
    "[df.columns.get_loc(col) for col in list(df.select_dtypes('object').columns)]"
   ]
  },
  {
   "cell_type": "code",
   "execution_count": 26,
   "metadata": {},
   "outputs": [],
   "source": [
    "catColumnsPos = [df.columns.get_loc(col) for col in list(df.select_dtypes('object').columns)]"
   ]
  },
  {
   "cell_type": "code",
   "execution_count": 27,
   "metadata": {},
   "outputs": [
    {
     "name": "stdout",
     "output_type": "stream",
     "text": [
      "Categorical columns           : ['CATEGORÍA', 'PROVEEDOR', 'COMPAÑÍA_COMPRADORA', 'ESTADO']\n",
      "Categorical columns position  : [0, 1, 2, 3]\n"
     ]
    }
   ],
   "source": [
    "print('Categorical columns           : {}'.format(list(df.select_dtypes('object').columns)))\n",
    "print('Categorical columns position  : {}'.format(catColumnsPos))"
   ]
  },
  {
   "cell_type": "markdown",
   "metadata": {},
   "source": [
    "## CONVERT DF TO MATRIX WITH NUMPY"
   ]
  },
  {
   "cell_type": "code",
   "execution_count": 28,
   "metadata": {},
   "outputs": [
    {
     "data": {
      "text/plain": [
       "array([['Eléctricos y Electrónicos', 'Proveedor 1', 'Portal comprador 1',\n",
       "        ..., 23364.0, 4439, 46728.0],\n",
       "       ['Mercadeo y publicidad', 'Proveedor 2', 'Portal comprador 1',\n",
       "        ..., 1476972.0, 280625, 1476972.0],\n",
       "       ['Alimentos y Bebidas', 'Proveedor 3', 'Portal comprador 1', ...,\n",
       "        15500.0, 0, 155000.0],\n",
       "       ...,\n",
       "       ['Moda y accesorios', 'Proveedor 229', 'Portal comprador 8', ...,\n",
       "        29412.0, 5588, 88235.0],\n",
       "       ['Moda y accesorios', 'Proveedor 229', 'Portal comprador 8', ...,\n",
       "        29412.0, 5588, 117647.0],\n",
       "       ['Aseo, Cafetería y Oficina', 'Proveedor 229',\n",
       "        'Portal comprador 8', ..., 33613.0, 6387, 168067.0]], dtype=object)"
      ]
     },
     "execution_count": 28,
     "metadata": {},
     "output_type": "execute_result"
    }
   ],
   "source": [
    "dfMatrix = df.to_numpy()\n",
    "dfMatrix"
   ]
  },
  {
   "cell_type": "markdown",
   "metadata": {},
   "source": [
    "## OPTIMAL K USING ELBOW METHOD"
   ]
  },
  {
   "cell_type": "code",
   "execution_count": 29,
   "metadata": {},
   "outputs": [
    {
     "name": "stdout",
     "output_type": "stream",
     "text": [
      "Cluster initiation: 2\n",
      "Cluster initiation: 3\n",
      "Cluster initiation: 4\n",
      "Cluster initiation: 5\n",
      "Cluster initiation: 6\n"
     ]
    }
   ],
   "source": [
    "cost = []\n",
    "for cluster in range(2, 8):\n",
    "    try:\n",
    "        kprototype = KPrototypes(n_jobs = -1, n_clusters = cluster, init = 'Huang', random_state = 0)\n",
    "        kprototype.fit_predict(dfMatrix, categorical = catColumnsPos)\n",
    "        cost.append(kprototype.cost_)\n",
    "        print('Cluster initiation: {}'.format(cluster))\n",
    "    except:\n",
    "        break"
   ]
  },
  {
   "cell_type": "code",
   "execution_count": 30,
   "metadata": {},
   "outputs": [
    {
     "data": {
      "image/png": "[encoded data removed]",
      "text/plain": [
       "<Figure size 800x480 with 1 Axes>"
      ]
     },
     "metadata": {
      "needs_background": "light"
     },
     "output_type": "display_data"
    },
    {
     "data": {
      "text/plain": [
       "<ggplot: (132747988818)>"
      ]
     },
     "execution_count": 30,
     "metadata": {},
     "output_type": "execute_result"
    }
   ],
   "source": [
    "# Converting the results into a dataframe and plotting them\n",
    "df_cost = pd.DataFrame({'Cluster':range(1, 6), 'Cost':cost})\n",
    "# Data viz\n",
    "plotnine.options.figure_size = (8, 4.8)\n",
    "(\n",
    "    ggplot(data = df_cost)+\n",
    "    geom_line(aes(x = 'Cluster',\n",
    "                  y = 'Cost'))+\n",
    "    geom_point(aes(x = 'Cluster',\n",
    "                   y = 'Cost'))+\n",
    "    geom_label(aes(x = 'Cluster',\n",
    "                   y = 'Cost',\n",
    "                   label = 'Cluster'),\n",
    "               size = 10,\n",
    "               nudge_y = 1000) +\n",
    "    labs(title = 'Optimal number of cluster with Elbow Method')+\n",
    "    xlab('Number of Clusters k')+\n",
    "    ylab('Cost')+\n",
    "    theme_minimal()\n",
    ")"
   ]
  },
  {
   "cell_type": "markdown",
   "metadata": {},
   "source": [
    "## FTI MODEL WITH K CLUSTER"
   ]
  },
  {
   "cell_type": "code",
   "execution_count": 31,
   "metadata": {},
   "outputs": [
    {
     "data": {
      "text/plain": [
       "array([2, 2, 2, ..., 2, 2, 2], dtype=uint16)"
      ]
     },
     "execution_count": 31,
     "metadata": {},
     "output_type": "execute_result"
    }
   ],
   "source": [
    "# Fit the cluster\n",
    "kprototype = KPrototypes(n_jobs = -1, n_clusters = 3, init = 'Huang', random_state = 0)\n",
    "kprototype.fit_predict(dfMatrix, categorical = catColumnsPos)"
   ]
  },
  {
   "cell_type": "markdown",
   "metadata": {},
   "source": [
    "### CENTROIDS"
   ]
  },
  {
   "cell_type": "code",
   "execution_count": 32,
   "metadata": {},
   "outputs": [
    {
     "data": {
      "text/plain": [
       "array([['494.44444444444446', '467.7037037037048', '9351504.037037037',\n",
       "        '1325871.0', '38413580.59259259', 'Construcción y Mantenimiento',\n",
       "        'Proveedor 301', 'Portal comprador 1', 'Recibido'],\n",
       "       ['8.5', '0.0', '31731777.0', '3158067.5', '270475610.0',\n",
       "        'Construcción y Mantenimiento', 'Proveedor 20',\n",
       "        'Portal comprador 1', 'Cancelado'],\n",
       "       ['196.33683450342082', '49.02262934311139', '60042.934400572376',\n",
       "        '9631.38671019094', '407609.97088941553', 'Alimentos y Bebidas',\n",
       "        'Proveedor 301', 'Portal comprador 1', 'Recibido']], dtype='<U32')"
      ]
     },
     "execution_count": 32,
     "metadata": {},
     "output_type": "execute_result"
    }
   ],
   "source": [
    "# Cluster centorid\n",
    "kprototype.cluster_centroids_"
   ]
  },
  {
   "cell_type": "markdown",
   "metadata": {},
   "source": [
    "N_ITER"
   ]
  },
  {
   "cell_type": "code",
   "execution_count": 33,
   "metadata": {},
   "outputs": [
    {
     "data": {
      "text/plain": [
       "14"
      ]
     },
     "execution_count": 33,
     "metadata": {},
     "output_type": "execute_result"
    }
   ],
   "source": [
    "\n",
    "# Check the iteration of the clusters created\n",
    "kprototype.n_iter_"
   ]
  },
  {
   "cell_type": "markdown",
   "metadata": {},
   "source": [
    "### COST_"
   ]
  },
  {
   "cell_type": "code",
   "execution_count": 34,
   "metadata": {},
   "outputs": [
    {
     "data": {
      "text/plain": [
       "4.40550321818594e+16"
      ]
     },
     "execution_count": 34,
     "metadata": {},
     "output_type": "execute_result"
    }
   ],
   "source": [
    "\n",
    "# Check the cost of the clusters created\n",
    "kprototype.cost_"
   ]
  },
  {
   "cell_type": "markdown",
   "metadata": {},
   "source": [
    "## ADD THE CLUSTER TO THE DF"
   ]
  },
  {
   "cell_type": "code",
   "execution_count": 35,
   "metadata": {},
   "outputs": [
    {
     "data": {
      "text/plain": [
       "22392"
      ]
     },
     "execution_count": 35,
     "metadata": {},
     "output_type": "execute_result"
    }
   ],
   "source": [
    "len(kprototype.labels_)"
   ]
  },
  {
   "cell_type": "code",
   "execution_count": 41,
   "metadata": {},
   "outputs": [],
   "source": [
    "df['Cluster Labels'] = kprototype.labels_\n",
    "df['Segment'] = df['Cluster Labels'].map({0:'First', 1:'Second', 2:'Third'})"
   ]
  },
  {
   "cell_type": "code",
   "execution_count": 37,
   "metadata": {},
   "outputs": [
    {
     "data": {
      "text/html": [
       "<div>\n",
       "<style scoped>\n",
       "    .dataframe tbody tr th:only-of-type {\n",
       "        vertical-align: middle;\n",
       "    }\n",
       "\n",
       "    .dataframe tbody tr th {\n",
       "        vertical-align: top;\n",
       "    }\n",
       "\n",
       "    .dataframe thead th {\n",
       "        text-align: right;\n",
       "    }\n",
       "</style>\n",
       "<table border=\"1\" class=\"dataframe\">\n",
       "  <thead>\n",
       "    <tr style=\"text-align: right;\">\n",
       "      <th></th>\n",
       "      <th>CATEGORÍA</th>\n",
       "      <th>PROVEEDOR</th>\n",
       "      <th>COMPAÑÍA_COMPRADORA</th>\n",
       "      <th>ESTADO</th>\n",
       "      <th>CANTIDAD_PEDIDA</th>\n",
       "      <th>CANTIDAD_RECIBIDA</th>\n",
       "      <th>PRECIO_UNITARIO</th>\n",
       "      <th>IVA</th>\n",
       "      <th>TOTAL_SIN_IVA</th>\n",
       "      <th>Cluster Labels</th>\n",
       "      <th>Segment</th>\n",
       "    </tr>\n",
       "  </thead>\n",
       "  <tbody>\n",
       "    <tr>\n",
       "      <th>21333</th>\n",
       "      <td>Alimentos y Bebidas</td>\n",
       "      <td>Proveedor 322</td>\n",
       "      <td>Portal comprador 29</td>\n",
       "      <td>Orden en Proceso</td>\n",
       "      <td>120.000</td>\n",
       "      <td>0.000</td>\n",
       "      <td>745.000</td>\n",
       "      <td>141</td>\n",
       "      <td>89345.000</td>\n",
       "      <td>2</td>\n",
       "      <td>Third</td>\n",
       "    </tr>\n",
       "    <tr>\n",
       "      <th>6285</th>\n",
       "      <td>Alimentos y Bebidas</td>\n",
       "      <td>Proveedor 65</td>\n",
       "      <td>Portal comprador 2</td>\n",
       "      <td>Cancelado</td>\n",
       "      <td>1.000</td>\n",
       "      <td>0.000</td>\n",
       "      <td>18067.000</td>\n",
       "      <td>3433</td>\n",
       "      <td>18067.000</td>\n",
       "      <td>2</td>\n",
       "      <td>Third</td>\n",
       "    </tr>\n",
       "    <tr>\n",
       "      <th>4716</th>\n",
       "      <td>Aseo, Cafetería y Oficina</td>\n",
       "      <td>Proveedor 28</td>\n",
       "      <td>Portal comprador 1</td>\n",
       "      <td>Recibido</td>\n",
       "      <td>3.000</td>\n",
       "      <td>3.000</td>\n",
       "      <td>8235.000</td>\n",
       "      <td>1565</td>\n",
       "      <td>24705.000</td>\n",
       "      <td>2</td>\n",
       "      <td>Third</td>\n",
       "    </tr>\n",
       "    <tr>\n",
       "      <th>11872</th>\n",
       "      <td>Alimentos y Bebidas</td>\n",
       "      <td>Proveedor 24</td>\n",
       "      <td>Portal comprador 2</td>\n",
       "      <td>Recibido</td>\n",
       "      <td>1.000</td>\n",
       "      <td>1.000</td>\n",
       "      <td>106378.000</td>\n",
       "      <td>20212</td>\n",
       "      <td>106378.000</td>\n",
       "      <td>2</td>\n",
       "      <td>Third</td>\n",
       "    </tr>\n",
       "    <tr>\n",
       "      <th>16426</th>\n",
       "      <td>Vigilancia y seguridad industrial</td>\n",
       "      <td>Proveedor 301</td>\n",
       "      <td>Portal comprador 24</td>\n",
       "      <td>Recibido</td>\n",
       "      <td>28.000</td>\n",
       "      <td>28.000</td>\n",
       "      <td>31092.000</td>\n",
       "      <td>5908</td>\n",
       "      <td>870588.000</td>\n",
       "      <td>2</td>\n",
       "      <td>Third</td>\n",
       "    </tr>\n",
       "  </tbody>\n",
       "</table>\n",
       "</div>"
      ],
      "text/plain": [
       "                               CATEGORÍA      PROVEEDOR  COMPAÑÍA_COMPRADORA  \\\n",
       "21333                Alimentos y Bebidas  Proveedor 322  Portal comprador 29   \n",
       "6285                 Alimentos y Bebidas   Proveedor 65   Portal comprador 2   \n",
       "4716           Aseo, Cafetería y Oficina   Proveedor 28   Portal comprador 1   \n",
       "11872                Alimentos y Bebidas   Proveedor 24   Portal comprador 2   \n",
       "16426  Vigilancia y seguridad industrial  Proveedor 301  Portal comprador 24   \n",
       "\n",
       "                 ESTADO  CANTIDAD_PEDIDA  CANTIDAD_RECIBIDA  PRECIO_UNITARIO  \\\n",
       "21333  Orden en Proceso          120.000              0.000          745.000   \n",
       "6285          Cancelado            1.000              0.000        18067.000   \n",
       "4716           Recibido            3.000              3.000         8235.000   \n",
       "11872          Recibido            1.000              1.000       106378.000   \n",
       "16426          Recibido           28.000             28.000        31092.000   \n",
       "\n",
       "         IVA  TOTAL_SIN_IVA  Cluster Labels Segment  \n",
       "21333    141      89345.000               2   Third  \n",
       "6285    3433      18067.000               2   Third  \n",
       "4716    1565      24705.000               2   Third  \n",
       "11872  20212     106378.000               2   Third  \n",
       "16426   5908     870588.000               2   Third  "
      ]
     },
     "execution_count": 37,
     "metadata": {},
     "output_type": "execute_result"
    }
   ],
   "source": [
    "df.sample(5)"
   ]
  },
  {
   "cell_type": "markdown",
   "metadata": {},
   "source": [
    "## ORDER CLUSTER"
   ]
  },
  {
   "cell_type": "code",
   "execution_count": 38,
   "metadata": {},
   "outputs": [],
   "source": [
    "# Order the cluster\n",
    "df['Segment'] = df['Segment'].astype('category')\n",
    "df['Segment'] = df['Segment'].cat.reorder_categories(list(df[\"Segment\"].unique()))"
   ]
  },
  {
   "cell_type": "markdown",
   "metadata": {},
   "source": [
    "## CLUSTER INTERPRETATION"
   ]
  },
  {
   "cell_type": "code",
   "execution_count": 39,
   "metadata": {},
   "outputs": [
    {
     "data": {
      "text/html": [
       "<div>\n",
       "<style scoped>\n",
       "    .dataframe tbody tr th:only-of-type {\n",
       "        vertical-align: middle;\n",
       "    }\n",
       "\n",
       "    .dataframe tbody tr th {\n",
       "        vertical-align: top;\n",
       "    }\n",
       "\n",
       "    .dataframe thead th {\n",
       "        text-align: right;\n",
       "    }\n",
       "</style>\n",
       "<table border=\"1\" class=\"dataframe\">\n",
       "  <thead>\n",
       "    <tr style=\"text-align: right;\">\n",
       "      <th></th>\n",
       "      <th>Segment</th>\n",
       "      <th>COMPAÑÍA_COMPRADORA</th>\n",
       "      <th>CATEGORÍA</th>\n",
       "      <th>CANTIDAD_PEDIDA</th>\n",
       "      <th>CANTIDAD_RECIBIDA</th>\n",
       "      <th>PRECIO_UNITARIO</th>\n",
       "      <th>IVA</th>\n",
       "      <th>TOTAL_SIN_IVA</th>\n",
       "    </tr>\n",
       "  </thead>\n",
       "  <tbody>\n",
       "    <tr>\n",
       "      <th>0</th>\n",
       "      <td>Third</td>\n",
       "      <td>Portal comprador 1</td>\n",
       "      <td>Alimentos y Bebidas</td>\n",
       "      <td>4390680.630</td>\n",
       "      <td>1096293.060</td>\n",
       "      <td>60042.934</td>\n",
       "      <td>215386701</td>\n",
       "      <td>9115381779.000</td>\n",
       "    </tr>\n",
       "    <tr>\n",
       "      <th>1</th>\n",
       "      <td>First</td>\n",
       "      <td>Portal comprador 1</td>\n",
       "      <td>Construcción y Mantenimiento</td>\n",
       "      <td>13350.000</td>\n",
       "      <td>12628.000</td>\n",
       "      <td>9351504.037</td>\n",
       "      <td>35798517</td>\n",
       "      <td>1037166676.000</td>\n",
       "    </tr>\n",
       "    <tr>\n",
       "      <th>2</th>\n",
       "      <td>Second</td>\n",
       "      <td>Portal comprador 1</td>\n",
       "      <td>Construcción y Mantenimiento</td>\n",
       "      <td>17.000</td>\n",
       "      <td>0.000</td>\n",
       "      <td>31731777.000</td>\n",
       "      <td>6316135</td>\n",
       "      <td>540951220.000</td>\n",
       "    </tr>\n",
       "  </tbody>\n",
       "</table>\n",
       "</div>"
      ],
      "text/plain": [
       "  Segment COMPAÑÍA_COMPRADORA                     CATEGORÍA  CANTIDAD_PEDIDA  \\\n",
       "0   Third  Portal comprador 1           Alimentos y Bebidas      4390680.630   \n",
       "1   First  Portal comprador 1  Construcción y Mantenimiento        13350.000   \n",
       "2  Second  Portal comprador 1  Construcción y Mantenimiento           17.000   \n",
       "\n",
       "   CANTIDAD_RECIBIDA  PRECIO_UNITARIO        IVA  TOTAL_SIN_IVA  \n",
       "0        1096293.060        60042.934  215386701 9115381779.000  \n",
       "1          12628.000      9351504.037   35798517 1037166676.000  \n",
       "2              0.000     31731777.000    6316135  540951220.000  "
      ]
     },
     "execution_count": 39,
     "metadata": {},
     "output_type": "execute_result"
    }
   ],
   "source": [
    "# Cluster interpretation\n",
    "df.rename(columns = {'Cluster Labels':'Total'}, inplace = True)\n",
    "df.groupby('Segment').agg(\n",
    "    {\n",
    "        #'Total':'count',\n",
    "        'COMPAÑÍA_COMPRADORA': lambda x: x.value_counts().index[0],\n",
    "        'CATEGORÍA':lambda x: x.value_counts().index[0],\n",
    "        'CANTIDAD_PEDIDA': 'sum',\n",
    "        'CANTIDAD_RECIBIDA': 'sum',\n",
    "        'PRECIO_UNITARIO': 'mean',\n",
    "        'IVA': 'sum',\n",
    "        'TOTAL_SIN_IVA': 'sum'\n",
    "    }\n",
    ").reset_index()"
   ]
  },
  {
   "cell_type": "code",
   "execution_count": 40,
   "metadata": {},
   "outputs": [
    {
     "data": {
      "text/plain": [
       "Segment\n",
       "Third     22363\n",
       "First        27\n",
       "Second        2\n",
       "Name: Segment, dtype: int64"
      ]
     },
     "execution_count": 40,
     "metadata": {},
     "output_type": "execute_result"
    }
   ],
   "source": [
    "df.groupby('Segment')['Segment'].count()"
   ]
  },
  {
   "cell_type": "code",
   "execution_count": 42,
   "metadata": {},
   "outputs": [],
   "source": [
    "df.to_csv('Kprototype_clusters_3_Categoria.csv', index=False)"
   ]
  },
  {
   "cell_type": "code",
   "execution_count": 43,
   "metadata": {},
   "outputs": [
    {
     "data": {
      "text/plain": [
       "<AxesSubplot:title={'center':'Row principal coordinates'}, xlabel='Component 0 (1.11% inertia)', ylabel='Component 1 (0.79% inertia)'>"
      ]
     },
     "execution_count": 43,
     "metadata": {},
     "output_type": "execute_result"
    },
    {
     "data": {
      "image/png": "[encoded data removed]",
      "text/plain": [
       "<Figure size 1080x720 with 1 Axes>"
      ]
     },
     "metadata": {},
     "output_type": "display_data"
    }
   ],
   "source": [
    "from prince import FAMD\n",
    "\n",
    "X=pd.read_csv(\"Kprototype_clusters_3_Categoria.csv\")\n",
    "\n",
    "famd = FAMD(n_components =2, n_iter = 3, random_state = 101)\n",
    "\n",
    "famd.fit(X)\n",
    "famd.transform(X)\n",
    "famd.plot_row_coordinates(X,figsize=(15, 10),color_labels=['Clusters : {}'.format(t) for t in X['Segment']] )"
   ]
  },
  {
   "cell_type": "code",
   "execution_count": null,
   "metadata": {},
   "outputs": [],
   "source": []
  }
 ],
 "metadata": {
  "interpreter": {
   "hash": "c94be41889154d41bf43aca8d1a8d1cd64b97c119170e03e2ed46ca87183f0c5"
  },
  "kernelspec": {
   "display_name": "Python 3",
   "language": "python",
   "name": "python3"
  },
  "language_info": {
   "codemirror_mode": {
    "name": "ipython",
    "version": 3
   },
   "file_extension": ".py",
   "mimetype": "text/x-python",
   "name": "python",
   "nbconvert_exporter": "python",
   "pygments_lexer": "ipython3",
   "version": "3.8.5"
  }
 },
 "nbformat": 4,
 "nbformat_minor": 2
}
