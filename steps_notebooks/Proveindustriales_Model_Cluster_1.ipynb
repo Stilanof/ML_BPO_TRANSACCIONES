{
 "cells": [
  {
   "cell_type": "code",
   "execution_count": 1,
   "metadata": {},
   "outputs": [],
   "source": [
    "import pandas as pd\n",
    "import seaborn as sns\n",
    "import matplotlib.pyplot as plt\n",
    "import seaborn as sns\n",
    "import plotly.express as px\n",
    "plt.style.use('ggplot')"
   ]
  },
  {
   "cell_type": "code",
   "execution_count": 40,
   "metadata": {},
   "outputs": [],
   "source": [
    "df = pd.read_csv('Proveindustriales_Data_Cleaned_numeric_onehot_csv.csv')"
   ]
  },
  {
   "cell_type": "code",
   "execution_count": 41,
   "metadata": {},
   "outputs": [
    {
     "data": {
      "text/html": [
       "<div>\n",
       "<style scoped>\n",
       "    .dataframe tbody tr th:only-of-type {\n",
       "        vertical-align: middle;\n",
       "    }\n",
       "\n",
       "    .dataframe tbody tr th {\n",
       "        vertical-align: top;\n",
       "    }\n",
       "\n",
       "    .dataframe thead th {\n",
       "        text-align: right;\n",
       "    }\n",
       "</style>\n",
       "<table border=\"1\" class=\"dataframe\">\n",
       "  <thead>\n",
       "    <tr style=\"text-align: right;\">\n",
       "      <th></th>\n",
       "      <th>0</th>\n",
       "      <th>1</th>\n",
       "      <th>2</th>\n",
       "      <th>3</th>\n",
       "      <th>4</th>\n",
       "      <th>5</th>\n",
       "      <th>6</th>\n",
       "      <th>7</th>\n",
       "      <th>8</th>\n",
       "      <th>9</th>\n",
       "      <th>...</th>\n",
       "      <th>NÚMERO_PEDIDO</th>\n",
       "      <th>ORDEN_NÚMERO</th>\n",
       "      <th>CANTIDAD_PEDIDA</th>\n",
       "      <th>CANTIDAD_RECIBIDA</th>\n",
       "      <th>PRECIO_UNITARIO</th>\n",
       "      <th>PRECIO_UNITARIO_+_IVA</th>\n",
       "      <th>IVA</th>\n",
       "      <th>TOTAL_+_IVA</th>\n",
       "      <th>DURACIÓN_ENTREGA</th>\n",
       "      <th>DURACIÓN_APROBACIÓN</th>\n",
       "    </tr>\n",
       "  </thead>\n",
       "  <tbody>\n",
       "    <tr>\n",
       "      <th>0</th>\n",
       "      <td>0.0</td>\n",
       "      <td>0.0</td>\n",
       "      <td>0.0</td>\n",
       "      <td>0.0</td>\n",
       "      <td>0.0</td>\n",
       "      <td>0.0</td>\n",
       "      <td>0.0</td>\n",
       "      <td>0.0</td>\n",
       "      <td>0.0</td>\n",
       "      <td>0.0</td>\n",
       "      <td>...</td>\n",
       "      <td>0.011488</td>\n",
       "      <td>8.570006e-07</td>\n",
       "      <td>0.000029</td>\n",
       "      <td>0.000029</td>\n",
       "      <td>0.009998</td>\n",
       "      <td>0.009998</td>\n",
       "      <td>0.0</td>\n",
       "      <td>0.999834</td>\n",
       "      <td>0.0</td>\n",
       "      <td>0.000000</td>\n",
       "    </tr>\n",
       "    <tr>\n",
       "      <th>1</th>\n",
       "      <td>0.0</td>\n",
       "      <td>0.0</td>\n",
       "      <td>0.0</td>\n",
       "      <td>0.0</td>\n",
       "      <td>0.0</td>\n",
       "      <td>0.0</td>\n",
       "      <td>0.0</td>\n",
       "      <td>0.0</td>\n",
       "      <td>0.0</td>\n",
       "      <td>0.0</td>\n",
       "      <td>...</td>\n",
       "      <td>0.113017</td>\n",
       "      <td>5.621736e-06</td>\n",
       "      <td>0.000028</td>\n",
       "      <td>0.000000</td>\n",
       "      <td>0.098380</td>\n",
       "      <td>0.098380</td>\n",
       "      <td>0.0</td>\n",
       "      <td>0.983804</td>\n",
       "      <td>0.0</td>\n",
       "      <td>0.000011</td>\n",
       "    </tr>\n",
       "  </tbody>\n",
       "</table>\n",
       "<p>2 rows × 261 columns</p>\n",
       "</div>"
      ],
      "text/plain": [
       "     0    1    2    3    4    5    6    7    8    9  ...  NÚMERO_PEDIDO  \\\n",
       "0  0.0  0.0  0.0  0.0  0.0  0.0  0.0  0.0  0.0  0.0  ...       0.011488   \n",
       "1  0.0  0.0  0.0  0.0  0.0  0.0  0.0  0.0  0.0  0.0  ...       0.113017   \n",
       "\n",
       "   ORDEN_NÚMERO  CANTIDAD_PEDIDA  CANTIDAD_RECIBIDA  PRECIO_UNITARIO  \\\n",
       "0  8.570006e-07         0.000029           0.000029         0.009998   \n",
       "1  5.621736e-06         0.000028           0.000000         0.098380   \n",
       "\n",
       "   PRECIO_UNITARIO_+_IVA  IVA  TOTAL_+_IVA  DURACIÓN_ENTREGA  \\\n",
       "0               0.009998  0.0     0.999834               0.0   \n",
       "1               0.098380  0.0     0.983804               0.0   \n",
       "\n",
       "   DURACIÓN_APROBACIÓN  \n",
       "0             0.000000  \n",
       "1             0.000011  \n",
       "\n",
       "[2 rows x 261 columns]"
      ]
     },
     "execution_count": 41,
     "metadata": {},
     "output_type": "execute_result"
    }
   ],
   "source": [
    "df.head(2)"
   ]
  },
  {
   "cell_type": "markdown",
   "metadata": {},
   "source": [
    "Delete 'FECHA_ÚLTIMO_MOVIMIENTO'"
   ]
  },
  {
   "cell_type": "code",
   "execution_count": 42,
   "metadata": {},
   "outputs": [],
   "source": [
    "df =df.loc[:, df.columns != 'FECHA_ÚLTIMO_MOVIMIENTO']"
   ]
  },
  {
   "cell_type": "code",
   "execution_count": 43,
   "metadata": {},
   "outputs": [
    {
     "name": "stdout",
     "output_type": "stream",
     "text": [
      "<class 'pandas.core.frame.DataFrame'>\n",
      "RangeIndex: 499 entries, 0 to 498\n",
      "Columns: 261 entries, 0 to DURACIÓN_APROBACIÓN\n",
      "dtypes: float64(261)\n",
      "memory usage: 1017.6 KB\n"
     ]
    }
   ],
   "source": [
    "df.info()"
   ]
  },
  {
   "cell_type": "code",
   "execution_count": 44,
   "metadata": {},
   "outputs": [
    {
     "data": {
      "text/html": [
       "<div>\n",
       "<style scoped>\n",
       "    .dataframe tbody tr th:only-of-type {\n",
       "        vertical-align: middle;\n",
       "    }\n",
       "\n",
       "    .dataframe tbody tr th {\n",
       "        vertical-align: top;\n",
       "    }\n",
       "\n",
       "    .dataframe thead th {\n",
       "        text-align: right;\n",
       "    }\n",
       "</style>\n",
       "<table border=\"1\" class=\"dataframe\">\n",
       "  <thead>\n",
       "    <tr style=\"text-align: right;\">\n",
       "      <th></th>\n",
       "      <th>0</th>\n",
       "      <th>1</th>\n",
       "      <th>2</th>\n",
       "      <th>3</th>\n",
       "      <th>4</th>\n",
       "      <th>5</th>\n",
       "      <th>6</th>\n",
       "      <th>7</th>\n",
       "      <th>8</th>\n",
       "      <th>9</th>\n",
       "      <th>...</th>\n",
       "      <th>NÚMERO_PEDIDO</th>\n",
       "      <th>ORDEN_NÚMERO</th>\n",
       "      <th>CANTIDAD_PEDIDA</th>\n",
       "      <th>CANTIDAD_RECIBIDA</th>\n",
       "      <th>PRECIO_UNITARIO</th>\n",
       "      <th>PRECIO_UNITARIO_+_IVA</th>\n",
       "      <th>IVA</th>\n",
       "      <th>TOTAL_+_IVA</th>\n",
       "      <th>DURACIÓN_ENTREGA</th>\n",
       "      <th>DURACIÓN_APROBACIÓN</th>\n",
       "    </tr>\n",
       "  </thead>\n",
       "  <tbody>\n",
       "    <tr>\n",
       "      <th>0</th>\n",
       "      <td>0.0</td>\n",
       "      <td>0.0</td>\n",
       "      <td>0.0</td>\n",
       "      <td>0.0</td>\n",
       "      <td>0.0</td>\n",
       "      <td>0.0</td>\n",
       "      <td>0.0</td>\n",
       "      <td>0.0</td>\n",
       "      <td>0.0</td>\n",
       "      <td>0.0</td>\n",
       "      <td>...</td>\n",
       "      <td>0.011488</td>\n",
       "      <td>8.570006e-07</td>\n",
       "      <td>0.000029</td>\n",
       "      <td>0.000029</td>\n",
       "      <td>0.009998</td>\n",
       "      <td>0.009998</td>\n",
       "      <td>0.0</td>\n",
       "      <td>0.999834</td>\n",
       "      <td>0.0</td>\n",
       "      <td>0.000000</td>\n",
       "    </tr>\n",
       "    <tr>\n",
       "      <th>1</th>\n",
       "      <td>0.0</td>\n",
       "      <td>0.0</td>\n",
       "      <td>0.0</td>\n",
       "      <td>0.0</td>\n",
       "      <td>0.0</td>\n",
       "      <td>0.0</td>\n",
       "      <td>0.0</td>\n",
       "      <td>0.0</td>\n",
       "      <td>0.0</td>\n",
       "      <td>0.0</td>\n",
       "      <td>...</td>\n",
       "      <td>0.113017</td>\n",
       "      <td>5.621736e-06</td>\n",
       "      <td>0.000028</td>\n",
       "      <td>0.000000</td>\n",
       "      <td>0.098380</td>\n",
       "      <td>0.098380</td>\n",
       "      <td>0.0</td>\n",
       "      <td>0.983804</td>\n",
       "      <td>0.0</td>\n",
       "      <td>0.000011</td>\n",
       "    </tr>\n",
       "    <tr>\n",
       "      <th>2</th>\n",
       "      <td>0.0</td>\n",
       "      <td>0.0</td>\n",
       "      <td>0.0</td>\n",
       "      <td>0.0</td>\n",
       "      <td>0.0</td>\n",
       "      <td>0.0</td>\n",
       "      <td>0.0</td>\n",
       "      <td>0.0</td>\n",
       "      <td>0.0</td>\n",
       "      <td>0.0</td>\n",
       "      <td>...</td>\n",
       "      <td>0.225206</td>\n",
       "      <td>1.120231e-05</td>\n",
       "      <td>0.000022</td>\n",
       "      <td>0.000000</td>\n",
       "      <td>0.229647</td>\n",
       "      <td>0.229647</td>\n",
       "      <td>0.0</td>\n",
       "      <td>0.918589</td>\n",
       "      <td>0.0</td>\n",
       "      <td>0.000022</td>\n",
       "    </tr>\n",
       "  </tbody>\n",
       "</table>\n",
       "<p>3 rows × 261 columns</p>\n",
       "</div>"
      ],
      "text/plain": [
       "     0    1    2    3    4    5    6    7    8    9  ...  NÚMERO_PEDIDO  \\\n",
       "0  0.0  0.0  0.0  0.0  0.0  0.0  0.0  0.0  0.0  0.0  ...       0.011488   \n",
       "1  0.0  0.0  0.0  0.0  0.0  0.0  0.0  0.0  0.0  0.0  ...       0.113017   \n",
       "2  0.0  0.0  0.0  0.0  0.0  0.0  0.0  0.0  0.0  0.0  ...       0.225206   \n",
       "\n",
       "   ORDEN_NÚMERO  CANTIDAD_PEDIDA  CANTIDAD_RECIBIDA  PRECIO_UNITARIO  \\\n",
       "0  8.570006e-07         0.000029           0.000029         0.009998   \n",
       "1  5.621736e-06         0.000028           0.000000         0.098380   \n",
       "2  1.120231e-05         0.000022           0.000000         0.229647   \n",
       "\n",
       "   PRECIO_UNITARIO_+_IVA  IVA  TOTAL_+_IVA  DURACIÓN_ENTREGA  \\\n",
       "0               0.009998  0.0     0.999834               0.0   \n",
       "1               0.098380  0.0     0.983804               0.0   \n",
       "2               0.229647  0.0     0.918589               0.0   \n",
       "\n",
       "   DURACIÓN_APROBACIÓN  \n",
       "0             0.000000  \n",
       "1             0.000011  \n",
       "2             0.000022  \n",
       "\n",
       "[3 rows x 261 columns]"
      ]
     },
     "execution_count": 44,
     "metadata": {},
     "output_type": "execute_result"
    }
   ],
   "source": [
    "df.head(3)"
   ]
  },
  {
   "cell_type": "markdown",
   "metadata": {},
   "source": [
    "# CLUSTERING"
   ]
  },
  {
   "cell_type": "code",
   "execution_count": 45,
   "metadata": {},
   "outputs": [],
   "source": [
    "from sklearn import metrics\n",
    "from sklearn.cluster import KMeans"
   ]
  },
  {
   "cell_type": "markdown",
   "metadata": {},
   "source": [
    "## ELBOW METHOD"
   ]
  },
  {
   "cell_type": "code",
   "execution_count": 49,
   "metadata": {},
   "outputs": [],
   "source": [
    "wcss = []\n",
    "for i in range (1, 18):\n",
    "    kmeans = KMeans(n_clusters=i, max_iter=200)\n",
    "    kmeans.fit(df)\n",
    "    wcss.append(kmeans.inertia_)"
   ]
  },
  {
   "cell_type": "code",
   "execution_count": 50,
   "metadata": {},
   "outputs": [
    {
     "data": {
      "text/plain": [
       "Text(0, 0.5, 'Clustering score')"
      ]
     },
     "execution_count": 50,
     "metadata": {},
     "output_type": "execute_result"
    },
    {
     "data": {
      "image/png": "[encoded data removed]",
      "text/plain": [
       "<Figure size 432x288 with 1 Axes>"
      ]
     },
     "metadata": {},
     "output_type": "display_data"
    }
   ],
   "source": [
    "plt.plot(range(1,18), wcss)\n",
    "plt.title('Elbow Method')\n",
    "plt.xlabel('Number of Clusters')\n",
    "plt.ylabel('Clustering score')"
   ]
  },
  {
   "cell_type": "markdown",
   "metadata": {},
   "source": [
    "As we have seen the optimal n_cluster =4"
   ]
  },
  {
   "cell_type": "markdown",
   "metadata": {},
   "source": [
    "## CREATE THE CLUSTER WITH OPTIMAL N_CLUSTER"
   ]
  },
  {
   "cell_type": "code",
   "execution_count": 93,
   "metadata": {},
   "outputs": [
    {
     "data": {
      "text/plain": [
       "KMeans(algorithm='auto', copy_x=True, init='k-means++', max_iter=300,\n",
       "       n_clusters=4, n_init=10, n_jobs=None, precompute_distances='auto',\n",
       "       random_state=42, tol=0.0001, verbose=0)"
      ]
     },
     "execution_count": 93,
     "metadata": {},
     "output_type": "execute_result"
    }
   ],
   "source": [
    "clustering = KMeans(n_clusters=4, max_iter=300, random_state=42)\n",
    "clustering.fit(df)"
   ]
  },
  {
   "cell_type": "code",
   "execution_count": 94,
   "metadata": {},
   "outputs": [
    {
     "data": {
      "text/html": [
       "<div>\n",
       "<style scoped>\n",
       "    .dataframe tbody tr th:only-of-type {\n",
       "        vertical-align: middle;\n",
       "    }\n",
       "\n",
       "    .dataframe tbody tr th {\n",
       "        vertical-align: top;\n",
       "    }\n",
       "\n",
       "    .dataframe thead th {\n",
       "        text-align: right;\n",
       "    }\n",
       "</style>\n",
       "<table border=\"1\" class=\"dataframe\">\n",
       "  <thead>\n",
       "    <tr style=\"text-align: right;\">\n",
       "      <th></th>\n",
       "      <th>0</th>\n",
       "      <th>1</th>\n",
       "      <th>2</th>\n",
       "      <th>3</th>\n",
       "      <th>4</th>\n",
       "      <th>5</th>\n",
       "      <th>6</th>\n",
       "      <th>7</th>\n",
       "      <th>8</th>\n",
       "      <th>9</th>\n",
       "      <th>...</th>\n",
       "      <th>ORDEN_NÚMERO</th>\n",
       "      <th>CANTIDAD_PEDIDA</th>\n",
       "      <th>CANTIDAD_RECIBIDA</th>\n",
       "      <th>PRECIO_UNITARIO</th>\n",
       "      <th>PRECIO_UNITARIO_+_IVA</th>\n",
       "      <th>IVA</th>\n",
       "      <th>TOTAL_+_IVA</th>\n",
       "      <th>DURACIÓN_ENTREGA</th>\n",
       "      <th>DURACIÓN_APROBACIÓN</th>\n",
       "      <th>KMeans_Cluster</th>\n",
       "    </tr>\n",
       "  </thead>\n",
       "  <tbody>\n",
       "    <tr>\n",
       "      <th>0</th>\n",
       "      <td>0.0</td>\n",
       "      <td>0.0</td>\n",
       "      <td>0.0</td>\n",
       "      <td>0.0</td>\n",
       "      <td>0.0</td>\n",
       "      <td>0.0</td>\n",
       "      <td>0.0</td>\n",
       "      <td>0.0</td>\n",
       "      <td>0.0</td>\n",
       "      <td>0.0</td>\n",
       "      <td>...</td>\n",
       "      <td>8.570006e-07</td>\n",
       "      <td>0.000029</td>\n",
       "      <td>0.000029</td>\n",
       "      <td>0.009998</td>\n",
       "      <td>0.009998</td>\n",
       "      <td>0.000000</td>\n",
       "      <td>0.999834</td>\n",
       "      <td>0.0</td>\n",
       "      <td>0.000000</td>\n",
       "      <td>3</td>\n",
       "    </tr>\n",
       "    <tr>\n",
       "      <th>1</th>\n",
       "      <td>0.0</td>\n",
       "      <td>0.0</td>\n",
       "      <td>0.0</td>\n",
       "      <td>0.0</td>\n",
       "      <td>0.0</td>\n",
       "      <td>0.0</td>\n",
       "      <td>0.0</td>\n",
       "      <td>0.0</td>\n",
       "      <td>0.0</td>\n",
       "      <td>0.0</td>\n",
       "      <td>...</td>\n",
       "      <td>5.621736e-06</td>\n",
       "      <td>0.000028</td>\n",
       "      <td>0.000000</td>\n",
       "      <td>0.098380</td>\n",
       "      <td>0.098380</td>\n",
       "      <td>0.000000</td>\n",
       "      <td>0.983804</td>\n",
       "      <td>0.0</td>\n",
       "      <td>0.000011</td>\n",
       "      <td>3</td>\n",
       "    </tr>\n",
       "    <tr>\n",
       "      <th>2</th>\n",
       "      <td>0.0</td>\n",
       "      <td>0.0</td>\n",
       "      <td>0.0</td>\n",
       "      <td>0.0</td>\n",
       "      <td>0.0</td>\n",
       "      <td>0.0</td>\n",
       "      <td>0.0</td>\n",
       "      <td>0.0</td>\n",
       "      <td>0.0</td>\n",
       "      <td>0.0</td>\n",
       "      <td>...</td>\n",
       "      <td>1.120231e-05</td>\n",
       "      <td>0.000022</td>\n",
       "      <td>0.000000</td>\n",
       "      <td>0.229647</td>\n",
       "      <td>0.229647</td>\n",
       "      <td>0.000000</td>\n",
       "      <td>0.918589</td>\n",
       "      <td>0.0</td>\n",
       "      <td>0.000022</td>\n",
       "      <td>3</td>\n",
       "    </tr>\n",
       "    <tr>\n",
       "      <th>3</th>\n",
       "      <td>0.0</td>\n",
       "      <td>0.0</td>\n",
       "      <td>0.0</td>\n",
       "      <td>0.0</td>\n",
       "      <td>0.0</td>\n",
       "      <td>0.0</td>\n",
       "      <td>0.0</td>\n",
       "      <td>0.0</td>\n",
       "      <td>0.0</td>\n",
       "      <td>0.0</td>\n",
       "      <td>...</td>\n",
       "      <td>5.368937e-06</td>\n",
       "      <td>0.000027</td>\n",
       "      <td>0.000027</td>\n",
       "      <td>0.187913</td>\n",
       "      <td>0.187913</td>\n",
       "      <td>0.000000</td>\n",
       "      <td>0.939564</td>\n",
       "      <td>0.0</td>\n",
       "      <td>0.000000</td>\n",
       "      <td>3</td>\n",
       "    </tr>\n",
       "    <tr>\n",
       "      <th>4</th>\n",
       "      <td>0.0</td>\n",
       "      <td>1.0</td>\n",
       "      <td>0.0</td>\n",
       "      <td>0.0</td>\n",
       "      <td>0.0</td>\n",
       "      <td>0.0</td>\n",
       "      <td>0.0</td>\n",
       "      <td>0.0</td>\n",
       "      <td>0.0</td>\n",
       "      <td>0.0</td>\n",
       "      <td>...</td>\n",
       "      <td>6.267798e-06</td>\n",
       "      <td>0.000013</td>\n",
       "      <td>0.000013</td>\n",
       "      <td>0.350997</td>\n",
       "      <td>0.417686</td>\n",
       "      <td>0.066689</td>\n",
       "      <td>0.835372</td>\n",
       "      <td>0.0</td>\n",
       "      <td>0.000000</td>\n",
       "      <td>3</td>\n",
       "    </tr>\n",
       "  </tbody>\n",
       "</table>\n",
       "<p>5 rows × 262 columns</p>\n",
       "</div>"
      ],
      "text/plain": [
       "     0    1    2    3    4    5    6    7    8    9  ...  ORDEN_NÚMERO  \\\n",
       "0  0.0  0.0  0.0  0.0  0.0  0.0  0.0  0.0  0.0  0.0  ...  8.570006e-07   \n",
       "1  0.0  0.0  0.0  0.0  0.0  0.0  0.0  0.0  0.0  0.0  ...  5.621736e-06   \n",
       "2  0.0  0.0  0.0  0.0  0.0  0.0  0.0  0.0  0.0  0.0  ...  1.120231e-05   \n",
       "3  0.0  0.0  0.0  0.0  0.0  0.0  0.0  0.0  0.0  0.0  ...  5.368937e-06   \n",
       "4  0.0  1.0  0.0  0.0  0.0  0.0  0.0  0.0  0.0  0.0  ...  6.267798e-06   \n",
       "\n",
       "   CANTIDAD_PEDIDA  CANTIDAD_RECIBIDA  PRECIO_UNITARIO  PRECIO_UNITARIO_+_IVA  \\\n",
       "0         0.000029           0.000029         0.009998               0.009998   \n",
       "1         0.000028           0.000000         0.098380               0.098380   \n",
       "2         0.000022           0.000000         0.229647               0.229647   \n",
       "3         0.000027           0.000027         0.187913               0.187913   \n",
       "4         0.000013           0.000013         0.350997               0.417686   \n",
       "\n",
       "        IVA  TOTAL_+_IVA  DURACIÓN_ENTREGA  DURACIÓN_APROBACIÓN  \\\n",
       "0  0.000000     0.999834               0.0             0.000000   \n",
       "1  0.000000     0.983804               0.0             0.000011   \n",
       "2  0.000000     0.918589               0.0             0.000022   \n",
       "3  0.000000     0.939564               0.0             0.000000   \n",
       "4  0.066689     0.835372               0.0             0.000000   \n",
       "\n",
       "   KMeans_Cluster  \n",
       "0               3  \n",
       "1               3  \n",
       "2               3  \n",
       "3               3  \n",
       "4               3  \n",
       "\n",
       "[5 rows x 262 columns]"
      ]
     },
     "execution_count": 94,
     "metadata": {},
     "output_type": "execute_result"
    }
   ],
   "source": [
    "df['KMeans_Cluster'] = clustering.labels_\n",
    "df.head()"
   ]
  },
  {
   "cell_type": "markdown",
   "metadata": {},
   "source": [
    "## CLUSTER CENTERS"
   ]
  },
  {
   "cell_type": "code",
   "execution_count": 100,
   "metadata": {},
   "outputs": [
    {
     "data": {
      "text/plain": [
       "array([[ 2.01342282e-02,  4.96644295e-01,  6.71140940e-03, ...,\n",
       "         8.13416980e-04,  3.24689135e-02,  2.22044605e-15],\n",
       "       [-5.20417043e-18, -2.77555756e-16, -1.11022302e-16, ...,\n",
       "         4.89412561e-04,  7.24038540e-04,  3.00000000e+00],\n",
       "       [-5.20417043e-18,  2.54237288e-02,  8.47457627e-03, ...,\n",
       "         3.55171986e-05,  1.37258828e-04,  2.00000000e+00],\n",
       "       [-4.33680869e-18,  2.70270270e-02,  3.24324324e-01, ...,\n",
       "         2.89107525e-06,  7.93465999e-06,  1.00000000e+00]])"
      ]
     },
     "execution_count": 100,
     "metadata": {},
     "output_type": "execute_result"
    }
   ],
   "source": [
    "clustering.cluster_centers_"
   ]
  },
  {
   "cell_type": "markdown",
   "metadata": {},
   "source": [
    "## METRICS"
   ]
  },
  {
   "cell_type": "markdown",
   "metadata": {},
   "source": [
    "## PCA TO TAKE A LOOK OF THE CLUSTER"
   ]
  },
  {
   "cell_type": "code",
   "execution_count": 95,
   "metadata": {},
   "outputs": [],
   "source": [
    "from sklearn.decomposition import  PCA"
   ]
  },
  {
   "cell_type": "code",
   "execution_count": 96,
   "metadata": {},
   "outputs": [
    {
     "data": {
      "text/html": [
       "<div>\n",
       "<style scoped>\n",
       "    .dataframe tbody tr th:only-of-type {\n",
       "        vertical-align: middle;\n",
       "    }\n",
       "\n",
       "    .dataframe tbody tr th {\n",
       "        vertical-align: top;\n",
       "    }\n",
       "\n",
       "    .dataframe thead th {\n",
       "        text-align: right;\n",
       "    }\n",
       "</style>\n",
       "<table border=\"1\" class=\"dataframe\">\n",
       "  <thead>\n",
       "    <tr style=\"text-align: right;\">\n",
       "      <th></th>\n",
       "      <th>Component_1</th>\n",
       "      <th>Component_2</th>\n",
       "      <th>KMeans_Cluster</th>\n",
       "    </tr>\n",
       "  </thead>\n",
       "  <tbody>\n",
       "    <tr>\n",
       "      <th>0</th>\n",
       "      <td>1.857612</td>\n",
       "      <td>0.443349</td>\n",
       "      <td>3</td>\n",
       "    </tr>\n",
       "    <tr>\n",
       "      <th>1</th>\n",
       "      <td>1.643622</td>\n",
       "      <td>0.425556</td>\n",
       "      <td>3</td>\n",
       "    </tr>\n",
       "    <tr>\n",
       "      <th>2</th>\n",
       "      <td>1.621061</td>\n",
       "      <td>0.383403</td>\n",
       "      <td>3</td>\n",
       "    </tr>\n",
       "    <tr>\n",
       "      <th>3</th>\n",
       "      <td>1.833414</td>\n",
       "      <td>0.376092</td>\n",
       "      <td>3</td>\n",
       "    </tr>\n",
       "    <tr>\n",
       "      <th>4</th>\n",
       "      <td>1.666882</td>\n",
       "      <td>0.351238</td>\n",
       "      <td>3</td>\n",
       "    </tr>\n",
       "    <tr>\n",
       "      <th>...</th>\n",
       "      <td>...</td>\n",
       "      <td>...</td>\n",
       "      <td>...</td>\n",
       "    </tr>\n",
       "    <tr>\n",
       "      <th>494</th>\n",
       "      <td>1.105955</td>\n",
       "      <td>-0.218828</td>\n",
       "      <td>2</td>\n",
       "    </tr>\n",
       "    <tr>\n",
       "      <th>495</th>\n",
       "      <td>1.105955</td>\n",
       "      <td>-0.218823</td>\n",
       "      <td>2</td>\n",
       "    </tr>\n",
       "    <tr>\n",
       "      <th>496</th>\n",
       "      <td>1.105955</td>\n",
       "      <td>-0.218818</td>\n",
       "      <td>2</td>\n",
       "    </tr>\n",
       "    <tr>\n",
       "      <th>497</th>\n",
       "      <td>1.105955</td>\n",
       "      <td>-0.218813</td>\n",
       "      <td>2</td>\n",
       "    </tr>\n",
       "    <tr>\n",
       "      <th>498</th>\n",
       "      <td>0.665792</td>\n",
       "      <td>-0.631150</td>\n",
       "      <td>2</td>\n",
       "    </tr>\n",
       "  </tbody>\n",
       "</table>\n",
       "<p>499 rows × 3 columns</p>\n",
       "</div>"
      ],
      "text/plain": [
       "     Component_1  Component_2  KMeans_Cluster\n",
       "0       1.857612     0.443349               3\n",
       "1       1.643622     0.425556               3\n",
       "2       1.621061     0.383403               3\n",
       "3       1.833414     0.376092               3\n",
       "4       1.666882     0.351238               3\n",
       "..           ...          ...             ...\n",
       "494     1.105955    -0.218828               2\n",
       "495     1.105955    -0.218823               2\n",
       "496     1.105955    -0.218818               2\n",
       "497     1.105955    -0.218813               2\n",
       "498     0.665792    -0.631150               2\n",
       "\n",
       "[499 rows x 3 columns]"
      ]
     },
     "execution_count": 96,
     "metadata": {},
     "output_type": "execute_result"
    }
   ],
   "source": [
    "pca = PCA(n_components=2)\n",
    "pca_fit = pca.fit_transform(df)\n",
    "pca_df = pd.DataFrame(data=pca_fit, columns=['Component_1', 'Component_2'])\n",
    "pca_nombres = pd.concat([pca_df, df[['KMeans_Cluster']]], axis=1)\n",
    "\n",
    "pca_nombres"
   ]
  },
  {
   "cell_type": "code",
   "execution_count": 97,
   "metadata": {},
   "outputs": [
    {
     "data": {
      "text/plain": [
       "<matplotlib.axes._subplots.AxesSubplot at 0x1b90b4932c8>"
      ]
     },
     "execution_count": 97,
     "metadata": {},
     "output_type": "execute_result"
    },
    {
     "data": {
      "image/png": "[encoded data removed]",
      "text/plain": [
       "<Figure size 1080x432 with 2 Axes>"
      ]
     },
     "metadata": {},
     "output_type": "display_data"
    }
   ],
   "source": [
    "pca_nombres.plot.scatter(x='Component_1', y='Component_2', c='KMeans_Cluster',cmap='coolwarm', figsize=(15, 6))"
   ]
  },
  {
   "cell_type": "code",
   "execution_count": 98,
   "metadata": {},
   "outputs": [
    {
     "data": {
      "application/vnd.plotly.v1+json": {
       "config": {
        "plotlyServerURL": "https://plot.ly"
       },
       "data": [
        {
         "hovertemplate": "Component_1=%{x}<br>Component_2=%{y}<br>KMeans_Cluster=%{marker.color}<extra></extra>",
         "legendgroup": "",
         "marker": {
          "color": [
           3,
           3,
           3,
           3,
           3,
           3,
           2,
           2,
           2,
           2,
           2,
           2,
           2,
           2,
           2,
           2,
           2,
           2,
           2,
           2,
           2,
           2,
           2,
           2,
           2,
           2,
           2,
           2,
           2,
           2,
           2,
           2,
           2,
           2,
           2,
           2,
           2,
           2,
           2,
           2,
           2,
           2,
           2,
           2,
           2,
           2,
           2,
           2,
           2,
           2,
           2,
           2,
           2,
           2,
           2,
           2,
           2,
           2,
           2,
           2,
           2,
           3,
           3,
           3,
           3,
           3,
           3,
           3,
           3,
           3,
           3,
           3,
           3,
           3,
           3,
           3,
           3,
           3,
           3,
           3,
           3,
           3,
           3,
           3,
           3,
           3,
           3,
           3,
           3,
           3,
           3,
           3,
           3,
           3,
           3,
           3,
           3,
           3,
           3,
           3,
           3,
           3,
           3,
           3,
           3,
           3,
           3,
           3,
           3,
           3,
           3,
           3,
           3,
           3,
           3,
           3,
           3,
           3,
           3,
           3,
           3,
           3,
           3,
           3,
           3,
           3,
           3,
           3,
           3,
           0,
           0,
           0,
           0,
           0,
           0,
           0,
           0,
           0,
           0,
           0,
           0,
           0,
           0,
           0,
           0,
           0,
           0,
           0,
           0,
           0,
           0,
           0,
           0,
           0,
           0,
           0,
           0,
           0,
           0,
           0,
           0,
           0,
           0,
           0,
           0,
           0,
           0,
           0,
           0,
           0,
           0,
           2,
           0,
           0,
           0,
           2,
           0,
           1,
           0,
           0,
           0,
           0,
           0,
           0,
           0,
           0,
           0,
           0,
           0,
           0,
           0,
           0,
           0,
           0,
           0,
           0,
           0,
           0,
           0,
           0,
           0,
           1,
           1,
           1,
           0,
           1,
           1,
           1,
           0,
           1,
           1,
           1,
           1,
           0,
           0,
           1,
           1,
           0,
           0,
           1,
           1,
           1,
           0,
           0,
           1,
           1,
           1,
           1,
           1,
           0,
           1,
           1,
           1,
           1,
           1,
           1,
           1,
           0,
           0,
           0,
           0,
           0,
           0,
           0,
           1,
           1,
           1,
           0,
           1,
           1,
           0,
           1,
           1,
           1,
           0,
           1,
           0,
           0,
           1,
           1,
           1,
           0,
           0,
           0,
           0,
           0,
           1,
           0,
           1,
           1,
           0,
           1,
           1,
           1,
           1,
           1,
           1,
           0,
           1,
           0,
           1,
           0,
           0,
           0,
           0,
           0,
           1,
           1,
           0,
           1,
           1,
           0,
           0,
           0,
           0,
           1,
           0,
           1,
           1,
           1,
           1,
           1,
           0,
           1,
           1,
           1,
           0,
           1,
           1,
           1,
           0,
           0,
           1,
           0,
           1,
           1,
           0,
           0,
           0,
           0,
           0,
           0,
           0,
           0,
           0,
           1,
           0,
           1,
           1,
           1,
           1,
           1,
           1,
           1,
           1,
           0,
           0,
           1,
           0,
           1,
           1,
           0,
           1,
           0,
           1,
           1,
           0,
           0,
           1,
           1,
           0,
           1,
           1,
           0,
           1,
           0,
           0,
           0,
           0,
           0,
           1,
           0,
           1,
           0,
           1,
           1,
           0,
           0,
           1,
           1,
           1,
           1,
           1,
           0,
           0,
           0,
           1,
           1,
           0,
           1,
           1,
           0,
           1,
           1,
           1,
           0,
           1,
           1,
           1,
           1,
           1,
           1,
           1,
           1,
           1,
           1,
           1,
           1,
           1,
           1,
           1,
           1,
           1,
           1,
           1,
           1,
           1,
           1,
           1,
           1,
           1,
           1,
           1,
           1,
           1,
           1,
           1,
           1,
           1,
           1,
           1,
           1,
           1,
           1,
           1,
           1,
           1,
           1,
           1,
           1,
           1,
           1,
           1,
           1,
           1,
           1,
           1,
           1,
           2,
           2,
           2,
           2,
           2,
           2,
           2,
           2,
           2,
           2,
           2,
           2,
           2,
           2,
           2,
           2,
           2,
           2,
           2,
           2,
           2,
           2,
           2,
           2,
           2,
           2,
           2,
           2,
           2,
           2,
           2,
           2,
           2,
           2,
           2,
           2,
           2,
           2,
           2,
           2,
           2,
           2,
           2,
           2,
           2,
           2,
           2,
           2,
           2,
           2,
           2,
           2,
           2,
           2,
           2,
           2,
           2,
           2,
           2,
           2,
           2
          ],
          "coloraxis": "coloraxis",
          "symbol": "circle"
         },
         "mode": "markers",
         "name": "",
         "orientation": "v",
         "showlegend": false,
         "type": "scatter",
         "x": [
          1.8576124447926434,
          1.6436222656221682,
          1.621060897895876,
          1.8334140825352114,
          1.6668822891760378,
          1.6369776779891057,
          0.9256224086360162,
          1.02452262544847,
          1.0118049891730783,
          1.013084293111129,
          1.0133605867283395,
          0.8759289017691256,
          0.6536100203339504,
          0.9464712667742392,
          0.932790086332695,
          0.913654989741556,
          0.9720616447555278,
          0.8792921209438326,
          0.8881772153844145,
          0.9262575723651646,
          1.1508718503503539,
          1.1520684876754361,
          1.1562118473786418,
          1.1012805390051428,
          1.096426610922804,
          1.085352616963146,
          1.1723951921048295,
          1.093413594877767,
          1.1517109819138927,
          1.1670163274977303,
          1.0890462907604659,
          1.1420195648712432,
          1.1505832596586767,
          1.0893625682567643,
          0.8997996453962476,
          1.107596266356614,
          1.1520762855285942,
          1.0870987724524324,
          0.8651212647491363,
          0.8280364130814726,
          1.406881229800052,
          1.3690388945613523,
          1.359117989269388,
          1.368672424156346,
          1.3648558542938993,
          1.3687234356623026,
          1.3698782668592564,
          1.3549755166417363,
          1.2513511513481579,
          1.2471299299581744,
          1.24642962248549,
          1.2470824463211234,
          1.2442097122268223,
          1.240710451817289,
          1.248618810269383,
          1.2501833292581153,
          1.2519883727536067,
          1.2495642807950862,
          1.2471299299581697,
          1.2501913261322228,
          1.254125162103266,
          1.8893273201589584,
          2.1698097151310036,
          1.8694701200380135,
          1.8822626489047523,
          1.957951227441955,
          1.8130293027948459,
          2.135864706895628,
          2.4258256265590785,
          2.4159157468256964,
          2.4181850298762932,
          1.9842553031336057,
          2.220230477038821,
          2.210057142913055,
          2.220182729311308,
          2.2153718782644227,
          2.2100571467442554,
          2.42554222547087,
          2.4132124218492708,
          2.4155449938604403,
          2.4181850498552047,
          2.4157614636282987,
          2.198603471067227,
          2.187361007023011,
          2.1358202090346503,
          2.351552803234911,
          2.2090289402468937,
          2.351543061261123,
          2.2198389349389687,
          2.2152610648124744,
          2.4185619272959955,
          2.415919039733316,
          2.4132025626012763,
          2.334561546116708,
          2.198419592952699,
          2.202888144558967,
          2.334171084315146,
          2.40570259141439,
          2.398680290176605,
          2.401266165725012,
          2.3985900352403244,
          2.1929877707568486,
          2.3349620321746243,
          2.3286342835867564,
          2.2028697172521503,
          2.181326378626676,
          2.1813263798792293,
          2.3349378856449525,
          2.4086179225762625,
          2.3327098179567796,
          2.1326360522524914,
          2.266170811016182,
          2.3349626850009955,
          2.3286349737919543,
          2.3161944137583172,
          2.314761994155752,
          2.380573393675594,
          2.390598494173201,
          2.3773384645609026,
          1.9511009391575187,
          2.180529286571189,
          2.380695596551633,
          2.3807220587951976,
          2.3780493078070313,
          2.184921911285472,
          2.301551018950299,
          2.3804812354549423,
          2.314694067250827,
          2.2152612034823087,
          -1.2923860960022984,
          -1.2410175442627165,
          -1.5169129242845651,
          -1.3464807281231694,
          -1.1654672286378678,
          -0.9438287694292933,
          -1.5168982463574003,
          -0.9439207386817047,
          -1.3925607397042228,
          -1.203882346529668,
          -1.1466106891717507,
          -1.5826455948907385,
          -1.5168899120992732,
          -1.2411323818228397,
          -1.7636899341150005,
          -1.5671906428325173,
          -1.5483118471490793,
          -1.489458094057226,
          -1.4503097470420263,
          -1.7636975179540726,
          -0.9439750116179535,
          -1.7636976491922658,
          -1.5720205774336489,
          -1.5094405619991038,
          -1.4934481412744938,
          -1.479720130381236,
          -1.422198041581885,
          -1.070898260232449,
          -1.7004834400510256,
          -1.2977952256343455,
          -1.3243697706536353,
          -1.2495952831044996,
          -1.1709226928620042,
          -1.0709063630946947,
          -1.6726732143271326,
          -1.745931582522977,
          -1.4502584793023827,
          -1.7004741400652752,
          -1.7270531061048775,
          -0.9440216116510242,
          -1.4037935237683778,
          -1.5736075621744732,
          0.3560423107448671,
          -1.35850997384958,
          -1.3842004179078655,
          -1.7256682144661684,
          0.5347897588257877,
          -1.2152702877411217,
          -0.6522983535232272,
          -1.4351906548189781,
          -1.761563975411792,
          -1.5736070112737144,
          -1.4939091437408598,
          -1.4830201254710393,
          -1.48936485220237,
          -1.3499206813325788,
          -1.4036861991368588,
          -1.6522666506185766,
          -0.8208924142380088,
          -1.5736062401027533,
          -1.246981979946158,
          -1.6855185014580962,
          -1.6617404613071143,
          -1.7270451767290373,
          -1.2405775744630492,
          -1.6522608058316983,
          -1.759356439946543,
          -1.668289300532528,
          -1.5000399189408433,
          -1.2373364150358195,
          -1.4648930088609735,
          -1.444691270986626,
          -0.5630427191193845,
          -0.3519531324038813,
          -0.3288931848303266,
          -0.9736770407828927,
          -0.563046149487462,
          -0.11853688936504593,
          -0.13425734959000854,
          -1.4007581771292745,
          -0.5630472768671643,
          -0.5419302768460947,
          -0.56304733568502,
          -0.5435333677225593,
          -1.3360820465456293,
          -1.400813993874164,
          -0.6929723283486189,
          -0.5211786379995352,
          -1.7483588050875176,
          -1.2247436652011632,
          -0.6828472143975115,
          -0.5396311080606283,
          -0.5259795250141637,
          -1.1544783550583402,
          -1.7138041871562348,
          -0.5205782859666027,
          -0.7233022292167887,
          -0.3429177582712853,
          -0.3670100654390142,
          -0.749594122072637,
          -1.4579462792087663,
          -0.2662025984378779,
          -0.6688884559680897,
          -0.11897695586753004,
          -0.2813308552827515,
          -0.6845317062750338,
          -0.5114557717212063,
          -0.34662203753976706,
          -0.9604637614777846,
          -1.419155883774134,
          -1.7274603268481055,
          -1.3866717126541785,
          -1.147584768744059,
          -1.447442864304157,
          -1.533631152437704,
          -0.5084488629662748,
          -0.669079919068006,
          -0.5139416705363778,
          -1.7365151701632742,
          -0.061706078324508216,
          -0.05298171100639584,
          -1.5514807140865134,
          -0.5650835171330756,
          -0.7477959126518091,
          -0.5329501031270218,
          -1.766243086364364,
          -0.5329497390052268,
          -1.7662438698865017,
          -1.728365238975576,
          -0.5627984560488833,
          -0.563621256103353,
          -0.6554778700123657,
          -1.6965978858065032,
          -1.7152575630967655,
          -1.4997232555377022,
          -1.5152109575328159,
          -1.480196510471194,
          -0.6813968696003516,
          -1.2896608283935935,
          -0.08454146559158353,
          -0.15156209166459408,
          -1.2355614667309245,
          -0.2757202346202795,
          -0.2870546617295633,
          -0.7332339266651136,
          -0.26305159153251473,
          -0.49732089139167057,
          -0.6707974190103637,
          -1.6176660975130732,
          -0.6748578136577048,
          -1.6956217907572024,
          -0.27733230301943895,
          -1.2797005139690185,
          -1.2163462645457943,
          -1.4335235005736233,
          -1.2454842809297713,
          -1.7471678671245308,
          -0.4587888229245328,
          -0.26577901497771084,
          -1.2354262506743354,
          -0.7268498530395828,
          -0.26577871779118223,
          -1.2439206757080263,
          -1.255684427327112,
          -1.2390299777033418,
          -1.2293288285752442,
          -0.3356286823581815,
          -1.5001002411169306,
          -0.6213773686963795,
          -0.34826972836455816,
          -0.6214062912781204,
          -0.6214137099554936,
          -0.2581979136952514,
          -1.491123146982331,
          -0.4510793767679309,
          -0.2724633779117864,
          -0.14530983908837863,
          -1.6432437945708671,
          -0.2958294643078528,
          -0.08957698275887171,
          -0.11547268081568317,
          -1.2874913126838285,
          -1.6460015310488445,
          -0.7288773487637918,
          -1.750247572662315,
          -0.4841260646229312,
          -0.45153639933924206,
          -1.3985105766032475,
          -1.7308375668175013,
          -1.5364816531083685,
          -1.7011396900823899,
          -1.649070733365535,
          -1.3363782643862476,
          -1.730591452894432,
          -1.5365319718032835,
          -1.7009529626107276,
          -0.5815792149766069,
          -1.7448965804563221,
          -0.7619266568995235,
          -0.7620067653199069,
          -0.7620064647010776,
          -0.7619255395863134,
          -0.7619252389033707,
          -0.7619249382030069,
          -0.7619973402566543,
          -0.5675314012644374,
          -1.6796511494306936,
          -1.6497072340543828,
          -0.7619230035008834,
          -1.7157891583488707,
          -0.7619525436981702,
          -0.7619221009815124,
          -1.2444597063432112,
          -0.21939301212758677,
          -1.6471411646565988,
          -0.669771313036491,
          -0.7321906709653575,
          -1.6492135492538949,
          -1.274214125920558,
          -0.14048793670860402,
          -0.14111285747169486,
          -1.205302923320001,
          -0.20991486982302007,
          -0.13546820850975275,
          -1.5361323417606318,
          -0.5367437196240933,
          -1.5074984773011855,
          -1.6768991081865932,
          -1.5372241665833215,
          -1.782531462352524,
          -1.2436819390595135,
          -0.24914201298863767,
          -1.1334474180782115,
          -0.7629687382680986,
          -1.7835373938882444,
          -0.23611738917134872,
          -0.2502236760272774,
          -1.523007981325203,
          -1.300864944711255,
          -0.7629597101536483,
          -0.5826114345705082,
          -0.7005546950537466,
          -0.6319868925735517,
          -0.5826064866607817,
          -1.679150555673731,
          -1.6486272868328953,
          -1.5097597740877282,
          -0.6521959502684974,
          -0.7005502884856095,
          -1.5307638402951247,
          -0.6520396704151351,
          -0.5794514644919958,
          -1.6474926475730636,
          -0.6184731828915329,
          -0.6753872076882641,
          -0.6127032162270274,
          -1.6444257034345136,
          -0.5484320826520099,
          -0.5449491356784195,
          -0.5430086541318394,
          -0.6521955307641834,
          -0.272689877121529,
          -0.2810058424521102,
          -0.2150771857185071,
          -0.2633887910253005,
          -0.0995163357686435,
          -0.5787606766275777,
          -0.7331094551004879,
          -0.5227761936669535,
          -0.5155822125755376,
          -0.7098028504395029,
          -0.6392305112043514,
          -0.7098022085321533,
          -0.5990311316914234,
          -0.718120522635459,
          -0.6521953201124437,
          -0.6521953082062428,
          -0.6529012050297115,
          -0.6519947712260619,
          -0.6507229796598262,
          -0.6398176757166077,
          -0.5786469382686564,
          -0.7005004330386682,
          -0.6527488232433564,
          -0.6502655999327843,
          -0.6748453968055601,
          -0.32274704379837976,
          -0.7506759244286647,
          -0.750675565862275,
          -0.6630342625128253,
          -0.49860721992572127,
          -0.5450830153914744,
          -0.540911927878754,
          -0.4950653962831089,
          -0.5580907067972719,
          -0.47599131622585167,
          -0.6508085780128154,
          -0.5159304188362019,
          -0.14287505251907387,
          -0.28046642608389294,
          -0.14285986705481035,
          -0.25202320713371673,
          -0.15532451624911112,
          -0.20017566660057184,
          -0.07884264142712773,
          -0.1428523215177489,
          -0.2804661942206069,
          -0.2721500179063349,
          -0.08665939377362146,
          1.0175056058371967,
          1.0511501081437526,
          1.0501248055152421,
          0.9856559287112047,
          1.0757708847963845,
          1.0501102978343368,
          1.0530304731723505,
          1.035647240188702,
          1.0370973749713104,
          1.244447068147435,
          1.1326361639964175,
          1.0563668420080807,
          1.2444240149261607,
          1.132619823996636,
          1.056360004498146,
          1.1114250848228557,
          1.1308942081471456,
          1.0050205690587566,
          0.8965754667712643,
          0.9160473990040031,
          0.790171442189856,
          1.318732767466453,
          1.2992606230627488,
          1.1820003546466054,
          1.2992605584627268,
          1.3187329092087319,
          1.1820002858117316,
          1.1114225581924744,
          1.1308955852530065,
          1.0050186363317632,
          1.0530018798896255,
          1.0706488056752002,
          1.0904390821692198,
          1.0367903352675945,
          1.0370326288452578,
          1.0305595391644218,
          1.3046218619020782,
          1.3078944913908699,
          1.3050578838743783,
          1.1859713045925717,
          1.30462177324619,
          1.3078945298542106,
          1.3050578305948295,
          1.1968549853099706,
          1.1859711672916267,
          1.304621684599512,
          1.3078945683265355,
          1.3050577773228549,
          1.3046215959620464,
          1.3078946068078467,
          1.3050577240584542,
          1.1968549172410667,
          1.021511833681521,
          1.0370056286994476,
          1.105954710445205,
          1.1059546722857814,
          1.1059546373453908,
          1.1059546118040147,
          1.1059546082623966,
          1.1059545607482548,
          0.6657916381512293
         ],
         "xaxis": "x",
         "y": [
          0.44334854544587476,
          0.4255557513050817,
          0.38340270118501824,
          0.37609216339969814,
          0.35123801218853784,
          0.3162892224551495,
          -1.1325190127155862,
          -1.3524481702930962,
          -1.3962506476679404,
          -1.4216739470357131,
          -1.4242237171307237,
          -0.9561087203606475,
          -0.5265459289312608,
          -0.9076758230615494,
          -1.1913269748173565,
          -0.9451692700356558,
          -1.2181058586904945,
          -0.5863517783188741,
          -0.2510273798084865,
          -1.0398479056063858,
          -1.0434781480158801,
          -1.1565898949316122,
          -1.2043007539320056,
          -0.8843138002414336,
          -0.905177452886225,
          -0.973105210992072,
          -0.7582370442964742,
          -0.9169718022800926,
          -0.9824802174964227,
          -1.1283960935353194,
          -0.9648821682477635,
          -1.2021305238912738,
          -1.168710503707803,
          -0.9303363647792968,
          -0.7310728574364401,
          -0.8387456680872891,
          -1.1559993943147788,
          -0.61792322098145,
          -0.8879007783509961,
          -0.1474411487183309,
          -0.9294936295371079,
          -1.2222319114490596,
          -1.1571683665485613,
          -1.2189812430406617,
          -1.2273381331109516,
          -1.185879210536754,
          -1.183913383217063,
          -1.0871987056173076,
          -0.8100761436415581,
          -0.8057459714735483,
          -0.8369761106761207,
          -0.8125905851505366,
          -0.8145851080243206,
          -0.7718781702679797,
          -0.80961299979897,
          -0.6669247590338535,
          -0.7756431905281369,
          -0.7909736290834118,
          -0.8057459714735399,
          -0.6664036805400563,
          -0.7720848473785463,
          -0.023799595172079222,
          0.6099882166479283,
          0.7965523909920995,
          0.8026186739269593,
          0.8456409548692458,
          0.7459174218354916,
          0.6879769755820693,
          0.7057760537216228,
          0.7009120113050137,
          0.6969486746257327,
          0.5777808048978972,
          0.5645003531509124,
          0.5637536214343025,
          0.5639270636212971,
          0.5600706047341001,
          0.5637536911977199,
          0.7033228945472964,
          0.6992889961506502,
          0.6968704533948485,
          0.6969489688415952,
          0.699224873140881,
          0.5543217655768866,
          0.5435735629175086,
          0.6921250920690454,
          0.6593612056414323,
          0.5632386482325631,
          0.65921196498227,
          0.5598234236058425,
          0.5588384965773185,
          0.7005577180162827,
          0.7009466905180549,
          0.699192981242755,
          0.6438868117241904,
          0.5430467298998594,
          0.5431042993262057,
          0.6373297324497181,
          0.6607020625150105,
          0.6806962939533259,
          0.6796330128024611,
          0.6797085764501755,
          0.5426013694682754,
          0.16813635347091357,
          0.14353110711338216,
          0.5428830030227143,
          0.5337306303885551,
          0.533730658521527,
          0.6435455456727783,
          0.6855815935601136,
          0.6410894864529496,
          -0.02919256827432022,
          0.03177501817129414,
          0.16814543874281865,
          0.14353928514069972,
          0.634527390985579,
          0.6387276999686184,
          0.6765933528203806,
          0.6825981239418345,
          0.6698970437742723,
          0.5606531240807648,
          0.5413321190588904,
          0.6779321654565462,
          0.6782203213975341,
          0.6767925190077345,
          0.5405214677808633,
          0.6314166157569701,
          0.6755865275754591,
          0.6377055026564076,
          0.5588404829002134,
          -0.5252007481884152,
          -1.379957402181925,
          -0.48103027391821523,
          -0.40892880410482135,
          -0.5763426882351124,
          -0.5900906070533182,
          -0.4802230263191188,
          -0.587886515856864,
          -0.26832461269908536,
          -1.2592715643543906,
          -0.5753697551622169,
          -1.0642176208626846,
          -0.4797695120189299,
          -1.3784562432432907,
          -0.8959990609343561,
          -0.47093902957868156,
          -0.49980049497199636,
          -0.9835333724183812,
          -0.23998519950066793,
          -0.8959736535092822,
          -0.5865559450666111,
          -0.895970703970249,
          -1.0344548440889716,
          -0.467924298551857,
          -0.38514968743621675,
          -0.978487296524531,
          -1.2099508017128633,
          -0.5325359149395295,
          -0.21279527437781043,
          -0.39472252431443644,
          -0.5195374591468833,
          -0.4215685517957087,
          -0.2820932776309463,
          -0.5321781123022036,
          -0.21247589977287623,
          -0.30877279417648673,
          -0.23818596707117518,
          -0.21252045294810726,
          -0.33709141446510066,
          -0.5854019112750029,
          -1.087374297418636,
          -0.10006615067278422,
          -0.7831468081249033,
          -0.7905192117789228,
          -0.9544190242620864,
          -0.6408281121576731,
          -0.9447304169175204,
          -1.2435153672835586,
          0.6415007240977957,
          -0.1683424024985683,
          -0.8837916859783135,
          -0.10004880093937508,
          -0.37359194225727327,
          -0.943852875706692,
          -0.4181448558356037,
          -0.22353328833121458,
          -1.0856455268352054,
          -0.23913692442923465,
          -0.5882955147015819,
          -0.10002434084511566,
          -0.2869630100425874,
          -0.1931425834710945,
          -0.7817357095632338,
          -0.33539923499643143,
          -0.41476586429177503,
          -0.2389612421098559,
          -0.87044990837763,
          -0.8209645527578127,
          -0.3482256219704601,
          -0.6985835130184247,
          -0.07672258347749299,
          -0.08089897220578551,
          0.42536675952769804,
          -0.10357354257441702,
          0.21363995861148927,
          -0.9588789694101294,
          0.4256581098411155,
          0.4035848782712002,
          -0.11938916890961199,
          -0.9435018628575436,
          0.42576509688309655,
          0.03335440903844248,
          0.4257748588596045,
          0.035559805931281996,
          -0.7949022963844528,
          -0.9429031240935807,
          1.521416636873676,
          0.5869200141390958,
          -0.6104030301426269,
          -0.053317290485755835,
          1.5583594362260444,
          0.058008803258824605,
          0.31327891890731846,
          -0.7079529165759416,
          -0.56190595972959,
          0.5258755249305975,
          1.4699429193673188,
          -0.09266549149419012,
          0.29869847609963773,
          1.3655354984900432,
          -0.11103709856888791,
          1.3804968029126807,
          1.56251330265456,
          -0.11306733303238063,
          1.3297198872120055,
          1.5065164414822605,
          1.1258888854019986,
          0.7278486280969966,
          -0.9719832902564196,
          -0.02542374949501378,
          -0.6391344410333428,
          -0.9425986376219476,
          -0.7952074914631598,
          -0.8333206733006909,
          -0.8293415680794444,
          1.249933464577495,
          1.6466022119375172,
          1.4152839160304573,
          -0.533054891061016,
          0.3186621605692416,
          0.3340062031257669,
          -0.5296352530657509,
          0.43804271950549656,
          1.6275286407164116,
          1.4072946272875118,
          -0.30905538426142454,
          1.4073017472165081,
          -0.30891213827578956,
          0.0865490215562412,
          0.6670860588120936,
          0.27629638317503896,
          1.2529783512637103,
          -0.03918862565587009,
          0.06805306776376407,
          -0.4824442466095981,
          0.2014182438109726,
          -0.535864243731956,
          1.6496889988918861,
          -0.20875642611226944,
          0.45892788818391234,
          0.5105785546707506,
          -0.8180437192673959,
          1.4641993565583835,
          1.4685722081528951,
          1.6176144152167633,
          0.49938211541570265,
          0.5998253041140855,
          1.207725233334704,
          -0.6015743211839839,
          1.6537890750500435,
          -0.032589354549812585,
          1.473723146990136,
          -0.17960267502891708,
          -0.789706467491508,
          -0.8461243422055369,
          -0.8078914111781856,
          -0.22670501054463826,
          1.4384874790184436,
          1.4747736439533514,
          -0.07158659381270314,
          1.6206784910862322,
          1.4747803174083638,
          -0.8142969265416695,
          -0.0721734185745378,
          -0.08196854016505166,
          -0.09677188037665775,
          0.1316705572276543,
          -0.31784431632215054,
          0.9145678369352603,
          0.7264095984143171,
          0.9136776364447895,
          0.9134501189229995,
          0.4850462022533716,
          -0.2959182435060712,
          0.9881249239436506,
          1.4742930882418128,
          0.5172995146093821,
          -0.6257219464526143,
          1.470349094970706,
          0.4218948869008642,
          0.5510682797092077,
          -0.21107781485303032,
          -0.6080579323723778,
          1.6119263053636275,
          -0.23153593806433442,
          1.4257536924520084,
          0.9817806082009181,
          -0.8283453636466546,
          -0.013085929661671046,
          -0.39927557966132854,
          0.06314591646597194,
          -0.5251121239211534,
          -0.2181940812367269,
          -0.0051367789922977395,
          -0.38705291782744705,
          0.06993827124258764,
          0.727048302894559,
          -0.007017302548759012,
          1.646612237284542,
          1.646561891876098,
          1.646568871854598,
          1.6466400883522723,
          1.6466470683420276,
          1.6466540481819985,
          1.6466041584366524,
          1.4999301033968715,
          -0.5247457726186604,
          -0.601234109308957,
          1.6467027638420377,
          -0.03629973925425282,
          1.6466954519747143,
          1.6467236997736585,
          -0.8181239257216077,
          0.7388895804901713,
          -0.6361299507171464,
          1.2003781368498627,
          1.611013280196749,
          -0.6195677541362599,
          -0.7821669253602737,
          0.5108329122750053,
          0.3005896455574356,
          -0.7929183031089214,
          0.7315824232863155,
          0.48407260269492686,
          -0.46199735344643444,
          0.7647923525226075,
          -0.504453579275044,
          -0.6001540623392594,
          -0.7593868563465356,
          -0.08032851459048032,
          -0.7580271745582081,
          0.7749255556956066,
          -0.6440098877027151,
          1.3503992777336378,
          -0.3690868345440632,
          0.7882268007365744,
          0.4775109576106356,
          -0.42273827488115817,
          -0.4222739512526413,
          1.350871090323399,
          0.43131175890841306,
          0.9399348306378067,
          0.12962578437671346,
          0.4315215223500808,
          -0.8941147577662047,
          -0.8699516665953138,
          -0.7983654330866056,
          0.6447174764357376,
          0.9401212130156383,
          -0.7422418456960148,
          0.6520285696797777,
          0.36057273787514427,
          -0.8732223463186011,
          0.9458150348117842,
          1.6726469604260525,
          0.9042272014584445,
          -0.6096958145728103,
          0.6120460574742668,
          0.6539284404153183,
          0.6958382663823666,
          0.6447278264055304,
          1.4908620253910745,
          1.4925848198803668,
          0.7488849427320243,
          1.0454179461876056,
          0.5340455311102701,
          0.3887151345376371,
          1.3847683428947717,
          0.43736590281410415,
          0.44309648639780663,
          1.386868334675199,
          0.333822292299397,
          1.3868872248135462,
          0.5165528836940677,
          1.3885361053747922,
          0.6447342113723759,
          0.6447345550975099,
          0.6597617454238496,
          0.653231245832471,
          0.6155541270544623,
          0.3726479177163611,
          0.39251833878040915,
          0.941457810495435,
          0.6505572392409519,
          0.641345961609703,
          1.6951989980931768,
          1.4470009626034912,
          1.611154159519665,
          1.611162299103418,
          1.2178993273822707,
          0.7226584540211626,
          0.7095052391229754,
          0.6779879267956604,
          0.725822909380202,
          0.8861146748711671,
          0.7611154033274723,
          1.6733930990338128,
          0.7570700651427982,
          0.5469112791351409,
          1.5151986365612917,
          0.5472590300341916,
          1.4969600374770422,
          0.8115713066369545,
          0.7750296905371272,
          0.5851267043384168,
          0.5476012773405968,
          1.5152055762352856,
          1.5134890539341412,
          0.5911068391473356,
          -0.5801825955130716,
          -1.4176652856854088,
          -1.4525227054372847,
          -1.336143780077189,
          -0.993565562852169,
          -1.452334924718706,
          -1.4361820906627498,
          -1.1631069673058423,
          -1.1855216549719991,
          -1.3422504079494368,
          -0.9656590552574942,
          -0.4336422449780876,
          -1.3418516851962894,
          -0.9654364914348926,
          -0.43312346395669776,
          -1.195796530719247,
          -1.0727964745992316,
          -0.7812980541871882,
          -0.9755243719069681,
          -0.852492911372622,
          -0.5610318010500179,
          -1.0345028722051208,
          -1.1575365774298554,
          -0.5747526880008581,
          -1.1575341939340316,
          -1.0344982430311995,
          -0.5747481125602243,
          -1.1957546715928797,
          -1.0727140650381917,
          -0.7812638100276725,
          -1.4357918105596776,
          -1.29496830903697,
          -0.8172450015888332,
          -1.4298797979813025,
          -1.4324551809620412,
          -1.3470780495493475,
          -1.032410756033123,
          -1.2311720688201107,
          -1.1786251894465842,
          -0.5741898119374216,
          -1.0324060020176151,
          -1.2311713317782653,
          -1.1786230345415292,
          -0.7464435914387646,
          -0.5741802535174184,
          -1.032401247822927,
          -1.2311705945362117,
          -1.1786208794108692,
          -1.0323964934490546,
          -1.2311698570939291,
          -1.1786187240545853,
          -0.7464394077035309,
          -0.18466988788392805,
          -0.39493965747867277,
          -0.21883793090396236,
          -0.21883292380467645,
          -0.2188279152091322,
          -0.21882290256292905,
          -0.2188178804977155,
          -0.21881287700212254,
          -0.6311501979794507
         ],
         "yaxis": "y"
        }
       ],
       "layout": {
        "coloraxis": {
         "colorbar": {
          "title": {
           "text": "KMeans_Cluster"
          }
         },
         "colorscale": [
          [
           0,
           "#440154"
          ],
          [
           0.1111111111111111,
           "#482878"
          ],
          [
           0.2222222222222222,
           "#3e4989"
          ],
          [
           0.3333333333333333,
           "#31688e"
          ],
          [
           0.4444444444444444,
           "#26828e"
          ],
          [
           0.5555555555555556,
           "#1f9e89"
          ],
          [
           0.6666666666666666,
           "#35b779"
          ],
          [
           0.7777777777777778,
           "#6ece58"
          ],
          [
           0.8888888888888888,
           "#b5de2b"
          ],
          [
           1,
           "#fde725"
          ]
         ]
        },
        "legend": {
         "tracegroupgap": 0
        },
        "margin": {
         "t": 60
        },
        "template": {
         "data": {
          "bar": [
           {
            "error_x": {
             "color": "#2a3f5f"
            },
            "error_y": {
             "color": "#2a3f5f"
            },
            "marker": {
             "line": {
              "color": "#E5ECF6",
              "width": 0.5
             },
             "pattern": {
              "fillmode": "overlay",
              "size": 10,
              "solidity": 0.2
             }
            },
            "type": "bar"
           }
          ],
          "barpolar": [
           {
            "marker": {
             "line": {
              "color": "#E5ECF6",
              "width": 0.5
             },
             "pattern": {
              "fillmode": "overlay",
              "size": 10,
              "solidity": 0.2
             }
            },
            "type": "barpolar"
           }
          ],
          "carpet": [
           {
            "aaxis": {
             "endlinecolor": "#2a3f5f",
             "gridcolor": "white",
             "linecolor": "white",
             "minorgridcolor": "white",
             "startlinecolor": "#2a3f5f"
            },
            "baxis": {
             "endlinecolor": "#2a3f5f",
             "gridcolor": "white",
             "linecolor": "white",
             "minorgridcolor": "white",
             "startlinecolor": "#2a3f5f"
            },
            "type": "carpet"
           }
          ],
          "choropleth": [
           {
            "colorbar": {
             "outlinewidth": 0,
             "ticks": ""
            },
            "type": "choropleth"
           }
          ],
          "contour": [
           {
            "colorbar": {
             "outlinewidth": 0,
             "ticks": ""
            },
            "colorscale": [
             [
              0,
              "#0d0887"
             ],
             [
              0.1111111111111111,
              "#46039f"
             ],
             [
              0.2222222222222222,
              "#7201a8"
             ],
             [
              0.3333333333333333,
              "#9c179e"
             ],
             [
              0.4444444444444444,
              "#bd3786"
             ],
             [
              0.5555555555555556,
              "#d8576b"
             ],
             [
              0.6666666666666666,
              "#ed7953"
             ],
             [
              0.7777777777777778,
              "#fb9f3a"
             ],
             [
              0.8888888888888888,
              "#fdca26"
             ],
             [
              1,
              "#f0f921"
             ]
            ],
            "type": "contour"
           }
          ],
          "contourcarpet": [
           {
            "colorbar": {
             "outlinewidth": 0,
             "ticks": ""
            },
            "type": "contourcarpet"
           }
          ],
          "heatmap": [
           {
            "colorbar": {
             "outlinewidth": 0,
             "ticks": ""
            },
            "colorscale": [
             [
              0,
              "#0d0887"
             ],
             [
              0.1111111111111111,
              "#46039f"
             ],
             [
              0.2222222222222222,
              "#7201a8"
             ],
             [
              0.3333333333333333,
              "#9c179e"
             ],
             [
              0.4444444444444444,
              "#bd3786"
             ],
             [
              0.5555555555555556,
              "#d8576b"
             ],
             [
              0.6666666666666666,
              "#ed7953"
             ],
             [
              0.7777777777777778,
              "#fb9f3a"
             ],
             [
              0.8888888888888888,
              "#fdca26"
             ],
             [
              1,
              "#f0f921"
             ]
            ],
            "type": "heatmap"
           }
          ],
          "heatmapgl": [
           {
            "colorbar": {
             "outlinewidth": 0,
             "ticks": ""
            },
            "colorscale": [
             [
              0,
              "#0d0887"
             ],
             [
              0.1111111111111111,
              "#46039f"
             ],
             [
              0.2222222222222222,
              "#7201a8"
             ],
             [
              0.3333333333333333,
              "#9c179e"
             ],
             [
              0.4444444444444444,
              "#bd3786"
             ],
             [
              0.5555555555555556,
              "#d8576b"
             ],
             [
              0.6666666666666666,
              "#ed7953"
             ],
             [
              0.7777777777777778,
              "#fb9f3a"
             ],
             [
              0.8888888888888888,
              "#fdca26"
             ],
             [
              1,
              "#f0f921"
             ]
            ],
            "type": "heatmapgl"
           }
          ],
          "histogram": [
           {
            "marker": {
             "pattern": {
              "fillmode": "overlay",
              "size": 10,
              "solidity": 0.2
             }
            },
            "type": "histogram"
           }
          ],
          "histogram2d": [
           {
            "colorbar": {
             "outlinewidth": 0,
             "ticks": ""
            },
            "colorscale": [
             [
              0,
              "#0d0887"
             ],
             [
              0.1111111111111111,
              "#46039f"
             ],
             [
              0.2222222222222222,
              "#7201a8"
             ],
             [
              0.3333333333333333,
              "#9c179e"
             ],
             [
              0.4444444444444444,
              "#bd3786"
             ],
             [
              0.5555555555555556,
              "#d8576b"
             ],
             [
              0.6666666666666666,
              "#ed7953"
             ],
             [
              0.7777777777777778,
              "#fb9f3a"
             ],
             [
              0.8888888888888888,
              "#fdca26"
             ],
             [
              1,
              "#f0f921"
             ]
            ],
            "type": "histogram2d"
           }
          ],
          "histogram2dcontour": [
           {
            "colorbar": {
             "outlinewidth": 0,
             "ticks": ""
            },
            "colorscale": [
             [
              0,
              "#0d0887"
             ],
             [
              0.1111111111111111,
              "#46039f"
             ],
             [
              0.2222222222222222,
              "#7201a8"
             ],
             [
              0.3333333333333333,
              "#9c179e"
             ],
             [
              0.4444444444444444,
              "#bd3786"
             ],
             [
              0.5555555555555556,
              "#d8576b"
             ],
             [
              0.6666666666666666,
              "#ed7953"
             ],
             [
              0.7777777777777778,
              "#fb9f3a"
             ],
             [
              0.8888888888888888,
              "#fdca26"
             ],
             [
              1,
              "#f0f921"
             ]
            ],
            "type": "histogram2dcontour"
           }
          ],
          "mesh3d": [
           {
            "colorbar": {
             "outlinewidth": 0,
             "ticks": ""
            },
            "type": "mesh3d"
           }
          ],
          "parcoords": [
           {
            "line": {
             "colorbar": {
              "outlinewidth": 0,
              "ticks": ""
             }
            },
            "type": "parcoords"
           }
          ],
          "pie": [
           {
            "automargin": true,
            "type": "pie"
           }
          ],
          "scatter": [
           {
            "marker": {
             "colorbar": {
              "outlinewidth": 0,
              "ticks": ""
             }
            },
            "type": "scatter"
           }
          ],
          "scatter3d": [
           {
            "line": {
             "colorbar": {
              "outlinewidth": 0,
              "ticks": ""
             }
            },
            "marker": {
             "colorbar": {
              "outlinewidth": 0,
              "ticks": ""
             }
            },
            "type": "scatter3d"
           }
          ],
          "scattercarpet": [
           {
            "marker": {
             "colorbar": {
              "outlinewidth": 0,
              "ticks": ""
             }
            },
            "type": "scattercarpet"
           }
          ],
          "scattergeo": [
           {
            "marker": {
             "colorbar": {
              "outlinewidth": 0,
              "ticks": ""
             }
            },
            "type": "scattergeo"
           }
          ],
          "scattergl": [
           {
            "marker": {
             "colorbar": {
              "outlinewidth": 0,
              "ticks": ""
             }
            },
            "type": "scattergl"
           }
          ],
          "scattermapbox": [
           {
            "marker": {
             "colorbar": {
              "outlinewidth": 0,
              "ticks": ""
             }
            },
            "type": "scattermapbox"
           }
          ],
          "scatterpolar": [
           {
            "marker": {
             "colorbar": {
              "outlinewidth": 0,
              "ticks": ""
             }
            },
            "type": "scatterpolar"
           }
          ],
          "scatterpolargl": [
           {
            "marker": {
             "colorbar": {
              "outlinewidth": 0,
              "ticks": ""
             }
            },
            "type": "scatterpolargl"
           }
          ],
          "scatterternary": [
           {
            "marker": {
             "colorbar": {
              "outlinewidth": 0,
              "ticks": ""
             }
            },
            "type": "scatterternary"
           }
          ],
          "surface": [
           {
            "colorbar": {
             "outlinewidth": 0,
             "ticks": ""
            },
            "colorscale": [
             [
              0,
              "#0d0887"
             ],
             [
              0.1111111111111111,
              "#46039f"
             ],
             [
              0.2222222222222222,
              "#7201a8"
             ],
             [
              0.3333333333333333,
              "#9c179e"
             ],
             [
              0.4444444444444444,
              "#bd3786"
             ],
             [
              0.5555555555555556,
              "#d8576b"
             ],
             [
              0.6666666666666666,
              "#ed7953"
             ],
             [
              0.7777777777777778,
              "#fb9f3a"
             ],
             [
              0.8888888888888888,
              "#fdca26"
             ],
             [
              1,
              "#f0f921"
             ]
            ],
            "type": "surface"
           }
          ],
          "table": [
           {
            "cells": {
             "fill": {
              "color": "#EBF0F8"
             },
             "line": {
              "color": "white"
             }
            },
            "header": {
             "fill": {
              "color": "#C8D4E3"
             },
             "line": {
              "color": "white"
             }
            },
            "type": "table"
           }
          ]
         },
         "layout": {
          "annotationdefaults": {
           "arrowcolor": "#2a3f5f",
           "arrowhead": 0,
           "arrowwidth": 1
          },
          "autotypenumbers": "strict",
          "coloraxis": {
           "colorbar": {
            "outlinewidth": 0,
            "ticks": ""
           }
          },
          "colorscale": {
           "diverging": [
            [
             0,
             "#8e0152"
            ],
            [
             0.1,
             "#c51b7d"
            ],
            [
             0.2,
             "#de77ae"
            ],
            [
             0.3,
             "#f1b6da"
            ],
            [
             0.4,
             "#fde0ef"
            ],
            [
             0.5,
             "#f7f7f7"
            ],
            [
             0.6,
             "#e6f5d0"
            ],
            [
             0.7,
             "#b8e186"
            ],
            [
             0.8,
             "#7fbc41"
            ],
            [
             0.9,
             "#4d9221"
            ],
            [
             1,
             "#276419"
            ]
           ],
           "sequential": [
            [
             0,
             "#0d0887"
            ],
            [
             0.1111111111111111,
             "#46039f"
            ],
            [
             0.2222222222222222,
             "#7201a8"
            ],
            [
             0.3333333333333333,
             "#9c179e"
            ],
            [
             0.4444444444444444,
             "#bd3786"
            ],
            [
             0.5555555555555556,
             "#d8576b"
            ],
            [
             0.6666666666666666,
             "#ed7953"
            ],
            [
             0.7777777777777778,
             "#fb9f3a"
            ],
            [
             0.8888888888888888,
             "#fdca26"
            ],
            [
             1,
             "#f0f921"
            ]
           ],
           "sequentialminus": [
            [
             0,
             "#0d0887"
            ],
            [
             0.1111111111111111,
             "#46039f"
            ],
            [
             0.2222222222222222,
             "#7201a8"
            ],
            [
             0.3333333333333333,
             "#9c179e"
            ],
            [
             0.4444444444444444,
             "#bd3786"
            ],
            [
             0.5555555555555556,
             "#d8576b"
            ],
            [
             0.6666666666666666,
             "#ed7953"
            ],
            [
             0.7777777777777778,
             "#fb9f3a"
            ],
            [
             0.8888888888888888,
             "#fdca26"
            ],
            [
             1,
             "#f0f921"
            ]
           ]
          },
          "colorway": [
           "#636efa",
           "#EF553B",
           "#00cc96",
           "#ab63fa",
           "#FFA15A",
           "#19d3f3",
           "#FF6692",
           "#B6E880",
           "#FF97FF",
           "#FECB52"
          ],
          "font": {
           "color": "#2a3f5f"
          },
          "geo": {
           "bgcolor": "white",
           "lakecolor": "white",
           "landcolor": "#E5ECF6",
           "showlakes": true,
           "showland": true,
           "subunitcolor": "white"
          },
          "hoverlabel": {
           "align": "left"
          },
          "hovermode": "closest",
          "mapbox": {
           "style": "light"
          },
          "paper_bgcolor": "white",
          "plot_bgcolor": "#E5ECF6",
          "polar": {
           "angularaxis": {
            "gridcolor": "white",
            "linecolor": "white",
            "ticks": ""
           },
           "bgcolor": "#E5ECF6",
           "radialaxis": {
            "gridcolor": "white",
            "linecolor": "white",
            "ticks": ""
           }
          },
          "scene": {
           "xaxis": {
            "backgroundcolor": "#E5ECF6",
            "gridcolor": "white",
            "gridwidth": 2,
            "linecolor": "white",
            "showbackground": true,
            "ticks": "",
            "zerolinecolor": "white"
           },
           "yaxis": {
            "backgroundcolor": "#E5ECF6",
            "gridcolor": "white",
            "gridwidth": 2,
            "linecolor": "white",
            "showbackground": true,
            "ticks": "",
            "zerolinecolor": "white"
           },
           "zaxis": {
            "backgroundcolor": "#E5ECF6",
            "gridcolor": "white",
            "gridwidth": 2,
            "linecolor": "white",
            "showbackground": true,
            "ticks": "",
            "zerolinecolor": "white"
           }
          },
          "shapedefaults": {
           "line": {
            "color": "#2a3f5f"
           }
          },
          "ternary": {
           "aaxis": {
            "gridcolor": "white",
            "linecolor": "white",
            "ticks": ""
           },
           "baxis": {
            "gridcolor": "white",
            "linecolor": "white",
            "ticks": ""
           },
           "bgcolor": "#E5ECF6",
           "caxis": {
            "gridcolor": "white",
            "linecolor": "white",
            "ticks": ""
           }
          },
          "title": {
           "x": 0.05
          },
          "xaxis": {
           "automargin": true,
           "gridcolor": "white",
           "linecolor": "white",
           "ticks": "",
           "title": {
            "standoff": 15
           },
           "zerolinecolor": "white",
           "zerolinewidth": 2
          },
          "yaxis": {
           "automargin": true,
           "gridcolor": "white",
           "linecolor": "white",
           "ticks": "",
           "title": {
            "standoff": 15
           },
           "zerolinecolor": "white",
           "zerolinewidth": 2
          }
         }
        },
        "xaxis": {
         "anchor": "y",
         "domain": [
          0,
          1
         ],
         "title": {
          "text": "Component_1"
         }
        },
        "yaxis": {
         "anchor": "x",
         "domain": [
          0,
          1
         ],
         "title": {
          "text": "Component_2"
         }
        }
       }
      }
     },
     "metadata": {},
     "output_type": "display_data"
    }
   ],
   "source": [
    "px.scatter(pca_nombres, x=\"Component_1\", y=\"Component_2\", color=\"KMeans_Cluster\", color_continuous_scale=px.colors.sequential.Viridis)"
   ]
  }
 ],
 "metadata": {
  "interpreter": {
   "hash": "c94be41889154d41bf43aca8d1a8d1cd64b97c119170e03e2ed46ca87183f0c5"
  },
  "kernelspec": {
   "display_name": "Python 3.7.6 64-bit ('base': conda)",
   "language": "python",
   "name": "python3"
  },
  "language_info": {
   "codemirror_mode": {
    "name": "ipython",
    "version": 3
   },
   "file_extension": ".py",
   "mimetype": "text/x-python",
   "name": "python",
   "nbconvert_exporter": "python",
   "pygments_lexer": "ipython3",
   "version": "3.7.6"
  },
  "orig_nbformat": 4
 },
 "nbformat": 4,
 "nbformat_minor": 2
}
