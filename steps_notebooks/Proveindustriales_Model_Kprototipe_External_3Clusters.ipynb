{
 "cells": [
  {
   "cell_type": "code",
   "execution_count": 1,
   "metadata": {},
   "outputs": [],
   "source": [
    "import pandas as pd\n",
    "import seaborn as sns\n",
    "import matplotlib.pyplot as plt\n",
    "import seaborn as sns\n",
    "import plotly.express as px\n",
    "\n",
    "# Import module for data visualization\n",
    "from plotnine import *\n",
    "import plotnine\n",
    "# Import module for k-protoype cluster\n",
    "from kmodes.kprototypes import KPrototypes\n",
    "# Ignore warnings\n",
    "import warnings\n",
    "warnings.filterwarnings('ignore', category = FutureWarning)\n",
    "# Format scientific notation from Pandas\n",
    "pd.set_option('display.float_format', lambda x: '%.3f' % x)\n",
    "\n",
    "plt.style.use('ggplot')"
   ]
  },
  {
   "cell_type": "code",
   "execution_count": 55,
   "metadata": {},
   "outputs": [
    {
     "name": "stdout",
     "output_type": "stream",
     "text": [
      "Requirement already satisfied: plotnine in c:\\users\\andre\\anaconda3\\lib\\site-packages (0.8.0)\n",
      "Requirement already satisfied: pandas>=1.1.0 in c:\\users\\andre\\anaconda3\\lib\\site-packages (from plotnine) (1.3.4)\n",
      "Requirement already satisfied: patsy>=0.5.1 in c:\\users\\andre\\anaconda3\\lib\\site-packages (from plotnine) (0.5.2)\n",
      "Requirement already satisfied: scipy>=1.5.0 in c:\\users\\andre\\anaconda3\\lib\\site-packages (from plotnine) (1.7.2)\n",
      "Requirement already satisfied: numpy>=1.19.0 in c:\\users\\andre\\anaconda3\\lib\\site-packages (from plotnine) (1.21.4)\n",
      "Requirement already satisfied: matplotlib>=3.1.1 in c:\\users\\andre\\anaconda3\\lib\\site-packages (from plotnine) (3.1.3)\n",
      "Requirement already satisfied: mizani>=0.7.3 in c:\\users\\andre\\anaconda3\\lib\\site-packages (from plotnine) (0.7.3)\n",
      "Requirement already satisfied: descartes>=1.1.0 in c:\\users\\andre\\anaconda3\\lib\\site-packages (from plotnine) (1.1.0)\n",
      "Requirement already satisfied: statsmodels>=0.12.1 in c:\\users\\andre\\anaconda3\\lib\\site-packages (from plotnine) (0.13.1)\n",
      "Requirement already satisfied: pytz>=2017.3 in c:\\users\\andre\\anaconda3\\lib\\site-packages (from pandas>=1.1.0->plotnine) (2019.3)\n",
      "Requirement already satisfied: python-dateutil>=2.7.3 in c:\\users\\andre\\anaconda3\\lib\\site-packages (from pandas>=1.1.0->plotnine) (2.8.1)\n",
      "Requirement already satisfied: six in c:\\users\\andre\\anaconda3\\lib\\site-packages (from patsy>=0.5.1->plotnine) (1.14.0)\n",
      "Requirement already satisfied: kiwisolver>=1.0.1 in c:\\users\\andre\\anaconda3\\lib\\site-packages (from matplotlib>=3.1.1->plotnine) (1.1.0)\n",
      "Requirement already satisfied: pyparsing!=2.0.4,!=2.1.2,!=2.1.6,>=2.0.1 in c:\\users\\andre\\anaconda3\\lib\\site-packages (from matplotlib>=3.1.1->plotnine) (2.4.6)\n",
      "Requirement already satisfied: cycler>=0.10 in c:\\users\\andre\\anaconda3\\lib\\site-packages (from matplotlib>=3.1.1->plotnine) (0.10.0)\n",
      "Requirement already satisfied: palettable in c:\\users\\andre\\anaconda3\\lib\\site-packages (from mizani>=0.7.3->plotnine) (3.3.0)\n",
      "Requirement already satisfied: setuptools in c:\\users\\andre\\anaconda3\\lib\\site-packages (from kiwisolver>=1.0.1->matplotlib>=3.1.1->plotnine) (45.2.0.post20200210)\n",
      "Note: you may need to restart the kernel to use updated packages.\n"
     ]
    }
   ],
   "source": [
    "pip install plotnine"
   ]
  },
  {
   "cell_type": "code",
   "execution_count": 56,
   "metadata": {},
   "outputs": [],
   "source": [
    "# pip install --upgrade patsy"
   ]
  },
  {
   "cell_type": "markdown",
   "metadata": {},
   "source": [
    "# DATA ACQUISITION"
   ]
  },
  {
   "cell_type": "code",
   "execution_count": 2,
   "metadata": {},
   "outputs": [],
   "source": [
    "df = pd.read_csv('Proveindustriales_Data_Cleaned_Kprototipe_csv.csv')"
   ]
  },
  {
   "cell_type": "code",
   "execution_count": 3,
   "metadata": {},
   "outputs": [
    {
     "data": {
      "text/plain": [
       "Index(['NÚMERO_PEDIDO', 'ORDEN_NÚMERO', 'CATEGORÍA', 'SUBCATEGORÍA',\n",
       "       'PROVEEDOR', 'PRESUPUESTO', 'COMPAÑÍA_COMPRADORA', 'ESTADO',\n",
       "       'PRODUCTO_O_SERVICIO', 'CANTIDAD_PEDIDA', 'CANTIDAD_RECIBIDA',\n",
       "       'PRECIO_UNITARIO', 'PRECIO_UNITARIO_+_IVA', 'IVA', 'TOTAL_SIN_IVA',\n",
       "       'TOTAL_+_IVA', 'FECHA_ÚLTIMO_MOVIMIENTO', 'DURACIÓN_ENTREGA',\n",
       "       'DURACIÓN_APROBACIÓN'],\n",
       "      dtype='object')"
      ]
     },
     "execution_count": 3,
     "metadata": {},
     "output_type": "execute_result"
    }
   ],
   "source": [
    "df.columns"
   ]
  },
  {
   "cell_type": "code",
   "execution_count": 4,
   "metadata": {},
   "outputs": [
    {
     "data": {
      "text/html": [
       "<div>\n",
       "<style scoped>\n",
       "    .dataframe tbody tr th:only-of-type {\n",
       "        vertical-align: middle;\n",
       "    }\n",
       "\n",
       "    .dataframe tbody tr th {\n",
       "        vertical-align: top;\n",
       "    }\n",
       "\n",
       "    .dataframe thead th {\n",
       "        text-align: right;\n",
       "    }\n",
       "</style>\n",
       "<table border=\"1\" class=\"dataframe\">\n",
       "  <thead>\n",
       "    <tr style=\"text-align: right;\">\n",
       "      <th></th>\n",
       "      <th>NÚMERO_PEDIDO</th>\n",
       "      <th>ORDEN_NÚMERO</th>\n",
       "      <th>CATEGORÍA</th>\n",
       "      <th>SUBCATEGORÍA</th>\n",
       "      <th>PROVEEDOR</th>\n",
       "      <th>PRESUPUESTO</th>\n",
       "      <th>COMPAÑÍA_COMPRADORA</th>\n",
       "      <th>ESTADO</th>\n",
       "      <th>PRODUCTO_O_SERVICIO</th>\n",
       "      <th>CANTIDAD_PEDIDA</th>\n",
       "      <th>CANTIDAD_RECIBIDA</th>\n",
       "      <th>PRECIO_UNITARIO</th>\n",
       "      <th>PRECIO_UNITARIO_+_IVA</th>\n",
       "      <th>IVA</th>\n",
       "      <th>TOTAL_SIN_IVA</th>\n",
       "      <th>TOTAL_+_IVA</th>\n",
       "      <th>FECHA_ÚLTIMO_MOVIMIENTO</th>\n",
       "      <th>DURACIÓN_ENTREGA</th>\n",
       "      <th>DURACIÓN_APROBACIÓN</th>\n",
       "    </tr>\n",
       "  </thead>\n",
       "  <tbody>\n",
       "    <tr>\n",
       "      <th>15123</th>\n",
       "      <td>34182</td>\n",
       "      <td>396</td>\n",
       "      <td>Vigilancia y seguridad industrial</td>\n",
       "      <td>Seguridad y protección personal</td>\n",
       "      <td>Proveedor 301</td>\n",
       "      <td>Presupuesto 867</td>\n",
       "      <td>Portal comprador 24</td>\n",
       "      <td>Recibido</td>\n",
       "      <td>8 Bota pvc de seguridad caña alta, dielectrica...</td>\n",
       "      <td>35.000</td>\n",
       "      <td>35.000</td>\n",
       "      <td>38655.000</td>\n",
       "      <td>46000.000</td>\n",
       "      <td>7345</td>\n",
       "      <td>1352941.000</td>\n",
       "      <td>1610000.000</td>\n",
       "      <td>2020-01-24</td>\n",
       "      <td>0.000</td>\n",
       "      <td>43.000</td>\n",
       "    </tr>\n",
       "    <tr>\n",
       "      <th>9605</th>\n",
       "      <td>46015</td>\n",
       "      <td>516</td>\n",
       "      <td>Almacenamiento y empaques</td>\n",
       "      <td>Maquinaria y equipo para manejo de materiales</td>\n",
       "      <td>Proveedor 154</td>\n",
       "      <td>Presupuesto 711</td>\n",
       "      <td>Portal comprador 1</td>\n",
       "      <td>Recibido</td>\n",
       "      <td>Báscula Bernalo KL1R 500 Kg</td>\n",
       "      <td>1.000</td>\n",
       "      <td>1.000</td>\n",
       "      <td>598000.000</td>\n",
       "      <td>711620.000</td>\n",
       "      <td>113620</td>\n",
       "      <td>598000.000</td>\n",
       "      <td>711620.000</td>\n",
       "      <td>2021-01-20</td>\n",
       "      <td>3.000</td>\n",
       "      <td>0.000</td>\n",
       "    </tr>\n",
       "  </tbody>\n",
       "</table>\n",
       "</div>"
      ],
      "text/plain": [
       "       NÚMERO_PEDIDO  ORDEN_NÚMERO                          CATEGORÍA  \\\n",
       "15123          34182           396  Vigilancia y seguridad industrial   \n",
       "9605           46015           516          Almacenamiento y empaques   \n",
       "\n",
       "                                        SUBCATEGORÍA      PROVEEDOR  \\\n",
       "15123                Seguridad y protección personal  Proveedor 301   \n",
       "9605   Maquinaria y equipo para manejo de materiales  Proveedor 154   \n",
       "\n",
       "           PRESUPUESTO  COMPAÑÍA_COMPRADORA    ESTADO  \\\n",
       "15123  Presupuesto 867  Portal comprador 24  Recibido   \n",
       "9605   Presupuesto 711   Portal comprador 1  Recibido   \n",
       "\n",
       "                                     PRODUCTO_O_SERVICIO  CANTIDAD_PEDIDA  \\\n",
       "15123  8 Bota pvc de seguridad caña alta, dielectrica...           35.000   \n",
       "9605                         Báscula Bernalo KL1R 500 Kg            1.000   \n",
       "\n",
       "       CANTIDAD_RECIBIDA  PRECIO_UNITARIO  PRECIO_UNITARIO_+_IVA     IVA  \\\n",
       "15123             35.000        38655.000              46000.000    7345   \n",
       "9605               1.000       598000.000             711620.000  113620   \n",
       "\n",
       "       TOTAL_SIN_IVA  TOTAL_+_IVA FECHA_ÚLTIMO_MOVIMIENTO  DURACIÓN_ENTREGA  \\\n",
       "15123    1352941.000  1610000.000              2020-01-24             0.000   \n",
       "9605      598000.000   711620.000              2021-01-20             3.000   \n",
       "\n",
       "       DURACIÓN_APROBACIÓN  \n",
       "15123               43.000  \n",
       "9605                 0.000  "
      ]
     },
     "execution_count": 4,
     "metadata": {},
     "output_type": "execute_result"
    }
   ],
   "source": [
    "df.sample(2)"
   ]
  },
  {
   "cell_type": "markdown",
   "metadata": {},
   "source": [
    "## IRRELEVANT COLUMNS"
   ]
  },
  {
   "cell_type": "code",
   "execution_count": 5,
   "metadata": {},
   "outputs": [],
   "source": [
    "cols_to_drop = ['FECHA_ÚLTIMO_MOVIMIENTO','DURACIÓN_ENTREGA', 'DURACIÓN_APROBACIÓN', 'PRECIO_UNITARIO_+_IVA', 'TOTAL_+_IVA', 'PRESUPUESTO', 'SUBCATEGORÍA', 'PRODUCTO_O_SERVICIO']"
   ]
  },
  {
   "cell_type": "code",
   "execution_count": 6,
   "metadata": {},
   "outputs": [],
   "source": [
    "df.drop(cols_to_drop, inplace=True, axis=1)"
   ]
  },
  {
   "cell_type": "markdown",
   "metadata": {},
   "source": [
    "## DF ORIGINAL"
   ]
  },
  {
   "cell_type": "code",
   "execution_count": 7,
   "metadata": {},
   "outputs": [
    {
     "data": {
      "text/html": [
       "<div>\n",
       "<style scoped>\n",
       "    .dataframe tbody tr th:only-of-type {\n",
       "        vertical-align: middle;\n",
       "    }\n",
       "\n",
       "    .dataframe tbody tr th {\n",
       "        vertical-align: top;\n",
       "    }\n",
       "\n",
       "    .dataframe thead th {\n",
       "        text-align: right;\n",
       "    }\n",
       "</style>\n",
       "<table border=\"1\" class=\"dataframe\">\n",
       "  <thead>\n",
       "    <tr style=\"text-align: right;\">\n",
       "      <th></th>\n",
       "      <th>NÚMERO_PEDIDO</th>\n",
       "      <th>ORDEN_NÚMERO</th>\n",
       "      <th>CATEGORÍA</th>\n",
       "      <th>PROVEEDOR</th>\n",
       "      <th>COMPAÑÍA_COMPRADORA</th>\n",
       "      <th>ESTADO</th>\n",
       "      <th>CANTIDAD_PEDIDA</th>\n",
       "      <th>CANTIDAD_RECIBIDA</th>\n",
       "      <th>PRECIO_UNITARIO</th>\n",
       "      <th>IVA</th>\n",
       "      <th>TOTAL_SIN_IVA</th>\n",
       "    </tr>\n",
       "  </thead>\n",
       "  <tbody>\n",
       "    <tr>\n",
       "      <th>0</th>\n",
       "      <td>49561</td>\n",
       "      <td>2582</td>\n",
       "      <td>Eléctricos y Electrónicos</td>\n",
       "      <td>Proveedor 1</td>\n",
       "      <td>Portal comprador 1</td>\n",
       "      <td>Orden en Proceso</td>\n",
       "      <td>2.000</td>\n",
       "      <td>0.000</td>\n",
       "      <td>23364.000</td>\n",
       "      <td>4439</td>\n",
       "      <td>46728.000</td>\n",
       "    </tr>\n",
       "    <tr>\n",
       "      <th>1</th>\n",
       "      <td>49560</td>\n",
       "      <td>2581</td>\n",
       "      <td>Mercadeo y publicidad</td>\n",
       "      <td>Proveedor 2</td>\n",
       "      <td>Portal comprador 1</td>\n",
       "      <td>Recibido</td>\n",
       "      <td>1.000</td>\n",
       "      <td>1.000</td>\n",
       "      <td>1476972.000</td>\n",
       "      <td>280625</td>\n",
       "      <td>1476972.000</td>\n",
       "    </tr>\n",
       "    <tr>\n",
       "      <th>2</th>\n",
       "      <td>49559</td>\n",
       "      <td>2580</td>\n",
       "      <td>Alimentos y Bebidas</td>\n",
       "      <td>Proveedor 3</td>\n",
       "      <td>Portal comprador 1</td>\n",
       "      <td>Orden en Proceso</td>\n",
       "      <td>10.000</td>\n",
       "      <td>0.000</td>\n",
       "      <td>15500.000</td>\n",
       "      <td>0</td>\n",
       "      <td>155000.000</td>\n",
       "    </tr>\n",
       "  </tbody>\n",
       "</table>\n",
       "</div>"
      ],
      "text/plain": [
       "   NÚMERO_PEDIDO  ORDEN_NÚMERO                  CATEGORÍA    PROVEEDOR  \\\n",
       "0          49561          2582  Eléctricos y Electrónicos  Proveedor 1   \n",
       "1          49560          2581      Mercadeo y publicidad  Proveedor 2   \n",
       "2          49559          2580        Alimentos y Bebidas  Proveedor 3   \n",
       "\n",
       "  COMPAÑÍA_COMPRADORA            ESTADO  CANTIDAD_PEDIDA  CANTIDAD_RECIBIDA  \\\n",
       "0  Portal comprador 1  Orden en Proceso            2.000              0.000   \n",
       "1  Portal comprador 1          Recibido            1.000              1.000   \n",
       "2  Portal comprador 1  Orden en Proceso           10.000              0.000   \n",
       "\n",
       "   PRECIO_UNITARIO     IVA  TOTAL_SIN_IVA  \n",
       "0        23364.000    4439      46728.000  \n",
       "1      1476972.000  280625    1476972.000  \n",
       "2        15500.000       0     155000.000  "
      ]
     },
     "execution_count": 7,
     "metadata": {},
     "output_type": "execute_result"
    }
   ],
   "source": [
    "df.head(3)"
   ]
  },
  {
   "cell_type": "markdown",
   "metadata": {},
   "source": [
    "df.columns"
   ]
  },
  {
   "cell_type": "markdown",
   "metadata": {},
   "source": [
    "## CHECK INSA()"
   ]
  },
  {
   "cell_type": "code",
   "execution_count": 8,
   "metadata": {},
   "outputs": [
    {
     "data": {
      "text/plain": [
       "NÚMERO_PEDIDO          0\n",
       "ORDEN_NÚMERO           0\n",
       "CATEGORÍA              0\n",
       "PROVEEDOR              0\n",
       "COMPAÑÍA_COMPRADORA    0\n",
       "ESTADO                 0\n",
       "CANTIDAD_PEDIDA        0\n",
       "CANTIDAD_RECIBIDA      0\n",
       "PRECIO_UNITARIO        0\n",
       "IVA                    0\n",
       "TOTAL_SIN_IVA          0\n",
       "dtype: int64"
      ]
     },
     "execution_count": 8,
     "metadata": {},
     "output_type": "execute_result"
    }
   ],
   "source": [
    "df.isna().sum()"
   ]
  },
  {
   "cell_type": "code",
   "execution_count": 9,
   "metadata": {},
   "outputs": [
    {
     "data": {
      "text/plain": [
       "CATEGORÍA               36\n",
       "PROVEEDOR              405\n",
       "COMPAÑÍA_COMPRADORA     33\n",
       "ESTADO                   9\n",
       "dtype: int64"
      ]
     },
     "execution_count": 9,
     "metadata": {},
     "output_type": "execute_result"
    }
   ],
   "source": [
    "df.select_dtypes('object').nunique()"
   ]
  },
  {
   "cell_type": "markdown",
   "metadata": {},
   "source": [
    "## DISTRIBUTION OF ALL \"COMPAÑIAS COMPRADORAS\""
   ]
  },
  {
   "cell_type": "code",
   "execution_count": 10,
   "metadata": {},
   "outputs": [],
   "source": [
    "df_COMPANHIA_COMPRADORA = pd.DataFrame(df['COMPAÑÍA_COMPRADORA'].value_counts()).reset_index()"
   ]
  },
  {
   "cell_type": "code",
   "execution_count": 11,
   "metadata": {},
   "outputs": [],
   "source": [
    "df_COMPANHIA_COMPRADORA['Percentage'] = df_COMPANHIA_COMPRADORA['COMPAÑÍA_COMPRADORA'] / df['COMPAÑÍA_COMPRADORA'].value_counts().sum()"
   ]
  },
  {
   "cell_type": "code",
   "execution_count": 12,
   "metadata": {},
   "outputs": [],
   "source": [
    "df_COMPANHIA_COMPRADORA.rename(columns = {'index':'COMPAÑÍA_COMPRADORA', 'COMPAÑÍA_COMPRADORA':'Total'}, inplace = True)"
   ]
  },
  {
   "cell_type": "markdown",
   "metadata": {},
   "source": [
    "\n",
    "## CREATE THE DATAFRAME OF \"COMPANHIA_COMPRADORA\""
   ]
  },
  {
   "cell_type": "code",
   "execution_count": 13,
   "metadata": {},
   "outputs": [
    {
     "data": {
      "text/html": [
       "<div>\n",
       "<style scoped>\n",
       "    .dataframe tbody tr th:only-of-type {\n",
       "        vertical-align: middle;\n",
       "    }\n",
       "\n",
       "    .dataframe tbody tr th {\n",
       "        vertical-align: top;\n",
       "    }\n",
       "\n",
       "    .dataframe thead th {\n",
       "        text-align: right;\n",
       "    }\n",
       "</style>\n",
       "<table border=\"1\" class=\"dataframe\">\n",
       "  <thead>\n",
       "    <tr style=\"text-align: right;\">\n",
       "      <th></th>\n",
       "      <th>COMPAÑÍA_COMPRADORA</th>\n",
       "      <th>Total</th>\n",
       "      <th>Percentage</th>\n",
       "    </tr>\n",
       "  </thead>\n",
       "  <tbody>\n",
       "    <tr>\n",
       "      <th>0</th>\n",
       "      <td>Portal comprador 1</td>\n",
       "      <td>6563</td>\n",
       "      <td>0.293</td>\n",
       "    </tr>\n",
       "    <tr>\n",
       "      <th>1</th>\n",
       "      <td>Portal comprador 24</td>\n",
       "      <td>5439</td>\n",
       "      <td>0.243</td>\n",
       "    </tr>\n",
       "  </tbody>\n",
       "</table>\n",
       "</div>"
      ],
      "text/plain": [
       "   COMPAÑÍA_COMPRADORA  Total  Percentage\n",
       "0   Portal comprador 1   6563       0.293\n",
       "1  Portal comprador 24   5439       0.243"
      ]
     },
     "execution_count": 13,
     "metadata": {},
     "output_type": "execute_result"
    }
   ],
   "source": [
    "df_COMPANHIA_COMPRADORA.head(2)"
   ]
  },
  {
   "cell_type": "markdown",
   "metadata": {},
   "source": [
    "### Sort values by TOTAL"
   ]
  },
  {
   "cell_type": "code",
   "execution_count": 14,
   "metadata": {},
   "outputs": [],
   "source": [
    "df_COMPANHIA_COMPRADORA = df_COMPANHIA_COMPRADORA.sort_values('Total', ascending = True).reset_index(drop = True)"
   ]
  },
  {
   "cell_type": "code",
   "execution_count": 15,
   "metadata": {},
   "outputs": [
    {
     "data": {
      "text/plain": [
       "Index(['NÚMERO_PEDIDO', 'ORDEN_NÚMERO', 'CATEGORÍA', 'PROVEEDOR',\n",
       "       'COMPAÑÍA_COMPRADORA', 'ESTADO', 'CANTIDAD_PEDIDA', 'CANTIDAD_RECIBIDA',\n",
       "       'PRECIO_UNITARIO', 'IVA', 'TOTAL_SIN_IVA'],\n",
       "      dtype='object')"
      ]
     },
     "execution_count": 15,
     "metadata": {},
     "output_type": "execute_result"
    }
   ],
   "source": [
    "df.columns"
   ]
  },
  {
   "cell_type": "markdown",
   "metadata": {},
   "source": [
    "## GROUP BY COMPAÑÍA_COMPRADORA"
   ]
  },
  {
   "cell_type": "code",
   "execution_count": 16,
   "metadata": {},
   "outputs": [],
   "source": [
    "# The dataframe\n",
    "df_COMPANHIA_COMPRADORA = df.groupby('COMPAÑÍA_COMPRADORA').agg({\n",
    "    'COMPAÑÍA_COMPRADORA': 'count',\n",
    "    'CANTIDAD_PEDIDA': 'sum',\n",
    "    'CANTIDAD_RECIBIDA': 'sum',\n",
    "    'PRECIO_UNITARIO': 'mean',\n",
    "    'IVA': 'sum',\n",
    "    'TOTAL_SIN_IVA': 'sum'\n",
    "    }\n",
    ").rename(columns = {'COMPAÑÍA_COMPRADORA': 'Total'}).reset_index().sort_values('Total', ascending = True)"
   ]
  },
  {
   "cell_type": "code",
   "execution_count": 17,
   "metadata": {},
   "outputs": [
    {
     "data": {
      "text/html": [
       "<div>\n",
       "<style scoped>\n",
       "    .dataframe tbody tr th:only-of-type {\n",
       "        vertical-align: middle;\n",
       "    }\n",
       "\n",
       "    .dataframe tbody tr th {\n",
       "        vertical-align: top;\n",
       "    }\n",
       "\n",
       "    .dataframe thead th {\n",
       "        text-align: right;\n",
       "    }\n",
       "</style>\n",
       "<table border=\"1\" class=\"dataframe\">\n",
       "  <thead>\n",
       "    <tr style=\"text-align: right;\">\n",
       "      <th></th>\n",
       "      <th>COMPAÑÍA_COMPRADORA</th>\n",
       "      <th>Total</th>\n",
       "      <th>CANTIDAD_PEDIDA</th>\n",
       "      <th>CANTIDAD_RECIBIDA</th>\n",
       "      <th>PRECIO_UNITARIO</th>\n",
       "      <th>IVA</th>\n",
       "      <th>TOTAL_SIN_IVA</th>\n",
       "    </tr>\n",
       "  </thead>\n",
       "  <tbody>\n",
       "    <tr>\n",
       "      <th>0</th>\n",
       "      <td>Portal comprador 1</td>\n",
       "      <td>6563</td>\n",
       "      <td>432971.200</td>\n",
       "      <td>414527.300</td>\n",
       "      <td>165470.905</td>\n",
       "      <td>166869025</td>\n",
       "      <td>2742179393.000</td>\n",
       "    </tr>\n",
       "    <tr>\n",
       "      <th>16</th>\n",
       "      <td>Portal comprador 24</td>\n",
       "      <td>5439</td>\n",
       "      <td>231092.000</td>\n",
       "      <td>231092.000</td>\n",
       "      <td>39930.220</td>\n",
       "      <td>41264145</td>\n",
       "      <td>4293598558.000</td>\n",
       "    </tr>\n",
       "  </tbody>\n",
       "</table>\n",
       "</div>"
      ],
      "text/plain": [
       "    COMPAÑÍA_COMPRADORA  Total  CANTIDAD_PEDIDA  CANTIDAD_RECIBIDA  \\\n",
       "0    Portal comprador 1   6563       432971.200         414527.300   \n",
       "16  Portal comprador 24   5439       231092.000         231092.000   \n",
       "\n",
       "    PRECIO_UNITARIO        IVA  TOTAL_SIN_IVA  \n",
       "0        165470.905  166869025 2742179393.000  \n",
       "16        39930.220   41264145 4293598558.000  "
      ]
     },
     "execution_count": 17,
     "metadata": {},
     "output_type": "execute_result"
    }
   ],
   "source": [
    "df_COMPANHIA_COMPRADORA.sort_values(by='Total', ascending=False).head(2)"
   ]
  },
  {
   "cell_type": "markdown",
   "metadata": {},
   "source": [
    "## CROSS TAB \"CATEGORY\""
   ]
  },
  {
   "cell_type": "code",
   "execution_count": 18,
   "metadata": {},
   "outputs": [],
   "source": [
    "order_COMPANHIA = df_COMPANHIA_COMPRADORA['COMPAÑÍA_COMPRADORA'].to_list()"
   ]
  },
  {
   "cell_type": "code",
   "execution_count": 19,
   "metadata": {},
   "outputs": [],
   "source": [
    "order_COMPANHIA.append('All')"
   ]
  },
  {
   "cell_type": "code",
   "execution_count": 20,
   "metadata": {},
   "outputs": [
    {
     "data": {
      "text/html": [
       "<div>\n",
       "<style scoped>\n",
       "    .dataframe tbody tr th:only-of-type {\n",
       "        vertical-align: middle;\n",
       "    }\n",
       "\n",
       "    .dataframe tbody tr th {\n",
       "        vertical-align: top;\n",
       "    }\n",
       "\n",
       "    .dataframe thead th {\n",
       "        text-align: right;\n",
       "    }\n",
       "</style>\n",
       "<table border=\"1\" class=\"dataframe\">\n",
       "  <thead>\n",
       "    <tr style=\"text-align: right;\">\n",
       "      <th>CATEGORÍA</th>\n",
       "      <th>COMPAÑÍA_COMPRADORA</th>\n",
       "      <th>Agroindustrial</th>\n",
       "      <th>Alimentos y Bebidas</th>\n",
       "      <th>Almacenamiento y empaques</th>\n",
       "      <th>Aseo, Cafetería y Oficina</th>\n",
       "      <th>Compras Sostenibles</th>\n",
       "      <th>Construcción y Mantenimiento</th>\n",
       "      <th>Cuidado personal y Belleza</th>\n",
       "      <th>Deporte y recreación</th>\n",
       "      <th>Dotación y elementos de protección personal</th>\n",
       "      <th>...</th>\n",
       "      <th>Salud y Medicina</th>\n",
       "      <th>Servicios Profesionales</th>\n",
       "      <th>Servicios Públicos</th>\n",
       "      <th>Tecnología e información</th>\n",
       "      <th>Textiles</th>\n",
       "      <th>Vehículos y repuestos</th>\n",
       "      <th>Viajes, Eventos y Entretenimiento</th>\n",
       "      <th>Vigilancia y seguridad</th>\n",
       "      <th>Vigilancia y seguridad industrial</th>\n",
       "      <th>All</th>\n",
       "    </tr>\n",
       "  </thead>\n",
       "  <tbody>\n",
       "    <tr>\n",
       "      <th>0</th>\n",
       "      <td>Portal comprador 9</td>\n",
       "      <td>0</td>\n",
       "      <td>0</td>\n",
       "      <td>0</td>\n",
       "      <td>1</td>\n",
       "      <td>0</td>\n",
       "      <td>0</td>\n",
       "      <td>0</td>\n",
       "      <td>0</td>\n",
       "      <td>0</td>\n",
       "      <td>...</td>\n",
       "      <td>0</td>\n",
       "      <td>0</td>\n",
       "      <td>0</td>\n",
       "      <td>0</td>\n",
       "      <td>0</td>\n",
       "      <td>0</td>\n",
       "      <td>0</td>\n",
       "      <td>0</td>\n",
       "      <td>0</td>\n",
       "      <td>1</td>\n",
       "    </tr>\n",
       "    <tr>\n",
       "      <th>1</th>\n",
       "      <td>Portal comprador 33</td>\n",
       "      <td>0</td>\n",
       "      <td>0</td>\n",
       "      <td>0</td>\n",
       "      <td>1</td>\n",
       "      <td>0</td>\n",
       "      <td>0</td>\n",
       "      <td>0</td>\n",
       "      <td>0</td>\n",
       "      <td>0</td>\n",
       "      <td>...</td>\n",
       "      <td>0</td>\n",
       "      <td>0</td>\n",
       "      <td>0</td>\n",
       "      <td>0</td>\n",
       "      <td>0</td>\n",
       "      <td>0</td>\n",
       "      <td>0</td>\n",
       "      <td>0</td>\n",
       "      <td>0</td>\n",
       "      <td>1</td>\n",
       "    </tr>\n",
       "    <tr>\n",
       "      <th>2</th>\n",
       "      <td>Portal comprador 3</td>\n",
       "      <td>0</td>\n",
       "      <td>0</td>\n",
       "      <td>0</td>\n",
       "      <td>0</td>\n",
       "      <td>0</td>\n",
       "      <td>0</td>\n",
       "      <td>0</td>\n",
       "      <td>0</td>\n",
       "      <td>0</td>\n",
       "      <td>...</td>\n",
       "      <td>0</td>\n",
       "      <td>0</td>\n",
       "      <td>0</td>\n",
       "      <td>0</td>\n",
       "      <td>0</td>\n",
       "      <td>0</td>\n",
       "      <td>0</td>\n",
       "      <td>0</td>\n",
       "      <td>0</td>\n",
       "      <td>1</td>\n",
       "    </tr>\n",
       "    <tr>\n",
       "      <th>3</th>\n",
       "      <td>Portal comprador 25</td>\n",
       "      <td>0</td>\n",
       "      <td>0</td>\n",
       "      <td>0</td>\n",
       "      <td>0</td>\n",
       "      <td>0</td>\n",
       "      <td>0</td>\n",
       "      <td>0</td>\n",
       "      <td>0</td>\n",
       "      <td>0</td>\n",
       "      <td>...</td>\n",
       "      <td>0</td>\n",
       "      <td>0</td>\n",
       "      <td>0</td>\n",
       "      <td>0</td>\n",
       "      <td>0</td>\n",
       "      <td>1</td>\n",
       "      <td>0</td>\n",
       "      <td>0</td>\n",
       "      <td>0</td>\n",
       "      <td>1</td>\n",
       "    </tr>\n",
       "    <tr>\n",
       "      <th>4</th>\n",
       "      <td>Portal comprador 22</td>\n",
       "      <td>0</td>\n",
       "      <td>1</td>\n",
       "      <td>0</td>\n",
       "      <td>0</td>\n",
       "      <td>0</td>\n",
       "      <td>0</td>\n",
       "      <td>0</td>\n",
       "      <td>0</td>\n",
       "      <td>0</td>\n",
       "      <td>...</td>\n",
       "      <td>0</td>\n",
       "      <td>0</td>\n",
       "      <td>0</td>\n",
       "      <td>0</td>\n",
       "      <td>0</td>\n",
       "      <td>0</td>\n",
       "      <td>0</td>\n",
       "      <td>0</td>\n",
       "      <td>0</td>\n",
       "      <td>1</td>\n",
       "    </tr>\n",
       "    <tr>\n",
       "      <th>5</th>\n",
       "      <td>Portal comprador 19</td>\n",
       "      <td>0</td>\n",
       "      <td>1</td>\n",
       "      <td>0</td>\n",
       "      <td>0</td>\n",
       "      <td>0</td>\n",
       "      <td>0</td>\n",
       "      <td>0</td>\n",
       "      <td>0</td>\n",
       "      <td>0</td>\n",
       "      <td>...</td>\n",
       "      <td>0</td>\n",
       "      <td>0</td>\n",
       "      <td>0</td>\n",
       "      <td>0</td>\n",
       "      <td>0</td>\n",
       "      <td>0</td>\n",
       "      <td>0</td>\n",
       "      <td>0</td>\n",
       "      <td>0</td>\n",
       "      <td>1</td>\n",
       "    </tr>\n",
       "    <tr>\n",
       "      <th>6</th>\n",
       "      <td>Portal comprador 17</td>\n",
       "      <td>0</td>\n",
       "      <td>0</td>\n",
       "      <td>0</td>\n",
       "      <td>0</td>\n",
       "      <td>0</td>\n",
       "      <td>0</td>\n",
       "      <td>0</td>\n",
       "      <td>0</td>\n",
       "      <td>0</td>\n",
       "      <td>...</td>\n",
       "      <td>0</td>\n",
       "      <td>0</td>\n",
       "      <td>0</td>\n",
       "      <td>1</td>\n",
       "      <td>0</td>\n",
       "      <td>0</td>\n",
       "      <td>0</td>\n",
       "      <td>0</td>\n",
       "      <td>0</td>\n",
       "      <td>1</td>\n",
       "    </tr>\n",
       "  </tbody>\n",
       "</table>\n",
       "<p>7 rows × 38 columns</p>\n",
       "</div>"
      ],
      "text/plain": [
       "CATEGORÍA  COMPAÑÍA_COMPRADORA  Agroindustrial  Alimentos y Bebidas  \\\n",
       "0           Portal comprador 9               0                    0   \n",
       "1          Portal comprador 33               0                    0   \n",
       "2           Portal comprador 3               0                    0   \n",
       "3          Portal comprador 25               0                    0   \n",
       "4          Portal comprador 22               0                    1   \n",
       "5          Portal comprador 19               0                    1   \n",
       "6          Portal comprador 17               0                    0   \n",
       "\n",
       "CATEGORÍA  Almacenamiento y empaques  Aseo, Cafetería y Oficina  \\\n",
       "0                                  0                          1   \n",
       "1                                  0                          1   \n",
       "2                                  0                          0   \n",
       "3                                  0                          0   \n",
       "4                                  0                          0   \n",
       "5                                  0                          0   \n",
       "6                                  0                          0   \n",
       "\n",
       "CATEGORÍA  Compras Sostenibles  Construcción y Mantenimiento  \\\n",
       "0                            0                             0   \n",
       "1                            0                             0   \n",
       "2                            0                             0   \n",
       "3                            0                             0   \n",
       "4                            0                             0   \n",
       "5                            0                             0   \n",
       "6                            0                             0   \n",
       "\n",
       "CATEGORÍA  Cuidado personal y Belleza  Deporte y recreación  \\\n",
       "0                                   0                     0   \n",
       "1                                   0                     0   \n",
       "2                                   0                     0   \n",
       "3                                   0                     0   \n",
       "4                                   0                     0   \n",
       "5                                   0                     0   \n",
       "6                                   0                     0   \n",
       "\n",
       "CATEGORÍA  Dotación y elementos de protección personal  ...  Salud y Medicina  \\\n",
       "0                                                    0  ...                 0   \n",
       "1                                                    0  ...                 0   \n",
       "2                                                    0  ...                 0   \n",
       "3                                                    0  ...                 0   \n",
       "4                                                    0  ...                 0   \n",
       "5                                                    0  ...                 0   \n",
       "6                                                    0  ...                 0   \n",
       "\n",
       "CATEGORÍA  Servicios Profesionales  Servicios Públicos  \\\n",
       "0                                0                   0   \n",
       "1                                0                   0   \n",
       "2                                0                   0   \n",
       "3                                0                   0   \n",
       "4                                0                   0   \n",
       "5                                0                   0   \n",
       "6                                0                   0   \n",
       "\n",
       "CATEGORÍA  Tecnología e información  Textiles  Vehículos y repuestos  \\\n",
       "0                                 0         0                      0   \n",
       "1                                 0         0                      0   \n",
       "2                                 0         0                      0   \n",
       "3                                 0         0                      1   \n",
       "4                                 0         0                      0   \n",
       "5                                 0         0                      0   \n",
       "6                                 1         0                      0   \n",
       "\n",
       "CATEGORÍA  Viajes, Eventos y Entretenimiento  Vigilancia y seguridad  \\\n",
       "0                                          0                       0   \n",
       "1                                          0                       0   \n",
       "2                                          0                       0   \n",
       "3                                          0                       0   \n",
       "4                                          0                       0   \n",
       "5                                          0                       0   \n",
       "6                                          0                       0   \n",
       "\n",
       "CATEGORÍA  Vigilancia y seguridad industrial  All  \n",
       "0                                          0    1  \n",
       "1                                          0    1  \n",
       "2                                          0    1  \n",
       "3                                          0    1  \n",
       "4                                          0    1  \n",
       "5                                          0    1  \n",
       "6                                          0    1  \n",
       "\n",
       "[7 rows x 38 columns]"
      ]
     },
     "execution_count": 20,
     "metadata": {},
     "output_type": "execute_result"
    }
   ],
   "source": [
    "(pd.crosstab(df['COMPAÑÍA_COMPRADORA'], df['CATEGORÍA'], margins = True).reindex(order_COMPANHIA, axis = 0).reset_index()).sort_values(by='All', ascending='True').head(7)"
   ]
  },
  {
   "cell_type": "code",
   "execution_count": 21,
   "metadata": {},
   "outputs": [],
   "source": [
    "df_CATEGORIA = pd.crosstab(df['COMPAÑÍA_COMPRADORA'], df['CATEGORÍA'], margins = True).reindex(order_COMPANHIA, axis = 0).reset_index()"
   ]
  },
  {
   "cell_type": "code",
   "execution_count": 22,
   "metadata": {},
   "outputs": [
    {
     "data": {
      "text/html": [
       "<div>\n",
       "<style scoped>\n",
       "    .dataframe tbody tr th:only-of-type {\n",
       "        vertical-align: middle;\n",
       "    }\n",
       "\n",
       "    .dataframe tbody tr th {\n",
       "        vertical-align: top;\n",
       "    }\n",
       "\n",
       "    .dataframe thead th {\n",
       "        text-align: right;\n",
       "    }\n",
       "</style>\n",
       "<table border=\"1\" class=\"dataframe\">\n",
       "  <thead>\n",
       "    <tr style=\"text-align: right;\">\n",
       "      <th></th>\n",
       "      <th>COMPAÑÍA_COMPRADORA</th>\n",
       "      <th>Agroindustrial</th>\n",
       "      <th>Alimentos y Bebidas</th>\n",
       "      <th>Almacenamiento y empaques</th>\n",
       "      <th>Aseo, Cafetería y Oficina</th>\n",
       "      <th>Compras Sostenibles</th>\n",
       "      <th>Construcción y Mantenimiento</th>\n",
       "      <th>Cuidado personal y Belleza</th>\n",
       "      <th>Deporte y recreación</th>\n",
       "      <th>Dotación y elementos de protección personal</th>\n",
       "      <th>...</th>\n",
       "      <th>Salud y Medicina</th>\n",
       "      <th>Servicios Profesionales</th>\n",
       "      <th>Servicios Públicos</th>\n",
       "      <th>Tecnología e información</th>\n",
       "      <th>Textiles</th>\n",
       "      <th>Vehículos y repuestos</th>\n",
       "      <th>Viajes, Eventos y Entretenimiento</th>\n",
       "      <th>Vigilancia y seguridad</th>\n",
       "      <th>Vigilancia y seguridad industrial</th>\n",
       "      <th>All</th>\n",
       "    </tr>\n",
       "  </thead>\n",
       "  <tbody>\n",
       "    <tr>\n",
       "      <th>0</th>\n",
       "      <td>Portal comprador 9</td>\n",
       "      <td>0</td>\n",
       "      <td>0</td>\n",
       "      <td>0</td>\n",
       "      <td>1</td>\n",
       "      <td>0</td>\n",
       "      <td>0</td>\n",
       "      <td>0</td>\n",
       "      <td>0</td>\n",
       "      <td>0</td>\n",
       "      <td>...</td>\n",
       "      <td>0</td>\n",
       "      <td>0</td>\n",
       "      <td>0</td>\n",
       "      <td>0</td>\n",
       "      <td>0</td>\n",
       "      <td>0</td>\n",
       "      <td>0</td>\n",
       "      <td>0</td>\n",
       "      <td>0</td>\n",
       "      <td>1</td>\n",
       "    </tr>\n",
       "    <tr>\n",
       "      <th>1</th>\n",
       "      <td>Portal comprador 33</td>\n",
       "      <td>0</td>\n",
       "      <td>0</td>\n",
       "      <td>0</td>\n",
       "      <td>1</td>\n",
       "      <td>0</td>\n",
       "      <td>0</td>\n",
       "      <td>0</td>\n",
       "      <td>0</td>\n",
       "      <td>0</td>\n",
       "      <td>...</td>\n",
       "      <td>0</td>\n",
       "      <td>0</td>\n",
       "      <td>0</td>\n",
       "      <td>0</td>\n",
       "      <td>0</td>\n",
       "      <td>0</td>\n",
       "      <td>0</td>\n",
       "      <td>0</td>\n",
       "      <td>0</td>\n",
       "      <td>1</td>\n",
       "    </tr>\n",
       "    <tr>\n",
       "      <th>2</th>\n",
       "      <td>Portal comprador 3</td>\n",
       "      <td>0</td>\n",
       "      <td>0</td>\n",
       "      <td>0</td>\n",
       "      <td>0</td>\n",
       "      <td>0</td>\n",
       "      <td>0</td>\n",
       "      <td>0</td>\n",
       "      <td>0</td>\n",
       "      <td>0</td>\n",
       "      <td>...</td>\n",
       "      <td>0</td>\n",
       "      <td>0</td>\n",
       "      <td>0</td>\n",
       "      <td>0</td>\n",
       "      <td>0</td>\n",
       "      <td>0</td>\n",
       "      <td>0</td>\n",
       "      <td>0</td>\n",
       "      <td>0</td>\n",
       "      <td>1</td>\n",
       "    </tr>\n",
       "  </tbody>\n",
       "</table>\n",
       "<p>3 rows × 38 columns</p>\n",
       "</div>"
      ],
      "text/plain": [
       "   COMPAÑÍA_COMPRADORA  Agroindustrial  Alimentos y Bebidas  \\\n",
       "0   Portal comprador 9               0                    0   \n",
       "1  Portal comprador 33               0                    0   \n",
       "2   Portal comprador 3               0                    0   \n",
       "\n",
       "   Almacenamiento y empaques  Aseo, Cafetería y Oficina  Compras Sostenibles  \\\n",
       "0                          0                          1                    0   \n",
       "1                          0                          1                    0   \n",
       "2                          0                          0                    0   \n",
       "\n",
       "   Construcción y Mantenimiento  Cuidado personal y Belleza  \\\n",
       "0                             0                           0   \n",
       "1                             0                           0   \n",
       "2                             0                           0   \n",
       "\n",
       "   Deporte y recreación  Dotación y elementos de protección personal  ...  \\\n",
       "0                     0                                            0  ...   \n",
       "1                     0                                            0  ...   \n",
       "2                     0                                            0  ...   \n",
       "\n",
       "   Salud y Medicina  Servicios Profesionales  Servicios Públicos  \\\n",
       "0                 0                        0                   0   \n",
       "1                 0                        0                   0   \n",
       "2                 0                        0                   0   \n",
       "\n",
       "   Tecnología e información  Textiles  Vehículos y repuestos  \\\n",
       "0                         0         0                      0   \n",
       "1                         0         0                      0   \n",
       "2                         0         0                      0   \n",
       "\n",
       "   Viajes, Eventos y Entretenimiento  Vigilancia y seguridad  \\\n",
       "0                                  0                       0   \n",
       "1                                  0                       0   \n",
       "2                                  0                       0   \n",
       "\n",
       "   Vigilancia y seguridad industrial  All  \n",
       "0                                  0    1  \n",
       "1                                  0    1  \n",
       "2                                  0    1  \n",
       "\n",
       "[3 rows x 38 columns]"
      ]
     },
     "execution_count": 22,
     "metadata": {},
     "output_type": "execute_result"
    }
   ],
   "source": [
    "# Remove index name\n",
    "df_CATEGORIA.columns.name = None\n",
    "df_CATEGORIA.head(3)"
   ]
  },
  {
   "cell_type": "markdown",
   "metadata": {},
   "source": [
    "## GET POSITION OF CATEGORICAL COLS"
   ]
  },
  {
   "cell_type": "code",
   "execution_count": 23,
   "metadata": {},
   "outputs": [
    {
     "name": "stdout",
     "output_type": "stream",
     "text": [
      "<class 'pandas.core.frame.DataFrame'>\n",
      "RangeIndex: 22392 entries, 0 to 22391\n",
      "Data columns (total 11 columns):\n",
      " #   Column               Non-Null Count  Dtype  \n",
      "---  ------               --------------  -----  \n",
      " 0   NÚMERO_PEDIDO        22392 non-null  int64  \n",
      " 1   ORDEN_NÚMERO         22392 non-null  int64  \n",
      " 2   CATEGORÍA            22392 non-null  object \n",
      " 3   PROVEEDOR            22392 non-null  object \n",
      " 4   COMPAÑÍA_COMPRADORA  22392 non-null  object \n",
      " 5   ESTADO               22392 non-null  object \n",
      " 6   CANTIDAD_PEDIDA      22392 non-null  float64\n",
      " 7   CANTIDAD_RECIBIDA    22392 non-null  float64\n",
      " 8   PRECIO_UNITARIO      22392 non-null  float64\n",
      " 9   IVA                  22392 non-null  int64  \n",
      " 10  TOTAL_SIN_IVA        22392 non-null  float64\n",
      "dtypes: float64(4), int64(3), object(4)\n",
      "memory usage: 1.9+ MB\n"
     ]
    }
   ],
   "source": [
    "df.info()"
   ]
  },
  {
   "cell_type": "code",
   "execution_count": 24,
   "metadata": {},
   "outputs": [
    {
     "data": {
      "text/plain": [
       "[2, 3, 4, 5]"
      ]
     },
     "execution_count": 24,
     "metadata": {},
     "output_type": "execute_result"
    }
   ],
   "source": [
    "[df.columns.get_loc(col) for col in list(df.select_dtypes('object').columns)]"
   ]
  },
  {
   "cell_type": "code",
   "execution_count": 25,
   "metadata": {},
   "outputs": [],
   "source": [
    "catColumnsPos = [df.columns.get_loc(col) for col in list(df.select_dtypes('object').columns)]"
   ]
  },
  {
   "cell_type": "code",
   "execution_count": 26,
   "metadata": {},
   "outputs": [
    {
     "name": "stdout",
     "output_type": "stream",
     "text": [
      "Categorical columns           : ['CATEGORÍA', 'PROVEEDOR', 'COMPAÑÍA_COMPRADORA', 'ESTADO']\n",
      "Categorical columns position  : [2, 3, 4, 5]\n"
     ]
    }
   ],
   "source": [
    "print('Categorical columns           : {}'.format(list(df.select_dtypes('object').columns)))\n",
    "print('Categorical columns position  : {}'.format(catColumnsPos))"
   ]
  },
  {
   "cell_type": "markdown",
   "metadata": {},
   "source": [
    "## CONVERT DF TO MATRIX WITH NUMPY"
   ]
  },
  {
   "cell_type": "code",
   "execution_count": 27,
   "metadata": {},
   "outputs": [
    {
     "data": {
      "text/plain": [
       "array([[49561, 2582, 'Eléctricos y Electrónicos', ..., 23364.0, 4439,\n",
       "        46728.0],\n",
       "       [49560, 2581, 'Mercadeo y publicidad', ..., 1476972.0, 280625,\n",
       "        1476972.0],\n",
       "       [49559, 2580, 'Alimentos y Bebidas', ..., 15500.0, 0, 155000.0],\n",
       "       ...,\n",
       "       [2, 2, 'Moda y accesorios', ..., 29412.0, 5588, 88235.0],\n",
       "       [1, 1, 'Moda y accesorios', ..., 29412.0, 5588, 117647.0],\n",
       "       [1, 1, 'Aseo, Cafetería y Oficina', ..., 33613.0, 6387, 168067.0]],\n",
       "      dtype=object)"
      ]
     },
     "execution_count": 27,
     "metadata": {},
     "output_type": "execute_result"
    }
   ],
   "source": [
    "dfMatrix = df.to_numpy()\n",
    "dfMatrix"
   ]
  },
  {
   "cell_type": "markdown",
   "metadata": {},
   "source": [
    "## OPTIMAL K USING ELBOW METHOD"
   ]
  },
  {
   "cell_type": "code",
   "execution_count": 28,
   "metadata": {},
   "outputs": [],
   "source": [
    "# cost = []\n",
    "# for cluster in range(2, 10):\n",
    "#     try:\n",
    "#         kprototype = KPrototypes(n_jobs = -1, n_clusters = cluster, init = 'Huang', random_state = 0)\n",
    "#         kprototype.fit_predict(dfMatrix, categorical = catColumnsPos)\n",
    "#         cost.append(kprototype.cost_)\n",
    "#         print('Cluster initiation: {}'.format(cluster))\n",
    "#     except:\n",
    "#         break"
   ]
  },
  {
   "cell_type": "code",
   "execution_count": 29,
   "metadata": {},
   "outputs": [],
   "source": [
    "# # Converting the results into a dataframe and plotting them\n",
    "# df_cost = pd.DataFrame({'Cluster':range(1, 6), 'Cost':cost})\n",
    "# # Data viz\n",
    "# plotnine.options.figure_size = (8, 4.8)\n",
    "# (\n",
    "#     ggplot(data = df_cost)+\n",
    "#     geom_line(aes(x = 'Cluster',\n",
    "#                   y = 'Cost'))+\n",
    "#     geom_point(aes(x = 'Cluster',\n",
    "#                    y = 'Cost'))+\n",
    "#     geom_label(aes(x = 'Cluster',\n",
    "#                    y = 'Cost',\n",
    "#                    label = 'Cluster'),\n",
    "#                size = 10,\n",
    "#                nudge_y = 1000) +\n",
    "#     labs(title = 'Optimal number of cluster with Elbow Method')+\n",
    "#     xlab('Number of Clusters k')+\n",
    "#     ylab('Cost')+\n",
    "#     theme_minimal()\n",
    "# )"
   ]
  },
  {
   "cell_type": "markdown",
   "metadata": {},
   "source": [
    "## FIT MODEL WITH K CLUSTER"
   ]
  },
  {
   "cell_type": "code",
   "execution_count": 30,
   "metadata": {},
   "outputs": [
    {
     "data": {
      "text/plain": [
       "array([0, 0, 0, ..., 0, 0, 0], dtype=uint16)"
      ]
     },
     "execution_count": 30,
     "metadata": {},
     "output_type": "execute_result"
    }
   ],
   "source": [
    "# Fit the cluster\n",
    "kprototype = KPrototypes(n_jobs = -1, n_clusters = 2, init = 'Huang', random_state = 0)\n",
    "kprototype.fit_predict(dfMatrix, categorical = catColumnsPos)"
   ]
  },
  {
   "cell_type": "markdown",
   "metadata": {},
   "source": [
    "### CENTROIDS"
   ]
  },
  {
   "cell_type": "code",
   "execution_count": 32,
   "metadata": {},
   "outputs": [
    {
     "data": {
      "text/plain": [
       "array([['35118.290762083445', '708.1657732511391', '196.63882024479585',\n",
       "        '49.44693379790941', '70171.90896095773', '11119.092021799339',\n",
       "        '438847.03658536583', 'Alimentos y Bebidas', 'Proveedor 301',\n",
       "        'Portal comprador 1', 'Recibido'],\n",
       "       ['44690.666666666664', '1017.3333333333334', '348.5',\n",
       "        '333.6666666666618', '14637658.5', '1431559.8333333333',\n",
       "        '144911652.33333334', 'Construcción y Mantenimiento',\n",
       "        'Proveedor 20', 'Portal comprador 1', 'Orden en Proceso']],\n",
       "      dtype='<U32')"
      ]
     },
     "execution_count": 32,
     "metadata": {},
     "output_type": "execute_result"
    }
   ],
   "source": [
    "# Cluster centorid\n",
    "kprototype.cluster_centroids_"
   ]
  },
  {
   "cell_type": "markdown",
   "metadata": {},
   "source": [
    "N_ITER"
   ]
  },
  {
   "cell_type": "code",
   "execution_count": 33,
   "metadata": {},
   "outputs": [
    {
     "data": {
      "text/plain": [
       "8"
      ]
     },
     "execution_count": 33,
     "metadata": {},
     "output_type": "execute_result"
    }
   ],
   "source": [
    "\n",
    "# Check the iteration of the clusters created\n",
    "kprototype.n_iter_"
   ]
  },
  {
   "cell_type": "markdown",
   "metadata": {},
   "source": [
    "### COST_"
   ]
  },
  {
   "cell_type": "code",
   "execution_count": 32,
   "metadata": {},
   "outputs": [
    {
     "data": {
      "text/plain": [
       "1.0673966121269589e+17"
      ]
     },
     "execution_count": 32,
     "metadata": {},
     "output_type": "execute_result"
    }
   ],
   "source": [
    "\n",
    "# Check the cost of the clusters created\n",
    "kprototype.cost_"
   ]
  },
  {
   "cell_type": "markdown",
   "metadata": {},
   "source": [
    "## ADD THE CLUSTER TO THE DF"
   ]
  },
  {
   "cell_type": "code",
   "execution_count": 32,
   "metadata": {},
   "outputs": [],
   "source": [
    "df['Cluster Labels'] = kprototype.labels_\n",
    "df['Segment'] = df['Cluster Labels'].map({0:'First', 1:'Second', 2:'Third'})"
   ]
  },
  {
   "cell_type": "code",
   "execution_count": 33,
   "metadata": {},
   "outputs": [
    {
     "data": {
      "text/plain": [
       "22392"
      ]
     },
     "execution_count": 33,
     "metadata": {},
     "output_type": "execute_result"
    }
   ],
   "source": [
    "len(kprototype.labels_)"
   ]
  },
  {
   "cell_type": "code",
   "execution_count": 34,
   "metadata": {},
   "outputs": [
    {
     "data": {
      "text/html": [
       "<div>\n",
       "<style scoped>\n",
       "    .dataframe tbody tr th:only-of-type {\n",
       "        vertical-align: middle;\n",
       "    }\n",
       "\n",
       "    .dataframe tbody tr th {\n",
       "        vertical-align: top;\n",
       "    }\n",
       "\n",
       "    .dataframe thead th {\n",
       "        text-align: right;\n",
       "    }\n",
       "</style>\n",
       "<table border=\"1\" class=\"dataframe\">\n",
       "  <thead>\n",
       "    <tr style=\"text-align: right;\">\n",
       "      <th></th>\n",
       "      <th>NÚMERO_PEDIDO</th>\n",
       "      <th>ORDEN_NÚMERO</th>\n",
       "      <th>CATEGORÍA</th>\n",
       "      <th>PROVEEDOR</th>\n",
       "      <th>COMPAÑÍA_COMPRADORA</th>\n",
       "      <th>ESTADO</th>\n",
       "      <th>CANTIDAD_PEDIDA</th>\n",
       "      <th>CANTIDAD_RECIBIDA</th>\n",
       "      <th>PRECIO_UNITARIO</th>\n",
       "      <th>IVA</th>\n",
       "      <th>TOTAL_SIN_IVA</th>\n",
       "      <th>Cluster Labels</th>\n",
       "      <th>Segment</th>\n",
       "    </tr>\n",
       "  </thead>\n",
       "  <tbody>\n",
       "    <tr>\n",
       "      <th>0</th>\n",
       "      <td>49561</td>\n",
       "      <td>2582</td>\n",
       "      <td>Eléctricos y Electrónicos</td>\n",
       "      <td>Proveedor 1</td>\n",
       "      <td>Portal comprador 1</td>\n",
       "      <td>Orden en Proceso</td>\n",
       "      <td>2.000</td>\n",
       "      <td>0.000</td>\n",
       "      <td>23364.000</td>\n",
       "      <td>4439</td>\n",
       "      <td>46728.000</td>\n",
       "      <td>0</td>\n",
       "      <td>First</td>\n",
       "    </tr>\n",
       "    <tr>\n",
       "      <th>1</th>\n",
       "      <td>49560</td>\n",
       "      <td>2581</td>\n",
       "      <td>Mercadeo y publicidad</td>\n",
       "      <td>Proveedor 2</td>\n",
       "      <td>Portal comprador 1</td>\n",
       "      <td>Recibido</td>\n",
       "      <td>1.000</td>\n",
       "      <td>1.000</td>\n",
       "      <td>1476972.000</td>\n",
       "      <td>280625</td>\n",
       "      <td>1476972.000</td>\n",
       "      <td>0</td>\n",
       "      <td>First</td>\n",
       "    </tr>\n",
       "    <tr>\n",
       "      <th>2</th>\n",
       "      <td>49559</td>\n",
       "      <td>2580</td>\n",
       "      <td>Alimentos y Bebidas</td>\n",
       "      <td>Proveedor 3</td>\n",
       "      <td>Portal comprador 1</td>\n",
       "      <td>Orden en Proceso</td>\n",
       "      <td>10.000</td>\n",
       "      <td>0.000</td>\n",
       "      <td>15500.000</td>\n",
       "      <td>0</td>\n",
       "      <td>155000.000</td>\n",
       "      <td>0</td>\n",
       "      <td>First</td>\n",
       "    </tr>\n",
       "    <tr>\n",
       "      <th>3</th>\n",
       "      <td>49558</td>\n",
       "      <td>1892</td>\n",
       "      <td>Alimentos y Bebidas</td>\n",
       "      <td>Proveedor 4</td>\n",
       "      <td>Portal comprador 2</td>\n",
       "      <td>Orden en Proceso</td>\n",
       "      <td>50.000</td>\n",
       "      <td>0.000</td>\n",
       "      <td>22000.000</td>\n",
       "      <td>0</td>\n",
       "      <td>1100000.000</td>\n",
       "      <td>0</td>\n",
       "      <td>First</td>\n",
       "    </tr>\n",
       "  </tbody>\n",
       "</table>\n",
       "</div>"
      ],
      "text/plain": [
       "   NÚMERO_PEDIDO  ORDEN_NÚMERO                  CATEGORÍA    PROVEEDOR  \\\n",
       "0          49561          2582  Eléctricos y Electrónicos  Proveedor 1   \n",
       "1          49560          2581      Mercadeo y publicidad  Proveedor 2   \n",
       "2          49559          2580        Alimentos y Bebidas  Proveedor 3   \n",
       "3          49558          1892        Alimentos y Bebidas  Proveedor 4   \n",
       "\n",
       "  COMPAÑÍA_COMPRADORA            ESTADO  CANTIDAD_PEDIDA  CANTIDAD_RECIBIDA  \\\n",
       "0  Portal comprador 1  Orden en Proceso            2.000              0.000   \n",
       "1  Portal comprador 1          Recibido            1.000              1.000   \n",
       "2  Portal comprador 1  Orden en Proceso           10.000              0.000   \n",
       "3  Portal comprador 2  Orden en Proceso           50.000              0.000   \n",
       "\n",
       "   PRECIO_UNITARIO     IVA  TOTAL_SIN_IVA  Cluster Labels Segment  \n",
       "0        23364.000    4439      46728.000               0   First  \n",
       "1      1476972.000  280625    1476972.000               0   First  \n",
       "2        15500.000       0     155000.000               0   First  \n",
       "3        22000.000       0    1100000.000               0   First  "
      ]
     },
     "execution_count": 34,
     "metadata": {},
     "output_type": "execute_result"
    }
   ],
   "source": [
    "df.head(4)"
   ]
  },
  {
   "cell_type": "code",
   "execution_count": 35,
   "metadata": {},
   "outputs": [],
   "source": [
    "#df.to_csv(\"Kprototype_clusters_2:Companhia.csv\")"
   ]
  },
  {
   "cell_type": "markdown",
   "metadata": {},
   "source": [
    "## ORDER CLUSTER"
   ]
  },
  {
   "cell_type": "code",
   "execution_count": 36,
   "metadata": {},
   "outputs": [],
   "source": [
    "# Order the cluster\n",
    "df['Segment'] = df['Segment'].astype('category')\n",
    "df['Segment'] = df['Segment'].cat.reorder_categories(['First','Second'])"
   ]
  },
  {
   "cell_type": "code",
   "execution_count": 97,
   "metadata": {},
   "outputs": [
    {
     "data": {
      "text/plain": [
       "Index(['NÚMERO_PEDIDO', 'ORDEN_NÚMERO', 'CATEGORÍA', 'PROVEEDOR',\n",
       "       'COMPAÑÍA_COMPRADORA', 'ESTADO', 'CANTIDAD_PEDIDA', 'CANTIDAD_RECIBIDA',\n",
       "       'PRECIO_UNITARIO', 'IVA', 'TOTAL_SIN_IVA', 'Total', 'Segment'],\n",
       "      dtype='object')"
      ]
     },
     "execution_count": 97,
     "metadata": {},
     "output_type": "execute_result"
    }
   ],
   "source": [
    "df.columns"
   ]
  },
  {
   "cell_type": "markdown",
   "metadata": {},
   "source": [
    "## CLUSTER INTERPRETATION"
   ]
  },
  {
   "cell_type": "code",
   "execution_count": 98,
   "metadata": {},
   "outputs": [
    {
     "data": {
      "text/html": [
       "<div>\n",
       "<style scoped>\n",
       "    .dataframe tbody tr th:only-of-type {\n",
       "        vertical-align: middle;\n",
       "    }\n",
       "\n",
       "    .dataframe tbody tr th {\n",
       "        vertical-align: top;\n",
       "    }\n",
       "\n",
       "    .dataframe thead th {\n",
       "        text-align: right;\n",
       "    }\n",
       "</style>\n",
       "<table border=\"1\" class=\"dataframe\">\n",
       "  <thead>\n",
       "    <tr style=\"text-align: right;\">\n",
       "      <th></th>\n",
       "      <th>Segment</th>\n",
       "      <th>Total</th>\n",
       "      <th>COMPAÑÍA_COMPRADORA</th>\n",
       "      <th>CATEGORÍA</th>\n",
       "      <th>ESTADO</th>\n",
       "      <th>PROVEEDOR</th>\n",
       "      <th>CANTIDAD_PEDIDA</th>\n",
       "      <th>CANTIDAD_RECIBIDA</th>\n",
       "      <th>PRECIO_UNITARIO</th>\n",
       "      <th>IVA</th>\n",
       "      <th>TOTAL_SIN_IVA</th>\n",
       "    </tr>\n",
       "  </thead>\n",
       "  <tbody>\n",
       "    <tr>\n",
       "      <th>0</th>\n",
       "      <td>First</td>\n",
       "      <td>22386</td>\n",
       "      <td>Portal comprador 1</td>\n",
       "      <td>Alimentos y Bebidas</td>\n",
       "      <td>Recibido</td>\n",
       "      <td>Proveedor 301</td>\n",
       "      <td>4401956.630</td>\n",
       "      <td>1106919.060</td>\n",
       "      <td>70171.909</td>\n",
       "      <td>248911994</td>\n",
       "      <td>9824029761.000</td>\n",
       "    </tr>\n",
       "    <tr>\n",
       "      <th>1</th>\n",
       "      <td>Second</td>\n",
       "      <td>6</td>\n",
       "      <td>Portal comprador 1</td>\n",
       "      <td>Construcción y Mantenimiento</td>\n",
       "      <td>Orden en Proceso</td>\n",
       "      <td>Proveedor 20</td>\n",
       "      <td>2091.000</td>\n",
       "      <td>2002.000</td>\n",
       "      <td>14637658.500</td>\n",
       "      <td>8589359</td>\n",
       "      <td>869469914.000</td>\n",
       "    </tr>\n",
       "  </tbody>\n",
       "</table>\n",
       "</div>"
      ],
      "text/plain": [
       "  Segment  Total COMPAÑÍA_COMPRADORA                     CATEGORÍA  \\\n",
       "0   First  22386  Portal comprador 1           Alimentos y Bebidas   \n",
       "1  Second      6  Portal comprador 1  Construcción y Mantenimiento   \n",
       "\n",
       "             ESTADO      PROVEEDOR  CANTIDAD_PEDIDA  CANTIDAD_RECIBIDA  \\\n",
       "0          Recibido  Proveedor 301      4401956.630        1106919.060   \n",
       "1  Orden en Proceso   Proveedor 20         2091.000           2002.000   \n",
       "\n",
       "   PRECIO_UNITARIO        IVA  TOTAL_SIN_IVA  \n",
       "0        70171.909  248911994 9824029761.000  \n",
       "1     14637658.500    8589359  869469914.000  "
      ]
     },
     "execution_count": 98,
     "metadata": {},
     "output_type": "execute_result"
    }
   ],
   "source": [
    "# Cluster interpretation\n",
    "df.rename(columns = {'Cluster Labels':'Total'}, inplace = True)\n",
    "df.groupby('Segment').agg(\n",
    "    {\n",
    "        'Total':'count',\n",
    "        'COMPAÑÍA_COMPRADORA': lambda x: x.value_counts().index[0],\n",
    "        'CATEGORÍA':lambda x: x.value_counts().index[0],\n",
    "        'ESTADO':lambda x: x.value_counts().index[0],\n",
    "        'PROVEEDOR':lambda x: x.value_counts().index[0],\n",
    "        'CANTIDAD_PEDIDA': 'sum',\n",
    "        'CANTIDAD_RECIBIDA': 'sum',\n",
    "        'PRECIO_UNITARIO': 'mean',\n",
    "        'IVA': 'sum',\n",
    "        'TOTAL_SIN_IVA': 'sum'\n",
    "\n",
    "    }\n",
    ").reset_index()"
   ]
  },
  {
   "cell_type": "code",
   "execution_count": 102,
   "metadata": {},
   "outputs": [
    {
     "data": {
      "text/plain": [
       "Segment\n",
       "First     22386\n",
       "Second        6\n",
       "Name: Segment, dtype: int64"
      ]
     },
     "execution_count": 102,
     "metadata": {},
     "output_type": "execute_result"
    }
   ],
   "source": [
    "df.groupby('Segment')['Segment'].count()"
   ]
  },
  {
   "cell_type": "markdown",
   "metadata": {},
   "source": [
    "# FAMD"
   ]
  },
  {
   "cell_type": "code",
   "execution_count": 39,
   "metadata": {},
   "outputs": [
    {
     "data": {
      "text/plain": [
       "<AxesSubplot:title={'center':'Row principal coordinates'}, xlabel='Component 0 (1.29% inertia)', ylabel='Component 1 (0.96% inertia)'>"
      ]
     },
     "execution_count": 39,
     "metadata": {},
     "output_type": "execute_result"
    },
    {
     "data": {
      "image/png": "[encoded data removed]",
      "text/plain": [
       "<Figure size 1080x720 with 1 Axes>"
      ]
     },
     "metadata": {},
     "output_type": "display_data"
    }
   ],
   "source": [
    "from prince import FAMD\n",
    "\n",
    "X=pd.read_csv(\"Kprototype_clusters_2:Companhia.csv\")\n",
    "\n",
    "famd = FAMD(n_components =2, n_iter = 3, random_state = 101)\n",
    "\n",
    "famd.fit(X)\n",
    "famd.transform(X)\n",
    "famd.plot_row_coordinates(X,figsize=(15, 10),color_labels=['Clusters : {}'.format(t) for t in X['Segment']] )\n",
    "\n",
    "#X.get_figure().savefig('images/famd_row_coordinates.svg')\n"
   ]
  },
  {
   "cell_type": "markdown",
   "metadata": {},
   "source": [
    "# DF-TOP PERFORMERS = df_new"
   ]
  },
  {
   "cell_type": "code",
   "execution_count": 37,
   "metadata": {},
   "outputs": [],
   "source": [
    "df_new=df.loc[df['Segment']== 'First']"
   ]
  },
  {
   "cell_type": "code",
   "execution_count": 38,
   "metadata": {},
   "outputs": [
    {
     "data": {
      "text/plain": [
       "NÚMERO_PEDIDO          22386\n",
       "ORDEN_NÚMERO           22386\n",
       "CATEGORÍA              22386\n",
       "PROVEEDOR              22386\n",
       "COMPAÑÍA_COMPRADORA    22386\n",
       "ESTADO                 22386\n",
       "CANTIDAD_PEDIDA        22386\n",
       "CANTIDAD_RECIBIDA      22386\n",
       "PRECIO_UNITARIO        22386\n",
       "IVA                    22386\n",
       "TOTAL_SIN_IVA          22386\n",
       "Cluster Labels         22386\n",
       "Segment                22386\n",
       "dtype: int64"
      ]
     },
     "execution_count": 38,
     "metadata": {},
     "output_type": "execute_result"
    }
   ],
   "source": [
    "df_new.count()"
   ]
  },
  {
   "cell_type": "code",
   "execution_count": 39,
   "metadata": {},
   "outputs": [
    {
     "name": "stderr",
     "output_type": "stream",
     "text": [
      "C:\\Users\\Stilanof\\anaconda3\\lib\\site-packages\\pandas\\core\\frame.py:4308: SettingWithCopyWarning: \n",
      "A value is trying to be set on a copy of a slice from a DataFrame\n",
      "\n",
      "See the caveats in the documentation: https://pandas.pydata.org/pandas-docs/stable/user_guide/indexing.html#returning-a-view-versus-a-copy\n"
     ]
    }
   ],
   "source": [
    "cols_to_drop_new=['Segment','Cluster Labels']\n",
    "\n",
    "df_new.drop(cols_to_drop_new, inplace=True, axis=1)"
   ]
  },
  {
   "cell_type": "code",
   "execution_count": 41,
   "metadata": {},
   "outputs": [
    {
     "data": {
      "text/html": [
       "<div>\n",
       "<style scoped>\n",
       "    .dataframe tbody tr th:only-of-type {\n",
       "        vertical-align: middle;\n",
       "    }\n",
       "\n",
       "    .dataframe tbody tr th {\n",
       "        vertical-align: top;\n",
       "    }\n",
       "\n",
       "    .dataframe thead th {\n",
       "        text-align: right;\n",
       "    }\n",
       "</style>\n",
       "<table border=\"1\" class=\"dataframe\">\n",
       "  <thead>\n",
       "    <tr style=\"text-align: right;\">\n",
       "      <th></th>\n",
       "      <th>NÚMERO_PEDIDO</th>\n",
       "      <th>ORDEN_NÚMERO</th>\n",
       "      <th>CATEGORÍA</th>\n",
       "      <th>PROVEEDOR</th>\n",
       "      <th>COMPAÑÍA_COMPRADORA</th>\n",
       "      <th>ESTADO</th>\n",
       "      <th>CANTIDAD_PEDIDA</th>\n",
       "      <th>CANTIDAD_RECIBIDA</th>\n",
       "      <th>PRECIO_UNITARIO</th>\n",
       "      <th>IVA</th>\n",
       "      <th>TOTAL_SIN_IVA</th>\n",
       "    </tr>\n",
       "  </thead>\n",
       "  <tbody>\n",
       "    <tr>\n",
       "      <th>0</th>\n",
       "      <td>49561</td>\n",
       "      <td>2582</td>\n",
       "      <td>Eléctricos y Electrónicos</td>\n",
       "      <td>Proveedor 1</td>\n",
       "      <td>Portal comprador 1</td>\n",
       "      <td>Orden en Proceso</td>\n",
       "      <td>2.000</td>\n",
       "      <td>0.000</td>\n",
       "      <td>23364.000</td>\n",
       "      <td>4439</td>\n",
       "      <td>46728.000</td>\n",
       "    </tr>\n",
       "    <tr>\n",
       "      <th>1</th>\n",
       "      <td>49560</td>\n",
       "      <td>2581</td>\n",
       "      <td>Mercadeo y publicidad</td>\n",
       "      <td>Proveedor 2</td>\n",
       "      <td>Portal comprador 1</td>\n",
       "      <td>Recibido</td>\n",
       "      <td>1.000</td>\n",
       "      <td>1.000</td>\n",
       "      <td>1476972.000</td>\n",
       "      <td>280625</td>\n",
       "      <td>1476972.000</td>\n",
       "    </tr>\n",
       "  </tbody>\n",
       "</table>\n",
       "</div>"
      ],
      "text/plain": [
       "   NÚMERO_PEDIDO  ORDEN_NÚMERO                  CATEGORÍA    PROVEEDOR  \\\n",
       "0          49561          2582  Eléctricos y Electrónicos  Proveedor 1   \n",
       "1          49560          2581      Mercadeo y publicidad  Proveedor 2   \n",
       "\n",
       "  COMPAÑÍA_COMPRADORA            ESTADO  CANTIDAD_PEDIDA  CANTIDAD_RECIBIDA  \\\n",
       "0  Portal comprador 1  Orden en Proceso            2.000              0.000   \n",
       "1  Portal comprador 1          Recibido            1.000              1.000   \n",
       "\n",
       "   PRECIO_UNITARIO     IVA  TOTAL_SIN_IVA  \n",
       "0        23364.000    4439      46728.000  \n",
       "1      1476972.000  280625    1476972.000  "
      ]
     },
     "execution_count": 41,
     "metadata": {},
     "output_type": "execute_result"
    }
   ],
   "source": [
    "df_new.head(2)"
   ]
  },
  {
   "cell_type": "markdown",
   "metadata": {},
   "source": [
    "## REPEAT THE PROCESS WITH df_new"
   ]
  },
  {
   "cell_type": "code",
   "execution_count": 42,
   "metadata": {},
   "outputs": [],
   "source": [
    "df_COMPANHIA_COMPRADORA_new = pd.DataFrame(df_new['COMPAÑÍA_COMPRADORA'].value_counts()).reset_index()\n",
    "\n",
    "df_COMPANHIA_COMPRADORA_new['Percentage'] = df_COMPANHIA_COMPRADORA_new['COMPAÑÍA_COMPRADORA'] / df_new['COMPAÑÍA_COMPRADORA'].value_counts().sum()\n",
    "\n",
    "df_COMPANHIA_COMPRADORA_new.rename(columns = {'index':'COMPAÑÍA_COMPRADORA', 'COMPAÑÍA_COMPRADORA':'Total'}, inplace = True)"
   ]
  },
  {
   "cell_type": "code",
   "execution_count": 43,
   "metadata": {},
   "outputs": [],
   "source": [
    "df_COMPANHIA_COMPRADORA_new = df_COMPANHIA_COMPRADORA_new.sort_values('Total', ascending = True).reset_index(drop = True)"
   ]
  },
  {
   "cell_type": "code",
   "execution_count": 44,
   "metadata": {},
   "outputs": [],
   "source": [
    "df_COMPANHIA_COMPRADORA_new = df.groupby('COMPAÑÍA_COMPRADORA').agg({\n",
    "    'COMPAÑÍA_COMPRADORA': 'count',\n",
    "    'CANTIDAD_PEDIDA': 'sum',\n",
    "    'CANTIDAD_RECIBIDA': 'sum',\n",
    "    'PRECIO_UNITARIO': 'mean',\n",
    "    'IVA': 'sum',\n",
    "    'TOTAL_SIN_IVA': 'sum'\n",
    "    }\n",
    ").rename(columns = {'COMPAÑÍA_COMPRADORA': 'Total'}).reset_index().sort_values('Total', ascending = True)"
   ]
  },
  {
   "cell_type": "code",
   "execution_count": 45,
   "metadata": {},
   "outputs": [
    {
     "data": {
      "text/html": [
       "<div>\n",
       "<style scoped>\n",
       "    .dataframe tbody tr th:only-of-type {\n",
       "        vertical-align: middle;\n",
       "    }\n",
       "\n",
       "    .dataframe tbody tr th {\n",
       "        vertical-align: top;\n",
       "    }\n",
       "\n",
       "    .dataframe thead th {\n",
       "        text-align: right;\n",
       "    }\n",
       "</style>\n",
       "<table border=\"1\" class=\"dataframe\">\n",
       "  <thead>\n",
       "    <tr style=\"text-align: right;\">\n",
       "      <th></th>\n",
       "      <th>COMPAÑÍA_COMPRADORA</th>\n",
       "      <th>Total</th>\n",
       "      <th>CANTIDAD_PEDIDA</th>\n",
       "      <th>CANTIDAD_RECIBIDA</th>\n",
       "      <th>PRECIO_UNITARIO</th>\n",
       "      <th>IVA</th>\n",
       "      <th>TOTAL_SIN_IVA</th>\n",
       "    </tr>\n",
       "  </thead>\n",
       "  <tbody>\n",
       "    <tr>\n",
       "      <th>0</th>\n",
       "      <td>Portal comprador 1</td>\n",
       "      <td>6563</td>\n",
       "      <td>432971.200</td>\n",
       "      <td>414527.300</td>\n",
       "      <td>165470.905</td>\n",
       "      <td>166869025</td>\n",
       "      <td>2742179393.000</td>\n",
       "    </tr>\n",
       "    <tr>\n",
       "      <th>16</th>\n",
       "      <td>Portal comprador 24</td>\n",
       "      <td>5439</td>\n",
       "      <td>231092.000</td>\n",
       "      <td>231092.000</td>\n",
       "      <td>39930.220</td>\n",
       "      <td>41264145</td>\n",
       "      <td>4293598558.000</td>\n",
       "    </tr>\n",
       "  </tbody>\n",
       "</table>\n",
       "</div>"
      ],
      "text/plain": [
       "    COMPAÑÍA_COMPRADORA  Total  CANTIDAD_PEDIDA  CANTIDAD_RECIBIDA  \\\n",
       "0    Portal comprador 1   6563       432971.200         414527.300   \n",
       "16  Portal comprador 24   5439       231092.000         231092.000   \n",
       "\n",
       "    PRECIO_UNITARIO        IVA  TOTAL_SIN_IVA  \n",
       "0        165470.905  166869025 2742179393.000  \n",
       "16        39930.220   41264145 4293598558.000  "
      ]
     },
     "execution_count": 45,
     "metadata": {},
     "output_type": "execute_result"
    }
   ],
   "source": [
    "df_COMPANHIA_COMPRADORA_new.sort_values(by='Total', ascending=False).head(2)"
   ]
  },
  {
   "cell_type": "code",
   "execution_count": 46,
   "metadata": {},
   "outputs": [],
   "source": [
    "catColumnsPos_new = [df_new.columns.get_loc(col) for col in list(df_new.select_dtypes('object').columns)]"
   ]
  },
  {
   "cell_type": "code",
   "execution_count": 47,
   "metadata": {},
   "outputs": [
    {
     "data": {
      "text/plain": [
       "array([[49561, 2582, 'Eléctricos y Electrónicos', ..., 23364.0, 4439,\n",
       "        46728.0],\n",
       "       [49560, 2581, 'Mercadeo y publicidad', ..., 1476972.0, 280625,\n",
       "        1476972.0],\n",
       "       [49559, 2580, 'Alimentos y Bebidas', ..., 15500.0, 0, 155000.0],\n",
       "       ...,\n",
       "       [2, 2, 'Moda y accesorios', ..., 29412.0, 5588, 88235.0],\n",
       "       [1, 1, 'Moda y accesorios', ..., 29412.0, 5588, 117647.0],\n",
       "       [1, 1, 'Aseo, Cafetería y Oficina', ..., 33613.0, 6387, 168067.0]],\n",
       "      dtype=object)"
      ]
     },
     "execution_count": 47,
     "metadata": {},
     "output_type": "execute_result"
    }
   ],
   "source": [
    "dfMatrix_new = df_new.to_numpy()\n",
    "dfMatrix_new"
   ]
  },
  {
   "cell_type": "code",
   "execution_count": 61,
   "metadata": {},
   "outputs": [
    {
     "name": "stdout",
     "output_type": "stream",
     "text": [
      "Cluster initiation: 2\n",
      "Cluster initiation: 3\n",
      "Cluster initiation: 4\n",
      "Cluster initiation: 5\n",
      "Cluster initiation: 6\n",
      "Cluster initiation: 7\n"
     ]
    }
   ],
   "source": [
    "cost_new = []\n",
    "for cluster in range(2, 10):\n",
    "    try:\n",
    "        kprototype = KPrototypes(n_jobs = -1, n_clusters = cluster, init = 'Huang', random_state = 0)\n",
    "        kprototype.fit_predict(dfMatrix_new, categorical = catColumnsPos_new)\n",
    "        cost_new.append(kprototype.cost_)\n",
    "        print('Cluster initiation: {}'.format(cluster))\n",
    "    except:\n",
    "        break"
   ]
  },
  {
   "cell_type": "code",
   "execution_count": 79,
   "metadata": {
    "scrolled": true
   },
   "outputs": [
    {
     "data": {
      "image/png": "[encoded data removed]",
      "text/plain": [
       "<Figure size 500x300 with 1 Axes>"
      ]
     },
     "metadata": {
      "needs_background": "light"
     },
     "output_type": "display_data"
    },
    {
     "data": {
      "text/plain": [
       "<ggplot: (189242571560)>"
      ]
     },
     "execution_count": 79,
     "metadata": {},
     "output_type": "execute_result"
    }
   ],
   "source": [
    "#Converting the results into a dataframe and plotting them\n",
    "\n",
    "df_cost_new = pd.DataFrame({'Cluster':range(1, 7), 'Cost':cost_new})\n",
    "# Data viz\n",
    "\n",
    "plotnine.options.figure_size = (5, 3)\n",
    "(\n",
    "     ggplot(data = df_cost_new)+\n",
    "     geom_line(aes(x = 'Cluster',\n",
    "                   y = 'Cost'))+\n",
    "     geom_point(aes(x = 'Cluster',\n",
    "                    y = 'Cost'))+\n",
    "     geom_label(aes(x = 'Cluster',\n",
    "                    y = 'Cost',\n",
    "                    label = 'Cluster'),\n",
    "                size = 10,\n",
    "                nudge_y = 1000) +\n",
    "     labs(title = 'Optimal number of cluster with Elbow Method')+\n",
    "     xlab('Number of Clusters k')+\n",
    "     ylab('Cost')+\n",
    "     theme_minimal()\n",
    ")"
   ]
  },
  {
   "cell_type": "code",
   "execution_count": 48,
   "metadata": {},
   "outputs": [
    {
     "data": {
      "text/plain": [
       "array([0, 0, 0, ..., 0, 0, 0], dtype=uint16)"
      ]
     },
     "execution_count": 48,
     "metadata": {},
     "output_type": "execute_result"
    }
   ],
   "source": [
    "# Fit the cluster\n",
    "kprototype_new = KPrototypes(n_jobs = -1, n_clusters = 3, init = 'Huang', random_state = 0)\n",
    "kprototype_new.fit_predict(dfMatrix_new, categorical = catColumnsPos_new)"
   ]
  },
  {
   "cell_type": "code",
   "execution_count": 49,
   "metadata": {},
   "outputs": [
    {
     "data": {
      "text/plain": [
       "array([['34911.671262868585', '705.7191037406252', '188.4532715330507',\n",
       "        '38.63232216891043', '40032.03517026133', '6275.707970373131',\n",
       "        '234120.24898681697', 'Alimentos y Bebidas', 'Proveedor 301',\n",
       "        'Portal comprador 1', 'Recibido'],\n",
       "       ['39870.79527559055', '754.8042744656918', '387.0576490438695',\n",
       "        '299.1383577052867', '519549.62767154106', '86717.57142857143',\n",
       "        '4461659.010123734', 'Vigilancia y seguridad industrial',\n",
       "        'Proveedor 301', 'Portal comprador 24', 'Recibido'],\n",
       "       ['42135.76666666667', '1076.8666666666666', '411.199999999999',\n",
       "        '388.8333333333343', '8320701.2', '1236648.3333333333',\n",
       "        '27725183.866666667', 'Construcción y Mantenimiento',\n",
       "        'Proveedor 301', 'Portal comprador 1', 'Recibido']], dtype='<U33')"
      ]
     },
     "execution_count": 49,
     "metadata": {},
     "output_type": "execute_result"
    }
   ],
   "source": [
    "# Cluster centorid\n",
    "kprototype_new.cluster_centroids_"
   ]
  },
  {
   "cell_type": "code",
   "execution_count": 50,
   "metadata": {},
   "outputs": [
    {
     "data": {
      "text/plain": [
       "1.671212288074429e+16"
      ]
     },
     "execution_count": 50,
     "metadata": {},
     "output_type": "execute_result"
    }
   ],
   "source": [
    "# Check the cost of the clusters created\n",
    "kprototype_new.cost_"
   ]
  },
  {
   "cell_type": "code",
   "execution_count": 51,
   "metadata": {},
   "outputs": [
    {
     "name": "stderr",
     "output_type": "stream",
     "text": [
      "<ipython-input-51-4241c87df5ac>:1: SettingWithCopyWarning: \n",
      "A value is trying to be set on a copy of a slice from a DataFrame.\n",
      "Try using .loc[row_indexer,col_indexer] = value instead\n",
      "\n",
      "See the caveats in the documentation: https://pandas.pydata.org/pandas-docs/stable/user_guide/indexing.html#returning-a-view-versus-a-copy\n",
      "<ipython-input-51-4241c87df5ac>:2: SettingWithCopyWarning: \n",
      "A value is trying to be set on a copy of a slice from a DataFrame.\n",
      "Try using .loc[row_indexer,col_indexer] = value instead\n",
      "\n",
      "See the caveats in the documentation: https://pandas.pydata.org/pandas-docs/stable/user_guide/indexing.html#returning-a-view-versus-a-copy\n"
     ]
    }
   ],
   "source": [
    "df_new['Cluster Labels'] = kprototype_new.labels_\n",
    "df_new['Segment'] = df_new['Cluster Labels'].map({0:'First', 1:'Second', 2:'Third'})"
   ]
  },
  {
   "cell_type": "code",
   "execution_count": 52,
   "metadata": {},
   "outputs": [
    {
     "data": {
      "text/html": [
       "<div>\n",
       "<style scoped>\n",
       "    .dataframe tbody tr th:only-of-type {\n",
       "        vertical-align: middle;\n",
       "    }\n",
       "\n",
       "    .dataframe tbody tr th {\n",
       "        vertical-align: top;\n",
       "    }\n",
       "\n",
       "    .dataframe thead th {\n",
       "        text-align: right;\n",
       "    }\n",
       "</style>\n",
       "<table border=\"1\" class=\"dataframe\">\n",
       "  <thead>\n",
       "    <tr style=\"text-align: right;\">\n",
       "      <th></th>\n",
       "      <th>NÚMERO_PEDIDO</th>\n",
       "      <th>ORDEN_NÚMERO</th>\n",
       "      <th>CATEGORÍA</th>\n",
       "      <th>PROVEEDOR</th>\n",
       "      <th>COMPAÑÍA_COMPRADORA</th>\n",
       "      <th>ESTADO</th>\n",
       "      <th>CANTIDAD_PEDIDA</th>\n",
       "      <th>CANTIDAD_RECIBIDA</th>\n",
       "      <th>PRECIO_UNITARIO</th>\n",
       "      <th>IVA</th>\n",
       "      <th>TOTAL_SIN_IVA</th>\n",
       "      <th>Cluster Labels</th>\n",
       "      <th>Segment</th>\n",
       "    </tr>\n",
       "  </thead>\n",
       "  <tbody>\n",
       "    <tr>\n",
       "      <th>0</th>\n",
       "      <td>49561</td>\n",
       "      <td>2582</td>\n",
       "      <td>Eléctricos y Electrónicos</td>\n",
       "      <td>Proveedor 1</td>\n",
       "      <td>Portal comprador 1</td>\n",
       "      <td>Orden en Proceso</td>\n",
       "      <td>2.000</td>\n",
       "      <td>0.000</td>\n",
       "      <td>23364.000</td>\n",
       "      <td>4439</td>\n",
       "      <td>46728.000</td>\n",
       "      <td>0</td>\n",
       "      <td>First</td>\n",
       "    </tr>\n",
       "    <tr>\n",
       "      <th>1</th>\n",
       "      <td>49560</td>\n",
       "      <td>2581</td>\n",
       "      <td>Mercadeo y publicidad</td>\n",
       "      <td>Proveedor 2</td>\n",
       "      <td>Portal comprador 1</td>\n",
       "      <td>Recibido</td>\n",
       "      <td>1.000</td>\n",
       "      <td>1.000</td>\n",
       "      <td>1476972.000</td>\n",
       "      <td>280625</td>\n",
       "      <td>1476972.000</td>\n",
       "      <td>0</td>\n",
       "      <td>First</td>\n",
       "    </tr>\n",
       "    <tr>\n",
       "      <th>2</th>\n",
       "      <td>49559</td>\n",
       "      <td>2580</td>\n",
       "      <td>Alimentos y Bebidas</td>\n",
       "      <td>Proveedor 3</td>\n",
       "      <td>Portal comprador 1</td>\n",
       "      <td>Orden en Proceso</td>\n",
       "      <td>10.000</td>\n",
       "      <td>0.000</td>\n",
       "      <td>15500.000</td>\n",
       "      <td>0</td>\n",
       "      <td>155000.000</td>\n",
       "      <td>0</td>\n",
       "      <td>First</td>\n",
       "    </tr>\n",
       "    <tr>\n",
       "      <th>3</th>\n",
       "      <td>49558</td>\n",
       "      <td>1892</td>\n",
       "      <td>Alimentos y Bebidas</td>\n",
       "      <td>Proveedor 4</td>\n",
       "      <td>Portal comprador 2</td>\n",
       "      <td>Orden en Proceso</td>\n",
       "      <td>50.000</td>\n",
       "      <td>0.000</td>\n",
       "      <td>22000.000</td>\n",
       "      <td>0</td>\n",
       "      <td>1100000.000</td>\n",
       "      <td>0</td>\n",
       "      <td>First</td>\n",
       "    </tr>\n",
       "  </tbody>\n",
       "</table>\n",
       "</div>"
      ],
      "text/plain": [
       "   NÚMERO_PEDIDO  ORDEN_NÚMERO                  CATEGORÍA    PROVEEDOR  \\\n",
       "0          49561          2582  Eléctricos y Electrónicos  Proveedor 1   \n",
       "1          49560          2581      Mercadeo y publicidad  Proveedor 2   \n",
       "2          49559          2580        Alimentos y Bebidas  Proveedor 3   \n",
       "3          49558          1892        Alimentos y Bebidas  Proveedor 4   \n",
       "\n",
       "  COMPAÑÍA_COMPRADORA            ESTADO  CANTIDAD_PEDIDA  CANTIDAD_RECIBIDA  \\\n",
       "0  Portal comprador 1  Orden en Proceso            2.000              0.000   \n",
       "1  Portal comprador 1          Recibido            1.000              1.000   \n",
       "2  Portal comprador 1  Orden en Proceso           10.000              0.000   \n",
       "3  Portal comprador 2  Orden en Proceso           50.000              0.000   \n",
       "\n",
       "   PRECIO_UNITARIO     IVA  TOTAL_SIN_IVA  Cluster Labels Segment  \n",
       "0        23364.000    4439      46728.000               0   First  \n",
       "1      1476972.000  280625    1476972.000               0   First  \n",
       "2        15500.000       0     155000.000               0   First  \n",
       "3        22000.000       0    1100000.000               0   First  "
      ]
     },
     "execution_count": 52,
     "metadata": {},
     "output_type": "execute_result"
    }
   ],
   "source": [
    "df_new.head(2)"
   ]
  },
  {
   "cell_type": "code",
   "execution_count": 53,
   "metadata": {},
   "outputs": [],
   "source": [
    "df_new.to_csv(\"Kprototype_clusters_sinTopPerfomers_3.csv\")"
   ]
  },
  {
   "cell_type": "code",
   "execution_count": 54,
   "metadata": {},
   "outputs": [
    {
     "data": {
      "text/plain": [
       "<AxesSubplot:title={'center':'Row principal coordinates'}, xlabel='Component 0 (1.30% inertia)', ylabel='Component 1 (1.07% inertia)'>"
      ]
     },
     "execution_count": 54,
     "metadata": {},
     "output_type": "execute_result"
    },
    {
     "data": {
      "image/png": "[encoded data removed]",
      "text/plain": [
       "<Figure size 1080x720 with 1 Axes>"
      ]
     },
     "metadata": {},
     "output_type": "display_data"
    }
   ],
   "source": [
    "#FAMD\n",
    "\n",
    "from prince import FAMD\n",
    "\n",
    "X=pd.read_csv(\"Kprototype_clusters_sinTopPerfomers_3.csv\")\n",
    "\n",
    "famd_new = FAMD(n_components =2, n_iter = 3, random_state = 101)\n",
    "\n",
    "famd_new.fit(X)\n",
    "famd_new.transform(X)\n",
    "famd_new.plot_row_coordinates(X,figsize=(15, 10),color_labels=['Clusters : {}'.format(t) for t in X['Segment']] )\n"
   ]
  },
  {
   "cell_type": "code",
   "execution_count": 88,
   "metadata": {},
   "outputs": [
    {
     "name": "stderr",
     "output_type": "stream",
     "text": [
      "<ipython-input-88-867b9377fb6f>:2: SettingWithCopyWarning: \n",
      "A value is trying to be set on a copy of a slice from a DataFrame.\n",
      "Try using .loc[row_indexer,col_indexer] = value instead\n",
      "\n",
      "See the caveats in the documentation: https://pandas.pydata.org/pandas-docs/stable/user_guide/indexing.html#returning-a-view-versus-a-copy\n",
      "<ipython-input-88-867b9377fb6f>:3: SettingWithCopyWarning: \n",
      "A value is trying to be set on a copy of a slice from a DataFrame.\n",
      "Try using .loc[row_indexer,col_indexer] = value instead\n",
      "\n",
      "See the caveats in the documentation: https://pandas.pydata.org/pandas-docs/stable/user_guide/indexing.html#returning-a-view-versus-a-copy\n"
     ]
    }
   ],
   "source": [
    "# Order the cluster\n",
    "df_new['Segment'] = df_new['Segment'].astype('category')\n",
    "df_new['Segment'] = df_new['Segment'].cat.reorder_categories(['First','Second'])"
   ]
  },
  {
   "cell_type": "code",
   "execution_count": 89,
   "metadata": {},
   "outputs": [
    {
     "data": {
      "text/plain": [
       "Segment\n",
       "First     22168\n",
       "Second      218\n",
       "Name: Segment, dtype: int64"
      ]
     },
     "execution_count": 89,
     "metadata": {},
     "output_type": "execute_result"
    }
   ],
   "source": [
    "df_new.groupby('Segment')['Segment'].count()"
   ]
  },
  {
   "cell_type": "code",
   "execution_count": null,
   "metadata": {},
   "outputs": [],
   "source": []
  }
 ],
 "metadata": {
  "interpreter": {
   "hash": "c94be41889154d41bf43aca8d1a8d1cd64b97c119170e03e2ed46ca87183f0c5"
  },
  "kernelspec": {
   "display_name": "Python 3",
   "language": "python",
   "name": "python3"
  },
  "language_info": {
   "codemirror_mode": {
    "name": "ipython",
    "version": 3
   },
   "file_extension": ".py",
   "mimetype": "text/x-python",
   "name": "python",
   "nbconvert_exporter": "python",
   "pygments_lexer": "ipython3",
   "version": "3.8.8"
  }
 },
 "nbformat": 4,
 "nbformat_minor": 2
}
