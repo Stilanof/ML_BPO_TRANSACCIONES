{
 "cells": [
  {
   "cell_type": "code",
   "execution_count": 85,
   "metadata": {},
   "outputs": [],
   "source": [
    "import pandas as pd\n",
    "import matplotlib as plt\n",
    "import seaborn as sns\n",
    "import plotly.express as px\n",
    "import numpy as np"
   ]
  },
  {
   "cell_type": "markdown",
   "metadata": {},
   "source": [
    "# 1 DATA ACQUISITION"
   ]
  },
  {
   "cell_type": "code",
   "execution_count": 86,
   "metadata": {},
   "outputs": [],
   "source": [
    "df2 = pd.read_excel('../OrdenesdecompraPORTAL1K.xlsx', thousands='.')\n"
   ]
  },
  {
   "cell_type": "code",
   "execution_count": 87,
   "metadata": {},
   "outputs": [],
   "source": [
    "pd.options.display.max_columns = None\n",
    "pd.options.display.float_format = '{:20,.2f}'.format"
   ]
  },
  {
   "cell_type": "code",
   "execution_count": 88,
   "metadata": {},
   "outputs": [
    {
     "data": {
      "text/plain": [
       "Index(['NÚMERO PEDIDO', 'ORDEN NÚMERO', 'FECHA ORDEN', 'FECHA ENTREGA',\n",
       "       'FECHA APROBACION', 'CATEGORÍA', 'SUBCATEGORIA', 'PROVEEDOR', 'USUARIO',\n",
       "       'USUARIO APROBADOR', 'DIRECCION PEDIDO', 'DIRECCION FACTURACION',\n",
       "       'CENTRO DE COSTOS', 'PRESUPUESTO', 'PORTAL', 'ESTADO',\n",
       "       'PRODUCTO O SERVICIO', 'CODIGO PORTAL', 'CANTIDAD PEDIDA',\n",
       "       'CANTIDAD RECIBIDA', 'PRECIO UNITARIO', 'PRECIO UNITARIO + IVA', 'IVA',\n",
       "       'TOTAL SIN IVA', 'TOTAL + IVA', 'FECHA ULTIMO MOVIMIENTO',\n",
       "       'Unnamed: 26', 'Unnamed: 27', 'Unnamed: 28'],\n",
       "      dtype='object')"
      ]
     },
     "execution_count": 88,
     "metadata": {},
     "output_type": "execute_result"
    }
   ],
   "source": [
    "df2.columns"
   ]
  },
  {
   "cell_type": "code",
   "execution_count": 89,
   "metadata": {},
   "outputs": [],
   "source": [
    "df2 = df2[['NÚMERO PEDIDO', 'ORDEN NÚMERO', 'FECHA ORDEN', 'FECHA ENTREGA',\n",
    "       'FECHA APROBACION', 'CATEGORÍA', 'SUBCATEGORIA', 'PROVEEDOR', 'USUARIO',\n",
    "       'USUARIO APROBADOR', 'DIRECCION PEDIDO', 'DIRECCION FACTURACION',\n",
    "       'CENTRO DE COSTOS', 'PRESUPUESTO', 'PORTAL', 'ESTADO',\n",
    "       'PRODUCTO O SERVICIO', 'CODIGO PORTAL', 'CANTIDAD PEDIDA',\n",
    "       'CANTIDAD RECIBIDA', 'PRECIO UNITARIO', 'PRECIO UNITARIO + IVA', 'IVA',\n",
    "       'TOTAL SIN IVA', 'TOTAL + IVA', 'FECHA ULTIMO MOVIMIENTO']]"
   ]
  },
  {
   "cell_type": "code",
   "execution_count": 90,
   "metadata": {},
   "outputs": [],
   "source": [
    "df = pd.read_excel('../B_Ordenes_04-10-2021.xlsx', thousands='.')"
   ]
  },
  {
   "cell_type": "code",
   "execution_count": 91,
   "metadata": {},
   "outputs": [
    {
     "data": {
      "text/plain": [
       "Index(['NÚMERO PEDIDO', 'ORDEN NÚMERO', 'FECHA ORDEN', 'FECHA ENTREGA',\n",
       "       'FECHA APROBACIÓN', 'CATEGORÍA', 'SUBCATEGORÍA', 'PROVEEDOR', 'USUARIO',\n",
       "       'USUARIO APROBADOR', 'DIRECCIÓN DE  ENTREGA', 'DIRECCIÓN FACTURACIÓN',\n",
       "       'CENTRO COSTO', 'PRESUPUESTO', 'COMPAÑÍA COMPRADORA', 'ESTADO',\n",
       "       'PRODUCTO O SERVICIO', 'CÓDIGO PRODUCTO', 'CANTIDAD PEDIDA',\n",
       "       'CANTIDAD RECIBIDA', 'PRECIO UNITARIO', 'PRECIO UNITARIO + IVA', 'IVA',\n",
       "       'TOTAL SIN IVA', 'TOTAL + IVA', 'FECHA ÚLTIMO MOVIMIENTO'],\n",
       "      dtype='object')"
      ]
     },
     "execution_count": 91,
     "metadata": {},
     "output_type": "execute_result"
    }
   ],
   "source": [
    "df.columns"
   ]
  },
  {
   "cell_type": "code",
   "execution_count": 92,
   "metadata": {},
   "outputs": [],
   "source": [
    "df2.columns = df.columns"
   ]
  },
  {
   "cell_type": "code",
   "execution_count": 93,
   "metadata": {},
   "outputs": [
    {
     "data": {
      "text/plain": [
       "array([ True,  True,  True,  True,  True,  True,  True,  True,  True,\n",
       "        True,  True,  True,  True,  True,  True,  True,  True,  True,\n",
       "        True,  True,  True,  True,  True,  True,  True,  True])"
      ]
     },
     "execution_count": 93,
     "metadata": {},
     "output_type": "execute_result"
    }
   ],
   "source": [
    "df.columns == df2.columns"
   ]
  },
  {
   "cell_type": "code",
   "execution_count": 94,
   "metadata": {},
   "outputs": [],
   "source": [
    "df = df2"
   ]
  },
  {
   "cell_type": "markdown",
   "metadata": {},
   "source": [
    "Describe and info of the df"
   ]
  },
  {
   "cell_type": "code",
   "execution_count": 95,
   "metadata": {},
   "outputs": [
    {
     "name": "stdout",
     "output_type": "stream",
     "text": [
      "<class 'pandas.core.frame.DataFrame'>\n",
      "RangeIndex: 23083 entries, 0 to 23082\n",
      "Data columns (total 26 columns):\n",
      " #   Column                   Non-Null Count  Dtype  \n",
      "---  ------                   --------------  -----  \n",
      " 0   NÚMERO PEDIDO            23083 non-null  object \n",
      " 1   ORDEN NÚMERO             23083 non-null  object \n",
      " 2   FECHA ORDEN              23083 non-null  object \n",
      " 3   FECHA ENTREGA            18770 non-null  object \n",
      " 4   FECHA APROBACIÓN         21950 non-null  object \n",
      " 5   CATEGORÍA                23083 non-null  object \n",
      " 6   SUBCATEGORÍA             23083 non-null  object \n",
      " 7   PROVEEDOR                23083 non-null  object \n",
      " 8   USUARIO                  23083 non-null  object \n",
      " 9   USUARIO APROBADOR        21950 non-null  object \n",
      " 10  DIRECCIÓN DE  ENTREGA    23083 non-null  object \n",
      " 11  DIRECCIÓN FACTURACIÓN    10828 non-null  object \n",
      " 12  CENTRO COSTO             16672 non-null  object \n",
      " 13  PRESUPUESTO              18581 non-null  object \n",
      " 14  COMPAÑÍA COMPRADORA      23083 non-null  object \n",
      " 15  ESTADO                   23083 non-null  object \n",
      " 16  PRODUCTO O SERVICIO      23083 non-null  object \n",
      " 17  CÓDIGO PRODUCTO          18223 non-null  object \n",
      " 18  CANTIDAD PEDIDA          23083 non-null  float64\n",
      " 19  CANTIDAD RECIBIDA        16013 non-null  float64\n",
      " 20  PRECIO UNITARIO          23083 non-null  int64  \n",
      " 21  PRECIO UNITARIO + IVA    23083 non-null  int64  \n",
      " 22  IVA                      23083 non-null  int64  \n",
      " 23  TOTAL SIN IVA            23083 non-null  int64  \n",
      " 24  TOTAL + IVA              23083 non-null  int64  \n",
      " 25  FECHA ÚLTIMO MOVIMIENTO  23083 non-null  object \n",
      "dtypes: float64(2), int64(5), object(19)\n",
      "memory usage: 4.6+ MB\n"
     ]
    }
   ],
   "source": [
    "df.info()"
   ]
  },
  {
   "cell_type": "markdown",
   "metadata": {},
   "source": [
    "# DATA PREPARATION"
   ]
  },
  {
   "cell_type": "markdown",
   "metadata": {},
   "source": [
    "# 1. Data integration"
   ]
  },
  {
   "cell_type": "markdown",
   "metadata": {},
   "source": [
    "There are no more data integration to join. I have only the .xlsx file"
   ]
  },
  {
   "cell_type": "markdown",
   "metadata": {},
   "source": [
    "# 2. IRELEVANT VARIABLES"
   ]
  },
  {
   "cell_type": "markdown",
   "metadata": {},
   "source": [
    "## 2.1 Duplicated rows"
   ]
  },
  {
   "cell_type": "code",
   "execution_count": 96,
   "metadata": {},
   "outputs": [
    {
     "data": {
      "text/plain": [
       "691"
      ]
     },
     "execution_count": 96,
     "metadata": {},
     "output_type": "execute_result"
    }
   ],
   "source": [
    "df.duplicated(keep='first').sum()"
   ]
  },
  {
   "cell_type": "code",
   "execution_count": 97,
   "metadata": {},
   "outputs": [],
   "source": [
    "df.drop_duplicates(keep='first', inplace=True)"
   ]
  },
  {
   "cell_type": "markdown",
   "metadata": {},
   "source": [
    "## 2.2 Irrelevant columns"
   ]
  },
  {
   "cell_type": "markdown",
   "metadata": {},
   "source": [
    "Until we know the objective of this project, we couldn´t drop some variables, but for now, let´s do a clasical ML model"
   ]
  },
  {
   "cell_type": "code",
   "execution_count": 98,
   "metadata": {},
   "outputs": [
    {
     "data": {
      "text/html": [
       "<div>\n",
       "<style scoped>\n",
       "    .dataframe tbody tr th:only-of-type {\n",
       "        vertical-align: middle;\n",
       "    }\n",
       "\n",
       "    .dataframe tbody tr th {\n",
       "        vertical-align: top;\n",
       "    }\n",
       "\n",
       "    .dataframe thead th {\n",
       "        text-align: right;\n",
       "    }\n",
       "</style>\n",
       "<table border=\"1\" class=\"dataframe\">\n",
       "  <thead>\n",
       "    <tr style=\"text-align: right;\">\n",
       "      <th></th>\n",
       "      <th>NÚMERO PEDIDO</th>\n",
       "      <th>ORDEN NÚMERO</th>\n",
       "      <th>FECHA ORDEN</th>\n",
       "      <th>FECHA ENTREGA</th>\n",
       "      <th>FECHA APROBACIÓN</th>\n",
       "      <th>CATEGORÍA</th>\n",
       "      <th>SUBCATEGORÍA</th>\n",
       "      <th>PROVEEDOR</th>\n",
       "      <th>USUARIO</th>\n",
       "      <th>USUARIO APROBADOR</th>\n",
       "      <th>DIRECCIÓN DE  ENTREGA</th>\n",
       "      <th>DIRECCIÓN FACTURACIÓN</th>\n",
       "      <th>CENTRO COSTO</th>\n",
       "      <th>PRESUPUESTO</th>\n",
       "      <th>COMPAÑÍA COMPRADORA</th>\n",
       "      <th>ESTADO</th>\n",
       "      <th>PRODUCTO O SERVICIO</th>\n",
       "      <th>CÓDIGO PRODUCTO</th>\n",
       "      <th>CANTIDAD PEDIDA</th>\n",
       "      <th>CANTIDAD RECIBIDA</th>\n",
       "      <th>PRECIO UNITARIO</th>\n",
       "      <th>PRECIO UNITARIO + IVA</th>\n",
       "      <th>IVA</th>\n",
       "      <th>TOTAL SIN IVA</th>\n",
       "      <th>TOTAL + IVA</th>\n",
       "      <th>FECHA ÚLTIMO MOVIMIENTO</th>\n",
       "    </tr>\n",
       "  </thead>\n",
       "  <tbody>\n",
       "    <tr>\n",
       "      <th>0</th>\n",
       "      <td># 49561</td>\n",
       "      <td># 2582</td>\n",
       "      <td>2021-11-10</td>\n",
       "      <td>2021-11-10</td>\n",
       "      <td>2021-11-10</td>\n",
       "      <td>Eléctricos y Electrónicos</td>\n",
       "      <td>Lámparas y bombillas y componentes para lámparas</td>\n",
       "      <td>Proveedor 1</td>\n",
       "      <td>Usuario solicitante 1</td>\n",
       "      <td>Usuario Aprobador 1</td>\n",
       "      <td>Direccion 1</td>\n",
       "      <td>NaN</td>\n",
       "      <td>Centro de costos 1</td>\n",
       "      <td>Presupuesto 1</td>\n",
       "      <td>Portal comprador 1</td>\n",
       "      <td>Orden en Proceso</td>\n",
       "      <td>PANEL LED SOBREPONER 24W REDONDO LUZ BLANCA</td>\n",
       "      <td>1200035000063</td>\n",
       "      <td>2.00</td>\n",
       "      <td>nan</td>\n",
       "      <td>23364</td>\n",
       "      <td>27803</td>\n",
       "      <td>4439</td>\n",
       "      <td>46728</td>\n",
       "      <td>55606</td>\n",
       "      <td>2021-11-10</td>\n",
       "    </tr>\n",
       "    <tr>\n",
       "      <th>1</th>\n",
       "      <td># 49560</td>\n",
       "      <td># 2581</td>\n",
       "      <td>2021-11-10</td>\n",
       "      <td>2021-11-11</td>\n",
       "      <td>2021-11-10</td>\n",
       "      <td>Mercadeo y publicidad</td>\n",
       "      <td>Publicidad</td>\n",
       "      <td>Proveedor 2</td>\n",
       "      <td>Usuario solicitante 2</td>\n",
       "      <td>Usuario Aprobador 2</td>\n",
       "      <td>Direccion 1</td>\n",
       "      <td>NaN</td>\n",
       "      <td>Centro de costos 2</td>\n",
       "      <td>Presupuesto 2</td>\n",
       "      <td>Portal comprador 1</td>\n",
       "      <td>Recibido</td>\n",
       "      <td>ACTIVIDADES COMERCIALES</td>\n",
       "      <td>1K15774</td>\n",
       "      <td>1.00</td>\n",
       "      <td>1.00</td>\n",
       "      <td>1476972</td>\n",
       "      <td>1757597</td>\n",
       "      <td>280625</td>\n",
       "      <td>1476972</td>\n",
       "      <td>1757597</td>\n",
       "      <td>2021-11-10</td>\n",
       "    </tr>\n",
       "  </tbody>\n",
       "</table>\n",
       "</div>"
      ],
      "text/plain": [
       "  NÚMERO PEDIDO ORDEN NÚMERO FECHA ORDEN FECHA ENTREGA FECHA APROBACIÓN  \\\n",
       "0       # 49561       # 2582  2021-11-10    2021-11-10       2021-11-10   \n",
       "1       # 49560       # 2581  2021-11-10    2021-11-11       2021-11-10   \n",
       "\n",
       "                   CATEGORÍA  \\\n",
       "0  Eléctricos y Electrónicos   \n",
       "1      Mercadeo y publicidad   \n",
       "\n",
       "                                       SUBCATEGORÍA    PROVEEDOR  \\\n",
       "0  Lámparas y bombillas y componentes para lámparas  Proveedor 1   \n",
       "1                                        Publicidad  Proveedor 2   \n",
       "\n",
       "                 USUARIO    USUARIO APROBADOR DIRECCIÓN DE  ENTREGA  \\\n",
       "0  Usuario solicitante 1  Usuario Aprobador 1           Direccion 1   \n",
       "1  Usuario solicitante 2  Usuario Aprobador 2           Direccion 1   \n",
       "\n",
       "  DIRECCIÓN FACTURACIÓN        CENTRO COSTO    PRESUPUESTO  \\\n",
       "0                   NaN  Centro de costos 1  Presupuesto 1   \n",
       "1                   NaN  Centro de costos 2  Presupuesto 2   \n",
       "\n",
       "  COMPAÑÍA COMPRADORA            ESTADO  \\\n",
       "0  Portal comprador 1  Orden en Proceso   \n",
       "1  Portal comprador 1          Recibido   \n",
       "\n",
       "                            PRODUCTO O SERVICIO CÓDIGO PRODUCTO  \\\n",
       "0  PANEL LED SOBREPONER 24W REDONDO LUZ BLANCA    1200035000063   \n",
       "1                       ACTIVIDADES COMERCIALES         1K15774   \n",
       "\n",
       "       CANTIDAD PEDIDA    CANTIDAD RECIBIDA  PRECIO UNITARIO  \\\n",
       "0                 2.00                  nan            23364   \n",
       "1                 1.00                 1.00          1476972   \n",
       "\n",
       "   PRECIO UNITARIO + IVA     IVA  TOTAL SIN IVA  TOTAL + IVA  \\\n",
       "0                  27803    4439          46728        55606   \n",
       "1                1757597  280625        1476972      1757597   \n",
       "\n",
       "  FECHA ÚLTIMO MOVIMIENTO  \n",
       "0              2021-11-10  \n",
       "1              2021-11-10  "
      ]
     },
     "execution_count": 98,
     "metadata": {},
     "output_type": "execute_result"
    }
   ],
   "source": [
    "df.head(2)"
   ]
  },
  {
   "cell_type": "code",
   "execution_count": 99,
   "metadata": {},
   "outputs": [
    {
     "name": "stdout",
     "output_type": "stream",
     "text": [
      "------------------ NÚMERO PEDIDO ------------------\n",
      "# 47594                   0.55\n",
      "# 47595                   0.55\n",
      "# 47951                   0.54\n",
      "# 49268                   0.50\n",
      "# 48135                   0.33\n",
      "                  ...         \n",
      "# 46437                   0.00\n",
      "# 38977                   0.00\n",
      "# 47056                   0.00\n",
      "# 48873                   0.00\n",
      "# 41760                   0.00\n",
      "Name: NÚMERO PEDIDO, Length: 7133, dtype: float64\n",
      "------------------ ORDEN NÚMERO ------------------\n",
      "# 3                      0.85\n",
      "# 4                      0.78\n",
      "# 7                      0.74\n",
      "# 22                     0.60\n",
      "# 2                      0.52\n",
      "                 ...         \n",
      "# 2246                   0.00\n",
      "# 2001                   0.00\n",
      "# 2329                   0.00\n",
      "# 2340                   0.00\n",
      "# 2472                   0.00\n",
      "Name: ORDEN NÚMERO, Length: 2584, dtype: float64\n",
      "------------------ FECHA ORDEN ------------------\n",
      "2019-11-30                   1.61\n",
      "2019-12-02                   1.36\n",
      "2019-11-27                   1.34\n",
      "2019-11-28                   1.32\n",
      "2021-06-15                   1.17\n",
      "                     ...         \n",
      "2020-04-29                   0.00\n",
      "2019-03-18                   0.00\n",
      "2018-07-26                   0.00\n",
      "2020-04-28                   0.00\n",
      "2019-10-18                   0.00\n",
      "Name: FECHA ORDEN, Length: 727, dtype: float64\n",
      "------------------ FECHA ENTREGA ------------------\n",
      "2019-11-30                   2.00\n",
      "2019-12-02                   1.69\n",
      "2019-11-27                   1.66\n",
      "2019-11-28                   1.63\n",
      "2021-07-30                   1.46\n",
      "                     ...         \n",
      "2022-07-31                   0.01\n",
      "2021-11-18                   0.01\n",
      "2021-09-18                   0.01\n",
      "2020-10-13                   0.01\n",
      "2020-06-11                   0.01\n",
      "Name: FECHA ENTREGA, Length: 531, dtype: float64\n",
      "------------------ FECHA APROBACIÓN ------------------\n",
      "2020-01-24                  20.25\n",
      "2020-02-13                   3.04\n",
      "2020-06-10                   2.30\n",
      "2021-10-28                   1.11\n",
      "2021-08-05                   0.89\n",
      "                     ...         \n",
      "2018-05-10                   0.00\n",
      "2019-06-10                   0.00\n",
      "2020-07-06                   0.00\n",
      "2020-11-28                   0.00\n",
      "2020-04-29                   0.00\n",
      "Name: FECHA APROBACIÓN, Length: 645, dtype: float64\n",
      "------------------ CATEGORÍA ------------------\n",
      "Alimentos y Bebidas                                          30.98\n",
      "Vigilancia y seguridad industrial                            27.01\n",
      "Aseo, Cafetería y Oficina                                    17.14\n",
      "Dotación y elementos de protección personal                   5.35\n",
      "Ferreteria                                                    3.53\n",
      "Almacenamiento y empaques                                     2.06\n",
      "Vehículos y repuestos                                         1.64\n",
      "Químicos y derivados                                          1.60\n",
      "Construcción y Mantenimiento                                  1.30\n",
      "Servicios Profesionales                                       1.10\n",
      "Mercadeo y publicidad                                         0.95\n",
      "Manufactura                                                   0.92\n",
      "Logística y transporte                                        0.84\n",
      "Eléctricos y Electrónicos                                     0.76\n",
      "Mobiliario y decoración                                       0.74\n",
      "Tecnología e información                                      0.69\n",
      "Textiles                                                      0.67\n",
      "Moda y accesorios                                             0.65\n",
      "Imprenta y litografía                                         0.43\n",
      "Ingeniería e Investigación                                    0.41\n",
      "Compras Sostenibles                                           0.21\n",
      "Salud y Medicina                                              0.19\n",
      "Gestión ambiental                                             0.19\n",
      "Hogar y electrodomésticos                                     0.15\n",
      "Vigilancia y seguridad                                        0.13\n",
      "Viajes, Eventos y Entretenimiento                             0.08\n",
      "Medicina y Salud                                              0.06\n",
      "Cuidado personal y Belleza                                    0.04\n",
      "Deporte y recreación                                          0.03\n",
      "Servicios Públicos                                            0.03\n",
      "Generación y distribución de Energía                          0.02\n",
      "Minería                                                       0.02\n",
      "Agroindustrial                                                0.02\n",
      "Gestión inmobiliaria                                          0.02\n",
      "Educación y formación empresarial                             0.00\n",
      "Producción audiovisual                                        0.00\n",
      "Name: CATEGORÍA, dtype: float64\n",
      "------------------ SUBCATEGORÍA ------------------\n",
      "Seguridad y protección personal                                  27.00\n",
      "Alimentos preparados y conservados                               10.01\n",
      "Elementos de aseo y limpieza                                      8.92\n",
      "Elementos de papelería                                            7.23\n",
      "Bebidas                                                           5.93\n",
      "                                                          ...         \n",
      "Medicamentos                                                      0.00\n",
      "Calefacción, ventilación y circulación del aire                   0.00\n",
      "Prevención y control de enfermedades                              0.00\n",
      "Plantas vivas                                                     0.00\n",
      "Rodamientos, cojinetes ruedas y engranajes                        0.00\n",
      "Name: SUBCATEGORÍA, Length: 149, dtype: float64\n",
      "------------------ PROVEEDOR ------------------\n",
      "Proveedor 301                  24.29\n",
      "Proveedor 59                    6.93\n",
      "Proveedor 28                    6.34\n",
      "Proveedor 26                    5.43\n",
      "Proveedor 321                   4.33\n",
      "                        ...         \n",
      "Proveedor 187                   0.00\n",
      "Proveedor 286                   0.00\n",
      "Proveedor 172                   0.00\n",
      "Proveedor 305                   0.00\n",
      "Proveedor 197                   0.00\n",
      "Name: PROVEEDOR, Length: 405, dtype: float64\n",
      "------------------ USUARIO ------------------\n",
      "Usuario solicitante 122                  24.29\n",
      "Usuario solicitante 129                  14.83\n",
      "Usuario solicitante 4                     9.84\n",
      "Usuario solicitante 67                    7.16\n",
      "Usuario solicitante 11                    4.83\n",
      "                                  ...         \n",
      "Usuario solicitante 105                   0.00\n",
      "Usuario solicitante 97                    0.00\n",
      "Usuario solicitante 135                   0.00\n",
      "Usuario solicitante 124                   0.00\n",
      "Usuario solicitante 89                    0.00\n",
      "Name: USUARIO, Length: 136, dtype: float64\n",
      "------------------ USUARIO APROBADOR ------------------\n",
      "Usuario Aprobador 60                  25.58\n",
      "Usuario Aprobador 66                  15.53\n",
      "Usuario Aprobador 4                   10.09\n",
      "Usuario Aprobador 38                   7.05\n",
      "Usuario Aprobador 6                    6.69\n",
      "                               ...         \n",
      "Usuario Aprobador 47                   0.00\n",
      "Usuario Aprobador 44                   0.00\n",
      "Usuario Aprobador 71                   0.00\n",
      "Usuario Aprobador 39                   0.00\n",
      "Usuario Aprobador 65                   0.00\n",
      "Name: USUARIO APROBADOR, Length: 72, dtype: float64\n",
      "------------------ DIRECCIÓN DE  ENTREGA ------------------\n",
      "Direccion 3                    14.97\n",
      "Direccion 163                  14.83\n",
      "Direccion 2                     8.18\n",
      "Direccion 1                     6.30\n",
      "Direccion 43                    5.27\n",
      "                        ...         \n",
      "Direccion 115                   0.00\n",
      "Direccion 176                   0.00\n",
      "Direccion 44                    0.00\n",
      "Direccion 56                    0.00\n",
      "Direccion 169                   0.00\n",
      "Name: DIRECCIÓN DE  ENTREGA, Length: 177, dtype: float64\n",
      "------------------ DIRECCIÓN FACTURACIÓN ------------------\n",
      "Direccion facturacion 97                   32.75\n",
      "Direccion facturacion 98                    7.50\n",
      "Direccion facturacion 30                    4.77\n",
      "Direccion facturacion 42                    3.78\n",
      "Direccion facturacion 28                    2.97\n",
      "                                    ...         \n",
      "Direccion facturacion 112                   0.01\n",
      "Direccion facturacion 19                    0.01\n",
      "Direccion facturacion 21                    0.01\n",
      "Direccion facturacion 20                    0.01\n",
      "Direccion facturacion 104                   0.01\n",
      "Name: DIRECCIÓN FACTURACIÓN, Length: 112, dtype: float64\n",
      "------------------ CENTRO COSTO ------------------\n",
      "Centro de costos 4                    11.09\n",
      "Centro de costos 45                   10.21\n",
      "Centro de costos 27                    7.49\n",
      "Centro de costos 11                    4.72\n",
      "Centro de costos 12                    4.49\n",
      "                               ...         \n",
      "Centro de costos 83                    0.01\n",
      "Centro de costos 144                   0.01\n",
      "Centro de costos 41                    0.01\n",
      "Centro de costos 84                    0.01\n",
      "Centro de costos 73                    0.01\n",
      "Name: CENTRO COSTO, Length: 230, dtype: float64\n",
      "------------------ PRESUPUESTO ------------------\n",
      "Presupuesto 711                  18.62\n",
      "Presupuesto 719                  10.22\n",
      "Presupuesto 330                   1.91\n",
      "Presupuesto 395                   1.13\n",
      "Presupuesto 286                   1.04\n",
      "                          ...         \n",
      "Presupuesto 184                   0.01\n",
      "Presupuesto 431                   0.01\n",
      "Presupuesto 208                   0.01\n",
      "Presupuesto 272                   0.01\n",
      "Presupuesto 256                   0.01\n",
      "Name: PRESUPUESTO, Length: 921, dtype: float64\n",
      "------------------ COMPAÑÍA COMPRADORA ------------------\n",
      "Portal comprador 1                   29.31\n",
      "Portal comprador 24                  24.29\n",
      "Portal comprador 2                   17.25\n",
      "Portal comprador 29                  14.83\n",
      "Portal comprador 6                    3.80\n",
      "Portal comprador 30                   3.39\n",
      "Portal comprador 4                    1.61\n",
      "Portal comprador 8                    1.42\n",
      "Portal comprador 5                    1.32\n",
      "Portal comprador 12                   0.96\n",
      "Portal comprador 18                   0.40\n",
      "Portal comprador 10                   0.31\n",
      "Portal comprador 7                    0.29\n",
      "Portal comprador 11                   0.23\n",
      "Portal comprador 27                   0.16\n",
      "Portal comprador 13                   0.15\n",
      "Portal comprador 20                   0.13\n",
      "Portal comprador 31                   0.07\n",
      "Portal comprador 21                   0.02\n",
      "Portal comprador 28                   0.01\n",
      "Portal comprador 14                   0.01\n",
      "Portal comprador 26                   0.01\n",
      "Portal comprador 32                   0.01\n",
      "Portal comprador 15                   0.00\n",
      "Portal comprador 25                   0.00\n",
      "Portal comprador 3                    0.00\n",
      "Portal comprador 17                   0.00\n",
      "Portal comprador 33                   0.00\n",
      "Portal comprador 22                   0.00\n",
      "Portal comprador 9                    0.00\n",
      "Portal comprador 23                   0.00\n",
      "Portal comprador 19                   0.00\n",
      "Portal comprador 16                   0.00\n",
      "Name: COMPAÑÍA COMPRADORA, dtype: float64\n",
      "------------------ ESTADO ------------------\n",
      "Recibido                               63.38\n",
      "Orden en Proceso                       21.76\n",
      "Cancelado                               5.09\n",
      "Orden Rechazada                         4.52\n",
      "Finalizado Incompleto                   4.18\n",
      "Recibido Parcial                        0.73\n",
      "Pendiente por Aprobar                   0.23\n",
      "Orden Confirmada                        0.07\n",
      "Enviado                                 0.05\n",
      "Name: ESTADO, dtype: float64\n",
      "------------------ PRODUCTO O SERVICIO ------------------\n",
      "6 Bota de seguridad media caña dielectrica con puntera de seguridad                                            3.45\n",
      "85 Overol industrial                                                                                           1.46\n",
      "7 Botas de caucho con puntera negra caña alta                                                                  0.84\n",
      "30 Lentes de seguridad oscuro                                                                                  0.81\n",
      "8 Bota pvc de seguridad caña alta, dielectrica con puntera de seguridad                                        0.78\n",
      "                                                                                                       ...         \n",
      "S777702 PULSADOR 22MM HONGO VERDE SIN RETENCION CON PASE N.O                                                   0.00\n",
      "CAMISETA POLO MANGA LARGA ( CAMIBUZO) GRIS CON NARANJA TECNICOS Y CONDUCTORES HOMBRE Talla S                   0.00\n",
      "PERFIL OMEGA BASE 6                                                                                            0.00\n",
      "GRAPA INDUSTRIAL 23/12 (R9) x 1000 TRITON                                                                      0.00\n",
      "Jabón de mano X20 LTS YILOP EXPRESS                                                                            0.00\n",
      "Name: PRODUCTO O SERVICIO, Length: 3445, dtype: float64\n",
      "------------------ CÓDIGO PRODUCTO ------------------\n",
      "289988                           4.41\n",
      "247989                           1.86\n",
      "289989                           1.07\n",
      "289996                           1.03\n",
      "289990                           0.99\n",
      "                         ...         \n",
      "KIP-OFI-VAS006                   0.01\n",
      "8286                             0.01\n",
      "1K16303                          0.01\n",
      "1K10122                          0.01\n",
      "1K10947                          0.01\n",
      "Name: CÓDIGO PRODUCTO, Length: 2896, dtype: float64\n",
      "------------------ CANTIDAD PEDIDA ------------------\n",
      "    1.00                  19.46\n",
      "    2.00                  10.49\n",
      "    3.00                   5.98\n",
      "   10.00                   5.43\n",
      "    5.00                   5.03\n",
      "                   ...         \n",
      "  369.00                   0.00\n",
      "  113.00                   0.00\n",
      "1,435.00                   0.00\n",
      "  124.01                   0.00\n",
      "2,880.00                   0.00\n",
      "Name: CANTIDAD PEDIDA, Length: 403, dtype: float64\n",
      "------------------ CANTIDAD RECIBIDA ------------------\n",
      "  1.00                  21.67\n",
      "  2.00                  11.67\n",
      "  3.00                   7.01\n",
      "  5.00                   5.94\n",
      " 10.00                   5.89\n",
      "                 ...         \n",
      "622.00                   0.01\n",
      "330.00                   0.01\n",
      "318.00                   0.01\n",
      "650.00                   0.01\n",
      "369.00                   0.01\n",
      "Name: CANTIDAD RECIBIDA, Length: 382, dtype: float64\n",
      "------------------ PRECIO UNITARIO ------------------\n",
      "86555                     2.89\n",
      "62222                     1.36\n",
      "1282                      1.01\n",
      "8235                      0.88\n",
      "61067                     0.84\n",
      "                  ...         \n",
      "280                       0.00\n",
      "16704                     0.00\n",
      "1204548                   0.00\n",
      "328                       0.00\n",
      "216                       0.00\n",
      "Name: PRECIO UNITARIO, Length: 2371, dtype: float64\n",
      "------------------ PRECIO UNITARIO + IVA ------------------\n",
      "103000                     3.12\n",
      "74044                      1.42\n",
      "6000                       1.11\n",
      "1525                       1.01\n",
      "18000                      0.89\n",
      "                   ...         \n",
      "2975000                    0.00\n",
      "43400                      0.00\n",
      "27264244                   0.00\n",
      "26917                      0.00\n",
      "118256                     0.00\n",
      "Name: PRECIO UNITARIO + IVA, Length: 2443, dtype: float64\n",
      "------------------ IVA ------------------\n",
      "0                       17.95\n",
      "16445                    3.45\n",
      "11822                    1.46\n",
      "243                      1.01\n",
      "1565                     0.88\n",
      "                 ...         \n",
      "3641                     0.00\n",
      "48687                    0.00\n",
      "124372                   0.00\n",
      "21954                    0.00\n",
      "16720                    0.00\n",
      "Name: IVA, Length: 1827, dtype: float64\n",
      "------------------ TOTAL SIN IVA ------------------\n",
      "6000                      0.38\n",
      "30641                     0.33\n",
      "24000                     0.31\n",
      "432773                    0.30\n",
      "173109                    0.29\n",
      "                  ...         \n",
      "22113                     0.00\n",
      "225400                    0.00\n",
      "118                       0.00\n",
      "1063025                   0.00\n",
      "12282                     0.00\n",
      "Name: TOTAL SIN IVA, Length: 6281, dtype: float64\n",
      "------------------ TOTAL + IVA ------------------\n",
      "6000                      0.37\n",
      "36463                     0.33\n",
      "8000                      0.33\n",
      "24000                     0.32\n",
      "206000                    0.31\n",
      "                  ...         \n",
      "282556                    0.00\n",
      "1470000                   0.00\n",
      "5550000                   0.00\n",
      "489011                    0.00\n",
      "46912                     0.00\n",
      "Name: TOTAL + IVA, Length: 6333, dtype: float64\n",
      "------------------ FECHA ÚLTIMO MOVIMIENTO ------------------\n",
      "2020-01-24                  19.22\n",
      "2020-02-13                   2.89\n",
      "2020-06-10                   2.20\n",
      "2020-12-29                   1.30\n",
      "2021-05-20                   1.13\n",
      "                     ...         \n",
      "2019-10-04                   0.00\n",
      "2020-11-10                   0.00\n",
      "2020-10-05                   0.00\n",
      "2019-02-27                   0.00\n",
      "2020-05-08                   0.00\n",
      "Name: FECHA ÚLTIMO MOVIMIENTO, Length: 626, dtype: float64\n"
     ]
    }
   ],
   "source": [
    "for i in df.columns:\n",
    "    print('------------------', i, '------------------' )\n",
    "    percentage = df[i].value_counts()/df[i].count()*100\n",
    "    \n",
    "    print(percentage)"
   ]
  },
  {
   "cell_type": "code",
   "execution_count": 100,
   "metadata": {},
   "outputs": [],
   "source": [
    "df.columns = df.columns.str.replace(' ', '_')"
   ]
  },
  {
   "cell_type": "code",
   "execution_count": 101,
   "metadata": {},
   "outputs": [
    {
     "data": {
      "text/plain": [
       "Index(['NÚMERO_PEDIDO', 'ORDEN_NÚMERO', 'FECHA_ORDEN', 'FECHA_ENTREGA',\n",
       "       'FECHA_APROBACIÓN', 'CATEGORÍA', 'SUBCATEGORÍA', 'PROVEEDOR', 'USUARIO',\n",
       "       'USUARIO_APROBADOR', 'DIRECCIÓN_DE__ENTREGA', 'DIRECCIÓN_FACTURACIÓN',\n",
       "       'CENTRO_COSTO', 'PRESUPUESTO', 'COMPAÑÍA_COMPRADORA', 'ESTADO',\n",
       "       'PRODUCTO_O_SERVICIO', 'CÓDIGO_PRODUCTO', 'CANTIDAD_PEDIDA',\n",
       "       'CANTIDAD_RECIBIDA', 'PRECIO_UNITARIO', 'PRECIO_UNITARIO_+_IVA', 'IVA',\n",
       "       'TOTAL_SIN_IVA', 'TOTAL_+_IVA', 'FECHA_ÚLTIMO_MOVIMIENTO'],\n",
       "      dtype='object')"
      ]
     },
     "execution_count": 101,
     "metadata": {},
     "output_type": "execute_result"
    }
   ],
   "source": [
    "df.columns"
   ]
  },
  {
   "cell_type": "code",
   "execution_count": 102,
   "metadata": {},
   "outputs": [],
   "source": [
    "cols_to_drop = ['NÚMERO_PEDIDO', 'ORDEN_NÚMERO', 'FECHA_ENTREGA','FECHA_APROBACIÓN', 'USUARIO', 'USUARIO_APROBADOR', \n",
    "                'DIRECCIÓN_DE__ENTREGA', 'DIRECCIÓN_FACTURACIÓN', 'CENTRO_COSTO', 'PRESUPUESTO', 'CÓDIGO_PRODUCTO', \n",
    "                'PRECIO_UNITARIO_+_IVA', 'TOTAL_+_IVA', 'FECHA_ÚLTIMO_MOVIMIENTO'\n",
    "               ]"
   ]
  },
  {
   "cell_type": "code",
   "execution_count": 103,
   "metadata": {},
   "outputs": [],
   "source": [
    "df.drop(cols_to_drop, inplace=True, axis=1)"
   ]
  },
  {
   "cell_type": "code",
   "execution_count": 104,
   "metadata": {},
   "outputs": [
    {
     "name": "stdout",
     "output_type": "stream",
     "text": [
      "<class 'pandas.core.frame.DataFrame'>\n",
      "Int64Index: 22392 entries, 0 to 23082\n",
      "Data columns (total 12 columns):\n",
      " #   Column               Non-Null Count  Dtype  \n",
      "---  ------               --------------  -----  \n",
      " 0   FECHA_ORDEN          22392 non-null  object \n",
      " 1   CATEGORÍA            22392 non-null  object \n",
      " 2   SUBCATEGORÍA         22392 non-null  object \n",
      " 3   PROVEEDOR            22392 non-null  object \n",
      " 4   COMPAÑÍA_COMPRADORA  22392 non-null  object \n",
      " 5   ESTADO               22392 non-null  object \n",
      " 6   PRODUCTO_O_SERVICIO  22392 non-null  object \n",
      " 7   CANTIDAD_PEDIDA      22392 non-null  float64\n",
      " 8   CANTIDAD_RECIBIDA    15325 non-null  float64\n",
      " 9   PRECIO_UNITARIO      22392 non-null  int64  \n",
      " 10  IVA                  22392 non-null  int64  \n",
      " 11  TOTAL_SIN_IVA        22392 non-null  int64  \n",
      "dtypes: float64(2), int64(3), object(7)\n",
      "memory usage: 2.2+ MB\n"
     ]
    }
   ],
   "source": [
    "df.info()"
   ]
  },
  {
   "cell_type": "markdown",
   "metadata": {},
   "source": [
    "# 3. STATISTICAL DESCRIPTION"
   ]
  },
  {
   "cell_type": "code",
   "execution_count": 105,
   "metadata": {},
   "outputs": [
    {
     "data": {
      "text/html": [
       "<div>\n",
       "<style scoped>\n",
       "    .dataframe tbody tr th:only-of-type {\n",
       "        vertical-align: middle;\n",
       "    }\n",
       "\n",
       "    .dataframe tbody tr th {\n",
       "        vertical-align: top;\n",
       "    }\n",
       "\n",
       "    .dataframe thead th {\n",
       "        text-align: right;\n",
       "    }\n",
       "</style>\n",
       "<table border=\"1\" class=\"dataframe\">\n",
       "  <thead>\n",
       "    <tr style=\"text-align: right;\">\n",
       "      <th></th>\n",
       "      <th>CANTIDAD_PEDIDA</th>\n",
       "      <th>CANTIDAD_RECIBIDA</th>\n",
       "      <th>PRECIO_UNITARIO</th>\n",
       "      <th>IVA</th>\n",
       "      <th>TOTAL_SIN_IVA</th>\n",
       "    </tr>\n",
       "  </thead>\n",
       "  <tbody>\n",
       "    <tr>\n",
       "      <th>count</th>\n",
       "      <td>22,392.00</td>\n",
       "      <td>15,325.00</td>\n",
       "      <td>22,392.00</td>\n",
       "      <td>22,392.00</td>\n",
       "      <td>22,392.00</td>\n",
       "    </tr>\n",
       "    <tr>\n",
       "      <th>mean</th>\n",
       "      <td>196.68</td>\n",
       "      <td>72.36</td>\n",
       "      <td>74,075.31</td>\n",
       "      <td>11,499.70</td>\n",
       "      <td>477,558.94</td>\n",
       "    </tr>\n",
       "    <tr>\n",
       "      <th>std</th>\n",
       "      <td>1,976.19</td>\n",
       "      <td>1,063.97</td>\n",
       "      <td>644,263.68</td>\n",
       "      <td>104,931.32</td>\n",
       "      <td>3,160,637.57</td>\n",
       "    </tr>\n",
       "    <tr>\n",
       "      <th>min</th>\n",
       "      <td>0.27</td>\n",
       "      <td>0.00</td>\n",
       "      <td>0.00</td>\n",
       "      <td>0.00</td>\n",
       "      <td>0.00</td>\n",
       "    </tr>\n",
       "    <tr>\n",
       "      <th>25%</th>\n",
       "      <td>2.00</td>\n",
       "      <td>2.00</td>\n",
       "      <td>1,861.00</td>\n",
       "      <td>93.00</td>\n",
       "      <td>29,412.00</td>\n",
       "    </tr>\n",
       "    <tr>\n",
       "      <th>50%</th>\n",
       "      <td>7.00</td>\n",
       "      <td>5.00</td>\n",
       "      <td>11,400.00</td>\n",
       "      <td>1,040.00</td>\n",
       "      <td>90,756.00</td>\n",
       "    </tr>\n",
       "    <tr>\n",
       "      <th>75%</th>\n",
       "      <td>40.00</td>\n",
       "      <td>19.00</td>\n",
       "      <td>32,222.00</td>\n",
       "      <td>5,588.00</td>\n",
       "      <td>294,118.00</td>\n",
       "    </tr>\n",
       "    <tr>\n",
       "      <th>max</th>\n",
       "      <td>120,000.00</td>\n",
       "      <td>53,620.00</td>\n",
       "      <td>33,242,814.00</td>\n",
       "      <td>6,316,135.00</td>\n",
       "      <td>299,185,326.00</td>\n",
       "    </tr>\n",
       "  </tbody>\n",
       "</table>\n",
       "</div>"
      ],
      "text/plain": [
       "           CANTIDAD_PEDIDA    CANTIDAD_RECIBIDA      PRECIO_UNITARIO  \\\n",
       "count            22,392.00            15,325.00            22,392.00   \n",
       "mean                196.68                72.36            74,075.31   \n",
       "std               1,976.19             1,063.97           644,263.68   \n",
       "min                   0.27                 0.00                 0.00   \n",
       "25%                   2.00                 2.00             1,861.00   \n",
       "50%                   7.00                 5.00            11,400.00   \n",
       "75%                  40.00                19.00            32,222.00   \n",
       "max             120,000.00            53,620.00        33,242,814.00   \n",
       "\n",
       "                       IVA        TOTAL_SIN_IVA  \n",
       "count            22,392.00            22,392.00  \n",
       "mean             11,499.70           477,558.94  \n",
       "std             104,931.32         3,160,637.57  \n",
       "min                   0.00                 0.00  \n",
       "25%                  93.00            29,412.00  \n",
       "50%               1,040.00            90,756.00  \n",
       "75%               5,588.00           294,118.00  \n",
       "max           6,316,135.00       299,185,326.00  "
      ]
     },
     "execution_count": 105,
     "metadata": {},
     "output_type": "execute_result"
    }
   ],
   "source": [
    "df.describe()"
   ]
  },
  {
   "cell_type": "code",
   "execution_count": 106,
   "metadata": {},
   "outputs": [],
   "source": [
    "df['PRECIO_UNITARIO'] = pd.to_numeric(df['PRECIO_UNITARIO'], downcast=\"float\")\n",
    "df['IVA'] = pd.to_numeric(df['IVA'], downcast=\"float\")\n",
    "df['TOTAL_SIN_IVA'] = pd.to_numeric(df['TOTAL_SIN_IVA'], downcast=\"float\")"
   ]
  },
  {
   "cell_type": "code",
   "execution_count": 107,
   "metadata": {},
   "outputs": [
    {
     "name": "stdout",
     "output_type": "stream",
     "text": [
      "<class 'pandas.core.frame.DataFrame'>\n",
      "Int64Index: 22392 entries, 0 to 23082\n",
      "Data columns (total 12 columns):\n",
      " #   Column               Non-Null Count  Dtype  \n",
      "---  ------               --------------  -----  \n",
      " 0   FECHA_ORDEN          22392 non-null  object \n",
      " 1   CATEGORÍA            22392 non-null  object \n",
      " 2   SUBCATEGORÍA         22392 non-null  object \n",
      " 3   PROVEEDOR            22392 non-null  object \n",
      " 4   COMPAÑÍA_COMPRADORA  22392 non-null  object \n",
      " 5   ESTADO               22392 non-null  object \n",
      " 6   PRODUCTO_O_SERVICIO  22392 non-null  object \n",
      " 7   CANTIDAD_PEDIDA      22392 non-null  float64\n",
      " 8   CANTIDAD_RECIBIDA    15325 non-null  float64\n",
      " 9   PRECIO_UNITARIO      22392 non-null  float32\n",
      " 10  IVA                  22392 non-null  float32\n",
      " 11  TOTAL_SIN_IVA        22392 non-null  float32\n",
      "dtypes: float32(3), float64(2), object(7)\n",
      "memory usage: 2.0+ MB\n"
     ]
    }
   ],
   "source": [
    "df.info()"
   ]
  },
  {
   "cell_type": "code",
   "execution_count": 108,
   "metadata": {},
   "outputs": [],
   "source": [
    "df['FECHA_ORDEN'] = pd.to_datetime(df['FECHA_ORDEN'], format='%Y-%m-%d')"
   ]
  },
  {
   "cell_type": "code",
   "execution_count": 109,
   "metadata": {},
   "outputs": [
    {
     "name": "stdout",
     "output_type": "stream",
     "text": [
      "<class 'pandas.core.frame.DataFrame'>\n",
      "Int64Index: 22392 entries, 0 to 23082\n",
      "Data columns (total 12 columns):\n",
      " #   Column               Non-Null Count  Dtype         \n",
      "---  ------               --------------  -----         \n",
      " 0   FECHA_ORDEN          22392 non-null  datetime64[ns]\n",
      " 1   CATEGORÍA            22392 non-null  object        \n",
      " 2   SUBCATEGORÍA         22392 non-null  object        \n",
      " 3   PROVEEDOR            22392 non-null  object        \n",
      " 4   COMPAÑÍA_COMPRADORA  22392 non-null  object        \n",
      " 5   ESTADO               22392 non-null  object        \n",
      " 6   PRODUCTO_O_SERVICIO  22392 non-null  object        \n",
      " 7   CANTIDAD_PEDIDA      22392 non-null  float64       \n",
      " 8   CANTIDAD_RECIBIDA    15325 non-null  float64       \n",
      " 9   PRECIO_UNITARIO      22392 non-null  float32       \n",
      " 10  IVA                  22392 non-null  float32       \n",
      " 11  TOTAL_SIN_IVA        22392 non-null  float32       \n",
      "dtypes: datetime64[ns](1), float32(3), float64(2), object(6)\n",
      "memory usage: 2.0+ MB\n"
     ]
    }
   ],
   "source": [
    "df.info()"
   ]
  },
  {
   "cell_type": "markdown",
   "metadata": {},
   "source": [
    "## By year"
   ]
  },
  {
   "cell_type": "code",
   "execution_count": 110,
   "metadata": {},
   "outputs": [
    {
     "data": {
      "text/html": [
       "<div>\n",
       "<style scoped>\n",
       "    .dataframe tbody tr th:only-of-type {\n",
       "        vertical-align: middle;\n",
       "    }\n",
       "\n",
       "    .dataframe tbody tr th {\n",
       "        vertical-align: top;\n",
       "    }\n",
       "\n",
       "    .dataframe thead th {\n",
       "        text-align: right;\n",
       "    }\n",
       "</style>\n",
       "<table border=\"1\" class=\"dataframe\">\n",
       "  <thead>\n",
       "    <tr style=\"text-align: right;\">\n",
       "      <th></th>\n",
       "      <th>CANTIDAD_PEDIDA</th>\n",
       "      <th>CANTIDAD_RECIBIDA</th>\n",
       "      <th>PRECIO_UNITARIO</th>\n",
       "      <th>IVA</th>\n",
       "      <th>TOTAL_SIN_IVA</th>\n",
       "    </tr>\n",
       "    <tr>\n",
       "      <th>FECHA_ORDEN</th>\n",
       "      <th></th>\n",
       "      <th></th>\n",
       "      <th></th>\n",
       "      <th></th>\n",
       "      <th></th>\n",
       "    </tr>\n",
       "  </thead>\n",
       "  <tbody>\n",
       "    <tr>\n",
       "      <th>2018-12-31</th>\n",
       "      <td>2,825,660.70</td>\n",
       "      <td>962.00</td>\n",
       "      <td>56,846,176.00</td>\n",
       "      <td>10,468,057.00</td>\n",
       "      <td>660,102,848.00</td>\n",
       "    </tr>\n",
       "    <tr>\n",
       "      <th>2019-12-31</th>\n",
       "      <td>500,896.00</td>\n",
       "      <td>167,714.00</td>\n",
       "      <td>169,135,712.00</td>\n",
       "      <td>27,660,022.00</td>\n",
       "      <td>2,787,268,864.00</td>\n",
       "    </tr>\n",
       "    <tr>\n",
       "      <th>2020-12-31</th>\n",
       "      <td>298,243.78</td>\n",
       "      <td>261,158.96</td>\n",
       "      <td>158,323,184.00</td>\n",
       "      <td>25,843,618.00</td>\n",
       "      <td>2,755,058,176.00</td>\n",
       "    </tr>\n",
       "    <tr>\n",
       "      <th>2021-12-31</th>\n",
       "      <td>779,247.15</td>\n",
       "      <td>679,086.10</td>\n",
       "      <td>1,274,389,248.00</td>\n",
       "      <td>193,529,664.00</td>\n",
       "      <td>4,491,069,952.00</td>\n",
       "    </tr>\n",
       "  </tbody>\n",
       "</table>\n",
       "</div>"
      ],
      "text/plain": [
       "                 CANTIDAD_PEDIDA    CANTIDAD_RECIBIDA      PRECIO_UNITARIO  \\\n",
       "FECHA_ORDEN                                                                  \n",
       "2018-12-31          2,825,660.70               962.00        56,846,176.00   \n",
       "2019-12-31            500,896.00           167,714.00       169,135,712.00   \n",
       "2020-12-31            298,243.78           261,158.96       158,323,184.00   \n",
       "2021-12-31            779,247.15           679,086.10     1,274,389,248.00   \n",
       "\n",
       "                             IVA        TOTAL_SIN_IVA  \n",
       "FECHA_ORDEN                                            \n",
       "2018-12-31         10,468,057.00       660,102,848.00  \n",
       "2019-12-31         27,660,022.00     2,787,268,864.00  \n",
       "2020-12-31         25,843,618.00     2,755,058,176.00  \n",
       "2021-12-31        193,529,664.00     4,491,069,952.00  "
      ]
     },
     "execution_count": 110,
     "metadata": {},
     "output_type": "execute_result"
    }
   ],
   "source": [
    "df_Y = df.groupby(pd.Grouper(key='FECHA_ORDEN', freq=\"Y\")).sum()\n",
    "df_Y.head()"
   ]
  },
  {
   "cell_type": "code",
   "execution_count": 111,
   "metadata": {},
   "outputs": [
    {
     "data": {
      "application/vnd.plotly.v1+json": {
       "config": {
        "plotlyServerURL": "https://plot.ly"
       },
       "data": [
        {
         "alignmentgroup": "True",
         "hovertemplate": "FECHA_ORDEN=%{x}<br>TOTAL_SIN_IVA=%{y}<extra></extra>",
         "legendgroup": "",
         "marker": {
          "color": "#636efa",
          "pattern": {
           "shape": ""
          }
         },
         "name": "",
         "offsetgroup": "",
         "orientation": "v",
         "showlegend": false,
         "textposition": "auto",
         "type": "bar",
         "x": [
          "2018-12-31T00:00:00",
          "2019-12-31T00:00:00",
          "2020-12-31T00:00:00",
          "2021-12-31T00:00:00"
         ],
         "xaxis": "x",
         "y": [
          660102848,
          2787268864,
          2755058176,
          4491069952
         ],
         "yaxis": "y"
        }
       ],
       "layout": {
        "barmode": "relative",
        "legend": {
         "tracegroupgap": 0
        },
        "margin": {
         "t": 60
        },
        "template": {
         "data": {
          "bar": [
           {
            "error_x": {
             "color": "#2a3f5f"
            },
            "error_y": {
             "color": "#2a3f5f"
            },
            "marker": {
             "line": {
              "color": "#E5ECF6",
              "width": 0.5
             },
             "pattern": {
              "fillmode": "overlay",
              "size": 10,
              "solidity": 0.2
             }
            },
            "type": "bar"
           }
          ],
          "barpolar": [
           {
            "marker": {
             "line": {
              "color": "#E5ECF6",
              "width": 0.5
             },
             "pattern": {
              "fillmode": "overlay",
              "size": 10,
              "solidity": 0.2
             }
            },
            "type": "barpolar"
           }
          ],
          "carpet": [
           {
            "aaxis": {
             "endlinecolor": "#2a3f5f",
             "gridcolor": "white",
             "linecolor": "white",
             "minorgridcolor": "white",
             "startlinecolor": "#2a3f5f"
            },
            "baxis": {
             "endlinecolor": "#2a3f5f",
             "gridcolor": "white",
             "linecolor": "white",
             "minorgridcolor": "white",
             "startlinecolor": "#2a3f5f"
            },
            "type": "carpet"
           }
          ],
          "choropleth": [
           {
            "colorbar": {
             "outlinewidth": 0,
             "ticks": ""
            },
            "type": "choropleth"
           }
          ],
          "contour": [
           {
            "colorbar": {
             "outlinewidth": 0,
             "ticks": ""
            },
            "colorscale": [
             [
              0,
              "#0d0887"
             ],
             [
              0.1111111111111111,
              "#46039f"
             ],
             [
              0.2222222222222222,
              "#7201a8"
             ],
             [
              0.3333333333333333,
              "#9c179e"
             ],
             [
              0.4444444444444444,
              "#bd3786"
             ],
             [
              0.5555555555555556,
              "#d8576b"
             ],
             [
              0.6666666666666666,
              "#ed7953"
             ],
             [
              0.7777777777777778,
              "#fb9f3a"
             ],
             [
              0.8888888888888888,
              "#fdca26"
             ],
             [
              1,
              "#f0f921"
             ]
            ],
            "type": "contour"
           }
          ],
          "contourcarpet": [
           {
            "colorbar": {
             "outlinewidth": 0,
             "ticks": ""
            },
            "type": "contourcarpet"
           }
          ],
          "heatmap": [
           {
            "colorbar": {
             "outlinewidth": 0,
             "ticks": ""
            },
            "colorscale": [
             [
              0,
              "#0d0887"
             ],
             [
              0.1111111111111111,
              "#46039f"
             ],
             [
              0.2222222222222222,
              "#7201a8"
             ],
             [
              0.3333333333333333,
              "#9c179e"
             ],
             [
              0.4444444444444444,
              "#bd3786"
             ],
             [
              0.5555555555555556,
              "#d8576b"
             ],
             [
              0.6666666666666666,
              "#ed7953"
             ],
             [
              0.7777777777777778,
              "#fb9f3a"
             ],
             [
              0.8888888888888888,
              "#fdca26"
             ],
             [
              1,
              "#f0f921"
             ]
            ],
            "type": "heatmap"
           }
          ],
          "heatmapgl": [
           {
            "colorbar": {
             "outlinewidth": 0,
             "ticks": ""
            },
            "colorscale": [
             [
              0,
              "#0d0887"
             ],
             [
              0.1111111111111111,
              "#46039f"
             ],
             [
              0.2222222222222222,
              "#7201a8"
             ],
             [
              0.3333333333333333,
              "#9c179e"
             ],
             [
              0.4444444444444444,
              "#bd3786"
             ],
             [
              0.5555555555555556,
              "#d8576b"
             ],
             [
              0.6666666666666666,
              "#ed7953"
             ],
             [
              0.7777777777777778,
              "#fb9f3a"
             ],
             [
              0.8888888888888888,
              "#fdca26"
             ],
             [
              1,
              "#f0f921"
             ]
            ],
            "type": "heatmapgl"
           }
          ],
          "histogram": [
           {
            "marker": {
             "pattern": {
              "fillmode": "overlay",
              "size": 10,
              "solidity": 0.2
             }
            },
            "type": "histogram"
           }
          ],
          "histogram2d": [
           {
            "colorbar": {
             "outlinewidth": 0,
             "ticks": ""
            },
            "colorscale": [
             [
              0,
              "#0d0887"
             ],
             [
              0.1111111111111111,
              "#46039f"
             ],
             [
              0.2222222222222222,
              "#7201a8"
             ],
             [
              0.3333333333333333,
              "#9c179e"
             ],
             [
              0.4444444444444444,
              "#bd3786"
             ],
             [
              0.5555555555555556,
              "#d8576b"
             ],
             [
              0.6666666666666666,
              "#ed7953"
             ],
             [
              0.7777777777777778,
              "#fb9f3a"
             ],
             [
              0.8888888888888888,
              "#fdca26"
             ],
             [
              1,
              "#f0f921"
             ]
            ],
            "type": "histogram2d"
           }
          ],
          "histogram2dcontour": [
           {
            "colorbar": {
             "outlinewidth": 0,
             "ticks": ""
            },
            "colorscale": [
             [
              0,
              "#0d0887"
             ],
             [
              0.1111111111111111,
              "#46039f"
             ],
             [
              0.2222222222222222,
              "#7201a8"
             ],
             [
              0.3333333333333333,
              "#9c179e"
             ],
             [
              0.4444444444444444,
              "#bd3786"
             ],
             [
              0.5555555555555556,
              "#d8576b"
             ],
             [
              0.6666666666666666,
              "#ed7953"
             ],
             [
              0.7777777777777778,
              "#fb9f3a"
             ],
             [
              0.8888888888888888,
              "#fdca26"
             ],
             [
              1,
              "#f0f921"
             ]
            ],
            "type": "histogram2dcontour"
           }
          ],
          "mesh3d": [
           {
            "colorbar": {
             "outlinewidth": 0,
             "ticks": ""
            },
            "type": "mesh3d"
           }
          ],
          "parcoords": [
           {
            "line": {
             "colorbar": {
              "outlinewidth": 0,
              "ticks": ""
             }
            },
            "type": "parcoords"
           }
          ],
          "pie": [
           {
            "automargin": true,
            "type": "pie"
           }
          ],
          "scatter": [
           {
            "marker": {
             "colorbar": {
              "outlinewidth": 0,
              "ticks": ""
             }
            },
            "type": "scatter"
           }
          ],
          "scatter3d": [
           {
            "line": {
             "colorbar": {
              "outlinewidth": 0,
              "ticks": ""
             }
            },
            "marker": {
             "colorbar": {
              "outlinewidth": 0,
              "ticks": ""
             }
            },
            "type": "scatter3d"
           }
          ],
          "scattercarpet": [
           {
            "marker": {
             "colorbar": {
              "outlinewidth": 0,
              "ticks": ""
             }
            },
            "type": "scattercarpet"
           }
          ],
          "scattergeo": [
           {
            "marker": {
             "colorbar": {
              "outlinewidth": 0,
              "ticks": ""
             }
            },
            "type": "scattergeo"
           }
          ],
          "scattergl": [
           {
            "marker": {
             "colorbar": {
              "outlinewidth": 0,
              "ticks": ""
             }
            },
            "type": "scattergl"
           }
          ],
          "scattermapbox": [
           {
            "marker": {
             "colorbar": {
              "outlinewidth": 0,
              "ticks": ""
             }
            },
            "type": "scattermapbox"
           }
          ],
          "scatterpolar": [
           {
            "marker": {
             "colorbar": {
              "outlinewidth": 0,
              "ticks": ""
             }
            },
            "type": "scatterpolar"
           }
          ],
          "scatterpolargl": [
           {
            "marker": {
             "colorbar": {
              "outlinewidth": 0,
              "ticks": ""
             }
            },
            "type": "scatterpolargl"
           }
          ],
          "scatterternary": [
           {
            "marker": {
             "colorbar": {
              "outlinewidth": 0,
              "ticks": ""
             }
            },
            "type": "scatterternary"
           }
          ],
          "surface": [
           {
            "colorbar": {
             "outlinewidth": 0,
             "ticks": ""
            },
            "colorscale": [
             [
              0,
              "#0d0887"
             ],
             [
              0.1111111111111111,
              "#46039f"
             ],
             [
              0.2222222222222222,
              "#7201a8"
             ],
             [
              0.3333333333333333,
              "#9c179e"
             ],
             [
              0.4444444444444444,
              "#bd3786"
             ],
             [
              0.5555555555555556,
              "#d8576b"
             ],
             [
              0.6666666666666666,
              "#ed7953"
             ],
             [
              0.7777777777777778,
              "#fb9f3a"
             ],
             [
              0.8888888888888888,
              "#fdca26"
             ],
             [
              1,
              "#f0f921"
             ]
            ],
            "type": "surface"
           }
          ],
          "table": [
           {
            "cells": {
             "fill": {
              "color": "#EBF0F8"
             },
             "line": {
              "color": "white"
             }
            },
            "header": {
             "fill": {
              "color": "#C8D4E3"
             },
             "line": {
              "color": "white"
             }
            },
            "type": "table"
           }
          ]
         },
         "layout": {
          "annotationdefaults": {
           "arrowcolor": "#2a3f5f",
           "arrowhead": 0,
           "arrowwidth": 1
          },
          "autotypenumbers": "strict",
          "coloraxis": {
           "colorbar": {
            "outlinewidth": 0,
            "ticks": ""
           }
          },
          "colorscale": {
           "diverging": [
            [
             0,
             "#8e0152"
            ],
            [
             0.1,
             "#c51b7d"
            ],
            [
             0.2,
             "#de77ae"
            ],
            [
             0.3,
             "#f1b6da"
            ],
            [
             0.4,
             "#fde0ef"
            ],
            [
             0.5,
             "#f7f7f7"
            ],
            [
             0.6,
             "#e6f5d0"
            ],
            [
             0.7,
             "#b8e186"
            ],
            [
             0.8,
             "#7fbc41"
            ],
            [
             0.9,
             "#4d9221"
            ],
            [
             1,
             "#276419"
            ]
           ],
           "sequential": [
            [
             0,
             "#0d0887"
            ],
            [
             0.1111111111111111,
             "#46039f"
            ],
            [
             0.2222222222222222,
             "#7201a8"
            ],
            [
             0.3333333333333333,
             "#9c179e"
            ],
            [
             0.4444444444444444,
             "#bd3786"
            ],
            [
             0.5555555555555556,
             "#d8576b"
            ],
            [
             0.6666666666666666,
             "#ed7953"
            ],
            [
             0.7777777777777778,
             "#fb9f3a"
            ],
            [
             0.8888888888888888,
             "#fdca26"
            ],
            [
             1,
             "#f0f921"
            ]
           ],
           "sequentialminus": [
            [
             0,
             "#0d0887"
            ],
            [
             0.1111111111111111,
             "#46039f"
            ],
            [
             0.2222222222222222,
             "#7201a8"
            ],
            [
             0.3333333333333333,
             "#9c179e"
            ],
            [
             0.4444444444444444,
             "#bd3786"
            ],
            [
             0.5555555555555556,
             "#d8576b"
            ],
            [
             0.6666666666666666,
             "#ed7953"
            ],
            [
             0.7777777777777778,
             "#fb9f3a"
            ],
            [
             0.8888888888888888,
             "#fdca26"
            ],
            [
             1,
             "#f0f921"
            ]
           ]
          },
          "colorway": [
           "#636efa",
           "#EF553B",
           "#00cc96",
           "#ab63fa",
           "#FFA15A",
           "#19d3f3",
           "#FF6692",
           "#B6E880",
           "#FF97FF",
           "#FECB52"
          ],
          "font": {
           "color": "#2a3f5f"
          },
          "geo": {
           "bgcolor": "white",
           "lakecolor": "white",
           "landcolor": "#E5ECF6",
           "showlakes": true,
           "showland": true,
           "subunitcolor": "white"
          },
          "hoverlabel": {
           "align": "left"
          },
          "hovermode": "closest",
          "mapbox": {
           "style": "light"
          },
          "paper_bgcolor": "white",
          "plot_bgcolor": "#E5ECF6",
          "polar": {
           "angularaxis": {
            "gridcolor": "white",
            "linecolor": "white",
            "ticks": ""
           },
           "bgcolor": "#E5ECF6",
           "radialaxis": {
            "gridcolor": "white",
            "linecolor": "white",
            "ticks": ""
           }
          },
          "scene": {
           "xaxis": {
            "backgroundcolor": "#E5ECF6",
            "gridcolor": "white",
            "gridwidth": 2,
            "linecolor": "white",
            "showbackground": true,
            "ticks": "",
            "zerolinecolor": "white"
           },
           "yaxis": {
            "backgroundcolor": "#E5ECF6",
            "gridcolor": "white",
            "gridwidth": 2,
            "linecolor": "white",
            "showbackground": true,
            "ticks": "",
            "zerolinecolor": "white"
           },
           "zaxis": {
            "backgroundcolor": "#E5ECF6",
            "gridcolor": "white",
            "gridwidth": 2,
            "linecolor": "white",
            "showbackground": true,
            "ticks": "",
            "zerolinecolor": "white"
           }
          },
          "shapedefaults": {
           "line": {
            "color": "#2a3f5f"
           }
          },
          "ternary": {
           "aaxis": {
            "gridcolor": "white",
            "linecolor": "white",
            "ticks": ""
           },
           "baxis": {
            "gridcolor": "white",
            "linecolor": "white",
            "ticks": ""
           },
           "bgcolor": "#E5ECF6",
           "caxis": {
            "gridcolor": "white",
            "linecolor": "white",
            "ticks": ""
           }
          },
          "title": {
           "x": 0.05
          },
          "xaxis": {
           "automargin": true,
           "gridcolor": "white",
           "linecolor": "white",
           "ticks": "",
           "title": {
            "standoff": 15
           },
           "zerolinecolor": "white",
           "zerolinewidth": 2
          },
          "yaxis": {
           "automargin": true,
           "gridcolor": "white",
           "linecolor": "white",
           "ticks": "",
           "title": {
            "standoff": 15
           },
           "zerolinecolor": "white",
           "zerolinewidth": 2
          }
         }
        },
        "xaxis": {
         "anchor": "y",
         "domain": [
          0,
          1
         ],
         "title": {
          "text": "FECHA_ORDEN"
         }
        },
        "yaxis": {
         "anchor": "x",
         "domain": [
          0,
          1
         ],
         "title": {
          "text": "TOTAL_SIN_IVA"
         }
        }
       }
      },
      "text/html": [
       "<div>                            <div id=\"42a167fe-7ce2-43b0-b6b4-f0fbd684aa4e\" class=\"plotly-graph-div\" style=\"height:525px; width:100%;\"></div>            <script type=\"text/javascript\">                require([\"plotly\"], function(Plotly) {                    window.PLOTLYENV=window.PLOTLYENV || {};                                    if (document.getElementById(\"42a167fe-7ce2-43b0-b6b4-f0fbd684aa4e\")) {                    Plotly.newPlot(                        \"42a167fe-7ce2-43b0-b6b4-f0fbd684aa4e\",                        [{\"alignmentgroup\":\"True\",\"hovertemplate\":\"FECHA_ORDEN=%{x}<br>TOTAL_SIN_IVA=%{y}<extra></extra>\",\"legendgroup\":\"\",\"marker\":{\"color\":\"#636efa\",\"pattern\":{\"shape\":\"\"}},\"name\":\"\",\"offsetgroup\":\"\",\"orientation\":\"v\",\"showlegend\":false,\"textposition\":\"auto\",\"type\":\"bar\",\"x\":[\"2018-12-31T00:00:00\",\"2019-12-31T00:00:00\",\"2020-12-31T00:00:00\",\"2021-12-31T00:00:00\"],\"xaxis\":\"x\",\"y\":[660102848.0,2787268864.0,2755058176.0,4491069952.0],\"yaxis\":\"y\"}],                        {\"barmode\":\"relative\",\"legend\":{\"tracegroupgap\":0},\"margin\":{\"t\":60},\"template\":{\"data\":{\"bar\":[{\"error_x\":{\"color\":\"#2a3f5f\"},\"error_y\":{\"color\":\"#2a3f5f\"},\"marker\":{\"line\":{\"color\":\"#E5ECF6\",\"width\":0.5},\"pattern\":{\"fillmode\":\"overlay\",\"size\":10,\"solidity\":0.2}},\"type\":\"bar\"}],\"barpolar\":[{\"marker\":{\"line\":{\"color\":\"#E5ECF6\",\"width\":0.5},\"pattern\":{\"fillmode\":\"overlay\",\"size\":10,\"solidity\":0.2}},\"type\":\"barpolar\"}],\"carpet\":[{\"aaxis\":{\"endlinecolor\":\"#2a3f5f\",\"gridcolor\":\"white\",\"linecolor\":\"white\",\"minorgridcolor\":\"white\",\"startlinecolor\":\"#2a3f5f\"},\"baxis\":{\"endlinecolor\":\"#2a3f5f\",\"gridcolor\":\"white\",\"linecolor\":\"white\",\"minorgridcolor\":\"white\",\"startlinecolor\":\"#2a3f5f\"},\"type\":\"carpet\"}],\"choropleth\":[{\"colorbar\":{\"outlinewidth\":0,\"ticks\":\"\"},\"type\":\"choropleth\"}],\"contour\":[{\"colorbar\":{\"outlinewidth\":0,\"ticks\":\"\"},\"colorscale\":[[0.0,\"#0d0887\"],[0.1111111111111111,\"#46039f\"],[0.2222222222222222,\"#7201a8\"],[0.3333333333333333,\"#9c179e\"],[0.4444444444444444,\"#bd3786\"],[0.5555555555555556,\"#d8576b\"],[0.6666666666666666,\"#ed7953\"],[0.7777777777777778,\"#fb9f3a\"],[0.8888888888888888,\"#fdca26\"],[1.0,\"#f0f921\"]],\"type\":\"contour\"}],\"contourcarpet\":[{\"colorbar\":{\"outlinewidth\":0,\"ticks\":\"\"},\"type\":\"contourcarpet\"}],\"heatmap\":[{\"colorbar\":{\"outlinewidth\":0,\"ticks\":\"\"},\"colorscale\":[[0.0,\"#0d0887\"],[0.1111111111111111,\"#46039f\"],[0.2222222222222222,\"#7201a8\"],[0.3333333333333333,\"#9c179e\"],[0.4444444444444444,\"#bd3786\"],[0.5555555555555556,\"#d8576b\"],[0.6666666666666666,\"#ed7953\"],[0.7777777777777778,\"#fb9f3a\"],[0.8888888888888888,\"#fdca26\"],[1.0,\"#f0f921\"]],\"type\":\"heatmap\"}],\"heatmapgl\":[{\"colorbar\":{\"outlinewidth\":0,\"ticks\":\"\"},\"colorscale\":[[0.0,\"#0d0887\"],[0.1111111111111111,\"#46039f\"],[0.2222222222222222,\"#7201a8\"],[0.3333333333333333,\"#9c179e\"],[0.4444444444444444,\"#bd3786\"],[0.5555555555555556,\"#d8576b\"],[0.6666666666666666,\"#ed7953\"],[0.7777777777777778,\"#fb9f3a\"],[0.8888888888888888,\"#fdca26\"],[1.0,\"#f0f921\"]],\"type\":\"heatmapgl\"}],\"histogram\":[{\"marker\":{\"pattern\":{\"fillmode\":\"overlay\",\"size\":10,\"solidity\":0.2}},\"type\":\"histogram\"}],\"histogram2d\":[{\"colorbar\":{\"outlinewidth\":0,\"ticks\":\"\"},\"colorscale\":[[0.0,\"#0d0887\"],[0.1111111111111111,\"#46039f\"],[0.2222222222222222,\"#7201a8\"],[0.3333333333333333,\"#9c179e\"],[0.4444444444444444,\"#bd3786\"],[0.5555555555555556,\"#d8576b\"],[0.6666666666666666,\"#ed7953\"],[0.7777777777777778,\"#fb9f3a\"],[0.8888888888888888,\"#fdca26\"],[1.0,\"#f0f921\"]],\"type\":\"histogram2d\"}],\"histogram2dcontour\":[{\"colorbar\":{\"outlinewidth\":0,\"ticks\":\"\"},\"colorscale\":[[0.0,\"#0d0887\"],[0.1111111111111111,\"#46039f\"],[0.2222222222222222,\"#7201a8\"],[0.3333333333333333,\"#9c179e\"],[0.4444444444444444,\"#bd3786\"],[0.5555555555555556,\"#d8576b\"],[0.6666666666666666,\"#ed7953\"],[0.7777777777777778,\"#fb9f3a\"],[0.8888888888888888,\"#fdca26\"],[1.0,\"#f0f921\"]],\"type\":\"histogram2dcontour\"}],\"mesh3d\":[{\"colorbar\":{\"outlinewidth\":0,\"ticks\":\"\"},\"type\":\"mesh3d\"}],\"parcoords\":[{\"line\":{\"colorbar\":{\"outlinewidth\":0,\"ticks\":\"\"}},\"type\":\"parcoords\"}],\"pie\":[{\"automargin\":true,\"type\":\"pie\"}],\"scatter\":[{\"marker\":{\"colorbar\":{\"outlinewidth\":0,\"ticks\":\"\"}},\"type\":\"scatter\"}],\"scatter3d\":[{\"line\":{\"colorbar\":{\"outlinewidth\":0,\"ticks\":\"\"}},\"marker\":{\"colorbar\":{\"outlinewidth\":0,\"ticks\":\"\"}},\"type\":\"scatter3d\"}],\"scattercarpet\":[{\"marker\":{\"colorbar\":{\"outlinewidth\":0,\"ticks\":\"\"}},\"type\":\"scattercarpet\"}],\"scattergeo\":[{\"marker\":{\"colorbar\":{\"outlinewidth\":0,\"ticks\":\"\"}},\"type\":\"scattergeo\"}],\"scattergl\":[{\"marker\":{\"colorbar\":{\"outlinewidth\":0,\"ticks\":\"\"}},\"type\":\"scattergl\"}],\"scattermapbox\":[{\"marker\":{\"colorbar\":{\"outlinewidth\":0,\"ticks\":\"\"}},\"type\":\"scattermapbox\"}],\"scatterpolar\":[{\"marker\":{\"colorbar\":{\"outlinewidth\":0,\"ticks\":\"\"}},\"type\":\"scatterpolar\"}],\"scatterpolargl\":[{\"marker\":{\"colorbar\":{\"outlinewidth\":0,\"ticks\":\"\"}},\"type\":\"scatterpolargl\"}],\"scatterternary\":[{\"marker\":{\"colorbar\":{\"outlinewidth\":0,\"ticks\":\"\"}},\"type\":\"scatterternary\"}],\"surface\":[{\"colorbar\":{\"outlinewidth\":0,\"ticks\":\"\"},\"colorscale\":[[0.0,\"#0d0887\"],[0.1111111111111111,\"#46039f\"],[0.2222222222222222,\"#7201a8\"],[0.3333333333333333,\"#9c179e\"],[0.4444444444444444,\"#bd3786\"],[0.5555555555555556,\"#d8576b\"],[0.6666666666666666,\"#ed7953\"],[0.7777777777777778,\"#fb9f3a\"],[0.8888888888888888,\"#fdca26\"],[1.0,\"#f0f921\"]],\"type\":\"surface\"}],\"table\":[{\"cells\":{\"fill\":{\"color\":\"#EBF0F8\"},\"line\":{\"color\":\"white\"}},\"header\":{\"fill\":{\"color\":\"#C8D4E3\"},\"line\":{\"color\":\"white\"}},\"type\":\"table\"}]},\"layout\":{\"annotationdefaults\":{\"arrowcolor\":\"#2a3f5f\",\"arrowhead\":0,\"arrowwidth\":1},\"autotypenumbers\":\"strict\",\"coloraxis\":{\"colorbar\":{\"outlinewidth\":0,\"ticks\":\"\"}},\"colorscale\":{\"diverging\":[[0,\"#8e0152\"],[0.1,\"#c51b7d\"],[0.2,\"#de77ae\"],[0.3,\"#f1b6da\"],[0.4,\"#fde0ef\"],[0.5,\"#f7f7f7\"],[0.6,\"#e6f5d0\"],[0.7,\"#b8e186\"],[0.8,\"#7fbc41\"],[0.9,\"#4d9221\"],[1,\"#276419\"]],\"sequential\":[[0.0,\"#0d0887\"],[0.1111111111111111,\"#46039f\"],[0.2222222222222222,\"#7201a8\"],[0.3333333333333333,\"#9c179e\"],[0.4444444444444444,\"#bd3786\"],[0.5555555555555556,\"#d8576b\"],[0.6666666666666666,\"#ed7953\"],[0.7777777777777778,\"#fb9f3a\"],[0.8888888888888888,\"#fdca26\"],[1.0,\"#f0f921\"]],\"sequentialminus\":[[0.0,\"#0d0887\"],[0.1111111111111111,\"#46039f\"],[0.2222222222222222,\"#7201a8\"],[0.3333333333333333,\"#9c179e\"],[0.4444444444444444,\"#bd3786\"],[0.5555555555555556,\"#d8576b\"],[0.6666666666666666,\"#ed7953\"],[0.7777777777777778,\"#fb9f3a\"],[0.8888888888888888,\"#fdca26\"],[1.0,\"#f0f921\"]]},\"colorway\":[\"#636efa\",\"#EF553B\",\"#00cc96\",\"#ab63fa\",\"#FFA15A\",\"#19d3f3\",\"#FF6692\",\"#B6E880\",\"#FF97FF\",\"#FECB52\"],\"font\":{\"color\":\"#2a3f5f\"},\"geo\":{\"bgcolor\":\"white\",\"lakecolor\":\"white\",\"landcolor\":\"#E5ECF6\",\"showlakes\":true,\"showland\":true,\"subunitcolor\":\"white\"},\"hoverlabel\":{\"align\":\"left\"},\"hovermode\":\"closest\",\"mapbox\":{\"style\":\"light\"},\"paper_bgcolor\":\"white\",\"plot_bgcolor\":\"#E5ECF6\",\"polar\":{\"angularaxis\":{\"gridcolor\":\"white\",\"linecolor\":\"white\",\"ticks\":\"\"},\"bgcolor\":\"#E5ECF6\",\"radialaxis\":{\"gridcolor\":\"white\",\"linecolor\":\"white\",\"ticks\":\"\"}},\"scene\":{\"xaxis\":{\"backgroundcolor\":\"#E5ECF6\",\"gridcolor\":\"white\",\"gridwidth\":2,\"linecolor\":\"white\",\"showbackground\":true,\"ticks\":\"\",\"zerolinecolor\":\"white\"},\"yaxis\":{\"backgroundcolor\":\"#E5ECF6\",\"gridcolor\":\"white\",\"gridwidth\":2,\"linecolor\":\"white\",\"showbackground\":true,\"ticks\":\"\",\"zerolinecolor\":\"white\"},\"zaxis\":{\"backgroundcolor\":\"#E5ECF6\",\"gridcolor\":\"white\",\"gridwidth\":2,\"linecolor\":\"white\",\"showbackground\":true,\"ticks\":\"\",\"zerolinecolor\":\"white\"}},\"shapedefaults\":{\"line\":{\"color\":\"#2a3f5f\"}},\"ternary\":{\"aaxis\":{\"gridcolor\":\"white\",\"linecolor\":\"white\",\"ticks\":\"\"},\"baxis\":{\"gridcolor\":\"white\",\"linecolor\":\"white\",\"ticks\":\"\"},\"bgcolor\":\"#E5ECF6\",\"caxis\":{\"gridcolor\":\"white\",\"linecolor\":\"white\",\"ticks\":\"\"}},\"title\":{\"x\":0.05},\"xaxis\":{\"automargin\":true,\"gridcolor\":\"white\",\"linecolor\":\"white\",\"ticks\":\"\",\"title\":{\"standoff\":15},\"zerolinecolor\":\"white\",\"zerolinewidth\":2},\"yaxis\":{\"automargin\":true,\"gridcolor\":\"white\",\"linecolor\":\"white\",\"ticks\":\"\",\"title\":{\"standoff\":15},\"zerolinecolor\":\"white\",\"zerolinewidth\":2}}},\"xaxis\":{\"anchor\":\"y\",\"domain\":[0.0,1.0],\"title\":{\"text\":\"FECHA_ORDEN\"}},\"yaxis\":{\"anchor\":\"x\",\"domain\":[0.0,1.0],\"title\":{\"text\":\"TOTAL_SIN_IVA\"}}},                        {\"responsive\": true}                    ).then(function(){\n",
       "                            \n",
       "var gd = document.getElementById('42a167fe-7ce2-43b0-b6b4-f0fbd684aa4e');\n",
       "var x = new MutationObserver(function (mutations, observer) {{\n",
       "        var display = window.getComputedStyle(gd).display;\n",
       "        if (!display || display === 'none') {{\n",
       "            console.log([gd, 'removed!']);\n",
       "            Plotly.purge(gd);\n",
       "            observer.disconnect();\n",
       "        }}\n",
       "}});\n",
       "\n",
       "// Listen for the removal of the full notebook cells\n",
       "var notebookContainer = gd.closest('#notebook-container');\n",
       "if (notebookContainer) {{\n",
       "    x.observe(notebookContainer, {childList: true});\n",
       "}}\n",
       "\n",
       "// Listen for the clearing of the current output cell\n",
       "var outputEl = gd.closest('.output');\n",
       "if (outputEl) {{\n",
       "    x.observe(outputEl, {childList: true});\n",
       "}}\n",
       "\n",
       "                        })                };                });            </script>        </div>"
      ]
     },
     "metadata": {},
     "output_type": "display_data"
    }
   ],
   "source": [
    "px.bar(df_Y, y='TOTAL_SIN_IVA')"
   ]
  },
  {
   "cell_type": "markdown",
   "metadata": {},
   "source": [
    "## By Month"
   ]
  },
  {
   "cell_type": "code",
   "execution_count": 112,
   "metadata": {},
   "outputs": [
    {
     "data": {
      "text/html": [
       "<div>\n",
       "<style scoped>\n",
       "    .dataframe tbody tr th:only-of-type {\n",
       "        vertical-align: middle;\n",
       "    }\n",
       "\n",
       "    .dataframe tbody tr th {\n",
       "        vertical-align: top;\n",
       "    }\n",
       "\n",
       "    .dataframe thead th {\n",
       "        text-align: right;\n",
       "    }\n",
       "</style>\n",
       "<table border=\"1\" class=\"dataframe\">\n",
       "  <thead>\n",
       "    <tr style=\"text-align: right;\">\n",
       "      <th></th>\n",
       "      <th>CANTIDAD_PEDIDA</th>\n",
       "      <th>CANTIDAD_RECIBIDA</th>\n",
       "      <th>PRECIO_UNITARIO</th>\n",
       "      <th>IVA</th>\n",
       "      <th>TOTAL_SIN_IVA</th>\n",
       "    </tr>\n",
       "    <tr>\n",
       "      <th>FECHA_ORDEN</th>\n",
       "      <th></th>\n",
       "      <th></th>\n",
       "      <th></th>\n",
       "      <th></th>\n",
       "      <th></th>\n",
       "    </tr>\n",
       "  </thead>\n",
       "  <tbody>\n",
       "    <tr>\n",
       "      <th>2018-04-30</th>\n",
       "      <td>22.00</td>\n",
       "      <td>22.00</td>\n",
       "      <td>126,722.00</td>\n",
       "      <td>24,078.00</td>\n",
       "      <td>643,529.00</td>\n",
       "    </tr>\n",
       "    <tr>\n",
       "      <th>2018-05-31</th>\n",
       "      <td>179,909.93</td>\n",
       "      <td>182.00</td>\n",
       "      <td>17,952,810.00</td>\n",
       "      <td>3,397,901.00</td>\n",
       "      <td>86,983,344.00</td>\n",
       "    </tr>\n",
       "    <tr>\n",
       "      <th>2018-06-30</th>\n",
       "      <td>481,225.57</td>\n",
       "      <td>160.00</td>\n",
       "      <td>16,467,157.00</td>\n",
       "      <td>2,910,354.00</td>\n",
       "      <td>101,410,232.00</td>\n",
       "    </tr>\n",
       "    <tr>\n",
       "      <th>2018-07-31</th>\n",
       "      <td>250,286.19</td>\n",
       "      <td>0.00</td>\n",
       "      <td>12,030,855.00</td>\n",
       "      <td>2,273,663.00</td>\n",
       "      <td>106,887,144.00</td>\n",
       "    </tr>\n",
       "    <tr>\n",
       "      <th>2018-08-31</th>\n",
       "      <td>323,701.00</td>\n",
       "      <td>583.00</td>\n",
       "      <td>3,449,758.00</td>\n",
       "      <td>642,979.00</td>\n",
       "      <td>85,446,688.00</td>\n",
       "    </tr>\n",
       "    <tr>\n",
       "      <th>2018-09-30</th>\n",
       "      <td>333,671.01</td>\n",
       "      <td>12.00</td>\n",
       "      <td>2,394,064.00</td>\n",
       "      <td>402,736.00</td>\n",
       "      <td>80,714,904.00</td>\n",
       "    </tr>\n",
       "    <tr>\n",
       "      <th>2018-10-31</th>\n",
       "      <td>450,440.00</td>\n",
       "      <td>0.00</td>\n",
       "      <td>3,675,876.00</td>\n",
       "      <td>683,678.00</td>\n",
       "      <td>105,108,312.00</td>\n",
       "    </tr>\n",
       "    <tr>\n",
       "      <th>2018-11-30</th>\n",
       "      <td>457,966.00</td>\n",
       "      <td>0.00</td>\n",
       "      <td>466,431.00</td>\n",
       "      <td>81,481.00</td>\n",
       "      <td>55,557,620.00</td>\n",
       "    </tr>\n",
       "    <tr>\n",
       "      <th>2018-12-31</th>\n",
       "      <td>348,439.00</td>\n",
       "      <td>3.00</td>\n",
       "      <td>282,501.00</td>\n",
       "      <td>51,187.00</td>\n",
       "      <td>37,351,064.00</td>\n",
       "    </tr>\n",
       "    <tr>\n",
       "      <th>2019-01-31</th>\n",
       "      <td>332,937.00</td>\n",
       "      <td>0.00</td>\n",
       "      <td>285,320.00</td>\n",
       "      <td>51,275.00</td>\n",
       "      <td>32,644,728.00</td>\n",
       "    </tr>\n",
       "    <tr>\n",
       "      <th>2019-02-28</th>\n",
       "      <td>5.00</td>\n",
       "      <td>5.00</td>\n",
       "      <td>740.00</td>\n",
       "      <td>0.00</td>\n",
       "      <td>3,700.00</td>\n",
       "    </tr>\n",
       "    <tr>\n",
       "      <th>2019-03-31</th>\n",
       "      <td>1.00</td>\n",
       "      <td>0.00</td>\n",
       "      <td>22,549,192.00</td>\n",
       "      <td>0.00</td>\n",
       "      <td>22,549,192.00</td>\n",
       "    </tr>\n",
       "    <tr>\n",
       "      <th>2019-04-30</th>\n",
       "      <td>9.00</td>\n",
       "      <td>0.00</td>\n",
       "      <td>97,639.00</td>\n",
       "      <td>18,361.00</td>\n",
       "      <td>127,051.00</td>\n",
       "    </tr>\n",
       "    <tr>\n",
       "      <th>2019-05-31</th>\n",
       "      <td>0.00</td>\n",
       "      <td>0.00</td>\n",
       "      <td>0.00</td>\n",
       "      <td>0.00</td>\n",
       "      <td>0.00</td>\n",
       "    </tr>\n",
       "    <tr>\n",
       "      <th>2019-06-30</th>\n",
       "      <td>36.00</td>\n",
       "      <td>19.00</td>\n",
       "      <td>3,463,396.00</td>\n",
       "      <td>657,666.00</td>\n",
       "      <td>3,723,850.00</td>\n",
       "    </tr>\n",
       "    <tr>\n",
       "      <th>2019-07-31</th>\n",
       "      <td>295.00</td>\n",
       "      <td>141.00</td>\n",
       "      <td>962,808.00</td>\n",
       "      <td>138,374.00</td>\n",
       "      <td>3,978,824.00</td>\n",
       "    </tr>\n",
       "    <tr>\n",
       "      <th>2019-08-31</th>\n",
       "      <td>0.00</td>\n",
       "      <td>0.00</td>\n",
       "      <td>0.00</td>\n",
       "      <td>0.00</td>\n",
       "      <td>0.00</td>\n",
       "    </tr>\n",
       "    <tr>\n",
       "      <th>2019-09-30</th>\n",
       "      <td>25.00</td>\n",
       "      <td>19.00</td>\n",
       "      <td>218,648.00</td>\n",
       "      <td>22,352.00</td>\n",
       "      <td>1,342,177.00</td>\n",
       "    </tr>\n",
       "    <tr>\n",
       "      <th>2019-10-31</th>\n",
       "      <td>68.00</td>\n",
       "      <td>24.00</td>\n",
       "      <td>191,664.00</td>\n",
       "      <td>36,036.00</td>\n",
       "      <td>1,278,445.00</td>\n",
       "    </tr>\n",
       "    <tr>\n",
       "      <th>2019-11-30</th>\n",
       "      <td>84,151.00</td>\n",
       "      <td>84,146.00</td>\n",
       "      <td>46,663,312.00</td>\n",
       "      <td>8,865,824.00</td>\n",
       "      <td>1,132,102,144.00</td>\n",
       "    </tr>\n",
       "    <tr>\n",
       "      <th>2019-12-31</th>\n",
       "      <td>83,369.00</td>\n",
       "      <td>83,360.00</td>\n",
       "      <td>94,702,984.00</td>\n",
       "      <td>17,870,134.00</td>\n",
       "      <td>1,589,518,592.00</td>\n",
       "    </tr>\n",
       "    <tr>\n",
       "      <th>2020-01-31</th>\n",
       "      <td>20,543.00</td>\n",
       "      <td>20,531.00</td>\n",
       "      <td>36,348,304.00</td>\n",
       "      <td>6,886,504.00</td>\n",
       "      <td>684,580,992.00</td>\n",
       "    </tr>\n",
       "    <tr>\n",
       "      <th>2020-02-29</th>\n",
       "      <td>99,804.00</td>\n",
       "      <td>96,719.00</td>\n",
       "      <td>41,096,016.00</td>\n",
       "      <td>7,800,725.00</td>\n",
       "      <td>1,294,864,768.00</td>\n",
       "    </tr>\n",
       "    <tr>\n",
       "      <th>2020-03-31</th>\n",
       "      <td>1,285.00</td>\n",
       "      <td>852.00</td>\n",
       "      <td>4,525,672.00</td>\n",
       "      <td>858,757.00</td>\n",
       "      <td>51,060,612.00</td>\n",
       "    </tr>\n",
       "    <tr>\n",
       "      <th>2020-04-30</th>\n",
       "      <td>618.00</td>\n",
       "      <td>544.00</td>\n",
       "      <td>749,409.00</td>\n",
       "      <td>29,699.00</td>\n",
       "      <td>9,722,532.00</td>\n",
       "    </tr>\n",
       "    <tr>\n",
       "      <th>2020-05-31</th>\n",
       "      <td>240.00</td>\n",
       "      <td>175.00</td>\n",
       "      <td>996,320.00</td>\n",
       "      <td>154,864.00</td>\n",
       "      <td>4,059,773.00</td>\n",
       "    </tr>\n",
       "    <tr>\n",
       "      <th>2020-06-30</th>\n",
       "      <td>2,292.00</td>\n",
       "      <td>2,252.00</td>\n",
       "      <td>3,744,722.00</td>\n",
       "      <td>577,951.00</td>\n",
       "      <td>22,541,076.00</td>\n",
       "    </tr>\n",
       "    <tr>\n",
       "      <th>2020-07-31</th>\n",
       "      <td>1,354.00</td>\n",
       "      <td>1,309.00</td>\n",
       "      <td>4,004,701.00</td>\n",
       "      <td>192,723.00</td>\n",
       "      <td>10,381,840.00</td>\n",
       "    </tr>\n",
       "    <tr>\n",
       "      <th>2020-08-31</th>\n",
       "      <td>9,483.00</td>\n",
       "      <td>8,849.00</td>\n",
       "      <td>5,687,497.00</td>\n",
       "      <td>734,062.00</td>\n",
       "      <td>49,651,596.00</td>\n",
       "    </tr>\n",
       "    <tr>\n",
       "      <th>2020-09-30</th>\n",
       "      <td>37,402.50</td>\n",
       "      <td>25,181.00</td>\n",
       "      <td>6,644,025.00</td>\n",
       "      <td>996,357.00</td>\n",
       "      <td>83,557,264.00</td>\n",
       "    </tr>\n",
       "    <tr>\n",
       "      <th>2020-10-31</th>\n",
       "      <td>34,516.27</td>\n",
       "      <td>30,262.00</td>\n",
       "      <td>8,352,434.00</td>\n",
       "      <td>958,543.00</td>\n",
       "      <td>114,524,352.00</td>\n",
       "    </tr>\n",
       "    <tr>\n",
       "      <th>2020-11-30</th>\n",
       "      <td>53,366.60</td>\n",
       "      <td>45,813.65</td>\n",
       "      <td>13,752,106.00</td>\n",
       "      <td>1,369,291.00</td>\n",
       "      <td>186,020,768.00</td>\n",
       "    </tr>\n",
       "    <tr>\n",
       "      <th>2020-12-31</th>\n",
       "      <td>37,339.41</td>\n",
       "      <td>28,671.31</td>\n",
       "      <td>32,421,984.00</td>\n",
       "      <td>5,284,142.00</td>\n",
       "      <td>244,092,528.00</td>\n",
       "    </tr>\n",
       "    <tr>\n",
       "      <th>2021-01-31</th>\n",
       "      <td>51,299.65</td>\n",
       "      <td>38,308.35</td>\n",
       "      <td>23,584,440.00</td>\n",
       "      <td>3,004,268.00</td>\n",
       "      <td>243,477,568.00</td>\n",
       "    </tr>\n",
       "    <tr>\n",
       "      <th>2021-02-28</th>\n",
       "      <td>92,449.30</td>\n",
       "      <td>88,266.40</td>\n",
       "      <td>26,286,168.00</td>\n",
       "      <td>3,860,959.00</td>\n",
       "      <td>274,992,672.00</td>\n",
       "    </tr>\n",
       "    <tr>\n",
       "      <th>2021-03-31</th>\n",
       "      <td>20,805.50</td>\n",
       "      <td>17,075.35</td>\n",
       "      <td>40,688,896.00</td>\n",
       "      <td>6,179,525.00</td>\n",
       "      <td>149,910,976.00</td>\n",
       "    </tr>\n",
       "    <tr>\n",
       "      <th>2021-04-30</th>\n",
       "      <td>43,469.50</td>\n",
       "      <td>37,453.80</td>\n",
       "      <td>128,889,064.00</td>\n",
       "      <td>22,269,916.00</td>\n",
       "      <td>539,532,736.00</td>\n",
       "    </tr>\n",
       "    <tr>\n",
       "      <th>2021-05-31</th>\n",
       "      <td>65,873.00</td>\n",
       "      <td>51,333.30</td>\n",
       "      <td>171,924,944.00</td>\n",
       "      <td>21,777,534.00</td>\n",
       "      <td>381,226,336.00</td>\n",
       "    </tr>\n",
       "    <tr>\n",
       "      <th>2021-06-30</th>\n",
       "      <td>29,749.00</td>\n",
       "      <td>18,387.30</td>\n",
       "      <td>174,404,832.00</td>\n",
       "      <td>20,319,964.00</td>\n",
       "      <td>1,023,699,712.00</td>\n",
       "    </tr>\n",
       "    <tr>\n",
       "      <th>2021-07-31</th>\n",
       "      <td>89,269.00</td>\n",
       "      <td>80,448.75</td>\n",
       "      <td>115,662,480.00</td>\n",
       "      <td>18,030,136.00</td>\n",
       "      <td>424,662,592.00</td>\n",
       "    </tr>\n",
       "    <tr>\n",
       "      <th>2021-08-31</th>\n",
       "      <td>93,503.50</td>\n",
       "      <td>82,638.00</td>\n",
       "      <td>155,981,440.00</td>\n",
       "      <td>26,302,592.00</td>\n",
       "      <td>363,059,520.00</td>\n",
       "    </tr>\n",
       "    <tr>\n",
       "      <th>2021-09-30</th>\n",
       "      <td>106,726.50</td>\n",
       "      <td>99,628.30</td>\n",
       "      <td>186,657,328.00</td>\n",
       "      <td>31,811,608.00</td>\n",
       "      <td>503,067,456.00</td>\n",
       "    </tr>\n",
       "    <tr>\n",
       "      <th>2021-10-31</th>\n",
       "      <td>113,394.20</td>\n",
       "      <td>103,559.15</td>\n",
       "      <td>187,089,328.00</td>\n",
       "      <td>29,965,622.00</td>\n",
       "      <td>431,217,408.00</td>\n",
       "    </tr>\n",
       "    <tr>\n",
       "      <th>2021-11-30</th>\n",
       "      <td>72,708.00</td>\n",
       "      <td>61,987.40</td>\n",
       "      <td>63,220,324.00</td>\n",
       "      <td>10,007,530.00</td>\n",
       "      <td>156,223,120.00</td>\n",
       "    </tr>\n",
       "  </tbody>\n",
       "</table>\n",
       "</div>"
      ],
      "text/plain": [
       "                 CANTIDAD_PEDIDA    CANTIDAD_RECIBIDA      PRECIO_UNITARIO  \\\n",
       "FECHA_ORDEN                                                                  \n",
       "2018-04-30                 22.00                22.00           126,722.00   \n",
       "2018-05-31            179,909.93               182.00        17,952,810.00   \n",
       "2018-06-30            481,225.57               160.00        16,467,157.00   \n",
       "2018-07-31            250,286.19                 0.00        12,030,855.00   \n",
       "2018-08-31            323,701.00               583.00         3,449,758.00   \n",
       "2018-09-30            333,671.01                12.00         2,394,064.00   \n",
       "2018-10-31            450,440.00                 0.00         3,675,876.00   \n",
       "2018-11-30            457,966.00                 0.00           466,431.00   \n",
       "2018-12-31            348,439.00                 3.00           282,501.00   \n",
       "2019-01-31            332,937.00                 0.00           285,320.00   \n",
       "2019-02-28                  5.00                 5.00               740.00   \n",
       "2019-03-31                  1.00                 0.00        22,549,192.00   \n",
       "2019-04-30                  9.00                 0.00            97,639.00   \n",
       "2019-05-31                  0.00                 0.00                 0.00   \n",
       "2019-06-30                 36.00                19.00         3,463,396.00   \n",
       "2019-07-31                295.00               141.00           962,808.00   \n",
       "2019-08-31                  0.00                 0.00                 0.00   \n",
       "2019-09-30                 25.00                19.00           218,648.00   \n",
       "2019-10-31                 68.00                24.00           191,664.00   \n",
       "2019-11-30             84,151.00            84,146.00        46,663,312.00   \n",
       "2019-12-31             83,369.00            83,360.00        94,702,984.00   \n",
       "2020-01-31             20,543.00            20,531.00        36,348,304.00   \n",
       "2020-02-29             99,804.00            96,719.00        41,096,016.00   \n",
       "2020-03-31              1,285.00               852.00         4,525,672.00   \n",
       "2020-04-30                618.00               544.00           749,409.00   \n",
       "2020-05-31                240.00               175.00           996,320.00   \n",
       "2020-06-30              2,292.00             2,252.00         3,744,722.00   \n",
       "2020-07-31              1,354.00             1,309.00         4,004,701.00   \n",
       "2020-08-31              9,483.00             8,849.00         5,687,497.00   \n",
       "2020-09-30             37,402.50            25,181.00         6,644,025.00   \n",
       "2020-10-31             34,516.27            30,262.00         8,352,434.00   \n",
       "2020-11-30             53,366.60            45,813.65        13,752,106.00   \n",
       "2020-12-31             37,339.41            28,671.31        32,421,984.00   \n",
       "2021-01-31             51,299.65            38,308.35        23,584,440.00   \n",
       "2021-02-28             92,449.30            88,266.40        26,286,168.00   \n",
       "2021-03-31             20,805.50            17,075.35        40,688,896.00   \n",
       "2021-04-30             43,469.50            37,453.80       128,889,064.00   \n",
       "2021-05-31             65,873.00            51,333.30       171,924,944.00   \n",
       "2021-06-30             29,749.00            18,387.30       174,404,832.00   \n",
       "2021-07-31             89,269.00            80,448.75       115,662,480.00   \n",
       "2021-08-31             93,503.50            82,638.00       155,981,440.00   \n",
       "2021-09-30            106,726.50            99,628.30       186,657,328.00   \n",
       "2021-10-31            113,394.20           103,559.15       187,089,328.00   \n",
       "2021-11-30             72,708.00            61,987.40        63,220,324.00   \n",
       "\n",
       "                             IVA        TOTAL_SIN_IVA  \n",
       "FECHA_ORDEN                                            \n",
       "2018-04-30             24,078.00           643,529.00  \n",
       "2018-05-31          3,397,901.00        86,983,344.00  \n",
       "2018-06-30          2,910,354.00       101,410,232.00  \n",
       "2018-07-31          2,273,663.00       106,887,144.00  \n",
       "2018-08-31            642,979.00        85,446,688.00  \n",
       "2018-09-30            402,736.00        80,714,904.00  \n",
       "2018-10-31            683,678.00       105,108,312.00  \n",
       "2018-11-30             81,481.00        55,557,620.00  \n",
       "2018-12-31             51,187.00        37,351,064.00  \n",
       "2019-01-31             51,275.00        32,644,728.00  \n",
       "2019-02-28                  0.00             3,700.00  \n",
       "2019-03-31                  0.00        22,549,192.00  \n",
       "2019-04-30             18,361.00           127,051.00  \n",
       "2019-05-31                  0.00                 0.00  \n",
       "2019-06-30            657,666.00         3,723,850.00  \n",
       "2019-07-31            138,374.00         3,978,824.00  \n",
       "2019-08-31                  0.00                 0.00  \n",
       "2019-09-30             22,352.00         1,342,177.00  \n",
       "2019-10-31             36,036.00         1,278,445.00  \n",
       "2019-11-30          8,865,824.00     1,132,102,144.00  \n",
       "2019-12-31         17,870,134.00     1,589,518,592.00  \n",
       "2020-01-31          6,886,504.00       684,580,992.00  \n",
       "2020-02-29          7,800,725.00     1,294,864,768.00  \n",
       "2020-03-31            858,757.00        51,060,612.00  \n",
       "2020-04-30             29,699.00         9,722,532.00  \n",
       "2020-05-31            154,864.00         4,059,773.00  \n",
       "2020-06-30            577,951.00        22,541,076.00  \n",
       "2020-07-31            192,723.00        10,381,840.00  \n",
       "2020-08-31            734,062.00        49,651,596.00  \n",
       "2020-09-30            996,357.00        83,557,264.00  \n",
       "2020-10-31            958,543.00       114,524,352.00  \n",
       "2020-11-30          1,369,291.00       186,020,768.00  \n",
       "2020-12-31          5,284,142.00       244,092,528.00  \n",
       "2021-01-31          3,004,268.00       243,477,568.00  \n",
       "2021-02-28          3,860,959.00       274,992,672.00  \n",
       "2021-03-31          6,179,525.00       149,910,976.00  \n",
       "2021-04-30         22,269,916.00       539,532,736.00  \n",
       "2021-05-31         21,777,534.00       381,226,336.00  \n",
       "2021-06-30         20,319,964.00     1,023,699,712.00  \n",
       "2021-07-31         18,030,136.00       424,662,592.00  \n",
       "2021-08-31         26,302,592.00       363,059,520.00  \n",
       "2021-09-30         31,811,608.00       503,067,456.00  \n",
       "2021-10-31         29,965,622.00       431,217,408.00  \n",
       "2021-11-30         10,007,530.00       156,223,120.00  "
      ]
     },
     "execution_count": 112,
     "metadata": {},
     "output_type": "execute_result"
    }
   ],
   "source": [
    "df_M = df.groupby(pd.Grouper(key='FECHA_ORDEN', freq=\"M\")).sum()\n",
    "df_M"
   ]
  },
  {
   "cell_type": "code",
   "execution_count": 113,
   "metadata": {},
   "outputs": [
    {
     "data": {
      "application/vnd.plotly.v1+json": {
       "config": {
        "plotlyServerURL": "https://plot.ly"
       },
       "data": [
        {
         "alignmentgroup": "True",
         "hovertemplate": "FECHA_ORDEN=%{x}<br>TOTAL_SIN_IVA=%{y}<extra></extra>",
         "legendgroup": "",
         "marker": {
          "color": "#636efa",
          "pattern": {
           "shape": ""
          }
         },
         "name": "",
         "offsetgroup": "",
         "orientation": "v",
         "showlegend": false,
         "textposition": "auto",
         "type": "bar",
         "x": [
          "2018-04-30T00:00:00",
          "2018-05-31T00:00:00",
          "2018-06-30T00:00:00",
          "2018-07-31T00:00:00",
          "2018-08-31T00:00:00",
          "2018-09-30T00:00:00",
          "2018-10-31T00:00:00",
          "2018-11-30T00:00:00",
          "2018-12-31T00:00:00",
          "2019-01-31T00:00:00",
          "2019-02-28T00:00:00",
          "2019-03-31T00:00:00",
          "2019-04-30T00:00:00",
          "2019-05-31T00:00:00",
          "2019-06-30T00:00:00",
          "2019-07-31T00:00:00",
          "2019-08-31T00:00:00",
          "2019-09-30T00:00:00",
          "2019-10-31T00:00:00",
          "2019-11-30T00:00:00",
          "2019-12-31T00:00:00",
          "2020-01-31T00:00:00",
          "2020-02-29T00:00:00",
          "2020-03-31T00:00:00",
          "2020-04-30T00:00:00",
          "2020-05-31T00:00:00",
          "2020-06-30T00:00:00",
          "2020-07-31T00:00:00",
          "2020-08-31T00:00:00",
          "2020-09-30T00:00:00",
          "2020-10-31T00:00:00",
          "2020-11-30T00:00:00",
          "2020-12-31T00:00:00",
          "2021-01-31T00:00:00",
          "2021-02-28T00:00:00",
          "2021-03-31T00:00:00",
          "2021-04-30T00:00:00",
          "2021-05-31T00:00:00",
          "2021-06-30T00:00:00",
          "2021-07-31T00:00:00",
          "2021-08-31T00:00:00",
          "2021-09-30T00:00:00",
          "2021-10-31T00:00:00",
          "2021-11-30T00:00:00"
         ],
         "xaxis": "x",
         "y": [
          643529,
          86983344,
          101410232,
          106887144,
          85446688,
          80714904,
          105108312,
          55557620,
          37351064,
          32644728,
          3700,
          22549192,
          127051,
          0,
          3723850,
          3978824,
          0,
          1342177,
          1278445,
          1132102144,
          1589518592,
          684580992,
          1294864768,
          51060612,
          9722532,
          4059773,
          22541076,
          10381840,
          49651596,
          83557264,
          114524352,
          186020768,
          244092528,
          243477568,
          274992672,
          149910976,
          539532736,
          381226336,
          1023699712,
          424662592,
          363059520,
          503067456,
          431217408,
          156223120
         ],
         "yaxis": "y"
        }
       ],
       "layout": {
        "barmode": "relative",
        "legend": {
         "tracegroupgap": 0
        },
        "margin": {
         "t": 60
        },
        "template": {
         "data": {
          "bar": [
           {
            "error_x": {
             "color": "#2a3f5f"
            },
            "error_y": {
             "color": "#2a3f5f"
            },
            "marker": {
             "line": {
              "color": "#E5ECF6",
              "width": 0.5
             },
             "pattern": {
              "fillmode": "overlay",
              "size": 10,
              "solidity": 0.2
             }
            },
            "type": "bar"
           }
          ],
          "barpolar": [
           {
            "marker": {
             "line": {
              "color": "#E5ECF6",
              "width": 0.5
             },
             "pattern": {
              "fillmode": "overlay",
              "size": 10,
              "solidity": 0.2
             }
            },
            "type": "barpolar"
           }
          ],
          "carpet": [
           {
            "aaxis": {
             "endlinecolor": "#2a3f5f",
             "gridcolor": "white",
             "linecolor": "white",
             "minorgridcolor": "white",
             "startlinecolor": "#2a3f5f"
            },
            "baxis": {
             "endlinecolor": "#2a3f5f",
             "gridcolor": "white",
             "linecolor": "white",
             "minorgridcolor": "white",
             "startlinecolor": "#2a3f5f"
            },
            "type": "carpet"
           }
          ],
          "choropleth": [
           {
            "colorbar": {
             "outlinewidth": 0,
             "ticks": ""
            },
            "type": "choropleth"
           }
          ],
          "contour": [
           {
            "colorbar": {
             "outlinewidth": 0,
             "ticks": ""
            },
            "colorscale": [
             [
              0,
              "#0d0887"
             ],
             [
              0.1111111111111111,
              "#46039f"
             ],
             [
              0.2222222222222222,
              "#7201a8"
             ],
             [
              0.3333333333333333,
              "#9c179e"
             ],
             [
              0.4444444444444444,
              "#bd3786"
             ],
             [
              0.5555555555555556,
              "#d8576b"
             ],
             [
              0.6666666666666666,
              "#ed7953"
             ],
             [
              0.7777777777777778,
              "#fb9f3a"
             ],
             [
              0.8888888888888888,
              "#fdca26"
             ],
             [
              1,
              "#f0f921"
             ]
            ],
            "type": "contour"
           }
          ],
          "contourcarpet": [
           {
            "colorbar": {
             "outlinewidth": 0,
             "ticks": ""
            },
            "type": "contourcarpet"
           }
          ],
          "heatmap": [
           {
            "colorbar": {
             "outlinewidth": 0,
             "ticks": ""
            },
            "colorscale": [
             [
              0,
              "#0d0887"
             ],
             [
              0.1111111111111111,
              "#46039f"
             ],
             [
              0.2222222222222222,
              "#7201a8"
             ],
             [
              0.3333333333333333,
              "#9c179e"
             ],
             [
              0.4444444444444444,
              "#bd3786"
             ],
             [
              0.5555555555555556,
              "#d8576b"
             ],
             [
              0.6666666666666666,
              "#ed7953"
             ],
             [
              0.7777777777777778,
              "#fb9f3a"
             ],
             [
              0.8888888888888888,
              "#fdca26"
             ],
             [
              1,
              "#f0f921"
             ]
            ],
            "type": "heatmap"
           }
          ],
          "heatmapgl": [
           {
            "colorbar": {
             "outlinewidth": 0,
             "ticks": ""
            },
            "colorscale": [
             [
              0,
              "#0d0887"
             ],
             [
              0.1111111111111111,
              "#46039f"
             ],
             [
              0.2222222222222222,
              "#7201a8"
             ],
             [
              0.3333333333333333,
              "#9c179e"
             ],
             [
              0.4444444444444444,
              "#bd3786"
             ],
             [
              0.5555555555555556,
              "#d8576b"
             ],
             [
              0.6666666666666666,
              "#ed7953"
             ],
             [
              0.7777777777777778,
              "#fb9f3a"
             ],
             [
              0.8888888888888888,
              "#fdca26"
             ],
             [
              1,
              "#f0f921"
             ]
            ],
            "type": "heatmapgl"
           }
          ],
          "histogram": [
           {
            "marker": {
             "pattern": {
              "fillmode": "overlay",
              "size": 10,
              "solidity": 0.2
             }
            },
            "type": "histogram"
           }
          ],
          "histogram2d": [
           {
            "colorbar": {
             "outlinewidth": 0,
             "ticks": ""
            },
            "colorscale": [
             [
              0,
              "#0d0887"
             ],
             [
              0.1111111111111111,
              "#46039f"
             ],
             [
              0.2222222222222222,
              "#7201a8"
             ],
             [
              0.3333333333333333,
              "#9c179e"
             ],
             [
              0.4444444444444444,
              "#bd3786"
             ],
             [
              0.5555555555555556,
              "#d8576b"
             ],
             [
              0.6666666666666666,
              "#ed7953"
             ],
             [
              0.7777777777777778,
              "#fb9f3a"
             ],
             [
              0.8888888888888888,
              "#fdca26"
             ],
             [
              1,
              "#f0f921"
             ]
            ],
            "type": "histogram2d"
           }
          ],
          "histogram2dcontour": [
           {
            "colorbar": {
             "outlinewidth": 0,
             "ticks": ""
            },
            "colorscale": [
             [
              0,
              "#0d0887"
             ],
             [
              0.1111111111111111,
              "#46039f"
             ],
             [
              0.2222222222222222,
              "#7201a8"
             ],
             [
              0.3333333333333333,
              "#9c179e"
             ],
             [
              0.4444444444444444,
              "#bd3786"
             ],
             [
              0.5555555555555556,
              "#d8576b"
             ],
             [
              0.6666666666666666,
              "#ed7953"
             ],
             [
              0.7777777777777778,
              "#fb9f3a"
             ],
             [
              0.8888888888888888,
              "#fdca26"
             ],
             [
              1,
              "#f0f921"
             ]
            ],
            "type": "histogram2dcontour"
           }
          ],
          "mesh3d": [
           {
            "colorbar": {
             "outlinewidth": 0,
             "ticks": ""
            },
            "type": "mesh3d"
           }
          ],
          "parcoords": [
           {
            "line": {
             "colorbar": {
              "outlinewidth": 0,
              "ticks": ""
             }
            },
            "type": "parcoords"
           }
          ],
          "pie": [
           {
            "automargin": true,
            "type": "pie"
           }
          ],
          "scatter": [
           {
            "marker": {
             "colorbar": {
              "outlinewidth": 0,
              "ticks": ""
             }
            },
            "type": "scatter"
           }
          ],
          "scatter3d": [
           {
            "line": {
             "colorbar": {
              "outlinewidth": 0,
              "ticks": ""
             }
            },
            "marker": {
             "colorbar": {
              "outlinewidth": 0,
              "ticks": ""
             }
            },
            "type": "scatter3d"
           }
          ],
          "scattercarpet": [
           {
            "marker": {
             "colorbar": {
              "outlinewidth": 0,
              "ticks": ""
             }
            },
            "type": "scattercarpet"
           }
          ],
          "scattergeo": [
           {
            "marker": {
             "colorbar": {
              "outlinewidth": 0,
              "ticks": ""
             }
            },
            "type": "scattergeo"
           }
          ],
          "scattergl": [
           {
            "marker": {
             "colorbar": {
              "outlinewidth": 0,
              "ticks": ""
             }
            },
            "type": "scattergl"
           }
          ],
          "scattermapbox": [
           {
            "marker": {
             "colorbar": {
              "outlinewidth": 0,
              "ticks": ""
             }
            },
            "type": "scattermapbox"
           }
          ],
          "scatterpolar": [
           {
            "marker": {
             "colorbar": {
              "outlinewidth": 0,
              "ticks": ""
             }
            },
            "type": "scatterpolar"
           }
          ],
          "scatterpolargl": [
           {
            "marker": {
             "colorbar": {
              "outlinewidth": 0,
              "ticks": ""
             }
            },
            "type": "scatterpolargl"
           }
          ],
          "scatterternary": [
           {
            "marker": {
             "colorbar": {
              "outlinewidth": 0,
              "ticks": ""
             }
            },
            "type": "scatterternary"
           }
          ],
          "surface": [
           {
            "colorbar": {
             "outlinewidth": 0,
             "ticks": ""
            },
            "colorscale": [
             [
              0,
              "#0d0887"
             ],
             [
              0.1111111111111111,
              "#46039f"
             ],
             [
              0.2222222222222222,
              "#7201a8"
             ],
             [
              0.3333333333333333,
              "#9c179e"
             ],
             [
              0.4444444444444444,
              "#bd3786"
             ],
             [
              0.5555555555555556,
              "#d8576b"
             ],
             [
              0.6666666666666666,
              "#ed7953"
             ],
             [
              0.7777777777777778,
              "#fb9f3a"
             ],
             [
              0.8888888888888888,
              "#fdca26"
             ],
             [
              1,
              "#f0f921"
             ]
            ],
            "type": "surface"
           }
          ],
          "table": [
           {
            "cells": {
             "fill": {
              "color": "#EBF0F8"
             },
             "line": {
              "color": "white"
             }
            },
            "header": {
             "fill": {
              "color": "#C8D4E3"
             },
             "line": {
              "color": "white"
             }
            },
            "type": "table"
           }
          ]
         },
         "layout": {
          "annotationdefaults": {
           "arrowcolor": "#2a3f5f",
           "arrowhead": 0,
           "arrowwidth": 1
          },
          "autotypenumbers": "strict",
          "coloraxis": {
           "colorbar": {
            "outlinewidth": 0,
            "ticks": ""
           }
          },
          "colorscale": {
           "diverging": [
            [
             0,
             "#8e0152"
            ],
            [
             0.1,
             "#c51b7d"
            ],
            [
             0.2,
             "#de77ae"
            ],
            [
             0.3,
             "#f1b6da"
            ],
            [
             0.4,
             "#fde0ef"
            ],
            [
             0.5,
             "#f7f7f7"
            ],
            [
             0.6,
             "#e6f5d0"
            ],
            [
             0.7,
             "#b8e186"
            ],
            [
             0.8,
             "#7fbc41"
            ],
            [
             0.9,
             "#4d9221"
            ],
            [
             1,
             "#276419"
            ]
           ],
           "sequential": [
            [
             0,
             "#0d0887"
            ],
            [
             0.1111111111111111,
             "#46039f"
            ],
            [
             0.2222222222222222,
             "#7201a8"
            ],
            [
             0.3333333333333333,
             "#9c179e"
            ],
            [
             0.4444444444444444,
             "#bd3786"
            ],
            [
             0.5555555555555556,
             "#d8576b"
            ],
            [
             0.6666666666666666,
             "#ed7953"
            ],
            [
             0.7777777777777778,
             "#fb9f3a"
            ],
            [
             0.8888888888888888,
             "#fdca26"
            ],
            [
             1,
             "#f0f921"
            ]
           ],
           "sequentialminus": [
            [
             0,
             "#0d0887"
            ],
            [
             0.1111111111111111,
             "#46039f"
            ],
            [
             0.2222222222222222,
             "#7201a8"
            ],
            [
             0.3333333333333333,
             "#9c179e"
            ],
            [
             0.4444444444444444,
             "#bd3786"
            ],
            [
             0.5555555555555556,
             "#d8576b"
            ],
            [
             0.6666666666666666,
             "#ed7953"
            ],
            [
             0.7777777777777778,
             "#fb9f3a"
            ],
            [
             0.8888888888888888,
             "#fdca26"
            ],
            [
             1,
             "#f0f921"
            ]
           ]
          },
          "colorway": [
           "#636efa",
           "#EF553B",
           "#00cc96",
           "#ab63fa",
           "#FFA15A",
           "#19d3f3",
           "#FF6692",
           "#B6E880",
           "#FF97FF",
           "#FECB52"
          ],
          "font": {
           "color": "#2a3f5f"
          },
          "geo": {
           "bgcolor": "white",
           "lakecolor": "white",
           "landcolor": "#E5ECF6",
           "showlakes": true,
           "showland": true,
           "subunitcolor": "white"
          },
          "hoverlabel": {
           "align": "left"
          },
          "hovermode": "closest",
          "mapbox": {
           "style": "light"
          },
          "paper_bgcolor": "white",
          "plot_bgcolor": "#E5ECF6",
          "polar": {
           "angularaxis": {
            "gridcolor": "white",
            "linecolor": "white",
            "ticks": ""
           },
           "bgcolor": "#E5ECF6",
           "radialaxis": {
            "gridcolor": "white",
            "linecolor": "white",
            "ticks": ""
           }
          },
          "scene": {
           "xaxis": {
            "backgroundcolor": "#E5ECF6",
            "gridcolor": "white",
            "gridwidth": 2,
            "linecolor": "white",
            "showbackground": true,
            "ticks": "",
            "zerolinecolor": "white"
           },
           "yaxis": {
            "backgroundcolor": "#E5ECF6",
            "gridcolor": "white",
            "gridwidth": 2,
            "linecolor": "white",
            "showbackground": true,
            "ticks": "",
            "zerolinecolor": "white"
           },
           "zaxis": {
            "backgroundcolor": "#E5ECF6",
            "gridcolor": "white",
            "gridwidth": 2,
            "linecolor": "white",
            "showbackground": true,
            "ticks": "",
            "zerolinecolor": "white"
           }
          },
          "shapedefaults": {
           "line": {
            "color": "#2a3f5f"
           }
          },
          "ternary": {
           "aaxis": {
            "gridcolor": "white",
            "linecolor": "white",
            "ticks": ""
           },
           "baxis": {
            "gridcolor": "white",
            "linecolor": "white",
            "ticks": ""
           },
           "bgcolor": "#E5ECF6",
           "caxis": {
            "gridcolor": "white",
            "linecolor": "white",
            "ticks": ""
           }
          },
          "title": {
           "x": 0.05
          },
          "xaxis": {
           "automargin": true,
           "gridcolor": "white",
           "linecolor": "white",
           "ticks": "",
           "title": {
            "standoff": 15
           },
           "zerolinecolor": "white",
           "zerolinewidth": 2
          },
          "yaxis": {
           "automargin": true,
           "gridcolor": "white",
           "linecolor": "white",
           "ticks": "",
           "title": {
            "standoff": 15
           },
           "zerolinecolor": "white",
           "zerolinewidth": 2
          }
         }
        },
        "xaxis": {
         "anchor": "y",
         "domain": [
          0,
          1
         ],
         "title": {
          "text": "FECHA_ORDEN"
         }
        },
        "yaxis": {
         "anchor": "x",
         "domain": [
          0,
          1
         ],
         "title": {
          "text": "TOTAL_SIN_IVA"
         }
        }
       }
      },
      "text/html": [
       "<div>                            <div id=\"3a515b5d-27c6-4208-a5ca-3a67ade6888e\" class=\"plotly-graph-div\" style=\"height:525px; width:100%;\"></div>            <script type=\"text/javascript\">                require([\"plotly\"], function(Plotly) {                    window.PLOTLYENV=window.PLOTLYENV || {};                                    if (document.getElementById(\"3a515b5d-27c6-4208-a5ca-3a67ade6888e\")) {                    Plotly.newPlot(                        \"3a515b5d-27c6-4208-a5ca-3a67ade6888e\",                        [{\"alignmentgroup\":\"True\",\"hovertemplate\":\"FECHA_ORDEN=%{x}<br>TOTAL_SIN_IVA=%{y}<extra></extra>\",\"legendgroup\":\"\",\"marker\":{\"color\":\"#636efa\",\"pattern\":{\"shape\":\"\"}},\"name\":\"\",\"offsetgroup\":\"\",\"orientation\":\"v\",\"showlegend\":false,\"textposition\":\"auto\",\"type\":\"bar\",\"x\":[\"2018-04-30T00:00:00\",\"2018-05-31T00:00:00\",\"2018-06-30T00:00:00\",\"2018-07-31T00:00:00\",\"2018-08-31T00:00:00\",\"2018-09-30T00:00:00\",\"2018-10-31T00:00:00\",\"2018-11-30T00:00:00\",\"2018-12-31T00:00:00\",\"2019-01-31T00:00:00\",\"2019-02-28T00:00:00\",\"2019-03-31T00:00:00\",\"2019-04-30T00:00:00\",\"2019-05-31T00:00:00\",\"2019-06-30T00:00:00\",\"2019-07-31T00:00:00\",\"2019-08-31T00:00:00\",\"2019-09-30T00:00:00\",\"2019-10-31T00:00:00\",\"2019-11-30T00:00:00\",\"2019-12-31T00:00:00\",\"2020-01-31T00:00:00\",\"2020-02-29T00:00:00\",\"2020-03-31T00:00:00\",\"2020-04-30T00:00:00\",\"2020-05-31T00:00:00\",\"2020-06-30T00:00:00\",\"2020-07-31T00:00:00\",\"2020-08-31T00:00:00\",\"2020-09-30T00:00:00\",\"2020-10-31T00:00:00\",\"2020-11-30T00:00:00\",\"2020-12-31T00:00:00\",\"2021-01-31T00:00:00\",\"2021-02-28T00:00:00\",\"2021-03-31T00:00:00\",\"2021-04-30T00:00:00\",\"2021-05-31T00:00:00\",\"2021-06-30T00:00:00\",\"2021-07-31T00:00:00\",\"2021-08-31T00:00:00\",\"2021-09-30T00:00:00\",\"2021-10-31T00:00:00\",\"2021-11-30T00:00:00\"],\"xaxis\":\"x\",\"y\":[643529.0,86983344.0,101410232.0,106887144.0,85446688.0,80714904.0,105108312.0,55557620.0,37351064.0,32644728.0,3700.0,22549192.0,127051.0,0.0,3723850.0,3978824.0,0.0,1342177.0,1278445.0,1132102144.0,1589518592.0,684580992.0,1294864768.0,51060612.0,9722532.0,4059773.0,22541076.0,10381840.0,49651596.0,83557264.0,114524352.0,186020768.0,244092528.0,243477568.0,274992672.0,149910976.0,539532736.0,381226336.0,1023699712.0,424662592.0,363059520.0,503067456.0,431217408.0,156223120.0],\"yaxis\":\"y\"}],                        {\"barmode\":\"relative\",\"legend\":{\"tracegroupgap\":0},\"margin\":{\"t\":60},\"template\":{\"data\":{\"bar\":[{\"error_x\":{\"color\":\"#2a3f5f\"},\"error_y\":{\"color\":\"#2a3f5f\"},\"marker\":{\"line\":{\"color\":\"#E5ECF6\",\"width\":0.5},\"pattern\":{\"fillmode\":\"overlay\",\"size\":10,\"solidity\":0.2}},\"type\":\"bar\"}],\"barpolar\":[{\"marker\":{\"line\":{\"color\":\"#E5ECF6\",\"width\":0.5},\"pattern\":{\"fillmode\":\"overlay\",\"size\":10,\"solidity\":0.2}},\"type\":\"barpolar\"}],\"carpet\":[{\"aaxis\":{\"endlinecolor\":\"#2a3f5f\",\"gridcolor\":\"white\",\"linecolor\":\"white\",\"minorgridcolor\":\"white\",\"startlinecolor\":\"#2a3f5f\"},\"baxis\":{\"endlinecolor\":\"#2a3f5f\",\"gridcolor\":\"white\",\"linecolor\":\"white\",\"minorgridcolor\":\"white\",\"startlinecolor\":\"#2a3f5f\"},\"type\":\"carpet\"}],\"choropleth\":[{\"colorbar\":{\"outlinewidth\":0,\"ticks\":\"\"},\"type\":\"choropleth\"}],\"contour\":[{\"colorbar\":{\"outlinewidth\":0,\"ticks\":\"\"},\"colorscale\":[[0.0,\"#0d0887\"],[0.1111111111111111,\"#46039f\"],[0.2222222222222222,\"#7201a8\"],[0.3333333333333333,\"#9c179e\"],[0.4444444444444444,\"#bd3786\"],[0.5555555555555556,\"#d8576b\"],[0.6666666666666666,\"#ed7953\"],[0.7777777777777778,\"#fb9f3a\"],[0.8888888888888888,\"#fdca26\"],[1.0,\"#f0f921\"]],\"type\":\"contour\"}],\"contourcarpet\":[{\"colorbar\":{\"outlinewidth\":0,\"ticks\":\"\"},\"type\":\"contourcarpet\"}],\"heatmap\":[{\"colorbar\":{\"outlinewidth\":0,\"ticks\":\"\"},\"colorscale\":[[0.0,\"#0d0887\"],[0.1111111111111111,\"#46039f\"],[0.2222222222222222,\"#7201a8\"],[0.3333333333333333,\"#9c179e\"],[0.4444444444444444,\"#bd3786\"],[0.5555555555555556,\"#d8576b\"],[0.6666666666666666,\"#ed7953\"],[0.7777777777777778,\"#fb9f3a\"],[0.8888888888888888,\"#fdca26\"],[1.0,\"#f0f921\"]],\"type\":\"heatmap\"}],\"heatmapgl\":[{\"colorbar\":{\"outlinewidth\":0,\"ticks\":\"\"},\"colorscale\":[[0.0,\"#0d0887\"],[0.1111111111111111,\"#46039f\"],[0.2222222222222222,\"#7201a8\"],[0.3333333333333333,\"#9c179e\"],[0.4444444444444444,\"#bd3786\"],[0.5555555555555556,\"#d8576b\"],[0.6666666666666666,\"#ed7953\"],[0.7777777777777778,\"#fb9f3a\"],[0.8888888888888888,\"#fdca26\"],[1.0,\"#f0f921\"]],\"type\":\"heatmapgl\"}],\"histogram\":[{\"marker\":{\"pattern\":{\"fillmode\":\"overlay\",\"size\":10,\"solidity\":0.2}},\"type\":\"histogram\"}],\"histogram2d\":[{\"colorbar\":{\"outlinewidth\":0,\"ticks\":\"\"},\"colorscale\":[[0.0,\"#0d0887\"],[0.1111111111111111,\"#46039f\"],[0.2222222222222222,\"#7201a8\"],[0.3333333333333333,\"#9c179e\"],[0.4444444444444444,\"#bd3786\"],[0.5555555555555556,\"#d8576b\"],[0.6666666666666666,\"#ed7953\"],[0.7777777777777778,\"#fb9f3a\"],[0.8888888888888888,\"#fdca26\"],[1.0,\"#f0f921\"]],\"type\":\"histogram2d\"}],\"histogram2dcontour\":[{\"colorbar\":{\"outlinewidth\":0,\"ticks\":\"\"},\"colorscale\":[[0.0,\"#0d0887\"],[0.1111111111111111,\"#46039f\"],[0.2222222222222222,\"#7201a8\"],[0.3333333333333333,\"#9c179e\"],[0.4444444444444444,\"#bd3786\"],[0.5555555555555556,\"#d8576b\"],[0.6666666666666666,\"#ed7953\"],[0.7777777777777778,\"#fb9f3a\"],[0.8888888888888888,\"#fdca26\"],[1.0,\"#f0f921\"]],\"type\":\"histogram2dcontour\"}],\"mesh3d\":[{\"colorbar\":{\"outlinewidth\":0,\"ticks\":\"\"},\"type\":\"mesh3d\"}],\"parcoords\":[{\"line\":{\"colorbar\":{\"outlinewidth\":0,\"ticks\":\"\"}},\"type\":\"parcoords\"}],\"pie\":[{\"automargin\":true,\"type\":\"pie\"}],\"scatter\":[{\"marker\":{\"colorbar\":{\"outlinewidth\":0,\"ticks\":\"\"}},\"type\":\"scatter\"}],\"scatter3d\":[{\"line\":{\"colorbar\":{\"outlinewidth\":0,\"ticks\":\"\"}},\"marker\":{\"colorbar\":{\"outlinewidth\":0,\"ticks\":\"\"}},\"type\":\"scatter3d\"}],\"scattercarpet\":[{\"marker\":{\"colorbar\":{\"outlinewidth\":0,\"ticks\":\"\"}},\"type\":\"scattercarpet\"}],\"scattergeo\":[{\"marker\":{\"colorbar\":{\"outlinewidth\":0,\"ticks\":\"\"}},\"type\":\"scattergeo\"}],\"scattergl\":[{\"marker\":{\"colorbar\":{\"outlinewidth\":0,\"ticks\":\"\"}},\"type\":\"scattergl\"}],\"scattermapbox\":[{\"marker\":{\"colorbar\":{\"outlinewidth\":0,\"ticks\":\"\"}},\"type\":\"scattermapbox\"}],\"scatterpolar\":[{\"marker\":{\"colorbar\":{\"outlinewidth\":0,\"ticks\":\"\"}},\"type\":\"scatterpolar\"}],\"scatterpolargl\":[{\"marker\":{\"colorbar\":{\"outlinewidth\":0,\"ticks\":\"\"}},\"type\":\"scatterpolargl\"}],\"scatterternary\":[{\"marker\":{\"colorbar\":{\"outlinewidth\":0,\"ticks\":\"\"}},\"type\":\"scatterternary\"}],\"surface\":[{\"colorbar\":{\"outlinewidth\":0,\"ticks\":\"\"},\"colorscale\":[[0.0,\"#0d0887\"],[0.1111111111111111,\"#46039f\"],[0.2222222222222222,\"#7201a8\"],[0.3333333333333333,\"#9c179e\"],[0.4444444444444444,\"#bd3786\"],[0.5555555555555556,\"#d8576b\"],[0.6666666666666666,\"#ed7953\"],[0.7777777777777778,\"#fb9f3a\"],[0.8888888888888888,\"#fdca26\"],[1.0,\"#f0f921\"]],\"type\":\"surface\"}],\"table\":[{\"cells\":{\"fill\":{\"color\":\"#EBF0F8\"},\"line\":{\"color\":\"white\"}},\"header\":{\"fill\":{\"color\":\"#C8D4E3\"},\"line\":{\"color\":\"white\"}},\"type\":\"table\"}]},\"layout\":{\"annotationdefaults\":{\"arrowcolor\":\"#2a3f5f\",\"arrowhead\":0,\"arrowwidth\":1},\"autotypenumbers\":\"strict\",\"coloraxis\":{\"colorbar\":{\"outlinewidth\":0,\"ticks\":\"\"}},\"colorscale\":{\"diverging\":[[0,\"#8e0152\"],[0.1,\"#c51b7d\"],[0.2,\"#de77ae\"],[0.3,\"#f1b6da\"],[0.4,\"#fde0ef\"],[0.5,\"#f7f7f7\"],[0.6,\"#e6f5d0\"],[0.7,\"#b8e186\"],[0.8,\"#7fbc41\"],[0.9,\"#4d9221\"],[1,\"#276419\"]],\"sequential\":[[0.0,\"#0d0887\"],[0.1111111111111111,\"#46039f\"],[0.2222222222222222,\"#7201a8\"],[0.3333333333333333,\"#9c179e\"],[0.4444444444444444,\"#bd3786\"],[0.5555555555555556,\"#d8576b\"],[0.6666666666666666,\"#ed7953\"],[0.7777777777777778,\"#fb9f3a\"],[0.8888888888888888,\"#fdca26\"],[1.0,\"#f0f921\"]],\"sequentialminus\":[[0.0,\"#0d0887\"],[0.1111111111111111,\"#46039f\"],[0.2222222222222222,\"#7201a8\"],[0.3333333333333333,\"#9c179e\"],[0.4444444444444444,\"#bd3786\"],[0.5555555555555556,\"#d8576b\"],[0.6666666666666666,\"#ed7953\"],[0.7777777777777778,\"#fb9f3a\"],[0.8888888888888888,\"#fdca26\"],[1.0,\"#f0f921\"]]},\"colorway\":[\"#636efa\",\"#EF553B\",\"#00cc96\",\"#ab63fa\",\"#FFA15A\",\"#19d3f3\",\"#FF6692\",\"#B6E880\",\"#FF97FF\",\"#FECB52\"],\"font\":{\"color\":\"#2a3f5f\"},\"geo\":{\"bgcolor\":\"white\",\"lakecolor\":\"white\",\"landcolor\":\"#E5ECF6\",\"showlakes\":true,\"showland\":true,\"subunitcolor\":\"white\"},\"hoverlabel\":{\"align\":\"left\"},\"hovermode\":\"closest\",\"mapbox\":{\"style\":\"light\"},\"paper_bgcolor\":\"white\",\"plot_bgcolor\":\"#E5ECF6\",\"polar\":{\"angularaxis\":{\"gridcolor\":\"white\",\"linecolor\":\"white\",\"ticks\":\"\"},\"bgcolor\":\"#E5ECF6\",\"radialaxis\":{\"gridcolor\":\"white\",\"linecolor\":\"white\",\"ticks\":\"\"}},\"scene\":{\"xaxis\":{\"backgroundcolor\":\"#E5ECF6\",\"gridcolor\":\"white\",\"gridwidth\":2,\"linecolor\":\"white\",\"showbackground\":true,\"ticks\":\"\",\"zerolinecolor\":\"white\"},\"yaxis\":{\"backgroundcolor\":\"#E5ECF6\",\"gridcolor\":\"white\",\"gridwidth\":2,\"linecolor\":\"white\",\"showbackground\":true,\"ticks\":\"\",\"zerolinecolor\":\"white\"},\"zaxis\":{\"backgroundcolor\":\"#E5ECF6\",\"gridcolor\":\"white\",\"gridwidth\":2,\"linecolor\":\"white\",\"showbackground\":true,\"ticks\":\"\",\"zerolinecolor\":\"white\"}},\"shapedefaults\":{\"line\":{\"color\":\"#2a3f5f\"}},\"ternary\":{\"aaxis\":{\"gridcolor\":\"white\",\"linecolor\":\"white\",\"ticks\":\"\"},\"baxis\":{\"gridcolor\":\"white\",\"linecolor\":\"white\",\"ticks\":\"\"},\"bgcolor\":\"#E5ECF6\",\"caxis\":{\"gridcolor\":\"white\",\"linecolor\":\"white\",\"ticks\":\"\"}},\"title\":{\"x\":0.05},\"xaxis\":{\"automargin\":true,\"gridcolor\":\"white\",\"linecolor\":\"white\",\"ticks\":\"\",\"title\":{\"standoff\":15},\"zerolinecolor\":\"white\",\"zerolinewidth\":2},\"yaxis\":{\"automargin\":true,\"gridcolor\":\"white\",\"linecolor\":\"white\",\"ticks\":\"\",\"title\":{\"standoff\":15},\"zerolinecolor\":\"white\",\"zerolinewidth\":2}}},\"xaxis\":{\"anchor\":\"y\",\"domain\":[0.0,1.0],\"title\":{\"text\":\"FECHA_ORDEN\"}},\"yaxis\":{\"anchor\":\"x\",\"domain\":[0.0,1.0],\"title\":{\"text\":\"TOTAL_SIN_IVA\"}}},                        {\"responsive\": true}                    ).then(function(){\n",
       "                            \n",
       "var gd = document.getElementById('3a515b5d-27c6-4208-a5ca-3a67ade6888e');\n",
       "var x = new MutationObserver(function (mutations, observer) {{\n",
       "        var display = window.getComputedStyle(gd).display;\n",
       "        if (!display || display === 'none') {{\n",
       "            console.log([gd, 'removed!']);\n",
       "            Plotly.purge(gd);\n",
       "            observer.disconnect();\n",
       "        }}\n",
       "}});\n",
       "\n",
       "// Listen for the removal of the full notebook cells\n",
       "var notebookContainer = gd.closest('#notebook-container');\n",
       "if (notebookContainer) {{\n",
       "    x.observe(notebookContainer, {childList: true});\n",
       "}}\n",
       "\n",
       "// Listen for the clearing of the current output cell\n",
       "var outputEl = gd.closest('.output');\n",
       "if (outputEl) {{\n",
       "    x.observe(outputEl, {childList: true});\n",
       "}}\n",
       "\n",
       "                        })                };                });            </script>        </div>"
      ]
     },
     "metadata": {},
     "output_type": "display_data"
    }
   ],
   "source": [
    "px.bar(df_M, y='TOTAL_SIN_IVA')"
   ]
  },
  {
   "cell_type": "markdown",
   "metadata": {},
   "source": [
    "## Categoría"
   ]
  },
  {
   "cell_type": "code",
   "execution_count": 114,
   "metadata": {},
   "outputs": [
    {
     "data": {
      "text/html": [
       "<div>\n",
       "<style scoped>\n",
       "    .dataframe tbody tr th:only-of-type {\n",
       "        vertical-align: middle;\n",
       "    }\n",
       "\n",
       "    .dataframe tbody tr th {\n",
       "        vertical-align: top;\n",
       "    }\n",
       "\n",
       "    .dataframe thead th {\n",
       "        text-align: right;\n",
       "    }\n",
       "</style>\n",
       "<table border=\"1\" class=\"dataframe\">\n",
       "  <thead>\n",
       "    <tr style=\"text-align: right;\">\n",
       "      <th></th>\n",
       "      <th>CANTIDAD_PEDIDA</th>\n",
       "      <th>CANTIDAD_RECIBIDA</th>\n",
       "      <th>PRECIO_UNITARIO</th>\n",
       "      <th>IVA</th>\n",
       "      <th>TOTAL_SIN_IVA</th>\n",
       "    </tr>\n",
       "    <tr>\n",
       "      <th>CATEGORÍA</th>\n",
       "      <th></th>\n",
       "      <th></th>\n",
       "      <th></th>\n",
       "      <th></th>\n",
       "      <th></th>\n",
       "    </tr>\n",
       "  </thead>\n",
       "  <tbody>\n",
       "    <tr>\n",
       "      <th>Vigilancia y seguridad industrial</th>\n",
       "      <td>234,476.00</td>\n",
       "      <td>233,765.00</td>\n",
       "      <td>233,409,776.00</td>\n",
       "      <td>44,227,524.00</td>\n",
       "      <td>4,339,572,224.00</td>\n",
       "    </tr>\n",
       "    <tr>\n",
       "      <th>Alimentos y Bebidas</th>\n",
       "      <td>2,763,255.73</td>\n",
       "      <td>85,211.76</td>\n",
       "      <td>106,555,080.00</td>\n",
       "      <td>13,873,146.00</td>\n",
       "      <td>1,928,684,544.00</td>\n",
       "    </tr>\n",
       "    <tr>\n",
       "      <th>Construcción y Mantenimiento</th>\n",
       "      <td>2,502.00</td>\n",
       "      <td>2,161.00</td>\n",
       "      <td>303,148,960.00</td>\n",
       "      <td>40,068,148.00</td>\n",
       "      <td>882,860,608.00</td>\n",
       "    </tr>\n",
       "    <tr>\n",
       "      <th>Dotación y elementos de protección personal</th>\n",
       "      <td>27,001.00</td>\n",
       "      <td>14,403.00</td>\n",
       "      <td>46,851,856.00</td>\n",
       "      <td>8,302,189.00</td>\n",
       "      <td>715,481,920.00</td>\n",
       "    </tr>\n",
       "    <tr>\n",
       "      <th>Servicios Profesionales</th>\n",
       "      <td>298.50</td>\n",
       "      <td>222.50</td>\n",
       "      <td>396,780,192.00</td>\n",
       "      <td>74,664,856.00</td>\n",
       "      <td>602,906,112.00</td>\n",
       "    </tr>\n",
       "    <tr>\n",
       "      <th>Químicos y derivados</th>\n",
       "      <td>44,667.70</td>\n",
       "      <td>41,351.00</td>\n",
       "      <td>23,887,690.00</td>\n",
       "      <td>1,314,261.00</td>\n",
       "      <td>383,131,712.00</td>\n",
       "    </tr>\n",
       "    <tr>\n",
       "      <th>Almacenamiento y empaques</th>\n",
       "      <td>322,955.70</td>\n",
       "      <td>200,696.80</td>\n",
       "      <td>8,105,723.00</td>\n",
       "      <td>1,482,934.00</td>\n",
       "      <td>362,158,528.00</td>\n",
       "    </tr>\n",
       "    <tr>\n",
       "      <th>Vehículos y repuestos</th>\n",
       "      <td>17,334.00</td>\n",
       "      <td>13,482.00</td>\n",
       "      <td>51,944,152.00</td>\n",
       "      <td>9,400,447.00</td>\n",
       "      <td>209,335,776.00</td>\n",
       "    </tr>\n",
       "    <tr>\n",
       "      <th>Mercadeo y publicidad</th>\n",
       "      <td>100,534.00</td>\n",
       "      <td>71,441.00</td>\n",
       "      <td>62,464,332.00</td>\n",
       "      <td>9,526,379.00</td>\n",
       "      <td>195,689,648.00</td>\n",
       "    </tr>\n",
       "    <tr>\n",
       "      <th>Ingeniería e Investigación</th>\n",
       "      <td>206,195.00</td>\n",
       "      <td>206,046.00</td>\n",
       "      <td>31,338,396.00</td>\n",
       "      <td>5,121,873.00</td>\n",
       "      <td>165,708,032.00</td>\n",
       "    </tr>\n",
       "    <tr>\n",
       "      <th>Aseo, Cafetería y Oficina</th>\n",
       "      <td>437,284.00</td>\n",
       "      <td>38,426.00</td>\n",
       "      <td>56,836,564.00</td>\n",
       "      <td>6,928,135.00</td>\n",
       "      <td>153,989,376.00</td>\n",
       "    </tr>\n",
       "    <tr>\n",
       "      <th>Tecnología e información</th>\n",
       "      <td>1,567.00</td>\n",
       "      <td>1,410.00</td>\n",
       "      <td>59,454,888.00</td>\n",
       "      <td>7,731,789.00</td>\n",
       "      <td>135,508,496.00</td>\n",
       "    </tr>\n",
       "    <tr>\n",
       "      <th>Vigilancia y seguridad</th>\n",
       "      <td>149.00</td>\n",
       "      <td>4.00</td>\n",
       "      <td>25,210,116.00</td>\n",
       "      <td>558,824.00</td>\n",
       "      <td>133,923,232.00</td>\n",
       "    </tr>\n",
       "    <tr>\n",
       "      <th>Ferreteria</th>\n",
       "      <td>20,672.00</td>\n",
       "      <td>18,729.00</td>\n",
       "      <td>78,040,200.00</td>\n",
       "      <td>14,745,771.00</td>\n",
       "      <td>108,569,920.00</td>\n",
       "    </tr>\n",
       "    <tr>\n",
       "      <th>Logística y transporte</th>\n",
       "      <td>353.00</td>\n",
       "      <td>309.00</td>\n",
       "      <td>73,756,464.00</td>\n",
       "      <td>1,507,647.00</td>\n",
       "      <td>82,825,104.00</td>\n",
       "    </tr>\n",
       "    <tr>\n",
       "      <th>Gestión inmobiliaria</th>\n",
       "      <td>11.00</td>\n",
       "      <td>3.00</td>\n",
       "      <td>8,164,453.00</td>\n",
       "      <td>1,551,246.00</td>\n",
       "      <td>54,662,096.00</td>\n",
       "    </tr>\n",
       "    <tr>\n",
       "      <th>Imprenta y litografía</th>\n",
       "      <td>104,419.00</td>\n",
       "      <td>88,546.00</td>\n",
       "      <td>5,961,338.00</td>\n",
       "      <td>1,103,011.00</td>\n",
       "      <td>36,668,192.00</td>\n",
       "    </tr>\n",
       "    <tr>\n",
       "      <th>Manufactura</th>\n",
       "      <td>15,020.00</td>\n",
       "      <td>759.00</td>\n",
       "      <td>13,283,086.00</td>\n",
       "      <td>2,518,559.00</td>\n",
       "      <td>36,657,428.00</td>\n",
       "    </tr>\n",
       "    <tr>\n",
       "      <th>Eléctricos y Electrónicos</th>\n",
       "      <td>11,760.00</td>\n",
       "      <td>1,321.00</td>\n",
       "      <td>9,905,301.00</td>\n",
       "      <td>1,882,010.00</td>\n",
       "      <td>28,938,876.00</td>\n",
       "    </tr>\n",
       "    <tr>\n",
       "      <th>Moda y accesorios</th>\n",
       "      <td>1,050.00</td>\n",
       "      <td>102.00</td>\n",
       "      <td>5,438,500.00</td>\n",
       "      <td>1,033,303.00</td>\n",
       "      <td>26,076,944.00</td>\n",
       "    </tr>\n",
       "    <tr>\n",
       "      <th>Mobiliario y decoración</th>\n",
       "      <td>927.00</td>\n",
       "      <td>524.00</td>\n",
       "      <td>8,577,779.00</td>\n",
       "      <td>1,629,748.00</td>\n",
       "      <td>19,926,016.00</td>\n",
       "    </tr>\n",
       "    <tr>\n",
       "      <th>Medicina y Salud</th>\n",
       "      <td>30.00</td>\n",
       "      <td>13.00</td>\n",
       "      <td>17,855,100.00</td>\n",
       "      <td>3,377,120.00</td>\n",
       "      <td>17,878,528.00</td>\n",
       "    </tr>\n",
       "    <tr>\n",
       "      <th>Viajes, Eventos y Entretenimiento</th>\n",
       "      <td>58.00</td>\n",
       "      <td>57.00</td>\n",
       "      <td>6,181,605.00</td>\n",
       "      <td>829,100.00</td>\n",
       "      <td>13,508,605.00</td>\n",
       "    </tr>\n",
       "    <tr>\n",
       "      <th>Hogar y electrodomésticos</th>\n",
       "      <td>276.00</td>\n",
       "      <td>255.00</td>\n",
       "      <td>10,204,475.00</td>\n",
       "      <td>1,938,853.00</td>\n",
       "      <td>12,514,375.00</td>\n",
       "    </tr>\n",
       "    <tr>\n",
       "      <th>Textiles</th>\n",
       "      <td>3,570.00</td>\n",
       "      <td>3,414.00</td>\n",
       "      <td>687,197.00</td>\n",
       "      <td>35,510.00</td>\n",
       "      <td>10,535,113.00</td>\n",
       "    </tr>\n",
       "    <tr>\n",
       "      <th>Gestión ambiental</th>\n",
       "      <td>2,912.00</td>\n",
       "      <td>1,769.00</td>\n",
       "      <td>5,002,645.00</td>\n",
       "      <td>943,177.00</td>\n",
       "      <td>9,553,775.00</td>\n",
       "    </tr>\n",
       "    <tr>\n",
       "      <th>Salud y Medicina</th>\n",
       "      <td>627.00</td>\n",
       "      <td>375.00</td>\n",
       "      <td>1,147,219.00</td>\n",
       "      <td>11,704.00</td>\n",
       "      <td>7,524,205.00</td>\n",
       "    </tr>\n",
       "    <tr>\n",
       "      <th>Compras Sostenibles</th>\n",
       "      <td>975.00</td>\n",
       "      <td>968.00</td>\n",
       "      <td>1,471,905.00</td>\n",
       "      <td>207,003.00</td>\n",
       "      <td>5,245,562.00</td>\n",
       "    </tr>\n",
       "    <tr>\n",
       "      <th>Cuidado personal y Belleza</th>\n",
       "      <td>66.00</td>\n",
       "      <td>66.00</td>\n",
       "      <td>418,342.00</td>\n",
       "      <td>76,894.00</td>\n",
       "      <td>4,682,445.00</td>\n",
       "    </tr>\n",
       "    <tr>\n",
       "      <th>Generación y distribución de Energía</th>\n",
       "      <td>5.00</td>\n",
       "      <td>1.00</td>\n",
       "      <td>4,606,302.00</td>\n",
       "      <td>875,197.00</td>\n",
       "      <td>4,606,302.00</td>\n",
       "    </tr>\n",
       "    <tr>\n",
       "      <th>Deporte y recreación</th>\n",
       "      <td>146.00</td>\n",
       "      <td>146.00</td>\n",
       "      <td>260,850.00</td>\n",
       "      <td>25,888.00</td>\n",
       "      <td>1,552,470.00</td>\n",
       "    </tr>\n",
       "    <tr>\n",
       "      <th>Minería</th>\n",
       "      <td>7.00</td>\n",
       "      <td>4.00</td>\n",
       "      <td>1,357,410.00</td>\n",
       "      <td>9,101.00</td>\n",
       "      <td>1,453,208.00</td>\n",
       "    </tr>\n",
       "    <tr>\n",
       "      <th>Educación y formación empresarial</th>\n",
       "      <td>2.00</td>\n",
       "      <td>2.00</td>\n",
       "      <td>198,000.00</td>\n",
       "      <td>0.00</td>\n",
       "      <td>396,000.00</td>\n",
       "    </tr>\n",
       "    <tr>\n",
       "      <th>Servicios Públicos</th>\n",
       "      <td>82,682.00</td>\n",
       "      <td>82,682.00</td>\n",
       "      <td>27.00</td>\n",
       "      <td>6.00</td>\n",
       "      <td>372,071.00</td>\n",
       "    </tr>\n",
       "    <tr>\n",
       "      <th>Agroindustrial</th>\n",
       "      <td>256.00</td>\n",
       "      <td>252.00</td>\n",
       "      <td>150,400.00</td>\n",
       "      <td>0.00</td>\n",
       "      <td>250,000.00</td>\n",
       "    </tr>\n",
       "    <tr>\n",
       "      <th>Producción audiovisual</th>\n",
       "      <td>4.00</td>\n",
       "      <td>4.00</td>\n",
       "      <td>38,000.00</td>\n",
       "      <td>0.00</td>\n",
       "      <td>152,000.00</td>\n",
       "    </tr>\n",
       "  </tbody>\n",
       "</table>\n",
       "</div>"
      ],
      "text/plain": [
       "                                                 CANTIDAD_PEDIDA  \\\n",
       "CATEGORÍA                                                          \n",
       "Vigilancia y seguridad industrial                     234,476.00   \n",
       "Alimentos y Bebidas                                 2,763,255.73   \n",
       "Construcción y Mantenimiento                            2,502.00   \n",
       "Dotación y elementos de protección personal            27,001.00   \n",
       "Servicios Profesionales                                   298.50   \n",
       "Químicos y derivados                                   44,667.70   \n",
       "Almacenamiento y empaques                             322,955.70   \n",
       "Vehículos y repuestos                                  17,334.00   \n",
       "Mercadeo y publicidad                                 100,534.00   \n",
       "Ingeniería e Investigación                            206,195.00   \n",
       "Aseo, Cafetería y Oficina                             437,284.00   \n",
       "Tecnología e información                                1,567.00   \n",
       "Vigilancia y seguridad                                    149.00   \n",
       "Ferreteria                                             20,672.00   \n",
       "Logística y transporte                                    353.00   \n",
       "Gestión inmobiliaria                                       11.00   \n",
       "Imprenta y litografía                                 104,419.00   \n",
       "Manufactura                                            15,020.00   \n",
       "Eléctricos y Electrónicos                              11,760.00   \n",
       "Moda y accesorios                                       1,050.00   \n",
       "Mobiliario y decoración                                   927.00   \n",
       "Medicina y Salud                                           30.00   \n",
       "Viajes, Eventos y Entretenimiento                          58.00   \n",
       "Hogar y electrodomésticos                                 276.00   \n",
       "Textiles                                                3,570.00   \n",
       "Gestión ambiental                                       2,912.00   \n",
       "Salud y Medicina                                          627.00   \n",
       "Compras Sostenibles                                       975.00   \n",
       "Cuidado personal y Belleza                                 66.00   \n",
       "Generación y distribución de Energía                        5.00   \n",
       "Deporte y recreación                                      146.00   \n",
       "Minería                                                     7.00   \n",
       "Educación y formación empresarial                           2.00   \n",
       "Servicios Públicos                                     82,682.00   \n",
       "Agroindustrial                                            256.00   \n",
       "Producción audiovisual                                      4.00   \n",
       "\n",
       "                                               CANTIDAD_RECIBIDA  \\\n",
       "CATEGORÍA                                                          \n",
       "Vigilancia y seguridad industrial                     233,765.00   \n",
       "Alimentos y Bebidas                                    85,211.76   \n",
       "Construcción y Mantenimiento                            2,161.00   \n",
       "Dotación y elementos de protección personal            14,403.00   \n",
       "Servicios Profesionales                                   222.50   \n",
       "Químicos y derivados                                   41,351.00   \n",
       "Almacenamiento y empaques                             200,696.80   \n",
       "Vehículos y repuestos                                  13,482.00   \n",
       "Mercadeo y publicidad                                  71,441.00   \n",
       "Ingeniería e Investigación                            206,046.00   \n",
       "Aseo, Cafetería y Oficina                              38,426.00   \n",
       "Tecnología e información                                1,410.00   \n",
       "Vigilancia y seguridad                                      4.00   \n",
       "Ferreteria                                             18,729.00   \n",
       "Logística y transporte                                    309.00   \n",
       "Gestión inmobiliaria                                        3.00   \n",
       "Imprenta y litografía                                  88,546.00   \n",
       "Manufactura                                               759.00   \n",
       "Eléctricos y Electrónicos                               1,321.00   \n",
       "Moda y accesorios                                         102.00   \n",
       "Mobiliario y decoración                                   524.00   \n",
       "Medicina y Salud                                           13.00   \n",
       "Viajes, Eventos y Entretenimiento                          57.00   \n",
       "Hogar y electrodomésticos                                 255.00   \n",
       "Textiles                                                3,414.00   \n",
       "Gestión ambiental                                       1,769.00   \n",
       "Salud y Medicina                                          375.00   \n",
       "Compras Sostenibles                                       968.00   \n",
       "Cuidado personal y Belleza                                 66.00   \n",
       "Generación y distribución de Energía                        1.00   \n",
       "Deporte y recreación                                      146.00   \n",
       "Minería                                                     4.00   \n",
       "Educación y formación empresarial                           2.00   \n",
       "Servicios Públicos                                     82,682.00   \n",
       "Agroindustrial                                            252.00   \n",
       "Producción audiovisual                                      4.00   \n",
       "\n",
       "                                                 PRECIO_UNITARIO  \\\n",
       "CATEGORÍA                                                          \n",
       "Vigilancia y seguridad industrial                 233,409,776.00   \n",
       "Alimentos y Bebidas                               106,555,080.00   \n",
       "Construcción y Mantenimiento                      303,148,960.00   \n",
       "Dotación y elementos de protección personal        46,851,856.00   \n",
       "Servicios Profesionales                           396,780,192.00   \n",
       "Químicos y derivados                               23,887,690.00   \n",
       "Almacenamiento y empaques                           8,105,723.00   \n",
       "Vehículos y repuestos                              51,944,152.00   \n",
       "Mercadeo y publicidad                              62,464,332.00   \n",
       "Ingeniería e Investigación                         31,338,396.00   \n",
       "Aseo, Cafetería y Oficina                          56,836,564.00   \n",
       "Tecnología e información                           59,454,888.00   \n",
       "Vigilancia y seguridad                             25,210,116.00   \n",
       "Ferreteria                                         78,040,200.00   \n",
       "Logística y transporte                             73,756,464.00   \n",
       "Gestión inmobiliaria                                8,164,453.00   \n",
       "Imprenta y litografía                               5,961,338.00   \n",
       "Manufactura                                        13,283,086.00   \n",
       "Eléctricos y Electrónicos                           9,905,301.00   \n",
       "Moda y accesorios                                   5,438,500.00   \n",
       "Mobiliario y decoración                             8,577,779.00   \n",
       "Medicina y Salud                                   17,855,100.00   \n",
       "Viajes, Eventos y Entretenimiento                   6,181,605.00   \n",
       "Hogar y electrodomésticos                          10,204,475.00   \n",
       "Textiles                                              687,197.00   \n",
       "Gestión ambiental                                   5,002,645.00   \n",
       "Salud y Medicina                                    1,147,219.00   \n",
       "Compras Sostenibles                                 1,471,905.00   \n",
       "Cuidado personal y Belleza                            418,342.00   \n",
       "Generación y distribución de Energía                4,606,302.00   \n",
       "Deporte y recreación                                  260,850.00   \n",
       "Minería                                             1,357,410.00   \n",
       "Educación y formación empresarial                     198,000.00   \n",
       "Servicios Públicos                                         27.00   \n",
       "Agroindustrial                                        150,400.00   \n",
       "Producción audiovisual                                 38,000.00   \n",
       "\n",
       "                                                             IVA  \\\n",
       "CATEGORÍA                                                          \n",
       "Vigilancia y seguridad industrial                  44,227,524.00   \n",
       "Alimentos y Bebidas                                13,873,146.00   \n",
       "Construcción y Mantenimiento                       40,068,148.00   \n",
       "Dotación y elementos de protección personal         8,302,189.00   \n",
       "Servicios Profesionales                            74,664,856.00   \n",
       "Químicos y derivados                                1,314,261.00   \n",
       "Almacenamiento y empaques                           1,482,934.00   \n",
       "Vehículos y repuestos                               9,400,447.00   \n",
       "Mercadeo y publicidad                               9,526,379.00   \n",
       "Ingeniería e Investigación                          5,121,873.00   \n",
       "Aseo, Cafetería y Oficina                           6,928,135.00   \n",
       "Tecnología e información                            7,731,789.00   \n",
       "Vigilancia y seguridad                                558,824.00   \n",
       "Ferreteria                                         14,745,771.00   \n",
       "Logística y transporte                              1,507,647.00   \n",
       "Gestión inmobiliaria                                1,551,246.00   \n",
       "Imprenta y litografía                               1,103,011.00   \n",
       "Manufactura                                         2,518,559.00   \n",
       "Eléctricos y Electrónicos                           1,882,010.00   \n",
       "Moda y accesorios                                   1,033,303.00   \n",
       "Mobiliario y decoración                             1,629,748.00   \n",
       "Medicina y Salud                                    3,377,120.00   \n",
       "Viajes, Eventos y Entretenimiento                     829,100.00   \n",
       "Hogar y electrodomésticos                           1,938,853.00   \n",
       "Textiles                                               35,510.00   \n",
       "Gestión ambiental                                     943,177.00   \n",
       "Salud y Medicina                                       11,704.00   \n",
       "Compras Sostenibles                                   207,003.00   \n",
       "Cuidado personal y Belleza                             76,894.00   \n",
       "Generación y distribución de Energía                  875,197.00   \n",
       "Deporte y recreación                                   25,888.00   \n",
       "Minería                                                 9,101.00   \n",
       "Educación y formación empresarial                           0.00   \n",
       "Servicios Públicos                                          6.00   \n",
       "Agroindustrial                                              0.00   \n",
       "Producción audiovisual                                      0.00   \n",
       "\n",
       "                                                   TOTAL_SIN_IVA  \n",
       "CATEGORÍA                                                         \n",
       "Vigilancia y seguridad industrial               4,339,572,224.00  \n",
       "Alimentos y Bebidas                             1,928,684,544.00  \n",
       "Construcción y Mantenimiento                      882,860,608.00  \n",
       "Dotación y elementos de protección personal       715,481,920.00  \n",
       "Servicios Profesionales                           602,906,112.00  \n",
       "Químicos y derivados                              383,131,712.00  \n",
       "Almacenamiento y empaques                         362,158,528.00  \n",
       "Vehículos y repuestos                             209,335,776.00  \n",
       "Mercadeo y publicidad                             195,689,648.00  \n",
       "Ingeniería e Investigación                        165,708,032.00  \n",
       "Aseo, Cafetería y Oficina                         153,989,376.00  \n",
       "Tecnología e información                          135,508,496.00  \n",
       "Vigilancia y seguridad                            133,923,232.00  \n",
       "Ferreteria                                        108,569,920.00  \n",
       "Logística y transporte                             82,825,104.00  \n",
       "Gestión inmobiliaria                               54,662,096.00  \n",
       "Imprenta y litografía                              36,668,192.00  \n",
       "Manufactura                                        36,657,428.00  \n",
       "Eléctricos y Electrónicos                          28,938,876.00  \n",
       "Moda y accesorios                                  26,076,944.00  \n",
       "Mobiliario y decoración                            19,926,016.00  \n",
       "Medicina y Salud                                   17,878,528.00  \n",
       "Viajes, Eventos y Entretenimiento                  13,508,605.00  \n",
       "Hogar y electrodomésticos                          12,514,375.00  \n",
       "Textiles                                           10,535,113.00  \n",
       "Gestión ambiental                                   9,553,775.00  \n",
       "Salud y Medicina                                    7,524,205.00  \n",
       "Compras Sostenibles                                 5,245,562.00  \n",
       "Cuidado personal y Belleza                          4,682,445.00  \n",
       "Generación y distribución de Energía                4,606,302.00  \n",
       "Deporte y recreación                                1,552,470.00  \n",
       "Minería                                             1,453,208.00  \n",
       "Educación y formación empresarial                     396,000.00  \n",
       "Servicios Públicos                                    372,071.00  \n",
       "Agroindustrial                                        250,000.00  \n",
       "Producción audiovisual                                152,000.00  "
      ]
     },
     "execution_count": 114,
     "metadata": {},
     "output_type": "execute_result"
    }
   ],
   "source": [
    "df_CAT = df.groupby('CATEGORÍA').sum()\n",
    "df_CAT.sort_values(by='TOTAL_SIN_IVA', inplace=True, ascending=False)\n",
    "df_CAT"
   ]
  },
  {
   "cell_type": "code",
   "execution_count": 120,
   "metadata": {},
   "outputs": [
    {
     "data": {
      "text/html": [
       "<div>\n",
       "<style scoped>\n",
       "    .dataframe tbody tr th:only-of-type {\n",
       "        vertical-align: middle;\n",
       "    }\n",
       "\n",
       "    .dataframe tbody tr th {\n",
       "        vertical-align: top;\n",
       "    }\n",
       "\n",
       "    .dataframe thead th {\n",
       "        text-align: right;\n",
       "    }\n",
       "</style>\n",
       "<table border=\"1\" class=\"dataframe\">\n",
       "  <thead>\n",
       "    <tr style=\"text-align: right;\">\n",
       "      <th></th>\n",
       "      <th>CANTIDAD_PEDIDA</th>\n",
       "      <th>CANTIDAD_RECIBIDA</th>\n",
       "      <th>PRECIO_UNITARIO</th>\n",
       "      <th>IVA</th>\n",
       "      <th>TOTAL_SIN_IVA</th>\n",
       "      <th>%_TOTAL_SIN_IVA</th>\n",
       "    </tr>\n",
       "    <tr>\n",
       "      <th>CATEGORÍA</th>\n",
       "      <th></th>\n",
       "      <th></th>\n",
       "      <th></th>\n",
       "      <th></th>\n",
       "      <th></th>\n",
       "      <th></th>\n",
       "    </tr>\n",
       "  </thead>\n",
       "  <tbody>\n",
       "    <tr>\n",
       "      <th>Vigilancia y seguridad industrial</th>\n",
       "      <td>234,476.00</td>\n",
       "      <td>233,765.00</td>\n",
       "      <td>233,409,776.00</td>\n",
       "      <td>44,227,524.00</td>\n",
       "      <td>4,339,572,224.00</td>\n",
       "      <td>40.58</td>\n",
       "    </tr>\n",
       "    <tr>\n",
       "      <th>Alimentos y Bebidas</th>\n",
       "      <td>2,763,255.73</td>\n",
       "      <td>85,211.76</td>\n",
       "      <td>106,555,080.00</td>\n",
       "      <td>13,873,146.00</td>\n",
       "      <td>1,928,684,544.00</td>\n",
       "      <td>18.04</td>\n",
       "    </tr>\n",
       "    <tr>\n",
       "      <th>Construcción y Mantenimiento</th>\n",
       "      <td>2,502.00</td>\n",
       "      <td>2,161.00</td>\n",
       "      <td>303,148,960.00</td>\n",
       "      <td>40,068,148.00</td>\n",
       "      <td>882,860,608.00</td>\n",
       "      <td>8.26</td>\n",
       "    </tr>\n",
       "    <tr>\n",
       "      <th>Dotación y elementos de protección personal</th>\n",
       "      <td>27,001.00</td>\n",
       "      <td>14,403.00</td>\n",
       "      <td>46,851,856.00</td>\n",
       "      <td>8,302,189.00</td>\n",
       "      <td>715,481,920.00</td>\n",
       "      <td>6.69</td>\n",
       "    </tr>\n",
       "    <tr>\n",
       "      <th>Servicios Profesionales</th>\n",
       "      <td>298.50</td>\n",
       "      <td>222.50</td>\n",
       "      <td>396,780,192.00</td>\n",
       "      <td>74,664,856.00</td>\n",
       "      <td>602,906,112.00</td>\n",
       "      <td>5.64</td>\n",
       "    </tr>\n",
       "    <tr>\n",
       "      <th>Químicos y derivados</th>\n",
       "      <td>44,667.70</td>\n",
       "      <td>41,351.00</td>\n",
       "      <td>23,887,690.00</td>\n",
       "      <td>1,314,261.00</td>\n",
       "      <td>383,131,712.00</td>\n",
       "      <td>3.58</td>\n",
       "    </tr>\n",
       "    <tr>\n",
       "      <th>Almacenamiento y empaques</th>\n",
       "      <td>322,955.70</td>\n",
       "      <td>200,696.80</td>\n",
       "      <td>8,105,723.00</td>\n",
       "      <td>1,482,934.00</td>\n",
       "      <td>362,158,528.00</td>\n",
       "      <td>3.39</td>\n",
       "    </tr>\n",
       "    <tr>\n",
       "      <th>Vehículos y repuestos</th>\n",
       "      <td>17,334.00</td>\n",
       "      <td>13,482.00</td>\n",
       "      <td>51,944,152.00</td>\n",
       "      <td>9,400,447.00</td>\n",
       "      <td>209,335,776.00</td>\n",
       "      <td>1.96</td>\n",
       "    </tr>\n",
       "    <tr>\n",
       "      <th>Mercadeo y publicidad</th>\n",
       "      <td>100,534.00</td>\n",
       "      <td>71,441.00</td>\n",
       "      <td>62,464,332.00</td>\n",
       "      <td>9,526,379.00</td>\n",
       "      <td>195,689,648.00</td>\n",
       "      <td>1.83</td>\n",
       "    </tr>\n",
       "    <tr>\n",
       "      <th>Ingeniería e Investigación</th>\n",
       "      <td>206,195.00</td>\n",
       "      <td>206,046.00</td>\n",
       "      <td>31,338,396.00</td>\n",
       "      <td>5,121,873.00</td>\n",
       "      <td>165,708,032.00</td>\n",
       "      <td>1.55</td>\n",
       "    </tr>\n",
       "    <tr>\n",
       "      <th>Aseo, Cafetería y Oficina</th>\n",
       "      <td>437,284.00</td>\n",
       "      <td>38,426.00</td>\n",
       "      <td>56,836,564.00</td>\n",
       "      <td>6,928,135.00</td>\n",
       "      <td>153,989,376.00</td>\n",
       "      <td>1.44</td>\n",
       "    </tr>\n",
       "    <tr>\n",
       "      <th>Tecnología e información</th>\n",
       "      <td>1,567.00</td>\n",
       "      <td>1,410.00</td>\n",
       "      <td>59,454,888.00</td>\n",
       "      <td>7,731,789.00</td>\n",
       "      <td>135,508,496.00</td>\n",
       "      <td>1.27</td>\n",
       "    </tr>\n",
       "    <tr>\n",
       "      <th>Vigilancia y seguridad</th>\n",
       "      <td>149.00</td>\n",
       "      <td>4.00</td>\n",
       "      <td>25,210,116.00</td>\n",
       "      <td>558,824.00</td>\n",
       "      <td>133,923,232.00</td>\n",
       "      <td>1.25</td>\n",
       "    </tr>\n",
       "    <tr>\n",
       "      <th>Ferreteria</th>\n",
       "      <td>20,672.00</td>\n",
       "      <td>18,729.00</td>\n",
       "      <td>78,040,200.00</td>\n",
       "      <td>14,745,771.00</td>\n",
       "      <td>108,569,920.00</td>\n",
       "      <td>1.02</td>\n",
       "    </tr>\n",
       "    <tr>\n",
       "      <th>Logística y transporte</th>\n",
       "      <td>353.00</td>\n",
       "      <td>309.00</td>\n",
       "      <td>73,756,464.00</td>\n",
       "      <td>1,507,647.00</td>\n",
       "      <td>82,825,104.00</td>\n",
       "      <td>0.77</td>\n",
       "    </tr>\n",
       "    <tr>\n",
       "      <th>Gestión inmobiliaria</th>\n",
       "      <td>11.00</td>\n",
       "      <td>3.00</td>\n",
       "      <td>8,164,453.00</td>\n",
       "      <td>1,551,246.00</td>\n",
       "      <td>54,662,096.00</td>\n",
       "      <td>0.51</td>\n",
       "    </tr>\n",
       "    <tr>\n",
       "      <th>Imprenta y litografía</th>\n",
       "      <td>104,419.00</td>\n",
       "      <td>88,546.00</td>\n",
       "      <td>5,961,338.00</td>\n",
       "      <td>1,103,011.00</td>\n",
       "      <td>36,668,192.00</td>\n",
       "      <td>0.34</td>\n",
       "    </tr>\n",
       "    <tr>\n",
       "      <th>Manufactura</th>\n",
       "      <td>15,020.00</td>\n",
       "      <td>759.00</td>\n",
       "      <td>13,283,086.00</td>\n",
       "      <td>2,518,559.00</td>\n",
       "      <td>36,657,428.00</td>\n",
       "      <td>0.34</td>\n",
       "    </tr>\n",
       "    <tr>\n",
       "      <th>Eléctricos y Electrónicos</th>\n",
       "      <td>11,760.00</td>\n",
       "      <td>1,321.00</td>\n",
       "      <td>9,905,301.00</td>\n",
       "      <td>1,882,010.00</td>\n",
       "      <td>28,938,876.00</td>\n",
       "      <td>0.27</td>\n",
       "    </tr>\n",
       "    <tr>\n",
       "      <th>Moda y accesorios</th>\n",
       "      <td>1,050.00</td>\n",
       "      <td>102.00</td>\n",
       "      <td>5,438,500.00</td>\n",
       "      <td>1,033,303.00</td>\n",
       "      <td>26,076,944.00</td>\n",
       "      <td>0.24</td>\n",
       "    </tr>\n",
       "    <tr>\n",
       "      <th>Mobiliario y decoración</th>\n",
       "      <td>927.00</td>\n",
       "      <td>524.00</td>\n",
       "      <td>8,577,779.00</td>\n",
       "      <td>1,629,748.00</td>\n",
       "      <td>19,926,016.00</td>\n",
       "      <td>0.19</td>\n",
       "    </tr>\n",
       "    <tr>\n",
       "      <th>Medicina y Salud</th>\n",
       "      <td>30.00</td>\n",
       "      <td>13.00</td>\n",
       "      <td>17,855,100.00</td>\n",
       "      <td>3,377,120.00</td>\n",
       "      <td>17,878,528.00</td>\n",
       "      <td>0.17</td>\n",
       "    </tr>\n",
       "    <tr>\n",
       "      <th>Viajes, Eventos y Entretenimiento</th>\n",
       "      <td>58.00</td>\n",
       "      <td>57.00</td>\n",
       "      <td>6,181,605.00</td>\n",
       "      <td>829,100.00</td>\n",
       "      <td>13,508,605.00</td>\n",
       "      <td>0.13</td>\n",
       "    </tr>\n",
       "    <tr>\n",
       "      <th>Hogar y electrodomésticos</th>\n",
       "      <td>276.00</td>\n",
       "      <td>255.00</td>\n",
       "      <td>10,204,475.00</td>\n",
       "      <td>1,938,853.00</td>\n",
       "      <td>12,514,375.00</td>\n",
       "      <td>0.12</td>\n",
       "    </tr>\n",
       "    <tr>\n",
       "      <th>Textiles</th>\n",
       "      <td>3,570.00</td>\n",
       "      <td>3,414.00</td>\n",
       "      <td>687,197.00</td>\n",
       "      <td>35,510.00</td>\n",
       "      <td>10,535,113.00</td>\n",
       "      <td>0.10</td>\n",
       "    </tr>\n",
       "    <tr>\n",
       "      <th>Gestión ambiental</th>\n",
       "      <td>2,912.00</td>\n",
       "      <td>1,769.00</td>\n",
       "      <td>5,002,645.00</td>\n",
       "      <td>943,177.00</td>\n",
       "      <td>9,553,775.00</td>\n",
       "      <td>0.09</td>\n",
       "    </tr>\n",
       "    <tr>\n",
       "      <th>Salud y Medicina</th>\n",
       "      <td>627.00</td>\n",
       "      <td>375.00</td>\n",
       "      <td>1,147,219.00</td>\n",
       "      <td>11,704.00</td>\n",
       "      <td>7,524,205.00</td>\n",
       "      <td>0.07</td>\n",
       "    </tr>\n",
       "    <tr>\n",
       "      <th>Compras Sostenibles</th>\n",
       "      <td>975.00</td>\n",
       "      <td>968.00</td>\n",
       "      <td>1,471,905.00</td>\n",
       "      <td>207,003.00</td>\n",
       "      <td>5,245,562.00</td>\n",
       "      <td>0.05</td>\n",
       "    </tr>\n",
       "    <tr>\n",
       "      <th>Cuidado personal y Belleza</th>\n",
       "      <td>66.00</td>\n",
       "      <td>66.00</td>\n",
       "      <td>418,342.00</td>\n",
       "      <td>76,894.00</td>\n",
       "      <td>4,682,445.00</td>\n",
       "      <td>0.04</td>\n",
       "    </tr>\n",
       "    <tr>\n",
       "      <th>Generación y distribución de Energía</th>\n",
       "      <td>5.00</td>\n",
       "      <td>1.00</td>\n",
       "      <td>4,606,302.00</td>\n",
       "      <td>875,197.00</td>\n",
       "      <td>4,606,302.00</td>\n",
       "      <td>0.04</td>\n",
       "    </tr>\n",
       "    <tr>\n",
       "      <th>Deporte y recreación</th>\n",
       "      <td>146.00</td>\n",
       "      <td>146.00</td>\n",
       "      <td>260,850.00</td>\n",
       "      <td>25,888.00</td>\n",
       "      <td>1,552,470.00</td>\n",
       "      <td>0.01</td>\n",
       "    </tr>\n",
       "    <tr>\n",
       "      <th>Minería</th>\n",
       "      <td>7.00</td>\n",
       "      <td>4.00</td>\n",
       "      <td>1,357,410.00</td>\n",
       "      <td>9,101.00</td>\n",
       "      <td>1,453,208.00</td>\n",
       "      <td>0.01</td>\n",
       "    </tr>\n",
       "    <tr>\n",
       "      <th>Educación y formación empresarial</th>\n",
       "      <td>2.00</td>\n",
       "      <td>2.00</td>\n",
       "      <td>198,000.00</td>\n",
       "      <td>0.00</td>\n",
       "      <td>396,000.00</td>\n",
       "      <td>0.00</td>\n",
       "    </tr>\n",
       "    <tr>\n",
       "      <th>Servicios Públicos</th>\n",
       "      <td>82,682.00</td>\n",
       "      <td>82,682.00</td>\n",
       "      <td>27.00</td>\n",
       "      <td>6.00</td>\n",
       "      <td>372,071.00</td>\n",
       "      <td>0.00</td>\n",
       "    </tr>\n",
       "    <tr>\n",
       "      <th>Agroindustrial</th>\n",
       "      <td>256.00</td>\n",
       "      <td>252.00</td>\n",
       "      <td>150,400.00</td>\n",
       "      <td>0.00</td>\n",
       "      <td>250,000.00</td>\n",
       "      <td>0.00</td>\n",
       "    </tr>\n",
       "    <tr>\n",
       "      <th>Producción audiovisual</th>\n",
       "      <td>4.00</td>\n",
       "      <td>4.00</td>\n",
       "      <td>38,000.00</td>\n",
       "      <td>0.00</td>\n",
       "      <td>152,000.00</td>\n",
       "      <td>0.00</td>\n",
       "    </tr>\n",
       "  </tbody>\n",
       "</table>\n",
       "</div>"
      ],
      "text/plain": [
       "                                                 CANTIDAD_PEDIDA  \\\n",
       "CATEGORÍA                                                          \n",
       "Vigilancia y seguridad industrial                     234,476.00   \n",
       "Alimentos y Bebidas                                 2,763,255.73   \n",
       "Construcción y Mantenimiento                            2,502.00   \n",
       "Dotación y elementos de protección personal            27,001.00   \n",
       "Servicios Profesionales                                   298.50   \n",
       "Químicos y derivados                                   44,667.70   \n",
       "Almacenamiento y empaques                             322,955.70   \n",
       "Vehículos y repuestos                                  17,334.00   \n",
       "Mercadeo y publicidad                                 100,534.00   \n",
       "Ingeniería e Investigación                            206,195.00   \n",
       "Aseo, Cafetería y Oficina                             437,284.00   \n",
       "Tecnología e información                                1,567.00   \n",
       "Vigilancia y seguridad                                    149.00   \n",
       "Ferreteria                                             20,672.00   \n",
       "Logística y transporte                                    353.00   \n",
       "Gestión inmobiliaria                                       11.00   \n",
       "Imprenta y litografía                                 104,419.00   \n",
       "Manufactura                                            15,020.00   \n",
       "Eléctricos y Electrónicos                              11,760.00   \n",
       "Moda y accesorios                                       1,050.00   \n",
       "Mobiliario y decoración                                   927.00   \n",
       "Medicina y Salud                                           30.00   \n",
       "Viajes, Eventos y Entretenimiento                          58.00   \n",
       "Hogar y electrodomésticos                                 276.00   \n",
       "Textiles                                                3,570.00   \n",
       "Gestión ambiental                                       2,912.00   \n",
       "Salud y Medicina                                          627.00   \n",
       "Compras Sostenibles                                       975.00   \n",
       "Cuidado personal y Belleza                                 66.00   \n",
       "Generación y distribución de Energía                        5.00   \n",
       "Deporte y recreación                                      146.00   \n",
       "Minería                                                     7.00   \n",
       "Educación y formación empresarial                           2.00   \n",
       "Servicios Públicos                                     82,682.00   \n",
       "Agroindustrial                                            256.00   \n",
       "Producción audiovisual                                      4.00   \n",
       "\n",
       "                                               CANTIDAD_RECIBIDA  \\\n",
       "CATEGORÍA                                                          \n",
       "Vigilancia y seguridad industrial                     233,765.00   \n",
       "Alimentos y Bebidas                                    85,211.76   \n",
       "Construcción y Mantenimiento                            2,161.00   \n",
       "Dotación y elementos de protección personal            14,403.00   \n",
       "Servicios Profesionales                                   222.50   \n",
       "Químicos y derivados                                   41,351.00   \n",
       "Almacenamiento y empaques                             200,696.80   \n",
       "Vehículos y repuestos                                  13,482.00   \n",
       "Mercadeo y publicidad                                  71,441.00   \n",
       "Ingeniería e Investigación                            206,046.00   \n",
       "Aseo, Cafetería y Oficina                              38,426.00   \n",
       "Tecnología e información                                1,410.00   \n",
       "Vigilancia y seguridad                                      4.00   \n",
       "Ferreteria                                             18,729.00   \n",
       "Logística y transporte                                    309.00   \n",
       "Gestión inmobiliaria                                        3.00   \n",
       "Imprenta y litografía                                  88,546.00   \n",
       "Manufactura                                               759.00   \n",
       "Eléctricos y Electrónicos                               1,321.00   \n",
       "Moda y accesorios                                         102.00   \n",
       "Mobiliario y decoración                                   524.00   \n",
       "Medicina y Salud                                           13.00   \n",
       "Viajes, Eventos y Entretenimiento                          57.00   \n",
       "Hogar y electrodomésticos                                 255.00   \n",
       "Textiles                                                3,414.00   \n",
       "Gestión ambiental                                       1,769.00   \n",
       "Salud y Medicina                                          375.00   \n",
       "Compras Sostenibles                                       968.00   \n",
       "Cuidado personal y Belleza                                 66.00   \n",
       "Generación y distribución de Energía                        1.00   \n",
       "Deporte y recreación                                      146.00   \n",
       "Minería                                                     4.00   \n",
       "Educación y formación empresarial                           2.00   \n",
       "Servicios Públicos                                     82,682.00   \n",
       "Agroindustrial                                            252.00   \n",
       "Producción audiovisual                                      4.00   \n",
       "\n",
       "                                                 PRECIO_UNITARIO  \\\n",
       "CATEGORÍA                                                          \n",
       "Vigilancia y seguridad industrial                 233,409,776.00   \n",
       "Alimentos y Bebidas                               106,555,080.00   \n",
       "Construcción y Mantenimiento                      303,148,960.00   \n",
       "Dotación y elementos de protección personal        46,851,856.00   \n",
       "Servicios Profesionales                           396,780,192.00   \n",
       "Químicos y derivados                               23,887,690.00   \n",
       "Almacenamiento y empaques                           8,105,723.00   \n",
       "Vehículos y repuestos                              51,944,152.00   \n",
       "Mercadeo y publicidad                              62,464,332.00   \n",
       "Ingeniería e Investigación                         31,338,396.00   \n",
       "Aseo, Cafetería y Oficina                          56,836,564.00   \n",
       "Tecnología e información                           59,454,888.00   \n",
       "Vigilancia y seguridad                             25,210,116.00   \n",
       "Ferreteria                                         78,040,200.00   \n",
       "Logística y transporte                             73,756,464.00   \n",
       "Gestión inmobiliaria                                8,164,453.00   \n",
       "Imprenta y litografía                               5,961,338.00   \n",
       "Manufactura                                        13,283,086.00   \n",
       "Eléctricos y Electrónicos                           9,905,301.00   \n",
       "Moda y accesorios                                   5,438,500.00   \n",
       "Mobiliario y decoración                             8,577,779.00   \n",
       "Medicina y Salud                                   17,855,100.00   \n",
       "Viajes, Eventos y Entretenimiento                   6,181,605.00   \n",
       "Hogar y electrodomésticos                          10,204,475.00   \n",
       "Textiles                                              687,197.00   \n",
       "Gestión ambiental                                   5,002,645.00   \n",
       "Salud y Medicina                                    1,147,219.00   \n",
       "Compras Sostenibles                                 1,471,905.00   \n",
       "Cuidado personal y Belleza                            418,342.00   \n",
       "Generación y distribución de Energía                4,606,302.00   \n",
       "Deporte y recreación                                  260,850.00   \n",
       "Minería                                             1,357,410.00   \n",
       "Educación y formación empresarial                     198,000.00   \n",
       "Servicios Públicos                                         27.00   \n",
       "Agroindustrial                                        150,400.00   \n",
       "Producción audiovisual                                 38,000.00   \n",
       "\n",
       "                                                             IVA  \\\n",
       "CATEGORÍA                                                          \n",
       "Vigilancia y seguridad industrial                  44,227,524.00   \n",
       "Alimentos y Bebidas                                13,873,146.00   \n",
       "Construcción y Mantenimiento                       40,068,148.00   \n",
       "Dotación y elementos de protección personal         8,302,189.00   \n",
       "Servicios Profesionales                            74,664,856.00   \n",
       "Químicos y derivados                                1,314,261.00   \n",
       "Almacenamiento y empaques                           1,482,934.00   \n",
       "Vehículos y repuestos                               9,400,447.00   \n",
       "Mercadeo y publicidad                               9,526,379.00   \n",
       "Ingeniería e Investigación                          5,121,873.00   \n",
       "Aseo, Cafetería y Oficina                           6,928,135.00   \n",
       "Tecnología e información                            7,731,789.00   \n",
       "Vigilancia y seguridad                                558,824.00   \n",
       "Ferreteria                                         14,745,771.00   \n",
       "Logística y transporte                              1,507,647.00   \n",
       "Gestión inmobiliaria                                1,551,246.00   \n",
       "Imprenta y litografía                               1,103,011.00   \n",
       "Manufactura                                         2,518,559.00   \n",
       "Eléctricos y Electrónicos                           1,882,010.00   \n",
       "Moda y accesorios                                   1,033,303.00   \n",
       "Mobiliario y decoración                             1,629,748.00   \n",
       "Medicina y Salud                                    3,377,120.00   \n",
       "Viajes, Eventos y Entretenimiento                     829,100.00   \n",
       "Hogar y electrodomésticos                           1,938,853.00   \n",
       "Textiles                                               35,510.00   \n",
       "Gestión ambiental                                     943,177.00   \n",
       "Salud y Medicina                                       11,704.00   \n",
       "Compras Sostenibles                                   207,003.00   \n",
       "Cuidado personal y Belleza                             76,894.00   \n",
       "Generación y distribución de Energía                  875,197.00   \n",
       "Deporte y recreación                                   25,888.00   \n",
       "Minería                                                 9,101.00   \n",
       "Educación y formación empresarial                           0.00   \n",
       "Servicios Públicos                                          6.00   \n",
       "Agroindustrial                                              0.00   \n",
       "Producción audiovisual                                      0.00   \n",
       "\n",
       "                                                   TOTAL_SIN_IVA  \\\n",
       "CATEGORÍA                                                          \n",
       "Vigilancia y seguridad industrial               4,339,572,224.00   \n",
       "Alimentos y Bebidas                             1,928,684,544.00   \n",
       "Construcción y Mantenimiento                      882,860,608.00   \n",
       "Dotación y elementos de protección personal       715,481,920.00   \n",
       "Servicios Profesionales                           602,906,112.00   \n",
       "Químicos y derivados                              383,131,712.00   \n",
       "Almacenamiento y empaques                         362,158,528.00   \n",
       "Vehículos y repuestos                             209,335,776.00   \n",
       "Mercadeo y publicidad                             195,689,648.00   \n",
       "Ingeniería e Investigación                        165,708,032.00   \n",
       "Aseo, Cafetería y Oficina                         153,989,376.00   \n",
       "Tecnología e información                          135,508,496.00   \n",
       "Vigilancia y seguridad                            133,923,232.00   \n",
       "Ferreteria                                        108,569,920.00   \n",
       "Logística y transporte                             82,825,104.00   \n",
       "Gestión inmobiliaria                               54,662,096.00   \n",
       "Imprenta y litografía                              36,668,192.00   \n",
       "Manufactura                                        36,657,428.00   \n",
       "Eléctricos y Electrónicos                          28,938,876.00   \n",
       "Moda y accesorios                                  26,076,944.00   \n",
       "Mobiliario y decoración                            19,926,016.00   \n",
       "Medicina y Salud                                   17,878,528.00   \n",
       "Viajes, Eventos y Entretenimiento                  13,508,605.00   \n",
       "Hogar y electrodomésticos                          12,514,375.00   \n",
       "Textiles                                           10,535,113.00   \n",
       "Gestión ambiental                                   9,553,775.00   \n",
       "Salud y Medicina                                    7,524,205.00   \n",
       "Compras Sostenibles                                 5,245,562.00   \n",
       "Cuidado personal y Belleza                          4,682,445.00   \n",
       "Generación y distribución de Energía                4,606,302.00   \n",
       "Deporte y recreación                                1,552,470.00   \n",
       "Minería                                             1,453,208.00   \n",
       "Educación y formación empresarial                     396,000.00   \n",
       "Servicios Públicos                                    372,071.00   \n",
       "Agroindustrial                                        250,000.00   \n",
       "Producción audiovisual                                152,000.00   \n",
       "\n",
       "                                                 %_TOTAL_SIN_IVA  \n",
       "CATEGORÍA                                                         \n",
       "Vigilancia y seguridad industrial                          40.58  \n",
       "Alimentos y Bebidas                                        18.04  \n",
       "Construcción y Mantenimiento                                8.26  \n",
       "Dotación y elementos de protección personal                 6.69  \n",
       "Servicios Profesionales                                     5.64  \n",
       "Químicos y derivados                                        3.58  \n",
       "Almacenamiento y empaques                                   3.39  \n",
       "Vehículos y repuestos                                       1.96  \n",
       "Mercadeo y publicidad                                       1.83  \n",
       "Ingeniería e Investigación                                  1.55  \n",
       "Aseo, Cafetería y Oficina                                   1.44  \n",
       "Tecnología e información                                    1.27  \n",
       "Vigilancia y seguridad                                      1.25  \n",
       "Ferreteria                                                  1.02  \n",
       "Logística y transporte                                      0.77  \n",
       "Gestión inmobiliaria                                        0.51  \n",
       "Imprenta y litografía                                       0.34  \n",
       "Manufactura                                                 0.34  \n",
       "Eléctricos y Electrónicos                                   0.27  \n",
       "Moda y accesorios                                           0.24  \n",
       "Mobiliario y decoración                                     0.19  \n",
       "Medicina y Salud                                            0.17  \n",
       "Viajes, Eventos y Entretenimiento                           0.13  \n",
       "Hogar y electrodomésticos                                   0.12  \n",
       "Textiles                                                    0.10  \n",
       "Gestión ambiental                                           0.09  \n",
       "Salud y Medicina                                            0.07  \n",
       "Compras Sostenibles                                         0.05  \n",
       "Cuidado personal y Belleza                                  0.04  \n",
       "Generación y distribución de Energía                        0.04  \n",
       "Deporte y recreación                                        0.01  \n",
       "Minería                                                     0.01  \n",
       "Educación y formación empresarial                           0.00  \n",
       "Servicios Públicos                                          0.00  \n",
       "Agroindustrial                                              0.00  \n",
       "Producción audiovisual                                      0.00  "
      ]
     },
     "execution_count": 120,
     "metadata": {},
     "output_type": "execute_result"
    }
   ],
   "source": [
    "#df_CAT['TOTAL_SIN_IVA'].sum()\n",
    "#df_CAT.sort_values(by='TOTAL_SIN_IVA', inplace=True, ascending=False)\n",
    "#df['CATEGORÍA'].value_counts()/len(df)*100\n",
    "df_CAT['%_TOTAL_SIN_IVA'] = df_CAT['TOTAL_SIN_IVA']/df_CAT['TOTAL_SIN_IVA'].sum()*100\n",
    "df_CAT"
   ]
  },
  {
   "cell_type": "code",
   "execution_count": 133,
   "metadata": {},
   "outputs": [
    {
     "data": {
      "text/plain": [
       "40.581406"
      ]
     },
     "execution_count": 133,
     "metadata": {},
     "output_type": "execute_result"
    }
   ],
   "source": [
    "df_CAT.loc['Vigilancia y seguridad industrial', '%_TOTAL_SIN_IVA']"
   ]
  },
  {
   "cell_type": "code",
   "execution_count": 135,
   "metadata": {},
   "outputs": [
    {
     "ename": "IndexError",
     "evalue": "single positional indexer is out-of-bounds",
     "output_type": "error",
     "traceback": [
      "\u001b[1;31m---------------------------------------------------------------------------\u001b[0m",
      "\u001b[1;31mIndexError\u001b[0m                                Traceback (most recent call last)",
      "\u001b[1;32m<ipython-input-135-0aea36810204>\u001b[0m in \u001b[0;36m<module>\u001b[1;34m\u001b[0m\n\u001b[1;32m----> 1\u001b[1;33m \u001b[0mdf_CAT\u001b[0m\u001b[1;33m.\u001b[0m\u001b[0miloc\u001b[0m\u001b[1;33m[\u001b[0m\u001b[1;36m0\u001b[0m\u001b[1;33m,\u001b[0m\u001b[1;36m6\u001b[0m\u001b[1;33m]\u001b[0m\u001b[1;33m\u001b[0m\u001b[1;33m\u001b[0m\u001b[0m\n\u001b[0m",
      "\u001b[1;32m~\\anaconda3\\lib\\site-packages\\pandas\\core\\indexing.py\u001b[0m in \u001b[0;36m__getitem__\u001b[1;34m(self, key)\u001b[0m\n\u001b[0;32m    871\u001b[0m                     \u001b[1;31m# AttributeError for IntervalTree get_value\u001b[0m\u001b[1;33m\u001b[0m\u001b[1;33m\u001b[0m\u001b[1;33m\u001b[0m\u001b[0m\n\u001b[0;32m    872\u001b[0m                     \u001b[1;32mpass\u001b[0m\u001b[1;33m\u001b[0m\u001b[1;33m\u001b[0m\u001b[0m\n\u001b[1;32m--> 873\u001b[1;33m             \u001b[1;32mreturn\u001b[0m \u001b[0mself\u001b[0m\u001b[1;33m.\u001b[0m\u001b[0m_getitem_tuple\u001b[0m\u001b[1;33m(\u001b[0m\u001b[0mkey\u001b[0m\u001b[1;33m)\u001b[0m\u001b[1;33m\u001b[0m\u001b[1;33m\u001b[0m\u001b[0m\n\u001b[0m\u001b[0;32m    874\u001b[0m         \u001b[1;32melse\u001b[0m\u001b[1;33m:\u001b[0m\u001b[1;33m\u001b[0m\u001b[1;33m\u001b[0m\u001b[0m\n\u001b[0;32m    875\u001b[0m             \u001b[1;31m# we by definition only have the 0th axis\u001b[0m\u001b[1;33m\u001b[0m\u001b[1;33m\u001b[0m\u001b[1;33m\u001b[0m\u001b[0m\n",
      "\u001b[1;32m~\\anaconda3\\lib\\site-packages\\pandas\\core\\indexing.py\u001b[0m in \u001b[0;36m_getitem_tuple\u001b[1;34m(self, tup)\u001b[0m\n\u001b[0;32m   1441\u001b[0m     \u001b[1;32mdef\u001b[0m \u001b[0m_getitem_tuple\u001b[0m\u001b[1;33m(\u001b[0m\u001b[0mself\u001b[0m\u001b[1;33m,\u001b[0m \u001b[0mtup\u001b[0m\u001b[1;33m:\u001b[0m \u001b[0mTuple\u001b[0m\u001b[1;33m)\u001b[0m\u001b[1;33m:\u001b[0m\u001b[1;33m\u001b[0m\u001b[1;33m\u001b[0m\u001b[0m\n\u001b[0;32m   1442\u001b[0m \u001b[1;33m\u001b[0m\u001b[0m\n\u001b[1;32m-> 1443\u001b[1;33m         \u001b[0mself\u001b[0m\u001b[1;33m.\u001b[0m\u001b[0m_has_valid_tuple\u001b[0m\u001b[1;33m(\u001b[0m\u001b[0mtup\u001b[0m\u001b[1;33m)\u001b[0m\u001b[1;33m\u001b[0m\u001b[1;33m\u001b[0m\u001b[0m\n\u001b[0m\u001b[0;32m   1444\u001b[0m         \u001b[1;32mtry\u001b[0m\u001b[1;33m:\u001b[0m\u001b[1;33m\u001b[0m\u001b[1;33m\u001b[0m\u001b[0m\n\u001b[0;32m   1445\u001b[0m             \u001b[1;32mreturn\u001b[0m \u001b[0mself\u001b[0m\u001b[1;33m.\u001b[0m\u001b[0m_getitem_lowerdim\u001b[0m\u001b[1;33m(\u001b[0m\u001b[0mtup\u001b[0m\u001b[1;33m)\u001b[0m\u001b[1;33m\u001b[0m\u001b[1;33m\u001b[0m\u001b[0m\n",
      "\u001b[1;32m~\\anaconda3\\lib\\site-packages\\pandas\\core\\indexing.py\u001b[0m in \u001b[0;36m_has_valid_tuple\u001b[1;34m(self, key)\u001b[0m\n\u001b[0;32m    700\u001b[0m                 \u001b[1;32mraise\u001b[0m \u001b[0mIndexingError\u001b[0m\u001b[1;33m(\u001b[0m\u001b[1;34m\"Too many indexers\"\u001b[0m\u001b[1;33m)\u001b[0m\u001b[1;33m\u001b[0m\u001b[1;33m\u001b[0m\u001b[0m\n\u001b[0;32m    701\u001b[0m             \u001b[1;32mtry\u001b[0m\u001b[1;33m:\u001b[0m\u001b[1;33m\u001b[0m\u001b[1;33m\u001b[0m\u001b[0m\n\u001b[1;32m--> 702\u001b[1;33m                 \u001b[0mself\u001b[0m\u001b[1;33m.\u001b[0m\u001b[0m_validate_key\u001b[0m\u001b[1;33m(\u001b[0m\u001b[0mk\u001b[0m\u001b[1;33m,\u001b[0m \u001b[0mi\u001b[0m\u001b[1;33m)\u001b[0m\u001b[1;33m\u001b[0m\u001b[1;33m\u001b[0m\u001b[0m\n\u001b[0m\u001b[0;32m    703\u001b[0m             \u001b[1;32mexcept\u001b[0m \u001b[0mValueError\u001b[0m \u001b[1;32mas\u001b[0m \u001b[0merr\u001b[0m\u001b[1;33m:\u001b[0m\u001b[1;33m\u001b[0m\u001b[1;33m\u001b[0m\u001b[0m\n\u001b[0;32m    704\u001b[0m                 raise ValueError(\n",
      "\u001b[1;32m~\\anaconda3\\lib\\site-packages\\pandas\\core\\indexing.py\u001b[0m in \u001b[0;36m_validate_key\u001b[1;34m(self, key, axis)\u001b[0m\n\u001b[0;32m   1350\u001b[0m             \u001b[1;32mreturn\u001b[0m\u001b[1;33m\u001b[0m\u001b[1;33m\u001b[0m\u001b[0m\n\u001b[0;32m   1351\u001b[0m         \u001b[1;32melif\u001b[0m \u001b[0mis_integer\u001b[0m\u001b[1;33m(\u001b[0m\u001b[0mkey\u001b[0m\u001b[1;33m)\u001b[0m\u001b[1;33m:\u001b[0m\u001b[1;33m\u001b[0m\u001b[1;33m\u001b[0m\u001b[0m\n\u001b[1;32m-> 1352\u001b[1;33m             \u001b[0mself\u001b[0m\u001b[1;33m.\u001b[0m\u001b[0m_validate_integer\u001b[0m\u001b[1;33m(\u001b[0m\u001b[0mkey\u001b[0m\u001b[1;33m,\u001b[0m \u001b[0maxis\u001b[0m\u001b[1;33m)\u001b[0m\u001b[1;33m\u001b[0m\u001b[1;33m\u001b[0m\u001b[0m\n\u001b[0m\u001b[0;32m   1353\u001b[0m         \u001b[1;32melif\u001b[0m \u001b[0misinstance\u001b[0m\u001b[1;33m(\u001b[0m\u001b[0mkey\u001b[0m\u001b[1;33m,\u001b[0m \u001b[0mtuple\u001b[0m\u001b[1;33m)\u001b[0m\u001b[1;33m:\u001b[0m\u001b[1;33m\u001b[0m\u001b[1;33m\u001b[0m\u001b[0m\n\u001b[0;32m   1354\u001b[0m             \u001b[1;31m# a tuple should already have been caught by this point\u001b[0m\u001b[1;33m\u001b[0m\u001b[1;33m\u001b[0m\u001b[1;33m\u001b[0m\u001b[0m\n",
      "\u001b[1;32m~\\anaconda3\\lib\\site-packages\\pandas\\core\\indexing.py\u001b[0m in \u001b[0;36m_validate_integer\u001b[1;34m(self, key, axis)\u001b[0m\n\u001b[0;32m   1435\u001b[0m         \u001b[0mlen_axis\u001b[0m \u001b[1;33m=\u001b[0m \u001b[0mlen\u001b[0m\u001b[1;33m(\u001b[0m\u001b[0mself\u001b[0m\u001b[1;33m.\u001b[0m\u001b[0mobj\u001b[0m\u001b[1;33m.\u001b[0m\u001b[0m_get_axis\u001b[0m\u001b[1;33m(\u001b[0m\u001b[0maxis\u001b[0m\u001b[1;33m)\u001b[0m\u001b[1;33m)\u001b[0m\u001b[1;33m\u001b[0m\u001b[1;33m\u001b[0m\u001b[0m\n\u001b[0;32m   1436\u001b[0m         \u001b[1;32mif\u001b[0m \u001b[0mkey\u001b[0m \u001b[1;33m>=\u001b[0m \u001b[0mlen_axis\u001b[0m \u001b[1;32mor\u001b[0m \u001b[0mkey\u001b[0m \u001b[1;33m<\u001b[0m \u001b[1;33m-\u001b[0m\u001b[0mlen_axis\u001b[0m\u001b[1;33m:\u001b[0m\u001b[1;33m\u001b[0m\u001b[1;33m\u001b[0m\u001b[0m\n\u001b[1;32m-> 1437\u001b[1;33m             \u001b[1;32mraise\u001b[0m \u001b[0mIndexError\u001b[0m\u001b[1;33m(\u001b[0m\u001b[1;34m\"single positional indexer is out-of-bounds\"\u001b[0m\u001b[1;33m)\u001b[0m\u001b[1;33m\u001b[0m\u001b[1;33m\u001b[0m\u001b[0m\n\u001b[0m\u001b[0;32m   1438\u001b[0m \u001b[1;33m\u001b[0m\u001b[0m\n\u001b[0;32m   1439\u001b[0m     \u001b[1;31m# -------------------------------------------------------------------\u001b[0m\u001b[1;33m\u001b[0m\u001b[1;33m\u001b[0m\u001b[1;33m\u001b[0m\u001b[0m\n",
      "\u001b[1;31mIndexError\u001b[0m: single positional indexer is out-of-bounds"
     ]
    }
   ],
   "source": [
    "df_CAT.iloc[0,6]"
   ]
  },
  {
   "cell_type": "code",
   "execution_count": 129,
   "metadata": {},
   "outputs": [
    {
     "ename": "KeyError",
     "evalue": "0",
     "output_type": "error",
     "traceback": [
      "\u001b[1;31m---------------------------------------------------------------------------\u001b[0m",
      "\u001b[1;31mKeyError\u001b[0m                                  Traceback (most recent call last)",
      "\u001b[1;32m~\\anaconda3\\lib\\site-packages\\pandas\\core\\indexes\\base.py\u001b[0m in \u001b[0;36mget_loc\u001b[1;34m(self, key, method, tolerance)\u001b[0m\n\u001b[0;32m   2894\u001b[0m             \u001b[1;32mtry\u001b[0m\u001b[1;33m:\u001b[0m\u001b[1;33m\u001b[0m\u001b[1;33m\u001b[0m\u001b[0m\n\u001b[1;32m-> 2895\u001b[1;33m                 \u001b[1;32mreturn\u001b[0m \u001b[0mself\u001b[0m\u001b[1;33m.\u001b[0m\u001b[0m_engine\u001b[0m\u001b[1;33m.\u001b[0m\u001b[0mget_loc\u001b[0m\u001b[1;33m(\u001b[0m\u001b[0mcasted_key\u001b[0m\u001b[1;33m)\u001b[0m\u001b[1;33m\u001b[0m\u001b[1;33m\u001b[0m\u001b[0m\n\u001b[0m\u001b[0;32m   2896\u001b[0m             \u001b[1;32mexcept\u001b[0m \u001b[0mKeyError\u001b[0m \u001b[1;32mas\u001b[0m \u001b[0merr\u001b[0m\u001b[1;33m:\u001b[0m\u001b[1;33m\u001b[0m\u001b[1;33m\u001b[0m\u001b[0m\n",
      "\u001b[1;32mpandas\\_libs\\index.pyx\u001b[0m in \u001b[0;36mpandas._libs.index.IndexEngine.get_loc\u001b[1;34m()\u001b[0m\n",
      "\u001b[1;32mpandas\\_libs\\index.pyx\u001b[0m in \u001b[0;36mpandas._libs.index.IndexEngine.get_loc\u001b[1;34m()\u001b[0m\n",
      "\u001b[1;32mpandas\\_libs\\hashtable_class_helper.pxi\u001b[0m in \u001b[0;36mpandas._libs.hashtable.PyObjectHashTable.get_item\u001b[1;34m()\u001b[0m\n",
      "\u001b[1;32mpandas\\_libs\\hashtable_class_helper.pxi\u001b[0m in \u001b[0;36mpandas._libs.hashtable.PyObjectHashTable.get_item\u001b[1;34m()\u001b[0m\n",
      "\u001b[1;31mKeyError\u001b[0m: 0",
      "\nThe above exception was the direct cause of the following exception:\n",
      "\u001b[1;31mKeyError\u001b[0m                                  Traceback (most recent call last)",
      "\u001b[1;32m<ipython-input-129-9f77bb0402a8>\u001b[0m in \u001b[0;36m<module>\u001b[1;34m\u001b[0m\n\u001b[0;32m      1\u001b[0m \u001b[0macum_TOTAL_SIN_IVA\u001b[0m \u001b[1;33m=\u001b[0m \u001b[1;36m0\u001b[0m\u001b[1;33m\u001b[0m\u001b[1;33m\u001b[0m\u001b[0m\n\u001b[0;32m      2\u001b[0m \u001b[1;32mfor\u001b[0m \u001b[0mi\u001b[0m \u001b[1;32min\u001b[0m \u001b[0mrange\u001b[0m \u001b[1;33m(\u001b[0m\u001b[1;36m0\u001b[0m\u001b[1;33m,\u001b[0m \u001b[0mlen\u001b[0m\u001b[1;33m(\u001b[0m\u001b[0mdf_CAT\u001b[0m\u001b[1;33m)\u001b[0m\u001b[1;33m)\u001b[0m\u001b[1;33m:\u001b[0m\u001b[1;33m\u001b[0m\u001b[1;33m\u001b[0m\u001b[0m\n\u001b[1;32m----> 3\u001b[1;33m     \u001b[0macum\u001b[0m \u001b[1;33m=\u001b[0m \u001b[0mdf_CAT\u001b[0m\u001b[1;33m.\u001b[0m\u001b[0mloc\u001b[0m\u001b[1;33m[\u001b[0m\u001b[0mi\u001b[0m\u001b[1;33m,\u001b[0m \u001b[1;34m'%_TOTAL_SIN_IVA'\u001b[0m\u001b[1;33m]\u001b[0m\u001b[1;33m\u001b[0m\u001b[1;33m\u001b[0m\u001b[0m\n\u001b[0m\u001b[0;32m      4\u001b[0m     \u001b[0macum_TOTAL_SIN_IVA\u001b[0m \u001b[1;33m+=\u001b[0m \u001b[0macum\u001b[0m\u001b[1;33m\u001b[0m\u001b[1;33m\u001b[0m\u001b[0m\n\u001b[0;32m      5\u001b[0m     \u001b[1;32mif\u001b[0m \u001b[0macum_TOTAL_SIN_IVA\u001b[0m \u001b[1;33m>\u001b[0m \u001b[1;36m80\u001b[0m\u001b[1;33m:\u001b[0m\u001b[1;33m\u001b[0m\u001b[1;33m\u001b[0m\u001b[0m\n",
      "\u001b[1;32m~\\anaconda3\\lib\\site-packages\\pandas\\core\\indexing.py\u001b[0m in \u001b[0;36m__getitem__\u001b[1;34m(self, key)\u001b[0m\n\u001b[0;32m    871\u001b[0m                     \u001b[1;31m# AttributeError for IntervalTree get_value\u001b[0m\u001b[1;33m\u001b[0m\u001b[1;33m\u001b[0m\u001b[1;33m\u001b[0m\u001b[0m\n\u001b[0;32m    872\u001b[0m                     \u001b[1;32mpass\u001b[0m\u001b[1;33m\u001b[0m\u001b[1;33m\u001b[0m\u001b[0m\n\u001b[1;32m--> 873\u001b[1;33m             \u001b[1;32mreturn\u001b[0m \u001b[0mself\u001b[0m\u001b[1;33m.\u001b[0m\u001b[0m_getitem_tuple\u001b[0m\u001b[1;33m(\u001b[0m\u001b[0mkey\u001b[0m\u001b[1;33m)\u001b[0m\u001b[1;33m\u001b[0m\u001b[1;33m\u001b[0m\u001b[0m\n\u001b[0m\u001b[0;32m    874\u001b[0m         \u001b[1;32melse\u001b[0m\u001b[1;33m:\u001b[0m\u001b[1;33m\u001b[0m\u001b[1;33m\u001b[0m\u001b[0m\n\u001b[0;32m    875\u001b[0m             \u001b[1;31m# we by definition only have the 0th axis\u001b[0m\u001b[1;33m\u001b[0m\u001b[1;33m\u001b[0m\u001b[1;33m\u001b[0m\u001b[0m\n",
      "\u001b[1;32m~\\anaconda3\\lib\\site-packages\\pandas\\core\\indexing.py\u001b[0m in \u001b[0;36m_getitem_tuple\u001b[1;34m(self, tup)\u001b[0m\n\u001b[0;32m   1042\u001b[0m     \u001b[1;32mdef\u001b[0m \u001b[0m_getitem_tuple\u001b[0m\u001b[1;33m(\u001b[0m\u001b[0mself\u001b[0m\u001b[1;33m,\u001b[0m \u001b[0mtup\u001b[0m\u001b[1;33m:\u001b[0m \u001b[0mTuple\u001b[0m\u001b[1;33m)\u001b[0m\u001b[1;33m:\u001b[0m\u001b[1;33m\u001b[0m\u001b[1;33m\u001b[0m\u001b[0m\n\u001b[0;32m   1043\u001b[0m         \u001b[1;32mtry\u001b[0m\u001b[1;33m:\u001b[0m\u001b[1;33m\u001b[0m\u001b[1;33m\u001b[0m\u001b[0m\n\u001b[1;32m-> 1044\u001b[1;33m             \u001b[1;32mreturn\u001b[0m \u001b[0mself\u001b[0m\u001b[1;33m.\u001b[0m\u001b[0m_getitem_lowerdim\u001b[0m\u001b[1;33m(\u001b[0m\u001b[0mtup\u001b[0m\u001b[1;33m)\u001b[0m\u001b[1;33m\u001b[0m\u001b[1;33m\u001b[0m\u001b[0m\n\u001b[0m\u001b[0;32m   1045\u001b[0m         \u001b[1;32mexcept\u001b[0m \u001b[0mIndexingError\u001b[0m\u001b[1;33m:\u001b[0m\u001b[1;33m\u001b[0m\u001b[1;33m\u001b[0m\u001b[0m\n\u001b[0;32m   1046\u001b[0m             \u001b[1;32mpass\u001b[0m\u001b[1;33m\u001b[0m\u001b[1;33m\u001b[0m\u001b[0m\n",
      "\u001b[1;32m~\\anaconda3\\lib\\site-packages\\pandas\\core\\indexing.py\u001b[0m in \u001b[0;36m_getitem_lowerdim\u001b[1;34m(self, tup)\u001b[0m\n\u001b[0;32m    784\u001b[0m                 \u001b[1;31m# We don't need to check for tuples here because those are\u001b[0m\u001b[1;33m\u001b[0m\u001b[1;33m\u001b[0m\u001b[1;33m\u001b[0m\u001b[0m\n\u001b[0;32m    785\u001b[0m                 \u001b[1;31m#  caught by the _is_nested_tuple_indexer check above.\u001b[0m\u001b[1;33m\u001b[0m\u001b[1;33m\u001b[0m\u001b[1;33m\u001b[0m\u001b[0m\n\u001b[1;32m--> 786\u001b[1;33m                 \u001b[0msection\u001b[0m \u001b[1;33m=\u001b[0m \u001b[0mself\u001b[0m\u001b[1;33m.\u001b[0m\u001b[0m_getitem_axis\u001b[0m\u001b[1;33m(\u001b[0m\u001b[0mkey\u001b[0m\u001b[1;33m,\u001b[0m \u001b[0maxis\u001b[0m\u001b[1;33m=\u001b[0m\u001b[0mi\u001b[0m\u001b[1;33m)\u001b[0m\u001b[1;33m\u001b[0m\u001b[1;33m\u001b[0m\u001b[0m\n\u001b[0m\u001b[0;32m    787\u001b[0m \u001b[1;33m\u001b[0m\u001b[0m\n\u001b[0;32m    788\u001b[0m                 \u001b[1;31m# We should never have a scalar section here, because\u001b[0m\u001b[1;33m\u001b[0m\u001b[1;33m\u001b[0m\u001b[1;33m\u001b[0m\u001b[0m\n",
      "\u001b[1;32m~\\anaconda3\\lib\\site-packages\\pandas\\core\\indexing.py\u001b[0m in \u001b[0;36m_getitem_axis\u001b[1;34m(self, key, axis)\u001b[0m\n\u001b[0;32m   1108\u001b[0m         \u001b[1;31m# fall thru to straight lookup\u001b[0m\u001b[1;33m\u001b[0m\u001b[1;33m\u001b[0m\u001b[1;33m\u001b[0m\u001b[0m\n\u001b[0;32m   1109\u001b[0m         \u001b[0mself\u001b[0m\u001b[1;33m.\u001b[0m\u001b[0m_validate_key\u001b[0m\u001b[1;33m(\u001b[0m\u001b[0mkey\u001b[0m\u001b[1;33m,\u001b[0m \u001b[0maxis\u001b[0m\u001b[1;33m)\u001b[0m\u001b[1;33m\u001b[0m\u001b[1;33m\u001b[0m\u001b[0m\n\u001b[1;32m-> 1110\u001b[1;33m         \u001b[1;32mreturn\u001b[0m \u001b[0mself\u001b[0m\u001b[1;33m.\u001b[0m\u001b[0m_get_label\u001b[0m\u001b[1;33m(\u001b[0m\u001b[0mkey\u001b[0m\u001b[1;33m,\u001b[0m \u001b[0maxis\u001b[0m\u001b[1;33m=\u001b[0m\u001b[0maxis\u001b[0m\u001b[1;33m)\u001b[0m\u001b[1;33m\u001b[0m\u001b[1;33m\u001b[0m\u001b[0m\n\u001b[0m\u001b[0;32m   1111\u001b[0m \u001b[1;33m\u001b[0m\u001b[0m\n\u001b[0;32m   1112\u001b[0m     \u001b[1;32mdef\u001b[0m \u001b[0m_get_slice_axis\u001b[0m\u001b[1;33m(\u001b[0m\u001b[0mself\u001b[0m\u001b[1;33m,\u001b[0m \u001b[0mslice_obj\u001b[0m\u001b[1;33m:\u001b[0m \u001b[0mslice\u001b[0m\u001b[1;33m,\u001b[0m \u001b[0maxis\u001b[0m\u001b[1;33m:\u001b[0m \u001b[0mint\u001b[0m\u001b[1;33m)\u001b[0m\u001b[1;33m:\u001b[0m\u001b[1;33m\u001b[0m\u001b[1;33m\u001b[0m\u001b[0m\n",
      "\u001b[1;32m~\\anaconda3\\lib\\site-packages\\pandas\\core\\indexing.py\u001b[0m in \u001b[0;36m_get_label\u001b[1;34m(self, label, axis)\u001b[0m\n\u001b[0;32m   1057\u001b[0m     \u001b[1;32mdef\u001b[0m \u001b[0m_get_label\u001b[0m\u001b[1;33m(\u001b[0m\u001b[0mself\u001b[0m\u001b[1;33m,\u001b[0m \u001b[0mlabel\u001b[0m\u001b[1;33m,\u001b[0m \u001b[0maxis\u001b[0m\u001b[1;33m:\u001b[0m \u001b[0mint\u001b[0m\u001b[1;33m)\u001b[0m\u001b[1;33m:\u001b[0m\u001b[1;33m\u001b[0m\u001b[1;33m\u001b[0m\u001b[0m\n\u001b[0;32m   1058\u001b[0m         \u001b[1;31m# GH#5667 this will fail if the label is not present in the axis.\u001b[0m\u001b[1;33m\u001b[0m\u001b[1;33m\u001b[0m\u001b[1;33m\u001b[0m\u001b[0m\n\u001b[1;32m-> 1059\u001b[1;33m         \u001b[1;32mreturn\u001b[0m \u001b[0mself\u001b[0m\u001b[1;33m.\u001b[0m\u001b[0mobj\u001b[0m\u001b[1;33m.\u001b[0m\u001b[0mxs\u001b[0m\u001b[1;33m(\u001b[0m\u001b[0mlabel\u001b[0m\u001b[1;33m,\u001b[0m \u001b[0maxis\u001b[0m\u001b[1;33m=\u001b[0m\u001b[0maxis\u001b[0m\u001b[1;33m)\u001b[0m\u001b[1;33m\u001b[0m\u001b[1;33m\u001b[0m\u001b[0m\n\u001b[0m\u001b[0;32m   1060\u001b[0m \u001b[1;33m\u001b[0m\u001b[0m\n\u001b[0;32m   1061\u001b[0m     \u001b[1;32mdef\u001b[0m \u001b[0m_handle_lowerdim_multi_index_axis0\u001b[0m\u001b[1;33m(\u001b[0m\u001b[0mself\u001b[0m\u001b[1;33m,\u001b[0m \u001b[0mtup\u001b[0m\u001b[1;33m:\u001b[0m \u001b[0mTuple\u001b[0m\u001b[1;33m)\u001b[0m\u001b[1;33m:\u001b[0m\u001b[1;33m\u001b[0m\u001b[1;33m\u001b[0m\u001b[0m\n",
      "\u001b[1;32m~\\anaconda3\\lib\\site-packages\\pandas\\core\\generic.py\u001b[0m in \u001b[0;36mxs\u001b[1;34m(self, key, axis, level, drop_level)\u001b[0m\n\u001b[0;32m   3489\u001b[0m             \u001b[0mloc\u001b[0m\u001b[1;33m,\u001b[0m \u001b[0mnew_index\u001b[0m \u001b[1;33m=\u001b[0m \u001b[0mself\u001b[0m\u001b[1;33m.\u001b[0m\u001b[0mindex\u001b[0m\u001b[1;33m.\u001b[0m\u001b[0mget_loc_level\u001b[0m\u001b[1;33m(\u001b[0m\u001b[0mkey\u001b[0m\u001b[1;33m,\u001b[0m \u001b[0mdrop_level\u001b[0m\u001b[1;33m=\u001b[0m\u001b[0mdrop_level\u001b[0m\u001b[1;33m)\u001b[0m\u001b[1;33m\u001b[0m\u001b[1;33m\u001b[0m\u001b[0m\n\u001b[0;32m   3490\u001b[0m         \u001b[1;32melse\u001b[0m\u001b[1;33m:\u001b[0m\u001b[1;33m\u001b[0m\u001b[1;33m\u001b[0m\u001b[0m\n\u001b[1;32m-> 3491\u001b[1;33m             \u001b[0mloc\u001b[0m \u001b[1;33m=\u001b[0m \u001b[0mself\u001b[0m\u001b[1;33m.\u001b[0m\u001b[0mindex\u001b[0m\u001b[1;33m.\u001b[0m\u001b[0mget_loc\u001b[0m\u001b[1;33m(\u001b[0m\u001b[0mkey\u001b[0m\u001b[1;33m)\u001b[0m\u001b[1;33m\u001b[0m\u001b[1;33m\u001b[0m\u001b[0m\n\u001b[0m\u001b[0;32m   3492\u001b[0m \u001b[1;33m\u001b[0m\u001b[0m\n\u001b[0;32m   3493\u001b[0m             \u001b[1;32mif\u001b[0m \u001b[0misinstance\u001b[0m\u001b[1;33m(\u001b[0m\u001b[0mloc\u001b[0m\u001b[1;33m,\u001b[0m \u001b[0mnp\u001b[0m\u001b[1;33m.\u001b[0m\u001b[0mndarray\u001b[0m\u001b[1;33m)\u001b[0m\u001b[1;33m:\u001b[0m\u001b[1;33m\u001b[0m\u001b[1;33m\u001b[0m\u001b[0m\n",
      "\u001b[1;32m~\\anaconda3\\lib\\site-packages\\pandas\\core\\indexes\\base.py\u001b[0m in \u001b[0;36mget_loc\u001b[1;34m(self, key, method, tolerance)\u001b[0m\n\u001b[0;32m   2895\u001b[0m                 \u001b[1;32mreturn\u001b[0m \u001b[0mself\u001b[0m\u001b[1;33m.\u001b[0m\u001b[0m_engine\u001b[0m\u001b[1;33m.\u001b[0m\u001b[0mget_loc\u001b[0m\u001b[1;33m(\u001b[0m\u001b[0mcasted_key\u001b[0m\u001b[1;33m)\u001b[0m\u001b[1;33m\u001b[0m\u001b[1;33m\u001b[0m\u001b[0m\n\u001b[0;32m   2896\u001b[0m             \u001b[1;32mexcept\u001b[0m \u001b[0mKeyError\u001b[0m \u001b[1;32mas\u001b[0m \u001b[0merr\u001b[0m\u001b[1;33m:\u001b[0m\u001b[1;33m\u001b[0m\u001b[1;33m\u001b[0m\u001b[0m\n\u001b[1;32m-> 2897\u001b[1;33m                 \u001b[1;32mraise\u001b[0m \u001b[0mKeyError\u001b[0m\u001b[1;33m(\u001b[0m\u001b[0mkey\u001b[0m\u001b[1;33m)\u001b[0m \u001b[1;32mfrom\u001b[0m \u001b[0merr\u001b[0m\u001b[1;33m\u001b[0m\u001b[1;33m\u001b[0m\u001b[0m\n\u001b[0m\u001b[0;32m   2898\u001b[0m \u001b[1;33m\u001b[0m\u001b[0m\n\u001b[0;32m   2899\u001b[0m         \u001b[1;32mif\u001b[0m \u001b[0mtolerance\u001b[0m \u001b[1;32mis\u001b[0m \u001b[1;32mnot\u001b[0m \u001b[1;32mNone\u001b[0m\u001b[1;33m:\u001b[0m\u001b[1;33m\u001b[0m\u001b[1;33m\u001b[0m\u001b[0m\n",
      "\u001b[1;31mKeyError\u001b[0m: 0"
     ]
    }
   ],
   "source": [
    "acum_TOTAL_SIN_IVA = 0\n",
    "for i in range (0, len(df_CAT)):\n",
    "    acum = df_CAT.loc[i, '%_TOTAL_SIN_IVA']\n",
    "    acum_TOTAL_SIN_IVA += acum\n",
    "    if acum_TOTAL_SIN_IVA > 80:\n",
    "        break\n",
    "acum_TOTAL_SIN_IVA\n",
    "#threshold_categoria = (df['TOTAL_SIN_IVA'].value_counts()/len(df)*100 > 5).sum()"
   ]
  },
  {
   "cell_type": "code",
   "execution_count": null,
   "metadata": {},
   "outputs": [],
   "source": [
    "df_CAT.groupby('TOTAL_SIN_IVA').agg(\n",
    "    {\n",
    "    'KMeans_Cluster': 'count',    \n",
    "    'CATEGORÍA':  lambda x: x.value_counts().index[0],\n",
    "    'SUBCATEGORÍA': lambda x: x.value_counts().index[0],\n",
    "    'PROVEEDOR': lambda x: x.value_counts().index[0],\n",
    "    'CANTIDAD_PEDIDA': 'mean',\n",
    "    'CANTIDAD_RECIBIDA': 'mean',\n",
    "    'PRECIO_UNITARIO': 'mean',\n",
    "    'TOTAL_SIN_IVA': 'mean',\n",
    "    })"
   ]
  },
  {
   "cell_type": "code",
   "execution_count": 31,
   "metadata": {},
   "outputs": [
    {
     "data": {
      "application/vnd.plotly.v1+json": {
       "config": {
        "plotlyServerURL": "https://plot.ly"
       },
       "data": [
        {
         "alignmentgroup": "True",
         "hovertemplate": "CATEGORÍA=%{x}<br>TOTAL_SIN_IVA=%{y}<extra></extra>",
         "legendgroup": "",
         "marker": {
          "color": "#636efa",
          "pattern": {
           "shape": ""
          }
         },
         "name": "",
         "offsetgroup": "",
         "orientation": "v",
         "showlegend": false,
         "textposition": "auto",
         "type": "bar",
         "x": [
          "Vigilancia y seguridad industrial",
          "Alimentos y Bebidas",
          "Construcción y Mantenimiento",
          "Dotación y elementos de protección personal",
          "Servicios Profesionales",
          "Químicos y derivados",
          "Almacenamiento y empaques",
          "Vehículos y repuestos",
          "Mercadeo y publicidad",
          "Ingeniería e Investigación",
          "Aseo, Cafetería y Oficina",
          "Tecnología e información",
          "Vigilancia y seguridad",
          "Ferreteria",
          "Logística y transporte",
          "Gestión inmobiliaria",
          "Imprenta y litografía",
          "Manufactura",
          "Eléctricos y Electrónicos",
          "Moda y accesorios",
          "Mobiliario y decoración",
          "Medicina y Salud",
          "Viajes, Eventos y Entretenimiento",
          "Hogar y electrodomésticos",
          "Textiles",
          "Gestión ambiental",
          "Salud y Medicina",
          "Compras Sostenibles",
          "Cuidado personal y Belleza",
          "Generación y distribución de Energía",
          "Deporte y recreación",
          "Minería",
          "Educación y formación empresarial",
          "Servicios Públicos",
          "Agroindustrial",
          "Producción audiovisual"
         ],
         "xaxis": "x",
         "y": [
          4339572224,
          1928684544,
          882860608,
          715481920,
          602906112,
          383131712,
          362158528,
          209335776,
          195689648,
          165708032,
          153989376,
          135508496,
          133923232,
          108569920,
          82825104,
          54662096,
          36668192,
          36657428,
          28938876,
          26076944,
          19926016,
          17878528,
          13508605,
          12514375,
          10535113,
          9553775,
          7524205,
          5245562,
          4682445,
          4606302,
          1552470,
          1453208,
          396000,
          372071,
          250000,
          152000
         ],
         "yaxis": "y"
        }
       ],
       "layout": {
        "barmode": "relative",
        "legend": {
         "tracegroupgap": 0
        },
        "margin": {
         "t": 60
        },
        "template": {
         "data": {
          "bar": [
           {
            "error_x": {
             "color": "#2a3f5f"
            },
            "error_y": {
             "color": "#2a3f5f"
            },
            "marker": {
             "line": {
              "color": "#E5ECF6",
              "width": 0.5
             },
             "pattern": {
              "fillmode": "overlay",
              "size": 10,
              "solidity": 0.2
             }
            },
            "type": "bar"
           }
          ],
          "barpolar": [
           {
            "marker": {
             "line": {
              "color": "#E5ECF6",
              "width": 0.5
             },
             "pattern": {
              "fillmode": "overlay",
              "size": 10,
              "solidity": 0.2
             }
            },
            "type": "barpolar"
           }
          ],
          "carpet": [
           {
            "aaxis": {
             "endlinecolor": "#2a3f5f",
             "gridcolor": "white",
             "linecolor": "white",
             "minorgridcolor": "white",
             "startlinecolor": "#2a3f5f"
            },
            "baxis": {
             "endlinecolor": "#2a3f5f",
             "gridcolor": "white",
             "linecolor": "white",
             "minorgridcolor": "white",
             "startlinecolor": "#2a3f5f"
            },
            "type": "carpet"
           }
          ],
          "choropleth": [
           {
            "colorbar": {
             "outlinewidth": 0,
             "ticks": ""
            },
            "type": "choropleth"
           }
          ],
          "contour": [
           {
            "colorbar": {
             "outlinewidth": 0,
             "ticks": ""
            },
            "colorscale": [
             [
              0,
              "#0d0887"
             ],
             [
              0.1111111111111111,
              "#46039f"
             ],
             [
              0.2222222222222222,
              "#7201a8"
             ],
             [
              0.3333333333333333,
              "#9c179e"
             ],
             [
              0.4444444444444444,
              "#bd3786"
             ],
             [
              0.5555555555555556,
              "#d8576b"
             ],
             [
              0.6666666666666666,
              "#ed7953"
             ],
             [
              0.7777777777777778,
              "#fb9f3a"
             ],
             [
              0.8888888888888888,
              "#fdca26"
             ],
             [
              1,
              "#f0f921"
             ]
            ],
            "type": "contour"
           }
          ],
          "contourcarpet": [
           {
            "colorbar": {
             "outlinewidth": 0,
             "ticks": ""
            },
            "type": "contourcarpet"
           }
          ],
          "heatmap": [
           {
            "colorbar": {
             "outlinewidth": 0,
             "ticks": ""
            },
            "colorscale": [
             [
              0,
              "#0d0887"
             ],
             [
              0.1111111111111111,
              "#46039f"
             ],
             [
              0.2222222222222222,
              "#7201a8"
             ],
             [
              0.3333333333333333,
              "#9c179e"
             ],
             [
              0.4444444444444444,
              "#bd3786"
             ],
             [
              0.5555555555555556,
              "#d8576b"
             ],
             [
              0.6666666666666666,
              "#ed7953"
             ],
             [
              0.7777777777777778,
              "#fb9f3a"
             ],
             [
              0.8888888888888888,
              "#fdca26"
             ],
             [
              1,
              "#f0f921"
             ]
            ],
            "type": "heatmap"
           }
          ],
          "heatmapgl": [
           {
            "colorbar": {
             "outlinewidth": 0,
             "ticks": ""
            },
            "colorscale": [
             [
              0,
              "#0d0887"
             ],
             [
              0.1111111111111111,
              "#46039f"
             ],
             [
              0.2222222222222222,
              "#7201a8"
             ],
             [
              0.3333333333333333,
              "#9c179e"
             ],
             [
              0.4444444444444444,
              "#bd3786"
             ],
             [
              0.5555555555555556,
              "#d8576b"
             ],
             [
              0.6666666666666666,
              "#ed7953"
             ],
             [
              0.7777777777777778,
              "#fb9f3a"
             ],
             [
              0.8888888888888888,
              "#fdca26"
             ],
             [
              1,
              "#f0f921"
             ]
            ],
            "type": "heatmapgl"
           }
          ],
          "histogram": [
           {
            "marker": {
             "pattern": {
              "fillmode": "overlay",
              "size": 10,
              "solidity": 0.2
             }
            },
            "type": "histogram"
           }
          ],
          "histogram2d": [
           {
            "colorbar": {
             "outlinewidth": 0,
             "ticks": ""
            },
            "colorscale": [
             [
              0,
              "#0d0887"
             ],
             [
              0.1111111111111111,
              "#46039f"
             ],
             [
              0.2222222222222222,
              "#7201a8"
             ],
             [
              0.3333333333333333,
              "#9c179e"
             ],
             [
              0.4444444444444444,
              "#bd3786"
             ],
             [
              0.5555555555555556,
              "#d8576b"
             ],
             [
              0.6666666666666666,
              "#ed7953"
             ],
             [
              0.7777777777777778,
              "#fb9f3a"
             ],
             [
              0.8888888888888888,
              "#fdca26"
             ],
             [
              1,
              "#f0f921"
             ]
            ],
            "type": "histogram2d"
           }
          ],
          "histogram2dcontour": [
           {
            "colorbar": {
             "outlinewidth": 0,
             "ticks": ""
            },
            "colorscale": [
             [
              0,
              "#0d0887"
             ],
             [
              0.1111111111111111,
              "#46039f"
             ],
             [
              0.2222222222222222,
              "#7201a8"
             ],
             [
              0.3333333333333333,
              "#9c179e"
             ],
             [
              0.4444444444444444,
              "#bd3786"
             ],
             [
              0.5555555555555556,
              "#d8576b"
             ],
             [
              0.6666666666666666,
              "#ed7953"
             ],
             [
              0.7777777777777778,
              "#fb9f3a"
             ],
             [
              0.8888888888888888,
              "#fdca26"
             ],
             [
              1,
              "#f0f921"
             ]
            ],
            "type": "histogram2dcontour"
           }
          ],
          "mesh3d": [
           {
            "colorbar": {
             "outlinewidth": 0,
             "ticks": ""
            },
            "type": "mesh3d"
           }
          ],
          "parcoords": [
           {
            "line": {
             "colorbar": {
              "outlinewidth": 0,
              "ticks": ""
             }
            },
            "type": "parcoords"
           }
          ],
          "pie": [
           {
            "automargin": true,
            "type": "pie"
           }
          ],
          "scatter": [
           {
            "marker": {
             "colorbar": {
              "outlinewidth": 0,
              "ticks": ""
             }
            },
            "type": "scatter"
           }
          ],
          "scatter3d": [
           {
            "line": {
             "colorbar": {
              "outlinewidth": 0,
              "ticks": ""
             }
            },
            "marker": {
             "colorbar": {
              "outlinewidth": 0,
              "ticks": ""
             }
            },
            "type": "scatter3d"
           }
          ],
          "scattercarpet": [
           {
            "marker": {
             "colorbar": {
              "outlinewidth": 0,
              "ticks": ""
             }
            },
            "type": "scattercarpet"
           }
          ],
          "scattergeo": [
           {
            "marker": {
             "colorbar": {
              "outlinewidth": 0,
              "ticks": ""
             }
            },
            "type": "scattergeo"
           }
          ],
          "scattergl": [
           {
            "marker": {
             "colorbar": {
              "outlinewidth": 0,
              "ticks": ""
             }
            },
            "type": "scattergl"
           }
          ],
          "scattermapbox": [
           {
            "marker": {
             "colorbar": {
              "outlinewidth": 0,
              "ticks": ""
             }
            },
            "type": "scattermapbox"
           }
          ],
          "scatterpolar": [
           {
            "marker": {
             "colorbar": {
              "outlinewidth": 0,
              "ticks": ""
             }
            },
            "type": "scatterpolar"
           }
          ],
          "scatterpolargl": [
           {
            "marker": {
             "colorbar": {
              "outlinewidth": 0,
              "ticks": ""
             }
            },
            "type": "scatterpolargl"
           }
          ],
          "scatterternary": [
           {
            "marker": {
             "colorbar": {
              "outlinewidth": 0,
              "ticks": ""
             }
            },
            "type": "scatterternary"
           }
          ],
          "surface": [
           {
            "colorbar": {
             "outlinewidth": 0,
             "ticks": ""
            },
            "colorscale": [
             [
              0,
              "#0d0887"
             ],
             [
              0.1111111111111111,
              "#46039f"
             ],
             [
              0.2222222222222222,
              "#7201a8"
             ],
             [
              0.3333333333333333,
              "#9c179e"
             ],
             [
              0.4444444444444444,
              "#bd3786"
             ],
             [
              0.5555555555555556,
              "#d8576b"
             ],
             [
              0.6666666666666666,
              "#ed7953"
             ],
             [
              0.7777777777777778,
              "#fb9f3a"
             ],
             [
              0.8888888888888888,
              "#fdca26"
             ],
             [
              1,
              "#f0f921"
             ]
            ],
            "type": "surface"
           }
          ],
          "table": [
           {
            "cells": {
             "fill": {
              "color": "#EBF0F8"
             },
             "line": {
              "color": "white"
             }
            },
            "header": {
             "fill": {
              "color": "#C8D4E3"
             },
             "line": {
              "color": "white"
             }
            },
            "type": "table"
           }
          ]
         },
         "layout": {
          "annotationdefaults": {
           "arrowcolor": "#2a3f5f",
           "arrowhead": 0,
           "arrowwidth": 1
          },
          "autotypenumbers": "strict",
          "coloraxis": {
           "colorbar": {
            "outlinewidth": 0,
            "ticks": ""
           }
          },
          "colorscale": {
           "diverging": [
            [
             0,
             "#8e0152"
            ],
            [
             0.1,
             "#c51b7d"
            ],
            [
             0.2,
             "#de77ae"
            ],
            [
             0.3,
             "#f1b6da"
            ],
            [
             0.4,
             "#fde0ef"
            ],
            [
             0.5,
             "#f7f7f7"
            ],
            [
             0.6,
             "#e6f5d0"
            ],
            [
             0.7,
             "#b8e186"
            ],
            [
             0.8,
             "#7fbc41"
            ],
            [
             0.9,
             "#4d9221"
            ],
            [
             1,
             "#276419"
            ]
           ],
           "sequential": [
            [
             0,
             "#0d0887"
            ],
            [
             0.1111111111111111,
             "#46039f"
            ],
            [
             0.2222222222222222,
             "#7201a8"
            ],
            [
             0.3333333333333333,
             "#9c179e"
            ],
            [
             0.4444444444444444,
             "#bd3786"
            ],
            [
             0.5555555555555556,
             "#d8576b"
            ],
            [
             0.6666666666666666,
             "#ed7953"
            ],
            [
             0.7777777777777778,
             "#fb9f3a"
            ],
            [
             0.8888888888888888,
             "#fdca26"
            ],
            [
             1,
             "#f0f921"
            ]
           ],
           "sequentialminus": [
            [
             0,
             "#0d0887"
            ],
            [
             0.1111111111111111,
             "#46039f"
            ],
            [
             0.2222222222222222,
             "#7201a8"
            ],
            [
             0.3333333333333333,
             "#9c179e"
            ],
            [
             0.4444444444444444,
             "#bd3786"
            ],
            [
             0.5555555555555556,
             "#d8576b"
            ],
            [
             0.6666666666666666,
             "#ed7953"
            ],
            [
             0.7777777777777778,
             "#fb9f3a"
            ],
            [
             0.8888888888888888,
             "#fdca26"
            ],
            [
             1,
             "#f0f921"
            ]
           ]
          },
          "colorway": [
           "#636efa",
           "#EF553B",
           "#00cc96",
           "#ab63fa",
           "#FFA15A",
           "#19d3f3",
           "#FF6692",
           "#B6E880",
           "#FF97FF",
           "#FECB52"
          ],
          "font": {
           "color": "#2a3f5f"
          },
          "geo": {
           "bgcolor": "white",
           "lakecolor": "white",
           "landcolor": "#E5ECF6",
           "showlakes": true,
           "showland": true,
           "subunitcolor": "white"
          },
          "hoverlabel": {
           "align": "left"
          },
          "hovermode": "closest",
          "mapbox": {
           "style": "light"
          },
          "paper_bgcolor": "white",
          "plot_bgcolor": "#E5ECF6",
          "polar": {
           "angularaxis": {
            "gridcolor": "white",
            "linecolor": "white",
            "ticks": ""
           },
           "bgcolor": "#E5ECF6",
           "radialaxis": {
            "gridcolor": "white",
            "linecolor": "white",
            "ticks": ""
           }
          },
          "scene": {
           "xaxis": {
            "backgroundcolor": "#E5ECF6",
            "gridcolor": "white",
            "gridwidth": 2,
            "linecolor": "white",
            "showbackground": true,
            "ticks": "",
            "zerolinecolor": "white"
           },
           "yaxis": {
            "backgroundcolor": "#E5ECF6",
            "gridcolor": "white",
            "gridwidth": 2,
            "linecolor": "white",
            "showbackground": true,
            "ticks": "",
            "zerolinecolor": "white"
           },
           "zaxis": {
            "backgroundcolor": "#E5ECF6",
            "gridcolor": "white",
            "gridwidth": 2,
            "linecolor": "white",
            "showbackground": true,
            "ticks": "",
            "zerolinecolor": "white"
           }
          },
          "shapedefaults": {
           "line": {
            "color": "#2a3f5f"
           }
          },
          "ternary": {
           "aaxis": {
            "gridcolor": "white",
            "linecolor": "white",
            "ticks": ""
           },
           "baxis": {
            "gridcolor": "white",
            "linecolor": "white",
            "ticks": ""
           },
           "bgcolor": "#E5ECF6",
           "caxis": {
            "gridcolor": "white",
            "linecolor": "white",
            "ticks": ""
           }
          },
          "title": {
           "x": 0.05
          },
          "xaxis": {
           "automargin": true,
           "gridcolor": "white",
           "linecolor": "white",
           "ticks": "",
           "title": {
            "standoff": 15
           },
           "zerolinecolor": "white",
           "zerolinewidth": 2
          },
          "yaxis": {
           "automargin": true,
           "gridcolor": "white",
           "linecolor": "white",
           "ticks": "",
           "title": {
            "standoff": 15
           },
           "zerolinecolor": "white",
           "zerolinewidth": 2
          }
         }
        },
        "xaxis": {
         "anchor": "y",
         "domain": [
          0,
          1
         ],
         "title": {
          "text": "CATEGORÍA"
         }
        },
        "yaxis": {
         "anchor": "x",
         "domain": [
          0,
          1
         ],
         "title": {
          "text": "TOTAL_SIN_IVA"
         }
        }
       }
      },
      "text/html": [
       "<div>                            <div id=\"312b299b-0144-46cc-a04a-aa8f12512ee4\" class=\"plotly-graph-div\" style=\"height:525px; width:100%;\"></div>            <script type=\"text/javascript\">                require([\"plotly\"], function(Plotly) {                    window.PLOTLYENV=window.PLOTLYENV || {};                                    if (document.getElementById(\"312b299b-0144-46cc-a04a-aa8f12512ee4\")) {                    Plotly.newPlot(                        \"312b299b-0144-46cc-a04a-aa8f12512ee4\",                        [{\"alignmentgroup\":\"True\",\"hovertemplate\":\"CATEGOR\\u00cdA=%{x}<br>TOTAL_SIN_IVA=%{y}<extra></extra>\",\"legendgroup\":\"\",\"marker\":{\"color\":\"#636efa\",\"pattern\":{\"shape\":\"\"}},\"name\":\"\",\"offsetgroup\":\"\",\"orientation\":\"v\",\"showlegend\":false,\"textposition\":\"auto\",\"type\":\"bar\",\"x\":[\"Vigilancia y seguridad industrial\",\"Alimentos y Bebidas\",\"Construcci\\u00f3n y Mantenimiento\",\"Dotaci\\u00f3n y elementos de protecci\\u00f3n personal\",\"Servicios Profesionales\",\"Qu\\u00edmicos y derivados\",\"Almacenamiento y empaques\",\"Veh\\u00edculos y repuestos\",\"Mercadeo y publicidad\",\"Ingenier\\u00eda e Investigaci\\u00f3n\",\"Aseo, Cafeter\\u00eda y Oficina\",\"Tecnolog\\u00eda e informaci\\u00f3n\",\"Vigilancia y seguridad\",\"Ferreteria\",\"Log\\u00edstica y transporte\",\"Gesti\\u00f3n inmobiliaria\",\"Imprenta y litograf\\u00eda\",\"Manufactura\",\"El\\u00e9ctricos y Electr\\u00f3nicos\",\"Moda y accesorios\",\"Mobiliario y decoraci\\u00f3n\",\"Medicina y Salud\",\"Viajes, Eventos y Entretenimiento\",\"Hogar y electrodom\\u00e9sticos\",\"Textiles\",\"Gesti\\u00f3n ambiental\",\"Salud y Medicina\",\"Compras Sostenibles\",\"Cuidado personal y Belleza\",\"Generaci\\u00f3n y distribuci\\u00f3n de Energ\\u00eda\",\"Deporte y recreaci\\u00f3n\",\"Miner\\u00eda\",\"Educaci\\u00f3n y formaci\\u00f3n empresarial\",\"Servicios P\\u00fablicos\",\"Agroindustrial\",\"Producci\\u00f3n audiovisual\"],\"xaxis\":\"x\",\"y\":[4339572224.0,1928684544.0,882860608.0,715481920.0,602906112.0,383131712.0,362158528.0,209335776.0,195689648.0,165708032.0,153989376.0,135508496.0,133923232.0,108569920.0,82825104.0,54662096.0,36668192.0,36657428.0,28938876.0,26076944.0,19926016.0,17878528.0,13508605.0,12514375.0,10535113.0,9553775.0,7524205.0,5245562.0,4682445.0,4606302.0,1552470.0,1453208.0,396000.0,372071.0,250000.0,152000.0],\"yaxis\":\"y\"}],                        {\"barmode\":\"relative\",\"legend\":{\"tracegroupgap\":0},\"margin\":{\"t\":60},\"template\":{\"data\":{\"bar\":[{\"error_x\":{\"color\":\"#2a3f5f\"},\"error_y\":{\"color\":\"#2a3f5f\"},\"marker\":{\"line\":{\"color\":\"#E5ECF6\",\"width\":0.5},\"pattern\":{\"fillmode\":\"overlay\",\"size\":10,\"solidity\":0.2}},\"type\":\"bar\"}],\"barpolar\":[{\"marker\":{\"line\":{\"color\":\"#E5ECF6\",\"width\":0.5},\"pattern\":{\"fillmode\":\"overlay\",\"size\":10,\"solidity\":0.2}},\"type\":\"barpolar\"}],\"carpet\":[{\"aaxis\":{\"endlinecolor\":\"#2a3f5f\",\"gridcolor\":\"white\",\"linecolor\":\"white\",\"minorgridcolor\":\"white\",\"startlinecolor\":\"#2a3f5f\"},\"baxis\":{\"endlinecolor\":\"#2a3f5f\",\"gridcolor\":\"white\",\"linecolor\":\"white\",\"minorgridcolor\":\"white\",\"startlinecolor\":\"#2a3f5f\"},\"type\":\"carpet\"}],\"choropleth\":[{\"colorbar\":{\"outlinewidth\":0,\"ticks\":\"\"},\"type\":\"choropleth\"}],\"contour\":[{\"colorbar\":{\"outlinewidth\":0,\"ticks\":\"\"},\"colorscale\":[[0.0,\"#0d0887\"],[0.1111111111111111,\"#46039f\"],[0.2222222222222222,\"#7201a8\"],[0.3333333333333333,\"#9c179e\"],[0.4444444444444444,\"#bd3786\"],[0.5555555555555556,\"#d8576b\"],[0.6666666666666666,\"#ed7953\"],[0.7777777777777778,\"#fb9f3a\"],[0.8888888888888888,\"#fdca26\"],[1.0,\"#f0f921\"]],\"type\":\"contour\"}],\"contourcarpet\":[{\"colorbar\":{\"outlinewidth\":0,\"ticks\":\"\"},\"type\":\"contourcarpet\"}],\"heatmap\":[{\"colorbar\":{\"outlinewidth\":0,\"ticks\":\"\"},\"colorscale\":[[0.0,\"#0d0887\"],[0.1111111111111111,\"#46039f\"],[0.2222222222222222,\"#7201a8\"],[0.3333333333333333,\"#9c179e\"],[0.4444444444444444,\"#bd3786\"],[0.5555555555555556,\"#d8576b\"],[0.6666666666666666,\"#ed7953\"],[0.7777777777777778,\"#fb9f3a\"],[0.8888888888888888,\"#fdca26\"],[1.0,\"#f0f921\"]],\"type\":\"heatmap\"}],\"heatmapgl\":[{\"colorbar\":{\"outlinewidth\":0,\"ticks\":\"\"},\"colorscale\":[[0.0,\"#0d0887\"],[0.1111111111111111,\"#46039f\"],[0.2222222222222222,\"#7201a8\"],[0.3333333333333333,\"#9c179e\"],[0.4444444444444444,\"#bd3786\"],[0.5555555555555556,\"#d8576b\"],[0.6666666666666666,\"#ed7953\"],[0.7777777777777778,\"#fb9f3a\"],[0.8888888888888888,\"#fdca26\"],[1.0,\"#f0f921\"]],\"type\":\"heatmapgl\"}],\"histogram\":[{\"marker\":{\"pattern\":{\"fillmode\":\"overlay\",\"size\":10,\"solidity\":0.2}},\"type\":\"histogram\"}],\"histogram2d\":[{\"colorbar\":{\"outlinewidth\":0,\"ticks\":\"\"},\"colorscale\":[[0.0,\"#0d0887\"],[0.1111111111111111,\"#46039f\"],[0.2222222222222222,\"#7201a8\"],[0.3333333333333333,\"#9c179e\"],[0.4444444444444444,\"#bd3786\"],[0.5555555555555556,\"#d8576b\"],[0.6666666666666666,\"#ed7953\"],[0.7777777777777778,\"#fb9f3a\"],[0.8888888888888888,\"#fdca26\"],[1.0,\"#f0f921\"]],\"type\":\"histogram2d\"}],\"histogram2dcontour\":[{\"colorbar\":{\"outlinewidth\":0,\"ticks\":\"\"},\"colorscale\":[[0.0,\"#0d0887\"],[0.1111111111111111,\"#46039f\"],[0.2222222222222222,\"#7201a8\"],[0.3333333333333333,\"#9c179e\"],[0.4444444444444444,\"#bd3786\"],[0.5555555555555556,\"#d8576b\"],[0.6666666666666666,\"#ed7953\"],[0.7777777777777778,\"#fb9f3a\"],[0.8888888888888888,\"#fdca26\"],[1.0,\"#f0f921\"]],\"type\":\"histogram2dcontour\"}],\"mesh3d\":[{\"colorbar\":{\"outlinewidth\":0,\"ticks\":\"\"},\"type\":\"mesh3d\"}],\"parcoords\":[{\"line\":{\"colorbar\":{\"outlinewidth\":0,\"ticks\":\"\"}},\"type\":\"parcoords\"}],\"pie\":[{\"automargin\":true,\"type\":\"pie\"}],\"scatter\":[{\"marker\":{\"colorbar\":{\"outlinewidth\":0,\"ticks\":\"\"}},\"type\":\"scatter\"}],\"scatter3d\":[{\"line\":{\"colorbar\":{\"outlinewidth\":0,\"ticks\":\"\"}},\"marker\":{\"colorbar\":{\"outlinewidth\":0,\"ticks\":\"\"}},\"type\":\"scatter3d\"}],\"scattercarpet\":[{\"marker\":{\"colorbar\":{\"outlinewidth\":0,\"ticks\":\"\"}},\"type\":\"scattercarpet\"}],\"scattergeo\":[{\"marker\":{\"colorbar\":{\"outlinewidth\":0,\"ticks\":\"\"}},\"type\":\"scattergeo\"}],\"scattergl\":[{\"marker\":{\"colorbar\":{\"outlinewidth\":0,\"ticks\":\"\"}},\"type\":\"scattergl\"}],\"scattermapbox\":[{\"marker\":{\"colorbar\":{\"outlinewidth\":0,\"ticks\":\"\"}},\"type\":\"scattermapbox\"}],\"scatterpolar\":[{\"marker\":{\"colorbar\":{\"outlinewidth\":0,\"ticks\":\"\"}},\"type\":\"scatterpolar\"}],\"scatterpolargl\":[{\"marker\":{\"colorbar\":{\"outlinewidth\":0,\"ticks\":\"\"}},\"type\":\"scatterpolargl\"}],\"scatterternary\":[{\"marker\":{\"colorbar\":{\"outlinewidth\":0,\"ticks\":\"\"}},\"type\":\"scatterternary\"}],\"surface\":[{\"colorbar\":{\"outlinewidth\":0,\"ticks\":\"\"},\"colorscale\":[[0.0,\"#0d0887\"],[0.1111111111111111,\"#46039f\"],[0.2222222222222222,\"#7201a8\"],[0.3333333333333333,\"#9c179e\"],[0.4444444444444444,\"#bd3786\"],[0.5555555555555556,\"#d8576b\"],[0.6666666666666666,\"#ed7953\"],[0.7777777777777778,\"#fb9f3a\"],[0.8888888888888888,\"#fdca26\"],[1.0,\"#f0f921\"]],\"type\":\"surface\"}],\"table\":[{\"cells\":{\"fill\":{\"color\":\"#EBF0F8\"},\"line\":{\"color\":\"white\"}},\"header\":{\"fill\":{\"color\":\"#C8D4E3\"},\"line\":{\"color\":\"white\"}},\"type\":\"table\"}]},\"layout\":{\"annotationdefaults\":{\"arrowcolor\":\"#2a3f5f\",\"arrowhead\":0,\"arrowwidth\":1},\"autotypenumbers\":\"strict\",\"coloraxis\":{\"colorbar\":{\"outlinewidth\":0,\"ticks\":\"\"}},\"colorscale\":{\"diverging\":[[0,\"#8e0152\"],[0.1,\"#c51b7d\"],[0.2,\"#de77ae\"],[0.3,\"#f1b6da\"],[0.4,\"#fde0ef\"],[0.5,\"#f7f7f7\"],[0.6,\"#e6f5d0\"],[0.7,\"#b8e186\"],[0.8,\"#7fbc41\"],[0.9,\"#4d9221\"],[1,\"#276419\"]],\"sequential\":[[0.0,\"#0d0887\"],[0.1111111111111111,\"#46039f\"],[0.2222222222222222,\"#7201a8\"],[0.3333333333333333,\"#9c179e\"],[0.4444444444444444,\"#bd3786\"],[0.5555555555555556,\"#d8576b\"],[0.6666666666666666,\"#ed7953\"],[0.7777777777777778,\"#fb9f3a\"],[0.8888888888888888,\"#fdca26\"],[1.0,\"#f0f921\"]],\"sequentialminus\":[[0.0,\"#0d0887\"],[0.1111111111111111,\"#46039f\"],[0.2222222222222222,\"#7201a8\"],[0.3333333333333333,\"#9c179e\"],[0.4444444444444444,\"#bd3786\"],[0.5555555555555556,\"#d8576b\"],[0.6666666666666666,\"#ed7953\"],[0.7777777777777778,\"#fb9f3a\"],[0.8888888888888888,\"#fdca26\"],[1.0,\"#f0f921\"]]},\"colorway\":[\"#636efa\",\"#EF553B\",\"#00cc96\",\"#ab63fa\",\"#FFA15A\",\"#19d3f3\",\"#FF6692\",\"#B6E880\",\"#FF97FF\",\"#FECB52\"],\"font\":{\"color\":\"#2a3f5f\"},\"geo\":{\"bgcolor\":\"white\",\"lakecolor\":\"white\",\"landcolor\":\"#E5ECF6\",\"showlakes\":true,\"showland\":true,\"subunitcolor\":\"white\"},\"hoverlabel\":{\"align\":\"left\"},\"hovermode\":\"closest\",\"mapbox\":{\"style\":\"light\"},\"paper_bgcolor\":\"white\",\"plot_bgcolor\":\"#E5ECF6\",\"polar\":{\"angularaxis\":{\"gridcolor\":\"white\",\"linecolor\":\"white\",\"ticks\":\"\"},\"bgcolor\":\"#E5ECF6\",\"radialaxis\":{\"gridcolor\":\"white\",\"linecolor\":\"white\",\"ticks\":\"\"}},\"scene\":{\"xaxis\":{\"backgroundcolor\":\"#E5ECF6\",\"gridcolor\":\"white\",\"gridwidth\":2,\"linecolor\":\"white\",\"showbackground\":true,\"ticks\":\"\",\"zerolinecolor\":\"white\"},\"yaxis\":{\"backgroundcolor\":\"#E5ECF6\",\"gridcolor\":\"white\",\"gridwidth\":2,\"linecolor\":\"white\",\"showbackground\":true,\"ticks\":\"\",\"zerolinecolor\":\"white\"},\"zaxis\":{\"backgroundcolor\":\"#E5ECF6\",\"gridcolor\":\"white\",\"gridwidth\":2,\"linecolor\":\"white\",\"showbackground\":true,\"ticks\":\"\",\"zerolinecolor\":\"white\"}},\"shapedefaults\":{\"line\":{\"color\":\"#2a3f5f\"}},\"ternary\":{\"aaxis\":{\"gridcolor\":\"white\",\"linecolor\":\"white\",\"ticks\":\"\"},\"baxis\":{\"gridcolor\":\"white\",\"linecolor\":\"white\",\"ticks\":\"\"},\"bgcolor\":\"#E5ECF6\",\"caxis\":{\"gridcolor\":\"white\",\"linecolor\":\"white\",\"ticks\":\"\"}},\"title\":{\"x\":0.05},\"xaxis\":{\"automargin\":true,\"gridcolor\":\"white\",\"linecolor\":\"white\",\"ticks\":\"\",\"title\":{\"standoff\":15},\"zerolinecolor\":\"white\",\"zerolinewidth\":2},\"yaxis\":{\"automargin\":true,\"gridcolor\":\"white\",\"linecolor\":\"white\",\"ticks\":\"\",\"title\":{\"standoff\":15},\"zerolinecolor\":\"white\",\"zerolinewidth\":2}}},\"xaxis\":{\"anchor\":\"y\",\"domain\":[0.0,1.0],\"title\":{\"text\":\"CATEGOR\\u00cdA\"}},\"yaxis\":{\"anchor\":\"x\",\"domain\":[0.0,1.0],\"title\":{\"text\":\"TOTAL_SIN_IVA\"}}},                        {\"responsive\": true}                    ).then(function(){\n",
       "                            \n",
       "var gd = document.getElementById('312b299b-0144-46cc-a04a-aa8f12512ee4');\n",
       "var x = new MutationObserver(function (mutations, observer) {{\n",
       "        var display = window.getComputedStyle(gd).display;\n",
       "        if (!display || display === 'none') {{\n",
       "            console.log([gd, 'removed!']);\n",
       "            Plotly.purge(gd);\n",
       "            observer.disconnect();\n",
       "        }}\n",
       "}});\n",
       "\n",
       "// Listen for the removal of the full notebook cells\n",
       "var notebookContainer = gd.closest('#notebook-container');\n",
       "if (notebookContainer) {{\n",
       "    x.observe(notebookContainer, {childList: true});\n",
       "}}\n",
       "\n",
       "// Listen for the clearing of the current output cell\n",
       "var outputEl = gd.closest('.output');\n",
       "if (outputEl) {{\n",
       "    x.observe(outputEl, {childList: true});\n",
       "}}\n",
       "\n",
       "                        })                };                });            </script>        </div>"
      ]
     },
     "metadata": {},
     "output_type": "display_data"
    }
   ],
   "source": [
    "px.bar(df_CAT, y='TOTAL_SIN_IVA')"
   ]
  },
  {
   "cell_type": "code",
   "execution_count": null,
   "metadata": {},
   "outputs": [],
   "source": []
  },
  {
   "cell_type": "code",
   "execution_count": 32,
   "metadata": {},
   "outputs": [
    {
     "data": {
      "application/vnd.plotly.v1+json": {
       "config": {
        "plotlyServerURL": "https://plot.ly"
       },
       "data": [
        {
         "alignmentgroup": "True",
         "hovertemplate": "CATEGORÍA=%{x}<br>CANTIDAD_PEDIDA=%{y}<extra></extra>",
         "legendgroup": "",
         "marker": {
          "color": "#636efa",
          "pattern": {
           "shape": ""
          }
         },
         "name": "",
         "offsetgroup": "",
         "orientation": "v",
         "showlegend": false,
         "textposition": "auto",
         "type": "bar",
         "x": [
          "Vigilancia y seguridad industrial",
          "Alimentos y Bebidas",
          "Construcción y Mantenimiento",
          "Dotación y elementos de protección personal",
          "Servicios Profesionales",
          "Químicos y derivados",
          "Almacenamiento y empaques",
          "Vehículos y repuestos",
          "Mercadeo y publicidad",
          "Ingeniería e Investigación",
          "Aseo, Cafetería y Oficina",
          "Tecnología e información",
          "Vigilancia y seguridad",
          "Ferreteria",
          "Logística y transporte",
          "Gestión inmobiliaria",
          "Imprenta y litografía",
          "Manufactura",
          "Eléctricos y Electrónicos",
          "Moda y accesorios",
          "Mobiliario y decoración",
          "Medicina y Salud",
          "Viajes, Eventos y Entretenimiento",
          "Hogar y electrodomésticos",
          "Textiles",
          "Gestión ambiental",
          "Salud y Medicina",
          "Compras Sostenibles",
          "Cuidado personal y Belleza",
          "Generación y distribución de Energía",
          "Deporte y recreación",
          "Minería",
          "Educación y formación empresarial",
          "Servicios Públicos",
          "Agroindustrial",
          "Producción audiovisual"
         ],
         "xaxis": "x",
         "y": [
          234476,
          2763255.73,
          2502,
          27001,
          298.5,
          44667.700000000004,
          322955.7,
          17334,
          100534,
          206195,
          437284,
          1567,
          149,
          20672,
          353,
          11,
          104419,
          15020,
          11760,
          1050,
          927,
          30,
          58,
          276,
          3570,
          2912,
          627,
          975,
          66,
          5,
          146,
          7,
          2,
          82682,
          256,
          4
         ],
         "yaxis": "y"
        }
       ],
       "layout": {
        "barmode": "relative",
        "legend": {
         "tracegroupgap": 0
        },
        "margin": {
         "t": 60
        },
        "template": {
         "data": {
          "bar": [
           {
            "error_x": {
             "color": "#2a3f5f"
            },
            "error_y": {
             "color": "#2a3f5f"
            },
            "marker": {
             "line": {
              "color": "#E5ECF6",
              "width": 0.5
             },
             "pattern": {
              "fillmode": "overlay",
              "size": 10,
              "solidity": 0.2
             }
            },
            "type": "bar"
           }
          ],
          "barpolar": [
           {
            "marker": {
             "line": {
              "color": "#E5ECF6",
              "width": 0.5
             },
             "pattern": {
              "fillmode": "overlay",
              "size": 10,
              "solidity": 0.2
             }
            },
            "type": "barpolar"
           }
          ],
          "carpet": [
           {
            "aaxis": {
             "endlinecolor": "#2a3f5f",
             "gridcolor": "white",
             "linecolor": "white",
             "minorgridcolor": "white",
             "startlinecolor": "#2a3f5f"
            },
            "baxis": {
             "endlinecolor": "#2a3f5f",
             "gridcolor": "white",
             "linecolor": "white",
             "minorgridcolor": "white",
             "startlinecolor": "#2a3f5f"
            },
            "type": "carpet"
           }
          ],
          "choropleth": [
           {
            "colorbar": {
             "outlinewidth": 0,
             "ticks": ""
            },
            "type": "choropleth"
           }
          ],
          "contour": [
           {
            "colorbar": {
             "outlinewidth": 0,
             "ticks": ""
            },
            "colorscale": [
             [
              0,
              "#0d0887"
             ],
             [
              0.1111111111111111,
              "#46039f"
             ],
             [
              0.2222222222222222,
              "#7201a8"
             ],
             [
              0.3333333333333333,
              "#9c179e"
             ],
             [
              0.4444444444444444,
              "#bd3786"
             ],
             [
              0.5555555555555556,
              "#d8576b"
             ],
             [
              0.6666666666666666,
              "#ed7953"
             ],
             [
              0.7777777777777778,
              "#fb9f3a"
             ],
             [
              0.8888888888888888,
              "#fdca26"
             ],
             [
              1,
              "#f0f921"
             ]
            ],
            "type": "contour"
           }
          ],
          "contourcarpet": [
           {
            "colorbar": {
             "outlinewidth": 0,
             "ticks": ""
            },
            "type": "contourcarpet"
           }
          ],
          "heatmap": [
           {
            "colorbar": {
             "outlinewidth": 0,
             "ticks": ""
            },
            "colorscale": [
             [
              0,
              "#0d0887"
             ],
             [
              0.1111111111111111,
              "#46039f"
             ],
             [
              0.2222222222222222,
              "#7201a8"
             ],
             [
              0.3333333333333333,
              "#9c179e"
             ],
             [
              0.4444444444444444,
              "#bd3786"
             ],
             [
              0.5555555555555556,
              "#d8576b"
             ],
             [
              0.6666666666666666,
              "#ed7953"
             ],
             [
              0.7777777777777778,
              "#fb9f3a"
             ],
             [
              0.8888888888888888,
              "#fdca26"
             ],
             [
              1,
              "#f0f921"
             ]
            ],
            "type": "heatmap"
           }
          ],
          "heatmapgl": [
           {
            "colorbar": {
             "outlinewidth": 0,
             "ticks": ""
            },
            "colorscale": [
             [
              0,
              "#0d0887"
             ],
             [
              0.1111111111111111,
              "#46039f"
             ],
             [
              0.2222222222222222,
              "#7201a8"
             ],
             [
              0.3333333333333333,
              "#9c179e"
             ],
             [
              0.4444444444444444,
              "#bd3786"
             ],
             [
              0.5555555555555556,
              "#d8576b"
             ],
             [
              0.6666666666666666,
              "#ed7953"
             ],
             [
              0.7777777777777778,
              "#fb9f3a"
             ],
             [
              0.8888888888888888,
              "#fdca26"
             ],
             [
              1,
              "#f0f921"
             ]
            ],
            "type": "heatmapgl"
           }
          ],
          "histogram": [
           {
            "marker": {
             "pattern": {
              "fillmode": "overlay",
              "size": 10,
              "solidity": 0.2
             }
            },
            "type": "histogram"
           }
          ],
          "histogram2d": [
           {
            "colorbar": {
             "outlinewidth": 0,
             "ticks": ""
            },
            "colorscale": [
             [
              0,
              "#0d0887"
             ],
             [
              0.1111111111111111,
              "#46039f"
             ],
             [
              0.2222222222222222,
              "#7201a8"
             ],
             [
              0.3333333333333333,
              "#9c179e"
             ],
             [
              0.4444444444444444,
              "#bd3786"
             ],
             [
              0.5555555555555556,
              "#d8576b"
             ],
             [
              0.6666666666666666,
              "#ed7953"
             ],
             [
              0.7777777777777778,
              "#fb9f3a"
             ],
             [
              0.8888888888888888,
              "#fdca26"
             ],
             [
              1,
              "#f0f921"
             ]
            ],
            "type": "histogram2d"
           }
          ],
          "histogram2dcontour": [
           {
            "colorbar": {
             "outlinewidth": 0,
             "ticks": ""
            },
            "colorscale": [
             [
              0,
              "#0d0887"
             ],
             [
              0.1111111111111111,
              "#46039f"
             ],
             [
              0.2222222222222222,
              "#7201a8"
             ],
             [
              0.3333333333333333,
              "#9c179e"
             ],
             [
              0.4444444444444444,
              "#bd3786"
             ],
             [
              0.5555555555555556,
              "#d8576b"
             ],
             [
              0.6666666666666666,
              "#ed7953"
             ],
             [
              0.7777777777777778,
              "#fb9f3a"
             ],
             [
              0.8888888888888888,
              "#fdca26"
             ],
             [
              1,
              "#f0f921"
             ]
            ],
            "type": "histogram2dcontour"
           }
          ],
          "mesh3d": [
           {
            "colorbar": {
             "outlinewidth": 0,
             "ticks": ""
            },
            "type": "mesh3d"
           }
          ],
          "parcoords": [
           {
            "line": {
             "colorbar": {
              "outlinewidth": 0,
              "ticks": ""
             }
            },
            "type": "parcoords"
           }
          ],
          "pie": [
           {
            "automargin": true,
            "type": "pie"
           }
          ],
          "scatter": [
           {
            "marker": {
             "colorbar": {
              "outlinewidth": 0,
              "ticks": ""
             }
            },
            "type": "scatter"
           }
          ],
          "scatter3d": [
           {
            "line": {
             "colorbar": {
              "outlinewidth": 0,
              "ticks": ""
             }
            },
            "marker": {
             "colorbar": {
              "outlinewidth": 0,
              "ticks": ""
             }
            },
            "type": "scatter3d"
           }
          ],
          "scattercarpet": [
           {
            "marker": {
             "colorbar": {
              "outlinewidth": 0,
              "ticks": ""
             }
            },
            "type": "scattercarpet"
           }
          ],
          "scattergeo": [
           {
            "marker": {
             "colorbar": {
              "outlinewidth": 0,
              "ticks": ""
             }
            },
            "type": "scattergeo"
           }
          ],
          "scattergl": [
           {
            "marker": {
             "colorbar": {
              "outlinewidth": 0,
              "ticks": ""
             }
            },
            "type": "scattergl"
           }
          ],
          "scattermapbox": [
           {
            "marker": {
             "colorbar": {
              "outlinewidth": 0,
              "ticks": ""
             }
            },
            "type": "scattermapbox"
           }
          ],
          "scatterpolar": [
           {
            "marker": {
             "colorbar": {
              "outlinewidth": 0,
              "ticks": ""
             }
            },
            "type": "scatterpolar"
           }
          ],
          "scatterpolargl": [
           {
            "marker": {
             "colorbar": {
              "outlinewidth": 0,
              "ticks": ""
             }
            },
            "type": "scatterpolargl"
           }
          ],
          "scatterternary": [
           {
            "marker": {
             "colorbar": {
              "outlinewidth": 0,
              "ticks": ""
             }
            },
            "type": "scatterternary"
           }
          ],
          "surface": [
           {
            "colorbar": {
             "outlinewidth": 0,
             "ticks": ""
            },
            "colorscale": [
             [
              0,
              "#0d0887"
             ],
             [
              0.1111111111111111,
              "#46039f"
             ],
             [
              0.2222222222222222,
              "#7201a8"
             ],
             [
              0.3333333333333333,
              "#9c179e"
             ],
             [
              0.4444444444444444,
              "#bd3786"
             ],
             [
              0.5555555555555556,
              "#d8576b"
             ],
             [
              0.6666666666666666,
              "#ed7953"
             ],
             [
              0.7777777777777778,
              "#fb9f3a"
             ],
             [
              0.8888888888888888,
              "#fdca26"
             ],
             [
              1,
              "#f0f921"
             ]
            ],
            "type": "surface"
           }
          ],
          "table": [
           {
            "cells": {
             "fill": {
              "color": "#EBF0F8"
             },
             "line": {
              "color": "white"
             }
            },
            "header": {
             "fill": {
              "color": "#C8D4E3"
             },
             "line": {
              "color": "white"
             }
            },
            "type": "table"
           }
          ]
         },
         "layout": {
          "annotationdefaults": {
           "arrowcolor": "#2a3f5f",
           "arrowhead": 0,
           "arrowwidth": 1
          },
          "autotypenumbers": "strict",
          "coloraxis": {
           "colorbar": {
            "outlinewidth": 0,
            "ticks": ""
           }
          },
          "colorscale": {
           "diverging": [
            [
             0,
             "#8e0152"
            ],
            [
             0.1,
             "#c51b7d"
            ],
            [
             0.2,
             "#de77ae"
            ],
            [
             0.3,
             "#f1b6da"
            ],
            [
             0.4,
             "#fde0ef"
            ],
            [
             0.5,
             "#f7f7f7"
            ],
            [
             0.6,
             "#e6f5d0"
            ],
            [
             0.7,
             "#b8e186"
            ],
            [
             0.8,
             "#7fbc41"
            ],
            [
             0.9,
             "#4d9221"
            ],
            [
             1,
             "#276419"
            ]
           ],
           "sequential": [
            [
             0,
             "#0d0887"
            ],
            [
             0.1111111111111111,
             "#46039f"
            ],
            [
             0.2222222222222222,
             "#7201a8"
            ],
            [
             0.3333333333333333,
             "#9c179e"
            ],
            [
             0.4444444444444444,
             "#bd3786"
            ],
            [
             0.5555555555555556,
             "#d8576b"
            ],
            [
             0.6666666666666666,
             "#ed7953"
            ],
            [
             0.7777777777777778,
             "#fb9f3a"
            ],
            [
             0.8888888888888888,
             "#fdca26"
            ],
            [
             1,
             "#f0f921"
            ]
           ],
           "sequentialminus": [
            [
             0,
             "#0d0887"
            ],
            [
             0.1111111111111111,
             "#46039f"
            ],
            [
             0.2222222222222222,
             "#7201a8"
            ],
            [
             0.3333333333333333,
             "#9c179e"
            ],
            [
             0.4444444444444444,
             "#bd3786"
            ],
            [
             0.5555555555555556,
             "#d8576b"
            ],
            [
             0.6666666666666666,
             "#ed7953"
            ],
            [
             0.7777777777777778,
             "#fb9f3a"
            ],
            [
             0.8888888888888888,
             "#fdca26"
            ],
            [
             1,
             "#f0f921"
            ]
           ]
          },
          "colorway": [
           "#636efa",
           "#EF553B",
           "#00cc96",
           "#ab63fa",
           "#FFA15A",
           "#19d3f3",
           "#FF6692",
           "#B6E880",
           "#FF97FF",
           "#FECB52"
          ],
          "font": {
           "color": "#2a3f5f"
          },
          "geo": {
           "bgcolor": "white",
           "lakecolor": "white",
           "landcolor": "#E5ECF6",
           "showlakes": true,
           "showland": true,
           "subunitcolor": "white"
          },
          "hoverlabel": {
           "align": "left"
          },
          "hovermode": "closest",
          "mapbox": {
           "style": "light"
          },
          "paper_bgcolor": "white",
          "plot_bgcolor": "#E5ECF6",
          "polar": {
           "angularaxis": {
            "gridcolor": "white",
            "linecolor": "white",
            "ticks": ""
           },
           "bgcolor": "#E5ECF6",
           "radialaxis": {
            "gridcolor": "white",
            "linecolor": "white",
            "ticks": ""
           }
          },
          "scene": {
           "xaxis": {
            "backgroundcolor": "#E5ECF6",
            "gridcolor": "white",
            "gridwidth": 2,
            "linecolor": "white",
            "showbackground": true,
            "ticks": "",
            "zerolinecolor": "white"
           },
           "yaxis": {
            "backgroundcolor": "#E5ECF6",
            "gridcolor": "white",
            "gridwidth": 2,
            "linecolor": "white",
            "showbackground": true,
            "ticks": "",
            "zerolinecolor": "white"
           },
           "zaxis": {
            "backgroundcolor": "#E5ECF6",
            "gridcolor": "white",
            "gridwidth": 2,
            "linecolor": "white",
            "showbackground": true,
            "ticks": "",
            "zerolinecolor": "white"
           }
          },
          "shapedefaults": {
           "line": {
            "color": "#2a3f5f"
           }
          },
          "ternary": {
           "aaxis": {
            "gridcolor": "white",
            "linecolor": "white",
            "ticks": ""
           },
           "baxis": {
            "gridcolor": "white",
            "linecolor": "white",
            "ticks": ""
           },
           "bgcolor": "#E5ECF6",
           "caxis": {
            "gridcolor": "white",
            "linecolor": "white",
            "ticks": ""
           }
          },
          "title": {
           "x": 0.05
          },
          "xaxis": {
           "automargin": true,
           "gridcolor": "white",
           "linecolor": "white",
           "ticks": "",
           "title": {
            "standoff": 15
           },
           "zerolinecolor": "white",
           "zerolinewidth": 2
          },
          "yaxis": {
           "automargin": true,
           "gridcolor": "white",
           "linecolor": "white",
           "ticks": "",
           "title": {
            "standoff": 15
           },
           "zerolinecolor": "white",
           "zerolinewidth": 2
          }
         }
        },
        "xaxis": {
         "anchor": "y",
         "domain": [
          0,
          1
         ],
         "title": {
          "text": "CATEGORÍA"
         }
        },
        "yaxis": {
         "anchor": "x",
         "domain": [
          0,
          1
         ],
         "title": {
          "text": "CANTIDAD_PEDIDA"
         }
        }
       }
      },
      "text/html": [
       "<div>                            <div id=\"25de02de-0dff-434f-ab57-f43bad8fef67\" class=\"plotly-graph-div\" style=\"height:525px; width:100%;\"></div>            <script type=\"text/javascript\">                require([\"plotly\"], function(Plotly) {                    window.PLOTLYENV=window.PLOTLYENV || {};                                    if (document.getElementById(\"25de02de-0dff-434f-ab57-f43bad8fef67\")) {                    Plotly.newPlot(                        \"25de02de-0dff-434f-ab57-f43bad8fef67\",                        [{\"alignmentgroup\":\"True\",\"hovertemplate\":\"CATEGOR\\u00cdA=%{x}<br>CANTIDAD_PEDIDA=%{y}<extra></extra>\",\"legendgroup\":\"\",\"marker\":{\"color\":\"#636efa\",\"pattern\":{\"shape\":\"\"}},\"name\":\"\",\"offsetgroup\":\"\",\"orientation\":\"v\",\"showlegend\":false,\"textposition\":\"auto\",\"type\":\"bar\",\"x\":[\"Vigilancia y seguridad industrial\",\"Alimentos y Bebidas\",\"Construcci\\u00f3n y Mantenimiento\",\"Dotaci\\u00f3n y elementos de protecci\\u00f3n personal\",\"Servicios Profesionales\",\"Qu\\u00edmicos y derivados\",\"Almacenamiento y empaques\",\"Veh\\u00edculos y repuestos\",\"Mercadeo y publicidad\",\"Ingenier\\u00eda e Investigaci\\u00f3n\",\"Aseo, Cafeter\\u00eda y Oficina\",\"Tecnolog\\u00eda e informaci\\u00f3n\",\"Vigilancia y seguridad\",\"Ferreteria\",\"Log\\u00edstica y transporte\",\"Gesti\\u00f3n inmobiliaria\",\"Imprenta y litograf\\u00eda\",\"Manufactura\",\"El\\u00e9ctricos y Electr\\u00f3nicos\",\"Moda y accesorios\",\"Mobiliario y decoraci\\u00f3n\",\"Medicina y Salud\",\"Viajes, Eventos y Entretenimiento\",\"Hogar y electrodom\\u00e9sticos\",\"Textiles\",\"Gesti\\u00f3n ambiental\",\"Salud y Medicina\",\"Compras Sostenibles\",\"Cuidado personal y Belleza\",\"Generaci\\u00f3n y distribuci\\u00f3n de Energ\\u00eda\",\"Deporte y recreaci\\u00f3n\",\"Miner\\u00eda\",\"Educaci\\u00f3n y formaci\\u00f3n empresarial\",\"Servicios P\\u00fablicos\",\"Agroindustrial\",\"Producci\\u00f3n audiovisual\"],\"xaxis\":\"x\",\"y\":[234476.0,2763255.73,2502.0,27001.0,298.5,44667.700000000004,322955.7,17334.0,100534.0,206195.0,437284.0,1567.0,149.0,20672.0,353.0,11.0,104419.0,15020.0,11760.0,1050.0,927.0,30.0,58.0,276.0,3570.0,2912.0,627.0,975.0,66.0,5.0,146.0,7.0,2.0,82682.0,256.0,4.0],\"yaxis\":\"y\"}],                        {\"barmode\":\"relative\",\"legend\":{\"tracegroupgap\":0},\"margin\":{\"t\":60},\"template\":{\"data\":{\"bar\":[{\"error_x\":{\"color\":\"#2a3f5f\"},\"error_y\":{\"color\":\"#2a3f5f\"},\"marker\":{\"line\":{\"color\":\"#E5ECF6\",\"width\":0.5},\"pattern\":{\"fillmode\":\"overlay\",\"size\":10,\"solidity\":0.2}},\"type\":\"bar\"}],\"barpolar\":[{\"marker\":{\"line\":{\"color\":\"#E5ECF6\",\"width\":0.5},\"pattern\":{\"fillmode\":\"overlay\",\"size\":10,\"solidity\":0.2}},\"type\":\"barpolar\"}],\"carpet\":[{\"aaxis\":{\"endlinecolor\":\"#2a3f5f\",\"gridcolor\":\"white\",\"linecolor\":\"white\",\"minorgridcolor\":\"white\",\"startlinecolor\":\"#2a3f5f\"},\"baxis\":{\"endlinecolor\":\"#2a3f5f\",\"gridcolor\":\"white\",\"linecolor\":\"white\",\"minorgridcolor\":\"white\",\"startlinecolor\":\"#2a3f5f\"},\"type\":\"carpet\"}],\"choropleth\":[{\"colorbar\":{\"outlinewidth\":0,\"ticks\":\"\"},\"type\":\"choropleth\"}],\"contour\":[{\"colorbar\":{\"outlinewidth\":0,\"ticks\":\"\"},\"colorscale\":[[0.0,\"#0d0887\"],[0.1111111111111111,\"#46039f\"],[0.2222222222222222,\"#7201a8\"],[0.3333333333333333,\"#9c179e\"],[0.4444444444444444,\"#bd3786\"],[0.5555555555555556,\"#d8576b\"],[0.6666666666666666,\"#ed7953\"],[0.7777777777777778,\"#fb9f3a\"],[0.8888888888888888,\"#fdca26\"],[1.0,\"#f0f921\"]],\"type\":\"contour\"}],\"contourcarpet\":[{\"colorbar\":{\"outlinewidth\":0,\"ticks\":\"\"},\"type\":\"contourcarpet\"}],\"heatmap\":[{\"colorbar\":{\"outlinewidth\":0,\"ticks\":\"\"},\"colorscale\":[[0.0,\"#0d0887\"],[0.1111111111111111,\"#46039f\"],[0.2222222222222222,\"#7201a8\"],[0.3333333333333333,\"#9c179e\"],[0.4444444444444444,\"#bd3786\"],[0.5555555555555556,\"#d8576b\"],[0.6666666666666666,\"#ed7953\"],[0.7777777777777778,\"#fb9f3a\"],[0.8888888888888888,\"#fdca26\"],[1.0,\"#f0f921\"]],\"type\":\"heatmap\"}],\"heatmapgl\":[{\"colorbar\":{\"outlinewidth\":0,\"ticks\":\"\"},\"colorscale\":[[0.0,\"#0d0887\"],[0.1111111111111111,\"#46039f\"],[0.2222222222222222,\"#7201a8\"],[0.3333333333333333,\"#9c179e\"],[0.4444444444444444,\"#bd3786\"],[0.5555555555555556,\"#d8576b\"],[0.6666666666666666,\"#ed7953\"],[0.7777777777777778,\"#fb9f3a\"],[0.8888888888888888,\"#fdca26\"],[1.0,\"#f0f921\"]],\"type\":\"heatmapgl\"}],\"histogram\":[{\"marker\":{\"pattern\":{\"fillmode\":\"overlay\",\"size\":10,\"solidity\":0.2}},\"type\":\"histogram\"}],\"histogram2d\":[{\"colorbar\":{\"outlinewidth\":0,\"ticks\":\"\"},\"colorscale\":[[0.0,\"#0d0887\"],[0.1111111111111111,\"#46039f\"],[0.2222222222222222,\"#7201a8\"],[0.3333333333333333,\"#9c179e\"],[0.4444444444444444,\"#bd3786\"],[0.5555555555555556,\"#d8576b\"],[0.6666666666666666,\"#ed7953\"],[0.7777777777777778,\"#fb9f3a\"],[0.8888888888888888,\"#fdca26\"],[1.0,\"#f0f921\"]],\"type\":\"histogram2d\"}],\"histogram2dcontour\":[{\"colorbar\":{\"outlinewidth\":0,\"ticks\":\"\"},\"colorscale\":[[0.0,\"#0d0887\"],[0.1111111111111111,\"#46039f\"],[0.2222222222222222,\"#7201a8\"],[0.3333333333333333,\"#9c179e\"],[0.4444444444444444,\"#bd3786\"],[0.5555555555555556,\"#d8576b\"],[0.6666666666666666,\"#ed7953\"],[0.7777777777777778,\"#fb9f3a\"],[0.8888888888888888,\"#fdca26\"],[1.0,\"#f0f921\"]],\"type\":\"histogram2dcontour\"}],\"mesh3d\":[{\"colorbar\":{\"outlinewidth\":0,\"ticks\":\"\"},\"type\":\"mesh3d\"}],\"parcoords\":[{\"line\":{\"colorbar\":{\"outlinewidth\":0,\"ticks\":\"\"}},\"type\":\"parcoords\"}],\"pie\":[{\"automargin\":true,\"type\":\"pie\"}],\"scatter\":[{\"marker\":{\"colorbar\":{\"outlinewidth\":0,\"ticks\":\"\"}},\"type\":\"scatter\"}],\"scatter3d\":[{\"line\":{\"colorbar\":{\"outlinewidth\":0,\"ticks\":\"\"}},\"marker\":{\"colorbar\":{\"outlinewidth\":0,\"ticks\":\"\"}},\"type\":\"scatter3d\"}],\"scattercarpet\":[{\"marker\":{\"colorbar\":{\"outlinewidth\":0,\"ticks\":\"\"}},\"type\":\"scattercarpet\"}],\"scattergeo\":[{\"marker\":{\"colorbar\":{\"outlinewidth\":0,\"ticks\":\"\"}},\"type\":\"scattergeo\"}],\"scattergl\":[{\"marker\":{\"colorbar\":{\"outlinewidth\":0,\"ticks\":\"\"}},\"type\":\"scattergl\"}],\"scattermapbox\":[{\"marker\":{\"colorbar\":{\"outlinewidth\":0,\"ticks\":\"\"}},\"type\":\"scattermapbox\"}],\"scatterpolar\":[{\"marker\":{\"colorbar\":{\"outlinewidth\":0,\"ticks\":\"\"}},\"type\":\"scatterpolar\"}],\"scatterpolargl\":[{\"marker\":{\"colorbar\":{\"outlinewidth\":0,\"ticks\":\"\"}},\"type\":\"scatterpolargl\"}],\"scatterternary\":[{\"marker\":{\"colorbar\":{\"outlinewidth\":0,\"ticks\":\"\"}},\"type\":\"scatterternary\"}],\"surface\":[{\"colorbar\":{\"outlinewidth\":0,\"ticks\":\"\"},\"colorscale\":[[0.0,\"#0d0887\"],[0.1111111111111111,\"#46039f\"],[0.2222222222222222,\"#7201a8\"],[0.3333333333333333,\"#9c179e\"],[0.4444444444444444,\"#bd3786\"],[0.5555555555555556,\"#d8576b\"],[0.6666666666666666,\"#ed7953\"],[0.7777777777777778,\"#fb9f3a\"],[0.8888888888888888,\"#fdca26\"],[1.0,\"#f0f921\"]],\"type\":\"surface\"}],\"table\":[{\"cells\":{\"fill\":{\"color\":\"#EBF0F8\"},\"line\":{\"color\":\"white\"}},\"header\":{\"fill\":{\"color\":\"#C8D4E3\"},\"line\":{\"color\":\"white\"}},\"type\":\"table\"}]},\"layout\":{\"annotationdefaults\":{\"arrowcolor\":\"#2a3f5f\",\"arrowhead\":0,\"arrowwidth\":1},\"autotypenumbers\":\"strict\",\"coloraxis\":{\"colorbar\":{\"outlinewidth\":0,\"ticks\":\"\"}},\"colorscale\":{\"diverging\":[[0,\"#8e0152\"],[0.1,\"#c51b7d\"],[0.2,\"#de77ae\"],[0.3,\"#f1b6da\"],[0.4,\"#fde0ef\"],[0.5,\"#f7f7f7\"],[0.6,\"#e6f5d0\"],[0.7,\"#b8e186\"],[0.8,\"#7fbc41\"],[0.9,\"#4d9221\"],[1,\"#276419\"]],\"sequential\":[[0.0,\"#0d0887\"],[0.1111111111111111,\"#46039f\"],[0.2222222222222222,\"#7201a8\"],[0.3333333333333333,\"#9c179e\"],[0.4444444444444444,\"#bd3786\"],[0.5555555555555556,\"#d8576b\"],[0.6666666666666666,\"#ed7953\"],[0.7777777777777778,\"#fb9f3a\"],[0.8888888888888888,\"#fdca26\"],[1.0,\"#f0f921\"]],\"sequentialminus\":[[0.0,\"#0d0887\"],[0.1111111111111111,\"#46039f\"],[0.2222222222222222,\"#7201a8\"],[0.3333333333333333,\"#9c179e\"],[0.4444444444444444,\"#bd3786\"],[0.5555555555555556,\"#d8576b\"],[0.6666666666666666,\"#ed7953\"],[0.7777777777777778,\"#fb9f3a\"],[0.8888888888888888,\"#fdca26\"],[1.0,\"#f0f921\"]]},\"colorway\":[\"#636efa\",\"#EF553B\",\"#00cc96\",\"#ab63fa\",\"#FFA15A\",\"#19d3f3\",\"#FF6692\",\"#B6E880\",\"#FF97FF\",\"#FECB52\"],\"font\":{\"color\":\"#2a3f5f\"},\"geo\":{\"bgcolor\":\"white\",\"lakecolor\":\"white\",\"landcolor\":\"#E5ECF6\",\"showlakes\":true,\"showland\":true,\"subunitcolor\":\"white\"},\"hoverlabel\":{\"align\":\"left\"},\"hovermode\":\"closest\",\"mapbox\":{\"style\":\"light\"},\"paper_bgcolor\":\"white\",\"plot_bgcolor\":\"#E5ECF6\",\"polar\":{\"angularaxis\":{\"gridcolor\":\"white\",\"linecolor\":\"white\",\"ticks\":\"\"},\"bgcolor\":\"#E5ECF6\",\"radialaxis\":{\"gridcolor\":\"white\",\"linecolor\":\"white\",\"ticks\":\"\"}},\"scene\":{\"xaxis\":{\"backgroundcolor\":\"#E5ECF6\",\"gridcolor\":\"white\",\"gridwidth\":2,\"linecolor\":\"white\",\"showbackground\":true,\"ticks\":\"\",\"zerolinecolor\":\"white\"},\"yaxis\":{\"backgroundcolor\":\"#E5ECF6\",\"gridcolor\":\"white\",\"gridwidth\":2,\"linecolor\":\"white\",\"showbackground\":true,\"ticks\":\"\",\"zerolinecolor\":\"white\"},\"zaxis\":{\"backgroundcolor\":\"#E5ECF6\",\"gridcolor\":\"white\",\"gridwidth\":2,\"linecolor\":\"white\",\"showbackground\":true,\"ticks\":\"\",\"zerolinecolor\":\"white\"}},\"shapedefaults\":{\"line\":{\"color\":\"#2a3f5f\"}},\"ternary\":{\"aaxis\":{\"gridcolor\":\"white\",\"linecolor\":\"white\",\"ticks\":\"\"},\"baxis\":{\"gridcolor\":\"white\",\"linecolor\":\"white\",\"ticks\":\"\"},\"bgcolor\":\"#E5ECF6\",\"caxis\":{\"gridcolor\":\"white\",\"linecolor\":\"white\",\"ticks\":\"\"}},\"title\":{\"x\":0.05},\"xaxis\":{\"automargin\":true,\"gridcolor\":\"white\",\"linecolor\":\"white\",\"ticks\":\"\",\"title\":{\"standoff\":15},\"zerolinecolor\":\"white\",\"zerolinewidth\":2},\"yaxis\":{\"automargin\":true,\"gridcolor\":\"white\",\"linecolor\":\"white\",\"ticks\":\"\",\"title\":{\"standoff\":15},\"zerolinecolor\":\"white\",\"zerolinewidth\":2}}},\"xaxis\":{\"anchor\":\"y\",\"domain\":[0.0,1.0],\"title\":{\"text\":\"CATEGOR\\u00cdA\"}},\"yaxis\":{\"anchor\":\"x\",\"domain\":[0.0,1.0],\"title\":{\"text\":\"CANTIDAD_PEDIDA\"}}},                        {\"responsive\": true}                    ).then(function(){\n",
       "                            \n",
       "var gd = document.getElementById('25de02de-0dff-434f-ab57-f43bad8fef67');\n",
       "var x = new MutationObserver(function (mutations, observer) {{\n",
       "        var display = window.getComputedStyle(gd).display;\n",
       "        if (!display || display === 'none') {{\n",
       "            console.log([gd, 'removed!']);\n",
       "            Plotly.purge(gd);\n",
       "            observer.disconnect();\n",
       "        }}\n",
       "}});\n",
       "\n",
       "// Listen for the removal of the full notebook cells\n",
       "var notebookContainer = gd.closest('#notebook-container');\n",
       "if (notebookContainer) {{\n",
       "    x.observe(notebookContainer, {childList: true});\n",
       "}}\n",
       "\n",
       "// Listen for the clearing of the current output cell\n",
       "var outputEl = gd.closest('.output');\n",
       "if (outputEl) {{\n",
       "    x.observe(outputEl, {childList: true});\n",
       "}}\n",
       "\n",
       "                        })                };                });            </script>        </div>"
      ]
     },
     "metadata": {},
     "output_type": "display_data"
    }
   ],
   "source": [
    "px.bar(df_CAT, y='CANTIDAD_PEDIDA')"
   ]
  },
  {
   "cell_type": "markdown",
   "metadata": {},
   "source": [
    "## Compañía compradora"
   ]
  },
  {
   "cell_type": "code",
   "execution_count": 33,
   "metadata": {},
   "outputs": [
    {
     "data": {
      "text/html": [
       "<div>\n",
       "<style scoped>\n",
       "    .dataframe tbody tr th:only-of-type {\n",
       "        vertical-align: middle;\n",
       "    }\n",
       "\n",
       "    .dataframe tbody tr th {\n",
       "        vertical-align: top;\n",
       "    }\n",
       "\n",
       "    .dataframe thead th {\n",
       "        text-align: right;\n",
       "    }\n",
       "</style>\n",
       "<table border=\"1\" class=\"dataframe\">\n",
       "  <thead>\n",
       "    <tr style=\"text-align: right;\">\n",
       "      <th></th>\n",
       "      <th>CANTIDAD_PEDIDA</th>\n",
       "      <th>CANTIDAD_RECIBIDA</th>\n",
       "      <th>PRECIO_UNITARIO</th>\n",
       "      <th>IVA</th>\n",
       "      <th>TOTAL_SIN_IVA</th>\n",
       "    </tr>\n",
       "    <tr>\n",
       "      <th>COMPAÑÍA_COMPRADORA</th>\n",
       "      <th></th>\n",
       "      <th></th>\n",
       "      <th></th>\n",
       "      <th></th>\n",
       "      <th></th>\n",
       "    </tr>\n",
       "  </thead>\n",
       "  <tbody>\n",
       "    <tr>\n",
       "      <th>Portal comprador 24</th>\n",
       "      <td>231,092.00</td>\n",
       "      <td>231,092.00</td>\n",
       "      <td>217,180,464.00</td>\n",
       "      <td>41,264,144.00</td>\n",
       "      <td>4,293,598,464.00</td>\n",
       "    </tr>\n",
       "    <tr>\n",
       "      <th>Portal comprador 1</th>\n",
       "      <td>432,971.20</td>\n",
       "      <td>414,527.30</td>\n",
       "      <td>1,085,985,536.00</td>\n",
       "      <td>166,869,024.00</td>\n",
       "      <td>2,742,179,328.00</td>\n",
       "    </tr>\n",
       "    <tr>\n",
       "      <th>Portal comprador 2</th>\n",
       "      <td>457,901.23</td>\n",
       "      <td>367,442.26</td>\n",
       "      <td>100,662,184.00</td>\n",
       "      <td>12,458,101.00</td>\n",
       "      <td>1,611,188,352.00</td>\n",
       "    </tr>\n",
       "    <tr>\n",
       "      <th>Portal comprador 6</th>\n",
       "      <td>21,637.00</td>\n",
       "      <td>10,844.00</td>\n",
       "      <td>41,397,468.00</td>\n",
       "      <td>7,806,431.00</td>\n",
       "      <td>555,513,088.00</td>\n",
       "    </tr>\n",
       "    <tr>\n",
       "      <th>Portal comprador 18</th>\n",
       "      <td>56,940.00</td>\n",
       "      <td>53,874.00</td>\n",
       "      <td>1,447,513.00</td>\n",
       "      <td>267,510.00</td>\n",
       "      <td>436,416,352.00</td>\n",
       "    </tr>\n",
       "    <tr>\n",
       "      <th>Portal comprador 29</th>\n",
       "      <td>2,838,287.00</td>\n",
       "      <td>147.00</td>\n",
       "      <td>2,838,362.00</td>\n",
       "      <td>494,922.00</td>\n",
       "      <td>409,359,680.00</td>\n",
       "    </tr>\n",
       "    <tr>\n",
       "      <th>Portal comprador 30</th>\n",
       "      <td>319,852.70</td>\n",
       "      <td>695.00</td>\n",
       "      <td>15,856,626.00</td>\n",
       "      <td>2,926,829.00</td>\n",
       "      <td>210,401,360.00</td>\n",
       "    </tr>\n",
       "    <tr>\n",
       "      <th>Portal comprador 4</th>\n",
       "      <td>4,250.00</td>\n",
       "      <td>3,861.00</td>\n",
       "      <td>76,941,864.00</td>\n",
       "      <td>10,217,062.00</td>\n",
       "      <td>160,436,176.00</td>\n",
       "    </tr>\n",
       "    <tr>\n",
       "      <th>Portal comprador 8</th>\n",
       "      <td>1,307.00</td>\n",
       "      <td>463.00</td>\n",
       "      <td>56,746,584.00</td>\n",
       "      <td>9,124,132.00</td>\n",
       "      <td>102,270,872.00</td>\n",
       "    </tr>\n",
       "    <tr>\n",
       "      <th>Portal comprador 5</th>\n",
       "      <td>35,644.50</td>\n",
       "      <td>24,872.50</td>\n",
       "      <td>8,154,880.00</td>\n",
       "      <td>1,139,341.00</td>\n",
       "      <td>44,941,556.00</td>\n",
       "    </tr>\n",
       "    <tr>\n",
       "      <th>Portal comprador 31</th>\n",
       "      <td>107.00</td>\n",
       "      <td>1.00</td>\n",
       "      <td>13,811,660.00</td>\n",
       "      <td>2,624,216.00</td>\n",
       "      <td>42,950,160.00</td>\n",
       "    </tr>\n",
       "    <tr>\n",
       "      <th>Portal comprador 20</th>\n",
       "      <td>1,187.00</td>\n",
       "      <td>0.00</td>\n",
       "      <td>483,411.00</td>\n",
       "      <td>69,239.00</td>\n",
       "      <td>29,126,856.00</td>\n",
       "    </tr>\n",
       "    <tr>\n",
       "      <th>Portal comprador 28</th>\n",
       "      <td>2.00</td>\n",
       "      <td>0.00</td>\n",
       "      <td>25,836,052.00</td>\n",
       "      <td>624,503.00</td>\n",
       "      <td>25,836,052.00</td>\n",
       "    </tr>\n",
       "    <tr>\n",
       "      <th>Portal comprador 17</th>\n",
       "      <td>2.00</td>\n",
       "      <td>2.00</td>\n",
       "      <td>3,070,000.00</td>\n",
       "      <td>583,300.00</td>\n",
       "      <td>6,140,000.00</td>\n",
       "    </tr>\n",
       "    <tr>\n",
       "      <th>Portal comprador 12</th>\n",
       "      <td>1,515.00</td>\n",
       "      <td>484.00</td>\n",
       "      <td>897,669.00</td>\n",
       "      <td>163,653.00</td>\n",
       "      <td>5,165,571.00</td>\n",
       "    </tr>\n",
       "    <tr>\n",
       "      <th>Portal comprador 21</th>\n",
       "      <td>119.00</td>\n",
       "      <td>105.00</td>\n",
       "      <td>146,000.00</td>\n",
       "      <td>0.00</td>\n",
       "      <td>4,189,000.00</td>\n",
       "    </tr>\n",
       "    <tr>\n",
       "      <th>Portal comprador 7</th>\n",
       "      <td>220.00</td>\n",
       "      <td>185.00</td>\n",
       "      <td>1,324,445.00</td>\n",
       "      <td>104,026.00</td>\n",
       "      <td>2,839,494.00</td>\n",
       "    </tr>\n",
       "    <tr>\n",
       "      <th>Portal comprador 14</th>\n",
       "      <td>2.00</td>\n",
       "      <td>2.00</td>\n",
       "      <td>2,770,206.00</td>\n",
       "      <td>526,340.00</td>\n",
       "      <td>2,770,206.00</td>\n",
       "    </tr>\n",
       "    <tr>\n",
       "      <th>Portal comprador 32</th>\n",
       "      <td>13.00</td>\n",
       "      <td>0.00</td>\n",
       "      <td>1,177,811.00</td>\n",
       "      <td>20,900.00</td>\n",
       "      <td>2,387,811.00</td>\n",
       "    </tr>\n",
       "    <tr>\n",
       "      <th>Portal comprador 27</th>\n",
       "      <td>170.00</td>\n",
       "      <td>26.00</td>\n",
       "      <td>280,227.00</td>\n",
       "      <td>47,255.00</td>\n",
       "      <td>1,342,701.00</td>\n",
       "    </tr>\n",
       "    <tr>\n",
       "      <th>Portal comprador 10</th>\n",
       "      <td>405.00</td>\n",
       "      <td>124.00</td>\n",
       "      <td>471,282.00</td>\n",
       "      <td>66,255.00</td>\n",
       "      <td>1,051,849.00</td>\n",
       "    </tr>\n",
       "    <tr>\n",
       "      <th>Portal comprador 11</th>\n",
       "      <td>223.00</td>\n",
       "      <td>69.00</td>\n",
       "      <td>266,071.00</td>\n",
       "      <td>39,861.00</td>\n",
       "      <td>974,394.00</td>\n",
       "    </tr>\n",
       "    <tr>\n",
       "      <th>Portal comprador 13</th>\n",
       "      <td>141.00</td>\n",
       "      <td>94.00</td>\n",
       "      <td>276,458.00</td>\n",
       "      <td>25,769.00</td>\n",
       "      <td>739,565.00</td>\n",
       "    </tr>\n",
       "    <tr>\n",
       "      <th>Portal comprador 3</th>\n",
       "      <td>7.00</td>\n",
       "      <td>7.00</td>\n",
       "      <td>92,084.00</td>\n",
       "      <td>17,496.00</td>\n",
       "      <td>644,588.00</td>\n",
       "    </tr>\n",
       "    <tr>\n",
       "      <th>Portal comprador 16</th>\n",
       "      <td>1.00</td>\n",
       "      <td>1.00</td>\n",
       "      <td>400,752.00</td>\n",
       "      <td>0.00</td>\n",
       "      <td>400,752.00</td>\n",
       "    </tr>\n",
       "    <tr>\n",
       "      <th>Portal comprador 15</th>\n",
       "      <td>30.00</td>\n",
       "      <td>0.00</td>\n",
       "      <td>12,000.00</td>\n",
       "      <td>0.00</td>\n",
       "      <td>360,000.00</td>\n",
       "    </tr>\n",
       "    <tr>\n",
       "      <th>Portal comprador 26</th>\n",
       "      <td>3.00</td>\n",
       "      <td>3.00</td>\n",
       "      <td>94,000.00</td>\n",
       "      <td>17,860.00</td>\n",
       "      <td>144,585.00</td>\n",
       "    </tr>\n",
       "    <tr>\n",
       "      <th>Portal comprador 25</th>\n",
       "      <td>2.00</td>\n",
       "      <td>0.00</td>\n",
       "      <td>23,456.00</td>\n",
       "      <td>0.00</td>\n",
       "      <td>46,912.00</td>\n",
       "    </tr>\n",
       "    <tr>\n",
       "      <th>Portal comprador 9</th>\n",
       "      <td>1.00</td>\n",
       "      <td>0.00</td>\n",
       "      <td>25,600.00</td>\n",
       "      <td>0.00</td>\n",
       "      <td>25,600.00</td>\n",
       "    </tr>\n",
       "    <tr>\n",
       "      <th>Portal comprador 33</th>\n",
       "      <td>3.00</td>\n",
       "      <td>0.00</td>\n",
       "      <td>8,403.00</td>\n",
       "      <td>1,597.00</td>\n",
       "      <td>25,210.00</td>\n",
       "    </tr>\n",
       "    <tr>\n",
       "      <th>Portal comprador 19</th>\n",
       "      <td>10.00</td>\n",
       "      <td>0.00</td>\n",
       "      <td>2,000.00</td>\n",
       "      <td>0.00</td>\n",
       "      <td>20,000.00</td>\n",
       "    </tr>\n",
       "    <tr>\n",
       "      <th>Portal comprador 22</th>\n",
       "      <td>1.00</td>\n",
       "      <td>0.00</td>\n",
       "      <td>8,418.00</td>\n",
       "      <td>673.00</td>\n",
       "      <td>8,364.00</td>\n",
       "    </tr>\n",
       "    <tr>\n",
       "      <th>Portal comprador 23</th>\n",
       "      <td>1.00</td>\n",
       "      <td>0.00</td>\n",
       "      <td>4,800.00</td>\n",
       "      <td>912.00</td>\n",
       "      <td>4,627.00</td>\n",
       "    </tr>\n",
       "  </tbody>\n",
       "</table>\n",
       "</div>"
      ],
      "text/plain": [
       "                         CANTIDAD_PEDIDA    CANTIDAD_RECIBIDA  \\\n",
       "COMPAÑÍA_COMPRADORA                                             \n",
       "Portal comprador 24           231,092.00           231,092.00   \n",
       "Portal comprador 1            432,971.20           414,527.30   \n",
       "Portal comprador 2            457,901.23           367,442.26   \n",
       "Portal comprador 6             21,637.00            10,844.00   \n",
       "Portal comprador 18            56,940.00            53,874.00   \n",
       "Portal comprador 29         2,838,287.00               147.00   \n",
       "Portal comprador 30           319,852.70               695.00   \n",
       "Portal comprador 4              4,250.00             3,861.00   \n",
       "Portal comprador 8              1,307.00               463.00   \n",
       "Portal comprador 5             35,644.50            24,872.50   \n",
       "Portal comprador 31               107.00                 1.00   \n",
       "Portal comprador 20             1,187.00                 0.00   \n",
       "Portal comprador 28                 2.00                 0.00   \n",
       "Portal comprador 17                 2.00                 2.00   \n",
       "Portal comprador 12             1,515.00               484.00   \n",
       "Portal comprador 21               119.00               105.00   \n",
       "Portal comprador 7                220.00               185.00   \n",
       "Portal comprador 14                 2.00                 2.00   \n",
       "Portal comprador 32                13.00                 0.00   \n",
       "Portal comprador 27               170.00                26.00   \n",
       "Portal comprador 10               405.00               124.00   \n",
       "Portal comprador 11               223.00                69.00   \n",
       "Portal comprador 13               141.00                94.00   \n",
       "Portal comprador 3                  7.00                 7.00   \n",
       "Portal comprador 16                 1.00                 1.00   \n",
       "Portal comprador 15                30.00                 0.00   \n",
       "Portal comprador 26                 3.00                 3.00   \n",
       "Portal comprador 25                 2.00                 0.00   \n",
       "Portal comprador 9                  1.00                 0.00   \n",
       "Portal comprador 33                 3.00                 0.00   \n",
       "Portal comprador 19                10.00                 0.00   \n",
       "Portal comprador 22                 1.00                 0.00   \n",
       "Portal comprador 23                 1.00                 0.00   \n",
       "\n",
       "                         PRECIO_UNITARIO                  IVA  \\\n",
       "COMPAÑÍA_COMPRADORA                                             \n",
       "Portal comprador 24       217,180,464.00        41,264,144.00   \n",
       "Portal comprador 1      1,085,985,536.00       166,869,024.00   \n",
       "Portal comprador 2        100,662,184.00        12,458,101.00   \n",
       "Portal comprador 6         41,397,468.00         7,806,431.00   \n",
       "Portal comprador 18         1,447,513.00           267,510.00   \n",
       "Portal comprador 29         2,838,362.00           494,922.00   \n",
       "Portal comprador 30        15,856,626.00         2,926,829.00   \n",
       "Portal comprador 4         76,941,864.00        10,217,062.00   \n",
       "Portal comprador 8         56,746,584.00         9,124,132.00   \n",
       "Portal comprador 5          8,154,880.00         1,139,341.00   \n",
       "Portal comprador 31        13,811,660.00         2,624,216.00   \n",
       "Portal comprador 20           483,411.00            69,239.00   \n",
       "Portal comprador 28        25,836,052.00           624,503.00   \n",
       "Portal comprador 17         3,070,000.00           583,300.00   \n",
       "Portal comprador 12           897,669.00           163,653.00   \n",
       "Portal comprador 21           146,000.00                 0.00   \n",
       "Portal comprador 7          1,324,445.00           104,026.00   \n",
       "Portal comprador 14         2,770,206.00           526,340.00   \n",
       "Portal comprador 32         1,177,811.00            20,900.00   \n",
       "Portal comprador 27           280,227.00            47,255.00   \n",
       "Portal comprador 10           471,282.00            66,255.00   \n",
       "Portal comprador 11           266,071.00            39,861.00   \n",
       "Portal comprador 13           276,458.00            25,769.00   \n",
       "Portal comprador 3             92,084.00            17,496.00   \n",
       "Portal comprador 16           400,752.00                 0.00   \n",
       "Portal comprador 15            12,000.00                 0.00   \n",
       "Portal comprador 26            94,000.00            17,860.00   \n",
       "Portal comprador 25            23,456.00                 0.00   \n",
       "Portal comprador 9             25,600.00                 0.00   \n",
       "Portal comprador 33             8,403.00             1,597.00   \n",
       "Portal comprador 19             2,000.00                 0.00   \n",
       "Portal comprador 22             8,418.00               673.00   \n",
       "Portal comprador 23             4,800.00               912.00   \n",
       "\n",
       "                           TOTAL_SIN_IVA  \n",
       "COMPAÑÍA_COMPRADORA                       \n",
       "Portal comprador 24     4,293,598,464.00  \n",
       "Portal comprador 1      2,742,179,328.00  \n",
       "Portal comprador 2      1,611,188,352.00  \n",
       "Portal comprador 6        555,513,088.00  \n",
       "Portal comprador 18       436,416,352.00  \n",
       "Portal comprador 29       409,359,680.00  \n",
       "Portal comprador 30       210,401,360.00  \n",
       "Portal comprador 4        160,436,176.00  \n",
       "Portal comprador 8        102,270,872.00  \n",
       "Portal comprador 5         44,941,556.00  \n",
       "Portal comprador 31        42,950,160.00  \n",
       "Portal comprador 20        29,126,856.00  \n",
       "Portal comprador 28        25,836,052.00  \n",
       "Portal comprador 17         6,140,000.00  \n",
       "Portal comprador 12         5,165,571.00  \n",
       "Portal comprador 21         4,189,000.00  \n",
       "Portal comprador 7          2,839,494.00  \n",
       "Portal comprador 14         2,770,206.00  \n",
       "Portal comprador 32         2,387,811.00  \n",
       "Portal comprador 27         1,342,701.00  \n",
       "Portal comprador 10         1,051,849.00  \n",
       "Portal comprador 11           974,394.00  \n",
       "Portal comprador 13           739,565.00  \n",
       "Portal comprador 3            644,588.00  \n",
       "Portal comprador 16           400,752.00  \n",
       "Portal comprador 15           360,000.00  \n",
       "Portal comprador 26           144,585.00  \n",
       "Portal comprador 25            46,912.00  \n",
       "Portal comprador 9             25,600.00  \n",
       "Portal comprador 33            25,210.00  \n",
       "Portal comprador 19            20,000.00  \n",
       "Portal comprador 22             8,364.00  \n",
       "Portal comprador 23             4,627.00  "
      ]
     },
     "execution_count": 33,
     "metadata": {},
     "output_type": "execute_result"
    }
   ],
   "source": [
    "df_Comp = df.groupby('COMPAÑÍA_COMPRADORA').sum()\n",
    "df_Comp.sort_values(by='TOTAL_SIN_IVA', inplace=True, ascending=False)\n",
    "df_Comp"
   ]
  },
  {
   "cell_type": "code",
   "execution_count": 34,
   "metadata": {},
   "outputs": [
    {
     "data": {
      "application/vnd.plotly.v1+json": {
       "config": {
        "plotlyServerURL": "https://plot.ly"
       },
       "data": [
        {
         "alignmentgroup": "True",
         "hovertemplate": "COMPAÑÍA_COMPRADORA=%{x}<br>TOTAL_SIN_IVA=%{y}<extra></extra>",
         "legendgroup": "",
         "marker": {
          "color": "#636efa",
          "pattern": {
           "shape": ""
          }
         },
         "name": "",
         "offsetgroup": "",
         "orientation": "v",
         "showlegend": false,
         "textposition": "auto",
         "type": "bar",
         "x": [
          "Portal comprador 24",
          "Portal comprador 1",
          "Portal comprador 2",
          "Portal comprador 6",
          "Portal comprador 18",
          "Portal comprador 29",
          "Portal comprador 30",
          "Portal comprador 4",
          "Portal comprador 8",
          "Portal comprador 5",
          "Portal comprador 31",
          "Portal comprador 20",
          "Portal comprador 28",
          "Portal comprador 17",
          "Portal comprador 12",
          "Portal comprador 21",
          "Portal comprador 7",
          "Portal comprador 14",
          "Portal comprador 32",
          "Portal comprador 27",
          "Portal comprador 10",
          "Portal comprador 11",
          "Portal comprador 13",
          "Portal comprador 3",
          "Portal comprador 16",
          "Portal comprador 15",
          "Portal comprador 26",
          "Portal comprador 25",
          "Portal comprador 9",
          "Portal comprador 33",
          "Portal comprador 19",
          "Portal comprador 22",
          "Portal comprador 23"
         ],
         "xaxis": "x",
         "y": [
          4293598464,
          2742179328,
          1611188352,
          555513088,
          436416352,
          409359680,
          210401360,
          160436176,
          102270872,
          44941556,
          42950160,
          29126856,
          25836052,
          6140000,
          5165571,
          4189000,
          2839494,
          2770206,
          2387811,
          1342701,
          1051849,
          974394,
          739565,
          644588,
          400752,
          360000,
          144585,
          46912,
          25600,
          25210,
          20000,
          8364,
          4627
         ],
         "yaxis": "y"
        }
       ],
       "layout": {
        "barmode": "relative",
        "legend": {
         "tracegroupgap": 0
        },
        "margin": {
         "t": 60
        },
        "template": {
         "data": {
          "bar": [
           {
            "error_x": {
             "color": "#2a3f5f"
            },
            "error_y": {
             "color": "#2a3f5f"
            },
            "marker": {
             "line": {
              "color": "#E5ECF6",
              "width": 0.5
             },
             "pattern": {
              "fillmode": "overlay",
              "size": 10,
              "solidity": 0.2
             }
            },
            "type": "bar"
           }
          ],
          "barpolar": [
           {
            "marker": {
             "line": {
              "color": "#E5ECF6",
              "width": 0.5
             },
             "pattern": {
              "fillmode": "overlay",
              "size": 10,
              "solidity": 0.2
             }
            },
            "type": "barpolar"
           }
          ],
          "carpet": [
           {
            "aaxis": {
             "endlinecolor": "#2a3f5f",
             "gridcolor": "white",
             "linecolor": "white",
             "minorgridcolor": "white",
             "startlinecolor": "#2a3f5f"
            },
            "baxis": {
             "endlinecolor": "#2a3f5f",
             "gridcolor": "white",
             "linecolor": "white",
             "minorgridcolor": "white",
             "startlinecolor": "#2a3f5f"
            },
            "type": "carpet"
           }
          ],
          "choropleth": [
           {
            "colorbar": {
             "outlinewidth": 0,
             "ticks": ""
            },
            "type": "choropleth"
           }
          ],
          "contour": [
           {
            "colorbar": {
             "outlinewidth": 0,
             "ticks": ""
            },
            "colorscale": [
             [
              0,
              "#0d0887"
             ],
             [
              0.1111111111111111,
              "#46039f"
             ],
             [
              0.2222222222222222,
              "#7201a8"
             ],
             [
              0.3333333333333333,
              "#9c179e"
             ],
             [
              0.4444444444444444,
              "#bd3786"
             ],
             [
              0.5555555555555556,
              "#d8576b"
             ],
             [
              0.6666666666666666,
              "#ed7953"
             ],
             [
              0.7777777777777778,
              "#fb9f3a"
             ],
             [
              0.8888888888888888,
              "#fdca26"
             ],
             [
              1,
              "#f0f921"
             ]
            ],
            "type": "contour"
           }
          ],
          "contourcarpet": [
           {
            "colorbar": {
             "outlinewidth": 0,
             "ticks": ""
            },
            "type": "contourcarpet"
           }
          ],
          "heatmap": [
           {
            "colorbar": {
             "outlinewidth": 0,
             "ticks": ""
            },
            "colorscale": [
             [
              0,
              "#0d0887"
             ],
             [
              0.1111111111111111,
              "#46039f"
             ],
             [
              0.2222222222222222,
              "#7201a8"
             ],
             [
              0.3333333333333333,
              "#9c179e"
             ],
             [
              0.4444444444444444,
              "#bd3786"
             ],
             [
              0.5555555555555556,
              "#d8576b"
             ],
             [
              0.6666666666666666,
              "#ed7953"
             ],
             [
              0.7777777777777778,
              "#fb9f3a"
             ],
             [
              0.8888888888888888,
              "#fdca26"
             ],
             [
              1,
              "#f0f921"
             ]
            ],
            "type": "heatmap"
           }
          ],
          "heatmapgl": [
           {
            "colorbar": {
             "outlinewidth": 0,
             "ticks": ""
            },
            "colorscale": [
             [
              0,
              "#0d0887"
             ],
             [
              0.1111111111111111,
              "#46039f"
             ],
             [
              0.2222222222222222,
              "#7201a8"
             ],
             [
              0.3333333333333333,
              "#9c179e"
             ],
             [
              0.4444444444444444,
              "#bd3786"
             ],
             [
              0.5555555555555556,
              "#d8576b"
             ],
             [
              0.6666666666666666,
              "#ed7953"
             ],
             [
              0.7777777777777778,
              "#fb9f3a"
             ],
             [
              0.8888888888888888,
              "#fdca26"
             ],
             [
              1,
              "#f0f921"
             ]
            ],
            "type": "heatmapgl"
           }
          ],
          "histogram": [
           {
            "marker": {
             "pattern": {
              "fillmode": "overlay",
              "size": 10,
              "solidity": 0.2
             }
            },
            "type": "histogram"
           }
          ],
          "histogram2d": [
           {
            "colorbar": {
             "outlinewidth": 0,
             "ticks": ""
            },
            "colorscale": [
             [
              0,
              "#0d0887"
             ],
             [
              0.1111111111111111,
              "#46039f"
             ],
             [
              0.2222222222222222,
              "#7201a8"
             ],
             [
              0.3333333333333333,
              "#9c179e"
             ],
             [
              0.4444444444444444,
              "#bd3786"
             ],
             [
              0.5555555555555556,
              "#d8576b"
             ],
             [
              0.6666666666666666,
              "#ed7953"
             ],
             [
              0.7777777777777778,
              "#fb9f3a"
             ],
             [
              0.8888888888888888,
              "#fdca26"
             ],
             [
              1,
              "#f0f921"
             ]
            ],
            "type": "histogram2d"
           }
          ],
          "histogram2dcontour": [
           {
            "colorbar": {
             "outlinewidth": 0,
             "ticks": ""
            },
            "colorscale": [
             [
              0,
              "#0d0887"
             ],
             [
              0.1111111111111111,
              "#46039f"
             ],
             [
              0.2222222222222222,
              "#7201a8"
             ],
             [
              0.3333333333333333,
              "#9c179e"
             ],
             [
              0.4444444444444444,
              "#bd3786"
             ],
             [
              0.5555555555555556,
              "#d8576b"
             ],
             [
              0.6666666666666666,
              "#ed7953"
             ],
             [
              0.7777777777777778,
              "#fb9f3a"
             ],
             [
              0.8888888888888888,
              "#fdca26"
             ],
             [
              1,
              "#f0f921"
             ]
            ],
            "type": "histogram2dcontour"
           }
          ],
          "mesh3d": [
           {
            "colorbar": {
             "outlinewidth": 0,
             "ticks": ""
            },
            "type": "mesh3d"
           }
          ],
          "parcoords": [
           {
            "line": {
             "colorbar": {
              "outlinewidth": 0,
              "ticks": ""
             }
            },
            "type": "parcoords"
           }
          ],
          "pie": [
           {
            "automargin": true,
            "type": "pie"
           }
          ],
          "scatter": [
           {
            "marker": {
             "colorbar": {
              "outlinewidth": 0,
              "ticks": ""
             }
            },
            "type": "scatter"
           }
          ],
          "scatter3d": [
           {
            "line": {
             "colorbar": {
              "outlinewidth": 0,
              "ticks": ""
             }
            },
            "marker": {
             "colorbar": {
              "outlinewidth": 0,
              "ticks": ""
             }
            },
            "type": "scatter3d"
           }
          ],
          "scattercarpet": [
           {
            "marker": {
             "colorbar": {
              "outlinewidth": 0,
              "ticks": ""
             }
            },
            "type": "scattercarpet"
           }
          ],
          "scattergeo": [
           {
            "marker": {
             "colorbar": {
              "outlinewidth": 0,
              "ticks": ""
             }
            },
            "type": "scattergeo"
           }
          ],
          "scattergl": [
           {
            "marker": {
             "colorbar": {
              "outlinewidth": 0,
              "ticks": ""
             }
            },
            "type": "scattergl"
           }
          ],
          "scattermapbox": [
           {
            "marker": {
             "colorbar": {
              "outlinewidth": 0,
              "ticks": ""
             }
            },
            "type": "scattermapbox"
           }
          ],
          "scatterpolar": [
           {
            "marker": {
             "colorbar": {
              "outlinewidth": 0,
              "ticks": ""
             }
            },
            "type": "scatterpolar"
           }
          ],
          "scatterpolargl": [
           {
            "marker": {
             "colorbar": {
              "outlinewidth": 0,
              "ticks": ""
             }
            },
            "type": "scatterpolargl"
           }
          ],
          "scatterternary": [
           {
            "marker": {
             "colorbar": {
              "outlinewidth": 0,
              "ticks": ""
             }
            },
            "type": "scatterternary"
           }
          ],
          "surface": [
           {
            "colorbar": {
             "outlinewidth": 0,
             "ticks": ""
            },
            "colorscale": [
             [
              0,
              "#0d0887"
             ],
             [
              0.1111111111111111,
              "#46039f"
             ],
             [
              0.2222222222222222,
              "#7201a8"
             ],
             [
              0.3333333333333333,
              "#9c179e"
             ],
             [
              0.4444444444444444,
              "#bd3786"
             ],
             [
              0.5555555555555556,
              "#d8576b"
             ],
             [
              0.6666666666666666,
              "#ed7953"
             ],
             [
              0.7777777777777778,
              "#fb9f3a"
             ],
             [
              0.8888888888888888,
              "#fdca26"
             ],
             [
              1,
              "#f0f921"
             ]
            ],
            "type": "surface"
           }
          ],
          "table": [
           {
            "cells": {
             "fill": {
              "color": "#EBF0F8"
             },
             "line": {
              "color": "white"
             }
            },
            "header": {
             "fill": {
              "color": "#C8D4E3"
             },
             "line": {
              "color": "white"
             }
            },
            "type": "table"
           }
          ]
         },
         "layout": {
          "annotationdefaults": {
           "arrowcolor": "#2a3f5f",
           "arrowhead": 0,
           "arrowwidth": 1
          },
          "autotypenumbers": "strict",
          "coloraxis": {
           "colorbar": {
            "outlinewidth": 0,
            "ticks": ""
           }
          },
          "colorscale": {
           "diverging": [
            [
             0,
             "#8e0152"
            ],
            [
             0.1,
             "#c51b7d"
            ],
            [
             0.2,
             "#de77ae"
            ],
            [
             0.3,
             "#f1b6da"
            ],
            [
             0.4,
             "#fde0ef"
            ],
            [
             0.5,
             "#f7f7f7"
            ],
            [
             0.6,
             "#e6f5d0"
            ],
            [
             0.7,
             "#b8e186"
            ],
            [
             0.8,
             "#7fbc41"
            ],
            [
             0.9,
             "#4d9221"
            ],
            [
             1,
             "#276419"
            ]
           ],
           "sequential": [
            [
             0,
             "#0d0887"
            ],
            [
             0.1111111111111111,
             "#46039f"
            ],
            [
             0.2222222222222222,
             "#7201a8"
            ],
            [
             0.3333333333333333,
             "#9c179e"
            ],
            [
             0.4444444444444444,
             "#bd3786"
            ],
            [
             0.5555555555555556,
             "#d8576b"
            ],
            [
             0.6666666666666666,
             "#ed7953"
            ],
            [
             0.7777777777777778,
             "#fb9f3a"
            ],
            [
             0.8888888888888888,
             "#fdca26"
            ],
            [
             1,
             "#f0f921"
            ]
           ],
           "sequentialminus": [
            [
             0,
             "#0d0887"
            ],
            [
             0.1111111111111111,
             "#46039f"
            ],
            [
             0.2222222222222222,
             "#7201a8"
            ],
            [
             0.3333333333333333,
             "#9c179e"
            ],
            [
             0.4444444444444444,
             "#bd3786"
            ],
            [
             0.5555555555555556,
             "#d8576b"
            ],
            [
             0.6666666666666666,
             "#ed7953"
            ],
            [
             0.7777777777777778,
             "#fb9f3a"
            ],
            [
             0.8888888888888888,
             "#fdca26"
            ],
            [
             1,
             "#f0f921"
            ]
           ]
          },
          "colorway": [
           "#636efa",
           "#EF553B",
           "#00cc96",
           "#ab63fa",
           "#FFA15A",
           "#19d3f3",
           "#FF6692",
           "#B6E880",
           "#FF97FF",
           "#FECB52"
          ],
          "font": {
           "color": "#2a3f5f"
          },
          "geo": {
           "bgcolor": "white",
           "lakecolor": "white",
           "landcolor": "#E5ECF6",
           "showlakes": true,
           "showland": true,
           "subunitcolor": "white"
          },
          "hoverlabel": {
           "align": "left"
          },
          "hovermode": "closest",
          "mapbox": {
           "style": "light"
          },
          "paper_bgcolor": "white",
          "plot_bgcolor": "#E5ECF6",
          "polar": {
           "angularaxis": {
            "gridcolor": "white",
            "linecolor": "white",
            "ticks": ""
           },
           "bgcolor": "#E5ECF6",
           "radialaxis": {
            "gridcolor": "white",
            "linecolor": "white",
            "ticks": ""
           }
          },
          "scene": {
           "xaxis": {
            "backgroundcolor": "#E5ECF6",
            "gridcolor": "white",
            "gridwidth": 2,
            "linecolor": "white",
            "showbackground": true,
            "ticks": "",
            "zerolinecolor": "white"
           },
           "yaxis": {
            "backgroundcolor": "#E5ECF6",
            "gridcolor": "white",
            "gridwidth": 2,
            "linecolor": "white",
            "showbackground": true,
            "ticks": "",
            "zerolinecolor": "white"
           },
           "zaxis": {
            "backgroundcolor": "#E5ECF6",
            "gridcolor": "white",
            "gridwidth": 2,
            "linecolor": "white",
            "showbackground": true,
            "ticks": "",
            "zerolinecolor": "white"
           }
          },
          "shapedefaults": {
           "line": {
            "color": "#2a3f5f"
           }
          },
          "ternary": {
           "aaxis": {
            "gridcolor": "white",
            "linecolor": "white",
            "ticks": ""
           },
           "baxis": {
            "gridcolor": "white",
            "linecolor": "white",
            "ticks": ""
           },
           "bgcolor": "#E5ECF6",
           "caxis": {
            "gridcolor": "white",
            "linecolor": "white",
            "ticks": ""
           }
          },
          "title": {
           "x": 0.05
          },
          "xaxis": {
           "automargin": true,
           "gridcolor": "white",
           "linecolor": "white",
           "ticks": "",
           "title": {
            "standoff": 15
           },
           "zerolinecolor": "white",
           "zerolinewidth": 2
          },
          "yaxis": {
           "automargin": true,
           "gridcolor": "white",
           "linecolor": "white",
           "ticks": "",
           "title": {
            "standoff": 15
           },
           "zerolinecolor": "white",
           "zerolinewidth": 2
          }
         }
        },
        "xaxis": {
         "anchor": "y",
         "domain": [
          0,
          1
         ],
         "title": {
          "text": "COMPAÑÍA_COMPRADORA"
         }
        },
        "yaxis": {
         "anchor": "x",
         "domain": [
          0,
          1
         ],
         "title": {
          "text": "TOTAL_SIN_IVA"
         }
        }
       }
      },
      "text/html": [
       "<div>                            <div id=\"ebbdf1c9-3f9b-427e-ab56-81600063a576\" class=\"plotly-graph-div\" style=\"height:525px; width:100%;\"></div>            <script type=\"text/javascript\">                require([\"plotly\"], function(Plotly) {                    window.PLOTLYENV=window.PLOTLYENV || {};                                    if (document.getElementById(\"ebbdf1c9-3f9b-427e-ab56-81600063a576\")) {                    Plotly.newPlot(                        \"ebbdf1c9-3f9b-427e-ab56-81600063a576\",                        [{\"alignmentgroup\":\"True\",\"hovertemplate\":\"COMPA\\u00d1\\u00cdA_COMPRADORA=%{x}<br>TOTAL_SIN_IVA=%{y}<extra></extra>\",\"legendgroup\":\"\",\"marker\":{\"color\":\"#636efa\",\"pattern\":{\"shape\":\"\"}},\"name\":\"\",\"offsetgroup\":\"\",\"orientation\":\"v\",\"showlegend\":false,\"textposition\":\"auto\",\"type\":\"bar\",\"x\":[\"Portal comprador 24\",\"Portal comprador 1\",\"Portal comprador 2\",\"Portal comprador 6\",\"Portal comprador 18\",\"Portal comprador 29\",\"Portal comprador 30\",\"Portal comprador 4\",\"Portal comprador 8\",\"Portal comprador 5\",\"Portal comprador 31\",\"Portal comprador 20\",\"Portal comprador 28\",\"Portal comprador 17\",\"Portal comprador 12\",\"Portal comprador 21\",\"Portal comprador 7\",\"Portal comprador 14\",\"Portal comprador 32\",\"Portal comprador 27\",\"Portal comprador 10\",\"Portal comprador 11\",\"Portal comprador 13\",\"Portal comprador 3\",\"Portal comprador 16\",\"Portal comprador 15\",\"Portal comprador 26\",\"Portal comprador 25\",\"Portal comprador 9\",\"Portal comprador 33\",\"Portal comprador 19\",\"Portal comprador 22\",\"Portal comprador 23\"],\"xaxis\":\"x\",\"y\":[4293598464.0,2742179328.0,1611188352.0,555513088.0,436416352.0,409359680.0,210401360.0,160436176.0,102270872.0,44941556.0,42950160.0,29126856.0,25836052.0,6140000.0,5165571.0,4189000.0,2839494.0,2770206.0,2387811.0,1342701.0,1051849.0,974394.0,739565.0,644588.0,400752.0,360000.0,144585.0,46912.0,25600.0,25210.0,20000.0,8364.0,4627.0],\"yaxis\":\"y\"}],                        {\"barmode\":\"relative\",\"legend\":{\"tracegroupgap\":0},\"margin\":{\"t\":60},\"template\":{\"data\":{\"bar\":[{\"error_x\":{\"color\":\"#2a3f5f\"},\"error_y\":{\"color\":\"#2a3f5f\"},\"marker\":{\"line\":{\"color\":\"#E5ECF6\",\"width\":0.5},\"pattern\":{\"fillmode\":\"overlay\",\"size\":10,\"solidity\":0.2}},\"type\":\"bar\"}],\"barpolar\":[{\"marker\":{\"line\":{\"color\":\"#E5ECF6\",\"width\":0.5},\"pattern\":{\"fillmode\":\"overlay\",\"size\":10,\"solidity\":0.2}},\"type\":\"barpolar\"}],\"carpet\":[{\"aaxis\":{\"endlinecolor\":\"#2a3f5f\",\"gridcolor\":\"white\",\"linecolor\":\"white\",\"minorgridcolor\":\"white\",\"startlinecolor\":\"#2a3f5f\"},\"baxis\":{\"endlinecolor\":\"#2a3f5f\",\"gridcolor\":\"white\",\"linecolor\":\"white\",\"minorgridcolor\":\"white\",\"startlinecolor\":\"#2a3f5f\"},\"type\":\"carpet\"}],\"choropleth\":[{\"colorbar\":{\"outlinewidth\":0,\"ticks\":\"\"},\"type\":\"choropleth\"}],\"contour\":[{\"colorbar\":{\"outlinewidth\":0,\"ticks\":\"\"},\"colorscale\":[[0.0,\"#0d0887\"],[0.1111111111111111,\"#46039f\"],[0.2222222222222222,\"#7201a8\"],[0.3333333333333333,\"#9c179e\"],[0.4444444444444444,\"#bd3786\"],[0.5555555555555556,\"#d8576b\"],[0.6666666666666666,\"#ed7953\"],[0.7777777777777778,\"#fb9f3a\"],[0.8888888888888888,\"#fdca26\"],[1.0,\"#f0f921\"]],\"type\":\"contour\"}],\"contourcarpet\":[{\"colorbar\":{\"outlinewidth\":0,\"ticks\":\"\"},\"type\":\"contourcarpet\"}],\"heatmap\":[{\"colorbar\":{\"outlinewidth\":0,\"ticks\":\"\"},\"colorscale\":[[0.0,\"#0d0887\"],[0.1111111111111111,\"#46039f\"],[0.2222222222222222,\"#7201a8\"],[0.3333333333333333,\"#9c179e\"],[0.4444444444444444,\"#bd3786\"],[0.5555555555555556,\"#d8576b\"],[0.6666666666666666,\"#ed7953\"],[0.7777777777777778,\"#fb9f3a\"],[0.8888888888888888,\"#fdca26\"],[1.0,\"#f0f921\"]],\"type\":\"heatmap\"}],\"heatmapgl\":[{\"colorbar\":{\"outlinewidth\":0,\"ticks\":\"\"},\"colorscale\":[[0.0,\"#0d0887\"],[0.1111111111111111,\"#46039f\"],[0.2222222222222222,\"#7201a8\"],[0.3333333333333333,\"#9c179e\"],[0.4444444444444444,\"#bd3786\"],[0.5555555555555556,\"#d8576b\"],[0.6666666666666666,\"#ed7953\"],[0.7777777777777778,\"#fb9f3a\"],[0.8888888888888888,\"#fdca26\"],[1.0,\"#f0f921\"]],\"type\":\"heatmapgl\"}],\"histogram\":[{\"marker\":{\"pattern\":{\"fillmode\":\"overlay\",\"size\":10,\"solidity\":0.2}},\"type\":\"histogram\"}],\"histogram2d\":[{\"colorbar\":{\"outlinewidth\":0,\"ticks\":\"\"},\"colorscale\":[[0.0,\"#0d0887\"],[0.1111111111111111,\"#46039f\"],[0.2222222222222222,\"#7201a8\"],[0.3333333333333333,\"#9c179e\"],[0.4444444444444444,\"#bd3786\"],[0.5555555555555556,\"#d8576b\"],[0.6666666666666666,\"#ed7953\"],[0.7777777777777778,\"#fb9f3a\"],[0.8888888888888888,\"#fdca26\"],[1.0,\"#f0f921\"]],\"type\":\"histogram2d\"}],\"histogram2dcontour\":[{\"colorbar\":{\"outlinewidth\":0,\"ticks\":\"\"},\"colorscale\":[[0.0,\"#0d0887\"],[0.1111111111111111,\"#46039f\"],[0.2222222222222222,\"#7201a8\"],[0.3333333333333333,\"#9c179e\"],[0.4444444444444444,\"#bd3786\"],[0.5555555555555556,\"#d8576b\"],[0.6666666666666666,\"#ed7953\"],[0.7777777777777778,\"#fb9f3a\"],[0.8888888888888888,\"#fdca26\"],[1.0,\"#f0f921\"]],\"type\":\"histogram2dcontour\"}],\"mesh3d\":[{\"colorbar\":{\"outlinewidth\":0,\"ticks\":\"\"},\"type\":\"mesh3d\"}],\"parcoords\":[{\"line\":{\"colorbar\":{\"outlinewidth\":0,\"ticks\":\"\"}},\"type\":\"parcoords\"}],\"pie\":[{\"automargin\":true,\"type\":\"pie\"}],\"scatter\":[{\"marker\":{\"colorbar\":{\"outlinewidth\":0,\"ticks\":\"\"}},\"type\":\"scatter\"}],\"scatter3d\":[{\"line\":{\"colorbar\":{\"outlinewidth\":0,\"ticks\":\"\"}},\"marker\":{\"colorbar\":{\"outlinewidth\":0,\"ticks\":\"\"}},\"type\":\"scatter3d\"}],\"scattercarpet\":[{\"marker\":{\"colorbar\":{\"outlinewidth\":0,\"ticks\":\"\"}},\"type\":\"scattercarpet\"}],\"scattergeo\":[{\"marker\":{\"colorbar\":{\"outlinewidth\":0,\"ticks\":\"\"}},\"type\":\"scattergeo\"}],\"scattergl\":[{\"marker\":{\"colorbar\":{\"outlinewidth\":0,\"ticks\":\"\"}},\"type\":\"scattergl\"}],\"scattermapbox\":[{\"marker\":{\"colorbar\":{\"outlinewidth\":0,\"ticks\":\"\"}},\"type\":\"scattermapbox\"}],\"scatterpolar\":[{\"marker\":{\"colorbar\":{\"outlinewidth\":0,\"ticks\":\"\"}},\"type\":\"scatterpolar\"}],\"scatterpolargl\":[{\"marker\":{\"colorbar\":{\"outlinewidth\":0,\"ticks\":\"\"}},\"type\":\"scatterpolargl\"}],\"scatterternary\":[{\"marker\":{\"colorbar\":{\"outlinewidth\":0,\"ticks\":\"\"}},\"type\":\"scatterternary\"}],\"surface\":[{\"colorbar\":{\"outlinewidth\":0,\"ticks\":\"\"},\"colorscale\":[[0.0,\"#0d0887\"],[0.1111111111111111,\"#46039f\"],[0.2222222222222222,\"#7201a8\"],[0.3333333333333333,\"#9c179e\"],[0.4444444444444444,\"#bd3786\"],[0.5555555555555556,\"#d8576b\"],[0.6666666666666666,\"#ed7953\"],[0.7777777777777778,\"#fb9f3a\"],[0.8888888888888888,\"#fdca26\"],[1.0,\"#f0f921\"]],\"type\":\"surface\"}],\"table\":[{\"cells\":{\"fill\":{\"color\":\"#EBF0F8\"},\"line\":{\"color\":\"white\"}},\"header\":{\"fill\":{\"color\":\"#C8D4E3\"},\"line\":{\"color\":\"white\"}},\"type\":\"table\"}]},\"layout\":{\"annotationdefaults\":{\"arrowcolor\":\"#2a3f5f\",\"arrowhead\":0,\"arrowwidth\":1},\"autotypenumbers\":\"strict\",\"coloraxis\":{\"colorbar\":{\"outlinewidth\":0,\"ticks\":\"\"}},\"colorscale\":{\"diverging\":[[0,\"#8e0152\"],[0.1,\"#c51b7d\"],[0.2,\"#de77ae\"],[0.3,\"#f1b6da\"],[0.4,\"#fde0ef\"],[0.5,\"#f7f7f7\"],[0.6,\"#e6f5d0\"],[0.7,\"#b8e186\"],[0.8,\"#7fbc41\"],[0.9,\"#4d9221\"],[1,\"#276419\"]],\"sequential\":[[0.0,\"#0d0887\"],[0.1111111111111111,\"#46039f\"],[0.2222222222222222,\"#7201a8\"],[0.3333333333333333,\"#9c179e\"],[0.4444444444444444,\"#bd3786\"],[0.5555555555555556,\"#d8576b\"],[0.6666666666666666,\"#ed7953\"],[0.7777777777777778,\"#fb9f3a\"],[0.8888888888888888,\"#fdca26\"],[1.0,\"#f0f921\"]],\"sequentialminus\":[[0.0,\"#0d0887\"],[0.1111111111111111,\"#46039f\"],[0.2222222222222222,\"#7201a8\"],[0.3333333333333333,\"#9c179e\"],[0.4444444444444444,\"#bd3786\"],[0.5555555555555556,\"#d8576b\"],[0.6666666666666666,\"#ed7953\"],[0.7777777777777778,\"#fb9f3a\"],[0.8888888888888888,\"#fdca26\"],[1.0,\"#f0f921\"]]},\"colorway\":[\"#636efa\",\"#EF553B\",\"#00cc96\",\"#ab63fa\",\"#FFA15A\",\"#19d3f3\",\"#FF6692\",\"#B6E880\",\"#FF97FF\",\"#FECB52\"],\"font\":{\"color\":\"#2a3f5f\"},\"geo\":{\"bgcolor\":\"white\",\"lakecolor\":\"white\",\"landcolor\":\"#E5ECF6\",\"showlakes\":true,\"showland\":true,\"subunitcolor\":\"white\"},\"hoverlabel\":{\"align\":\"left\"},\"hovermode\":\"closest\",\"mapbox\":{\"style\":\"light\"},\"paper_bgcolor\":\"white\",\"plot_bgcolor\":\"#E5ECF6\",\"polar\":{\"angularaxis\":{\"gridcolor\":\"white\",\"linecolor\":\"white\",\"ticks\":\"\"},\"bgcolor\":\"#E5ECF6\",\"radialaxis\":{\"gridcolor\":\"white\",\"linecolor\":\"white\",\"ticks\":\"\"}},\"scene\":{\"xaxis\":{\"backgroundcolor\":\"#E5ECF6\",\"gridcolor\":\"white\",\"gridwidth\":2,\"linecolor\":\"white\",\"showbackground\":true,\"ticks\":\"\",\"zerolinecolor\":\"white\"},\"yaxis\":{\"backgroundcolor\":\"#E5ECF6\",\"gridcolor\":\"white\",\"gridwidth\":2,\"linecolor\":\"white\",\"showbackground\":true,\"ticks\":\"\",\"zerolinecolor\":\"white\"},\"zaxis\":{\"backgroundcolor\":\"#E5ECF6\",\"gridcolor\":\"white\",\"gridwidth\":2,\"linecolor\":\"white\",\"showbackground\":true,\"ticks\":\"\",\"zerolinecolor\":\"white\"}},\"shapedefaults\":{\"line\":{\"color\":\"#2a3f5f\"}},\"ternary\":{\"aaxis\":{\"gridcolor\":\"white\",\"linecolor\":\"white\",\"ticks\":\"\"},\"baxis\":{\"gridcolor\":\"white\",\"linecolor\":\"white\",\"ticks\":\"\"},\"bgcolor\":\"#E5ECF6\",\"caxis\":{\"gridcolor\":\"white\",\"linecolor\":\"white\",\"ticks\":\"\"}},\"title\":{\"x\":0.05},\"xaxis\":{\"automargin\":true,\"gridcolor\":\"white\",\"linecolor\":\"white\",\"ticks\":\"\",\"title\":{\"standoff\":15},\"zerolinecolor\":\"white\",\"zerolinewidth\":2},\"yaxis\":{\"automargin\":true,\"gridcolor\":\"white\",\"linecolor\":\"white\",\"ticks\":\"\",\"title\":{\"standoff\":15},\"zerolinecolor\":\"white\",\"zerolinewidth\":2}}},\"xaxis\":{\"anchor\":\"y\",\"domain\":[0.0,1.0],\"title\":{\"text\":\"COMPA\\u00d1\\u00cdA_COMPRADORA\"}},\"yaxis\":{\"anchor\":\"x\",\"domain\":[0.0,1.0],\"title\":{\"text\":\"TOTAL_SIN_IVA\"}}},                        {\"responsive\": true}                    ).then(function(){\n",
       "                            \n",
       "var gd = document.getElementById('ebbdf1c9-3f9b-427e-ab56-81600063a576');\n",
       "var x = new MutationObserver(function (mutations, observer) {{\n",
       "        var display = window.getComputedStyle(gd).display;\n",
       "        if (!display || display === 'none') {{\n",
       "            console.log([gd, 'removed!']);\n",
       "            Plotly.purge(gd);\n",
       "            observer.disconnect();\n",
       "        }}\n",
       "}});\n",
       "\n",
       "// Listen for the removal of the full notebook cells\n",
       "var notebookContainer = gd.closest('#notebook-container');\n",
       "if (notebookContainer) {{\n",
       "    x.observe(notebookContainer, {childList: true});\n",
       "}}\n",
       "\n",
       "// Listen for the clearing of the current output cell\n",
       "var outputEl = gd.closest('.output');\n",
       "if (outputEl) {{\n",
       "    x.observe(outputEl, {childList: true});\n",
       "}}\n",
       "\n",
       "                        })                };                });            </script>        </div>"
      ]
     },
     "metadata": {},
     "output_type": "display_data"
    }
   ],
   "source": [
    "px.bar(df_Comp, y='TOTAL_SIN_IVA')"
   ]
  },
  {
   "cell_type": "code",
   "execution_count": 35,
   "metadata": {},
   "outputs": [
    {
     "data": {
      "text/html": [
       "<div>\n",
       "<style scoped>\n",
       "    .dataframe tbody tr th:only-of-type {\n",
       "        vertical-align: middle;\n",
       "    }\n",
       "\n",
       "    .dataframe tbody tr th {\n",
       "        vertical-align: top;\n",
       "    }\n",
       "\n",
       "    .dataframe thead th {\n",
       "        text-align: right;\n",
       "    }\n",
       "</style>\n",
       "<table border=\"1\" class=\"dataframe\">\n",
       "  <thead>\n",
       "    <tr style=\"text-align: right;\">\n",
       "      <th></th>\n",
       "      <th>FECHA_ORDEN</th>\n",
       "      <th>CATEGORÍA</th>\n",
       "      <th>SUBCATEGORÍA</th>\n",
       "      <th>PROVEEDOR</th>\n",
       "      <th>ESTADO</th>\n",
       "      <th>PRODUCTO_O_SERVICIO</th>\n",
       "      <th>CANTIDAD_PEDIDA</th>\n",
       "      <th>CANTIDAD_RECIBIDA</th>\n",
       "      <th>PRECIO_UNITARIO</th>\n",
       "      <th>IVA</th>\n",
       "      <th>TOTAL_SIN_IVA</th>\n",
       "    </tr>\n",
       "    <tr>\n",
       "      <th>COMPAÑÍA_COMPRADORA</th>\n",
       "      <th></th>\n",
       "      <th></th>\n",
       "      <th></th>\n",
       "      <th></th>\n",
       "      <th></th>\n",
       "      <th></th>\n",
       "      <th></th>\n",
       "      <th></th>\n",
       "      <th></th>\n",
       "      <th></th>\n",
       "      <th></th>\n",
       "    </tr>\n",
       "  </thead>\n",
       "  <tbody>\n",
       "    <tr>\n",
       "      <th>Portal comprador 1</th>\n",
       "      <td>6563</td>\n",
       "      <td>6563</td>\n",
       "      <td>6563</td>\n",
       "      <td>6563</td>\n",
       "      <td>6563</td>\n",
       "      <td>6563</td>\n",
       "      <td>6563</td>\n",
       "      <td>5577</td>\n",
       "      <td>6563</td>\n",
       "      <td>6563</td>\n",
       "      <td>6563</td>\n",
       "    </tr>\n",
       "    <tr>\n",
       "      <th>Portal comprador 24</th>\n",
       "      <td>5439</td>\n",
       "      <td>5439</td>\n",
       "      <td>5439</td>\n",
       "      <td>5439</td>\n",
       "      <td>5439</td>\n",
       "      <td>5439</td>\n",
       "      <td>5439</td>\n",
       "      <td>5439</td>\n",
       "      <td>5439</td>\n",
       "      <td>5439</td>\n",
       "      <td>5439</td>\n",
       "    </tr>\n",
       "    <tr>\n",
       "      <th>Portal comprador 2</th>\n",
       "      <td>3863</td>\n",
       "      <td>3863</td>\n",
       "      <td>3863</td>\n",
       "      <td>3863</td>\n",
       "      <td>3863</td>\n",
       "      <td>3863</td>\n",
       "      <td>3863</td>\n",
       "      <td>3095</td>\n",
       "      <td>3863</td>\n",
       "      <td>3863</td>\n",
       "      <td>3863</td>\n",
       "    </tr>\n",
       "    <tr>\n",
       "      <th>Portal comprador 29</th>\n",
       "      <td>3320</td>\n",
       "      <td>3320</td>\n",
       "      <td>3320</td>\n",
       "      <td>3320</td>\n",
       "      <td>3320</td>\n",
       "      <td>3320</td>\n",
       "      <td>3320</td>\n",
       "      <td>2</td>\n",
       "      <td>3320</td>\n",
       "      <td>3320</td>\n",
       "      <td>3320</td>\n",
       "    </tr>\n",
       "    <tr>\n",
       "      <th>Portal comprador 6</th>\n",
       "      <td>850</td>\n",
       "      <td>850</td>\n",
       "      <td>850</td>\n",
       "      <td>850</td>\n",
       "      <td>850</td>\n",
       "      <td>850</td>\n",
       "      <td>850</td>\n",
       "      <td>230</td>\n",
       "      <td>850</td>\n",
       "      <td>850</td>\n",
       "      <td>850</td>\n",
       "    </tr>\n",
       "    <tr>\n",
       "      <th>Portal comprador 30</th>\n",
       "      <td>760</td>\n",
       "      <td>760</td>\n",
       "      <td>760</td>\n",
       "      <td>760</td>\n",
       "      <td>760</td>\n",
       "      <td>760</td>\n",
       "      <td>760</td>\n",
       "      <td>29</td>\n",
       "      <td>760</td>\n",
       "      <td>760</td>\n",
       "      <td>760</td>\n",
       "    </tr>\n",
       "    <tr>\n",
       "      <th>Portal comprador 4</th>\n",
       "      <td>361</td>\n",
       "      <td>361</td>\n",
       "      <td>361</td>\n",
       "      <td>361</td>\n",
       "      <td>361</td>\n",
       "      <td>361</td>\n",
       "      <td>361</td>\n",
       "      <td>288</td>\n",
       "      <td>361</td>\n",
       "      <td>361</td>\n",
       "      <td>361</td>\n",
       "    </tr>\n",
       "    <tr>\n",
       "      <th>Portal comprador 8</th>\n",
       "      <td>318</td>\n",
       "      <td>318</td>\n",
       "      <td>318</td>\n",
       "      <td>318</td>\n",
       "      <td>318</td>\n",
       "      <td>318</td>\n",
       "      <td>318</td>\n",
       "      <td>107</td>\n",
       "      <td>318</td>\n",
       "      <td>318</td>\n",
       "      <td>318</td>\n",
       "    </tr>\n",
       "    <tr>\n",
       "      <th>Portal comprador 5</th>\n",
       "      <td>296</td>\n",
       "      <td>296</td>\n",
       "      <td>296</td>\n",
       "      <td>296</td>\n",
       "      <td>296</td>\n",
       "      <td>296</td>\n",
       "      <td>296</td>\n",
       "      <td>256</td>\n",
       "      <td>296</td>\n",
       "      <td>296</td>\n",
       "      <td>296</td>\n",
       "    </tr>\n",
       "    <tr>\n",
       "      <th>Portal comprador 12</th>\n",
       "      <td>214</td>\n",
       "      <td>214</td>\n",
       "      <td>214</td>\n",
       "      <td>214</td>\n",
       "      <td>214</td>\n",
       "      <td>214</td>\n",
       "      <td>214</td>\n",
       "      <td>86</td>\n",
       "      <td>214</td>\n",
       "      <td>214</td>\n",
       "      <td>214</td>\n",
       "    </tr>\n",
       "    <tr>\n",
       "      <th>Portal comprador 18</th>\n",
       "      <td>89</td>\n",
       "      <td>89</td>\n",
       "      <td>89</td>\n",
       "      <td>89</td>\n",
       "      <td>89</td>\n",
       "      <td>89</td>\n",
       "      <td>89</td>\n",
       "      <td>83</td>\n",
       "      <td>89</td>\n",
       "      <td>89</td>\n",
       "      <td>89</td>\n",
       "    </tr>\n",
       "    <tr>\n",
       "      <th>Portal comprador 10</th>\n",
       "      <td>69</td>\n",
       "      <td>69</td>\n",
       "      <td>69</td>\n",
       "      <td>69</td>\n",
       "      <td>69</td>\n",
       "      <td>69</td>\n",
       "      <td>69</td>\n",
       "      <td>26</td>\n",
       "      <td>69</td>\n",
       "      <td>69</td>\n",
       "      <td>69</td>\n",
       "    </tr>\n",
       "    <tr>\n",
       "      <th>Portal comprador 7</th>\n",
       "      <td>65</td>\n",
       "      <td>65</td>\n",
       "      <td>65</td>\n",
       "      <td>65</td>\n",
       "      <td>65</td>\n",
       "      <td>65</td>\n",
       "      <td>65</td>\n",
       "      <td>44</td>\n",
       "      <td>65</td>\n",
       "      <td>65</td>\n",
       "      <td>65</td>\n",
       "    </tr>\n",
       "    <tr>\n",
       "      <th>Portal comprador 11</th>\n",
       "      <td>51</td>\n",
       "      <td>51</td>\n",
       "      <td>51</td>\n",
       "      <td>51</td>\n",
       "      <td>51</td>\n",
       "      <td>51</td>\n",
       "      <td>51</td>\n",
       "      <td>33</td>\n",
       "      <td>51</td>\n",
       "      <td>51</td>\n",
       "      <td>51</td>\n",
       "    </tr>\n",
       "    <tr>\n",
       "      <th>Portal comprador 27</th>\n",
       "      <td>35</td>\n",
       "      <td>35</td>\n",
       "      <td>35</td>\n",
       "      <td>35</td>\n",
       "      <td>35</td>\n",
       "      <td>35</td>\n",
       "      <td>35</td>\n",
       "      <td>2</td>\n",
       "      <td>35</td>\n",
       "      <td>35</td>\n",
       "      <td>35</td>\n",
       "    </tr>\n",
       "    <tr>\n",
       "      <th>Portal comprador 13</th>\n",
       "      <td>33</td>\n",
       "      <td>33</td>\n",
       "      <td>33</td>\n",
       "      <td>33</td>\n",
       "      <td>33</td>\n",
       "      <td>33</td>\n",
       "      <td>33</td>\n",
       "      <td>18</td>\n",
       "      <td>33</td>\n",
       "      <td>33</td>\n",
       "      <td>33</td>\n",
       "    </tr>\n",
       "    <tr>\n",
       "      <th>Portal comprador 20</th>\n",
       "      <td>28</td>\n",
       "      <td>28</td>\n",
       "      <td>28</td>\n",
       "      <td>28</td>\n",
       "      <td>28</td>\n",
       "      <td>28</td>\n",
       "      <td>28</td>\n",
       "      <td>0</td>\n",
       "      <td>28</td>\n",
       "      <td>28</td>\n",
       "      <td>28</td>\n",
       "    </tr>\n",
       "    <tr>\n",
       "      <th>Portal comprador 31</th>\n",
       "      <td>16</td>\n",
       "      <td>16</td>\n",
       "      <td>16</td>\n",
       "      <td>16</td>\n",
       "      <td>16</td>\n",
       "      <td>16</td>\n",
       "      <td>16</td>\n",
       "      <td>1</td>\n",
       "      <td>16</td>\n",
       "      <td>16</td>\n",
       "      <td>16</td>\n",
       "    </tr>\n",
       "    <tr>\n",
       "      <th>Portal comprador 21</th>\n",
       "      <td>4</td>\n",
       "      <td>4</td>\n",
       "      <td>4</td>\n",
       "      <td>4</td>\n",
       "      <td>4</td>\n",
       "      <td>4</td>\n",
       "      <td>4</td>\n",
       "      <td>2</td>\n",
       "      <td>4</td>\n",
       "      <td>4</td>\n",
       "      <td>4</td>\n",
       "    </tr>\n",
       "    <tr>\n",
       "      <th>Portal comprador 14</th>\n",
       "      <td>2</td>\n",
       "      <td>2</td>\n",
       "      <td>2</td>\n",
       "      <td>2</td>\n",
       "      <td>2</td>\n",
       "      <td>2</td>\n",
       "      <td>2</td>\n",
       "      <td>2</td>\n",
       "      <td>2</td>\n",
       "      <td>2</td>\n",
       "      <td>2</td>\n",
       "    </tr>\n",
       "    <tr>\n",
       "      <th>Portal comprador 26</th>\n",
       "      <td>2</td>\n",
       "      <td>2</td>\n",
       "      <td>2</td>\n",
       "      <td>2</td>\n",
       "      <td>2</td>\n",
       "      <td>2</td>\n",
       "      <td>2</td>\n",
       "      <td>2</td>\n",
       "      <td>2</td>\n",
       "      <td>2</td>\n",
       "      <td>2</td>\n",
       "    </tr>\n",
       "    <tr>\n",
       "      <th>Portal comprador 28</th>\n",
       "      <td>2</td>\n",
       "      <td>2</td>\n",
       "      <td>2</td>\n",
       "      <td>2</td>\n",
       "      <td>2</td>\n",
       "      <td>2</td>\n",
       "      <td>2</td>\n",
       "      <td>0</td>\n",
       "      <td>2</td>\n",
       "      <td>2</td>\n",
       "      <td>2</td>\n",
       "    </tr>\n",
       "    <tr>\n",
       "      <th>Portal comprador 32</th>\n",
       "      <td>2</td>\n",
       "      <td>2</td>\n",
       "      <td>2</td>\n",
       "      <td>2</td>\n",
       "      <td>2</td>\n",
       "      <td>2</td>\n",
       "      <td>2</td>\n",
       "      <td>0</td>\n",
       "      <td>2</td>\n",
       "      <td>2</td>\n",
       "      <td>2</td>\n",
       "    </tr>\n",
       "    <tr>\n",
       "      <th>Portal comprador 33</th>\n",
       "      <td>1</td>\n",
       "      <td>1</td>\n",
       "      <td>1</td>\n",
       "      <td>1</td>\n",
       "      <td>1</td>\n",
       "      <td>1</td>\n",
       "      <td>1</td>\n",
       "      <td>0</td>\n",
       "      <td>1</td>\n",
       "      <td>1</td>\n",
       "      <td>1</td>\n",
       "    </tr>\n",
       "    <tr>\n",
       "      <th>Portal comprador 25</th>\n",
       "      <td>1</td>\n",
       "      <td>1</td>\n",
       "      <td>1</td>\n",
       "      <td>1</td>\n",
       "      <td>1</td>\n",
       "      <td>1</td>\n",
       "      <td>1</td>\n",
       "      <td>0</td>\n",
       "      <td>1</td>\n",
       "      <td>1</td>\n",
       "      <td>1</td>\n",
       "    </tr>\n",
       "    <tr>\n",
       "      <th>Portal comprador 3</th>\n",
       "      <td>1</td>\n",
       "      <td>1</td>\n",
       "      <td>1</td>\n",
       "      <td>1</td>\n",
       "      <td>1</td>\n",
       "      <td>1</td>\n",
       "      <td>1</td>\n",
       "      <td>1</td>\n",
       "      <td>1</td>\n",
       "      <td>1</td>\n",
       "      <td>1</td>\n",
       "    </tr>\n",
       "    <tr>\n",
       "      <th>Portal comprador 23</th>\n",
       "      <td>1</td>\n",
       "      <td>1</td>\n",
       "      <td>1</td>\n",
       "      <td>1</td>\n",
       "      <td>1</td>\n",
       "      <td>1</td>\n",
       "      <td>1</td>\n",
       "      <td>0</td>\n",
       "      <td>1</td>\n",
       "      <td>1</td>\n",
       "      <td>1</td>\n",
       "    </tr>\n",
       "    <tr>\n",
       "      <th>Portal comprador 22</th>\n",
       "      <td>1</td>\n",
       "      <td>1</td>\n",
       "      <td>1</td>\n",
       "      <td>1</td>\n",
       "      <td>1</td>\n",
       "      <td>1</td>\n",
       "      <td>1</td>\n",
       "      <td>0</td>\n",
       "      <td>1</td>\n",
       "      <td>1</td>\n",
       "      <td>1</td>\n",
       "    </tr>\n",
       "    <tr>\n",
       "      <th>Portal comprador 19</th>\n",
       "      <td>1</td>\n",
       "      <td>1</td>\n",
       "      <td>1</td>\n",
       "      <td>1</td>\n",
       "      <td>1</td>\n",
       "      <td>1</td>\n",
       "      <td>1</td>\n",
       "      <td>0</td>\n",
       "      <td>1</td>\n",
       "      <td>1</td>\n",
       "      <td>1</td>\n",
       "    </tr>\n",
       "    <tr>\n",
       "      <th>Portal comprador 17</th>\n",
       "      <td>1</td>\n",
       "      <td>1</td>\n",
       "      <td>1</td>\n",
       "      <td>1</td>\n",
       "      <td>1</td>\n",
       "      <td>1</td>\n",
       "      <td>1</td>\n",
       "      <td>1</td>\n",
       "      <td>1</td>\n",
       "      <td>1</td>\n",
       "      <td>1</td>\n",
       "    </tr>\n",
       "    <tr>\n",
       "      <th>Portal comprador 16</th>\n",
       "      <td>1</td>\n",
       "      <td>1</td>\n",
       "      <td>1</td>\n",
       "      <td>1</td>\n",
       "      <td>1</td>\n",
       "      <td>1</td>\n",
       "      <td>1</td>\n",
       "      <td>1</td>\n",
       "      <td>1</td>\n",
       "      <td>1</td>\n",
       "      <td>1</td>\n",
       "    </tr>\n",
       "    <tr>\n",
       "      <th>Portal comprador 15</th>\n",
       "      <td>1</td>\n",
       "      <td>1</td>\n",
       "      <td>1</td>\n",
       "      <td>1</td>\n",
       "      <td>1</td>\n",
       "      <td>1</td>\n",
       "      <td>1</td>\n",
       "      <td>0</td>\n",
       "      <td>1</td>\n",
       "      <td>1</td>\n",
       "      <td>1</td>\n",
       "    </tr>\n",
       "    <tr>\n",
       "      <th>Portal comprador 9</th>\n",
       "      <td>1</td>\n",
       "      <td>1</td>\n",
       "      <td>1</td>\n",
       "      <td>1</td>\n",
       "      <td>1</td>\n",
       "      <td>1</td>\n",
       "      <td>1</td>\n",
       "      <td>0</td>\n",
       "      <td>1</td>\n",
       "      <td>1</td>\n",
       "      <td>1</td>\n",
       "    </tr>\n",
       "  </tbody>\n",
       "</table>\n",
       "</div>"
      ],
      "text/plain": [
       "                     FECHA_ORDEN  CATEGORÍA  SUBCATEGORÍA  PROVEEDOR  ESTADO  \\\n",
       "COMPAÑÍA_COMPRADORA                                                            \n",
       "Portal comprador 1          6563       6563          6563       6563    6563   \n",
       "Portal comprador 24         5439       5439          5439       5439    5439   \n",
       "Portal comprador 2          3863       3863          3863       3863    3863   \n",
       "Portal comprador 29         3320       3320          3320       3320    3320   \n",
       "Portal comprador 6           850        850           850        850     850   \n",
       "Portal comprador 30          760        760           760        760     760   \n",
       "Portal comprador 4           361        361           361        361     361   \n",
       "Portal comprador 8           318        318           318        318     318   \n",
       "Portal comprador 5           296        296           296        296     296   \n",
       "Portal comprador 12          214        214           214        214     214   \n",
       "Portal comprador 18           89         89            89         89      89   \n",
       "Portal comprador 10           69         69            69         69      69   \n",
       "Portal comprador 7            65         65            65         65      65   \n",
       "Portal comprador 11           51         51            51         51      51   \n",
       "Portal comprador 27           35         35            35         35      35   \n",
       "Portal comprador 13           33         33            33         33      33   \n",
       "Portal comprador 20           28         28            28         28      28   \n",
       "Portal comprador 31           16         16            16         16      16   \n",
       "Portal comprador 21            4          4             4          4       4   \n",
       "Portal comprador 14            2          2             2          2       2   \n",
       "Portal comprador 26            2          2             2          2       2   \n",
       "Portal comprador 28            2          2             2          2       2   \n",
       "Portal comprador 32            2          2             2          2       2   \n",
       "Portal comprador 33            1          1             1          1       1   \n",
       "Portal comprador 25            1          1             1          1       1   \n",
       "Portal comprador 3             1          1             1          1       1   \n",
       "Portal comprador 23            1          1             1          1       1   \n",
       "Portal comprador 22            1          1             1          1       1   \n",
       "Portal comprador 19            1          1             1          1       1   \n",
       "Portal comprador 17            1          1             1          1       1   \n",
       "Portal comprador 16            1          1             1          1       1   \n",
       "Portal comprador 15            1          1             1          1       1   \n",
       "Portal comprador 9             1          1             1          1       1   \n",
       "\n",
       "                     PRODUCTO_O_SERVICIO  CANTIDAD_PEDIDA  CANTIDAD_RECIBIDA  \\\n",
       "COMPAÑÍA_COMPRADORA                                                            \n",
       "Portal comprador 1                  6563             6563               5577   \n",
       "Portal comprador 24                 5439             5439               5439   \n",
       "Portal comprador 2                  3863             3863               3095   \n",
       "Portal comprador 29                 3320             3320                  2   \n",
       "Portal comprador 6                   850              850                230   \n",
       "Portal comprador 30                  760              760                 29   \n",
       "Portal comprador 4                   361              361                288   \n",
       "Portal comprador 8                   318              318                107   \n",
       "Portal comprador 5                   296              296                256   \n",
       "Portal comprador 12                  214              214                 86   \n",
       "Portal comprador 18                   89               89                 83   \n",
       "Portal comprador 10                   69               69                 26   \n",
       "Portal comprador 7                    65               65                 44   \n",
       "Portal comprador 11                   51               51                 33   \n",
       "Portal comprador 27                   35               35                  2   \n",
       "Portal comprador 13                   33               33                 18   \n",
       "Portal comprador 20                   28               28                  0   \n",
       "Portal comprador 31                   16               16                  1   \n",
       "Portal comprador 21                    4                4                  2   \n",
       "Portal comprador 14                    2                2                  2   \n",
       "Portal comprador 26                    2                2                  2   \n",
       "Portal comprador 28                    2                2                  0   \n",
       "Portal comprador 32                    2                2                  0   \n",
       "Portal comprador 33                    1                1                  0   \n",
       "Portal comprador 25                    1                1                  0   \n",
       "Portal comprador 3                     1                1                  1   \n",
       "Portal comprador 23                    1                1                  0   \n",
       "Portal comprador 22                    1                1                  0   \n",
       "Portal comprador 19                    1                1                  0   \n",
       "Portal comprador 17                    1                1                  1   \n",
       "Portal comprador 16                    1                1                  1   \n",
       "Portal comprador 15                    1                1                  0   \n",
       "Portal comprador 9                     1                1                  0   \n",
       "\n",
       "                     PRECIO_UNITARIO   IVA  TOTAL_SIN_IVA  \n",
       "COMPAÑÍA_COMPRADORA                                        \n",
       "Portal comprador 1              6563  6563           6563  \n",
       "Portal comprador 24             5439  5439           5439  \n",
       "Portal comprador 2              3863  3863           3863  \n",
       "Portal comprador 29             3320  3320           3320  \n",
       "Portal comprador 6               850   850            850  \n",
       "Portal comprador 30              760   760            760  \n",
       "Portal comprador 4               361   361            361  \n",
       "Portal comprador 8               318   318            318  \n",
       "Portal comprador 5               296   296            296  \n",
       "Portal comprador 12              214   214            214  \n",
       "Portal comprador 18               89    89             89  \n",
       "Portal comprador 10               69    69             69  \n",
       "Portal comprador 7                65    65             65  \n",
       "Portal comprador 11               51    51             51  \n",
       "Portal comprador 27               35    35             35  \n",
       "Portal comprador 13               33    33             33  \n",
       "Portal comprador 20               28    28             28  \n",
       "Portal comprador 31               16    16             16  \n",
       "Portal comprador 21                4     4              4  \n",
       "Portal comprador 14                2     2              2  \n",
       "Portal comprador 26                2     2              2  \n",
       "Portal comprador 28                2     2              2  \n",
       "Portal comprador 32                2     2              2  \n",
       "Portal comprador 33                1     1              1  \n",
       "Portal comprador 25                1     1              1  \n",
       "Portal comprador 3                 1     1              1  \n",
       "Portal comprador 23                1     1              1  \n",
       "Portal comprador 22                1     1              1  \n",
       "Portal comprador 19                1     1              1  \n",
       "Portal comprador 17                1     1              1  \n",
       "Portal comprador 16                1     1              1  \n",
       "Portal comprador 15                1     1              1  \n",
       "Portal comprador 9                 1     1              1  "
      ]
     },
     "execution_count": 35,
     "metadata": {},
     "output_type": "execute_result"
    }
   ],
   "source": [
    "df_Comp_count = df.groupby('COMPAÑÍA_COMPRADORA').count()\n",
    "df_Comp_count.sort_values(by='TOTAL_SIN_IVA', inplace=True, ascending=False)\n",
    "df_Comp_count"
   ]
  },
  {
   "cell_type": "markdown",
   "metadata": {},
   "source": [
    "# 4. DATA CLEANING"
   ]
  },
  {
   "cell_type": "markdown",
   "metadata": {},
   "source": [
    "## 4.1 Remove outliers"
   ]
  },
  {
   "cell_type": "markdown",
   "metadata": {},
   "source": [
    "There are not outliers in the DS"
   ]
  },
  {
   "cell_type": "code",
   "execution_count": 36,
   "metadata": {},
   "outputs": [
    {
     "data": {
      "text/html": [
       "<div>\n",
       "<style scoped>\n",
       "    .dataframe tbody tr th:only-of-type {\n",
       "        vertical-align: middle;\n",
       "    }\n",
       "\n",
       "    .dataframe tbody tr th {\n",
       "        vertical-align: top;\n",
       "    }\n",
       "\n",
       "    .dataframe thead th {\n",
       "        text-align: right;\n",
       "    }\n",
       "</style>\n",
       "<table border=\"1\" class=\"dataframe\">\n",
       "  <thead>\n",
       "    <tr style=\"text-align: right;\">\n",
       "      <th></th>\n",
       "      <th>CANTIDAD_PEDIDA</th>\n",
       "      <th>CANTIDAD_RECIBIDA</th>\n",
       "      <th>PRECIO_UNITARIO</th>\n",
       "      <th>IVA</th>\n",
       "      <th>TOTAL_SIN_IVA</th>\n",
       "    </tr>\n",
       "  </thead>\n",
       "  <tbody>\n",
       "    <tr>\n",
       "      <th>count</th>\n",
       "      <td>22,392.00</td>\n",
       "      <td>15,325.00</td>\n",
       "      <td>22,392.00</td>\n",
       "      <td>22,392.00</td>\n",
       "      <td>22,392.00</td>\n",
       "    </tr>\n",
       "    <tr>\n",
       "      <th>mean</th>\n",
       "      <td>196.68</td>\n",
       "      <td>72.36</td>\n",
       "      <td>74,073.20</td>\n",
       "      <td>11,500.22</td>\n",
       "      <td>477,558.03</td>\n",
       "    </tr>\n",
       "    <tr>\n",
       "      <th>std</th>\n",
       "      <td>1,976.19</td>\n",
       "      <td>1,063.97</td>\n",
       "      <td>644,253.06</td>\n",
       "      <td>104,934.27</td>\n",
       "      <td>3,160,620.25</td>\n",
       "    </tr>\n",
       "    <tr>\n",
       "      <th>min</th>\n",
       "      <td>0.27</td>\n",
       "      <td>0.00</td>\n",
       "      <td>0.00</td>\n",
       "      <td>0.00</td>\n",
       "      <td>0.00</td>\n",
       "    </tr>\n",
       "    <tr>\n",
       "      <th>25%</th>\n",
       "      <td>2.00</td>\n",
       "      <td>2.00</td>\n",
       "      <td>1,861.00</td>\n",
       "      <td>93.00</td>\n",
       "      <td>29,412.00</td>\n",
       "    </tr>\n",
       "    <tr>\n",
       "      <th>50%</th>\n",
       "      <td>7.00</td>\n",
       "      <td>5.00</td>\n",
       "      <td>11,400.00</td>\n",
       "      <td>1,040.00</td>\n",
       "      <td>90,756.00</td>\n",
       "    </tr>\n",
       "    <tr>\n",
       "      <th>75%</th>\n",
       "      <td>40.00</td>\n",
       "      <td>19.00</td>\n",
       "      <td>32,222.00</td>\n",
       "      <td>5,588.00</td>\n",
       "      <td>294,118.00</td>\n",
       "    </tr>\n",
       "    <tr>\n",
       "      <th>max</th>\n",
       "      <td>120,000.00</td>\n",
       "      <td>53,620.00</td>\n",
       "      <td>33,242,814.00</td>\n",
       "      <td>6,316,135.00</td>\n",
       "      <td>299,185,312.00</td>\n",
       "    </tr>\n",
       "  </tbody>\n",
       "</table>\n",
       "</div>"
      ],
      "text/plain": [
       "           CANTIDAD_PEDIDA    CANTIDAD_RECIBIDA      PRECIO_UNITARIO  \\\n",
       "count            22,392.00            15,325.00            22,392.00   \n",
       "mean                196.68                72.36            74,073.20   \n",
       "std               1,976.19             1,063.97           644,253.06   \n",
       "min                   0.27                 0.00                 0.00   \n",
       "25%                   2.00                 2.00             1,861.00   \n",
       "50%                   7.00                 5.00            11,400.00   \n",
       "75%                  40.00                19.00            32,222.00   \n",
       "max             120,000.00            53,620.00        33,242,814.00   \n",
       "\n",
       "                       IVA        TOTAL_SIN_IVA  \n",
       "count            22,392.00            22,392.00  \n",
       "mean             11,500.22           477,558.03  \n",
       "std             104,934.27         3,160,620.25  \n",
       "min                   0.00                 0.00  \n",
       "25%                  93.00            29,412.00  \n",
       "50%               1,040.00            90,756.00  \n",
       "75%               5,588.00           294,118.00  \n",
       "max           6,316,135.00       299,185,312.00  "
      ]
     },
     "execution_count": 36,
     "metadata": {},
     "output_type": "execute_result"
    }
   ],
   "source": [
    "df.describe()"
   ]
  },
  {
   "cell_type": "markdown",
   "metadata": {},
   "source": [
    "## 4.2 Fill NA"
   ]
  },
  {
   "cell_type": "code",
   "execution_count": 37,
   "metadata": {},
   "outputs": [
    {
     "data": {
      "text/plain": [
       "FECHA_ORDEN                           0.00\n",
       "CATEGORÍA                             0.00\n",
       "SUBCATEGORÍA                          0.00\n",
       "PROVEEDOR                             0.00\n",
       "COMPAÑÍA_COMPRADORA                   0.00\n",
       "ESTADO                                0.00\n",
       "PRODUCTO_O_SERVICIO                   0.00\n",
       "CANTIDAD_PEDIDA                       0.00\n",
       "CANTIDAD_RECIBIDA                    31.56\n",
       "PRECIO_UNITARIO                       0.00\n",
       "IVA                                   0.00\n",
       "TOTAL_SIN_IVA                         0.00\n",
       "dtype: float64"
      ]
     },
     "execution_count": 37,
     "metadata": {},
     "output_type": "execute_result"
    }
   ],
   "source": [
    "df.isna().sum()/len(df)*100"
   ]
  },
  {
   "cell_type": "markdown",
   "metadata": {},
   "source": [
    "'CANTIDAD_RECIBIDA': to create other variable later"
   ]
  },
  {
   "cell_type": "code",
   "execution_count": 38,
   "metadata": {},
   "outputs": [],
   "source": [
    "df.loc[df['CANTIDAD_RECIBIDA'].isna(), 'CANTIDAD_RECIBIDA'] = 0"
   ]
  },
  {
   "cell_type": "code",
   "execution_count": 39,
   "metadata": {},
   "outputs": [
    {
     "data": {
      "text/plain": [
       "FECHA_ORDEN                           0.00\n",
       "CATEGORÍA                             0.00\n",
       "SUBCATEGORÍA                          0.00\n",
       "PROVEEDOR                             0.00\n",
       "COMPAÑÍA_COMPRADORA                   0.00\n",
       "ESTADO                                0.00\n",
       "PRODUCTO_O_SERVICIO                   0.00\n",
       "CANTIDAD_PEDIDA                       0.00\n",
       "CANTIDAD_RECIBIDA                     0.00\n",
       "PRECIO_UNITARIO                       0.00\n",
       "IVA                                   0.00\n",
       "TOTAL_SIN_IVA                         0.00\n",
       "dtype: float64"
      ]
     },
     "execution_count": 39,
     "metadata": {},
     "output_type": "execute_result"
    }
   ],
   "source": [
    "df.isna().sum()/len(df)*100"
   ]
  },
  {
   "cell_type": "markdown",
   "metadata": {},
   "source": [
    "# 5. FEATURE ENGINEERING (NEW VARIABLES)"
   ]
  },
  {
   "cell_type": "code",
   "execution_count": 40,
   "metadata": {},
   "outputs": [],
   "source": [
    "df.to_csv('Proveindustriales_Data_Cleaned_csv.csv', index=False)"
   ]
  },
  {
   "cell_type": "markdown",
   "metadata": {},
   "source": [
    "## SUMARIZE CATEGORICAL VARIABLES"
   ]
  },
  {
   "cell_type": "code",
   "execution_count": 41,
   "metadata": {},
   "outputs": [
    {
     "data": {
      "text/plain": [
       "Index(['CATEGORÍA', 'SUBCATEGORÍA', 'PROVEEDOR', 'COMPAÑÍA_COMPRADORA',\n",
       "       'ESTADO', 'PRODUCTO_O_SERVICIO'],\n",
       "      dtype='object')"
      ]
     },
     "execution_count": 41,
     "metadata": {},
     "output_type": "execute_result"
    }
   ],
   "source": [
    "df.select_dtypes(['object', 'category']).columns"
   ]
  },
  {
   "cell_type": "markdown",
   "metadata": {},
   "source": [
    "### Top CATEGORIA"
   ]
  },
  {
   "cell_type": "code",
   "execution_count": 42,
   "metadata": {},
   "outputs": [
    {
     "data": {
      "text/plain": [
       "Alimentos y Bebidas                                          30.98\n",
       "Vigilancia y seguridad industrial                            27.01\n",
       "Aseo, Cafetería y Oficina                                    17.14\n",
       "Dotación y elementos de protección personal                   5.35\n",
       "Ferreteria                                                    3.53\n",
       "Almacenamiento y empaques                                     2.06\n",
       "Vehículos y repuestos                                         1.64\n",
       "Químicos y derivados                                          1.60\n",
       "Construcción y Mantenimiento                                  1.30\n",
       "Servicios Profesionales                                       1.10\n",
       "Mercadeo y publicidad                                         0.95\n",
       "Manufactura                                                   0.92\n",
       "Logística y transporte                                        0.84\n",
       "Eléctricos y Electrónicos                                     0.76\n",
       "Mobiliario y decoración                                       0.74\n",
       "Tecnología e información                                      0.69\n",
       "Textiles                                                      0.67\n",
       "Moda y accesorios                                             0.65\n",
       "Imprenta y litografía                                         0.43\n",
       "Ingeniería e Investigación                                    0.41\n",
       "Compras Sostenibles                                           0.21\n",
       "Salud y Medicina                                              0.19\n",
       "Gestión ambiental                                             0.19\n",
       "Hogar y electrodomésticos                                     0.15\n",
       "Vigilancia y seguridad                                        0.13\n",
       "Viajes, Eventos y Entretenimiento                             0.08\n",
       "Medicina y Salud                                              0.06\n",
       "Cuidado personal y Belleza                                    0.04\n",
       "Deporte y recreación                                          0.03\n",
       "Servicios Públicos                                            0.03\n",
       "Generación y distribución de Energía                          0.02\n",
       "Minería                                                       0.02\n",
       "Agroindustrial                                                0.02\n",
       "Gestión inmobiliaria                                          0.02\n",
       "Educación y formación empresarial                             0.00\n",
       "Producción audiovisual                                        0.00\n",
       "Name: CATEGORÍA, dtype: float64"
      ]
     },
     "execution_count": 42,
     "metadata": {},
     "output_type": "execute_result"
    }
   ],
   "source": [
    "df['CATEGORÍA'].value_counts()/len(df)*100"
   ]
  },
  {
   "cell_type": "code",
   "execution_count": 43,
   "metadata": {},
   "outputs": [
    {
     "data": {
      "text/plain": [
       "4"
      ]
     },
     "execution_count": 43,
     "metadata": {},
     "output_type": "execute_result"
    }
   ],
   "source": [
    "threshold_categoria = (df['CATEGORÍA'].value_counts()/len(df)*100 > 5).sum()\n",
    "threshold_categoria"
   ]
  },
  {
   "cell_type": "code",
   "execution_count": 44,
   "metadata": {},
   "outputs": [],
   "source": [
    "top_categoria = (df['CATEGORÍA'].value_counts()/len(df)*100)[:threshold_categoria].index"
   ]
  },
  {
   "cell_type": "code",
   "execution_count": 45,
   "metadata": {},
   "outputs": [],
   "source": [
    "df.loc[~df['CATEGORÍA'].isin(top_categoria), 'CATEGORÍA'] = 'Otros'"
   ]
  },
  {
   "cell_type": "code",
   "execution_count": 46,
   "metadata": {},
   "outputs": [
    {
     "data": {
      "text/plain": [
       "Alimentos y Bebidas                            6938\n",
       "Vigilancia y seguridad industrial              6049\n",
       "Otros                                          4368\n",
       "Aseo, Cafetería y Oficina                      3838\n",
       "Dotación y elementos de protección personal    1199\n",
       "Name: CATEGORÍA, dtype: int64"
      ]
     },
     "execution_count": 46,
     "metadata": {},
     "output_type": "execute_result"
    }
   ],
   "source": [
    "df['CATEGORÍA'].value_counts()"
   ]
  },
  {
   "cell_type": "markdown",
   "metadata": {},
   "source": [
    "### Top  SUBCATEGORÍA"
   ]
  },
  {
   "cell_type": "code",
   "execution_count": 47,
   "metadata": {},
   "outputs": [
    {
     "data": {
      "text/plain": [
       "Seguridad y protección personal                                  27.00\n",
       "Alimentos preparados y conservados                               10.01\n",
       "Elementos de aseo y limpieza                                      8.92\n",
       "Elementos de papelería                                            7.23\n",
       "Bebidas                                                           5.93\n",
       "                                                          ...         \n",
       "Medicamentos                                                      0.00\n",
       "Calefacción, ventilación y circulación del aire                   0.00\n",
       "Prevención y control de enfermedades                              0.00\n",
       "Plantas vivas                                                     0.00\n",
       "Rodamientos, cojinetes ruedas y engranajes                        0.00\n",
       "Name: SUBCATEGORÍA, Length: 149, dtype: float64"
      ]
     },
     "execution_count": 47,
     "metadata": {},
     "output_type": "execute_result"
    }
   ],
   "source": [
    "df['SUBCATEGORÍA'].value_counts()/len(df)*100"
   ]
  },
  {
   "cell_type": "code",
   "execution_count": 48,
   "metadata": {},
   "outputs": [
    {
     "data": {
      "text/html": [
       "<div>\n",
       "<style scoped>\n",
       "    .dataframe tbody tr th:only-of-type {\n",
       "        vertical-align: middle;\n",
       "    }\n",
       "\n",
       "    .dataframe tbody tr th {\n",
       "        vertical-align: top;\n",
       "    }\n",
       "\n",
       "    .dataframe thead th {\n",
       "        text-align: right;\n",
       "    }\n",
       "</style>\n",
       "<table border=\"1\" class=\"dataframe\">\n",
       "  <thead>\n",
       "    <tr style=\"text-align: right;\">\n",
       "      <th></th>\n",
       "      <th>FECHA_ORDEN</th>\n",
       "      <th>CATEGORÍA</th>\n",
       "      <th>SUBCATEGORÍA</th>\n",
       "      <th>PROVEEDOR</th>\n",
       "      <th>COMPAÑÍA_COMPRADORA</th>\n",
       "      <th>ESTADO</th>\n",
       "      <th>PRODUCTO_O_SERVICIO</th>\n",
       "      <th>CANTIDAD_PEDIDA</th>\n",
       "      <th>CANTIDAD_RECIBIDA</th>\n",
       "      <th>PRECIO_UNITARIO</th>\n",
       "      <th>IVA</th>\n",
       "      <th>TOTAL_SIN_IVA</th>\n",
       "    </tr>\n",
       "  </thead>\n",
       "  <tbody>\n",
       "    <tr>\n",
       "      <th>0</th>\n",
       "      <td>2021-11-10</td>\n",
       "      <td>Otros</td>\n",
       "      <td>Lámparas y bombillas y componentes para lámparas</td>\n",
       "      <td>Proveedor 1</td>\n",
       "      <td>Portal comprador 1</td>\n",
       "      <td>Orden en Proceso</td>\n",
       "      <td>PANEL LED SOBREPONER 24W REDONDO LUZ BLANCA</td>\n",
       "      <td>2.00</td>\n",
       "      <td>0.00</td>\n",
       "      <td>23,364.00</td>\n",
       "      <td>4,439.00</td>\n",
       "      <td>46,728.00</td>\n",
       "    </tr>\n",
       "    <tr>\n",
       "      <th>1</th>\n",
       "      <td>2021-11-10</td>\n",
       "      <td>Otros</td>\n",
       "      <td>Publicidad</td>\n",
       "      <td>Proveedor 2</td>\n",
       "      <td>Portal comprador 1</td>\n",
       "      <td>Recibido</td>\n",
       "      <td>ACTIVIDADES COMERCIALES</td>\n",
       "      <td>1.00</td>\n",
       "      <td>1.00</td>\n",
       "      <td>1,476,972.00</td>\n",
       "      <td>280,625.00</td>\n",
       "      <td>1,476,972.00</td>\n",
       "    </tr>\n",
       "    <tr>\n",
       "      <th>2</th>\n",
       "      <td>2021-11-10</td>\n",
       "      <td>Alimentos y Bebidas</td>\n",
       "      <td>Alimentos preparados y conservados</td>\n",
       "      <td>Proveedor 3</td>\n",
       "      <td>Portal comprador 1</td>\n",
       "      <td>Orden en Proceso</td>\n",
       "      <td>Lasagna</td>\n",
       "      <td>10.00</td>\n",
       "      <td>0.00</td>\n",
       "      <td>15,500.00</td>\n",
       "      <td>0.00</td>\n",
       "      <td>155,000.00</td>\n",
       "    </tr>\n",
       "    <tr>\n",
       "      <th>3</th>\n",
       "      <td>2021-11-10</td>\n",
       "      <td>Alimentos y Bebidas</td>\n",
       "      <td>Productos de carne y aves de corral</td>\n",
       "      <td>Proveedor 4</td>\n",
       "      <td>Portal comprador 2</td>\n",
       "      <td>Orden en Proceso</td>\n",
       "      <td>Pecho de Res Limpio/Sin Grasa</td>\n",
       "      <td>50.00</td>\n",
       "      <td>0.00</td>\n",
       "      <td>22,000.00</td>\n",
       "      <td>0.00</td>\n",
       "      <td>1,100,000.00</td>\n",
       "    </tr>\n",
       "    <tr>\n",
       "      <th>4</th>\n",
       "      <td>2021-11-10</td>\n",
       "      <td>Otros</td>\n",
       "      <td>Otra</td>\n",
       "      <td>Proveedor 5</td>\n",
       "      <td>Portal comprador 3</td>\n",
       "      <td>Recibido</td>\n",
       "      <td>LIBRO CABEZA, CORAZON Y MANOS</td>\n",
       "      <td>7.00</td>\n",
       "      <td>7.00</td>\n",
       "      <td>92,084.00</td>\n",
       "      <td>17,496.00</td>\n",
       "      <td>644,588.00</td>\n",
       "    </tr>\n",
       "    <tr>\n",
       "      <th>5</th>\n",
       "      <td>2021-11-10</td>\n",
       "      <td>Otros</td>\n",
       "      <td>Eliminación y tratamiento de desechos</td>\n",
       "      <td>Proveedor 6</td>\n",
       "      <td>Portal comprador 4</td>\n",
       "      <td>Pendiente por Aprobar</td>\n",
       "      <td>Recoleccion de residuos ordinarios</td>\n",
       "      <td>29.00</td>\n",
       "      <td>0.00</td>\n",
       "      <td>1,588.00</td>\n",
       "      <td>0.00</td>\n",
       "      <td>46,052.00</td>\n",
       "    </tr>\n",
       "    <tr>\n",
       "      <th>6</th>\n",
       "      <td>2021-11-10</td>\n",
       "      <td>Otros</td>\n",
       "      <td>Eliminación y tratamiento de desechos</td>\n",
       "      <td>Proveedor 6</td>\n",
       "      <td>Portal comprador 1</td>\n",
       "      <td>Orden en Proceso</td>\n",
       "      <td>Recoleccion de residuos ordinarios</td>\n",
       "      <td>117.00</td>\n",
       "      <td>0.00</td>\n",
       "      <td>1,588.00</td>\n",
       "      <td>0.00</td>\n",
       "      <td>185,796.00</td>\n",
       "    </tr>\n",
       "    <tr>\n",
       "      <th>7</th>\n",
       "      <td>2021-11-10</td>\n",
       "      <td>Otros</td>\n",
       "      <td>Eliminación y tratamiento de desechos</td>\n",
       "      <td>Proveedor 6</td>\n",
       "      <td>Portal comprador 1</td>\n",
       "      <td>Orden en Proceso</td>\n",
       "      <td>Recoleccion de residuos ordinarios</td>\n",
       "      <td>74.00</td>\n",
       "      <td>0.00</td>\n",
       "      <td>1,588.00</td>\n",
       "      <td>0.00</td>\n",
       "      <td>117,512.00</td>\n",
       "    </tr>\n",
       "    <tr>\n",
       "      <th>8</th>\n",
       "      <td>2021-11-10</td>\n",
       "      <td>Otros</td>\n",
       "      <td>Eliminación y tratamiento de desechos</td>\n",
       "      <td>Proveedor 6</td>\n",
       "      <td>Portal comprador 1</td>\n",
       "      <td>Orden en Proceso</td>\n",
       "      <td>Recoleccion de residuos ordinarios</td>\n",
       "      <td>17.00</td>\n",
       "      <td>0.00</td>\n",
       "      <td>1,588.00</td>\n",
       "      <td>0.00</td>\n",
       "      <td>26,996.00</td>\n",
       "    </tr>\n",
       "    <tr>\n",
       "      <th>9</th>\n",
       "      <td>2021-11-10</td>\n",
       "      <td>Otros</td>\n",
       "      <td>Eliminación y tratamiento de desechos</td>\n",
       "      <td>Proveedor 6</td>\n",
       "      <td>Portal comprador 1</td>\n",
       "      <td>Orden en Proceso</td>\n",
       "      <td>Recolección de residuos Peligrosos</td>\n",
       "      <td>2.00</td>\n",
       "      <td>0.00</td>\n",
       "      <td>282.00</td>\n",
       "      <td>0.00</td>\n",
       "      <td>564.00</td>\n",
       "    </tr>\n",
       "  </tbody>\n",
       "</table>\n",
       "</div>"
      ],
      "text/plain": [
       "  FECHA_ORDEN            CATEGORÍA  \\\n",
       "0  2021-11-10                Otros   \n",
       "1  2021-11-10                Otros   \n",
       "2  2021-11-10  Alimentos y Bebidas   \n",
       "3  2021-11-10  Alimentos y Bebidas   \n",
       "4  2021-11-10                Otros   \n",
       "5  2021-11-10                Otros   \n",
       "6  2021-11-10                Otros   \n",
       "7  2021-11-10                Otros   \n",
       "8  2021-11-10                Otros   \n",
       "9  2021-11-10                Otros   \n",
       "\n",
       "                                       SUBCATEGORÍA    PROVEEDOR  \\\n",
       "0  Lámparas y bombillas y componentes para lámparas  Proveedor 1   \n",
       "1                                        Publicidad  Proveedor 2   \n",
       "2                Alimentos preparados y conservados  Proveedor 3   \n",
       "3               Productos de carne y aves de corral  Proveedor 4   \n",
       "4                                              Otra  Proveedor 5   \n",
       "5             Eliminación y tratamiento de desechos  Proveedor 6   \n",
       "6             Eliminación y tratamiento de desechos  Proveedor 6   \n",
       "7             Eliminación y tratamiento de desechos  Proveedor 6   \n",
       "8             Eliminación y tratamiento de desechos  Proveedor 6   \n",
       "9             Eliminación y tratamiento de desechos  Proveedor 6   \n",
       "\n",
       "  COMPAÑÍA_COMPRADORA                 ESTADO  \\\n",
       "0  Portal comprador 1       Orden en Proceso   \n",
       "1  Portal comprador 1               Recibido   \n",
       "2  Portal comprador 1       Orden en Proceso   \n",
       "3  Portal comprador 2       Orden en Proceso   \n",
       "4  Portal comprador 3               Recibido   \n",
       "5  Portal comprador 4  Pendiente por Aprobar   \n",
       "6  Portal comprador 1       Orden en Proceso   \n",
       "7  Portal comprador 1       Orden en Proceso   \n",
       "8  Portal comprador 1       Orden en Proceso   \n",
       "9  Portal comprador 1       Orden en Proceso   \n",
       "\n",
       "                            PRODUCTO_O_SERVICIO      CANTIDAD_PEDIDA  \\\n",
       "0  PANEL LED SOBREPONER 24W REDONDO LUZ BLANCA                  2.00   \n",
       "1                       ACTIVIDADES COMERCIALES                 1.00   \n",
       "2                                       Lasagna                10.00   \n",
       "3                 Pecho de Res Limpio/Sin Grasa                50.00   \n",
       "4                 LIBRO CABEZA, CORAZON Y MANOS                 7.00   \n",
       "5            Recoleccion de residuos ordinarios                29.00   \n",
       "6            Recoleccion de residuos ordinarios               117.00   \n",
       "7            Recoleccion de residuos ordinarios                74.00   \n",
       "8            Recoleccion de residuos ordinarios                17.00   \n",
       "9            Recolección de residuos Peligrosos                 2.00   \n",
       "\n",
       "     CANTIDAD_RECIBIDA      PRECIO_UNITARIO                  IVA  \\\n",
       "0                 0.00            23,364.00             4,439.00   \n",
       "1                 1.00         1,476,972.00           280,625.00   \n",
       "2                 0.00            15,500.00                 0.00   \n",
       "3                 0.00            22,000.00                 0.00   \n",
       "4                 7.00            92,084.00            17,496.00   \n",
       "5                 0.00             1,588.00                 0.00   \n",
       "6                 0.00             1,588.00                 0.00   \n",
       "7                 0.00             1,588.00                 0.00   \n",
       "8                 0.00             1,588.00                 0.00   \n",
       "9                 0.00               282.00                 0.00   \n",
       "\n",
       "         TOTAL_SIN_IVA  \n",
       "0            46,728.00  \n",
       "1         1,476,972.00  \n",
       "2           155,000.00  \n",
       "3         1,100,000.00  \n",
       "4           644,588.00  \n",
       "5            46,052.00  \n",
       "6           185,796.00  \n",
       "7           117,512.00  \n",
       "8            26,996.00  \n",
       "9               564.00  "
      ]
     },
     "execution_count": 48,
     "metadata": {},
     "output_type": "execute_result"
    }
   ],
   "source": [
    "df.head(10)"
   ]
  },
  {
   "cell_type": "code",
   "execution_count": 49,
   "metadata": {},
   "outputs": [
    {
     "data": {
      "text/plain": [
       "Seguridad y protección personal                6045\n",
       "Otros                                          4368\n",
       "Alimentos preparados y conservados             2241\n",
       "Elementos de aseo y limpieza                   1997\n",
       "Elementos de papelería                         1618\n",
       "Bebidas                                        1327\n",
       "Productos de carne y aves de corral             787\n",
       "Productos lácteos y huevos                      720\n",
       "Productos de cereales y legumbres               497\n",
       "Chocolates, azúcares y confitería               453\n",
       "Camisas y camisetas                             425\n",
       "Productos de panadería                          398\n",
       "Vegetales frescos                               295\n",
       "Pantalones                                      246\n",
       "Elementos de cafetería                          175\n",
       "Elementos de bioseguridad                       174\n",
       "Elementos de protección personal                168\n",
       "Prendas uniformes                               104\n",
       "Aceites y grasas comestibles                     97\n",
       "Calzado                                          68\n",
       "Fruta fresca                                     62\n",
       "Condimentos y conservantes                       49\n",
       "Otra                                             27\n",
       "Equipo y accesorios de oficina y escritorio      15\n",
       "Trabajo en alturas                               14\n",
       "Insumos desinfección                             11\n",
       "Equipo de aseo                                    7\n",
       "Seguridad y control público                       2\n",
       "Señalización                                      2\n",
       "Name: SUBCATEGORÍA, dtype: int64"
      ]
     },
     "execution_count": 49,
     "metadata": {},
     "output_type": "execute_result"
    }
   ],
   "source": [
    "df['SUBCATEGORÍA'] = np.where(df['CATEGORÍA']=='Otros', 'Otros', df['SUBCATEGORÍA'])\n",
    "df['SUBCATEGORÍA'].value_counts()"
   ]
  },
  {
   "cell_type": "code",
   "execution_count": 50,
   "metadata": {},
   "outputs": [],
   "source": [
    "#threshold_subcategoria = (df['SUBCATEGORÍA'].value_counts()/len(df)*100 > 5).sum()\n",
    "#TOP_SUBCATEGORÍA = (df['SUBCATEGORÍA'].value_counts()/len(df)*100)[:threshold_subcategoria].index\n",
    "#TOP_SUBCATEGORÍA"
   ]
  },
  {
   "cell_type": "code",
   "execution_count": 51,
   "metadata": {},
   "outputs": [],
   "source": [
    "#df.loc[~df['SUBCATEGORÍA'].isin(TOP_SUBCATEGORÍA), 'SUBCATEGORÍA'] =  'Otros'"
   ]
  },
  {
   "cell_type": "code",
   "execution_count": 52,
   "metadata": {},
   "outputs": [],
   "source": [
    "#df['SUBCATEGORÍA'].value_counts()/len(df)*100"
   ]
  },
  {
   "cell_type": "code",
   "execution_count": 53,
   "metadata": {},
   "outputs": [
    {
     "data": {
      "text/html": [
       "<div>\n",
       "<style scoped>\n",
       "    .dataframe tbody tr th:only-of-type {\n",
       "        vertical-align: middle;\n",
       "    }\n",
       "\n",
       "    .dataframe tbody tr th {\n",
       "        vertical-align: top;\n",
       "    }\n",
       "\n",
       "    .dataframe thead th {\n",
       "        text-align: right;\n",
       "    }\n",
       "</style>\n",
       "<table border=\"1\" class=\"dataframe\">\n",
       "  <thead>\n",
       "    <tr style=\"text-align: right;\">\n",
       "      <th></th>\n",
       "      <th>FECHA_ORDEN</th>\n",
       "      <th>CATEGORÍA</th>\n",
       "      <th>SUBCATEGORÍA</th>\n",
       "      <th>PROVEEDOR</th>\n",
       "      <th>COMPAÑÍA_COMPRADORA</th>\n",
       "      <th>ESTADO</th>\n",
       "      <th>PRODUCTO_O_SERVICIO</th>\n",
       "      <th>CANTIDAD_PEDIDA</th>\n",
       "      <th>CANTIDAD_RECIBIDA</th>\n",
       "      <th>PRECIO_UNITARIO</th>\n",
       "      <th>IVA</th>\n",
       "      <th>TOTAL_SIN_IVA</th>\n",
       "    </tr>\n",
       "  </thead>\n",
       "  <tbody>\n",
       "    <tr>\n",
       "      <th>0</th>\n",
       "      <td>2021-11-10</td>\n",
       "      <td>Otros</td>\n",
       "      <td>Otros</td>\n",
       "      <td>Proveedor 1</td>\n",
       "      <td>Portal comprador 1</td>\n",
       "      <td>Orden en Proceso</td>\n",
       "      <td>PANEL LED SOBREPONER 24W REDONDO LUZ BLANCA</td>\n",
       "      <td>2.00</td>\n",
       "      <td>0.00</td>\n",
       "      <td>23,364.00</td>\n",
       "      <td>4,439.00</td>\n",
       "      <td>46,728.00</td>\n",
       "    </tr>\n",
       "    <tr>\n",
       "      <th>1</th>\n",
       "      <td>2021-11-10</td>\n",
       "      <td>Otros</td>\n",
       "      <td>Otros</td>\n",
       "      <td>Proveedor 2</td>\n",
       "      <td>Portal comprador 1</td>\n",
       "      <td>Recibido</td>\n",
       "      <td>ACTIVIDADES COMERCIALES</td>\n",
       "      <td>1.00</td>\n",
       "      <td>1.00</td>\n",
       "      <td>1,476,972.00</td>\n",
       "      <td>280,625.00</td>\n",
       "      <td>1,476,972.00</td>\n",
       "    </tr>\n",
       "    <tr>\n",
       "      <th>2</th>\n",
       "      <td>2021-11-10</td>\n",
       "      <td>Alimentos y Bebidas</td>\n",
       "      <td>Alimentos preparados y conservados</td>\n",
       "      <td>Proveedor 3</td>\n",
       "      <td>Portal comprador 1</td>\n",
       "      <td>Orden en Proceso</td>\n",
       "      <td>Lasagna</td>\n",
       "      <td>10.00</td>\n",
       "      <td>0.00</td>\n",
       "      <td>15,500.00</td>\n",
       "      <td>0.00</td>\n",
       "      <td>155,000.00</td>\n",
       "    </tr>\n",
       "    <tr>\n",
       "      <th>3</th>\n",
       "      <td>2021-11-10</td>\n",
       "      <td>Alimentos y Bebidas</td>\n",
       "      <td>Productos de carne y aves de corral</td>\n",
       "      <td>Proveedor 4</td>\n",
       "      <td>Portal comprador 2</td>\n",
       "      <td>Orden en Proceso</td>\n",
       "      <td>Pecho de Res Limpio/Sin Grasa</td>\n",
       "      <td>50.00</td>\n",
       "      <td>0.00</td>\n",
       "      <td>22,000.00</td>\n",
       "      <td>0.00</td>\n",
       "      <td>1,100,000.00</td>\n",
       "    </tr>\n",
       "    <tr>\n",
       "      <th>4</th>\n",
       "      <td>2021-11-10</td>\n",
       "      <td>Otros</td>\n",
       "      <td>Otros</td>\n",
       "      <td>Proveedor 5</td>\n",
       "      <td>Portal comprador 3</td>\n",
       "      <td>Recibido</td>\n",
       "      <td>LIBRO CABEZA, CORAZON Y MANOS</td>\n",
       "      <td>7.00</td>\n",
       "      <td>7.00</td>\n",
       "      <td>92,084.00</td>\n",
       "      <td>17,496.00</td>\n",
       "      <td>644,588.00</td>\n",
       "    </tr>\n",
       "    <tr>\n",
       "      <th>5</th>\n",
       "      <td>2021-11-10</td>\n",
       "      <td>Otros</td>\n",
       "      <td>Otros</td>\n",
       "      <td>Proveedor 6</td>\n",
       "      <td>Portal comprador 4</td>\n",
       "      <td>Pendiente por Aprobar</td>\n",
       "      <td>Recoleccion de residuos ordinarios</td>\n",
       "      <td>29.00</td>\n",
       "      <td>0.00</td>\n",
       "      <td>1,588.00</td>\n",
       "      <td>0.00</td>\n",
       "      <td>46,052.00</td>\n",
       "    </tr>\n",
       "    <tr>\n",
       "      <th>6</th>\n",
       "      <td>2021-11-10</td>\n",
       "      <td>Otros</td>\n",
       "      <td>Otros</td>\n",
       "      <td>Proveedor 6</td>\n",
       "      <td>Portal comprador 1</td>\n",
       "      <td>Orden en Proceso</td>\n",
       "      <td>Recoleccion de residuos ordinarios</td>\n",
       "      <td>117.00</td>\n",
       "      <td>0.00</td>\n",
       "      <td>1,588.00</td>\n",
       "      <td>0.00</td>\n",
       "      <td>185,796.00</td>\n",
       "    </tr>\n",
       "    <tr>\n",
       "      <th>7</th>\n",
       "      <td>2021-11-10</td>\n",
       "      <td>Otros</td>\n",
       "      <td>Otros</td>\n",
       "      <td>Proveedor 6</td>\n",
       "      <td>Portal comprador 1</td>\n",
       "      <td>Orden en Proceso</td>\n",
       "      <td>Recoleccion de residuos ordinarios</td>\n",
       "      <td>74.00</td>\n",
       "      <td>0.00</td>\n",
       "      <td>1,588.00</td>\n",
       "      <td>0.00</td>\n",
       "      <td>117,512.00</td>\n",
       "    </tr>\n",
       "    <tr>\n",
       "      <th>8</th>\n",
       "      <td>2021-11-10</td>\n",
       "      <td>Otros</td>\n",
       "      <td>Otros</td>\n",
       "      <td>Proveedor 6</td>\n",
       "      <td>Portal comprador 1</td>\n",
       "      <td>Orden en Proceso</td>\n",
       "      <td>Recoleccion de residuos ordinarios</td>\n",
       "      <td>17.00</td>\n",
       "      <td>0.00</td>\n",
       "      <td>1,588.00</td>\n",
       "      <td>0.00</td>\n",
       "      <td>26,996.00</td>\n",
       "    </tr>\n",
       "    <tr>\n",
       "      <th>9</th>\n",
       "      <td>2021-11-10</td>\n",
       "      <td>Otros</td>\n",
       "      <td>Otros</td>\n",
       "      <td>Proveedor 6</td>\n",
       "      <td>Portal comprador 1</td>\n",
       "      <td>Orden en Proceso</td>\n",
       "      <td>Recolección de residuos Peligrosos</td>\n",
       "      <td>2.00</td>\n",
       "      <td>0.00</td>\n",
       "      <td>282.00</td>\n",
       "      <td>0.00</td>\n",
       "      <td>564.00</td>\n",
       "    </tr>\n",
       "  </tbody>\n",
       "</table>\n",
       "</div>"
      ],
      "text/plain": [
       "  FECHA_ORDEN            CATEGORÍA                         SUBCATEGORÍA  \\\n",
       "0  2021-11-10                Otros                                Otros   \n",
       "1  2021-11-10                Otros                                Otros   \n",
       "2  2021-11-10  Alimentos y Bebidas   Alimentos preparados y conservados   \n",
       "3  2021-11-10  Alimentos y Bebidas  Productos de carne y aves de corral   \n",
       "4  2021-11-10                Otros                                Otros   \n",
       "5  2021-11-10                Otros                                Otros   \n",
       "6  2021-11-10                Otros                                Otros   \n",
       "7  2021-11-10                Otros                                Otros   \n",
       "8  2021-11-10                Otros                                Otros   \n",
       "9  2021-11-10                Otros                                Otros   \n",
       "\n",
       "     PROVEEDOR COMPAÑÍA_COMPRADORA                 ESTADO  \\\n",
       "0  Proveedor 1  Portal comprador 1       Orden en Proceso   \n",
       "1  Proveedor 2  Portal comprador 1               Recibido   \n",
       "2  Proveedor 3  Portal comprador 1       Orden en Proceso   \n",
       "3  Proveedor 4  Portal comprador 2       Orden en Proceso   \n",
       "4  Proveedor 5  Portal comprador 3               Recibido   \n",
       "5  Proveedor 6  Portal comprador 4  Pendiente por Aprobar   \n",
       "6  Proveedor 6  Portal comprador 1       Orden en Proceso   \n",
       "7  Proveedor 6  Portal comprador 1       Orden en Proceso   \n",
       "8  Proveedor 6  Portal comprador 1       Orden en Proceso   \n",
       "9  Proveedor 6  Portal comprador 1       Orden en Proceso   \n",
       "\n",
       "                            PRODUCTO_O_SERVICIO      CANTIDAD_PEDIDA  \\\n",
       "0  PANEL LED SOBREPONER 24W REDONDO LUZ BLANCA                  2.00   \n",
       "1                       ACTIVIDADES COMERCIALES                 1.00   \n",
       "2                                       Lasagna                10.00   \n",
       "3                 Pecho de Res Limpio/Sin Grasa                50.00   \n",
       "4                 LIBRO CABEZA, CORAZON Y MANOS                 7.00   \n",
       "5            Recoleccion de residuos ordinarios                29.00   \n",
       "6            Recoleccion de residuos ordinarios               117.00   \n",
       "7            Recoleccion de residuos ordinarios                74.00   \n",
       "8            Recoleccion de residuos ordinarios                17.00   \n",
       "9            Recolección de residuos Peligrosos                 2.00   \n",
       "\n",
       "     CANTIDAD_RECIBIDA      PRECIO_UNITARIO                  IVA  \\\n",
       "0                 0.00            23,364.00             4,439.00   \n",
       "1                 1.00         1,476,972.00           280,625.00   \n",
       "2                 0.00            15,500.00                 0.00   \n",
       "3                 0.00            22,000.00                 0.00   \n",
       "4                 7.00            92,084.00            17,496.00   \n",
       "5                 0.00             1,588.00                 0.00   \n",
       "6                 0.00             1,588.00                 0.00   \n",
       "7                 0.00             1,588.00                 0.00   \n",
       "8                 0.00             1,588.00                 0.00   \n",
       "9                 0.00               282.00                 0.00   \n",
       "\n",
       "         TOTAL_SIN_IVA  \n",
       "0            46,728.00  \n",
       "1         1,476,972.00  \n",
       "2           155,000.00  \n",
       "3         1,100,000.00  \n",
       "4           644,588.00  \n",
       "5            46,052.00  \n",
       "6           185,796.00  \n",
       "7           117,512.00  \n",
       "8            26,996.00  \n",
       "9               564.00  "
      ]
     },
     "execution_count": 53,
     "metadata": {},
     "output_type": "execute_result"
    }
   ],
   "source": [
    "df.head(10)"
   ]
  },
  {
   "cell_type": "markdown",
   "metadata": {},
   "source": [
    "### Top PRODUCTO_O_SERVICIO"
   ]
  },
  {
   "cell_type": "code",
   "execution_count": 54,
   "metadata": {},
   "outputs": [
    {
     "data": {
      "text/plain": [
       "6 Bota de seguridad media caña dielectrica con puntera de seguridad                                            3.45\n",
       "85 Overol industrial                                                                                           1.46\n",
       "7 Botas de caucho con puntera negra caña alta                                                                  0.84\n",
       "30 Lentes de seguridad oscuro                                                                                  0.81\n",
       "8 Bota pvc de seguridad caña alta, dielectrica con puntera de seguridad                                        0.78\n",
       "                                                                                                       ...         \n",
       "S777702 PULSADOR 22MM HONGO VERDE SIN RETENCION CON PASE N.O                                                   0.00\n",
       "CAMISETA POLO MANGA LARGA ( CAMIBUZO) GRIS CON NARANJA TECNICOS Y CONDUCTORES HOMBRE Talla S                   0.00\n",
       "PERFIL OMEGA BASE 6                                                                                            0.00\n",
       "GRAPA INDUSTRIAL 23/12 (R9) x 1000 TRITON                                                                      0.00\n",
       "Jabón de mano X20 LTS YILOP EXPRESS                                                                            0.00\n",
       "Name: PRODUCTO_O_SERVICIO, Length: 3445, dtype: float64"
      ]
     },
     "execution_count": 54,
     "metadata": {},
     "output_type": "execute_result"
    }
   ],
   "source": [
    "#df.drop('PRODUCTO_O_SERVICIO', axis=1, inplace=True)\n",
    "df['PRODUCTO_O_SERVICIO'].value_counts()/len(df)*100"
   ]
  },
  {
   "cell_type": "code",
   "execution_count": 55,
   "metadata": {},
   "outputs": [
    {
     "data": {
      "text/plain": [
       "Otros                                                                  4368\n",
       "6 Bota de seguridad media caña dielectrica con puntera de seguridad     773\n",
       "85 Overol industrial                                                    326\n",
       "7 Botas de caucho con puntera negra caña alta                           187\n",
       "30 Lentes de seguridad oscuro                                           181\n",
       "                                                                       ... \n",
       "7000017 PAÑO MULTIUSOS                                                    1\n",
       "Cepillo Plancha Fibra Media Task                                          1\n",
       "CAMISETA POLO HOMBRE CON LOGO (GRIS)  / 5XL - 7XL                         1\n",
       "Guante Nitrilo Negro Calibre 6 Protexion X 100 Und L                      1\n",
       "Camibuzo azul Navy Dama Talla L                                           1\n",
       "Name: PRODUCTO_O_SERVICIO, Length: 1863, dtype: int64"
      ]
     },
     "execution_count": 55,
     "metadata": {},
     "output_type": "execute_result"
    }
   ],
   "source": [
    "df['PRODUCTO_O_SERVICIO'] = np.where(df['CATEGORÍA']=='Otros', 'Otros', df['PRODUCTO_O_SERVICIO'])\n",
    "df['PRODUCTO_O_SERVICIO'].value_counts()"
   ]
  },
  {
   "cell_type": "code",
   "execution_count": 56,
   "metadata": {},
   "outputs": [
    {
     "data": {
      "text/html": [
       "<div>\n",
       "<style scoped>\n",
       "    .dataframe tbody tr th:only-of-type {\n",
       "        vertical-align: middle;\n",
       "    }\n",
       "\n",
       "    .dataframe tbody tr th {\n",
       "        vertical-align: top;\n",
       "    }\n",
       "\n",
       "    .dataframe thead th {\n",
       "        text-align: right;\n",
       "    }\n",
       "</style>\n",
       "<table border=\"1\" class=\"dataframe\">\n",
       "  <thead>\n",
       "    <tr style=\"text-align: right;\">\n",
       "      <th></th>\n",
       "      <th>FECHA_ORDEN</th>\n",
       "      <th>CATEGORÍA</th>\n",
       "      <th>SUBCATEGORÍA</th>\n",
       "      <th>PROVEEDOR</th>\n",
       "      <th>COMPAÑÍA_COMPRADORA</th>\n",
       "      <th>ESTADO</th>\n",
       "      <th>PRODUCTO_O_SERVICIO</th>\n",
       "      <th>CANTIDAD_PEDIDA</th>\n",
       "      <th>CANTIDAD_RECIBIDA</th>\n",
       "      <th>PRECIO_UNITARIO</th>\n",
       "      <th>IVA</th>\n",
       "      <th>TOTAL_SIN_IVA</th>\n",
       "    </tr>\n",
       "  </thead>\n",
       "  <tbody>\n",
       "    <tr>\n",
       "      <th>0</th>\n",
       "      <td>2021-11-10</td>\n",
       "      <td>Otros</td>\n",
       "      <td>Otros</td>\n",
       "      <td>Proveedor 1</td>\n",
       "      <td>Portal comprador 1</td>\n",
       "      <td>Orden en Proceso</td>\n",
       "      <td>Otros</td>\n",
       "      <td>2.00</td>\n",
       "      <td>0.00</td>\n",
       "      <td>23,364.00</td>\n",
       "      <td>4,439.00</td>\n",
       "      <td>46,728.00</td>\n",
       "    </tr>\n",
       "    <tr>\n",
       "      <th>1</th>\n",
       "      <td>2021-11-10</td>\n",
       "      <td>Otros</td>\n",
       "      <td>Otros</td>\n",
       "      <td>Proveedor 2</td>\n",
       "      <td>Portal comprador 1</td>\n",
       "      <td>Recibido</td>\n",
       "      <td>Otros</td>\n",
       "      <td>1.00</td>\n",
       "      <td>1.00</td>\n",
       "      <td>1,476,972.00</td>\n",
       "      <td>280,625.00</td>\n",
       "      <td>1,476,972.00</td>\n",
       "    </tr>\n",
       "    <tr>\n",
       "      <th>2</th>\n",
       "      <td>2021-11-10</td>\n",
       "      <td>Alimentos y Bebidas</td>\n",
       "      <td>Alimentos preparados y conservados</td>\n",
       "      <td>Proveedor 3</td>\n",
       "      <td>Portal comprador 1</td>\n",
       "      <td>Orden en Proceso</td>\n",
       "      <td>Lasagna</td>\n",
       "      <td>10.00</td>\n",
       "      <td>0.00</td>\n",
       "      <td>15,500.00</td>\n",
       "      <td>0.00</td>\n",
       "      <td>155,000.00</td>\n",
       "    </tr>\n",
       "    <tr>\n",
       "      <th>3</th>\n",
       "      <td>2021-11-10</td>\n",
       "      <td>Alimentos y Bebidas</td>\n",
       "      <td>Productos de carne y aves de corral</td>\n",
       "      <td>Proveedor 4</td>\n",
       "      <td>Portal comprador 2</td>\n",
       "      <td>Orden en Proceso</td>\n",
       "      <td>Pecho de Res Limpio/Sin Grasa</td>\n",
       "      <td>50.00</td>\n",
       "      <td>0.00</td>\n",
       "      <td>22,000.00</td>\n",
       "      <td>0.00</td>\n",
       "      <td>1,100,000.00</td>\n",
       "    </tr>\n",
       "    <tr>\n",
       "      <th>4</th>\n",
       "      <td>2021-11-10</td>\n",
       "      <td>Otros</td>\n",
       "      <td>Otros</td>\n",
       "      <td>Proveedor 5</td>\n",
       "      <td>Portal comprador 3</td>\n",
       "      <td>Recibido</td>\n",
       "      <td>Otros</td>\n",
       "      <td>7.00</td>\n",
       "      <td>7.00</td>\n",
       "      <td>92,084.00</td>\n",
       "      <td>17,496.00</td>\n",
       "      <td>644,588.00</td>\n",
       "    </tr>\n",
       "    <tr>\n",
       "      <th>5</th>\n",
       "      <td>2021-11-10</td>\n",
       "      <td>Otros</td>\n",
       "      <td>Otros</td>\n",
       "      <td>Proveedor 6</td>\n",
       "      <td>Portal comprador 4</td>\n",
       "      <td>Pendiente por Aprobar</td>\n",
       "      <td>Otros</td>\n",
       "      <td>29.00</td>\n",
       "      <td>0.00</td>\n",
       "      <td>1,588.00</td>\n",
       "      <td>0.00</td>\n",
       "      <td>46,052.00</td>\n",
       "    </tr>\n",
       "    <tr>\n",
       "      <th>6</th>\n",
       "      <td>2021-11-10</td>\n",
       "      <td>Otros</td>\n",
       "      <td>Otros</td>\n",
       "      <td>Proveedor 6</td>\n",
       "      <td>Portal comprador 1</td>\n",
       "      <td>Orden en Proceso</td>\n",
       "      <td>Otros</td>\n",
       "      <td>117.00</td>\n",
       "      <td>0.00</td>\n",
       "      <td>1,588.00</td>\n",
       "      <td>0.00</td>\n",
       "      <td>185,796.00</td>\n",
       "    </tr>\n",
       "    <tr>\n",
       "      <th>7</th>\n",
       "      <td>2021-11-10</td>\n",
       "      <td>Otros</td>\n",
       "      <td>Otros</td>\n",
       "      <td>Proveedor 6</td>\n",
       "      <td>Portal comprador 1</td>\n",
       "      <td>Orden en Proceso</td>\n",
       "      <td>Otros</td>\n",
       "      <td>74.00</td>\n",
       "      <td>0.00</td>\n",
       "      <td>1,588.00</td>\n",
       "      <td>0.00</td>\n",
       "      <td>117,512.00</td>\n",
       "    </tr>\n",
       "    <tr>\n",
       "      <th>8</th>\n",
       "      <td>2021-11-10</td>\n",
       "      <td>Otros</td>\n",
       "      <td>Otros</td>\n",
       "      <td>Proveedor 6</td>\n",
       "      <td>Portal comprador 1</td>\n",
       "      <td>Orden en Proceso</td>\n",
       "      <td>Otros</td>\n",
       "      <td>17.00</td>\n",
       "      <td>0.00</td>\n",
       "      <td>1,588.00</td>\n",
       "      <td>0.00</td>\n",
       "      <td>26,996.00</td>\n",
       "    </tr>\n",
       "    <tr>\n",
       "      <th>9</th>\n",
       "      <td>2021-11-10</td>\n",
       "      <td>Otros</td>\n",
       "      <td>Otros</td>\n",
       "      <td>Proveedor 6</td>\n",
       "      <td>Portal comprador 1</td>\n",
       "      <td>Orden en Proceso</td>\n",
       "      <td>Otros</td>\n",
       "      <td>2.00</td>\n",
       "      <td>0.00</td>\n",
       "      <td>282.00</td>\n",
       "      <td>0.00</td>\n",
       "      <td>564.00</td>\n",
       "    </tr>\n",
       "  </tbody>\n",
       "</table>\n",
       "</div>"
      ],
      "text/plain": [
       "  FECHA_ORDEN            CATEGORÍA                         SUBCATEGORÍA  \\\n",
       "0  2021-11-10                Otros                                Otros   \n",
       "1  2021-11-10                Otros                                Otros   \n",
       "2  2021-11-10  Alimentos y Bebidas   Alimentos preparados y conservados   \n",
       "3  2021-11-10  Alimentos y Bebidas  Productos de carne y aves de corral   \n",
       "4  2021-11-10                Otros                                Otros   \n",
       "5  2021-11-10                Otros                                Otros   \n",
       "6  2021-11-10                Otros                                Otros   \n",
       "7  2021-11-10                Otros                                Otros   \n",
       "8  2021-11-10                Otros                                Otros   \n",
       "9  2021-11-10                Otros                                Otros   \n",
       "\n",
       "     PROVEEDOR COMPAÑÍA_COMPRADORA                 ESTADO  \\\n",
       "0  Proveedor 1  Portal comprador 1       Orden en Proceso   \n",
       "1  Proveedor 2  Portal comprador 1               Recibido   \n",
       "2  Proveedor 3  Portal comprador 1       Orden en Proceso   \n",
       "3  Proveedor 4  Portal comprador 2       Orden en Proceso   \n",
       "4  Proveedor 5  Portal comprador 3               Recibido   \n",
       "5  Proveedor 6  Portal comprador 4  Pendiente por Aprobar   \n",
       "6  Proveedor 6  Portal comprador 1       Orden en Proceso   \n",
       "7  Proveedor 6  Portal comprador 1       Orden en Proceso   \n",
       "8  Proveedor 6  Portal comprador 1       Orden en Proceso   \n",
       "9  Proveedor 6  Portal comprador 1       Orden en Proceso   \n",
       "\n",
       "             PRODUCTO_O_SERVICIO      CANTIDAD_PEDIDA    CANTIDAD_RECIBIDA  \\\n",
       "0                          Otros                 2.00                 0.00   \n",
       "1                          Otros                 1.00                 1.00   \n",
       "2                        Lasagna                10.00                 0.00   \n",
       "3  Pecho de Res Limpio/Sin Grasa                50.00                 0.00   \n",
       "4                          Otros                 7.00                 7.00   \n",
       "5                          Otros                29.00                 0.00   \n",
       "6                          Otros               117.00                 0.00   \n",
       "7                          Otros                74.00                 0.00   \n",
       "8                          Otros                17.00                 0.00   \n",
       "9                          Otros                 2.00                 0.00   \n",
       "\n",
       "       PRECIO_UNITARIO                  IVA        TOTAL_SIN_IVA  \n",
       "0            23,364.00             4,439.00            46,728.00  \n",
       "1         1,476,972.00           280,625.00         1,476,972.00  \n",
       "2            15,500.00                 0.00           155,000.00  \n",
       "3            22,000.00                 0.00         1,100,000.00  \n",
       "4            92,084.00            17,496.00           644,588.00  \n",
       "5             1,588.00                 0.00            46,052.00  \n",
       "6             1,588.00                 0.00           185,796.00  \n",
       "7             1,588.00                 0.00           117,512.00  \n",
       "8             1,588.00                 0.00            26,996.00  \n",
       "9               282.00                 0.00               564.00  "
      ]
     },
     "execution_count": 56,
     "metadata": {},
     "output_type": "execute_result"
    }
   ],
   "source": [
    "df.head(10)"
   ]
  },
  {
   "cell_type": "code",
   "execution_count": 205,
   "metadata": {},
   "outputs": [
    {
     "data": {
      "text/plain": [
       "10"
      ]
     },
     "execution_count": 205,
     "metadata": {},
     "output_type": "execute_result"
    }
   ],
   "source": [
    "#threshold_producto = (df['PRODUCTO_O_SERVICIO'].value_counts()/len(df)*100 > 0.5).sum()\n",
    "#threshold_producto"
   ]
  },
  {
   "cell_type": "code",
   "execution_count": 206,
   "metadata": {},
   "outputs": [
    {
     "data": {
      "text/plain": [
       "Index(['6 Bota de seguridad media caña dielectrica con puntera de seguridad',\n",
       "       '85 Overol industrial', '7 Botas de caucho con puntera negra caña alta',\n",
       "       '30 Lentes de seguridad oscuro ',\n",
       "       '8 Bota pvc de seguridad caña alta, dielectrica con puntera de seguridad',\n",
       "       '46 Guantes nitrilo azul no esteriles', '86 Camisa oxfort manga larga',\n",
       "       'PAPEL BOND 72 g CARTA x 500 H ECOLOGICO NATURAL',\n",
       "       '48 Guantes vaqueta ingeniero reforzado ', '87 Pantalon jean dotacion'],\n",
       "      dtype='object')"
      ]
     },
     "execution_count": 206,
     "metadata": {},
     "output_type": "execute_result"
    }
   ],
   "source": [
    "#TOP_PRODUCTO_O_SERVICIO = (df['PRODUCTO_O_SERVICIO'].value_counts()/len(df)*100)[:threshold_producto].index\n",
    "#TOP_PRODUCTO_O_SERVICIO"
   ]
  },
  {
   "cell_type": "code",
   "execution_count": 207,
   "metadata": {},
   "outputs": [],
   "source": [
    "#df.loc[~df['PRODUCTO_O_SERVICIO'].isin(TOP_PRODUCTO_O_SERVICIO), 'PRODUCTO_O_SERVICIO'] =  'Otros'"
   ]
  },
  {
   "cell_type": "code",
   "execution_count": 208,
   "metadata": {},
   "outputs": [
    {
     "data": {
      "text/plain": [
       "Otros                                                                      20065\n",
       "6 Bota de seguridad media caña dielectrica con puntera de seguridad          773\n",
       "85 Overol industrial                                                         326\n",
       "7 Botas de caucho con puntera negra caña alta                                187\n",
       "30 Lentes de seguridad oscuro                                                181\n",
       "8 Bota pvc de seguridad caña alta, dielectrica con puntera de seguridad      174\n",
       "46 Guantes nitrilo azul no esteriles                                         157\n",
       "86 Camisa oxfort manga larga                                                 151\n",
       "PAPEL BOND 72 g CARTA x 500 H ECOLOGICO NATURAL                              148\n",
       "48 Guantes vaqueta ingeniero reforzado                                       117\n",
       "87 Pantalon jean dotacion                                                    113\n",
       "Name: PRODUCTO_O_SERVICIO, dtype: int64"
      ]
     },
     "execution_count": 208,
     "metadata": {},
     "output_type": "execute_result"
    }
   ],
   "source": [
    "#df['PRODUCTO_O_SERVICIO'].value_counts()"
   ]
  },
  {
   "cell_type": "markdown",
   "metadata": {},
   "source": [
    "### Top PROVEEDOR"
   ]
  },
  {
   "cell_type": "code",
   "execution_count": 57,
   "metadata": {},
   "outputs": [
    {
     "data": {
      "text/plain": [
       "Proveedor 301                  24.29\n",
       "Proveedor 59                    6.93\n",
       "Proveedor 28                    6.34\n",
       "Proveedor 26                    5.43\n",
       "Proveedor 321                   4.33\n",
       "                        ...         \n",
       "Proveedor 187                   0.00\n",
       "Proveedor 286                   0.00\n",
       "Proveedor 172                   0.00\n",
       "Proveedor 305                   0.00\n",
       "Proveedor 197                   0.00\n",
       "Name: PROVEEDOR, Length: 405, dtype: float64"
      ]
     },
     "execution_count": 57,
     "metadata": {},
     "output_type": "execute_result"
    }
   ],
   "source": [
    "df['PROVEEDOR'].value_counts()/len(df)*100"
   ]
  },
  {
   "cell_type": "code",
   "execution_count": 353,
   "metadata": {},
   "outputs": [
    {
     "data": {
      "text/plain": [
       "Proveedor 301    5439\n",
       "Otros            4368\n",
       "Proveedor 59     1535\n",
       "Proveedor 28     1414\n",
       "Proveedor 26     1132\n",
       "                 ... \n",
       "Proveedor 299       1\n",
       "Proveedor 272       1\n",
       "Proveedor 298       1\n",
       "Proveedor 245       1\n",
       "Proveedor 264       1\n",
       "Name: PROVEEDOR, Length: 160, dtype: int64"
      ]
     },
     "execution_count": 353,
     "metadata": {},
     "output_type": "execute_result"
    }
   ],
   "source": [
    "#df['PROVEEDOR'] = np.where(df['CATEGORÍA']=='Otros', 'Otros', df['PROVEEDOR'])\n",
    "#df['PROVEEDOR'].value_counts()"
   ]
  },
  {
   "cell_type": "code",
   "execution_count": 58,
   "metadata": {
    "scrolled": true
   },
   "outputs": [
    {
     "data": {
      "text/plain": [
       "Index(['Proveedor 301', 'Proveedor 59', 'Proveedor 28', 'Proveedor 26'], dtype='object')"
      ]
     },
     "execution_count": 58,
     "metadata": {},
     "output_type": "execute_result"
    }
   ],
   "source": [
    "threshold_proveedor = (df['PROVEEDOR'].value_counts()/len(df)*100 > 5).sum()\n",
    "TOP_PROVEEDOR= (df['PROVEEDOR'].value_counts()/len(df)*100)[:threshold_proveedor].index\n",
    "TOP_PROVEEDOR"
   ]
  },
  {
   "cell_type": "code",
   "execution_count": 59,
   "metadata": {},
   "outputs": [],
   "source": [
    "df.loc[~df['PROVEEDOR'].isin(TOP_PROVEEDOR), 'PROVEEDOR'] =  'Otros'"
   ]
  },
  {
   "cell_type": "code",
   "execution_count": 60,
   "metadata": {},
   "outputs": [
    {
     "data": {
      "text/plain": [
       "Otros                          57.01\n",
       "Proveedor 301                  24.29\n",
       "Proveedor 59                    6.93\n",
       "Proveedor 28                    6.34\n",
       "Proveedor 26                    5.43\n",
       "Name: PROVEEDOR, dtype: float64"
      ]
     },
     "execution_count": 60,
     "metadata": {},
     "output_type": "execute_result"
    }
   ],
   "source": [
    "df['PROVEEDOR'].value_counts()/len(df)*100"
   ]
  },
  {
   "cell_type": "code",
   "execution_count": 61,
   "metadata": {},
   "outputs": [
    {
     "data": {
      "text/html": [
       "<div>\n",
       "<style scoped>\n",
       "    .dataframe tbody tr th:only-of-type {\n",
       "        vertical-align: middle;\n",
       "    }\n",
       "\n",
       "    .dataframe tbody tr th {\n",
       "        vertical-align: top;\n",
       "    }\n",
       "\n",
       "    .dataframe thead th {\n",
       "        text-align: right;\n",
       "    }\n",
       "</style>\n",
       "<table border=\"1\" class=\"dataframe\">\n",
       "  <thead>\n",
       "    <tr style=\"text-align: right;\">\n",
       "      <th></th>\n",
       "      <th>FECHA_ORDEN</th>\n",
       "      <th>CATEGORÍA</th>\n",
       "      <th>SUBCATEGORÍA</th>\n",
       "      <th>PROVEEDOR</th>\n",
       "      <th>COMPAÑÍA_COMPRADORA</th>\n",
       "      <th>ESTADO</th>\n",
       "      <th>PRODUCTO_O_SERVICIO</th>\n",
       "      <th>CANTIDAD_PEDIDA</th>\n",
       "      <th>CANTIDAD_RECIBIDA</th>\n",
       "      <th>PRECIO_UNITARIO</th>\n",
       "      <th>IVA</th>\n",
       "      <th>TOTAL_SIN_IVA</th>\n",
       "    </tr>\n",
       "  </thead>\n",
       "  <tbody>\n",
       "    <tr>\n",
       "      <th>0</th>\n",
       "      <td>2021-11-10</td>\n",
       "      <td>Otros</td>\n",
       "      <td>Otros</td>\n",
       "      <td>Otros</td>\n",
       "      <td>Portal comprador 1</td>\n",
       "      <td>Orden en Proceso</td>\n",
       "      <td>Otros</td>\n",
       "      <td>2.00</td>\n",
       "      <td>0.00</td>\n",
       "      <td>23,364.00</td>\n",
       "      <td>4,439.00</td>\n",
       "      <td>46,728.00</td>\n",
       "    </tr>\n",
       "    <tr>\n",
       "      <th>1</th>\n",
       "      <td>2021-11-10</td>\n",
       "      <td>Otros</td>\n",
       "      <td>Otros</td>\n",
       "      <td>Otros</td>\n",
       "      <td>Portal comprador 1</td>\n",
       "      <td>Recibido</td>\n",
       "      <td>Otros</td>\n",
       "      <td>1.00</td>\n",
       "      <td>1.00</td>\n",
       "      <td>1,476,972.00</td>\n",
       "      <td>280,625.00</td>\n",
       "      <td>1,476,972.00</td>\n",
       "    </tr>\n",
       "    <tr>\n",
       "      <th>2</th>\n",
       "      <td>2021-11-10</td>\n",
       "      <td>Alimentos y Bebidas</td>\n",
       "      <td>Alimentos preparados y conservados</td>\n",
       "      <td>Otros</td>\n",
       "      <td>Portal comprador 1</td>\n",
       "      <td>Orden en Proceso</td>\n",
       "      <td>Lasagna</td>\n",
       "      <td>10.00</td>\n",
       "      <td>0.00</td>\n",
       "      <td>15,500.00</td>\n",
       "      <td>0.00</td>\n",
       "      <td>155,000.00</td>\n",
       "    </tr>\n",
       "    <tr>\n",
       "      <th>3</th>\n",
       "      <td>2021-11-10</td>\n",
       "      <td>Alimentos y Bebidas</td>\n",
       "      <td>Productos de carne y aves de corral</td>\n",
       "      <td>Otros</td>\n",
       "      <td>Portal comprador 2</td>\n",
       "      <td>Orden en Proceso</td>\n",
       "      <td>Pecho de Res Limpio/Sin Grasa</td>\n",
       "      <td>50.00</td>\n",
       "      <td>0.00</td>\n",
       "      <td>22,000.00</td>\n",
       "      <td>0.00</td>\n",
       "      <td>1,100,000.00</td>\n",
       "    </tr>\n",
       "    <tr>\n",
       "      <th>4</th>\n",
       "      <td>2021-11-10</td>\n",
       "      <td>Otros</td>\n",
       "      <td>Otros</td>\n",
       "      <td>Otros</td>\n",
       "      <td>Portal comprador 3</td>\n",
       "      <td>Recibido</td>\n",
       "      <td>Otros</td>\n",
       "      <td>7.00</td>\n",
       "      <td>7.00</td>\n",
       "      <td>92,084.00</td>\n",
       "      <td>17,496.00</td>\n",
       "      <td>644,588.00</td>\n",
       "    </tr>\n",
       "    <tr>\n",
       "      <th>5</th>\n",
       "      <td>2021-11-10</td>\n",
       "      <td>Otros</td>\n",
       "      <td>Otros</td>\n",
       "      <td>Otros</td>\n",
       "      <td>Portal comprador 4</td>\n",
       "      <td>Pendiente por Aprobar</td>\n",
       "      <td>Otros</td>\n",
       "      <td>29.00</td>\n",
       "      <td>0.00</td>\n",
       "      <td>1,588.00</td>\n",
       "      <td>0.00</td>\n",
       "      <td>46,052.00</td>\n",
       "    </tr>\n",
       "    <tr>\n",
       "      <th>6</th>\n",
       "      <td>2021-11-10</td>\n",
       "      <td>Otros</td>\n",
       "      <td>Otros</td>\n",
       "      <td>Otros</td>\n",
       "      <td>Portal comprador 1</td>\n",
       "      <td>Orden en Proceso</td>\n",
       "      <td>Otros</td>\n",
       "      <td>117.00</td>\n",
       "      <td>0.00</td>\n",
       "      <td>1,588.00</td>\n",
       "      <td>0.00</td>\n",
       "      <td>185,796.00</td>\n",
       "    </tr>\n",
       "    <tr>\n",
       "      <th>7</th>\n",
       "      <td>2021-11-10</td>\n",
       "      <td>Otros</td>\n",
       "      <td>Otros</td>\n",
       "      <td>Otros</td>\n",
       "      <td>Portal comprador 1</td>\n",
       "      <td>Orden en Proceso</td>\n",
       "      <td>Otros</td>\n",
       "      <td>74.00</td>\n",
       "      <td>0.00</td>\n",
       "      <td>1,588.00</td>\n",
       "      <td>0.00</td>\n",
       "      <td>117,512.00</td>\n",
       "    </tr>\n",
       "    <tr>\n",
       "      <th>8</th>\n",
       "      <td>2021-11-10</td>\n",
       "      <td>Otros</td>\n",
       "      <td>Otros</td>\n",
       "      <td>Otros</td>\n",
       "      <td>Portal comprador 1</td>\n",
       "      <td>Orden en Proceso</td>\n",
       "      <td>Otros</td>\n",
       "      <td>17.00</td>\n",
       "      <td>0.00</td>\n",
       "      <td>1,588.00</td>\n",
       "      <td>0.00</td>\n",
       "      <td>26,996.00</td>\n",
       "    </tr>\n",
       "    <tr>\n",
       "      <th>9</th>\n",
       "      <td>2021-11-10</td>\n",
       "      <td>Otros</td>\n",
       "      <td>Otros</td>\n",
       "      <td>Otros</td>\n",
       "      <td>Portal comprador 1</td>\n",
       "      <td>Orden en Proceso</td>\n",
       "      <td>Otros</td>\n",
       "      <td>2.00</td>\n",
       "      <td>0.00</td>\n",
       "      <td>282.00</td>\n",
       "      <td>0.00</td>\n",
       "      <td>564.00</td>\n",
       "    </tr>\n",
       "  </tbody>\n",
       "</table>\n",
       "</div>"
      ],
      "text/plain": [
       "  FECHA_ORDEN            CATEGORÍA                         SUBCATEGORÍA  \\\n",
       "0  2021-11-10                Otros                                Otros   \n",
       "1  2021-11-10                Otros                                Otros   \n",
       "2  2021-11-10  Alimentos y Bebidas   Alimentos preparados y conservados   \n",
       "3  2021-11-10  Alimentos y Bebidas  Productos de carne y aves de corral   \n",
       "4  2021-11-10                Otros                                Otros   \n",
       "5  2021-11-10                Otros                                Otros   \n",
       "6  2021-11-10                Otros                                Otros   \n",
       "7  2021-11-10                Otros                                Otros   \n",
       "8  2021-11-10                Otros                                Otros   \n",
       "9  2021-11-10                Otros                                Otros   \n",
       "\n",
       "  PROVEEDOR COMPAÑÍA_COMPRADORA                 ESTADO  \\\n",
       "0     Otros  Portal comprador 1       Orden en Proceso   \n",
       "1     Otros  Portal comprador 1               Recibido   \n",
       "2     Otros  Portal comprador 1       Orden en Proceso   \n",
       "3     Otros  Portal comprador 2       Orden en Proceso   \n",
       "4     Otros  Portal comprador 3               Recibido   \n",
       "5     Otros  Portal comprador 4  Pendiente por Aprobar   \n",
       "6     Otros  Portal comprador 1       Orden en Proceso   \n",
       "7     Otros  Portal comprador 1       Orden en Proceso   \n",
       "8     Otros  Portal comprador 1       Orden en Proceso   \n",
       "9     Otros  Portal comprador 1       Orden en Proceso   \n",
       "\n",
       "             PRODUCTO_O_SERVICIO      CANTIDAD_PEDIDA    CANTIDAD_RECIBIDA  \\\n",
       "0                          Otros                 2.00                 0.00   \n",
       "1                          Otros                 1.00                 1.00   \n",
       "2                        Lasagna                10.00                 0.00   \n",
       "3  Pecho de Res Limpio/Sin Grasa                50.00                 0.00   \n",
       "4                          Otros                 7.00                 7.00   \n",
       "5                          Otros                29.00                 0.00   \n",
       "6                          Otros               117.00                 0.00   \n",
       "7                          Otros                74.00                 0.00   \n",
       "8                          Otros                17.00                 0.00   \n",
       "9                          Otros                 2.00                 0.00   \n",
       "\n",
       "       PRECIO_UNITARIO                  IVA        TOTAL_SIN_IVA  \n",
       "0            23,364.00             4,439.00            46,728.00  \n",
       "1         1,476,972.00           280,625.00         1,476,972.00  \n",
       "2            15,500.00                 0.00           155,000.00  \n",
       "3            22,000.00                 0.00         1,100,000.00  \n",
       "4            92,084.00            17,496.00           644,588.00  \n",
       "5             1,588.00                 0.00            46,052.00  \n",
       "6             1,588.00                 0.00           185,796.00  \n",
       "7             1,588.00                 0.00           117,512.00  \n",
       "8             1,588.00                 0.00            26,996.00  \n",
       "9               282.00                 0.00               564.00  "
      ]
     },
     "execution_count": 61,
     "metadata": {},
     "output_type": "execute_result"
    }
   ],
   "source": [
    "df.head(10)"
   ]
  },
  {
   "cell_type": "markdown",
   "metadata": {},
   "source": [
    "### Top COMPAÑÍA_COMPRADORA"
   ]
  },
  {
   "cell_type": "code",
   "execution_count": 62,
   "metadata": {},
   "outputs": [
    {
     "data": {
      "text/plain": [
       "Portal comprador 1                   29.31\n",
       "Portal comprador 24                  24.29\n",
       "Portal comprador 2                   17.25\n",
       "Portal comprador 29                  14.83\n",
       "Portal comprador 6                    3.80\n",
       "Portal comprador 30                   3.39\n",
       "Portal comprador 4                    1.61\n",
       "Portal comprador 8                    1.42\n",
       "Portal comprador 5                    1.32\n",
       "Portal comprador 12                   0.96\n",
       "Portal comprador 18                   0.40\n",
       "Portal comprador 10                   0.31\n",
       "Portal comprador 7                    0.29\n",
       "Portal comprador 11                   0.23\n",
       "Portal comprador 27                   0.16\n",
       "Portal comprador 13                   0.15\n",
       "Portal comprador 20                   0.13\n",
       "Portal comprador 31                   0.07\n",
       "Portal comprador 21                   0.02\n",
       "Portal comprador 28                   0.01\n",
       "Portal comprador 14                   0.01\n",
       "Portal comprador 26                   0.01\n",
       "Portal comprador 32                   0.01\n",
       "Portal comprador 15                   0.00\n",
       "Portal comprador 25                   0.00\n",
       "Portal comprador 3                    0.00\n",
       "Portal comprador 17                   0.00\n",
       "Portal comprador 33                   0.00\n",
       "Portal comprador 22                   0.00\n",
       "Portal comprador 9                    0.00\n",
       "Portal comprador 23                   0.00\n",
       "Portal comprador 19                   0.00\n",
       "Portal comprador 16                   0.00\n",
       "Name: COMPAÑÍA_COMPRADORA, dtype: float64"
      ]
     },
     "execution_count": 62,
     "metadata": {},
     "output_type": "execute_result"
    }
   ],
   "source": [
    "df['COMPAÑÍA_COMPRADORA'].value_counts()/len(df)*100"
   ]
  },
  {
   "cell_type": "code",
   "execution_count": 356,
   "metadata": {},
   "outputs": [
    {
     "data": {
      "text/plain": [
       "Portal comprador 24    5439\n",
       "Otros                  4368\n",
       "Portal comprador 2     3561\n",
       "Portal comprador 1     3441\n",
       "Portal comprador 29    3320\n",
       "Portal comprador 6      842\n",
       "Portal comprador 30     333\n",
       "Portal comprador 5      292\n",
       "Portal comprador 12     214\n",
       "Portal comprador 8      158\n",
       "Portal comprador 4      143\n",
       "Portal comprador 10      65\n",
       "Portal comprador 11      50\n",
       "Portal comprador 7       47\n",
       "Portal comprador 27      35\n",
       "Portal comprador 13      32\n",
       "Portal comprador 18      21\n",
       "Portal comprador 20      20\n",
       "Portal comprador 21       4\n",
       "Portal comprador 26       2\n",
       "Portal comprador 15       1\n",
       "Portal comprador 9        1\n",
       "Portal comprador 19       1\n",
       "Portal comprador 33       1\n",
       "Portal comprador 22       1\n",
       "Name: COMPAÑÍA_COMPRADORA, dtype: int64"
      ]
     },
     "execution_count": 356,
     "metadata": {},
     "output_type": "execute_result"
    }
   ],
   "source": [
    "#df['COMPAÑÍA_COMPRADORA'] = np.where(df['CATEGORÍA']=='Otros', 'Otros', df['COMPAÑÍA_COMPRADORA'])\n",
    "#df['COMPAÑÍA_COMPRADORA'].value_counts()"
   ]
  },
  {
   "cell_type": "code",
   "execution_count": 357,
   "metadata": {},
   "outputs": [
    {
     "data": {
      "text/html": [
       "<div>\n",
       "<style scoped>\n",
       "    .dataframe tbody tr th:only-of-type {\n",
       "        vertical-align: middle;\n",
       "    }\n",
       "\n",
       "    .dataframe tbody tr th {\n",
       "        vertical-align: top;\n",
       "    }\n",
       "\n",
       "    .dataframe thead th {\n",
       "        text-align: right;\n",
       "    }\n",
       "</style>\n",
       "<table border=\"1\" class=\"dataframe\">\n",
       "  <thead>\n",
       "    <tr style=\"text-align: right;\">\n",
       "      <th></th>\n",
       "      <th>FECHA_ORDEN</th>\n",
       "      <th>CATEGORÍA</th>\n",
       "      <th>SUBCATEGORÍA</th>\n",
       "      <th>PROVEEDOR</th>\n",
       "      <th>COMPAÑÍA_COMPRADORA</th>\n",
       "      <th>ESTADO</th>\n",
       "      <th>PRODUCTO_O_SERVICIO</th>\n",
       "      <th>CANTIDAD_PEDIDA</th>\n",
       "      <th>CANTIDAD_RECIBIDA</th>\n",
       "      <th>PRECIO_UNITARIO</th>\n",
       "      <th>IVA</th>\n",
       "      <th>TOTAL_SIN_IVA</th>\n",
       "    </tr>\n",
       "  </thead>\n",
       "  <tbody>\n",
       "    <tr>\n",
       "      <th>0</th>\n",
       "      <td>2021-11-10</td>\n",
       "      <td>Otros</td>\n",
       "      <td>Otros</td>\n",
       "      <td>Otros</td>\n",
       "      <td>Otros</td>\n",
       "      <td>Orden en Proceso</td>\n",
       "      <td>PANEL LED SOBREPONER 24W REDONDO LUZ BLANCA</td>\n",
       "      <td>2.00</td>\n",
       "      <td>0.00</td>\n",
       "      <td>23,364.00</td>\n",
       "      <td>4,439.00</td>\n",
       "      <td>46,728.00</td>\n",
       "    </tr>\n",
       "    <tr>\n",
       "      <th>1</th>\n",
       "      <td>2021-11-10</td>\n",
       "      <td>Otros</td>\n",
       "      <td>Otros</td>\n",
       "      <td>Otros</td>\n",
       "      <td>Otros</td>\n",
       "      <td>Recibido</td>\n",
       "      <td>ACTIVIDADES COMERCIALES</td>\n",
       "      <td>1.00</td>\n",
       "      <td>1.00</td>\n",
       "      <td>1,476,972.00</td>\n",
       "      <td>280,625.00</td>\n",
       "      <td>1,476,972.00</td>\n",
       "    </tr>\n",
       "    <tr>\n",
       "      <th>2</th>\n",
       "      <td>2021-11-10</td>\n",
       "      <td>Alimentos y Bebidas</td>\n",
       "      <td>Alimentos preparados y conservados</td>\n",
       "      <td>Proveedor 3</td>\n",
       "      <td>Portal comprador 1</td>\n",
       "      <td>Orden en Proceso</td>\n",
       "      <td>Lasagna</td>\n",
       "      <td>10.00</td>\n",
       "      <td>0.00</td>\n",
       "      <td>15,500.00</td>\n",
       "      <td>0.00</td>\n",
       "      <td>155,000.00</td>\n",
       "    </tr>\n",
       "    <tr>\n",
       "      <th>3</th>\n",
       "      <td>2021-11-10</td>\n",
       "      <td>Alimentos y Bebidas</td>\n",
       "      <td>Productos de carne y aves de corral</td>\n",
       "      <td>Proveedor 4</td>\n",
       "      <td>Portal comprador 2</td>\n",
       "      <td>Orden en Proceso</td>\n",
       "      <td>Pecho de Res Limpio/Sin Grasa</td>\n",
       "      <td>50.00</td>\n",
       "      <td>0.00</td>\n",
       "      <td>22,000.00</td>\n",
       "      <td>0.00</td>\n",
       "      <td>1,100,000.00</td>\n",
       "    </tr>\n",
       "    <tr>\n",
       "      <th>4</th>\n",
       "      <td>2021-11-10</td>\n",
       "      <td>Otros</td>\n",
       "      <td>Otros</td>\n",
       "      <td>Otros</td>\n",
       "      <td>Otros</td>\n",
       "      <td>Recibido</td>\n",
       "      <td>LIBRO CABEZA, CORAZON Y MANOS</td>\n",
       "      <td>7.00</td>\n",
       "      <td>7.00</td>\n",
       "      <td>92,084.00</td>\n",
       "      <td>17,496.00</td>\n",
       "      <td>644,588.00</td>\n",
       "    </tr>\n",
       "    <tr>\n",
       "      <th>5</th>\n",
       "      <td>2021-11-10</td>\n",
       "      <td>Otros</td>\n",
       "      <td>Otros</td>\n",
       "      <td>Otros</td>\n",
       "      <td>Otros</td>\n",
       "      <td>Pendiente por Aprobar</td>\n",
       "      <td>Recoleccion de residuos ordinarios</td>\n",
       "      <td>29.00</td>\n",
       "      <td>0.00</td>\n",
       "      <td>1,588.00</td>\n",
       "      <td>0.00</td>\n",
       "      <td>46,052.00</td>\n",
       "    </tr>\n",
       "    <tr>\n",
       "      <th>6</th>\n",
       "      <td>2021-11-10</td>\n",
       "      <td>Otros</td>\n",
       "      <td>Otros</td>\n",
       "      <td>Otros</td>\n",
       "      <td>Otros</td>\n",
       "      <td>Orden en Proceso</td>\n",
       "      <td>Recoleccion de residuos ordinarios</td>\n",
       "      <td>117.00</td>\n",
       "      <td>0.00</td>\n",
       "      <td>1,588.00</td>\n",
       "      <td>0.00</td>\n",
       "      <td>185,796.00</td>\n",
       "    </tr>\n",
       "    <tr>\n",
       "      <th>7</th>\n",
       "      <td>2021-11-10</td>\n",
       "      <td>Otros</td>\n",
       "      <td>Otros</td>\n",
       "      <td>Otros</td>\n",
       "      <td>Otros</td>\n",
       "      <td>Orden en Proceso</td>\n",
       "      <td>Recoleccion de residuos ordinarios</td>\n",
       "      <td>74.00</td>\n",
       "      <td>0.00</td>\n",
       "      <td>1,588.00</td>\n",
       "      <td>0.00</td>\n",
       "      <td>117,512.00</td>\n",
       "    </tr>\n",
       "    <tr>\n",
       "      <th>8</th>\n",
       "      <td>2021-11-10</td>\n",
       "      <td>Otros</td>\n",
       "      <td>Otros</td>\n",
       "      <td>Otros</td>\n",
       "      <td>Otros</td>\n",
       "      <td>Orden en Proceso</td>\n",
       "      <td>Recoleccion de residuos ordinarios</td>\n",
       "      <td>17.00</td>\n",
       "      <td>0.00</td>\n",
       "      <td>1,588.00</td>\n",
       "      <td>0.00</td>\n",
       "      <td>26,996.00</td>\n",
       "    </tr>\n",
       "    <tr>\n",
       "      <th>9</th>\n",
       "      <td>2021-11-10</td>\n",
       "      <td>Otros</td>\n",
       "      <td>Otros</td>\n",
       "      <td>Otros</td>\n",
       "      <td>Otros</td>\n",
       "      <td>Orden en Proceso</td>\n",
       "      <td>Recolección de residuos Peligrosos</td>\n",
       "      <td>2.00</td>\n",
       "      <td>0.00</td>\n",
       "      <td>282.00</td>\n",
       "      <td>0.00</td>\n",
       "      <td>564.00</td>\n",
       "    </tr>\n",
       "  </tbody>\n",
       "</table>\n",
       "</div>"
      ],
      "text/plain": [
       "  FECHA_ORDEN            CATEGORÍA                         SUBCATEGORÍA  \\\n",
       "0  2021-11-10                Otros                                Otros   \n",
       "1  2021-11-10                Otros                                Otros   \n",
       "2  2021-11-10  Alimentos y Bebidas   Alimentos preparados y conservados   \n",
       "3  2021-11-10  Alimentos y Bebidas  Productos de carne y aves de corral   \n",
       "4  2021-11-10                Otros                                Otros   \n",
       "5  2021-11-10                Otros                                Otros   \n",
       "6  2021-11-10                Otros                                Otros   \n",
       "7  2021-11-10                Otros                                Otros   \n",
       "8  2021-11-10                Otros                                Otros   \n",
       "9  2021-11-10                Otros                                Otros   \n",
       "\n",
       "     PROVEEDOR COMPAÑÍA_COMPRADORA                 ESTADO  \\\n",
       "0        Otros               Otros       Orden en Proceso   \n",
       "1        Otros               Otros               Recibido   \n",
       "2  Proveedor 3  Portal comprador 1       Orden en Proceso   \n",
       "3  Proveedor 4  Portal comprador 2       Orden en Proceso   \n",
       "4        Otros               Otros               Recibido   \n",
       "5        Otros               Otros  Pendiente por Aprobar   \n",
       "6        Otros               Otros       Orden en Proceso   \n",
       "7        Otros               Otros       Orden en Proceso   \n",
       "8        Otros               Otros       Orden en Proceso   \n",
       "9        Otros               Otros       Orden en Proceso   \n",
       "\n",
       "                            PRODUCTO_O_SERVICIO      CANTIDAD_PEDIDA  \\\n",
       "0  PANEL LED SOBREPONER 24W REDONDO LUZ BLANCA                  2.00   \n",
       "1                       ACTIVIDADES COMERCIALES                 1.00   \n",
       "2                                       Lasagna                10.00   \n",
       "3                 Pecho de Res Limpio/Sin Grasa                50.00   \n",
       "4                 LIBRO CABEZA, CORAZON Y MANOS                 7.00   \n",
       "5            Recoleccion de residuos ordinarios                29.00   \n",
       "6            Recoleccion de residuos ordinarios               117.00   \n",
       "7            Recoleccion de residuos ordinarios                74.00   \n",
       "8            Recoleccion de residuos ordinarios                17.00   \n",
       "9            Recolección de residuos Peligrosos                 2.00   \n",
       "\n",
       "     CANTIDAD_RECIBIDA      PRECIO_UNITARIO                  IVA  \\\n",
       "0                 0.00            23,364.00             4,439.00   \n",
       "1                 1.00         1,476,972.00           280,625.00   \n",
       "2                 0.00            15,500.00                 0.00   \n",
       "3                 0.00            22,000.00                 0.00   \n",
       "4                 7.00            92,084.00            17,496.00   \n",
       "5                 0.00             1,588.00                 0.00   \n",
       "6                 0.00             1,588.00                 0.00   \n",
       "7                 0.00             1,588.00                 0.00   \n",
       "8                 0.00             1,588.00                 0.00   \n",
       "9                 0.00               282.00                 0.00   \n",
       "\n",
       "         TOTAL_SIN_IVA  \n",
       "0            46,728.00  \n",
       "1         1,476,972.00  \n",
       "2           155,000.00  \n",
       "3         1,100,000.00  \n",
       "4           644,588.00  \n",
       "5            46,052.00  \n",
       "6           185,796.00  \n",
       "7           117,512.00  \n",
       "8            26,996.00  \n",
       "9               564.00  "
      ]
     },
     "execution_count": 357,
     "metadata": {},
     "output_type": "execute_result"
    }
   ],
   "source": [
    "#df.head(10)"
   ]
  },
  {
   "cell_type": "code",
   "execution_count": 63,
   "metadata": {},
   "outputs": [
    {
     "data": {
      "text/plain": [
       "Index(['Portal comprador 1', 'Portal comprador 24', 'Portal comprador 2',\n",
       "       'Portal comprador 29', 'Portal comprador 6', 'Portal comprador 30',\n",
       "       'Portal comprador 4', 'Portal comprador 8', 'Portal comprador 5'],\n",
       "      dtype='object')"
      ]
     },
     "execution_count": 63,
     "metadata": {},
     "output_type": "execute_result"
    }
   ],
   "source": [
    "threshold_compradora = (df['COMPAÑÍA_COMPRADORA'].value_counts()/len(df)*100 > 1).sum()\n",
    "TOP_COMPAÑIA_COMPRADORA = (df['COMPAÑÍA_COMPRADORA'].value_counts()/len(df)*100)[:threshold_compradora].index\n",
    "TOP_COMPAÑIA_COMPRADORA"
   ]
  },
  {
   "cell_type": "code",
   "execution_count": 64,
   "metadata": {},
   "outputs": [],
   "source": [
    "df.loc[~df['COMPAÑÍA_COMPRADORA'].isin(TOP_COMPAÑIA_COMPRADORA), 'COMPAÑÍA_COMPRADORA'] =  'Otros'"
   ]
  },
  {
   "cell_type": "code",
   "execution_count": 65,
   "metadata": {},
   "outputs": [
    {
     "data": {
      "text/plain": [
       "Portal comprador 1     6563\n",
       "Portal comprador 24    5439\n",
       "Portal comprador 2     3863\n",
       "Portal comprador 29    3320\n",
       "Portal comprador 6      850\n",
       "Portal comprador 30     760\n",
       "Otros                   622\n",
       "Portal comprador 4      361\n",
       "Portal comprador 8      318\n",
       "Portal comprador 5      296\n",
       "Name: COMPAÑÍA_COMPRADORA, dtype: int64"
      ]
     },
     "execution_count": 65,
     "metadata": {},
     "output_type": "execute_result"
    }
   ],
   "source": [
    "df['COMPAÑÍA_COMPRADORA'].value_counts()"
   ]
  },
  {
   "cell_type": "markdown",
   "metadata": {},
   "source": [
    "# 6. CORRELATION ANALYSIS"
   ]
  },
  {
   "cell_type": "code",
   "execution_count": 66,
   "metadata": {},
   "outputs": [
    {
     "data": {
      "text/html": [
       "<div>\n",
       "<style scoped>\n",
       "    .dataframe tbody tr th:only-of-type {\n",
       "        vertical-align: middle;\n",
       "    }\n",
       "\n",
       "    .dataframe tbody tr th {\n",
       "        vertical-align: top;\n",
       "    }\n",
       "\n",
       "    .dataframe thead th {\n",
       "        text-align: right;\n",
       "    }\n",
       "</style>\n",
       "<table border=\"1\" class=\"dataframe\">\n",
       "  <thead>\n",
       "    <tr style=\"text-align: right;\">\n",
       "      <th></th>\n",
       "      <th>CANTIDAD_PEDIDA</th>\n",
       "      <th>CANTIDAD_RECIBIDA</th>\n",
       "      <th>PRECIO_UNITARIO</th>\n",
       "      <th>IVA</th>\n",
       "      <th>TOTAL_SIN_IVA</th>\n",
       "    </tr>\n",
       "  </thead>\n",
       "  <tbody>\n",
       "    <tr>\n",
       "      <th>CANTIDAD_PEDIDA</th>\n",
       "      <td>1.00</td>\n",
       "      <td>0.44</td>\n",
       "      <td>-0.01</td>\n",
       "      <td>-0.01</td>\n",
       "      <td>0.02</td>\n",
       "    </tr>\n",
       "    <tr>\n",
       "      <th>CANTIDAD_RECIBIDA</th>\n",
       "      <td>0.44</td>\n",
       "      <td>1.00</td>\n",
       "      <td>-0.01</td>\n",
       "      <td>-0.01</td>\n",
       "      <td>0.04</td>\n",
       "    </tr>\n",
       "    <tr>\n",
       "      <th>PRECIO_UNITARIO</th>\n",
       "      <td>-0.01</td>\n",
       "      <td>-0.01</td>\n",
       "      <td>1.00</td>\n",
       "      <td>0.86</td>\n",
       "      <td>0.61</td>\n",
       "    </tr>\n",
       "    <tr>\n",
       "      <th>IVA</th>\n",
       "      <td>-0.01</td>\n",
       "      <td>-0.01</td>\n",
       "      <td>0.86</td>\n",
       "      <td>1.00</td>\n",
       "      <td>0.45</td>\n",
       "    </tr>\n",
       "    <tr>\n",
       "      <th>TOTAL_SIN_IVA</th>\n",
       "      <td>0.02</td>\n",
       "      <td>0.04</td>\n",
       "      <td>0.61</td>\n",
       "      <td>0.45</td>\n",
       "      <td>1.00</td>\n",
       "    </tr>\n",
       "  </tbody>\n",
       "</table>\n",
       "</div>"
      ],
      "text/plain": [
       "                       CANTIDAD_PEDIDA    CANTIDAD_RECIBIDA  \\\n",
       "CANTIDAD_PEDIDA                   1.00                 0.44   \n",
       "CANTIDAD_RECIBIDA                 0.44                 1.00   \n",
       "PRECIO_UNITARIO                  -0.01                -0.01   \n",
       "IVA                              -0.01                -0.01   \n",
       "TOTAL_SIN_IVA                     0.02                 0.04   \n",
       "\n",
       "                       PRECIO_UNITARIO                  IVA  \\\n",
       "CANTIDAD_PEDIDA                  -0.01                -0.01   \n",
       "CANTIDAD_RECIBIDA                -0.01                -0.01   \n",
       "PRECIO_UNITARIO                   1.00                 0.86   \n",
       "IVA                               0.86                 1.00   \n",
       "TOTAL_SIN_IVA                     0.61                 0.45   \n",
       "\n",
       "                         TOTAL_SIN_IVA  \n",
       "CANTIDAD_PEDIDA                   0.02  \n",
       "CANTIDAD_RECIBIDA                 0.04  \n",
       "PRECIO_UNITARIO                   0.61  \n",
       "IVA                               0.45  \n",
       "TOTAL_SIN_IVA                     1.00  "
      ]
     },
     "execution_count": 66,
     "metadata": {},
     "output_type": "execute_result"
    }
   ],
   "source": [
    "df.corr()"
   ]
  },
  {
   "cell_type": "code",
   "execution_count": 67,
   "metadata": {},
   "outputs": [
    {
     "data": {
      "text/plain": [
       "<AxesSubplot:>"
      ]
     },
     "execution_count": 67,
     "metadata": {},
     "output_type": "execute_result"
    },
    {
     "data": {
      "image/png": "[encoded data removed]",
      "text/plain": [
       "<Figure size 432x288 with 2 Axes>"
      ]
     },
     "metadata": {
      "needs_background": "light"
     },
     "output_type": "display_data"
    }
   ],
   "source": [
    "sns.heatmap(df.corr(), center=0, annot=True, linewidths=.5)"
   ]
  },
  {
   "cell_type": "code",
   "execution_count": 68,
   "metadata": {},
   "outputs": [
    {
     "data": {
      "text/html": [
       "<div>\n",
       "<style scoped>\n",
       "    .dataframe tbody tr th:only-of-type {\n",
       "        vertical-align: middle;\n",
       "    }\n",
       "\n",
       "    .dataframe tbody tr th {\n",
       "        vertical-align: top;\n",
       "    }\n",
       "\n",
       "    .dataframe thead th {\n",
       "        text-align: right;\n",
       "    }\n",
       "</style>\n",
       "<table border=\"1\" class=\"dataframe\">\n",
       "  <thead>\n",
       "    <tr style=\"text-align: right;\">\n",
       "      <th></th>\n",
       "      <th>CANTIDAD_PEDIDA</th>\n",
       "      <th>CANTIDAD_RECIBIDA</th>\n",
       "      <th>PRECIO_UNITARIO</th>\n",
       "      <th>IVA</th>\n",
       "      <th>TOTAL_SIN_IVA</th>\n",
       "    </tr>\n",
       "  </thead>\n",
       "  <tbody>\n",
       "    <tr>\n",
       "      <th>count</th>\n",
       "      <td>22,392.00</td>\n",
       "      <td>22,392.00</td>\n",
       "      <td>22,392.00</td>\n",
       "      <td>22,392.00</td>\n",
       "      <td>22,392.00</td>\n",
       "    </tr>\n",
       "    <tr>\n",
       "      <th>mean</th>\n",
       "      <td>196.68</td>\n",
       "      <td>49.52</td>\n",
       "      <td>74,073.20</td>\n",
       "      <td>11,500.22</td>\n",
       "      <td>477,558.03</td>\n",
       "    </tr>\n",
       "    <tr>\n",
       "      <th>std</th>\n",
       "      <td>1,976.19</td>\n",
       "      <td>880.83</td>\n",
       "      <td>644,253.06</td>\n",
       "      <td>104,934.27</td>\n",
       "      <td>3,160,620.25</td>\n",
       "    </tr>\n",
       "    <tr>\n",
       "      <th>min</th>\n",
       "      <td>0.27</td>\n",
       "      <td>0.00</td>\n",
       "      <td>0.00</td>\n",
       "      <td>0.00</td>\n",
       "      <td>0.00</td>\n",
       "    </tr>\n",
       "    <tr>\n",
       "      <th>25%</th>\n",
       "      <td>2.00</td>\n",
       "      <td>0.00</td>\n",
       "      <td>1,861.00</td>\n",
       "      <td>93.00</td>\n",
       "      <td>29,412.00</td>\n",
       "    </tr>\n",
       "    <tr>\n",
       "      <th>50%</th>\n",
       "      <td>7.00</td>\n",
       "      <td>2.00</td>\n",
       "      <td>11,400.00</td>\n",
       "      <td>1,040.00</td>\n",
       "      <td>90,756.00</td>\n",
       "    </tr>\n",
       "    <tr>\n",
       "      <th>75%</th>\n",
       "      <td>40.00</td>\n",
       "      <td>10.00</td>\n",
       "      <td>32,222.00</td>\n",
       "      <td>5,588.00</td>\n",
       "      <td>294,118.00</td>\n",
       "    </tr>\n",
       "    <tr>\n",
       "      <th>max</th>\n",
       "      <td>120,000.00</td>\n",
       "      <td>53,620.00</td>\n",
       "      <td>33,242,814.00</td>\n",
       "      <td>6,316,135.00</td>\n",
       "      <td>299,185,312.00</td>\n",
       "    </tr>\n",
       "  </tbody>\n",
       "</table>\n",
       "</div>"
      ],
      "text/plain": [
       "           CANTIDAD_PEDIDA    CANTIDAD_RECIBIDA      PRECIO_UNITARIO  \\\n",
       "count            22,392.00            22,392.00            22,392.00   \n",
       "mean                196.68                49.52            74,073.20   \n",
       "std               1,976.19               880.83           644,253.06   \n",
       "min                   0.27                 0.00                 0.00   \n",
       "25%                   2.00                 0.00             1,861.00   \n",
       "50%                   7.00                 2.00            11,400.00   \n",
       "75%                  40.00                10.00            32,222.00   \n",
       "max             120,000.00            53,620.00        33,242,814.00   \n",
       "\n",
       "                       IVA        TOTAL_SIN_IVA  \n",
       "count            22,392.00            22,392.00  \n",
       "mean             11,500.22           477,558.03  \n",
       "std             104,934.27         3,160,620.25  \n",
       "min                   0.00                 0.00  \n",
       "25%                  93.00            29,412.00  \n",
       "50%               1,040.00            90,756.00  \n",
       "75%               5,588.00           294,118.00  \n",
       "max           6,316,135.00       299,185,312.00  "
      ]
     },
     "execution_count": 68,
     "metadata": {},
     "output_type": "execute_result"
    }
   ],
   "source": [
    "df.describe()"
   ]
  },
  {
   "cell_type": "code",
   "execution_count": 69,
   "metadata": {},
   "outputs": [],
   "source": [
    "df.to_excel('Proveindustriales_completo.xlsx', index=False)"
   ]
  },
  {
   "cell_type": "code",
   "execution_count": 70,
   "metadata": {},
   "outputs": [
    {
     "name": "stdout",
     "output_type": "stream",
     "text": [
      "CATEGORÍA:  5\n",
      "SUBCATEGORÍA:  29\n",
      "PROVEEDOR:  5\n",
      "COMPAÑÍA_COMPRADORA:  10\n",
      "PRODUCTO_O_SERVICIO:  1863\n"
     ]
    }
   ],
   "source": [
    "print('CATEGORÍA: ', len(df['CATEGORÍA'].unique()))\n",
    "print('SUBCATEGORÍA: ', len(df['SUBCATEGORÍA'].unique()))\n",
    "print('PROVEEDOR: ', len(df['PROVEEDOR'].unique()))\n",
    "print('COMPAÑÍA_COMPRADORA: ', len(df['COMPAÑÍA_COMPRADORA'].unique()))\n",
    "print('PRODUCTO_O_SERVICIO: ', len(df['PRODUCTO_O_SERVICIO'].unique()))"
   ]
  },
  {
   "cell_type": "markdown",
   "metadata": {},
   "source": [
    "# 8. TRANSFORMATION"
   ]
  },
  {
   "cell_type": "code",
   "execution_count": 71,
   "metadata": {},
   "outputs": [],
   "source": [
    "from sklearn.preprocessing import OneHotEncoder\n",
    "from sklearn.compose import ColumnTransformer\n",
    "from sklearn.compose import ColumnTransformer\n",
    "from sklearn.pipeline import Pipeline\n",
    "from sklearn.preprocessing import Normalizer"
   ]
  },
  {
   "cell_type": "markdown",
   "metadata": {},
   "source": [
    "## Numeric to Normalized values"
   ]
  },
  {
   "cell_type": "code",
   "execution_count": 72,
   "metadata": {},
   "outputs": [
    {
     "data": {
      "text/html": [
       "<div>\n",
       "<style scoped>\n",
       "    .dataframe tbody tr th:only-of-type {\n",
       "        vertical-align: middle;\n",
       "    }\n",
       "\n",
       "    .dataframe tbody tr th {\n",
       "        vertical-align: top;\n",
       "    }\n",
       "\n",
       "    .dataframe thead th {\n",
       "        text-align: right;\n",
       "    }\n",
       "</style>\n",
       "<table border=\"1\" class=\"dataframe\">\n",
       "  <thead>\n",
       "    <tr style=\"text-align: right;\">\n",
       "      <th></th>\n",
       "      <th>CANTIDAD_PEDIDA</th>\n",
       "      <th>CANTIDAD_RECIBIDA</th>\n",
       "      <th>PRECIO_UNITARIO</th>\n",
       "      <th>IVA</th>\n",
       "      <th>TOTAL_SIN_IVA</th>\n",
       "    </tr>\n",
       "  </thead>\n",
       "  <tbody>\n",
       "    <tr>\n",
       "      <th>0</th>\n",
       "      <td>2.00</td>\n",
       "      <td>0.00</td>\n",
       "      <td>23,364.00</td>\n",
       "      <td>4,439.00</td>\n",
       "      <td>46,728.00</td>\n",
       "    </tr>\n",
       "    <tr>\n",
       "      <th>1</th>\n",
       "      <td>1.00</td>\n",
       "      <td>1.00</td>\n",
       "      <td>1,476,972.00</td>\n",
       "      <td>280,625.00</td>\n",
       "      <td>1,476,972.00</td>\n",
       "    </tr>\n",
       "    <tr>\n",
       "      <th>2</th>\n",
       "      <td>10.00</td>\n",
       "      <td>0.00</td>\n",
       "      <td>15,500.00</td>\n",
       "      <td>0.00</td>\n",
       "      <td>155,000.00</td>\n",
       "    </tr>\n",
       "    <tr>\n",
       "      <th>3</th>\n",
       "      <td>50.00</td>\n",
       "      <td>0.00</td>\n",
       "      <td>22,000.00</td>\n",
       "      <td>0.00</td>\n",
       "      <td>1,100,000.00</td>\n",
       "    </tr>\n",
       "    <tr>\n",
       "      <th>4</th>\n",
       "      <td>7.00</td>\n",
       "      <td>7.00</td>\n",
       "      <td>92,084.00</td>\n",
       "      <td>17,496.00</td>\n",
       "      <td>644,588.00</td>\n",
       "    </tr>\n",
       "    <tr>\n",
       "      <th>...</th>\n",
       "      <td>...</td>\n",
       "      <td>...</td>\n",
       "      <td>...</td>\n",
       "      <td>...</td>\n",
       "      <td>...</td>\n",
       "    </tr>\n",
       "    <tr>\n",
       "      <th>23078</th>\n",
       "      <td>8.00</td>\n",
       "      <td>8.00</td>\n",
       "      <td>33,613.00</td>\n",
       "      <td>6,387.00</td>\n",
       "      <td>268,908.00</td>\n",
       "    </tr>\n",
       "    <tr>\n",
       "      <th>23079</th>\n",
       "      <td>1.00</td>\n",
       "      <td>1.00</td>\n",
       "      <td>588.00</td>\n",
       "      <td>112.00</td>\n",
       "      <td>588.00</td>\n",
       "    </tr>\n",
       "    <tr>\n",
       "      <th>23080</th>\n",
       "      <td>3.00</td>\n",
       "      <td>3.00</td>\n",
       "      <td>29,412.00</td>\n",
       "      <td>5,588.00</td>\n",
       "      <td>88,235.00</td>\n",
       "    </tr>\n",
       "    <tr>\n",
       "      <th>23081</th>\n",
       "      <td>4.00</td>\n",
       "      <td>4.00</td>\n",
       "      <td>29,412.00</td>\n",
       "      <td>5,588.00</td>\n",
       "      <td>117,647.00</td>\n",
       "    </tr>\n",
       "    <tr>\n",
       "      <th>23082</th>\n",
       "      <td>5.00</td>\n",
       "      <td>5.00</td>\n",
       "      <td>33,613.00</td>\n",
       "      <td>6,387.00</td>\n",
       "      <td>168,067.00</td>\n",
       "    </tr>\n",
       "  </tbody>\n",
       "</table>\n",
       "<p>22392 rows × 5 columns</p>\n",
       "</div>"
      ],
      "text/plain": [
       "           CANTIDAD_PEDIDA    CANTIDAD_RECIBIDA      PRECIO_UNITARIO  \\\n",
       "0                     2.00                 0.00            23,364.00   \n",
       "1                     1.00                 1.00         1,476,972.00   \n",
       "2                    10.00                 0.00            15,500.00   \n",
       "3                    50.00                 0.00            22,000.00   \n",
       "4                     7.00                 7.00            92,084.00   \n",
       "...                    ...                  ...                  ...   \n",
       "23078                 8.00                 8.00            33,613.00   \n",
       "23079                 1.00                 1.00               588.00   \n",
       "23080                 3.00                 3.00            29,412.00   \n",
       "23081                 4.00                 4.00            29,412.00   \n",
       "23082                 5.00                 5.00            33,613.00   \n",
       "\n",
       "                       IVA        TOTAL_SIN_IVA  \n",
       "0                 4,439.00            46,728.00  \n",
       "1               280,625.00         1,476,972.00  \n",
       "2                     0.00           155,000.00  \n",
       "3                     0.00         1,100,000.00  \n",
       "4                17,496.00           644,588.00  \n",
       "...                    ...                  ...  \n",
       "23078             6,387.00           268,908.00  \n",
       "23079               112.00               588.00  \n",
       "23080             5,588.00            88,235.00  \n",
       "23081             5,588.00           117,647.00  \n",
       "23082             6,387.00           168,067.00  \n",
       "\n",
       "[22392 rows x 5 columns]"
      ]
     },
     "execution_count": 72,
     "metadata": {},
     "output_type": "execute_result"
    }
   ],
   "source": [
    "df_numeric = df.select_dtypes(['int32', 'int64', 'float32', 'float64'])\n",
    "df_numeric"
   ]
  },
  {
   "cell_type": "code",
   "execution_count": 73,
   "metadata": {},
   "outputs": [
    {
     "data": {
      "text/html": [
       "<div>\n",
       "<style scoped>\n",
       "    .dataframe tbody tr th:only-of-type {\n",
       "        vertical-align: middle;\n",
       "    }\n",
       "\n",
       "    .dataframe tbody tr th {\n",
       "        vertical-align: top;\n",
       "    }\n",
       "\n",
       "    .dataframe thead th {\n",
       "        text-align: right;\n",
       "    }\n",
       "</style>\n",
       "<table border=\"1\" class=\"dataframe\">\n",
       "  <thead>\n",
       "    <tr style=\"text-align: right;\">\n",
       "      <th></th>\n",
       "      <th>CANTIDAD_PEDIDA</th>\n",
       "      <th>CANTIDAD_RECIBIDA</th>\n",
       "      <th>PRECIO_UNITARIO</th>\n",
       "      <th>IVA</th>\n",
       "      <th>TOTAL_SIN_IVA</th>\n",
       "    </tr>\n",
       "  </thead>\n",
       "  <tbody>\n",
       "    <tr>\n",
       "      <th>count</th>\n",
       "      <td>22,392.00</td>\n",
       "      <td>22,392.00</td>\n",
       "      <td>22,392.00</td>\n",
       "      <td>22,392.00</td>\n",
       "      <td>22,392.00</td>\n",
       "    </tr>\n",
       "    <tr>\n",
       "      <th>mean</th>\n",
       "      <td>196.68</td>\n",
       "      <td>49.52</td>\n",
       "      <td>74,073.20</td>\n",
       "      <td>11,500.22</td>\n",
       "      <td>477,558.03</td>\n",
       "    </tr>\n",
       "    <tr>\n",
       "      <th>std</th>\n",
       "      <td>1,976.19</td>\n",
       "      <td>880.83</td>\n",
       "      <td>644,253.06</td>\n",
       "      <td>104,934.27</td>\n",
       "      <td>3,160,620.25</td>\n",
       "    </tr>\n",
       "    <tr>\n",
       "      <th>min</th>\n",
       "      <td>0.27</td>\n",
       "      <td>0.00</td>\n",
       "      <td>0.00</td>\n",
       "      <td>0.00</td>\n",
       "      <td>0.00</td>\n",
       "    </tr>\n",
       "    <tr>\n",
       "      <th>25%</th>\n",
       "      <td>2.00</td>\n",
       "      <td>0.00</td>\n",
       "      <td>1,861.00</td>\n",
       "      <td>93.00</td>\n",
       "      <td>29,412.00</td>\n",
       "    </tr>\n",
       "    <tr>\n",
       "      <th>50%</th>\n",
       "      <td>7.00</td>\n",
       "      <td>2.00</td>\n",
       "      <td>11,400.00</td>\n",
       "      <td>1,040.00</td>\n",
       "      <td>90,756.00</td>\n",
       "    </tr>\n",
       "    <tr>\n",
       "      <th>75%</th>\n",
       "      <td>40.00</td>\n",
       "      <td>10.00</td>\n",
       "      <td>32,222.00</td>\n",
       "      <td>5,588.00</td>\n",
       "      <td>294,118.00</td>\n",
       "    </tr>\n",
       "    <tr>\n",
       "      <th>max</th>\n",
       "      <td>120,000.00</td>\n",
       "      <td>53,620.00</td>\n",
       "      <td>33,242,814.00</td>\n",
       "      <td>6,316,135.00</td>\n",
       "      <td>299,185,312.00</td>\n",
       "    </tr>\n",
       "  </tbody>\n",
       "</table>\n",
       "</div>"
      ],
      "text/plain": [
       "           CANTIDAD_PEDIDA    CANTIDAD_RECIBIDA      PRECIO_UNITARIO  \\\n",
       "count            22,392.00            22,392.00            22,392.00   \n",
       "mean                196.68                49.52            74,073.20   \n",
       "std               1,976.19               880.83           644,253.06   \n",
       "min                   0.27                 0.00                 0.00   \n",
       "25%                   2.00                 0.00             1,861.00   \n",
       "50%                   7.00                 2.00            11,400.00   \n",
       "75%                  40.00                10.00            32,222.00   \n",
       "max             120,000.00            53,620.00        33,242,814.00   \n",
       "\n",
       "                       IVA        TOTAL_SIN_IVA  \n",
       "count            22,392.00            22,392.00  \n",
       "mean             11,500.22           477,558.03  \n",
       "std             104,934.27         3,160,620.25  \n",
       "min                   0.00                 0.00  \n",
       "25%                  93.00            29,412.00  \n",
       "50%               1,040.00            90,756.00  \n",
       "75%               5,588.00           294,118.00  \n",
       "max           6,316,135.00       299,185,312.00  "
      ]
     },
     "execution_count": 73,
     "metadata": {},
     "output_type": "execute_result"
    }
   ],
   "source": [
    "df_numeric.describe()"
   ]
  },
  {
   "cell_type": "code",
   "execution_count": 74,
   "metadata": {},
   "outputs": [],
   "source": [
    "normalizer = Normalizer()\n",
    "df_numeric_normalized = pd.DataFrame(normalizer.fit_transform(df_numeric), columns=df_numeric.columns)"
   ]
  },
  {
   "cell_type": "code",
   "execution_count": 75,
   "metadata": {},
   "outputs": [
    {
     "data": {
      "text/html": [
       "<div>\n",
       "<style scoped>\n",
       "    .dataframe tbody tr th:only-of-type {\n",
       "        vertical-align: middle;\n",
       "    }\n",
       "\n",
       "    .dataframe tbody tr th {\n",
       "        vertical-align: top;\n",
       "    }\n",
       "\n",
       "    .dataframe thead th {\n",
       "        text-align: right;\n",
       "    }\n",
       "</style>\n",
       "<table border=\"1\" class=\"dataframe\">\n",
       "  <thead>\n",
       "    <tr style=\"text-align: right;\">\n",
       "      <th></th>\n",
       "      <th>CANTIDAD_PEDIDA</th>\n",
       "      <th>CANTIDAD_RECIBIDA</th>\n",
       "      <th>PRECIO_UNITARIO</th>\n",
       "      <th>IVA</th>\n",
       "      <th>TOTAL_SIN_IVA</th>\n",
       "    </tr>\n",
       "  </thead>\n",
       "  <tbody>\n",
       "    <tr>\n",
       "      <th>count</th>\n",
       "      <td>22,392.00</td>\n",
       "      <td>22,392.00</td>\n",
       "      <td>22,392.00</td>\n",
       "      <td>22,392.00</td>\n",
       "      <td>22,392.00</td>\n",
       "    </tr>\n",
       "    <tr>\n",
       "      <th>mean</th>\n",
       "      <td>0.00</td>\n",
       "      <td>0.00</td>\n",
       "      <td>0.25</td>\n",
       "      <td>0.04</td>\n",
       "      <td>0.92</td>\n",
       "    </tr>\n",
       "    <tr>\n",
       "      <th>std</th>\n",
       "      <td>0.04</td>\n",
       "      <td>0.02</td>\n",
       "      <td>0.26</td>\n",
       "      <td>0.05</td>\n",
       "      <td>0.12</td>\n",
       "    </tr>\n",
       "    <tr>\n",
       "      <th>min</th>\n",
       "      <td>0.00</td>\n",
       "      <td>0.00</td>\n",
       "      <td>0.00</td>\n",
       "      <td>0.00</td>\n",
       "      <td>0.00</td>\n",
       "    </tr>\n",
       "    <tr>\n",
       "      <th>25%</th>\n",
       "      <td>0.00</td>\n",
       "      <td>0.00</td>\n",
       "      <td>0.02</td>\n",
       "      <td>0.00</td>\n",
       "      <td>0.89</td>\n",
       "    </tr>\n",
       "    <tr>\n",
       "      <th>50%</th>\n",
       "      <td>0.00</td>\n",
       "      <td>0.00</td>\n",
       "      <td>0.14</td>\n",
       "      <td>0.01</td>\n",
       "      <td>0.99</td>\n",
       "    </tr>\n",
       "    <tr>\n",
       "      <th>75%</th>\n",
       "      <td>0.00</td>\n",
       "      <td>0.00</td>\n",
       "      <td>0.45</td>\n",
       "      <td>0.06</td>\n",
       "      <td>1.00</td>\n",
       "    </tr>\n",
       "    <tr>\n",
       "      <th>max</th>\n",
       "      <td>1.00</td>\n",
       "      <td>0.71</td>\n",
       "      <td>0.97</td>\n",
       "      <td>0.17</td>\n",
       "      <td>1.00</td>\n",
       "    </tr>\n",
       "  </tbody>\n",
       "</table>\n",
       "</div>"
      ],
      "text/plain": [
       "           CANTIDAD_PEDIDA    CANTIDAD_RECIBIDA      PRECIO_UNITARIO  \\\n",
       "count            22,392.00            22,392.00            22,392.00   \n",
       "mean                  0.00                 0.00                 0.25   \n",
       "std                   0.04                 0.02                 0.26   \n",
       "min                   0.00                 0.00                 0.00   \n",
       "25%                   0.00                 0.00                 0.02   \n",
       "50%                   0.00                 0.00                 0.14   \n",
       "75%                   0.00                 0.00                 0.45   \n",
       "max                   1.00                 0.71                 0.97   \n",
       "\n",
       "                       IVA        TOTAL_SIN_IVA  \n",
       "count            22,392.00            22,392.00  \n",
       "mean                  0.04                 0.92  \n",
       "std                   0.05                 0.12  \n",
       "min                   0.00                 0.00  \n",
       "25%                   0.00                 0.89  \n",
       "50%                   0.01                 0.99  \n",
       "75%                   0.06                 1.00  \n",
       "max                   0.17                 1.00  "
      ]
     },
     "execution_count": 75,
     "metadata": {},
     "output_type": "execute_result"
    }
   ],
   "source": [
    "df_numeric_normalized.describe()"
   ]
  },
  {
   "cell_type": "markdown",
   "metadata": {},
   "source": [
    "## Categorical to OneHotEncoder"
   ]
  },
  {
   "cell_type": "markdown",
   "metadata": {},
   "source": [
    "Drop PRODUCTO_O_SERVICIO Delete. if you want to try, delete PRODUCTO_O_SERVICIO too (it has a lot of categories)"
   ]
  },
  {
   "cell_type": "code",
   "execution_count": 76,
   "metadata": {},
   "outputs": [
    {
     "data": {
      "text/html": [
       "<div>\n",
       "<style scoped>\n",
       "    .dataframe tbody tr th:only-of-type {\n",
       "        vertical-align: middle;\n",
       "    }\n",
       "\n",
       "    .dataframe tbody tr th {\n",
       "        vertical-align: top;\n",
       "    }\n",
       "\n",
       "    .dataframe thead th {\n",
       "        text-align: right;\n",
       "    }\n",
       "</style>\n",
       "<table border=\"1\" class=\"dataframe\">\n",
       "  <thead>\n",
       "    <tr style=\"text-align: right;\">\n",
       "      <th></th>\n",
       "      <th>CATEGORÍA</th>\n",
       "      <th>SUBCATEGORÍA</th>\n",
       "      <th>PROVEEDOR</th>\n",
       "      <th>COMPAÑÍA_COMPRADORA</th>\n",
       "      <th>ESTADO</th>\n",
       "    </tr>\n",
       "  </thead>\n",
       "  <tbody>\n",
       "    <tr>\n",
       "      <th>0</th>\n",
       "      <td>Otros</td>\n",
       "      <td>Otros</td>\n",
       "      <td>Otros</td>\n",
       "      <td>Portal comprador 1</td>\n",
       "      <td>Orden en Proceso</td>\n",
       "    </tr>\n",
       "    <tr>\n",
       "      <th>1</th>\n",
       "      <td>Otros</td>\n",
       "      <td>Otros</td>\n",
       "      <td>Otros</td>\n",
       "      <td>Portal comprador 1</td>\n",
       "      <td>Recibido</td>\n",
       "    </tr>\n",
       "    <tr>\n",
       "      <th>2</th>\n",
       "      <td>Alimentos y Bebidas</td>\n",
       "      <td>Alimentos preparados y conservados</td>\n",
       "      <td>Otros</td>\n",
       "      <td>Portal comprador 1</td>\n",
       "      <td>Orden en Proceso</td>\n",
       "    </tr>\n",
       "  </tbody>\n",
       "</table>\n",
       "</div>"
      ],
      "text/plain": [
       "             CATEGORÍA                        SUBCATEGORÍA PROVEEDOR  \\\n",
       "0                Otros                               Otros     Otros   \n",
       "1                Otros                               Otros     Otros   \n",
       "2  Alimentos y Bebidas  Alimentos preparados y conservados     Otros   \n",
       "\n",
       "  COMPAÑÍA_COMPRADORA            ESTADO  \n",
       "0  Portal comprador 1  Orden en Proceso  \n",
       "1  Portal comprador 1          Recibido  \n",
       "2  Portal comprador 1  Orden en Proceso  "
      ]
     },
     "execution_count": 76,
     "metadata": {},
     "output_type": "execute_result"
    }
   ],
   "source": [
    "df_categorical = df.select_dtypes(['object'])\n",
    "df_categorical = df_categorical.loc[:, df_categorical.columns != 'PRODUCTO_O_SERVICIO']\n",
    "df_categorical.head(3)"
   ]
  },
  {
   "cell_type": "code",
   "execution_count": 77,
   "metadata": {},
   "outputs": [],
   "source": [
    "OH_encoder = OneHotEncoder(handle_unknown='ignore', sparse=False)\n",
    "OH_Cols = pd.DataFrame(OH_encoder.fit_transform(df_categorical))"
   ]
  },
  {
   "cell_type": "code",
   "execution_count": 78,
   "metadata": {},
   "outputs": [],
   "source": [
    "OH_Cols.columns =  OH_encoder.get_feature_names(df_categorical.columns)"
   ]
  },
  {
   "cell_type": "code",
   "execution_count": 79,
   "metadata": {},
   "outputs": [],
   "source": [
    "pd.options.display.float_format = '{:,.7f}'.format"
   ]
  },
  {
   "cell_type": "code",
   "execution_count": 80,
   "metadata": {},
   "outputs": [
    {
     "data": {
      "text/html": [
       "<div>\n",
       "<style scoped>\n",
       "    .dataframe tbody tr th:only-of-type {\n",
       "        vertical-align: middle;\n",
       "    }\n",
       "\n",
       "    .dataframe tbody tr th {\n",
       "        vertical-align: top;\n",
       "    }\n",
       "\n",
       "    .dataframe thead th {\n",
       "        text-align: right;\n",
       "    }\n",
       "</style>\n",
       "<table border=\"1\" class=\"dataframe\">\n",
       "  <thead>\n",
       "    <tr style=\"text-align: right;\">\n",
       "      <th></th>\n",
       "      <th>CATEGORÍA_Alimentos y Bebidas</th>\n",
       "      <th>CATEGORÍA_Aseo, Cafetería y Oficina</th>\n",
       "      <th>CATEGORÍA_Dotación y elementos de protección personal</th>\n",
       "      <th>CATEGORÍA_Otros</th>\n",
       "      <th>CATEGORÍA_Vigilancia y seguridad industrial</th>\n",
       "      <th>SUBCATEGORÍA_Aceites y grasas comestibles</th>\n",
       "      <th>SUBCATEGORÍA_Alimentos preparados y conservados</th>\n",
       "      <th>SUBCATEGORÍA_Bebidas</th>\n",
       "      <th>SUBCATEGORÍA_Calzado</th>\n",
       "      <th>SUBCATEGORÍA_Camisas y camisetas</th>\n",
       "      <th>SUBCATEGORÍA_Chocolates, azúcares y confitería</th>\n",
       "      <th>SUBCATEGORÍA_Condimentos y conservantes</th>\n",
       "      <th>SUBCATEGORÍA_Elementos de aseo y limpieza</th>\n",
       "      <th>SUBCATEGORÍA_Elementos de bioseguridad</th>\n",
       "      <th>SUBCATEGORÍA_Elementos de cafetería</th>\n",
       "      <th>SUBCATEGORÍA_Elementos de papelería</th>\n",
       "      <th>SUBCATEGORÍA_Elementos de protección personal</th>\n",
       "      <th>SUBCATEGORÍA_Equipo de aseo</th>\n",
       "      <th>SUBCATEGORÍA_Equipo y accesorios de oficina y escritorio</th>\n",
       "      <th>SUBCATEGORÍA_Fruta fresca</th>\n",
       "      <th>SUBCATEGORÍA_Insumos desinfección</th>\n",
       "      <th>SUBCATEGORÍA_Otra</th>\n",
       "      <th>SUBCATEGORÍA_Otros</th>\n",
       "      <th>SUBCATEGORÍA_Pantalones</th>\n",
       "      <th>SUBCATEGORÍA_Prendas uniformes</th>\n",
       "      <th>SUBCATEGORÍA_Productos de carne y aves de corral</th>\n",
       "      <th>SUBCATEGORÍA_Productos de cereales y legumbres</th>\n",
       "      <th>SUBCATEGORÍA_Productos de panadería</th>\n",
       "      <th>SUBCATEGORÍA_Productos lácteos y huevos</th>\n",
       "      <th>SUBCATEGORÍA_Seguridad y control público</th>\n",
       "      <th>SUBCATEGORÍA_Seguridad y protección personal</th>\n",
       "      <th>SUBCATEGORÍA_Señalización</th>\n",
       "      <th>SUBCATEGORÍA_Trabajo en alturas</th>\n",
       "      <th>SUBCATEGORÍA_Vegetales frescos</th>\n",
       "      <th>PROVEEDOR_Otros</th>\n",
       "      <th>PROVEEDOR_Proveedor 26</th>\n",
       "      <th>PROVEEDOR_Proveedor 28</th>\n",
       "      <th>PROVEEDOR_Proveedor 301</th>\n",
       "      <th>PROVEEDOR_Proveedor 59</th>\n",
       "      <th>COMPAÑÍA_COMPRADORA_Otros</th>\n",
       "      <th>COMPAÑÍA_COMPRADORA_Portal comprador 1</th>\n",
       "      <th>COMPAÑÍA_COMPRADORA_Portal comprador 2</th>\n",
       "      <th>COMPAÑÍA_COMPRADORA_Portal comprador 24</th>\n",
       "      <th>COMPAÑÍA_COMPRADORA_Portal comprador 29</th>\n",
       "      <th>COMPAÑÍA_COMPRADORA_Portal comprador 30</th>\n",
       "      <th>COMPAÑÍA_COMPRADORA_Portal comprador 4</th>\n",
       "      <th>COMPAÑÍA_COMPRADORA_Portal comprador 5</th>\n",
       "      <th>COMPAÑÍA_COMPRADORA_Portal comprador 6</th>\n",
       "      <th>COMPAÑÍA_COMPRADORA_Portal comprador 8</th>\n",
       "      <th>ESTADO_Cancelado</th>\n",
       "      <th>ESTADO_Enviado</th>\n",
       "      <th>ESTADO_Finalizado Incompleto</th>\n",
       "      <th>ESTADO_Orden Confirmada</th>\n",
       "      <th>ESTADO_Orden Rechazada</th>\n",
       "      <th>ESTADO_Orden en Proceso</th>\n",
       "      <th>ESTADO_Pendiente por Aprobar</th>\n",
       "      <th>ESTADO_Recibido</th>\n",
       "      <th>ESTADO_Recibido Parcial</th>\n",
       "    </tr>\n",
       "  </thead>\n",
       "  <tbody>\n",
       "    <tr>\n",
       "      <th>0</th>\n",
       "      <td>0.0000000</td>\n",
       "      <td>0.0000000</td>\n",
       "      <td>0.0000000</td>\n",
       "      <td>1.0000000</td>\n",
       "      <td>0.0000000</td>\n",
       "      <td>0.0000000</td>\n",
       "      <td>0.0000000</td>\n",
       "      <td>0.0000000</td>\n",
       "      <td>0.0000000</td>\n",
       "      <td>0.0000000</td>\n",
       "      <td>0.0000000</td>\n",
       "      <td>0.0000000</td>\n",
       "      <td>0.0000000</td>\n",
       "      <td>0.0000000</td>\n",
       "      <td>0.0000000</td>\n",
       "      <td>0.0000000</td>\n",
       "      <td>0.0000000</td>\n",
       "      <td>0.0000000</td>\n",
       "      <td>0.0000000</td>\n",
       "      <td>0.0000000</td>\n",
       "      <td>0.0000000</td>\n",
       "      <td>0.0000000</td>\n",
       "      <td>1.0000000</td>\n",
       "      <td>0.0000000</td>\n",
       "      <td>0.0000000</td>\n",
       "      <td>0.0000000</td>\n",
       "      <td>0.0000000</td>\n",
       "      <td>0.0000000</td>\n",
       "      <td>0.0000000</td>\n",
       "      <td>0.0000000</td>\n",
       "      <td>0.0000000</td>\n",
       "      <td>0.0000000</td>\n",
       "      <td>0.0000000</td>\n",
       "      <td>0.0000000</td>\n",
       "      <td>1.0000000</td>\n",
       "      <td>0.0000000</td>\n",
       "      <td>0.0000000</td>\n",
       "      <td>0.0000000</td>\n",
       "      <td>0.0000000</td>\n",
       "      <td>0.0000000</td>\n",
       "      <td>1.0000000</td>\n",
       "      <td>0.0000000</td>\n",
       "      <td>0.0000000</td>\n",
       "      <td>0.0000000</td>\n",
       "      <td>0.0000000</td>\n",
       "      <td>0.0000000</td>\n",
       "      <td>0.0000000</td>\n",
       "      <td>0.0000000</td>\n",
       "      <td>0.0000000</td>\n",
       "      <td>0.0000000</td>\n",
       "      <td>0.0000000</td>\n",
       "      <td>0.0000000</td>\n",
       "      <td>0.0000000</td>\n",
       "      <td>0.0000000</td>\n",
       "      <td>1.0000000</td>\n",
       "      <td>0.0000000</td>\n",
       "      <td>0.0000000</td>\n",
       "      <td>0.0000000</td>\n",
       "    </tr>\n",
       "    <tr>\n",
       "      <th>1</th>\n",
       "      <td>0.0000000</td>\n",
       "      <td>0.0000000</td>\n",
       "      <td>0.0000000</td>\n",
       "      <td>1.0000000</td>\n",
       "      <td>0.0000000</td>\n",
       "      <td>0.0000000</td>\n",
       "      <td>0.0000000</td>\n",
       "      <td>0.0000000</td>\n",
       "      <td>0.0000000</td>\n",
       "      <td>0.0000000</td>\n",
       "      <td>0.0000000</td>\n",
       "      <td>0.0000000</td>\n",
       "      <td>0.0000000</td>\n",
       "      <td>0.0000000</td>\n",
       "      <td>0.0000000</td>\n",
       "      <td>0.0000000</td>\n",
       "      <td>0.0000000</td>\n",
       "      <td>0.0000000</td>\n",
       "      <td>0.0000000</td>\n",
       "      <td>0.0000000</td>\n",
       "      <td>0.0000000</td>\n",
       "      <td>0.0000000</td>\n",
       "      <td>1.0000000</td>\n",
       "      <td>0.0000000</td>\n",
       "      <td>0.0000000</td>\n",
       "      <td>0.0000000</td>\n",
       "      <td>0.0000000</td>\n",
       "      <td>0.0000000</td>\n",
       "      <td>0.0000000</td>\n",
       "      <td>0.0000000</td>\n",
       "      <td>0.0000000</td>\n",
       "      <td>0.0000000</td>\n",
       "      <td>0.0000000</td>\n",
       "      <td>0.0000000</td>\n",
       "      <td>1.0000000</td>\n",
       "      <td>0.0000000</td>\n",
       "      <td>0.0000000</td>\n",
       "      <td>0.0000000</td>\n",
       "      <td>0.0000000</td>\n",
       "      <td>0.0000000</td>\n",
       "      <td>1.0000000</td>\n",
       "      <td>0.0000000</td>\n",
       "      <td>0.0000000</td>\n",
       "      <td>0.0000000</td>\n",
       "      <td>0.0000000</td>\n",
       "      <td>0.0000000</td>\n",
       "      <td>0.0000000</td>\n",
       "      <td>0.0000000</td>\n",
       "      <td>0.0000000</td>\n",
       "      <td>0.0000000</td>\n",
       "      <td>0.0000000</td>\n",
       "      <td>0.0000000</td>\n",
       "      <td>0.0000000</td>\n",
       "      <td>0.0000000</td>\n",
       "      <td>0.0000000</td>\n",
       "      <td>0.0000000</td>\n",
       "      <td>1.0000000</td>\n",
       "      <td>0.0000000</td>\n",
       "    </tr>\n",
       "    <tr>\n",
       "      <th>2</th>\n",
       "      <td>1.0000000</td>\n",
       "      <td>0.0000000</td>\n",
       "      <td>0.0000000</td>\n",
       "      <td>0.0000000</td>\n",
       "      <td>0.0000000</td>\n",
       "      <td>0.0000000</td>\n",
       "      <td>1.0000000</td>\n",
       "      <td>0.0000000</td>\n",
       "      <td>0.0000000</td>\n",
       "      <td>0.0000000</td>\n",
       "      <td>0.0000000</td>\n",
       "      <td>0.0000000</td>\n",
       "      <td>0.0000000</td>\n",
       "      <td>0.0000000</td>\n",
       "      <td>0.0000000</td>\n",
       "      <td>0.0000000</td>\n",
       "      <td>0.0000000</td>\n",
       "      <td>0.0000000</td>\n",
       "      <td>0.0000000</td>\n",
       "      <td>0.0000000</td>\n",
       "      <td>0.0000000</td>\n",
       "      <td>0.0000000</td>\n",
       "      <td>0.0000000</td>\n",
       "      <td>0.0000000</td>\n",
       "      <td>0.0000000</td>\n",
       "      <td>0.0000000</td>\n",
       "      <td>0.0000000</td>\n",
       "      <td>0.0000000</td>\n",
       "      <td>0.0000000</td>\n",
       "      <td>0.0000000</td>\n",
       "      <td>0.0000000</td>\n",
       "      <td>0.0000000</td>\n",
       "      <td>0.0000000</td>\n",
       "      <td>0.0000000</td>\n",
       "      <td>1.0000000</td>\n",
       "      <td>0.0000000</td>\n",
       "      <td>0.0000000</td>\n",
       "      <td>0.0000000</td>\n",
       "      <td>0.0000000</td>\n",
       "      <td>0.0000000</td>\n",
       "      <td>1.0000000</td>\n",
       "      <td>0.0000000</td>\n",
       "      <td>0.0000000</td>\n",
       "      <td>0.0000000</td>\n",
       "      <td>0.0000000</td>\n",
       "      <td>0.0000000</td>\n",
       "      <td>0.0000000</td>\n",
       "      <td>0.0000000</td>\n",
       "      <td>0.0000000</td>\n",
       "      <td>0.0000000</td>\n",
       "      <td>0.0000000</td>\n",
       "      <td>0.0000000</td>\n",
       "      <td>0.0000000</td>\n",
       "      <td>0.0000000</td>\n",
       "      <td>1.0000000</td>\n",
       "      <td>0.0000000</td>\n",
       "      <td>0.0000000</td>\n",
       "      <td>0.0000000</td>\n",
       "    </tr>\n",
       "    <tr>\n",
       "      <th>3</th>\n",
       "      <td>1.0000000</td>\n",
       "      <td>0.0000000</td>\n",
       "      <td>0.0000000</td>\n",
       "      <td>0.0000000</td>\n",
       "      <td>0.0000000</td>\n",
       "      <td>0.0000000</td>\n",
       "      <td>0.0000000</td>\n",
       "      <td>0.0000000</td>\n",
       "      <td>0.0000000</td>\n",
       "      <td>0.0000000</td>\n",
       "      <td>0.0000000</td>\n",
       "      <td>0.0000000</td>\n",
       "      <td>0.0000000</td>\n",
       "      <td>0.0000000</td>\n",
       "      <td>0.0000000</td>\n",
       "      <td>0.0000000</td>\n",
       "      <td>0.0000000</td>\n",
       "      <td>0.0000000</td>\n",
       "      <td>0.0000000</td>\n",
       "      <td>0.0000000</td>\n",
       "      <td>0.0000000</td>\n",
       "      <td>0.0000000</td>\n",
       "      <td>0.0000000</td>\n",
       "      <td>0.0000000</td>\n",
       "      <td>0.0000000</td>\n",
       "      <td>1.0000000</td>\n",
       "      <td>0.0000000</td>\n",
       "      <td>0.0000000</td>\n",
       "      <td>0.0000000</td>\n",
       "      <td>0.0000000</td>\n",
       "      <td>0.0000000</td>\n",
       "      <td>0.0000000</td>\n",
       "      <td>0.0000000</td>\n",
       "      <td>0.0000000</td>\n",
       "      <td>1.0000000</td>\n",
       "      <td>0.0000000</td>\n",
       "      <td>0.0000000</td>\n",
       "      <td>0.0000000</td>\n",
       "      <td>0.0000000</td>\n",
       "      <td>0.0000000</td>\n",
       "      <td>0.0000000</td>\n",
       "      <td>1.0000000</td>\n",
       "      <td>0.0000000</td>\n",
       "      <td>0.0000000</td>\n",
       "      <td>0.0000000</td>\n",
       "      <td>0.0000000</td>\n",
       "      <td>0.0000000</td>\n",
       "      <td>0.0000000</td>\n",
       "      <td>0.0000000</td>\n",
       "      <td>0.0000000</td>\n",
       "      <td>0.0000000</td>\n",
       "      <td>0.0000000</td>\n",
       "      <td>0.0000000</td>\n",
       "      <td>0.0000000</td>\n",
       "      <td>1.0000000</td>\n",
       "      <td>0.0000000</td>\n",
       "      <td>0.0000000</td>\n",
       "      <td>0.0000000</td>\n",
       "    </tr>\n",
       "    <tr>\n",
       "      <th>4</th>\n",
       "      <td>0.0000000</td>\n",
       "      <td>0.0000000</td>\n",
       "      <td>0.0000000</td>\n",
       "      <td>1.0000000</td>\n",
       "      <td>0.0000000</td>\n",
       "      <td>0.0000000</td>\n",
       "      <td>0.0000000</td>\n",
       "      <td>0.0000000</td>\n",
       "      <td>0.0000000</td>\n",
       "      <td>0.0000000</td>\n",
       "      <td>0.0000000</td>\n",
       "      <td>0.0000000</td>\n",
       "      <td>0.0000000</td>\n",
       "      <td>0.0000000</td>\n",
       "      <td>0.0000000</td>\n",
       "      <td>0.0000000</td>\n",
       "      <td>0.0000000</td>\n",
       "      <td>0.0000000</td>\n",
       "      <td>0.0000000</td>\n",
       "      <td>0.0000000</td>\n",
       "      <td>0.0000000</td>\n",
       "      <td>0.0000000</td>\n",
       "      <td>1.0000000</td>\n",
       "      <td>0.0000000</td>\n",
       "      <td>0.0000000</td>\n",
       "      <td>0.0000000</td>\n",
       "      <td>0.0000000</td>\n",
       "      <td>0.0000000</td>\n",
       "      <td>0.0000000</td>\n",
       "      <td>0.0000000</td>\n",
       "      <td>0.0000000</td>\n",
       "      <td>0.0000000</td>\n",
       "      <td>0.0000000</td>\n",
       "      <td>0.0000000</td>\n",
       "      <td>1.0000000</td>\n",
       "      <td>0.0000000</td>\n",
       "      <td>0.0000000</td>\n",
       "      <td>0.0000000</td>\n",
       "      <td>0.0000000</td>\n",
       "      <td>1.0000000</td>\n",
       "      <td>0.0000000</td>\n",
       "      <td>0.0000000</td>\n",
       "      <td>0.0000000</td>\n",
       "      <td>0.0000000</td>\n",
       "      <td>0.0000000</td>\n",
       "      <td>0.0000000</td>\n",
       "      <td>0.0000000</td>\n",
       "      <td>0.0000000</td>\n",
       "      <td>0.0000000</td>\n",
       "      <td>0.0000000</td>\n",
       "      <td>0.0000000</td>\n",
       "      <td>0.0000000</td>\n",
       "      <td>0.0000000</td>\n",
       "      <td>0.0000000</td>\n",
       "      <td>0.0000000</td>\n",
       "      <td>0.0000000</td>\n",
       "      <td>1.0000000</td>\n",
       "      <td>0.0000000</td>\n",
       "    </tr>\n",
       "    <tr>\n",
       "      <th>...</th>\n",
       "      <td>...</td>\n",
       "      <td>...</td>\n",
       "      <td>...</td>\n",
       "      <td>...</td>\n",
       "      <td>...</td>\n",
       "      <td>...</td>\n",
       "      <td>...</td>\n",
       "      <td>...</td>\n",
       "      <td>...</td>\n",
       "      <td>...</td>\n",
       "      <td>...</td>\n",
       "      <td>...</td>\n",
       "      <td>...</td>\n",
       "      <td>...</td>\n",
       "      <td>...</td>\n",
       "      <td>...</td>\n",
       "      <td>...</td>\n",
       "      <td>...</td>\n",
       "      <td>...</td>\n",
       "      <td>...</td>\n",
       "      <td>...</td>\n",
       "      <td>...</td>\n",
       "      <td>...</td>\n",
       "      <td>...</td>\n",
       "      <td>...</td>\n",
       "      <td>...</td>\n",
       "      <td>...</td>\n",
       "      <td>...</td>\n",
       "      <td>...</td>\n",
       "      <td>...</td>\n",
       "      <td>...</td>\n",
       "      <td>...</td>\n",
       "      <td>...</td>\n",
       "      <td>...</td>\n",
       "      <td>...</td>\n",
       "      <td>...</td>\n",
       "      <td>...</td>\n",
       "      <td>...</td>\n",
       "      <td>...</td>\n",
       "      <td>...</td>\n",
       "      <td>...</td>\n",
       "      <td>...</td>\n",
       "      <td>...</td>\n",
       "      <td>...</td>\n",
       "      <td>...</td>\n",
       "      <td>...</td>\n",
       "      <td>...</td>\n",
       "      <td>...</td>\n",
       "      <td>...</td>\n",
       "      <td>...</td>\n",
       "      <td>...</td>\n",
       "      <td>...</td>\n",
       "      <td>...</td>\n",
       "      <td>...</td>\n",
       "      <td>...</td>\n",
       "      <td>...</td>\n",
       "      <td>...</td>\n",
       "      <td>...</td>\n",
       "    </tr>\n",
       "    <tr>\n",
       "      <th>22387</th>\n",
       "      <td>0.0000000</td>\n",
       "      <td>1.0000000</td>\n",
       "      <td>0.0000000</td>\n",
       "      <td>0.0000000</td>\n",
       "      <td>0.0000000</td>\n",
       "      <td>0.0000000</td>\n",
       "      <td>0.0000000</td>\n",
       "      <td>0.0000000</td>\n",
       "      <td>0.0000000</td>\n",
       "      <td>0.0000000</td>\n",
       "      <td>0.0000000</td>\n",
       "      <td>0.0000000</td>\n",
       "      <td>0.0000000</td>\n",
       "      <td>0.0000000</td>\n",
       "      <td>0.0000000</td>\n",
       "      <td>1.0000000</td>\n",
       "      <td>0.0000000</td>\n",
       "      <td>0.0000000</td>\n",
       "      <td>0.0000000</td>\n",
       "      <td>0.0000000</td>\n",
       "      <td>0.0000000</td>\n",
       "      <td>0.0000000</td>\n",
       "      <td>0.0000000</td>\n",
       "      <td>0.0000000</td>\n",
       "      <td>0.0000000</td>\n",
       "      <td>0.0000000</td>\n",
       "      <td>0.0000000</td>\n",
       "      <td>0.0000000</td>\n",
       "      <td>0.0000000</td>\n",
       "      <td>0.0000000</td>\n",
       "      <td>0.0000000</td>\n",
       "      <td>0.0000000</td>\n",
       "      <td>0.0000000</td>\n",
       "      <td>0.0000000</td>\n",
       "      <td>1.0000000</td>\n",
       "      <td>0.0000000</td>\n",
       "      <td>0.0000000</td>\n",
       "      <td>0.0000000</td>\n",
       "      <td>0.0000000</td>\n",
       "      <td>0.0000000</td>\n",
       "      <td>0.0000000</td>\n",
       "      <td>0.0000000</td>\n",
       "      <td>0.0000000</td>\n",
       "      <td>0.0000000</td>\n",
       "      <td>0.0000000</td>\n",
       "      <td>0.0000000</td>\n",
       "      <td>0.0000000</td>\n",
       "      <td>0.0000000</td>\n",
       "      <td>1.0000000</td>\n",
       "      <td>0.0000000</td>\n",
       "      <td>0.0000000</td>\n",
       "      <td>0.0000000</td>\n",
       "      <td>0.0000000</td>\n",
       "      <td>0.0000000</td>\n",
       "      <td>0.0000000</td>\n",
       "      <td>0.0000000</td>\n",
       "      <td>1.0000000</td>\n",
       "      <td>0.0000000</td>\n",
       "    </tr>\n",
       "    <tr>\n",
       "      <th>22388</th>\n",
       "      <td>0.0000000</td>\n",
       "      <td>1.0000000</td>\n",
       "      <td>0.0000000</td>\n",
       "      <td>0.0000000</td>\n",
       "      <td>0.0000000</td>\n",
       "      <td>0.0000000</td>\n",
       "      <td>0.0000000</td>\n",
       "      <td>0.0000000</td>\n",
       "      <td>0.0000000</td>\n",
       "      <td>0.0000000</td>\n",
       "      <td>0.0000000</td>\n",
       "      <td>0.0000000</td>\n",
       "      <td>0.0000000</td>\n",
       "      <td>0.0000000</td>\n",
       "      <td>0.0000000</td>\n",
       "      <td>1.0000000</td>\n",
       "      <td>0.0000000</td>\n",
       "      <td>0.0000000</td>\n",
       "      <td>0.0000000</td>\n",
       "      <td>0.0000000</td>\n",
       "      <td>0.0000000</td>\n",
       "      <td>0.0000000</td>\n",
       "      <td>0.0000000</td>\n",
       "      <td>0.0000000</td>\n",
       "      <td>0.0000000</td>\n",
       "      <td>0.0000000</td>\n",
       "      <td>0.0000000</td>\n",
       "      <td>0.0000000</td>\n",
       "      <td>0.0000000</td>\n",
       "      <td>0.0000000</td>\n",
       "      <td>0.0000000</td>\n",
       "      <td>0.0000000</td>\n",
       "      <td>0.0000000</td>\n",
       "      <td>0.0000000</td>\n",
       "      <td>1.0000000</td>\n",
       "      <td>0.0000000</td>\n",
       "      <td>0.0000000</td>\n",
       "      <td>0.0000000</td>\n",
       "      <td>0.0000000</td>\n",
       "      <td>0.0000000</td>\n",
       "      <td>0.0000000</td>\n",
       "      <td>0.0000000</td>\n",
       "      <td>0.0000000</td>\n",
       "      <td>0.0000000</td>\n",
       "      <td>0.0000000</td>\n",
       "      <td>0.0000000</td>\n",
       "      <td>0.0000000</td>\n",
       "      <td>0.0000000</td>\n",
       "      <td>1.0000000</td>\n",
       "      <td>0.0000000</td>\n",
       "      <td>0.0000000</td>\n",
       "      <td>0.0000000</td>\n",
       "      <td>0.0000000</td>\n",
       "      <td>0.0000000</td>\n",
       "      <td>0.0000000</td>\n",
       "      <td>0.0000000</td>\n",
       "      <td>1.0000000</td>\n",
       "      <td>0.0000000</td>\n",
       "    </tr>\n",
       "    <tr>\n",
       "      <th>22389</th>\n",
       "      <td>0.0000000</td>\n",
       "      <td>0.0000000</td>\n",
       "      <td>0.0000000</td>\n",
       "      <td>1.0000000</td>\n",
       "      <td>0.0000000</td>\n",
       "      <td>0.0000000</td>\n",
       "      <td>0.0000000</td>\n",
       "      <td>0.0000000</td>\n",
       "      <td>0.0000000</td>\n",
       "      <td>0.0000000</td>\n",
       "      <td>0.0000000</td>\n",
       "      <td>0.0000000</td>\n",
       "      <td>0.0000000</td>\n",
       "      <td>0.0000000</td>\n",
       "      <td>0.0000000</td>\n",
       "      <td>0.0000000</td>\n",
       "      <td>0.0000000</td>\n",
       "      <td>0.0000000</td>\n",
       "      <td>0.0000000</td>\n",
       "      <td>0.0000000</td>\n",
       "      <td>0.0000000</td>\n",
       "      <td>0.0000000</td>\n",
       "      <td>1.0000000</td>\n",
       "      <td>0.0000000</td>\n",
       "      <td>0.0000000</td>\n",
       "      <td>0.0000000</td>\n",
       "      <td>0.0000000</td>\n",
       "      <td>0.0000000</td>\n",
       "      <td>0.0000000</td>\n",
       "      <td>0.0000000</td>\n",
       "      <td>0.0000000</td>\n",
       "      <td>0.0000000</td>\n",
       "      <td>0.0000000</td>\n",
       "      <td>0.0000000</td>\n",
       "      <td>1.0000000</td>\n",
       "      <td>0.0000000</td>\n",
       "      <td>0.0000000</td>\n",
       "      <td>0.0000000</td>\n",
       "      <td>0.0000000</td>\n",
       "      <td>0.0000000</td>\n",
       "      <td>0.0000000</td>\n",
       "      <td>0.0000000</td>\n",
       "      <td>0.0000000</td>\n",
       "      <td>0.0000000</td>\n",
       "      <td>0.0000000</td>\n",
       "      <td>0.0000000</td>\n",
       "      <td>0.0000000</td>\n",
       "      <td>0.0000000</td>\n",
       "      <td>1.0000000</td>\n",
       "      <td>0.0000000</td>\n",
       "      <td>0.0000000</td>\n",
       "      <td>0.0000000</td>\n",
       "      <td>0.0000000</td>\n",
       "      <td>0.0000000</td>\n",
       "      <td>0.0000000</td>\n",
       "      <td>0.0000000</td>\n",
       "      <td>1.0000000</td>\n",
       "      <td>0.0000000</td>\n",
       "    </tr>\n",
       "    <tr>\n",
       "      <th>22390</th>\n",
       "      <td>0.0000000</td>\n",
       "      <td>0.0000000</td>\n",
       "      <td>0.0000000</td>\n",
       "      <td>1.0000000</td>\n",
       "      <td>0.0000000</td>\n",
       "      <td>0.0000000</td>\n",
       "      <td>0.0000000</td>\n",
       "      <td>0.0000000</td>\n",
       "      <td>0.0000000</td>\n",
       "      <td>0.0000000</td>\n",
       "      <td>0.0000000</td>\n",
       "      <td>0.0000000</td>\n",
       "      <td>0.0000000</td>\n",
       "      <td>0.0000000</td>\n",
       "      <td>0.0000000</td>\n",
       "      <td>0.0000000</td>\n",
       "      <td>0.0000000</td>\n",
       "      <td>0.0000000</td>\n",
       "      <td>0.0000000</td>\n",
       "      <td>0.0000000</td>\n",
       "      <td>0.0000000</td>\n",
       "      <td>0.0000000</td>\n",
       "      <td>1.0000000</td>\n",
       "      <td>0.0000000</td>\n",
       "      <td>0.0000000</td>\n",
       "      <td>0.0000000</td>\n",
       "      <td>0.0000000</td>\n",
       "      <td>0.0000000</td>\n",
       "      <td>0.0000000</td>\n",
       "      <td>0.0000000</td>\n",
       "      <td>0.0000000</td>\n",
       "      <td>0.0000000</td>\n",
       "      <td>0.0000000</td>\n",
       "      <td>0.0000000</td>\n",
       "      <td>1.0000000</td>\n",
       "      <td>0.0000000</td>\n",
       "      <td>0.0000000</td>\n",
       "      <td>0.0000000</td>\n",
       "      <td>0.0000000</td>\n",
       "      <td>0.0000000</td>\n",
       "      <td>0.0000000</td>\n",
       "      <td>0.0000000</td>\n",
       "      <td>0.0000000</td>\n",
       "      <td>0.0000000</td>\n",
       "      <td>0.0000000</td>\n",
       "      <td>0.0000000</td>\n",
       "      <td>0.0000000</td>\n",
       "      <td>0.0000000</td>\n",
       "      <td>1.0000000</td>\n",
       "      <td>0.0000000</td>\n",
       "      <td>0.0000000</td>\n",
       "      <td>0.0000000</td>\n",
       "      <td>0.0000000</td>\n",
       "      <td>0.0000000</td>\n",
       "      <td>0.0000000</td>\n",
       "      <td>0.0000000</td>\n",
       "      <td>1.0000000</td>\n",
       "      <td>0.0000000</td>\n",
       "    </tr>\n",
       "    <tr>\n",
       "      <th>22391</th>\n",
       "      <td>0.0000000</td>\n",
       "      <td>1.0000000</td>\n",
       "      <td>0.0000000</td>\n",
       "      <td>0.0000000</td>\n",
       "      <td>0.0000000</td>\n",
       "      <td>0.0000000</td>\n",
       "      <td>0.0000000</td>\n",
       "      <td>0.0000000</td>\n",
       "      <td>0.0000000</td>\n",
       "      <td>0.0000000</td>\n",
       "      <td>0.0000000</td>\n",
       "      <td>0.0000000</td>\n",
       "      <td>0.0000000</td>\n",
       "      <td>0.0000000</td>\n",
       "      <td>0.0000000</td>\n",
       "      <td>1.0000000</td>\n",
       "      <td>0.0000000</td>\n",
       "      <td>0.0000000</td>\n",
       "      <td>0.0000000</td>\n",
       "      <td>0.0000000</td>\n",
       "      <td>0.0000000</td>\n",
       "      <td>0.0000000</td>\n",
       "      <td>0.0000000</td>\n",
       "      <td>0.0000000</td>\n",
       "      <td>0.0000000</td>\n",
       "      <td>0.0000000</td>\n",
       "      <td>0.0000000</td>\n",
       "      <td>0.0000000</td>\n",
       "      <td>0.0000000</td>\n",
       "      <td>0.0000000</td>\n",
       "      <td>0.0000000</td>\n",
       "      <td>0.0000000</td>\n",
       "      <td>0.0000000</td>\n",
       "      <td>0.0000000</td>\n",
       "      <td>1.0000000</td>\n",
       "      <td>0.0000000</td>\n",
       "      <td>0.0000000</td>\n",
       "      <td>0.0000000</td>\n",
       "      <td>0.0000000</td>\n",
       "      <td>0.0000000</td>\n",
       "      <td>0.0000000</td>\n",
       "      <td>0.0000000</td>\n",
       "      <td>0.0000000</td>\n",
       "      <td>0.0000000</td>\n",
       "      <td>0.0000000</td>\n",
       "      <td>0.0000000</td>\n",
       "      <td>0.0000000</td>\n",
       "      <td>0.0000000</td>\n",
       "      <td>1.0000000</td>\n",
       "      <td>0.0000000</td>\n",
       "      <td>0.0000000</td>\n",
       "      <td>0.0000000</td>\n",
       "      <td>0.0000000</td>\n",
       "      <td>0.0000000</td>\n",
       "      <td>0.0000000</td>\n",
       "      <td>0.0000000</td>\n",
       "      <td>1.0000000</td>\n",
       "      <td>0.0000000</td>\n",
       "    </tr>\n",
       "  </tbody>\n",
       "</table>\n",
       "<p>22392 rows × 58 columns</p>\n",
       "</div>"
      ],
      "text/plain": [
       "       CATEGORÍA_Alimentos y Bebidas  CATEGORÍA_Aseo, Cafetería y Oficina  \\\n",
       "0                          0.0000000                            0.0000000   \n",
       "1                          0.0000000                            0.0000000   \n",
       "2                          1.0000000                            0.0000000   \n",
       "3                          1.0000000                            0.0000000   \n",
       "4                          0.0000000                            0.0000000   \n",
       "...                              ...                                  ...   \n",
       "22387                      0.0000000                            1.0000000   \n",
       "22388                      0.0000000                            1.0000000   \n",
       "22389                      0.0000000                            0.0000000   \n",
       "22390                      0.0000000                            0.0000000   \n",
       "22391                      0.0000000                            1.0000000   \n",
       "\n",
       "       CATEGORÍA_Dotación y elementos de protección personal  CATEGORÍA_Otros  \\\n",
       "0                                              0.0000000            1.0000000   \n",
       "1                                              0.0000000            1.0000000   \n",
       "2                                              0.0000000            0.0000000   \n",
       "3                                              0.0000000            0.0000000   \n",
       "4                                              0.0000000            1.0000000   \n",
       "...                                                  ...                  ...   \n",
       "22387                                          0.0000000            0.0000000   \n",
       "22388                                          0.0000000            0.0000000   \n",
       "22389                                          0.0000000            1.0000000   \n",
       "22390                                          0.0000000            1.0000000   \n",
       "22391                                          0.0000000            0.0000000   \n",
       "\n",
       "       CATEGORÍA_Vigilancia y seguridad industrial  \\\n",
       "0                                        0.0000000   \n",
       "1                                        0.0000000   \n",
       "2                                        0.0000000   \n",
       "3                                        0.0000000   \n",
       "4                                        0.0000000   \n",
       "...                                            ...   \n",
       "22387                                    0.0000000   \n",
       "22388                                    0.0000000   \n",
       "22389                                    0.0000000   \n",
       "22390                                    0.0000000   \n",
       "22391                                    0.0000000   \n",
       "\n",
       "       SUBCATEGORÍA_Aceites y grasas comestibles  \\\n",
       "0                                      0.0000000   \n",
       "1                                      0.0000000   \n",
       "2                                      0.0000000   \n",
       "3                                      0.0000000   \n",
       "4                                      0.0000000   \n",
       "...                                          ...   \n",
       "22387                                  0.0000000   \n",
       "22388                                  0.0000000   \n",
       "22389                                  0.0000000   \n",
       "22390                                  0.0000000   \n",
       "22391                                  0.0000000   \n",
       "\n",
       "       SUBCATEGORÍA_Alimentos preparados y conservados  SUBCATEGORÍA_Bebidas  \\\n",
       "0                                            0.0000000             0.0000000   \n",
       "1                                            0.0000000             0.0000000   \n",
       "2                                            1.0000000             0.0000000   \n",
       "3                                            0.0000000             0.0000000   \n",
       "4                                            0.0000000             0.0000000   \n",
       "...                                                ...                   ...   \n",
       "22387                                        0.0000000             0.0000000   \n",
       "22388                                        0.0000000             0.0000000   \n",
       "22389                                        0.0000000             0.0000000   \n",
       "22390                                        0.0000000             0.0000000   \n",
       "22391                                        0.0000000             0.0000000   \n",
       "\n",
       "       SUBCATEGORÍA_Calzado  SUBCATEGORÍA_Camisas y camisetas  \\\n",
       "0                 0.0000000                         0.0000000   \n",
       "1                 0.0000000                         0.0000000   \n",
       "2                 0.0000000                         0.0000000   \n",
       "3                 0.0000000                         0.0000000   \n",
       "4                 0.0000000                         0.0000000   \n",
       "...                     ...                               ...   \n",
       "22387             0.0000000                         0.0000000   \n",
       "22388             0.0000000                         0.0000000   \n",
       "22389             0.0000000                         0.0000000   \n",
       "22390             0.0000000                         0.0000000   \n",
       "22391             0.0000000                         0.0000000   \n",
       "\n",
       "       SUBCATEGORÍA_Chocolates, azúcares y confitería  \\\n",
       "0                                           0.0000000   \n",
       "1                                           0.0000000   \n",
       "2                                           0.0000000   \n",
       "3                                           0.0000000   \n",
       "4                                           0.0000000   \n",
       "...                                               ...   \n",
       "22387                                       0.0000000   \n",
       "22388                                       0.0000000   \n",
       "22389                                       0.0000000   \n",
       "22390                                       0.0000000   \n",
       "22391                                       0.0000000   \n",
       "\n",
       "       SUBCATEGORÍA_Condimentos y conservantes  \\\n",
       "0                                    0.0000000   \n",
       "1                                    0.0000000   \n",
       "2                                    0.0000000   \n",
       "3                                    0.0000000   \n",
       "4                                    0.0000000   \n",
       "...                                        ...   \n",
       "22387                                0.0000000   \n",
       "22388                                0.0000000   \n",
       "22389                                0.0000000   \n",
       "22390                                0.0000000   \n",
       "22391                                0.0000000   \n",
       "\n",
       "       SUBCATEGORÍA_Elementos de aseo y limpieza  \\\n",
       "0                                      0.0000000   \n",
       "1                                      0.0000000   \n",
       "2                                      0.0000000   \n",
       "3                                      0.0000000   \n",
       "4                                      0.0000000   \n",
       "...                                          ...   \n",
       "22387                                  0.0000000   \n",
       "22388                                  0.0000000   \n",
       "22389                                  0.0000000   \n",
       "22390                                  0.0000000   \n",
       "22391                                  0.0000000   \n",
       "\n",
       "       SUBCATEGORÍA_Elementos de bioseguridad  \\\n",
       "0                                   0.0000000   \n",
       "1                                   0.0000000   \n",
       "2                                   0.0000000   \n",
       "3                                   0.0000000   \n",
       "4                                   0.0000000   \n",
       "...                                       ...   \n",
       "22387                               0.0000000   \n",
       "22388                               0.0000000   \n",
       "22389                               0.0000000   \n",
       "22390                               0.0000000   \n",
       "22391                               0.0000000   \n",
       "\n",
       "       SUBCATEGORÍA_Elementos de cafetería  \\\n",
       "0                                0.0000000   \n",
       "1                                0.0000000   \n",
       "2                                0.0000000   \n",
       "3                                0.0000000   \n",
       "4                                0.0000000   \n",
       "...                                    ...   \n",
       "22387                            0.0000000   \n",
       "22388                            0.0000000   \n",
       "22389                            0.0000000   \n",
       "22390                            0.0000000   \n",
       "22391                            0.0000000   \n",
       "\n",
       "       SUBCATEGORÍA_Elementos de papelería  \\\n",
       "0                                0.0000000   \n",
       "1                                0.0000000   \n",
       "2                                0.0000000   \n",
       "3                                0.0000000   \n",
       "4                                0.0000000   \n",
       "...                                    ...   \n",
       "22387                            1.0000000   \n",
       "22388                            1.0000000   \n",
       "22389                            0.0000000   \n",
       "22390                            0.0000000   \n",
       "22391                            1.0000000   \n",
       "\n",
       "       SUBCATEGORÍA_Elementos de protección personal  \\\n",
       "0                                          0.0000000   \n",
       "1                                          0.0000000   \n",
       "2                                          0.0000000   \n",
       "3                                          0.0000000   \n",
       "4                                          0.0000000   \n",
       "...                                              ...   \n",
       "22387                                      0.0000000   \n",
       "22388                                      0.0000000   \n",
       "22389                                      0.0000000   \n",
       "22390                                      0.0000000   \n",
       "22391                                      0.0000000   \n",
       "\n",
       "       SUBCATEGORÍA_Equipo de aseo  \\\n",
       "0                        0.0000000   \n",
       "1                        0.0000000   \n",
       "2                        0.0000000   \n",
       "3                        0.0000000   \n",
       "4                        0.0000000   \n",
       "...                            ...   \n",
       "22387                    0.0000000   \n",
       "22388                    0.0000000   \n",
       "22389                    0.0000000   \n",
       "22390                    0.0000000   \n",
       "22391                    0.0000000   \n",
       "\n",
       "       SUBCATEGORÍA_Equipo y accesorios de oficina y escritorio  \\\n",
       "0                                              0.0000000          \n",
       "1                                              0.0000000          \n",
       "2                                              0.0000000          \n",
       "3                                              0.0000000          \n",
       "4                                              0.0000000          \n",
       "...                                                  ...          \n",
       "22387                                          0.0000000          \n",
       "22388                                          0.0000000          \n",
       "22389                                          0.0000000          \n",
       "22390                                          0.0000000          \n",
       "22391                                          0.0000000          \n",
       "\n",
       "       SUBCATEGORÍA_Fruta fresca  SUBCATEGORÍA_Insumos desinfección  \\\n",
       "0                      0.0000000                          0.0000000   \n",
       "1                      0.0000000                          0.0000000   \n",
       "2                      0.0000000                          0.0000000   \n",
       "3                      0.0000000                          0.0000000   \n",
       "4                      0.0000000                          0.0000000   \n",
       "...                          ...                                ...   \n",
       "22387                  0.0000000                          0.0000000   \n",
       "22388                  0.0000000                          0.0000000   \n",
       "22389                  0.0000000                          0.0000000   \n",
       "22390                  0.0000000                          0.0000000   \n",
       "22391                  0.0000000                          0.0000000   \n",
       "\n",
       "       SUBCATEGORÍA_Otra  SUBCATEGORÍA_Otros  SUBCATEGORÍA_Pantalones  \\\n",
       "0              0.0000000           1.0000000                0.0000000   \n",
       "1              0.0000000           1.0000000                0.0000000   \n",
       "2              0.0000000           0.0000000                0.0000000   \n",
       "3              0.0000000           0.0000000                0.0000000   \n",
       "4              0.0000000           1.0000000                0.0000000   \n",
       "...                  ...                 ...                      ...   \n",
       "22387          0.0000000           0.0000000                0.0000000   \n",
       "22388          0.0000000           0.0000000                0.0000000   \n",
       "22389          0.0000000           1.0000000                0.0000000   \n",
       "22390          0.0000000           1.0000000                0.0000000   \n",
       "22391          0.0000000           0.0000000                0.0000000   \n",
       "\n",
       "       SUBCATEGORÍA_Prendas uniformes  \\\n",
       "0                           0.0000000   \n",
       "1                           0.0000000   \n",
       "2                           0.0000000   \n",
       "3                           0.0000000   \n",
       "4                           0.0000000   \n",
       "...                               ...   \n",
       "22387                       0.0000000   \n",
       "22388                       0.0000000   \n",
       "22389                       0.0000000   \n",
       "22390                       0.0000000   \n",
       "22391                       0.0000000   \n",
       "\n",
       "       SUBCATEGORÍA_Productos de carne y aves de corral  \\\n",
       "0                                             0.0000000   \n",
       "1                                             0.0000000   \n",
       "2                                             0.0000000   \n",
       "3                                             1.0000000   \n",
       "4                                             0.0000000   \n",
       "...                                                 ...   \n",
       "22387                                         0.0000000   \n",
       "22388                                         0.0000000   \n",
       "22389                                         0.0000000   \n",
       "22390                                         0.0000000   \n",
       "22391                                         0.0000000   \n",
       "\n",
       "       SUBCATEGORÍA_Productos de cereales y legumbres  \\\n",
       "0                                           0.0000000   \n",
       "1                                           0.0000000   \n",
       "2                                           0.0000000   \n",
       "3                                           0.0000000   \n",
       "4                                           0.0000000   \n",
       "...                                               ...   \n",
       "22387                                       0.0000000   \n",
       "22388                                       0.0000000   \n",
       "22389                                       0.0000000   \n",
       "22390                                       0.0000000   \n",
       "22391                                       0.0000000   \n",
       "\n",
       "       SUBCATEGORÍA_Productos de panadería  \\\n",
       "0                                0.0000000   \n",
       "1                                0.0000000   \n",
       "2                                0.0000000   \n",
       "3                                0.0000000   \n",
       "4                                0.0000000   \n",
       "...                                    ...   \n",
       "22387                            0.0000000   \n",
       "22388                            0.0000000   \n",
       "22389                            0.0000000   \n",
       "22390                            0.0000000   \n",
       "22391                            0.0000000   \n",
       "\n",
       "       SUBCATEGORÍA_Productos lácteos y huevos  \\\n",
       "0                                    0.0000000   \n",
       "1                                    0.0000000   \n",
       "2                                    0.0000000   \n",
       "3                                    0.0000000   \n",
       "4                                    0.0000000   \n",
       "...                                        ...   \n",
       "22387                                0.0000000   \n",
       "22388                                0.0000000   \n",
       "22389                                0.0000000   \n",
       "22390                                0.0000000   \n",
       "22391                                0.0000000   \n",
       "\n",
       "       SUBCATEGORÍA_Seguridad y control público  \\\n",
       "0                                     0.0000000   \n",
       "1                                     0.0000000   \n",
       "2                                     0.0000000   \n",
       "3                                     0.0000000   \n",
       "4                                     0.0000000   \n",
       "...                                         ...   \n",
       "22387                                 0.0000000   \n",
       "22388                                 0.0000000   \n",
       "22389                                 0.0000000   \n",
       "22390                                 0.0000000   \n",
       "22391                                 0.0000000   \n",
       "\n",
       "       SUBCATEGORÍA_Seguridad y protección personal  \\\n",
       "0                                         0.0000000   \n",
       "1                                         0.0000000   \n",
       "2                                         0.0000000   \n",
       "3                                         0.0000000   \n",
       "4                                         0.0000000   \n",
       "...                                             ...   \n",
       "22387                                     0.0000000   \n",
       "22388                                     0.0000000   \n",
       "22389                                     0.0000000   \n",
       "22390                                     0.0000000   \n",
       "22391                                     0.0000000   \n",
       "\n",
       "       SUBCATEGORÍA_Señalización  SUBCATEGORÍA_Trabajo en alturas  \\\n",
       "0                      0.0000000                        0.0000000   \n",
       "1                      0.0000000                        0.0000000   \n",
       "2                      0.0000000                        0.0000000   \n",
       "3                      0.0000000                        0.0000000   \n",
       "4                      0.0000000                        0.0000000   \n",
       "...                          ...                              ...   \n",
       "22387                  0.0000000                        0.0000000   \n",
       "22388                  0.0000000                        0.0000000   \n",
       "22389                  0.0000000                        0.0000000   \n",
       "22390                  0.0000000                        0.0000000   \n",
       "22391                  0.0000000                        0.0000000   \n",
       "\n",
       "       SUBCATEGORÍA_Vegetales frescos  PROVEEDOR_Otros  \\\n",
       "0                           0.0000000        1.0000000   \n",
       "1                           0.0000000        1.0000000   \n",
       "2                           0.0000000        1.0000000   \n",
       "3                           0.0000000        1.0000000   \n",
       "4                           0.0000000        1.0000000   \n",
       "...                               ...              ...   \n",
       "22387                       0.0000000        1.0000000   \n",
       "22388                       0.0000000        1.0000000   \n",
       "22389                       0.0000000        1.0000000   \n",
       "22390                       0.0000000        1.0000000   \n",
       "22391                       0.0000000        1.0000000   \n",
       "\n",
       "       PROVEEDOR_Proveedor 26  PROVEEDOR_Proveedor 28  \\\n",
       "0                   0.0000000               0.0000000   \n",
       "1                   0.0000000               0.0000000   \n",
       "2                   0.0000000               0.0000000   \n",
       "3                   0.0000000               0.0000000   \n",
       "4                   0.0000000               0.0000000   \n",
       "...                       ...                     ...   \n",
       "22387               0.0000000               0.0000000   \n",
       "22388               0.0000000               0.0000000   \n",
       "22389               0.0000000               0.0000000   \n",
       "22390               0.0000000               0.0000000   \n",
       "22391               0.0000000               0.0000000   \n",
       "\n",
       "       PROVEEDOR_Proveedor 301  PROVEEDOR_Proveedor 59  \\\n",
       "0                    0.0000000               0.0000000   \n",
       "1                    0.0000000               0.0000000   \n",
       "2                    0.0000000               0.0000000   \n",
       "3                    0.0000000               0.0000000   \n",
       "4                    0.0000000               0.0000000   \n",
       "...                        ...                     ...   \n",
       "22387                0.0000000               0.0000000   \n",
       "22388                0.0000000               0.0000000   \n",
       "22389                0.0000000               0.0000000   \n",
       "22390                0.0000000               0.0000000   \n",
       "22391                0.0000000               0.0000000   \n",
       "\n",
       "       COMPAÑÍA_COMPRADORA_Otros  COMPAÑÍA_COMPRADORA_Portal comprador 1  \\\n",
       "0                      0.0000000                               1.0000000   \n",
       "1                      0.0000000                               1.0000000   \n",
       "2                      0.0000000                               1.0000000   \n",
       "3                      0.0000000                               0.0000000   \n",
       "4                      1.0000000                               0.0000000   \n",
       "...                          ...                                     ...   \n",
       "22387                  0.0000000                               0.0000000   \n",
       "22388                  0.0000000                               0.0000000   \n",
       "22389                  0.0000000                               0.0000000   \n",
       "22390                  0.0000000                               0.0000000   \n",
       "22391                  0.0000000                               0.0000000   \n",
       "\n",
       "       COMPAÑÍA_COMPRADORA_Portal comprador 2  \\\n",
       "0                                   0.0000000   \n",
       "1                                   0.0000000   \n",
       "2                                   0.0000000   \n",
       "3                                   1.0000000   \n",
       "4                                   0.0000000   \n",
       "...                                       ...   \n",
       "22387                               0.0000000   \n",
       "22388                               0.0000000   \n",
       "22389                               0.0000000   \n",
       "22390                               0.0000000   \n",
       "22391                               0.0000000   \n",
       "\n",
       "       COMPAÑÍA_COMPRADORA_Portal comprador 24  \\\n",
       "0                                    0.0000000   \n",
       "1                                    0.0000000   \n",
       "2                                    0.0000000   \n",
       "3                                    0.0000000   \n",
       "4                                    0.0000000   \n",
       "...                                        ...   \n",
       "22387                                0.0000000   \n",
       "22388                                0.0000000   \n",
       "22389                                0.0000000   \n",
       "22390                                0.0000000   \n",
       "22391                                0.0000000   \n",
       "\n",
       "       COMPAÑÍA_COMPRADORA_Portal comprador 29  \\\n",
       "0                                    0.0000000   \n",
       "1                                    0.0000000   \n",
       "2                                    0.0000000   \n",
       "3                                    0.0000000   \n",
       "4                                    0.0000000   \n",
       "...                                        ...   \n",
       "22387                                0.0000000   \n",
       "22388                                0.0000000   \n",
       "22389                                0.0000000   \n",
       "22390                                0.0000000   \n",
       "22391                                0.0000000   \n",
       "\n",
       "       COMPAÑÍA_COMPRADORA_Portal comprador 30  \\\n",
       "0                                    0.0000000   \n",
       "1                                    0.0000000   \n",
       "2                                    0.0000000   \n",
       "3                                    0.0000000   \n",
       "4                                    0.0000000   \n",
       "...                                        ...   \n",
       "22387                                0.0000000   \n",
       "22388                                0.0000000   \n",
       "22389                                0.0000000   \n",
       "22390                                0.0000000   \n",
       "22391                                0.0000000   \n",
       "\n",
       "       COMPAÑÍA_COMPRADORA_Portal comprador 4  \\\n",
       "0                                   0.0000000   \n",
       "1                                   0.0000000   \n",
       "2                                   0.0000000   \n",
       "3                                   0.0000000   \n",
       "4                                   0.0000000   \n",
       "...                                       ...   \n",
       "22387                               0.0000000   \n",
       "22388                               0.0000000   \n",
       "22389                               0.0000000   \n",
       "22390                               0.0000000   \n",
       "22391                               0.0000000   \n",
       "\n",
       "       COMPAÑÍA_COMPRADORA_Portal comprador 5  \\\n",
       "0                                   0.0000000   \n",
       "1                                   0.0000000   \n",
       "2                                   0.0000000   \n",
       "3                                   0.0000000   \n",
       "4                                   0.0000000   \n",
       "...                                       ...   \n",
       "22387                               0.0000000   \n",
       "22388                               0.0000000   \n",
       "22389                               0.0000000   \n",
       "22390                               0.0000000   \n",
       "22391                               0.0000000   \n",
       "\n",
       "       COMPAÑÍA_COMPRADORA_Portal comprador 6  \\\n",
       "0                                   0.0000000   \n",
       "1                                   0.0000000   \n",
       "2                                   0.0000000   \n",
       "3                                   0.0000000   \n",
       "4                                   0.0000000   \n",
       "...                                       ...   \n",
       "22387                               0.0000000   \n",
       "22388                               0.0000000   \n",
       "22389                               0.0000000   \n",
       "22390                               0.0000000   \n",
       "22391                               0.0000000   \n",
       "\n",
       "       COMPAÑÍA_COMPRADORA_Portal comprador 8  ESTADO_Cancelado  \\\n",
       "0                                   0.0000000         0.0000000   \n",
       "1                                   0.0000000         0.0000000   \n",
       "2                                   0.0000000         0.0000000   \n",
       "3                                   0.0000000         0.0000000   \n",
       "4                                   0.0000000         0.0000000   \n",
       "...                                       ...               ...   \n",
       "22387                               1.0000000         0.0000000   \n",
       "22388                               1.0000000         0.0000000   \n",
       "22389                               1.0000000         0.0000000   \n",
       "22390                               1.0000000         0.0000000   \n",
       "22391                               1.0000000         0.0000000   \n",
       "\n",
       "       ESTADO_Enviado  ESTADO_Finalizado Incompleto  ESTADO_Orden Confirmada  \\\n",
       "0           0.0000000                     0.0000000                0.0000000   \n",
       "1           0.0000000                     0.0000000                0.0000000   \n",
       "2           0.0000000                     0.0000000                0.0000000   \n",
       "3           0.0000000                     0.0000000                0.0000000   \n",
       "4           0.0000000                     0.0000000                0.0000000   \n",
       "...               ...                           ...                      ...   \n",
       "22387       0.0000000                     0.0000000                0.0000000   \n",
       "22388       0.0000000                     0.0000000                0.0000000   \n",
       "22389       0.0000000                     0.0000000                0.0000000   \n",
       "22390       0.0000000                     0.0000000                0.0000000   \n",
       "22391       0.0000000                     0.0000000                0.0000000   \n",
       "\n",
       "       ESTADO_Orden Rechazada  ESTADO_Orden en Proceso  \\\n",
       "0                   0.0000000                1.0000000   \n",
       "1                   0.0000000                0.0000000   \n",
       "2                   0.0000000                1.0000000   \n",
       "3                   0.0000000                1.0000000   \n",
       "4                   0.0000000                0.0000000   \n",
       "...                       ...                      ...   \n",
       "22387               0.0000000                0.0000000   \n",
       "22388               0.0000000                0.0000000   \n",
       "22389               0.0000000                0.0000000   \n",
       "22390               0.0000000                0.0000000   \n",
       "22391               0.0000000                0.0000000   \n",
       "\n",
       "       ESTADO_Pendiente por Aprobar  ESTADO_Recibido  ESTADO_Recibido Parcial  \n",
       "0                         0.0000000        0.0000000                0.0000000  \n",
       "1                         0.0000000        1.0000000                0.0000000  \n",
       "2                         0.0000000        0.0000000                0.0000000  \n",
       "3                         0.0000000        0.0000000                0.0000000  \n",
       "4                         0.0000000        1.0000000                0.0000000  \n",
       "...                             ...              ...                      ...  \n",
       "22387                     0.0000000        1.0000000                0.0000000  \n",
       "22388                     0.0000000        1.0000000                0.0000000  \n",
       "22389                     0.0000000        1.0000000                0.0000000  \n",
       "22390                     0.0000000        1.0000000                0.0000000  \n",
       "22391                     0.0000000        1.0000000                0.0000000  \n",
       "\n",
       "[22392 rows x 58 columns]"
      ]
     },
     "execution_count": 80,
     "metadata": {},
     "output_type": "execute_result"
    }
   ],
   "source": [
    "OH_Cols"
   ]
  },
  {
   "cell_type": "markdown",
   "metadata": {},
   "source": [
    "# CONCAT ONEHOTENCODER WITH NORMALIZED"
   ]
  },
  {
   "cell_type": "code",
   "execution_count": 81,
   "metadata": {},
   "outputs": [
    {
     "data": {
      "text/html": [
       "<div>\n",
       "<style scoped>\n",
       "    .dataframe tbody tr th:only-of-type {\n",
       "        vertical-align: middle;\n",
       "    }\n",
       "\n",
       "    .dataframe tbody tr th {\n",
       "        vertical-align: top;\n",
       "    }\n",
       "\n",
       "    .dataframe thead th {\n",
       "        text-align: right;\n",
       "    }\n",
       "</style>\n",
       "<table border=\"1\" class=\"dataframe\">\n",
       "  <thead>\n",
       "    <tr style=\"text-align: right;\">\n",
       "      <th></th>\n",
       "      <th>CATEGORÍA_Alimentos y Bebidas</th>\n",
       "      <th>CATEGORÍA_Aseo, Cafetería y Oficina</th>\n",
       "      <th>CATEGORÍA_Dotación y elementos de protección personal</th>\n",
       "      <th>CATEGORÍA_Otros</th>\n",
       "      <th>CATEGORÍA_Vigilancia y seguridad industrial</th>\n",
       "      <th>SUBCATEGORÍA_Aceites y grasas comestibles</th>\n",
       "      <th>SUBCATEGORÍA_Alimentos preparados y conservados</th>\n",
       "      <th>SUBCATEGORÍA_Bebidas</th>\n",
       "      <th>SUBCATEGORÍA_Calzado</th>\n",
       "      <th>SUBCATEGORÍA_Camisas y camisetas</th>\n",
       "      <th>SUBCATEGORÍA_Chocolates, azúcares y confitería</th>\n",
       "      <th>SUBCATEGORÍA_Condimentos y conservantes</th>\n",
       "      <th>SUBCATEGORÍA_Elementos de aseo y limpieza</th>\n",
       "      <th>SUBCATEGORÍA_Elementos de bioseguridad</th>\n",
       "      <th>SUBCATEGORÍA_Elementos de cafetería</th>\n",
       "      <th>SUBCATEGORÍA_Elementos de papelería</th>\n",
       "      <th>SUBCATEGORÍA_Elementos de protección personal</th>\n",
       "      <th>SUBCATEGORÍA_Equipo de aseo</th>\n",
       "      <th>SUBCATEGORÍA_Equipo y accesorios de oficina y escritorio</th>\n",
       "      <th>SUBCATEGORÍA_Fruta fresca</th>\n",
       "      <th>SUBCATEGORÍA_Insumos desinfección</th>\n",
       "      <th>SUBCATEGORÍA_Otra</th>\n",
       "      <th>SUBCATEGORÍA_Otros</th>\n",
       "      <th>SUBCATEGORÍA_Pantalones</th>\n",
       "      <th>SUBCATEGORÍA_Prendas uniformes</th>\n",
       "      <th>SUBCATEGORÍA_Productos de carne y aves de corral</th>\n",
       "      <th>SUBCATEGORÍA_Productos de cereales y legumbres</th>\n",
       "      <th>SUBCATEGORÍA_Productos de panadería</th>\n",
       "      <th>SUBCATEGORÍA_Productos lácteos y huevos</th>\n",
       "      <th>SUBCATEGORÍA_Seguridad y control público</th>\n",
       "      <th>SUBCATEGORÍA_Seguridad y protección personal</th>\n",
       "      <th>SUBCATEGORÍA_Señalización</th>\n",
       "      <th>SUBCATEGORÍA_Trabajo en alturas</th>\n",
       "      <th>SUBCATEGORÍA_Vegetales frescos</th>\n",
       "      <th>PROVEEDOR_Otros</th>\n",
       "      <th>PROVEEDOR_Proveedor 26</th>\n",
       "      <th>PROVEEDOR_Proveedor 28</th>\n",
       "      <th>PROVEEDOR_Proveedor 301</th>\n",
       "      <th>PROVEEDOR_Proveedor 59</th>\n",
       "      <th>COMPAÑÍA_COMPRADORA_Otros</th>\n",
       "      <th>COMPAÑÍA_COMPRADORA_Portal comprador 1</th>\n",
       "      <th>COMPAÑÍA_COMPRADORA_Portal comprador 2</th>\n",
       "      <th>COMPAÑÍA_COMPRADORA_Portal comprador 24</th>\n",
       "      <th>COMPAÑÍA_COMPRADORA_Portal comprador 29</th>\n",
       "      <th>COMPAÑÍA_COMPRADORA_Portal comprador 30</th>\n",
       "      <th>COMPAÑÍA_COMPRADORA_Portal comprador 4</th>\n",
       "      <th>COMPAÑÍA_COMPRADORA_Portal comprador 5</th>\n",
       "      <th>COMPAÑÍA_COMPRADORA_Portal comprador 6</th>\n",
       "      <th>COMPAÑÍA_COMPRADORA_Portal comprador 8</th>\n",
       "      <th>ESTADO_Cancelado</th>\n",
       "      <th>ESTADO_Enviado</th>\n",
       "      <th>ESTADO_Finalizado Incompleto</th>\n",
       "      <th>ESTADO_Orden Confirmada</th>\n",
       "      <th>ESTADO_Orden Rechazada</th>\n",
       "      <th>ESTADO_Orden en Proceso</th>\n",
       "      <th>ESTADO_Pendiente por Aprobar</th>\n",
       "      <th>ESTADO_Recibido</th>\n",
       "      <th>ESTADO_Recibido Parcial</th>\n",
       "      <th>CANTIDAD_PEDIDA</th>\n",
       "      <th>CANTIDAD_RECIBIDA</th>\n",
       "      <th>PRECIO_UNITARIO</th>\n",
       "      <th>IVA</th>\n",
       "      <th>TOTAL_SIN_IVA</th>\n",
       "    </tr>\n",
       "  </thead>\n",
       "  <tbody>\n",
       "    <tr>\n",
       "      <th>0</th>\n",
       "      <td>0.0000000</td>\n",
       "      <td>0.0000000</td>\n",
       "      <td>0.0000000</td>\n",
       "      <td>1.0000000</td>\n",
       "      <td>0.0000000</td>\n",
       "      <td>0.0000000</td>\n",
       "      <td>0.0000000</td>\n",
       "      <td>0.0000000</td>\n",
       "      <td>0.0000000</td>\n",
       "      <td>0.0000000</td>\n",
       "      <td>0.0000000</td>\n",
       "      <td>0.0000000</td>\n",
       "      <td>0.0000000</td>\n",
       "      <td>0.0000000</td>\n",
       "      <td>0.0000000</td>\n",
       "      <td>0.0000000</td>\n",
       "      <td>0.0000000</td>\n",
       "      <td>0.0000000</td>\n",
       "      <td>0.0000000</td>\n",
       "      <td>0.0000000</td>\n",
       "      <td>0.0000000</td>\n",
       "      <td>0.0000000</td>\n",
       "      <td>1.0000000</td>\n",
       "      <td>0.0000000</td>\n",
       "      <td>0.0000000</td>\n",
       "      <td>0.0000000</td>\n",
       "      <td>0.0000000</td>\n",
       "      <td>0.0000000</td>\n",
       "      <td>0.0000000</td>\n",
       "      <td>0.0000000</td>\n",
       "      <td>0.0000000</td>\n",
       "      <td>0.0000000</td>\n",
       "      <td>0.0000000</td>\n",
       "      <td>0.0000000</td>\n",
       "      <td>1.0000000</td>\n",
       "      <td>0.0000000</td>\n",
       "      <td>0.0000000</td>\n",
       "      <td>0.0000000</td>\n",
       "      <td>0.0000000</td>\n",
       "      <td>0.0000000</td>\n",
       "      <td>1.0000000</td>\n",
       "      <td>0.0000000</td>\n",
       "      <td>0.0000000</td>\n",
       "      <td>0.0000000</td>\n",
       "      <td>0.0000000</td>\n",
       "      <td>0.0000000</td>\n",
       "      <td>0.0000000</td>\n",
       "      <td>0.0000000</td>\n",
       "      <td>0.0000000</td>\n",
       "      <td>0.0000000</td>\n",
       "      <td>0.0000000</td>\n",
       "      <td>0.0000000</td>\n",
       "      <td>0.0000000</td>\n",
       "      <td>0.0000000</td>\n",
       "      <td>1.0000000</td>\n",
       "      <td>0.0000000</td>\n",
       "      <td>0.0000000</td>\n",
       "      <td>0.0000000</td>\n",
       "      <td>0.0000381</td>\n",
       "      <td>0.0000000</td>\n",
       "      <td>0.4456080</td>\n",
       "      <td>0.0846625</td>\n",
       "      <td>0.8912159</td>\n",
       "    </tr>\n",
       "    <tr>\n",
       "      <th>1</th>\n",
       "      <td>0.0000000</td>\n",
       "      <td>0.0000000</td>\n",
       "      <td>0.0000000</td>\n",
       "      <td>1.0000000</td>\n",
       "      <td>0.0000000</td>\n",
       "      <td>0.0000000</td>\n",
       "      <td>0.0000000</td>\n",
       "      <td>0.0000000</td>\n",
       "      <td>0.0000000</td>\n",
       "      <td>0.0000000</td>\n",
       "      <td>0.0000000</td>\n",
       "      <td>0.0000000</td>\n",
       "      <td>0.0000000</td>\n",
       "      <td>0.0000000</td>\n",
       "      <td>0.0000000</td>\n",
       "      <td>0.0000000</td>\n",
       "      <td>0.0000000</td>\n",
       "      <td>0.0000000</td>\n",
       "      <td>0.0000000</td>\n",
       "      <td>0.0000000</td>\n",
       "      <td>0.0000000</td>\n",
       "      <td>0.0000000</td>\n",
       "      <td>1.0000000</td>\n",
       "      <td>0.0000000</td>\n",
       "      <td>0.0000000</td>\n",
       "      <td>0.0000000</td>\n",
       "      <td>0.0000000</td>\n",
       "      <td>0.0000000</td>\n",
       "      <td>0.0000000</td>\n",
       "      <td>0.0000000</td>\n",
       "      <td>0.0000000</td>\n",
       "      <td>0.0000000</td>\n",
       "      <td>0.0000000</td>\n",
       "      <td>0.0000000</td>\n",
       "      <td>1.0000000</td>\n",
       "      <td>0.0000000</td>\n",
       "      <td>0.0000000</td>\n",
       "      <td>0.0000000</td>\n",
       "      <td>0.0000000</td>\n",
       "      <td>0.0000000</td>\n",
       "      <td>1.0000000</td>\n",
       "      <td>0.0000000</td>\n",
       "      <td>0.0000000</td>\n",
       "      <td>0.0000000</td>\n",
       "      <td>0.0000000</td>\n",
       "      <td>0.0000000</td>\n",
       "      <td>0.0000000</td>\n",
       "      <td>0.0000000</td>\n",
       "      <td>0.0000000</td>\n",
       "      <td>0.0000000</td>\n",
       "      <td>0.0000000</td>\n",
       "      <td>0.0000000</td>\n",
       "      <td>0.0000000</td>\n",
       "      <td>0.0000000</td>\n",
       "      <td>0.0000000</td>\n",
       "      <td>0.0000000</td>\n",
       "      <td>1.0000000</td>\n",
       "      <td>0.0000000</td>\n",
       "      <td>0.0000005</td>\n",
       "      <td>0.0000005</td>\n",
       "      <td>0.7008102</td>\n",
       "      <td>0.1331541</td>\n",
       "      <td>0.7008102</td>\n",
       "    </tr>\n",
       "    <tr>\n",
       "      <th>2</th>\n",
       "      <td>1.0000000</td>\n",
       "      <td>0.0000000</td>\n",
       "      <td>0.0000000</td>\n",
       "      <td>0.0000000</td>\n",
       "      <td>0.0000000</td>\n",
       "      <td>0.0000000</td>\n",
       "      <td>1.0000000</td>\n",
       "      <td>0.0000000</td>\n",
       "      <td>0.0000000</td>\n",
       "      <td>0.0000000</td>\n",
       "      <td>0.0000000</td>\n",
       "      <td>0.0000000</td>\n",
       "      <td>0.0000000</td>\n",
       "      <td>0.0000000</td>\n",
       "      <td>0.0000000</td>\n",
       "      <td>0.0000000</td>\n",
       "      <td>0.0000000</td>\n",
       "      <td>0.0000000</td>\n",
       "      <td>0.0000000</td>\n",
       "      <td>0.0000000</td>\n",
       "      <td>0.0000000</td>\n",
       "      <td>0.0000000</td>\n",
       "      <td>0.0000000</td>\n",
       "      <td>0.0000000</td>\n",
       "      <td>0.0000000</td>\n",
       "      <td>0.0000000</td>\n",
       "      <td>0.0000000</td>\n",
       "      <td>0.0000000</td>\n",
       "      <td>0.0000000</td>\n",
       "      <td>0.0000000</td>\n",
       "      <td>0.0000000</td>\n",
       "      <td>0.0000000</td>\n",
       "      <td>0.0000000</td>\n",
       "      <td>0.0000000</td>\n",
       "      <td>1.0000000</td>\n",
       "      <td>0.0000000</td>\n",
       "      <td>0.0000000</td>\n",
       "      <td>0.0000000</td>\n",
       "      <td>0.0000000</td>\n",
       "      <td>0.0000000</td>\n",
       "      <td>1.0000000</td>\n",
       "      <td>0.0000000</td>\n",
       "      <td>0.0000000</td>\n",
       "      <td>0.0000000</td>\n",
       "      <td>0.0000000</td>\n",
       "      <td>0.0000000</td>\n",
       "      <td>0.0000000</td>\n",
       "      <td>0.0000000</td>\n",
       "      <td>0.0000000</td>\n",
       "      <td>0.0000000</td>\n",
       "      <td>0.0000000</td>\n",
       "      <td>0.0000000</td>\n",
       "      <td>0.0000000</td>\n",
       "      <td>0.0000000</td>\n",
       "      <td>1.0000000</td>\n",
       "      <td>0.0000000</td>\n",
       "      <td>0.0000000</td>\n",
       "      <td>0.0000000</td>\n",
       "      <td>0.0000642</td>\n",
       "      <td>0.0000000</td>\n",
       "      <td>0.0995037</td>\n",
       "      <td>0.0000000</td>\n",
       "      <td>0.9950372</td>\n",
       "    </tr>\n",
       "    <tr>\n",
       "      <th>3</th>\n",
       "      <td>1.0000000</td>\n",
       "      <td>0.0000000</td>\n",
       "      <td>0.0000000</td>\n",
       "      <td>0.0000000</td>\n",
       "      <td>0.0000000</td>\n",
       "      <td>0.0000000</td>\n",
       "      <td>0.0000000</td>\n",
       "      <td>0.0000000</td>\n",
       "      <td>0.0000000</td>\n",
       "      <td>0.0000000</td>\n",
       "      <td>0.0000000</td>\n",
       "      <td>0.0000000</td>\n",
       "      <td>0.0000000</td>\n",
       "      <td>0.0000000</td>\n",
       "      <td>0.0000000</td>\n",
       "      <td>0.0000000</td>\n",
       "      <td>0.0000000</td>\n",
       "      <td>0.0000000</td>\n",
       "      <td>0.0000000</td>\n",
       "      <td>0.0000000</td>\n",
       "      <td>0.0000000</td>\n",
       "      <td>0.0000000</td>\n",
       "      <td>0.0000000</td>\n",
       "      <td>0.0000000</td>\n",
       "      <td>0.0000000</td>\n",
       "      <td>1.0000000</td>\n",
       "      <td>0.0000000</td>\n",
       "      <td>0.0000000</td>\n",
       "      <td>0.0000000</td>\n",
       "      <td>0.0000000</td>\n",
       "      <td>0.0000000</td>\n",
       "      <td>0.0000000</td>\n",
       "      <td>0.0000000</td>\n",
       "      <td>0.0000000</td>\n",
       "      <td>1.0000000</td>\n",
       "      <td>0.0000000</td>\n",
       "      <td>0.0000000</td>\n",
       "      <td>0.0000000</td>\n",
       "      <td>0.0000000</td>\n",
       "      <td>0.0000000</td>\n",
       "      <td>0.0000000</td>\n",
       "      <td>1.0000000</td>\n",
       "      <td>0.0000000</td>\n",
       "      <td>0.0000000</td>\n",
       "      <td>0.0000000</td>\n",
       "      <td>0.0000000</td>\n",
       "      <td>0.0000000</td>\n",
       "      <td>0.0000000</td>\n",
       "      <td>0.0000000</td>\n",
       "      <td>0.0000000</td>\n",
       "      <td>0.0000000</td>\n",
       "      <td>0.0000000</td>\n",
       "      <td>0.0000000</td>\n",
       "      <td>0.0000000</td>\n",
       "      <td>1.0000000</td>\n",
       "      <td>0.0000000</td>\n",
       "      <td>0.0000000</td>\n",
       "      <td>0.0000000</td>\n",
       "      <td>0.0000454</td>\n",
       "      <td>0.0000000</td>\n",
       "      <td>0.0199960</td>\n",
       "      <td>0.0000000</td>\n",
       "      <td>0.9998001</td>\n",
       "    </tr>\n",
       "    <tr>\n",
       "      <th>4</th>\n",
       "      <td>0.0000000</td>\n",
       "      <td>0.0000000</td>\n",
       "      <td>0.0000000</td>\n",
       "      <td>1.0000000</td>\n",
       "      <td>0.0000000</td>\n",
       "      <td>0.0000000</td>\n",
       "      <td>0.0000000</td>\n",
       "      <td>0.0000000</td>\n",
       "      <td>0.0000000</td>\n",
       "      <td>0.0000000</td>\n",
       "      <td>0.0000000</td>\n",
       "      <td>0.0000000</td>\n",
       "      <td>0.0000000</td>\n",
       "      <td>0.0000000</td>\n",
       "      <td>0.0000000</td>\n",
       "      <td>0.0000000</td>\n",
       "      <td>0.0000000</td>\n",
       "      <td>0.0000000</td>\n",
       "      <td>0.0000000</td>\n",
       "      <td>0.0000000</td>\n",
       "      <td>0.0000000</td>\n",
       "      <td>0.0000000</td>\n",
       "      <td>1.0000000</td>\n",
       "      <td>0.0000000</td>\n",
       "      <td>0.0000000</td>\n",
       "      <td>0.0000000</td>\n",
       "      <td>0.0000000</td>\n",
       "      <td>0.0000000</td>\n",
       "      <td>0.0000000</td>\n",
       "      <td>0.0000000</td>\n",
       "      <td>0.0000000</td>\n",
       "      <td>0.0000000</td>\n",
       "      <td>0.0000000</td>\n",
       "      <td>0.0000000</td>\n",
       "      <td>1.0000000</td>\n",
       "      <td>0.0000000</td>\n",
       "      <td>0.0000000</td>\n",
       "      <td>0.0000000</td>\n",
       "      <td>0.0000000</td>\n",
       "      <td>1.0000000</td>\n",
       "      <td>0.0000000</td>\n",
       "      <td>0.0000000</td>\n",
       "      <td>0.0000000</td>\n",
       "      <td>0.0000000</td>\n",
       "      <td>0.0000000</td>\n",
       "      <td>0.0000000</td>\n",
       "      <td>0.0000000</td>\n",
       "      <td>0.0000000</td>\n",
       "      <td>0.0000000</td>\n",
       "      <td>0.0000000</td>\n",
       "      <td>0.0000000</td>\n",
       "      <td>0.0000000</td>\n",
       "      <td>0.0000000</td>\n",
       "      <td>0.0000000</td>\n",
       "      <td>0.0000000</td>\n",
       "      <td>0.0000000</td>\n",
       "      <td>1.0000000</td>\n",
       "      <td>0.0000000</td>\n",
       "      <td>0.0000107</td>\n",
       "      <td>0.0000107</td>\n",
       "      <td>0.1413703</td>\n",
       "      <td>0.0268604</td>\n",
       "      <td>0.9895923</td>\n",
       "    </tr>\n",
       "    <tr>\n",
       "      <th>...</th>\n",
       "      <td>...</td>\n",
       "      <td>...</td>\n",
       "      <td>...</td>\n",
       "      <td>...</td>\n",
       "      <td>...</td>\n",
       "      <td>...</td>\n",
       "      <td>...</td>\n",
       "      <td>...</td>\n",
       "      <td>...</td>\n",
       "      <td>...</td>\n",
       "      <td>...</td>\n",
       "      <td>...</td>\n",
       "      <td>...</td>\n",
       "      <td>...</td>\n",
       "      <td>...</td>\n",
       "      <td>...</td>\n",
       "      <td>...</td>\n",
       "      <td>...</td>\n",
       "      <td>...</td>\n",
       "      <td>...</td>\n",
       "      <td>...</td>\n",
       "      <td>...</td>\n",
       "      <td>...</td>\n",
       "      <td>...</td>\n",
       "      <td>...</td>\n",
       "      <td>...</td>\n",
       "      <td>...</td>\n",
       "      <td>...</td>\n",
       "      <td>...</td>\n",
       "      <td>...</td>\n",
       "      <td>...</td>\n",
       "      <td>...</td>\n",
       "      <td>...</td>\n",
       "      <td>...</td>\n",
       "      <td>...</td>\n",
       "      <td>...</td>\n",
       "      <td>...</td>\n",
       "      <td>...</td>\n",
       "      <td>...</td>\n",
       "      <td>...</td>\n",
       "      <td>...</td>\n",
       "      <td>...</td>\n",
       "      <td>...</td>\n",
       "      <td>...</td>\n",
       "      <td>...</td>\n",
       "      <td>...</td>\n",
       "      <td>...</td>\n",
       "      <td>...</td>\n",
       "      <td>...</td>\n",
       "      <td>...</td>\n",
       "      <td>...</td>\n",
       "      <td>...</td>\n",
       "      <td>...</td>\n",
       "      <td>...</td>\n",
       "      <td>...</td>\n",
       "      <td>...</td>\n",
       "      <td>...</td>\n",
       "      <td>...</td>\n",
       "      <td>...</td>\n",
       "      <td>...</td>\n",
       "      <td>...</td>\n",
       "      <td>...</td>\n",
       "      <td>...</td>\n",
       "    </tr>\n",
       "    <tr>\n",
       "      <th>22387</th>\n",
       "      <td>0.0000000</td>\n",
       "      <td>1.0000000</td>\n",
       "      <td>0.0000000</td>\n",
       "      <td>0.0000000</td>\n",
       "      <td>0.0000000</td>\n",
       "      <td>0.0000000</td>\n",
       "      <td>0.0000000</td>\n",
       "      <td>0.0000000</td>\n",
       "      <td>0.0000000</td>\n",
       "      <td>0.0000000</td>\n",
       "      <td>0.0000000</td>\n",
       "      <td>0.0000000</td>\n",
       "      <td>0.0000000</td>\n",
       "      <td>0.0000000</td>\n",
       "      <td>0.0000000</td>\n",
       "      <td>1.0000000</td>\n",
       "      <td>0.0000000</td>\n",
       "      <td>0.0000000</td>\n",
       "      <td>0.0000000</td>\n",
       "      <td>0.0000000</td>\n",
       "      <td>0.0000000</td>\n",
       "      <td>0.0000000</td>\n",
       "      <td>0.0000000</td>\n",
       "      <td>0.0000000</td>\n",
       "      <td>0.0000000</td>\n",
       "      <td>0.0000000</td>\n",
       "      <td>0.0000000</td>\n",
       "      <td>0.0000000</td>\n",
       "      <td>0.0000000</td>\n",
       "      <td>0.0000000</td>\n",
       "      <td>0.0000000</td>\n",
       "      <td>0.0000000</td>\n",
       "      <td>0.0000000</td>\n",
       "      <td>0.0000000</td>\n",
       "      <td>1.0000000</td>\n",
       "      <td>0.0000000</td>\n",
       "      <td>0.0000000</td>\n",
       "      <td>0.0000000</td>\n",
       "      <td>0.0000000</td>\n",
       "      <td>0.0000000</td>\n",
       "      <td>0.0000000</td>\n",
       "      <td>0.0000000</td>\n",
       "      <td>0.0000000</td>\n",
       "      <td>0.0000000</td>\n",
       "      <td>0.0000000</td>\n",
       "      <td>0.0000000</td>\n",
       "      <td>0.0000000</td>\n",
       "      <td>0.0000000</td>\n",
       "      <td>1.0000000</td>\n",
       "      <td>0.0000000</td>\n",
       "      <td>0.0000000</td>\n",
       "      <td>0.0000000</td>\n",
       "      <td>0.0000000</td>\n",
       "      <td>0.0000000</td>\n",
       "      <td>0.0000000</td>\n",
       "      <td>0.0000000</td>\n",
       "      <td>1.0000000</td>\n",
       "      <td>0.0000000</td>\n",
       "      <td>0.0000295</td>\n",
       "      <td>0.0000295</td>\n",
       "      <td>0.1239985</td>\n",
       "      <td>0.0235617</td>\n",
       "      <td>0.9920026</td>\n",
       "    </tr>\n",
       "    <tr>\n",
       "      <th>22388</th>\n",
       "      <td>0.0000000</td>\n",
       "      <td>1.0000000</td>\n",
       "      <td>0.0000000</td>\n",
       "      <td>0.0000000</td>\n",
       "      <td>0.0000000</td>\n",
       "      <td>0.0000000</td>\n",
       "      <td>0.0000000</td>\n",
       "      <td>0.0000000</td>\n",
       "      <td>0.0000000</td>\n",
       "      <td>0.0000000</td>\n",
       "      <td>0.0000000</td>\n",
       "      <td>0.0000000</td>\n",
       "      <td>0.0000000</td>\n",
       "      <td>0.0000000</td>\n",
       "      <td>0.0000000</td>\n",
       "      <td>1.0000000</td>\n",
       "      <td>0.0000000</td>\n",
       "      <td>0.0000000</td>\n",
       "      <td>0.0000000</td>\n",
       "      <td>0.0000000</td>\n",
       "      <td>0.0000000</td>\n",
       "      <td>0.0000000</td>\n",
       "      <td>0.0000000</td>\n",
       "      <td>0.0000000</td>\n",
       "      <td>0.0000000</td>\n",
       "      <td>0.0000000</td>\n",
       "      <td>0.0000000</td>\n",
       "      <td>0.0000000</td>\n",
       "      <td>0.0000000</td>\n",
       "      <td>0.0000000</td>\n",
       "      <td>0.0000000</td>\n",
       "      <td>0.0000000</td>\n",
       "      <td>0.0000000</td>\n",
       "      <td>0.0000000</td>\n",
       "      <td>1.0000000</td>\n",
       "      <td>0.0000000</td>\n",
       "      <td>0.0000000</td>\n",
       "      <td>0.0000000</td>\n",
       "      <td>0.0000000</td>\n",
       "      <td>0.0000000</td>\n",
       "      <td>0.0000000</td>\n",
       "      <td>0.0000000</td>\n",
       "      <td>0.0000000</td>\n",
       "      <td>0.0000000</td>\n",
       "      <td>0.0000000</td>\n",
       "      <td>0.0000000</td>\n",
       "      <td>0.0000000</td>\n",
       "      <td>0.0000000</td>\n",
       "      <td>1.0000000</td>\n",
       "      <td>0.0000000</td>\n",
       "      <td>0.0000000</td>\n",
       "      <td>0.0000000</td>\n",
       "      <td>0.0000000</td>\n",
       "      <td>0.0000000</td>\n",
       "      <td>0.0000000</td>\n",
       "      <td>0.0000000</td>\n",
       "      <td>1.0000000</td>\n",
       "      <td>0.0000000</td>\n",
       "      <td>0.0011918</td>\n",
       "      <td>0.0011918</td>\n",
       "      <td>0.7007781</td>\n",
       "      <td>0.1334815</td>\n",
       "      <td>0.7007781</td>\n",
       "    </tr>\n",
       "    <tr>\n",
       "      <th>22389</th>\n",
       "      <td>0.0000000</td>\n",
       "      <td>0.0000000</td>\n",
       "      <td>0.0000000</td>\n",
       "      <td>1.0000000</td>\n",
       "      <td>0.0000000</td>\n",
       "      <td>0.0000000</td>\n",
       "      <td>0.0000000</td>\n",
       "      <td>0.0000000</td>\n",
       "      <td>0.0000000</td>\n",
       "      <td>0.0000000</td>\n",
       "      <td>0.0000000</td>\n",
       "      <td>0.0000000</td>\n",
       "      <td>0.0000000</td>\n",
       "      <td>0.0000000</td>\n",
       "      <td>0.0000000</td>\n",
       "      <td>0.0000000</td>\n",
       "      <td>0.0000000</td>\n",
       "      <td>0.0000000</td>\n",
       "      <td>0.0000000</td>\n",
       "      <td>0.0000000</td>\n",
       "      <td>0.0000000</td>\n",
       "      <td>0.0000000</td>\n",
       "      <td>1.0000000</td>\n",
       "      <td>0.0000000</td>\n",
       "      <td>0.0000000</td>\n",
       "      <td>0.0000000</td>\n",
       "      <td>0.0000000</td>\n",
       "      <td>0.0000000</td>\n",
       "      <td>0.0000000</td>\n",
       "      <td>0.0000000</td>\n",
       "      <td>0.0000000</td>\n",
       "      <td>0.0000000</td>\n",
       "      <td>0.0000000</td>\n",
       "      <td>0.0000000</td>\n",
       "      <td>1.0000000</td>\n",
       "      <td>0.0000000</td>\n",
       "      <td>0.0000000</td>\n",
       "      <td>0.0000000</td>\n",
       "      <td>0.0000000</td>\n",
       "      <td>0.0000000</td>\n",
       "      <td>0.0000000</td>\n",
       "      <td>0.0000000</td>\n",
       "      <td>0.0000000</td>\n",
       "      <td>0.0000000</td>\n",
       "      <td>0.0000000</td>\n",
       "      <td>0.0000000</td>\n",
       "      <td>0.0000000</td>\n",
       "      <td>0.0000000</td>\n",
       "      <td>1.0000000</td>\n",
       "      <td>0.0000000</td>\n",
       "      <td>0.0000000</td>\n",
       "      <td>0.0000000</td>\n",
       "      <td>0.0000000</td>\n",
       "      <td>0.0000000</td>\n",
       "      <td>0.0000000</td>\n",
       "      <td>0.0000000</td>\n",
       "      <td>1.0000000</td>\n",
       "      <td>0.0000000</td>\n",
       "      <td>0.0000322</td>\n",
       "      <td>0.0000322</td>\n",
       "      <td>0.3156618</td>\n",
       "      <td>0.0599727</td>\n",
       "      <td>0.9469746</td>\n",
       "    </tr>\n",
       "    <tr>\n",
       "      <th>22390</th>\n",
       "      <td>0.0000000</td>\n",
       "      <td>0.0000000</td>\n",
       "      <td>0.0000000</td>\n",
       "      <td>1.0000000</td>\n",
       "      <td>0.0000000</td>\n",
       "      <td>0.0000000</td>\n",
       "      <td>0.0000000</td>\n",
       "      <td>0.0000000</td>\n",
       "      <td>0.0000000</td>\n",
       "      <td>0.0000000</td>\n",
       "      <td>0.0000000</td>\n",
       "      <td>0.0000000</td>\n",
       "      <td>0.0000000</td>\n",
       "      <td>0.0000000</td>\n",
       "      <td>0.0000000</td>\n",
       "      <td>0.0000000</td>\n",
       "      <td>0.0000000</td>\n",
       "      <td>0.0000000</td>\n",
       "      <td>0.0000000</td>\n",
       "      <td>0.0000000</td>\n",
       "      <td>0.0000000</td>\n",
       "      <td>0.0000000</td>\n",
       "      <td>1.0000000</td>\n",
       "      <td>0.0000000</td>\n",
       "      <td>0.0000000</td>\n",
       "      <td>0.0000000</td>\n",
       "      <td>0.0000000</td>\n",
       "      <td>0.0000000</td>\n",
       "      <td>0.0000000</td>\n",
       "      <td>0.0000000</td>\n",
       "      <td>0.0000000</td>\n",
       "      <td>0.0000000</td>\n",
       "      <td>0.0000000</td>\n",
       "      <td>0.0000000</td>\n",
       "      <td>1.0000000</td>\n",
       "      <td>0.0000000</td>\n",
       "      <td>0.0000000</td>\n",
       "      <td>0.0000000</td>\n",
       "      <td>0.0000000</td>\n",
       "      <td>0.0000000</td>\n",
       "      <td>0.0000000</td>\n",
       "      <td>0.0000000</td>\n",
       "      <td>0.0000000</td>\n",
       "      <td>0.0000000</td>\n",
       "      <td>0.0000000</td>\n",
       "      <td>0.0000000</td>\n",
       "      <td>0.0000000</td>\n",
       "      <td>0.0000000</td>\n",
       "      <td>1.0000000</td>\n",
       "      <td>0.0000000</td>\n",
       "      <td>0.0000000</td>\n",
       "      <td>0.0000000</td>\n",
       "      <td>0.0000000</td>\n",
       "      <td>0.0000000</td>\n",
       "      <td>0.0000000</td>\n",
       "      <td>0.0000000</td>\n",
       "      <td>1.0000000</td>\n",
       "      <td>0.0000000</td>\n",
       "      <td>0.0000329</td>\n",
       "      <td>0.0000329</td>\n",
       "      <td>0.2422805</td>\n",
       "      <td>0.0460310</td>\n",
       "      <td>0.9691137</td>\n",
       "    </tr>\n",
       "    <tr>\n",
       "      <th>22391</th>\n",
       "      <td>0.0000000</td>\n",
       "      <td>1.0000000</td>\n",
       "      <td>0.0000000</td>\n",
       "      <td>0.0000000</td>\n",
       "      <td>0.0000000</td>\n",
       "      <td>0.0000000</td>\n",
       "      <td>0.0000000</td>\n",
       "      <td>0.0000000</td>\n",
       "      <td>0.0000000</td>\n",
       "      <td>0.0000000</td>\n",
       "      <td>0.0000000</td>\n",
       "      <td>0.0000000</td>\n",
       "      <td>0.0000000</td>\n",
       "      <td>0.0000000</td>\n",
       "      <td>0.0000000</td>\n",
       "      <td>1.0000000</td>\n",
       "      <td>0.0000000</td>\n",
       "      <td>0.0000000</td>\n",
       "      <td>0.0000000</td>\n",
       "      <td>0.0000000</td>\n",
       "      <td>0.0000000</td>\n",
       "      <td>0.0000000</td>\n",
       "      <td>0.0000000</td>\n",
       "      <td>0.0000000</td>\n",
       "      <td>0.0000000</td>\n",
       "      <td>0.0000000</td>\n",
       "      <td>0.0000000</td>\n",
       "      <td>0.0000000</td>\n",
       "      <td>0.0000000</td>\n",
       "      <td>0.0000000</td>\n",
       "      <td>0.0000000</td>\n",
       "      <td>0.0000000</td>\n",
       "      <td>0.0000000</td>\n",
       "      <td>0.0000000</td>\n",
       "      <td>1.0000000</td>\n",
       "      <td>0.0000000</td>\n",
       "      <td>0.0000000</td>\n",
       "      <td>0.0000000</td>\n",
       "      <td>0.0000000</td>\n",
       "      <td>0.0000000</td>\n",
       "      <td>0.0000000</td>\n",
       "      <td>0.0000000</td>\n",
       "      <td>0.0000000</td>\n",
       "      <td>0.0000000</td>\n",
       "      <td>0.0000000</td>\n",
       "      <td>0.0000000</td>\n",
       "      <td>0.0000000</td>\n",
       "      <td>0.0000000</td>\n",
       "      <td>1.0000000</td>\n",
       "      <td>0.0000000</td>\n",
       "      <td>0.0000000</td>\n",
       "      <td>0.0000000</td>\n",
       "      <td>0.0000000</td>\n",
       "      <td>0.0000000</td>\n",
       "      <td>0.0000000</td>\n",
       "      <td>0.0000000</td>\n",
       "      <td>1.0000000</td>\n",
       "      <td>0.0000000</td>\n",
       "      <td>0.0000292</td>\n",
       "      <td>0.0000292</td>\n",
       "      <td>0.1959779</td>\n",
       "      <td>0.0372389</td>\n",
       "      <td>0.9799010</td>\n",
       "    </tr>\n",
       "  </tbody>\n",
       "</table>\n",
       "<p>22392 rows × 63 columns</p>\n",
       "</div>"
      ],
      "text/plain": [
       "       CATEGORÍA_Alimentos y Bebidas  CATEGORÍA_Aseo, Cafetería y Oficina  \\\n",
       "0                          0.0000000                            0.0000000   \n",
       "1                          0.0000000                            0.0000000   \n",
       "2                          1.0000000                            0.0000000   \n",
       "3                          1.0000000                            0.0000000   \n",
       "4                          0.0000000                            0.0000000   \n",
       "...                              ...                                  ...   \n",
       "22387                      0.0000000                            1.0000000   \n",
       "22388                      0.0000000                            1.0000000   \n",
       "22389                      0.0000000                            0.0000000   \n",
       "22390                      0.0000000                            0.0000000   \n",
       "22391                      0.0000000                            1.0000000   \n",
       "\n",
       "       CATEGORÍA_Dotación y elementos de protección personal  CATEGORÍA_Otros  \\\n",
       "0                                              0.0000000            1.0000000   \n",
       "1                                              0.0000000            1.0000000   \n",
       "2                                              0.0000000            0.0000000   \n",
       "3                                              0.0000000            0.0000000   \n",
       "4                                              0.0000000            1.0000000   \n",
       "...                                                  ...                  ...   \n",
       "22387                                          0.0000000            0.0000000   \n",
       "22388                                          0.0000000            0.0000000   \n",
       "22389                                          0.0000000            1.0000000   \n",
       "22390                                          0.0000000            1.0000000   \n",
       "22391                                          0.0000000            0.0000000   \n",
       "\n",
       "       CATEGORÍA_Vigilancia y seguridad industrial  \\\n",
       "0                                        0.0000000   \n",
       "1                                        0.0000000   \n",
       "2                                        0.0000000   \n",
       "3                                        0.0000000   \n",
       "4                                        0.0000000   \n",
       "...                                            ...   \n",
       "22387                                    0.0000000   \n",
       "22388                                    0.0000000   \n",
       "22389                                    0.0000000   \n",
       "22390                                    0.0000000   \n",
       "22391                                    0.0000000   \n",
       "\n",
       "       SUBCATEGORÍA_Aceites y grasas comestibles  \\\n",
       "0                                      0.0000000   \n",
       "1                                      0.0000000   \n",
       "2                                      0.0000000   \n",
       "3                                      0.0000000   \n",
       "4                                      0.0000000   \n",
       "...                                          ...   \n",
       "22387                                  0.0000000   \n",
       "22388                                  0.0000000   \n",
       "22389                                  0.0000000   \n",
       "22390                                  0.0000000   \n",
       "22391                                  0.0000000   \n",
       "\n",
       "       SUBCATEGORÍA_Alimentos preparados y conservados  SUBCATEGORÍA_Bebidas  \\\n",
       "0                                            0.0000000             0.0000000   \n",
       "1                                            0.0000000             0.0000000   \n",
       "2                                            1.0000000             0.0000000   \n",
       "3                                            0.0000000             0.0000000   \n",
       "4                                            0.0000000             0.0000000   \n",
       "...                                                ...                   ...   \n",
       "22387                                        0.0000000             0.0000000   \n",
       "22388                                        0.0000000             0.0000000   \n",
       "22389                                        0.0000000             0.0000000   \n",
       "22390                                        0.0000000             0.0000000   \n",
       "22391                                        0.0000000             0.0000000   \n",
       "\n",
       "       SUBCATEGORÍA_Calzado  SUBCATEGORÍA_Camisas y camisetas  \\\n",
       "0                 0.0000000                         0.0000000   \n",
       "1                 0.0000000                         0.0000000   \n",
       "2                 0.0000000                         0.0000000   \n",
       "3                 0.0000000                         0.0000000   \n",
       "4                 0.0000000                         0.0000000   \n",
       "...                     ...                               ...   \n",
       "22387             0.0000000                         0.0000000   \n",
       "22388             0.0000000                         0.0000000   \n",
       "22389             0.0000000                         0.0000000   \n",
       "22390             0.0000000                         0.0000000   \n",
       "22391             0.0000000                         0.0000000   \n",
       "\n",
       "       SUBCATEGORÍA_Chocolates, azúcares y confitería  \\\n",
       "0                                           0.0000000   \n",
       "1                                           0.0000000   \n",
       "2                                           0.0000000   \n",
       "3                                           0.0000000   \n",
       "4                                           0.0000000   \n",
       "...                                               ...   \n",
       "22387                                       0.0000000   \n",
       "22388                                       0.0000000   \n",
       "22389                                       0.0000000   \n",
       "22390                                       0.0000000   \n",
       "22391                                       0.0000000   \n",
       "\n",
       "       SUBCATEGORÍA_Condimentos y conservantes  \\\n",
       "0                                    0.0000000   \n",
       "1                                    0.0000000   \n",
       "2                                    0.0000000   \n",
       "3                                    0.0000000   \n",
       "4                                    0.0000000   \n",
       "...                                        ...   \n",
       "22387                                0.0000000   \n",
       "22388                                0.0000000   \n",
       "22389                                0.0000000   \n",
       "22390                                0.0000000   \n",
       "22391                                0.0000000   \n",
       "\n",
       "       SUBCATEGORÍA_Elementos de aseo y limpieza  \\\n",
       "0                                      0.0000000   \n",
       "1                                      0.0000000   \n",
       "2                                      0.0000000   \n",
       "3                                      0.0000000   \n",
       "4                                      0.0000000   \n",
       "...                                          ...   \n",
       "22387                                  0.0000000   \n",
       "22388                                  0.0000000   \n",
       "22389                                  0.0000000   \n",
       "22390                                  0.0000000   \n",
       "22391                                  0.0000000   \n",
       "\n",
       "       SUBCATEGORÍA_Elementos de bioseguridad  \\\n",
       "0                                   0.0000000   \n",
       "1                                   0.0000000   \n",
       "2                                   0.0000000   \n",
       "3                                   0.0000000   \n",
       "4                                   0.0000000   \n",
       "...                                       ...   \n",
       "22387                               0.0000000   \n",
       "22388                               0.0000000   \n",
       "22389                               0.0000000   \n",
       "22390                               0.0000000   \n",
       "22391                               0.0000000   \n",
       "\n",
       "       SUBCATEGORÍA_Elementos de cafetería  \\\n",
       "0                                0.0000000   \n",
       "1                                0.0000000   \n",
       "2                                0.0000000   \n",
       "3                                0.0000000   \n",
       "4                                0.0000000   \n",
       "...                                    ...   \n",
       "22387                            0.0000000   \n",
       "22388                            0.0000000   \n",
       "22389                            0.0000000   \n",
       "22390                            0.0000000   \n",
       "22391                            0.0000000   \n",
       "\n",
       "       SUBCATEGORÍA_Elementos de papelería  \\\n",
       "0                                0.0000000   \n",
       "1                                0.0000000   \n",
       "2                                0.0000000   \n",
       "3                                0.0000000   \n",
       "4                                0.0000000   \n",
       "...                                    ...   \n",
       "22387                            1.0000000   \n",
       "22388                            1.0000000   \n",
       "22389                            0.0000000   \n",
       "22390                            0.0000000   \n",
       "22391                            1.0000000   \n",
       "\n",
       "       SUBCATEGORÍA_Elementos de protección personal  \\\n",
       "0                                          0.0000000   \n",
       "1                                          0.0000000   \n",
       "2                                          0.0000000   \n",
       "3                                          0.0000000   \n",
       "4                                          0.0000000   \n",
       "...                                              ...   \n",
       "22387                                      0.0000000   \n",
       "22388                                      0.0000000   \n",
       "22389                                      0.0000000   \n",
       "22390                                      0.0000000   \n",
       "22391                                      0.0000000   \n",
       "\n",
       "       SUBCATEGORÍA_Equipo de aseo  \\\n",
       "0                        0.0000000   \n",
       "1                        0.0000000   \n",
       "2                        0.0000000   \n",
       "3                        0.0000000   \n",
       "4                        0.0000000   \n",
       "...                            ...   \n",
       "22387                    0.0000000   \n",
       "22388                    0.0000000   \n",
       "22389                    0.0000000   \n",
       "22390                    0.0000000   \n",
       "22391                    0.0000000   \n",
       "\n",
       "       SUBCATEGORÍA_Equipo y accesorios de oficina y escritorio  \\\n",
       "0                                              0.0000000          \n",
       "1                                              0.0000000          \n",
       "2                                              0.0000000          \n",
       "3                                              0.0000000          \n",
       "4                                              0.0000000          \n",
       "...                                                  ...          \n",
       "22387                                          0.0000000          \n",
       "22388                                          0.0000000          \n",
       "22389                                          0.0000000          \n",
       "22390                                          0.0000000          \n",
       "22391                                          0.0000000          \n",
       "\n",
       "       SUBCATEGORÍA_Fruta fresca  SUBCATEGORÍA_Insumos desinfección  \\\n",
       "0                      0.0000000                          0.0000000   \n",
       "1                      0.0000000                          0.0000000   \n",
       "2                      0.0000000                          0.0000000   \n",
       "3                      0.0000000                          0.0000000   \n",
       "4                      0.0000000                          0.0000000   \n",
       "...                          ...                                ...   \n",
       "22387                  0.0000000                          0.0000000   \n",
       "22388                  0.0000000                          0.0000000   \n",
       "22389                  0.0000000                          0.0000000   \n",
       "22390                  0.0000000                          0.0000000   \n",
       "22391                  0.0000000                          0.0000000   \n",
       "\n",
       "       SUBCATEGORÍA_Otra  SUBCATEGORÍA_Otros  SUBCATEGORÍA_Pantalones  \\\n",
       "0              0.0000000           1.0000000                0.0000000   \n",
       "1              0.0000000           1.0000000                0.0000000   \n",
       "2              0.0000000           0.0000000                0.0000000   \n",
       "3              0.0000000           0.0000000                0.0000000   \n",
       "4              0.0000000           1.0000000                0.0000000   \n",
       "...                  ...                 ...                      ...   \n",
       "22387          0.0000000           0.0000000                0.0000000   \n",
       "22388          0.0000000           0.0000000                0.0000000   \n",
       "22389          0.0000000           1.0000000                0.0000000   \n",
       "22390          0.0000000           1.0000000                0.0000000   \n",
       "22391          0.0000000           0.0000000                0.0000000   \n",
       "\n",
       "       SUBCATEGORÍA_Prendas uniformes  \\\n",
       "0                           0.0000000   \n",
       "1                           0.0000000   \n",
       "2                           0.0000000   \n",
       "3                           0.0000000   \n",
       "4                           0.0000000   \n",
       "...                               ...   \n",
       "22387                       0.0000000   \n",
       "22388                       0.0000000   \n",
       "22389                       0.0000000   \n",
       "22390                       0.0000000   \n",
       "22391                       0.0000000   \n",
       "\n",
       "       SUBCATEGORÍA_Productos de carne y aves de corral  \\\n",
       "0                                             0.0000000   \n",
       "1                                             0.0000000   \n",
       "2                                             0.0000000   \n",
       "3                                             1.0000000   \n",
       "4                                             0.0000000   \n",
       "...                                                 ...   \n",
       "22387                                         0.0000000   \n",
       "22388                                         0.0000000   \n",
       "22389                                         0.0000000   \n",
       "22390                                         0.0000000   \n",
       "22391                                         0.0000000   \n",
       "\n",
       "       SUBCATEGORÍA_Productos de cereales y legumbres  \\\n",
       "0                                           0.0000000   \n",
       "1                                           0.0000000   \n",
       "2                                           0.0000000   \n",
       "3                                           0.0000000   \n",
       "4                                           0.0000000   \n",
       "...                                               ...   \n",
       "22387                                       0.0000000   \n",
       "22388                                       0.0000000   \n",
       "22389                                       0.0000000   \n",
       "22390                                       0.0000000   \n",
       "22391                                       0.0000000   \n",
       "\n",
       "       SUBCATEGORÍA_Productos de panadería  \\\n",
       "0                                0.0000000   \n",
       "1                                0.0000000   \n",
       "2                                0.0000000   \n",
       "3                                0.0000000   \n",
       "4                                0.0000000   \n",
       "...                                    ...   \n",
       "22387                            0.0000000   \n",
       "22388                            0.0000000   \n",
       "22389                            0.0000000   \n",
       "22390                            0.0000000   \n",
       "22391                            0.0000000   \n",
       "\n",
       "       SUBCATEGORÍA_Productos lácteos y huevos  \\\n",
       "0                                    0.0000000   \n",
       "1                                    0.0000000   \n",
       "2                                    0.0000000   \n",
       "3                                    0.0000000   \n",
       "4                                    0.0000000   \n",
       "...                                        ...   \n",
       "22387                                0.0000000   \n",
       "22388                                0.0000000   \n",
       "22389                                0.0000000   \n",
       "22390                                0.0000000   \n",
       "22391                                0.0000000   \n",
       "\n",
       "       SUBCATEGORÍA_Seguridad y control público  \\\n",
       "0                                     0.0000000   \n",
       "1                                     0.0000000   \n",
       "2                                     0.0000000   \n",
       "3                                     0.0000000   \n",
       "4                                     0.0000000   \n",
       "...                                         ...   \n",
       "22387                                 0.0000000   \n",
       "22388                                 0.0000000   \n",
       "22389                                 0.0000000   \n",
       "22390                                 0.0000000   \n",
       "22391                                 0.0000000   \n",
       "\n",
       "       SUBCATEGORÍA_Seguridad y protección personal  \\\n",
       "0                                         0.0000000   \n",
       "1                                         0.0000000   \n",
       "2                                         0.0000000   \n",
       "3                                         0.0000000   \n",
       "4                                         0.0000000   \n",
       "...                                             ...   \n",
       "22387                                     0.0000000   \n",
       "22388                                     0.0000000   \n",
       "22389                                     0.0000000   \n",
       "22390                                     0.0000000   \n",
       "22391                                     0.0000000   \n",
       "\n",
       "       SUBCATEGORÍA_Señalización  SUBCATEGORÍA_Trabajo en alturas  \\\n",
       "0                      0.0000000                        0.0000000   \n",
       "1                      0.0000000                        0.0000000   \n",
       "2                      0.0000000                        0.0000000   \n",
       "3                      0.0000000                        0.0000000   \n",
       "4                      0.0000000                        0.0000000   \n",
       "...                          ...                              ...   \n",
       "22387                  0.0000000                        0.0000000   \n",
       "22388                  0.0000000                        0.0000000   \n",
       "22389                  0.0000000                        0.0000000   \n",
       "22390                  0.0000000                        0.0000000   \n",
       "22391                  0.0000000                        0.0000000   \n",
       "\n",
       "       SUBCATEGORÍA_Vegetales frescos  PROVEEDOR_Otros  \\\n",
       "0                           0.0000000        1.0000000   \n",
       "1                           0.0000000        1.0000000   \n",
       "2                           0.0000000        1.0000000   \n",
       "3                           0.0000000        1.0000000   \n",
       "4                           0.0000000        1.0000000   \n",
       "...                               ...              ...   \n",
       "22387                       0.0000000        1.0000000   \n",
       "22388                       0.0000000        1.0000000   \n",
       "22389                       0.0000000        1.0000000   \n",
       "22390                       0.0000000        1.0000000   \n",
       "22391                       0.0000000        1.0000000   \n",
       "\n",
       "       PROVEEDOR_Proveedor 26  PROVEEDOR_Proveedor 28  \\\n",
       "0                   0.0000000               0.0000000   \n",
       "1                   0.0000000               0.0000000   \n",
       "2                   0.0000000               0.0000000   \n",
       "3                   0.0000000               0.0000000   \n",
       "4                   0.0000000               0.0000000   \n",
       "...                       ...                     ...   \n",
       "22387               0.0000000               0.0000000   \n",
       "22388               0.0000000               0.0000000   \n",
       "22389               0.0000000               0.0000000   \n",
       "22390               0.0000000               0.0000000   \n",
       "22391               0.0000000               0.0000000   \n",
       "\n",
       "       PROVEEDOR_Proveedor 301  PROVEEDOR_Proveedor 59  \\\n",
       "0                    0.0000000               0.0000000   \n",
       "1                    0.0000000               0.0000000   \n",
       "2                    0.0000000               0.0000000   \n",
       "3                    0.0000000               0.0000000   \n",
       "4                    0.0000000               0.0000000   \n",
       "...                        ...                     ...   \n",
       "22387                0.0000000               0.0000000   \n",
       "22388                0.0000000               0.0000000   \n",
       "22389                0.0000000               0.0000000   \n",
       "22390                0.0000000               0.0000000   \n",
       "22391                0.0000000               0.0000000   \n",
       "\n",
       "       COMPAÑÍA_COMPRADORA_Otros  COMPAÑÍA_COMPRADORA_Portal comprador 1  \\\n",
       "0                      0.0000000                               1.0000000   \n",
       "1                      0.0000000                               1.0000000   \n",
       "2                      0.0000000                               1.0000000   \n",
       "3                      0.0000000                               0.0000000   \n",
       "4                      1.0000000                               0.0000000   \n",
       "...                          ...                                     ...   \n",
       "22387                  0.0000000                               0.0000000   \n",
       "22388                  0.0000000                               0.0000000   \n",
       "22389                  0.0000000                               0.0000000   \n",
       "22390                  0.0000000                               0.0000000   \n",
       "22391                  0.0000000                               0.0000000   \n",
       "\n",
       "       COMPAÑÍA_COMPRADORA_Portal comprador 2  \\\n",
       "0                                   0.0000000   \n",
       "1                                   0.0000000   \n",
       "2                                   0.0000000   \n",
       "3                                   1.0000000   \n",
       "4                                   0.0000000   \n",
       "...                                       ...   \n",
       "22387                               0.0000000   \n",
       "22388                               0.0000000   \n",
       "22389                               0.0000000   \n",
       "22390                               0.0000000   \n",
       "22391                               0.0000000   \n",
       "\n",
       "       COMPAÑÍA_COMPRADORA_Portal comprador 24  \\\n",
       "0                                    0.0000000   \n",
       "1                                    0.0000000   \n",
       "2                                    0.0000000   \n",
       "3                                    0.0000000   \n",
       "4                                    0.0000000   \n",
       "...                                        ...   \n",
       "22387                                0.0000000   \n",
       "22388                                0.0000000   \n",
       "22389                                0.0000000   \n",
       "22390                                0.0000000   \n",
       "22391                                0.0000000   \n",
       "\n",
       "       COMPAÑÍA_COMPRADORA_Portal comprador 29  \\\n",
       "0                                    0.0000000   \n",
       "1                                    0.0000000   \n",
       "2                                    0.0000000   \n",
       "3                                    0.0000000   \n",
       "4                                    0.0000000   \n",
       "...                                        ...   \n",
       "22387                                0.0000000   \n",
       "22388                                0.0000000   \n",
       "22389                                0.0000000   \n",
       "22390                                0.0000000   \n",
       "22391                                0.0000000   \n",
       "\n",
       "       COMPAÑÍA_COMPRADORA_Portal comprador 30  \\\n",
       "0                                    0.0000000   \n",
       "1                                    0.0000000   \n",
       "2                                    0.0000000   \n",
       "3                                    0.0000000   \n",
       "4                                    0.0000000   \n",
       "...                                        ...   \n",
       "22387                                0.0000000   \n",
       "22388                                0.0000000   \n",
       "22389                                0.0000000   \n",
       "22390                                0.0000000   \n",
       "22391                                0.0000000   \n",
       "\n",
       "       COMPAÑÍA_COMPRADORA_Portal comprador 4  \\\n",
       "0                                   0.0000000   \n",
       "1                                   0.0000000   \n",
       "2                                   0.0000000   \n",
       "3                                   0.0000000   \n",
       "4                                   0.0000000   \n",
       "...                                       ...   \n",
       "22387                               0.0000000   \n",
       "22388                               0.0000000   \n",
       "22389                               0.0000000   \n",
       "22390                               0.0000000   \n",
       "22391                               0.0000000   \n",
       "\n",
       "       COMPAÑÍA_COMPRADORA_Portal comprador 5  \\\n",
       "0                                   0.0000000   \n",
       "1                                   0.0000000   \n",
       "2                                   0.0000000   \n",
       "3                                   0.0000000   \n",
       "4                                   0.0000000   \n",
       "...                                       ...   \n",
       "22387                               0.0000000   \n",
       "22388                               0.0000000   \n",
       "22389                               0.0000000   \n",
       "22390                               0.0000000   \n",
       "22391                               0.0000000   \n",
       "\n",
       "       COMPAÑÍA_COMPRADORA_Portal comprador 6  \\\n",
       "0                                   0.0000000   \n",
       "1                                   0.0000000   \n",
       "2                                   0.0000000   \n",
       "3                                   0.0000000   \n",
       "4                                   0.0000000   \n",
       "...                                       ...   \n",
       "22387                               0.0000000   \n",
       "22388                               0.0000000   \n",
       "22389                               0.0000000   \n",
       "22390                               0.0000000   \n",
       "22391                               0.0000000   \n",
       "\n",
       "       COMPAÑÍA_COMPRADORA_Portal comprador 8  ESTADO_Cancelado  \\\n",
       "0                                   0.0000000         0.0000000   \n",
       "1                                   0.0000000         0.0000000   \n",
       "2                                   0.0000000         0.0000000   \n",
       "3                                   0.0000000         0.0000000   \n",
       "4                                   0.0000000         0.0000000   \n",
       "...                                       ...               ...   \n",
       "22387                               1.0000000         0.0000000   \n",
       "22388                               1.0000000         0.0000000   \n",
       "22389                               1.0000000         0.0000000   \n",
       "22390                               1.0000000         0.0000000   \n",
       "22391                               1.0000000         0.0000000   \n",
       "\n",
       "       ESTADO_Enviado  ESTADO_Finalizado Incompleto  ESTADO_Orden Confirmada  \\\n",
       "0           0.0000000                     0.0000000                0.0000000   \n",
       "1           0.0000000                     0.0000000                0.0000000   \n",
       "2           0.0000000                     0.0000000                0.0000000   \n",
       "3           0.0000000                     0.0000000                0.0000000   \n",
       "4           0.0000000                     0.0000000                0.0000000   \n",
       "...               ...                           ...                      ...   \n",
       "22387       0.0000000                     0.0000000                0.0000000   \n",
       "22388       0.0000000                     0.0000000                0.0000000   \n",
       "22389       0.0000000                     0.0000000                0.0000000   \n",
       "22390       0.0000000                     0.0000000                0.0000000   \n",
       "22391       0.0000000                     0.0000000                0.0000000   \n",
       "\n",
       "       ESTADO_Orden Rechazada  ESTADO_Orden en Proceso  \\\n",
       "0                   0.0000000                1.0000000   \n",
       "1                   0.0000000                0.0000000   \n",
       "2                   0.0000000                1.0000000   \n",
       "3                   0.0000000                1.0000000   \n",
       "4                   0.0000000                0.0000000   \n",
       "...                       ...                      ...   \n",
       "22387               0.0000000                0.0000000   \n",
       "22388               0.0000000                0.0000000   \n",
       "22389               0.0000000                0.0000000   \n",
       "22390               0.0000000                0.0000000   \n",
       "22391               0.0000000                0.0000000   \n",
       "\n",
       "       ESTADO_Pendiente por Aprobar  ESTADO_Recibido  ESTADO_Recibido Parcial  \\\n",
       "0                         0.0000000        0.0000000                0.0000000   \n",
       "1                         0.0000000        1.0000000                0.0000000   \n",
       "2                         0.0000000        0.0000000                0.0000000   \n",
       "3                         0.0000000        0.0000000                0.0000000   \n",
       "4                         0.0000000        1.0000000                0.0000000   \n",
       "...                             ...              ...                      ...   \n",
       "22387                     0.0000000        1.0000000                0.0000000   \n",
       "22388                     0.0000000        1.0000000                0.0000000   \n",
       "22389                     0.0000000        1.0000000                0.0000000   \n",
       "22390                     0.0000000        1.0000000                0.0000000   \n",
       "22391                     0.0000000        1.0000000                0.0000000   \n",
       "\n",
       "       CANTIDAD_PEDIDA  CANTIDAD_RECIBIDA  PRECIO_UNITARIO       IVA  \\\n",
       "0            0.0000381          0.0000000        0.4456080 0.0846625   \n",
       "1            0.0000005          0.0000005        0.7008102 0.1331541   \n",
       "2            0.0000642          0.0000000        0.0995037 0.0000000   \n",
       "3            0.0000454          0.0000000        0.0199960 0.0000000   \n",
       "4            0.0000107          0.0000107        0.1413703 0.0268604   \n",
       "...                ...                ...              ...       ...   \n",
       "22387        0.0000295          0.0000295        0.1239985 0.0235617   \n",
       "22388        0.0011918          0.0011918        0.7007781 0.1334815   \n",
       "22389        0.0000322          0.0000322        0.3156618 0.0599727   \n",
       "22390        0.0000329          0.0000329        0.2422805 0.0460310   \n",
       "22391        0.0000292          0.0000292        0.1959779 0.0372389   \n",
       "\n",
       "       TOTAL_SIN_IVA  \n",
       "0          0.8912159  \n",
       "1          0.7008102  \n",
       "2          0.9950372  \n",
       "3          0.9998001  \n",
       "4          0.9895923  \n",
       "...              ...  \n",
       "22387      0.9920026  \n",
       "22388      0.7007781  \n",
       "22389      0.9469746  \n",
       "22390      0.9691137  \n",
       "22391      0.9799010  \n",
       "\n",
       "[22392 rows x 63 columns]"
      ]
     },
     "execution_count": 81,
     "metadata": {},
     "output_type": "execute_result"
    }
   ],
   "source": [
    "df_num_encoder_normalized = pd.concat([OH_Cols, df_numeric_normalized], axis=1)\n",
    "df_num_encoder_normalized"
   ]
  },
  {
   "cell_type": "code",
   "execution_count": 82,
   "metadata": {},
   "outputs": [
    {
     "data": {
      "text/html": [
       "<div>\n",
       "<style scoped>\n",
       "    .dataframe tbody tr th:only-of-type {\n",
       "        vertical-align: middle;\n",
       "    }\n",
       "\n",
       "    .dataframe tbody tr th {\n",
       "        vertical-align: top;\n",
       "    }\n",
       "\n",
       "    .dataframe thead th {\n",
       "        text-align: right;\n",
       "    }\n",
       "</style>\n",
       "<table border=\"1\" class=\"dataframe\">\n",
       "  <thead>\n",
       "    <tr style=\"text-align: right;\">\n",
       "      <th></th>\n",
       "      <th>CATEGORÍA_Alimentos y Bebidas</th>\n",
       "      <th>CATEGORÍA_Aseo, Cafetería y Oficina</th>\n",
       "      <th>CATEGORÍA_Dotación y elementos de protección personal</th>\n",
       "      <th>CATEGORÍA_Otros</th>\n",
       "      <th>CATEGORÍA_Vigilancia y seguridad industrial</th>\n",
       "      <th>SUBCATEGORÍA_Aceites y grasas comestibles</th>\n",
       "      <th>SUBCATEGORÍA_Alimentos preparados y conservados</th>\n",
       "      <th>SUBCATEGORÍA_Bebidas</th>\n",
       "      <th>SUBCATEGORÍA_Calzado</th>\n",
       "      <th>SUBCATEGORÍA_Camisas y camisetas</th>\n",
       "      <th>SUBCATEGORÍA_Chocolates, azúcares y confitería</th>\n",
       "      <th>SUBCATEGORÍA_Condimentos y conservantes</th>\n",
       "      <th>SUBCATEGORÍA_Elementos de aseo y limpieza</th>\n",
       "      <th>SUBCATEGORÍA_Elementos de bioseguridad</th>\n",
       "      <th>SUBCATEGORÍA_Elementos de cafetería</th>\n",
       "      <th>SUBCATEGORÍA_Elementos de papelería</th>\n",
       "      <th>SUBCATEGORÍA_Elementos de protección personal</th>\n",
       "      <th>SUBCATEGORÍA_Equipo de aseo</th>\n",
       "      <th>SUBCATEGORÍA_Equipo y accesorios de oficina y escritorio</th>\n",
       "      <th>SUBCATEGORÍA_Fruta fresca</th>\n",
       "      <th>SUBCATEGORÍA_Insumos desinfección</th>\n",
       "      <th>SUBCATEGORÍA_Otra</th>\n",
       "      <th>SUBCATEGORÍA_Otros</th>\n",
       "      <th>SUBCATEGORÍA_Pantalones</th>\n",
       "      <th>SUBCATEGORÍA_Prendas uniformes</th>\n",
       "      <th>SUBCATEGORÍA_Productos de carne y aves de corral</th>\n",
       "      <th>SUBCATEGORÍA_Productos de cereales y legumbres</th>\n",
       "      <th>SUBCATEGORÍA_Productos de panadería</th>\n",
       "      <th>SUBCATEGORÍA_Productos lácteos y huevos</th>\n",
       "      <th>SUBCATEGORÍA_Seguridad y control público</th>\n",
       "      <th>SUBCATEGORÍA_Seguridad y protección personal</th>\n",
       "      <th>SUBCATEGORÍA_Señalización</th>\n",
       "      <th>SUBCATEGORÍA_Trabajo en alturas</th>\n",
       "      <th>SUBCATEGORÍA_Vegetales frescos</th>\n",
       "      <th>PROVEEDOR_Otros</th>\n",
       "      <th>PROVEEDOR_Proveedor 26</th>\n",
       "      <th>PROVEEDOR_Proveedor 28</th>\n",
       "      <th>PROVEEDOR_Proveedor 301</th>\n",
       "      <th>PROVEEDOR_Proveedor 59</th>\n",
       "      <th>COMPAÑÍA_COMPRADORA_Otros</th>\n",
       "      <th>COMPAÑÍA_COMPRADORA_Portal comprador 1</th>\n",
       "      <th>COMPAÑÍA_COMPRADORA_Portal comprador 2</th>\n",
       "      <th>COMPAÑÍA_COMPRADORA_Portal comprador 24</th>\n",
       "      <th>COMPAÑÍA_COMPRADORA_Portal comprador 29</th>\n",
       "      <th>COMPAÑÍA_COMPRADORA_Portal comprador 30</th>\n",
       "      <th>COMPAÑÍA_COMPRADORA_Portal comprador 4</th>\n",
       "      <th>COMPAÑÍA_COMPRADORA_Portal comprador 5</th>\n",
       "      <th>COMPAÑÍA_COMPRADORA_Portal comprador 6</th>\n",
       "      <th>COMPAÑÍA_COMPRADORA_Portal comprador 8</th>\n",
       "      <th>ESTADO_Cancelado</th>\n",
       "      <th>ESTADO_Enviado</th>\n",
       "      <th>ESTADO_Finalizado Incompleto</th>\n",
       "      <th>ESTADO_Orden Confirmada</th>\n",
       "      <th>ESTADO_Orden Rechazada</th>\n",
       "      <th>ESTADO_Orden en Proceso</th>\n",
       "      <th>ESTADO_Pendiente por Aprobar</th>\n",
       "      <th>ESTADO_Recibido</th>\n",
       "      <th>ESTADO_Recibido Parcial</th>\n",
       "      <th>CANTIDAD_PEDIDA</th>\n",
       "      <th>CANTIDAD_RECIBIDA</th>\n",
       "      <th>PRECIO_UNITARIO</th>\n",
       "      <th>IVA</th>\n",
       "      <th>TOTAL_SIN_IVA</th>\n",
       "    </tr>\n",
       "  </thead>\n",
       "  <tbody>\n",
       "    <tr>\n",
       "      <th>count</th>\n",
       "      <td>22,392.0000000</td>\n",
       "      <td>22,392.0000000</td>\n",
       "      <td>22,392.0000000</td>\n",
       "      <td>22,392.0000000</td>\n",
       "      <td>22,392.0000000</td>\n",
       "      <td>22,392.0000000</td>\n",
       "      <td>22,392.0000000</td>\n",
       "      <td>22,392.0000000</td>\n",
       "      <td>22,392.0000000</td>\n",
       "      <td>22,392.0000000</td>\n",
       "      <td>22,392.0000000</td>\n",
       "      <td>22,392.0000000</td>\n",
       "      <td>22,392.0000000</td>\n",
       "      <td>22,392.0000000</td>\n",
       "      <td>22,392.0000000</td>\n",
       "      <td>22,392.0000000</td>\n",
       "      <td>22,392.0000000</td>\n",
       "      <td>22,392.0000000</td>\n",
       "      <td>22,392.0000000</td>\n",
       "      <td>22,392.0000000</td>\n",
       "      <td>22,392.0000000</td>\n",
       "      <td>22,392.0000000</td>\n",
       "      <td>22,392.0000000</td>\n",
       "      <td>22,392.0000000</td>\n",
       "      <td>22,392.0000000</td>\n",
       "      <td>22,392.0000000</td>\n",
       "      <td>22,392.0000000</td>\n",
       "      <td>22,392.0000000</td>\n",
       "      <td>22,392.0000000</td>\n",
       "      <td>22,392.0000000</td>\n",
       "      <td>22,392.0000000</td>\n",
       "      <td>22,392.0000000</td>\n",
       "      <td>22,392.0000000</td>\n",
       "      <td>22,392.0000000</td>\n",
       "      <td>22,392.0000000</td>\n",
       "      <td>22,392.0000000</td>\n",
       "      <td>22,392.0000000</td>\n",
       "      <td>22,392.0000000</td>\n",
       "      <td>22,392.0000000</td>\n",
       "      <td>22,392.0000000</td>\n",
       "      <td>22,392.0000000</td>\n",
       "      <td>22,392.0000000</td>\n",
       "      <td>22,392.0000000</td>\n",
       "      <td>22,392.0000000</td>\n",
       "      <td>22,392.0000000</td>\n",
       "      <td>22,392.0000000</td>\n",
       "      <td>22,392.0000000</td>\n",
       "      <td>22,392.0000000</td>\n",
       "      <td>22,392.0000000</td>\n",
       "      <td>22,392.0000000</td>\n",
       "      <td>22,392.0000000</td>\n",
       "      <td>22,392.0000000</td>\n",
       "      <td>22,392.0000000</td>\n",
       "      <td>22,392.0000000</td>\n",
       "      <td>22,392.0000000</td>\n",
       "      <td>22,392.0000000</td>\n",
       "      <td>22,392.0000000</td>\n",
       "      <td>22,392.0000000</td>\n",
       "      <td>22,392.0000000</td>\n",
       "      <td>22,392.0000000</td>\n",
       "      <td>22,392.0000000</td>\n",
       "      <td>22,392.0000000</td>\n",
       "      <td>22,392.0000000</td>\n",
       "    </tr>\n",
       "    <tr>\n",
       "      <th>mean</th>\n",
       "      <td>0.3098428</td>\n",
       "      <td>0.1714005</td>\n",
       "      <td>0.0535459</td>\n",
       "      <td>0.1950697</td>\n",
       "      <td>0.2701411</td>\n",
       "      <td>0.0043319</td>\n",
       "      <td>0.1000804</td>\n",
       "      <td>0.0592622</td>\n",
       "      <td>0.0030368</td>\n",
       "      <td>0.0189800</td>\n",
       "      <td>0.0202304</td>\n",
       "      <td>0.0021883</td>\n",
       "      <td>0.0891836</td>\n",
       "      <td>0.0077706</td>\n",
       "      <td>0.0078153</td>\n",
       "      <td>0.0722579</td>\n",
       "      <td>0.0075027</td>\n",
       "      <td>0.0003126</td>\n",
       "      <td>0.0006699</td>\n",
       "      <td>0.0027688</td>\n",
       "      <td>0.0004912</td>\n",
       "      <td>0.0012058</td>\n",
       "      <td>0.1950697</td>\n",
       "      <td>0.0109861</td>\n",
       "      <td>0.0046445</td>\n",
       "      <td>0.0351465</td>\n",
       "      <td>0.0221954</td>\n",
       "      <td>0.0177742</td>\n",
       "      <td>0.0321543</td>\n",
       "      <td>0.0000893</td>\n",
       "      <td>0.2699625</td>\n",
       "      <td>0.0000893</td>\n",
       "      <td>0.0006252</td>\n",
       "      <td>0.0131743</td>\n",
       "      <td>0.5701143</td>\n",
       "      <td>0.0543051</td>\n",
       "      <td>0.0633708</td>\n",
       "      <td>0.2428992</td>\n",
       "      <td>0.0693105</td>\n",
       "      <td>0.0277778</td>\n",
       "      <td>0.2930957</td>\n",
       "      <td>0.1725170</td>\n",
       "      <td>0.2428992</td>\n",
       "      <td>0.1482672</td>\n",
       "      <td>0.0339407</td>\n",
       "      <td>0.0161218</td>\n",
       "      <td>0.0132190</td>\n",
       "      <td>0.0379600</td>\n",
       "      <td>0.0142015</td>\n",
       "      <td>0.0508664</td>\n",
       "      <td>0.0005359</td>\n",
       "      <td>0.0418006</td>\n",
       "      <td>0.0006699</td>\n",
       "      <td>0.0451947</td>\n",
       "      <td>0.2175777</td>\n",
       "      <td>0.0022776</td>\n",
       "      <td>0.6337978</td>\n",
       "      <td>0.0072794</td>\n",
       "      <td>0.0029806</td>\n",
       "      <td>0.0007156</td>\n",
       "      <td>0.2508488</td>\n",
       "      <td>0.0370917</td>\n",
       "      <td>0.9214995</td>\n",
       "    </tr>\n",
       "    <tr>\n",
       "      <th>std</th>\n",
       "      <td>0.4624390</td>\n",
       "      <td>0.3768670</td>\n",
       "      <td>0.2251244</td>\n",
       "      <td>0.3962632</td>\n",
       "      <td>0.4440425</td>\n",
       "      <td>0.0656760</td>\n",
       "      <td>0.3001139</td>\n",
       "      <td>0.2361201</td>\n",
       "      <td>0.0550246</td>\n",
       "      <td>0.1364573</td>\n",
       "      <td>0.1407908</td>\n",
       "      <td>0.0467289</td>\n",
       "      <td>0.2850150</td>\n",
       "      <td>0.0878100</td>\n",
       "      <td>0.0880600</td>\n",
       "      <td>0.2589203</td>\n",
       "      <td>0.0862944</td>\n",
       "      <td>0.0176785</td>\n",
       "      <td>0.0258740</td>\n",
       "      <td>0.0525481</td>\n",
       "      <td>0.0221591</td>\n",
       "      <td>0.0347043</td>\n",
       "      <td>0.3962632</td>\n",
       "      <td>0.1042394</td>\n",
       "      <td>0.0679938</td>\n",
       "      <td>0.1841541</td>\n",
       "      <td>0.1473220</td>\n",
       "      <td>0.1321327</td>\n",
       "      <td>0.1764138</td>\n",
       "      <td>0.0094506</td>\n",
       "      <td>0.4439499</td>\n",
       "      <td>0.0094506</td>\n",
       "      <td>0.0249972</td>\n",
       "      <td>0.1140235</td>\n",
       "      <td>0.4950706</td>\n",
       "      <td>0.2266238</td>\n",
       "      <td>0.2436342</td>\n",
       "      <td>0.4288443</td>\n",
       "      <td>0.2539870</td>\n",
       "      <td>0.1643392</td>\n",
       "      <td>0.4551921</td>\n",
       "      <td>0.3778376</td>\n",
       "      <td>0.4288443</td>\n",
       "      <td>0.3553726</td>\n",
       "      <td>0.1810806</td>\n",
       "      <td>0.1259469</td>\n",
       "      <td>0.1142140</td>\n",
       "      <td>0.1911038</td>\n",
       "      <td>0.1183235</td>\n",
       "      <td>0.2197297</td>\n",
       "      <td>0.0231439</td>\n",
       "      <td>0.2001378</td>\n",
       "      <td>0.0258740</td>\n",
       "      <td>0.2077356</td>\n",
       "      <td>0.4126079</td>\n",
       "      <td>0.0476709</td>\n",
       "      <td>0.4817764</td>\n",
       "      <td>0.0850101</td>\n",
       "      <td>0.0403952</td>\n",
       "      <td>0.0165733</td>\n",
       "      <td>0.2603764</td>\n",
       "      <td>0.0470483</td>\n",
       "      <td>0.1208985</td>\n",
       "    </tr>\n",
       "    <tr>\n",
       "      <th>min</th>\n",
       "      <td>0.0000000</td>\n",
       "      <td>0.0000000</td>\n",
       "      <td>0.0000000</td>\n",
       "      <td>0.0000000</td>\n",
       "      <td>0.0000000</td>\n",
       "      <td>0.0000000</td>\n",
       "      <td>0.0000000</td>\n",
       "      <td>0.0000000</td>\n",
       "      <td>0.0000000</td>\n",
       "      <td>0.0000000</td>\n",
       "      <td>0.0000000</td>\n",
       "      <td>0.0000000</td>\n",
       "      <td>0.0000000</td>\n",
       "      <td>0.0000000</td>\n",
       "      <td>0.0000000</td>\n",
       "      <td>0.0000000</td>\n",
       "      <td>0.0000000</td>\n",
       "      <td>0.0000000</td>\n",
       "      <td>0.0000000</td>\n",
       "      <td>0.0000000</td>\n",
       "      <td>0.0000000</td>\n",
       "      <td>0.0000000</td>\n",
       "      <td>0.0000000</td>\n",
       "      <td>0.0000000</td>\n",
       "      <td>0.0000000</td>\n",
       "      <td>0.0000000</td>\n",
       "      <td>0.0000000</td>\n",
       "      <td>0.0000000</td>\n",
       "      <td>0.0000000</td>\n",
       "      <td>0.0000000</td>\n",
       "      <td>0.0000000</td>\n",
       "      <td>0.0000000</td>\n",
       "      <td>0.0000000</td>\n",
       "      <td>0.0000000</td>\n",
       "      <td>0.0000000</td>\n",
       "      <td>0.0000000</td>\n",
       "      <td>0.0000000</td>\n",
       "      <td>0.0000000</td>\n",
       "      <td>0.0000000</td>\n",
       "      <td>0.0000000</td>\n",
       "      <td>0.0000000</td>\n",
       "      <td>0.0000000</td>\n",
       "      <td>0.0000000</td>\n",
       "      <td>0.0000000</td>\n",
       "      <td>0.0000000</td>\n",
       "      <td>0.0000000</td>\n",
       "      <td>0.0000000</td>\n",
       "      <td>0.0000000</td>\n",
       "      <td>0.0000000</td>\n",
       "      <td>0.0000000</td>\n",
       "      <td>0.0000000</td>\n",
       "      <td>0.0000000</td>\n",
       "      <td>0.0000000</td>\n",
       "      <td>0.0000000</td>\n",
       "      <td>0.0000000</td>\n",
       "      <td>0.0000000</td>\n",
       "      <td>0.0000000</td>\n",
       "      <td>0.0000000</td>\n",
       "      <td>0.0000000</td>\n",
       "      <td>0.0000000</td>\n",
       "      <td>0.0000000</td>\n",
       "      <td>0.0000000</td>\n",
       "      <td>0.0000000</td>\n",
       "    </tr>\n",
       "    <tr>\n",
       "      <th>25%</th>\n",
       "      <td>0.0000000</td>\n",
       "      <td>0.0000000</td>\n",
       "      <td>0.0000000</td>\n",
       "      <td>0.0000000</td>\n",
       "      <td>0.0000000</td>\n",
       "      <td>0.0000000</td>\n",
       "      <td>0.0000000</td>\n",
       "      <td>0.0000000</td>\n",
       "      <td>0.0000000</td>\n",
       "      <td>0.0000000</td>\n",
       "      <td>0.0000000</td>\n",
       "      <td>0.0000000</td>\n",
       "      <td>0.0000000</td>\n",
       "      <td>0.0000000</td>\n",
       "      <td>0.0000000</td>\n",
       "      <td>0.0000000</td>\n",
       "      <td>0.0000000</td>\n",
       "      <td>0.0000000</td>\n",
       "      <td>0.0000000</td>\n",
       "      <td>0.0000000</td>\n",
       "      <td>0.0000000</td>\n",
       "      <td>0.0000000</td>\n",
       "      <td>0.0000000</td>\n",
       "      <td>0.0000000</td>\n",
       "      <td>0.0000000</td>\n",
       "      <td>0.0000000</td>\n",
       "      <td>0.0000000</td>\n",
       "      <td>0.0000000</td>\n",
       "      <td>0.0000000</td>\n",
       "      <td>0.0000000</td>\n",
       "      <td>0.0000000</td>\n",
       "      <td>0.0000000</td>\n",
       "      <td>0.0000000</td>\n",
       "      <td>0.0000000</td>\n",
       "      <td>0.0000000</td>\n",
       "      <td>0.0000000</td>\n",
       "      <td>0.0000000</td>\n",
       "      <td>0.0000000</td>\n",
       "      <td>0.0000000</td>\n",
       "      <td>0.0000000</td>\n",
       "      <td>0.0000000</td>\n",
       "      <td>0.0000000</td>\n",
       "      <td>0.0000000</td>\n",
       "      <td>0.0000000</td>\n",
       "      <td>0.0000000</td>\n",
       "      <td>0.0000000</td>\n",
       "      <td>0.0000000</td>\n",
       "      <td>0.0000000</td>\n",
       "      <td>0.0000000</td>\n",
       "      <td>0.0000000</td>\n",
       "      <td>0.0000000</td>\n",
       "      <td>0.0000000</td>\n",
       "      <td>0.0000000</td>\n",
       "      <td>0.0000000</td>\n",
       "      <td>0.0000000</td>\n",
       "      <td>0.0000000</td>\n",
       "      <td>0.0000000</td>\n",
       "      <td>0.0000000</td>\n",
       "      <td>0.0000266</td>\n",
       "      <td>0.0000000</td>\n",
       "      <td>0.0249912</td>\n",
       "      <td>0.0010534</td>\n",
       "      <td>0.8912157</td>\n",
       "    </tr>\n",
       "    <tr>\n",
       "      <th>50%</th>\n",
       "      <td>0.0000000</td>\n",
       "      <td>0.0000000</td>\n",
       "      <td>0.0000000</td>\n",
       "      <td>0.0000000</td>\n",
       "      <td>0.0000000</td>\n",
       "      <td>0.0000000</td>\n",
       "      <td>0.0000000</td>\n",
       "      <td>0.0000000</td>\n",
       "      <td>0.0000000</td>\n",
       "      <td>0.0000000</td>\n",
       "      <td>0.0000000</td>\n",
       "      <td>0.0000000</td>\n",
       "      <td>0.0000000</td>\n",
       "      <td>0.0000000</td>\n",
       "      <td>0.0000000</td>\n",
       "      <td>0.0000000</td>\n",
       "      <td>0.0000000</td>\n",
       "      <td>0.0000000</td>\n",
       "      <td>0.0000000</td>\n",
       "      <td>0.0000000</td>\n",
       "      <td>0.0000000</td>\n",
       "      <td>0.0000000</td>\n",
       "      <td>0.0000000</td>\n",
       "      <td>0.0000000</td>\n",
       "      <td>0.0000000</td>\n",
       "      <td>0.0000000</td>\n",
       "      <td>0.0000000</td>\n",
       "      <td>0.0000000</td>\n",
       "      <td>0.0000000</td>\n",
       "      <td>0.0000000</td>\n",
       "      <td>0.0000000</td>\n",
       "      <td>0.0000000</td>\n",
       "      <td>0.0000000</td>\n",
       "      <td>0.0000000</td>\n",
       "      <td>1.0000000</td>\n",
       "      <td>0.0000000</td>\n",
       "      <td>0.0000000</td>\n",
       "      <td>0.0000000</td>\n",
       "      <td>0.0000000</td>\n",
       "      <td>0.0000000</td>\n",
       "      <td>0.0000000</td>\n",
       "      <td>0.0000000</td>\n",
       "      <td>0.0000000</td>\n",
       "      <td>0.0000000</td>\n",
       "      <td>0.0000000</td>\n",
       "      <td>0.0000000</td>\n",
       "      <td>0.0000000</td>\n",
       "      <td>0.0000000</td>\n",
       "      <td>0.0000000</td>\n",
       "      <td>0.0000000</td>\n",
       "      <td>0.0000000</td>\n",
       "      <td>0.0000000</td>\n",
       "      <td>0.0000000</td>\n",
       "      <td>0.0000000</td>\n",
       "      <td>0.0000000</td>\n",
       "      <td>0.0000000</td>\n",
       "      <td>1.0000000</td>\n",
       "      <td>0.0000000</td>\n",
       "      <td>0.0000785</td>\n",
       "      <td>0.0000208</td>\n",
       "      <td>0.1413703</td>\n",
       "      <td>0.0126375</td>\n",
       "      <td>0.9895923</td>\n",
       "    </tr>\n",
       "    <tr>\n",
       "      <th>75%</th>\n",
       "      <td>1.0000000</td>\n",
       "      <td>0.0000000</td>\n",
       "      <td>0.0000000</td>\n",
       "      <td>0.0000000</td>\n",
       "      <td>1.0000000</td>\n",
       "      <td>0.0000000</td>\n",
       "      <td>0.0000000</td>\n",
       "      <td>0.0000000</td>\n",
       "      <td>0.0000000</td>\n",
       "      <td>0.0000000</td>\n",
       "      <td>0.0000000</td>\n",
       "      <td>0.0000000</td>\n",
       "      <td>0.0000000</td>\n",
       "      <td>0.0000000</td>\n",
       "      <td>0.0000000</td>\n",
       "      <td>0.0000000</td>\n",
       "      <td>0.0000000</td>\n",
       "      <td>0.0000000</td>\n",
       "      <td>0.0000000</td>\n",
       "      <td>0.0000000</td>\n",
       "      <td>0.0000000</td>\n",
       "      <td>0.0000000</td>\n",
       "      <td>0.0000000</td>\n",
       "      <td>0.0000000</td>\n",
       "      <td>0.0000000</td>\n",
       "      <td>0.0000000</td>\n",
       "      <td>0.0000000</td>\n",
       "      <td>0.0000000</td>\n",
       "      <td>0.0000000</td>\n",
       "      <td>0.0000000</td>\n",
       "      <td>1.0000000</td>\n",
       "      <td>0.0000000</td>\n",
       "      <td>0.0000000</td>\n",
       "      <td>0.0000000</td>\n",
       "      <td>1.0000000</td>\n",
       "      <td>0.0000000</td>\n",
       "      <td>0.0000000</td>\n",
       "      <td>0.0000000</td>\n",
       "      <td>0.0000000</td>\n",
       "      <td>0.0000000</td>\n",
       "      <td>1.0000000</td>\n",
       "      <td>0.0000000</td>\n",
       "      <td>0.0000000</td>\n",
       "      <td>0.0000000</td>\n",
       "      <td>0.0000000</td>\n",
       "      <td>0.0000000</td>\n",
       "      <td>0.0000000</td>\n",
       "      <td>0.0000000</td>\n",
       "      <td>0.0000000</td>\n",
       "      <td>0.0000000</td>\n",
       "      <td>0.0000000</td>\n",
       "      <td>0.0000000</td>\n",
       "      <td>0.0000000</td>\n",
       "      <td>0.0000000</td>\n",
       "      <td>0.0000000</td>\n",
       "      <td>0.0000000</td>\n",
       "      <td>1.0000000</td>\n",
       "      <td>0.0000000</td>\n",
       "      <td>0.0004979</td>\n",
       "      <td>0.0000941</td>\n",
       "      <td>0.4456078</td>\n",
       "      <td>0.0599762</td>\n",
       "      <td>0.9996005</td>\n",
       "    </tr>\n",
       "    <tr>\n",
       "      <th>max</th>\n",
       "      <td>1.0000000</td>\n",
       "      <td>1.0000000</td>\n",
       "      <td>1.0000000</td>\n",
       "      <td>1.0000000</td>\n",
       "      <td>1.0000000</td>\n",
       "      <td>1.0000000</td>\n",
       "      <td>1.0000000</td>\n",
       "      <td>1.0000000</td>\n",
       "      <td>1.0000000</td>\n",
       "      <td>1.0000000</td>\n",
       "      <td>1.0000000</td>\n",
       "      <td>1.0000000</td>\n",
       "      <td>1.0000000</td>\n",
       "      <td>1.0000000</td>\n",
       "      <td>1.0000000</td>\n",
       "      <td>1.0000000</td>\n",
       "      <td>1.0000000</td>\n",
       "      <td>1.0000000</td>\n",
       "      <td>1.0000000</td>\n",
       "      <td>1.0000000</td>\n",
       "      <td>1.0000000</td>\n",
       "      <td>1.0000000</td>\n",
       "      <td>1.0000000</td>\n",
       "      <td>1.0000000</td>\n",
       "      <td>1.0000000</td>\n",
       "      <td>1.0000000</td>\n",
       "      <td>1.0000000</td>\n",
       "      <td>1.0000000</td>\n",
       "      <td>1.0000000</td>\n",
       "      <td>1.0000000</td>\n",
       "      <td>1.0000000</td>\n",
       "      <td>1.0000000</td>\n",
       "      <td>1.0000000</td>\n",
       "      <td>1.0000000</td>\n",
       "      <td>1.0000000</td>\n",
       "      <td>1.0000000</td>\n",
       "      <td>1.0000000</td>\n",
       "      <td>1.0000000</td>\n",
       "      <td>1.0000000</td>\n",
       "      <td>1.0000000</td>\n",
       "      <td>1.0000000</td>\n",
       "      <td>1.0000000</td>\n",
       "      <td>1.0000000</td>\n",
       "      <td>1.0000000</td>\n",
       "      <td>1.0000000</td>\n",
       "      <td>1.0000000</td>\n",
       "      <td>1.0000000</td>\n",
       "      <td>1.0000000</td>\n",
       "      <td>1.0000000</td>\n",
       "      <td>1.0000000</td>\n",
       "      <td>1.0000000</td>\n",
       "      <td>1.0000000</td>\n",
       "      <td>1.0000000</td>\n",
       "      <td>1.0000000</td>\n",
       "      <td>1.0000000</td>\n",
       "      <td>1.0000000</td>\n",
       "      <td>1.0000000</td>\n",
       "      <td>1.0000000</td>\n",
       "      <td>1.0000000</td>\n",
       "      <td>0.7071068</td>\n",
       "      <td>0.9654291</td>\n",
       "      <td>0.1675310</td>\n",
       "      <td>1.0000000</td>\n",
       "    </tr>\n",
       "  </tbody>\n",
       "</table>\n",
       "</div>"
      ],
      "text/plain": [
       "       CATEGORÍA_Alimentos y Bebidas  CATEGORÍA_Aseo, Cafetería y Oficina  \\\n",
       "count                 22,392.0000000                       22,392.0000000   \n",
       "mean                       0.3098428                            0.1714005   \n",
       "std                        0.4624390                            0.3768670   \n",
       "min                        0.0000000                            0.0000000   \n",
       "25%                        0.0000000                            0.0000000   \n",
       "50%                        0.0000000                            0.0000000   \n",
       "75%                        1.0000000                            0.0000000   \n",
       "max                        1.0000000                            1.0000000   \n",
       "\n",
       "       CATEGORÍA_Dotación y elementos de protección personal  CATEGORÍA_Otros  \\\n",
       "count                                     22,392.0000000       22,392.0000000   \n",
       "mean                                           0.0535459            0.1950697   \n",
       "std                                            0.2251244            0.3962632   \n",
       "min                                            0.0000000            0.0000000   \n",
       "25%                                            0.0000000            0.0000000   \n",
       "50%                                            0.0000000            0.0000000   \n",
       "75%                                            0.0000000            0.0000000   \n",
       "max                                            1.0000000            1.0000000   \n",
       "\n",
       "       CATEGORÍA_Vigilancia y seguridad industrial  \\\n",
       "count                               22,392.0000000   \n",
       "mean                                     0.2701411   \n",
       "std                                      0.4440425   \n",
       "min                                      0.0000000   \n",
       "25%                                      0.0000000   \n",
       "50%                                      0.0000000   \n",
       "75%                                      1.0000000   \n",
       "max                                      1.0000000   \n",
       "\n",
       "       SUBCATEGORÍA_Aceites y grasas comestibles  \\\n",
       "count                             22,392.0000000   \n",
       "mean                                   0.0043319   \n",
       "std                                    0.0656760   \n",
       "min                                    0.0000000   \n",
       "25%                                    0.0000000   \n",
       "50%                                    0.0000000   \n",
       "75%                                    0.0000000   \n",
       "max                                    1.0000000   \n",
       "\n",
       "       SUBCATEGORÍA_Alimentos preparados y conservados  SUBCATEGORÍA_Bebidas  \\\n",
       "count                                   22,392.0000000        22,392.0000000   \n",
       "mean                                         0.1000804             0.0592622   \n",
       "std                                          0.3001139             0.2361201   \n",
       "min                                          0.0000000             0.0000000   \n",
       "25%                                          0.0000000             0.0000000   \n",
       "50%                                          0.0000000             0.0000000   \n",
       "75%                                          0.0000000             0.0000000   \n",
       "max                                          1.0000000             1.0000000   \n",
       "\n",
       "       SUBCATEGORÍA_Calzado  SUBCATEGORÍA_Camisas y camisetas  \\\n",
       "count        22,392.0000000                    22,392.0000000   \n",
       "mean              0.0030368                         0.0189800   \n",
       "std               0.0550246                         0.1364573   \n",
       "min               0.0000000                         0.0000000   \n",
       "25%               0.0000000                         0.0000000   \n",
       "50%               0.0000000                         0.0000000   \n",
       "75%               0.0000000                         0.0000000   \n",
       "max               1.0000000                         1.0000000   \n",
       "\n",
       "       SUBCATEGORÍA_Chocolates, azúcares y confitería  \\\n",
       "count                                  22,392.0000000   \n",
       "mean                                        0.0202304   \n",
       "std                                         0.1407908   \n",
       "min                                         0.0000000   \n",
       "25%                                         0.0000000   \n",
       "50%                                         0.0000000   \n",
       "75%                                         0.0000000   \n",
       "max                                         1.0000000   \n",
       "\n",
       "       SUBCATEGORÍA_Condimentos y conservantes  \\\n",
       "count                           22,392.0000000   \n",
       "mean                                 0.0021883   \n",
       "std                                  0.0467289   \n",
       "min                                  0.0000000   \n",
       "25%                                  0.0000000   \n",
       "50%                                  0.0000000   \n",
       "75%                                  0.0000000   \n",
       "max                                  1.0000000   \n",
       "\n",
       "       SUBCATEGORÍA_Elementos de aseo y limpieza  \\\n",
       "count                             22,392.0000000   \n",
       "mean                                   0.0891836   \n",
       "std                                    0.2850150   \n",
       "min                                    0.0000000   \n",
       "25%                                    0.0000000   \n",
       "50%                                    0.0000000   \n",
       "75%                                    0.0000000   \n",
       "max                                    1.0000000   \n",
       "\n",
       "       SUBCATEGORÍA_Elementos de bioseguridad  \\\n",
       "count                          22,392.0000000   \n",
       "mean                                0.0077706   \n",
       "std                                 0.0878100   \n",
       "min                                 0.0000000   \n",
       "25%                                 0.0000000   \n",
       "50%                                 0.0000000   \n",
       "75%                                 0.0000000   \n",
       "max                                 1.0000000   \n",
       "\n",
       "       SUBCATEGORÍA_Elementos de cafetería  \\\n",
       "count                       22,392.0000000   \n",
       "mean                             0.0078153   \n",
       "std                              0.0880600   \n",
       "min                              0.0000000   \n",
       "25%                              0.0000000   \n",
       "50%                              0.0000000   \n",
       "75%                              0.0000000   \n",
       "max                              1.0000000   \n",
       "\n",
       "       SUBCATEGORÍA_Elementos de papelería  \\\n",
       "count                       22,392.0000000   \n",
       "mean                             0.0722579   \n",
       "std                              0.2589203   \n",
       "min                              0.0000000   \n",
       "25%                              0.0000000   \n",
       "50%                              0.0000000   \n",
       "75%                              0.0000000   \n",
       "max                              1.0000000   \n",
       "\n",
       "       SUBCATEGORÍA_Elementos de protección personal  \\\n",
       "count                                 22,392.0000000   \n",
       "mean                                       0.0075027   \n",
       "std                                        0.0862944   \n",
       "min                                        0.0000000   \n",
       "25%                                        0.0000000   \n",
       "50%                                        0.0000000   \n",
       "75%                                        0.0000000   \n",
       "max                                        1.0000000   \n",
       "\n",
       "       SUBCATEGORÍA_Equipo de aseo  \\\n",
       "count               22,392.0000000   \n",
       "mean                     0.0003126   \n",
       "std                      0.0176785   \n",
       "min                      0.0000000   \n",
       "25%                      0.0000000   \n",
       "50%                      0.0000000   \n",
       "75%                      0.0000000   \n",
       "max                      1.0000000   \n",
       "\n",
       "       SUBCATEGORÍA_Equipo y accesorios de oficina y escritorio  \\\n",
       "count                                     22,392.0000000          \n",
       "mean                                           0.0006699          \n",
       "std                                            0.0258740          \n",
       "min                                            0.0000000          \n",
       "25%                                            0.0000000          \n",
       "50%                                            0.0000000          \n",
       "75%                                            0.0000000          \n",
       "max                                            1.0000000          \n",
       "\n",
       "       SUBCATEGORÍA_Fruta fresca  SUBCATEGORÍA_Insumos desinfección  \\\n",
       "count             22,392.0000000                     22,392.0000000   \n",
       "mean                   0.0027688                          0.0004912   \n",
       "std                    0.0525481                          0.0221591   \n",
       "min                    0.0000000                          0.0000000   \n",
       "25%                    0.0000000                          0.0000000   \n",
       "50%                    0.0000000                          0.0000000   \n",
       "75%                    0.0000000                          0.0000000   \n",
       "max                    1.0000000                          1.0000000   \n",
       "\n",
       "       SUBCATEGORÍA_Otra  SUBCATEGORÍA_Otros  SUBCATEGORÍA_Pantalones  \\\n",
       "count     22,392.0000000      22,392.0000000           22,392.0000000   \n",
       "mean           0.0012058           0.1950697                0.0109861   \n",
       "std            0.0347043           0.3962632                0.1042394   \n",
       "min            0.0000000           0.0000000                0.0000000   \n",
       "25%            0.0000000           0.0000000                0.0000000   \n",
       "50%            0.0000000           0.0000000                0.0000000   \n",
       "75%            0.0000000           0.0000000                0.0000000   \n",
       "max            1.0000000           1.0000000                1.0000000   \n",
       "\n",
       "       SUBCATEGORÍA_Prendas uniformes  \\\n",
       "count                  22,392.0000000   \n",
       "mean                        0.0046445   \n",
       "std                         0.0679938   \n",
       "min                         0.0000000   \n",
       "25%                         0.0000000   \n",
       "50%                         0.0000000   \n",
       "75%                         0.0000000   \n",
       "max                         1.0000000   \n",
       "\n",
       "       SUBCATEGORÍA_Productos de carne y aves de corral  \\\n",
       "count                                    22,392.0000000   \n",
       "mean                                          0.0351465   \n",
       "std                                           0.1841541   \n",
       "min                                           0.0000000   \n",
       "25%                                           0.0000000   \n",
       "50%                                           0.0000000   \n",
       "75%                                           0.0000000   \n",
       "max                                           1.0000000   \n",
       "\n",
       "       SUBCATEGORÍA_Productos de cereales y legumbres  \\\n",
       "count                                  22,392.0000000   \n",
       "mean                                        0.0221954   \n",
       "std                                         0.1473220   \n",
       "min                                         0.0000000   \n",
       "25%                                         0.0000000   \n",
       "50%                                         0.0000000   \n",
       "75%                                         0.0000000   \n",
       "max                                         1.0000000   \n",
       "\n",
       "       SUBCATEGORÍA_Productos de panadería  \\\n",
       "count                       22,392.0000000   \n",
       "mean                             0.0177742   \n",
       "std                              0.1321327   \n",
       "min                              0.0000000   \n",
       "25%                              0.0000000   \n",
       "50%                              0.0000000   \n",
       "75%                              0.0000000   \n",
       "max                              1.0000000   \n",
       "\n",
       "       SUBCATEGORÍA_Productos lácteos y huevos  \\\n",
       "count                           22,392.0000000   \n",
       "mean                                 0.0321543   \n",
       "std                                  0.1764138   \n",
       "min                                  0.0000000   \n",
       "25%                                  0.0000000   \n",
       "50%                                  0.0000000   \n",
       "75%                                  0.0000000   \n",
       "max                                  1.0000000   \n",
       "\n",
       "       SUBCATEGORÍA_Seguridad y control público  \\\n",
       "count                            22,392.0000000   \n",
       "mean                                  0.0000893   \n",
       "std                                   0.0094506   \n",
       "min                                   0.0000000   \n",
       "25%                                   0.0000000   \n",
       "50%                                   0.0000000   \n",
       "75%                                   0.0000000   \n",
       "max                                   1.0000000   \n",
       "\n",
       "       SUBCATEGORÍA_Seguridad y protección personal  \\\n",
       "count                                22,392.0000000   \n",
       "mean                                      0.2699625   \n",
       "std                                       0.4439499   \n",
       "min                                       0.0000000   \n",
       "25%                                       0.0000000   \n",
       "50%                                       0.0000000   \n",
       "75%                                       1.0000000   \n",
       "max                                       1.0000000   \n",
       "\n",
       "       SUBCATEGORÍA_Señalización  SUBCATEGORÍA_Trabajo en alturas  \\\n",
       "count             22,392.0000000                   22,392.0000000   \n",
       "mean                   0.0000893                        0.0006252   \n",
       "std                    0.0094506                        0.0249972   \n",
       "min                    0.0000000                        0.0000000   \n",
       "25%                    0.0000000                        0.0000000   \n",
       "50%                    0.0000000                        0.0000000   \n",
       "75%                    0.0000000                        0.0000000   \n",
       "max                    1.0000000                        1.0000000   \n",
       "\n",
       "       SUBCATEGORÍA_Vegetales frescos  PROVEEDOR_Otros  \\\n",
       "count                  22,392.0000000   22,392.0000000   \n",
       "mean                        0.0131743        0.5701143   \n",
       "std                         0.1140235        0.4950706   \n",
       "min                         0.0000000        0.0000000   \n",
       "25%                         0.0000000        0.0000000   \n",
       "50%                         0.0000000        1.0000000   \n",
       "75%                         0.0000000        1.0000000   \n",
       "max                         1.0000000        1.0000000   \n",
       "\n",
       "       PROVEEDOR_Proveedor 26  PROVEEDOR_Proveedor 28  \\\n",
       "count          22,392.0000000          22,392.0000000   \n",
       "mean                0.0543051               0.0633708   \n",
       "std                 0.2266238               0.2436342   \n",
       "min                 0.0000000               0.0000000   \n",
       "25%                 0.0000000               0.0000000   \n",
       "50%                 0.0000000               0.0000000   \n",
       "75%                 0.0000000               0.0000000   \n",
       "max                 1.0000000               1.0000000   \n",
       "\n",
       "       PROVEEDOR_Proveedor 301  PROVEEDOR_Proveedor 59  \\\n",
       "count           22,392.0000000          22,392.0000000   \n",
       "mean                 0.2428992               0.0693105   \n",
       "std                  0.4288443               0.2539870   \n",
       "min                  0.0000000               0.0000000   \n",
       "25%                  0.0000000               0.0000000   \n",
       "50%                  0.0000000               0.0000000   \n",
       "75%                  0.0000000               0.0000000   \n",
       "max                  1.0000000               1.0000000   \n",
       "\n",
       "       COMPAÑÍA_COMPRADORA_Otros  COMPAÑÍA_COMPRADORA_Portal comprador 1  \\\n",
       "count             22,392.0000000                          22,392.0000000   \n",
       "mean                   0.0277778                               0.2930957   \n",
       "std                    0.1643392                               0.4551921   \n",
       "min                    0.0000000                               0.0000000   \n",
       "25%                    0.0000000                               0.0000000   \n",
       "50%                    0.0000000                               0.0000000   \n",
       "75%                    0.0000000                               1.0000000   \n",
       "max                    1.0000000                               1.0000000   \n",
       "\n",
       "       COMPAÑÍA_COMPRADORA_Portal comprador 2  \\\n",
       "count                          22,392.0000000   \n",
       "mean                                0.1725170   \n",
       "std                                 0.3778376   \n",
       "min                                 0.0000000   \n",
       "25%                                 0.0000000   \n",
       "50%                                 0.0000000   \n",
       "75%                                 0.0000000   \n",
       "max                                 1.0000000   \n",
       "\n",
       "       COMPAÑÍA_COMPRADORA_Portal comprador 24  \\\n",
       "count                           22,392.0000000   \n",
       "mean                                 0.2428992   \n",
       "std                                  0.4288443   \n",
       "min                                  0.0000000   \n",
       "25%                                  0.0000000   \n",
       "50%                                  0.0000000   \n",
       "75%                                  0.0000000   \n",
       "max                                  1.0000000   \n",
       "\n",
       "       COMPAÑÍA_COMPRADORA_Portal comprador 29  \\\n",
       "count                           22,392.0000000   \n",
       "mean                                 0.1482672   \n",
       "std                                  0.3553726   \n",
       "min                                  0.0000000   \n",
       "25%                                  0.0000000   \n",
       "50%                                  0.0000000   \n",
       "75%                                  0.0000000   \n",
       "max                                  1.0000000   \n",
       "\n",
       "       COMPAÑÍA_COMPRADORA_Portal comprador 30  \\\n",
       "count                           22,392.0000000   \n",
       "mean                                 0.0339407   \n",
       "std                                  0.1810806   \n",
       "min                                  0.0000000   \n",
       "25%                                  0.0000000   \n",
       "50%                                  0.0000000   \n",
       "75%                                  0.0000000   \n",
       "max                                  1.0000000   \n",
       "\n",
       "       COMPAÑÍA_COMPRADORA_Portal comprador 4  \\\n",
       "count                          22,392.0000000   \n",
       "mean                                0.0161218   \n",
       "std                                 0.1259469   \n",
       "min                                 0.0000000   \n",
       "25%                                 0.0000000   \n",
       "50%                                 0.0000000   \n",
       "75%                                 0.0000000   \n",
       "max                                 1.0000000   \n",
       "\n",
       "       COMPAÑÍA_COMPRADORA_Portal comprador 5  \\\n",
       "count                          22,392.0000000   \n",
       "mean                                0.0132190   \n",
       "std                                 0.1142140   \n",
       "min                                 0.0000000   \n",
       "25%                                 0.0000000   \n",
       "50%                                 0.0000000   \n",
       "75%                                 0.0000000   \n",
       "max                                 1.0000000   \n",
       "\n",
       "       COMPAÑÍA_COMPRADORA_Portal comprador 6  \\\n",
       "count                          22,392.0000000   \n",
       "mean                                0.0379600   \n",
       "std                                 0.1911038   \n",
       "min                                 0.0000000   \n",
       "25%                                 0.0000000   \n",
       "50%                                 0.0000000   \n",
       "75%                                 0.0000000   \n",
       "max                                 1.0000000   \n",
       "\n",
       "       COMPAÑÍA_COMPRADORA_Portal comprador 8  ESTADO_Cancelado  \\\n",
       "count                          22,392.0000000    22,392.0000000   \n",
       "mean                                0.0142015         0.0508664   \n",
       "std                                 0.1183235         0.2197297   \n",
       "min                                 0.0000000         0.0000000   \n",
       "25%                                 0.0000000         0.0000000   \n",
       "50%                                 0.0000000         0.0000000   \n",
       "75%                                 0.0000000         0.0000000   \n",
       "max                                 1.0000000         1.0000000   \n",
       "\n",
       "       ESTADO_Enviado  ESTADO_Finalizado Incompleto  ESTADO_Orden Confirmada  \\\n",
       "count  22,392.0000000                22,392.0000000           22,392.0000000   \n",
       "mean        0.0005359                     0.0418006                0.0006699   \n",
       "std         0.0231439                     0.2001378                0.0258740   \n",
       "min         0.0000000                     0.0000000                0.0000000   \n",
       "25%         0.0000000                     0.0000000                0.0000000   \n",
       "50%         0.0000000                     0.0000000                0.0000000   \n",
       "75%         0.0000000                     0.0000000                0.0000000   \n",
       "max         1.0000000                     1.0000000                1.0000000   \n",
       "\n",
       "       ESTADO_Orden Rechazada  ESTADO_Orden en Proceso  \\\n",
       "count          22,392.0000000           22,392.0000000   \n",
       "mean                0.0451947                0.2175777   \n",
       "std                 0.2077356                0.4126079   \n",
       "min                 0.0000000                0.0000000   \n",
       "25%                 0.0000000                0.0000000   \n",
       "50%                 0.0000000                0.0000000   \n",
       "75%                 0.0000000                0.0000000   \n",
       "max                 1.0000000                1.0000000   \n",
       "\n",
       "       ESTADO_Pendiente por Aprobar  ESTADO_Recibido  ESTADO_Recibido Parcial  \\\n",
       "count                22,392.0000000   22,392.0000000           22,392.0000000   \n",
       "mean                      0.0022776        0.6337978                0.0072794   \n",
       "std                       0.0476709        0.4817764                0.0850101   \n",
       "min                       0.0000000        0.0000000                0.0000000   \n",
       "25%                       0.0000000        0.0000000                0.0000000   \n",
       "50%                       0.0000000        1.0000000                0.0000000   \n",
       "75%                       0.0000000        1.0000000                0.0000000   \n",
       "max                       1.0000000        1.0000000                1.0000000   \n",
       "\n",
       "       CANTIDAD_PEDIDA  CANTIDAD_RECIBIDA  PRECIO_UNITARIO            IVA  \\\n",
       "count   22,392.0000000     22,392.0000000   22,392.0000000 22,392.0000000   \n",
       "mean         0.0029806          0.0007156        0.2508488      0.0370917   \n",
       "std          0.0403952          0.0165733        0.2603764      0.0470483   \n",
       "min          0.0000000          0.0000000        0.0000000      0.0000000   \n",
       "25%          0.0000266          0.0000000        0.0249912      0.0010534   \n",
       "50%          0.0000785          0.0000208        0.1413703      0.0126375   \n",
       "75%          0.0004979          0.0000941        0.4456078      0.0599762   \n",
       "max          1.0000000          0.7071068        0.9654291      0.1675310   \n",
       "\n",
       "       TOTAL_SIN_IVA  \n",
       "count 22,392.0000000  \n",
       "mean       0.9214995  \n",
       "std        0.1208985  \n",
       "min        0.0000000  \n",
       "25%        0.8912157  \n",
       "50%        0.9895923  \n",
       "75%        0.9996005  \n",
       "max        1.0000000  "
      ]
     },
     "execution_count": 82,
     "metadata": {},
     "output_type": "execute_result"
    }
   ],
   "source": [
    "df_num_encoder_normalized.describe()"
   ]
  },
  {
   "cell_type": "markdown",
   "metadata": {},
   "source": [
    "# SAVE TO CSV"
   ]
  },
  {
   "cell_type": "code",
   "execution_count": 83,
   "metadata": {},
   "outputs": [],
   "source": [
    "df.to_csv('Proveindustriales_Data_Cleaned_csv2.csv', index=False)"
   ]
  },
  {
   "cell_type": "code",
   "execution_count": 84,
   "metadata": {},
   "outputs": [],
   "source": [
    "df_num_encoder_normalized.to_csv('Proveindustriales_Data_Cleaned_numeric_onehot_csv.csv', index=False)"
   ]
  },
  {
   "cell_type": "code",
   "execution_count": null,
   "metadata": {},
   "outputs": [],
   "source": []
  }
 ],
 "metadata": {
  "interpreter": {
   "hash": "c94be41889154d41bf43aca8d1a8d1cd64b97c119170e03e2ed46ca87183f0c5"
  },
  "kernelspec": {
   "display_name": "Python 3",
   "language": "python",
   "name": "python3"
  },
  "language_info": {
   "codemirror_mode": {
    "name": "ipython",
    "version": 3
   },
   "file_extension": ".py",
   "mimetype": "text/x-python",
   "name": "python",
   "nbconvert_exporter": "python",
   "pygments_lexer": "ipython3",
   "version": "3.8.5"
  }
 },
 "nbformat": 4,
 "nbformat_minor": 2
}
