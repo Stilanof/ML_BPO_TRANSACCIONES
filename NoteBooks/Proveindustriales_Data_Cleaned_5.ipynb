{
 "cells": [
  {
   "cell_type": "code",
   "execution_count": 488,
   "metadata": {},
   "outputs": [],
   "source": [
    "import pandas as pd\n",
    "import matplotlib as plt\n",
    "import seaborn as sns\n",
    "import plotly.express as px\n",
    "import numpy as np"
   ]
  },
  {
   "cell_type": "markdown",
   "metadata": {},
   "source": [
    "# 1 DATA ACQUISITION"
   ]
  },
  {
   "cell_type": "code",
   "execution_count": 489,
   "metadata": {},
   "outputs": [],
   "source": [
    "df2 = pd.read_excel('OrdenesdecompraPORTAL1K.xlsx', decimal=',', thousands='.')\n"
   ]
  },
  {
   "cell_type": "code",
   "execution_count": 490,
   "metadata": {},
   "outputs": [],
   "source": [
    "pd.options.display.max_columns = None\n",
    "pd.options.display.float_format = '{:20,.2f}'.format"
   ]
  },
  {
   "cell_type": "code",
   "execution_count": 491,
   "metadata": {},
   "outputs": [
    {
     "data": {
      "text/plain": [
       "Index(['NÚMERO PEDIDO', 'ORDEN NÚMERO', 'FECHA ORDEN', 'FECHA ENTREGA',\n",
       "       'FECHA APROBACION', 'CATEGORÍA', 'SUBCATEGORIA', 'PROVEEDOR', 'USUARIO',\n",
       "       'USUARIO APROBADOR', 'DIRECCION PEDIDO', 'DIRECCION FACTURACION',\n",
       "       'CENTRO DE COSTOS', 'PRESUPUESTO', 'PORTAL', 'ESTADO',\n",
       "       'PRODUCTO O SERVICIO', 'CODIGO PORTAL', 'CANTIDAD PEDIDA',\n",
       "       'CANTIDAD RECIBIDA', 'PRECIO UNITARIO', 'PRECIO UNITARIO + IVA', 'IVA',\n",
       "       'TOTAL SIN IVA', 'TOTAL + IVA', 'FECHA ULTIMO MOVIMIENTO',\n",
       "       'Unnamed: 26', 'Unnamed: 27', 'Unnamed: 28'],\n",
       "      dtype='object')"
      ]
     },
     "execution_count": 491,
     "metadata": {},
     "output_type": "execute_result"
    }
   ],
   "source": [
    "df2.columns"
   ]
  },
  {
   "cell_type": "code",
   "execution_count": 492,
   "metadata": {},
   "outputs": [],
   "source": [
    "df2 = df2[['NÚMERO PEDIDO', 'ORDEN NÚMERO', 'FECHA ORDEN', 'FECHA ENTREGA',\n",
    "       'FECHA APROBACION', 'CATEGORÍA', 'SUBCATEGORIA', 'PROVEEDOR', 'USUARIO',\n",
    "       'USUARIO APROBADOR', 'DIRECCION PEDIDO', 'DIRECCION FACTURACION',\n",
    "       'CENTRO DE COSTOS', 'PRESUPUESTO', 'PORTAL', 'ESTADO',\n",
    "       'PRODUCTO O SERVICIO', 'CODIGO PORTAL', 'CANTIDAD PEDIDA',\n",
    "       'CANTIDAD RECIBIDA', 'PRECIO UNITARIO', 'PRECIO UNITARIO + IVA', 'IVA',\n",
    "       'TOTAL SIN IVA', 'TOTAL + IVA', 'FECHA ULTIMO MOVIMIENTO']]"
   ]
  },
  {
   "cell_type": "code",
   "execution_count": 493,
   "metadata": {},
   "outputs": [],
   "source": [
    "df = pd.read_excel('B_Ordenes_04-10-2021.xlsx', decimal=',', thousands='.')"
   ]
  },
  {
   "cell_type": "code",
   "execution_count": 494,
   "metadata": {},
   "outputs": [],
   "source": [
    "df2.columns = df.columns"
   ]
  },
  {
   "cell_type": "code",
   "execution_count": 495,
   "metadata": {},
   "outputs": [
    {
     "data": {
      "text/plain": [
       "array([ True,  True,  True,  True,  True,  True,  True,  True,  True,\n",
       "        True,  True,  True,  True,  True,  True,  True,  True,  True,\n",
       "        True,  True,  True,  True,  True,  True,  True,  True])"
      ]
     },
     "execution_count": 495,
     "metadata": {},
     "output_type": "execute_result"
    }
   ],
   "source": [
    "df.columns == df2.columns"
   ]
  },
  {
   "cell_type": "code",
   "execution_count": 496,
   "metadata": {},
   "outputs": [],
   "source": [
    "df = df2"
   ]
  },
  {
   "cell_type": "markdown",
   "metadata": {},
   "source": [
    "Describe and info of the df"
   ]
  },
  {
   "cell_type": "code",
   "execution_count": 497,
   "metadata": {},
   "outputs": [
    {
     "name": "stdout",
     "output_type": "stream",
     "text": [
      "<class 'pandas.core.frame.DataFrame'>\n",
      "RangeIndex: 23083 entries, 0 to 23082\n",
      "Data columns (total 26 columns):\n",
      " #   Column                   Non-Null Count  Dtype  \n",
      "---  ------                   --------------  -----  \n",
      " 0   NÚMERO PEDIDO            23083 non-null  object \n",
      " 1   ORDEN NÚMERO             23083 non-null  object \n",
      " 2   FECHA ORDEN              23083 non-null  object \n",
      " 3   FECHA ENTREGA            18770 non-null  object \n",
      " 4   FECHA APROBACIÓN         21950 non-null  object \n",
      " 5   CATEGORÍA                23083 non-null  object \n",
      " 6   SUBCATEGORÍA             23083 non-null  object \n",
      " 7   PROVEEDOR                23083 non-null  object \n",
      " 8   USUARIO                  23083 non-null  object \n",
      " 9   USUARIO APROBADOR        21950 non-null  object \n",
      " 10  DIRECCIÓN DE  ENTREGA    23083 non-null  object \n",
      " 11  DIRECCIÓN FACTURACIÓN    10828 non-null  object \n",
      " 12  CENTRO COSTO             16672 non-null  object \n",
      " 13  PRESUPUESTO              18581 non-null  object \n",
      " 14  COMPAÑÍA COMPRADORA      23083 non-null  object \n",
      " 15  ESTADO                   23083 non-null  object \n",
      " 16  PRODUCTO O SERVICIO      23083 non-null  object \n",
      " 17  CÓDIGO PRODUCTO          18223 non-null  object \n",
      " 18  CANTIDAD PEDIDA          23083 non-null  float64\n",
      " 19  CANTIDAD RECIBIDA        16013 non-null  float64\n",
      " 20  PRECIO UNITARIO          23083 non-null  int64  \n",
      " 21  PRECIO UNITARIO + IVA    23083 non-null  int64  \n",
      " 22  IVA                      23083 non-null  int64  \n",
      " 23  TOTAL SIN IVA            23083 non-null  int64  \n",
      " 24  TOTAL + IVA              23083 non-null  int64  \n",
      " 25  FECHA ÚLTIMO MOVIMIENTO  23083 non-null  object \n",
      "dtypes: float64(2), int64(5), object(19)\n",
      "memory usage: 4.6+ MB\n"
     ]
    }
   ],
   "source": [
    "df.info()"
   ]
  },
  {
   "cell_type": "code",
   "execution_count": 498,
   "metadata": {},
   "outputs": [
    {
     "data": {
      "text/html": [
       "<div>\n",
       "<style scoped>\n",
       "    .dataframe tbody tr th:only-of-type {\n",
       "        vertical-align: middle;\n",
       "    }\n",
       "\n",
       "    .dataframe tbody tr th {\n",
       "        vertical-align: top;\n",
       "    }\n",
       "\n",
       "    .dataframe thead th {\n",
       "        text-align: right;\n",
       "    }\n",
       "</style>\n",
       "<table border=\"1\" class=\"dataframe\">\n",
       "  <thead>\n",
       "    <tr style=\"text-align: right;\">\n",
       "      <th></th>\n",
       "      <th>CANTIDAD PEDIDA</th>\n",
       "      <th>CANTIDAD RECIBIDA</th>\n",
       "      <th>PRECIO UNITARIO</th>\n",
       "      <th>PRECIO UNITARIO + IVA</th>\n",
       "      <th>IVA</th>\n",
       "      <th>TOTAL SIN IVA</th>\n",
       "      <th>TOTAL + IVA</th>\n",
       "    </tr>\n",
       "  </thead>\n",
       "  <tbody>\n",
       "    <tr>\n",
       "      <th>count</th>\n",
       "      <td>23,083.00</td>\n",
       "      <td>16,013.00</td>\n",
       "      <td>23,083.00</td>\n",
       "      <td>23,083.00</td>\n",
       "      <td>23,083.00</td>\n",
       "      <td>23,083.00</td>\n",
       "      <td>23,083.00</td>\n",
       "    </tr>\n",
       "    <tr>\n",
       "      <th>mean</th>\n",
       "      <td>191.21</td>\n",
       "      <td>69.84</td>\n",
       "      <td>73,540.38</td>\n",
       "      <td>85,015.53</td>\n",
       "      <td>11,475.14</td>\n",
       "      <td>483,449.90</td>\n",
       "      <td>559,772.43</td>\n",
       "    </tr>\n",
       "    <tr>\n",
       "      <th>std</th>\n",
       "      <td>1,946.64</td>\n",
       "      <td>1,040.93</td>\n",
       "      <td>634,599.71</td>\n",
       "      <td>725,069.08</td>\n",
       "      <td>103,358.93</td>\n",
       "      <td>3,119,915.22</td>\n",
       "      <td>3,538,511.34</td>\n",
       "    </tr>\n",
       "    <tr>\n",
       "      <th>min</th>\n",
       "      <td>0.27</td>\n",
       "      <td>0.00</td>\n",
       "      <td>0.00</td>\n",
       "      <td>0.00</td>\n",
       "      <td>0.00</td>\n",
       "      <td>0.00</td>\n",
       "      <td>0.00</td>\n",
       "    </tr>\n",
       "    <tr>\n",
       "      <th>25%</th>\n",
       "      <td>2.00</td>\n",
       "      <td>2.00</td>\n",
       "      <td>1,921.00</td>\n",
       "      <td>2,130.00</td>\n",
       "      <td>100.00</td>\n",
       "      <td>30,252.00</td>\n",
       "      <td>35,000.00</td>\n",
       "    </tr>\n",
       "    <tr>\n",
       "      <th>50%</th>\n",
       "      <td>7.00</td>\n",
       "      <td>5.00</td>\n",
       "      <td>12,500.00</td>\n",
       "      <td>13,500.00</td>\n",
       "      <td>1,132.00</td>\n",
       "      <td>93,630.00</td>\n",
       "      <td>108,000.00</td>\n",
       "    </tr>\n",
       "    <tr>\n",
       "      <th>75%</th>\n",
       "      <td>40.00</td>\n",
       "      <td>18.00</td>\n",
       "      <td>35,294.00</td>\n",
       "      <td>40,465.00</td>\n",
       "      <td>5,732.00</td>\n",
       "      <td>302,521.00</td>\n",
       "      <td>354,798.50</td>\n",
       "    </tr>\n",
       "    <tr>\n",
       "      <th>max</th>\n",
       "      <td>120,000.00</td>\n",
       "      <td>53,620.00</td>\n",
       "      <td>33,242,814.00</td>\n",
       "      <td>39,558,949.00</td>\n",
       "      <td>6,316,135.00</td>\n",
       "      <td>299,185,326.00</td>\n",
       "      <td>356,030,538.00</td>\n",
       "    </tr>\n",
       "  </tbody>\n",
       "</table>\n",
       "</div>"
      ],
      "text/plain": [
       "           CANTIDAD PEDIDA    CANTIDAD RECIBIDA      PRECIO UNITARIO  \\\n",
       "count            23,083.00            16,013.00            23,083.00   \n",
       "mean                191.21                69.84            73,540.38   \n",
       "std               1,946.64             1,040.93           634,599.71   \n",
       "min                   0.27                 0.00                 0.00   \n",
       "25%                   2.00                 2.00             1,921.00   \n",
       "50%                   7.00                 5.00            12,500.00   \n",
       "75%                  40.00                18.00            35,294.00   \n",
       "max             120,000.00            53,620.00        33,242,814.00   \n",
       "\n",
       "       PRECIO UNITARIO + IVA                  IVA        TOTAL SIN IVA  \\\n",
       "count              23,083.00            23,083.00            23,083.00   \n",
       "mean               85,015.53            11,475.14           483,449.90   \n",
       "std               725,069.08           103,358.93         3,119,915.22   \n",
       "min                     0.00                 0.00                 0.00   \n",
       "25%                 2,130.00               100.00            30,252.00   \n",
       "50%                13,500.00             1,132.00            93,630.00   \n",
       "75%                40,465.00             5,732.00           302,521.00   \n",
       "max            39,558,949.00         6,316,135.00       299,185,326.00   \n",
       "\n",
       "               TOTAL + IVA  \n",
       "count            23,083.00  \n",
       "mean            559,772.43  \n",
       "std           3,538,511.34  \n",
       "min                   0.00  \n",
       "25%              35,000.00  \n",
       "50%             108,000.00  \n",
       "75%             354,798.50  \n",
       "max         356,030,538.00  "
      ]
     },
     "execution_count": 498,
     "metadata": {},
     "output_type": "execute_result"
    }
   ],
   "source": [
    "df.describe()"
   ]
  },
  {
   "cell_type": "code",
   "execution_count": null,
   "metadata": {},
   "outputs": [],
   "source": []
  },
  {
   "cell_type": "markdown",
   "metadata": {},
   "source": [
    "# DATA PREPARATION"
   ]
  },
  {
   "cell_type": "markdown",
   "metadata": {},
   "source": [
    "# 1. Data integration"
   ]
  },
  {
   "cell_type": "markdown",
   "metadata": {},
   "source": [
    "There are no more data integration to join. I have only the .xlsx file"
   ]
  },
  {
   "cell_type": "markdown",
   "metadata": {},
   "source": [
    "# 2. IRELEVANT VARIABLES"
   ]
  },
  {
   "cell_type": "markdown",
   "metadata": {},
   "source": [
    "## 2.1 Irrelevant columns"
   ]
  },
  {
   "cell_type": "markdown",
   "metadata": {},
   "source": [
    "Until we know the objective of this project, we couldn´t drop some variables, but for now, let´s do a clasical ML model"
   ]
  },
  {
   "cell_type": "code",
   "execution_count": 499,
   "metadata": {},
   "outputs": [
    {
     "data": {
      "text/html": [
       "<div>\n",
       "<style scoped>\n",
       "    .dataframe tbody tr th:only-of-type {\n",
       "        vertical-align: middle;\n",
       "    }\n",
       "\n",
       "    .dataframe tbody tr th {\n",
       "        vertical-align: top;\n",
       "    }\n",
       "\n",
       "    .dataframe thead th {\n",
       "        text-align: right;\n",
       "    }\n",
       "</style>\n",
       "<table border=\"1\" class=\"dataframe\">\n",
       "  <thead>\n",
       "    <tr style=\"text-align: right;\">\n",
       "      <th></th>\n",
       "      <th>NÚMERO PEDIDO</th>\n",
       "      <th>ORDEN NÚMERO</th>\n",
       "      <th>FECHA ORDEN</th>\n",
       "      <th>FECHA ENTREGA</th>\n",
       "      <th>FECHA APROBACIÓN</th>\n",
       "      <th>CATEGORÍA</th>\n",
       "      <th>SUBCATEGORÍA</th>\n",
       "      <th>PROVEEDOR</th>\n",
       "      <th>USUARIO</th>\n",
       "      <th>USUARIO APROBADOR</th>\n",
       "      <th>DIRECCIÓN DE  ENTREGA</th>\n",
       "      <th>DIRECCIÓN FACTURACIÓN</th>\n",
       "      <th>CENTRO COSTO</th>\n",
       "      <th>PRESUPUESTO</th>\n",
       "      <th>COMPAÑÍA COMPRADORA</th>\n",
       "      <th>ESTADO</th>\n",
       "      <th>PRODUCTO O SERVICIO</th>\n",
       "      <th>CÓDIGO PRODUCTO</th>\n",
       "      <th>CANTIDAD PEDIDA</th>\n",
       "      <th>CANTIDAD RECIBIDA</th>\n",
       "      <th>PRECIO UNITARIO</th>\n",
       "      <th>PRECIO UNITARIO + IVA</th>\n",
       "      <th>IVA</th>\n",
       "      <th>TOTAL SIN IVA</th>\n",
       "      <th>TOTAL + IVA</th>\n",
       "      <th>FECHA ÚLTIMO MOVIMIENTO</th>\n",
       "    </tr>\n",
       "  </thead>\n",
       "  <tbody>\n",
       "    <tr>\n",
       "      <th>0</th>\n",
       "      <td># 49561</td>\n",
       "      <td># 2582</td>\n",
       "      <td>2021-11-10</td>\n",
       "      <td>2021-11-10</td>\n",
       "      <td>2021-11-10</td>\n",
       "      <td>Eléctricos y Electrónicos</td>\n",
       "      <td>Lámparas y bombillas y componentes para lámparas</td>\n",
       "      <td>Proveedor 1</td>\n",
       "      <td>Usuario solicitante 1</td>\n",
       "      <td>Usuario Aprobador 1</td>\n",
       "      <td>Direccion 1</td>\n",
       "      <td>NaN</td>\n",
       "      <td>Centro de costos 1</td>\n",
       "      <td>Presupuesto 1</td>\n",
       "      <td>Portal comprador 1</td>\n",
       "      <td>Orden en Proceso</td>\n",
       "      <td>PANEL LED SOBREPONER 24W REDONDO LUZ BLANCA</td>\n",
       "      <td>1200035000063</td>\n",
       "      <td>2.00</td>\n",
       "      <td>nan</td>\n",
       "      <td>23364</td>\n",
       "      <td>27803</td>\n",
       "      <td>4439</td>\n",
       "      <td>46728</td>\n",
       "      <td>55606</td>\n",
       "      <td>2021-11-10</td>\n",
       "    </tr>\n",
       "    <tr>\n",
       "      <th>1</th>\n",
       "      <td># 49560</td>\n",
       "      <td># 2581</td>\n",
       "      <td>2021-11-10</td>\n",
       "      <td>2021-11-11</td>\n",
       "      <td>2021-11-10</td>\n",
       "      <td>Mercadeo y publicidad</td>\n",
       "      <td>Publicidad</td>\n",
       "      <td>Proveedor 2</td>\n",
       "      <td>Usuario solicitante 2</td>\n",
       "      <td>Usuario Aprobador 2</td>\n",
       "      <td>Direccion 1</td>\n",
       "      <td>NaN</td>\n",
       "      <td>Centro de costos 2</td>\n",
       "      <td>Presupuesto 2</td>\n",
       "      <td>Portal comprador 1</td>\n",
       "      <td>Recibido</td>\n",
       "      <td>ACTIVIDADES COMERCIALES</td>\n",
       "      <td>1K15774</td>\n",
       "      <td>1.00</td>\n",
       "      <td>1.00</td>\n",
       "      <td>1476972</td>\n",
       "      <td>1757597</td>\n",
       "      <td>280625</td>\n",
       "      <td>1476972</td>\n",
       "      <td>1757597</td>\n",
       "      <td>2021-11-10</td>\n",
       "    </tr>\n",
       "  </tbody>\n",
       "</table>\n",
       "</div>"
      ],
      "text/plain": [
       "  NÚMERO PEDIDO ORDEN NÚMERO FECHA ORDEN FECHA ENTREGA FECHA APROBACIÓN  \\\n",
       "0       # 49561       # 2582  2021-11-10    2021-11-10       2021-11-10   \n",
       "1       # 49560       # 2581  2021-11-10    2021-11-11       2021-11-10   \n",
       "\n",
       "                   CATEGORÍA  \\\n",
       "0  Eléctricos y Electrónicos   \n",
       "1      Mercadeo y publicidad   \n",
       "\n",
       "                                       SUBCATEGORÍA    PROVEEDOR  \\\n",
       "0  Lámparas y bombillas y componentes para lámparas  Proveedor 1   \n",
       "1                                        Publicidad  Proveedor 2   \n",
       "\n",
       "                 USUARIO    USUARIO APROBADOR DIRECCIÓN DE  ENTREGA  \\\n",
       "0  Usuario solicitante 1  Usuario Aprobador 1           Direccion 1   \n",
       "1  Usuario solicitante 2  Usuario Aprobador 2           Direccion 1   \n",
       "\n",
       "  DIRECCIÓN FACTURACIÓN        CENTRO COSTO    PRESUPUESTO  \\\n",
       "0                   NaN  Centro de costos 1  Presupuesto 1   \n",
       "1                   NaN  Centro de costos 2  Presupuesto 2   \n",
       "\n",
       "  COMPAÑÍA COMPRADORA            ESTADO  \\\n",
       "0  Portal comprador 1  Orden en Proceso   \n",
       "1  Portal comprador 1          Recibido   \n",
       "\n",
       "                            PRODUCTO O SERVICIO CÓDIGO PRODUCTO  \\\n",
       "0  PANEL LED SOBREPONER 24W REDONDO LUZ BLANCA    1200035000063   \n",
       "1                       ACTIVIDADES COMERCIALES         1K15774   \n",
       "\n",
       "       CANTIDAD PEDIDA    CANTIDAD RECIBIDA  PRECIO UNITARIO  \\\n",
       "0                 2.00                  nan            23364   \n",
       "1                 1.00                 1.00          1476972   \n",
       "\n",
       "   PRECIO UNITARIO + IVA     IVA  TOTAL SIN IVA  TOTAL + IVA  \\\n",
       "0                  27803    4439          46728        55606   \n",
       "1                1757597  280625        1476972      1757597   \n",
       "\n",
       "  FECHA ÚLTIMO MOVIMIENTO  \n",
       "0              2021-11-10  \n",
       "1              2021-11-10  "
      ]
     },
     "execution_count": 499,
     "metadata": {},
     "output_type": "execute_result"
    }
   ],
   "source": [
    "df.head(2)"
   ]
  },
  {
   "cell_type": "code",
   "execution_count": 500,
   "metadata": {},
   "outputs": [
    {
     "name": "stdout",
     "output_type": "stream",
     "text": [
      "------------------ NÚMERO PEDIDO ------------------\n",
      "# 47594                   0.53\n",
      "# 47595                   0.53\n",
      "# 47951                   0.52\n",
      "# 49268                   0.48\n",
      "# 48135                   0.32\n",
      "                  ...         \n",
      "# 45868                   0.00\n",
      "# 49104                   0.00\n",
      "# 47329                   0.00\n",
      "# 32700                   0.00\n",
      "# 48402                   0.00\n",
      "Name: NÚMERO PEDIDO, Length: 7133, dtype: float64\n",
      "------------------ ORDEN NÚMERO ------------------\n",
      "# 3                      0.83\n",
      "# 4                      0.76\n",
      "# 7                      0.72\n",
      "# 22                     0.58\n",
      "# 2                      0.51\n",
      "                 ...         \n",
      "# 1911                   0.00\n",
      "# 2394                   0.00\n",
      "# 1940                   0.00\n",
      "# 2015                   0.00\n",
      "# 2276                   0.00\n",
      "Name: ORDEN NÚMERO, Length: 2584, dtype: float64\n",
      "------------------ FECHA ORDEN ------------------\n",
      "2019-11-30                   1.79\n",
      "2019-12-02                   1.47\n",
      "2019-11-28                   1.47\n",
      "2019-11-27                   1.39\n",
      "2019-11-29                   1.22\n",
      "                     ...         \n",
      "2019-10-18                   0.00\n",
      "2020-03-26                   0.00\n",
      "2018-11-22                   0.00\n",
      "2020-12-12                   0.00\n",
      "2019-02-27                   0.00\n",
      "Name: FECHA ORDEN, Length: 727, dtype: float64\n",
      "------------------ FECHA ENTREGA ------------------\n",
      "2019-11-30                   2.20\n",
      "2019-12-02                   1.81\n",
      "2019-11-28                   1.81\n",
      "2019-11-27                   1.71\n",
      "2019-11-29                   1.50\n",
      "                     ...         \n",
      "2021-11-27                   0.01\n",
      "2020-06-11                   0.01\n",
      "2020-05-30                   0.01\n",
      "2020-07-10                   0.01\n",
      "2020-10-06                   0.01\n",
      "Name: FECHA ENTREGA, Length: 531, dtype: float64\n",
      "------------------ FECHA APROBACIÓN ------------------\n",
      "2020-01-24                  22.42\n",
      "2020-02-13                   3.13\n",
      "2020-06-10                   2.36\n",
      "2021-10-28                   1.08\n",
      "2021-08-05                   0.87\n",
      "                     ...         \n",
      "2018-09-28                   0.00\n",
      "2021-06-14                   0.00\n",
      "2019-10-04                   0.00\n",
      "2018-05-10                   0.00\n",
      "2020-11-28                   0.00\n",
      "Name: FECHA APROBACIÓN, Length: 645, dtype: float64\n",
      "------------------ CATEGORÍA ------------------\n",
      "Alimentos y Bebidas                                          30.07\n",
      "Vigilancia y seguridad industrial                            29.19\n",
      "Aseo, Cafetería y Oficina                                    16.63\n",
      "Dotación y elementos de protección personal                   5.19\n",
      "Ferreteria                                                    3.42\n",
      "Almacenamiento y empaques                                     2.00\n",
      "Vehículos y repuestos                                         1.59\n",
      "Químicos y derivados                                          1.55\n",
      "Construcción y Mantenimiento                                  1.27\n",
      "Servicios Profesionales                                       1.07\n",
      "Mercadeo y publicidad                                         0.92\n",
      "Manufactura                                                   0.89\n",
      "Logística y transporte                                        0.82\n",
      "Eléctricos y Electrónicos                                     0.74\n",
      "Mobiliario y decoración                                       0.71\n",
      "Tecnología e información                                      0.67\n",
      "Textiles                                                      0.65\n",
      "Moda y accesorios                                             0.63\n",
      "Imprenta y litografía                                         0.42\n",
      "Ingeniería e Investigación                                    0.40\n",
      "Compras Sostenibles                                           0.21\n",
      "Gestión ambiental                                             0.19\n",
      "Salud y Medicina                                              0.19\n",
      "Hogar y electrodomésticos                                     0.15\n",
      "Vigilancia y seguridad                                        0.13\n",
      "Viajes, Eventos y Entretenimiento                             0.07\n",
      "Medicina y Salud                                              0.06\n",
      "Cuidado personal y Belleza                                    0.03\n",
      "Deporte y recreación                                          0.03\n",
      "Servicios Públicos                                            0.03\n",
      "Agroindustrial                                                0.02\n",
      "Generación y distribución de Energía                          0.02\n",
      "Minería                                                       0.02\n",
      "Gestión inmobiliaria                                          0.02\n",
      "Educación y formación empresarial                             0.00\n",
      "Producción audiovisual                                        0.00\n",
      "Name: CATEGORÍA, dtype: float64\n",
      "------------------ SUBCATEGORÍA ------------------\n",
      "Seguridad y protección personal                                  29.17\n",
      "Alimentos preparados y conservados                                9.72\n",
      "Elementos de aseo y limpieza                                      8.65\n",
      "Elementos de papelería                                            7.01\n",
      "Bebidas                                                           5.75\n",
      "                                                          ...         \n",
      "Calefacción, ventilación y circulación del aire                   0.00\n",
      "Carrocerías y remolques                                           0.00\n",
      "Piezas fundidas maquinadas                                        0.00\n",
      "Generación de energía                                             0.00\n",
      "Medios impresos                                                   0.00\n",
      "Name: SUBCATEGORÍA, Length: 149, dtype: float64\n",
      "------------------ PROVEEDOR ------------------\n",
      "Proveedor 301                  26.54\n",
      "Proveedor 59                    6.72\n",
      "Proveedor 28                    6.15\n",
      "Proveedor 26                    5.27\n",
      "Proveedor 321                   4.21\n",
      "                        ...         \n",
      "Proveedor 312                   0.00\n",
      "Proveedor 69                    0.00\n",
      "Proveedor 259                   0.00\n",
      "Proveedor 174                   0.00\n",
      "Proveedor 404                   0.00\n",
      "Name: PROVEEDOR, Length: 405, dtype: float64\n",
      "------------------ USUARIO ------------------\n",
      "Usuario solicitante 122                  26.54\n",
      "Usuario solicitante 129                  14.40\n",
      "Usuario solicitante 4                     9.55\n",
      "Usuario solicitante 67                    6.94\n",
      "Usuario solicitante 11                    4.68\n",
      "                                  ...         \n",
      "Usuario solicitante 123                   0.00\n",
      "Usuario solicitante 121                   0.00\n",
      "Usuario solicitante 112                   0.00\n",
      "Usuario solicitante 5                     0.00\n",
      "Usuario solicitante 98                    0.00\n",
      "Name: USUARIO, Length: 136, dtype: float64\n",
      "------------------ USUARIO APROBADOR ------------------\n",
      "Usuario Aprobador 60                  27.91\n",
      "Usuario Aprobador 66                  15.05\n",
      "Usuario Aprobador 4                    9.77\n",
      "Usuario Aprobador 38                   6.83\n",
      "Usuario Aprobador 6                    6.48\n",
      "                               ...         \n",
      "Usuario Aprobador 71                   0.00\n",
      "Usuario Aprobador 43                   0.00\n",
      "Usuario Aprobador 47                   0.00\n",
      "Usuario Aprobador 65                   0.00\n",
      "Usuario Aprobador 5                    0.00\n",
      "Name: USUARIO APROBADOR, Length: 72, dtype: float64\n",
      "------------------ DIRECCIÓN DE  ENTREGA ------------------\n",
      "Direccion 3                    14.52\n",
      "Direccion 163                  14.40\n",
      "Direccion 2                     7.94\n",
      "Direccion 1                     6.11\n",
      "Direccion 43                    5.11\n",
      "                        ...         \n",
      "Direccion 44                    0.00\n",
      "Direccion 4                     0.00\n",
      "Direccion 85                    0.00\n",
      "Direccion 50                    0.00\n",
      "Direccion 167                   0.00\n",
      "Name: DIRECCIÓN DE  ENTREGA, Length: 177, dtype: float64\n",
      "------------------ DIRECCIÓN FACTURACIÓN ------------------\n",
      "Direccion facturacion 97                   30.69\n",
      "Direccion facturacion 98                    7.02\n",
      "Direccion facturacion 30                    5.27\n",
      "Direccion facturacion 42                    3.93\n",
      "Direccion facturacion 28                    3.12\n",
      "                                    ...         \n",
      "Direccion facturacion 110                   0.01\n",
      "Direccion facturacion 108                   0.01\n",
      "Direccion facturacion 111                   0.01\n",
      "Direccion facturacion 25                    0.01\n",
      "Direccion facturacion 19                    0.01\n",
      "Name: DIRECCIÓN FACTURACIÓN, Length: 112, dtype: float64\n",
      "------------------ CENTRO COSTO ------------------\n",
      "Centro de costos 4                    10.63\n",
      "Centro de costos 45                    9.79\n",
      "Centro de costos 27                    7.18\n",
      "Centro de costos 11                    4.53\n",
      "Centro de costos 12                    4.30\n",
      "                               ...         \n",
      "Centro de costos 72                    0.01\n",
      "Centro de costos 144                   0.01\n",
      "Centro de costos 41                    0.01\n",
      "Centro de costos 73                    0.01\n",
      "Centro de costos 49                    0.01\n",
      "Name: CENTRO COSTO, Length: 230, dtype: float64\n",
      "------------------ PRESUPUESTO ------------------\n",
      "Presupuesto 711                  17.94\n",
      "Presupuesto 719                  11.18\n",
      "Presupuesto 330                   1.84\n",
      "Presupuesto 395                   1.09\n",
      "Presupuesto 539                   1.00\n",
      "                          ...         \n",
      "Presupuesto 530                   0.01\n",
      "Presupuesto 29                    0.01\n",
      "Presupuesto 362                   0.01\n",
      "Presupuesto 523                   0.01\n",
      "Presupuesto 391                   0.01\n",
      "Name: PRESUPUESTO, Length: 921, dtype: float64\n",
      "------------------ COMPAÑÍA COMPRADORA ------------------\n",
      "Portal comprador 1                   28.43\n",
      "Portal comprador 24                  26.54\n",
      "Portal comprador 2                   16.74\n",
      "Portal comprador 29                  14.40\n",
      "Portal comprador 6                    3.68\n",
      "Portal comprador 30                   3.29\n",
      "Portal comprador 4                    1.56\n",
      "Portal comprador 8                    1.38\n",
      "Portal comprador 5                    1.28\n",
      "Portal comprador 12                   0.93\n",
      "Portal comprador 18                   0.39\n",
      "Portal comprador 10                   0.30\n",
      "Portal comprador 7                    0.28\n",
      "Portal comprador 11                   0.22\n",
      "Portal comprador 27                   0.15\n",
      "Portal comprador 13                   0.14\n",
      "Portal comprador 20                   0.12\n",
      "Portal comprador 31                   0.07\n",
      "Portal comprador 21                   0.02\n",
      "Portal comprador 32                   0.01\n",
      "Portal comprador 28                   0.01\n",
      "Portal comprador 26                   0.01\n",
      "Portal comprador 14                   0.01\n",
      "Portal comprador 19                   0.00\n",
      "Portal comprador 15                   0.00\n",
      "Portal comprador 23                   0.00\n",
      "Portal comprador 22                   0.00\n",
      "Portal comprador 17                   0.00\n",
      "Portal comprador 25                   0.00\n",
      "Portal comprador 16                   0.00\n",
      "Portal comprador 3                    0.00\n",
      "Portal comprador 9                    0.00\n",
      "Portal comprador 33                   0.00\n",
      "Name: COMPAÑÍA COMPRADORA, dtype: float64\n",
      "------------------ ESTADO ------------------\n",
      "Recibido                               64.46\n",
      "Orden en Proceso                       21.12\n",
      "Cancelado                               4.93\n",
      "Orden Rechazada                         4.38\n",
      "Finalizado Incompleto                   4.05\n",
      "Recibido Parcial                        0.71\n",
      "Pendiente por Aprobar                   0.22\n",
      "Orden Confirmada                        0.06\n",
      "Enviado                                 0.05\n",
      "Name: ESTADO, dtype: float64\n",
      "------------------ PRODUCTO O SERVICIO ------------------\n",
      "6 Bota de seguridad media caña dielectrica con puntera de seguridad                       4.05\n",
      "85 Overol industrial                                                                      1.55\n",
      "7 Botas de caucho con puntera negra caña alta                                             1.15\n",
      "8 Bota pvc de seguridad caña alta, dielectrica con puntera de seguridad                   1.08\n",
      "46 Guantes nitrilo azul no esteriles                                                      0.81\n",
      "                                                                                  ...         \n",
      "Corazones Mini                                                                            0.00\n",
      "Linterna Recargable                                                                       0.00\n",
      "BOQUILLA ENGRASADORA DE 1/8 TRABAJO PESADO                                                0.00\n",
      "MOSQUETON ACERO 50 KN CSA Z259.12 EN 362.2004 ANZ                                         0.00\n",
      "Base Tarrina x 20 Und 4Oz con Tapa                                                        0.00\n",
      "Name: PRODUCTO O SERVICIO, Length: 3445, dtype: float64\n",
      "------------------ CÓDIGO PRODUCTO ------------------\n",
      "289988                    5.14\n",
      "247989                    1.96\n",
      "289989                    1.46\n",
      "289990                    1.37\n",
      "290155                    1.03\n",
      "                  ...         \n",
      "PPA002                    0.01\n",
      "SIAMESA                   0.01\n",
      "1K5752                    0.01\n",
      "1K11152                   0.01\n",
      "1K11205                   0.01\n",
      "Name: CÓDIGO PRODUCTO, Length: 2896, dtype: float64\n",
      "------------------ CANTIDAD PEDIDA ------------------\n",
      "    1.00                  19.20\n",
      "    2.00                  10.48\n",
      "    3.00                   6.06\n",
      "   10.00                   5.61\n",
      "    5.00                   5.24\n",
      "                   ...         \n",
      "  369.00                   0.00\n",
      "  113.00                   0.00\n",
      "1,435.00                   0.00\n",
      "  124.01                   0.00\n",
      "2,880.00                   0.00\n",
      "Name: CANTIDAD PEDIDA, Length: 403, dtype: float64\n",
      "------------------ CANTIDAD RECIBIDA ------------------\n",
      "  1.00                  21.21\n",
      "  2.00                  11.60\n",
      "  3.00                   7.08\n",
      "  5.00                   6.20\n",
      " 10.00                   6.12\n",
      "                 ...         \n",
      "622.00                   0.01\n",
      "330.00                   0.01\n",
      "318.00                   0.01\n",
      "650.00                   0.01\n",
      "369.00                   0.01\n",
      "Name: CANTIDAD RECIBIDA, Length: 382, dtype: float64\n",
      "------------------ PRECIO UNITARIO ------------------\n",
      "86555                     3.39\n",
      "62222                     1.45\n",
      "61067                     1.15\n",
      "38655                     1.08\n",
      "1282                      0.98\n",
      "                  ...         \n",
      "280                       0.00\n",
      "16704                     0.00\n",
      "1204548                   0.00\n",
      "328                       0.00\n",
      "216                       0.00\n",
      "Name: PRECIO UNITARIO, Length: 2371, dtype: float64\n",
      "------------------ PRECIO UNITARIO + IVA ------------------\n",
      "103000                     3.64\n",
      "74044                      1.52\n",
      "72670                      1.15\n",
      "6000                       1.07\n",
      "1525                       0.98\n",
      "                   ...         \n",
      "43400                      0.00\n",
      "27264244                   0.00\n",
      "280                        0.00\n",
      "5350                       0.00\n",
      "118256                     0.00\n",
      "Name: PRECIO UNITARIO + IVA, Length: 2443, dtype: float64\n",
      "------------------ IVA ------------------\n",
      "0                       17.41\n",
      "16445                    4.05\n",
      "11822                    1.55\n",
      "11603                    1.15\n",
      "243                      0.98\n",
      "                 ...         \n",
      "3641                     0.00\n",
      "48687                    0.00\n",
      "124372                   0.00\n",
      "21954                    0.00\n",
      "16720                    0.00\n",
      "Name: IVA, Length: 1827, dtype: float64\n",
      "------------------ TOTAL SIN IVA ------------------\n",
      "6000                     0.37\n",
      "432773                   0.36\n",
      "86554                    0.35\n",
      "173109                   0.35\n",
      "865546                   0.33\n",
      "                 ...         \n",
      "95685                    0.00\n",
      "237000                   0.00\n",
      "3530                     0.00\n",
      "22                       0.00\n",
      "12282                    0.00\n",
      "Name: TOTAL SIN IVA, Length: 6281, dtype: float64\n",
      "------------------ TOTAL + IVA ------------------\n",
      "206000                     0.37\n",
      "6000                       0.36\n",
      "515000                     0.36\n",
      "102999                     0.35\n",
      "1030000                    0.33\n",
      "                   ...         \n",
      "714714                     0.00\n",
      "84564                      0.00\n",
      "641664                     0.00\n",
      "1431500                    0.00\n",
      "28536152                   0.00\n",
      "Name: TOTAL + IVA, Length: 6333, dtype: float64\n",
      "------------------ FECHA ÚLTIMO MOVIMIENTO ------------------\n",
      "2020-01-24                  21.32\n",
      "2020-02-13                   2.98\n",
      "2020-06-10                   2.26\n",
      "2020-12-29                   1.26\n",
      "2021-05-20                   1.09\n",
      "                     ...         \n",
      "2020-12-15                   0.00\n",
      "2021-01-16                   0.00\n",
      "2020-02-03                   0.00\n",
      "2020-09-14                   0.00\n",
      "2021-11-01                   0.00\n",
      "Name: FECHA ÚLTIMO MOVIMIENTO, Length: 626, dtype: float64\n"
     ]
    }
   ],
   "source": [
    "for i in df.columns:\n",
    "    print('------------------', i, '------------------' )\n",
    "    percentage = df[i].value_counts()/df[i].count()*100\n",
    "    \n",
    "    print(percentage)"
   ]
  },
  {
   "cell_type": "code",
   "execution_count": 501,
   "metadata": {},
   "outputs": [],
   "source": [
    "df.columns = df.columns.str.replace(' ', '_')"
   ]
  },
  {
   "cell_type": "code",
   "execution_count": 502,
   "metadata": {},
   "outputs": [
    {
     "data": {
      "text/plain": [
       "Index(['NÚMERO_PEDIDO', 'ORDEN_NÚMERO', 'FECHA_ORDEN', 'FECHA_ENTREGA',\n",
       "       'FECHA_APROBACIÓN', 'CATEGORÍA', 'SUBCATEGORÍA', 'PROVEEDOR', 'USUARIO',\n",
       "       'USUARIO_APROBADOR', 'DIRECCIÓN_DE__ENTREGA', 'DIRECCIÓN_FACTURACIÓN',\n",
       "       'CENTRO_COSTO', 'PRESUPUESTO', 'COMPAÑÍA_COMPRADORA', 'ESTADO',\n",
       "       'PRODUCTO_O_SERVICIO', 'CÓDIGO_PRODUCTO', 'CANTIDAD_PEDIDA',\n",
       "       'CANTIDAD_RECIBIDA', 'PRECIO_UNITARIO', 'PRECIO_UNITARIO_+_IVA', 'IVA',\n",
       "       'TOTAL_SIN_IVA', 'TOTAL_+_IVA', 'FECHA_ÚLTIMO_MOVIMIENTO'],\n",
       "      dtype='object')"
      ]
     },
     "execution_count": 502,
     "metadata": {},
     "output_type": "execute_result"
    }
   ],
   "source": [
    "df.columns"
   ]
  },
  {
   "cell_type": "code",
   "execution_count": 503,
   "metadata": {},
   "outputs": [],
   "source": [
    "cols_to_drop = ['USUARIO', 'USUARIO_APROBADOR', 'DIRECCIÓN_DE__ENTREGA', 'DIRECCIÓN_FACTURACIÓN']"
   ]
  },
  {
   "cell_type": "code",
   "execution_count": 504,
   "metadata": {},
   "outputs": [],
   "source": [
    "df.drop(cols_to_drop, inplace=True, axis=1)"
   ]
  },
  {
   "cell_type": "code",
   "execution_count": 505,
   "metadata": {},
   "outputs": [
    {
     "name": "stdout",
     "output_type": "stream",
     "text": [
      "<class 'pandas.core.frame.DataFrame'>\n",
      "RangeIndex: 23083 entries, 0 to 23082\n",
      "Data columns (total 22 columns):\n",
      " #   Column                   Non-Null Count  Dtype  \n",
      "---  ------                   --------------  -----  \n",
      " 0   NÚMERO_PEDIDO            23083 non-null  object \n",
      " 1   ORDEN_NÚMERO             23083 non-null  object \n",
      " 2   FECHA_ORDEN              23083 non-null  object \n",
      " 3   FECHA_ENTREGA            18770 non-null  object \n",
      " 4   FECHA_APROBACIÓN         21950 non-null  object \n",
      " 5   CATEGORÍA                23083 non-null  object \n",
      " 6   SUBCATEGORÍA             23083 non-null  object \n",
      " 7   PROVEEDOR                23083 non-null  object \n",
      " 8   CENTRO_COSTO             16672 non-null  object \n",
      " 9   PRESUPUESTO              18581 non-null  object \n",
      " 10  COMPAÑÍA_COMPRADORA      23083 non-null  object \n",
      " 11  ESTADO                   23083 non-null  object \n",
      " 12  PRODUCTO_O_SERVICIO      23083 non-null  object \n",
      " 13  CÓDIGO_PRODUCTO          18223 non-null  object \n",
      " 14  CANTIDAD_PEDIDA          23083 non-null  float64\n",
      " 15  CANTIDAD_RECIBIDA        16013 non-null  float64\n",
      " 16  PRECIO_UNITARIO          23083 non-null  int64  \n",
      " 17  PRECIO_UNITARIO_+_IVA    23083 non-null  int64  \n",
      " 18  IVA                      23083 non-null  int64  \n",
      " 19  TOTAL_SIN_IVA            23083 non-null  int64  \n",
      " 20  TOTAL_+_IVA              23083 non-null  int64  \n",
      " 21  FECHA_ÚLTIMO_MOVIMIENTO  23083 non-null  object \n",
      "dtypes: float64(2), int64(5), object(15)\n",
      "memory usage: 3.9+ MB\n"
     ]
    }
   ],
   "source": [
    "df.info()"
   ]
  },
  {
   "cell_type": "markdown",
   "metadata": {},
   "source": [
    "## 2.2 Duplicated rows"
   ]
  },
  {
   "cell_type": "code",
   "execution_count": 506,
   "metadata": {},
   "outputs": [
    {
     "data": {
      "text/plain": [
       "691"
      ]
     },
     "execution_count": 506,
     "metadata": {},
     "output_type": "execute_result"
    }
   ],
   "source": [
    "df.duplicated(keep='first').sum()"
   ]
  },
  {
   "cell_type": "code",
   "execution_count": 507,
   "metadata": {},
   "outputs": [],
   "source": [
    "df.drop_duplicates(keep='first', inplace=True)"
   ]
  },
  {
   "cell_type": "code",
   "execution_count": 508,
   "metadata": {},
   "outputs": [
    {
     "name": "stdout",
     "output_type": "stream",
     "text": [
      "<class 'pandas.core.frame.DataFrame'>\n",
      "Int64Index: 22392 entries, 0 to 23082\n",
      "Data columns (total 22 columns):\n",
      " #   Column                   Non-Null Count  Dtype  \n",
      "---  ------                   --------------  -----  \n",
      " 0   NÚMERO_PEDIDO            22392 non-null  object \n",
      " 1   ORDEN_NÚMERO             22392 non-null  object \n",
      " 2   FECHA_ORDEN              22392 non-null  object \n",
      " 3   FECHA_ENTREGA            18082 non-null  object \n",
      " 4   FECHA_APROBACIÓN         21259 non-null  object \n",
      " 5   CATEGORÍA                22392 non-null  object \n",
      " 6   SUBCATEGORÍA             22392 non-null  object \n",
      " 7   PROVEEDOR                22392 non-null  object \n",
      " 8   CENTRO_COSTO             15984 non-null  object \n",
      " 9   PRESUPUESTO              17890 non-null  object \n",
      " 10  COMPAÑÍA_COMPRADORA      22392 non-null  object \n",
      " 11  ESTADO                   22392 non-null  object \n",
      " 12  PRODUCTO_O_SERVICIO      22392 non-null  object \n",
      " 13  CÓDIGO_PRODUCTO          17535 non-null  object \n",
      " 14  CANTIDAD_PEDIDA          22392 non-null  float64\n",
      " 15  CANTIDAD_RECIBIDA        15325 non-null  float64\n",
      " 16  PRECIO_UNITARIO          22392 non-null  int64  \n",
      " 17  PRECIO_UNITARIO_+_IVA    22392 non-null  int64  \n",
      " 18  IVA                      22392 non-null  int64  \n",
      " 19  TOTAL_SIN_IVA            22392 non-null  int64  \n",
      " 20  TOTAL_+_IVA              22392 non-null  int64  \n",
      " 21  FECHA_ÚLTIMO_MOVIMIENTO  22392 non-null  object \n",
      "dtypes: float64(2), int64(5), object(15)\n",
      "memory usage: 3.9+ MB\n"
     ]
    }
   ],
   "source": [
    "df.info()"
   ]
  },
  {
   "cell_type": "markdown",
   "metadata": {},
   "source": [
    "# 3. STATISTICAL DESCRIPTION"
   ]
  },
  {
   "cell_type": "code",
   "execution_count": 509,
   "metadata": {},
   "outputs": [
    {
     "data": {
      "text/html": [
       "<div>\n",
       "<style scoped>\n",
       "    .dataframe tbody tr th:only-of-type {\n",
       "        vertical-align: middle;\n",
       "    }\n",
       "\n",
       "    .dataframe tbody tr th {\n",
       "        vertical-align: top;\n",
       "    }\n",
       "\n",
       "    .dataframe thead th {\n",
       "        text-align: right;\n",
       "    }\n",
       "</style>\n",
       "<table border=\"1\" class=\"dataframe\">\n",
       "  <thead>\n",
       "    <tr style=\"text-align: right;\">\n",
       "      <th></th>\n",
       "      <th>CANTIDAD_PEDIDA</th>\n",
       "      <th>CANTIDAD_RECIBIDA</th>\n",
       "      <th>PRECIO_UNITARIO</th>\n",
       "      <th>PRECIO_UNITARIO_+_IVA</th>\n",
       "      <th>IVA</th>\n",
       "      <th>TOTAL_SIN_IVA</th>\n",
       "      <th>TOTAL_+_IVA</th>\n",
       "    </tr>\n",
       "  </thead>\n",
       "  <tbody>\n",
       "    <tr>\n",
       "      <th>count</th>\n",
       "      <td>22,392.00</td>\n",
       "      <td>15,325.00</td>\n",
       "      <td>22,392.00</td>\n",
       "      <td>22,392.00</td>\n",
       "      <td>22,392.00</td>\n",
       "      <td>22,392.00</td>\n",
       "      <td>22,392.00</td>\n",
       "    </tr>\n",
       "    <tr>\n",
       "      <th>mean</th>\n",
       "      <td>196.68</td>\n",
       "      <td>72.36</td>\n",
       "      <td>74,075.31</td>\n",
       "      <td>85,575.02</td>\n",
       "      <td>11,499.70</td>\n",
       "      <td>477,558.94</td>\n",
       "      <td>552,282.85</td>\n",
       "    </tr>\n",
       "    <tr>\n",
       "      <th>std</th>\n",
       "      <td>1,976.19</td>\n",
       "      <td>1,063.97</td>\n",
       "      <td>644,263.68</td>\n",
       "      <td>736,107.65</td>\n",
       "      <td>104,931.32</td>\n",
       "      <td>3,160,637.57</td>\n",
       "      <td>3,583,857.05</td>\n",
       "    </tr>\n",
       "    <tr>\n",
       "      <th>min</th>\n",
       "      <td>0.27</td>\n",
       "      <td>0.00</td>\n",
       "      <td>0.00</td>\n",
       "      <td>0.00</td>\n",
       "      <td>0.00</td>\n",
       "      <td>0.00</td>\n",
       "      <td>0.00</td>\n",
       "    </tr>\n",
       "    <tr>\n",
       "      <th>25%</th>\n",
       "      <td>2.00</td>\n",
       "      <td>2.00</td>\n",
       "      <td>1,861.00</td>\n",
       "      <td>2,100.00</td>\n",
       "      <td>93.00</td>\n",
       "      <td>29,412.00</td>\n",
       "      <td>33,911.25</td>\n",
       "    </tr>\n",
       "    <tr>\n",
       "      <th>50%</th>\n",
       "      <td>7.00</td>\n",
       "      <td>5.00</td>\n",
       "      <td>11,400.00</td>\n",
       "      <td>13,000.00</td>\n",
       "      <td>1,040.00</td>\n",
       "      <td>90,756.00</td>\n",
       "      <td>104,697.00</td>\n",
       "    </tr>\n",
       "    <tr>\n",
       "      <th>75%</th>\n",
       "      <td>40.00</td>\n",
       "      <td>19.00</td>\n",
       "      <td>32,222.00</td>\n",
       "      <td>37,970.75</td>\n",
       "      <td>5,588.00</td>\n",
       "      <td>294,118.00</td>\n",
       "      <td>337,949.00</td>\n",
       "    </tr>\n",
       "    <tr>\n",
       "      <th>max</th>\n",
       "      <td>120,000.00</td>\n",
       "      <td>53,620.00</td>\n",
       "      <td>33,242,814.00</td>\n",
       "      <td>39,558,949.00</td>\n",
       "      <td>6,316,135.00</td>\n",
       "      <td>299,185,326.00</td>\n",
       "      <td>356,030,538.00</td>\n",
       "    </tr>\n",
       "  </tbody>\n",
       "</table>\n",
       "</div>"
      ],
      "text/plain": [
       "           CANTIDAD_PEDIDA    CANTIDAD_RECIBIDA      PRECIO_UNITARIO  \\\n",
       "count            22,392.00            15,325.00            22,392.00   \n",
       "mean                196.68                72.36            74,075.31   \n",
       "std               1,976.19             1,063.97           644,263.68   \n",
       "min                   0.27                 0.00                 0.00   \n",
       "25%                   2.00                 2.00             1,861.00   \n",
       "50%                   7.00                 5.00            11,400.00   \n",
       "75%                  40.00                19.00            32,222.00   \n",
       "max             120,000.00            53,620.00        33,242,814.00   \n",
       "\n",
       "       PRECIO_UNITARIO_+_IVA                  IVA        TOTAL_SIN_IVA  \\\n",
       "count              22,392.00            22,392.00            22,392.00   \n",
       "mean               85,575.02            11,499.70           477,558.94   \n",
       "std               736,107.65           104,931.32         3,160,637.57   \n",
       "min                     0.00                 0.00                 0.00   \n",
       "25%                 2,100.00                93.00            29,412.00   \n",
       "50%                13,000.00             1,040.00            90,756.00   \n",
       "75%                37,970.75             5,588.00           294,118.00   \n",
       "max            39,558,949.00         6,316,135.00       299,185,326.00   \n",
       "\n",
       "               TOTAL_+_IVA  \n",
       "count            22,392.00  \n",
       "mean            552,282.85  \n",
       "std           3,583,857.05  \n",
       "min                   0.00  \n",
       "25%              33,911.25  \n",
       "50%             104,697.00  \n",
       "75%             337,949.00  \n",
       "max         356,030,538.00  "
      ]
     },
     "execution_count": 509,
     "metadata": {},
     "output_type": "execute_result"
    }
   ],
   "source": [
    "df.describe()"
   ]
  },
  {
   "cell_type": "code",
   "execution_count": 510,
   "metadata": {},
   "outputs": [],
   "source": [
    "df['PRECIO_UNITARIO'] = pd.to_numeric(df['PRECIO_UNITARIO'], downcast=\"float\")\n",
    "\n",
    "df['PRECIO_UNITARIO_+_IVA'] = pd.to_numeric(df['PRECIO_UNITARIO_+_IVA'], downcast=\"float\")\n",
    "\n",
    "df['TOTAL_SIN_IVA'] = pd.to_numeric(df['TOTAL_SIN_IVA'], downcast=\"float\")\n",
    "\n",
    "df['TOTAL_+_IVA'] = pd.to_numeric(df['TOTAL_+_IVA'], downcast=\"float\")\n"
   ]
  },
  {
   "cell_type": "code",
   "execution_count": 511,
   "metadata": {},
   "outputs": [
    {
     "data": {
      "text/html": [
       "<div>\n",
       "<style scoped>\n",
       "    .dataframe tbody tr th:only-of-type {\n",
       "        vertical-align: middle;\n",
       "    }\n",
       "\n",
       "    .dataframe tbody tr th {\n",
       "        vertical-align: top;\n",
       "    }\n",
       "\n",
       "    .dataframe thead th {\n",
       "        text-align: right;\n",
       "    }\n",
       "</style>\n",
       "<table border=\"1\" class=\"dataframe\">\n",
       "  <thead>\n",
       "    <tr style=\"text-align: right;\">\n",
       "      <th></th>\n",
       "      <th>CANTIDAD_PEDIDA</th>\n",
       "      <th>CANTIDAD_RECIBIDA</th>\n",
       "      <th>PRECIO_UNITARIO</th>\n",
       "      <th>PRECIO_UNITARIO_+_IVA</th>\n",
       "      <th>IVA</th>\n",
       "      <th>TOTAL_SIN_IVA</th>\n",
       "      <th>TOTAL_+_IVA</th>\n",
       "    </tr>\n",
       "  </thead>\n",
       "  <tbody>\n",
       "    <tr>\n",
       "      <th>count</th>\n",
       "      <td>22,392.00</td>\n",
       "      <td>15,325.00</td>\n",
       "      <td>22,392.00</td>\n",
       "      <td>22,392.00</td>\n",
       "      <td>22,392.00</td>\n",
       "      <td>22,392.00</td>\n",
       "      <td>22,392.00</td>\n",
       "    </tr>\n",
       "    <tr>\n",
       "      <th>mean</th>\n",
       "      <td>196.68</td>\n",
       "      <td>72.36</td>\n",
       "      <td>74,073.20</td>\n",
       "      <td>85,578.17</td>\n",
       "      <td>11,499.70</td>\n",
       "      <td>477,558.03</td>\n",
       "      <td>552,286.12</td>\n",
       "    </tr>\n",
       "    <tr>\n",
       "      <th>std</th>\n",
       "      <td>1,976.19</td>\n",
       "      <td>1,063.97</td>\n",
       "      <td>644,253.06</td>\n",
       "      <td>736,123.81</td>\n",
       "      <td>104,931.32</td>\n",
       "      <td>3,160,620.25</td>\n",
       "      <td>3,583,836.25</td>\n",
       "    </tr>\n",
       "    <tr>\n",
       "      <th>min</th>\n",
       "      <td>0.27</td>\n",
       "      <td>0.00</td>\n",
       "      <td>0.00</td>\n",
       "      <td>0.00</td>\n",
       "      <td>0.00</td>\n",
       "      <td>0.00</td>\n",
       "      <td>0.00</td>\n",
       "    </tr>\n",
       "    <tr>\n",
       "      <th>25%</th>\n",
       "      <td>2.00</td>\n",
       "      <td>2.00</td>\n",
       "      <td>1,861.00</td>\n",
       "      <td>2,100.00</td>\n",
       "      <td>93.00</td>\n",
       "      <td>29,412.00</td>\n",
       "      <td>33,911.25</td>\n",
       "    </tr>\n",
       "    <tr>\n",
       "      <th>50%</th>\n",
       "      <td>7.00</td>\n",
       "      <td>5.00</td>\n",
       "      <td>11,400.00</td>\n",
       "      <td>13,000.00</td>\n",
       "      <td>1,040.00</td>\n",
       "      <td>90,756.00</td>\n",
       "      <td>104,697.00</td>\n",
       "    </tr>\n",
       "    <tr>\n",
       "      <th>75%</th>\n",
       "      <td>40.00</td>\n",
       "      <td>19.00</td>\n",
       "      <td>32,222.00</td>\n",
       "      <td>37,970.75</td>\n",
       "      <td>5,588.00</td>\n",
       "      <td>294,118.00</td>\n",
       "      <td>337,949.00</td>\n",
       "    </tr>\n",
       "    <tr>\n",
       "      <th>max</th>\n",
       "      <td>120,000.00</td>\n",
       "      <td>53,620.00</td>\n",
       "      <td>33,242,814.00</td>\n",
       "      <td>39,558,948.00</td>\n",
       "      <td>6,316,135.00</td>\n",
       "      <td>299,185,312.00</td>\n",
       "      <td>356,030,528.00</td>\n",
       "    </tr>\n",
       "  </tbody>\n",
       "</table>\n",
       "</div>"
      ],
      "text/plain": [
       "           CANTIDAD_PEDIDA    CANTIDAD_RECIBIDA      PRECIO_UNITARIO  \\\n",
       "count            22,392.00            15,325.00            22,392.00   \n",
       "mean                196.68                72.36            74,073.20   \n",
       "std               1,976.19             1,063.97           644,253.06   \n",
       "min                   0.27                 0.00                 0.00   \n",
       "25%                   2.00                 2.00             1,861.00   \n",
       "50%                   7.00                 5.00            11,400.00   \n",
       "75%                  40.00                19.00            32,222.00   \n",
       "max             120,000.00            53,620.00        33,242,814.00   \n",
       "\n",
       "       PRECIO_UNITARIO_+_IVA                  IVA        TOTAL_SIN_IVA  \\\n",
       "count              22,392.00            22,392.00            22,392.00   \n",
       "mean               85,578.17            11,499.70           477,558.03   \n",
       "std               736,123.81           104,931.32         3,160,620.25   \n",
       "min                     0.00                 0.00                 0.00   \n",
       "25%                 2,100.00                93.00            29,412.00   \n",
       "50%                13,000.00             1,040.00            90,756.00   \n",
       "75%                37,970.75             5,588.00           294,118.00   \n",
       "max            39,558,948.00         6,316,135.00       299,185,312.00   \n",
       "\n",
       "               TOTAL_+_IVA  \n",
       "count            22,392.00  \n",
       "mean            552,286.12  \n",
       "std           3,583,836.25  \n",
       "min                   0.00  \n",
       "25%              33,911.25  \n",
       "50%             104,697.00  \n",
       "75%             337,949.00  \n",
       "max         356,030,528.00  "
      ]
     },
     "execution_count": 511,
     "metadata": {},
     "output_type": "execute_result"
    }
   ],
   "source": [
    "df.describe()"
   ]
  },
  {
   "cell_type": "code",
   "execution_count": 512,
   "metadata": {},
   "outputs": [
    {
     "name": "stdout",
     "output_type": "stream",
     "text": [
      "<class 'pandas.core.frame.DataFrame'>\n",
      "Int64Index: 22392 entries, 0 to 23082\n",
      "Data columns (total 22 columns):\n",
      " #   Column                   Non-Null Count  Dtype  \n",
      "---  ------                   --------------  -----  \n",
      " 0   NÚMERO_PEDIDO            22392 non-null  object \n",
      " 1   ORDEN_NÚMERO             22392 non-null  object \n",
      " 2   FECHA_ORDEN              22392 non-null  object \n",
      " 3   FECHA_ENTREGA            18082 non-null  object \n",
      " 4   FECHA_APROBACIÓN         21259 non-null  object \n",
      " 5   CATEGORÍA                22392 non-null  object \n",
      " 6   SUBCATEGORÍA             22392 non-null  object \n",
      " 7   PROVEEDOR                22392 non-null  object \n",
      " 8   CENTRO_COSTO             15984 non-null  object \n",
      " 9   PRESUPUESTO              17890 non-null  object \n",
      " 10  COMPAÑÍA_COMPRADORA      22392 non-null  object \n",
      " 11  ESTADO                   22392 non-null  object \n",
      " 12  PRODUCTO_O_SERVICIO      22392 non-null  object \n",
      " 13  CÓDIGO_PRODUCTO          17535 non-null  object \n",
      " 14  CANTIDAD_PEDIDA          22392 non-null  float64\n",
      " 15  CANTIDAD_RECIBIDA        15325 non-null  float64\n",
      " 16  PRECIO_UNITARIO          22392 non-null  float32\n",
      " 17  PRECIO_UNITARIO_+_IVA    22392 non-null  float32\n",
      " 18  IVA                      22392 non-null  int64  \n",
      " 19  TOTAL_SIN_IVA            22392 non-null  float32\n",
      " 20  TOTAL_+_IVA              22392 non-null  float32\n",
      " 21  FECHA_ÚLTIMO_MOVIMIENTO  22392 non-null  object \n",
      "dtypes: float32(4), float64(2), int64(1), object(15)\n",
      "memory usage: 3.6+ MB\n"
     ]
    }
   ],
   "source": [
    "df.info()"
   ]
  },
  {
   "cell_type": "code",
   "execution_count": 513,
   "metadata": {},
   "outputs": [],
   "source": [
    "df['FECHA_ORDEN'] = pd.to_datetime(df['FECHA_ORDEN'], format='%Y-%m-%d')\n",
    "df['FECHA_ENTREGA'] = pd.to_datetime(df['FECHA_ENTREGA'], format='%Y-%m-%d')\n",
    "df['FECHA_APROBACIÓN'] = pd.to_datetime(df['FECHA_APROBACIÓN'], format='%Y-%m-%d')\n",
    "df['FECHA_ÚLTIMO_MOVIMIENTO'] = pd.to_datetime(df['FECHA_ÚLTIMO_MOVIMIENTO'], format='%Y-%m-%d')"
   ]
  },
  {
   "cell_type": "code",
   "execution_count": 514,
   "metadata": {},
   "outputs": [
    {
     "name": "stdout",
     "output_type": "stream",
     "text": [
      "<class 'pandas.core.frame.DataFrame'>\n",
      "Int64Index: 22392 entries, 0 to 23082\n",
      "Data columns (total 22 columns):\n",
      " #   Column                   Non-Null Count  Dtype         \n",
      "---  ------                   --------------  -----         \n",
      " 0   NÚMERO_PEDIDO            22392 non-null  object        \n",
      " 1   ORDEN_NÚMERO             22392 non-null  object        \n",
      " 2   FECHA_ORDEN              22392 non-null  datetime64[ns]\n",
      " 3   FECHA_ENTREGA            18082 non-null  datetime64[ns]\n",
      " 4   FECHA_APROBACIÓN         21259 non-null  datetime64[ns]\n",
      " 5   CATEGORÍA                22392 non-null  object        \n",
      " 6   SUBCATEGORÍA             22392 non-null  object        \n",
      " 7   PROVEEDOR                22392 non-null  object        \n",
      " 8   CENTRO_COSTO             15984 non-null  object        \n",
      " 9   PRESUPUESTO              17890 non-null  object        \n",
      " 10  COMPAÑÍA_COMPRADORA      22392 non-null  object        \n",
      " 11  ESTADO                   22392 non-null  object        \n",
      " 12  PRODUCTO_O_SERVICIO      22392 non-null  object        \n",
      " 13  CÓDIGO_PRODUCTO          17535 non-null  object        \n",
      " 14  CANTIDAD_PEDIDA          22392 non-null  float64       \n",
      " 15  CANTIDAD_RECIBIDA        15325 non-null  float64       \n",
      " 16  PRECIO_UNITARIO          22392 non-null  float32       \n",
      " 17  PRECIO_UNITARIO_+_IVA    22392 non-null  float32       \n",
      " 18  IVA                      22392 non-null  int64         \n",
      " 19  TOTAL_SIN_IVA            22392 non-null  float32       \n",
      " 20  TOTAL_+_IVA              22392 non-null  float32       \n",
      " 21  FECHA_ÚLTIMO_MOVIMIENTO  22392 non-null  datetime64[ns]\n",
      "dtypes: datetime64[ns](4), float32(4), float64(2), int64(1), object(11)\n",
      "memory usage: 3.6+ MB\n"
     ]
    }
   ],
   "source": [
    "df.info()"
   ]
  },
  {
   "cell_type": "code",
   "execution_count": 515,
   "metadata": {},
   "outputs": [
    {
     "data": {
      "text/html": [
       "<div>\n",
       "<style scoped>\n",
       "    .dataframe tbody tr th:only-of-type {\n",
       "        vertical-align: middle;\n",
       "    }\n",
       "\n",
       "    .dataframe tbody tr th {\n",
       "        vertical-align: top;\n",
       "    }\n",
       "\n",
       "    .dataframe thead th {\n",
       "        text-align: right;\n",
       "    }\n",
       "</style>\n",
       "<table border=\"1\" class=\"dataframe\">\n",
       "  <thead>\n",
       "    <tr style=\"text-align: right;\">\n",
       "      <th></th>\n",
       "      <th>CANTIDAD_PEDIDA</th>\n",
       "      <th>CANTIDAD_RECIBIDA</th>\n",
       "      <th>PRECIO_UNITARIO</th>\n",
       "      <th>PRECIO_UNITARIO_+_IVA</th>\n",
       "      <th>IVA</th>\n",
       "      <th>TOTAL_SIN_IVA</th>\n",
       "      <th>TOTAL_+_IVA</th>\n",
       "    </tr>\n",
       "    <tr>\n",
       "      <th>FECHA_ORDEN</th>\n",
       "      <th></th>\n",
       "      <th></th>\n",
       "      <th></th>\n",
       "      <th></th>\n",
       "      <th></th>\n",
       "      <th></th>\n",
       "      <th></th>\n",
       "    </tr>\n",
       "  </thead>\n",
       "  <tbody>\n",
       "    <tr>\n",
       "      <th>2018-12-31</th>\n",
       "      <td>2,825,660.70</td>\n",
       "      <td>962.00</td>\n",
       "      <td>56,846,176.00</td>\n",
       "      <td>67,314,232.00</td>\n",
       "      <td>10468057</td>\n",
       "      <td>660,102,848.00</td>\n",
       "      <td>777,996,160.00</td>\n",
       "    </tr>\n",
       "    <tr>\n",
       "      <th>2019-12-31</th>\n",
       "      <td>500,896.00</td>\n",
       "      <td>167,714.00</td>\n",
       "      <td>169,135,712.00</td>\n",
       "      <td>196,795,760.00</td>\n",
       "      <td>27660022</td>\n",
       "      <td>2,787,268,864.00</td>\n",
       "      <td>3,311,606,272.00</td>\n",
       "    </tr>\n",
       "    <tr>\n",
       "      <th>2020-12-31</th>\n",
       "      <td>298,243.78</td>\n",
       "      <td>261,158.96</td>\n",
       "      <td>158,323,184.00</td>\n",
       "      <td>184,166,880.00</td>\n",
       "      <td>25843618</td>\n",
       "      <td>2,755,058,176.00</td>\n",
       "      <td>3,222,523,648.00</td>\n",
       "    </tr>\n",
       "    <tr>\n",
       "      <th>2021-12-31</th>\n",
       "      <td>779,247.15</td>\n",
       "      <td>679,086.10</td>\n",
       "      <td>1,274,389,248.00</td>\n",
       "      <td>1,467,918,848.00</td>\n",
       "      <td>193529656</td>\n",
       "      <td>4,491,069,952.00</td>\n",
       "      <td>5,054,591,488.00</td>\n",
       "    </tr>\n",
       "  </tbody>\n",
       "</table>\n",
       "</div>"
      ],
      "text/plain": [
       "                 CANTIDAD_PEDIDA    CANTIDAD_RECIBIDA      PRECIO_UNITARIO  \\\n",
       "FECHA_ORDEN                                                                  \n",
       "2018-12-31          2,825,660.70               962.00        56,846,176.00   \n",
       "2019-12-31            500,896.00           167,714.00       169,135,712.00   \n",
       "2020-12-31            298,243.78           261,158.96       158,323,184.00   \n",
       "2021-12-31            779,247.15           679,086.10     1,274,389,248.00   \n",
       "\n",
       "             PRECIO_UNITARIO_+_IVA        IVA        TOTAL_SIN_IVA  \\\n",
       "FECHA_ORDEN                                                          \n",
       "2018-12-31           67,314,232.00   10468057       660,102,848.00   \n",
       "2019-12-31          196,795,760.00   27660022     2,787,268,864.00   \n",
       "2020-12-31          184,166,880.00   25843618     2,755,058,176.00   \n",
       "2021-12-31        1,467,918,848.00  193529656     4,491,069,952.00   \n",
       "\n",
       "                     TOTAL_+_IVA  \n",
       "FECHA_ORDEN                       \n",
       "2018-12-31        777,996,160.00  \n",
       "2019-12-31      3,311,606,272.00  \n",
       "2020-12-31      3,222,523,648.00  \n",
       "2021-12-31      5,054,591,488.00  "
      ]
     },
     "execution_count": 515,
     "metadata": {},
     "output_type": "execute_result"
    }
   ],
   "source": [
    "df_Y = df.groupby(pd.Grouper(key='FECHA_ORDEN', freq=\"Y\")).sum()\n",
    "df_Y.head()"
   ]
  },
  {
   "cell_type": "markdown",
   "metadata": {},
   "source": [
    "## By year"
   ]
  },
  {
   "cell_type": "code",
   "execution_count": 516,
   "metadata": {},
   "outputs": [
    {
     "data": {
      "application/vnd.plotly.v1+json": {
       "config": {
        "plotlyServerURL": "https://plot.ly"
       },
       "data": [
        {
         "alignmentgroup": "True",
         "hovertemplate": "FECHA_ORDEN=%{x}<br>TOTAL_+_IVA=%{y}<extra></extra>",
         "legendgroup": "",
         "marker": {
          "color": "#636efa",
          "pattern": {
           "shape": ""
          }
         },
         "name": "",
         "offsetgroup": "",
         "orientation": "v",
         "showlegend": false,
         "textposition": "auto",
         "type": "bar",
         "x": [
          "2018-12-31T00:00:00",
          "2019-12-31T00:00:00",
          "2020-12-31T00:00:00",
          "2021-12-31T00:00:00"
         ],
         "xaxis": "x",
         "y": [
          777996160,
          3311606272,
          3222523648,
          5054591488
         ],
         "yaxis": "y"
        }
       ],
       "layout": {
        "barmode": "relative",
        "legend": {
         "tracegroupgap": 0
        },
        "margin": {
         "t": 60
        },
        "template": {
         "data": {
          "bar": [
           {
            "error_x": {
             "color": "#2a3f5f"
            },
            "error_y": {
             "color": "#2a3f5f"
            },
            "marker": {
             "line": {
              "color": "#E5ECF6",
              "width": 0.5
             },
             "pattern": {
              "fillmode": "overlay",
              "size": 10,
              "solidity": 0.2
             }
            },
            "type": "bar"
           }
          ],
          "barpolar": [
           {
            "marker": {
             "line": {
              "color": "#E5ECF6",
              "width": 0.5
             },
             "pattern": {
              "fillmode": "overlay",
              "size": 10,
              "solidity": 0.2
             }
            },
            "type": "barpolar"
           }
          ],
          "carpet": [
           {
            "aaxis": {
             "endlinecolor": "#2a3f5f",
             "gridcolor": "white",
             "linecolor": "white",
             "minorgridcolor": "white",
             "startlinecolor": "#2a3f5f"
            },
            "baxis": {
             "endlinecolor": "#2a3f5f",
             "gridcolor": "white",
             "linecolor": "white",
             "minorgridcolor": "white",
             "startlinecolor": "#2a3f5f"
            },
            "type": "carpet"
           }
          ],
          "choropleth": [
           {
            "colorbar": {
             "outlinewidth": 0,
             "ticks": ""
            },
            "type": "choropleth"
           }
          ],
          "contour": [
           {
            "colorbar": {
             "outlinewidth": 0,
             "ticks": ""
            },
            "colorscale": [
             [
              0,
              "#0d0887"
             ],
             [
              0.1111111111111111,
              "#46039f"
             ],
             [
              0.2222222222222222,
              "#7201a8"
             ],
             [
              0.3333333333333333,
              "#9c179e"
             ],
             [
              0.4444444444444444,
              "#bd3786"
             ],
             [
              0.5555555555555556,
              "#d8576b"
             ],
             [
              0.6666666666666666,
              "#ed7953"
             ],
             [
              0.7777777777777778,
              "#fb9f3a"
             ],
             [
              0.8888888888888888,
              "#fdca26"
             ],
             [
              1,
              "#f0f921"
             ]
            ],
            "type": "contour"
           }
          ],
          "contourcarpet": [
           {
            "colorbar": {
             "outlinewidth": 0,
             "ticks": ""
            },
            "type": "contourcarpet"
           }
          ],
          "heatmap": [
           {
            "colorbar": {
             "outlinewidth": 0,
             "ticks": ""
            },
            "colorscale": [
             [
              0,
              "#0d0887"
             ],
             [
              0.1111111111111111,
              "#46039f"
             ],
             [
              0.2222222222222222,
              "#7201a8"
             ],
             [
              0.3333333333333333,
              "#9c179e"
             ],
             [
              0.4444444444444444,
              "#bd3786"
             ],
             [
              0.5555555555555556,
              "#d8576b"
             ],
             [
              0.6666666666666666,
              "#ed7953"
             ],
             [
              0.7777777777777778,
              "#fb9f3a"
             ],
             [
              0.8888888888888888,
              "#fdca26"
             ],
             [
              1,
              "#f0f921"
             ]
            ],
            "type": "heatmap"
           }
          ],
          "heatmapgl": [
           {
            "colorbar": {
             "outlinewidth": 0,
             "ticks": ""
            },
            "colorscale": [
             [
              0,
              "#0d0887"
             ],
             [
              0.1111111111111111,
              "#46039f"
             ],
             [
              0.2222222222222222,
              "#7201a8"
             ],
             [
              0.3333333333333333,
              "#9c179e"
             ],
             [
              0.4444444444444444,
              "#bd3786"
             ],
             [
              0.5555555555555556,
              "#d8576b"
             ],
             [
              0.6666666666666666,
              "#ed7953"
             ],
             [
              0.7777777777777778,
              "#fb9f3a"
             ],
             [
              0.8888888888888888,
              "#fdca26"
             ],
             [
              1,
              "#f0f921"
             ]
            ],
            "type": "heatmapgl"
           }
          ],
          "histogram": [
           {
            "marker": {
             "pattern": {
              "fillmode": "overlay",
              "size": 10,
              "solidity": 0.2
             }
            },
            "type": "histogram"
           }
          ],
          "histogram2d": [
           {
            "colorbar": {
             "outlinewidth": 0,
             "ticks": ""
            },
            "colorscale": [
             [
              0,
              "#0d0887"
             ],
             [
              0.1111111111111111,
              "#46039f"
             ],
             [
              0.2222222222222222,
              "#7201a8"
             ],
             [
              0.3333333333333333,
              "#9c179e"
             ],
             [
              0.4444444444444444,
              "#bd3786"
             ],
             [
              0.5555555555555556,
              "#d8576b"
             ],
             [
              0.6666666666666666,
              "#ed7953"
             ],
             [
              0.7777777777777778,
              "#fb9f3a"
             ],
             [
              0.8888888888888888,
              "#fdca26"
             ],
             [
              1,
              "#f0f921"
             ]
            ],
            "type": "histogram2d"
           }
          ],
          "histogram2dcontour": [
           {
            "colorbar": {
             "outlinewidth": 0,
             "ticks": ""
            },
            "colorscale": [
             [
              0,
              "#0d0887"
             ],
             [
              0.1111111111111111,
              "#46039f"
             ],
             [
              0.2222222222222222,
              "#7201a8"
             ],
             [
              0.3333333333333333,
              "#9c179e"
             ],
             [
              0.4444444444444444,
              "#bd3786"
             ],
             [
              0.5555555555555556,
              "#d8576b"
             ],
             [
              0.6666666666666666,
              "#ed7953"
             ],
             [
              0.7777777777777778,
              "#fb9f3a"
             ],
             [
              0.8888888888888888,
              "#fdca26"
             ],
             [
              1,
              "#f0f921"
             ]
            ],
            "type": "histogram2dcontour"
           }
          ],
          "mesh3d": [
           {
            "colorbar": {
             "outlinewidth": 0,
             "ticks": ""
            },
            "type": "mesh3d"
           }
          ],
          "parcoords": [
           {
            "line": {
             "colorbar": {
              "outlinewidth": 0,
              "ticks": ""
             }
            },
            "type": "parcoords"
           }
          ],
          "pie": [
           {
            "automargin": true,
            "type": "pie"
           }
          ],
          "scatter": [
           {
            "marker": {
             "colorbar": {
              "outlinewidth": 0,
              "ticks": ""
             }
            },
            "type": "scatter"
           }
          ],
          "scatter3d": [
           {
            "line": {
             "colorbar": {
              "outlinewidth": 0,
              "ticks": ""
             }
            },
            "marker": {
             "colorbar": {
              "outlinewidth": 0,
              "ticks": ""
             }
            },
            "type": "scatter3d"
           }
          ],
          "scattercarpet": [
           {
            "marker": {
             "colorbar": {
              "outlinewidth": 0,
              "ticks": ""
             }
            },
            "type": "scattercarpet"
           }
          ],
          "scattergeo": [
           {
            "marker": {
             "colorbar": {
              "outlinewidth": 0,
              "ticks": ""
             }
            },
            "type": "scattergeo"
           }
          ],
          "scattergl": [
           {
            "marker": {
             "colorbar": {
              "outlinewidth": 0,
              "ticks": ""
             }
            },
            "type": "scattergl"
           }
          ],
          "scattermapbox": [
           {
            "marker": {
             "colorbar": {
              "outlinewidth": 0,
              "ticks": ""
             }
            },
            "type": "scattermapbox"
           }
          ],
          "scatterpolar": [
           {
            "marker": {
             "colorbar": {
              "outlinewidth": 0,
              "ticks": ""
             }
            },
            "type": "scatterpolar"
           }
          ],
          "scatterpolargl": [
           {
            "marker": {
             "colorbar": {
              "outlinewidth": 0,
              "ticks": ""
             }
            },
            "type": "scatterpolargl"
           }
          ],
          "scatterternary": [
           {
            "marker": {
             "colorbar": {
              "outlinewidth": 0,
              "ticks": ""
             }
            },
            "type": "scatterternary"
           }
          ],
          "surface": [
           {
            "colorbar": {
             "outlinewidth": 0,
             "ticks": ""
            },
            "colorscale": [
             [
              0,
              "#0d0887"
             ],
             [
              0.1111111111111111,
              "#46039f"
             ],
             [
              0.2222222222222222,
              "#7201a8"
             ],
             [
              0.3333333333333333,
              "#9c179e"
             ],
             [
              0.4444444444444444,
              "#bd3786"
             ],
             [
              0.5555555555555556,
              "#d8576b"
             ],
             [
              0.6666666666666666,
              "#ed7953"
             ],
             [
              0.7777777777777778,
              "#fb9f3a"
             ],
             [
              0.8888888888888888,
              "#fdca26"
             ],
             [
              1,
              "#f0f921"
             ]
            ],
            "type": "surface"
           }
          ],
          "table": [
           {
            "cells": {
             "fill": {
              "color": "#EBF0F8"
             },
             "line": {
              "color": "white"
             }
            },
            "header": {
             "fill": {
              "color": "#C8D4E3"
             },
             "line": {
              "color": "white"
             }
            },
            "type": "table"
           }
          ]
         },
         "layout": {
          "annotationdefaults": {
           "arrowcolor": "#2a3f5f",
           "arrowhead": 0,
           "arrowwidth": 1
          },
          "autotypenumbers": "strict",
          "coloraxis": {
           "colorbar": {
            "outlinewidth": 0,
            "ticks": ""
           }
          },
          "colorscale": {
           "diverging": [
            [
             0,
             "#8e0152"
            ],
            [
             0.1,
             "#c51b7d"
            ],
            [
             0.2,
             "#de77ae"
            ],
            [
             0.3,
             "#f1b6da"
            ],
            [
             0.4,
             "#fde0ef"
            ],
            [
             0.5,
             "#f7f7f7"
            ],
            [
             0.6,
             "#e6f5d0"
            ],
            [
             0.7,
             "#b8e186"
            ],
            [
             0.8,
             "#7fbc41"
            ],
            [
             0.9,
             "#4d9221"
            ],
            [
             1,
             "#276419"
            ]
           ],
           "sequential": [
            [
             0,
             "#0d0887"
            ],
            [
             0.1111111111111111,
             "#46039f"
            ],
            [
             0.2222222222222222,
             "#7201a8"
            ],
            [
             0.3333333333333333,
             "#9c179e"
            ],
            [
             0.4444444444444444,
             "#bd3786"
            ],
            [
             0.5555555555555556,
             "#d8576b"
            ],
            [
             0.6666666666666666,
             "#ed7953"
            ],
            [
             0.7777777777777778,
             "#fb9f3a"
            ],
            [
             0.8888888888888888,
             "#fdca26"
            ],
            [
             1,
             "#f0f921"
            ]
           ],
           "sequentialminus": [
            [
             0,
             "#0d0887"
            ],
            [
             0.1111111111111111,
             "#46039f"
            ],
            [
             0.2222222222222222,
             "#7201a8"
            ],
            [
             0.3333333333333333,
             "#9c179e"
            ],
            [
             0.4444444444444444,
             "#bd3786"
            ],
            [
             0.5555555555555556,
             "#d8576b"
            ],
            [
             0.6666666666666666,
             "#ed7953"
            ],
            [
             0.7777777777777778,
             "#fb9f3a"
            ],
            [
             0.8888888888888888,
             "#fdca26"
            ],
            [
             1,
             "#f0f921"
            ]
           ]
          },
          "colorway": [
           "#636efa",
           "#EF553B",
           "#00cc96",
           "#ab63fa",
           "#FFA15A",
           "#19d3f3",
           "#FF6692",
           "#B6E880",
           "#FF97FF",
           "#FECB52"
          ],
          "font": {
           "color": "#2a3f5f"
          },
          "geo": {
           "bgcolor": "white",
           "lakecolor": "white",
           "landcolor": "#E5ECF6",
           "showlakes": true,
           "showland": true,
           "subunitcolor": "white"
          },
          "hoverlabel": {
           "align": "left"
          },
          "hovermode": "closest",
          "mapbox": {
           "style": "light"
          },
          "paper_bgcolor": "white",
          "plot_bgcolor": "#E5ECF6",
          "polar": {
           "angularaxis": {
            "gridcolor": "white",
            "linecolor": "white",
            "ticks": ""
           },
           "bgcolor": "#E5ECF6",
           "radialaxis": {
            "gridcolor": "white",
            "linecolor": "white",
            "ticks": ""
           }
          },
          "scene": {
           "xaxis": {
            "backgroundcolor": "#E5ECF6",
            "gridcolor": "white",
            "gridwidth": 2,
            "linecolor": "white",
            "showbackground": true,
            "ticks": "",
            "zerolinecolor": "white"
           },
           "yaxis": {
            "backgroundcolor": "#E5ECF6",
            "gridcolor": "white",
            "gridwidth": 2,
            "linecolor": "white",
            "showbackground": true,
            "ticks": "",
            "zerolinecolor": "white"
           },
           "zaxis": {
            "backgroundcolor": "#E5ECF6",
            "gridcolor": "white",
            "gridwidth": 2,
            "linecolor": "white",
            "showbackground": true,
            "ticks": "",
            "zerolinecolor": "white"
           }
          },
          "shapedefaults": {
           "line": {
            "color": "#2a3f5f"
           }
          },
          "ternary": {
           "aaxis": {
            "gridcolor": "white",
            "linecolor": "white",
            "ticks": ""
           },
           "baxis": {
            "gridcolor": "white",
            "linecolor": "white",
            "ticks": ""
           },
           "bgcolor": "#E5ECF6",
           "caxis": {
            "gridcolor": "white",
            "linecolor": "white",
            "ticks": ""
           }
          },
          "title": {
           "x": 0.05
          },
          "xaxis": {
           "automargin": true,
           "gridcolor": "white",
           "linecolor": "white",
           "ticks": "",
           "title": {
            "standoff": 15
           },
           "zerolinecolor": "white",
           "zerolinewidth": 2
          },
          "yaxis": {
           "automargin": true,
           "gridcolor": "white",
           "linecolor": "white",
           "ticks": "",
           "title": {
            "standoff": 15
           },
           "zerolinecolor": "white",
           "zerolinewidth": 2
          }
         }
        },
        "xaxis": {
         "anchor": "y",
         "domain": [
          0,
          1
         ],
         "title": {
          "text": "FECHA_ORDEN"
         }
        },
        "yaxis": {
         "anchor": "x",
         "domain": [
          0,
          1
         ],
         "title": {
          "text": "TOTAL_+_IVA"
         }
        }
       }
      }
     },
     "metadata": {},
     "output_type": "display_data"
    }
   ],
   "source": [
    "px.bar(df_Y, y='TOTAL_+_IVA')"
   ]
  },
  {
   "cell_type": "markdown",
   "metadata": {},
   "source": [
    "By Month"
   ]
  },
  {
   "cell_type": "code",
   "execution_count": 517,
   "metadata": {},
   "outputs": [
    {
     "data": {
      "text/html": [
       "<div>\n",
       "<style scoped>\n",
       "    .dataframe tbody tr th:only-of-type {\n",
       "        vertical-align: middle;\n",
       "    }\n",
       "\n",
       "    .dataframe tbody tr th {\n",
       "        vertical-align: top;\n",
       "    }\n",
       "\n",
       "    .dataframe thead th {\n",
       "        text-align: right;\n",
       "    }\n",
       "</style>\n",
       "<table border=\"1\" class=\"dataframe\">\n",
       "  <thead>\n",
       "    <tr style=\"text-align: right;\">\n",
       "      <th></th>\n",
       "      <th>CANTIDAD_PEDIDA</th>\n",
       "      <th>CANTIDAD_RECIBIDA</th>\n",
       "      <th>PRECIO_UNITARIO</th>\n",
       "      <th>PRECIO_UNITARIO_+_IVA</th>\n",
       "      <th>IVA</th>\n",
       "      <th>TOTAL_SIN_IVA</th>\n",
       "      <th>TOTAL_+_IVA</th>\n",
       "    </tr>\n",
       "    <tr>\n",
       "      <th>FECHA_ORDEN</th>\n",
       "      <th></th>\n",
       "      <th></th>\n",
       "      <th></th>\n",
       "      <th></th>\n",
       "      <th></th>\n",
       "      <th></th>\n",
       "      <th></th>\n",
       "    </tr>\n",
       "  </thead>\n",
       "  <tbody>\n",
       "    <tr>\n",
       "      <th>2018-04-30</th>\n",
       "      <td>22.00</td>\n",
       "      <td>22.00</td>\n",
       "      <td>126,722.00</td>\n",
       "      <td>150,800.00</td>\n",
       "      <td>24078</td>\n",
       "      <td>643,529.00</td>\n",
       "      <td>765,800.00</td>\n",
       "    </tr>\n",
       "    <tr>\n",
       "      <th>2018-05-31</th>\n",
       "      <td>179,909.93</td>\n",
       "      <td>182.00</td>\n",
       "      <td>17,952,810.00</td>\n",
       "      <td>21,350,712.00</td>\n",
       "      <td>3397901</td>\n",
       "      <td>86,983,344.00</td>\n",
       "      <td>102,661,184.00</td>\n",
       "    </tr>\n",
       "    <tr>\n",
       "      <th>2018-06-30</th>\n",
       "      <td>481,225.57</td>\n",
       "      <td>160.00</td>\n",
       "      <td>16,467,157.00</td>\n",
       "      <td>19,377,512.00</td>\n",
       "      <td>2910354</td>\n",
       "      <td>101,410,232.00</td>\n",
       "      <td>119,429,248.00</td>\n",
       "    </tr>\n",
       "    <tr>\n",
       "      <th>2018-07-31</th>\n",
       "      <td>250,286.19</td>\n",
       "      <td>0.00</td>\n",
       "      <td>12,030,855.00</td>\n",
       "      <td>14,304,519.00</td>\n",
       "      <td>2273663</td>\n",
       "      <td>106,887,144.00</td>\n",
       "      <td>126,593,864.00</td>\n",
       "    </tr>\n",
       "    <tr>\n",
       "      <th>2018-08-31</th>\n",
       "      <td>323,701.00</td>\n",
       "      <td>583.00</td>\n",
       "      <td>3,449,758.00</td>\n",
       "      <td>4,092,738.00</td>\n",
       "      <td>642979</td>\n",
       "      <td>85,446,688.00</td>\n",
       "      <td>100,832,944.00</td>\n",
       "    </tr>\n",
       "    <tr>\n",
       "      <th>2018-09-30</th>\n",
       "      <td>333,671.01</td>\n",
       "      <td>12.00</td>\n",
       "      <td>2,394,064.00</td>\n",
       "      <td>2,796,800.00</td>\n",
       "      <td>402736</td>\n",
       "      <td>80,714,904.00</td>\n",
       "      <td>94,753,432.00</td>\n",
       "    </tr>\n",
       "    <tr>\n",
       "      <th>2018-10-31</th>\n",
       "      <td>450,440.00</td>\n",
       "      <td>0.00</td>\n",
       "      <td>3,675,876.00</td>\n",
       "      <td>4,359,555.00</td>\n",
       "      <td>683678</td>\n",
       "      <td>105,108,312.00</td>\n",
       "      <td>123,832,488.00</td>\n",
       "    </tr>\n",
       "    <tr>\n",
       "      <th>2018-11-30</th>\n",
       "      <td>457,966.00</td>\n",
       "      <td>0.00</td>\n",
       "      <td>466,431.00</td>\n",
       "      <td>547,912.00</td>\n",
       "      <td>81481</td>\n",
       "      <td>55,557,620.00</td>\n",
       "      <td>65,065,628.00</td>\n",
       "    </tr>\n",
       "    <tr>\n",
       "      <th>2018-12-31</th>\n",
       "      <td>348,439.00</td>\n",
       "      <td>3.00</td>\n",
       "      <td>282,501.00</td>\n",
       "      <td>333,688.00</td>\n",
       "      <td>51187</td>\n",
       "      <td>37,351,064.00</td>\n",
       "      <td>44,061,560.00</td>\n",
       "    </tr>\n",
       "    <tr>\n",
       "      <th>2019-01-31</th>\n",
       "      <td>332,937.00</td>\n",
       "      <td>0.00</td>\n",
       "      <td>285,320.00</td>\n",
       "      <td>336,595.00</td>\n",
       "      <td>51275</td>\n",
       "      <td>32,644,728.00</td>\n",
       "      <td>38,456,068.00</td>\n",
       "    </tr>\n",
       "    <tr>\n",
       "      <th>2019-02-28</th>\n",
       "      <td>5.00</td>\n",
       "      <td>5.00</td>\n",
       "      <td>740.00</td>\n",
       "      <td>740.00</td>\n",
       "      <td>0</td>\n",
       "      <td>3,700.00</td>\n",
       "      <td>3,700.00</td>\n",
       "    </tr>\n",
       "    <tr>\n",
       "      <th>2019-03-31</th>\n",
       "      <td>1.00</td>\n",
       "      <td>0.00</td>\n",
       "      <td>22,549,192.00</td>\n",
       "      <td>22,549,192.00</td>\n",
       "      <td>0</td>\n",
       "      <td>22,549,192.00</td>\n",
       "      <td>22,549,192.00</td>\n",
       "    </tr>\n",
       "    <tr>\n",
       "      <th>2019-04-30</th>\n",
       "      <td>9.00</td>\n",
       "      <td>0.00</td>\n",
       "      <td>97,639.00</td>\n",
       "      <td>116,000.00</td>\n",
       "      <td>18361</td>\n",
       "      <td>127,051.00</td>\n",
       "      <td>151,000.00</td>\n",
       "    </tr>\n",
       "    <tr>\n",
       "      <th>2019-05-31</th>\n",
       "      <td>0.00</td>\n",
       "      <td>0.00</td>\n",
       "      <td>0.00</td>\n",
       "      <td>0.00</td>\n",
       "      <td>0</td>\n",
       "      <td>0.00</td>\n",
       "      <td>0.00</td>\n",
       "    </tr>\n",
       "    <tr>\n",
       "      <th>2019-06-30</th>\n",
       "      <td>36.00</td>\n",
       "      <td>19.00</td>\n",
       "      <td>3,463,396.00</td>\n",
       "      <td>4,121,062.00</td>\n",
       "      <td>657666</td>\n",
       "      <td>3,723,850.00</td>\n",
       "      <td>4,429,862.00</td>\n",
       "    </tr>\n",
       "    <tr>\n",
       "      <th>2019-07-31</th>\n",
       "      <td>295.00</td>\n",
       "      <td>141.00</td>\n",
       "      <td>962,808.00</td>\n",
       "      <td>1,101,182.00</td>\n",
       "      <td>138374</td>\n",
       "      <td>3,978,824.00</td>\n",
       "      <td>4,426,688.00</td>\n",
       "    </tr>\n",
       "    <tr>\n",
       "      <th>2019-08-31</th>\n",
       "      <td>0.00</td>\n",
       "      <td>0.00</td>\n",
       "      <td>0.00</td>\n",
       "      <td>0.00</td>\n",
       "      <td>0</td>\n",
       "      <td>0.00</td>\n",
       "      <td>0.00</td>\n",
       "    </tr>\n",
       "    <tr>\n",
       "      <th>2019-09-30</th>\n",
       "      <td>25.00</td>\n",
       "      <td>19.00</td>\n",
       "      <td>218,648.00</td>\n",
       "      <td>241,000.00</td>\n",
       "      <td>22352</td>\n",
       "      <td>1,342,177.00</td>\n",
       "      <td>1,426,000.00</td>\n",
       "    </tr>\n",
       "    <tr>\n",
       "      <th>2019-10-31</th>\n",
       "      <td>68.00</td>\n",
       "      <td>24.00</td>\n",
       "      <td>191,664.00</td>\n",
       "      <td>227,700.00</td>\n",
       "      <td>36036</td>\n",
       "      <td>1,278,445.00</td>\n",
       "      <td>1,518,500.00</td>\n",
       "    </tr>\n",
       "    <tr>\n",
       "      <th>2019-11-30</th>\n",
       "      <td>84,151.00</td>\n",
       "      <td>84,146.00</td>\n",
       "      <td>46,663,312.00</td>\n",
       "      <td>55,529,136.00</td>\n",
       "      <td>8865824</td>\n",
       "      <td>1,132,102,144.00</td>\n",
       "      <td>1,347,206,912.00</td>\n",
       "    </tr>\n",
       "    <tr>\n",
       "      <th>2019-12-31</th>\n",
       "      <td>83,369.00</td>\n",
       "      <td>83,360.00</td>\n",
       "      <td>94,702,984.00</td>\n",
       "      <td>112,573,152.00</td>\n",
       "      <td>17870134</td>\n",
       "      <td>1,589,518,592.00</td>\n",
       "      <td>1,891,438,336.00</td>\n",
       "    </tr>\n",
       "    <tr>\n",
       "      <th>2020-01-31</th>\n",
       "      <td>20,543.00</td>\n",
       "      <td>20,531.00</td>\n",
       "      <td>36,348,304.00</td>\n",
       "      <td>43,234,832.00</td>\n",
       "      <td>6886504</td>\n",
       "      <td>684,580,992.00</td>\n",
       "      <td>814,805,824.00</td>\n",
       "    </tr>\n",
       "    <tr>\n",
       "      <th>2020-02-29</th>\n",
       "      <td>99,804.00</td>\n",
       "      <td>96,719.00</td>\n",
       "      <td>41,096,016.00</td>\n",
       "      <td>48,896,780.00</td>\n",
       "      <td>7800725</td>\n",
       "      <td>1,294,864,768.00</td>\n",
       "      <td>1,560,300,032.00</td>\n",
       "    </tr>\n",
       "    <tr>\n",
       "      <th>2020-03-31</th>\n",
       "      <td>1,285.00</td>\n",
       "      <td>852.00</td>\n",
       "      <td>4,525,672.00</td>\n",
       "      <td>5,384,435.00</td>\n",
       "      <td>858757</td>\n",
       "      <td>51,060,612.00</td>\n",
       "      <td>61,241,924.00</td>\n",
       "    </tr>\n",
       "    <tr>\n",
       "      <th>2020-04-30</th>\n",
       "      <td>618.00</td>\n",
       "      <td>544.00</td>\n",
       "      <td>749,409.00</td>\n",
       "      <td>779,108.00</td>\n",
       "      <td>29699</td>\n",
       "      <td>9,722,532.00</td>\n",
       "      <td>10,174,523.00</td>\n",
       "    </tr>\n",
       "    <tr>\n",
       "      <th>2020-05-31</th>\n",
       "      <td>240.00</td>\n",
       "      <td>175.00</td>\n",
       "      <td>996,320.00</td>\n",
       "      <td>1,151,184.00</td>\n",
       "      <td>154864</td>\n",
       "      <td>4,059,773.00</td>\n",
       "      <td>4,896,204.00</td>\n",
       "    </tr>\n",
       "    <tr>\n",
       "      <th>2020-06-30</th>\n",
       "      <td>2,292.00</td>\n",
       "      <td>2,252.00</td>\n",
       "      <td>3,744,722.00</td>\n",
       "      <td>4,322,673.00</td>\n",
       "      <td>577951</td>\n",
       "      <td>22,541,076.00</td>\n",
       "      <td>25,106,016.00</td>\n",
       "    </tr>\n",
       "    <tr>\n",
       "      <th>2020-07-31</th>\n",
       "      <td>1,354.00</td>\n",
       "      <td>1,309.00</td>\n",
       "      <td>4,004,701.00</td>\n",
       "      <td>4,197,424.00</td>\n",
       "      <td>192723</td>\n",
       "      <td>10,381,840.00</td>\n",
       "      <td>11,078,447.00</td>\n",
       "    </tr>\n",
       "    <tr>\n",
       "      <th>2020-08-31</th>\n",
       "      <td>9,483.00</td>\n",
       "      <td>8,849.00</td>\n",
       "      <td>5,687,497.00</td>\n",
       "      <td>6,421,559.00</td>\n",
       "      <td>734062</td>\n",
       "      <td>49,651,596.00</td>\n",
       "      <td>53,898,920.00</td>\n",
       "    </tr>\n",
       "    <tr>\n",
       "      <th>2020-09-30</th>\n",
       "      <td>37,402.50</td>\n",
       "      <td>25,181.00</td>\n",
       "      <td>6,644,025.00</td>\n",
       "      <td>7,640,382.00</td>\n",
       "      <td>996357</td>\n",
       "      <td>83,557,264.00</td>\n",
       "      <td>91,362,112.00</td>\n",
       "    </tr>\n",
       "    <tr>\n",
       "      <th>2020-10-31</th>\n",
       "      <td>34,516.27</td>\n",
       "      <td>30,262.00</td>\n",
       "      <td>8,352,434.00</td>\n",
       "      <td>9,310,977.00</td>\n",
       "      <td>958543</td>\n",
       "      <td>114,524,352.00</td>\n",
       "      <td>121,007,064.00</td>\n",
       "    </tr>\n",
       "    <tr>\n",
       "      <th>2020-11-30</th>\n",
       "      <td>53,366.60</td>\n",
       "      <td>45,813.65</td>\n",
       "      <td>13,752,106.00</td>\n",
       "      <td>15,121,397.00</td>\n",
       "      <td>1369291</td>\n",
       "      <td>186,020,768.00</td>\n",
       "      <td>194,087,264.00</td>\n",
       "    </tr>\n",
       "    <tr>\n",
       "      <th>2020-12-31</th>\n",
       "      <td>37,339.41</td>\n",
       "      <td>28,671.31</td>\n",
       "      <td>32,421,984.00</td>\n",
       "      <td>37,706,128.00</td>\n",
       "      <td>5284142</td>\n",
       "      <td>244,092,528.00</td>\n",
       "      <td>274,565,280.00</td>\n",
       "    </tr>\n",
       "    <tr>\n",
       "      <th>2021-01-31</th>\n",
       "      <td>51,299.65</td>\n",
       "      <td>38,308.35</td>\n",
       "      <td>23,584,440.00</td>\n",
       "      <td>26,588,708.00</td>\n",
       "      <td>3004268</td>\n",
       "      <td>243,477,568.00</td>\n",
       "      <td>273,727,680.00</td>\n",
       "    </tr>\n",
       "    <tr>\n",
       "      <th>2021-02-28</th>\n",
       "      <td>92,449.30</td>\n",
       "      <td>88,266.40</td>\n",
       "      <td>26,286,168.00</td>\n",
       "      <td>30,147,128.00</td>\n",
       "      <td>3860959</td>\n",
       "      <td>274,992,672.00</td>\n",
       "      <td>301,794,752.00</td>\n",
       "    </tr>\n",
       "    <tr>\n",
       "      <th>2021-03-31</th>\n",
       "      <td>20,805.50</td>\n",
       "      <td>17,075.35</td>\n",
       "      <td>40,688,896.00</td>\n",
       "      <td>46,868,416.00</td>\n",
       "      <td>6179525</td>\n",
       "      <td>149,910,976.00</td>\n",
       "      <td>165,813,152.00</td>\n",
       "    </tr>\n",
       "    <tr>\n",
       "      <th>2021-04-30</th>\n",
       "      <td>43,469.50</td>\n",
       "      <td>37,453.80</td>\n",
       "      <td>128,889,064.00</td>\n",
       "      <td>151,158,976.00</td>\n",
       "      <td>22269916</td>\n",
       "      <td>539,532,736.00</td>\n",
       "      <td>627,096,768.00</td>\n",
       "    </tr>\n",
       "    <tr>\n",
       "      <th>2021-05-31</th>\n",
       "      <td>65,873.00</td>\n",
       "      <td>51,333.30</td>\n",
       "      <td>171,924,944.00</td>\n",
       "      <td>193,702,464.00</td>\n",
       "      <td>21777534</td>\n",
       "      <td>381,226,336.00</td>\n",
       "      <td>423,617,216.00</td>\n",
       "    </tr>\n",
       "    <tr>\n",
       "      <th>2021-06-30</th>\n",
       "      <td>29,749.00</td>\n",
       "      <td>18,387.30</td>\n",
       "      <td>174,404,832.00</td>\n",
       "      <td>194,724,784.00</td>\n",
       "      <td>20319965</td>\n",
       "      <td>1,023,699,712.00</td>\n",
       "      <td>1,121,472,896.00</td>\n",
       "    </tr>\n",
       "    <tr>\n",
       "      <th>2021-07-31</th>\n",
       "      <td>89,269.00</td>\n",
       "      <td>80,448.75</td>\n",
       "      <td>115,662,480.00</td>\n",
       "      <td>133,692,616.00</td>\n",
       "      <td>18030136</td>\n",
       "      <td>424,662,592.00</td>\n",
       "      <td>484,175,008.00</td>\n",
       "    </tr>\n",
       "    <tr>\n",
       "      <th>2021-08-31</th>\n",
       "      <td>93,503.50</td>\n",
       "      <td>82,638.00</td>\n",
       "      <td>155,981,440.00</td>\n",
       "      <td>182,284,032.00</td>\n",
       "      <td>26302592</td>\n",
       "      <td>363,059,520.00</td>\n",
       "      <td>412,318,912.00</td>\n",
       "    </tr>\n",
       "    <tr>\n",
       "      <th>2021-09-30</th>\n",
       "      <td>106,726.50</td>\n",
       "      <td>99,628.30</td>\n",
       "      <td>186,657,328.00</td>\n",
       "      <td>218,468,944.00</td>\n",
       "      <td>31811609</td>\n",
       "      <td>503,067,456.00</td>\n",
       "      <td>576,311,104.00</td>\n",
       "    </tr>\n",
       "    <tr>\n",
       "      <th>2021-10-31</th>\n",
       "      <td>113,394.20</td>\n",
       "      <td>103,559.15</td>\n",
       "      <td>187,089,328.00</td>\n",
       "      <td>217,054,944.00</td>\n",
       "      <td>29965622</td>\n",
       "      <td>431,217,408.00</td>\n",
       "      <td>492,209,792.00</td>\n",
       "    </tr>\n",
       "    <tr>\n",
       "      <th>2021-11-30</th>\n",
       "      <td>72,708.00</td>\n",
       "      <td>61,987.40</td>\n",
       "      <td>63,220,324.00</td>\n",
       "      <td>73,227,848.00</td>\n",
       "      <td>10007530</td>\n",
       "      <td>156,223,120.00</td>\n",
       "      <td>176,054,480.00</td>\n",
       "    </tr>\n",
       "  </tbody>\n",
       "</table>\n",
       "</div>"
      ],
      "text/plain": [
       "                 CANTIDAD_PEDIDA    CANTIDAD_RECIBIDA      PRECIO_UNITARIO  \\\n",
       "FECHA_ORDEN                                                                  \n",
       "2018-04-30                 22.00                22.00           126,722.00   \n",
       "2018-05-31            179,909.93               182.00        17,952,810.00   \n",
       "2018-06-30            481,225.57               160.00        16,467,157.00   \n",
       "2018-07-31            250,286.19                 0.00        12,030,855.00   \n",
       "2018-08-31            323,701.00               583.00         3,449,758.00   \n",
       "2018-09-30            333,671.01                12.00         2,394,064.00   \n",
       "2018-10-31            450,440.00                 0.00         3,675,876.00   \n",
       "2018-11-30            457,966.00                 0.00           466,431.00   \n",
       "2018-12-31            348,439.00                 3.00           282,501.00   \n",
       "2019-01-31            332,937.00                 0.00           285,320.00   \n",
       "2019-02-28                  5.00                 5.00               740.00   \n",
       "2019-03-31                  1.00                 0.00        22,549,192.00   \n",
       "2019-04-30                  9.00                 0.00            97,639.00   \n",
       "2019-05-31                  0.00                 0.00                 0.00   \n",
       "2019-06-30                 36.00                19.00         3,463,396.00   \n",
       "2019-07-31                295.00               141.00           962,808.00   \n",
       "2019-08-31                  0.00                 0.00                 0.00   \n",
       "2019-09-30                 25.00                19.00           218,648.00   \n",
       "2019-10-31                 68.00                24.00           191,664.00   \n",
       "2019-11-30             84,151.00            84,146.00        46,663,312.00   \n",
       "2019-12-31             83,369.00            83,360.00        94,702,984.00   \n",
       "2020-01-31             20,543.00            20,531.00        36,348,304.00   \n",
       "2020-02-29             99,804.00            96,719.00        41,096,016.00   \n",
       "2020-03-31              1,285.00               852.00         4,525,672.00   \n",
       "2020-04-30                618.00               544.00           749,409.00   \n",
       "2020-05-31                240.00               175.00           996,320.00   \n",
       "2020-06-30              2,292.00             2,252.00         3,744,722.00   \n",
       "2020-07-31              1,354.00             1,309.00         4,004,701.00   \n",
       "2020-08-31              9,483.00             8,849.00         5,687,497.00   \n",
       "2020-09-30             37,402.50            25,181.00         6,644,025.00   \n",
       "2020-10-31             34,516.27            30,262.00         8,352,434.00   \n",
       "2020-11-30             53,366.60            45,813.65        13,752,106.00   \n",
       "2020-12-31             37,339.41            28,671.31        32,421,984.00   \n",
       "2021-01-31             51,299.65            38,308.35        23,584,440.00   \n",
       "2021-02-28             92,449.30            88,266.40        26,286,168.00   \n",
       "2021-03-31             20,805.50            17,075.35        40,688,896.00   \n",
       "2021-04-30             43,469.50            37,453.80       128,889,064.00   \n",
       "2021-05-31             65,873.00            51,333.30       171,924,944.00   \n",
       "2021-06-30             29,749.00            18,387.30       174,404,832.00   \n",
       "2021-07-31             89,269.00            80,448.75       115,662,480.00   \n",
       "2021-08-31             93,503.50            82,638.00       155,981,440.00   \n",
       "2021-09-30            106,726.50            99,628.30       186,657,328.00   \n",
       "2021-10-31            113,394.20           103,559.15       187,089,328.00   \n",
       "2021-11-30             72,708.00            61,987.40        63,220,324.00   \n",
       "\n",
       "             PRECIO_UNITARIO_+_IVA       IVA        TOTAL_SIN_IVA  \\\n",
       "FECHA_ORDEN                                                         \n",
       "2018-04-30              150,800.00     24078           643,529.00   \n",
       "2018-05-31           21,350,712.00   3397901        86,983,344.00   \n",
       "2018-06-30           19,377,512.00   2910354       101,410,232.00   \n",
       "2018-07-31           14,304,519.00   2273663       106,887,144.00   \n",
       "2018-08-31            4,092,738.00    642979        85,446,688.00   \n",
       "2018-09-30            2,796,800.00    402736        80,714,904.00   \n",
       "2018-10-31            4,359,555.00    683678       105,108,312.00   \n",
       "2018-11-30              547,912.00     81481        55,557,620.00   \n",
       "2018-12-31              333,688.00     51187        37,351,064.00   \n",
       "2019-01-31              336,595.00     51275        32,644,728.00   \n",
       "2019-02-28                  740.00         0             3,700.00   \n",
       "2019-03-31           22,549,192.00         0        22,549,192.00   \n",
       "2019-04-30              116,000.00     18361           127,051.00   \n",
       "2019-05-31                    0.00         0                 0.00   \n",
       "2019-06-30            4,121,062.00    657666         3,723,850.00   \n",
       "2019-07-31            1,101,182.00    138374         3,978,824.00   \n",
       "2019-08-31                    0.00         0                 0.00   \n",
       "2019-09-30              241,000.00     22352         1,342,177.00   \n",
       "2019-10-31              227,700.00     36036         1,278,445.00   \n",
       "2019-11-30           55,529,136.00   8865824     1,132,102,144.00   \n",
       "2019-12-31          112,573,152.00  17870134     1,589,518,592.00   \n",
       "2020-01-31           43,234,832.00   6886504       684,580,992.00   \n",
       "2020-02-29           48,896,780.00   7800725     1,294,864,768.00   \n",
       "2020-03-31            5,384,435.00    858757        51,060,612.00   \n",
       "2020-04-30              779,108.00     29699         9,722,532.00   \n",
       "2020-05-31            1,151,184.00    154864         4,059,773.00   \n",
       "2020-06-30            4,322,673.00    577951        22,541,076.00   \n",
       "2020-07-31            4,197,424.00    192723        10,381,840.00   \n",
       "2020-08-31            6,421,559.00    734062        49,651,596.00   \n",
       "2020-09-30            7,640,382.00    996357        83,557,264.00   \n",
       "2020-10-31            9,310,977.00    958543       114,524,352.00   \n",
       "2020-11-30           15,121,397.00   1369291       186,020,768.00   \n",
       "2020-12-31           37,706,128.00   5284142       244,092,528.00   \n",
       "2021-01-31           26,588,708.00   3004268       243,477,568.00   \n",
       "2021-02-28           30,147,128.00   3860959       274,992,672.00   \n",
       "2021-03-31           46,868,416.00   6179525       149,910,976.00   \n",
       "2021-04-30          151,158,976.00  22269916       539,532,736.00   \n",
       "2021-05-31          193,702,464.00  21777534       381,226,336.00   \n",
       "2021-06-30          194,724,784.00  20319965     1,023,699,712.00   \n",
       "2021-07-31          133,692,616.00  18030136       424,662,592.00   \n",
       "2021-08-31          182,284,032.00  26302592       363,059,520.00   \n",
       "2021-09-30          218,468,944.00  31811609       503,067,456.00   \n",
       "2021-10-31          217,054,944.00  29965622       431,217,408.00   \n",
       "2021-11-30           73,227,848.00  10007530       156,223,120.00   \n",
       "\n",
       "                     TOTAL_+_IVA  \n",
       "FECHA_ORDEN                       \n",
       "2018-04-30            765,800.00  \n",
       "2018-05-31        102,661,184.00  \n",
       "2018-06-30        119,429,248.00  \n",
       "2018-07-31        126,593,864.00  \n",
       "2018-08-31        100,832,944.00  \n",
       "2018-09-30         94,753,432.00  \n",
       "2018-10-31        123,832,488.00  \n",
       "2018-11-30         65,065,628.00  \n",
       "2018-12-31         44,061,560.00  \n",
       "2019-01-31         38,456,068.00  \n",
       "2019-02-28              3,700.00  \n",
       "2019-03-31         22,549,192.00  \n",
       "2019-04-30            151,000.00  \n",
       "2019-05-31                  0.00  \n",
       "2019-06-30          4,429,862.00  \n",
       "2019-07-31          4,426,688.00  \n",
       "2019-08-31                  0.00  \n",
       "2019-09-30          1,426,000.00  \n",
       "2019-10-31          1,518,500.00  \n",
       "2019-11-30      1,347,206,912.00  \n",
       "2019-12-31      1,891,438,336.00  \n",
       "2020-01-31        814,805,824.00  \n",
       "2020-02-29      1,560,300,032.00  \n",
       "2020-03-31         61,241,924.00  \n",
       "2020-04-30         10,174,523.00  \n",
       "2020-05-31          4,896,204.00  \n",
       "2020-06-30         25,106,016.00  \n",
       "2020-07-31         11,078,447.00  \n",
       "2020-08-31         53,898,920.00  \n",
       "2020-09-30         91,362,112.00  \n",
       "2020-10-31        121,007,064.00  \n",
       "2020-11-30        194,087,264.00  \n",
       "2020-12-31        274,565,280.00  \n",
       "2021-01-31        273,727,680.00  \n",
       "2021-02-28        301,794,752.00  \n",
       "2021-03-31        165,813,152.00  \n",
       "2021-04-30        627,096,768.00  \n",
       "2021-05-31        423,617,216.00  \n",
       "2021-06-30      1,121,472,896.00  \n",
       "2021-07-31        484,175,008.00  \n",
       "2021-08-31        412,318,912.00  \n",
       "2021-09-30        576,311,104.00  \n",
       "2021-10-31        492,209,792.00  \n",
       "2021-11-30        176,054,480.00  "
      ]
     },
     "execution_count": 517,
     "metadata": {},
     "output_type": "execute_result"
    }
   ],
   "source": [
    "df_M = df.groupby(pd.Grouper(key='FECHA_ORDEN', freq=\"M\")).sum()\n",
    "df_M"
   ]
  },
  {
   "cell_type": "code",
   "execution_count": 518,
   "metadata": {},
   "outputs": [
    {
     "data": {
      "application/vnd.plotly.v1+json": {
       "config": {
        "plotlyServerURL": "https://plot.ly"
       },
       "data": [
        {
         "alignmentgroup": "True",
         "hovertemplate": "FECHA_ORDEN=%{x}<br>TOTAL_+_IVA=%{y}<extra></extra>",
         "legendgroup": "",
         "marker": {
          "color": "#636efa",
          "pattern": {
           "shape": ""
          }
         },
         "name": "",
         "offsetgroup": "",
         "orientation": "v",
         "showlegend": false,
         "textposition": "auto",
         "type": "bar",
         "x": [
          "2018-04-30T00:00:00",
          "2018-05-31T00:00:00",
          "2018-06-30T00:00:00",
          "2018-07-31T00:00:00",
          "2018-08-31T00:00:00",
          "2018-09-30T00:00:00",
          "2018-10-31T00:00:00",
          "2018-11-30T00:00:00",
          "2018-12-31T00:00:00",
          "2019-01-31T00:00:00",
          "2019-02-28T00:00:00",
          "2019-03-31T00:00:00",
          "2019-04-30T00:00:00",
          "2019-05-31T00:00:00",
          "2019-06-30T00:00:00",
          "2019-07-31T00:00:00",
          "2019-08-31T00:00:00",
          "2019-09-30T00:00:00",
          "2019-10-31T00:00:00",
          "2019-11-30T00:00:00",
          "2019-12-31T00:00:00",
          "2020-01-31T00:00:00",
          "2020-02-29T00:00:00",
          "2020-03-31T00:00:00",
          "2020-04-30T00:00:00",
          "2020-05-31T00:00:00",
          "2020-06-30T00:00:00",
          "2020-07-31T00:00:00",
          "2020-08-31T00:00:00",
          "2020-09-30T00:00:00",
          "2020-10-31T00:00:00",
          "2020-11-30T00:00:00",
          "2020-12-31T00:00:00",
          "2021-01-31T00:00:00",
          "2021-02-28T00:00:00",
          "2021-03-31T00:00:00",
          "2021-04-30T00:00:00",
          "2021-05-31T00:00:00",
          "2021-06-30T00:00:00",
          "2021-07-31T00:00:00",
          "2021-08-31T00:00:00",
          "2021-09-30T00:00:00",
          "2021-10-31T00:00:00",
          "2021-11-30T00:00:00"
         ],
         "xaxis": "x",
         "y": [
          765800,
          102661184,
          119429248,
          126593864,
          100832944,
          94753432,
          123832488,
          65065628,
          44061560,
          38456068,
          3700,
          22549192,
          151000,
          0,
          4429862,
          4426688,
          0,
          1426000,
          1518500,
          1347206912,
          1891438336,
          814805824,
          1560300032,
          61241924,
          10174523,
          4896204,
          25106016,
          11078447,
          53898920,
          91362112,
          121007064,
          194087264,
          274565280,
          273727680,
          301794752,
          165813152,
          627096768,
          423617216,
          1121472896,
          484175008,
          412318912,
          576311104,
          492209792,
          176054480
         ],
         "yaxis": "y"
        }
       ],
       "layout": {
        "barmode": "relative",
        "legend": {
         "tracegroupgap": 0
        },
        "margin": {
         "t": 60
        },
        "template": {
         "data": {
          "bar": [
           {
            "error_x": {
             "color": "#2a3f5f"
            },
            "error_y": {
             "color": "#2a3f5f"
            },
            "marker": {
             "line": {
              "color": "#E5ECF6",
              "width": 0.5
             },
             "pattern": {
              "fillmode": "overlay",
              "size": 10,
              "solidity": 0.2
             }
            },
            "type": "bar"
           }
          ],
          "barpolar": [
           {
            "marker": {
             "line": {
              "color": "#E5ECF6",
              "width": 0.5
             },
             "pattern": {
              "fillmode": "overlay",
              "size": 10,
              "solidity": 0.2
             }
            },
            "type": "barpolar"
           }
          ],
          "carpet": [
           {
            "aaxis": {
             "endlinecolor": "#2a3f5f",
             "gridcolor": "white",
             "linecolor": "white",
             "minorgridcolor": "white",
             "startlinecolor": "#2a3f5f"
            },
            "baxis": {
             "endlinecolor": "#2a3f5f",
             "gridcolor": "white",
             "linecolor": "white",
             "minorgridcolor": "white",
             "startlinecolor": "#2a3f5f"
            },
            "type": "carpet"
           }
          ],
          "choropleth": [
           {
            "colorbar": {
             "outlinewidth": 0,
             "ticks": ""
            },
            "type": "choropleth"
           }
          ],
          "contour": [
           {
            "colorbar": {
             "outlinewidth": 0,
             "ticks": ""
            },
            "colorscale": [
             [
              0,
              "#0d0887"
             ],
             [
              0.1111111111111111,
              "#46039f"
             ],
             [
              0.2222222222222222,
              "#7201a8"
             ],
             [
              0.3333333333333333,
              "#9c179e"
             ],
             [
              0.4444444444444444,
              "#bd3786"
             ],
             [
              0.5555555555555556,
              "#d8576b"
             ],
             [
              0.6666666666666666,
              "#ed7953"
             ],
             [
              0.7777777777777778,
              "#fb9f3a"
             ],
             [
              0.8888888888888888,
              "#fdca26"
             ],
             [
              1,
              "#f0f921"
             ]
            ],
            "type": "contour"
           }
          ],
          "contourcarpet": [
           {
            "colorbar": {
             "outlinewidth": 0,
             "ticks": ""
            },
            "type": "contourcarpet"
           }
          ],
          "heatmap": [
           {
            "colorbar": {
             "outlinewidth": 0,
             "ticks": ""
            },
            "colorscale": [
             [
              0,
              "#0d0887"
             ],
             [
              0.1111111111111111,
              "#46039f"
             ],
             [
              0.2222222222222222,
              "#7201a8"
             ],
             [
              0.3333333333333333,
              "#9c179e"
             ],
             [
              0.4444444444444444,
              "#bd3786"
             ],
             [
              0.5555555555555556,
              "#d8576b"
             ],
             [
              0.6666666666666666,
              "#ed7953"
             ],
             [
              0.7777777777777778,
              "#fb9f3a"
             ],
             [
              0.8888888888888888,
              "#fdca26"
             ],
             [
              1,
              "#f0f921"
             ]
            ],
            "type": "heatmap"
           }
          ],
          "heatmapgl": [
           {
            "colorbar": {
             "outlinewidth": 0,
             "ticks": ""
            },
            "colorscale": [
             [
              0,
              "#0d0887"
             ],
             [
              0.1111111111111111,
              "#46039f"
             ],
             [
              0.2222222222222222,
              "#7201a8"
             ],
             [
              0.3333333333333333,
              "#9c179e"
             ],
             [
              0.4444444444444444,
              "#bd3786"
             ],
             [
              0.5555555555555556,
              "#d8576b"
             ],
             [
              0.6666666666666666,
              "#ed7953"
             ],
             [
              0.7777777777777778,
              "#fb9f3a"
             ],
             [
              0.8888888888888888,
              "#fdca26"
             ],
             [
              1,
              "#f0f921"
             ]
            ],
            "type": "heatmapgl"
           }
          ],
          "histogram": [
           {
            "marker": {
             "pattern": {
              "fillmode": "overlay",
              "size": 10,
              "solidity": 0.2
             }
            },
            "type": "histogram"
           }
          ],
          "histogram2d": [
           {
            "colorbar": {
             "outlinewidth": 0,
             "ticks": ""
            },
            "colorscale": [
             [
              0,
              "#0d0887"
             ],
             [
              0.1111111111111111,
              "#46039f"
             ],
             [
              0.2222222222222222,
              "#7201a8"
             ],
             [
              0.3333333333333333,
              "#9c179e"
             ],
             [
              0.4444444444444444,
              "#bd3786"
             ],
             [
              0.5555555555555556,
              "#d8576b"
             ],
             [
              0.6666666666666666,
              "#ed7953"
             ],
             [
              0.7777777777777778,
              "#fb9f3a"
             ],
             [
              0.8888888888888888,
              "#fdca26"
             ],
             [
              1,
              "#f0f921"
             ]
            ],
            "type": "histogram2d"
           }
          ],
          "histogram2dcontour": [
           {
            "colorbar": {
             "outlinewidth": 0,
             "ticks": ""
            },
            "colorscale": [
             [
              0,
              "#0d0887"
             ],
             [
              0.1111111111111111,
              "#46039f"
             ],
             [
              0.2222222222222222,
              "#7201a8"
             ],
             [
              0.3333333333333333,
              "#9c179e"
             ],
             [
              0.4444444444444444,
              "#bd3786"
             ],
             [
              0.5555555555555556,
              "#d8576b"
             ],
             [
              0.6666666666666666,
              "#ed7953"
             ],
             [
              0.7777777777777778,
              "#fb9f3a"
             ],
             [
              0.8888888888888888,
              "#fdca26"
             ],
             [
              1,
              "#f0f921"
             ]
            ],
            "type": "histogram2dcontour"
           }
          ],
          "mesh3d": [
           {
            "colorbar": {
             "outlinewidth": 0,
             "ticks": ""
            },
            "type": "mesh3d"
           }
          ],
          "parcoords": [
           {
            "line": {
             "colorbar": {
              "outlinewidth": 0,
              "ticks": ""
             }
            },
            "type": "parcoords"
           }
          ],
          "pie": [
           {
            "automargin": true,
            "type": "pie"
           }
          ],
          "scatter": [
           {
            "marker": {
             "colorbar": {
              "outlinewidth": 0,
              "ticks": ""
             }
            },
            "type": "scatter"
           }
          ],
          "scatter3d": [
           {
            "line": {
             "colorbar": {
              "outlinewidth": 0,
              "ticks": ""
             }
            },
            "marker": {
             "colorbar": {
              "outlinewidth": 0,
              "ticks": ""
             }
            },
            "type": "scatter3d"
           }
          ],
          "scattercarpet": [
           {
            "marker": {
             "colorbar": {
              "outlinewidth": 0,
              "ticks": ""
             }
            },
            "type": "scattercarpet"
           }
          ],
          "scattergeo": [
           {
            "marker": {
             "colorbar": {
              "outlinewidth": 0,
              "ticks": ""
             }
            },
            "type": "scattergeo"
           }
          ],
          "scattergl": [
           {
            "marker": {
             "colorbar": {
              "outlinewidth": 0,
              "ticks": ""
             }
            },
            "type": "scattergl"
           }
          ],
          "scattermapbox": [
           {
            "marker": {
             "colorbar": {
              "outlinewidth": 0,
              "ticks": ""
             }
            },
            "type": "scattermapbox"
           }
          ],
          "scatterpolar": [
           {
            "marker": {
             "colorbar": {
              "outlinewidth": 0,
              "ticks": ""
             }
            },
            "type": "scatterpolar"
           }
          ],
          "scatterpolargl": [
           {
            "marker": {
             "colorbar": {
              "outlinewidth": 0,
              "ticks": ""
             }
            },
            "type": "scatterpolargl"
           }
          ],
          "scatterternary": [
           {
            "marker": {
             "colorbar": {
              "outlinewidth": 0,
              "ticks": ""
             }
            },
            "type": "scatterternary"
           }
          ],
          "surface": [
           {
            "colorbar": {
             "outlinewidth": 0,
             "ticks": ""
            },
            "colorscale": [
             [
              0,
              "#0d0887"
             ],
             [
              0.1111111111111111,
              "#46039f"
             ],
             [
              0.2222222222222222,
              "#7201a8"
             ],
             [
              0.3333333333333333,
              "#9c179e"
             ],
             [
              0.4444444444444444,
              "#bd3786"
             ],
             [
              0.5555555555555556,
              "#d8576b"
             ],
             [
              0.6666666666666666,
              "#ed7953"
             ],
             [
              0.7777777777777778,
              "#fb9f3a"
             ],
             [
              0.8888888888888888,
              "#fdca26"
             ],
             [
              1,
              "#f0f921"
             ]
            ],
            "type": "surface"
           }
          ],
          "table": [
           {
            "cells": {
             "fill": {
              "color": "#EBF0F8"
             },
             "line": {
              "color": "white"
             }
            },
            "header": {
             "fill": {
              "color": "#C8D4E3"
             },
             "line": {
              "color": "white"
             }
            },
            "type": "table"
           }
          ]
         },
         "layout": {
          "annotationdefaults": {
           "arrowcolor": "#2a3f5f",
           "arrowhead": 0,
           "arrowwidth": 1
          },
          "autotypenumbers": "strict",
          "coloraxis": {
           "colorbar": {
            "outlinewidth": 0,
            "ticks": ""
           }
          },
          "colorscale": {
           "diverging": [
            [
             0,
             "#8e0152"
            ],
            [
             0.1,
             "#c51b7d"
            ],
            [
             0.2,
             "#de77ae"
            ],
            [
             0.3,
             "#f1b6da"
            ],
            [
             0.4,
             "#fde0ef"
            ],
            [
             0.5,
             "#f7f7f7"
            ],
            [
             0.6,
             "#e6f5d0"
            ],
            [
             0.7,
             "#b8e186"
            ],
            [
             0.8,
             "#7fbc41"
            ],
            [
             0.9,
             "#4d9221"
            ],
            [
             1,
             "#276419"
            ]
           ],
           "sequential": [
            [
             0,
             "#0d0887"
            ],
            [
             0.1111111111111111,
             "#46039f"
            ],
            [
             0.2222222222222222,
             "#7201a8"
            ],
            [
             0.3333333333333333,
             "#9c179e"
            ],
            [
             0.4444444444444444,
             "#bd3786"
            ],
            [
             0.5555555555555556,
             "#d8576b"
            ],
            [
             0.6666666666666666,
             "#ed7953"
            ],
            [
             0.7777777777777778,
             "#fb9f3a"
            ],
            [
             0.8888888888888888,
             "#fdca26"
            ],
            [
             1,
             "#f0f921"
            ]
           ],
           "sequentialminus": [
            [
             0,
             "#0d0887"
            ],
            [
             0.1111111111111111,
             "#46039f"
            ],
            [
             0.2222222222222222,
             "#7201a8"
            ],
            [
             0.3333333333333333,
             "#9c179e"
            ],
            [
             0.4444444444444444,
             "#bd3786"
            ],
            [
             0.5555555555555556,
             "#d8576b"
            ],
            [
             0.6666666666666666,
             "#ed7953"
            ],
            [
             0.7777777777777778,
             "#fb9f3a"
            ],
            [
             0.8888888888888888,
             "#fdca26"
            ],
            [
             1,
             "#f0f921"
            ]
           ]
          },
          "colorway": [
           "#636efa",
           "#EF553B",
           "#00cc96",
           "#ab63fa",
           "#FFA15A",
           "#19d3f3",
           "#FF6692",
           "#B6E880",
           "#FF97FF",
           "#FECB52"
          ],
          "font": {
           "color": "#2a3f5f"
          },
          "geo": {
           "bgcolor": "white",
           "lakecolor": "white",
           "landcolor": "#E5ECF6",
           "showlakes": true,
           "showland": true,
           "subunitcolor": "white"
          },
          "hoverlabel": {
           "align": "left"
          },
          "hovermode": "closest",
          "mapbox": {
           "style": "light"
          },
          "paper_bgcolor": "white",
          "plot_bgcolor": "#E5ECF6",
          "polar": {
           "angularaxis": {
            "gridcolor": "white",
            "linecolor": "white",
            "ticks": ""
           },
           "bgcolor": "#E5ECF6",
           "radialaxis": {
            "gridcolor": "white",
            "linecolor": "white",
            "ticks": ""
           }
          },
          "scene": {
           "xaxis": {
            "backgroundcolor": "#E5ECF6",
            "gridcolor": "white",
            "gridwidth": 2,
            "linecolor": "white",
            "showbackground": true,
            "ticks": "",
            "zerolinecolor": "white"
           },
           "yaxis": {
            "backgroundcolor": "#E5ECF6",
            "gridcolor": "white",
            "gridwidth": 2,
            "linecolor": "white",
            "showbackground": true,
            "ticks": "",
            "zerolinecolor": "white"
           },
           "zaxis": {
            "backgroundcolor": "#E5ECF6",
            "gridcolor": "white",
            "gridwidth": 2,
            "linecolor": "white",
            "showbackground": true,
            "ticks": "",
            "zerolinecolor": "white"
           }
          },
          "shapedefaults": {
           "line": {
            "color": "#2a3f5f"
           }
          },
          "ternary": {
           "aaxis": {
            "gridcolor": "white",
            "linecolor": "white",
            "ticks": ""
           },
           "baxis": {
            "gridcolor": "white",
            "linecolor": "white",
            "ticks": ""
           },
           "bgcolor": "#E5ECF6",
           "caxis": {
            "gridcolor": "white",
            "linecolor": "white",
            "ticks": ""
           }
          },
          "title": {
           "x": 0.05
          },
          "xaxis": {
           "automargin": true,
           "gridcolor": "white",
           "linecolor": "white",
           "ticks": "",
           "title": {
            "standoff": 15
           },
           "zerolinecolor": "white",
           "zerolinewidth": 2
          },
          "yaxis": {
           "automargin": true,
           "gridcolor": "white",
           "linecolor": "white",
           "ticks": "",
           "title": {
            "standoff": 15
           },
           "zerolinecolor": "white",
           "zerolinewidth": 2
          }
         }
        },
        "xaxis": {
         "anchor": "y",
         "domain": [
          0,
          1
         ],
         "title": {
          "text": "FECHA_ORDEN"
         }
        },
        "yaxis": {
         "anchor": "x",
         "domain": [
          0,
          1
         ],
         "title": {
          "text": "TOTAL_+_IVA"
         }
        }
       }
      }
     },
     "metadata": {},
     "output_type": "display_data"
    }
   ],
   "source": [
    "px.bar(df_M, y='TOTAL_+_IVA')"
   ]
  },
  {
   "cell_type": "markdown",
   "metadata": {},
   "source": [
    "## Categoría"
   ]
  },
  {
   "cell_type": "code",
   "execution_count": 519,
   "metadata": {},
   "outputs": [
    {
     "data": {
      "text/html": [
       "<div>\n",
       "<style scoped>\n",
       "    .dataframe tbody tr th:only-of-type {\n",
       "        vertical-align: middle;\n",
       "    }\n",
       "\n",
       "    .dataframe tbody tr th {\n",
       "        vertical-align: top;\n",
       "    }\n",
       "\n",
       "    .dataframe thead th {\n",
       "        text-align: right;\n",
       "    }\n",
       "</style>\n",
       "<table border=\"1\" class=\"dataframe\">\n",
       "  <thead>\n",
       "    <tr style=\"text-align: right;\">\n",
       "      <th></th>\n",
       "      <th>CANTIDAD_PEDIDA</th>\n",
       "      <th>CANTIDAD_RECIBIDA</th>\n",
       "      <th>PRECIO_UNITARIO</th>\n",
       "      <th>PRECIO_UNITARIO_+_IVA</th>\n",
       "      <th>IVA</th>\n",
       "      <th>TOTAL_SIN_IVA</th>\n",
       "      <th>TOTAL_+_IVA</th>\n",
       "    </tr>\n",
       "    <tr>\n",
       "      <th>CATEGORÍA</th>\n",
       "      <th></th>\n",
       "      <th></th>\n",
       "      <th></th>\n",
       "      <th></th>\n",
       "      <th></th>\n",
       "      <th></th>\n",
       "      <th></th>\n",
       "    </tr>\n",
       "  </thead>\n",
       "  <tbody>\n",
       "    <tr>\n",
       "      <th>Vigilancia y seguridad industrial</th>\n",
       "      <td>234,476.00</td>\n",
       "      <td>233,765.00</td>\n",
       "      <td>233,409,776.00</td>\n",
       "      <td>277,637,408.00</td>\n",
       "      <td>44227525</td>\n",
       "      <td>4,339,572,224.00</td>\n",
       "      <td>5,163,292,672.00</td>\n",
       "    </tr>\n",
       "    <tr>\n",
       "      <th>Alimentos y Bebidas</th>\n",
       "      <td>2,763,255.73</td>\n",
       "      <td>85,211.76</td>\n",
       "      <td>106,555,080.00</td>\n",
       "      <td>120,428,216.00</td>\n",
       "      <td>13873146</td>\n",
       "      <td>1,928,684,544.00</td>\n",
       "      <td>2,073,528,320.00</td>\n",
       "    </tr>\n",
       "    <tr>\n",
       "      <th>Construcción y Mantenimiento</th>\n",
       "      <td>2,502.00</td>\n",
       "      <td>2,161.00</td>\n",
       "      <td>303,148,960.00</td>\n",
       "      <td>343,217,088.00</td>\n",
       "      <td>40068149</td>\n",
       "      <td>882,860,608.00</td>\n",
       "      <td>992,749,120.00</td>\n",
       "    </tr>\n",
       "    <tr>\n",
       "      <th>Dotación y elementos de protección personal</th>\n",
       "      <td>27,001.00</td>\n",
       "      <td>14,403.00</td>\n",
       "      <td>46,851,856.00</td>\n",
       "      <td>55,154,044.00</td>\n",
       "      <td>8302189</td>\n",
       "      <td>715,481,920.00</td>\n",
       "      <td>843,571,712.00</td>\n",
       "    </tr>\n",
       "    <tr>\n",
       "      <th>Servicios Profesionales</th>\n",
       "      <td>298.50</td>\n",
       "      <td>222.50</td>\n",
       "      <td>396,780,192.00</td>\n",
       "      <td>471,445,056.00</td>\n",
       "      <td>74664854</td>\n",
       "      <td>602,906,112.00</td>\n",
       "      <td>714,787,520.00</td>\n",
       "    </tr>\n",
       "    <tr>\n",
       "      <th>Químicos y derivados</th>\n",
       "      <td>44,667.70</td>\n",
       "      <td>41,351.00</td>\n",
       "      <td>23,887,690.00</td>\n",
       "      <td>25,201,950.00</td>\n",
       "      <td>1314261</td>\n",
       "      <td>383,131,712.00</td>\n",
       "      <td>465,229,888.00</td>\n",
       "    </tr>\n",
       "    <tr>\n",
       "      <th>Almacenamiento y empaques</th>\n",
       "      <td>322,955.70</td>\n",
       "      <td>200,696.80</td>\n",
       "      <td>8,105,723.00</td>\n",
       "      <td>9,588,656.00</td>\n",
       "      <td>1482934</td>\n",
       "      <td>362,158,528.00</td>\n",
       "      <td>429,004,416.00</td>\n",
       "    </tr>\n",
       "    <tr>\n",
       "      <th>Vehículos y repuestos</th>\n",
       "      <td>17,334.00</td>\n",
       "      <td>13,482.00</td>\n",
       "      <td>51,944,152.00</td>\n",
       "      <td>61,344,604.00</td>\n",
       "      <td>9400447</td>\n",
       "      <td>209,335,776.00</td>\n",
       "      <td>248,225,648.00</td>\n",
       "    </tr>\n",
       "    <tr>\n",
       "      <th>Mercadeo y publicidad</th>\n",
       "      <td>100,534.00</td>\n",
       "      <td>71,441.00</td>\n",
       "      <td>62,464,332.00</td>\n",
       "      <td>71,990,712.00</td>\n",
       "      <td>9526379</td>\n",
       "      <td>195,689,648.00</td>\n",
       "      <td>220,933,568.00</td>\n",
       "    </tr>\n",
       "    <tr>\n",
       "      <th>Ingeniería e Investigación</th>\n",
       "      <td>206,195.00</td>\n",
       "      <td>206,046.00</td>\n",
       "      <td>31,338,396.00</td>\n",
       "      <td>36,460,272.00</td>\n",
       "      <td>5121873</td>\n",
       "      <td>165,708,032.00</td>\n",
       "      <td>191,436,304.00</td>\n",
       "    </tr>\n",
       "    <tr>\n",
       "      <th>Aseo, Cafetería y Oficina</th>\n",
       "      <td>437,284.00</td>\n",
       "      <td>38,426.00</td>\n",
       "      <td>56,836,564.00</td>\n",
       "      <td>63,764,692.00</td>\n",
       "      <td>6928135</td>\n",
       "      <td>153,989,376.00</td>\n",
       "      <td>176,313,632.00</td>\n",
       "    </tr>\n",
       "    <tr>\n",
       "      <th>Tecnología e información</th>\n",
       "      <td>1,567.00</td>\n",
       "      <td>1,410.00</td>\n",
       "      <td>59,454,888.00</td>\n",
       "      <td>67,186,680.00</td>\n",
       "      <td>7731789</td>\n",
       "      <td>135,508,496.00</td>\n",
       "      <td>156,037,696.00</td>\n",
       "    </tr>\n",
       "    <tr>\n",
       "      <th>Vigilancia y seguridad</th>\n",
       "      <td>149.00</td>\n",
       "      <td>4.00</td>\n",
       "      <td>25,210,116.00</td>\n",
       "      <td>25,768,940.00</td>\n",
       "      <td>558824</td>\n",
       "      <td>133,923,232.00</td>\n",
       "      <td>134,482,048.00</td>\n",
       "    </tr>\n",
       "    <tr>\n",
       "      <th>Ferreteria</th>\n",
       "      <td>20,672.00</td>\n",
       "      <td>18,729.00</td>\n",
       "      <td>78,040,200.00</td>\n",
       "      <td>92,785,976.00</td>\n",
       "      <td>14745771</td>\n",
       "      <td>108,569,920.00</td>\n",
       "      <td>129,114,088.00</td>\n",
       "    </tr>\n",
       "    <tr>\n",
       "      <th>Logística y transporte</th>\n",
       "      <td>353.00</td>\n",
       "      <td>309.00</td>\n",
       "      <td>73,756,464.00</td>\n",
       "      <td>75,264,112.00</td>\n",
       "      <td>1507647</td>\n",
       "      <td>82,825,104.00</td>\n",
       "      <td>84,839,976.00</td>\n",
       "    </tr>\n",
       "    <tr>\n",
       "      <th>Gestión inmobiliaria</th>\n",
       "      <td>11.00</td>\n",
       "      <td>3.00</td>\n",
       "      <td>8,164,453.00</td>\n",
       "      <td>9,715,699.00</td>\n",
       "      <td>1551246</td>\n",
       "      <td>54,662,096.00</td>\n",
       "      <td>65,047,896.00</td>\n",
       "    </tr>\n",
       "    <tr>\n",
       "      <th>Imprenta y litografía</th>\n",
       "      <td>104,419.00</td>\n",
       "      <td>88,546.00</td>\n",
       "      <td>5,961,338.00</td>\n",
       "      <td>7,064,351.00</td>\n",
       "      <td>1103011</td>\n",
       "      <td>36,668,192.00</td>\n",
       "      <td>43,486,952.00</td>\n",
       "    </tr>\n",
       "    <tr>\n",
       "      <th>Manufactura</th>\n",
       "      <td>15,020.00</td>\n",
       "      <td>759.00</td>\n",
       "      <td>13,283,086.00</td>\n",
       "      <td>15,801,646.00</td>\n",
       "      <td>2518559</td>\n",
       "      <td>36,657,428.00</td>\n",
       "      <td>43,447,488.00</td>\n",
       "    </tr>\n",
       "    <tr>\n",
       "      <th>Eléctricos y Electrónicos</th>\n",
       "      <td>11,760.00</td>\n",
       "      <td>1,321.00</td>\n",
       "      <td>9,905,301.00</td>\n",
       "      <td>11,787,311.00</td>\n",
       "      <td>1882010</td>\n",
       "      <td>28,938,876.00</td>\n",
       "      <td>34,573,868.00</td>\n",
       "    </tr>\n",
       "    <tr>\n",
       "      <th>Moda y accesorios</th>\n",
       "      <td>1,050.00</td>\n",
       "      <td>102.00</td>\n",
       "      <td>5,438,500.00</td>\n",
       "      <td>6,471,803.00</td>\n",
       "      <td>1033303</td>\n",
       "      <td>26,076,944.00</td>\n",
       "      <td>31,451,760.00</td>\n",
       "    </tr>\n",
       "    <tr>\n",
       "      <th>Mobiliario y decoración</th>\n",
       "      <td>927.00</td>\n",
       "      <td>524.00</td>\n",
       "      <td>8,577,779.00</td>\n",
       "      <td>10,207,527.00</td>\n",
       "      <td>1629748</td>\n",
       "      <td>19,926,016.00</td>\n",
       "      <td>23,711,964.00</td>\n",
       "    </tr>\n",
       "    <tr>\n",
       "      <th>Medicina y Salud</th>\n",
       "      <td>30.00</td>\n",
       "      <td>13.00</td>\n",
       "      <td>17,855,100.00</td>\n",
       "      <td>21,232,220.00</td>\n",
       "      <td>3377120</td>\n",
       "      <td>17,878,528.00</td>\n",
       "      <td>21,259,776.00</td>\n",
       "    </tr>\n",
       "    <tr>\n",
       "      <th>Viajes, Eventos y Entretenimiento</th>\n",
       "      <td>58.00</td>\n",
       "      <td>57.00</td>\n",
       "      <td>6,181,605.00</td>\n",
       "      <td>7,010,705.00</td>\n",
       "      <td>829100</td>\n",
       "      <td>13,508,605.00</td>\n",
       "      <td>15,026,405.00</td>\n",
       "    </tr>\n",
       "    <tr>\n",
       "      <th>Hogar y electrodomésticos</th>\n",
       "      <td>276.00</td>\n",
       "      <td>255.00</td>\n",
       "      <td>10,204,475.00</td>\n",
       "      <td>12,143,328.00</td>\n",
       "      <td>1938853</td>\n",
       "      <td>12,514,375.00</td>\n",
       "      <td>14,892,109.00</td>\n",
       "    </tr>\n",
       "    <tr>\n",
       "      <th>Textiles</th>\n",
       "      <td>3,570.00</td>\n",
       "      <td>3,414.00</td>\n",
       "      <td>687,197.00</td>\n",
       "      <td>722,707.00</td>\n",
       "      <td>35510</td>\n",
       "      <td>10,535,113.00</td>\n",
       "      <td>11,172,345.00</td>\n",
       "    </tr>\n",
       "    <tr>\n",
       "      <th>Gestión ambiental</th>\n",
       "      <td>2,912.00</td>\n",
       "      <td>1,769.00</td>\n",
       "      <td>5,002,645.00</td>\n",
       "      <td>5,945,822.00</td>\n",
       "      <td>943177</td>\n",
       "      <td>9,553,775.00</td>\n",
       "      <td>10,504,742.00</td>\n",
       "    </tr>\n",
       "    <tr>\n",
       "      <th>Salud y Medicina</th>\n",
       "      <td>627.00</td>\n",
       "      <td>375.00</td>\n",
       "      <td>1,147,219.00</td>\n",
       "      <td>1,158,923.00</td>\n",
       "      <td>11704</td>\n",
       "      <td>7,524,205.00</td>\n",
       "      <td>7,595,683.00</td>\n",
       "    </tr>\n",
       "    <tr>\n",
       "      <th>Cuidado personal y Belleza</th>\n",
       "      <td>66.00</td>\n",
       "      <td>66.00</td>\n",
       "      <td>418,342.00</td>\n",
       "      <td>495,236.00</td>\n",
       "      <td>76894</td>\n",
       "      <td>4,682,445.00</td>\n",
       "      <td>5,569,519.00</td>\n",
       "    </tr>\n",
       "    <tr>\n",
       "      <th>Compras Sostenibles</th>\n",
       "      <td>975.00</td>\n",
       "      <td>968.00</td>\n",
       "      <td>1,471,905.00</td>\n",
       "      <td>1,678,908.00</td>\n",
       "      <td>207003</td>\n",
       "      <td>5,245,562.00</td>\n",
       "      <td>5,521,605.00</td>\n",
       "    </tr>\n",
       "    <tr>\n",
       "      <th>Generación y distribución de Energía</th>\n",
       "      <td>5.00</td>\n",
       "      <td>1.00</td>\n",
       "      <td>4,606,302.00</td>\n",
       "      <td>5,481,499.00</td>\n",
       "      <td>875197</td>\n",
       "      <td>4,606,302.00</td>\n",
       "      <td>5,481,499.00</td>\n",
       "    </tr>\n",
       "    <tr>\n",
       "      <th>Deporte y recreación</th>\n",
       "      <td>146.00</td>\n",
       "      <td>146.00</td>\n",
       "      <td>260,850.00</td>\n",
       "      <td>286,738.00</td>\n",
       "      <td>25888</td>\n",
       "      <td>1,552,470.00</td>\n",
       "      <td>1,706,345.00</td>\n",
       "    </tr>\n",
       "    <tr>\n",
       "      <th>Minería</th>\n",
       "      <td>7.00</td>\n",
       "      <td>4.00</td>\n",
       "      <td>1,357,410.00</td>\n",
       "      <td>1,366,511.00</td>\n",
       "      <td>9101</td>\n",
       "      <td>1,453,208.00</td>\n",
       "      <td>1,480,511.00</td>\n",
       "    </tr>\n",
       "    <tr>\n",
       "      <th>Servicios Públicos</th>\n",
       "      <td>82,682.00</td>\n",
       "      <td>82,682.00</td>\n",
       "      <td>27.00</td>\n",
       "      <td>30.00</td>\n",
       "      <td>6</td>\n",
       "      <td>372,071.00</td>\n",
       "      <td>442,761.00</td>\n",
       "    </tr>\n",
       "    <tr>\n",
       "      <th>Educación y formación empresarial</th>\n",
       "      <td>2.00</td>\n",
       "      <td>2.00</td>\n",
       "      <td>198,000.00</td>\n",
       "      <td>198,000.00</td>\n",
       "      <td>0</td>\n",
       "      <td>396,000.00</td>\n",
       "      <td>396,000.00</td>\n",
       "    </tr>\n",
       "    <tr>\n",
       "      <th>Agroindustrial</th>\n",
       "      <td>256.00</td>\n",
       "      <td>252.00</td>\n",
       "      <td>150,400.00</td>\n",
       "      <td>150,400.00</td>\n",
       "      <td>0</td>\n",
       "      <td>250,000.00</td>\n",
       "      <td>250,000.00</td>\n",
       "    </tr>\n",
       "    <tr>\n",
       "      <th>Producción audiovisual</th>\n",
       "      <td>4.00</td>\n",
       "      <td>4.00</td>\n",
       "      <td>38,000.00</td>\n",
       "      <td>38,000.00</td>\n",
       "      <td>0</td>\n",
       "      <td>152,000.00</td>\n",
       "      <td>152,000.00</td>\n",
       "    </tr>\n",
       "  </tbody>\n",
       "</table>\n",
       "</div>"
      ],
      "text/plain": [
       "                                                 CANTIDAD_PEDIDA  \\\n",
       "CATEGORÍA                                                          \n",
       "Vigilancia y seguridad industrial                     234,476.00   \n",
       "Alimentos y Bebidas                                 2,763,255.73   \n",
       "Construcción y Mantenimiento                            2,502.00   \n",
       "Dotación y elementos de protección personal            27,001.00   \n",
       "Servicios Profesionales                                   298.50   \n",
       "Químicos y derivados                                   44,667.70   \n",
       "Almacenamiento y empaques                             322,955.70   \n",
       "Vehículos y repuestos                                  17,334.00   \n",
       "Mercadeo y publicidad                                 100,534.00   \n",
       "Ingeniería e Investigación                            206,195.00   \n",
       "Aseo, Cafetería y Oficina                             437,284.00   \n",
       "Tecnología e información                                1,567.00   \n",
       "Vigilancia y seguridad                                    149.00   \n",
       "Ferreteria                                             20,672.00   \n",
       "Logística y transporte                                    353.00   \n",
       "Gestión inmobiliaria                                       11.00   \n",
       "Imprenta y litografía                                 104,419.00   \n",
       "Manufactura                                            15,020.00   \n",
       "Eléctricos y Electrónicos                              11,760.00   \n",
       "Moda y accesorios                                       1,050.00   \n",
       "Mobiliario y decoración                                   927.00   \n",
       "Medicina y Salud                                           30.00   \n",
       "Viajes, Eventos y Entretenimiento                          58.00   \n",
       "Hogar y electrodomésticos                                 276.00   \n",
       "Textiles                                                3,570.00   \n",
       "Gestión ambiental                                       2,912.00   \n",
       "Salud y Medicina                                          627.00   \n",
       "Cuidado personal y Belleza                                 66.00   \n",
       "Compras Sostenibles                                       975.00   \n",
       "Generación y distribución de Energía                        5.00   \n",
       "Deporte y recreación                                      146.00   \n",
       "Minería                                                     7.00   \n",
       "Servicios Públicos                                     82,682.00   \n",
       "Educación y formación empresarial                           2.00   \n",
       "Agroindustrial                                            256.00   \n",
       "Producción audiovisual                                      4.00   \n",
       "\n",
       "                                               CANTIDAD_RECIBIDA  \\\n",
       "CATEGORÍA                                                          \n",
       "Vigilancia y seguridad industrial                     233,765.00   \n",
       "Alimentos y Bebidas                                    85,211.76   \n",
       "Construcción y Mantenimiento                            2,161.00   \n",
       "Dotación y elementos de protección personal            14,403.00   \n",
       "Servicios Profesionales                                   222.50   \n",
       "Químicos y derivados                                   41,351.00   \n",
       "Almacenamiento y empaques                             200,696.80   \n",
       "Vehículos y repuestos                                  13,482.00   \n",
       "Mercadeo y publicidad                                  71,441.00   \n",
       "Ingeniería e Investigación                            206,046.00   \n",
       "Aseo, Cafetería y Oficina                              38,426.00   \n",
       "Tecnología e información                                1,410.00   \n",
       "Vigilancia y seguridad                                      4.00   \n",
       "Ferreteria                                             18,729.00   \n",
       "Logística y transporte                                    309.00   \n",
       "Gestión inmobiliaria                                        3.00   \n",
       "Imprenta y litografía                                  88,546.00   \n",
       "Manufactura                                               759.00   \n",
       "Eléctricos y Electrónicos                               1,321.00   \n",
       "Moda y accesorios                                         102.00   \n",
       "Mobiliario y decoración                                   524.00   \n",
       "Medicina y Salud                                           13.00   \n",
       "Viajes, Eventos y Entretenimiento                          57.00   \n",
       "Hogar y electrodomésticos                                 255.00   \n",
       "Textiles                                                3,414.00   \n",
       "Gestión ambiental                                       1,769.00   \n",
       "Salud y Medicina                                          375.00   \n",
       "Cuidado personal y Belleza                                 66.00   \n",
       "Compras Sostenibles                                       968.00   \n",
       "Generación y distribución de Energía                        1.00   \n",
       "Deporte y recreación                                      146.00   \n",
       "Minería                                                     4.00   \n",
       "Servicios Públicos                                     82,682.00   \n",
       "Educación y formación empresarial                           2.00   \n",
       "Agroindustrial                                            252.00   \n",
       "Producción audiovisual                                      4.00   \n",
       "\n",
       "                                                 PRECIO_UNITARIO  \\\n",
       "CATEGORÍA                                                          \n",
       "Vigilancia y seguridad industrial                 233,409,776.00   \n",
       "Alimentos y Bebidas                               106,555,080.00   \n",
       "Construcción y Mantenimiento                      303,148,960.00   \n",
       "Dotación y elementos de protección personal        46,851,856.00   \n",
       "Servicios Profesionales                           396,780,192.00   \n",
       "Químicos y derivados                               23,887,690.00   \n",
       "Almacenamiento y empaques                           8,105,723.00   \n",
       "Vehículos y repuestos                              51,944,152.00   \n",
       "Mercadeo y publicidad                              62,464,332.00   \n",
       "Ingeniería e Investigación                         31,338,396.00   \n",
       "Aseo, Cafetería y Oficina                          56,836,564.00   \n",
       "Tecnología e información                           59,454,888.00   \n",
       "Vigilancia y seguridad                             25,210,116.00   \n",
       "Ferreteria                                         78,040,200.00   \n",
       "Logística y transporte                             73,756,464.00   \n",
       "Gestión inmobiliaria                                8,164,453.00   \n",
       "Imprenta y litografía                               5,961,338.00   \n",
       "Manufactura                                        13,283,086.00   \n",
       "Eléctricos y Electrónicos                           9,905,301.00   \n",
       "Moda y accesorios                                   5,438,500.00   \n",
       "Mobiliario y decoración                             8,577,779.00   \n",
       "Medicina y Salud                                   17,855,100.00   \n",
       "Viajes, Eventos y Entretenimiento                   6,181,605.00   \n",
       "Hogar y electrodomésticos                          10,204,475.00   \n",
       "Textiles                                              687,197.00   \n",
       "Gestión ambiental                                   5,002,645.00   \n",
       "Salud y Medicina                                    1,147,219.00   \n",
       "Cuidado personal y Belleza                            418,342.00   \n",
       "Compras Sostenibles                                 1,471,905.00   \n",
       "Generación y distribución de Energía                4,606,302.00   \n",
       "Deporte y recreación                                  260,850.00   \n",
       "Minería                                             1,357,410.00   \n",
       "Servicios Públicos                                         27.00   \n",
       "Educación y formación empresarial                     198,000.00   \n",
       "Agroindustrial                                        150,400.00   \n",
       "Producción audiovisual                                 38,000.00   \n",
       "\n",
       "                                             PRECIO_UNITARIO_+_IVA       IVA  \\\n",
       "CATEGORÍA                                                                      \n",
       "Vigilancia y seguridad industrial                   277,637,408.00  44227525   \n",
       "Alimentos y Bebidas                                 120,428,216.00  13873146   \n",
       "Construcción y Mantenimiento                        343,217,088.00  40068149   \n",
       "Dotación y elementos de protección personal          55,154,044.00   8302189   \n",
       "Servicios Profesionales                             471,445,056.00  74664854   \n",
       "Químicos y derivados                                 25,201,950.00   1314261   \n",
       "Almacenamiento y empaques                             9,588,656.00   1482934   \n",
       "Vehículos y repuestos                                61,344,604.00   9400447   \n",
       "Mercadeo y publicidad                                71,990,712.00   9526379   \n",
       "Ingeniería e Investigación                           36,460,272.00   5121873   \n",
       "Aseo, Cafetería y Oficina                            63,764,692.00   6928135   \n",
       "Tecnología e información                             67,186,680.00   7731789   \n",
       "Vigilancia y seguridad                               25,768,940.00    558824   \n",
       "Ferreteria                                           92,785,976.00  14745771   \n",
       "Logística y transporte                               75,264,112.00   1507647   \n",
       "Gestión inmobiliaria                                  9,715,699.00   1551246   \n",
       "Imprenta y litografía                                 7,064,351.00   1103011   \n",
       "Manufactura                                          15,801,646.00   2518559   \n",
       "Eléctricos y Electrónicos                            11,787,311.00   1882010   \n",
       "Moda y accesorios                                     6,471,803.00   1033303   \n",
       "Mobiliario y decoración                              10,207,527.00   1629748   \n",
       "Medicina y Salud                                     21,232,220.00   3377120   \n",
       "Viajes, Eventos y Entretenimiento                     7,010,705.00    829100   \n",
       "Hogar y electrodomésticos                            12,143,328.00   1938853   \n",
       "Textiles                                                722,707.00     35510   \n",
       "Gestión ambiental                                     5,945,822.00    943177   \n",
       "Salud y Medicina                                      1,158,923.00     11704   \n",
       "Cuidado personal y Belleza                              495,236.00     76894   \n",
       "Compras Sostenibles                                   1,678,908.00    207003   \n",
       "Generación y distribución de Energía                  5,481,499.00    875197   \n",
       "Deporte y recreación                                    286,738.00     25888   \n",
       "Minería                                               1,366,511.00      9101   \n",
       "Servicios Públicos                                           30.00         6   \n",
       "Educación y formación empresarial                       198,000.00         0   \n",
       "Agroindustrial                                          150,400.00         0   \n",
       "Producción audiovisual                                   38,000.00         0   \n",
       "\n",
       "                                                   TOTAL_SIN_IVA  \\\n",
       "CATEGORÍA                                                          \n",
       "Vigilancia y seguridad industrial               4,339,572,224.00   \n",
       "Alimentos y Bebidas                             1,928,684,544.00   \n",
       "Construcción y Mantenimiento                      882,860,608.00   \n",
       "Dotación y elementos de protección personal       715,481,920.00   \n",
       "Servicios Profesionales                           602,906,112.00   \n",
       "Químicos y derivados                              383,131,712.00   \n",
       "Almacenamiento y empaques                         362,158,528.00   \n",
       "Vehículos y repuestos                             209,335,776.00   \n",
       "Mercadeo y publicidad                             195,689,648.00   \n",
       "Ingeniería e Investigación                        165,708,032.00   \n",
       "Aseo, Cafetería y Oficina                         153,989,376.00   \n",
       "Tecnología e información                          135,508,496.00   \n",
       "Vigilancia y seguridad                            133,923,232.00   \n",
       "Ferreteria                                        108,569,920.00   \n",
       "Logística y transporte                             82,825,104.00   \n",
       "Gestión inmobiliaria                               54,662,096.00   \n",
       "Imprenta y litografía                              36,668,192.00   \n",
       "Manufactura                                        36,657,428.00   \n",
       "Eléctricos y Electrónicos                          28,938,876.00   \n",
       "Moda y accesorios                                  26,076,944.00   \n",
       "Mobiliario y decoración                            19,926,016.00   \n",
       "Medicina y Salud                                   17,878,528.00   \n",
       "Viajes, Eventos y Entretenimiento                  13,508,605.00   \n",
       "Hogar y electrodomésticos                          12,514,375.00   \n",
       "Textiles                                           10,535,113.00   \n",
       "Gestión ambiental                                   9,553,775.00   \n",
       "Salud y Medicina                                    7,524,205.00   \n",
       "Cuidado personal y Belleza                          4,682,445.00   \n",
       "Compras Sostenibles                                 5,245,562.00   \n",
       "Generación y distribución de Energía                4,606,302.00   \n",
       "Deporte y recreación                                1,552,470.00   \n",
       "Minería                                             1,453,208.00   \n",
       "Servicios Públicos                                    372,071.00   \n",
       "Educación y formación empresarial                     396,000.00   \n",
       "Agroindustrial                                        250,000.00   \n",
       "Producción audiovisual                                152,000.00   \n",
       "\n",
       "                                                     TOTAL_+_IVA  \n",
       "CATEGORÍA                                                         \n",
       "Vigilancia y seguridad industrial               5,163,292,672.00  \n",
       "Alimentos y Bebidas                             2,073,528,320.00  \n",
       "Construcción y Mantenimiento                      992,749,120.00  \n",
       "Dotación y elementos de protección personal       843,571,712.00  \n",
       "Servicios Profesionales                           714,787,520.00  \n",
       "Químicos y derivados                              465,229,888.00  \n",
       "Almacenamiento y empaques                         429,004,416.00  \n",
       "Vehículos y repuestos                             248,225,648.00  \n",
       "Mercadeo y publicidad                             220,933,568.00  \n",
       "Ingeniería e Investigación                        191,436,304.00  \n",
       "Aseo, Cafetería y Oficina                         176,313,632.00  \n",
       "Tecnología e información                          156,037,696.00  \n",
       "Vigilancia y seguridad                            134,482,048.00  \n",
       "Ferreteria                                        129,114,088.00  \n",
       "Logística y transporte                             84,839,976.00  \n",
       "Gestión inmobiliaria                               65,047,896.00  \n",
       "Imprenta y litografía                              43,486,952.00  \n",
       "Manufactura                                        43,447,488.00  \n",
       "Eléctricos y Electrónicos                          34,573,868.00  \n",
       "Moda y accesorios                                  31,451,760.00  \n",
       "Mobiliario y decoración                            23,711,964.00  \n",
       "Medicina y Salud                                   21,259,776.00  \n",
       "Viajes, Eventos y Entretenimiento                  15,026,405.00  \n",
       "Hogar y electrodomésticos                          14,892,109.00  \n",
       "Textiles                                           11,172,345.00  \n",
       "Gestión ambiental                                  10,504,742.00  \n",
       "Salud y Medicina                                    7,595,683.00  \n",
       "Cuidado personal y Belleza                          5,569,519.00  \n",
       "Compras Sostenibles                                 5,521,605.00  \n",
       "Generación y distribución de Energía                5,481,499.00  \n",
       "Deporte y recreación                                1,706,345.00  \n",
       "Minería                                             1,480,511.00  \n",
       "Servicios Públicos                                    442,761.00  \n",
       "Educación y formación empresarial                     396,000.00  \n",
       "Agroindustrial                                        250,000.00  \n",
       "Producción audiovisual                                152,000.00  "
      ]
     },
     "execution_count": 519,
     "metadata": {},
     "output_type": "execute_result"
    }
   ],
   "source": [
    "df_CAT = df.groupby('CATEGORÍA').sum()\n",
    "df_CAT.sort_values(by='TOTAL_+_IVA', inplace=True, ascending=False)\n",
    "df_CAT"
   ]
  },
  {
   "cell_type": "code",
   "execution_count": 520,
   "metadata": {},
   "outputs": [
    {
     "data": {
      "application/vnd.plotly.v1+json": {
       "config": {
        "plotlyServerURL": "https://plot.ly"
       },
       "data": [
        {
         "alignmentgroup": "True",
         "hovertemplate": "CATEGORÍA=%{x}<br>TOTAL_+_IVA=%{y}<extra></extra>",
         "legendgroup": "",
         "marker": {
          "color": "#636efa",
          "pattern": {
           "shape": ""
          }
         },
         "name": "",
         "offsetgroup": "",
         "orientation": "v",
         "showlegend": false,
         "textposition": "auto",
         "type": "bar",
         "x": [
          "Vigilancia y seguridad industrial",
          "Alimentos y Bebidas",
          "Construcción y Mantenimiento",
          "Dotación y elementos de protección personal",
          "Servicios Profesionales",
          "Químicos y derivados",
          "Almacenamiento y empaques",
          "Vehículos y repuestos",
          "Mercadeo y publicidad",
          "Ingeniería e Investigación",
          "Aseo, Cafetería y Oficina",
          "Tecnología e información",
          "Vigilancia y seguridad",
          "Ferreteria",
          "Logística y transporte",
          "Gestión inmobiliaria",
          "Imprenta y litografía",
          "Manufactura",
          "Eléctricos y Electrónicos",
          "Moda y accesorios",
          "Mobiliario y decoración",
          "Medicina y Salud",
          "Viajes, Eventos y Entretenimiento",
          "Hogar y electrodomésticos",
          "Textiles",
          "Gestión ambiental",
          "Salud y Medicina",
          "Cuidado personal y Belleza",
          "Compras Sostenibles",
          "Generación y distribución de Energía",
          "Deporte y recreación",
          "Minería",
          "Servicios Públicos",
          "Educación y formación empresarial",
          "Agroindustrial",
          "Producción audiovisual"
         ],
         "xaxis": "x",
         "y": [
          5163292672,
          2073528320,
          992749120,
          843571712,
          714787520,
          465229888,
          429004416,
          248225648,
          220933568,
          191436304,
          176313632,
          156037696,
          134482048,
          129114088,
          84839976,
          65047896,
          43486952,
          43447488,
          34573868,
          31451760,
          23711964,
          21259776,
          15026405,
          14892109,
          11172345,
          10504742,
          7595683,
          5569519,
          5521605,
          5481499,
          1706345,
          1480511,
          442761,
          396000,
          250000,
          152000
         ],
         "yaxis": "y"
        }
       ],
       "layout": {
        "barmode": "relative",
        "legend": {
         "tracegroupgap": 0
        },
        "margin": {
         "t": 60
        },
        "template": {
         "data": {
          "bar": [
           {
            "error_x": {
             "color": "#2a3f5f"
            },
            "error_y": {
             "color": "#2a3f5f"
            },
            "marker": {
             "line": {
              "color": "#E5ECF6",
              "width": 0.5
             },
             "pattern": {
              "fillmode": "overlay",
              "size": 10,
              "solidity": 0.2
             }
            },
            "type": "bar"
           }
          ],
          "barpolar": [
           {
            "marker": {
             "line": {
              "color": "#E5ECF6",
              "width": 0.5
             },
             "pattern": {
              "fillmode": "overlay",
              "size": 10,
              "solidity": 0.2
             }
            },
            "type": "barpolar"
           }
          ],
          "carpet": [
           {
            "aaxis": {
             "endlinecolor": "#2a3f5f",
             "gridcolor": "white",
             "linecolor": "white",
             "minorgridcolor": "white",
             "startlinecolor": "#2a3f5f"
            },
            "baxis": {
             "endlinecolor": "#2a3f5f",
             "gridcolor": "white",
             "linecolor": "white",
             "minorgridcolor": "white",
             "startlinecolor": "#2a3f5f"
            },
            "type": "carpet"
           }
          ],
          "choropleth": [
           {
            "colorbar": {
             "outlinewidth": 0,
             "ticks": ""
            },
            "type": "choropleth"
           }
          ],
          "contour": [
           {
            "colorbar": {
             "outlinewidth": 0,
             "ticks": ""
            },
            "colorscale": [
             [
              0,
              "#0d0887"
             ],
             [
              0.1111111111111111,
              "#46039f"
             ],
             [
              0.2222222222222222,
              "#7201a8"
             ],
             [
              0.3333333333333333,
              "#9c179e"
             ],
             [
              0.4444444444444444,
              "#bd3786"
             ],
             [
              0.5555555555555556,
              "#d8576b"
             ],
             [
              0.6666666666666666,
              "#ed7953"
             ],
             [
              0.7777777777777778,
              "#fb9f3a"
             ],
             [
              0.8888888888888888,
              "#fdca26"
             ],
             [
              1,
              "#f0f921"
             ]
            ],
            "type": "contour"
           }
          ],
          "contourcarpet": [
           {
            "colorbar": {
             "outlinewidth": 0,
             "ticks": ""
            },
            "type": "contourcarpet"
           }
          ],
          "heatmap": [
           {
            "colorbar": {
             "outlinewidth": 0,
             "ticks": ""
            },
            "colorscale": [
             [
              0,
              "#0d0887"
             ],
             [
              0.1111111111111111,
              "#46039f"
             ],
             [
              0.2222222222222222,
              "#7201a8"
             ],
             [
              0.3333333333333333,
              "#9c179e"
             ],
             [
              0.4444444444444444,
              "#bd3786"
             ],
             [
              0.5555555555555556,
              "#d8576b"
             ],
             [
              0.6666666666666666,
              "#ed7953"
             ],
             [
              0.7777777777777778,
              "#fb9f3a"
             ],
             [
              0.8888888888888888,
              "#fdca26"
             ],
             [
              1,
              "#f0f921"
             ]
            ],
            "type": "heatmap"
           }
          ],
          "heatmapgl": [
           {
            "colorbar": {
             "outlinewidth": 0,
             "ticks": ""
            },
            "colorscale": [
             [
              0,
              "#0d0887"
             ],
             [
              0.1111111111111111,
              "#46039f"
             ],
             [
              0.2222222222222222,
              "#7201a8"
             ],
             [
              0.3333333333333333,
              "#9c179e"
             ],
             [
              0.4444444444444444,
              "#bd3786"
             ],
             [
              0.5555555555555556,
              "#d8576b"
             ],
             [
              0.6666666666666666,
              "#ed7953"
             ],
             [
              0.7777777777777778,
              "#fb9f3a"
             ],
             [
              0.8888888888888888,
              "#fdca26"
             ],
             [
              1,
              "#f0f921"
             ]
            ],
            "type": "heatmapgl"
           }
          ],
          "histogram": [
           {
            "marker": {
             "pattern": {
              "fillmode": "overlay",
              "size": 10,
              "solidity": 0.2
             }
            },
            "type": "histogram"
           }
          ],
          "histogram2d": [
           {
            "colorbar": {
             "outlinewidth": 0,
             "ticks": ""
            },
            "colorscale": [
             [
              0,
              "#0d0887"
             ],
             [
              0.1111111111111111,
              "#46039f"
             ],
             [
              0.2222222222222222,
              "#7201a8"
             ],
             [
              0.3333333333333333,
              "#9c179e"
             ],
             [
              0.4444444444444444,
              "#bd3786"
             ],
             [
              0.5555555555555556,
              "#d8576b"
             ],
             [
              0.6666666666666666,
              "#ed7953"
             ],
             [
              0.7777777777777778,
              "#fb9f3a"
             ],
             [
              0.8888888888888888,
              "#fdca26"
             ],
             [
              1,
              "#f0f921"
             ]
            ],
            "type": "histogram2d"
           }
          ],
          "histogram2dcontour": [
           {
            "colorbar": {
             "outlinewidth": 0,
             "ticks": ""
            },
            "colorscale": [
             [
              0,
              "#0d0887"
             ],
             [
              0.1111111111111111,
              "#46039f"
             ],
             [
              0.2222222222222222,
              "#7201a8"
             ],
             [
              0.3333333333333333,
              "#9c179e"
             ],
             [
              0.4444444444444444,
              "#bd3786"
             ],
             [
              0.5555555555555556,
              "#d8576b"
             ],
             [
              0.6666666666666666,
              "#ed7953"
             ],
             [
              0.7777777777777778,
              "#fb9f3a"
             ],
             [
              0.8888888888888888,
              "#fdca26"
             ],
             [
              1,
              "#f0f921"
             ]
            ],
            "type": "histogram2dcontour"
           }
          ],
          "mesh3d": [
           {
            "colorbar": {
             "outlinewidth": 0,
             "ticks": ""
            },
            "type": "mesh3d"
           }
          ],
          "parcoords": [
           {
            "line": {
             "colorbar": {
              "outlinewidth": 0,
              "ticks": ""
             }
            },
            "type": "parcoords"
           }
          ],
          "pie": [
           {
            "automargin": true,
            "type": "pie"
           }
          ],
          "scatter": [
           {
            "marker": {
             "colorbar": {
              "outlinewidth": 0,
              "ticks": ""
             }
            },
            "type": "scatter"
           }
          ],
          "scatter3d": [
           {
            "line": {
             "colorbar": {
              "outlinewidth": 0,
              "ticks": ""
             }
            },
            "marker": {
             "colorbar": {
              "outlinewidth": 0,
              "ticks": ""
             }
            },
            "type": "scatter3d"
           }
          ],
          "scattercarpet": [
           {
            "marker": {
             "colorbar": {
              "outlinewidth": 0,
              "ticks": ""
             }
            },
            "type": "scattercarpet"
           }
          ],
          "scattergeo": [
           {
            "marker": {
             "colorbar": {
              "outlinewidth": 0,
              "ticks": ""
             }
            },
            "type": "scattergeo"
           }
          ],
          "scattergl": [
           {
            "marker": {
             "colorbar": {
              "outlinewidth": 0,
              "ticks": ""
             }
            },
            "type": "scattergl"
           }
          ],
          "scattermapbox": [
           {
            "marker": {
             "colorbar": {
              "outlinewidth": 0,
              "ticks": ""
             }
            },
            "type": "scattermapbox"
           }
          ],
          "scatterpolar": [
           {
            "marker": {
             "colorbar": {
              "outlinewidth": 0,
              "ticks": ""
             }
            },
            "type": "scatterpolar"
           }
          ],
          "scatterpolargl": [
           {
            "marker": {
             "colorbar": {
              "outlinewidth": 0,
              "ticks": ""
             }
            },
            "type": "scatterpolargl"
           }
          ],
          "scatterternary": [
           {
            "marker": {
             "colorbar": {
              "outlinewidth": 0,
              "ticks": ""
             }
            },
            "type": "scatterternary"
           }
          ],
          "surface": [
           {
            "colorbar": {
             "outlinewidth": 0,
             "ticks": ""
            },
            "colorscale": [
             [
              0,
              "#0d0887"
             ],
             [
              0.1111111111111111,
              "#46039f"
             ],
             [
              0.2222222222222222,
              "#7201a8"
             ],
             [
              0.3333333333333333,
              "#9c179e"
             ],
             [
              0.4444444444444444,
              "#bd3786"
             ],
             [
              0.5555555555555556,
              "#d8576b"
             ],
             [
              0.6666666666666666,
              "#ed7953"
             ],
             [
              0.7777777777777778,
              "#fb9f3a"
             ],
             [
              0.8888888888888888,
              "#fdca26"
             ],
             [
              1,
              "#f0f921"
             ]
            ],
            "type": "surface"
           }
          ],
          "table": [
           {
            "cells": {
             "fill": {
              "color": "#EBF0F8"
             },
             "line": {
              "color": "white"
             }
            },
            "header": {
             "fill": {
              "color": "#C8D4E3"
             },
             "line": {
              "color": "white"
             }
            },
            "type": "table"
           }
          ]
         },
         "layout": {
          "annotationdefaults": {
           "arrowcolor": "#2a3f5f",
           "arrowhead": 0,
           "arrowwidth": 1
          },
          "autotypenumbers": "strict",
          "coloraxis": {
           "colorbar": {
            "outlinewidth": 0,
            "ticks": ""
           }
          },
          "colorscale": {
           "diverging": [
            [
             0,
             "#8e0152"
            ],
            [
             0.1,
             "#c51b7d"
            ],
            [
             0.2,
             "#de77ae"
            ],
            [
             0.3,
             "#f1b6da"
            ],
            [
             0.4,
             "#fde0ef"
            ],
            [
             0.5,
             "#f7f7f7"
            ],
            [
             0.6,
             "#e6f5d0"
            ],
            [
             0.7,
             "#b8e186"
            ],
            [
             0.8,
             "#7fbc41"
            ],
            [
             0.9,
             "#4d9221"
            ],
            [
             1,
             "#276419"
            ]
           ],
           "sequential": [
            [
             0,
             "#0d0887"
            ],
            [
             0.1111111111111111,
             "#46039f"
            ],
            [
             0.2222222222222222,
             "#7201a8"
            ],
            [
             0.3333333333333333,
             "#9c179e"
            ],
            [
             0.4444444444444444,
             "#bd3786"
            ],
            [
             0.5555555555555556,
             "#d8576b"
            ],
            [
             0.6666666666666666,
             "#ed7953"
            ],
            [
             0.7777777777777778,
             "#fb9f3a"
            ],
            [
             0.8888888888888888,
             "#fdca26"
            ],
            [
             1,
             "#f0f921"
            ]
           ],
           "sequentialminus": [
            [
             0,
             "#0d0887"
            ],
            [
             0.1111111111111111,
             "#46039f"
            ],
            [
             0.2222222222222222,
             "#7201a8"
            ],
            [
             0.3333333333333333,
             "#9c179e"
            ],
            [
             0.4444444444444444,
             "#bd3786"
            ],
            [
             0.5555555555555556,
             "#d8576b"
            ],
            [
             0.6666666666666666,
             "#ed7953"
            ],
            [
             0.7777777777777778,
             "#fb9f3a"
            ],
            [
             0.8888888888888888,
             "#fdca26"
            ],
            [
             1,
             "#f0f921"
            ]
           ]
          },
          "colorway": [
           "#636efa",
           "#EF553B",
           "#00cc96",
           "#ab63fa",
           "#FFA15A",
           "#19d3f3",
           "#FF6692",
           "#B6E880",
           "#FF97FF",
           "#FECB52"
          ],
          "font": {
           "color": "#2a3f5f"
          },
          "geo": {
           "bgcolor": "white",
           "lakecolor": "white",
           "landcolor": "#E5ECF6",
           "showlakes": true,
           "showland": true,
           "subunitcolor": "white"
          },
          "hoverlabel": {
           "align": "left"
          },
          "hovermode": "closest",
          "mapbox": {
           "style": "light"
          },
          "paper_bgcolor": "white",
          "plot_bgcolor": "#E5ECF6",
          "polar": {
           "angularaxis": {
            "gridcolor": "white",
            "linecolor": "white",
            "ticks": ""
           },
           "bgcolor": "#E5ECF6",
           "radialaxis": {
            "gridcolor": "white",
            "linecolor": "white",
            "ticks": ""
           }
          },
          "scene": {
           "xaxis": {
            "backgroundcolor": "#E5ECF6",
            "gridcolor": "white",
            "gridwidth": 2,
            "linecolor": "white",
            "showbackground": true,
            "ticks": "",
            "zerolinecolor": "white"
           },
           "yaxis": {
            "backgroundcolor": "#E5ECF6",
            "gridcolor": "white",
            "gridwidth": 2,
            "linecolor": "white",
            "showbackground": true,
            "ticks": "",
            "zerolinecolor": "white"
           },
           "zaxis": {
            "backgroundcolor": "#E5ECF6",
            "gridcolor": "white",
            "gridwidth": 2,
            "linecolor": "white",
            "showbackground": true,
            "ticks": "",
            "zerolinecolor": "white"
           }
          },
          "shapedefaults": {
           "line": {
            "color": "#2a3f5f"
           }
          },
          "ternary": {
           "aaxis": {
            "gridcolor": "white",
            "linecolor": "white",
            "ticks": ""
           },
           "baxis": {
            "gridcolor": "white",
            "linecolor": "white",
            "ticks": ""
           },
           "bgcolor": "#E5ECF6",
           "caxis": {
            "gridcolor": "white",
            "linecolor": "white",
            "ticks": ""
           }
          },
          "title": {
           "x": 0.05
          },
          "xaxis": {
           "automargin": true,
           "gridcolor": "white",
           "linecolor": "white",
           "ticks": "",
           "title": {
            "standoff": 15
           },
           "zerolinecolor": "white",
           "zerolinewidth": 2
          },
          "yaxis": {
           "automargin": true,
           "gridcolor": "white",
           "linecolor": "white",
           "ticks": "",
           "title": {
            "standoff": 15
           },
           "zerolinecolor": "white",
           "zerolinewidth": 2
          }
         }
        },
        "xaxis": {
         "anchor": "y",
         "domain": [
          0,
          1
         ],
         "title": {
          "text": "CATEGORÍA"
         }
        },
        "yaxis": {
         "anchor": "x",
         "domain": [
          0,
          1
         ],
         "title": {
          "text": "TOTAL_+_IVA"
         }
        }
       }
      }
     },
     "metadata": {},
     "output_type": "display_data"
    }
   ],
   "source": [
    "px.bar(df_CAT, y='TOTAL_+_IVA')"
   ]
  },
  {
   "cell_type": "code",
   "execution_count": 521,
   "metadata": {},
   "outputs": [
    {
     "data": {
      "application/vnd.plotly.v1+json": {
       "config": {
        "plotlyServerURL": "https://plot.ly"
       },
       "data": [
        {
         "alignmentgroup": "True",
         "hovertemplate": "CATEGORÍA=%{x}<br>CANTIDAD_PEDIDA=%{y}<extra></extra>",
         "legendgroup": "",
         "marker": {
          "color": "#636efa",
          "pattern": {
           "shape": ""
          }
         },
         "name": "",
         "offsetgroup": "",
         "orientation": "v",
         "showlegend": false,
         "textposition": "auto",
         "type": "bar",
         "x": [
          "Vigilancia y seguridad industrial",
          "Alimentos y Bebidas",
          "Construcción y Mantenimiento",
          "Dotación y elementos de protección personal",
          "Servicios Profesionales",
          "Químicos y derivados",
          "Almacenamiento y empaques",
          "Vehículos y repuestos",
          "Mercadeo y publicidad",
          "Ingeniería e Investigación",
          "Aseo, Cafetería y Oficina",
          "Tecnología e información",
          "Vigilancia y seguridad",
          "Ferreteria",
          "Logística y transporte",
          "Gestión inmobiliaria",
          "Imprenta y litografía",
          "Manufactura",
          "Eléctricos y Electrónicos",
          "Moda y accesorios",
          "Mobiliario y decoración",
          "Medicina y Salud",
          "Viajes, Eventos y Entretenimiento",
          "Hogar y electrodomésticos",
          "Textiles",
          "Gestión ambiental",
          "Salud y Medicina",
          "Cuidado personal y Belleza",
          "Compras Sostenibles",
          "Generación y distribución de Energía",
          "Deporte y recreación",
          "Minería",
          "Servicios Públicos",
          "Educación y formación empresarial",
          "Agroindustrial",
          "Producción audiovisual"
         ],
         "xaxis": "x",
         "y": [
          234476,
          2763255.73,
          2502,
          27001,
          298.5,
          44667.700000000004,
          322955.7,
          17334,
          100534,
          206195,
          437284,
          1567,
          149,
          20672,
          353,
          11,
          104419,
          15020,
          11760,
          1050,
          927,
          30,
          58,
          276,
          3570,
          2912,
          627,
          66,
          975,
          5,
          146,
          7,
          82682,
          2,
          256,
          4
         ],
         "yaxis": "y"
        }
       ],
       "layout": {
        "barmode": "relative",
        "legend": {
         "tracegroupgap": 0
        },
        "margin": {
         "t": 60
        },
        "template": {
         "data": {
          "bar": [
           {
            "error_x": {
             "color": "#2a3f5f"
            },
            "error_y": {
             "color": "#2a3f5f"
            },
            "marker": {
             "line": {
              "color": "#E5ECF6",
              "width": 0.5
             },
             "pattern": {
              "fillmode": "overlay",
              "size": 10,
              "solidity": 0.2
             }
            },
            "type": "bar"
           }
          ],
          "barpolar": [
           {
            "marker": {
             "line": {
              "color": "#E5ECF6",
              "width": 0.5
             },
             "pattern": {
              "fillmode": "overlay",
              "size": 10,
              "solidity": 0.2
             }
            },
            "type": "barpolar"
           }
          ],
          "carpet": [
           {
            "aaxis": {
             "endlinecolor": "#2a3f5f",
             "gridcolor": "white",
             "linecolor": "white",
             "minorgridcolor": "white",
             "startlinecolor": "#2a3f5f"
            },
            "baxis": {
             "endlinecolor": "#2a3f5f",
             "gridcolor": "white",
             "linecolor": "white",
             "minorgridcolor": "white",
             "startlinecolor": "#2a3f5f"
            },
            "type": "carpet"
           }
          ],
          "choropleth": [
           {
            "colorbar": {
             "outlinewidth": 0,
             "ticks": ""
            },
            "type": "choropleth"
           }
          ],
          "contour": [
           {
            "colorbar": {
             "outlinewidth": 0,
             "ticks": ""
            },
            "colorscale": [
             [
              0,
              "#0d0887"
             ],
             [
              0.1111111111111111,
              "#46039f"
             ],
             [
              0.2222222222222222,
              "#7201a8"
             ],
             [
              0.3333333333333333,
              "#9c179e"
             ],
             [
              0.4444444444444444,
              "#bd3786"
             ],
             [
              0.5555555555555556,
              "#d8576b"
             ],
             [
              0.6666666666666666,
              "#ed7953"
             ],
             [
              0.7777777777777778,
              "#fb9f3a"
             ],
             [
              0.8888888888888888,
              "#fdca26"
             ],
             [
              1,
              "#f0f921"
             ]
            ],
            "type": "contour"
           }
          ],
          "contourcarpet": [
           {
            "colorbar": {
             "outlinewidth": 0,
             "ticks": ""
            },
            "type": "contourcarpet"
           }
          ],
          "heatmap": [
           {
            "colorbar": {
             "outlinewidth": 0,
             "ticks": ""
            },
            "colorscale": [
             [
              0,
              "#0d0887"
             ],
             [
              0.1111111111111111,
              "#46039f"
             ],
             [
              0.2222222222222222,
              "#7201a8"
             ],
             [
              0.3333333333333333,
              "#9c179e"
             ],
             [
              0.4444444444444444,
              "#bd3786"
             ],
             [
              0.5555555555555556,
              "#d8576b"
             ],
             [
              0.6666666666666666,
              "#ed7953"
             ],
             [
              0.7777777777777778,
              "#fb9f3a"
             ],
             [
              0.8888888888888888,
              "#fdca26"
             ],
             [
              1,
              "#f0f921"
             ]
            ],
            "type": "heatmap"
           }
          ],
          "heatmapgl": [
           {
            "colorbar": {
             "outlinewidth": 0,
             "ticks": ""
            },
            "colorscale": [
             [
              0,
              "#0d0887"
             ],
             [
              0.1111111111111111,
              "#46039f"
             ],
             [
              0.2222222222222222,
              "#7201a8"
             ],
             [
              0.3333333333333333,
              "#9c179e"
             ],
             [
              0.4444444444444444,
              "#bd3786"
             ],
             [
              0.5555555555555556,
              "#d8576b"
             ],
             [
              0.6666666666666666,
              "#ed7953"
             ],
             [
              0.7777777777777778,
              "#fb9f3a"
             ],
             [
              0.8888888888888888,
              "#fdca26"
             ],
             [
              1,
              "#f0f921"
             ]
            ],
            "type": "heatmapgl"
           }
          ],
          "histogram": [
           {
            "marker": {
             "pattern": {
              "fillmode": "overlay",
              "size": 10,
              "solidity": 0.2
             }
            },
            "type": "histogram"
           }
          ],
          "histogram2d": [
           {
            "colorbar": {
             "outlinewidth": 0,
             "ticks": ""
            },
            "colorscale": [
             [
              0,
              "#0d0887"
             ],
             [
              0.1111111111111111,
              "#46039f"
             ],
             [
              0.2222222222222222,
              "#7201a8"
             ],
             [
              0.3333333333333333,
              "#9c179e"
             ],
             [
              0.4444444444444444,
              "#bd3786"
             ],
             [
              0.5555555555555556,
              "#d8576b"
             ],
             [
              0.6666666666666666,
              "#ed7953"
             ],
             [
              0.7777777777777778,
              "#fb9f3a"
             ],
             [
              0.8888888888888888,
              "#fdca26"
             ],
             [
              1,
              "#f0f921"
             ]
            ],
            "type": "histogram2d"
           }
          ],
          "histogram2dcontour": [
           {
            "colorbar": {
             "outlinewidth": 0,
             "ticks": ""
            },
            "colorscale": [
             [
              0,
              "#0d0887"
             ],
             [
              0.1111111111111111,
              "#46039f"
             ],
             [
              0.2222222222222222,
              "#7201a8"
             ],
             [
              0.3333333333333333,
              "#9c179e"
             ],
             [
              0.4444444444444444,
              "#bd3786"
             ],
             [
              0.5555555555555556,
              "#d8576b"
             ],
             [
              0.6666666666666666,
              "#ed7953"
             ],
             [
              0.7777777777777778,
              "#fb9f3a"
             ],
             [
              0.8888888888888888,
              "#fdca26"
             ],
             [
              1,
              "#f0f921"
             ]
            ],
            "type": "histogram2dcontour"
           }
          ],
          "mesh3d": [
           {
            "colorbar": {
             "outlinewidth": 0,
             "ticks": ""
            },
            "type": "mesh3d"
           }
          ],
          "parcoords": [
           {
            "line": {
             "colorbar": {
              "outlinewidth": 0,
              "ticks": ""
             }
            },
            "type": "parcoords"
           }
          ],
          "pie": [
           {
            "automargin": true,
            "type": "pie"
           }
          ],
          "scatter": [
           {
            "marker": {
             "colorbar": {
              "outlinewidth": 0,
              "ticks": ""
             }
            },
            "type": "scatter"
           }
          ],
          "scatter3d": [
           {
            "line": {
             "colorbar": {
              "outlinewidth": 0,
              "ticks": ""
             }
            },
            "marker": {
             "colorbar": {
              "outlinewidth": 0,
              "ticks": ""
             }
            },
            "type": "scatter3d"
           }
          ],
          "scattercarpet": [
           {
            "marker": {
             "colorbar": {
              "outlinewidth": 0,
              "ticks": ""
             }
            },
            "type": "scattercarpet"
           }
          ],
          "scattergeo": [
           {
            "marker": {
             "colorbar": {
              "outlinewidth": 0,
              "ticks": ""
             }
            },
            "type": "scattergeo"
           }
          ],
          "scattergl": [
           {
            "marker": {
             "colorbar": {
              "outlinewidth": 0,
              "ticks": ""
             }
            },
            "type": "scattergl"
           }
          ],
          "scattermapbox": [
           {
            "marker": {
             "colorbar": {
              "outlinewidth": 0,
              "ticks": ""
             }
            },
            "type": "scattermapbox"
           }
          ],
          "scatterpolar": [
           {
            "marker": {
             "colorbar": {
              "outlinewidth": 0,
              "ticks": ""
             }
            },
            "type": "scatterpolar"
           }
          ],
          "scatterpolargl": [
           {
            "marker": {
             "colorbar": {
              "outlinewidth": 0,
              "ticks": ""
             }
            },
            "type": "scatterpolargl"
           }
          ],
          "scatterternary": [
           {
            "marker": {
             "colorbar": {
              "outlinewidth": 0,
              "ticks": ""
             }
            },
            "type": "scatterternary"
           }
          ],
          "surface": [
           {
            "colorbar": {
             "outlinewidth": 0,
             "ticks": ""
            },
            "colorscale": [
             [
              0,
              "#0d0887"
             ],
             [
              0.1111111111111111,
              "#46039f"
             ],
             [
              0.2222222222222222,
              "#7201a8"
             ],
             [
              0.3333333333333333,
              "#9c179e"
             ],
             [
              0.4444444444444444,
              "#bd3786"
             ],
             [
              0.5555555555555556,
              "#d8576b"
             ],
             [
              0.6666666666666666,
              "#ed7953"
             ],
             [
              0.7777777777777778,
              "#fb9f3a"
             ],
             [
              0.8888888888888888,
              "#fdca26"
             ],
             [
              1,
              "#f0f921"
             ]
            ],
            "type": "surface"
           }
          ],
          "table": [
           {
            "cells": {
             "fill": {
              "color": "#EBF0F8"
             },
             "line": {
              "color": "white"
             }
            },
            "header": {
             "fill": {
              "color": "#C8D4E3"
             },
             "line": {
              "color": "white"
             }
            },
            "type": "table"
           }
          ]
         },
         "layout": {
          "annotationdefaults": {
           "arrowcolor": "#2a3f5f",
           "arrowhead": 0,
           "arrowwidth": 1
          },
          "autotypenumbers": "strict",
          "coloraxis": {
           "colorbar": {
            "outlinewidth": 0,
            "ticks": ""
           }
          },
          "colorscale": {
           "diverging": [
            [
             0,
             "#8e0152"
            ],
            [
             0.1,
             "#c51b7d"
            ],
            [
             0.2,
             "#de77ae"
            ],
            [
             0.3,
             "#f1b6da"
            ],
            [
             0.4,
             "#fde0ef"
            ],
            [
             0.5,
             "#f7f7f7"
            ],
            [
             0.6,
             "#e6f5d0"
            ],
            [
             0.7,
             "#b8e186"
            ],
            [
             0.8,
             "#7fbc41"
            ],
            [
             0.9,
             "#4d9221"
            ],
            [
             1,
             "#276419"
            ]
           ],
           "sequential": [
            [
             0,
             "#0d0887"
            ],
            [
             0.1111111111111111,
             "#46039f"
            ],
            [
             0.2222222222222222,
             "#7201a8"
            ],
            [
             0.3333333333333333,
             "#9c179e"
            ],
            [
             0.4444444444444444,
             "#bd3786"
            ],
            [
             0.5555555555555556,
             "#d8576b"
            ],
            [
             0.6666666666666666,
             "#ed7953"
            ],
            [
             0.7777777777777778,
             "#fb9f3a"
            ],
            [
             0.8888888888888888,
             "#fdca26"
            ],
            [
             1,
             "#f0f921"
            ]
           ],
           "sequentialminus": [
            [
             0,
             "#0d0887"
            ],
            [
             0.1111111111111111,
             "#46039f"
            ],
            [
             0.2222222222222222,
             "#7201a8"
            ],
            [
             0.3333333333333333,
             "#9c179e"
            ],
            [
             0.4444444444444444,
             "#bd3786"
            ],
            [
             0.5555555555555556,
             "#d8576b"
            ],
            [
             0.6666666666666666,
             "#ed7953"
            ],
            [
             0.7777777777777778,
             "#fb9f3a"
            ],
            [
             0.8888888888888888,
             "#fdca26"
            ],
            [
             1,
             "#f0f921"
            ]
           ]
          },
          "colorway": [
           "#636efa",
           "#EF553B",
           "#00cc96",
           "#ab63fa",
           "#FFA15A",
           "#19d3f3",
           "#FF6692",
           "#B6E880",
           "#FF97FF",
           "#FECB52"
          ],
          "font": {
           "color": "#2a3f5f"
          },
          "geo": {
           "bgcolor": "white",
           "lakecolor": "white",
           "landcolor": "#E5ECF6",
           "showlakes": true,
           "showland": true,
           "subunitcolor": "white"
          },
          "hoverlabel": {
           "align": "left"
          },
          "hovermode": "closest",
          "mapbox": {
           "style": "light"
          },
          "paper_bgcolor": "white",
          "plot_bgcolor": "#E5ECF6",
          "polar": {
           "angularaxis": {
            "gridcolor": "white",
            "linecolor": "white",
            "ticks": ""
           },
           "bgcolor": "#E5ECF6",
           "radialaxis": {
            "gridcolor": "white",
            "linecolor": "white",
            "ticks": ""
           }
          },
          "scene": {
           "xaxis": {
            "backgroundcolor": "#E5ECF6",
            "gridcolor": "white",
            "gridwidth": 2,
            "linecolor": "white",
            "showbackground": true,
            "ticks": "",
            "zerolinecolor": "white"
           },
           "yaxis": {
            "backgroundcolor": "#E5ECF6",
            "gridcolor": "white",
            "gridwidth": 2,
            "linecolor": "white",
            "showbackground": true,
            "ticks": "",
            "zerolinecolor": "white"
           },
           "zaxis": {
            "backgroundcolor": "#E5ECF6",
            "gridcolor": "white",
            "gridwidth": 2,
            "linecolor": "white",
            "showbackground": true,
            "ticks": "",
            "zerolinecolor": "white"
           }
          },
          "shapedefaults": {
           "line": {
            "color": "#2a3f5f"
           }
          },
          "ternary": {
           "aaxis": {
            "gridcolor": "white",
            "linecolor": "white",
            "ticks": ""
           },
           "baxis": {
            "gridcolor": "white",
            "linecolor": "white",
            "ticks": ""
           },
           "bgcolor": "#E5ECF6",
           "caxis": {
            "gridcolor": "white",
            "linecolor": "white",
            "ticks": ""
           }
          },
          "title": {
           "x": 0.05
          },
          "xaxis": {
           "automargin": true,
           "gridcolor": "white",
           "linecolor": "white",
           "ticks": "",
           "title": {
            "standoff": 15
           },
           "zerolinecolor": "white",
           "zerolinewidth": 2
          },
          "yaxis": {
           "automargin": true,
           "gridcolor": "white",
           "linecolor": "white",
           "ticks": "",
           "title": {
            "standoff": 15
           },
           "zerolinecolor": "white",
           "zerolinewidth": 2
          }
         }
        },
        "xaxis": {
         "anchor": "y",
         "domain": [
          0,
          1
         ],
         "title": {
          "text": "CATEGORÍA"
         }
        },
        "yaxis": {
         "anchor": "x",
         "domain": [
          0,
          1
         ],
         "title": {
          "text": "CANTIDAD_PEDIDA"
         }
        }
       }
      }
     },
     "metadata": {},
     "output_type": "display_data"
    }
   ],
   "source": [
    "px.bar(df_CAT, y='CANTIDAD_PEDIDA')"
   ]
  },
  {
   "cell_type": "markdown",
   "metadata": {},
   "source": [
    "## Compañía compradora"
   ]
  },
  {
   "cell_type": "code",
   "execution_count": 522,
   "metadata": {},
   "outputs": [
    {
     "data": {
      "text/html": [
       "<div>\n",
       "<style scoped>\n",
       "    .dataframe tbody tr th:only-of-type {\n",
       "        vertical-align: middle;\n",
       "    }\n",
       "\n",
       "    .dataframe tbody tr th {\n",
       "        vertical-align: top;\n",
       "    }\n",
       "\n",
       "    .dataframe thead th {\n",
       "        text-align: right;\n",
       "    }\n",
       "</style>\n",
       "<table border=\"1\" class=\"dataframe\">\n",
       "  <thead>\n",
       "    <tr style=\"text-align: right;\">\n",
       "      <th></th>\n",
       "      <th>CANTIDAD_PEDIDA</th>\n",
       "      <th>CANTIDAD_RECIBIDA</th>\n",
       "      <th>PRECIO_UNITARIO</th>\n",
       "      <th>PRECIO_UNITARIO_+_IVA</th>\n",
       "      <th>IVA</th>\n",
       "      <th>TOTAL_SIN_IVA</th>\n",
       "      <th>TOTAL_+_IVA</th>\n",
       "    </tr>\n",
       "    <tr>\n",
       "      <th>COMPAÑÍA_COMPRADORA</th>\n",
       "      <th></th>\n",
       "      <th></th>\n",
       "      <th></th>\n",
       "      <th></th>\n",
       "      <th></th>\n",
       "      <th></th>\n",
       "      <th></th>\n",
       "    </tr>\n",
       "  </thead>\n",
       "  <tbody>\n",
       "    <tr>\n",
       "      <th>Portal comprador 24</th>\n",
       "      <td>231,092.00</td>\n",
       "      <td>231,092.00</td>\n",
       "      <td>217,180,464.00</td>\n",
       "      <td>258,444,720.00</td>\n",
       "      <td>41264145</td>\n",
       "      <td>4,293,598,464.00</td>\n",
       "      <td>5,109,382,656.00</td>\n",
       "    </tr>\n",
       "    <tr>\n",
       "      <th>Portal comprador 1</th>\n",
       "      <td>432,971.20</td>\n",
       "      <td>414,527.30</td>\n",
       "      <td>1,085,985,536.00</td>\n",
       "      <td>1,252,854,528.00</td>\n",
       "      <td>166869025</td>\n",
       "      <td>2,742,179,328.00</td>\n",
       "      <td>3,139,771,392.00</td>\n",
       "    </tr>\n",
       "    <tr>\n",
       "      <th>Portal comprador 2</th>\n",
       "      <td>457,901.23</td>\n",
       "      <td>367,442.26</td>\n",
       "      <td>100,662,184.00</td>\n",
       "      <td>113,120,280.00</td>\n",
       "      <td>12458101</td>\n",
       "      <td>1,611,188,352.00</td>\n",
       "      <td>1,705,507,200.00</td>\n",
       "    </tr>\n",
       "    <tr>\n",
       "      <th>Portal comprador 6</th>\n",
       "      <td>21,637.00</td>\n",
       "      <td>10,844.00</td>\n",
       "      <td>41,397,468.00</td>\n",
       "      <td>49,203,900.00</td>\n",
       "      <td>7806431</td>\n",
       "      <td>555,513,088.00</td>\n",
       "      <td>655,103,552.00</td>\n",
       "    </tr>\n",
       "    <tr>\n",
       "      <th>Portal comprador 18</th>\n",
       "      <td>56,940.00</td>\n",
       "      <td>53,874.00</td>\n",
       "      <td>1,447,513.00</td>\n",
       "      <td>1,715,023.00</td>\n",
       "      <td>267510</td>\n",
       "      <td>436,416,352.00</td>\n",
       "      <td>538,767,872.00</td>\n",
       "    </tr>\n",
       "    <tr>\n",
       "      <th>Portal comprador 29</th>\n",
       "      <td>2,838,287.00</td>\n",
       "      <td>147.00</td>\n",
       "      <td>2,838,362.00</td>\n",
       "      <td>3,333,284.00</td>\n",
       "      <td>494922</td>\n",
       "      <td>409,359,680.00</td>\n",
       "      <td>479,823,360.00</td>\n",
       "    </tr>\n",
       "    <tr>\n",
       "      <th>Portal comprador 30</th>\n",
       "      <td>319,852.70</td>\n",
       "      <td>695.00</td>\n",
       "      <td>15,856,626.00</td>\n",
       "      <td>18,783,460.00</td>\n",
       "      <td>2926829</td>\n",
       "      <td>210,401,360.00</td>\n",
       "      <td>249,989,136.00</td>\n",
       "    </tr>\n",
       "    <tr>\n",
       "      <th>Portal comprador 4</th>\n",
       "      <td>4,250.00</td>\n",
       "      <td>3,861.00</td>\n",
       "      <td>76,941,864.00</td>\n",
       "      <td>87,158,928.00</td>\n",
       "      <td>10217062</td>\n",
       "      <td>160,436,176.00</td>\n",
       "      <td>179,230,640.00</td>\n",
       "    </tr>\n",
       "    <tr>\n",
       "      <th>Portal comprador 8</th>\n",
       "      <td>1,307.00</td>\n",
       "      <td>463.00</td>\n",
       "      <td>56,746,584.00</td>\n",
       "      <td>65,870,712.00</td>\n",
       "      <td>9124132</td>\n",
       "      <td>102,270,872.00</td>\n",
       "      <td>118,483,616.00</td>\n",
       "    </tr>\n",
       "    <tr>\n",
       "      <th>Portal comprador 31</th>\n",
       "      <td>107.00</td>\n",
       "      <td>1.00</td>\n",
       "      <td>13,811,660.00</td>\n",
       "      <td>16,435,876.00</td>\n",
       "      <td>2624216</td>\n",
       "      <td>42,950,160.00</td>\n",
       "      <td>51,110,688.00</td>\n",
       "    </tr>\n",
       "    <tr>\n",
       "      <th>Portal comprador 5</th>\n",
       "      <td>35,644.50</td>\n",
       "      <td>24,872.50</td>\n",
       "      <td>8,154,880.00</td>\n",
       "      <td>9,294,217.00</td>\n",
       "      <td>1139341</td>\n",
       "      <td>44,941,556.00</td>\n",
       "      <td>51,091,624.00</td>\n",
       "    </tr>\n",
       "    <tr>\n",
       "      <th>Portal comprador 20</th>\n",
       "      <td>1,187.00</td>\n",
       "      <td>0.00</td>\n",
       "      <td>483,411.00</td>\n",
       "      <td>552,650.00</td>\n",
       "      <td>69239</td>\n",
       "      <td>29,126,856.00</td>\n",
       "      <td>29,341,420.00</td>\n",
       "    </tr>\n",
       "    <tr>\n",
       "      <th>Portal comprador 28</th>\n",
       "      <td>2.00</td>\n",
       "      <td>0.00</td>\n",
       "      <td>25,836,052.00</td>\n",
       "      <td>26,460,554.00</td>\n",
       "      <td>624503</td>\n",
       "      <td>25,836,052.00</td>\n",
       "      <td>26,460,554.00</td>\n",
       "    </tr>\n",
       "    <tr>\n",
       "      <th>Portal comprador 17</th>\n",
       "      <td>2.00</td>\n",
       "      <td>2.00</td>\n",
       "      <td>3,070,000.00</td>\n",
       "      <td>3,653,300.00</td>\n",
       "      <td>583300</td>\n",
       "      <td>6,140,000.00</td>\n",
       "      <td>7,306,600.00</td>\n",
       "    </tr>\n",
       "    <tr>\n",
       "      <th>Portal comprador 12</th>\n",
       "      <td>1,515.00</td>\n",
       "      <td>484.00</td>\n",
       "      <td>897,669.00</td>\n",
       "      <td>1,061,322.00</td>\n",
       "      <td>163653</td>\n",
       "      <td>5,165,571.00</td>\n",
       "      <td>5,664,299.00</td>\n",
       "    </tr>\n",
       "    <tr>\n",
       "      <th>Portal comprador 21</th>\n",
       "      <td>119.00</td>\n",
       "      <td>105.00</td>\n",
       "      <td>146,000.00</td>\n",
       "      <td>146,000.00</td>\n",
       "      <td>0</td>\n",
       "      <td>4,189,000.00</td>\n",
       "      <td>4,189,000.00</td>\n",
       "    </tr>\n",
       "    <tr>\n",
       "      <th>Portal comprador 14</th>\n",
       "      <td>2.00</td>\n",
       "      <td>2.00</td>\n",
       "      <td>2,770,206.00</td>\n",
       "      <td>3,296,546.00</td>\n",
       "      <td>526340</td>\n",
       "      <td>2,770,206.00</td>\n",
       "      <td>3,296,546.00</td>\n",
       "    </tr>\n",
       "    <tr>\n",
       "      <th>Portal comprador 7</th>\n",
       "      <td>220.00</td>\n",
       "      <td>185.00</td>\n",
       "      <td>1,324,445.00</td>\n",
       "      <td>1,428,471.00</td>\n",
       "      <td>104026</td>\n",
       "      <td>2,839,494.00</td>\n",
       "      <td>3,044,721.00</td>\n",
       "    </tr>\n",
       "    <tr>\n",
       "      <th>Portal comprador 32</th>\n",
       "      <td>13.00</td>\n",
       "      <td>0.00</td>\n",
       "      <td>1,177,811.00</td>\n",
       "      <td>1,198,711.00</td>\n",
       "      <td>20900</td>\n",
       "      <td>2,387,811.00</td>\n",
       "      <td>2,638,611.00</td>\n",
       "    </tr>\n",
       "    <tr>\n",
       "      <th>Portal comprador 27</th>\n",
       "      <td>170.00</td>\n",
       "      <td>26.00</td>\n",
       "      <td>280,227.00</td>\n",
       "      <td>327,482.00</td>\n",
       "      <td>47255</td>\n",
       "      <td>1,342,701.00</td>\n",
       "      <td>1,584,488.00</td>\n",
       "    </tr>\n",
       "    <tr>\n",
       "      <th>Portal comprador 10</th>\n",
       "      <td>405.00</td>\n",
       "      <td>124.00</td>\n",
       "      <td>471,282.00</td>\n",
       "      <td>537,537.00</td>\n",
       "      <td>66255</td>\n",
       "      <td>1,051,849.00</td>\n",
       "      <td>1,204,518.00</td>\n",
       "    </tr>\n",
       "    <tr>\n",
       "      <th>Portal comprador 11</th>\n",
       "      <td>223.00</td>\n",
       "      <td>69.00</td>\n",
       "      <td>266,071.00</td>\n",
       "      <td>305,932.00</td>\n",
       "      <td>39861</td>\n",
       "      <td>974,394.00</td>\n",
       "      <td>1,070,101.00</td>\n",
       "    </tr>\n",
       "    <tr>\n",
       "      <th>Portal comprador 13</th>\n",
       "      <td>141.00</td>\n",
       "      <td>94.00</td>\n",
       "      <td>276,458.00</td>\n",
       "      <td>302,227.00</td>\n",
       "      <td>25769</td>\n",
       "      <td>739,565.00</td>\n",
       "      <td>811,498.00</td>\n",
       "    </tr>\n",
       "    <tr>\n",
       "      <th>Portal comprador 3</th>\n",
       "      <td>7.00</td>\n",
       "      <td>7.00</td>\n",
       "      <td>92,084.00</td>\n",
       "      <td>109,580.00</td>\n",
       "      <td>17496</td>\n",
       "      <td>644,588.00</td>\n",
       "      <td>767,060.00</td>\n",
       "    </tr>\n",
       "    <tr>\n",
       "      <th>Portal comprador 16</th>\n",
       "      <td>1.00</td>\n",
       "      <td>1.00</td>\n",
       "      <td>400,752.00</td>\n",
       "      <td>400,752.00</td>\n",
       "      <td>0</td>\n",
       "      <td>400,752.00</td>\n",
       "      <td>400,752.00</td>\n",
       "    </tr>\n",
       "    <tr>\n",
       "      <th>Portal comprador 15</th>\n",
       "      <td>30.00</td>\n",
       "      <td>0.00</td>\n",
       "      <td>12,000.00</td>\n",
       "      <td>12,000.00</td>\n",
       "      <td>0</td>\n",
       "      <td>360,000.00</td>\n",
       "      <td>360,000.00</td>\n",
       "    </tr>\n",
       "    <tr>\n",
       "      <th>Portal comprador 26</th>\n",
       "      <td>3.00</td>\n",
       "      <td>3.00</td>\n",
       "      <td>94,000.00</td>\n",
       "      <td>111,860.00</td>\n",
       "      <td>17860</td>\n",
       "      <td>144,585.00</td>\n",
       "      <td>178,500.00</td>\n",
       "    </tr>\n",
       "    <tr>\n",
       "      <th>Portal comprador 25</th>\n",
       "      <td>2.00</td>\n",
       "      <td>0.00</td>\n",
       "      <td>23,456.00</td>\n",
       "      <td>23,456.00</td>\n",
       "      <td>0</td>\n",
       "      <td>46,912.00</td>\n",
       "      <td>46,912.00</td>\n",
       "    </tr>\n",
       "    <tr>\n",
       "      <th>Portal comprador 33</th>\n",
       "      <td>3.00</td>\n",
       "      <td>0.00</td>\n",
       "      <td>8,403.00</td>\n",
       "      <td>10,000.00</td>\n",
       "      <td>1597</td>\n",
       "      <td>25,210.00</td>\n",
       "      <td>30,000.00</td>\n",
       "    </tr>\n",
       "    <tr>\n",
       "      <th>Portal comprador 9</th>\n",
       "      <td>1.00</td>\n",
       "      <td>0.00</td>\n",
       "      <td>25,600.00</td>\n",
       "      <td>25,600.00</td>\n",
       "      <td>0</td>\n",
       "      <td>25,600.00</td>\n",
       "      <td>25,600.00</td>\n",
       "    </tr>\n",
       "    <tr>\n",
       "      <th>Portal comprador 19</th>\n",
       "      <td>10.00</td>\n",
       "      <td>0.00</td>\n",
       "      <td>2,000.00</td>\n",
       "      <td>2,000.00</td>\n",
       "      <td>0</td>\n",
       "      <td>20,000.00</td>\n",
       "      <td>20,000.00</td>\n",
       "    </tr>\n",
       "    <tr>\n",
       "      <th>Portal comprador 22</th>\n",
       "      <td>1.00</td>\n",
       "      <td>0.00</td>\n",
       "      <td>8,418.00</td>\n",
       "      <td>9,091.00</td>\n",
       "      <td>673</td>\n",
       "      <td>8,364.00</td>\n",
       "      <td>9,091.00</td>\n",
       "    </tr>\n",
       "    <tr>\n",
       "      <th>Portal comprador 23</th>\n",
       "      <td>1.00</td>\n",
       "      <td>0.00</td>\n",
       "      <td>4,800.00</td>\n",
       "      <td>5,712.00</td>\n",
       "      <td>912</td>\n",
       "      <td>4,627.00</td>\n",
       "      <td>5,712.00</td>\n",
       "    </tr>\n",
       "  </tbody>\n",
       "</table>\n",
       "</div>"
      ],
      "text/plain": [
       "                         CANTIDAD_PEDIDA    CANTIDAD_RECIBIDA  \\\n",
       "COMPAÑÍA_COMPRADORA                                             \n",
       "Portal comprador 24           231,092.00           231,092.00   \n",
       "Portal comprador 1            432,971.20           414,527.30   \n",
       "Portal comprador 2            457,901.23           367,442.26   \n",
       "Portal comprador 6             21,637.00            10,844.00   \n",
       "Portal comprador 18            56,940.00            53,874.00   \n",
       "Portal comprador 29         2,838,287.00               147.00   \n",
       "Portal comprador 30           319,852.70               695.00   \n",
       "Portal comprador 4              4,250.00             3,861.00   \n",
       "Portal comprador 8              1,307.00               463.00   \n",
       "Portal comprador 31               107.00                 1.00   \n",
       "Portal comprador 5             35,644.50            24,872.50   \n",
       "Portal comprador 20             1,187.00                 0.00   \n",
       "Portal comprador 28                 2.00                 0.00   \n",
       "Portal comprador 17                 2.00                 2.00   \n",
       "Portal comprador 12             1,515.00               484.00   \n",
       "Portal comprador 21               119.00               105.00   \n",
       "Portal comprador 14                 2.00                 2.00   \n",
       "Portal comprador 7                220.00               185.00   \n",
       "Portal comprador 32                13.00                 0.00   \n",
       "Portal comprador 27               170.00                26.00   \n",
       "Portal comprador 10               405.00               124.00   \n",
       "Portal comprador 11               223.00                69.00   \n",
       "Portal comprador 13               141.00                94.00   \n",
       "Portal comprador 3                  7.00                 7.00   \n",
       "Portal comprador 16                 1.00                 1.00   \n",
       "Portal comprador 15                30.00                 0.00   \n",
       "Portal comprador 26                 3.00                 3.00   \n",
       "Portal comprador 25                 2.00                 0.00   \n",
       "Portal comprador 33                 3.00                 0.00   \n",
       "Portal comprador 9                  1.00                 0.00   \n",
       "Portal comprador 19                10.00                 0.00   \n",
       "Portal comprador 22                 1.00                 0.00   \n",
       "Portal comprador 23                 1.00                 0.00   \n",
       "\n",
       "                         PRECIO_UNITARIO  PRECIO_UNITARIO_+_IVA        IVA  \\\n",
       "COMPAÑÍA_COMPRADORA                                                          \n",
       "Portal comprador 24       217,180,464.00         258,444,720.00   41264145   \n",
       "Portal comprador 1      1,085,985,536.00       1,252,854,528.00  166869025   \n",
       "Portal comprador 2        100,662,184.00         113,120,280.00   12458101   \n",
       "Portal comprador 6         41,397,468.00          49,203,900.00    7806431   \n",
       "Portal comprador 18         1,447,513.00           1,715,023.00     267510   \n",
       "Portal comprador 29         2,838,362.00           3,333,284.00     494922   \n",
       "Portal comprador 30        15,856,626.00          18,783,460.00    2926829   \n",
       "Portal comprador 4         76,941,864.00          87,158,928.00   10217062   \n",
       "Portal comprador 8         56,746,584.00          65,870,712.00    9124132   \n",
       "Portal comprador 31        13,811,660.00          16,435,876.00    2624216   \n",
       "Portal comprador 5          8,154,880.00           9,294,217.00    1139341   \n",
       "Portal comprador 20           483,411.00             552,650.00      69239   \n",
       "Portal comprador 28        25,836,052.00          26,460,554.00     624503   \n",
       "Portal comprador 17         3,070,000.00           3,653,300.00     583300   \n",
       "Portal comprador 12           897,669.00           1,061,322.00     163653   \n",
       "Portal comprador 21           146,000.00             146,000.00          0   \n",
       "Portal comprador 14         2,770,206.00           3,296,546.00     526340   \n",
       "Portal comprador 7          1,324,445.00           1,428,471.00     104026   \n",
       "Portal comprador 32         1,177,811.00           1,198,711.00      20900   \n",
       "Portal comprador 27           280,227.00             327,482.00      47255   \n",
       "Portal comprador 10           471,282.00             537,537.00      66255   \n",
       "Portal comprador 11           266,071.00             305,932.00      39861   \n",
       "Portal comprador 13           276,458.00             302,227.00      25769   \n",
       "Portal comprador 3             92,084.00             109,580.00      17496   \n",
       "Portal comprador 16           400,752.00             400,752.00          0   \n",
       "Portal comprador 15            12,000.00              12,000.00          0   \n",
       "Portal comprador 26            94,000.00             111,860.00      17860   \n",
       "Portal comprador 25            23,456.00              23,456.00          0   \n",
       "Portal comprador 33             8,403.00              10,000.00       1597   \n",
       "Portal comprador 9             25,600.00              25,600.00          0   \n",
       "Portal comprador 19             2,000.00               2,000.00          0   \n",
       "Portal comprador 22             8,418.00               9,091.00        673   \n",
       "Portal comprador 23             4,800.00               5,712.00        912   \n",
       "\n",
       "                           TOTAL_SIN_IVA          TOTAL_+_IVA  \n",
       "COMPAÑÍA_COMPRADORA                                            \n",
       "Portal comprador 24     4,293,598,464.00     5,109,382,656.00  \n",
       "Portal comprador 1      2,742,179,328.00     3,139,771,392.00  \n",
       "Portal comprador 2      1,611,188,352.00     1,705,507,200.00  \n",
       "Portal comprador 6        555,513,088.00       655,103,552.00  \n",
       "Portal comprador 18       436,416,352.00       538,767,872.00  \n",
       "Portal comprador 29       409,359,680.00       479,823,360.00  \n",
       "Portal comprador 30       210,401,360.00       249,989,136.00  \n",
       "Portal comprador 4        160,436,176.00       179,230,640.00  \n",
       "Portal comprador 8        102,270,872.00       118,483,616.00  \n",
       "Portal comprador 31        42,950,160.00        51,110,688.00  \n",
       "Portal comprador 5         44,941,556.00        51,091,624.00  \n",
       "Portal comprador 20        29,126,856.00        29,341,420.00  \n",
       "Portal comprador 28        25,836,052.00        26,460,554.00  \n",
       "Portal comprador 17         6,140,000.00         7,306,600.00  \n",
       "Portal comprador 12         5,165,571.00         5,664,299.00  \n",
       "Portal comprador 21         4,189,000.00         4,189,000.00  \n",
       "Portal comprador 14         2,770,206.00         3,296,546.00  \n",
       "Portal comprador 7          2,839,494.00         3,044,721.00  \n",
       "Portal comprador 32         2,387,811.00         2,638,611.00  \n",
       "Portal comprador 27         1,342,701.00         1,584,488.00  \n",
       "Portal comprador 10         1,051,849.00         1,204,518.00  \n",
       "Portal comprador 11           974,394.00         1,070,101.00  \n",
       "Portal comprador 13           739,565.00           811,498.00  \n",
       "Portal comprador 3            644,588.00           767,060.00  \n",
       "Portal comprador 16           400,752.00           400,752.00  \n",
       "Portal comprador 15           360,000.00           360,000.00  \n",
       "Portal comprador 26           144,585.00           178,500.00  \n",
       "Portal comprador 25            46,912.00            46,912.00  \n",
       "Portal comprador 33            25,210.00            30,000.00  \n",
       "Portal comprador 9             25,600.00            25,600.00  \n",
       "Portal comprador 19            20,000.00            20,000.00  \n",
       "Portal comprador 22             8,364.00             9,091.00  \n",
       "Portal comprador 23             4,627.00             5,712.00  "
      ]
     },
     "execution_count": 522,
     "metadata": {},
     "output_type": "execute_result"
    }
   ],
   "source": [
    "\n",
    "df_Comp = df.groupby('COMPAÑÍA_COMPRADORA').sum()\n",
    "df_Comp.sort_values(by='TOTAL_+_IVA', inplace=True, ascending=False)\n",
    "df_Comp"
   ]
  },
  {
   "cell_type": "code",
   "execution_count": 523,
   "metadata": {},
   "outputs": [
    {
     "data": {
      "application/vnd.plotly.v1+json": {
       "config": {
        "plotlyServerURL": "https://plot.ly"
       },
       "data": [
        {
         "alignmentgroup": "True",
         "hovertemplate": "COMPAÑÍA_COMPRADORA=%{x}<br>TOTAL_+_IVA=%{y}<extra></extra>",
         "legendgroup": "",
         "marker": {
          "color": "#636efa",
          "pattern": {
           "shape": ""
          }
         },
         "name": "",
         "offsetgroup": "",
         "orientation": "v",
         "showlegend": false,
         "textposition": "auto",
         "type": "bar",
         "x": [
          "Portal comprador 24",
          "Portal comprador 1",
          "Portal comprador 2",
          "Portal comprador 6",
          "Portal comprador 18",
          "Portal comprador 29",
          "Portal comprador 30",
          "Portal comprador 4",
          "Portal comprador 8",
          "Portal comprador 31",
          "Portal comprador 5",
          "Portal comprador 20",
          "Portal comprador 28",
          "Portal comprador 17",
          "Portal comprador 12",
          "Portal comprador 21",
          "Portal comprador 14",
          "Portal comprador 7",
          "Portal comprador 32",
          "Portal comprador 27",
          "Portal comprador 10",
          "Portal comprador 11",
          "Portal comprador 13",
          "Portal comprador 3",
          "Portal comprador 16",
          "Portal comprador 15",
          "Portal comprador 26",
          "Portal comprador 25",
          "Portal comprador 33",
          "Portal comprador 9",
          "Portal comprador 19",
          "Portal comprador 22",
          "Portal comprador 23"
         ],
         "xaxis": "x",
         "y": [
          5109382656,
          3139771392,
          1705507200,
          655103552,
          538767872,
          479823360,
          249989136,
          179230640,
          118483616,
          51110688,
          51091624,
          29341420,
          26460554,
          7306600,
          5664299,
          4189000,
          3296546,
          3044721,
          2638611,
          1584488,
          1204518,
          1070101,
          811498,
          767060,
          400752,
          360000,
          178500,
          46912,
          30000,
          25600,
          20000,
          9091,
          5712
         ],
         "yaxis": "y"
        }
       ],
       "layout": {
        "barmode": "relative",
        "legend": {
         "tracegroupgap": 0
        },
        "margin": {
         "t": 60
        },
        "template": {
         "data": {
          "bar": [
           {
            "error_x": {
             "color": "#2a3f5f"
            },
            "error_y": {
             "color": "#2a3f5f"
            },
            "marker": {
             "line": {
              "color": "#E5ECF6",
              "width": 0.5
             },
             "pattern": {
              "fillmode": "overlay",
              "size": 10,
              "solidity": 0.2
             }
            },
            "type": "bar"
           }
          ],
          "barpolar": [
           {
            "marker": {
             "line": {
              "color": "#E5ECF6",
              "width": 0.5
             },
             "pattern": {
              "fillmode": "overlay",
              "size": 10,
              "solidity": 0.2
             }
            },
            "type": "barpolar"
           }
          ],
          "carpet": [
           {
            "aaxis": {
             "endlinecolor": "#2a3f5f",
             "gridcolor": "white",
             "linecolor": "white",
             "minorgridcolor": "white",
             "startlinecolor": "#2a3f5f"
            },
            "baxis": {
             "endlinecolor": "#2a3f5f",
             "gridcolor": "white",
             "linecolor": "white",
             "minorgridcolor": "white",
             "startlinecolor": "#2a3f5f"
            },
            "type": "carpet"
           }
          ],
          "choropleth": [
           {
            "colorbar": {
             "outlinewidth": 0,
             "ticks": ""
            },
            "type": "choropleth"
           }
          ],
          "contour": [
           {
            "colorbar": {
             "outlinewidth": 0,
             "ticks": ""
            },
            "colorscale": [
             [
              0,
              "#0d0887"
             ],
             [
              0.1111111111111111,
              "#46039f"
             ],
             [
              0.2222222222222222,
              "#7201a8"
             ],
             [
              0.3333333333333333,
              "#9c179e"
             ],
             [
              0.4444444444444444,
              "#bd3786"
             ],
             [
              0.5555555555555556,
              "#d8576b"
             ],
             [
              0.6666666666666666,
              "#ed7953"
             ],
             [
              0.7777777777777778,
              "#fb9f3a"
             ],
             [
              0.8888888888888888,
              "#fdca26"
             ],
             [
              1,
              "#f0f921"
             ]
            ],
            "type": "contour"
           }
          ],
          "contourcarpet": [
           {
            "colorbar": {
             "outlinewidth": 0,
             "ticks": ""
            },
            "type": "contourcarpet"
           }
          ],
          "heatmap": [
           {
            "colorbar": {
             "outlinewidth": 0,
             "ticks": ""
            },
            "colorscale": [
             [
              0,
              "#0d0887"
             ],
             [
              0.1111111111111111,
              "#46039f"
             ],
             [
              0.2222222222222222,
              "#7201a8"
             ],
             [
              0.3333333333333333,
              "#9c179e"
             ],
             [
              0.4444444444444444,
              "#bd3786"
             ],
             [
              0.5555555555555556,
              "#d8576b"
             ],
             [
              0.6666666666666666,
              "#ed7953"
             ],
             [
              0.7777777777777778,
              "#fb9f3a"
             ],
             [
              0.8888888888888888,
              "#fdca26"
             ],
             [
              1,
              "#f0f921"
             ]
            ],
            "type": "heatmap"
           }
          ],
          "heatmapgl": [
           {
            "colorbar": {
             "outlinewidth": 0,
             "ticks": ""
            },
            "colorscale": [
             [
              0,
              "#0d0887"
             ],
             [
              0.1111111111111111,
              "#46039f"
             ],
             [
              0.2222222222222222,
              "#7201a8"
             ],
             [
              0.3333333333333333,
              "#9c179e"
             ],
             [
              0.4444444444444444,
              "#bd3786"
             ],
             [
              0.5555555555555556,
              "#d8576b"
             ],
             [
              0.6666666666666666,
              "#ed7953"
             ],
             [
              0.7777777777777778,
              "#fb9f3a"
             ],
             [
              0.8888888888888888,
              "#fdca26"
             ],
             [
              1,
              "#f0f921"
             ]
            ],
            "type": "heatmapgl"
           }
          ],
          "histogram": [
           {
            "marker": {
             "pattern": {
              "fillmode": "overlay",
              "size": 10,
              "solidity": 0.2
             }
            },
            "type": "histogram"
           }
          ],
          "histogram2d": [
           {
            "colorbar": {
             "outlinewidth": 0,
             "ticks": ""
            },
            "colorscale": [
             [
              0,
              "#0d0887"
             ],
             [
              0.1111111111111111,
              "#46039f"
             ],
             [
              0.2222222222222222,
              "#7201a8"
             ],
             [
              0.3333333333333333,
              "#9c179e"
             ],
             [
              0.4444444444444444,
              "#bd3786"
             ],
             [
              0.5555555555555556,
              "#d8576b"
             ],
             [
              0.6666666666666666,
              "#ed7953"
             ],
             [
              0.7777777777777778,
              "#fb9f3a"
             ],
             [
              0.8888888888888888,
              "#fdca26"
             ],
             [
              1,
              "#f0f921"
             ]
            ],
            "type": "histogram2d"
           }
          ],
          "histogram2dcontour": [
           {
            "colorbar": {
             "outlinewidth": 0,
             "ticks": ""
            },
            "colorscale": [
             [
              0,
              "#0d0887"
             ],
             [
              0.1111111111111111,
              "#46039f"
             ],
             [
              0.2222222222222222,
              "#7201a8"
             ],
             [
              0.3333333333333333,
              "#9c179e"
             ],
             [
              0.4444444444444444,
              "#bd3786"
             ],
             [
              0.5555555555555556,
              "#d8576b"
             ],
             [
              0.6666666666666666,
              "#ed7953"
             ],
             [
              0.7777777777777778,
              "#fb9f3a"
             ],
             [
              0.8888888888888888,
              "#fdca26"
             ],
             [
              1,
              "#f0f921"
             ]
            ],
            "type": "histogram2dcontour"
           }
          ],
          "mesh3d": [
           {
            "colorbar": {
             "outlinewidth": 0,
             "ticks": ""
            },
            "type": "mesh3d"
           }
          ],
          "parcoords": [
           {
            "line": {
             "colorbar": {
              "outlinewidth": 0,
              "ticks": ""
             }
            },
            "type": "parcoords"
           }
          ],
          "pie": [
           {
            "automargin": true,
            "type": "pie"
           }
          ],
          "scatter": [
           {
            "marker": {
             "colorbar": {
              "outlinewidth": 0,
              "ticks": ""
             }
            },
            "type": "scatter"
           }
          ],
          "scatter3d": [
           {
            "line": {
             "colorbar": {
              "outlinewidth": 0,
              "ticks": ""
             }
            },
            "marker": {
             "colorbar": {
              "outlinewidth": 0,
              "ticks": ""
             }
            },
            "type": "scatter3d"
           }
          ],
          "scattercarpet": [
           {
            "marker": {
             "colorbar": {
              "outlinewidth": 0,
              "ticks": ""
             }
            },
            "type": "scattercarpet"
           }
          ],
          "scattergeo": [
           {
            "marker": {
             "colorbar": {
              "outlinewidth": 0,
              "ticks": ""
             }
            },
            "type": "scattergeo"
           }
          ],
          "scattergl": [
           {
            "marker": {
             "colorbar": {
              "outlinewidth": 0,
              "ticks": ""
             }
            },
            "type": "scattergl"
           }
          ],
          "scattermapbox": [
           {
            "marker": {
             "colorbar": {
              "outlinewidth": 0,
              "ticks": ""
             }
            },
            "type": "scattermapbox"
           }
          ],
          "scatterpolar": [
           {
            "marker": {
             "colorbar": {
              "outlinewidth": 0,
              "ticks": ""
             }
            },
            "type": "scatterpolar"
           }
          ],
          "scatterpolargl": [
           {
            "marker": {
             "colorbar": {
              "outlinewidth": 0,
              "ticks": ""
             }
            },
            "type": "scatterpolargl"
           }
          ],
          "scatterternary": [
           {
            "marker": {
             "colorbar": {
              "outlinewidth": 0,
              "ticks": ""
             }
            },
            "type": "scatterternary"
           }
          ],
          "surface": [
           {
            "colorbar": {
             "outlinewidth": 0,
             "ticks": ""
            },
            "colorscale": [
             [
              0,
              "#0d0887"
             ],
             [
              0.1111111111111111,
              "#46039f"
             ],
             [
              0.2222222222222222,
              "#7201a8"
             ],
             [
              0.3333333333333333,
              "#9c179e"
             ],
             [
              0.4444444444444444,
              "#bd3786"
             ],
             [
              0.5555555555555556,
              "#d8576b"
             ],
             [
              0.6666666666666666,
              "#ed7953"
             ],
             [
              0.7777777777777778,
              "#fb9f3a"
             ],
             [
              0.8888888888888888,
              "#fdca26"
             ],
             [
              1,
              "#f0f921"
             ]
            ],
            "type": "surface"
           }
          ],
          "table": [
           {
            "cells": {
             "fill": {
              "color": "#EBF0F8"
             },
             "line": {
              "color": "white"
             }
            },
            "header": {
             "fill": {
              "color": "#C8D4E3"
             },
             "line": {
              "color": "white"
             }
            },
            "type": "table"
           }
          ]
         },
         "layout": {
          "annotationdefaults": {
           "arrowcolor": "#2a3f5f",
           "arrowhead": 0,
           "arrowwidth": 1
          },
          "autotypenumbers": "strict",
          "coloraxis": {
           "colorbar": {
            "outlinewidth": 0,
            "ticks": ""
           }
          },
          "colorscale": {
           "diverging": [
            [
             0,
             "#8e0152"
            ],
            [
             0.1,
             "#c51b7d"
            ],
            [
             0.2,
             "#de77ae"
            ],
            [
             0.3,
             "#f1b6da"
            ],
            [
             0.4,
             "#fde0ef"
            ],
            [
             0.5,
             "#f7f7f7"
            ],
            [
             0.6,
             "#e6f5d0"
            ],
            [
             0.7,
             "#b8e186"
            ],
            [
             0.8,
             "#7fbc41"
            ],
            [
             0.9,
             "#4d9221"
            ],
            [
             1,
             "#276419"
            ]
           ],
           "sequential": [
            [
             0,
             "#0d0887"
            ],
            [
             0.1111111111111111,
             "#46039f"
            ],
            [
             0.2222222222222222,
             "#7201a8"
            ],
            [
             0.3333333333333333,
             "#9c179e"
            ],
            [
             0.4444444444444444,
             "#bd3786"
            ],
            [
             0.5555555555555556,
             "#d8576b"
            ],
            [
             0.6666666666666666,
             "#ed7953"
            ],
            [
             0.7777777777777778,
             "#fb9f3a"
            ],
            [
             0.8888888888888888,
             "#fdca26"
            ],
            [
             1,
             "#f0f921"
            ]
           ],
           "sequentialminus": [
            [
             0,
             "#0d0887"
            ],
            [
             0.1111111111111111,
             "#46039f"
            ],
            [
             0.2222222222222222,
             "#7201a8"
            ],
            [
             0.3333333333333333,
             "#9c179e"
            ],
            [
             0.4444444444444444,
             "#bd3786"
            ],
            [
             0.5555555555555556,
             "#d8576b"
            ],
            [
             0.6666666666666666,
             "#ed7953"
            ],
            [
             0.7777777777777778,
             "#fb9f3a"
            ],
            [
             0.8888888888888888,
             "#fdca26"
            ],
            [
             1,
             "#f0f921"
            ]
           ]
          },
          "colorway": [
           "#636efa",
           "#EF553B",
           "#00cc96",
           "#ab63fa",
           "#FFA15A",
           "#19d3f3",
           "#FF6692",
           "#B6E880",
           "#FF97FF",
           "#FECB52"
          ],
          "font": {
           "color": "#2a3f5f"
          },
          "geo": {
           "bgcolor": "white",
           "lakecolor": "white",
           "landcolor": "#E5ECF6",
           "showlakes": true,
           "showland": true,
           "subunitcolor": "white"
          },
          "hoverlabel": {
           "align": "left"
          },
          "hovermode": "closest",
          "mapbox": {
           "style": "light"
          },
          "paper_bgcolor": "white",
          "plot_bgcolor": "#E5ECF6",
          "polar": {
           "angularaxis": {
            "gridcolor": "white",
            "linecolor": "white",
            "ticks": ""
           },
           "bgcolor": "#E5ECF6",
           "radialaxis": {
            "gridcolor": "white",
            "linecolor": "white",
            "ticks": ""
           }
          },
          "scene": {
           "xaxis": {
            "backgroundcolor": "#E5ECF6",
            "gridcolor": "white",
            "gridwidth": 2,
            "linecolor": "white",
            "showbackground": true,
            "ticks": "",
            "zerolinecolor": "white"
           },
           "yaxis": {
            "backgroundcolor": "#E5ECF6",
            "gridcolor": "white",
            "gridwidth": 2,
            "linecolor": "white",
            "showbackground": true,
            "ticks": "",
            "zerolinecolor": "white"
           },
           "zaxis": {
            "backgroundcolor": "#E5ECF6",
            "gridcolor": "white",
            "gridwidth": 2,
            "linecolor": "white",
            "showbackground": true,
            "ticks": "",
            "zerolinecolor": "white"
           }
          },
          "shapedefaults": {
           "line": {
            "color": "#2a3f5f"
           }
          },
          "ternary": {
           "aaxis": {
            "gridcolor": "white",
            "linecolor": "white",
            "ticks": ""
           },
           "baxis": {
            "gridcolor": "white",
            "linecolor": "white",
            "ticks": ""
           },
           "bgcolor": "#E5ECF6",
           "caxis": {
            "gridcolor": "white",
            "linecolor": "white",
            "ticks": ""
           }
          },
          "title": {
           "x": 0.05
          },
          "xaxis": {
           "automargin": true,
           "gridcolor": "white",
           "linecolor": "white",
           "ticks": "",
           "title": {
            "standoff": 15
           },
           "zerolinecolor": "white",
           "zerolinewidth": 2
          },
          "yaxis": {
           "automargin": true,
           "gridcolor": "white",
           "linecolor": "white",
           "ticks": "",
           "title": {
            "standoff": 15
           },
           "zerolinecolor": "white",
           "zerolinewidth": 2
          }
         }
        },
        "xaxis": {
         "anchor": "y",
         "domain": [
          0,
          1
         ],
         "title": {
          "text": "COMPAÑÍA_COMPRADORA"
         }
        },
        "yaxis": {
         "anchor": "x",
         "domain": [
          0,
          1
         ],
         "title": {
          "text": "TOTAL_+_IVA"
         }
        }
       }
      }
     },
     "metadata": {},
     "output_type": "display_data"
    }
   ],
   "source": [
    "px.bar(df_Comp, y='TOTAL_+_IVA')"
   ]
  },
  {
   "cell_type": "code",
   "execution_count": 524,
   "metadata": {},
   "outputs": [
    {
     "data": {
      "text/html": [
       "<div>\n",
       "<style scoped>\n",
       "    .dataframe tbody tr th:only-of-type {\n",
       "        vertical-align: middle;\n",
       "    }\n",
       "\n",
       "    .dataframe tbody tr th {\n",
       "        vertical-align: top;\n",
       "    }\n",
       "\n",
       "    .dataframe thead th {\n",
       "        text-align: right;\n",
       "    }\n",
       "</style>\n",
       "<table border=\"1\" class=\"dataframe\">\n",
       "  <thead>\n",
       "    <tr style=\"text-align: right;\">\n",
       "      <th></th>\n",
       "      <th>NÚMERO_PEDIDO</th>\n",
       "      <th>ORDEN_NÚMERO</th>\n",
       "      <th>FECHA_ORDEN</th>\n",
       "      <th>FECHA_ENTREGA</th>\n",
       "      <th>FECHA_APROBACIÓN</th>\n",
       "      <th>CATEGORÍA</th>\n",
       "      <th>SUBCATEGORÍA</th>\n",
       "      <th>PROVEEDOR</th>\n",
       "      <th>CENTRO_COSTO</th>\n",
       "      <th>PRESUPUESTO</th>\n",
       "      <th>ESTADO</th>\n",
       "      <th>PRODUCTO_O_SERVICIO</th>\n",
       "      <th>CÓDIGO_PRODUCTO</th>\n",
       "      <th>CANTIDAD_PEDIDA</th>\n",
       "      <th>CANTIDAD_RECIBIDA</th>\n",
       "      <th>PRECIO_UNITARIO</th>\n",
       "      <th>PRECIO_UNITARIO_+_IVA</th>\n",
       "      <th>IVA</th>\n",
       "      <th>TOTAL_SIN_IVA</th>\n",
       "      <th>TOTAL_+_IVA</th>\n",
       "      <th>FECHA_ÚLTIMO_MOVIMIENTO</th>\n",
       "    </tr>\n",
       "    <tr>\n",
       "      <th>COMPAÑÍA_COMPRADORA</th>\n",
       "      <th></th>\n",
       "      <th></th>\n",
       "      <th></th>\n",
       "      <th></th>\n",
       "      <th></th>\n",
       "      <th></th>\n",
       "      <th></th>\n",
       "      <th></th>\n",
       "      <th></th>\n",
       "      <th></th>\n",
       "      <th></th>\n",
       "      <th></th>\n",
       "      <th></th>\n",
       "      <th></th>\n",
       "      <th></th>\n",
       "      <th></th>\n",
       "      <th></th>\n",
       "      <th></th>\n",
       "      <th></th>\n",
       "      <th></th>\n",
       "      <th></th>\n",
       "    </tr>\n",
       "  </thead>\n",
       "  <tbody>\n",
       "    <tr>\n",
       "      <th>Portal comprador 1</th>\n",
       "      <td>6563</td>\n",
       "      <td>6563</td>\n",
       "      <td>6563</td>\n",
       "      <td>6563</td>\n",
       "      <td>6185</td>\n",
       "      <td>6563</td>\n",
       "      <td>6563</td>\n",
       "      <td>6563</td>\n",
       "      <td>6346</td>\n",
       "      <td>6256</td>\n",
       "      <td>6563</td>\n",
       "      <td>6563</td>\n",
       "      <td>6521</td>\n",
       "      <td>6563</td>\n",
       "      <td>5577</td>\n",
       "      <td>6563</td>\n",
       "      <td>6563</td>\n",
       "      <td>6563</td>\n",
       "      <td>6563</td>\n",
       "      <td>6563</td>\n",
       "      <td>6563</td>\n",
       "    </tr>\n",
       "    <tr>\n",
       "      <th>Portal comprador 24</th>\n",
       "      <td>5439</td>\n",
       "      <td>5439</td>\n",
       "      <td>5439</td>\n",
       "      <td>5439</td>\n",
       "      <td>5439</td>\n",
       "      <td>5439</td>\n",
       "      <td>5439</td>\n",
       "      <td>5439</td>\n",
       "      <td>5439</td>\n",
       "      <td>5439</td>\n",
       "      <td>5439</td>\n",
       "      <td>5439</td>\n",
       "      <td>5439</td>\n",
       "      <td>5439</td>\n",
       "      <td>5439</td>\n",
       "      <td>5439</td>\n",
       "      <td>5439</td>\n",
       "      <td>5439</td>\n",
       "      <td>5439</td>\n",
       "      <td>5439</td>\n",
       "      <td>5439</td>\n",
       "    </tr>\n",
       "    <tr>\n",
       "      <th>Portal comprador 2</th>\n",
       "      <td>3863</td>\n",
       "      <td>3863</td>\n",
       "      <td>3863</td>\n",
       "      <td>3862</td>\n",
       "      <td>3584</td>\n",
       "      <td>3863</td>\n",
       "      <td>3863</td>\n",
       "      <td>3863</td>\n",
       "      <td>3460</td>\n",
       "      <td>1096</td>\n",
       "      <td>3863</td>\n",
       "      <td>3863</td>\n",
       "      <td>3509</td>\n",
       "      <td>3863</td>\n",
       "      <td>3095</td>\n",
       "      <td>3863</td>\n",
       "      <td>3863</td>\n",
       "      <td>3863</td>\n",
       "      <td>3863</td>\n",
       "      <td>3863</td>\n",
       "      <td>3863</td>\n",
       "    </tr>\n",
       "    <tr>\n",
       "      <th>Portal comprador 29</th>\n",
       "      <td>3320</td>\n",
       "      <td>3320</td>\n",
       "      <td>3320</td>\n",
       "      <td>0</td>\n",
       "      <td>3301</td>\n",
       "      <td>3320</td>\n",
       "      <td>3320</td>\n",
       "      <td>3320</td>\n",
       "      <td>0</td>\n",
       "      <td>3320</td>\n",
       "      <td>3320</td>\n",
       "      <td>3320</td>\n",
       "      <td>57</td>\n",
       "      <td>3320</td>\n",
       "      <td>2</td>\n",
       "      <td>3320</td>\n",
       "      <td>3320</td>\n",
       "      <td>3320</td>\n",
       "      <td>3320</td>\n",
       "      <td>3320</td>\n",
       "      <td>3320</td>\n",
       "    </tr>\n",
       "    <tr>\n",
       "      <th>Portal comprador 6</th>\n",
       "      <td>850</td>\n",
       "      <td>850</td>\n",
       "      <td>850</td>\n",
       "      <td>850</td>\n",
       "      <td>584</td>\n",
       "      <td>850</td>\n",
       "      <td>850</td>\n",
       "      <td>850</td>\n",
       "      <td>0</td>\n",
       "      <td>0</td>\n",
       "      <td>850</td>\n",
       "      <td>850</td>\n",
       "      <td>849</td>\n",
       "      <td>850</td>\n",
       "      <td>230</td>\n",
       "      <td>850</td>\n",
       "      <td>850</td>\n",
       "      <td>850</td>\n",
       "      <td>850</td>\n",
       "      <td>850</td>\n",
       "      <td>850</td>\n",
       "    </tr>\n",
       "    <tr>\n",
       "      <th>Portal comprador 30</th>\n",
       "      <td>760</td>\n",
       "      <td>760</td>\n",
       "      <td>760</td>\n",
       "      <td>0</td>\n",
       "      <td>760</td>\n",
       "      <td>760</td>\n",
       "      <td>760</td>\n",
       "      <td>760</td>\n",
       "      <td>0</td>\n",
       "      <td>760</td>\n",
       "      <td>760</td>\n",
       "      <td>760</td>\n",
       "      <td>49</td>\n",
       "      <td>760</td>\n",
       "      <td>29</td>\n",
       "      <td>760</td>\n",
       "      <td>760</td>\n",
       "      <td>760</td>\n",
       "      <td>760</td>\n",
       "      <td>760</td>\n",
       "      <td>760</td>\n",
       "    </tr>\n",
       "    <tr>\n",
       "      <th>Portal comprador 4</th>\n",
       "      <td>361</td>\n",
       "      <td>361</td>\n",
       "      <td>361</td>\n",
       "      <td>361</td>\n",
       "      <td>331</td>\n",
       "      <td>361</td>\n",
       "      <td>361</td>\n",
       "      <td>361</td>\n",
       "      <td>360</td>\n",
       "      <td>336</td>\n",
       "      <td>361</td>\n",
       "      <td>361</td>\n",
       "      <td>359</td>\n",
       "      <td>361</td>\n",
       "      <td>288</td>\n",
       "      <td>361</td>\n",
       "      <td>361</td>\n",
       "      <td>361</td>\n",
       "      <td>361</td>\n",
       "      <td>361</td>\n",
       "      <td>361</td>\n",
       "    </tr>\n",
       "    <tr>\n",
       "      <th>Portal comprador 8</th>\n",
       "      <td>318</td>\n",
       "      <td>318</td>\n",
       "      <td>318</td>\n",
       "      <td>145</td>\n",
       "      <td>283</td>\n",
       "      <td>318</td>\n",
       "      <td>318</td>\n",
       "      <td>318</td>\n",
       "      <td>82</td>\n",
       "      <td>243</td>\n",
       "      <td>318</td>\n",
       "      <td>318</td>\n",
       "      <td>3</td>\n",
       "      <td>318</td>\n",
       "      <td>107</td>\n",
       "      <td>318</td>\n",
       "      <td>318</td>\n",
       "      <td>318</td>\n",
       "      <td>318</td>\n",
       "      <td>318</td>\n",
       "      <td>318</td>\n",
       "    </tr>\n",
       "    <tr>\n",
       "      <th>Portal comprador 5</th>\n",
       "      <td>296</td>\n",
       "      <td>296</td>\n",
       "      <td>296</td>\n",
       "      <td>296</td>\n",
       "      <td>293</td>\n",
       "      <td>296</td>\n",
       "      <td>296</td>\n",
       "      <td>296</td>\n",
       "      <td>0</td>\n",
       "      <td>295</td>\n",
       "      <td>296</td>\n",
       "      <td>296</td>\n",
       "      <td>278</td>\n",
       "      <td>296</td>\n",
       "      <td>256</td>\n",
       "      <td>296</td>\n",
       "      <td>296</td>\n",
       "      <td>296</td>\n",
       "      <td>296</td>\n",
       "      <td>296</td>\n",
       "      <td>296</td>\n",
       "    </tr>\n",
       "    <tr>\n",
       "      <th>Portal comprador 12</th>\n",
       "      <td>214</td>\n",
       "      <td>214</td>\n",
       "      <td>214</td>\n",
       "      <td>214</td>\n",
       "      <td>201</td>\n",
       "      <td>214</td>\n",
       "      <td>214</td>\n",
       "      <td>214</td>\n",
       "      <td>208</td>\n",
       "      <td>0</td>\n",
       "      <td>214</td>\n",
       "      <td>214</td>\n",
       "      <td>214</td>\n",
       "      <td>214</td>\n",
       "      <td>86</td>\n",
       "      <td>214</td>\n",
       "      <td>214</td>\n",
       "      <td>214</td>\n",
       "      <td>214</td>\n",
       "      <td>214</td>\n",
       "      <td>214</td>\n",
       "    </tr>\n",
       "    <tr>\n",
       "      <th>Portal comprador 18</th>\n",
       "      <td>89</td>\n",
       "      <td>89</td>\n",
       "      <td>89</td>\n",
       "      <td>89</td>\n",
       "      <td>87</td>\n",
       "      <td>89</td>\n",
       "      <td>89</td>\n",
       "      <td>89</td>\n",
       "      <td>68</td>\n",
       "      <td>68</td>\n",
       "      <td>89</td>\n",
       "      <td>89</td>\n",
       "      <td>21</td>\n",
       "      <td>89</td>\n",
       "      <td>83</td>\n",
       "      <td>89</td>\n",
       "      <td>89</td>\n",
       "      <td>89</td>\n",
       "      <td>89</td>\n",
       "      <td>89</td>\n",
       "      <td>89</td>\n",
       "    </tr>\n",
       "    <tr>\n",
       "      <th>Portal comprador 10</th>\n",
       "      <td>69</td>\n",
       "      <td>69</td>\n",
       "      <td>69</td>\n",
       "      <td>69</td>\n",
       "      <td>41</td>\n",
       "      <td>69</td>\n",
       "      <td>69</td>\n",
       "      <td>69</td>\n",
       "      <td>0</td>\n",
       "      <td>0</td>\n",
       "      <td>69</td>\n",
       "      <td>69</td>\n",
       "      <td>69</td>\n",
       "      <td>69</td>\n",
       "      <td>26</td>\n",
       "      <td>69</td>\n",
       "      <td>69</td>\n",
       "      <td>69</td>\n",
       "      <td>69</td>\n",
       "      <td>69</td>\n",
       "      <td>69</td>\n",
       "    </tr>\n",
       "    <tr>\n",
       "      <th>Portal comprador 7</th>\n",
       "      <td>65</td>\n",
       "      <td>65</td>\n",
       "      <td>65</td>\n",
       "      <td>65</td>\n",
       "      <td>48</td>\n",
       "      <td>65</td>\n",
       "      <td>65</td>\n",
       "      <td>65</td>\n",
       "      <td>0</td>\n",
       "      <td>37</td>\n",
       "      <td>65</td>\n",
       "      <td>65</td>\n",
       "      <td>65</td>\n",
       "      <td>65</td>\n",
       "      <td>44</td>\n",
       "      <td>65</td>\n",
       "      <td>65</td>\n",
       "      <td>65</td>\n",
       "      <td>65</td>\n",
       "      <td>65</td>\n",
       "      <td>65</td>\n",
       "    </tr>\n",
       "    <tr>\n",
       "      <th>Portal comprador 11</th>\n",
       "      <td>51</td>\n",
       "      <td>51</td>\n",
       "      <td>51</td>\n",
       "      <td>51</td>\n",
       "      <td>50</td>\n",
       "      <td>51</td>\n",
       "      <td>51</td>\n",
       "      <td>51</td>\n",
       "      <td>0</td>\n",
       "      <td>1</td>\n",
       "      <td>51</td>\n",
       "      <td>51</td>\n",
       "      <td>50</td>\n",
       "      <td>51</td>\n",
       "      <td>33</td>\n",
       "      <td>51</td>\n",
       "      <td>51</td>\n",
       "      <td>51</td>\n",
       "      <td>51</td>\n",
       "      <td>51</td>\n",
       "      <td>51</td>\n",
       "    </tr>\n",
       "    <tr>\n",
       "      <th>Portal comprador 27</th>\n",
       "      <td>35</td>\n",
       "      <td>35</td>\n",
       "      <td>35</td>\n",
       "      <td>0</td>\n",
       "      <td>0</td>\n",
       "      <td>35</td>\n",
       "      <td>35</td>\n",
       "      <td>35</td>\n",
       "      <td>0</td>\n",
       "      <td>0</td>\n",
       "      <td>35</td>\n",
       "      <td>35</td>\n",
       "      <td>0</td>\n",
       "      <td>35</td>\n",
       "      <td>2</td>\n",
       "      <td>35</td>\n",
       "      <td>35</td>\n",
       "      <td>35</td>\n",
       "      <td>35</td>\n",
       "      <td>35</td>\n",
       "      <td>35</td>\n",
       "    </tr>\n",
       "    <tr>\n",
       "      <th>Portal comprador 13</th>\n",
       "      <td>33</td>\n",
       "      <td>33</td>\n",
       "      <td>33</td>\n",
       "      <td>33</td>\n",
       "      <td>19</td>\n",
       "      <td>33</td>\n",
       "      <td>33</td>\n",
       "      <td>33</td>\n",
       "      <td>19</td>\n",
       "      <td>0</td>\n",
       "      <td>33</td>\n",
       "      <td>33</td>\n",
       "      <td>33</td>\n",
       "      <td>33</td>\n",
       "      <td>18</td>\n",
       "      <td>33</td>\n",
       "      <td>33</td>\n",
       "      <td>33</td>\n",
       "      <td>33</td>\n",
       "      <td>33</td>\n",
       "      <td>33</td>\n",
       "    </tr>\n",
       "    <tr>\n",
       "      <th>Portal comprador 20</th>\n",
       "      <td>28</td>\n",
       "      <td>28</td>\n",
       "      <td>28</td>\n",
       "      <td>28</td>\n",
       "      <td>22</td>\n",
       "      <td>28</td>\n",
       "      <td>28</td>\n",
       "      <td>28</td>\n",
       "      <td>0</td>\n",
       "      <td>11</td>\n",
       "      <td>28</td>\n",
       "      <td>28</td>\n",
       "      <td>8</td>\n",
       "      <td>28</td>\n",
       "      <td>0</td>\n",
       "      <td>28</td>\n",
       "      <td>28</td>\n",
       "      <td>28</td>\n",
       "      <td>28</td>\n",
       "      <td>28</td>\n",
       "      <td>28</td>\n",
       "    </tr>\n",
       "    <tr>\n",
       "      <th>Portal comprador 31</th>\n",
       "      <td>16</td>\n",
       "      <td>16</td>\n",
       "      <td>16</td>\n",
       "      <td>0</td>\n",
       "      <td>16</td>\n",
       "      <td>16</td>\n",
       "      <td>16</td>\n",
       "      <td>16</td>\n",
       "      <td>0</td>\n",
       "      <td>16</td>\n",
       "      <td>16</td>\n",
       "      <td>16</td>\n",
       "      <td>0</td>\n",
       "      <td>16</td>\n",
       "      <td>1</td>\n",
       "      <td>16</td>\n",
       "      <td>16</td>\n",
       "      <td>16</td>\n",
       "      <td>16</td>\n",
       "      <td>16</td>\n",
       "      <td>16</td>\n",
       "    </tr>\n",
       "    <tr>\n",
       "      <th>Portal comprador 21</th>\n",
       "      <td>4</td>\n",
       "      <td>4</td>\n",
       "      <td>4</td>\n",
       "      <td>4</td>\n",
       "      <td>4</td>\n",
       "      <td>4</td>\n",
       "      <td>4</td>\n",
       "      <td>4</td>\n",
       "      <td>0</td>\n",
       "      <td>4</td>\n",
       "      <td>4</td>\n",
       "      <td>4</td>\n",
       "      <td>0</td>\n",
       "      <td>4</td>\n",
       "      <td>2</td>\n",
       "      <td>4</td>\n",
       "      <td>4</td>\n",
       "      <td>4</td>\n",
       "      <td>4</td>\n",
       "      <td>4</td>\n",
       "      <td>4</td>\n",
       "    </tr>\n",
       "    <tr>\n",
       "      <th>Portal comprador 14</th>\n",
       "      <td>2</td>\n",
       "      <td>2</td>\n",
       "      <td>2</td>\n",
       "      <td>2</td>\n",
       "      <td>2</td>\n",
       "      <td>2</td>\n",
       "      <td>2</td>\n",
       "      <td>2</td>\n",
       "      <td>0</td>\n",
       "      <td>0</td>\n",
       "      <td>2</td>\n",
       "      <td>2</td>\n",
       "      <td>2</td>\n",
       "      <td>2</td>\n",
       "      <td>2</td>\n",
       "      <td>2</td>\n",
       "      <td>2</td>\n",
       "      <td>2</td>\n",
       "      <td>2</td>\n",
       "      <td>2</td>\n",
       "      <td>2</td>\n",
       "    </tr>\n",
       "    <tr>\n",
       "      <th>Portal comprador 26</th>\n",
       "      <td>2</td>\n",
       "      <td>2</td>\n",
       "      <td>2</td>\n",
       "      <td>2</td>\n",
       "      <td>2</td>\n",
       "      <td>2</td>\n",
       "      <td>2</td>\n",
       "      <td>2</td>\n",
       "      <td>0</td>\n",
       "      <td>2</td>\n",
       "      <td>2</td>\n",
       "      <td>2</td>\n",
       "      <td>2</td>\n",
       "      <td>2</td>\n",
       "      <td>2</td>\n",
       "      <td>2</td>\n",
       "      <td>2</td>\n",
       "      <td>2</td>\n",
       "      <td>2</td>\n",
       "      <td>2</td>\n",
       "      <td>2</td>\n",
       "    </tr>\n",
       "    <tr>\n",
       "      <th>Portal comprador 28</th>\n",
       "      <td>2</td>\n",
       "      <td>2</td>\n",
       "      <td>2</td>\n",
       "      <td>0</td>\n",
       "      <td>1</td>\n",
       "      <td>2</td>\n",
       "      <td>2</td>\n",
       "      <td>2</td>\n",
       "      <td>0</td>\n",
       "      <td>2</td>\n",
       "      <td>2</td>\n",
       "      <td>2</td>\n",
       "      <td>0</td>\n",
       "      <td>2</td>\n",
       "      <td>0</td>\n",
       "      <td>2</td>\n",
       "      <td>2</td>\n",
       "      <td>2</td>\n",
       "      <td>2</td>\n",
       "      <td>2</td>\n",
       "      <td>2</td>\n",
       "    </tr>\n",
       "    <tr>\n",
       "      <th>Portal comprador 32</th>\n",
       "      <td>2</td>\n",
       "      <td>2</td>\n",
       "      <td>2</td>\n",
       "      <td>0</td>\n",
       "      <td>1</td>\n",
       "      <td>2</td>\n",
       "      <td>2</td>\n",
       "      <td>2</td>\n",
       "      <td>0</td>\n",
       "      <td>2</td>\n",
       "      <td>2</td>\n",
       "      <td>2</td>\n",
       "      <td>0</td>\n",
       "      <td>2</td>\n",
       "      <td>0</td>\n",
       "      <td>2</td>\n",
       "      <td>2</td>\n",
       "      <td>2</td>\n",
       "      <td>2</td>\n",
       "      <td>2</td>\n",
       "      <td>2</td>\n",
       "    </tr>\n",
       "    <tr>\n",
       "      <th>Portal comprador 33</th>\n",
       "      <td>1</td>\n",
       "      <td>1</td>\n",
       "      <td>1</td>\n",
       "      <td>0</td>\n",
       "      <td>1</td>\n",
       "      <td>1</td>\n",
       "      <td>1</td>\n",
       "      <td>1</td>\n",
       "      <td>0</td>\n",
       "      <td>1</td>\n",
       "      <td>1</td>\n",
       "      <td>1</td>\n",
       "      <td>0</td>\n",
       "      <td>1</td>\n",
       "      <td>0</td>\n",
       "      <td>1</td>\n",
       "      <td>1</td>\n",
       "      <td>1</td>\n",
       "      <td>1</td>\n",
       "      <td>1</td>\n",
       "      <td>1</td>\n",
       "    </tr>\n",
       "    <tr>\n",
       "      <th>Portal comprador 25</th>\n",
       "      <td>1</td>\n",
       "      <td>1</td>\n",
       "      <td>1</td>\n",
       "      <td>1</td>\n",
       "      <td>0</td>\n",
       "      <td>1</td>\n",
       "      <td>1</td>\n",
       "      <td>1</td>\n",
       "      <td>1</td>\n",
       "      <td>1</td>\n",
       "      <td>1</td>\n",
       "      <td>1</td>\n",
       "      <td>1</td>\n",
       "      <td>1</td>\n",
       "      <td>0</td>\n",
       "      <td>1</td>\n",
       "      <td>1</td>\n",
       "      <td>1</td>\n",
       "      <td>1</td>\n",
       "      <td>1</td>\n",
       "      <td>1</td>\n",
       "    </tr>\n",
       "    <tr>\n",
       "      <th>Portal comprador 3</th>\n",
       "      <td>1</td>\n",
       "      <td>1</td>\n",
       "      <td>1</td>\n",
       "      <td>1</td>\n",
       "      <td>1</td>\n",
       "      <td>1</td>\n",
       "      <td>1</td>\n",
       "      <td>1</td>\n",
       "      <td>0</td>\n",
       "      <td>0</td>\n",
       "      <td>1</td>\n",
       "      <td>1</td>\n",
       "      <td>1</td>\n",
       "      <td>1</td>\n",
       "      <td>1</td>\n",
       "      <td>1</td>\n",
       "      <td>1</td>\n",
       "      <td>1</td>\n",
       "      <td>1</td>\n",
       "      <td>1</td>\n",
       "      <td>1</td>\n",
       "    </tr>\n",
       "    <tr>\n",
       "      <th>Portal comprador 23</th>\n",
       "      <td>1</td>\n",
       "      <td>1</td>\n",
       "      <td>1</td>\n",
       "      <td>1</td>\n",
       "      <td>0</td>\n",
       "      <td>1</td>\n",
       "      <td>1</td>\n",
       "      <td>1</td>\n",
       "      <td>0</td>\n",
       "      <td>0</td>\n",
       "      <td>1</td>\n",
       "      <td>1</td>\n",
       "      <td>1</td>\n",
       "      <td>1</td>\n",
       "      <td>0</td>\n",
       "      <td>1</td>\n",
       "      <td>1</td>\n",
       "      <td>1</td>\n",
       "      <td>1</td>\n",
       "      <td>1</td>\n",
       "      <td>1</td>\n",
       "    </tr>\n",
       "    <tr>\n",
       "      <th>Portal comprador 22</th>\n",
       "      <td>1</td>\n",
       "      <td>1</td>\n",
       "      <td>1</td>\n",
       "      <td>1</td>\n",
       "      <td>0</td>\n",
       "      <td>1</td>\n",
       "      <td>1</td>\n",
       "      <td>1</td>\n",
       "      <td>0</td>\n",
       "      <td>0</td>\n",
       "      <td>1</td>\n",
       "      <td>1</td>\n",
       "      <td>0</td>\n",
       "      <td>1</td>\n",
       "      <td>0</td>\n",
       "      <td>1</td>\n",
       "      <td>1</td>\n",
       "      <td>1</td>\n",
       "      <td>1</td>\n",
       "      <td>1</td>\n",
       "      <td>1</td>\n",
       "    </tr>\n",
       "    <tr>\n",
       "      <th>Portal comprador 19</th>\n",
       "      <td>1</td>\n",
       "      <td>1</td>\n",
       "      <td>1</td>\n",
       "      <td>1</td>\n",
       "      <td>0</td>\n",
       "      <td>1</td>\n",
       "      <td>1</td>\n",
       "      <td>1</td>\n",
       "      <td>1</td>\n",
       "      <td>0</td>\n",
       "      <td>1</td>\n",
       "      <td>1</td>\n",
       "      <td>0</td>\n",
       "      <td>1</td>\n",
       "      <td>0</td>\n",
       "      <td>1</td>\n",
       "      <td>1</td>\n",
       "      <td>1</td>\n",
       "      <td>1</td>\n",
       "      <td>1</td>\n",
       "      <td>1</td>\n",
       "    </tr>\n",
       "    <tr>\n",
       "      <th>Portal comprador 17</th>\n",
       "      <td>1</td>\n",
       "      <td>1</td>\n",
       "      <td>1</td>\n",
       "      <td>1</td>\n",
       "      <td>1</td>\n",
       "      <td>1</td>\n",
       "      <td>1</td>\n",
       "      <td>1</td>\n",
       "      <td>0</td>\n",
       "      <td>0</td>\n",
       "      <td>1</td>\n",
       "      <td>1</td>\n",
       "      <td>1</td>\n",
       "      <td>1</td>\n",
       "      <td>1</td>\n",
       "      <td>1</td>\n",
       "      <td>1</td>\n",
       "      <td>1</td>\n",
       "      <td>1</td>\n",
       "      <td>1</td>\n",
       "      <td>1</td>\n",
       "    </tr>\n",
       "    <tr>\n",
       "      <th>Portal comprador 16</th>\n",
       "      <td>1</td>\n",
       "      <td>1</td>\n",
       "      <td>1</td>\n",
       "      <td>1</td>\n",
       "      <td>1</td>\n",
       "      <td>1</td>\n",
       "      <td>1</td>\n",
       "      <td>1</td>\n",
       "      <td>0</td>\n",
       "      <td>0</td>\n",
       "      <td>1</td>\n",
       "      <td>1</td>\n",
       "      <td>1</td>\n",
       "      <td>1</td>\n",
       "      <td>1</td>\n",
       "      <td>1</td>\n",
       "      <td>1</td>\n",
       "      <td>1</td>\n",
       "      <td>1</td>\n",
       "      <td>1</td>\n",
       "      <td>1</td>\n",
       "    </tr>\n",
       "    <tr>\n",
       "      <th>Portal comprador 15</th>\n",
       "      <td>1</td>\n",
       "      <td>1</td>\n",
       "      <td>1</td>\n",
       "      <td>1</td>\n",
       "      <td>1</td>\n",
       "      <td>1</td>\n",
       "      <td>1</td>\n",
       "      <td>1</td>\n",
       "      <td>0</td>\n",
       "      <td>0</td>\n",
       "      <td>1</td>\n",
       "      <td>1</td>\n",
       "      <td>1</td>\n",
       "      <td>1</td>\n",
       "      <td>0</td>\n",
       "      <td>1</td>\n",
       "      <td>1</td>\n",
       "      <td>1</td>\n",
       "      <td>1</td>\n",
       "      <td>1</td>\n",
       "      <td>1</td>\n",
       "    </tr>\n",
       "    <tr>\n",
       "      <th>Portal comprador 9</th>\n",
       "      <td>1</td>\n",
       "      <td>1</td>\n",
       "      <td>1</td>\n",
       "      <td>1</td>\n",
       "      <td>0</td>\n",
       "      <td>1</td>\n",
       "      <td>1</td>\n",
       "      <td>1</td>\n",
       "      <td>0</td>\n",
       "      <td>0</td>\n",
       "      <td>1</td>\n",
       "      <td>1</td>\n",
       "      <td>1</td>\n",
       "      <td>1</td>\n",
       "      <td>0</td>\n",
       "      <td>1</td>\n",
       "      <td>1</td>\n",
       "      <td>1</td>\n",
       "      <td>1</td>\n",
       "      <td>1</td>\n",
       "      <td>1</td>\n",
       "    </tr>\n",
       "  </tbody>\n",
       "</table>\n",
       "</div>"
      ],
      "text/plain": [
       "                     NÚMERO_PEDIDO  ORDEN_NÚMERO  FECHA_ORDEN  FECHA_ENTREGA  \\\n",
       "COMPAÑÍA_COMPRADORA                                                            \n",
       "Portal comprador 1            6563          6563         6563           6563   \n",
       "Portal comprador 24           5439          5439         5439           5439   \n",
       "Portal comprador 2            3863          3863         3863           3862   \n",
       "Portal comprador 29           3320          3320         3320              0   \n",
       "Portal comprador 6             850           850          850            850   \n",
       "Portal comprador 30            760           760          760              0   \n",
       "Portal comprador 4             361           361          361            361   \n",
       "Portal comprador 8             318           318          318            145   \n",
       "Portal comprador 5             296           296          296            296   \n",
       "Portal comprador 12            214           214          214            214   \n",
       "Portal comprador 18             89            89           89             89   \n",
       "Portal comprador 10             69            69           69             69   \n",
       "Portal comprador 7              65            65           65             65   \n",
       "Portal comprador 11             51            51           51             51   \n",
       "Portal comprador 27             35            35           35              0   \n",
       "Portal comprador 13             33            33           33             33   \n",
       "Portal comprador 20             28            28           28             28   \n",
       "Portal comprador 31             16            16           16              0   \n",
       "Portal comprador 21              4             4            4              4   \n",
       "Portal comprador 14              2             2            2              2   \n",
       "Portal comprador 26              2             2            2              2   \n",
       "Portal comprador 28              2             2            2              0   \n",
       "Portal comprador 32              2             2            2              0   \n",
       "Portal comprador 33              1             1            1              0   \n",
       "Portal comprador 25              1             1            1              1   \n",
       "Portal comprador 3               1             1            1              1   \n",
       "Portal comprador 23              1             1            1              1   \n",
       "Portal comprador 22              1             1            1              1   \n",
       "Portal comprador 19              1             1            1              1   \n",
       "Portal comprador 17              1             1            1              1   \n",
       "Portal comprador 16              1             1            1              1   \n",
       "Portal comprador 15              1             1            1              1   \n",
       "Portal comprador 9               1             1            1              1   \n",
       "\n",
       "                     FECHA_APROBACIÓN  CATEGORÍA  SUBCATEGORÍA  PROVEEDOR  \\\n",
       "COMPAÑÍA_COMPRADORA                                                         \n",
       "Portal comprador 1               6185       6563          6563       6563   \n",
       "Portal comprador 24              5439       5439          5439       5439   \n",
       "Portal comprador 2               3584       3863          3863       3863   \n",
       "Portal comprador 29              3301       3320          3320       3320   \n",
       "Portal comprador 6                584        850           850        850   \n",
       "Portal comprador 30               760        760           760        760   \n",
       "Portal comprador 4                331        361           361        361   \n",
       "Portal comprador 8                283        318           318        318   \n",
       "Portal comprador 5                293        296           296        296   \n",
       "Portal comprador 12               201        214           214        214   \n",
       "Portal comprador 18                87         89            89         89   \n",
       "Portal comprador 10                41         69            69         69   \n",
       "Portal comprador 7                 48         65            65         65   \n",
       "Portal comprador 11                50         51            51         51   \n",
       "Portal comprador 27                 0         35            35         35   \n",
       "Portal comprador 13                19         33            33         33   \n",
       "Portal comprador 20                22         28            28         28   \n",
       "Portal comprador 31                16         16            16         16   \n",
       "Portal comprador 21                 4          4             4          4   \n",
       "Portal comprador 14                 2          2             2          2   \n",
       "Portal comprador 26                 2          2             2          2   \n",
       "Portal comprador 28                 1          2             2          2   \n",
       "Portal comprador 32                 1          2             2          2   \n",
       "Portal comprador 33                 1          1             1          1   \n",
       "Portal comprador 25                 0          1             1          1   \n",
       "Portal comprador 3                  1          1             1          1   \n",
       "Portal comprador 23                 0          1             1          1   \n",
       "Portal comprador 22                 0          1             1          1   \n",
       "Portal comprador 19                 0          1             1          1   \n",
       "Portal comprador 17                 1          1             1          1   \n",
       "Portal comprador 16                 1          1             1          1   \n",
       "Portal comprador 15                 1          1             1          1   \n",
       "Portal comprador 9                  0          1             1          1   \n",
       "\n",
       "                     CENTRO_COSTO  PRESUPUESTO  ESTADO  PRODUCTO_O_SERVICIO  \\\n",
       "COMPAÑÍA_COMPRADORA                                                           \n",
       "Portal comprador 1           6346         6256    6563                 6563   \n",
       "Portal comprador 24          5439         5439    5439                 5439   \n",
       "Portal comprador 2           3460         1096    3863                 3863   \n",
       "Portal comprador 29             0         3320    3320                 3320   \n",
       "Portal comprador 6              0            0     850                  850   \n",
       "Portal comprador 30             0          760     760                  760   \n",
       "Portal comprador 4            360          336     361                  361   \n",
       "Portal comprador 8             82          243     318                  318   \n",
       "Portal comprador 5              0          295     296                  296   \n",
       "Portal comprador 12           208            0     214                  214   \n",
       "Portal comprador 18            68           68      89                   89   \n",
       "Portal comprador 10             0            0      69                   69   \n",
       "Portal comprador 7              0           37      65                   65   \n",
       "Portal comprador 11             0            1      51                   51   \n",
       "Portal comprador 27             0            0      35                   35   \n",
       "Portal comprador 13            19            0      33                   33   \n",
       "Portal comprador 20             0           11      28                   28   \n",
       "Portal comprador 31             0           16      16                   16   \n",
       "Portal comprador 21             0            4       4                    4   \n",
       "Portal comprador 14             0            0       2                    2   \n",
       "Portal comprador 26             0            2       2                    2   \n",
       "Portal comprador 28             0            2       2                    2   \n",
       "Portal comprador 32             0            2       2                    2   \n",
       "Portal comprador 33             0            1       1                    1   \n",
       "Portal comprador 25             1            1       1                    1   \n",
       "Portal comprador 3              0            0       1                    1   \n",
       "Portal comprador 23             0            0       1                    1   \n",
       "Portal comprador 22             0            0       1                    1   \n",
       "Portal comprador 19             1            0       1                    1   \n",
       "Portal comprador 17             0            0       1                    1   \n",
       "Portal comprador 16             0            0       1                    1   \n",
       "Portal comprador 15             0            0       1                    1   \n",
       "Portal comprador 9              0            0       1                    1   \n",
       "\n",
       "                     CÓDIGO_PRODUCTO  CANTIDAD_PEDIDA  CANTIDAD_RECIBIDA  \\\n",
       "COMPAÑÍA_COMPRADORA                                                        \n",
       "Portal comprador 1              6521             6563               5577   \n",
       "Portal comprador 24             5439             5439               5439   \n",
       "Portal comprador 2              3509             3863               3095   \n",
       "Portal comprador 29               57             3320                  2   \n",
       "Portal comprador 6               849              850                230   \n",
       "Portal comprador 30               49              760                 29   \n",
       "Portal comprador 4               359              361                288   \n",
       "Portal comprador 8                 3              318                107   \n",
       "Portal comprador 5               278              296                256   \n",
       "Portal comprador 12              214              214                 86   \n",
       "Portal comprador 18               21               89                 83   \n",
       "Portal comprador 10               69               69                 26   \n",
       "Portal comprador 7                65               65                 44   \n",
       "Portal comprador 11               50               51                 33   \n",
       "Portal comprador 27                0               35                  2   \n",
       "Portal comprador 13               33               33                 18   \n",
       "Portal comprador 20                8               28                  0   \n",
       "Portal comprador 31                0               16                  1   \n",
       "Portal comprador 21                0                4                  2   \n",
       "Portal comprador 14                2                2                  2   \n",
       "Portal comprador 26                2                2                  2   \n",
       "Portal comprador 28                0                2                  0   \n",
       "Portal comprador 32                0                2                  0   \n",
       "Portal comprador 33                0                1                  0   \n",
       "Portal comprador 25                1                1                  0   \n",
       "Portal comprador 3                 1                1                  1   \n",
       "Portal comprador 23                1                1                  0   \n",
       "Portal comprador 22                0                1                  0   \n",
       "Portal comprador 19                0                1                  0   \n",
       "Portal comprador 17                1                1                  1   \n",
       "Portal comprador 16                1                1                  1   \n",
       "Portal comprador 15                1                1                  0   \n",
       "Portal comprador 9                 1                1                  0   \n",
       "\n",
       "                     PRECIO_UNITARIO  PRECIO_UNITARIO_+_IVA   IVA  \\\n",
       "COMPAÑÍA_COMPRADORA                                                 \n",
       "Portal comprador 1              6563                   6563  6563   \n",
       "Portal comprador 24             5439                   5439  5439   \n",
       "Portal comprador 2              3863                   3863  3863   \n",
       "Portal comprador 29             3320                   3320  3320   \n",
       "Portal comprador 6               850                    850   850   \n",
       "Portal comprador 30              760                    760   760   \n",
       "Portal comprador 4               361                    361   361   \n",
       "Portal comprador 8               318                    318   318   \n",
       "Portal comprador 5               296                    296   296   \n",
       "Portal comprador 12              214                    214   214   \n",
       "Portal comprador 18               89                     89    89   \n",
       "Portal comprador 10               69                     69    69   \n",
       "Portal comprador 7                65                     65    65   \n",
       "Portal comprador 11               51                     51    51   \n",
       "Portal comprador 27               35                     35    35   \n",
       "Portal comprador 13               33                     33    33   \n",
       "Portal comprador 20               28                     28    28   \n",
       "Portal comprador 31               16                     16    16   \n",
       "Portal comprador 21                4                      4     4   \n",
       "Portal comprador 14                2                      2     2   \n",
       "Portal comprador 26                2                      2     2   \n",
       "Portal comprador 28                2                      2     2   \n",
       "Portal comprador 32                2                      2     2   \n",
       "Portal comprador 33                1                      1     1   \n",
       "Portal comprador 25                1                      1     1   \n",
       "Portal comprador 3                 1                      1     1   \n",
       "Portal comprador 23                1                      1     1   \n",
       "Portal comprador 22                1                      1     1   \n",
       "Portal comprador 19                1                      1     1   \n",
       "Portal comprador 17                1                      1     1   \n",
       "Portal comprador 16                1                      1     1   \n",
       "Portal comprador 15                1                      1     1   \n",
       "Portal comprador 9                 1                      1     1   \n",
       "\n",
       "                     TOTAL_SIN_IVA  TOTAL_+_IVA  FECHA_ÚLTIMO_MOVIMIENTO  \n",
       "COMPAÑÍA_COMPRADORA                                                       \n",
       "Portal comprador 1            6563         6563                     6563  \n",
       "Portal comprador 24           5439         5439                     5439  \n",
       "Portal comprador 2            3863         3863                     3863  \n",
       "Portal comprador 29           3320         3320                     3320  \n",
       "Portal comprador 6             850          850                      850  \n",
       "Portal comprador 30            760          760                      760  \n",
       "Portal comprador 4             361          361                      361  \n",
       "Portal comprador 8             318          318                      318  \n",
       "Portal comprador 5             296          296                      296  \n",
       "Portal comprador 12            214          214                      214  \n",
       "Portal comprador 18             89           89                       89  \n",
       "Portal comprador 10             69           69                       69  \n",
       "Portal comprador 7              65           65                       65  \n",
       "Portal comprador 11             51           51                       51  \n",
       "Portal comprador 27             35           35                       35  \n",
       "Portal comprador 13             33           33                       33  \n",
       "Portal comprador 20             28           28                       28  \n",
       "Portal comprador 31             16           16                       16  \n",
       "Portal comprador 21              4            4                        4  \n",
       "Portal comprador 14              2            2                        2  \n",
       "Portal comprador 26              2            2                        2  \n",
       "Portal comprador 28              2            2                        2  \n",
       "Portal comprador 32              2            2                        2  \n",
       "Portal comprador 33              1            1                        1  \n",
       "Portal comprador 25              1            1                        1  \n",
       "Portal comprador 3               1            1                        1  \n",
       "Portal comprador 23              1            1                        1  \n",
       "Portal comprador 22              1            1                        1  \n",
       "Portal comprador 19              1            1                        1  \n",
       "Portal comprador 17              1            1                        1  \n",
       "Portal comprador 16              1            1                        1  \n",
       "Portal comprador 15              1            1                        1  \n",
       "Portal comprador 9               1            1                        1  "
      ]
     },
     "execution_count": 524,
     "metadata": {},
     "output_type": "execute_result"
    }
   ],
   "source": [
    "df_Comp_count = df.groupby('COMPAÑÍA_COMPRADORA').count()\n",
    "df_Comp_count.sort_values(by='TOTAL_+_IVA', inplace=True, ascending=False)\n",
    "df_Comp_count"
   ]
  },
  {
   "cell_type": "markdown",
   "metadata": {},
   "source": [
    "## Portal pruebas"
   ]
  },
  {
   "cell_type": "code",
   "execution_count": 525,
   "metadata": {},
   "outputs": [
    {
     "data": {
      "text/html": [
       "<div>\n",
       "<style scoped>\n",
       "    .dataframe tbody tr th:only-of-type {\n",
       "        vertical-align: middle;\n",
       "    }\n",
       "\n",
       "    .dataframe tbody tr th {\n",
       "        vertical-align: top;\n",
       "    }\n",
       "\n",
       "    .dataframe thead th {\n",
       "        text-align: right;\n",
       "    }\n",
       "</style>\n",
       "<table border=\"1\" class=\"dataframe\">\n",
       "  <thead>\n",
       "    <tr style=\"text-align: right;\">\n",
       "      <th></th>\n",
       "      <th>NÚMERO_PEDIDO</th>\n",
       "      <th>ORDEN_NÚMERO</th>\n",
       "      <th>FECHA_ORDEN</th>\n",
       "      <th>FECHA_ENTREGA</th>\n",
       "      <th>FECHA_APROBACIÓN</th>\n",
       "      <th>CATEGORÍA</th>\n",
       "      <th>SUBCATEGORÍA</th>\n",
       "      <th>PROVEEDOR</th>\n",
       "      <th>CENTRO_COSTO</th>\n",
       "      <th>PRESUPUESTO</th>\n",
       "      <th>COMPAÑÍA_COMPRADORA</th>\n",
       "      <th>ESTADO</th>\n",
       "      <th>PRODUCTO_O_SERVICIO</th>\n",
       "      <th>CÓDIGO_PRODUCTO</th>\n",
       "      <th>CANTIDAD_PEDIDA</th>\n",
       "      <th>CANTIDAD_RECIBIDA</th>\n",
       "      <th>PRECIO_UNITARIO</th>\n",
       "      <th>PRECIO_UNITARIO_+_IVA</th>\n",
       "      <th>IVA</th>\n",
       "      <th>TOTAL_SIN_IVA</th>\n",
       "      <th>TOTAL_+_IVA</th>\n",
       "      <th>FECHA_ÚLTIMO_MOVIMIENTO</th>\n",
       "    </tr>\n",
       "  </thead>\n",
       "  <tbody>\n",
       "  </tbody>\n",
       "</table>\n",
       "</div>"
      ],
      "text/plain": [
       "Empty DataFrame\n",
       "Columns: [NÚMERO_PEDIDO, ORDEN_NÚMERO, FECHA_ORDEN, FECHA_ENTREGA, FECHA_APROBACIÓN, CATEGORÍA, SUBCATEGORÍA, PROVEEDOR, CENTRO_COSTO, PRESUPUESTO, COMPAÑÍA_COMPRADORA, ESTADO, PRODUCTO_O_SERVICIO, CÓDIGO_PRODUCTO, CANTIDAD_PEDIDA, CANTIDAD_RECIBIDA, PRECIO_UNITARIO, PRECIO_UNITARIO_+_IVA, IVA, TOTAL_SIN_IVA, TOTAL_+_IVA, FECHA_ÚLTIMO_MOVIMIENTO]\n",
       "Index: []"
      ]
     },
     "execution_count": 525,
     "metadata": {},
     "output_type": "execute_result"
    }
   ],
   "source": [
    "df_Portal_Pruebas = df.loc[df['COMPAÑÍA_COMPRADORA']=='PORTAL PRUEBAS']\n",
    "df_Portal_Pruebas"
   ]
  },
  {
   "cell_type": "code",
   "execution_count": 526,
   "metadata": {},
   "outputs": [
    {
     "name": "stdout",
     "output_type": "stream",
     "text": [
      "<class 'pandas.core.frame.DataFrame'>\n",
      "Int64Index: 0 entries\n",
      "Data columns (total 22 columns):\n",
      " #   Column                   Non-Null Count  Dtype         \n",
      "---  ------                   --------------  -----         \n",
      " 0   NÚMERO_PEDIDO            0 non-null      object        \n",
      " 1   ORDEN_NÚMERO             0 non-null      object        \n",
      " 2   FECHA_ORDEN              0 non-null      datetime64[ns]\n",
      " 3   FECHA_ENTREGA            0 non-null      datetime64[ns]\n",
      " 4   FECHA_APROBACIÓN         0 non-null      datetime64[ns]\n",
      " 5   CATEGORÍA                0 non-null      object        \n",
      " 6   SUBCATEGORÍA             0 non-null      object        \n",
      " 7   PROVEEDOR                0 non-null      object        \n",
      " 8   CENTRO_COSTO             0 non-null      object        \n",
      " 9   PRESUPUESTO              0 non-null      object        \n",
      " 10  COMPAÑÍA_COMPRADORA      0 non-null      object        \n",
      " 11  ESTADO                   0 non-null      object        \n",
      " 12  PRODUCTO_O_SERVICIO      0 non-null      object        \n",
      " 13  CÓDIGO_PRODUCTO          0 non-null      object        \n",
      " 14  CANTIDAD_PEDIDA          0 non-null      float64       \n",
      " 15  CANTIDAD_RECIBIDA        0 non-null      float64       \n",
      " 16  PRECIO_UNITARIO          0 non-null      float32       \n",
      " 17  PRECIO_UNITARIO_+_IVA    0 non-null      float32       \n",
      " 18  IVA                      0 non-null      int64         \n",
      " 19  TOTAL_SIN_IVA            0 non-null      float32       \n",
      " 20  TOTAL_+_IVA              0 non-null      float32       \n",
      " 21  FECHA_ÚLTIMO_MOVIMIENTO  0 non-null      datetime64[ns]\n",
      "dtypes: datetime64[ns](4), float32(4), float64(2), int64(1), object(11)\n",
      "memory usage: 0.0+ bytes\n"
     ]
    }
   ],
   "source": [
    "df_Portal_Pruebas.info()"
   ]
  },
  {
   "cell_type": "code",
   "execution_count": 527,
   "metadata": {},
   "outputs": [
    {
     "data": {
      "text/html": [
       "<div>\n",
       "<style scoped>\n",
       "    .dataframe tbody tr th:only-of-type {\n",
       "        vertical-align: middle;\n",
       "    }\n",
       "\n",
       "    .dataframe tbody tr th {\n",
       "        vertical-align: top;\n",
       "    }\n",
       "\n",
       "    .dataframe thead th {\n",
       "        text-align: right;\n",
       "    }\n",
       "</style>\n",
       "<table border=\"1\" class=\"dataframe\">\n",
       "  <thead>\n",
       "    <tr style=\"text-align: right;\">\n",
       "      <th></th>\n",
       "      <th>CANTIDAD_PEDIDA</th>\n",
       "      <th>CANTIDAD_RECIBIDA</th>\n",
       "      <th>PRECIO_UNITARIO</th>\n",
       "      <th>PRECIO_UNITARIO_+_IVA</th>\n",
       "      <th>IVA</th>\n",
       "      <th>TOTAL_SIN_IVA</th>\n",
       "      <th>TOTAL_+_IVA</th>\n",
       "    </tr>\n",
       "  </thead>\n",
       "  <tbody>\n",
       "    <tr>\n",
       "      <th>count</th>\n",
       "      <td>0.00</td>\n",
       "      <td>0.00</td>\n",
       "      <td>0.00</td>\n",
       "      <td>0.00</td>\n",
       "      <td>0.00</td>\n",
       "      <td>0.00</td>\n",
       "      <td>0.00</td>\n",
       "    </tr>\n",
       "    <tr>\n",
       "      <th>mean</th>\n",
       "      <td>nan</td>\n",
       "      <td>nan</td>\n",
       "      <td>nan</td>\n",
       "      <td>nan</td>\n",
       "      <td>nan</td>\n",
       "      <td>nan</td>\n",
       "      <td>nan</td>\n",
       "    </tr>\n",
       "    <tr>\n",
       "      <th>std</th>\n",
       "      <td>nan</td>\n",
       "      <td>nan</td>\n",
       "      <td>nan</td>\n",
       "      <td>nan</td>\n",
       "      <td>nan</td>\n",
       "      <td>nan</td>\n",
       "      <td>nan</td>\n",
       "    </tr>\n",
       "    <tr>\n",
       "      <th>min</th>\n",
       "      <td>nan</td>\n",
       "      <td>nan</td>\n",
       "      <td>nan</td>\n",
       "      <td>nan</td>\n",
       "      <td>nan</td>\n",
       "      <td>nan</td>\n",
       "      <td>nan</td>\n",
       "    </tr>\n",
       "    <tr>\n",
       "      <th>25%</th>\n",
       "      <td>nan</td>\n",
       "      <td>nan</td>\n",
       "      <td>nan</td>\n",
       "      <td>nan</td>\n",
       "      <td>nan</td>\n",
       "      <td>nan</td>\n",
       "      <td>nan</td>\n",
       "    </tr>\n",
       "    <tr>\n",
       "      <th>50%</th>\n",
       "      <td>nan</td>\n",
       "      <td>nan</td>\n",
       "      <td>nan</td>\n",
       "      <td>nan</td>\n",
       "      <td>nan</td>\n",
       "      <td>nan</td>\n",
       "      <td>nan</td>\n",
       "    </tr>\n",
       "    <tr>\n",
       "      <th>75%</th>\n",
       "      <td>nan</td>\n",
       "      <td>nan</td>\n",
       "      <td>nan</td>\n",
       "      <td>nan</td>\n",
       "      <td>nan</td>\n",
       "      <td>nan</td>\n",
       "      <td>nan</td>\n",
       "    </tr>\n",
       "    <tr>\n",
       "      <th>max</th>\n",
       "      <td>nan</td>\n",
       "      <td>nan</td>\n",
       "      <td>nan</td>\n",
       "      <td>nan</td>\n",
       "      <td>nan</td>\n",
       "      <td>nan</td>\n",
       "      <td>nan</td>\n",
       "    </tr>\n",
       "  </tbody>\n",
       "</table>\n",
       "</div>"
      ],
      "text/plain": [
       "           CANTIDAD_PEDIDA    CANTIDAD_RECIBIDA      PRECIO_UNITARIO  \\\n",
       "count                 0.00                 0.00                 0.00   \n",
       "mean                   nan                  nan                  nan   \n",
       "std                    nan                  nan                  nan   \n",
       "min                    nan                  nan                  nan   \n",
       "25%                    nan                  nan                  nan   \n",
       "50%                    nan                  nan                  nan   \n",
       "75%                    nan                  nan                  nan   \n",
       "max                    nan                  nan                  nan   \n",
       "\n",
       "       PRECIO_UNITARIO_+_IVA                  IVA        TOTAL_SIN_IVA  \\\n",
       "count                   0.00                 0.00                 0.00   \n",
       "mean                     nan                  nan                  nan   \n",
       "std                      nan                  nan                  nan   \n",
       "min                      nan                  nan                  nan   \n",
       "25%                      nan                  nan                  nan   \n",
       "50%                      nan                  nan                  nan   \n",
       "75%                      nan                  nan                  nan   \n",
       "max                      nan                  nan                  nan   \n",
       "\n",
       "               TOTAL_+_IVA  \n",
       "count                 0.00  \n",
       "mean                   nan  \n",
       "std                    nan  \n",
       "min                    nan  \n",
       "25%                    nan  \n",
       "50%                    nan  \n",
       "75%                    nan  \n",
       "max                    nan  "
      ]
     },
     "execution_count": 527,
     "metadata": {},
     "output_type": "execute_result"
    }
   ],
   "source": [
    "df_Portal_Pruebas.describe()"
   ]
  },
  {
   "cell_type": "code",
   "execution_count": 528,
   "metadata": {},
   "outputs": [
    {
     "name": "stdout",
     "output_type": "stream",
     "text": [
      "------------------ NÚMERO_PEDIDO ------------------\n",
      "Series([], Name: NÚMERO_PEDIDO, dtype: float64)\n",
      "------------------ ORDEN_NÚMERO ------------------\n",
      "Series([], Name: ORDEN_NÚMERO, dtype: float64)\n",
      "------------------ FECHA_ORDEN ------------------\n",
      "Series([], Name: FECHA_ORDEN, dtype: float64)\n",
      "------------------ FECHA_ENTREGA ------------------\n",
      "Series([], Name: FECHA_ENTREGA, dtype: float64)\n",
      "------------------ FECHA_APROBACIÓN ------------------\n",
      "Series([], Name: FECHA_APROBACIÓN, dtype: float64)\n",
      "------------------ CATEGORÍA ------------------\n",
      "Series([], Name: CATEGORÍA, dtype: float64)\n",
      "------------------ SUBCATEGORÍA ------------------\n",
      "Series([], Name: SUBCATEGORÍA, dtype: float64)\n",
      "------------------ PROVEEDOR ------------------\n",
      "Series([], Name: PROVEEDOR, dtype: float64)\n",
      "------------------ CENTRO_COSTO ------------------\n",
      "Series([], Name: CENTRO_COSTO, dtype: float64)\n",
      "------------------ PRESUPUESTO ------------------\n",
      "Series([], Name: PRESUPUESTO, dtype: float64)\n",
      "------------------ COMPAÑÍA_COMPRADORA ------------------\n",
      "Series([], Name: COMPAÑÍA_COMPRADORA, dtype: float64)\n",
      "------------------ ESTADO ------------------\n",
      "Series([], Name: ESTADO, dtype: float64)\n",
      "------------------ PRODUCTO_O_SERVICIO ------------------\n",
      "Series([], Name: PRODUCTO_O_SERVICIO, dtype: float64)\n",
      "------------------ CÓDIGO_PRODUCTO ------------------\n",
      "Series([], Name: CÓDIGO_PRODUCTO, dtype: float64)\n",
      "------------------ CANTIDAD_PEDIDA ------------------\n",
      "Series([], Name: CANTIDAD_PEDIDA, dtype: float64)\n",
      "------------------ CANTIDAD_RECIBIDA ------------------\n",
      "Series([], Name: CANTIDAD_RECIBIDA, dtype: float64)\n",
      "------------------ PRECIO_UNITARIO ------------------\n",
      "Series([], Name: PRECIO_UNITARIO, dtype: float64)\n",
      "------------------ PRECIO_UNITARIO_+_IVA ------------------\n",
      "Series([], Name: PRECIO_UNITARIO_+_IVA, dtype: float64)\n",
      "------------------ IVA ------------------\n",
      "Series([], Name: IVA, dtype: float64)\n",
      "------------------ TOTAL_SIN_IVA ------------------\n",
      "Series([], Name: TOTAL_SIN_IVA, dtype: float64)\n",
      "------------------ TOTAL_+_IVA ------------------\n",
      "Series([], Name: TOTAL_+_IVA, dtype: float64)\n",
      "------------------ FECHA_ÚLTIMO_MOVIMIENTO ------------------\n",
      "Series([], Name: FECHA_ÚLTIMO_MOVIMIENTO, dtype: float64)\n"
     ]
    }
   ],
   "source": [
    "for i in df_Portal_Pruebas.columns:\n",
    "    print('------------------', i, '------------------' )\n",
    "    percentage = df_Portal_Pruebas[i].value_counts()/df_Portal_Pruebas[i].count()*100\n",
    "    \n",
    "    print(percentage)"
   ]
  },
  {
   "cell_type": "code",
   "execution_count": 529,
   "metadata": {},
   "outputs": [],
   "source": [
    "# sns.pairplot(df, hue='ESTADO', palette='rainbow');"
   ]
  },
  {
   "cell_type": "code",
   "execution_count": 530,
   "metadata": {},
   "outputs": [
    {
     "data": {
      "text/plain": [
       "Index(['NÚMERO_PEDIDO', 'ORDEN_NÚMERO', 'FECHA_ORDEN', 'FECHA_ENTREGA',\n",
       "       'FECHA_APROBACIÓN', 'CATEGORÍA', 'SUBCATEGORÍA', 'PROVEEDOR',\n",
       "       'CENTRO_COSTO', 'PRESUPUESTO', 'COMPAÑÍA_COMPRADORA', 'ESTADO',\n",
       "       'PRODUCTO_O_SERVICIO', 'CÓDIGO_PRODUCTO', 'CANTIDAD_PEDIDA',\n",
       "       'CANTIDAD_RECIBIDA', 'PRECIO_UNITARIO', 'PRECIO_UNITARIO_+_IVA', 'IVA',\n",
       "       'TOTAL_SIN_IVA', 'TOTAL_+_IVA', 'FECHA_ÚLTIMO_MOVIMIENTO'],\n",
       "      dtype='object')"
      ]
     },
     "execution_count": 530,
     "metadata": {},
     "output_type": "execute_result"
    }
   ],
   "source": [
    "df.columns"
   ]
  },
  {
   "cell_type": "markdown",
   "metadata": {},
   "source": [
    "What happend with the dates \"fechas aprobación\", \"fecha orden\" and \"fecha ultimo movimiento\". Let´s see if they are the same"
   ]
  },
  {
   "cell_type": "code",
   "execution_count": 531,
   "metadata": {},
   "outputs": [
    {
     "data": {
      "text/plain": [
       "False    17402\n",
       "True      4990\n",
       "dtype: int64"
      ]
     },
     "execution_count": 531,
     "metadata": {},
     "output_type": "execute_result"
    }
   ],
   "source": [
    "((df['FECHA_ORDEN']==df['FECHA_APROBACIÓN']) & (df['FECHA_ORDEN']==df['FECHA_ÚLTIMO_MOVIMIENTO'])).value_counts()"
   ]
  },
  {
   "cell_type": "markdown",
   "metadata": {},
   "source": [
    "Replace'# ' by ''"
   ]
  },
  {
   "cell_type": "code",
   "execution_count": 532,
   "metadata": {},
   "outputs": [],
   "source": [
    "df['NÚMERO_PEDIDO'] = df['NÚMERO_PEDIDO'].str.replace('# ', '')"
   ]
  },
  {
   "cell_type": "code",
   "execution_count": 533,
   "metadata": {},
   "outputs": [],
   "source": [
    "df['NÚMERO_PEDIDO'] = df['NÚMERO_PEDIDO'].astype('int')"
   ]
  },
  {
   "cell_type": "code",
   "execution_count": 534,
   "metadata": {},
   "outputs": [],
   "source": [
    "df['ORDEN_NÚMERO'] = df['ORDEN_NÚMERO'].str.replace('# ', '')"
   ]
  },
  {
   "cell_type": "code",
   "execution_count": 535,
   "metadata": {},
   "outputs": [],
   "source": [
    "df['ORDEN_NÚMERO'] = df['ORDEN_NÚMERO'].astype('int')"
   ]
  },
  {
   "cell_type": "code",
   "execution_count": 536,
   "metadata": {},
   "outputs": [
    {
     "name": "stdout",
     "output_type": "stream",
     "text": [
      "<class 'pandas.core.frame.DataFrame'>\n",
      "Int64Index: 22392 entries, 0 to 23082\n",
      "Data columns (total 22 columns):\n",
      " #   Column                   Non-Null Count  Dtype         \n",
      "---  ------                   --------------  -----         \n",
      " 0   NÚMERO_PEDIDO            22392 non-null  int32         \n",
      " 1   ORDEN_NÚMERO             22392 non-null  int32         \n",
      " 2   FECHA_ORDEN              22392 non-null  datetime64[ns]\n",
      " 3   FECHA_ENTREGA            18082 non-null  datetime64[ns]\n",
      " 4   FECHA_APROBACIÓN         21259 non-null  datetime64[ns]\n",
      " 5   CATEGORÍA                22392 non-null  object        \n",
      " 6   SUBCATEGORÍA             22392 non-null  object        \n",
      " 7   PROVEEDOR                22392 non-null  object        \n",
      " 8   CENTRO_COSTO             15984 non-null  object        \n",
      " 9   PRESUPUESTO              17890 non-null  object        \n",
      " 10  COMPAÑÍA_COMPRADORA      22392 non-null  object        \n",
      " 11  ESTADO                   22392 non-null  object        \n",
      " 12  PRODUCTO_O_SERVICIO      22392 non-null  object        \n",
      " 13  CÓDIGO_PRODUCTO          17535 non-null  object        \n",
      " 14  CANTIDAD_PEDIDA          22392 non-null  float64       \n",
      " 15  CANTIDAD_RECIBIDA        15325 non-null  float64       \n",
      " 16  PRECIO_UNITARIO          22392 non-null  float32       \n",
      " 17  PRECIO_UNITARIO_+_IVA    22392 non-null  float32       \n",
      " 18  IVA                      22392 non-null  int64         \n",
      " 19  TOTAL_SIN_IVA            22392 non-null  float32       \n",
      " 20  TOTAL_+_IVA              22392 non-null  float32       \n",
      " 21  FECHA_ÚLTIMO_MOVIMIENTO  22392 non-null  datetime64[ns]\n",
      "dtypes: datetime64[ns](4), float32(4), float64(2), int32(2), int64(1), object(9)\n",
      "memory usage: 3.4+ MB\n"
     ]
    }
   ],
   "source": [
    "df.info()"
   ]
  },
  {
   "cell_type": "markdown",
   "metadata": {},
   "source": [
    "# 4. DATA CLEANING"
   ]
  },
  {
   "cell_type": "markdown",
   "metadata": {},
   "source": [
    "## 4.1 Remove outliers"
   ]
  },
  {
   "cell_type": "markdown",
   "metadata": {},
   "source": [
    "There are not outliers in the DS"
   ]
  },
  {
   "cell_type": "code",
   "execution_count": 537,
   "metadata": {},
   "outputs": [
    {
     "data": {
      "text/html": [
       "<div>\n",
       "<style scoped>\n",
       "    .dataframe tbody tr th:only-of-type {\n",
       "        vertical-align: middle;\n",
       "    }\n",
       "\n",
       "    .dataframe tbody tr th {\n",
       "        vertical-align: top;\n",
       "    }\n",
       "\n",
       "    .dataframe thead th {\n",
       "        text-align: right;\n",
       "    }\n",
       "</style>\n",
       "<table border=\"1\" class=\"dataframe\">\n",
       "  <thead>\n",
       "    <tr style=\"text-align: right;\">\n",
       "      <th></th>\n",
       "      <th>NÚMERO_PEDIDO</th>\n",
       "      <th>ORDEN_NÚMERO</th>\n",
       "      <th>CANTIDAD_PEDIDA</th>\n",
       "      <th>CANTIDAD_RECIBIDA</th>\n",
       "      <th>PRECIO_UNITARIO</th>\n",
       "      <th>PRECIO_UNITARIO_+_IVA</th>\n",
       "      <th>IVA</th>\n",
       "      <th>TOTAL_SIN_IVA</th>\n",
       "      <th>TOTAL_+_IVA</th>\n",
       "    </tr>\n",
       "  </thead>\n",
       "  <tbody>\n",
       "    <tr>\n",
       "      <th>count</th>\n",
       "      <td>22,392.00</td>\n",
       "      <td>22,392.00</td>\n",
       "      <td>22,392.00</td>\n",
       "      <td>15,325.00</td>\n",
       "      <td>22,392.00</td>\n",
       "      <td>22,392.00</td>\n",
       "      <td>22,392.00</td>\n",
       "      <td>22,392.00</td>\n",
       "      <td>22,392.00</td>\n",
       "    </tr>\n",
       "    <tr>\n",
       "      <th>mean</th>\n",
       "      <td>35,120.86</td>\n",
       "      <td>708.25</td>\n",
       "      <td>196.68</td>\n",
       "      <td>72.36</td>\n",
       "      <td>74,073.20</td>\n",
       "      <td>85,578.17</td>\n",
       "      <td>11,499.70</td>\n",
       "      <td>477,558.03</td>\n",
       "      <td>552,286.12</td>\n",
       "    </tr>\n",
       "    <tr>\n",
       "      <th>std</th>\n",
       "      <td>17,747.16</td>\n",
       "      <td>653.97</td>\n",
       "      <td>1,976.19</td>\n",
       "      <td>1,063.97</td>\n",
       "      <td>644,253.06</td>\n",
       "      <td>736,123.81</td>\n",
       "      <td>104,931.32</td>\n",
       "      <td>3,160,620.25</td>\n",
       "      <td>3,583,836.25</td>\n",
       "    </tr>\n",
       "    <tr>\n",
       "      <th>min</th>\n",
       "      <td>1.00</td>\n",
       "      <td>1.00</td>\n",
       "      <td>0.27</td>\n",
       "      <td>0.00</td>\n",
       "      <td>0.00</td>\n",
       "      <td>0.00</td>\n",
       "      <td>0.00</td>\n",
       "      <td>0.00</td>\n",
       "      <td>0.00</td>\n",
       "    </tr>\n",
       "    <tr>\n",
       "      <th>25%</th>\n",
       "      <td>32,384.00</td>\n",
       "      <td>172.00</td>\n",
       "      <td>2.00</td>\n",
       "      <td>2.00</td>\n",
       "      <td>1,861.00</td>\n",
       "      <td>2,100.00</td>\n",
       "      <td>93.00</td>\n",
       "      <td>29,412.00</td>\n",
       "      <td>33,911.25</td>\n",
       "    </tr>\n",
       "    <tr>\n",
       "      <th>50%</th>\n",
       "      <td>45,515.50</td>\n",
       "      <td>491.00</td>\n",
       "      <td>7.00</td>\n",
       "      <td>5.00</td>\n",
       "      <td>11,400.00</td>\n",
       "      <td>13,000.00</td>\n",
       "      <td>1,040.00</td>\n",
       "      <td>90,756.00</td>\n",
       "      <td>104,697.00</td>\n",
       "    </tr>\n",
       "    <tr>\n",
       "      <th>75%</th>\n",
       "      <td>47,418.25</td>\n",
       "      <td>1,142.00</td>\n",
       "      <td>40.00</td>\n",
       "      <td>19.00</td>\n",
       "      <td>32,222.00</td>\n",
       "      <td>37,970.75</td>\n",
       "      <td>5,588.00</td>\n",
       "      <td>294,118.00</td>\n",
       "      <td>337,949.00</td>\n",
       "    </tr>\n",
       "    <tr>\n",
       "      <th>max</th>\n",
       "      <td>49,561.00</td>\n",
       "      <td>3,650.00</td>\n",
       "      <td>120,000.00</td>\n",
       "      <td>53,620.00</td>\n",
       "      <td>33,242,814.00</td>\n",
       "      <td>39,558,948.00</td>\n",
       "      <td>6,316,135.00</td>\n",
       "      <td>299,185,312.00</td>\n",
       "      <td>356,030,528.00</td>\n",
       "    </tr>\n",
       "  </tbody>\n",
       "</table>\n",
       "</div>"
      ],
      "text/plain": [
       "             NÚMERO_PEDIDO         ORDEN_NÚMERO      CANTIDAD_PEDIDA  \\\n",
       "count            22,392.00            22,392.00            22,392.00   \n",
       "mean             35,120.86               708.25               196.68   \n",
       "std              17,747.16               653.97             1,976.19   \n",
       "min                   1.00                 1.00                 0.27   \n",
       "25%              32,384.00               172.00                 2.00   \n",
       "50%              45,515.50               491.00                 7.00   \n",
       "75%              47,418.25             1,142.00                40.00   \n",
       "max              49,561.00             3,650.00           120,000.00   \n",
       "\n",
       "         CANTIDAD_RECIBIDA      PRECIO_UNITARIO  PRECIO_UNITARIO_+_IVA  \\\n",
       "count            15,325.00            22,392.00              22,392.00   \n",
       "mean                 72.36            74,073.20              85,578.17   \n",
       "std               1,063.97           644,253.06             736,123.81   \n",
       "min                   0.00                 0.00                   0.00   \n",
       "25%                   2.00             1,861.00               2,100.00   \n",
       "50%                   5.00            11,400.00              13,000.00   \n",
       "75%                  19.00            32,222.00              37,970.75   \n",
       "max              53,620.00        33,242,814.00          39,558,948.00   \n",
       "\n",
       "                       IVA        TOTAL_SIN_IVA          TOTAL_+_IVA  \n",
       "count            22,392.00            22,392.00            22,392.00  \n",
       "mean             11,499.70           477,558.03           552,286.12  \n",
       "std             104,931.32         3,160,620.25         3,583,836.25  \n",
       "min                   0.00                 0.00                 0.00  \n",
       "25%                  93.00            29,412.00            33,911.25  \n",
       "50%               1,040.00            90,756.00           104,697.00  \n",
       "75%               5,588.00           294,118.00           337,949.00  \n",
       "max           6,316,135.00       299,185,312.00       356,030,528.00  "
      ]
     },
     "execution_count": 537,
     "metadata": {},
     "output_type": "execute_result"
    }
   ],
   "source": [
    "df.describe()"
   ]
  },
  {
   "cell_type": "markdown",
   "metadata": {},
   "source": [
    "## 4.2 Fill NA"
   ]
  },
  {
   "cell_type": "code",
   "execution_count": 538,
   "metadata": {},
   "outputs": [
    {
     "data": {
      "text/plain": [
       "NÚMERO_PEDIDO                             0.00\n",
       "ORDEN_NÚMERO                              0.00\n",
       "FECHA_ORDEN                               0.00\n",
       "FECHA_ENTREGA                            19.25\n",
       "FECHA_APROBACIÓN                          5.06\n",
       "CATEGORÍA                                 0.00\n",
       "SUBCATEGORÍA                              0.00\n",
       "PROVEEDOR                                 0.00\n",
       "CENTRO_COSTO                             28.62\n",
       "PRESUPUESTO                              20.11\n",
       "COMPAÑÍA_COMPRADORA                       0.00\n",
       "ESTADO                                    0.00\n",
       "PRODUCTO_O_SERVICIO                       0.00\n",
       "CÓDIGO_PRODUCTO                          21.69\n",
       "CANTIDAD_PEDIDA                           0.00\n",
       "CANTIDAD_RECIBIDA                        31.56\n",
       "PRECIO_UNITARIO                           0.00\n",
       "PRECIO_UNITARIO_+_IVA                     0.00\n",
       "IVA                                       0.00\n",
       "TOTAL_SIN_IVA                             0.00\n",
       "TOTAL_+_IVA                               0.00\n",
       "FECHA_ÚLTIMO_MOVIMIENTO                   0.00\n",
       "dtype: float64"
      ]
     },
     "execution_count": 538,
     "metadata": {},
     "output_type": "execute_result"
    }
   ],
   "source": [
    "df.isna().sum()/len(df)*100"
   ]
  },
  {
   "cell_type": "markdown",
   "metadata": {},
   "source": [
    "CENTRO_COSTO AND CÓDIGO_PRODUCTO: Lets delete 2 of the variables that has the highest amount of NA values"
   ]
  },
  {
   "cell_type": "code",
   "execution_count": 539,
   "metadata": {},
   "outputs": [],
   "source": [
    "cols_to_drop = ['CENTRO_COSTO', 'CÓDIGO_PRODUCTO']\n",
    "df.drop(cols_to_drop, axis=1, inplace=True)"
   ]
  },
  {
   "cell_type": "markdown",
   "metadata": {},
   "source": [
    "'CANTIDAD_RECIBIDA': to create other variable later"
   ]
  },
  {
   "cell_type": "code",
   "execution_count": 540,
   "metadata": {},
   "outputs": [],
   "source": [
    "df.loc[df['CANTIDAD_RECIBIDA'].isna(), 'CANTIDAD_RECIBIDA'] = 0"
   ]
  },
  {
   "cell_type": "code",
   "execution_count": 541,
   "metadata": {},
   "outputs": [
    {
     "data": {
      "text/html": [
       "<div>\n",
       "<style scoped>\n",
       "    .dataframe tbody tr th:only-of-type {\n",
       "        vertical-align: middle;\n",
       "    }\n",
       "\n",
       "    .dataframe tbody tr th {\n",
       "        vertical-align: top;\n",
       "    }\n",
       "\n",
       "    .dataframe thead th {\n",
       "        text-align: right;\n",
       "    }\n",
       "</style>\n",
       "<table border=\"1\" class=\"dataframe\">\n",
       "  <thead>\n",
       "    <tr style=\"text-align: right;\">\n",
       "      <th></th>\n",
       "      <th>NÚMERO_PEDIDO</th>\n",
       "      <th>ORDEN_NÚMERO</th>\n",
       "      <th>FECHA_ORDEN</th>\n",
       "      <th>FECHA_ENTREGA</th>\n",
       "      <th>FECHA_APROBACIÓN</th>\n",
       "      <th>CATEGORÍA</th>\n",
       "      <th>SUBCATEGORÍA</th>\n",
       "      <th>PROVEEDOR</th>\n",
       "      <th>PRESUPUESTO</th>\n",
       "      <th>COMPAÑÍA_COMPRADORA</th>\n",
       "      <th>ESTADO</th>\n",
       "      <th>PRODUCTO_O_SERVICIO</th>\n",
       "      <th>CANTIDAD_PEDIDA</th>\n",
       "      <th>CANTIDAD_RECIBIDA</th>\n",
       "      <th>PRECIO_UNITARIO</th>\n",
       "      <th>PRECIO_UNITARIO_+_IVA</th>\n",
       "      <th>IVA</th>\n",
       "      <th>TOTAL_SIN_IVA</th>\n",
       "      <th>TOTAL_+_IVA</th>\n",
       "      <th>FECHA_ÚLTIMO_MOVIMIENTO</th>\n",
       "    </tr>\n",
       "  </thead>\n",
       "  <tbody>\n",
       "    <tr>\n",
       "      <th>0</th>\n",
       "      <td>49561</td>\n",
       "      <td>2582</td>\n",
       "      <td>2021-11-10</td>\n",
       "      <td>2021-11-10</td>\n",
       "      <td>2021-11-10</td>\n",
       "      <td>Eléctricos y Electrónicos</td>\n",
       "      <td>Lámparas y bombillas y componentes para lámparas</td>\n",
       "      <td>Proveedor 1</td>\n",
       "      <td>Presupuesto 1</td>\n",
       "      <td>Portal comprador 1</td>\n",
       "      <td>Orden en Proceso</td>\n",
       "      <td>PANEL LED SOBREPONER 24W REDONDO LUZ BLANCA</td>\n",
       "      <td>2.00</td>\n",
       "      <td>0.00</td>\n",
       "      <td>23,364.00</td>\n",
       "      <td>27,803.00</td>\n",
       "      <td>4439</td>\n",
       "      <td>46,728.00</td>\n",
       "      <td>55,606.00</td>\n",
       "      <td>2021-11-10</td>\n",
       "    </tr>\n",
       "    <tr>\n",
       "      <th>1</th>\n",
       "      <td>49560</td>\n",
       "      <td>2581</td>\n",
       "      <td>2021-11-10</td>\n",
       "      <td>2021-11-11</td>\n",
       "      <td>2021-11-10</td>\n",
       "      <td>Mercadeo y publicidad</td>\n",
       "      <td>Publicidad</td>\n",
       "      <td>Proveedor 2</td>\n",
       "      <td>Presupuesto 2</td>\n",
       "      <td>Portal comprador 1</td>\n",
       "      <td>Recibido</td>\n",
       "      <td>ACTIVIDADES COMERCIALES</td>\n",
       "      <td>1.00</td>\n",
       "      <td>1.00</td>\n",
       "      <td>1,476,972.00</td>\n",
       "      <td>1,757,597.00</td>\n",
       "      <td>280625</td>\n",
       "      <td>1,476,972.00</td>\n",
       "      <td>1,757,597.00</td>\n",
       "      <td>2021-11-10</td>\n",
       "    </tr>\n",
       "  </tbody>\n",
       "</table>\n",
       "</div>"
      ],
      "text/plain": [
       "   NÚMERO_PEDIDO  ORDEN_NÚMERO FECHA_ORDEN FECHA_ENTREGA FECHA_APROBACIÓN  \\\n",
       "0          49561          2582  2021-11-10    2021-11-10       2021-11-10   \n",
       "1          49560          2581  2021-11-10    2021-11-11       2021-11-10   \n",
       "\n",
       "                   CATEGORÍA  \\\n",
       "0  Eléctricos y Electrónicos   \n",
       "1      Mercadeo y publicidad   \n",
       "\n",
       "                                       SUBCATEGORÍA    PROVEEDOR  \\\n",
       "0  Lámparas y bombillas y componentes para lámparas  Proveedor 1   \n",
       "1                                        Publicidad  Proveedor 2   \n",
       "\n",
       "     PRESUPUESTO COMPAÑÍA_COMPRADORA            ESTADO  \\\n",
       "0  Presupuesto 1  Portal comprador 1  Orden en Proceso   \n",
       "1  Presupuesto 2  Portal comprador 1          Recibido   \n",
       "\n",
       "                            PRODUCTO_O_SERVICIO      CANTIDAD_PEDIDA  \\\n",
       "0  PANEL LED SOBREPONER 24W REDONDO LUZ BLANCA                  2.00   \n",
       "1                       ACTIVIDADES COMERCIALES                 1.00   \n",
       "\n",
       "     CANTIDAD_RECIBIDA      PRECIO_UNITARIO  PRECIO_UNITARIO_+_IVA     IVA  \\\n",
       "0                 0.00            23,364.00              27,803.00    4439   \n",
       "1                 1.00         1,476,972.00           1,757,597.00  280625   \n",
       "\n",
       "         TOTAL_SIN_IVA          TOTAL_+_IVA FECHA_ÚLTIMO_MOVIMIENTO  \n",
       "0            46,728.00            55,606.00              2021-11-10  \n",
       "1         1,476,972.00         1,757,597.00              2021-11-10  "
      ]
     },
     "execution_count": 541,
     "metadata": {},
     "output_type": "execute_result"
    }
   ],
   "source": [
    "df.head(2)"
   ]
  },
  {
   "cell_type": "markdown",
   "metadata": {},
   "source": [
    "Graph of nulls"
   ]
  },
  {
   "cell_type": "code",
   "execution_count": 542,
   "metadata": {},
   "outputs": [
    {
     "data": {
      "text/plain": [
       "<matplotlib.axes._subplots.AxesSubplot at 0x2abfbe35b08>"
      ]
     },
     "execution_count": 542,
     "metadata": {},
     "output_type": "execute_result"
    },
    {
     "data": {
      "image/png": "[encoded data removed]",
      "text/plain": [
       "<Figure size 432x288 with 1 Axes>"
      ]
     },
     "metadata": {},
     "output_type": "display_data"
    }
   ],
   "source": [
    "(df.isna().sum()/len(df)*100).plot(kind='bar')"
   ]
  },
  {
   "cell_type": "markdown",
   "metadata": {},
   "source": [
    "FECHA_ENTREGA AND FECHA_APROBACIÓN"
   ]
  },
  {
   "cell_type": "code",
   "execution_count": 543,
   "metadata": {},
   "outputs": [],
   "source": [
    "# df['FECHA_ENTREGA'] = df['FECHA_ENTREGA'].fillna(0)\n",
    "# df['FECHA_ENTREGA'].head(2)"
   ]
  },
  {
   "cell_type": "code",
   "execution_count": 544,
   "metadata": {},
   "outputs": [],
   "source": [
    "# df['FECHA_APROBACIÓN'] = df['FECHA_APROBACIÓN'].fillna(0)\n",
    "# df['FECHA_APROBACIÓN'].head(2)"
   ]
  },
  {
   "cell_type": "code",
   "execution_count": 545,
   "metadata": {},
   "outputs": [
    {
     "data": {
      "text/plain": [
       "<matplotlib.axes._subplots.AxesSubplot at 0x2ac335d7dc8>"
      ]
     },
     "execution_count": 545,
     "metadata": {},
     "output_type": "execute_result"
    },
    {
     "data": {
      "image/png": "[encoded data removed]",
      "text/plain": [
       "<Figure size 432x288 with 1 Axes>"
      ]
     },
     "metadata": {},
     "output_type": "display_data"
    }
   ],
   "source": [
    "(df.isna().sum()/len(df)*100).plot(kind='bar')"
   ]
  },
  {
   "cell_type": "markdown",
   "metadata": {},
   "source": [
    "PRESUPUESTO"
   ]
  },
  {
   "cell_type": "code",
   "execution_count": 546,
   "metadata": {},
   "outputs": [],
   "source": [
    "df.loc[df['PRESUPUESTO'].isna(), 'PRESUPUESTO'] = df['PRESUPUESTO'].mode()[0]"
   ]
  },
  {
   "cell_type": "code",
   "execution_count": 547,
   "metadata": {},
   "outputs": [
    {
     "data": {
      "text/plain": [
       "<matplotlib.axes._subplots.AxesSubplot at 0x2abfbe47448>"
      ]
     },
     "execution_count": 547,
     "metadata": {},
     "output_type": "execute_result"
    },
    {
     "data": {
      "image/png": "[encoded data removed]",
      "text/plain": [
       "<Figure size 432x288 with 1 Axes>"
      ]
     },
     "metadata": {},
     "output_type": "display_data"
    }
   ],
   "source": [
    "(df.isna().sum()/len(df)*100).plot(kind='bar')"
   ]
  },
  {
   "cell_type": "markdown",
   "metadata": {},
   "source": [
    "# 5. FEATURE ENGINEERING (NEW VARIABLES)"
   ]
  },
  {
   "cell_type": "markdown",
   "metadata": {},
   "source": [
    "DURACIÓN_ENTREGA"
   ]
  },
  {
   "cell_type": "code",
   "execution_count": 548,
   "metadata": {},
   "outputs": [],
   "source": [
    "df['DURACIÓN_ENTREGA'] = (df['FECHA_ENTREGA']-df['FECHA_ORDEN']).dt.components.days"
   ]
  },
  {
   "cell_type": "markdown",
   "metadata": {},
   "source": [
    "DURACIÓN_APROBACIÓN"
   ]
  },
  {
   "cell_type": "code",
   "execution_count": 549,
   "metadata": {},
   "outputs": [],
   "source": [
    "df['DURACIÓN_APROBACIÓN'] = (df['FECHA_APROBACIÓN']-df['FECHA_ORDEN']).dt.components.days"
   ]
  },
  {
   "cell_type": "code",
   "execution_count": 550,
   "metadata": {},
   "outputs": [
    {
     "data": {
      "text/plain": [
       "<matplotlib.axes._subplots.AxesSubplot at 0x2abfbeb4448>"
      ]
     },
     "execution_count": 550,
     "metadata": {},
     "output_type": "execute_result"
    },
    {
     "data": {
      "image/png": "[encoded data removed]",
      "text/plain": [
       "<Figure size 432x288 with 1 Axes>"
      ]
     },
     "metadata": {},
     "output_type": "display_data"
    }
   ],
   "source": [
    "(df.isna().sum()/len(df)*100).plot(kind='bar')"
   ]
  },
  {
   "cell_type": "markdown",
   "metadata": {},
   "source": [
    "FILL NA DURACIÓN_APROBACIÓN AND DURACIÓN_ENTREGA"
   ]
  },
  {
   "cell_type": "code",
   "execution_count": 551,
   "metadata": {},
   "outputs": [],
   "source": [
    "df.loc[df['DURACIÓN_ENTREGA'].isna(), 'DURACIÓN_ENTREGA'] = df['DURACIÓN_ENTREGA'].mean()"
   ]
  },
  {
   "cell_type": "code",
   "execution_count": 552,
   "metadata": {},
   "outputs": [],
   "source": [
    "df.loc[df['DURACIÓN_APROBACIÓN'].isna(), 'DURACIÓN_APROBACIÓN'] = df['DURACIÓN_APROBACIÓN'].mean()"
   ]
  },
  {
   "cell_type": "markdown",
   "metadata": {},
   "source": [
    "Delete FECHA_ENTREGA AND FECHA_APROBACIÓN"
   ]
  },
  {
   "cell_type": "code",
   "execution_count": 553,
   "metadata": {},
   "outputs": [],
   "source": [
    "cols_to_drop = ['FECHA_APROBACIÓN', 'FECHA_ORDEN', 'FECHA_ENTREGA']"
   ]
  },
  {
   "cell_type": "code",
   "execution_count": 554,
   "metadata": {},
   "outputs": [],
   "source": [
    "df.drop(cols_to_drop, inplace=True, axis=1)"
   ]
  },
  {
   "cell_type": "code",
   "execution_count": 555,
   "metadata": {},
   "outputs": [
    {
     "data": {
      "text/plain": [
       "Index(['NÚMERO_PEDIDO', 'ORDEN_NÚMERO', 'CATEGORÍA', 'SUBCATEGORÍA',\n",
       "       'PROVEEDOR', 'PRESUPUESTO', 'COMPAÑÍA_COMPRADORA', 'ESTADO',\n",
       "       'PRODUCTO_O_SERVICIO', 'CANTIDAD_PEDIDA', 'CANTIDAD_RECIBIDA',\n",
       "       'PRECIO_UNITARIO', 'PRECIO_UNITARIO_+_IVA', 'IVA', 'TOTAL_SIN_IVA',\n",
       "       'TOTAL_+_IVA', 'FECHA_ÚLTIMO_MOVIMIENTO', 'DURACIÓN_ENTREGA',\n",
       "       'DURACIÓN_APROBACIÓN'],\n",
       "      dtype='object')"
      ]
     },
     "execution_count": 555,
     "metadata": {},
     "output_type": "execute_result"
    }
   ],
   "source": [
    "df.columns"
   ]
  },
  {
   "cell_type": "code",
   "execution_count": 556,
   "metadata": {},
   "outputs": [
    {
     "data": {
      "text/html": [
       "<div>\n",
       "<style scoped>\n",
       "    .dataframe tbody tr th:only-of-type {\n",
       "        vertical-align: middle;\n",
       "    }\n",
       "\n",
       "    .dataframe tbody tr th {\n",
       "        vertical-align: top;\n",
       "    }\n",
       "\n",
       "    .dataframe thead th {\n",
       "        text-align: right;\n",
       "    }\n",
       "</style>\n",
       "<table border=\"1\" class=\"dataframe\">\n",
       "  <thead>\n",
       "    <tr style=\"text-align: right;\">\n",
       "      <th></th>\n",
       "      <th>NÚMERO_PEDIDO</th>\n",
       "      <th>ORDEN_NÚMERO</th>\n",
       "      <th>CANTIDAD_PEDIDA</th>\n",
       "      <th>CANTIDAD_RECIBIDA</th>\n",
       "      <th>PRECIO_UNITARIO</th>\n",
       "      <th>PRECIO_UNITARIO_+_IVA</th>\n",
       "      <th>IVA</th>\n",
       "      <th>TOTAL_SIN_IVA</th>\n",
       "      <th>TOTAL_+_IVA</th>\n",
       "      <th>DURACIÓN_ENTREGA</th>\n",
       "      <th>DURACIÓN_APROBACIÓN</th>\n",
       "    </tr>\n",
       "  </thead>\n",
       "  <tbody>\n",
       "    <tr>\n",
       "      <th>count</th>\n",
       "      <td>22,392.00</td>\n",
       "      <td>22,392.00</td>\n",
       "      <td>22,392.00</td>\n",
       "      <td>22,392.00</td>\n",
       "      <td>22,392.00</td>\n",
       "      <td>22,392.00</td>\n",
       "      <td>22,392.00</td>\n",
       "      <td>22,392.00</td>\n",
       "      <td>22,392.00</td>\n",
       "      <td>22,392.00</td>\n",
       "      <td>22,392.00</td>\n",
       "    </tr>\n",
       "    <tr>\n",
       "      <th>mean</th>\n",
       "      <td>35,120.86</td>\n",
       "      <td>708.25</td>\n",
       "      <td>196.68</td>\n",
       "      <td>49.52</td>\n",
       "      <td>74,073.20</td>\n",
       "      <td>85,578.17</td>\n",
       "      <td>11,499.70</td>\n",
       "      <td>477,558.03</td>\n",
       "      <td>552,286.12</td>\n",
       "      <td>3.24</td>\n",
       "      <td>13.37</td>\n",
       "    </tr>\n",
       "    <tr>\n",
       "      <th>std</th>\n",
       "      <td>17,747.16</td>\n",
       "      <td>653.97</td>\n",
       "      <td>1,976.19</td>\n",
       "      <td>880.83</td>\n",
       "      <td>644,253.06</td>\n",
       "      <td>736,123.81</td>\n",
       "      <td>104,931.32</td>\n",
       "      <td>3,160,620.25</td>\n",
       "      <td>3,583,836.25</td>\n",
       "      <td>15.02</td>\n",
       "      <td>27.30</td>\n",
       "    </tr>\n",
       "    <tr>\n",
       "      <th>min</th>\n",
       "      <td>1.00</td>\n",
       "      <td>1.00</td>\n",
       "      <td>0.27</td>\n",
       "      <td>0.00</td>\n",
       "      <td>0.00</td>\n",
       "      <td>0.00</td>\n",
       "      <td>0.00</td>\n",
       "      <td>0.00</td>\n",
       "      <td>0.00</td>\n",
       "      <td>-323.00</td>\n",
       "      <td>0.00</td>\n",
       "    </tr>\n",
       "    <tr>\n",
       "      <th>25%</th>\n",
       "      <td>32,384.00</td>\n",
       "      <td>172.00</td>\n",
       "      <td>2.00</td>\n",
       "      <td>0.00</td>\n",
       "      <td>1,861.00</td>\n",
       "      <td>2,100.00</td>\n",
       "      <td>93.00</td>\n",
       "      <td>29,412.00</td>\n",
       "      <td>33,911.25</td>\n",
       "      <td>0.00</td>\n",
       "      <td>0.00</td>\n",
       "    </tr>\n",
       "    <tr>\n",
       "      <th>50%</th>\n",
       "      <td>45,515.50</td>\n",
       "      <td>491.00</td>\n",
       "      <td>7.00</td>\n",
       "      <td>2.00</td>\n",
       "      <td>11,400.00</td>\n",
       "      <td>13,000.00</td>\n",
       "      <td>1,040.00</td>\n",
       "      <td>90,756.00</td>\n",
       "      <td>104,697.00</td>\n",
       "      <td>1.00</td>\n",
       "      <td>0.00</td>\n",
       "    </tr>\n",
       "    <tr>\n",
       "      <th>75%</th>\n",
       "      <td>47,418.25</td>\n",
       "      <td>1,142.00</td>\n",
       "      <td>40.00</td>\n",
       "      <td>10.00</td>\n",
       "      <td>32,222.00</td>\n",
       "      <td>37,970.75</td>\n",
       "      <td>5,588.00</td>\n",
       "      <td>294,118.00</td>\n",
       "      <td>337,949.00</td>\n",
       "      <td>3.24</td>\n",
       "      <td>13.37</td>\n",
       "    </tr>\n",
       "    <tr>\n",
       "      <th>max</th>\n",
       "      <td>49,561.00</td>\n",
       "      <td>3,650.00</td>\n",
       "      <td>120,000.00</td>\n",
       "      <td>53,620.00</td>\n",
       "      <td>33,242,814.00</td>\n",
       "      <td>39,558,948.00</td>\n",
       "      <td>6,316,135.00</td>\n",
       "      <td>299,185,312.00</td>\n",
       "      <td>356,030,528.00</td>\n",
       "      <td>307.00</td>\n",
       "      <td>573.00</td>\n",
       "    </tr>\n",
       "  </tbody>\n",
       "</table>\n",
       "</div>"
      ],
      "text/plain": [
       "             NÚMERO_PEDIDO         ORDEN_NÚMERO      CANTIDAD_PEDIDA  \\\n",
       "count            22,392.00            22,392.00            22,392.00   \n",
       "mean             35,120.86               708.25               196.68   \n",
       "std              17,747.16               653.97             1,976.19   \n",
       "min                   1.00                 1.00                 0.27   \n",
       "25%              32,384.00               172.00                 2.00   \n",
       "50%              45,515.50               491.00                 7.00   \n",
       "75%              47,418.25             1,142.00                40.00   \n",
       "max              49,561.00             3,650.00           120,000.00   \n",
       "\n",
       "         CANTIDAD_RECIBIDA      PRECIO_UNITARIO  PRECIO_UNITARIO_+_IVA  \\\n",
       "count            22,392.00            22,392.00              22,392.00   \n",
       "mean                 49.52            74,073.20              85,578.17   \n",
       "std                 880.83           644,253.06             736,123.81   \n",
       "min                   0.00                 0.00                   0.00   \n",
       "25%                   0.00             1,861.00               2,100.00   \n",
       "50%                   2.00            11,400.00              13,000.00   \n",
       "75%                  10.00            32,222.00              37,970.75   \n",
       "max              53,620.00        33,242,814.00          39,558,948.00   \n",
       "\n",
       "                       IVA        TOTAL_SIN_IVA          TOTAL_+_IVA  \\\n",
       "count            22,392.00            22,392.00            22,392.00   \n",
       "mean             11,499.70           477,558.03           552,286.12   \n",
       "std             104,931.32         3,160,620.25         3,583,836.25   \n",
       "min                   0.00                 0.00                 0.00   \n",
       "25%                  93.00            29,412.00            33,911.25   \n",
       "50%               1,040.00            90,756.00           104,697.00   \n",
       "75%               5,588.00           294,118.00           337,949.00   \n",
       "max           6,316,135.00       299,185,312.00       356,030,528.00   \n",
       "\n",
       "          DURACIÓN_ENTREGA  DURACIÓN_APROBACIÓN  \n",
       "count            22,392.00            22,392.00  \n",
       "mean                  3.24                13.37  \n",
       "std                  15.02                27.30  \n",
       "min                -323.00                 0.00  \n",
       "25%                   0.00                 0.00  \n",
       "50%                   1.00                 0.00  \n",
       "75%                   3.24                13.37  \n",
       "max                 307.00               573.00  "
      ]
     },
     "execution_count": 556,
     "metadata": {},
     "output_type": "execute_result"
    }
   ],
   "source": [
    "df.describe()"
   ]
  },
  {
   "cell_type": "code",
   "execution_count": 557,
   "metadata": {},
   "outputs": [
    {
     "name": "stdout",
     "output_type": "stream",
     "text": [
      "<class 'pandas.core.frame.DataFrame'>\n",
      "Int64Index: 22392 entries, 0 to 23082\n",
      "Data columns (total 19 columns):\n",
      " #   Column                   Non-Null Count  Dtype         \n",
      "---  ------                   --------------  -----         \n",
      " 0   NÚMERO_PEDIDO            22392 non-null  int32         \n",
      " 1   ORDEN_NÚMERO             22392 non-null  int32         \n",
      " 2   CATEGORÍA                22392 non-null  object        \n",
      " 3   SUBCATEGORÍA             22392 non-null  object        \n",
      " 4   PROVEEDOR                22392 non-null  object        \n",
      " 5   PRESUPUESTO              22392 non-null  object        \n",
      " 6   COMPAÑÍA_COMPRADORA      22392 non-null  object        \n",
      " 7   ESTADO                   22392 non-null  object        \n",
      " 8   PRODUCTO_O_SERVICIO      22392 non-null  object        \n",
      " 9   CANTIDAD_PEDIDA          22392 non-null  float64       \n",
      " 10  CANTIDAD_RECIBIDA        22392 non-null  float64       \n",
      " 11  PRECIO_UNITARIO          22392 non-null  float32       \n",
      " 12  PRECIO_UNITARIO_+_IVA    22392 non-null  float32       \n",
      " 13  IVA                      22392 non-null  int64         \n",
      " 14  TOTAL_SIN_IVA            22392 non-null  float32       \n",
      " 15  TOTAL_+_IVA              22392 non-null  float32       \n",
      " 16  FECHA_ÚLTIMO_MOVIMIENTO  22392 non-null  datetime64[ns]\n",
      " 17  DURACIÓN_ENTREGA         22392 non-null  float64       \n",
      " 18  DURACIÓN_APROBACIÓN      22392 non-null  float64       \n",
      "dtypes: datetime64[ns](1), float32(4), float64(4), int32(2), int64(1), object(7)\n",
      "memory usage: 2.9+ MB\n"
     ]
    }
   ],
   "source": [
    "df.info()"
   ]
  },
  {
   "cell_type": "markdown",
   "metadata": {},
   "source": [
    "## SUMARIZE CATEGORICAL VARIABLES"
   ]
  },
  {
   "cell_type": "code",
   "execution_count": 558,
   "metadata": {},
   "outputs": [
    {
     "data": {
      "text/plain": [
       "Index(['CATEGORÍA', 'SUBCATEGORÍA', 'PROVEEDOR', 'PRESUPUESTO',\n",
       "       'COMPAÑÍA_COMPRADORA', 'ESTADO', 'PRODUCTO_O_SERVICIO'],\n",
       "      dtype='object')"
      ]
     },
     "execution_count": 558,
     "metadata": {},
     "output_type": "execute_result"
    }
   ],
   "source": [
    "df.select_dtypes(['object', 'category']).columns"
   ]
  },
  {
   "cell_type": "markdown",
   "metadata": {},
   "source": [
    "### Top CATEGORIA"
   ]
  },
  {
   "cell_type": "code",
   "execution_count": 559,
   "metadata": {},
   "outputs": [
    {
     "data": {
      "text/plain": [
       "Alimentos y Bebidas                                          30.98\n",
       "Vigilancia y seguridad industrial                            27.01\n",
       "Aseo, Cafetería y Oficina                                    17.14\n",
       "Dotación y elementos de protección personal                   5.35\n",
       "Ferreteria                                                    3.53\n",
       "Almacenamiento y empaques                                     2.06\n",
       "Vehículos y repuestos                                         1.64\n",
       "Químicos y derivados                                          1.60\n",
       "Construcción y Mantenimiento                                  1.30\n",
       "Servicios Profesionales                                       1.10\n",
       "Mercadeo y publicidad                                         0.95\n",
       "Manufactura                                                   0.92\n",
       "Logística y transporte                                        0.84\n",
       "Eléctricos y Electrónicos                                     0.76\n",
       "Mobiliario y decoración                                       0.74\n",
       "Tecnología e información                                      0.69\n",
       "Textiles                                                      0.67\n",
       "Moda y accesorios                                             0.65\n",
       "Imprenta y litografía                                         0.43\n",
       "Ingeniería e Investigación                                    0.41\n",
       "Compras Sostenibles                                           0.21\n",
       "Gestión ambiental                                             0.19\n",
       "Salud y Medicina                                              0.19\n",
       "Hogar y electrodomésticos                                     0.15\n",
       "Vigilancia y seguridad                                        0.13\n",
       "Viajes, Eventos y Entretenimiento                             0.08\n",
       "Medicina y Salud                                              0.06\n",
       "Cuidado personal y Belleza                                    0.04\n",
       "Deporte y recreación                                          0.03\n",
       "Servicios Públicos                                            0.03\n",
       "Agroindustrial                                                0.02\n",
       "Generación y distribución de Energía                          0.02\n",
       "Minería                                                       0.02\n",
       "Gestión inmobiliaria                                          0.02\n",
       "Educación y formación empresarial                             0.00\n",
       "Producción audiovisual                                        0.00\n",
       "Name: CATEGORÍA, dtype: float64"
      ]
     },
     "execution_count": 559,
     "metadata": {},
     "output_type": "execute_result"
    }
   ],
   "source": [
    "categoría =df['CATEGORÍA'].value_counts()/len(df)*100\n",
    "categoría"
   ]
  },
  {
   "cell_type": "code",
   "execution_count": 560,
   "metadata": {},
   "outputs": [],
   "source": [
    "top_categoria = categoría[:7].index"
   ]
  },
  {
   "cell_type": "code",
   "execution_count": 561,
   "metadata": {},
   "outputs": [],
   "source": [
    "df.loc[~df['CATEGORÍA'].isin(top_categoria), 'CATEGORÍA'] = 'Otros'"
   ]
  },
  {
   "cell_type": "code",
   "execution_count": 562,
   "metadata": {},
   "outputs": [
    {
     "data": {
      "text/plain": [
       "Alimentos y Bebidas                            6938\n",
       "Vigilancia y seguridad industrial              6049\n",
       "Aseo, Cafetería y Oficina                      3838\n",
       "Otros                                          2749\n",
       "Dotación y elementos de protección personal    1199\n",
       "Ferreteria                                      790\n",
       "Almacenamiento y empaques                       462\n",
       "Vehículos y repuestos                           367\n",
       "Name: CATEGORÍA, dtype: int64"
      ]
     },
     "execution_count": 562,
     "metadata": {},
     "output_type": "execute_result"
    }
   ],
   "source": [
    "df['CATEGORÍA'].value_counts()"
   ]
  },
  {
   "cell_type": "markdown",
   "metadata": {},
   "source": [
    "### Top  SUBCATEGORÍA"
   ]
  },
  {
   "cell_type": "code",
   "execution_count": 563,
   "metadata": {},
   "outputs": [
    {
     "data": {
      "text/plain": [
       "Seguridad y protección personal                                  27.00\n",
       "Alimentos preparados y conservados                               10.01\n",
       "Elementos de aseo y limpieza                                      8.92\n",
       "Elementos de papelería                                            7.23\n",
       "Bebidas                                                           5.93\n",
       "                                                          ...         \n",
       "Calefacción, ventilación y circulación del aire                   0.00\n",
       "Carrocerías y remolques                                           0.00\n",
       "Piezas fundidas maquinadas                                        0.00\n",
       "Generación de energía                                             0.00\n",
       "Medios impresos                                                   0.00\n",
       "Name: SUBCATEGORÍA, Length: 149, dtype: float64"
      ]
     },
     "execution_count": 563,
     "metadata": {},
     "output_type": "execute_result"
    }
   ],
   "source": [
    "df['SUBCATEGORÍA'].value_counts()/len(df)*100"
   ]
  },
  {
   "cell_type": "code",
   "execution_count": 564,
   "metadata": {},
   "outputs": [
    {
     "data": {
      "text/plain": [
       "Index(['Seguridad y protección personal', 'Alimentos preparados y conservados',\n",
       "       'Elementos de aseo y limpieza'],\n",
       "      dtype='object')"
      ]
     },
     "execution_count": 564,
     "metadata": {},
     "output_type": "execute_result"
    }
   ],
   "source": [
    "TOP_SUBCATEGORÍA = (df['SUBCATEGORÍA'].value_counts()/len(df)*100)[:3].index\n",
    "TOP_SUBCATEGORÍA"
   ]
  },
  {
   "cell_type": "code",
   "execution_count": 565,
   "metadata": {},
   "outputs": [],
   "source": [
    "df.loc[~df['SUBCATEGORÍA'].isin(TOP_SUBCATEGORÍA), 'SUBCATEGORÍA'] =  'Otros'"
   ]
  },
  {
   "cell_type": "code",
   "execution_count": 566,
   "metadata": {},
   "outputs": [
    {
     "data": {
      "text/plain": [
       "Otros                                               54.08\n",
       "Seguridad y protección personal                     27.00\n",
       "Alimentos preparados y conservados                  10.01\n",
       "Elementos de aseo y limpieza                         8.92\n",
       "Name: SUBCATEGORÍA, dtype: float64"
      ]
     },
     "execution_count": 566,
     "metadata": {},
     "output_type": "execute_result"
    }
   ],
   "source": [
    "df['SUBCATEGORÍA'].value_counts()/len(df)*100"
   ]
  },
  {
   "cell_type": "markdown",
   "metadata": {},
   "source": [
    "### Top PROVEEDOR"
   ]
  },
  {
   "cell_type": "code",
   "execution_count": 567,
   "metadata": {},
   "outputs": [
    {
     "data": {
      "text/plain": [
       "Proveedor 301                  24.29\n",
       "Proveedor 59                    6.93\n",
       "Proveedor 28                    6.34\n",
       "Proveedor 26                    5.43\n",
       "Proveedor 321                   4.33\n",
       "                        ...         \n",
       "Proveedor 312                   0.00\n",
       "Proveedor 69                    0.00\n",
       "Proveedor 259                   0.00\n",
       "Proveedor 174                   0.00\n",
       "Proveedor 404                   0.00\n",
       "Name: PROVEEDOR, Length: 405, dtype: float64"
      ]
     },
     "execution_count": 567,
     "metadata": {},
     "output_type": "execute_result"
    }
   ],
   "source": [
    "df['PROVEEDOR'].value_counts()/len(df)*100"
   ]
  },
  {
   "cell_type": "code",
   "execution_count": 568,
   "metadata": {},
   "outputs": [
    {
     "data": {
      "text/plain": [
       "Index(['Proveedor 301', 'Proveedor 59', 'Proveedor 28'], dtype='object')"
      ]
     },
     "execution_count": 568,
     "metadata": {},
     "output_type": "execute_result"
    }
   ],
   "source": [
    "TOP_PROVEEDOR= (df['PROVEEDOR'].value_counts()/len(df)*100)[:3].index\n",
    "TOP_PROVEEDOR"
   ]
  },
  {
   "cell_type": "code",
   "execution_count": 569,
   "metadata": {},
   "outputs": [],
   "source": [
    "df.loc[~df['PROVEEDOR'].isin(TOP_PROVEEDOR), 'PROVEEDOR'] =  'Otros'"
   ]
  },
  {
   "cell_type": "code",
   "execution_count": 570,
   "metadata": {},
   "outputs": [
    {
     "data": {
      "text/plain": [
       "Otros                          62.44\n",
       "Proveedor 301                  24.29\n",
       "Proveedor 59                    6.93\n",
       "Proveedor 28                    6.34\n",
       "Name: PROVEEDOR, dtype: float64"
      ]
     },
     "execution_count": 570,
     "metadata": {},
     "output_type": "execute_result"
    }
   ],
   "source": [
    "df['PROVEEDOR'].value_counts()/len(df)*100"
   ]
  },
  {
   "cell_type": "markdown",
   "metadata": {},
   "source": [
    "### Top PRESUPUESTO"
   ]
  },
  {
   "cell_type": "code",
   "execution_count": 571,
   "metadata": {},
   "outputs": [],
   "source": [
    "def add_otros(variable, top_list):\n",
    "    df.loc[~df[variable].isin(top_list), variable] =  'Otros'\n",
    "    print(df[variable].value_counts()/len(df)*100)"
   ]
  },
  {
   "cell_type": "code",
   "execution_count": 572,
   "metadata": {},
   "outputs": [
    {
     "data": {
      "text/plain": [
       "Presupuesto 711                  34.98\n",
       "Presupuesto 719                   8.17\n",
       "Presupuesto 330                   1.53\n",
       "Presupuesto 395                   0.91\n",
       "Presupuesto 286                   0.83\n",
       "                          ...         \n",
       "Presupuesto 530                   0.00\n",
       "Presupuesto 29                    0.00\n",
       "Presupuesto 362                   0.00\n",
       "Presupuesto 523                   0.00\n",
       "Presupuesto 391                   0.00\n",
       "Name: PRESUPUESTO, Length: 921, dtype: float64"
      ]
     },
     "execution_count": 572,
     "metadata": {},
     "output_type": "execute_result"
    }
   ],
   "source": [
    "df['PRESUPUESTO'].value_counts()/len(df)*100"
   ]
  },
  {
   "cell_type": "code",
   "execution_count": 573,
   "metadata": {},
   "outputs": [
    {
     "data": {
      "text/plain": [
       "Index(['Presupuesto 711', 'Presupuesto 719'], dtype='object')"
      ]
     },
     "execution_count": 573,
     "metadata": {},
     "output_type": "execute_result"
    }
   ],
   "source": [
    "TOP_PRESUPUESTO= (df['PRESUPUESTO'].value_counts()/len(df)*100)[:2].index\n",
    "TOP_PRESUPUESTO"
   ]
  },
  {
   "cell_type": "code",
   "execution_count": 574,
   "metadata": {},
   "outputs": [
    {
     "name": "stdout",
     "output_type": "stream",
     "text": [
      "Otros                            56.85\n",
      "Presupuesto 711                  34.98\n",
      "Presupuesto 719                   8.17\n",
      "Name: PRESUPUESTO, dtype: float64\n"
     ]
    }
   ],
   "source": [
    "add_otros('PRESUPUESTO', TOP_PRESUPUESTO)"
   ]
  },
  {
   "cell_type": "code",
   "execution_count": 575,
   "metadata": {},
   "outputs": [
    {
     "data": {
      "text/plain": [
       "Otros                            56.85\n",
       "Presupuesto 711                  34.98\n",
       "Presupuesto 719                   8.17\n",
       "Name: PRESUPUESTO, dtype: float64"
      ]
     },
     "execution_count": 575,
     "metadata": {},
     "output_type": "execute_result"
    }
   ],
   "source": [
    "df['PRESUPUESTO'].value_counts()/len(df)*100"
   ]
  },
  {
   "cell_type": "markdown",
   "metadata": {},
   "source": [
    "### Top COMPAÑÍA_COMPRADORA"
   ]
  },
  {
   "cell_type": "code",
   "execution_count": 576,
   "metadata": {},
   "outputs": [
    {
     "data": {
      "text/plain": [
       "Portal comprador 1                   29.31\n",
       "Portal comprador 24                  24.29\n",
       "Portal comprador 2                   17.25\n",
       "Portal comprador 29                  14.83\n",
       "Portal comprador 6                    3.80\n",
       "Portal comprador 30                   3.39\n",
       "Portal comprador 4                    1.61\n",
       "Portal comprador 8                    1.42\n",
       "Portal comprador 5                    1.32\n",
       "Portal comprador 12                   0.96\n",
       "Portal comprador 18                   0.40\n",
       "Portal comprador 10                   0.31\n",
       "Portal comprador 7                    0.29\n",
       "Portal comprador 11                   0.23\n",
       "Portal comprador 27                   0.16\n",
       "Portal comprador 13                   0.15\n",
       "Portal comprador 20                   0.13\n",
       "Portal comprador 31                   0.07\n",
       "Portal comprador 21                   0.02\n",
       "Portal comprador 32                   0.01\n",
       "Portal comprador 28                   0.01\n",
       "Portal comprador 26                   0.01\n",
       "Portal comprador 14                   0.01\n",
       "Portal comprador 19                   0.00\n",
       "Portal comprador 15                   0.00\n",
       "Portal comprador 23                   0.00\n",
       "Portal comprador 22                   0.00\n",
       "Portal comprador 17                   0.00\n",
       "Portal comprador 25                   0.00\n",
       "Portal comprador 16                   0.00\n",
       "Portal comprador 3                    0.00\n",
       "Portal comprador 9                    0.00\n",
       "Portal comprador 33                   0.00\n",
       "Name: COMPAÑÍA_COMPRADORA, dtype: float64"
      ]
     },
     "execution_count": 576,
     "metadata": {},
     "output_type": "execute_result"
    }
   ],
   "source": [
    "df['COMPAÑÍA_COMPRADORA'].value_counts()/len(df)*100"
   ]
  },
  {
   "cell_type": "code",
   "execution_count": 577,
   "metadata": {},
   "outputs": [
    {
     "data": {
      "text/plain": [
       "Index(['Portal comprador 1', 'Portal comprador 24', 'Portal comprador 2',\n",
       "       'Portal comprador 29'],\n",
       "      dtype='object')"
      ]
     },
     "execution_count": 577,
     "metadata": {},
     "output_type": "execute_result"
    }
   ],
   "source": [
    "TOP_COMPAÑIA_COMPRADORA = (df['COMPAÑÍA_COMPRADORA'].value_counts()/len(df)*100)[:4].index\n",
    "TOP_COMPAÑIA_COMPRADORA"
   ]
  },
  {
   "cell_type": "code",
   "execution_count": 578,
   "metadata": {},
   "outputs": [
    {
     "name": "stdout",
     "output_type": "stream",
     "text": [
      "Portal comprador 1                   29.31\n",
      "Portal comprador 24                  24.29\n",
      "Portal comprador 2                   17.25\n",
      "Portal comprador 29                  14.83\n",
      "Otros                                14.32\n",
      "Name: COMPAÑÍA_COMPRADORA, dtype: float64\n"
     ]
    }
   ],
   "source": [
    "add_otros('COMPAÑÍA_COMPRADORA', TOP_COMPAÑIA_COMPRADORA)"
   ]
  },
  {
   "cell_type": "code",
   "execution_count": 579,
   "metadata": {},
   "outputs": [
    {
     "data": {
      "text/plain": [
       "Portal comprador 1     6563\n",
       "Portal comprador 24    5439\n",
       "Portal comprador 2     3863\n",
       "Portal comprador 29    3320\n",
       "Otros                  3207\n",
       "Name: COMPAÑÍA_COMPRADORA, dtype: int64"
      ]
     },
     "execution_count": 579,
     "metadata": {},
     "output_type": "execute_result"
    }
   ],
   "source": [
    "df['COMPAÑÍA_COMPRADORA'].value_counts()"
   ]
  },
  {
   "cell_type": "markdown",
   "metadata": {},
   "source": [
    "### Top PRODUCTO_O_SERVICIO (try to avoid this varaible on the dataset)"
   ]
  },
  {
   "cell_type": "code",
   "execution_count": 580,
   "metadata": {},
   "outputs": [],
   "source": [
    "df.drop('PRODUCTO_O_SERVICIO', axis=1, inplace=True)"
   ]
  },
  {
   "cell_type": "markdown",
   "metadata": {},
   "source": [
    "# 6. CORRELATION ANALYSIS"
   ]
  },
  {
   "cell_type": "code",
   "execution_count": 581,
   "metadata": {},
   "outputs": [
    {
     "data": {
      "text/html": [
       "<div>\n",
       "<style scoped>\n",
       "    .dataframe tbody tr th:only-of-type {\n",
       "        vertical-align: middle;\n",
       "    }\n",
       "\n",
       "    .dataframe tbody tr th {\n",
       "        vertical-align: top;\n",
       "    }\n",
       "\n",
       "    .dataframe thead th {\n",
       "        text-align: right;\n",
       "    }\n",
       "</style>\n",
       "<table border=\"1\" class=\"dataframe\">\n",
       "  <thead>\n",
       "    <tr style=\"text-align: right;\">\n",
       "      <th></th>\n",
       "      <th>NÚMERO_PEDIDO</th>\n",
       "      <th>ORDEN_NÚMERO</th>\n",
       "      <th>CANTIDAD_PEDIDA</th>\n",
       "      <th>CANTIDAD_RECIBIDA</th>\n",
       "      <th>PRECIO_UNITARIO</th>\n",
       "      <th>PRECIO_UNITARIO_+_IVA</th>\n",
       "      <th>IVA</th>\n",
       "      <th>TOTAL_SIN_IVA</th>\n",
       "      <th>TOTAL_+_IVA</th>\n",
       "      <th>DURACIÓN_ENTREGA</th>\n",
       "      <th>DURACIÓN_APROBACIÓN</th>\n",
       "    </tr>\n",
       "  </thead>\n",
       "  <tbody>\n",
       "    <tr>\n",
       "      <th>NÚMERO_PEDIDO</th>\n",
       "      <td>1.00</td>\n",
       "      <td>0.45</td>\n",
       "      <td>-0.12</td>\n",
       "      <td>0.03</td>\n",
       "      <td>0.06</td>\n",
       "      <td>0.06</td>\n",
       "      <td>0.05</td>\n",
       "      <td>0.03</td>\n",
       "      <td>0.03</td>\n",
       "      <td>0.04</td>\n",
       "      <td>-0.01</td>\n",
       "    </tr>\n",
       "    <tr>\n",
       "      <th>ORDEN_NÚMERO</th>\n",
       "      <td>0.45</td>\n",
       "      <td>1.00</td>\n",
       "      <td>-0.03</td>\n",
       "      <td>0.03</td>\n",
       "      <td>0.09</td>\n",
       "      <td>0.09</td>\n",
       "      <td>0.09</td>\n",
       "      <td>0.01</td>\n",
       "      <td>0.01</td>\n",
       "      <td>-0.04</td>\n",
       "      <td>-0.18</td>\n",
       "    </tr>\n",
       "    <tr>\n",
       "      <th>CANTIDAD_PEDIDA</th>\n",
       "      <td>-0.12</td>\n",
       "      <td>-0.03</td>\n",
       "      <td>1.00</td>\n",
       "      <td>0.44</td>\n",
       "      <td>-0.01</td>\n",
       "      <td>-0.01</td>\n",
       "      <td>-0.01</td>\n",
       "      <td>0.02</td>\n",
       "      <td>0.02</td>\n",
       "      <td>-0.00</td>\n",
       "      <td>-0.04</td>\n",
       "    </tr>\n",
       "    <tr>\n",
       "      <th>CANTIDAD_RECIBIDA</th>\n",
       "      <td>0.03</td>\n",
       "      <td>0.03</td>\n",
       "      <td>0.44</td>\n",
       "      <td>1.00</td>\n",
       "      <td>-0.01</td>\n",
       "      <td>-0.01</td>\n",
       "      <td>-0.01</td>\n",
       "      <td>0.04</td>\n",
       "      <td>0.04</td>\n",
       "      <td>-0.01</td>\n",
       "      <td>-0.01</td>\n",
       "    </tr>\n",
       "    <tr>\n",
       "      <th>PRECIO_UNITARIO</th>\n",
       "      <td>0.06</td>\n",
       "      <td>0.09</td>\n",
       "      <td>-0.01</td>\n",
       "      <td>-0.01</td>\n",
       "      <td>1.00</td>\n",
       "      <td>1.00</td>\n",
       "      <td>0.86</td>\n",
       "      <td>0.61</td>\n",
       "      <td>0.60</td>\n",
       "      <td>0.14</td>\n",
       "      <td>-0.03</td>\n",
       "    </tr>\n",
       "    <tr>\n",
       "      <th>PRECIO_UNITARIO_+_IVA</th>\n",
       "      <td>0.06</td>\n",
       "      <td>0.09</td>\n",
       "      <td>-0.01</td>\n",
       "      <td>-0.01</td>\n",
       "      <td>1.00</td>\n",
       "      <td>1.00</td>\n",
       "      <td>0.89</td>\n",
       "      <td>0.59</td>\n",
       "      <td>0.59</td>\n",
       "      <td>0.13</td>\n",
       "      <td>-0.02</td>\n",
       "    </tr>\n",
       "    <tr>\n",
       "      <th>IVA</th>\n",
       "      <td>0.05</td>\n",
       "      <td>0.09</td>\n",
       "      <td>-0.01</td>\n",
       "      <td>-0.01</td>\n",
       "      <td>0.86</td>\n",
       "      <td>0.89</td>\n",
       "      <td>1.00</td>\n",
       "      <td>0.45</td>\n",
       "      <td>0.48</td>\n",
       "      <td>0.10</td>\n",
       "      <td>-0.02</td>\n",
       "    </tr>\n",
       "    <tr>\n",
       "      <th>TOTAL_SIN_IVA</th>\n",
       "      <td>0.03</td>\n",
       "      <td>0.01</td>\n",
       "      <td>0.02</td>\n",
       "      <td>0.04</td>\n",
       "      <td>0.61</td>\n",
       "      <td>0.59</td>\n",
       "      <td>0.45</td>\n",
       "      <td>1.00</td>\n",
       "      <td>1.00</td>\n",
       "      <td>0.22</td>\n",
       "      <td>0.04</td>\n",
       "    </tr>\n",
       "    <tr>\n",
       "      <th>TOTAL_+_IVA</th>\n",
       "      <td>0.03</td>\n",
       "      <td>0.01</td>\n",
       "      <td>0.02</td>\n",
       "      <td>0.04</td>\n",
       "      <td>0.60</td>\n",
       "      <td>0.59</td>\n",
       "      <td>0.48</td>\n",
       "      <td>1.00</td>\n",
       "      <td>1.00</td>\n",
       "      <td>0.22</td>\n",
       "      <td>0.04</td>\n",
       "    </tr>\n",
       "    <tr>\n",
       "      <th>DURACIÓN_ENTREGA</th>\n",
       "      <td>0.04</td>\n",
       "      <td>-0.04</td>\n",
       "      <td>-0.00</td>\n",
       "      <td>-0.01</td>\n",
       "      <td>0.14</td>\n",
       "      <td>0.13</td>\n",
       "      <td>0.10</td>\n",
       "      <td>0.22</td>\n",
       "      <td>0.22</td>\n",
       "      <td>1.00</td>\n",
       "      <td>-0.07</td>\n",
       "    </tr>\n",
       "    <tr>\n",
       "      <th>DURACIÓN_APROBACIÓN</th>\n",
       "      <td>-0.01</td>\n",
       "      <td>-0.18</td>\n",
       "      <td>-0.04</td>\n",
       "      <td>-0.01</td>\n",
       "      <td>-0.03</td>\n",
       "      <td>-0.02</td>\n",
       "      <td>-0.02</td>\n",
       "      <td>0.04</td>\n",
       "      <td>0.04</td>\n",
       "      <td>-0.07</td>\n",
       "      <td>1.00</td>\n",
       "    </tr>\n",
       "  </tbody>\n",
       "</table>\n",
       "</div>"
      ],
      "text/plain": [
       "                             NÚMERO_PEDIDO         ORDEN_NÚMERO  \\\n",
       "NÚMERO_PEDIDO                         1.00                 0.45   \n",
       "ORDEN_NÚMERO                          0.45                 1.00   \n",
       "CANTIDAD_PEDIDA                      -0.12                -0.03   \n",
       "CANTIDAD_RECIBIDA                     0.03                 0.03   \n",
       "PRECIO_UNITARIO                       0.06                 0.09   \n",
       "PRECIO_UNITARIO_+_IVA                 0.06                 0.09   \n",
       "IVA                                   0.05                 0.09   \n",
       "TOTAL_SIN_IVA                         0.03                 0.01   \n",
       "TOTAL_+_IVA                           0.03                 0.01   \n",
       "DURACIÓN_ENTREGA                      0.04                -0.04   \n",
       "DURACIÓN_APROBACIÓN                  -0.01                -0.18   \n",
       "\n",
       "                           CANTIDAD_PEDIDA    CANTIDAD_RECIBIDA  \\\n",
       "NÚMERO_PEDIDO                        -0.12                 0.03   \n",
       "ORDEN_NÚMERO                         -0.03                 0.03   \n",
       "CANTIDAD_PEDIDA                       1.00                 0.44   \n",
       "CANTIDAD_RECIBIDA                     0.44                 1.00   \n",
       "PRECIO_UNITARIO                      -0.01                -0.01   \n",
       "PRECIO_UNITARIO_+_IVA                -0.01                -0.01   \n",
       "IVA                                  -0.01                -0.01   \n",
       "TOTAL_SIN_IVA                         0.02                 0.04   \n",
       "TOTAL_+_IVA                           0.02                 0.04   \n",
       "DURACIÓN_ENTREGA                     -0.00                -0.01   \n",
       "DURACIÓN_APROBACIÓN                  -0.04                -0.01   \n",
       "\n",
       "                           PRECIO_UNITARIO  PRECIO_UNITARIO_+_IVA  \\\n",
       "NÚMERO_PEDIDO                         0.06                   0.06   \n",
       "ORDEN_NÚMERO                          0.09                   0.09   \n",
       "CANTIDAD_PEDIDA                      -0.01                  -0.01   \n",
       "CANTIDAD_RECIBIDA                    -0.01                  -0.01   \n",
       "PRECIO_UNITARIO                       1.00                   1.00   \n",
       "PRECIO_UNITARIO_+_IVA                 1.00                   1.00   \n",
       "IVA                                   0.86                   0.89   \n",
       "TOTAL_SIN_IVA                         0.61                   0.59   \n",
       "TOTAL_+_IVA                           0.60                   0.59   \n",
       "DURACIÓN_ENTREGA                      0.14                   0.13   \n",
       "DURACIÓN_APROBACIÓN                  -0.03                  -0.02   \n",
       "\n",
       "                                       IVA        TOTAL_SIN_IVA  \\\n",
       "NÚMERO_PEDIDO                         0.05                 0.03   \n",
       "ORDEN_NÚMERO                          0.09                 0.01   \n",
       "CANTIDAD_PEDIDA                      -0.01                 0.02   \n",
       "CANTIDAD_RECIBIDA                    -0.01                 0.04   \n",
       "PRECIO_UNITARIO                       0.86                 0.61   \n",
       "PRECIO_UNITARIO_+_IVA                 0.89                 0.59   \n",
       "IVA                                   1.00                 0.45   \n",
       "TOTAL_SIN_IVA                         0.45                 1.00   \n",
       "TOTAL_+_IVA                           0.48                 1.00   \n",
       "DURACIÓN_ENTREGA                      0.10                 0.22   \n",
       "DURACIÓN_APROBACIÓN                  -0.02                 0.04   \n",
       "\n",
       "                               TOTAL_+_IVA     DURACIÓN_ENTREGA  \\\n",
       "NÚMERO_PEDIDO                         0.03                 0.04   \n",
       "ORDEN_NÚMERO                          0.01                -0.04   \n",
       "CANTIDAD_PEDIDA                       0.02                -0.00   \n",
       "CANTIDAD_RECIBIDA                     0.04                -0.01   \n",
       "PRECIO_UNITARIO                       0.60                 0.14   \n",
       "PRECIO_UNITARIO_+_IVA                 0.59                 0.13   \n",
       "IVA                                   0.48                 0.10   \n",
       "TOTAL_SIN_IVA                         1.00                 0.22   \n",
       "TOTAL_+_IVA                           1.00                 0.22   \n",
       "DURACIÓN_ENTREGA                      0.22                 1.00   \n",
       "DURACIÓN_APROBACIÓN                   0.04                -0.07   \n",
       "\n",
       "                       DURACIÓN_APROBACIÓN  \n",
       "NÚMERO_PEDIDO                        -0.01  \n",
       "ORDEN_NÚMERO                         -0.18  \n",
       "CANTIDAD_PEDIDA                      -0.04  \n",
       "CANTIDAD_RECIBIDA                    -0.01  \n",
       "PRECIO_UNITARIO                      -0.03  \n",
       "PRECIO_UNITARIO_+_IVA                -0.02  \n",
       "IVA                                  -0.02  \n",
       "TOTAL_SIN_IVA                         0.04  \n",
       "TOTAL_+_IVA                           0.04  \n",
       "DURACIÓN_ENTREGA                     -0.07  \n",
       "DURACIÓN_APROBACIÓN                   1.00  "
      ]
     },
     "execution_count": 581,
     "metadata": {},
     "output_type": "execute_result"
    }
   ],
   "source": [
    "df.corr()"
   ]
  },
  {
   "cell_type": "code",
   "execution_count": 582,
   "metadata": {},
   "outputs": [
    {
     "data": {
      "text/plain": [
       "<matplotlib.axes._subplots.AxesSubplot at 0x2ac335346c8>"
      ]
     },
     "execution_count": 582,
     "metadata": {},
     "output_type": "execute_result"
    },
    {
     "data": {
      "image/png": "[encoded data removed]",
      "text/plain": [
       "<Figure size 432x288 with 2 Axes>"
      ]
     },
     "metadata": {},
     "output_type": "display_data"
    }
   ],
   "source": [
    "\n",
    "sns.heatmap(df.corr(), center=0, annot=True, linewidths=.5)"
   ]
  },
  {
   "cell_type": "code",
   "execution_count": 583,
   "metadata": {},
   "outputs": [
    {
     "data": {
      "text/html": [
       "<div>\n",
       "<style scoped>\n",
       "    .dataframe tbody tr th:only-of-type {\n",
       "        vertical-align: middle;\n",
       "    }\n",
       "\n",
       "    .dataframe tbody tr th {\n",
       "        vertical-align: top;\n",
       "    }\n",
       "\n",
       "    .dataframe thead th {\n",
       "        text-align: right;\n",
       "    }\n",
       "</style>\n",
       "<table border=\"1\" class=\"dataframe\">\n",
       "  <thead>\n",
       "    <tr style=\"text-align: right;\">\n",
       "      <th></th>\n",
       "      <th>NÚMERO_PEDIDO</th>\n",
       "      <th>ORDEN_NÚMERO</th>\n",
       "      <th>CANTIDAD_PEDIDA</th>\n",
       "      <th>CANTIDAD_RECIBIDA</th>\n",
       "      <th>PRECIO_UNITARIO</th>\n",
       "      <th>PRECIO_UNITARIO_+_IVA</th>\n",
       "      <th>IVA</th>\n",
       "      <th>TOTAL_SIN_IVA</th>\n",
       "      <th>TOTAL_+_IVA</th>\n",
       "      <th>DURACIÓN_ENTREGA</th>\n",
       "      <th>DURACIÓN_APROBACIÓN</th>\n",
       "    </tr>\n",
       "  </thead>\n",
       "  <tbody>\n",
       "    <tr>\n",
       "      <th>count</th>\n",
       "      <td>22,392.00</td>\n",
       "      <td>22,392.00</td>\n",
       "      <td>22,392.00</td>\n",
       "      <td>22,392.00</td>\n",
       "      <td>22,392.00</td>\n",
       "      <td>22,392.00</td>\n",
       "      <td>22,392.00</td>\n",
       "      <td>22,392.00</td>\n",
       "      <td>22,392.00</td>\n",
       "      <td>22,392.00</td>\n",
       "      <td>22,392.00</td>\n",
       "    </tr>\n",
       "    <tr>\n",
       "      <th>mean</th>\n",
       "      <td>35,120.86</td>\n",
       "      <td>708.25</td>\n",
       "      <td>196.68</td>\n",
       "      <td>49.52</td>\n",
       "      <td>74,073.20</td>\n",
       "      <td>85,578.17</td>\n",
       "      <td>11,499.70</td>\n",
       "      <td>477,558.03</td>\n",
       "      <td>552,286.12</td>\n",
       "      <td>3.24</td>\n",
       "      <td>13.37</td>\n",
       "    </tr>\n",
       "    <tr>\n",
       "      <th>std</th>\n",
       "      <td>17,747.16</td>\n",
       "      <td>653.97</td>\n",
       "      <td>1,976.19</td>\n",
       "      <td>880.83</td>\n",
       "      <td>644,253.06</td>\n",
       "      <td>736,123.81</td>\n",
       "      <td>104,931.32</td>\n",
       "      <td>3,160,620.25</td>\n",
       "      <td>3,583,836.25</td>\n",
       "      <td>15.02</td>\n",
       "      <td>27.30</td>\n",
       "    </tr>\n",
       "    <tr>\n",
       "      <th>min</th>\n",
       "      <td>1.00</td>\n",
       "      <td>1.00</td>\n",
       "      <td>0.27</td>\n",
       "      <td>0.00</td>\n",
       "      <td>0.00</td>\n",
       "      <td>0.00</td>\n",
       "      <td>0.00</td>\n",
       "      <td>0.00</td>\n",
       "      <td>0.00</td>\n",
       "      <td>-323.00</td>\n",
       "      <td>0.00</td>\n",
       "    </tr>\n",
       "    <tr>\n",
       "      <th>25%</th>\n",
       "      <td>32,384.00</td>\n",
       "      <td>172.00</td>\n",
       "      <td>2.00</td>\n",
       "      <td>0.00</td>\n",
       "      <td>1,861.00</td>\n",
       "      <td>2,100.00</td>\n",
       "      <td>93.00</td>\n",
       "      <td>29,412.00</td>\n",
       "      <td>33,911.25</td>\n",
       "      <td>0.00</td>\n",
       "      <td>0.00</td>\n",
       "    </tr>\n",
       "    <tr>\n",
       "      <th>50%</th>\n",
       "      <td>45,515.50</td>\n",
       "      <td>491.00</td>\n",
       "      <td>7.00</td>\n",
       "      <td>2.00</td>\n",
       "      <td>11,400.00</td>\n",
       "      <td>13,000.00</td>\n",
       "      <td>1,040.00</td>\n",
       "      <td>90,756.00</td>\n",
       "      <td>104,697.00</td>\n",
       "      <td>1.00</td>\n",
       "      <td>0.00</td>\n",
       "    </tr>\n",
       "    <tr>\n",
       "      <th>75%</th>\n",
       "      <td>47,418.25</td>\n",
       "      <td>1,142.00</td>\n",
       "      <td>40.00</td>\n",
       "      <td>10.00</td>\n",
       "      <td>32,222.00</td>\n",
       "      <td>37,970.75</td>\n",
       "      <td>5,588.00</td>\n",
       "      <td>294,118.00</td>\n",
       "      <td>337,949.00</td>\n",
       "      <td>3.24</td>\n",
       "      <td>13.37</td>\n",
       "    </tr>\n",
       "    <tr>\n",
       "      <th>max</th>\n",
       "      <td>49,561.00</td>\n",
       "      <td>3,650.00</td>\n",
       "      <td>120,000.00</td>\n",
       "      <td>53,620.00</td>\n",
       "      <td>33,242,814.00</td>\n",
       "      <td>39,558,948.00</td>\n",
       "      <td>6,316,135.00</td>\n",
       "      <td>299,185,312.00</td>\n",
       "      <td>356,030,528.00</td>\n",
       "      <td>307.00</td>\n",
       "      <td>573.00</td>\n",
       "    </tr>\n",
       "  </tbody>\n",
       "</table>\n",
       "</div>"
      ],
      "text/plain": [
       "             NÚMERO_PEDIDO         ORDEN_NÚMERO      CANTIDAD_PEDIDA  \\\n",
       "count            22,392.00            22,392.00            22,392.00   \n",
       "mean             35,120.86               708.25               196.68   \n",
       "std              17,747.16               653.97             1,976.19   \n",
       "min                   1.00                 1.00                 0.27   \n",
       "25%              32,384.00               172.00                 2.00   \n",
       "50%              45,515.50               491.00                 7.00   \n",
       "75%              47,418.25             1,142.00                40.00   \n",
       "max              49,561.00             3,650.00           120,000.00   \n",
       "\n",
       "         CANTIDAD_RECIBIDA      PRECIO_UNITARIO  PRECIO_UNITARIO_+_IVA  \\\n",
       "count            22,392.00            22,392.00              22,392.00   \n",
       "mean                 49.52            74,073.20              85,578.17   \n",
       "std                 880.83           644,253.06             736,123.81   \n",
       "min                   0.00                 0.00                   0.00   \n",
       "25%                   0.00             1,861.00               2,100.00   \n",
       "50%                   2.00            11,400.00              13,000.00   \n",
       "75%                  10.00            32,222.00              37,970.75   \n",
       "max              53,620.00        33,242,814.00          39,558,948.00   \n",
       "\n",
       "                       IVA        TOTAL_SIN_IVA          TOTAL_+_IVA  \\\n",
       "count            22,392.00            22,392.00            22,392.00   \n",
       "mean             11,499.70           477,558.03           552,286.12   \n",
       "std             104,931.32         3,160,620.25         3,583,836.25   \n",
       "min                   0.00                 0.00                 0.00   \n",
       "25%                  93.00            29,412.00            33,911.25   \n",
       "50%               1,040.00            90,756.00           104,697.00   \n",
       "75%               5,588.00           294,118.00           337,949.00   \n",
       "max           6,316,135.00       299,185,312.00       356,030,528.00   \n",
       "\n",
       "          DURACIÓN_ENTREGA  DURACIÓN_APROBACIÓN  \n",
       "count            22,392.00            22,392.00  \n",
       "mean                  3.24                13.37  \n",
       "std                  15.02                27.30  \n",
       "min                -323.00                 0.00  \n",
       "25%                   0.00                 0.00  \n",
       "50%                   1.00                 0.00  \n",
       "75%                   3.24                13.37  \n",
       "max                 307.00               573.00  "
      ]
     },
     "execution_count": 583,
     "metadata": {},
     "output_type": "execute_result"
    }
   ],
   "source": [
    "df.describe()"
   ]
  },
  {
   "cell_type": "markdown",
   "metadata": {},
   "source": [
    "Delete 'TOTAL_SIN_IVA'"
   ]
  },
  {
   "cell_type": "code",
   "execution_count": 584,
   "metadata": {},
   "outputs": [],
   "source": [
    "df.drop('TOTAL_SIN_IVA', axis=1, inplace=True)"
   ]
  },
  {
   "cell_type": "code",
   "execution_count": 585,
   "metadata": {},
   "outputs": [
    {
     "data": {
      "text/plain": [
       "<matplotlib.axes._subplots.AxesSubplot at 0x2ac339c8c88>"
      ]
     },
     "execution_count": 585,
     "metadata": {},
     "output_type": "execute_result"
    },
    {
     "data": {
      "image/png": "[encoded data removed]",
      "text/plain": [
       "<Figure size 432x288 with 2 Axes>"
      ]
     },
     "metadata": {},
     "output_type": "display_data"
    }
   ],
   "source": [
    "sns.heatmap(df.corr(), center=0, annot=True, linewidths=.5)"
   ]
  },
  {
   "cell_type": "code",
   "execution_count": 586,
   "metadata": {},
   "outputs": [
    {
     "data": {
      "text/plain": [
       "Index(['NÚMERO_PEDIDO', 'ORDEN_NÚMERO', 'CATEGORÍA', 'SUBCATEGORÍA',\n",
       "       'PROVEEDOR', 'PRESUPUESTO', 'COMPAÑÍA_COMPRADORA', 'ESTADO',\n",
       "       'CANTIDAD_PEDIDA', 'CANTIDAD_RECIBIDA', 'PRECIO_UNITARIO',\n",
       "       'PRECIO_UNITARIO_+_IVA', 'IVA', 'TOTAL_+_IVA',\n",
       "       'FECHA_ÚLTIMO_MOVIMIENTO', 'DURACIÓN_ENTREGA', 'DURACIÓN_APROBACIÓN'],\n",
       "      dtype='object')"
      ]
     },
     "execution_count": 586,
     "metadata": {},
     "output_type": "execute_result"
    }
   ],
   "source": [
    "df.columns"
   ]
  },
  {
   "cell_type": "code",
   "execution_count": 587,
   "metadata": {},
   "outputs": [
    {
     "data": {
      "text/html": [
       "<div>\n",
       "<style scoped>\n",
       "    .dataframe tbody tr th:only-of-type {\n",
       "        vertical-align: middle;\n",
       "    }\n",
       "\n",
       "    .dataframe tbody tr th {\n",
       "        vertical-align: top;\n",
       "    }\n",
       "\n",
       "    .dataframe thead th {\n",
       "        text-align: right;\n",
       "    }\n",
       "</style>\n",
       "<table border=\"1\" class=\"dataframe\">\n",
       "  <thead>\n",
       "    <tr style=\"text-align: right;\">\n",
       "      <th></th>\n",
       "      <th>NÚMERO_PEDIDO</th>\n",
       "      <th>ORDEN_NÚMERO</th>\n",
       "      <th>CATEGORÍA</th>\n",
       "      <th>SUBCATEGORÍA</th>\n",
       "      <th>PROVEEDOR</th>\n",
       "      <th>PRESUPUESTO</th>\n",
       "      <th>COMPAÑÍA_COMPRADORA</th>\n",
       "      <th>ESTADO</th>\n",
       "      <th>CANTIDAD_PEDIDA</th>\n",
       "      <th>CANTIDAD_RECIBIDA</th>\n",
       "      <th>PRECIO_UNITARIO</th>\n",
       "      <th>PRECIO_UNITARIO_+_IVA</th>\n",
       "      <th>IVA</th>\n",
       "      <th>TOTAL_+_IVA</th>\n",
       "      <th>FECHA_ÚLTIMO_MOVIMIENTO</th>\n",
       "      <th>DURACIÓN_ENTREGA</th>\n",
       "      <th>DURACIÓN_APROBACIÓN</th>\n",
       "    </tr>\n",
       "  </thead>\n",
       "  <tbody>\n",
       "    <tr>\n",
       "      <th>0</th>\n",
       "      <td>49561</td>\n",
       "      <td>2582</td>\n",
       "      <td>Otros</td>\n",
       "      <td>Otros</td>\n",
       "      <td>Otros</td>\n",
       "      <td>Otros</td>\n",
       "      <td>Portal comprador 1</td>\n",
       "      <td>Orden en Proceso</td>\n",
       "      <td>2.00</td>\n",
       "      <td>0.00</td>\n",
       "      <td>23,364.00</td>\n",
       "      <td>27,803.00</td>\n",
       "      <td>4439</td>\n",
       "      <td>55,606.00</td>\n",
       "      <td>2021-11-10</td>\n",
       "      <td>0.00</td>\n",
       "      <td>0.00</td>\n",
       "    </tr>\n",
       "    <tr>\n",
       "      <th>1</th>\n",
       "      <td>49560</td>\n",
       "      <td>2581</td>\n",
       "      <td>Otros</td>\n",
       "      <td>Otros</td>\n",
       "      <td>Otros</td>\n",
       "      <td>Otros</td>\n",
       "      <td>Portal comprador 1</td>\n",
       "      <td>Recibido</td>\n",
       "      <td>1.00</td>\n",
       "      <td>1.00</td>\n",
       "      <td>1,476,972.00</td>\n",
       "      <td>1,757,597.00</td>\n",
       "      <td>280625</td>\n",
       "      <td>1,757,597.00</td>\n",
       "      <td>2021-11-10</td>\n",
       "      <td>1.00</td>\n",
       "      <td>0.00</td>\n",
       "    </tr>\n",
       "  </tbody>\n",
       "</table>\n",
       "</div>"
      ],
      "text/plain": [
       "   NÚMERO_PEDIDO  ORDEN_NÚMERO CATEGORÍA SUBCATEGORÍA PROVEEDOR PRESUPUESTO  \\\n",
       "0          49561          2582     Otros        Otros     Otros       Otros   \n",
       "1          49560          2581     Otros        Otros     Otros       Otros   \n",
       "\n",
       "  COMPAÑÍA_COMPRADORA            ESTADO      CANTIDAD_PEDIDA  \\\n",
       "0  Portal comprador 1  Orden en Proceso                 2.00   \n",
       "1  Portal comprador 1          Recibido                 1.00   \n",
       "\n",
       "     CANTIDAD_RECIBIDA      PRECIO_UNITARIO  PRECIO_UNITARIO_+_IVA     IVA  \\\n",
       "0                 0.00            23,364.00              27,803.00    4439   \n",
       "1                 1.00         1,476,972.00           1,757,597.00  280625   \n",
       "\n",
       "           TOTAL_+_IVA FECHA_ÚLTIMO_MOVIMIENTO     DURACIÓN_ENTREGA  \\\n",
       "0            55,606.00              2021-11-10                 0.00   \n",
       "1         1,757,597.00              2021-11-10                 1.00   \n",
       "\n",
       "   DURACIÓN_APROBACIÓN  \n",
       "0                 0.00  \n",
       "1                 0.00  "
      ]
     },
     "execution_count": 587,
     "metadata": {},
     "output_type": "execute_result"
    }
   ],
   "source": [
    "df.head(2)"
   ]
  },
  {
   "cell_type": "code",
   "execution_count": 588,
   "metadata": {},
   "outputs": [],
   "source": [
    "df.to_excel('Proveindustriales_completo.xlsx', index=False)"
   ]
  },
  {
   "cell_type": "markdown",
   "metadata": {},
   "source": [
    "# 8. TRANSFORMATION"
   ]
  },
  {
   "cell_type": "code",
   "execution_count": 589,
   "metadata": {},
   "outputs": [],
   "source": [
    "from sklearn.preprocessing import OneHotEncoder\n",
    "from sklearn.compose import ColumnTransformer\n",
    "from sklearn.compose import ColumnTransformer\n",
    "from sklearn.pipeline import Pipeline\n",
    "from sklearn.preprocessing import Normalizer"
   ]
  },
  {
   "cell_type": "markdown",
   "metadata": {},
   "source": [
    "## Numeric to Normalized values"
   ]
  },
  {
   "cell_type": "code",
   "execution_count": 590,
   "metadata": {},
   "outputs": [
    {
     "data": {
      "text/html": [
       "<div>\n",
       "<style scoped>\n",
       "    .dataframe tbody tr th:only-of-type {\n",
       "        vertical-align: middle;\n",
       "    }\n",
       "\n",
       "    .dataframe tbody tr th {\n",
       "        vertical-align: top;\n",
       "    }\n",
       "\n",
       "    .dataframe thead th {\n",
       "        text-align: right;\n",
       "    }\n",
       "</style>\n",
       "<table border=\"1\" class=\"dataframe\">\n",
       "  <thead>\n",
       "    <tr style=\"text-align: right;\">\n",
       "      <th></th>\n",
       "      <th>NÚMERO_PEDIDO</th>\n",
       "      <th>ORDEN_NÚMERO</th>\n",
       "      <th>CANTIDAD_PEDIDA</th>\n",
       "      <th>CANTIDAD_RECIBIDA</th>\n",
       "      <th>PRECIO_UNITARIO</th>\n",
       "      <th>PRECIO_UNITARIO_+_IVA</th>\n",
       "      <th>IVA</th>\n",
       "      <th>TOTAL_+_IVA</th>\n",
       "      <th>DURACIÓN_ENTREGA</th>\n",
       "      <th>DURACIÓN_APROBACIÓN</th>\n",
       "    </tr>\n",
       "  </thead>\n",
       "  <tbody>\n",
       "    <tr>\n",
       "      <th>0</th>\n",
       "      <td>49561</td>\n",
       "      <td>2582</td>\n",
       "      <td>2.00</td>\n",
       "      <td>0.00</td>\n",
       "      <td>23,364.00</td>\n",
       "      <td>27,803.00</td>\n",
       "      <td>4439</td>\n",
       "      <td>55,606.00</td>\n",
       "      <td>0.00</td>\n",
       "      <td>0.00</td>\n",
       "    </tr>\n",
       "    <tr>\n",
       "      <th>1</th>\n",
       "      <td>49560</td>\n",
       "      <td>2581</td>\n",
       "      <td>1.00</td>\n",
       "      <td>1.00</td>\n",
       "      <td>1,476,972.00</td>\n",
       "      <td>1,757,597.00</td>\n",
       "      <td>280625</td>\n",
       "      <td>1,757,597.00</td>\n",
       "      <td>1.00</td>\n",
       "      <td>0.00</td>\n",
       "    </tr>\n",
       "    <tr>\n",
       "      <th>2</th>\n",
       "      <td>49559</td>\n",
       "      <td>2580</td>\n",
       "      <td>10.00</td>\n",
       "      <td>0.00</td>\n",
       "      <td>15,500.00</td>\n",
       "      <td>15,500.00</td>\n",
       "      <td>0</td>\n",
       "      <td>155,000.00</td>\n",
       "      <td>0.00</td>\n",
       "      <td>0.00</td>\n",
       "    </tr>\n",
       "    <tr>\n",
       "      <th>3</th>\n",
       "      <td>49558</td>\n",
       "      <td>1892</td>\n",
       "      <td>50.00</td>\n",
       "      <td>0.00</td>\n",
       "      <td>22,000.00</td>\n",
       "      <td>22,000.00</td>\n",
       "      <td>0</td>\n",
       "      <td>1,100,000.00</td>\n",
       "      <td>2.00</td>\n",
       "      <td>0.00</td>\n",
       "    </tr>\n",
       "    <tr>\n",
       "      <th>4</th>\n",
       "      <td>49557</td>\n",
       "      <td>1</td>\n",
       "      <td>7.00</td>\n",
       "      <td>7.00</td>\n",
       "      <td>92,084.00</td>\n",
       "      <td>109,580.00</td>\n",
       "      <td>17496</td>\n",
       "      <td>767,060.00</td>\n",
       "      <td>-1.00</td>\n",
       "      <td>0.00</td>\n",
       "    </tr>\n",
       "    <tr>\n",
       "      <th>...</th>\n",
       "      <td>...</td>\n",
       "      <td>...</td>\n",
       "      <td>...</td>\n",
       "      <td>...</td>\n",
       "      <td>...</td>\n",
       "      <td>...</td>\n",
       "      <td>...</td>\n",
       "      <td>...</td>\n",
       "      <td>...</td>\n",
       "      <td>...</td>\n",
       "    </tr>\n",
       "    <tr>\n",
       "      <th>23078</th>\n",
       "      <td>2</td>\n",
       "      <td>2</td>\n",
       "      <td>8.00</td>\n",
       "      <td>8.00</td>\n",
       "      <td>33,613.00</td>\n",
       "      <td>40,000.00</td>\n",
       "      <td>6387</td>\n",
       "      <td>320,000.00</td>\n",
       "      <td>3.24</td>\n",
       "      <td>1.00</td>\n",
       "    </tr>\n",
       "    <tr>\n",
       "      <th>23079</th>\n",
       "      <td>2</td>\n",
       "      <td>2</td>\n",
       "      <td>1.00</td>\n",
       "      <td>1.00</td>\n",
       "      <td>588.00</td>\n",
       "      <td>700.00</td>\n",
       "      <td>112</td>\n",
       "      <td>700.00</td>\n",
       "      <td>3.24</td>\n",
       "      <td>1.00</td>\n",
       "    </tr>\n",
       "    <tr>\n",
       "      <th>23080</th>\n",
       "      <td>2</td>\n",
       "      <td>2</td>\n",
       "      <td>3.00</td>\n",
       "      <td>3.00</td>\n",
       "      <td>29,412.00</td>\n",
       "      <td>35,000.00</td>\n",
       "      <td>5588</td>\n",
       "      <td>105,000.00</td>\n",
       "      <td>3.24</td>\n",
       "      <td>1.00</td>\n",
       "    </tr>\n",
       "    <tr>\n",
       "      <th>23081</th>\n",
       "      <td>1</td>\n",
       "      <td>1</td>\n",
       "      <td>4.00</td>\n",
       "      <td>4.00</td>\n",
       "      <td>29,412.00</td>\n",
       "      <td>35,000.00</td>\n",
       "      <td>5588</td>\n",
       "      <td>140,000.00</td>\n",
       "      <td>3.24</td>\n",
       "      <td>0.00</td>\n",
       "    </tr>\n",
       "    <tr>\n",
       "      <th>23082</th>\n",
       "      <td>1</td>\n",
       "      <td>1</td>\n",
       "      <td>5.00</td>\n",
       "      <td>5.00</td>\n",
       "      <td>33,613.00</td>\n",
       "      <td>40,000.00</td>\n",
       "      <td>6387</td>\n",
       "      <td>200,000.00</td>\n",
       "      <td>3.24</td>\n",
       "      <td>0.00</td>\n",
       "    </tr>\n",
       "  </tbody>\n",
       "</table>\n",
       "<p>22392 rows × 10 columns</p>\n",
       "</div>"
      ],
      "text/plain": [
       "       NÚMERO_PEDIDO  ORDEN_NÚMERO      CANTIDAD_PEDIDA    CANTIDAD_RECIBIDA  \\\n",
       "0              49561          2582                 2.00                 0.00   \n",
       "1              49560          2581                 1.00                 1.00   \n",
       "2              49559          2580                10.00                 0.00   \n",
       "3              49558          1892                50.00                 0.00   \n",
       "4              49557             1                 7.00                 7.00   \n",
       "...              ...           ...                  ...                  ...   \n",
       "23078              2             2                 8.00                 8.00   \n",
       "23079              2             2                 1.00                 1.00   \n",
       "23080              2             2                 3.00                 3.00   \n",
       "23081              1             1                 4.00                 4.00   \n",
       "23082              1             1                 5.00                 5.00   \n",
       "\n",
       "           PRECIO_UNITARIO  PRECIO_UNITARIO_+_IVA     IVA  \\\n",
       "0                23,364.00              27,803.00    4439   \n",
       "1             1,476,972.00           1,757,597.00  280625   \n",
       "2                15,500.00              15,500.00       0   \n",
       "3                22,000.00              22,000.00       0   \n",
       "4                92,084.00             109,580.00   17496   \n",
       "...                    ...                    ...     ...   \n",
       "23078            33,613.00              40,000.00    6387   \n",
       "23079               588.00                 700.00     112   \n",
       "23080            29,412.00              35,000.00    5588   \n",
       "23081            29,412.00              35,000.00    5588   \n",
       "23082            33,613.00              40,000.00    6387   \n",
       "\n",
       "               TOTAL_+_IVA     DURACIÓN_ENTREGA  DURACIÓN_APROBACIÓN  \n",
       "0                55,606.00                 0.00                 0.00  \n",
       "1             1,757,597.00                 1.00                 0.00  \n",
       "2               155,000.00                 0.00                 0.00  \n",
       "3             1,100,000.00                 2.00                 0.00  \n",
       "4               767,060.00                -1.00                 0.00  \n",
       "...                    ...                  ...                  ...  \n",
       "23078           320,000.00                 3.24                 1.00  \n",
       "23079               700.00                 3.24                 1.00  \n",
       "23080           105,000.00                 3.24                 1.00  \n",
       "23081           140,000.00                 3.24                 0.00  \n",
       "23082           200,000.00                 3.24                 0.00  \n",
       "\n",
       "[22392 rows x 10 columns]"
      ]
     },
     "execution_count": 590,
     "metadata": {},
     "output_type": "execute_result"
    }
   ],
   "source": [
    "df_numeric = df.select_dtypes(['int32', 'int64', 'float32', 'float64'])\n",
    "df_numeric"
   ]
  },
  {
   "cell_type": "code",
   "execution_count": 591,
   "metadata": {},
   "outputs": [
    {
     "data": {
      "text/html": [
       "<div>\n",
       "<style scoped>\n",
       "    .dataframe tbody tr th:only-of-type {\n",
       "        vertical-align: middle;\n",
       "    }\n",
       "\n",
       "    .dataframe tbody tr th {\n",
       "        vertical-align: top;\n",
       "    }\n",
       "\n",
       "    .dataframe thead th {\n",
       "        text-align: right;\n",
       "    }\n",
       "</style>\n",
       "<table border=\"1\" class=\"dataframe\">\n",
       "  <thead>\n",
       "    <tr style=\"text-align: right;\">\n",
       "      <th></th>\n",
       "      <th>NÚMERO_PEDIDO</th>\n",
       "      <th>ORDEN_NÚMERO</th>\n",
       "      <th>CANTIDAD_PEDIDA</th>\n",
       "      <th>CANTIDAD_RECIBIDA</th>\n",
       "      <th>PRECIO_UNITARIO</th>\n",
       "      <th>PRECIO_UNITARIO_+_IVA</th>\n",
       "      <th>IVA</th>\n",
       "      <th>TOTAL_+_IVA</th>\n",
       "      <th>DURACIÓN_ENTREGA</th>\n",
       "      <th>DURACIÓN_APROBACIÓN</th>\n",
       "    </tr>\n",
       "  </thead>\n",
       "  <tbody>\n",
       "    <tr>\n",
       "      <th>count</th>\n",
       "      <td>22,392.00</td>\n",
       "      <td>22,392.00</td>\n",
       "      <td>22,392.00</td>\n",
       "      <td>22,392.00</td>\n",
       "      <td>22,392.00</td>\n",
       "      <td>22,392.00</td>\n",
       "      <td>22,392.00</td>\n",
       "      <td>22,392.00</td>\n",
       "      <td>22,392.00</td>\n",
       "      <td>22,392.00</td>\n",
       "    </tr>\n",
       "    <tr>\n",
       "      <th>mean</th>\n",
       "      <td>35,120.86</td>\n",
       "      <td>708.25</td>\n",
       "      <td>196.68</td>\n",
       "      <td>49.52</td>\n",
       "      <td>74,073.20</td>\n",
       "      <td>85,578.17</td>\n",
       "      <td>11,499.70</td>\n",
       "      <td>552,286.12</td>\n",
       "      <td>3.24</td>\n",
       "      <td>13.37</td>\n",
       "    </tr>\n",
       "    <tr>\n",
       "      <th>std</th>\n",
       "      <td>17,747.16</td>\n",
       "      <td>653.97</td>\n",
       "      <td>1,976.19</td>\n",
       "      <td>880.83</td>\n",
       "      <td>644,253.06</td>\n",
       "      <td>736,123.81</td>\n",
       "      <td>104,931.32</td>\n",
       "      <td>3,583,836.25</td>\n",
       "      <td>15.02</td>\n",
       "      <td>27.30</td>\n",
       "    </tr>\n",
       "    <tr>\n",
       "      <th>min</th>\n",
       "      <td>1.00</td>\n",
       "      <td>1.00</td>\n",
       "      <td>0.27</td>\n",
       "      <td>0.00</td>\n",
       "      <td>0.00</td>\n",
       "      <td>0.00</td>\n",
       "      <td>0.00</td>\n",
       "      <td>0.00</td>\n",
       "      <td>-323.00</td>\n",
       "      <td>0.00</td>\n",
       "    </tr>\n",
       "    <tr>\n",
       "      <th>25%</th>\n",
       "      <td>32,384.00</td>\n",
       "      <td>172.00</td>\n",
       "      <td>2.00</td>\n",
       "      <td>0.00</td>\n",
       "      <td>1,861.00</td>\n",
       "      <td>2,100.00</td>\n",
       "      <td>93.00</td>\n",
       "      <td>33,911.25</td>\n",
       "      <td>0.00</td>\n",
       "      <td>0.00</td>\n",
       "    </tr>\n",
       "    <tr>\n",
       "      <th>50%</th>\n",
       "      <td>45,515.50</td>\n",
       "      <td>491.00</td>\n",
       "      <td>7.00</td>\n",
       "      <td>2.00</td>\n",
       "      <td>11,400.00</td>\n",
       "      <td>13,000.00</td>\n",
       "      <td>1,040.00</td>\n",
       "      <td>104,697.00</td>\n",
       "      <td>1.00</td>\n",
       "      <td>0.00</td>\n",
       "    </tr>\n",
       "    <tr>\n",
       "      <th>75%</th>\n",
       "      <td>47,418.25</td>\n",
       "      <td>1,142.00</td>\n",
       "      <td>40.00</td>\n",
       "      <td>10.00</td>\n",
       "      <td>32,222.00</td>\n",
       "      <td>37,970.75</td>\n",
       "      <td>5,588.00</td>\n",
       "      <td>337,949.00</td>\n",
       "      <td>3.24</td>\n",
       "      <td>13.37</td>\n",
       "    </tr>\n",
       "    <tr>\n",
       "      <th>max</th>\n",
       "      <td>49,561.00</td>\n",
       "      <td>3,650.00</td>\n",
       "      <td>120,000.00</td>\n",
       "      <td>53,620.00</td>\n",
       "      <td>33,242,814.00</td>\n",
       "      <td>39,558,948.00</td>\n",
       "      <td>6,316,135.00</td>\n",
       "      <td>356,030,528.00</td>\n",
       "      <td>307.00</td>\n",
       "      <td>573.00</td>\n",
       "    </tr>\n",
       "  </tbody>\n",
       "</table>\n",
       "</div>"
      ],
      "text/plain": [
       "             NÚMERO_PEDIDO         ORDEN_NÚMERO      CANTIDAD_PEDIDA  \\\n",
       "count            22,392.00            22,392.00            22,392.00   \n",
       "mean             35,120.86               708.25               196.68   \n",
       "std              17,747.16               653.97             1,976.19   \n",
       "min                   1.00                 1.00                 0.27   \n",
       "25%              32,384.00               172.00                 2.00   \n",
       "50%              45,515.50               491.00                 7.00   \n",
       "75%              47,418.25             1,142.00                40.00   \n",
       "max              49,561.00             3,650.00           120,000.00   \n",
       "\n",
       "         CANTIDAD_RECIBIDA      PRECIO_UNITARIO  PRECIO_UNITARIO_+_IVA  \\\n",
       "count            22,392.00            22,392.00              22,392.00   \n",
       "mean                 49.52            74,073.20              85,578.17   \n",
       "std                 880.83           644,253.06             736,123.81   \n",
       "min                   0.00                 0.00                   0.00   \n",
       "25%                   0.00             1,861.00               2,100.00   \n",
       "50%                   2.00            11,400.00              13,000.00   \n",
       "75%                  10.00            32,222.00              37,970.75   \n",
       "max              53,620.00        33,242,814.00          39,558,948.00   \n",
       "\n",
       "                       IVA          TOTAL_+_IVA     DURACIÓN_ENTREGA  \\\n",
       "count            22,392.00            22,392.00            22,392.00   \n",
       "mean             11,499.70           552,286.12                 3.24   \n",
       "std             104,931.32         3,583,836.25                15.02   \n",
       "min                   0.00                 0.00              -323.00   \n",
       "25%                  93.00            33,911.25                 0.00   \n",
       "50%               1,040.00           104,697.00                 1.00   \n",
       "75%               5,588.00           337,949.00                 3.24   \n",
       "max           6,316,135.00       356,030,528.00               307.00   \n",
       "\n",
       "       DURACIÓN_APROBACIÓN  \n",
       "count            22,392.00  \n",
       "mean                 13.37  \n",
       "std                  27.30  \n",
       "min                   0.00  \n",
       "25%                   0.00  \n",
       "50%                   0.00  \n",
       "75%                  13.37  \n",
       "max                 573.00  "
      ]
     },
     "execution_count": 591,
     "metadata": {},
     "output_type": "execute_result"
    }
   ],
   "source": [
    "df_numeric.describe()"
   ]
  },
  {
   "cell_type": "code",
   "execution_count": 592,
   "metadata": {},
   "outputs": [],
   "source": [
    "normalizer = Normalizer()\n",
    "df_numeric_normalized = pd.DataFrame(normalizer.fit_transform(df_numeric), columns=df_numeric.columns)\n"
   ]
  },
  {
   "cell_type": "code",
   "execution_count": 593,
   "metadata": {},
   "outputs": [
    {
     "data": {
      "text/html": [
       "<div>\n",
       "<style scoped>\n",
       "    .dataframe tbody tr th:only-of-type {\n",
       "        vertical-align: middle;\n",
       "    }\n",
       "\n",
       "    .dataframe tbody tr th {\n",
       "        vertical-align: top;\n",
       "    }\n",
       "\n",
       "    .dataframe thead th {\n",
       "        text-align: right;\n",
       "    }\n",
       "</style>\n",
       "<table border=\"1\" class=\"dataframe\">\n",
       "  <thead>\n",
       "    <tr style=\"text-align: right;\">\n",
       "      <th></th>\n",
       "      <th>NÚMERO_PEDIDO</th>\n",
       "      <th>ORDEN_NÚMERO</th>\n",
       "      <th>CANTIDAD_PEDIDA</th>\n",
       "      <th>CANTIDAD_RECIBIDA</th>\n",
       "      <th>PRECIO_UNITARIO</th>\n",
       "      <th>PRECIO_UNITARIO_+_IVA</th>\n",
       "      <th>IVA</th>\n",
       "      <th>TOTAL_+_IVA</th>\n",
       "      <th>DURACIÓN_ENTREGA</th>\n",
       "      <th>DURACIÓN_APROBACIÓN</th>\n",
       "    </tr>\n",
       "  </thead>\n",
       "  <tbody>\n",
       "    <tr>\n",
       "      <th>count</th>\n",
       "      <td>22,392.00</td>\n",
       "      <td>22,392.00</td>\n",
       "      <td>22,392.00</td>\n",
       "      <td>22,392.00</td>\n",
       "      <td>22,392.00</td>\n",
       "      <td>22,392.00</td>\n",
       "      <td>22,392.00</td>\n",
       "      <td>22,392.00</td>\n",
       "      <td>22,392.00</td>\n",
       "      <td>22,392.00</td>\n",
       "    </tr>\n",
       "    <tr>\n",
       "      <th>mean</th>\n",
       "      <td>0.35</td>\n",
       "      <td>0.01</td>\n",
       "      <td>0.00</td>\n",
       "      <td>0.00</td>\n",
       "      <td>0.14</td>\n",
       "      <td>0.16</td>\n",
       "      <td>0.02</td>\n",
       "      <td>0.75</td>\n",
       "      <td>0.00</td>\n",
       "      <td>0.00</td>\n",
       "    </tr>\n",
       "    <tr>\n",
       "      <th>std</th>\n",
       "      <td>0.36</td>\n",
       "      <td>0.02</td>\n",
       "      <td>0.01</td>\n",
       "      <td>0.00</td>\n",
       "      <td>0.16</td>\n",
       "      <td>0.18</td>\n",
       "      <td>0.03</td>\n",
       "      <td>0.30</td>\n",
       "      <td>0.00</td>\n",
       "      <td>0.01</td>\n",
       "    </tr>\n",
       "    <tr>\n",
       "      <th>min</th>\n",
       "      <td>0.00</td>\n",
       "      <td>0.00</td>\n",
       "      <td>0.00</td>\n",
       "      <td>0.00</td>\n",
       "      <td>0.00</td>\n",
       "      <td>0.00</td>\n",
       "      <td>0.00</td>\n",
       "      <td>0.00</td>\n",
       "      <td>-0.01</td>\n",
       "      <td>0.00</td>\n",
       "    </tr>\n",
       "    <tr>\n",
       "      <th>25%</th>\n",
       "      <td>0.03</td>\n",
       "      <td>0.00</td>\n",
       "      <td>0.00</td>\n",
       "      <td>0.00</td>\n",
       "      <td>0.02</td>\n",
       "      <td>0.02</td>\n",
       "      <td>0.00</td>\n",
       "      <td>0.56</td>\n",
       "      <td>0.00</td>\n",
       "      <td>0.00</td>\n",
       "    </tr>\n",
       "    <tr>\n",
       "      <th>50%</th>\n",
       "      <td>0.19</td>\n",
       "      <td>0.00</td>\n",
       "      <td>0.00</td>\n",
       "      <td>0.00</td>\n",
       "      <td>0.07</td>\n",
       "      <td>0.08</td>\n",
       "      <td>0.01</td>\n",
       "      <td>0.91</td>\n",
       "      <td>0.00</td>\n",
       "      <td>0.00</td>\n",
       "    </tr>\n",
       "    <tr>\n",
       "      <th>75%</th>\n",
       "      <td>0.65</td>\n",
       "      <td>0.01</td>\n",
       "      <td>0.00</td>\n",
       "      <td>0.00</td>\n",
       "      <td>0.20</td>\n",
       "      <td>0.24</td>\n",
       "      <td>0.03</td>\n",
       "      <td>1.00</td>\n",
       "      <td>0.00</td>\n",
       "      <td>0.00</td>\n",
       "    </tr>\n",
       "    <tr>\n",
       "      <th>max</th>\n",
       "      <td>1.00</td>\n",
       "      <td>0.59</td>\n",
       "      <td>0.32</td>\n",
       "      <td>0.18</td>\n",
       "      <td>0.60</td>\n",
       "      <td>0.71</td>\n",
       "      <td>0.11</td>\n",
       "      <td>1.00</td>\n",
       "      <td>0.06</td>\n",
       "      <td>0.60</td>\n",
       "    </tr>\n",
       "  </tbody>\n",
       "</table>\n",
       "</div>"
      ],
      "text/plain": [
       "             NÚMERO_PEDIDO         ORDEN_NÚMERO      CANTIDAD_PEDIDA  \\\n",
       "count            22,392.00            22,392.00            22,392.00   \n",
       "mean                  0.35                 0.01                 0.00   \n",
       "std                   0.36                 0.02                 0.01   \n",
       "min                   0.00                 0.00                 0.00   \n",
       "25%                   0.03                 0.00                 0.00   \n",
       "50%                   0.19                 0.00                 0.00   \n",
       "75%                   0.65                 0.01                 0.00   \n",
       "max                   1.00                 0.59                 0.32   \n",
       "\n",
       "         CANTIDAD_RECIBIDA      PRECIO_UNITARIO  PRECIO_UNITARIO_+_IVA  \\\n",
       "count            22,392.00            22,392.00              22,392.00   \n",
       "mean                  0.00                 0.14                   0.16   \n",
       "std                   0.00                 0.16                   0.18   \n",
       "min                   0.00                 0.00                   0.00   \n",
       "25%                   0.00                 0.02                   0.02   \n",
       "50%                   0.00                 0.07                   0.08   \n",
       "75%                   0.00                 0.20                   0.24   \n",
       "max                   0.18                 0.60                   0.71   \n",
       "\n",
       "                       IVA          TOTAL_+_IVA     DURACIÓN_ENTREGA  \\\n",
       "count            22,392.00            22,392.00            22,392.00   \n",
       "mean                  0.02                 0.75                 0.00   \n",
       "std                   0.03                 0.30                 0.00   \n",
       "min                   0.00                 0.00                -0.01   \n",
       "25%                   0.00                 0.56                 0.00   \n",
       "50%                   0.01                 0.91                 0.00   \n",
       "75%                   0.03                 1.00                 0.00   \n",
       "max                   0.11                 1.00                 0.06   \n",
       "\n",
       "       DURACIÓN_APROBACIÓN  \n",
       "count            22,392.00  \n",
       "mean                  0.00  \n",
       "std                   0.01  \n",
       "min                   0.00  \n",
       "25%                   0.00  \n",
       "50%                   0.00  \n",
       "75%                   0.00  \n",
       "max                   0.60  "
      ]
     },
     "execution_count": 593,
     "metadata": {},
     "output_type": "execute_result"
    }
   ],
   "source": [
    "df_numeric_normalized.describe()"
   ]
  },
  {
   "cell_type": "markdown",
   "metadata": {},
   "source": [
    "## Categorical to OneHotEncoder"
   ]
  },
  {
   "cell_type": "markdown",
   "metadata": {},
   "source": [
    "Drop PRODUCTO_O_SERVICIO Delete. if you want to try, delete PRODUCTO_O_SERVICIO too (it has a lot of categories)"
   ]
  },
  {
   "cell_type": "code",
   "execution_count": 594,
   "metadata": {},
   "outputs": [
    {
     "data": {
      "text/html": [
       "<div>\n",
       "<style scoped>\n",
       "    .dataframe tbody tr th:only-of-type {\n",
       "        vertical-align: middle;\n",
       "    }\n",
       "\n",
       "    .dataframe tbody tr th {\n",
       "        vertical-align: top;\n",
       "    }\n",
       "\n",
       "    .dataframe thead th {\n",
       "        text-align: right;\n",
       "    }\n",
       "</style>\n",
       "<table border=\"1\" class=\"dataframe\">\n",
       "  <thead>\n",
       "    <tr style=\"text-align: right;\">\n",
       "      <th></th>\n",
       "      <th>CATEGORÍA</th>\n",
       "      <th>SUBCATEGORÍA</th>\n",
       "      <th>PROVEEDOR</th>\n",
       "      <th>PRESUPUESTO</th>\n",
       "      <th>COMPAÑÍA_COMPRADORA</th>\n",
       "      <th>ESTADO</th>\n",
       "    </tr>\n",
       "  </thead>\n",
       "  <tbody>\n",
       "    <tr>\n",
       "      <th>0</th>\n",
       "      <td>Otros</td>\n",
       "      <td>Otros</td>\n",
       "      <td>Otros</td>\n",
       "      <td>Otros</td>\n",
       "      <td>Portal comprador 1</td>\n",
       "      <td>Orden en Proceso</td>\n",
       "    </tr>\n",
       "    <tr>\n",
       "      <th>1</th>\n",
       "      <td>Otros</td>\n",
       "      <td>Otros</td>\n",
       "      <td>Otros</td>\n",
       "      <td>Otros</td>\n",
       "      <td>Portal comprador 1</td>\n",
       "      <td>Recibido</td>\n",
       "    </tr>\n",
       "    <tr>\n",
       "      <th>2</th>\n",
       "      <td>Alimentos y Bebidas</td>\n",
       "      <td>Alimentos preparados y conservados</td>\n",
       "      <td>Otros</td>\n",
       "      <td>Otros</td>\n",
       "      <td>Portal comprador 1</td>\n",
       "      <td>Orden en Proceso</td>\n",
       "    </tr>\n",
       "  </tbody>\n",
       "</table>\n",
       "</div>"
      ],
      "text/plain": [
       "             CATEGORÍA                        SUBCATEGORÍA PROVEEDOR  \\\n",
       "0                Otros                               Otros     Otros   \n",
       "1                Otros                               Otros     Otros   \n",
       "2  Alimentos y Bebidas  Alimentos preparados y conservados     Otros   \n",
       "\n",
       "  PRESUPUESTO COMPAÑÍA_COMPRADORA            ESTADO  \n",
       "0       Otros  Portal comprador 1  Orden en Proceso  \n",
       "1       Otros  Portal comprador 1          Recibido  \n",
       "2       Otros  Portal comprador 1  Orden en Proceso  "
      ]
     },
     "execution_count": 594,
     "metadata": {},
     "output_type": "execute_result"
    }
   ],
   "source": [
    "df_categorical = df.select_dtypes(['object'])\n",
    "df_categorical = df_categorical.loc[:, df_categorical.columns != 'PRODUCTO_O_SERVICIO']\n",
    "df_categorical.head(3)"
   ]
  },
  {
   "cell_type": "code",
   "execution_count": 595,
   "metadata": {},
   "outputs": [],
   "source": [
    "OH_encoder = OneHotEncoder(handle_unknown='ignore', sparse=False)\n",
    "OH_Cols = pd.DataFrame(OH_encoder.fit_transform(df_categorical))"
   ]
  },
  {
   "cell_type": "code",
   "execution_count": 596,
   "metadata": {},
   "outputs": [],
   "source": [
    "OH_Cols.columns =  OH_encoder.get_feature_names(df_categorical.columns)"
   ]
  },
  {
   "cell_type": "code",
   "execution_count": 597,
   "metadata": {},
   "outputs": [],
   "source": [
    "pd.options.display.float_format = '{:,.7f}'.format"
   ]
  },
  {
   "cell_type": "code",
   "execution_count": 598,
   "metadata": {},
   "outputs": [
    {
     "data": {
      "text/html": [
       "<div>\n",
       "<style scoped>\n",
       "    .dataframe tbody tr th:only-of-type {\n",
       "        vertical-align: middle;\n",
       "    }\n",
       "\n",
       "    .dataframe tbody tr th {\n",
       "        vertical-align: top;\n",
       "    }\n",
       "\n",
       "    .dataframe thead th {\n",
       "        text-align: right;\n",
       "    }\n",
       "</style>\n",
       "<table border=\"1\" class=\"dataframe\">\n",
       "  <thead>\n",
       "    <tr style=\"text-align: right;\">\n",
       "      <th></th>\n",
       "      <th>CATEGORÍA_Alimentos y Bebidas</th>\n",
       "      <th>CATEGORÍA_Almacenamiento y empaques</th>\n",
       "      <th>CATEGORÍA_Aseo, Cafetería y Oficina</th>\n",
       "      <th>CATEGORÍA_Dotación y elementos de protección personal</th>\n",
       "      <th>CATEGORÍA_Ferreteria</th>\n",
       "      <th>CATEGORÍA_Otros</th>\n",
       "      <th>CATEGORÍA_Vehículos y repuestos</th>\n",
       "      <th>CATEGORÍA_Vigilancia y seguridad industrial</th>\n",
       "      <th>SUBCATEGORÍA_Alimentos preparados y conservados</th>\n",
       "      <th>SUBCATEGORÍA_Elementos de aseo y limpieza</th>\n",
       "      <th>SUBCATEGORÍA_Otros</th>\n",
       "      <th>SUBCATEGORÍA_Seguridad y protección personal</th>\n",
       "      <th>PROVEEDOR_Otros</th>\n",
       "      <th>PROVEEDOR_Proveedor 28</th>\n",
       "      <th>PROVEEDOR_Proveedor 301</th>\n",
       "      <th>PROVEEDOR_Proveedor 59</th>\n",
       "      <th>PRESUPUESTO_Otros</th>\n",
       "      <th>PRESUPUESTO_Presupuesto 711</th>\n",
       "      <th>PRESUPUESTO_Presupuesto 719</th>\n",
       "      <th>COMPAÑÍA_COMPRADORA_Otros</th>\n",
       "      <th>COMPAÑÍA_COMPRADORA_Portal comprador 1</th>\n",
       "      <th>COMPAÑÍA_COMPRADORA_Portal comprador 2</th>\n",
       "      <th>COMPAÑÍA_COMPRADORA_Portal comprador 24</th>\n",
       "      <th>COMPAÑÍA_COMPRADORA_Portal comprador 29</th>\n",
       "      <th>ESTADO_Cancelado</th>\n",
       "      <th>ESTADO_Enviado</th>\n",
       "      <th>ESTADO_Finalizado Incompleto</th>\n",
       "      <th>ESTADO_Orden Confirmada</th>\n",
       "      <th>ESTADO_Orden Rechazada</th>\n",
       "      <th>ESTADO_Orden en Proceso</th>\n",
       "      <th>ESTADO_Pendiente por Aprobar</th>\n",
       "      <th>ESTADO_Recibido</th>\n",
       "      <th>ESTADO_Recibido Parcial</th>\n",
       "    </tr>\n",
       "  </thead>\n",
       "  <tbody>\n",
       "    <tr>\n",
       "      <th>0</th>\n",
       "      <td>0.0000000</td>\n",
       "      <td>0.0000000</td>\n",
       "      <td>0.0000000</td>\n",
       "      <td>0.0000000</td>\n",
       "      <td>0.0000000</td>\n",
       "      <td>1.0000000</td>\n",
       "      <td>0.0000000</td>\n",
       "      <td>0.0000000</td>\n",
       "      <td>0.0000000</td>\n",
       "      <td>0.0000000</td>\n",
       "      <td>1.0000000</td>\n",
       "      <td>0.0000000</td>\n",
       "      <td>1.0000000</td>\n",
       "      <td>0.0000000</td>\n",
       "      <td>0.0000000</td>\n",
       "      <td>0.0000000</td>\n",
       "      <td>1.0000000</td>\n",
       "      <td>0.0000000</td>\n",
       "      <td>0.0000000</td>\n",
       "      <td>0.0000000</td>\n",
       "      <td>1.0000000</td>\n",
       "      <td>0.0000000</td>\n",
       "      <td>0.0000000</td>\n",
       "      <td>0.0000000</td>\n",
       "      <td>0.0000000</td>\n",
       "      <td>0.0000000</td>\n",
       "      <td>0.0000000</td>\n",
       "      <td>0.0000000</td>\n",
       "      <td>0.0000000</td>\n",
       "      <td>1.0000000</td>\n",
       "      <td>0.0000000</td>\n",
       "      <td>0.0000000</td>\n",
       "      <td>0.0000000</td>\n",
       "    </tr>\n",
       "    <tr>\n",
       "      <th>1</th>\n",
       "      <td>0.0000000</td>\n",
       "      <td>0.0000000</td>\n",
       "      <td>0.0000000</td>\n",
       "      <td>0.0000000</td>\n",
       "      <td>0.0000000</td>\n",
       "      <td>1.0000000</td>\n",
       "      <td>0.0000000</td>\n",
       "      <td>0.0000000</td>\n",
       "      <td>0.0000000</td>\n",
       "      <td>0.0000000</td>\n",
       "      <td>1.0000000</td>\n",
       "      <td>0.0000000</td>\n",
       "      <td>1.0000000</td>\n",
       "      <td>0.0000000</td>\n",
       "      <td>0.0000000</td>\n",
       "      <td>0.0000000</td>\n",
       "      <td>1.0000000</td>\n",
       "      <td>0.0000000</td>\n",
       "      <td>0.0000000</td>\n",
       "      <td>0.0000000</td>\n",
       "      <td>1.0000000</td>\n",
       "      <td>0.0000000</td>\n",
       "      <td>0.0000000</td>\n",
       "      <td>0.0000000</td>\n",
       "      <td>0.0000000</td>\n",
       "      <td>0.0000000</td>\n",
       "      <td>0.0000000</td>\n",
       "      <td>0.0000000</td>\n",
       "      <td>0.0000000</td>\n",
       "      <td>0.0000000</td>\n",
       "      <td>0.0000000</td>\n",
       "      <td>1.0000000</td>\n",
       "      <td>0.0000000</td>\n",
       "    </tr>\n",
       "    <tr>\n",
       "      <th>2</th>\n",
       "      <td>1.0000000</td>\n",
       "      <td>0.0000000</td>\n",
       "      <td>0.0000000</td>\n",
       "      <td>0.0000000</td>\n",
       "      <td>0.0000000</td>\n",
       "      <td>0.0000000</td>\n",
       "      <td>0.0000000</td>\n",
       "      <td>0.0000000</td>\n",
       "      <td>1.0000000</td>\n",
       "      <td>0.0000000</td>\n",
       "      <td>0.0000000</td>\n",
       "      <td>0.0000000</td>\n",
       "      <td>1.0000000</td>\n",
       "      <td>0.0000000</td>\n",
       "      <td>0.0000000</td>\n",
       "      <td>0.0000000</td>\n",
       "      <td>1.0000000</td>\n",
       "      <td>0.0000000</td>\n",
       "      <td>0.0000000</td>\n",
       "      <td>0.0000000</td>\n",
       "      <td>1.0000000</td>\n",
       "      <td>0.0000000</td>\n",
       "      <td>0.0000000</td>\n",
       "      <td>0.0000000</td>\n",
       "      <td>0.0000000</td>\n",
       "      <td>0.0000000</td>\n",
       "      <td>0.0000000</td>\n",
       "      <td>0.0000000</td>\n",
       "      <td>0.0000000</td>\n",
       "      <td>1.0000000</td>\n",
       "      <td>0.0000000</td>\n",
       "      <td>0.0000000</td>\n",
       "      <td>0.0000000</td>\n",
       "    </tr>\n",
       "    <tr>\n",
       "      <th>3</th>\n",
       "      <td>1.0000000</td>\n",
       "      <td>0.0000000</td>\n",
       "      <td>0.0000000</td>\n",
       "      <td>0.0000000</td>\n",
       "      <td>0.0000000</td>\n",
       "      <td>0.0000000</td>\n",
       "      <td>0.0000000</td>\n",
       "      <td>0.0000000</td>\n",
       "      <td>0.0000000</td>\n",
       "      <td>0.0000000</td>\n",
       "      <td>1.0000000</td>\n",
       "      <td>0.0000000</td>\n",
       "      <td>1.0000000</td>\n",
       "      <td>0.0000000</td>\n",
       "      <td>0.0000000</td>\n",
       "      <td>0.0000000</td>\n",
       "      <td>1.0000000</td>\n",
       "      <td>0.0000000</td>\n",
       "      <td>0.0000000</td>\n",
       "      <td>0.0000000</td>\n",
       "      <td>0.0000000</td>\n",
       "      <td>1.0000000</td>\n",
       "      <td>0.0000000</td>\n",
       "      <td>0.0000000</td>\n",
       "      <td>0.0000000</td>\n",
       "      <td>0.0000000</td>\n",
       "      <td>0.0000000</td>\n",
       "      <td>0.0000000</td>\n",
       "      <td>0.0000000</td>\n",
       "      <td>1.0000000</td>\n",
       "      <td>0.0000000</td>\n",
       "      <td>0.0000000</td>\n",
       "      <td>0.0000000</td>\n",
       "    </tr>\n",
       "    <tr>\n",
       "      <th>4</th>\n",
       "      <td>0.0000000</td>\n",
       "      <td>0.0000000</td>\n",
       "      <td>0.0000000</td>\n",
       "      <td>0.0000000</td>\n",
       "      <td>0.0000000</td>\n",
       "      <td>1.0000000</td>\n",
       "      <td>0.0000000</td>\n",
       "      <td>0.0000000</td>\n",
       "      <td>0.0000000</td>\n",
       "      <td>0.0000000</td>\n",
       "      <td>1.0000000</td>\n",
       "      <td>0.0000000</td>\n",
       "      <td>1.0000000</td>\n",
       "      <td>0.0000000</td>\n",
       "      <td>0.0000000</td>\n",
       "      <td>0.0000000</td>\n",
       "      <td>0.0000000</td>\n",
       "      <td>1.0000000</td>\n",
       "      <td>0.0000000</td>\n",
       "      <td>1.0000000</td>\n",
       "      <td>0.0000000</td>\n",
       "      <td>0.0000000</td>\n",
       "      <td>0.0000000</td>\n",
       "      <td>0.0000000</td>\n",
       "      <td>0.0000000</td>\n",
       "      <td>0.0000000</td>\n",
       "      <td>0.0000000</td>\n",
       "      <td>0.0000000</td>\n",
       "      <td>0.0000000</td>\n",
       "      <td>0.0000000</td>\n",
       "      <td>0.0000000</td>\n",
       "      <td>1.0000000</td>\n",
       "      <td>0.0000000</td>\n",
       "    </tr>\n",
       "    <tr>\n",
       "      <th>...</th>\n",
       "      <td>...</td>\n",
       "      <td>...</td>\n",
       "      <td>...</td>\n",
       "      <td>...</td>\n",
       "      <td>...</td>\n",
       "      <td>...</td>\n",
       "      <td>...</td>\n",
       "      <td>...</td>\n",
       "      <td>...</td>\n",
       "      <td>...</td>\n",
       "      <td>...</td>\n",
       "      <td>...</td>\n",
       "      <td>...</td>\n",
       "      <td>...</td>\n",
       "      <td>...</td>\n",
       "      <td>...</td>\n",
       "      <td>...</td>\n",
       "      <td>...</td>\n",
       "      <td>...</td>\n",
       "      <td>...</td>\n",
       "      <td>...</td>\n",
       "      <td>...</td>\n",
       "      <td>...</td>\n",
       "      <td>...</td>\n",
       "      <td>...</td>\n",
       "      <td>...</td>\n",
       "      <td>...</td>\n",
       "      <td>...</td>\n",
       "      <td>...</td>\n",
       "      <td>...</td>\n",
       "      <td>...</td>\n",
       "      <td>...</td>\n",
       "      <td>...</td>\n",
       "    </tr>\n",
       "    <tr>\n",
       "      <th>22387</th>\n",
       "      <td>0.0000000</td>\n",
       "      <td>0.0000000</td>\n",
       "      <td>1.0000000</td>\n",
       "      <td>0.0000000</td>\n",
       "      <td>0.0000000</td>\n",
       "      <td>0.0000000</td>\n",
       "      <td>0.0000000</td>\n",
       "      <td>0.0000000</td>\n",
       "      <td>0.0000000</td>\n",
       "      <td>0.0000000</td>\n",
       "      <td>1.0000000</td>\n",
       "      <td>0.0000000</td>\n",
       "      <td>1.0000000</td>\n",
       "      <td>0.0000000</td>\n",
       "      <td>0.0000000</td>\n",
       "      <td>0.0000000</td>\n",
       "      <td>1.0000000</td>\n",
       "      <td>0.0000000</td>\n",
       "      <td>0.0000000</td>\n",
       "      <td>1.0000000</td>\n",
       "      <td>0.0000000</td>\n",
       "      <td>0.0000000</td>\n",
       "      <td>0.0000000</td>\n",
       "      <td>0.0000000</td>\n",
       "      <td>0.0000000</td>\n",
       "      <td>0.0000000</td>\n",
       "      <td>0.0000000</td>\n",
       "      <td>0.0000000</td>\n",
       "      <td>0.0000000</td>\n",
       "      <td>0.0000000</td>\n",
       "      <td>0.0000000</td>\n",
       "      <td>1.0000000</td>\n",
       "      <td>0.0000000</td>\n",
       "    </tr>\n",
       "    <tr>\n",
       "      <th>22388</th>\n",
       "      <td>0.0000000</td>\n",
       "      <td>0.0000000</td>\n",
       "      <td>1.0000000</td>\n",
       "      <td>0.0000000</td>\n",
       "      <td>0.0000000</td>\n",
       "      <td>0.0000000</td>\n",
       "      <td>0.0000000</td>\n",
       "      <td>0.0000000</td>\n",
       "      <td>0.0000000</td>\n",
       "      <td>0.0000000</td>\n",
       "      <td>1.0000000</td>\n",
       "      <td>0.0000000</td>\n",
       "      <td>1.0000000</td>\n",
       "      <td>0.0000000</td>\n",
       "      <td>0.0000000</td>\n",
       "      <td>0.0000000</td>\n",
       "      <td>1.0000000</td>\n",
       "      <td>0.0000000</td>\n",
       "      <td>0.0000000</td>\n",
       "      <td>1.0000000</td>\n",
       "      <td>0.0000000</td>\n",
       "      <td>0.0000000</td>\n",
       "      <td>0.0000000</td>\n",
       "      <td>0.0000000</td>\n",
       "      <td>0.0000000</td>\n",
       "      <td>0.0000000</td>\n",
       "      <td>0.0000000</td>\n",
       "      <td>0.0000000</td>\n",
       "      <td>0.0000000</td>\n",
       "      <td>0.0000000</td>\n",
       "      <td>0.0000000</td>\n",
       "      <td>1.0000000</td>\n",
       "      <td>0.0000000</td>\n",
       "    </tr>\n",
       "    <tr>\n",
       "      <th>22389</th>\n",
       "      <td>0.0000000</td>\n",
       "      <td>0.0000000</td>\n",
       "      <td>0.0000000</td>\n",
       "      <td>0.0000000</td>\n",
       "      <td>0.0000000</td>\n",
       "      <td>1.0000000</td>\n",
       "      <td>0.0000000</td>\n",
       "      <td>0.0000000</td>\n",
       "      <td>0.0000000</td>\n",
       "      <td>0.0000000</td>\n",
       "      <td>1.0000000</td>\n",
       "      <td>0.0000000</td>\n",
       "      <td>1.0000000</td>\n",
       "      <td>0.0000000</td>\n",
       "      <td>0.0000000</td>\n",
       "      <td>0.0000000</td>\n",
       "      <td>1.0000000</td>\n",
       "      <td>0.0000000</td>\n",
       "      <td>0.0000000</td>\n",
       "      <td>1.0000000</td>\n",
       "      <td>0.0000000</td>\n",
       "      <td>0.0000000</td>\n",
       "      <td>0.0000000</td>\n",
       "      <td>0.0000000</td>\n",
       "      <td>0.0000000</td>\n",
       "      <td>0.0000000</td>\n",
       "      <td>0.0000000</td>\n",
       "      <td>0.0000000</td>\n",
       "      <td>0.0000000</td>\n",
       "      <td>0.0000000</td>\n",
       "      <td>0.0000000</td>\n",
       "      <td>1.0000000</td>\n",
       "      <td>0.0000000</td>\n",
       "    </tr>\n",
       "    <tr>\n",
       "      <th>22390</th>\n",
       "      <td>0.0000000</td>\n",
       "      <td>0.0000000</td>\n",
       "      <td>0.0000000</td>\n",
       "      <td>0.0000000</td>\n",
       "      <td>0.0000000</td>\n",
       "      <td>1.0000000</td>\n",
       "      <td>0.0000000</td>\n",
       "      <td>0.0000000</td>\n",
       "      <td>0.0000000</td>\n",
       "      <td>0.0000000</td>\n",
       "      <td>1.0000000</td>\n",
       "      <td>0.0000000</td>\n",
       "      <td>1.0000000</td>\n",
       "      <td>0.0000000</td>\n",
       "      <td>0.0000000</td>\n",
       "      <td>0.0000000</td>\n",
       "      <td>1.0000000</td>\n",
       "      <td>0.0000000</td>\n",
       "      <td>0.0000000</td>\n",
       "      <td>1.0000000</td>\n",
       "      <td>0.0000000</td>\n",
       "      <td>0.0000000</td>\n",
       "      <td>0.0000000</td>\n",
       "      <td>0.0000000</td>\n",
       "      <td>0.0000000</td>\n",
       "      <td>0.0000000</td>\n",
       "      <td>0.0000000</td>\n",
       "      <td>0.0000000</td>\n",
       "      <td>0.0000000</td>\n",
       "      <td>0.0000000</td>\n",
       "      <td>0.0000000</td>\n",
       "      <td>1.0000000</td>\n",
       "      <td>0.0000000</td>\n",
       "    </tr>\n",
       "    <tr>\n",
       "      <th>22391</th>\n",
       "      <td>0.0000000</td>\n",
       "      <td>0.0000000</td>\n",
       "      <td>1.0000000</td>\n",
       "      <td>0.0000000</td>\n",
       "      <td>0.0000000</td>\n",
       "      <td>0.0000000</td>\n",
       "      <td>0.0000000</td>\n",
       "      <td>0.0000000</td>\n",
       "      <td>0.0000000</td>\n",
       "      <td>0.0000000</td>\n",
       "      <td>1.0000000</td>\n",
       "      <td>0.0000000</td>\n",
       "      <td>1.0000000</td>\n",
       "      <td>0.0000000</td>\n",
       "      <td>0.0000000</td>\n",
       "      <td>0.0000000</td>\n",
       "      <td>1.0000000</td>\n",
       "      <td>0.0000000</td>\n",
       "      <td>0.0000000</td>\n",
       "      <td>1.0000000</td>\n",
       "      <td>0.0000000</td>\n",
       "      <td>0.0000000</td>\n",
       "      <td>0.0000000</td>\n",
       "      <td>0.0000000</td>\n",
       "      <td>0.0000000</td>\n",
       "      <td>0.0000000</td>\n",
       "      <td>0.0000000</td>\n",
       "      <td>0.0000000</td>\n",
       "      <td>0.0000000</td>\n",
       "      <td>0.0000000</td>\n",
       "      <td>0.0000000</td>\n",
       "      <td>1.0000000</td>\n",
       "      <td>0.0000000</td>\n",
       "    </tr>\n",
       "  </tbody>\n",
       "</table>\n",
       "<p>22392 rows × 33 columns</p>\n",
       "</div>"
      ],
      "text/plain": [
       "       CATEGORÍA_Alimentos y Bebidas  CATEGORÍA_Almacenamiento y empaques  \\\n",
       "0                          0.0000000                            0.0000000   \n",
       "1                          0.0000000                            0.0000000   \n",
       "2                          1.0000000                            0.0000000   \n",
       "3                          1.0000000                            0.0000000   \n",
       "4                          0.0000000                            0.0000000   \n",
       "...                              ...                                  ...   \n",
       "22387                      0.0000000                            0.0000000   \n",
       "22388                      0.0000000                            0.0000000   \n",
       "22389                      0.0000000                            0.0000000   \n",
       "22390                      0.0000000                            0.0000000   \n",
       "22391                      0.0000000                            0.0000000   \n",
       "\n",
       "       CATEGORÍA_Aseo, Cafetería y Oficina  \\\n",
       "0                                0.0000000   \n",
       "1                                0.0000000   \n",
       "2                                0.0000000   \n",
       "3                                0.0000000   \n",
       "4                                0.0000000   \n",
       "...                                    ...   \n",
       "22387                            1.0000000   \n",
       "22388                            1.0000000   \n",
       "22389                            0.0000000   \n",
       "22390                            0.0000000   \n",
       "22391                            1.0000000   \n",
       "\n",
       "       CATEGORÍA_Dotación y elementos de protección personal  \\\n",
       "0                                              0.0000000       \n",
       "1                                              0.0000000       \n",
       "2                                              0.0000000       \n",
       "3                                              0.0000000       \n",
       "4                                              0.0000000       \n",
       "...                                                  ...       \n",
       "22387                                          0.0000000       \n",
       "22388                                          0.0000000       \n",
       "22389                                          0.0000000       \n",
       "22390                                          0.0000000       \n",
       "22391                                          0.0000000       \n",
       "\n",
       "       CATEGORÍA_Ferreteria  CATEGORÍA_Otros  CATEGORÍA_Vehículos y repuestos  \\\n",
       "0                 0.0000000        1.0000000                        0.0000000   \n",
       "1                 0.0000000        1.0000000                        0.0000000   \n",
       "2                 0.0000000        0.0000000                        0.0000000   \n",
       "3                 0.0000000        0.0000000                        0.0000000   \n",
       "4                 0.0000000        1.0000000                        0.0000000   \n",
       "...                     ...              ...                              ...   \n",
       "22387             0.0000000        0.0000000                        0.0000000   \n",
       "22388             0.0000000        0.0000000                        0.0000000   \n",
       "22389             0.0000000        1.0000000                        0.0000000   \n",
       "22390             0.0000000        1.0000000                        0.0000000   \n",
       "22391             0.0000000        0.0000000                        0.0000000   \n",
       "\n",
       "       CATEGORÍA_Vigilancia y seguridad industrial  \\\n",
       "0                                        0.0000000   \n",
       "1                                        0.0000000   \n",
       "2                                        0.0000000   \n",
       "3                                        0.0000000   \n",
       "4                                        0.0000000   \n",
       "...                                            ...   \n",
       "22387                                    0.0000000   \n",
       "22388                                    0.0000000   \n",
       "22389                                    0.0000000   \n",
       "22390                                    0.0000000   \n",
       "22391                                    0.0000000   \n",
       "\n",
       "       SUBCATEGORÍA_Alimentos preparados y conservados  \\\n",
       "0                                            0.0000000   \n",
       "1                                            0.0000000   \n",
       "2                                            1.0000000   \n",
       "3                                            0.0000000   \n",
       "4                                            0.0000000   \n",
       "...                                                ...   \n",
       "22387                                        0.0000000   \n",
       "22388                                        0.0000000   \n",
       "22389                                        0.0000000   \n",
       "22390                                        0.0000000   \n",
       "22391                                        0.0000000   \n",
       "\n",
       "       SUBCATEGORÍA_Elementos de aseo y limpieza  SUBCATEGORÍA_Otros  \\\n",
       "0                                      0.0000000           1.0000000   \n",
       "1                                      0.0000000           1.0000000   \n",
       "2                                      0.0000000           0.0000000   \n",
       "3                                      0.0000000           1.0000000   \n",
       "4                                      0.0000000           1.0000000   \n",
       "...                                          ...                 ...   \n",
       "22387                                  0.0000000           1.0000000   \n",
       "22388                                  0.0000000           1.0000000   \n",
       "22389                                  0.0000000           1.0000000   \n",
       "22390                                  0.0000000           1.0000000   \n",
       "22391                                  0.0000000           1.0000000   \n",
       "\n",
       "       SUBCATEGORÍA_Seguridad y protección personal  PROVEEDOR_Otros  \\\n",
       "0                                         0.0000000        1.0000000   \n",
       "1                                         0.0000000        1.0000000   \n",
       "2                                         0.0000000        1.0000000   \n",
       "3                                         0.0000000        1.0000000   \n",
       "4                                         0.0000000        1.0000000   \n",
       "...                                             ...              ...   \n",
       "22387                                     0.0000000        1.0000000   \n",
       "22388                                     0.0000000        1.0000000   \n",
       "22389                                     0.0000000        1.0000000   \n",
       "22390                                     0.0000000        1.0000000   \n",
       "22391                                     0.0000000        1.0000000   \n",
       "\n",
       "       PROVEEDOR_Proveedor 28  PROVEEDOR_Proveedor 301  \\\n",
       "0                   0.0000000                0.0000000   \n",
       "1                   0.0000000                0.0000000   \n",
       "2                   0.0000000                0.0000000   \n",
       "3                   0.0000000                0.0000000   \n",
       "4                   0.0000000                0.0000000   \n",
       "...                       ...                      ...   \n",
       "22387               0.0000000                0.0000000   \n",
       "22388               0.0000000                0.0000000   \n",
       "22389               0.0000000                0.0000000   \n",
       "22390               0.0000000                0.0000000   \n",
       "22391               0.0000000                0.0000000   \n",
       "\n",
       "       PROVEEDOR_Proveedor 59  PRESUPUESTO_Otros  PRESUPUESTO_Presupuesto 711  \\\n",
       "0                   0.0000000          1.0000000                    0.0000000   \n",
       "1                   0.0000000          1.0000000                    0.0000000   \n",
       "2                   0.0000000          1.0000000                    0.0000000   \n",
       "3                   0.0000000          1.0000000                    0.0000000   \n",
       "4                   0.0000000          0.0000000                    1.0000000   \n",
       "...                       ...                ...                          ...   \n",
       "22387               0.0000000          1.0000000                    0.0000000   \n",
       "22388               0.0000000          1.0000000                    0.0000000   \n",
       "22389               0.0000000          1.0000000                    0.0000000   \n",
       "22390               0.0000000          1.0000000                    0.0000000   \n",
       "22391               0.0000000          1.0000000                    0.0000000   \n",
       "\n",
       "       PRESUPUESTO_Presupuesto 719  COMPAÑÍA_COMPRADORA_Otros  \\\n",
       "0                        0.0000000                  0.0000000   \n",
       "1                        0.0000000                  0.0000000   \n",
       "2                        0.0000000                  0.0000000   \n",
       "3                        0.0000000                  0.0000000   \n",
       "4                        0.0000000                  1.0000000   \n",
       "...                            ...                        ...   \n",
       "22387                    0.0000000                  1.0000000   \n",
       "22388                    0.0000000                  1.0000000   \n",
       "22389                    0.0000000                  1.0000000   \n",
       "22390                    0.0000000                  1.0000000   \n",
       "22391                    0.0000000                  1.0000000   \n",
       "\n",
       "       COMPAÑÍA_COMPRADORA_Portal comprador 1  \\\n",
       "0                                   1.0000000   \n",
       "1                                   1.0000000   \n",
       "2                                   1.0000000   \n",
       "3                                   0.0000000   \n",
       "4                                   0.0000000   \n",
       "...                                       ...   \n",
       "22387                               0.0000000   \n",
       "22388                               0.0000000   \n",
       "22389                               0.0000000   \n",
       "22390                               0.0000000   \n",
       "22391                               0.0000000   \n",
       "\n",
       "       COMPAÑÍA_COMPRADORA_Portal comprador 2  \\\n",
       "0                                   0.0000000   \n",
       "1                                   0.0000000   \n",
       "2                                   0.0000000   \n",
       "3                                   1.0000000   \n",
       "4                                   0.0000000   \n",
       "...                                       ...   \n",
       "22387                               0.0000000   \n",
       "22388                               0.0000000   \n",
       "22389                               0.0000000   \n",
       "22390                               0.0000000   \n",
       "22391                               0.0000000   \n",
       "\n",
       "       COMPAÑÍA_COMPRADORA_Portal comprador 24  \\\n",
       "0                                    0.0000000   \n",
       "1                                    0.0000000   \n",
       "2                                    0.0000000   \n",
       "3                                    0.0000000   \n",
       "4                                    0.0000000   \n",
       "...                                        ...   \n",
       "22387                                0.0000000   \n",
       "22388                                0.0000000   \n",
       "22389                                0.0000000   \n",
       "22390                                0.0000000   \n",
       "22391                                0.0000000   \n",
       "\n",
       "       COMPAÑÍA_COMPRADORA_Portal comprador 29  ESTADO_Cancelado  \\\n",
       "0                                    0.0000000         0.0000000   \n",
       "1                                    0.0000000         0.0000000   \n",
       "2                                    0.0000000         0.0000000   \n",
       "3                                    0.0000000         0.0000000   \n",
       "4                                    0.0000000         0.0000000   \n",
       "...                                        ...               ...   \n",
       "22387                                0.0000000         0.0000000   \n",
       "22388                                0.0000000         0.0000000   \n",
       "22389                                0.0000000         0.0000000   \n",
       "22390                                0.0000000         0.0000000   \n",
       "22391                                0.0000000         0.0000000   \n",
       "\n",
       "       ESTADO_Enviado  ESTADO_Finalizado Incompleto  ESTADO_Orden Confirmada  \\\n",
       "0           0.0000000                     0.0000000                0.0000000   \n",
       "1           0.0000000                     0.0000000                0.0000000   \n",
       "2           0.0000000                     0.0000000                0.0000000   \n",
       "3           0.0000000                     0.0000000                0.0000000   \n",
       "4           0.0000000                     0.0000000                0.0000000   \n",
       "...               ...                           ...                      ...   \n",
       "22387       0.0000000                     0.0000000                0.0000000   \n",
       "22388       0.0000000                     0.0000000                0.0000000   \n",
       "22389       0.0000000                     0.0000000                0.0000000   \n",
       "22390       0.0000000                     0.0000000                0.0000000   \n",
       "22391       0.0000000                     0.0000000                0.0000000   \n",
       "\n",
       "       ESTADO_Orden Rechazada  ESTADO_Orden en Proceso  \\\n",
       "0                   0.0000000                1.0000000   \n",
       "1                   0.0000000                0.0000000   \n",
       "2                   0.0000000                1.0000000   \n",
       "3                   0.0000000                1.0000000   \n",
       "4                   0.0000000                0.0000000   \n",
       "...                       ...                      ...   \n",
       "22387               0.0000000                0.0000000   \n",
       "22388               0.0000000                0.0000000   \n",
       "22389               0.0000000                0.0000000   \n",
       "22390               0.0000000                0.0000000   \n",
       "22391               0.0000000                0.0000000   \n",
       "\n",
       "       ESTADO_Pendiente por Aprobar  ESTADO_Recibido  ESTADO_Recibido Parcial  \n",
       "0                         0.0000000        0.0000000                0.0000000  \n",
       "1                         0.0000000        1.0000000                0.0000000  \n",
       "2                         0.0000000        0.0000000                0.0000000  \n",
       "3                         0.0000000        0.0000000                0.0000000  \n",
       "4                         0.0000000        1.0000000                0.0000000  \n",
       "...                             ...              ...                      ...  \n",
       "22387                     0.0000000        1.0000000                0.0000000  \n",
       "22388                     0.0000000        1.0000000                0.0000000  \n",
       "22389                     0.0000000        1.0000000                0.0000000  \n",
       "22390                     0.0000000        1.0000000                0.0000000  \n",
       "22391                     0.0000000        1.0000000                0.0000000  \n",
       "\n",
       "[22392 rows x 33 columns]"
      ]
     },
     "execution_count": 598,
     "metadata": {},
     "output_type": "execute_result"
    }
   ],
   "source": [
    "OH_Cols"
   ]
  },
  {
   "cell_type": "markdown",
   "metadata": {},
   "source": [
    "# CONCAT ONEHOTENCODER WITH NORMALIZED"
   ]
  },
  {
   "cell_type": "code",
   "execution_count": 599,
   "metadata": {},
   "outputs": [
    {
     "data": {
      "text/html": [
       "<div>\n",
       "<style scoped>\n",
       "    .dataframe tbody tr th:only-of-type {\n",
       "        vertical-align: middle;\n",
       "    }\n",
       "\n",
       "    .dataframe tbody tr th {\n",
       "        vertical-align: top;\n",
       "    }\n",
       "\n",
       "    .dataframe thead th {\n",
       "        text-align: right;\n",
       "    }\n",
       "</style>\n",
       "<table border=\"1\" class=\"dataframe\">\n",
       "  <thead>\n",
       "    <tr style=\"text-align: right;\">\n",
       "      <th></th>\n",
       "      <th>CATEGORÍA_Alimentos y Bebidas</th>\n",
       "      <th>CATEGORÍA_Almacenamiento y empaques</th>\n",
       "      <th>CATEGORÍA_Aseo, Cafetería y Oficina</th>\n",
       "      <th>CATEGORÍA_Dotación y elementos de protección personal</th>\n",
       "      <th>CATEGORÍA_Ferreteria</th>\n",
       "      <th>CATEGORÍA_Otros</th>\n",
       "      <th>CATEGORÍA_Vehículos y repuestos</th>\n",
       "      <th>CATEGORÍA_Vigilancia y seguridad industrial</th>\n",
       "      <th>SUBCATEGORÍA_Alimentos preparados y conservados</th>\n",
       "      <th>SUBCATEGORÍA_Elementos de aseo y limpieza</th>\n",
       "      <th>SUBCATEGORÍA_Otros</th>\n",
       "      <th>SUBCATEGORÍA_Seguridad y protección personal</th>\n",
       "      <th>PROVEEDOR_Otros</th>\n",
       "      <th>PROVEEDOR_Proveedor 28</th>\n",
       "      <th>PROVEEDOR_Proveedor 301</th>\n",
       "      <th>PROVEEDOR_Proveedor 59</th>\n",
       "      <th>PRESUPUESTO_Otros</th>\n",
       "      <th>PRESUPUESTO_Presupuesto 711</th>\n",
       "      <th>PRESUPUESTO_Presupuesto 719</th>\n",
       "      <th>COMPAÑÍA_COMPRADORA_Otros</th>\n",
       "      <th>COMPAÑÍA_COMPRADORA_Portal comprador 1</th>\n",
       "      <th>COMPAÑÍA_COMPRADORA_Portal comprador 2</th>\n",
       "      <th>COMPAÑÍA_COMPRADORA_Portal comprador 24</th>\n",
       "      <th>COMPAÑÍA_COMPRADORA_Portal comprador 29</th>\n",
       "      <th>ESTADO_Cancelado</th>\n",
       "      <th>ESTADO_Enviado</th>\n",
       "      <th>ESTADO_Finalizado Incompleto</th>\n",
       "      <th>ESTADO_Orden Confirmada</th>\n",
       "      <th>ESTADO_Orden Rechazada</th>\n",
       "      <th>ESTADO_Orden en Proceso</th>\n",
       "      <th>ESTADO_Pendiente por Aprobar</th>\n",
       "      <th>ESTADO_Recibido</th>\n",
       "      <th>ESTADO_Recibido Parcial</th>\n",
       "      <th>NÚMERO_PEDIDO</th>\n",
       "      <th>ORDEN_NÚMERO</th>\n",
       "      <th>CANTIDAD_PEDIDA</th>\n",
       "      <th>CANTIDAD_RECIBIDA</th>\n",
       "      <th>PRECIO_UNITARIO</th>\n",
       "      <th>PRECIO_UNITARIO_+_IVA</th>\n",
       "      <th>IVA</th>\n",
       "      <th>TOTAL_+_IVA</th>\n",
       "      <th>DURACIÓN_ENTREGA</th>\n",
       "      <th>DURACIÓN_APROBACIÓN</th>\n",
       "    </tr>\n",
       "  </thead>\n",
       "  <tbody>\n",
       "    <tr>\n",
       "      <th>0</th>\n",
       "      <td>0.0000000</td>\n",
       "      <td>0.0000000</td>\n",
       "      <td>0.0000000</td>\n",
       "      <td>0.0000000</td>\n",
       "      <td>0.0000000</td>\n",
       "      <td>1.0000000</td>\n",
       "      <td>0.0000000</td>\n",
       "      <td>0.0000000</td>\n",
       "      <td>0.0000000</td>\n",
       "      <td>0.0000000</td>\n",
       "      <td>1.0000000</td>\n",
       "      <td>0.0000000</td>\n",
       "      <td>1.0000000</td>\n",
       "      <td>0.0000000</td>\n",
       "      <td>0.0000000</td>\n",
       "      <td>0.0000000</td>\n",
       "      <td>1.0000000</td>\n",
       "      <td>0.0000000</td>\n",
       "      <td>0.0000000</td>\n",
       "      <td>0.0000000</td>\n",
       "      <td>1.0000000</td>\n",
       "      <td>0.0000000</td>\n",
       "      <td>0.0000000</td>\n",
       "      <td>0.0000000</td>\n",
       "      <td>0.0000000</td>\n",
       "      <td>0.0000000</td>\n",
       "      <td>0.0000000</td>\n",
       "      <td>0.0000000</td>\n",
       "      <td>0.0000000</td>\n",
       "      <td>1.0000000</td>\n",
       "      <td>0.0000000</td>\n",
       "      <td>0.0000000</td>\n",
       "      <td>0.0000000</td>\n",
       "      <td>0.5969223</td>\n",
       "      <td>0.0310981</td>\n",
       "      <td>0.0000241</td>\n",
       "      <td>0.0000000</td>\n",
       "      <td>0.2814006</td>\n",
       "      <td>0.3348647</td>\n",
       "      <td>0.0534642</td>\n",
       "      <td>0.6697295</td>\n",
       "      <td>0.0000000</td>\n",
       "      <td>0.0000000</td>\n",
       "    </tr>\n",
       "    <tr>\n",
       "      <th>1</th>\n",
       "      <td>0.0000000</td>\n",
       "      <td>0.0000000</td>\n",
       "      <td>0.0000000</td>\n",
       "      <td>0.0000000</td>\n",
       "      <td>0.0000000</td>\n",
       "      <td>1.0000000</td>\n",
       "      <td>0.0000000</td>\n",
       "      <td>0.0000000</td>\n",
       "      <td>0.0000000</td>\n",
       "      <td>0.0000000</td>\n",
       "      <td>1.0000000</td>\n",
       "      <td>0.0000000</td>\n",
       "      <td>1.0000000</td>\n",
       "      <td>0.0000000</td>\n",
       "      <td>0.0000000</td>\n",
       "      <td>0.0000000</td>\n",
       "      <td>1.0000000</td>\n",
       "      <td>0.0000000</td>\n",
       "      <td>0.0000000</td>\n",
       "      <td>0.0000000</td>\n",
       "      <td>1.0000000</td>\n",
       "      <td>0.0000000</td>\n",
       "      <td>0.0000000</td>\n",
       "      <td>0.0000000</td>\n",
       "      <td>0.0000000</td>\n",
       "      <td>0.0000000</td>\n",
       "      <td>0.0000000</td>\n",
       "      <td>0.0000000</td>\n",
       "      <td>0.0000000</td>\n",
       "      <td>0.0000000</td>\n",
       "      <td>0.0000000</td>\n",
       "      <td>1.0000000</td>\n",
       "      <td>0.0000000</td>\n",
       "      <td>0.0170583</td>\n",
       "      <td>0.0008884</td>\n",
       "      <td>0.0000003</td>\n",
       "      <td>0.0000003</td>\n",
       "      <td>0.5083660</td>\n",
       "      <td>0.6049556</td>\n",
       "      <td>0.0965897</td>\n",
       "      <td>0.6049556</td>\n",
       "      <td>0.0000003</td>\n",
       "      <td>0.0000000</td>\n",
       "    </tr>\n",
       "    <tr>\n",
       "      <th>2</th>\n",
       "      <td>1.0000000</td>\n",
       "      <td>0.0000000</td>\n",
       "      <td>0.0000000</td>\n",
       "      <td>0.0000000</td>\n",
       "      <td>0.0000000</td>\n",
       "      <td>0.0000000</td>\n",
       "      <td>0.0000000</td>\n",
       "      <td>0.0000000</td>\n",
       "      <td>1.0000000</td>\n",
       "      <td>0.0000000</td>\n",
       "      <td>0.0000000</td>\n",
       "      <td>0.0000000</td>\n",
       "      <td>1.0000000</td>\n",
       "      <td>0.0000000</td>\n",
       "      <td>0.0000000</td>\n",
       "      <td>0.0000000</td>\n",
       "      <td>1.0000000</td>\n",
       "      <td>0.0000000</td>\n",
       "      <td>0.0000000</td>\n",
       "      <td>0.0000000</td>\n",
       "      <td>1.0000000</td>\n",
       "      <td>0.0000000</td>\n",
       "      <td>0.0000000</td>\n",
       "      <td>0.0000000</td>\n",
       "      <td>0.0000000</td>\n",
       "      <td>0.0000000</td>\n",
       "      <td>0.0000000</td>\n",
       "      <td>0.0000000</td>\n",
       "      <td>0.0000000</td>\n",
       "      <td>1.0000000</td>\n",
       "      <td>0.0000000</td>\n",
       "      <td>0.0000000</td>\n",
       "      <td>0.0000000</td>\n",
       "      <td>0.3017840</td>\n",
       "      <td>0.0157106</td>\n",
       "      <td>0.0000609</td>\n",
       "      <td>0.0000000</td>\n",
       "      <td>0.0943855</td>\n",
       "      <td>0.0943855</td>\n",
       "      <td>0.0000000</td>\n",
       "      <td>0.9438551</td>\n",
       "      <td>0.0000000</td>\n",
       "      <td>0.0000000</td>\n",
       "    </tr>\n",
       "    <tr>\n",
       "      <th>3</th>\n",
       "      <td>1.0000000</td>\n",
       "      <td>0.0000000</td>\n",
       "      <td>0.0000000</td>\n",
       "      <td>0.0000000</td>\n",
       "      <td>0.0000000</td>\n",
       "      <td>0.0000000</td>\n",
       "      <td>0.0000000</td>\n",
       "      <td>0.0000000</td>\n",
       "      <td>0.0000000</td>\n",
       "      <td>0.0000000</td>\n",
       "      <td>1.0000000</td>\n",
       "      <td>0.0000000</td>\n",
       "      <td>1.0000000</td>\n",
       "      <td>0.0000000</td>\n",
       "      <td>0.0000000</td>\n",
       "      <td>0.0000000</td>\n",
       "      <td>1.0000000</td>\n",
       "      <td>0.0000000</td>\n",
       "      <td>0.0000000</td>\n",
       "      <td>0.0000000</td>\n",
       "      <td>0.0000000</td>\n",
       "      <td>1.0000000</td>\n",
       "      <td>0.0000000</td>\n",
       "      <td>0.0000000</td>\n",
       "      <td>0.0000000</td>\n",
       "      <td>0.0000000</td>\n",
       "      <td>0.0000000</td>\n",
       "      <td>0.0000000</td>\n",
       "      <td>0.0000000</td>\n",
       "      <td>1.0000000</td>\n",
       "      <td>0.0000000</td>\n",
       "      <td>0.0000000</td>\n",
       "      <td>0.0000000</td>\n",
       "      <td>0.0449891</td>\n",
       "      <td>0.0017176</td>\n",
       "      <td>0.0000454</td>\n",
       "      <td>0.0000000</td>\n",
       "      <td>0.0199717</td>\n",
       "      <td>0.0199717</td>\n",
       "      <td>0.0000000</td>\n",
       "      <td>0.9985866</td>\n",
       "      <td>0.0000018</td>\n",
       "      <td>0.0000000</td>\n",
       "    </tr>\n",
       "    <tr>\n",
       "      <th>4</th>\n",
       "      <td>0.0000000</td>\n",
       "      <td>0.0000000</td>\n",
       "      <td>0.0000000</td>\n",
       "      <td>0.0000000</td>\n",
       "      <td>0.0000000</td>\n",
       "      <td>1.0000000</td>\n",
       "      <td>0.0000000</td>\n",
       "      <td>0.0000000</td>\n",
       "      <td>0.0000000</td>\n",
       "      <td>0.0000000</td>\n",
       "      <td>1.0000000</td>\n",
       "      <td>0.0000000</td>\n",
       "      <td>1.0000000</td>\n",
       "      <td>0.0000000</td>\n",
       "      <td>0.0000000</td>\n",
       "      <td>0.0000000</td>\n",
       "      <td>0.0000000</td>\n",
       "      <td>1.0000000</td>\n",
       "      <td>0.0000000</td>\n",
       "      <td>1.0000000</td>\n",
       "      <td>0.0000000</td>\n",
       "      <td>0.0000000</td>\n",
       "      <td>0.0000000</td>\n",
       "      <td>0.0000000</td>\n",
       "      <td>0.0000000</td>\n",
       "      <td>0.0000000</td>\n",
       "      <td>0.0000000</td>\n",
       "      <td>0.0000000</td>\n",
       "      <td>0.0000000</td>\n",
       "      <td>0.0000000</td>\n",
       "      <td>0.0000000</td>\n",
       "      <td>1.0000000</td>\n",
       "      <td>0.0000000</td>\n",
       "      <td>0.0633666</td>\n",
       "      <td>0.0000013</td>\n",
       "      <td>0.0000090</td>\n",
       "      <td>0.0000090</td>\n",
       "      <td>0.1177442</td>\n",
       "      <td>0.1401157</td>\n",
       "      <td>0.0223715</td>\n",
       "      <td>0.9808099</td>\n",
       "      <td>-0.0000013</td>\n",
       "      <td>0.0000000</td>\n",
       "    </tr>\n",
       "    <tr>\n",
       "      <th>...</th>\n",
       "      <td>...</td>\n",
       "      <td>...</td>\n",
       "      <td>...</td>\n",
       "      <td>...</td>\n",
       "      <td>...</td>\n",
       "      <td>...</td>\n",
       "      <td>...</td>\n",
       "      <td>...</td>\n",
       "      <td>...</td>\n",
       "      <td>...</td>\n",
       "      <td>...</td>\n",
       "      <td>...</td>\n",
       "      <td>...</td>\n",
       "      <td>...</td>\n",
       "      <td>...</td>\n",
       "      <td>...</td>\n",
       "      <td>...</td>\n",
       "      <td>...</td>\n",
       "      <td>...</td>\n",
       "      <td>...</td>\n",
       "      <td>...</td>\n",
       "      <td>...</td>\n",
       "      <td>...</td>\n",
       "      <td>...</td>\n",
       "      <td>...</td>\n",
       "      <td>...</td>\n",
       "      <td>...</td>\n",
       "      <td>...</td>\n",
       "      <td>...</td>\n",
       "      <td>...</td>\n",
       "      <td>...</td>\n",
       "      <td>...</td>\n",
       "      <td>...</td>\n",
       "      <td>...</td>\n",
       "      <td>...</td>\n",
       "      <td>...</td>\n",
       "      <td>...</td>\n",
       "      <td>...</td>\n",
       "      <td>...</td>\n",
       "      <td>...</td>\n",
       "      <td>...</td>\n",
       "      <td>...</td>\n",
       "      <td>...</td>\n",
       "    </tr>\n",
       "    <tr>\n",
       "      <th>22387</th>\n",
       "      <td>0.0000000</td>\n",
       "      <td>0.0000000</td>\n",
       "      <td>1.0000000</td>\n",
       "      <td>0.0000000</td>\n",
       "      <td>0.0000000</td>\n",
       "      <td>0.0000000</td>\n",
       "      <td>0.0000000</td>\n",
       "      <td>0.0000000</td>\n",
       "      <td>0.0000000</td>\n",
       "      <td>0.0000000</td>\n",
       "      <td>1.0000000</td>\n",
       "      <td>0.0000000</td>\n",
       "      <td>1.0000000</td>\n",
       "      <td>0.0000000</td>\n",
       "      <td>0.0000000</td>\n",
       "      <td>0.0000000</td>\n",
       "      <td>1.0000000</td>\n",
       "      <td>0.0000000</td>\n",
       "      <td>0.0000000</td>\n",
       "      <td>1.0000000</td>\n",
       "      <td>0.0000000</td>\n",
       "      <td>0.0000000</td>\n",
       "      <td>0.0000000</td>\n",
       "      <td>0.0000000</td>\n",
       "      <td>0.0000000</td>\n",
       "      <td>0.0000000</td>\n",
       "      <td>0.0000000</td>\n",
       "      <td>0.0000000</td>\n",
       "      <td>0.0000000</td>\n",
       "      <td>0.0000000</td>\n",
       "      <td>0.0000000</td>\n",
       "      <td>1.0000000</td>\n",
       "      <td>0.0000000</td>\n",
       "      <td>0.0000062</td>\n",
       "      <td>0.0000062</td>\n",
       "      <td>0.0000247</td>\n",
       "      <td>0.0000247</td>\n",
       "      <td>0.1036478</td>\n",
       "      <td>0.1233425</td>\n",
       "      <td>0.0196947</td>\n",
       "      <td>0.9867400</td>\n",
       "      <td>0.0000100</td>\n",
       "      <td>0.0000031</td>\n",
       "    </tr>\n",
       "    <tr>\n",
       "      <th>22388</th>\n",
       "      <td>0.0000000</td>\n",
       "      <td>0.0000000</td>\n",
       "      <td>1.0000000</td>\n",
       "      <td>0.0000000</td>\n",
       "      <td>0.0000000</td>\n",
       "      <td>0.0000000</td>\n",
       "      <td>0.0000000</td>\n",
       "      <td>0.0000000</td>\n",
       "      <td>0.0000000</td>\n",
       "      <td>0.0000000</td>\n",
       "      <td>1.0000000</td>\n",
       "      <td>0.0000000</td>\n",
       "      <td>1.0000000</td>\n",
       "      <td>0.0000000</td>\n",
       "      <td>0.0000000</td>\n",
       "      <td>0.0000000</td>\n",
       "      <td>1.0000000</td>\n",
       "      <td>0.0000000</td>\n",
       "      <td>0.0000000</td>\n",
       "      <td>1.0000000</td>\n",
       "      <td>0.0000000</td>\n",
       "      <td>0.0000000</td>\n",
       "      <td>0.0000000</td>\n",
       "      <td>0.0000000</td>\n",
       "      <td>0.0000000</td>\n",
       "      <td>0.0000000</td>\n",
       "      <td>0.0000000</td>\n",
       "      <td>0.0000000</td>\n",
       "      <td>0.0000000</td>\n",
       "      <td>0.0000000</td>\n",
       "      <td>0.0000000</td>\n",
       "      <td>1.0000000</td>\n",
       "      <td>0.0000000</td>\n",
       "      <td>0.0017288</td>\n",
       "      <td>0.0017288</td>\n",
       "      <td>0.0008644</td>\n",
       "      <td>0.0008644</td>\n",
       "      <td>0.5082753</td>\n",
       "      <td>0.6050897</td>\n",
       "      <td>0.0968144</td>\n",
       "      <td>0.6050897</td>\n",
       "      <td>0.0028021</td>\n",
       "      <td>0.0008644</td>\n",
       "    </tr>\n",
       "    <tr>\n",
       "      <th>22389</th>\n",
       "      <td>0.0000000</td>\n",
       "      <td>0.0000000</td>\n",
       "      <td>0.0000000</td>\n",
       "      <td>0.0000000</td>\n",
       "      <td>0.0000000</td>\n",
       "      <td>1.0000000</td>\n",
       "      <td>0.0000000</td>\n",
       "      <td>0.0000000</td>\n",
       "      <td>0.0000000</td>\n",
       "      <td>0.0000000</td>\n",
       "      <td>1.0000000</td>\n",
       "      <td>0.0000000</td>\n",
       "      <td>1.0000000</td>\n",
       "      <td>0.0000000</td>\n",
       "      <td>0.0000000</td>\n",
       "      <td>0.0000000</td>\n",
       "      <td>1.0000000</td>\n",
       "      <td>0.0000000</td>\n",
       "      <td>0.0000000</td>\n",
       "      <td>1.0000000</td>\n",
       "      <td>0.0000000</td>\n",
       "      <td>0.0000000</td>\n",
       "      <td>0.0000000</td>\n",
       "      <td>0.0000000</td>\n",
       "      <td>0.0000000</td>\n",
       "      <td>0.0000000</td>\n",
       "      <td>0.0000000</td>\n",
       "      <td>0.0000000</td>\n",
       "      <td>0.0000000</td>\n",
       "      <td>0.0000000</td>\n",
       "      <td>0.0000000</td>\n",
       "      <td>1.0000000</td>\n",
       "      <td>0.0000000</td>\n",
       "      <td>0.0000174</td>\n",
       "      <td>0.0000174</td>\n",
       "      <td>0.0000262</td>\n",
       "      <td>0.0000262</td>\n",
       "      <td>0.2565210</td>\n",
       "      <td>0.3052576</td>\n",
       "      <td>0.0487365</td>\n",
       "      <td>0.9157727</td>\n",
       "      <td>0.0000283</td>\n",
       "      <td>0.0000087</td>\n",
       "    </tr>\n",
       "    <tr>\n",
       "      <th>22390</th>\n",
       "      <td>0.0000000</td>\n",
       "      <td>0.0000000</td>\n",
       "      <td>0.0000000</td>\n",
       "      <td>0.0000000</td>\n",
       "      <td>0.0000000</td>\n",
       "      <td>1.0000000</td>\n",
       "      <td>0.0000000</td>\n",
       "      <td>0.0000000</td>\n",
       "      <td>0.0000000</td>\n",
       "      <td>0.0000000</td>\n",
       "      <td>1.0000000</td>\n",
       "      <td>0.0000000</td>\n",
       "      <td>1.0000000</td>\n",
       "      <td>0.0000000</td>\n",
       "      <td>0.0000000</td>\n",
       "      <td>0.0000000</td>\n",
       "      <td>1.0000000</td>\n",
       "      <td>0.0000000</td>\n",
       "      <td>0.0000000</td>\n",
       "      <td>1.0000000</td>\n",
       "      <td>0.0000000</td>\n",
       "      <td>0.0000000</td>\n",
       "      <td>0.0000000</td>\n",
       "      <td>0.0000000</td>\n",
       "      <td>0.0000000</td>\n",
       "      <td>0.0000000</td>\n",
       "      <td>0.0000000</td>\n",
       "      <td>0.0000000</td>\n",
       "      <td>0.0000000</td>\n",
       "      <td>0.0000000</td>\n",
       "      <td>0.0000000</td>\n",
       "      <td>1.0000000</td>\n",
       "      <td>0.0000000</td>\n",
       "      <td>0.0000068</td>\n",
       "      <td>0.0000068</td>\n",
       "      <td>0.0000271</td>\n",
       "      <td>0.0000271</td>\n",
       "      <td>0.1995638</td>\n",
       "      <td>0.2374790</td>\n",
       "      <td>0.0379152</td>\n",
       "      <td>0.9499160</td>\n",
       "      <td>0.0000220</td>\n",
       "      <td>0.0000000</td>\n",
       "    </tr>\n",
       "    <tr>\n",
       "      <th>22391</th>\n",
       "      <td>0.0000000</td>\n",
       "      <td>0.0000000</td>\n",
       "      <td>1.0000000</td>\n",
       "      <td>0.0000000</td>\n",
       "      <td>0.0000000</td>\n",
       "      <td>0.0000000</td>\n",
       "      <td>0.0000000</td>\n",
       "      <td>0.0000000</td>\n",
       "      <td>0.0000000</td>\n",
       "      <td>0.0000000</td>\n",
       "      <td>1.0000000</td>\n",
       "      <td>0.0000000</td>\n",
       "      <td>1.0000000</td>\n",
       "      <td>0.0000000</td>\n",
       "      <td>0.0000000</td>\n",
       "      <td>0.0000000</td>\n",
       "      <td>1.0000000</td>\n",
       "      <td>0.0000000</td>\n",
       "      <td>0.0000000</td>\n",
       "      <td>1.0000000</td>\n",
       "      <td>0.0000000</td>\n",
       "      <td>0.0000000</td>\n",
       "      <td>0.0000000</td>\n",
       "      <td>0.0000000</td>\n",
       "      <td>0.0000000</td>\n",
       "      <td>0.0000000</td>\n",
       "      <td>0.0000000</td>\n",
       "      <td>0.0000000</td>\n",
       "      <td>0.0000000</td>\n",
       "      <td>0.0000000</td>\n",
       "      <td>0.0000000</td>\n",
       "      <td>1.0000000</td>\n",
       "      <td>0.0000000</td>\n",
       "      <td>0.0000048</td>\n",
       "      <td>0.0000048</td>\n",
       "      <td>0.0000242</td>\n",
       "      <td>0.0000242</td>\n",
       "      <td>0.1625303</td>\n",
       "      <td>0.1934137</td>\n",
       "      <td>0.0308833</td>\n",
       "      <td>0.9670684</td>\n",
       "      <td>0.0000157</td>\n",
       "      <td>0.0000000</td>\n",
       "    </tr>\n",
       "  </tbody>\n",
       "</table>\n",
       "<p>22392 rows × 43 columns</p>\n",
       "</div>"
      ],
      "text/plain": [
       "       CATEGORÍA_Alimentos y Bebidas  CATEGORÍA_Almacenamiento y empaques  \\\n",
       "0                          0.0000000                            0.0000000   \n",
       "1                          0.0000000                            0.0000000   \n",
       "2                          1.0000000                            0.0000000   \n",
       "3                          1.0000000                            0.0000000   \n",
       "4                          0.0000000                            0.0000000   \n",
       "...                              ...                                  ...   \n",
       "22387                      0.0000000                            0.0000000   \n",
       "22388                      0.0000000                            0.0000000   \n",
       "22389                      0.0000000                            0.0000000   \n",
       "22390                      0.0000000                            0.0000000   \n",
       "22391                      0.0000000                            0.0000000   \n",
       "\n",
       "       CATEGORÍA_Aseo, Cafetería y Oficina  \\\n",
       "0                                0.0000000   \n",
       "1                                0.0000000   \n",
       "2                                0.0000000   \n",
       "3                                0.0000000   \n",
       "4                                0.0000000   \n",
       "...                                    ...   \n",
       "22387                            1.0000000   \n",
       "22388                            1.0000000   \n",
       "22389                            0.0000000   \n",
       "22390                            0.0000000   \n",
       "22391                            1.0000000   \n",
       "\n",
       "       CATEGORÍA_Dotación y elementos de protección personal  \\\n",
       "0                                              0.0000000       \n",
       "1                                              0.0000000       \n",
       "2                                              0.0000000       \n",
       "3                                              0.0000000       \n",
       "4                                              0.0000000       \n",
       "...                                                  ...       \n",
       "22387                                          0.0000000       \n",
       "22388                                          0.0000000       \n",
       "22389                                          0.0000000       \n",
       "22390                                          0.0000000       \n",
       "22391                                          0.0000000       \n",
       "\n",
       "       CATEGORÍA_Ferreteria  CATEGORÍA_Otros  CATEGORÍA_Vehículos y repuestos  \\\n",
       "0                 0.0000000        1.0000000                        0.0000000   \n",
       "1                 0.0000000        1.0000000                        0.0000000   \n",
       "2                 0.0000000        0.0000000                        0.0000000   \n",
       "3                 0.0000000        0.0000000                        0.0000000   \n",
       "4                 0.0000000        1.0000000                        0.0000000   \n",
       "...                     ...              ...                              ...   \n",
       "22387             0.0000000        0.0000000                        0.0000000   \n",
       "22388             0.0000000        0.0000000                        0.0000000   \n",
       "22389             0.0000000        1.0000000                        0.0000000   \n",
       "22390             0.0000000        1.0000000                        0.0000000   \n",
       "22391             0.0000000        0.0000000                        0.0000000   \n",
       "\n",
       "       CATEGORÍA_Vigilancia y seguridad industrial  \\\n",
       "0                                        0.0000000   \n",
       "1                                        0.0000000   \n",
       "2                                        0.0000000   \n",
       "3                                        0.0000000   \n",
       "4                                        0.0000000   \n",
       "...                                            ...   \n",
       "22387                                    0.0000000   \n",
       "22388                                    0.0000000   \n",
       "22389                                    0.0000000   \n",
       "22390                                    0.0000000   \n",
       "22391                                    0.0000000   \n",
       "\n",
       "       SUBCATEGORÍA_Alimentos preparados y conservados  \\\n",
       "0                                            0.0000000   \n",
       "1                                            0.0000000   \n",
       "2                                            1.0000000   \n",
       "3                                            0.0000000   \n",
       "4                                            0.0000000   \n",
       "...                                                ...   \n",
       "22387                                        0.0000000   \n",
       "22388                                        0.0000000   \n",
       "22389                                        0.0000000   \n",
       "22390                                        0.0000000   \n",
       "22391                                        0.0000000   \n",
       "\n",
       "       SUBCATEGORÍA_Elementos de aseo y limpieza  SUBCATEGORÍA_Otros  \\\n",
       "0                                      0.0000000           1.0000000   \n",
       "1                                      0.0000000           1.0000000   \n",
       "2                                      0.0000000           0.0000000   \n",
       "3                                      0.0000000           1.0000000   \n",
       "4                                      0.0000000           1.0000000   \n",
       "...                                          ...                 ...   \n",
       "22387                                  0.0000000           1.0000000   \n",
       "22388                                  0.0000000           1.0000000   \n",
       "22389                                  0.0000000           1.0000000   \n",
       "22390                                  0.0000000           1.0000000   \n",
       "22391                                  0.0000000           1.0000000   \n",
       "\n",
       "       SUBCATEGORÍA_Seguridad y protección personal  PROVEEDOR_Otros  \\\n",
       "0                                         0.0000000        1.0000000   \n",
       "1                                         0.0000000        1.0000000   \n",
       "2                                         0.0000000        1.0000000   \n",
       "3                                         0.0000000        1.0000000   \n",
       "4                                         0.0000000        1.0000000   \n",
       "...                                             ...              ...   \n",
       "22387                                     0.0000000        1.0000000   \n",
       "22388                                     0.0000000        1.0000000   \n",
       "22389                                     0.0000000        1.0000000   \n",
       "22390                                     0.0000000        1.0000000   \n",
       "22391                                     0.0000000        1.0000000   \n",
       "\n",
       "       PROVEEDOR_Proveedor 28  PROVEEDOR_Proveedor 301  \\\n",
       "0                   0.0000000                0.0000000   \n",
       "1                   0.0000000                0.0000000   \n",
       "2                   0.0000000                0.0000000   \n",
       "3                   0.0000000                0.0000000   \n",
       "4                   0.0000000                0.0000000   \n",
       "...                       ...                      ...   \n",
       "22387               0.0000000                0.0000000   \n",
       "22388               0.0000000                0.0000000   \n",
       "22389               0.0000000                0.0000000   \n",
       "22390               0.0000000                0.0000000   \n",
       "22391               0.0000000                0.0000000   \n",
       "\n",
       "       PROVEEDOR_Proveedor 59  PRESUPUESTO_Otros  PRESUPUESTO_Presupuesto 711  \\\n",
       "0                   0.0000000          1.0000000                    0.0000000   \n",
       "1                   0.0000000          1.0000000                    0.0000000   \n",
       "2                   0.0000000          1.0000000                    0.0000000   \n",
       "3                   0.0000000          1.0000000                    0.0000000   \n",
       "4                   0.0000000          0.0000000                    1.0000000   \n",
       "...                       ...                ...                          ...   \n",
       "22387               0.0000000          1.0000000                    0.0000000   \n",
       "22388               0.0000000          1.0000000                    0.0000000   \n",
       "22389               0.0000000          1.0000000                    0.0000000   \n",
       "22390               0.0000000          1.0000000                    0.0000000   \n",
       "22391               0.0000000          1.0000000                    0.0000000   \n",
       "\n",
       "       PRESUPUESTO_Presupuesto 719  COMPAÑÍA_COMPRADORA_Otros  \\\n",
       "0                        0.0000000                  0.0000000   \n",
       "1                        0.0000000                  0.0000000   \n",
       "2                        0.0000000                  0.0000000   \n",
       "3                        0.0000000                  0.0000000   \n",
       "4                        0.0000000                  1.0000000   \n",
       "...                            ...                        ...   \n",
       "22387                    0.0000000                  1.0000000   \n",
       "22388                    0.0000000                  1.0000000   \n",
       "22389                    0.0000000                  1.0000000   \n",
       "22390                    0.0000000                  1.0000000   \n",
       "22391                    0.0000000                  1.0000000   \n",
       "\n",
       "       COMPAÑÍA_COMPRADORA_Portal comprador 1  \\\n",
       "0                                   1.0000000   \n",
       "1                                   1.0000000   \n",
       "2                                   1.0000000   \n",
       "3                                   0.0000000   \n",
       "4                                   0.0000000   \n",
       "...                                       ...   \n",
       "22387                               0.0000000   \n",
       "22388                               0.0000000   \n",
       "22389                               0.0000000   \n",
       "22390                               0.0000000   \n",
       "22391                               0.0000000   \n",
       "\n",
       "       COMPAÑÍA_COMPRADORA_Portal comprador 2  \\\n",
       "0                                   0.0000000   \n",
       "1                                   0.0000000   \n",
       "2                                   0.0000000   \n",
       "3                                   1.0000000   \n",
       "4                                   0.0000000   \n",
       "...                                       ...   \n",
       "22387                               0.0000000   \n",
       "22388                               0.0000000   \n",
       "22389                               0.0000000   \n",
       "22390                               0.0000000   \n",
       "22391                               0.0000000   \n",
       "\n",
       "       COMPAÑÍA_COMPRADORA_Portal comprador 24  \\\n",
       "0                                    0.0000000   \n",
       "1                                    0.0000000   \n",
       "2                                    0.0000000   \n",
       "3                                    0.0000000   \n",
       "4                                    0.0000000   \n",
       "...                                        ...   \n",
       "22387                                0.0000000   \n",
       "22388                                0.0000000   \n",
       "22389                                0.0000000   \n",
       "22390                                0.0000000   \n",
       "22391                                0.0000000   \n",
       "\n",
       "       COMPAÑÍA_COMPRADORA_Portal comprador 29  ESTADO_Cancelado  \\\n",
       "0                                    0.0000000         0.0000000   \n",
       "1                                    0.0000000         0.0000000   \n",
       "2                                    0.0000000         0.0000000   \n",
       "3                                    0.0000000         0.0000000   \n",
       "4                                    0.0000000         0.0000000   \n",
       "...                                        ...               ...   \n",
       "22387                                0.0000000         0.0000000   \n",
       "22388                                0.0000000         0.0000000   \n",
       "22389                                0.0000000         0.0000000   \n",
       "22390                                0.0000000         0.0000000   \n",
       "22391                                0.0000000         0.0000000   \n",
       "\n",
       "       ESTADO_Enviado  ESTADO_Finalizado Incompleto  ESTADO_Orden Confirmada  \\\n",
       "0           0.0000000                     0.0000000                0.0000000   \n",
       "1           0.0000000                     0.0000000                0.0000000   \n",
       "2           0.0000000                     0.0000000                0.0000000   \n",
       "3           0.0000000                     0.0000000                0.0000000   \n",
       "4           0.0000000                     0.0000000                0.0000000   \n",
       "...               ...                           ...                      ...   \n",
       "22387       0.0000000                     0.0000000                0.0000000   \n",
       "22388       0.0000000                     0.0000000                0.0000000   \n",
       "22389       0.0000000                     0.0000000                0.0000000   \n",
       "22390       0.0000000                     0.0000000                0.0000000   \n",
       "22391       0.0000000                     0.0000000                0.0000000   \n",
       "\n",
       "       ESTADO_Orden Rechazada  ESTADO_Orden en Proceso  \\\n",
       "0                   0.0000000                1.0000000   \n",
       "1                   0.0000000                0.0000000   \n",
       "2                   0.0000000                1.0000000   \n",
       "3                   0.0000000                1.0000000   \n",
       "4                   0.0000000                0.0000000   \n",
       "...                       ...                      ...   \n",
       "22387               0.0000000                0.0000000   \n",
       "22388               0.0000000                0.0000000   \n",
       "22389               0.0000000                0.0000000   \n",
       "22390               0.0000000                0.0000000   \n",
       "22391               0.0000000                0.0000000   \n",
       "\n",
       "       ESTADO_Pendiente por Aprobar  ESTADO_Recibido  ESTADO_Recibido Parcial  \\\n",
       "0                         0.0000000        0.0000000                0.0000000   \n",
       "1                         0.0000000        1.0000000                0.0000000   \n",
       "2                         0.0000000        0.0000000                0.0000000   \n",
       "3                         0.0000000        0.0000000                0.0000000   \n",
       "4                         0.0000000        1.0000000                0.0000000   \n",
       "...                             ...              ...                      ...   \n",
       "22387                     0.0000000        1.0000000                0.0000000   \n",
       "22388                     0.0000000        1.0000000                0.0000000   \n",
       "22389                     0.0000000        1.0000000                0.0000000   \n",
       "22390                     0.0000000        1.0000000                0.0000000   \n",
       "22391                     0.0000000        1.0000000                0.0000000   \n",
       "\n",
       "       NÚMERO_PEDIDO  ORDEN_NÚMERO  CANTIDAD_PEDIDA  CANTIDAD_RECIBIDA  \\\n",
       "0          0.5969223     0.0310981        0.0000241          0.0000000   \n",
       "1          0.0170583     0.0008884        0.0000003          0.0000003   \n",
       "2          0.3017840     0.0157106        0.0000609          0.0000000   \n",
       "3          0.0449891     0.0017176        0.0000454          0.0000000   \n",
       "4          0.0633666     0.0000013        0.0000090          0.0000090   \n",
       "...              ...           ...              ...                ...   \n",
       "22387      0.0000062     0.0000062        0.0000247          0.0000247   \n",
       "22388      0.0017288     0.0017288        0.0008644          0.0008644   \n",
       "22389      0.0000174     0.0000174        0.0000262          0.0000262   \n",
       "22390      0.0000068     0.0000068        0.0000271          0.0000271   \n",
       "22391      0.0000048     0.0000048        0.0000242          0.0000242   \n",
       "\n",
       "       PRECIO_UNITARIO  PRECIO_UNITARIO_+_IVA       IVA  TOTAL_+_IVA  \\\n",
       "0            0.2814006              0.3348647 0.0534642    0.6697295   \n",
       "1            0.5083660              0.6049556 0.0965897    0.6049556   \n",
       "2            0.0943855              0.0943855 0.0000000    0.9438551   \n",
       "3            0.0199717              0.0199717 0.0000000    0.9985866   \n",
       "4            0.1177442              0.1401157 0.0223715    0.9808099   \n",
       "...                ...                    ...       ...          ...   \n",
       "22387        0.1036478              0.1233425 0.0196947    0.9867400   \n",
       "22388        0.5082753              0.6050897 0.0968144    0.6050897   \n",
       "22389        0.2565210              0.3052576 0.0487365    0.9157727   \n",
       "22390        0.1995638              0.2374790 0.0379152    0.9499160   \n",
       "22391        0.1625303              0.1934137 0.0308833    0.9670684   \n",
       "\n",
       "       DURACIÓN_ENTREGA  DURACIÓN_APROBACIÓN  \n",
       "0             0.0000000            0.0000000  \n",
       "1             0.0000003            0.0000000  \n",
       "2             0.0000000            0.0000000  \n",
       "3             0.0000018            0.0000000  \n",
       "4            -0.0000013            0.0000000  \n",
       "...                 ...                  ...  \n",
       "22387         0.0000100            0.0000031  \n",
       "22388         0.0028021            0.0008644  \n",
       "22389         0.0000283            0.0000087  \n",
       "22390         0.0000220            0.0000000  \n",
       "22391         0.0000157            0.0000000  \n",
       "\n",
       "[22392 rows x 43 columns]"
      ]
     },
     "execution_count": 599,
     "metadata": {},
     "output_type": "execute_result"
    }
   ],
   "source": [
    "df_num_encoder_normalized = pd.concat([OH_Cols, df_numeric_normalized], axis=1)\n",
    "df_num_encoder_normalized"
   ]
  },
  {
   "cell_type": "code",
   "execution_count": 600,
   "metadata": {},
   "outputs": [
    {
     "data": {
      "text/html": [
       "<div>\n",
       "<style scoped>\n",
       "    .dataframe tbody tr th:only-of-type {\n",
       "        vertical-align: middle;\n",
       "    }\n",
       "\n",
       "    .dataframe tbody tr th {\n",
       "        vertical-align: top;\n",
       "    }\n",
       "\n",
       "    .dataframe thead th {\n",
       "        text-align: right;\n",
       "    }\n",
       "</style>\n",
       "<table border=\"1\" class=\"dataframe\">\n",
       "  <thead>\n",
       "    <tr style=\"text-align: right;\">\n",
       "      <th></th>\n",
       "      <th>CATEGORÍA_Alimentos y Bebidas</th>\n",
       "      <th>CATEGORÍA_Almacenamiento y empaques</th>\n",
       "      <th>CATEGORÍA_Aseo, Cafetería y Oficina</th>\n",
       "      <th>CATEGORÍA_Dotación y elementos de protección personal</th>\n",
       "      <th>CATEGORÍA_Ferreteria</th>\n",
       "      <th>CATEGORÍA_Otros</th>\n",
       "      <th>CATEGORÍA_Vehículos y repuestos</th>\n",
       "      <th>CATEGORÍA_Vigilancia y seguridad industrial</th>\n",
       "      <th>SUBCATEGORÍA_Alimentos preparados y conservados</th>\n",
       "      <th>SUBCATEGORÍA_Elementos de aseo y limpieza</th>\n",
       "      <th>SUBCATEGORÍA_Otros</th>\n",
       "      <th>SUBCATEGORÍA_Seguridad y protección personal</th>\n",
       "      <th>PROVEEDOR_Otros</th>\n",
       "      <th>PROVEEDOR_Proveedor 28</th>\n",
       "      <th>PROVEEDOR_Proveedor 301</th>\n",
       "      <th>PROVEEDOR_Proveedor 59</th>\n",
       "      <th>PRESUPUESTO_Otros</th>\n",
       "      <th>PRESUPUESTO_Presupuesto 711</th>\n",
       "      <th>PRESUPUESTO_Presupuesto 719</th>\n",
       "      <th>COMPAÑÍA_COMPRADORA_Otros</th>\n",
       "      <th>COMPAÑÍA_COMPRADORA_Portal comprador 1</th>\n",
       "      <th>COMPAÑÍA_COMPRADORA_Portal comprador 2</th>\n",
       "      <th>COMPAÑÍA_COMPRADORA_Portal comprador 24</th>\n",
       "      <th>COMPAÑÍA_COMPRADORA_Portal comprador 29</th>\n",
       "      <th>ESTADO_Cancelado</th>\n",
       "      <th>ESTADO_Enviado</th>\n",
       "      <th>ESTADO_Finalizado Incompleto</th>\n",
       "      <th>ESTADO_Orden Confirmada</th>\n",
       "      <th>ESTADO_Orden Rechazada</th>\n",
       "      <th>ESTADO_Orden en Proceso</th>\n",
       "      <th>ESTADO_Pendiente por Aprobar</th>\n",
       "      <th>ESTADO_Recibido</th>\n",
       "      <th>ESTADO_Recibido Parcial</th>\n",
       "      <th>NÚMERO_PEDIDO</th>\n",
       "      <th>ORDEN_NÚMERO</th>\n",
       "      <th>CANTIDAD_PEDIDA</th>\n",
       "      <th>CANTIDAD_RECIBIDA</th>\n",
       "      <th>PRECIO_UNITARIO</th>\n",
       "      <th>PRECIO_UNITARIO_+_IVA</th>\n",
       "      <th>IVA</th>\n",
       "      <th>TOTAL_+_IVA</th>\n",
       "      <th>DURACIÓN_ENTREGA</th>\n",
       "      <th>DURACIÓN_APROBACIÓN</th>\n",
       "    </tr>\n",
       "  </thead>\n",
       "  <tbody>\n",
       "    <tr>\n",
       "      <th>count</th>\n",
       "      <td>22,392.0000000</td>\n",
       "      <td>22,392.0000000</td>\n",
       "      <td>22,392.0000000</td>\n",
       "      <td>22,392.0000000</td>\n",
       "      <td>22,392.0000000</td>\n",
       "      <td>22,392.0000000</td>\n",
       "      <td>22,392.0000000</td>\n",
       "      <td>22,392.0000000</td>\n",
       "      <td>22,392.0000000</td>\n",
       "      <td>22,392.0000000</td>\n",
       "      <td>22,392.0000000</td>\n",
       "      <td>22,392.0000000</td>\n",
       "      <td>22,392.0000000</td>\n",
       "      <td>22,392.0000000</td>\n",
       "      <td>22,392.0000000</td>\n",
       "      <td>22,392.0000000</td>\n",
       "      <td>22,392.0000000</td>\n",
       "      <td>22,392.0000000</td>\n",
       "      <td>22,392.0000000</td>\n",
       "      <td>22,392.0000000</td>\n",
       "      <td>22,392.0000000</td>\n",
       "      <td>22,392.0000000</td>\n",
       "      <td>22,392.0000000</td>\n",
       "      <td>22,392.0000000</td>\n",
       "      <td>22,392.0000000</td>\n",
       "      <td>22,392.0000000</td>\n",
       "      <td>22,392.0000000</td>\n",
       "      <td>22,392.0000000</td>\n",
       "      <td>22,392.0000000</td>\n",
       "      <td>22,392.0000000</td>\n",
       "      <td>22,392.0000000</td>\n",
       "      <td>22,392.0000000</td>\n",
       "      <td>22,392.0000000</td>\n",
       "      <td>22,392.0000000</td>\n",
       "      <td>22,392.0000000</td>\n",
       "      <td>22,392.0000000</td>\n",
       "      <td>22,392.0000000</td>\n",
       "      <td>22,392.0000000</td>\n",
       "      <td>22,392.0000000</td>\n",
       "      <td>22,392.0000000</td>\n",
       "      <td>22,392.0000000</td>\n",
       "      <td>22,392.0000000</td>\n",
       "      <td>22,392.0000000</td>\n",
       "    </tr>\n",
       "    <tr>\n",
       "      <th>mean</th>\n",
       "      <td>0.3098428</td>\n",
       "      <td>0.0206324</td>\n",
       "      <td>0.1714005</td>\n",
       "      <td>0.0535459</td>\n",
       "      <td>0.0352805</td>\n",
       "      <td>0.1227671</td>\n",
       "      <td>0.0163898</td>\n",
       "      <td>0.2701411</td>\n",
       "      <td>0.1000804</td>\n",
       "      <td>0.0891836</td>\n",
       "      <td>0.5407735</td>\n",
       "      <td>0.2699625</td>\n",
       "      <td>0.6244194</td>\n",
       "      <td>0.0633708</td>\n",
       "      <td>0.2428992</td>\n",
       "      <td>0.0693105</td>\n",
       "      <td>0.5685066</td>\n",
       "      <td>0.3498124</td>\n",
       "      <td>0.0816810</td>\n",
       "      <td>0.1432208</td>\n",
       "      <td>0.2930957</td>\n",
       "      <td>0.1725170</td>\n",
       "      <td>0.2428992</td>\n",
       "      <td>0.1482672</td>\n",
       "      <td>0.0508664</td>\n",
       "      <td>0.0005359</td>\n",
       "      <td>0.0418006</td>\n",
       "      <td>0.0006699</td>\n",
       "      <td>0.0451947</td>\n",
       "      <td>0.2175777</td>\n",
       "      <td>0.0022776</td>\n",
       "      <td>0.6337978</td>\n",
       "      <td>0.0072794</td>\n",
       "      <td>0.3456019</td>\n",
       "      <td>0.0085065</td>\n",
       "      <td>0.0009658</td>\n",
       "      <td>0.0001459</td>\n",
       "      <td>0.1390195</td>\n",
       "      <td>0.1597082</td>\n",
       "      <td>0.0206887</td>\n",
       "      <td>0.7460593</td>\n",
       "      <td>0.0000579</td>\n",
       "      <td>0.0003057</td>\n",
       "    </tr>\n",
       "    <tr>\n",
       "      <th>std</th>\n",
       "      <td>0.4624390</td>\n",
       "      <td>0.1421534</td>\n",
       "      <td>0.3768670</td>\n",
       "      <td>0.2251244</td>\n",
       "      <td>0.1844919</td>\n",
       "      <td>0.3281770</td>\n",
       "      <td>0.1269720</td>\n",
       "      <td>0.4440425</td>\n",
       "      <td>0.3001139</td>\n",
       "      <td>0.2850150</td>\n",
       "      <td>0.4983459</td>\n",
       "      <td>0.4439499</td>\n",
       "      <td>0.4842833</td>\n",
       "      <td>0.2436342</td>\n",
       "      <td>0.4288443</td>\n",
       "      <td>0.2539870</td>\n",
       "      <td>0.4952957</td>\n",
       "      <td>0.4769212</td>\n",
       "      <td>0.2738842</td>\n",
       "      <td>0.3503057</td>\n",
       "      <td>0.4551921</td>\n",
       "      <td>0.3778376</td>\n",
       "      <td>0.4288443</td>\n",
       "      <td>0.3553726</td>\n",
       "      <td>0.2197297</td>\n",
       "      <td>0.0231439</td>\n",
       "      <td>0.2001378</td>\n",
       "      <td>0.0258740</td>\n",
       "      <td>0.2077356</td>\n",
       "      <td>0.4126079</td>\n",
       "      <td>0.0476709</td>\n",
       "      <td>0.4817764</td>\n",
       "      <td>0.0850101</td>\n",
       "      <td>0.3566653</td>\n",
       "      <td>0.0189511</td>\n",
       "      <td>0.0099755</td>\n",
       "      <td>0.0023884</td>\n",
       "      <td>0.1581804</td>\n",
       "      <td>0.1811378</td>\n",
       "      <td>0.0279694</td>\n",
       "      <td>0.3037501</td>\n",
       "      <td>0.0005832</td>\n",
       "      <td>0.0089191</td>\n",
       "    </tr>\n",
       "    <tr>\n",
       "      <th>min</th>\n",
       "      <td>0.0000000</td>\n",
       "      <td>0.0000000</td>\n",
       "      <td>0.0000000</td>\n",
       "      <td>0.0000000</td>\n",
       "      <td>0.0000000</td>\n",
       "      <td>0.0000000</td>\n",
       "      <td>0.0000000</td>\n",
       "      <td>0.0000000</td>\n",
       "      <td>0.0000000</td>\n",
       "      <td>0.0000000</td>\n",
       "      <td>0.0000000</td>\n",
       "      <td>0.0000000</td>\n",
       "      <td>0.0000000</td>\n",
       "      <td>0.0000000</td>\n",
       "      <td>0.0000000</td>\n",
       "      <td>0.0000000</td>\n",
       "      <td>0.0000000</td>\n",
       "      <td>0.0000000</td>\n",
       "      <td>0.0000000</td>\n",
       "      <td>0.0000000</td>\n",
       "      <td>0.0000000</td>\n",
       "      <td>0.0000000</td>\n",
       "      <td>0.0000000</td>\n",
       "      <td>0.0000000</td>\n",
       "      <td>0.0000000</td>\n",
       "      <td>0.0000000</td>\n",
       "      <td>0.0000000</td>\n",
       "      <td>0.0000000</td>\n",
       "      <td>0.0000000</td>\n",
       "      <td>0.0000000</td>\n",
       "      <td>0.0000000</td>\n",
       "      <td>0.0000000</td>\n",
       "      <td>0.0000000</td>\n",
       "      <td>0.0000026</td>\n",
       "      <td>0.0000000</td>\n",
       "      <td>0.0000000</td>\n",
       "      <td>0.0000000</td>\n",
       "      <td>0.0000000</td>\n",
       "      <td>0.0000000</td>\n",
       "      <td>0.0000000</td>\n",
       "      <td>0.0000000</td>\n",
       "      <td>-0.0063936</td>\n",
       "      <td>0.0000000</td>\n",
       "    </tr>\n",
       "    <tr>\n",
       "      <th>25%</th>\n",
       "      <td>0.0000000</td>\n",
       "      <td>0.0000000</td>\n",
       "      <td>0.0000000</td>\n",
       "      <td>0.0000000</td>\n",
       "      <td>0.0000000</td>\n",
       "      <td>0.0000000</td>\n",
       "      <td>0.0000000</td>\n",
       "      <td>0.0000000</td>\n",
       "      <td>0.0000000</td>\n",
       "      <td>0.0000000</td>\n",
       "      <td>0.0000000</td>\n",
       "      <td>0.0000000</td>\n",
       "      <td>0.0000000</td>\n",
       "      <td>0.0000000</td>\n",
       "      <td>0.0000000</td>\n",
       "      <td>0.0000000</td>\n",
       "      <td>0.0000000</td>\n",
       "      <td>0.0000000</td>\n",
       "      <td>0.0000000</td>\n",
       "      <td>0.0000000</td>\n",
       "      <td>0.0000000</td>\n",
       "      <td>0.0000000</td>\n",
       "      <td>0.0000000</td>\n",
       "      <td>0.0000000</td>\n",
       "      <td>0.0000000</td>\n",
       "      <td>0.0000000</td>\n",
       "      <td>0.0000000</td>\n",
       "      <td>0.0000000</td>\n",
       "      <td>0.0000000</td>\n",
       "      <td>0.0000000</td>\n",
       "      <td>0.0000000</td>\n",
       "      <td>0.0000000</td>\n",
       "      <td>0.0000000</td>\n",
       "      <td>0.0286261</td>\n",
       "      <td>0.0006299</td>\n",
       "      <td>0.0000188</td>\n",
       "      <td>0.0000000</td>\n",
       "      <td>0.0171180</td>\n",
       "      <td>0.0199722</td>\n",
       "      <td>0.0008264</td>\n",
       "      <td>0.5581244</td>\n",
       "      <td>0.0000000</td>\n",
       "      <td>0.0000000</td>\n",
       "    </tr>\n",
       "    <tr>\n",
       "      <th>50%</th>\n",
       "      <td>0.0000000</td>\n",
       "      <td>0.0000000</td>\n",
       "      <td>0.0000000</td>\n",
       "      <td>0.0000000</td>\n",
       "      <td>0.0000000</td>\n",
       "      <td>0.0000000</td>\n",
       "      <td>0.0000000</td>\n",
       "      <td>0.0000000</td>\n",
       "      <td>0.0000000</td>\n",
       "      <td>0.0000000</td>\n",
       "      <td>1.0000000</td>\n",
       "      <td>0.0000000</td>\n",
       "      <td>1.0000000</td>\n",
       "      <td>0.0000000</td>\n",
       "      <td>0.0000000</td>\n",
       "      <td>0.0000000</td>\n",
       "      <td>1.0000000</td>\n",
       "      <td>0.0000000</td>\n",
       "      <td>0.0000000</td>\n",
       "      <td>0.0000000</td>\n",
       "      <td>0.0000000</td>\n",
       "      <td>0.0000000</td>\n",
       "      <td>0.0000000</td>\n",
       "      <td>0.0000000</td>\n",
       "      <td>0.0000000</td>\n",
       "      <td>0.0000000</td>\n",
       "      <td>0.0000000</td>\n",
       "      <td>0.0000000</td>\n",
       "      <td>0.0000000</td>\n",
       "      <td>0.0000000</td>\n",
       "      <td>0.0000000</td>\n",
       "      <td>1.0000000</td>\n",
       "      <td>0.0000000</td>\n",
       "      <td>0.1859662</td>\n",
       "      <td>0.0029115</td>\n",
       "      <td>0.0000423</td>\n",
       "      <td>0.0000140</td>\n",
       "      <td>0.0695481</td>\n",
       "      <td>0.0815616</td>\n",
       "      <td>0.0071953</td>\n",
       "      <td>0.9087278</td>\n",
       "      <td>0.0000081</td>\n",
       "      <td>0.0000000</td>\n",
       "    </tr>\n",
       "    <tr>\n",
       "      <th>75%</th>\n",
       "      <td>1.0000000</td>\n",
       "      <td>0.0000000</td>\n",
       "      <td>0.0000000</td>\n",
       "      <td>0.0000000</td>\n",
       "      <td>0.0000000</td>\n",
       "      <td>0.0000000</td>\n",
       "      <td>0.0000000</td>\n",
       "      <td>1.0000000</td>\n",
       "      <td>0.0000000</td>\n",
       "      <td>0.0000000</td>\n",
       "      <td>1.0000000</td>\n",
       "      <td>1.0000000</td>\n",
       "      <td>1.0000000</td>\n",
       "      <td>0.0000000</td>\n",
       "      <td>0.0000000</td>\n",
       "      <td>0.0000000</td>\n",
       "      <td>1.0000000</td>\n",
       "      <td>1.0000000</td>\n",
       "      <td>0.0000000</td>\n",
       "      <td>0.0000000</td>\n",
       "      <td>1.0000000</td>\n",
       "      <td>0.0000000</td>\n",
       "      <td>0.0000000</td>\n",
       "      <td>0.0000000</td>\n",
       "      <td>0.0000000</td>\n",
       "      <td>0.0000000</td>\n",
       "      <td>0.0000000</td>\n",
       "      <td>0.0000000</td>\n",
       "      <td>0.0000000</td>\n",
       "      <td>0.0000000</td>\n",
       "      <td>0.0000000</td>\n",
       "      <td>1.0000000</td>\n",
       "      <td>0.0000000</td>\n",
       "      <td>0.6537125</td>\n",
       "      <td>0.0107573</td>\n",
       "      <td>0.0001741</td>\n",
       "      <td>0.0000471</td>\n",
       "      <td>0.2034334</td>\n",
       "      <td>0.2374049</td>\n",
       "      <td>0.0304197</td>\n",
       "      <td>0.9972791</td>\n",
       "      <td>0.0000367</td>\n",
       "      <td>0.0000487</td>\n",
       "    </tr>\n",
       "    <tr>\n",
       "      <th>max</th>\n",
       "      <td>1.0000000</td>\n",
       "      <td>1.0000000</td>\n",
       "      <td>1.0000000</td>\n",
       "      <td>1.0000000</td>\n",
       "      <td>1.0000000</td>\n",
       "      <td>1.0000000</td>\n",
       "      <td>1.0000000</td>\n",
       "      <td>1.0000000</td>\n",
       "      <td>1.0000000</td>\n",
       "      <td>1.0000000</td>\n",
       "      <td>1.0000000</td>\n",
       "      <td>1.0000000</td>\n",
       "      <td>1.0000000</td>\n",
       "      <td>1.0000000</td>\n",
       "      <td>1.0000000</td>\n",
       "      <td>1.0000000</td>\n",
       "      <td>1.0000000</td>\n",
       "      <td>1.0000000</td>\n",
       "      <td>1.0000000</td>\n",
       "      <td>1.0000000</td>\n",
       "      <td>1.0000000</td>\n",
       "      <td>1.0000000</td>\n",
       "      <td>1.0000000</td>\n",
       "      <td>1.0000000</td>\n",
       "      <td>1.0000000</td>\n",
       "      <td>1.0000000</td>\n",
       "      <td>1.0000000</td>\n",
       "      <td>1.0000000</td>\n",
       "      <td>1.0000000</td>\n",
       "      <td>1.0000000</td>\n",
       "      <td>1.0000000</td>\n",
       "      <td>1.0000000</td>\n",
       "      <td>1.0000000</td>\n",
       "      <td>1.0000000</td>\n",
       "      <td>0.5870288</td>\n",
       "      <td>0.3162275</td>\n",
       "      <td>0.1771821</td>\n",
       "      <td>0.5969540</td>\n",
       "      <td>0.7103696</td>\n",
       "      <td>0.1134156</td>\n",
       "      <td>0.9999998</td>\n",
       "      <td>0.0610269</td>\n",
       "      <td>0.5982466</td>\n",
       "    </tr>\n",
       "  </tbody>\n",
       "</table>\n",
       "</div>"
      ],
      "text/plain": [
       "       CATEGORÍA_Alimentos y Bebidas  CATEGORÍA_Almacenamiento y empaques  \\\n",
       "count                 22,392.0000000                       22,392.0000000   \n",
       "mean                       0.3098428                            0.0206324   \n",
       "std                        0.4624390                            0.1421534   \n",
       "min                        0.0000000                            0.0000000   \n",
       "25%                        0.0000000                            0.0000000   \n",
       "50%                        0.0000000                            0.0000000   \n",
       "75%                        1.0000000                            0.0000000   \n",
       "max                        1.0000000                            1.0000000   \n",
       "\n",
       "       CATEGORÍA_Aseo, Cafetería y Oficina  \\\n",
       "count                       22,392.0000000   \n",
       "mean                             0.1714005   \n",
       "std                              0.3768670   \n",
       "min                              0.0000000   \n",
       "25%                              0.0000000   \n",
       "50%                              0.0000000   \n",
       "75%                              0.0000000   \n",
       "max                              1.0000000   \n",
       "\n",
       "       CATEGORÍA_Dotación y elementos de protección personal  \\\n",
       "count                                     22,392.0000000       \n",
       "mean                                           0.0535459       \n",
       "std                                            0.2251244       \n",
       "min                                            0.0000000       \n",
       "25%                                            0.0000000       \n",
       "50%                                            0.0000000       \n",
       "75%                                            0.0000000       \n",
       "max                                            1.0000000       \n",
       "\n",
       "       CATEGORÍA_Ferreteria  CATEGORÍA_Otros  CATEGORÍA_Vehículos y repuestos  \\\n",
       "count        22,392.0000000   22,392.0000000                   22,392.0000000   \n",
       "mean              0.0352805        0.1227671                        0.0163898   \n",
       "std               0.1844919        0.3281770                        0.1269720   \n",
       "min               0.0000000        0.0000000                        0.0000000   \n",
       "25%               0.0000000        0.0000000                        0.0000000   \n",
       "50%               0.0000000        0.0000000                        0.0000000   \n",
       "75%               0.0000000        0.0000000                        0.0000000   \n",
       "max               1.0000000        1.0000000                        1.0000000   \n",
       "\n",
       "       CATEGORÍA_Vigilancia y seguridad industrial  \\\n",
       "count                               22,392.0000000   \n",
       "mean                                     0.2701411   \n",
       "std                                      0.4440425   \n",
       "min                                      0.0000000   \n",
       "25%                                      0.0000000   \n",
       "50%                                      0.0000000   \n",
       "75%                                      1.0000000   \n",
       "max                                      1.0000000   \n",
       "\n",
       "       SUBCATEGORÍA_Alimentos preparados y conservados  \\\n",
       "count                                   22,392.0000000   \n",
       "mean                                         0.1000804   \n",
       "std                                          0.3001139   \n",
       "min                                          0.0000000   \n",
       "25%                                          0.0000000   \n",
       "50%                                          0.0000000   \n",
       "75%                                          0.0000000   \n",
       "max                                          1.0000000   \n",
       "\n",
       "       SUBCATEGORÍA_Elementos de aseo y limpieza  SUBCATEGORÍA_Otros  \\\n",
       "count                             22,392.0000000      22,392.0000000   \n",
       "mean                                   0.0891836           0.5407735   \n",
       "std                                    0.2850150           0.4983459   \n",
       "min                                    0.0000000           0.0000000   \n",
       "25%                                    0.0000000           0.0000000   \n",
       "50%                                    0.0000000           1.0000000   \n",
       "75%                                    0.0000000           1.0000000   \n",
       "max                                    1.0000000           1.0000000   \n",
       "\n",
       "       SUBCATEGORÍA_Seguridad y protección personal  PROVEEDOR_Otros  \\\n",
       "count                                22,392.0000000   22,392.0000000   \n",
       "mean                                      0.2699625        0.6244194   \n",
       "std                                       0.4439499        0.4842833   \n",
       "min                                       0.0000000        0.0000000   \n",
       "25%                                       0.0000000        0.0000000   \n",
       "50%                                       0.0000000        1.0000000   \n",
       "75%                                       1.0000000        1.0000000   \n",
       "max                                       1.0000000        1.0000000   \n",
       "\n",
       "       PROVEEDOR_Proveedor 28  PROVEEDOR_Proveedor 301  \\\n",
       "count          22,392.0000000           22,392.0000000   \n",
       "mean                0.0633708                0.2428992   \n",
       "std                 0.2436342                0.4288443   \n",
       "min                 0.0000000                0.0000000   \n",
       "25%                 0.0000000                0.0000000   \n",
       "50%                 0.0000000                0.0000000   \n",
       "75%                 0.0000000                0.0000000   \n",
       "max                 1.0000000                1.0000000   \n",
       "\n",
       "       PROVEEDOR_Proveedor 59  PRESUPUESTO_Otros  PRESUPUESTO_Presupuesto 711  \\\n",
       "count          22,392.0000000     22,392.0000000               22,392.0000000   \n",
       "mean                0.0693105          0.5685066                    0.3498124   \n",
       "std                 0.2539870          0.4952957                    0.4769212   \n",
       "min                 0.0000000          0.0000000                    0.0000000   \n",
       "25%                 0.0000000          0.0000000                    0.0000000   \n",
       "50%                 0.0000000          1.0000000                    0.0000000   \n",
       "75%                 0.0000000          1.0000000                    1.0000000   \n",
       "max                 1.0000000          1.0000000                    1.0000000   \n",
       "\n",
       "       PRESUPUESTO_Presupuesto 719  COMPAÑÍA_COMPRADORA_Otros  \\\n",
       "count               22,392.0000000             22,392.0000000   \n",
       "mean                     0.0816810                  0.1432208   \n",
       "std                      0.2738842                  0.3503057   \n",
       "min                      0.0000000                  0.0000000   \n",
       "25%                      0.0000000                  0.0000000   \n",
       "50%                      0.0000000                  0.0000000   \n",
       "75%                      0.0000000                  0.0000000   \n",
       "max                      1.0000000                  1.0000000   \n",
       "\n",
       "       COMPAÑÍA_COMPRADORA_Portal comprador 1  \\\n",
       "count                          22,392.0000000   \n",
       "mean                                0.2930957   \n",
       "std                                 0.4551921   \n",
       "min                                 0.0000000   \n",
       "25%                                 0.0000000   \n",
       "50%                                 0.0000000   \n",
       "75%                                 1.0000000   \n",
       "max                                 1.0000000   \n",
       "\n",
       "       COMPAÑÍA_COMPRADORA_Portal comprador 2  \\\n",
       "count                          22,392.0000000   \n",
       "mean                                0.1725170   \n",
       "std                                 0.3778376   \n",
       "min                                 0.0000000   \n",
       "25%                                 0.0000000   \n",
       "50%                                 0.0000000   \n",
       "75%                                 0.0000000   \n",
       "max                                 1.0000000   \n",
       "\n",
       "       COMPAÑÍA_COMPRADORA_Portal comprador 24  \\\n",
       "count                           22,392.0000000   \n",
       "mean                                 0.2428992   \n",
       "std                                  0.4288443   \n",
       "min                                  0.0000000   \n",
       "25%                                  0.0000000   \n",
       "50%                                  0.0000000   \n",
       "75%                                  0.0000000   \n",
       "max                                  1.0000000   \n",
       "\n",
       "       COMPAÑÍA_COMPRADORA_Portal comprador 29  ESTADO_Cancelado  \\\n",
       "count                           22,392.0000000    22,392.0000000   \n",
       "mean                                 0.1482672         0.0508664   \n",
       "std                                  0.3553726         0.2197297   \n",
       "min                                  0.0000000         0.0000000   \n",
       "25%                                  0.0000000         0.0000000   \n",
       "50%                                  0.0000000         0.0000000   \n",
       "75%                                  0.0000000         0.0000000   \n",
       "max                                  1.0000000         1.0000000   \n",
       "\n",
       "       ESTADO_Enviado  ESTADO_Finalizado Incompleto  ESTADO_Orden Confirmada  \\\n",
       "count  22,392.0000000                22,392.0000000           22,392.0000000   \n",
       "mean        0.0005359                     0.0418006                0.0006699   \n",
       "std         0.0231439                     0.2001378                0.0258740   \n",
       "min         0.0000000                     0.0000000                0.0000000   \n",
       "25%         0.0000000                     0.0000000                0.0000000   \n",
       "50%         0.0000000                     0.0000000                0.0000000   \n",
       "75%         0.0000000                     0.0000000                0.0000000   \n",
       "max         1.0000000                     1.0000000                1.0000000   \n",
       "\n",
       "       ESTADO_Orden Rechazada  ESTADO_Orden en Proceso  \\\n",
       "count          22,392.0000000           22,392.0000000   \n",
       "mean                0.0451947                0.2175777   \n",
       "std                 0.2077356                0.4126079   \n",
       "min                 0.0000000                0.0000000   \n",
       "25%                 0.0000000                0.0000000   \n",
       "50%                 0.0000000                0.0000000   \n",
       "75%                 0.0000000                0.0000000   \n",
       "max                 1.0000000                1.0000000   \n",
       "\n",
       "       ESTADO_Pendiente por Aprobar  ESTADO_Recibido  ESTADO_Recibido Parcial  \\\n",
       "count                22,392.0000000   22,392.0000000           22,392.0000000   \n",
       "mean                      0.0022776        0.6337978                0.0072794   \n",
       "std                       0.0476709        0.4817764                0.0850101   \n",
       "min                       0.0000000        0.0000000                0.0000000   \n",
       "25%                       0.0000000        0.0000000                0.0000000   \n",
       "50%                       0.0000000        1.0000000                0.0000000   \n",
       "75%                       0.0000000        1.0000000                0.0000000   \n",
       "max                       1.0000000        1.0000000                1.0000000   \n",
       "\n",
       "       NÚMERO_PEDIDO   ORDEN_NÚMERO  CANTIDAD_PEDIDA  CANTIDAD_RECIBIDA  \\\n",
       "count 22,392.0000000 22,392.0000000   22,392.0000000     22,392.0000000   \n",
       "mean       0.3456019      0.0085065        0.0009658          0.0001459   \n",
       "std        0.3566653      0.0189511        0.0099755          0.0023884   \n",
       "min        0.0000026      0.0000000        0.0000000          0.0000000   \n",
       "25%        0.0286261      0.0006299        0.0000188          0.0000000   \n",
       "50%        0.1859662      0.0029115        0.0000423          0.0000140   \n",
       "75%        0.6537125      0.0107573        0.0001741          0.0000471   \n",
       "max        1.0000000      0.5870288        0.3162275          0.1771821   \n",
       "\n",
       "       PRECIO_UNITARIO  PRECIO_UNITARIO_+_IVA            IVA    TOTAL_+_IVA  \\\n",
       "count   22,392.0000000         22,392.0000000 22,392.0000000 22,392.0000000   \n",
       "mean         0.1390195              0.1597082      0.0206887      0.7460593   \n",
       "std          0.1581804              0.1811378      0.0279694      0.3037501   \n",
       "min          0.0000000              0.0000000      0.0000000      0.0000000   \n",
       "25%          0.0171180              0.0199722      0.0008264      0.5581244   \n",
       "50%          0.0695481              0.0815616      0.0071953      0.9087278   \n",
       "75%          0.2034334              0.2374049      0.0304197      0.9972791   \n",
       "max          0.5969540              0.7103696      0.1134156      0.9999998   \n",
       "\n",
       "       DURACIÓN_ENTREGA  DURACIÓN_APROBACIÓN  \n",
       "count    22,392.0000000       22,392.0000000  \n",
       "mean          0.0000579            0.0003057  \n",
       "std           0.0005832            0.0089191  \n",
       "min          -0.0063936            0.0000000  \n",
       "25%           0.0000000            0.0000000  \n",
       "50%           0.0000081            0.0000000  \n",
       "75%           0.0000367            0.0000487  \n",
       "max           0.0610269            0.5982466  "
      ]
     },
     "execution_count": 600,
     "metadata": {},
     "output_type": "execute_result"
    }
   ],
   "source": [
    "df_num_encoder_normalized.describe()"
   ]
  },
  {
   "cell_type": "markdown",
   "metadata": {},
   "source": [
    "# SAVE TO CSV"
   ]
  },
  {
   "cell_type": "code",
   "execution_count": 601,
   "metadata": {},
   "outputs": [],
   "source": [
    "df.to_csv('Proveindustriales_Data_Cleaned_csv2.csv', index=False)"
   ]
  },
  {
   "cell_type": "code",
   "execution_count": 602,
   "metadata": {},
   "outputs": [],
   "source": [
    "df_num_encoder_normalized.to_csv('Proveindustriales_Data_Cleaned_numeric_onehot_csv.csv', index=False)"
   ]
  }
 ],
 "metadata": {
  "interpreter": {
   "hash": "c94be41889154d41bf43aca8d1a8d1cd64b97c119170e03e2ed46ca87183f0c5"
  },
  "kernelspec": {
   "display_name": "Python 3.7.6 64-bit ('base': conda)",
   "name": "python3"
  },
  "language_info": {
   "codemirror_mode": {
    "name": "ipython",
    "version": 3
   },
   "file_extension": ".py",
   "mimetype": "text/x-python",
   "name": "python",
   "nbconvert_exporter": "python",
   "pygments_lexer": "ipython3",
   "version": "3.7.6"
  },
  "orig_nbformat": 4
 },
 "nbformat": 4,
 "nbformat_minor": 2
}
